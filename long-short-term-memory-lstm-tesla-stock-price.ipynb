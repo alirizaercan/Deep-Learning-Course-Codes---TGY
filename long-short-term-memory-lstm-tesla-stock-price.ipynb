{
 "cells": [
  {
   "cell_type": "markdown",
   "id": "c4155cd5",
   "metadata": {
    "id": "4unSJJjsT8BM",
    "papermill": {
     "duration": 0.013526,
     "end_time": "2024-10-13T12:41:42.510350",
     "exception": false,
     "start_time": "2024-10-13T12:41:42.496824",
     "status": "completed"
    },
    "tags": []
   },
   "source": [
    "# Tesla - Stock Price Prediction\n",
    "\n",
    "---\n",
    "\n"
   ]
  },
  {
   "cell_type": "markdown",
   "id": "fe544147",
   "metadata": {
    "id": "wkRLJL2XUAfT",
    "papermill": {
     "duration": 0.01119,
     "end_time": "2024-10-13T12:41:42.533323",
     "exception": false,
     "start_time": "2024-10-13T12:41:42.522133",
     "status": "completed"
    },
    "tags": []
   },
   "source": [
    "## Business Problem\n",
    "\n",
    "In this notebook, our purpose is to predict of tesla - stock price."
   ]
  },
  {
   "cell_type": "markdown",
   "id": "1df2d304",
   "metadata": {
    "id": "0uxjphZsUwjz",
    "papermill": {
     "duration": 0.011749,
     "end_time": "2024-10-13T12:41:42.556479",
     "exception": false,
     "start_time": "2024-10-13T12:41:42.544730",
     "status": "completed"
    },
    "tags": []
   },
   "source": [
    "## Data Understanding"
   ]
  },
  {
   "cell_type": "code",
   "execution_count": 1,
   "id": "558b5377",
   "metadata": {
    "execution": {
     "iopub.execute_input": "2024-10-13T12:41:42.584452Z",
     "iopub.status.busy": "2024-10-13T12:41:42.583990Z",
     "iopub.status.idle": "2024-10-13T12:41:56.756854Z",
     "shell.execute_reply": "2024-10-13T12:41:56.755813Z"
    },
    "id": "40IR65rQUyWC",
    "outputId": "4562368d-970e-4fd6-b03e-be036efe4dcd",
    "papermill": {
     "duration": 14.188615,
     "end_time": "2024-10-13T12:41:56.759368",
     "exception": false,
     "start_time": "2024-10-13T12:41:42.570753",
     "status": "completed"
    },
    "tags": []
   },
   "outputs": [],
   "source": [
    "import numpy as np\n",
    "import pandas as pd\n",
    "import datetime as dt\n",
    "import tensorflow as tf\n",
    "import matplotlib.pyplot as plt\n",
    "\n",
    "from sklearn.preprocessing import MinMaxScaler\n",
    "from sklearn.metrics import mean_squared_error\n",
    "\n",
    "from tensorflow.keras.models import Sequential\n",
    "from tensorflow.keras.layers import Dense, LSTM, Dropout\n",
    "from tensorflow.keras.callbacks import ModelCheckpoint, EarlyStopping\n",
    "\n",
    "import warnings\n",
    "warnings.filterwarnings('ignore')\n",
    "\n",
    "import os\n",
    "os.environ['TF_CPP_MIN_LOG_LEVEL'] = '3'\n",
    "tf.compat.v1.logging.set_verbosity(tf.compat.v1.logging.ERROR)"
   ]
  },
  {
   "cell_type": "code",
   "execution_count": 2,
   "id": "b266699e",
   "metadata": {
    "execution": {
     "iopub.execute_input": "2024-10-13T12:41:56.785066Z",
     "iopub.status.busy": "2024-10-13T12:41:56.784480Z",
     "iopub.status.idle": "2024-10-13T12:41:56.832533Z",
     "shell.execute_reply": "2024-10-13T12:41:56.831464Z"
    },
    "id": "-be5_efvVpTV",
    "papermill": {
     "duration": 0.063634,
     "end_time": "2024-10-13T12:41:56.835025",
     "exception": false,
     "start_time": "2024-10-13T12:41:56.771391",
     "status": "completed"
    },
    "tags": []
   },
   "outputs": [
    {
     "data": {
      "text/html": [
       "<div>\n",
       "<style scoped>\n",
       "    .dataframe tbody tr th:only-of-type {\n",
       "        vertical-align: middle;\n",
       "    }\n",
       "\n",
       "    .dataframe tbody tr th {\n",
       "        vertical-align: top;\n",
       "    }\n",
       "\n",
       "    .dataframe thead th {\n",
       "        text-align: right;\n",
       "    }\n",
       "</style>\n",
       "<table border=\"1\" class=\"dataframe\">\n",
       "  <thead>\n",
       "    <tr style=\"text-align: right;\">\n",
       "      <th></th>\n",
       "      <th>Date</th>\n",
       "      <th>Open</th>\n",
       "      <th>High</th>\n",
       "      <th>Low</th>\n",
       "      <th>Close</th>\n",
       "      <th>Adj Close</th>\n",
       "      <th>Volume</th>\n",
       "    </tr>\n",
       "  </thead>\n",
       "  <tbody>\n",
       "    <tr>\n",
       "      <th>0</th>\n",
       "      <td>2010-06-29</td>\n",
       "      <td>19.000000</td>\n",
       "      <td>25.000000</td>\n",
       "      <td>17.540001</td>\n",
       "      <td>23.889999</td>\n",
       "      <td>23.889999</td>\n",
       "      <td>18766300</td>\n",
       "    </tr>\n",
       "    <tr>\n",
       "      <th>1</th>\n",
       "      <td>2010-06-30</td>\n",
       "      <td>25.790001</td>\n",
       "      <td>30.420000</td>\n",
       "      <td>23.299999</td>\n",
       "      <td>23.830000</td>\n",
       "      <td>23.830000</td>\n",
       "      <td>17187100</td>\n",
       "    </tr>\n",
       "    <tr>\n",
       "      <th>2</th>\n",
       "      <td>2010-07-01</td>\n",
       "      <td>25.000000</td>\n",
       "      <td>25.920000</td>\n",
       "      <td>20.270000</td>\n",
       "      <td>21.959999</td>\n",
       "      <td>21.959999</td>\n",
       "      <td>8218800</td>\n",
       "    </tr>\n",
       "    <tr>\n",
       "      <th>3</th>\n",
       "      <td>2010-07-02</td>\n",
       "      <td>23.000000</td>\n",
       "      <td>23.100000</td>\n",
       "      <td>18.709999</td>\n",
       "      <td>19.200001</td>\n",
       "      <td>19.200001</td>\n",
       "      <td>5139800</td>\n",
       "    </tr>\n",
       "    <tr>\n",
       "      <th>4</th>\n",
       "      <td>2010-07-06</td>\n",
       "      <td>20.000000</td>\n",
       "      <td>20.000000</td>\n",
       "      <td>15.830000</td>\n",
       "      <td>16.110001</td>\n",
       "      <td>16.110001</td>\n",
       "      <td>6866900</td>\n",
       "    </tr>\n",
       "    <tr>\n",
       "      <th>...</th>\n",
       "      <td>...</td>\n",
       "      <td>...</td>\n",
       "      <td>...</td>\n",
       "      <td>...</td>\n",
       "      <td>...</td>\n",
       "      <td>...</td>\n",
       "      <td>...</td>\n",
       "    </tr>\n",
       "    <tr>\n",
       "      <th>2411</th>\n",
       "      <td>2020-01-28</td>\n",
       "      <td>568.489990</td>\n",
       "      <td>576.809998</td>\n",
       "      <td>558.080017</td>\n",
       "      <td>566.900024</td>\n",
       "      <td>566.900024</td>\n",
       "      <td>11788500</td>\n",
       "    </tr>\n",
       "    <tr>\n",
       "      <th>2412</th>\n",
       "      <td>2020-01-29</td>\n",
       "      <td>575.690002</td>\n",
       "      <td>589.799988</td>\n",
       "      <td>567.429993</td>\n",
       "      <td>580.989990</td>\n",
       "      <td>580.989990</td>\n",
       "      <td>17801500</td>\n",
       "    </tr>\n",
       "    <tr>\n",
       "      <th>2413</th>\n",
       "      <td>2020-01-30</td>\n",
       "      <td>632.419983</td>\n",
       "      <td>650.880005</td>\n",
       "      <td>618.000000</td>\n",
       "      <td>640.809998</td>\n",
       "      <td>640.809998</td>\n",
       "      <td>29005700</td>\n",
       "    </tr>\n",
       "    <tr>\n",
       "      <th>2414</th>\n",
       "      <td>2020-01-31</td>\n",
       "      <td>640.000000</td>\n",
       "      <td>653.000000</td>\n",
       "      <td>632.520020</td>\n",
       "      <td>650.570007</td>\n",
       "      <td>650.570007</td>\n",
       "      <td>15719300</td>\n",
       "    </tr>\n",
       "    <tr>\n",
       "      <th>2415</th>\n",
       "      <td>2020-02-03</td>\n",
       "      <td>673.690002</td>\n",
       "      <td>786.140015</td>\n",
       "      <td>673.520020</td>\n",
       "      <td>780.000000</td>\n",
       "      <td>780.000000</td>\n",
       "      <td>47065000</td>\n",
       "    </tr>\n",
       "  </tbody>\n",
       "</table>\n",
       "<p>2416 rows × 7 columns</p>\n",
       "</div>"
      ],
      "text/plain": [
       "            Date        Open        High         Low       Close   Adj Close  \\\n",
       "0     2010-06-29   19.000000   25.000000   17.540001   23.889999   23.889999   \n",
       "1     2010-06-30   25.790001   30.420000   23.299999   23.830000   23.830000   \n",
       "2     2010-07-01   25.000000   25.920000   20.270000   21.959999   21.959999   \n",
       "3     2010-07-02   23.000000   23.100000   18.709999   19.200001   19.200001   \n",
       "4     2010-07-06   20.000000   20.000000   15.830000   16.110001   16.110001   \n",
       "...          ...         ...         ...         ...         ...         ...   \n",
       "2411  2020-01-28  568.489990  576.809998  558.080017  566.900024  566.900024   \n",
       "2412  2020-01-29  575.690002  589.799988  567.429993  580.989990  580.989990   \n",
       "2413  2020-01-30  632.419983  650.880005  618.000000  640.809998  640.809998   \n",
       "2414  2020-01-31  640.000000  653.000000  632.520020  650.570007  650.570007   \n",
       "2415  2020-02-03  673.690002  786.140015  673.520020  780.000000  780.000000   \n",
       "\n",
       "        Volume  \n",
       "0     18766300  \n",
       "1     17187100  \n",
       "2      8218800  \n",
       "3      5139800  \n",
       "4      6866900  \n",
       "...        ...  \n",
       "2411  11788500  \n",
       "2412  17801500  \n",
       "2413  29005700  \n",
       "2414  15719300  \n",
       "2415  47065000  \n",
       "\n",
       "[2416 rows x 7 columns]"
      ]
     },
     "execution_count": 2,
     "metadata": {},
     "output_type": "execute_result"
    }
   ],
   "source": [
    "df = pd.read_csv('/kaggle/input/tesla-stock-data-from-2010-to-2020/TSLA.csv')\n",
    "df"
   ]
  },
  {
   "cell_type": "code",
   "execution_count": 3,
   "id": "4ceb54ee",
   "metadata": {
    "execution": {
     "iopub.execute_input": "2024-10-13T12:41:56.861289Z",
     "iopub.status.busy": "2024-10-13T12:41:56.860845Z",
     "iopub.status.idle": "2024-10-13T12:41:56.874577Z",
     "shell.execute_reply": "2024-10-13T12:41:56.873621Z"
    },
    "id": "lG_AO3mdVv17",
    "papermill": {
     "duration": 0.02921,
     "end_time": "2024-10-13T12:41:56.876719",
     "exception": false,
     "start_time": "2024-10-13T12:41:56.847509",
     "status": "completed"
    },
    "tags": []
   },
   "outputs": [
    {
     "data": {
      "text/html": [
       "<div>\n",
       "<style scoped>\n",
       "    .dataframe tbody tr th:only-of-type {\n",
       "        vertical-align: middle;\n",
       "    }\n",
       "\n",
       "    .dataframe tbody tr th {\n",
       "        vertical-align: top;\n",
       "    }\n",
       "\n",
       "    .dataframe thead th {\n",
       "        text-align: right;\n",
       "    }\n",
       "</style>\n",
       "<table border=\"1\" class=\"dataframe\">\n",
       "  <thead>\n",
       "    <tr style=\"text-align: right;\">\n",
       "      <th></th>\n",
       "      <th>Date</th>\n",
       "      <th>Open</th>\n",
       "      <th>High</th>\n",
       "      <th>Low</th>\n",
       "      <th>Close</th>\n",
       "      <th>Adj Close</th>\n",
       "      <th>Volume</th>\n",
       "    </tr>\n",
       "  </thead>\n",
       "  <tbody>\n",
       "    <tr>\n",
       "      <th>0</th>\n",
       "      <td>2010-06-29</td>\n",
       "      <td>19.000000</td>\n",
       "      <td>25.00</td>\n",
       "      <td>17.540001</td>\n",
       "      <td>23.889999</td>\n",
       "      <td>23.889999</td>\n",
       "      <td>18766300</td>\n",
       "    </tr>\n",
       "    <tr>\n",
       "      <th>1</th>\n",
       "      <td>2010-06-30</td>\n",
       "      <td>25.790001</td>\n",
       "      <td>30.42</td>\n",
       "      <td>23.299999</td>\n",
       "      <td>23.830000</td>\n",
       "      <td>23.830000</td>\n",
       "      <td>17187100</td>\n",
       "    </tr>\n",
       "    <tr>\n",
       "      <th>2</th>\n",
       "      <td>2010-07-01</td>\n",
       "      <td>25.000000</td>\n",
       "      <td>25.92</td>\n",
       "      <td>20.270000</td>\n",
       "      <td>21.959999</td>\n",
       "      <td>21.959999</td>\n",
       "      <td>8218800</td>\n",
       "    </tr>\n",
       "    <tr>\n",
       "      <th>3</th>\n",
       "      <td>2010-07-02</td>\n",
       "      <td>23.000000</td>\n",
       "      <td>23.10</td>\n",
       "      <td>18.709999</td>\n",
       "      <td>19.200001</td>\n",
       "      <td>19.200001</td>\n",
       "      <td>5139800</td>\n",
       "    </tr>\n",
       "    <tr>\n",
       "      <th>4</th>\n",
       "      <td>2010-07-06</td>\n",
       "      <td>20.000000</td>\n",
       "      <td>20.00</td>\n",
       "      <td>15.830000</td>\n",
       "      <td>16.110001</td>\n",
       "      <td>16.110001</td>\n",
       "      <td>6866900</td>\n",
       "    </tr>\n",
       "  </tbody>\n",
       "</table>\n",
       "</div>"
      ],
      "text/plain": [
       "         Date       Open   High        Low      Close  Adj Close    Volume\n",
       "0  2010-06-29  19.000000  25.00  17.540001  23.889999  23.889999  18766300\n",
       "1  2010-06-30  25.790001  30.42  23.299999  23.830000  23.830000  17187100\n",
       "2  2010-07-01  25.000000  25.92  20.270000  21.959999  21.959999   8218800\n",
       "3  2010-07-02  23.000000  23.10  18.709999  19.200001  19.200001   5139800\n",
       "4  2010-07-06  20.000000  20.00  15.830000  16.110001  16.110001   6866900"
      ]
     },
     "execution_count": 3,
     "metadata": {},
     "output_type": "execute_result"
    }
   ],
   "source": [
    "df.head()"
   ]
  },
  {
   "cell_type": "code",
   "execution_count": 4,
   "id": "b49cf407",
   "metadata": {
    "execution": {
     "iopub.execute_input": "2024-10-13T12:41:56.903628Z",
     "iopub.status.busy": "2024-10-13T12:41:56.902834Z",
     "iopub.status.idle": "2024-10-13T12:41:56.909235Z",
     "shell.execute_reply": "2024-10-13T12:41:56.908257Z"
    },
    "id": "TU5hlfyvVxY0",
    "papermill": {
     "duration": 0.02216,
     "end_time": "2024-10-13T12:41:56.911247",
     "exception": false,
     "start_time": "2024-10-13T12:41:56.889087",
     "status": "completed"
    },
    "tags": []
   },
   "outputs": [],
   "source": [
    "def check_df(dataframe, head=5):\n",
    "    print(\"##################### Shape #####################\")\n",
    "    print(dataframe.shape)\n",
    "    print(\"##################### Types #####################\")\n",
    "    print(dataframe.dtypes)\n",
    "    print(\"##################### Head #####################\")\n",
    "    print(dataframe.head(head))  # Fonksiyon çağrısına dikkat edin\n",
    "    print(\"##################### Tail #####################\")\n",
    "    print(dataframe.tail(head))\n",
    "    print(\"##################### NA #####################\")\n",
    "    print(dataframe.isnull().sum())\n",
    "    print(\"##################### Quantile #####################\")\n",
    "    print(dataframe.select_dtypes(include='number').quantile([0, 0.05, 0.5, 0.95, 0.99, 1]).T)\n"
   ]
  },
  {
   "cell_type": "code",
   "execution_count": 5,
   "id": "19779cdf",
   "metadata": {
    "execution": {
     "iopub.execute_input": "2024-10-13T12:41:56.937749Z",
     "iopub.status.busy": "2024-10-13T12:41:56.936976Z",
     "iopub.status.idle": "2024-10-13T12:41:56.957576Z",
     "shell.execute_reply": "2024-10-13T12:41:56.956470Z"
    },
    "id": "t6iFP965V4vk",
    "papermill": {
     "duration": 0.036768,
     "end_time": "2024-10-13T12:41:56.960196",
     "exception": false,
     "start_time": "2024-10-13T12:41:56.923428",
     "status": "completed"
    },
    "tags": []
   },
   "outputs": [
    {
     "name": "stdout",
     "output_type": "stream",
     "text": [
      "##################### Shape #####################\n",
      "(2416, 7)\n",
      "##################### Types #####################\n",
      "Date          object\n",
      "Open         float64\n",
      "High         float64\n",
      "Low          float64\n",
      "Close        float64\n",
      "Adj Close    float64\n",
      "Volume         int64\n",
      "dtype: object\n",
      "##################### Head #####################\n",
      "         Date       Open   High        Low      Close  Adj Close    Volume\n",
      "0  2010-06-29  19.000000  25.00  17.540001  23.889999  23.889999  18766300\n",
      "1  2010-06-30  25.790001  30.42  23.299999  23.830000  23.830000  17187100\n",
      "2  2010-07-01  25.000000  25.92  20.270000  21.959999  21.959999   8218800\n",
      "3  2010-07-02  23.000000  23.10  18.709999  19.200001  19.200001   5139800\n",
      "4  2010-07-06  20.000000  20.00  15.830000  16.110001  16.110001   6866900\n",
      "##################### Tail #####################\n",
      "            Date        Open        High         Low       Close   Adj Close  \\\n",
      "2411  2020-01-28  568.489990  576.809998  558.080017  566.900024  566.900024   \n",
      "2412  2020-01-29  575.690002  589.799988  567.429993  580.989990  580.989990   \n",
      "2413  2020-01-30  632.419983  650.880005  618.000000  640.809998  640.809998   \n",
      "2414  2020-01-31  640.000000  653.000000  632.520020  650.570007  650.570007   \n",
      "2415  2020-02-03  673.690002  786.140015  673.520020  780.000000  780.000000   \n",
      "\n",
      "        Volume  \n",
      "2411  11788500  \n",
      "2412  17801500  \n",
      "2413  29005700  \n",
      "2414  15719300  \n",
      "2415  47065000  \n",
      "##################### NA #####################\n",
      "Date         0\n",
      "Open         0\n",
      "High         0\n",
      "Low          0\n",
      "Close        0\n",
      "Adj Close    0\n",
      "Volume       0\n",
      "dtype: int64\n",
      "##################### Quantile #####################\n",
      "                    0.00           0.05          0.50          0.95  \\\n",
      "Open           16.139999      23.384999  2.130350e+02  3.519100e+02   \n",
      "High           16.629999      24.022501  2.167450e+02  3.567500e+02   \n",
      "Low            14.980000      22.867499  2.088700e+02  3.460250e+02   \n",
      "Close          15.800000      23.565000  2.129600e+02  3.511675e+02   \n",
      "Adj Close      15.800000      23.565000  2.129600e+02  3.511675e+02   \n",
      "Volume     118500.000000  633825.000000  4.578400e+06  1.476090e+07   \n",
      "\n",
      "                   0.99          1.00  \n",
      "Open       4.235790e+02  6.736900e+02  \n",
      "High       4.284705e+02  7.861400e+02  \n",
      "Low        4.122865e+02  6.735200e+02  \n",
      "Close      4.243455e+02  7.800000e+02  \n",
      "Adj Close  4.243455e+02  7.800000e+02  \n",
      "Volume     2.459959e+07  4.706500e+07  \n"
     ]
    }
   ],
   "source": [
    "check_df(df)"
   ]
  },
  {
   "cell_type": "markdown",
   "id": "82ae7cb6",
   "metadata": {
    "id": "v2n2ONcpWlQl",
    "papermill": {
     "duration": 0.01226,
     "end_time": "2024-10-13T12:41:56.985042",
     "exception": false,
     "start_time": "2024-10-13T12:41:56.972782",
     "status": "completed"
    },
    "tags": []
   },
   "source": [
    "## Data Preparation"
   ]
  },
  {
   "cell_type": "code",
   "execution_count": 6,
   "id": "fc3febb8",
   "metadata": {
    "execution": {
     "iopub.execute_input": "2024-10-13T12:41:57.011874Z",
     "iopub.status.busy": "2024-10-13T12:41:57.011484Z",
     "iopub.status.idle": "2024-10-13T12:41:57.022762Z",
     "shell.execute_reply": "2024-10-13T12:41:57.021789Z"
    },
    "id": "x-En8ormWAo8",
    "papermill": {
     "duration": 0.027688,
     "end_time": "2024-10-13T12:41:57.024872",
     "exception": false,
     "start_time": "2024-10-13T12:41:56.997184",
     "status": "completed"
    },
    "tags": []
   },
   "outputs": [],
   "source": [
    "df[\"Date\"] = pd.to_datetime(df[\"Date\"])"
   ]
  },
  {
   "cell_type": "code",
   "execution_count": 7,
   "id": "9b5bdc10",
   "metadata": {
    "execution": {
     "iopub.execute_input": "2024-10-13T12:41:57.051581Z",
     "iopub.status.busy": "2024-10-13T12:41:57.050737Z",
     "iopub.status.idle": "2024-10-13T12:41:57.064159Z",
     "shell.execute_reply": "2024-10-13T12:41:57.063310Z"
    },
    "id": "Wk3C4MPkWBUG",
    "papermill": {
     "duration": 0.028704,
     "end_time": "2024-10-13T12:41:57.066061",
     "exception": false,
     "start_time": "2024-10-13T12:41:57.037357",
     "status": "completed"
    },
    "tags": []
   },
   "outputs": [
    {
     "data": {
      "text/html": [
       "<div>\n",
       "<style scoped>\n",
       "    .dataframe tbody tr th:only-of-type {\n",
       "        vertical-align: middle;\n",
       "    }\n",
       "\n",
       "    .dataframe tbody tr th {\n",
       "        vertical-align: top;\n",
       "    }\n",
       "\n",
       "    .dataframe thead th {\n",
       "        text-align: right;\n",
       "    }\n",
       "</style>\n",
       "<table border=\"1\" class=\"dataframe\">\n",
       "  <thead>\n",
       "    <tr style=\"text-align: right;\">\n",
       "      <th></th>\n",
       "      <th>Date</th>\n",
       "      <th>Open</th>\n",
       "      <th>High</th>\n",
       "      <th>Low</th>\n",
       "      <th>Close</th>\n",
       "      <th>Adj Close</th>\n",
       "      <th>Volume</th>\n",
       "    </tr>\n",
       "  </thead>\n",
       "  <tbody>\n",
       "    <tr>\n",
       "      <th>0</th>\n",
       "      <td>2010-06-29</td>\n",
       "      <td>19.000000</td>\n",
       "      <td>25.00</td>\n",
       "      <td>17.540001</td>\n",
       "      <td>23.889999</td>\n",
       "      <td>23.889999</td>\n",
       "      <td>18766300</td>\n",
       "    </tr>\n",
       "    <tr>\n",
       "      <th>1</th>\n",
       "      <td>2010-06-30</td>\n",
       "      <td>25.790001</td>\n",
       "      <td>30.42</td>\n",
       "      <td>23.299999</td>\n",
       "      <td>23.830000</td>\n",
       "      <td>23.830000</td>\n",
       "      <td>17187100</td>\n",
       "    </tr>\n",
       "    <tr>\n",
       "      <th>2</th>\n",
       "      <td>2010-07-01</td>\n",
       "      <td>25.000000</td>\n",
       "      <td>25.92</td>\n",
       "      <td>20.270000</td>\n",
       "      <td>21.959999</td>\n",
       "      <td>21.959999</td>\n",
       "      <td>8218800</td>\n",
       "    </tr>\n",
       "    <tr>\n",
       "      <th>3</th>\n",
       "      <td>2010-07-02</td>\n",
       "      <td>23.000000</td>\n",
       "      <td>23.10</td>\n",
       "      <td>18.709999</td>\n",
       "      <td>19.200001</td>\n",
       "      <td>19.200001</td>\n",
       "      <td>5139800</td>\n",
       "    </tr>\n",
       "    <tr>\n",
       "      <th>4</th>\n",
       "      <td>2010-07-06</td>\n",
       "      <td>20.000000</td>\n",
       "      <td>20.00</td>\n",
       "      <td>15.830000</td>\n",
       "      <td>16.110001</td>\n",
       "      <td>16.110001</td>\n",
       "      <td>6866900</td>\n",
       "    </tr>\n",
       "  </tbody>\n",
       "</table>\n",
       "</div>"
      ],
      "text/plain": [
       "        Date       Open   High        Low      Close  Adj Close    Volume\n",
       "0 2010-06-29  19.000000  25.00  17.540001  23.889999  23.889999  18766300\n",
       "1 2010-06-30  25.790001  30.42  23.299999  23.830000  23.830000  17187100\n",
       "2 2010-07-01  25.000000  25.92  20.270000  21.959999  21.959999   8218800\n",
       "3 2010-07-02  23.000000  23.10  18.709999  19.200001  19.200001   5139800\n",
       "4 2010-07-06  20.000000  20.00  15.830000  16.110001  16.110001   6866900"
      ]
     },
     "execution_count": 7,
     "metadata": {},
     "output_type": "execute_result"
    }
   ],
   "source": [
    "df.head()"
   ]
  },
  {
   "cell_type": "code",
   "execution_count": 8,
   "id": "c2fdd441",
   "metadata": {
    "execution": {
     "iopub.execute_input": "2024-10-13T12:41:57.092984Z",
     "iopub.status.busy": "2024-10-13T12:41:57.091860Z",
     "iopub.status.idle": "2024-10-13T12:41:57.097839Z",
     "shell.execute_reply": "2024-10-13T12:41:57.096913Z"
    },
    "id": "ZOVzSrk1WCHu",
    "papermill": {
     "duration": 0.021384,
     "end_time": "2024-10-13T12:41:57.099812",
     "exception": false,
     "start_time": "2024-10-13T12:41:57.078428",
     "status": "completed"
    },
    "tags": []
   },
   "outputs": [],
   "source": [
    "tesla_df = df[[\"Date\", \"Close\"]]"
   ]
  },
  {
   "cell_type": "code",
   "execution_count": 9,
   "id": "1494481a",
   "metadata": {
    "execution": {
     "iopub.execute_input": "2024-10-13T12:41:57.128158Z",
     "iopub.status.busy": "2024-10-13T12:41:57.127496Z",
     "iopub.status.idle": "2024-10-13T12:41:57.137026Z",
     "shell.execute_reply": "2024-10-13T12:41:57.135942Z"
    },
    "id": "Tli5FuMBWF8l",
    "papermill": {
     "duration": 0.02543,
     "end_time": "2024-10-13T12:41:57.139193",
     "exception": false,
     "start_time": "2024-10-13T12:41:57.113763",
     "status": "completed"
    },
    "tags": []
   },
   "outputs": [
    {
     "data": {
      "text/html": [
       "<div>\n",
       "<style scoped>\n",
       "    .dataframe tbody tr th:only-of-type {\n",
       "        vertical-align: middle;\n",
       "    }\n",
       "\n",
       "    .dataframe tbody tr th {\n",
       "        vertical-align: top;\n",
       "    }\n",
       "\n",
       "    .dataframe thead th {\n",
       "        text-align: right;\n",
       "    }\n",
       "</style>\n",
       "<table border=\"1\" class=\"dataframe\">\n",
       "  <thead>\n",
       "    <tr style=\"text-align: right;\">\n",
       "      <th></th>\n",
       "      <th>Date</th>\n",
       "      <th>Close</th>\n",
       "    </tr>\n",
       "  </thead>\n",
       "  <tbody>\n",
       "    <tr>\n",
       "      <th>0</th>\n",
       "      <td>2010-06-29</td>\n",
       "      <td>23.889999</td>\n",
       "    </tr>\n",
       "    <tr>\n",
       "      <th>1</th>\n",
       "      <td>2010-06-30</td>\n",
       "      <td>23.830000</td>\n",
       "    </tr>\n",
       "    <tr>\n",
       "      <th>2</th>\n",
       "      <td>2010-07-01</td>\n",
       "      <td>21.959999</td>\n",
       "    </tr>\n",
       "    <tr>\n",
       "      <th>3</th>\n",
       "      <td>2010-07-02</td>\n",
       "      <td>19.200001</td>\n",
       "    </tr>\n",
       "    <tr>\n",
       "      <th>4</th>\n",
       "      <td>2010-07-06</td>\n",
       "      <td>16.110001</td>\n",
       "    </tr>\n",
       "  </tbody>\n",
       "</table>\n",
       "</div>"
      ],
      "text/plain": [
       "        Date      Close\n",
       "0 2010-06-29  23.889999\n",
       "1 2010-06-30  23.830000\n",
       "2 2010-07-01  21.959999\n",
       "3 2010-07-02  19.200001\n",
       "4 2010-07-06  16.110001"
      ]
     },
     "execution_count": 9,
     "metadata": {},
     "output_type": "execute_result"
    }
   ],
   "source": [
    "tesla_df.head()"
   ]
  },
  {
   "cell_type": "code",
   "execution_count": 10,
   "id": "f38c91c8",
   "metadata": {
    "execution": {
     "iopub.execute_input": "2024-10-13T12:41:57.165886Z",
     "iopub.status.busy": "2024-10-13T12:41:57.165484Z",
     "iopub.status.idle": "2024-10-13T12:41:57.171655Z",
     "shell.execute_reply": "2024-10-13T12:41:57.170831Z"
    },
    "id": "Gsw5OQCAWLzn",
    "papermill": {
     "duration": 0.022531,
     "end_time": "2024-10-13T12:41:57.174054",
     "exception": false,
     "start_time": "2024-10-13T12:41:57.151523",
     "status": "completed"
    },
    "tags": []
   },
   "outputs": [
    {
     "name": "stdout",
     "output_type": "stream",
     "text": [
      "Min Date:  2010-06-29 00:00:00\n",
      "Max Date:  2020-02-03 00:00:00\n"
     ]
    }
   ],
   "source": [
    "print(\"Min Date: \", tesla_df[\"Date\"].min())\n",
    "print(\"Max Date: \", tesla_df[\"Date\"].max())"
   ]
  },
  {
   "cell_type": "code",
   "execution_count": 11,
   "id": "01bc26a2",
   "metadata": {
    "execution": {
     "iopub.execute_input": "2024-10-13T12:41:57.201356Z",
     "iopub.status.busy": "2024-10-13T12:41:57.200911Z",
     "iopub.status.idle": "2024-10-13T12:41:57.206134Z",
     "shell.execute_reply": "2024-10-13T12:41:57.205199Z"
    },
    "id": "JGi8P08mWQO1",
    "papermill": {
     "duration": 0.021439,
     "end_time": "2024-10-13T12:41:57.208287",
     "exception": false,
     "start_time": "2024-10-13T12:41:57.186848",
     "status": "completed"
    },
    "tags": []
   },
   "outputs": [],
   "source": [
    "tesla_df.index = tesla_df[\"Date\"]"
   ]
  },
  {
   "cell_type": "code",
   "execution_count": 12,
   "id": "ea9fa837",
   "metadata": {
    "execution": {
     "iopub.execute_input": "2024-10-13T12:41:57.236424Z",
     "iopub.status.busy": "2024-10-13T12:41:57.235416Z",
     "iopub.status.idle": "2024-10-13T12:41:57.246777Z",
     "shell.execute_reply": "2024-10-13T12:41:57.245983Z"
    },
    "id": "YBWxX2IOWoL_",
    "papermill": {
     "duration": 0.02767,
     "end_time": "2024-10-13T12:41:57.248725",
     "exception": false,
     "start_time": "2024-10-13T12:41:57.221055",
     "status": "completed"
    },
    "tags": []
   },
   "outputs": [
    {
     "data": {
      "text/html": [
       "<div>\n",
       "<style scoped>\n",
       "    .dataframe tbody tr th:only-of-type {\n",
       "        vertical-align: middle;\n",
       "    }\n",
       "\n",
       "    .dataframe tbody tr th {\n",
       "        vertical-align: top;\n",
       "    }\n",
       "\n",
       "    .dataframe thead th {\n",
       "        text-align: right;\n",
       "    }\n",
       "</style>\n",
       "<table border=\"1\" class=\"dataframe\">\n",
       "  <thead>\n",
       "    <tr style=\"text-align: right;\">\n",
       "      <th></th>\n",
       "      <th>Date</th>\n",
       "      <th>Close</th>\n",
       "    </tr>\n",
       "    <tr>\n",
       "      <th>Date</th>\n",
       "      <th></th>\n",
       "      <th></th>\n",
       "    </tr>\n",
       "  </thead>\n",
       "  <tbody>\n",
       "    <tr>\n",
       "      <th>2010-06-29</th>\n",
       "      <td>2010-06-29</td>\n",
       "      <td>23.889999</td>\n",
       "    </tr>\n",
       "    <tr>\n",
       "      <th>2010-06-30</th>\n",
       "      <td>2010-06-30</td>\n",
       "      <td>23.830000</td>\n",
       "    </tr>\n",
       "    <tr>\n",
       "      <th>2010-07-01</th>\n",
       "      <td>2010-07-01</td>\n",
       "      <td>21.959999</td>\n",
       "    </tr>\n",
       "    <tr>\n",
       "      <th>2010-07-02</th>\n",
       "      <td>2010-07-02</td>\n",
       "      <td>19.200001</td>\n",
       "    </tr>\n",
       "    <tr>\n",
       "      <th>2010-07-06</th>\n",
       "      <td>2010-07-06</td>\n",
       "      <td>16.110001</td>\n",
       "    </tr>\n",
       "    <tr>\n",
       "      <th>...</th>\n",
       "      <td>...</td>\n",
       "      <td>...</td>\n",
       "    </tr>\n",
       "    <tr>\n",
       "      <th>2020-01-28</th>\n",
       "      <td>2020-01-28</td>\n",
       "      <td>566.900024</td>\n",
       "    </tr>\n",
       "    <tr>\n",
       "      <th>2020-01-29</th>\n",
       "      <td>2020-01-29</td>\n",
       "      <td>580.989990</td>\n",
       "    </tr>\n",
       "    <tr>\n",
       "      <th>2020-01-30</th>\n",
       "      <td>2020-01-30</td>\n",
       "      <td>640.809998</td>\n",
       "    </tr>\n",
       "    <tr>\n",
       "      <th>2020-01-31</th>\n",
       "      <td>2020-01-31</td>\n",
       "      <td>650.570007</td>\n",
       "    </tr>\n",
       "    <tr>\n",
       "      <th>2020-02-03</th>\n",
       "      <td>2020-02-03</td>\n",
       "      <td>780.000000</td>\n",
       "    </tr>\n",
       "  </tbody>\n",
       "</table>\n",
       "<p>2416 rows × 2 columns</p>\n",
       "</div>"
      ],
      "text/plain": [
       "                 Date       Close\n",
       "Date                             \n",
       "2010-06-29 2010-06-29   23.889999\n",
       "2010-06-30 2010-06-30   23.830000\n",
       "2010-07-01 2010-07-01   21.959999\n",
       "2010-07-02 2010-07-02   19.200001\n",
       "2010-07-06 2010-07-06   16.110001\n",
       "...               ...         ...\n",
       "2020-01-28 2020-01-28  566.900024\n",
       "2020-01-29 2020-01-29  580.989990\n",
       "2020-01-30 2020-01-30  640.809998\n",
       "2020-01-31 2020-01-31  650.570007\n",
       "2020-02-03 2020-02-03  780.000000\n",
       "\n",
       "[2416 rows x 2 columns]"
      ]
     },
     "execution_count": 12,
     "metadata": {},
     "output_type": "execute_result"
    }
   ],
   "source": [
    "tesla_df"
   ]
  },
  {
   "cell_type": "code",
   "execution_count": 13,
   "id": "1e2793a2",
   "metadata": {
    "execution": {
     "iopub.execute_input": "2024-10-13T12:41:57.275820Z",
     "iopub.status.busy": "2024-10-13T12:41:57.275471Z",
     "iopub.status.idle": "2024-10-13T12:41:57.281318Z",
     "shell.execute_reply": "2024-10-13T12:41:57.280151Z"
    },
    "id": "tgPM31WBWvcH",
    "papermill": {
     "duration": 0.022287,
     "end_time": "2024-10-13T12:41:57.283724",
     "exception": false,
     "start_time": "2024-10-13T12:41:57.261437",
     "status": "completed"
    },
    "tags": []
   },
   "outputs": [],
   "source": [
    "tesla_df.drop(\"Date\", axis=1, inplace=True)"
   ]
  },
  {
   "cell_type": "code",
   "execution_count": 14,
   "id": "963a942d",
   "metadata": {
    "execution": {
     "iopub.execute_input": "2024-10-13T12:41:57.311579Z",
     "iopub.status.busy": "2024-10-13T12:41:57.310774Z",
     "iopub.status.idle": "2024-10-13T12:41:57.320489Z",
     "shell.execute_reply": "2024-10-13T12:41:57.319479Z"
    },
    "id": "17KdnKMGWwSm",
    "papermill": {
     "duration": 0.026193,
     "end_time": "2024-10-13T12:41:57.322953",
     "exception": false,
     "start_time": "2024-10-13T12:41:57.296760",
     "status": "completed"
    },
    "tags": []
   },
   "outputs": [
    {
     "data": {
      "text/html": [
       "<div>\n",
       "<style scoped>\n",
       "    .dataframe tbody tr th:only-of-type {\n",
       "        vertical-align: middle;\n",
       "    }\n",
       "\n",
       "    .dataframe tbody tr th {\n",
       "        vertical-align: top;\n",
       "    }\n",
       "\n",
       "    .dataframe thead th {\n",
       "        text-align: right;\n",
       "    }\n",
       "</style>\n",
       "<table border=\"1\" class=\"dataframe\">\n",
       "  <thead>\n",
       "    <tr style=\"text-align: right;\">\n",
       "      <th></th>\n",
       "      <th>Close</th>\n",
       "    </tr>\n",
       "    <tr>\n",
       "      <th>Date</th>\n",
       "      <th></th>\n",
       "    </tr>\n",
       "  </thead>\n",
       "  <tbody>\n",
       "    <tr>\n",
       "      <th>2010-06-29</th>\n",
       "      <td>23.889999</td>\n",
       "    </tr>\n",
       "    <tr>\n",
       "      <th>2010-06-30</th>\n",
       "      <td>23.830000</td>\n",
       "    </tr>\n",
       "    <tr>\n",
       "      <th>2010-07-01</th>\n",
       "      <td>21.959999</td>\n",
       "    </tr>\n",
       "    <tr>\n",
       "      <th>2010-07-02</th>\n",
       "      <td>19.200001</td>\n",
       "    </tr>\n",
       "    <tr>\n",
       "      <th>2010-07-06</th>\n",
       "      <td>16.110001</td>\n",
       "    </tr>\n",
       "    <tr>\n",
       "      <th>...</th>\n",
       "      <td>...</td>\n",
       "    </tr>\n",
       "    <tr>\n",
       "      <th>2020-01-28</th>\n",
       "      <td>566.900024</td>\n",
       "    </tr>\n",
       "    <tr>\n",
       "      <th>2020-01-29</th>\n",
       "      <td>580.989990</td>\n",
       "    </tr>\n",
       "    <tr>\n",
       "      <th>2020-01-30</th>\n",
       "      <td>640.809998</td>\n",
       "    </tr>\n",
       "    <tr>\n",
       "      <th>2020-01-31</th>\n",
       "      <td>650.570007</td>\n",
       "    </tr>\n",
       "    <tr>\n",
       "      <th>2020-02-03</th>\n",
       "      <td>780.000000</td>\n",
       "    </tr>\n",
       "  </tbody>\n",
       "</table>\n",
       "<p>2416 rows × 1 columns</p>\n",
       "</div>"
      ],
      "text/plain": [
       "                 Close\n",
       "Date                  \n",
       "2010-06-29   23.889999\n",
       "2010-06-30   23.830000\n",
       "2010-07-01   21.959999\n",
       "2010-07-02   19.200001\n",
       "2010-07-06   16.110001\n",
       "...                ...\n",
       "2020-01-28  566.900024\n",
       "2020-01-29  580.989990\n",
       "2020-01-30  640.809998\n",
       "2020-01-31  650.570007\n",
       "2020-02-03  780.000000\n",
       "\n",
       "[2416 rows x 1 columns]"
      ]
     },
     "execution_count": 14,
     "metadata": {},
     "output_type": "execute_result"
    }
   ],
   "source": [
    "tesla_df"
   ]
  },
  {
   "cell_type": "code",
   "execution_count": 15,
   "id": "16c4ccb2",
   "metadata": {
    "execution": {
     "iopub.execute_input": "2024-10-13T12:41:57.350716Z",
     "iopub.status.busy": "2024-10-13T12:41:57.350387Z",
     "iopub.status.idle": "2024-10-13T12:41:57.355122Z",
     "shell.execute_reply": "2024-10-13T12:41:57.354013Z"
    },
    "id": "PliZ5OcsWxsF",
    "papermill": {
     "duration": 0.021074,
     "end_time": "2024-10-13T12:41:57.357188",
     "exception": false,
     "start_time": "2024-10-13T12:41:57.336114",
     "status": "completed"
    },
    "tags": []
   },
   "outputs": [],
   "source": [
    "result_df = tesla_df.copy()"
   ]
  },
  {
   "cell_type": "code",
   "execution_count": 16,
   "id": "69e0ea7d",
   "metadata": {
    "execution": {
     "iopub.execute_input": "2024-10-13T12:41:57.385760Z",
     "iopub.status.busy": "2024-10-13T12:41:57.384902Z",
     "iopub.status.idle": "2024-10-13T12:41:57.704046Z",
     "shell.execute_reply": "2024-10-13T12:41:57.702990Z"
    },
    "id": "ObqHX6K2W0te",
    "papermill": {
     "duration": 0.336312,
     "end_time": "2024-10-13T12:41:57.706428",
     "exception": false,
     "start_time": "2024-10-13T12:41:57.370116",
     "status": "completed"
    },
    "tags": []
   },
   "outputs": [
    {
     "data": {
      "image/png": "[encoded data removed]",
      "text/plain": [
       "<Figure size 1400x500 with 1 Axes>"
      ]
     },
     "metadata": {},
     "output_type": "display_data"
    }
   ],
   "source": [
    "plt.figure(figsize=(14,5))\n",
    "plt.plot(tesla_df['Close'], color='blue')\n",
    "plt.title(\"Tesla Stock Price\")\n",
    "plt.xlabel(\"Time\")\n",
    "plt.ylabel(\"Stock Price\")\n",
    "plt.show()"
   ]
  },
  {
   "cell_type": "code",
   "execution_count": 17,
   "id": "24547281",
   "metadata": {
    "execution": {
     "iopub.execute_input": "2024-10-13T12:41:57.735111Z",
     "iopub.status.busy": "2024-10-13T12:41:57.734743Z",
     "iopub.status.idle": "2024-10-13T12:41:57.739818Z",
     "shell.execute_reply": "2024-10-13T12:41:57.738686Z"
    },
    "id": "5LWFDWjNW2z2",
    "papermill": {
     "duration": 0.021604,
     "end_time": "2024-10-13T12:41:57.741661",
     "exception": false,
     "start_time": "2024-10-13T12:41:57.720057",
     "status": "completed"
    },
    "tags": []
   },
   "outputs": [],
   "source": [
    "tesla_df = tesla_df.values"
   ]
  },
  {
   "cell_type": "code",
   "execution_count": 18,
   "id": "b29725e9",
   "metadata": {
    "execution": {
     "iopub.execute_input": "2024-10-13T12:41:57.770821Z",
     "iopub.status.busy": "2024-10-13T12:41:57.770486Z",
     "iopub.status.idle": "2024-10-13T12:41:57.777329Z",
     "shell.execute_reply": "2024-10-13T12:41:57.776245Z"
    },
    "id": "jxFZkTS-W9Mm",
    "papermill": {
     "duration": 0.023914,
     "end_time": "2024-10-13T12:41:57.779476",
     "exception": false,
     "start_time": "2024-10-13T12:41:57.755562",
     "status": "completed"
    },
    "tags": []
   },
   "outputs": [
    {
     "data": {
      "text/plain": [
       "array([[23.889999],\n",
       "       [23.83    ],\n",
       "       [21.959999],\n",
       "       [19.200001],\n",
       "       [16.110001]])"
      ]
     },
     "execution_count": 18,
     "metadata": {},
     "output_type": "execute_result"
    }
   ],
   "source": [
    "tesla_df[0:5]"
   ]
  },
  {
   "cell_type": "code",
   "execution_count": 19,
   "id": "5537ff9e",
   "metadata": {
    "execution": {
     "iopub.execute_input": "2024-10-13T12:41:57.808565Z",
     "iopub.status.busy": "2024-10-13T12:41:57.808177Z",
     "iopub.status.idle": "2024-10-13T12:41:57.813110Z",
     "shell.execute_reply": "2024-10-13T12:41:57.812010Z"
    },
    "id": "iU7KJlc4XAb2",
    "papermill": {
     "duration": 0.022228,
     "end_time": "2024-10-13T12:41:57.815327",
     "exception": false,
     "start_time": "2024-10-13T12:41:57.793099",
     "status": "completed"
    },
    "tags": []
   },
   "outputs": [],
   "source": [
    "tesla_df = tesla_df.astype(\"float32\")"
   ]
  },
  {
   "cell_type": "code",
   "execution_count": 20,
   "id": "7537754f",
   "metadata": {
    "execution": {
     "iopub.execute_input": "2024-10-13T12:41:57.845327Z",
     "iopub.status.busy": "2024-10-13T12:41:57.844345Z",
     "iopub.status.idle": "2024-10-13T12:41:57.849567Z",
     "shell.execute_reply": "2024-10-13T12:41:57.848595Z"
    },
    "id": "r7Cywk9oXBI-",
    "papermill": {
     "duration": 0.02224,
     "end_time": "2024-10-13T12:41:57.851473",
     "exception": false,
     "start_time": "2024-10-13T12:41:57.829233",
     "status": "completed"
    },
    "tags": []
   },
   "outputs": [],
   "source": [
    "def split_data(dataframe, test_size):\n",
    "  position = int(round(len(dataframe) * (1 - test_size)))\n",
    "  train = dataframe[:position]\n",
    "  test = dataframe[position:]\n",
    "  return train, test, position"
   ]
  },
  {
   "cell_type": "code",
   "execution_count": 21,
   "id": "bbdf279d",
   "metadata": {
    "execution": {
     "iopub.execute_input": "2024-10-13T12:41:57.880988Z",
     "iopub.status.busy": "2024-10-13T12:41:57.880137Z",
     "iopub.status.idle": "2024-10-13T12:41:57.885002Z",
     "shell.execute_reply": "2024-10-13T12:41:57.883793Z"
    },
    "id": "COxqfz0SZvV_",
    "papermill": {
     "duration": 0.021954,
     "end_time": "2024-10-13T12:41:57.887188",
     "exception": false,
     "start_time": "2024-10-13T12:41:57.865234",
     "status": "completed"
    },
    "tags": []
   },
   "outputs": [],
   "source": [
    "train, test, position = split_data(tesla_df, 0.20)"
   ]
  },
  {
   "cell_type": "code",
   "execution_count": 22,
   "id": "4985cbc1",
   "metadata": {
    "execution": {
     "iopub.execute_input": "2024-10-13T12:41:57.916191Z",
     "iopub.status.busy": "2024-10-13T12:41:57.915807Z",
     "iopub.status.idle": "2024-10-13T12:41:57.921902Z",
     "shell.execute_reply": "2024-10-13T12:41:57.920640Z"
    },
    "id": "jESwxnt2Z1t5",
    "papermill": {
     "duration": 0.023415,
     "end_time": "2024-10-13T12:41:57.924419",
     "exception": false,
     "start_time": "2024-10-13T12:41:57.901004",
     "status": "completed"
    },
    "tags": []
   },
   "outputs": [
    {
     "name": "stdout",
     "output_type": "stream",
     "text": [
      "(1933, 1) (483, 1)\n"
     ]
    }
   ],
   "source": [
    "print(train.shape, test.shape)"
   ]
  },
  {
   "cell_type": "code",
   "execution_count": 23,
   "id": "d0ed57a8",
   "metadata": {
    "execution": {
     "iopub.execute_input": "2024-10-13T12:41:57.954195Z",
     "iopub.status.busy": "2024-10-13T12:41:57.953293Z",
     "iopub.status.idle": "2024-10-13T12:41:57.958985Z",
     "shell.execute_reply": "2024-10-13T12:41:57.958109Z"
    },
    "id": "wleQDdgSZ8NZ",
    "papermill": {
     "duration": 0.022893,
     "end_time": "2024-10-13T12:41:57.961302",
     "exception": false,
     "start_time": "2024-10-13T12:41:57.938409",
     "status": "completed"
    },
    "tags": []
   },
   "outputs": [],
   "source": [
    "scaler_train = MinMaxScaler(feature_range = (0,1))"
   ]
  },
  {
   "cell_type": "code",
   "execution_count": 24,
   "id": "4dc1a438",
   "metadata": {
    "execution": {
     "iopub.execute_input": "2024-10-13T12:41:57.990830Z",
     "iopub.status.busy": "2024-10-13T12:41:57.989996Z",
     "iopub.status.idle": "2024-10-13T12:41:57.995658Z",
     "shell.execute_reply": "2024-10-13T12:41:57.994707Z"
    },
    "id": "Enf8wikDaNZh",
    "papermill": {
     "duration": 0.022431,
     "end_time": "2024-10-13T12:41:57.997563",
     "exception": false,
     "start_time": "2024-10-13T12:41:57.975132",
     "status": "completed"
    },
    "tags": []
   },
   "outputs": [],
   "source": [
    "train = scaler_train.fit_transform(train)"
   ]
  },
  {
   "cell_type": "code",
   "execution_count": 25,
   "id": "433eb451",
   "metadata": {
    "execution": {
     "iopub.execute_input": "2024-10-13T12:41:58.027742Z",
     "iopub.status.busy": "2024-10-13T12:41:58.027317Z",
     "iopub.status.idle": "2024-10-13T12:41:58.032477Z",
     "shell.execute_reply": "2024-10-13T12:41:58.031138Z"
    },
    "id": "cg-7tCn_aXTc",
    "papermill": {
     "duration": 0.024377,
     "end_time": "2024-10-13T12:41:58.035623",
     "exception": false,
     "start_time": "2024-10-13T12:41:58.011246",
     "status": "completed"
    },
    "tags": []
   },
   "outputs": [],
   "source": [
    "scaler_test = MinMaxScaler(feature_range = (0,1))"
   ]
  },
  {
   "cell_type": "code",
   "execution_count": 26,
   "id": "fbeb7592",
   "metadata": {
    "execution": {
     "iopub.execute_input": "2024-10-13T12:41:58.068033Z",
     "iopub.status.busy": "2024-10-13T12:41:58.066970Z",
     "iopub.status.idle": "2024-10-13T12:41:58.072707Z",
     "shell.execute_reply": "2024-10-13T12:41:58.071779Z"
    },
    "id": "tSbuIifiabbC",
    "papermill": {
     "duration": 0.022884,
     "end_time": "2024-10-13T12:41:58.074705",
     "exception": false,
     "start_time": "2024-10-13T12:41:58.051821",
     "status": "completed"
    },
    "tags": []
   },
   "outputs": [],
   "source": [
    "test = scaler_test.fit_transform(test)"
   ]
  },
  {
   "cell_type": "code",
   "execution_count": 27,
   "id": "107029e4",
   "metadata": {
    "execution": {
     "iopub.execute_input": "2024-10-13T12:41:58.105333Z",
     "iopub.status.busy": "2024-10-13T12:41:58.104483Z",
     "iopub.status.idle": "2024-10-13T12:41:58.112264Z",
     "shell.execute_reply": "2024-10-13T12:41:58.110641Z"
    },
    "id": "X5a7m_BEagaJ",
    "papermill": {
     "duration": 0.025601,
     "end_time": "2024-10-13T12:41:58.114993",
     "exception": false,
     "start_time": "2024-10-13T12:41:58.089392",
     "status": "completed"
    },
    "tags": []
   },
   "outputs": [
    {
     "data": {
      "text/plain": [
       "array([[0.02191224],\n",
       "       [0.02174973],\n",
       "       [0.01668472],\n",
       "       [0.0092091 ],\n",
       "       [0.00083966]], dtype=float32)"
      ]
     },
     "execution_count": 27,
     "metadata": {},
     "output_type": "execute_result"
    }
   ],
   "source": [
    "train[0:5]"
   ]
  },
  {
   "cell_type": "code",
   "execution_count": 28,
   "id": "4f216126",
   "metadata": {
    "execution": {
     "iopub.execute_input": "2024-10-13T12:41:58.145746Z",
     "iopub.status.busy": "2024-10-13T12:41:58.144634Z",
     "iopub.status.idle": "2024-10-13T12:41:58.151594Z",
     "shell.execute_reply": "2024-10-13T12:41:58.150742Z"
    },
    "id": "AeVSy_ijahnh",
    "papermill": {
     "duration": 0.024538,
     "end_time": "2024-10-13T12:41:58.154012",
     "exception": false,
     "start_time": "2024-10-13T12:41:58.129474",
     "status": "completed"
    },
    "tags": []
   },
   "outputs": [
    {
     "data": {
      "text/plain": [
       "array([[0.25685903],\n",
       "       [0.24829045],\n",
       "       [0.25511202],\n",
       "       [0.24978784],\n",
       "       [0.2465767 ]], dtype=float32)"
      ]
     },
     "execution_count": 28,
     "metadata": {},
     "output_type": "execute_result"
    }
   ],
   "source": [
    "test[0:5]"
   ]
  },
  {
   "cell_type": "code",
   "execution_count": 29,
   "id": "9929ac88",
   "metadata": {
    "execution": {
     "iopub.execute_input": "2024-10-13T12:41:58.200349Z",
     "iopub.status.busy": "2024-10-13T12:41:58.199937Z",
     "iopub.status.idle": "2024-10-13T12:41:58.207327Z",
     "shell.execute_reply": "2024-10-13T12:41:58.205612Z"
    },
    "id": "Gv95UqJWasHS",
    "papermill": {
     "duration": 0.028125,
     "end_time": "2024-10-13T12:41:58.209463",
     "exception": false,
     "start_time": "2024-10-13T12:41:58.181338",
     "status": "completed"
    },
    "tags": []
   },
   "outputs": [],
   "source": [
    "def create_features(data, lookback):\n",
    "  X, Y = [], []\n",
    "  for i in range(lookback, len(data)):\n",
    "    X.append(data[i-lookback:i,0])\n",
    "    Y.append(data[i,0])\n",
    "\n",
    "  return np.array(X), np.array(Y)"
   ]
  },
  {
   "cell_type": "code",
   "execution_count": 30,
   "id": "ba065100",
   "metadata": {
    "execution": {
     "iopub.execute_input": "2024-10-13T12:41:58.251053Z",
     "iopub.status.busy": "2024-10-13T12:41:58.250106Z",
     "iopub.status.idle": "2024-10-13T12:41:58.255308Z",
     "shell.execute_reply": "2024-10-13T12:41:58.254202Z"
    },
    "id": "e36Ux4_CbASm",
    "papermill": {
     "duration": 0.027629,
     "end_time": "2024-10-13T12:41:58.257504",
     "exception": false,
     "start_time": "2024-10-13T12:41:58.229875",
     "status": "completed"
    },
    "tags": []
   },
   "outputs": [],
   "source": [
    "lookback = 20"
   ]
  },
  {
   "cell_type": "code",
   "execution_count": 31,
   "id": "47babef3",
   "metadata": {
    "execution": {
     "iopub.execute_input": "2024-10-13T12:41:58.294851Z",
     "iopub.status.busy": "2024-10-13T12:41:58.294450Z",
     "iopub.status.idle": "2024-10-13T12:41:58.302817Z",
     "shell.execute_reply": "2024-10-13T12:41:58.301796Z"
    },
    "id": "Xd8JMdaWbCzp",
    "papermill": {
     "duration": 0.02654,
     "end_time": "2024-10-13T12:41:58.305266",
     "exception": false,
     "start_time": "2024-10-13T12:41:58.278726",
     "status": "completed"
    },
    "tags": []
   },
   "outputs": [],
   "source": [
    "X_train, y_train = create_features(train, lookback)"
   ]
  },
  {
   "cell_type": "code",
   "execution_count": 32,
   "id": "482dd66b",
   "metadata": {
    "execution": {
     "iopub.execute_input": "2024-10-13T12:41:58.372066Z",
     "iopub.status.busy": "2024-10-13T12:41:58.371279Z",
     "iopub.status.idle": "2024-10-13T12:41:58.377453Z",
     "shell.execute_reply": "2024-10-13T12:41:58.376309Z"
    },
    "id": "wHgq8DT5bF_Z",
    "papermill": {
     "duration": 0.059863,
     "end_time": "2024-10-13T12:41:58.379617",
     "exception": false,
     "start_time": "2024-10-13T12:41:58.319754",
     "status": "completed"
    },
    "tags": []
   },
   "outputs": [],
   "source": [
    "X_test, y_test = create_features(test, lookback)"
   ]
  },
  {
   "cell_type": "code",
   "execution_count": 33,
   "id": "ed95e45d",
   "metadata": {
    "execution": {
     "iopub.execute_input": "2024-10-13T12:41:58.409467Z",
     "iopub.status.busy": "2024-10-13T12:41:58.409082Z",
     "iopub.status.idle": "2024-10-13T12:41:58.414722Z",
     "shell.execute_reply": "2024-10-13T12:41:58.413418Z"
    },
    "id": "zYQy_33TbKdb",
    "papermill": {
     "duration": 0.023736,
     "end_time": "2024-10-13T12:41:58.417520",
     "exception": false,
     "start_time": "2024-10-13T12:41:58.393784",
     "status": "completed"
    },
    "tags": []
   },
   "outputs": [
    {
     "name": "stdout",
     "output_type": "stream",
     "text": [
      "(1913, 20) (1913,) (463, 20) (463,)\n"
     ]
    }
   ],
   "source": [
    "print(X_train.shape, y_train.shape, X_test.shape, y_test.shape)"
   ]
  },
  {
   "cell_type": "code",
   "execution_count": 34,
   "id": "9f31b7d9",
   "metadata": {
    "execution": {
     "iopub.execute_input": "2024-10-13T12:41:58.448609Z",
     "iopub.status.busy": "2024-10-13T12:41:58.447585Z",
     "iopub.status.idle": "2024-10-13T12:41:58.455046Z",
     "shell.execute_reply": "2024-10-13T12:41:58.453999Z"
    },
    "id": "sI1k-K6bTKuw",
    "papermill": {
     "duration": 0.025294,
     "end_time": "2024-10-13T12:41:58.457261",
     "exception": false,
     "start_time": "2024-10-13T12:41:58.431967",
     "status": "completed"
    },
    "tags": []
   },
   "outputs": [
    {
     "data": {
      "text/plain": [
       "array([[0.02191224, 0.02174973, 0.01668472, 0.0092091 , 0.00083966,\n",
       "        0.        , 0.00449621, 0.00433369, 0.0033857 , 0.00633803,\n",
       "        0.01094258, 0.011078  , 0.01310942, 0.0165493 , 0.01218851,\n",
       "        0.01197183, 0.01408451, 0.01486999, 0.01394908, 0.01286566],\n",
       "       [0.02174973, 0.01668472, 0.0092091 , 0.00083966, 0.        ,\n",
       "        0.00449621, 0.00433369, 0.0033857 , 0.00633803, 0.01094258,\n",
       "        0.011078  , 0.01310942, 0.0165493 , 0.01218851, 0.01197183,\n",
       "        0.01408451, 0.01486999, 0.01394908, 0.01286566, 0.01332611],\n",
       "       [0.01668472, 0.0092091 , 0.00083966, 0.        , 0.00449621,\n",
       "        0.00433369, 0.0033857 , 0.00633803, 0.01094258, 0.011078  ,\n",
       "        0.01310942, 0.0165493 , 0.01218851, 0.01197183, 0.01408451,\n",
       "        0.01486999, 0.01394908, 0.01286566, 0.01332611, 0.01232395],\n",
       "       [0.0092091 , 0.00083966, 0.        , 0.00449621, 0.00433369,\n",
       "        0.0033857 , 0.00633803, 0.01094258, 0.011078  , 0.01310942,\n",
       "        0.0165493 , 0.01218851, 0.01197183, 0.01408451, 0.01486999,\n",
       "        0.01394908, 0.01286566, 0.01332611, 0.01232395, 0.01121344],\n",
       "       [0.00083966, 0.        , 0.00449621, 0.00433369, 0.0033857 ,\n",
       "        0.00633803, 0.01094258, 0.011078  , 0.01310942, 0.0165493 ,\n",
       "        0.01218851, 0.01197183, 0.01408451, 0.01486999, 0.01394908,\n",
       "        0.01286566, 0.01332611, 0.01232395, 0.01121344, 0.01386782]],\n",
       "      dtype=float32)"
      ]
     },
     "execution_count": 34,
     "metadata": {},
     "output_type": "execute_result"
    }
   ],
   "source": [
    "X_train[0:5]"
   ]
  },
  {
   "cell_type": "code",
   "execution_count": 35,
   "id": "707d5e9e",
   "metadata": {
    "execution": {
     "iopub.execute_input": "2024-10-13T12:41:58.487616Z",
     "iopub.status.busy": "2024-10-13T12:41:58.486588Z",
     "iopub.status.idle": "2024-10-13T12:41:58.493391Z",
     "shell.execute_reply": "2024-10-13T12:41:58.492396Z"
    },
    "id": "vY5hCVQHTg9u",
    "papermill": {
     "duration": 0.024987,
     "end_time": "2024-10-13T12:41:58.496293",
     "exception": false,
     "start_time": "2024-10-13T12:41:58.471306",
     "status": "completed"
    },
    "tags": []
   },
   "outputs": [
    {
     "data": {
      "text/plain": [
       "array([0.01332611, 0.01232395, 0.01121344, 0.01386782, 0.01665764],\n",
       "      dtype=float32)"
      ]
     },
     "execution_count": 35,
     "metadata": {},
     "output_type": "execute_result"
    }
   ],
   "source": [
    "y_train[0:5]"
   ]
  },
  {
   "cell_type": "code",
   "execution_count": 36,
   "id": "d1593bb3",
   "metadata": {
    "execution": {
     "iopub.execute_input": "2024-10-13T12:41:58.526910Z",
     "iopub.status.busy": "2024-10-13T12:41:58.526574Z",
     "iopub.status.idle": "2024-10-13T12:41:58.532236Z",
     "shell.execute_reply": "2024-10-13T12:41:58.531188Z"
    },
    "id": "yvf-4kLybad5",
    "papermill": {
     "duration": 0.02347,
     "end_time": "2024-10-13T12:41:58.534345",
     "exception": false,
     "start_time": "2024-10-13T12:41:58.510875",
     "status": "completed"
    },
    "tags": []
   },
   "outputs": [],
   "source": [
    "X_train = np.reshape(X_train, (X_train.shape[0], 1, X_train.shape[1]))\n",
    "X_test = np.reshape(X_test, (X_test.shape[0], 1, X_test.shape[1]))\n",
    "y_train = y_train.reshape(-1,1)\n",
    "y_test = y_test.reshape(-1,1)"
   ]
  },
  {
   "cell_type": "code",
   "execution_count": 37,
   "id": "5e4716e4",
   "metadata": {
    "execution": {
     "iopub.execute_input": "2024-10-13T12:41:58.565878Z",
     "iopub.status.busy": "2024-10-13T12:41:58.565465Z",
     "iopub.status.idle": "2024-10-13T12:41:58.570811Z",
     "shell.execute_reply": "2024-10-13T12:41:58.569971Z"
    },
    "id": "D2ltv0Edb3wz",
    "papermill": {
     "duration": 0.023625,
     "end_time": "2024-10-13T12:41:58.573225",
     "exception": false,
     "start_time": "2024-10-13T12:41:58.549600",
     "status": "completed"
    },
    "tags": []
   },
   "outputs": [
    {
     "name": "stdout",
     "output_type": "stream",
     "text": [
      "(1913, 1, 20) (1913, 1) (463, 1, 20) (463, 1)\n"
     ]
    }
   ],
   "source": [
    "print(X_train.shape, y_train.shape, X_test.shape, y_test.shape)"
   ]
  },
  {
   "cell_type": "markdown",
   "id": "df18112b",
   "metadata": {
    "id": "DtsN3xazcIAn",
    "papermill": {
     "duration": 0.014101,
     "end_time": "2024-10-13T12:41:58.601976",
     "exception": false,
     "start_time": "2024-10-13T12:41:58.587875",
     "status": "completed"
    },
    "tags": []
   },
   "source": [
    "## Modelling"
   ]
  },
  {
   "cell_type": "code",
   "execution_count": 38,
   "id": "e84a060d",
   "metadata": {
    "execution": {
     "iopub.execute_input": "2024-10-13T12:41:58.632326Z",
     "iopub.status.busy": "2024-10-13T12:41:58.631958Z",
     "iopub.status.idle": "2024-10-13T12:41:58.733533Z",
     "shell.execute_reply": "2024-10-13T12:41:58.732441Z"
    },
    "id": "QtbQx4G9cI_z",
    "papermill": {
     "duration": 0.119719,
     "end_time": "2024-10-13T12:41:58.736199",
     "exception": false,
     "start_time": "2024-10-13T12:41:58.616480",
     "status": "completed"
    },
    "tags": []
   },
   "outputs": [],
   "source": [
    "model = Sequential()\n",
    "\n",
    "model.add(LSTM(units = 50,\n",
    "                    activation = 'relu',\n",
    "                    input_shape=(X_train.shape[1], lookback)))\n",
    "\n",
    "model.add(Dropout(0.2))\n",
    "\n",
    "model.add(Dense(1))\n"
   ]
  },
  {
   "cell_type": "code",
   "execution_count": 39,
   "id": "4676f582",
   "metadata": {
    "execution": {
     "iopub.execute_input": "2024-10-13T12:41:58.766784Z",
     "iopub.status.busy": "2024-10-13T12:41:58.766447Z",
     "iopub.status.idle": "2024-10-13T12:41:58.786453Z",
     "shell.execute_reply": "2024-10-13T12:41:58.785554Z"
    },
    "id": "RQFXIkDbciE6",
    "papermill": {
     "duration": 0.037573,
     "end_time": "2024-10-13T12:41:58.788456",
     "exception": false,
     "start_time": "2024-10-13T12:41:58.750883",
     "status": "completed"
    },
    "tags": []
   },
   "outputs": [
    {
     "data": {
      "text/html": [
       "<pre style=\"white-space:pre;overflow-x:auto;line-height:normal;font-family:Menlo,'DejaVu Sans Mono',consolas,'Courier New',monospace\"><span style=\"font-weight: bold\">Model: \"sequential\"</span>\n",
       "</pre>\n"
      ],
      "text/plain": [
       "\u001b[1mModel: \"sequential\"\u001b[0m\n"
      ]
     },
     "metadata": {},
     "output_type": "display_data"
    },
    {
     "data": {
      "text/html": [
       "<pre style=\"white-space:pre;overflow-x:auto;line-height:normal;font-family:Menlo,'DejaVu Sans Mono',consolas,'Courier New',monospace\">┏━━━━━━━━━━━━━━━━━━━━━━━━━━━━━━━━━┳━━━━━━━━━━━━━━━━━━━━━━━━┳━━━━━━━━━━━━━━━┓\n",
       "┃<span style=\"font-weight: bold\"> Layer (type)                    </span>┃<span style=\"font-weight: bold\"> Output Shape           </span>┃<span style=\"font-weight: bold\">       Param # </span>┃\n",
       "┡━━━━━━━━━━━━━━━━━━━━━━━━━━━━━━━━━╇━━━━━━━━━━━━━━━━━━━━━━━━╇━━━━━━━━━━━━━━━┩\n",
       "│ lstm (<span style=\"color: #0087ff; text-decoration-color: #0087ff\">LSTM</span>)                     │ (<span style=\"color: #00d7ff; text-decoration-color: #00d7ff\">None</span>, <span style=\"color: #00af00; text-decoration-color: #00af00\">50</span>)             │        <span style=\"color: #00af00; text-decoration-color: #00af00\">14,200</span> │\n",
       "├─────────────────────────────────┼────────────────────────┼───────────────┤\n",
       "│ dropout (<span style=\"color: #0087ff; text-decoration-color: #0087ff\">Dropout</span>)               │ (<span style=\"color: #00d7ff; text-decoration-color: #00d7ff\">None</span>, <span style=\"color: #00af00; text-decoration-color: #00af00\">50</span>)             │             <span style=\"color: #00af00; text-decoration-color: #00af00\">0</span> │\n",
       "├─────────────────────────────────┼────────────────────────┼───────────────┤\n",
       "│ dense (<span style=\"color: #0087ff; text-decoration-color: #0087ff\">Dense</span>)                   │ (<span style=\"color: #00d7ff; text-decoration-color: #00d7ff\">None</span>, <span style=\"color: #00af00; text-decoration-color: #00af00\">1</span>)              │            <span style=\"color: #00af00; text-decoration-color: #00af00\">51</span> │\n",
       "└─────────────────────────────────┴────────────────────────┴───────────────┘\n",
       "</pre>\n"
      ],
      "text/plain": [
       "┏━━━━━━━━━━━━━━━━━━━━━━━━━━━━━━━━━┳━━━━━━━━━━━━━━━━━━━━━━━━┳━━━━━━━━━━━━━━━┓\n",
       "┃\u001b[1m \u001b[0m\u001b[1mLayer (type)                   \u001b[0m\u001b[1m \u001b[0m┃\u001b[1m \u001b[0m\u001b[1mOutput Shape          \u001b[0m\u001b[1m \u001b[0m┃\u001b[1m \u001b[0m\u001b[1m      Param #\u001b[0m\u001b[1m \u001b[0m┃\n",
       "┡━━━━━━━━━━━━━━━━━━━━━━━━━━━━━━━━━╇━━━━━━━━━━━━━━━━━━━━━━━━╇━━━━━━━━━━━━━━━┩\n",
       "│ lstm (\u001b[38;5;33mLSTM\u001b[0m)                     │ (\u001b[38;5;45mNone\u001b[0m, \u001b[38;5;34m50\u001b[0m)             │        \u001b[38;5;34m14,200\u001b[0m │\n",
       "├─────────────────────────────────┼────────────────────────┼───────────────┤\n",
       "│ dropout (\u001b[38;5;33mDropout\u001b[0m)               │ (\u001b[38;5;45mNone\u001b[0m, \u001b[38;5;34m50\u001b[0m)             │             \u001b[38;5;34m0\u001b[0m │\n",
       "├─────────────────────────────────┼────────────────────────┼───────────────┤\n",
       "│ dense (\u001b[38;5;33mDense\u001b[0m)                   │ (\u001b[38;5;45mNone\u001b[0m, \u001b[38;5;34m1\u001b[0m)              │            \u001b[38;5;34m51\u001b[0m │\n",
       "└─────────────────────────────────┴────────────────────────┴───────────────┘\n"
      ]
     },
     "metadata": {},
     "output_type": "display_data"
    },
    {
     "data": {
      "text/html": [
       "<pre style=\"white-space:pre;overflow-x:auto;line-height:normal;font-family:Menlo,'DejaVu Sans Mono',consolas,'Courier New',monospace\"><span style=\"font-weight: bold\"> Total params: </span><span style=\"color: #00af00; text-decoration-color: #00af00\">14,251</span> (55.67 KB)\n",
       "</pre>\n"
      ],
      "text/plain": [
       "\u001b[1m Total params: \u001b[0m\u001b[38;5;34m14,251\u001b[0m (55.67 KB)\n"
      ]
     },
     "metadata": {},
     "output_type": "display_data"
    },
    {
     "data": {
      "text/html": [
       "<pre style=\"white-space:pre;overflow-x:auto;line-height:normal;font-family:Menlo,'DejaVu Sans Mono',consolas,'Courier New',monospace\"><span style=\"font-weight: bold\"> Trainable params: </span><span style=\"color: #00af00; text-decoration-color: #00af00\">14,251</span> (55.67 KB)\n",
       "</pre>\n"
      ],
      "text/plain": [
       "\u001b[1m Trainable params: \u001b[0m\u001b[38;5;34m14,251\u001b[0m (55.67 KB)\n"
      ]
     },
     "metadata": {},
     "output_type": "display_data"
    },
    {
     "data": {
      "text/html": [
       "<pre style=\"white-space:pre;overflow-x:auto;line-height:normal;font-family:Menlo,'DejaVu Sans Mono',consolas,'Courier New',monospace\"><span style=\"font-weight: bold\"> Non-trainable params: </span><span style=\"color: #00af00; text-decoration-color: #00af00\">0</span> (0.00 B)\n",
       "</pre>\n"
      ],
      "text/plain": [
       "\u001b[1m Non-trainable params: \u001b[0m\u001b[38;5;34m0\u001b[0m (0.00 B)\n"
      ]
     },
     "metadata": {},
     "output_type": "display_data"
    }
   ],
   "source": [
    "model.summary()"
   ]
  },
  {
   "cell_type": "code",
   "execution_count": 40,
   "id": "9fb39117",
   "metadata": {
    "execution": {
     "iopub.execute_input": "2024-10-13T12:41:58.820385Z",
     "iopub.status.busy": "2024-10-13T12:41:58.819596Z",
     "iopub.status.idle": "2024-10-13T12:41:58.833843Z",
     "shell.execute_reply": "2024-10-13T12:41:58.832986Z"
    },
    "id": "NE6_O7IwclkT",
    "papermill": {
     "duration": 0.032453,
     "end_time": "2024-10-13T12:41:58.835863",
     "exception": false,
     "start_time": "2024-10-13T12:41:58.803410",
     "status": "completed"
    },
    "tags": []
   },
   "outputs": [],
   "source": [
    "model.compile(loss='mean_squared_error', optimizer='adam')"
   ]
  },
  {
   "cell_type": "code",
   "execution_count": 41,
   "id": "1174589f",
   "metadata": {
    "execution": {
     "iopub.execute_input": "2024-10-13T12:41:58.868123Z",
     "iopub.status.busy": "2024-10-13T12:41:58.867143Z",
     "iopub.status.idle": "2024-10-13T12:41:58.872219Z",
     "shell.execute_reply": "2024-10-13T12:41:58.871358Z"
    },
    "id": "JLqjYZudc3Is",
    "papermill": {
     "duration": 0.02363,
     "end_time": "2024-10-13T12:41:58.874338",
     "exception": false,
     "start_time": "2024-10-13T12:41:58.850708",
     "status": "completed"
    },
    "tags": []
   },
   "outputs": [],
   "source": [
    "callbacks = (EarlyStopping(monitor='val_loss', patience=10, verbose=1, mode='min'),\n",
    "            ModelCheckpoint(filepath='mymodel.keras', monitor='val_loss', mode='min',\n",
    "            save_best_only = True, save_weights_only = False, verbose = 1))"
   ]
  },
  {
   "cell_type": "code",
   "execution_count": 42,
   "id": "0d264b02",
   "metadata": {
    "execution": {
     "iopub.execute_input": "2024-10-13T12:41:58.906040Z",
     "iopub.status.busy": "2024-10-13T12:41:58.905222Z",
     "iopub.status.idle": "2024-10-13T12:42:07.145977Z",
     "shell.execute_reply": "2024-10-13T12:42:07.144874Z"
    },
    "id": "7Pv-Fb9FdSf7",
    "papermill": {
     "duration": 8.259176,
     "end_time": "2024-10-13T12:42:07.148266",
     "exception": false,
     "start_time": "2024-10-13T12:41:58.889090",
     "status": "completed"
    },
    "tags": []
   },
   "outputs": [
    {
     "name": "stdout",
     "output_type": "stream",
     "text": [
      "Epoch 1/100\n",
      "\u001b[1m77/96\u001b[0m \u001b[32m━━━━━━━━━━━━━━━━\u001b[0m\u001b[37m━━━━\u001b[0m \u001b[1m0s\u001b[0m 2ms/step - loss: 0.0031\n",
      "Epoch 1: val_loss improved from inf to 0.00407, saving model to mymodel.keras\n",
      "\u001b[1m96/96\u001b[0m \u001b[32m━━━━━━━━━━━━━━━━━━━━\u001b[0m\u001b[37m\u001b[0m \u001b[1m2s\u001b[0m 5ms/step - loss: 0.0038 - val_loss: 0.0041\n",
      "Epoch 2/100\n",
      "\u001b[1m81/96\u001b[0m \u001b[32m━━━━━━━━━━━━━━━━\u001b[0m\u001b[37m━━━━\u001b[0m \u001b[1m0s\u001b[0m 2ms/step - loss: 0.0041\n",
      "Epoch 2: val_loss improved from 0.00407 to 0.00309, saving model to mymodel.keras\n",
      "\u001b[1m96/96\u001b[0m \u001b[32m━━━━━━━━━━━━━━━━━━━━\u001b[0m\u001b[37m\u001b[0m \u001b[1m0s\u001b[0m 3ms/step - loss: 0.0043 - val_loss: 0.0031\n",
      "Epoch 3/100\n",
      "\u001b[1m84/96\u001b[0m \u001b[32m━━━━━━━━━━━━━━━━━\u001b[0m\u001b[37m━━━\u001b[0m \u001b[1m0s\u001b[0m 2ms/step - loss: 0.0020\n",
      "Epoch 3: val_loss did not improve from 0.00309\n",
      "\u001b[1m96/96\u001b[0m \u001b[32m━━━━━━━━━━━━━━━━━━━━\u001b[0m\u001b[37m\u001b[0m \u001b[1m0s\u001b[0m 2ms/step - loss: 0.0023 - val_loss: 0.0032\n",
      "Epoch 4/100\n",
      "\u001b[1m78/96\u001b[0m \u001b[32m━━━━━━━━━━━━━━━━\u001b[0m\u001b[37m━━━━\u001b[0m \u001b[1m0s\u001b[0m 2ms/step - loss: 0.0013    \n",
      "Epoch 4: val_loss improved from 0.00309 to 0.00254, saving model to mymodel.keras\n",
      "\u001b[1m96/96\u001b[0m \u001b[32m━━━━━━━━━━━━━━━━━━━━\u001b[0m\u001b[37m\u001b[0m \u001b[1m0s\u001b[0m 3ms/step - loss: 0.0017 - val_loss: 0.0025\n",
      "Epoch 5/100\n",
      "\u001b[1m79/96\u001b[0m \u001b[32m━━━━━━━━━━━━━━━━\u001b[0m\u001b[37m━━━━\u001b[0m \u001b[1m0s\u001b[0m 2ms/step - loss: 0.0015\n",
      "Epoch 5: val_loss did not improve from 0.00254\n",
      "\u001b[1m96/96\u001b[0m \u001b[32m━━━━━━━━━━━━━━━━━━━━\u001b[0m\u001b[37m\u001b[0m \u001b[1m0s\u001b[0m 2ms/step - loss: 0.0018 - val_loss: 0.0028\n",
      "Epoch 6/100\n",
      "\u001b[1m78/96\u001b[0m \u001b[32m━━━━━━━━━━━━━━━━\u001b[0m\u001b[37m━━━━\u001b[0m \u001b[1m0s\u001b[0m 2ms/step - loss: 9.2886e-04\n",
      "Epoch 6: val_loss did not improve from 0.00254\n",
      "\u001b[1m96/96\u001b[0m \u001b[32m━━━━━━━━━━━━━━━━━━━━\u001b[0m\u001b[37m\u001b[0m \u001b[1m0s\u001b[0m 2ms/step - loss: 0.0014 - val_loss: 0.0028\n",
      "Epoch 7/100\n",
      "\u001b[1m81/96\u001b[0m \u001b[32m━━━━━━━━━━━━━━━━\u001b[0m\u001b[37m━━━━\u001b[0m \u001b[1m0s\u001b[0m 2ms/step - loss: 9.8080e-04\n",
      "Epoch 7: val_loss improved from 0.00254 to 0.00220, saving model to mymodel.keras\n",
      "\u001b[1m96/96\u001b[0m \u001b[32m━━━━━━━━━━━━━━━━━━━━\u001b[0m\u001b[37m\u001b[0m \u001b[1m0s\u001b[0m 3ms/step - loss: 0.0013 - val_loss: 0.0022\n",
      "Epoch 8/100\n",
      "\u001b[1m81/96\u001b[0m \u001b[32m━━━━━━━━━━━━━━━━\u001b[0m\u001b[37m━━━━\u001b[0m \u001b[1m0s\u001b[0m 2ms/step - loss: 9.6814e-04\n",
      "Epoch 8: val_loss did not improve from 0.00220\n",
      "\u001b[1m96/96\u001b[0m \u001b[32m━━━━━━━━━━━━━━━━━━━━\u001b[0m\u001b[37m\u001b[0m \u001b[1m0s\u001b[0m 2ms/step - loss: 0.0013 - val_loss: 0.0022\n",
      "Epoch 9/100\n",
      "\u001b[1m81/96\u001b[0m \u001b[32m━━━━━━━━━━━━━━━━\u001b[0m\u001b[37m━━━━\u001b[0m \u001b[1m0s\u001b[0m 2ms/step - loss: 0.0010    \n",
      "Epoch 9: val_loss improved from 0.00220 to 0.00214, saving model to mymodel.keras\n",
      "\u001b[1m96/96\u001b[0m \u001b[32m━━━━━━━━━━━━━━━━━━━━\u001b[0m\u001b[37m\u001b[0m \u001b[1m0s\u001b[0m 3ms/step - loss: 0.0013 - val_loss: 0.0021\n",
      "Epoch 10/100\n",
      "\u001b[1m76/96\u001b[0m \u001b[32m━━━━━━━━━━━━━━━\u001b[0m\u001b[37m━━━━━\u001b[0m \u001b[1m0s\u001b[0m 2ms/step - loss: 0.0010    \n",
      "Epoch 10: val_loss did not improve from 0.00214\n",
      "\u001b[1m96/96\u001b[0m \u001b[32m━━━━━━━━━━━━━━━━━━━━\u001b[0m\u001b[37m\u001b[0m \u001b[1m1s\u001b[0m 3ms/step - loss: 0.0014 - val_loss: 0.0022\n",
      "Epoch 11/100\n",
      "\u001b[1m78/96\u001b[0m \u001b[32m━━━━━━━━━━━━━━━━\u001b[0m\u001b[37m━━━━\u001b[0m \u001b[1m0s\u001b[0m 2ms/step - loss: 0.0012    \n",
      "Epoch 11: val_loss improved from 0.00214 to 0.00192, saving model to mymodel.keras\n",
      "\u001b[1m96/96\u001b[0m \u001b[32m━━━━━━━━━━━━━━━━━━━━\u001b[0m\u001b[37m\u001b[0m \u001b[1m0s\u001b[0m 3ms/step - loss: 0.0015 - val_loss: 0.0019\n",
      "Epoch 12/100\n",
      "\u001b[1m79/96\u001b[0m \u001b[32m━━━━━━━━━━━━━━━━\u001b[0m\u001b[37m━━━━\u001b[0m \u001b[1m0s\u001b[0m 2ms/step - loss: 0.0011    \n",
      "Epoch 12: val_loss did not improve from 0.00192\n",
      "\u001b[1m96/96\u001b[0m \u001b[32m━━━━━━━━━━━━━━━━━━━━\u001b[0m\u001b[37m\u001b[0m \u001b[1m0s\u001b[0m 2ms/step - loss: 0.0014 - val_loss: 0.0022\n",
      "Epoch 13/100\n",
      "\u001b[1m78/96\u001b[0m \u001b[32m━━━━━━━━━━━━━━━━\u001b[0m\u001b[37m━━━━\u001b[0m \u001b[1m0s\u001b[0m 2ms/step - loss: 0.0013    \n",
      "Epoch 13: val_loss improved from 0.00192 to 0.00189, saving model to mymodel.keras\n",
      "\u001b[1m96/96\u001b[0m \u001b[32m━━━━━━━━━━━━━━━━━━━━\u001b[0m\u001b[37m\u001b[0m \u001b[1m0s\u001b[0m 3ms/step - loss: 0.0016 - val_loss: 0.0019\n",
      "Epoch 14/100\n",
      "\u001b[1m79/96\u001b[0m \u001b[32m━━━━━━━━━━━━━━━━\u001b[0m\u001b[37m━━━━\u001b[0m \u001b[1m0s\u001b[0m 2ms/step - loss: 0.0012    \n",
      "Epoch 14: val_loss did not improve from 0.00189\n",
      "\u001b[1m96/96\u001b[0m \u001b[32m━━━━━━━━━━━━━━━━━━━━\u001b[0m\u001b[37m\u001b[0m \u001b[1m0s\u001b[0m 3ms/step - loss: 0.0015 - val_loss: 0.0027\n",
      "Epoch 15/100\n",
      "\u001b[1m77/96\u001b[0m \u001b[32m━━━━━━━━━━━━━━━━\u001b[0m\u001b[37m━━━━\u001b[0m \u001b[1m0s\u001b[0m 2ms/step - loss: 0.0014\n",
      "Epoch 15: val_loss did not improve from 0.00189\n",
      "\u001b[1m96/96\u001b[0m \u001b[32m━━━━━━━━━━━━━━━━━━━━\u001b[0m\u001b[37m\u001b[0m \u001b[1m0s\u001b[0m 2ms/step - loss: 0.0017 - val_loss: 0.0028\n",
      "Epoch 16/100\n",
      "\u001b[1m78/96\u001b[0m \u001b[32m━━━━━━━━━━━━━━━━\u001b[0m\u001b[37m━━━━\u001b[0m \u001b[1m0s\u001b[0m 2ms/step - loss: 0.0014\n",
      "Epoch 16: val_loss did not improve from 0.00189\n",
      "\u001b[1m96/96\u001b[0m \u001b[32m━━━━━━━━━━━━━━━━━━━━\u001b[0m\u001b[37m\u001b[0m \u001b[1m0s\u001b[0m 3ms/step - loss: 0.0017 - val_loss: 0.0024\n",
      "Epoch 17/100\n",
      "\u001b[1m79/96\u001b[0m \u001b[32m━━━━━━━━━━━━━━━━\u001b[0m\u001b[37m━━━━\u001b[0m \u001b[1m0s\u001b[0m 2ms/step - loss: 0.0012    \n",
      "Epoch 17: val_loss did not improve from 0.00189\n",
      "\u001b[1m96/96\u001b[0m \u001b[32m━━━━━━━━━━━━━━━━━━━━\u001b[0m\u001b[37m\u001b[0m \u001b[1m0s\u001b[0m 2ms/step - loss: 0.0015 - val_loss: 0.0030\n",
      "Epoch 18/100\n",
      "\u001b[1m79/96\u001b[0m \u001b[32m━━━━━━━━━━━━━━━━\u001b[0m\u001b[37m━━━━\u001b[0m \u001b[1m0s\u001b[0m 2ms/step - loss: 0.0014\n",
      "Epoch 18: val_loss did not improve from 0.00189\n",
      "\u001b[1m96/96\u001b[0m \u001b[32m━━━━━━━━━━━━━━━━━━━━\u001b[0m\u001b[37m\u001b[0m \u001b[1m0s\u001b[0m 2ms/step - loss: 0.0018 - val_loss: 0.0052\n",
      "Epoch 19/100\n",
      "\u001b[1m81/96\u001b[0m \u001b[32m━━━━━━━━━━━━━━━━\u001b[0m\u001b[37m━━━━\u001b[0m \u001b[1m0s\u001b[0m 2ms/step - loss: 0.0017\n",
      "Epoch 19: val_loss did not improve from 0.00189\n",
      "\u001b[1m96/96\u001b[0m \u001b[32m━━━━━━━━━━━━━━━━━━━━\u001b[0m\u001b[37m\u001b[0m \u001b[1m0s\u001b[0m 2ms/step - loss: 0.0020 - val_loss: 0.0074\n",
      "Epoch 20/100\n",
      "\u001b[1m78/96\u001b[0m \u001b[32m━━━━━━━━━━━━━━━━\u001b[0m\u001b[37m━━━━\u001b[0m \u001b[1m0s\u001b[0m 2ms/step - loss: 0.0017\n",
      "Epoch 20: val_loss did not improve from 0.00189\n",
      "\u001b[1m96/96\u001b[0m \u001b[32m━━━━━━━━━━━━━━━━━━━━\u001b[0m\u001b[37m\u001b[0m \u001b[1m0s\u001b[0m 2ms/step - loss: 0.0020 - val_loss: 0.0063\n",
      "Epoch 21/100\n",
      "\u001b[1m79/96\u001b[0m \u001b[32m━━━━━━━━━━━━━━━━\u001b[0m\u001b[37m━━━━\u001b[0m \u001b[1m0s\u001b[0m 2ms/step - loss: 0.0015\n",
      "Epoch 21: val_loss did not improve from 0.00189\n",
      "\u001b[1m96/96\u001b[0m \u001b[32m━━━━━━━━━━━━━━━━━━━━\u001b[0m\u001b[37m\u001b[0m \u001b[1m0s\u001b[0m 2ms/step - loss: 0.0019 - val_loss: 0.0084\n",
      "Epoch 22/100\n",
      "\u001b[1m80/96\u001b[0m \u001b[32m━━━━━━━━━━━━━━━━\u001b[0m\u001b[37m━━━━\u001b[0m \u001b[1m0s\u001b[0m 2ms/step - loss: 0.0015\n",
      "Epoch 22: val_loss did not improve from 0.00189\n",
      "\u001b[1m96/96\u001b[0m \u001b[32m━━━━━━━━━━━━━━━━━━━━\u001b[0m\u001b[37m\u001b[0m \u001b[1m0s\u001b[0m 2ms/step - loss: 0.0018 - val_loss: 0.0065\n",
      "Epoch 23/100\n",
      "\u001b[1m80/96\u001b[0m \u001b[32m━━━━━━━━━━━━━━━━\u001b[0m\u001b[37m━━━━\u001b[0m \u001b[1m0s\u001b[0m 2ms/step - loss: 0.0012    \n",
      "Epoch 23: val_loss did not improve from 0.00189\n",
      "\u001b[1m96/96\u001b[0m \u001b[32m━━━━━━━━━━━━━━━━━━━━\u001b[0m\u001b[37m\u001b[0m \u001b[1m0s\u001b[0m 2ms/step - loss: 0.0016 - val_loss: 0.0061\n",
      "Epoch 23: early stopping\n"
     ]
    }
   ],
   "source": [
    "history = model.fit(x=X_train,\n",
    "                    y=y_train,\n",
    "                    epochs=100,\n",
    "                    batch_size=20,\n",
    "                    validation_data=(X_test, y_test),\n",
    "                    callbacks=[callbacks],\n",
    "                    shuffle=False)"
   ]
  },
  {
   "cell_type": "code",
   "execution_count": 43,
   "id": "90fabb2e",
   "metadata": {
    "execution": {
     "iopub.execute_input": "2024-10-13T12:42:07.203385Z",
     "iopub.status.busy": "2024-10-13T12:42:07.203023Z",
     "iopub.status.idle": "2024-10-13T12:42:07.471205Z",
     "shell.execute_reply": "2024-10-13T12:42:07.469998Z"
    },
    "id": "VzxR8n1yeGpV",
    "papermill": {
     "duration": 0.298073,
     "end_time": "2024-10-13T12:42:07.473607",
     "exception": false,
     "start_time": "2024-10-13T12:42:07.175534",
     "status": "completed"
    },
    "tags": []
   },
   "outputs": [
    {
     "data": {
      "image/png": "[encoded data removed]",
      "text/plain": [
       "<Figure size 2000x500 with 1 Axes>"
      ]
     },
     "metadata": {},
     "output_type": "display_data"
    }
   ],
   "source": [
    "plt.figure(figsize=(20,5))\n",
    "plt.subplot(1,2,1)\n",
    "plt.plot(history.history['loss'], label='Training Loss')\n",
    "plt.plot(history.history['val_loss'], label='Validation Loss')\n",
    "plt.legend(loc='upper right')\n",
    "plt.xlabel('Epoch', fontsize = 16)\n",
    "plt.ylabel('Loss', fontsize = 16)\n",
    "plt.ylim([0,max(plt.ylim())])\n",
    "plt.title('Training and Validation Loss', fontsize = 16)\n",
    "plt.show()"
   ]
  },
  {
   "cell_type": "markdown",
   "id": "e255daae",
   "metadata": {
    "id": "XO0NGWQWerLU",
    "papermill": {
     "duration": 0.025479,
     "end_time": "2024-10-13T12:42:07.525628",
     "exception": false,
     "start_time": "2024-10-13T12:42:07.500149",
     "status": "completed"
    },
    "tags": []
   },
   "source": [
    "## Evaluation"
   ]
  },
  {
   "cell_type": "code",
   "execution_count": 44,
   "id": "67ed7ea1",
   "metadata": {
    "execution": {
     "iopub.execute_input": "2024-10-13T12:42:07.579351Z",
     "iopub.status.busy": "2024-10-13T12:42:07.578977Z",
     "iopub.status.idle": "2024-10-13T12:42:08.135970Z",
     "shell.execute_reply": "2024-10-13T12:42:08.134468Z"
    },
    "id": "hyeoNUjxetH-",
    "papermill": {
     "duration": 0.586317,
     "end_time": "2024-10-13T12:42:08.138071",
     "exception": false,
     "start_time": "2024-10-13T12:42:07.551754",
     "status": "completed"
    },
    "tags": []
   },
   "outputs": [
    {
     "name": "stdout",
     "output_type": "stream",
     "text": [
      "\u001b[1m463/463\u001b[0m \u001b[32m━━━━━━━━━━━━━━━━━━━━\u001b[0m\u001b[37m\u001b[0m \u001b[1m1s\u001b[0m 1ms/step - loss: 0.0072\n",
      "\n",
      "Test Loss: 0.6%\n"
     ]
    }
   ],
   "source": [
    "loss = model.evaluate(X_test, y_test, batch_size=1)\n",
    "print(\"\\nTest Loss: %.1f%%\" % (100.0 * loss))"
   ]
  },
  {
   "cell_type": "code",
   "execution_count": 45,
   "id": "6107b9c4",
   "metadata": {
    "execution": {
     "iopub.execute_input": "2024-10-13T12:42:08.203734Z",
     "iopub.status.busy": "2024-10-13T12:42:08.202258Z",
     "iopub.status.idle": "2024-10-13T12:42:08.647691Z",
     "shell.execute_reply": "2024-10-13T12:42:08.646654Z"
    },
    "id": "9e854j_NfFTV",
    "papermill": {
     "duration": 0.480293,
     "end_time": "2024-10-13T12:42:08.650157",
     "exception": false,
     "start_time": "2024-10-13T12:42:08.169864",
     "status": "completed"
    },
    "tags": []
   },
   "outputs": [
    {
     "name": "stdout",
     "output_type": "stream",
     "text": [
      "\u001b[1m60/60\u001b[0m \u001b[32m━━━━━━━━━━━━━━━━━━━━\u001b[0m\u001b[37m\u001b[0m \u001b[1m0s\u001b[0m 4ms/step\n"
     ]
    }
   ],
   "source": [
    "train_predict = model.predict(X_train)"
   ]
  },
  {
   "cell_type": "code",
   "execution_count": 46,
   "id": "7c85a597",
   "metadata": {
    "execution": {
     "iopub.execute_input": "2024-10-13T12:42:08.705519Z",
     "iopub.status.busy": "2024-10-13T12:42:08.705096Z",
     "iopub.status.idle": "2024-10-13T12:42:08.802420Z",
     "shell.execute_reply": "2024-10-13T12:42:08.801502Z"
    },
    "id": "GZgJuMd-fqZW",
    "papermill": {
     "duration": 0.127992,
     "end_time": "2024-10-13T12:42:08.804883",
     "exception": false,
     "start_time": "2024-10-13T12:42:08.676891",
     "status": "completed"
    },
    "tags": []
   },
   "outputs": [
    {
     "name": "stdout",
     "output_type": "stream",
     "text": [
      "\u001b[1m15/15\u001b[0m \u001b[32m━━━━━━━━━━━━━━━━━━━━\u001b[0m\u001b[37m\u001b[0m \u001b[1m0s\u001b[0m 1ms/step \n"
     ]
    }
   ],
   "source": [
    "test_predict = model.predict(X_test)"
   ]
  },
  {
   "cell_type": "code",
   "execution_count": 47,
   "id": "b0d526a0",
   "metadata": {
    "execution": {
     "iopub.execute_input": "2024-10-13T12:42:08.859728Z",
     "iopub.status.busy": "2024-10-13T12:42:08.859306Z",
     "iopub.status.idle": "2024-10-13T12:42:08.864752Z",
     "shell.execute_reply": "2024-10-13T12:42:08.863772Z"
    },
    "id": "FcH_8U3tfsGm",
    "papermill": {
     "duration": 0.03547,
     "end_time": "2024-10-13T12:42:08.866945",
     "exception": false,
     "start_time": "2024-10-13T12:42:08.831475",
     "status": "completed"
    },
    "tags": []
   },
   "outputs": [],
   "source": [
    "train_predict = scaler_train.inverse_transform(train_predict)\n",
    "test_predict = scaler_test.inverse_transform(test_predict)"
   ]
  },
  {
   "cell_type": "code",
   "execution_count": 48,
   "id": "64ca9eb4",
   "metadata": {
    "execution": {
     "iopub.execute_input": "2024-10-13T12:42:08.923421Z",
     "iopub.status.busy": "2024-10-13T12:42:08.923016Z",
     "iopub.status.idle": "2024-10-13T12:42:08.928460Z",
     "shell.execute_reply": "2024-10-13T12:42:08.927440Z"
    },
    "id": "DsGDu-NKf912",
    "papermill": {
     "duration": 0.036721,
     "end_time": "2024-10-13T12:42:08.930572",
     "exception": false,
     "start_time": "2024-10-13T12:42:08.893851",
     "status": "completed"
    },
    "tags": []
   },
   "outputs": [],
   "source": [
    "y_train = scaler_train.inverse_transform(y_train)\n",
    "y_test = scaler_test.inverse_transform(y_test)"
   ]
  },
  {
   "cell_type": "code",
   "execution_count": 49,
   "id": "b90f69f0",
   "metadata": {
    "execution": {
     "iopub.execute_input": "2024-10-13T12:42:08.985537Z",
     "iopub.status.busy": "2024-10-13T12:42:08.984498Z",
     "iopub.status.idle": "2024-10-13T12:42:08.990150Z",
     "shell.execute_reply": "2024-10-13T12:42:08.989012Z"
    },
    "id": "ZLXqwAU7gGW2",
    "papermill": {
     "duration": 0.035513,
     "end_time": "2024-10-13T12:42:08.992498",
     "exception": false,
     "start_time": "2024-10-13T12:42:08.956985",
     "status": "completed"
    },
    "tags": []
   },
   "outputs": [],
   "source": [
    "train_rmse = np.sqrt(mean_squared_error(y_train, train_predict))"
   ]
  },
  {
   "cell_type": "code",
   "execution_count": 50,
   "id": "cc086e33",
   "metadata": {
    "execution": {
     "iopub.execute_input": "2024-10-13T12:42:09.048002Z",
     "iopub.status.busy": "2024-10-13T12:42:09.047065Z",
     "iopub.status.idle": "2024-10-13T12:42:09.052592Z",
     "shell.execute_reply": "2024-10-13T12:42:09.051404Z"
    },
    "id": "76WbnJaIgJ4g",
    "papermill": {
     "duration": 0.035417,
     "end_time": "2024-10-13T12:42:09.054758",
     "exception": false,
     "start_time": "2024-10-13T12:42:09.019341",
     "status": "completed"
    },
    "tags": []
   },
   "outputs": [],
   "source": [
    "test_rmse = np.sqrt(mean_squared_error(y_test, test_predict))"
   ]
  },
  {
   "cell_type": "code",
   "execution_count": 51,
   "id": "f79e5694",
   "metadata": {
    "execution": {
     "iopub.execute_input": "2024-10-13T12:42:09.109986Z",
     "iopub.status.busy": "2024-10-13T12:42:09.109218Z",
     "iopub.status.idle": "2024-10-13T12:42:09.114763Z",
     "shell.execute_reply": "2024-10-13T12:42:09.113803Z"
    },
    "id": "WcUBQBz7gMV2",
    "papermill": {
     "duration": 0.035244,
     "end_time": "2024-10-13T12:42:09.116657",
     "exception": false,
     "start_time": "2024-10-13T12:42:09.081413",
     "status": "completed"
    },
    "tags": []
   },
   "outputs": [
    {
     "name": "stdout",
     "output_type": "stream",
     "text": [
      "Train RMSE: 27.04633140563965\n",
      "Test RMSE: 47.01075744628906\n"
     ]
    }
   ],
   "source": [
    "print(f\"Train RMSE: {train_rmse}\")\n",
    "print(f\"Test RMSE: {test_rmse}\")"
   ]
  },
  {
   "cell_type": "code",
   "execution_count": 52,
   "id": "695815a4",
   "metadata": {
    "execution": {
     "iopub.execute_input": "2024-10-13T12:42:09.174464Z",
     "iopub.status.busy": "2024-10-13T12:42:09.173233Z",
     "iopub.status.idle": "2024-10-13T12:42:09.201130Z",
     "shell.execute_reply": "2024-10-13T12:42:09.200121Z"
    },
    "id": "t_llof9mgYz_",
    "papermill": {
     "duration": 0.059985,
     "end_time": "2024-10-13T12:42:09.203234",
     "exception": false,
     "start_time": "2024-10-13T12:42:09.143249",
     "status": "completed"
    },
    "tags": []
   },
   "outputs": [
    {
     "data": {
      "text/html": [
       "<div>\n",
       "<style scoped>\n",
       "    .dataframe tbody tr th:only-of-type {\n",
       "        vertical-align: middle;\n",
       "    }\n",
       "\n",
       "    .dataframe tbody tr th {\n",
       "        vertical-align: top;\n",
       "    }\n",
       "\n",
       "    .dataframe thead th {\n",
       "        text-align: right;\n",
       "    }\n",
       "</style>\n",
       "<table border=\"1\" class=\"dataframe\">\n",
       "  <thead>\n",
       "    <tr style=\"text-align: right;\">\n",
       "      <th></th>\n",
       "      <th>count</th>\n",
       "      <th>mean</th>\n",
       "      <th>min</th>\n",
       "      <th>25%</th>\n",
       "      <th>50%</th>\n",
       "      <th>75%</th>\n",
       "      <th>max</th>\n",
       "      <th>std</th>\n",
       "    </tr>\n",
       "  </thead>\n",
       "  <tbody>\n",
       "    <tr>\n",
       "      <th>Date</th>\n",
       "      <td>2416</td>\n",
       "      <td>2015-04-15 11:09:56.026490112</td>\n",
       "      <td>2010-06-29 00:00:00</td>\n",
       "      <td>2012-11-19 18:00:00</td>\n",
       "      <td>2015-04-16 12:00:00</td>\n",
       "      <td>2017-09-07 06:00:00</td>\n",
       "      <td>2020-02-03 00:00:00</td>\n",
       "      <td>NaN</td>\n",
       "    </tr>\n",
       "    <tr>\n",
       "      <th>Open</th>\n",
       "      <td>2416.0</td>\n",
       "      <td>186.271147</td>\n",
       "      <td>16.139999</td>\n",
       "      <td>34.342498</td>\n",
       "      <td>213.035004</td>\n",
       "      <td>266.450012</td>\n",
       "      <td>673.690002</td>\n",
       "      <td>118.740163</td>\n",
       "    </tr>\n",
       "    <tr>\n",
       "      <th>High</th>\n",
       "      <td>2416.0</td>\n",
       "      <td>189.578224</td>\n",
       "      <td>16.629999</td>\n",
       "      <td>34.897501</td>\n",
       "      <td>216.745002</td>\n",
       "      <td>270.927513</td>\n",
       "      <td>786.140015</td>\n",
       "      <td>120.892329</td>\n",
       "    </tr>\n",
       "    <tr>\n",
       "      <th>Low</th>\n",
       "      <td>2416.0</td>\n",
       "      <td>182.916639</td>\n",
       "      <td>14.98</td>\n",
       "      <td>33.587501</td>\n",
       "      <td>208.870002</td>\n",
       "      <td>262.102501</td>\n",
       "      <td>673.52002</td>\n",
       "      <td>116.857591</td>\n",
       "    </tr>\n",
       "    <tr>\n",
       "      <th>Close</th>\n",
       "      <td>2416.0</td>\n",
       "      <td>186.403651</td>\n",
       "      <td>15.8</td>\n",
       "      <td>34.400002</td>\n",
       "      <td>212.960007</td>\n",
       "      <td>266.774994</td>\n",
       "      <td>780.0</td>\n",
       "      <td>119.13602</td>\n",
       "    </tr>\n",
       "    <tr>\n",
       "      <th>Adj Close</th>\n",
       "      <td>2416.0</td>\n",
       "      <td>186.403651</td>\n",
       "      <td>15.8</td>\n",
       "      <td>34.400002</td>\n",
       "      <td>212.960007</td>\n",
       "      <td>266.774994</td>\n",
       "      <td>780.0</td>\n",
       "      <td>119.13602</td>\n",
       "    </tr>\n",
       "    <tr>\n",
       "      <th>Volume</th>\n",
       "      <td>2416.0</td>\n",
       "      <td>5572721.688742</td>\n",
       "      <td>118500.0</td>\n",
       "      <td>1899275.0</td>\n",
       "      <td>4578400.0</td>\n",
       "      <td>7361150.0</td>\n",
       "      <td>47065000.0</td>\n",
       "      <td>4987809.151888</td>\n",
       "    </tr>\n",
       "  </tbody>\n",
       "</table>\n",
       "</div>"
      ],
      "text/plain": [
       "            count                           mean                  min  \\\n",
       "Date         2416  2015-04-15 11:09:56.026490112  2010-06-29 00:00:00   \n",
       "Open       2416.0                     186.271147            16.139999   \n",
       "High       2416.0                     189.578224            16.629999   \n",
       "Low        2416.0                     182.916639                14.98   \n",
       "Close      2416.0                     186.403651                 15.8   \n",
       "Adj Close  2416.0                     186.403651                 15.8   \n",
       "Volume     2416.0                 5572721.688742             118500.0   \n",
       "\n",
       "                           25%                  50%                  75%  \\\n",
       "Date       2012-11-19 18:00:00  2015-04-16 12:00:00  2017-09-07 06:00:00   \n",
       "Open                 34.342498           213.035004           266.450012   \n",
       "High                 34.897501           216.745002           270.927513   \n",
       "Low                  33.587501           208.870002           262.102501   \n",
       "Close                34.400002           212.960007           266.774994   \n",
       "Adj Close            34.400002           212.960007           266.774994   \n",
       "Volume               1899275.0            4578400.0            7361150.0   \n",
       "\n",
       "                           max             std  \n",
       "Date       2020-02-03 00:00:00             NaN  \n",
       "Open                673.690002      118.740163  \n",
       "High                786.140015      120.892329  \n",
       "Low                  673.52002      116.857591  \n",
       "Close                    780.0       119.13602  \n",
       "Adj Close                780.0       119.13602  \n",
       "Volume              47065000.0  4987809.151888  "
      ]
     },
     "execution_count": 52,
     "metadata": {},
     "output_type": "execute_result"
    }
   ],
   "source": [
    "df.describe().T"
   ]
  },
  {
   "cell_type": "code",
   "execution_count": 53,
   "id": "b9efff55",
   "metadata": {
    "execution": {
     "iopub.execute_input": "2024-10-13T12:42:09.258702Z",
     "iopub.status.busy": "2024-10-13T12:42:09.258276Z",
     "iopub.status.idle": "2024-10-13T12:42:09.271040Z",
     "shell.execute_reply": "2024-10-13T12:42:09.269972Z"
    },
    "id": "-PSGVpMzgz1O",
    "papermill": {
     "duration": 0.043219,
     "end_time": "2024-10-13T12:42:09.273048",
     "exception": false,
     "start_time": "2024-10-13T12:42:09.229829",
     "status": "completed"
    },
    "tags": []
   },
   "outputs": [
    {
     "data": {
      "text/html": [
       "<div>\n",
       "<style scoped>\n",
       "    .dataframe tbody tr th:only-of-type {\n",
       "        vertical-align: middle;\n",
       "    }\n",
       "\n",
       "    .dataframe tbody tr th {\n",
       "        vertical-align: top;\n",
       "    }\n",
       "\n",
       "    .dataframe thead th {\n",
       "        text-align: right;\n",
       "    }\n",
       "</style>\n",
       "<table border=\"1\" class=\"dataframe\">\n",
       "  <thead>\n",
       "    <tr style=\"text-align: right;\">\n",
       "      <th></th>\n",
       "      <th>Close</th>\n",
       "      <th>Predicted</th>\n",
       "    </tr>\n",
       "    <tr>\n",
       "      <th>Date</th>\n",
       "      <th></th>\n",
       "      <th></th>\n",
       "    </tr>\n",
       "  </thead>\n",
       "  <tbody>\n",
       "    <tr>\n",
       "      <th>2010-07-28</th>\n",
       "      <td>20.719999</td>\n",
       "      <td>35.162258</td>\n",
       "    </tr>\n",
       "    <tr>\n",
       "      <th>2010-07-29</th>\n",
       "      <td>20.350000</td>\n",
       "      <td>35.162258</td>\n",
       "    </tr>\n",
       "    <tr>\n",
       "      <th>2010-07-30</th>\n",
       "      <td>19.940001</td>\n",
       "      <td>35.162258</td>\n",
       "    </tr>\n",
       "    <tr>\n",
       "      <th>2010-08-02</th>\n",
       "      <td>20.920000</td>\n",
       "      <td>35.162258</td>\n",
       "    </tr>\n",
       "    <tr>\n",
       "      <th>2010-08-03</th>\n",
       "      <td>21.950001</td>\n",
       "      <td>35.162258</td>\n",
       "    </tr>\n",
       "  </tbody>\n",
       "</table>\n",
       "</div>"
      ],
      "text/plain": [
       "                Close  Predicted\n",
       "Date                            \n",
       "2010-07-28  20.719999  35.162258\n",
       "2010-07-29  20.350000  35.162258\n",
       "2010-07-30  19.940001  35.162258\n",
       "2010-08-02  20.920000  35.162258\n",
       "2010-08-03  21.950001  35.162258"
      ]
     },
     "execution_count": 53,
     "metadata": {},
     "output_type": "execute_result"
    }
   ],
   "source": [
    "train_prediction_df = result_df[lookback:position]\n",
    "train_prediction_df[\"Predicted\"] = train_predict\n",
    "train_prediction_df.head()"
   ]
  },
  {
   "cell_type": "code",
   "execution_count": 54,
   "id": "d677ecc5",
   "metadata": {
    "execution": {
     "iopub.execute_input": "2024-10-13T12:42:09.328824Z",
     "iopub.status.busy": "2024-10-13T12:42:09.327947Z",
     "iopub.status.idle": "2024-10-13T12:42:09.339505Z",
     "shell.execute_reply": "2024-10-13T12:42:09.338479Z"
    },
    "id": "o7tRAXwOhMSA",
    "papermill": {
     "duration": 0.042092,
     "end_time": "2024-10-13T12:42:09.341878",
     "exception": false,
     "start_time": "2024-10-13T12:42:09.299786",
     "status": "completed"
    },
    "tags": []
   },
   "outputs": [
    {
     "data": {
      "text/html": [
       "<div>\n",
       "<style scoped>\n",
       "    .dataframe tbody tr th:only-of-type {\n",
       "        vertical-align: middle;\n",
       "    }\n",
       "\n",
       "    .dataframe tbody tr th {\n",
       "        vertical-align: top;\n",
       "    }\n",
       "\n",
       "    .dataframe thead th {\n",
       "        text-align: right;\n",
       "    }\n",
       "</style>\n",
       "<table border=\"1\" class=\"dataframe\">\n",
       "  <thead>\n",
       "    <tr style=\"text-align: right;\">\n",
       "      <th></th>\n",
       "      <th>Close</th>\n",
       "      <th>Predicted</th>\n",
       "    </tr>\n",
       "    <tr>\n",
       "      <th>Date</th>\n",
       "      <th></th>\n",
       "      <th></th>\n",
       "    </tr>\n",
       "  </thead>\n",
       "  <tbody>\n",
       "    <tr>\n",
       "      <th>2018-04-03</th>\n",
       "      <td>267.529999</td>\n",
       "      <td>336.137360</td>\n",
       "    </tr>\n",
       "    <tr>\n",
       "      <th>2018-04-04</th>\n",
       "      <td>286.940002</td>\n",
       "      <td>331.852509</td>\n",
       "    </tr>\n",
       "    <tr>\n",
       "      <th>2018-04-05</th>\n",
       "      <td>305.720001</td>\n",
       "      <td>333.115448</td>\n",
       "    </tr>\n",
       "    <tr>\n",
       "      <th>2018-04-06</th>\n",
       "      <td>299.299988</td>\n",
       "      <td>337.873627</td>\n",
       "    </tr>\n",
       "    <tr>\n",
       "      <th>2018-04-09</th>\n",
       "      <td>289.660004</td>\n",
       "      <td>340.752991</td>\n",
       "    </tr>\n",
       "  </tbody>\n",
       "</table>\n",
       "</div>"
      ],
      "text/plain": [
       "                 Close   Predicted\n",
       "Date                              \n",
       "2018-04-03  267.529999  336.137360\n",
       "2018-04-04  286.940002  331.852509\n",
       "2018-04-05  305.720001  333.115448\n",
       "2018-04-06  299.299988  337.873627\n",
       "2018-04-09  289.660004  340.752991"
      ]
     },
     "execution_count": 54,
     "metadata": {},
     "output_type": "execute_result"
    }
   ],
   "source": [
    "test_prediction_df = result_df[position+lookback:]\n",
    "test_prediction_df[\"Predicted\"] = test_predict\n",
    "test_prediction_df.head()"
   ]
  },
  {
   "cell_type": "code",
   "execution_count": 55,
   "id": "2681be82",
   "metadata": {
    "execution": {
     "iopub.execute_input": "2024-10-13T12:42:09.399345Z",
     "iopub.status.busy": "2024-10-13T12:42:09.398301Z",
     "iopub.status.idle": "2024-10-13T12:42:09.789982Z",
     "shell.execute_reply": "2024-10-13T12:42:09.788938Z"
    },
    "id": "PJ_-znSchYO_",
    "papermill": {
     "duration": 0.422157,
     "end_time": "2024-10-13T12:42:09.791887",
     "exception": false,
     "start_time": "2024-10-13T12:42:09.369730",
     "status": "completed"
    },
    "tags": []
   },
   "outputs": [
    {
     "data": {
      "image/png": "[encoded data removed]",
      "text/plain": [
       "<Figure size 1400x500 with 1 Axes>"
      ]
     },
     "metadata": {},
     "output_type": "display_data"
    }
   ],
   "source": [
    "plt.figure(figsize=(14,5))\n",
    "plt.plot(result_df, label = \"Real Number of Passengers\")\n",
    "plt.plot(train_prediction_df[\"Predicted\"], color = 'blue', label = \"Train Predicted Number of Passengers\")\n",
    "plt.plot(test_prediction_df[\"Predicted\"],color = 'red', label = \"Test Predicted Number of Passengers\")\n",
    "plt.title(\"Number of Passengers Prediction\")\n",
    "plt.xlabel(\"Time\")\n",
    "plt.ylabel(\"Number of Passengers\")\n",
    "plt.legend()\n",
    "plt.show()"
   ]
  }
 ],
 "metadata": {
  "colab": {
   "provenance": []
  },
  "kaggle": {
   "accelerator": "none",
   "dataSources": [
    {
     "datasetId": 500872,
     "sourceId": 927894,
     "sourceType": "datasetVersion"
    }
   ],
   "dockerImageVersionId": 30761,
   "isGpuEnabled": false,
   "isInternetEnabled": true,
   "language": "python",
   "sourceType": "notebook"
  },
  "kernelspec": {
   "display_name": "Python 3",
   "language": "python",
   "name": "python3"
  },
  "language_info": {
   "codemirror_mode": {
    "name": "ipython",
    "version": 3
   },
   "file_extension": ".py",
   "mimetype": "text/x-python",
   "name": "python",
   "nbconvert_exporter": "python",
   "pygments_lexer": "ipython3",
   "version": "3.10.14"
  },
  "papermill": {
   "default_parameters": {},
   "duration": 32.434392,
   "end_time": "2024-10-13T12:42:12.501275",
   "environment_variables": {},
   "exception": null,
   "input_path": "__notebook__.ipynb",
   "output_path": "__notebook__.ipynb",
   "parameters": {},
   "start_time": "2024-10-13T12:41:40.066883",
   "version": "2.6.0"
  }
 },
 "nbformat": 4,
 "nbformat_minor": 5
}
