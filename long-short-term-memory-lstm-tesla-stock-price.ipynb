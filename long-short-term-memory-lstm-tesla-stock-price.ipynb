{
 "cells": [
  {
   "cell_type": "markdown",
   "id": "e95a9ade",
   "metadata": {
    "id": "4unSJJjsT8BM",
    "papermill": {
     "duration": 0.011431,
     "end_time": "2024-12-28T07:13:57.046613",
     "exception": false,
     "start_time": "2024-12-28T07:13:57.035182",
     "status": "completed"
    },
    "tags": []
   },
   "source": [
    "# Tesla - Stock Price Prediction\n",
    "\n",
    "---\n",
    "\n"
   ]
  },
  {
   "cell_type": "markdown",
   "id": "d0d5fb73",
   "metadata": {
    "id": "wkRLJL2XUAfT",
    "papermill": {
     "duration": 0.010282,
     "end_time": "2024-12-28T07:13:57.067386",
     "exception": false,
     "start_time": "2024-12-28T07:13:57.057104",
     "status": "completed"
    },
    "tags": []
   },
   "source": [
    "## Business Problem\n",
    "\n",
    "In this notebook, our purpose is to predict of tesla - stock price."
   ]
  },
  {
   "cell_type": "markdown",
   "id": "9cdaf7be",
   "metadata": {
    "id": "0uxjphZsUwjz",
    "papermill": {
     "duration": 0.010036,
     "end_time": "2024-12-28T07:13:57.087759",
     "exception": false,
     "start_time": "2024-12-28T07:13:57.077723",
     "status": "completed"
    },
    "tags": []
   },
   "source": [
    "## Data Understanding"
   ]
  },
  {
   "cell_type": "code",
   "execution_count": 1,
   "id": "45fed974",
   "metadata": {
    "execution": {
     "iopub.execute_input": "2024-12-28T07:13:57.110228Z",
     "iopub.status.busy": "2024-12-28T07:13:57.109421Z",
     "iopub.status.idle": "2024-12-28T07:14:14.751969Z",
     "shell.execute_reply": "2024-12-28T07:14:14.750886Z"
    },
    "id": "40IR65rQUyWC",
    "outputId": "4562368d-970e-4fd6-b03e-be036efe4dcd",
    "papermill": {
     "duration": 17.65638,
     "end_time": "2024-12-28T07:14:14.754292",
     "exception": false,
     "start_time": "2024-12-28T07:13:57.097912",
     "status": "completed"
    },
    "tags": []
   },
   "outputs": [],
   "source": [
    "import numpy as np\n",
    "import pandas as pd\n",
    "import datetime as dt\n",
    "import tensorflow as tf\n",
    "import matplotlib.pyplot as plt\n",
    "\n",
    "from sklearn.preprocessing import MinMaxScaler\n",
    "from sklearn.metrics import mean_squared_error\n",
    "\n",
    "from tensorflow.keras.models import Sequential\n",
    "from tensorflow.keras.layers import Dense, LSTM, Dropout\n",
    "from tensorflow.keras.callbacks import ModelCheckpoint, EarlyStopping\n",
    "\n",
    "import warnings\n",
    "warnings.filterwarnings('ignore')\n",
    "\n",
    "import os\n",
    "os.environ['TF_CPP_MIN_LOG_LEVEL'] = '3'\n",
    "tf.compat.v1.logging.set_verbosity(tf.compat.v1.logging.ERROR)"
   ]
  },
  {
   "cell_type": "code",
   "execution_count": 2,
   "id": "1b8b8f5b",
   "metadata": {
    "execution": {
     "iopub.execute_input": "2024-12-28T07:14:14.777219Z",
     "iopub.status.busy": "2024-12-28T07:14:14.776301Z",
     "iopub.status.idle": "2024-12-28T07:14:14.850906Z",
     "shell.execute_reply": "2024-12-28T07:14:14.849910Z"
    },
    "id": "-be5_efvVpTV",
    "papermill": {
     "duration": 0.088023,
     "end_time": "2024-12-28T07:14:14.852900",
     "exception": false,
     "start_time": "2024-12-28T07:14:14.764877",
     "status": "completed"
    },
    "tags": []
   },
   "outputs": [
    {
     "data": {
      "text/html": [
       "<div>\n",
       "<style scoped>\n",
       "    .dataframe tbody tr th:only-of-type {\n",
       "        vertical-align: middle;\n",
       "    }\n",
       "\n",
       "    .dataframe tbody tr th {\n",
       "        vertical-align: top;\n",
       "    }\n",
       "\n",
       "    .dataframe thead th {\n",
       "        text-align: right;\n",
       "    }\n",
       "</style>\n",
       "<table border=\"1\" class=\"dataframe\">\n",
       "  <thead>\n",
       "    <tr style=\"text-align: right;\">\n",
       "      <th></th>\n",
       "      <th>Date</th>\n",
       "      <th>Open</th>\n",
       "      <th>High</th>\n",
       "      <th>Low</th>\n",
       "      <th>Close</th>\n",
       "      <th>Adj Close</th>\n",
       "      <th>Volume</th>\n",
       "    </tr>\n",
       "  </thead>\n",
       "  <tbody>\n",
       "    <tr>\n",
       "      <th>0</th>\n",
       "      <td>2010-06-29</td>\n",
       "      <td>19.000000</td>\n",
       "      <td>25.000000</td>\n",
       "      <td>17.540001</td>\n",
       "      <td>23.889999</td>\n",
       "      <td>23.889999</td>\n",
       "      <td>18766300</td>\n",
       "    </tr>\n",
       "    <tr>\n",
       "      <th>1</th>\n",
       "      <td>2010-06-30</td>\n",
       "      <td>25.790001</td>\n",
       "      <td>30.420000</td>\n",
       "      <td>23.299999</td>\n",
       "      <td>23.830000</td>\n",
       "      <td>23.830000</td>\n",
       "      <td>17187100</td>\n",
       "    </tr>\n",
       "    <tr>\n",
       "      <th>2</th>\n",
       "      <td>2010-07-01</td>\n",
       "      <td>25.000000</td>\n",
       "      <td>25.920000</td>\n",
       "      <td>20.270000</td>\n",
       "      <td>21.959999</td>\n",
       "      <td>21.959999</td>\n",
       "      <td>8218800</td>\n",
       "    </tr>\n",
       "    <tr>\n",
       "      <th>3</th>\n",
       "      <td>2010-07-02</td>\n",
       "      <td>23.000000</td>\n",
       "      <td>23.100000</td>\n",
       "      <td>18.709999</td>\n",
       "      <td>19.200001</td>\n",
       "      <td>19.200001</td>\n",
       "      <td>5139800</td>\n",
       "    </tr>\n",
       "    <tr>\n",
       "      <th>4</th>\n",
       "      <td>2010-07-06</td>\n",
       "      <td>20.000000</td>\n",
       "      <td>20.000000</td>\n",
       "      <td>15.830000</td>\n",
       "      <td>16.110001</td>\n",
       "      <td>16.110001</td>\n",
       "      <td>6866900</td>\n",
       "    </tr>\n",
       "    <tr>\n",
       "      <th>...</th>\n",
       "      <td>...</td>\n",
       "      <td>...</td>\n",
       "      <td>...</td>\n",
       "      <td>...</td>\n",
       "      <td>...</td>\n",
       "      <td>...</td>\n",
       "      <td>...</td>\n",
       "    </tr>\n",
       "    <tr>\n",
       "      <th>2411</th>\n",
       "      <td>2020-01-28</td>\n",
       "      <td>568.489990</td>\n",
       "      <td>576.809998</td>\n",
       "      <td>558.080017</td>\n",
       "      <td>566.900024</td>\n",
       "      <td>566.900024</td>\n",
       "      <td>11788500</td>\n",
       "    </tr>\n",
       "    <tr>\n",
       "      <th>2412</th>\n",
       "      <td>2020-01-29</td>\n",
       "      <td>575.690002</td>\n",
       "      <td>589.799988</td>\n",
       "      <td>567.429993</td>\n",
       "      <td>580.989990</td>\n",
       "      <td>580.989990</td>\n",
       "      <td>17801500</td>\n",
       "    </tr>\n",
       "    <tr>\n",
       "      <th>2413</th>\n",
       "      <td>2020-01-30</td>\n",
       "      <td>632.419983</td>\n",
       "      <td>650.880005</td>\n",
       "      <td>618.000000</td>\n",
       "      <td>640.809998</td>\n",
       "      <td>640.809998</td>\n",
       "      <td>29005700</td>\n",
       "    </tr>\n",
       "    <tr>\n",
       "      <th>2414</th>\n",
       "      <td>2020-01-31</td>\n",
       "      <td>640.000000</td>\n",
       "      <td>653.000000</td>\n",
       "      <td>632.520020</td>\n",
       "      <td>650.570007</td>\n",
       "      <td>650.570007</td>\n",
       "      <td>15719300</td>\n",
       "    </tr>\n",
       "    <tr>\n",
       "      <th>2415</th>\n",
       "      <td>2020-02-03</td>\n",
       "      <td>673.690002</td>\n",
       "      <td>786.140015</td>\n",
       "      <td>673.520020</td>\n",
       "      <td>780.000000</td>\n",
       "      <td>780.000000</td>\n",
       "      <td>47065000</td>\n",
       "    </tr>\n",
       "  </tbody>\n",
       "</table>\n",
       "<p>2416 rows × 7 columns</p>\n",
       "</div>"
      ],
      "text/plain": [
       "            Date        Open        High         Low       Close   Adj Close  \\\n",
       "0     2010-06-29   19.000000   25.000000   17.540001   23.889999   23.889999   \n",
       "1     2010-06-30   25.790001   30.420000   23.299999   23.830000   23.830000   \n",
       "2     2010-07-01   25.000000   25.920000   20.270000   21.959999   21.959999   \n",
       "3     2010-07-02   23.000000   23.100000   18.709999   19.200001   19.200001   \n",
       "4     2010-07-06   20.000000   20.000000   15.830000   16.110001   16.110001   \n",
       "...          ...         ...         ...         ...         ...         ...   \n",
       "2411  2020-01-28  568.489990  576.809998  558.080017  566.900024  566.900024   \n",
       "2412  2020-01-29  575.690002  589.799988  567.429993  580.989990  580.989990   \n",
       "2413  2020-01-30  632.419983  650.880005  618.000000  640.809998  640.809998   \n",
       "2414  2020-01-31  640.000000  653.000000  632.520020  650.570007  650.570007   \n",
       "2415  2020-02-03  673.690002  786.140015  673.520020  780.000000  780.000000   \n",
       "\n",
       "        Volume  \n",
       "0     18766300  \n",
       "1     17187100  \n",
       "2      8218800  \n",
       "3      5139800  \n",
       "4      6866900  \n",
       "...        ...  \n",
       "2411  11788500  \n",
       "2412  17801500  \n",
       "2413  29005700  \n",
       "2414  15719300  \n",
       "2415  47065000  \n",
       "\n",
       "[2416 rows x 7 columns]"
      ]
     },
     "execution_count": 2,
     "metadata": {},
     "output_type": "execute_result"
    }
   ],
   "source": [
    "df = pd.read_csv('/kaggle/input/tesla-stock-data-from-2010-to-2020/TSLA.csv')\n",
    "df"
   ]
  },
  {
   "cell_type": "code",
   "execution_count": 3,
   "id": "79a86a29",
   "metadata": {
    "execution": {
     "iopub.execute_input": "2024-12-28T07:14:14.875664Z",
     "iopub.status.busy": "2024-12-28T07:14:14.875269Z",
     "iopub.status.idle": "2024-12-28T07:14:14.887240Z",
     "shell.execute_reply": "2024-12-28T07:14:14.886304Z"
    },
    "id": "lG_AO3mdVv17",
    "papermill": {
     "duration": 0.025528,
     "end_time": "2024-12-28T07:14:14.889288",
     "exception": false,
     "start_time": "2024-12-28T07:14:14.863760",
     "status": "completed"
    },
    "tags": []
   },
   "outputs": [
    {
     "data": {
      "text/html": [
       "<div>\n",
       "<style scoped>\n",
       "    .dataframe tbody tr th:only-of-type {\n",
       "        vertical-align: middle;\n",
       "    }\n",
       "\n",
       "    .dataframe tbody tr th {\n",
       "        vertical-align: top;\n",
       "    }\n",
       "\n",
       "    .dataframe thead th {\n",
       "        text-align: right;\n",
       "    }\n",
       "</style>\n",
       "<table border=\"1\" class=\"dataframe\">\n",
       "  <thead>\n",
       "    <tr style=\"text-align: right;\">\n",
       "      <th></th>\n",
       "      <th>Date</th>\n",
       "      <th>Open</th>\n",
       "      <th>High</th>\n",
       "      <th>Low</th>\n",
       "      <th>Close</th>\n",
       "      <th>Adj Close</th>\n",
       "      <th>Volume</th>\n",
       "    </tr>\n",
       "  </thead>\n",
       "  <tbody>\n",
       "    <tr>\n",
       "      <th>0</th>\n",
       "      <td>2010-06-29</td>\n",
       "      <td>19.000000</td>\n",
       "      <td>25.00</td>\n",
       "      <td>17.540001</td>\n",
       "      <td>23.889999</td>\n",
       "      <td>23.889999</td>\n",
       "      <td>18766300</td>\n",
       "    </tr>\n",
       "    <tr>\n",
       "      <th>1</th>\n",
       "      <td>2010-06-30</td>\n",
       "      <td>25.790001</td>\n",
       "      <td>30.42</td>\n",
       "      <td>23.299999</td>\n",
       "      <td>23.830000</td>\n",
       "      <td>23.830000</td>\n",
       "      <td>17187100</td>\n",
       "    </tr>\n",
       "    <tr>\n",
       "      <th>2</th>\n",
       "      <td>2010-07-01</td>\n",
       "      <td>25.000000</td>\n",
       "      <td>25.92</td>\n",
       "      <td>20.270000</td>\n",
       "      <td>21.959999</td>\n",
       "      <td>21.959999</td>\n",
       "      <td>8218800</td>\n",
       "    </tr>\n",
       "    <tr>\n",
       "      <th>3</th>\n",
       "      <td>2010-07-02</td>\n",
       "      <td>23.000000</td>\n",
       "      <td>23.10</td>\n",
       "      <td>18.709999</td>\n",
       "      <td>19.200001</td>\n",
       "      <td>19.200001</td>\n",
       "      <td>5139800</td>\n",
       "    </tr>\n",
       "    <tr>\n",
       "      <th>4</th>\n",
       "      <td>2010-07-06</td>\n",
       "      <td>20.000000</td>\n",
       "      <td>20.00</td>\n",
       "      <td>15.830000</td>\n",
       "      <td>16.110001</td>\n",
       "      <td>16.110001</td>\n",
       "      <td>6866900</td>\n",
       "    </tr>\n",
       "  </tbody>\n",
       "</table>\n",
       "</div>"
      ],
      "text/plain": [
       "         Date       Open   High        Low      Close  Adj Close    Volume\n",
       "0  2010-06-29  19.000000  25.00  17.540001  23.889999  23.889999  18766300\n",
       "1  2010-06-30  25.790001  30.42  23.299999  23.830000  23.830000  17187100\n",
       "2  2010-07-01  25.000000  25.92  20.270000  21.959999  21.959999   8218800\n",
       "3  2010-07-02  23.000000  23.10  18.709999  19.200001  19.200001   5139800\n",
       "4  2010-07-06  20.000000  20.00  15.830000  16.110001  16.110001   6866900"
      ]
     },
     "execution_count": 3,
     "metadata": {},
     "output_type": "execute_result"
    }
   ],
   "source": [
    "df.head()"
   ]
  },
  {
   "cell_type": "code",
   "execution_count": 4,
   "id": "54f1c497",
   "metadata": {
    "execution": {
     "iopub.execute_input": "2024-12-28T07:14:14.912526Z",
     "iopub.status.busy": "2024-12-28T07:14:14.912177Z",
     "iopub.status.idle": "2024-12-28T07:14:14.918297Z",
     "shell.execute_reply": "2024-12-28T07:14:14.917300Z"
    },
    "id": "TU5hlfyvVxY0",
    "papermill": {
     "duration": 0.020175,
     "end_time": "2024-12-28T07:14:14.920245",
     "exception": false,
     "start_time": "2024-12-28T07:14:14.900070",
     "status": "completed"
    },
    "tags": []
   },
   "outputs": [],
   "source": [
    "def check_df(dataframe, head=5):\n",
    "    print(\"##################### Shape #####################\")\n",
    "    print(dataframe.shape)\n",
    "    print(\"##################### Types #####################\")\n",
    "    print(dataframe.dtypes)\n",
    "    print(\"##################### Head #####################\")\n",
    "    print(dataframe.head(head))  # Fonksiyon çağrısına dikkat edin\n",
    "    print(\"##################### Tail #####################\")\n",
    "    print(dataframe.tail(head))\n",
    "    print(\"##################### NA #####################\")\n",
    "    print(dataframe.isnull().sum())\n",
    "    print(\"##################### Quantile #####################\")\n",
    "    print(dataframe.select_dtypes(include='number').quantile([0, 0.05, 0.5, 0.95, 0.99, 1]).T)\n"
   ]
  },
  {
   "cell_type": "code",
   "execution_count": 5,
   "id": "75182e48",
   "metadata": {
    "execution": {
     "iopub.execute_input": "2024-12-28T07:14:14.943500Z",
     "iopub.status.busy": "2024-12-28T07:14:14.942827Z",
     "iopub.status.idle": "2024-12-28T07:14:14.963725Z",
     "shell.execute_reply": "2024-12-28T07:14:14.962779Z"
    },
    "id": "t6iFP965V4vk",
    "papermill": {
     "duration": 0.035362,
     "end_time": "2024-12-28T07:14:14.966434",
     "exception": false,
     "start_time": "2024-12-28T07:14:14.931072",
     "status": "completed"
    },
    "tags": []
   },
   "outputs": [
    {
     "name": "stdout",
     "output_type": "stream",
     "text": [
      "##################### Shape #####################\n",
      "(2416, 7)\n",
      "##################### Types #####################\n",
      "Date          object\n",
      "Open         float64\n",
      "High         float64\n",
      "Low          float64\n",
      "Close        float64\n",
      "Adj Close    float64\n",
      "Volume         int64\n",
      "dtype: object\n",
      "##################### Head #####################\n",
      "         Date       Open   High        Low      Close  Adj Close    Volume\n",
      "0  2010-06-29  19.000000  25.00  17.540001  23.889999  23.889999  18766300\n",
      "1  2010-06-30  25.790001  30.42  23.299999  23.830000  23.830000  17187100\n",
      "2  2010-07-01  25.000000  25.92  20.270000  21.959999  21.959999   8218800\n",
      "3  2010-07-02  23.000000  23.10  18.709999  19.200001  19.200001   5139800\n",
      "4  2010-07-06  20.000000  20.00  15.830000  16.110001  16.110001   6866900\n",
      "##################### Tail #####################\n",
      "            Date        Open        High         Low       Close   Adj Close  \\\n",
      "2411  2020-01-28  568.489990  576.809998  558.080017  566.900024  566.900024   \n",
      "2412  2020-01-29  575.690002  589.799988  567.429993  580.989990  580.989990   \n",
      "2413  2020-01-30  632.419983  650.880005  618.000000  640.809998  640.809998   \n",
      "2414  2020-01-31  640.000000  653.000000  632.520020  650.570007  650.570007   \n",
      "2415  2020-02-03  673.690002  786.140015  673.520020  780.000000  780.000000   \n",
      "\n",
      "        Volume  \n",
      "2411  11788500  \n",
      "2412  17801500  \n",
      "2413  29005700  \n",
      "2414  15719300  \n",
      "2415  47065000  \n",
      "##################### NA #####################\n",
      "Date         0\n",
      "Open         0\n",
      "High         0\n",
      "Low          0\n",
      "Close        0\n",
      "Adj Close    0\n",
      "Volume       0\n",
      "dtype: int64\n",
      "##################### Quantile #####################\n",
      "                    0.00           0.05          0.50          0.95  \\\n",
      "Open           16.139999      23.384999  2.130350e+02  3.519100e+02   \n",
      "High           16.629999      24.022501  2.167450e+02  3.567500e+02   \n",
      "Low            14.980000      22.867499  2.088700e+02  3.460250e+02   \n",
      "Close          15.800000      23.565000  2.129600e+02  3.511675e+02   \n",
      "Adj Close      15.800000      23.565000  2.129600e+02  3.511675e+02   \n",
      "Volume     118500.000000  633825.000000  4.578400e+06  1.476090e+07   \n",
      "\n",
      "                   0.99          1.00  \n",
      "Open       4.235790e+02  6.736900e+02  \n",
      "High       4.284705e+02  7.861400e+02  \n",
      "Low        4.122865e+02  6.735200e+02  \n",
      "Close      4.243455e+02  7.800000e+02  \n",
      "Adj Close  4.243455e+02  7.800000e+02  \n",
      "Volume     2.459959e+07  4.706500e+07  \n"
     ]
    }
   ],
   "source": [
    "check_df(df)"
   ]
  },
  {
   "cell_type": "markdown",
   "id": "f90aef3d",
   "metadata": {
    "id": "v2n2ONcpWlQl",
    "papermill": {
     "duration": 0.010891,
     "end_time": "2024-12-28T07:14:14.988243",
     "exception": false,
     "start_time": "2024-12-28T07:14:14.977352",
     "status": "completed"
    },
    "tags": []
   },
   "source": [
    "## Data Preparation"
   ]
  },
  {
   "cell_type": "code",
   "execution_count": 6,
   "id": "612711a3",
   "metadata": {
    "execution": {
     "iopub.execute_input": "2024-12-28T07:14:15.011523Z",
     "iopub.status.busy": "2024-12-28T07:14:15.010775Z",
     "iopub.status.idle": "2024-12-28T07:14:15.020818Z",
     "shell.execute_reply": "2024-12-28T07:14:15.019790Z"
    },
    "id": "x-En8ormWAo8",
    "papermill": {
     "duration": 0.023741,
     "end_time": "2024-12-28T07:14:15.022727",
     "exception": false,
     "start_time": "2024-12-28T07:14:14.998986",
     "status": "completed"
    },
    "tags": []
   },
   "outputs": [],
   "source": [
    "df[\"Date\"] = pd.to_datetime(df[\"Date\"])"
   ]
  },
  {
   "cell_type": "code",
   "execution_count": 7,
   "id": "ba69ebee",
   "metadata": {
    "execution": {
     "iopub.execute_input": "2024-12-28T07:14:15.046094Z",
     "iopub.status.busy": "2024-12-28T07:14:15.045229Z",
     "iopub.status.idle": "2024-12-28T07:14:15.058435Z",
     "shell.execute_reply": "2024-12-28T07:14:15.057458Z"
    },
    "id": "Wk3C4MPkWBUG",
    "papermill": {
     "duration": 0.027058,
     "end_time": "2024-12-28T07:14:15.060527",
     "exception": false,
     "start_time": "2024-12-28T07:14:15.033469",
     "status": "completed"
    },
    "tags": []
   },
   "outputs": [
    {
     "data": {
      "text/html": [
       "<div>\n",
       "<style scoped>\n",
       "    .dataframe tbody tr th:only-of-type {\n",
       "        vertical-align: middle;\n",
       "    }\n",
       "\n",
       "    .dataframe tbody tr th {\n",
       "        vertical-align: top;\n",
       "    }\n",
       "\n",
       "    .dataframe thead th {\n",
       "        text-align: right;\n",
       "    }\n",
       "</style>\n",
       "<table border=\"1\" class=\"dataframe\">\n",
       "  <thead>\n",
       "    <tr style=\"text-align: right;\">\n",
       "      <th></th>\n",
       "      <th>Date</th>\n",
       "      <th>Open</th>\n",
       "      <th>High</th>\n",
       "      <th>Low</th>\n",
       "      <th>Close</th>\n",
       "      <th>Adj Close</th>\n",
       "      <th>Volume</th>\n",
       "    </tr>\n",
       "  </thead>\n",
       "  <tbody>\n",
       "    <tr>\n",
       "      <th>0</th>\n",
       "      <td>2010-06-29</td>\n",
       "      <td>19.000000</td>\n",
       "      <td>25.00</td>\n",
       "      <td>17.540001</td>\n",
       "      <td>23.889999</td>\n",
       "      <td>23.889999</td>\n",
       "      <td>18766300</td>\n",
       "    </tr>\n",
       "    <tr>\n",
       "      <th>1</th>\n",
       "      <td>2010-06-30</td>\n",
       "      <td>25.790001</td>\n",
       "      <td>30.42</td>\n",
       "      <td>23.299999</td>\n",
       "      <td>23.830000</td>\n",
       "      <td>23.830000</td>\n",
       "      <td>17187100</td>\n",
       "    </tr>\n",
       "    <tr>\n",
       "      <th>2</th>\n",
       "      <td>2010-07-01</td>\n",
       "      <td>25.000000</td>\n",
       "      <td>25.92</td>\n",
       "      <td>20.270000</td>\n",
       "      <td>21.959999</td>\n",
       "      <td>21.959999</td>\n",
       "      <td>8218800</td>\n",
       "    </tr>\n",
       "    <tr>\n",
       "      <th>3</th>\n",
       "      <td>2010-07-02</td>\n",
       "      <td>23.000000</td>\n",
       "      <td>23.10</td>\n",
       "      <td>18.709999</td>\n",
       "      <td>19.200001</td>\n",
       "      <td>19.200001</td>\n",
       "      <td>5139800</td>\n",
       "    </tr>\n",
       "    <tr>\n",
       "      <th>4</th>\n",
       "      <td>2010-07-06</td>\n",
       "      <td>20.000000</td>\n",
       "      <td>20.00</td>\n",
       "      <td>15.830000</td>\n",
       "      <td>16.110001</td>\n",
       "      <td>16.110001</td>\n",
       "      <td>6866900</td>\n",
       "    </tr>\n",
       "  </tbody>\n",
       "</table>\n",
       "</div>"
      ],
      "text/plain": [
       "        Date       Open   High        Low      Close  Adj Close    Volume\n",
       "0 2010-06-29  19.000000  25.00  17.540001  23.889999  23.889999  18766300\n",
       "1 2010-06-30  25.790001  30.42  23.299999  23.830000  23.830000  17187100\n",
       "2 2010-07-01  25.000000  25.92  20.270000  21.959999  21.959999   8218800\n",
       "3 2010-07-02  23.000000  23.10  18.709999  19.200001  19.200001   5139800\n",
       "4 2010-07-06  20.000000  20.00  15.830000  16.110001  16.110001   6866900"
      ]
     },
     "execution_count": 7,
     "metadata": {},
     "output_type": "execute_result"
    }
   ],
   "source": [
    "df.head()"
   ]
  },
  {
   "cell_type": "code",
   "execution_count": 8,
   "id": "6433261a",
   "metadata": {
    "execution": {
     "iopub.execute_input": "2024-12-28T07:14:15.083947Z",
     "iopub.status.busy": "2024-12-28T07:14:15.083544Z",
     "iopub.status.idle": "2024-12-28T07:14:15.089073Z",
     "shell.execute_reply": "2024-12-28T07:14:15.088097Z"
    },
    "id": "ZOVzSrk1WCHu",
    "papermill": {
     "duration": 0.019364,
     "end_time": "2024-12-28T07:14:15.091014",
     "exception": false,
     "start_time": "2024-12-28T07:14:15.071650",
     "status": "completed"
    },
    "tags": []
   },
   "outputs": [],
   "source": [
    "tesla_df = df[[\"Date\", \"Close\"]]"
   ]
  },
  {
   "cell_type": "code",
   "execution_count": 9,
   "id": "4b2d3e15",
   "metadata": {
    "execution": {
     "iopub.execute_input": "2024-12-28T07:14:15.114269Z",
     "iopub.status.busy": "2024-12-28T07:14:15.113908Z",
     "iopub.status.idle": "2024-12-28T07:14:15.122780Z",
     "shell.execute_reply": "2024-12-28T07:14:15.121875Z"
    },
    "id": "Tli5FuMBWF8l",
    "papermill": {
     "duration": 0.022827,
     "end_time": "2024-12-28T07:14:15.124733",
     "exception": false,
     "start_time": "2024-12-28T07:14:15.101906",
     "status": "completed"
    },
    "tags": []
   },
   "outputs": [
    {
     "data": {
      "text/html": [
       "<div>\n",
       "<style scoped>\n",
       "    .dataframe tbody tr th:only-of-type {\n",
       "        vertical-align: middle;\n",
       "    }\n",
       "\n",
       "    .dataframe tbody tr th {\n",
       "        vertical-align: top;\n",
       "    }\n",
       "\n",
       "    .dataframe thead th {\n",
       "        text-align: right;\n",
       "    }\n",
       "</style>\n",
       "<table border=\"1\" class=\"dataframe\">\n",
       "  <thead>\n",
       "    <tr style=\"text-align: right;\">\n",
       "      <th></th>\n",
       "      <th>Date</th>\n",
       "      <th>Close</th>\n",
       "    </tr>\n",
       "  </thead>\n",
       "  <tbody>\n",
       "    <tr>\n",
       "      <th>0</th>\n",
       "      <td>2010-06-29</td>\n",
       "      <td>23.889999</td>\n",
       "    </tr>\n",
       "    <tr>\n",
       "      <th>1</th>\n",
       "      <td>2010-06-30</td>\n",
       "      <td>23.830000</td>\n",
       "    </tr>\n",
       "    <tr>\n",
       "      <th>2</th>\n",
       "      <td>2010-07-01</td>\n",
       "      <td>21.959999</td>\n",
       "    </tr>\n",
       "    <tr>\n",
       "      <th>3</th>\n",
       "      <td>2010-07-02</td>\n",
       "      <td>19.200001</td>\n",
       "    </tr>\n",
       "    <tr>\n",
       "      <th>4</th>\n",
       "      <td>2010-07-06</td>\n",
       "      <td>16.110001</td>\n",
       "    </tr>\n",
       "  </tbody>\n",
       "</table>\n",
       "</div>"
      ],
      "text/plain": [
       "        Date      Close\n",
       "0 2010-06-29  23.889999\n",
       "1 2010-06-30  23.830000\n",
       "2 2010-07-01  21.959999\n",
       "3 2010-07-02  19.200001\n",
       "4 2010-07-06  16.110001"
      ]
     },
     "execution_count": 9,
     "metadata": {},
     "output_type": "execute_result"
    }
   ],
   "source": [
    "tesla_df.head()"
   ]
  },
  {
   "cell_type": "code",
   "execution_count": 10,
   "id": "82f7f24b",
   "metadata": {
    "execution": {
     "iopub.execute_input": "2024-12-28T07:14:15.148729Z",
     "iopub.status.busy": "2024-12-28T07:14:15.147849Z",
     "iopub.status.idle": "2024-12-28T07:14:15.153837Z",
     "shell.execute_reply": "2024-12-28T07:14:15.152889Z"
    },
    "id": "Gsw5OQCAWLzn",
    "papermill": {
     "duration": 0.019947,
     "end_time": "2024-12-28T07:14:15.155730",
     "exception": false,
     "start_time": "2024-12-28T07:14:15.135783",
     "status": "completed"
    },
    "tags": []
   },
   "outputs": [
    {
     "name": "stdout",
     "output_type": "stream",
     "text": [
      "Min Date:  2010-06-29 00:00:00\n",
      "Max Date:  2020-02-03 00:00:00\n"
     ]
    }
   ],
   "source": [
    "print(\"Min Date: \", tesla_df[\"Date\"].min())\n",
    "print(\"Max Date: \", tesla_df[\"Date\"].max())"
   ]
  },
  {
   "cell_type": "code",
   "execution_count": 11,
   "id": "286aff2e",
   "metadata": {
    "execution": {
     "iopub.execute_input": "2024-12-28T07:14:15.179349Z",
     "iopub.status.busy": "2024-12-28T07:14:15.178955Z",
     "iopub.status.idle": "2024-12-28T07:14:15.183526Z",
     "shell.execute_reply": "2024-12-28T07:14:15.182605Z"
    },
    "id": "JGi8P08mWQO1",
    "papermill": {
     "duration": 0.01861,
     "end_time": "2024-12-28T07:14:15.185439",
     "exception": false,
     "start_time": "2024-12-28T07:14:15.166829",
     "status": "completed"
    },
    "tags": []
   },
   "outputs": [],
   "source": [
    "tesla_df.index = tesla_df[\"Date\"]"
   ]
  },
  {
   "cell_type": "code",
   "execution_count": 12,
   "id": "2f91e95b",
   "metadata": {
    "execution": {
     "iopub.execute_input": "2024-12-28T07:14:15.209042Z",
     "iopub.status.busy": "2024-12-28T07:14:15.208676Z",
     "iopub.status.idle": "2024-12-28T07:14:15.219402Z",
     "shell.execute_reply": "2024-12-28T07:14:15.218430Z"
    },
    "id": "YBWxX2IOWoL_",
    "papermill": {
     "duration": 0.02484,
     "end_time": "2024-12-28T07:14:15.221332",
     "exception": false,
     "start_time": "2024-12-28T07:14:15.196492",
     "status": "completed"
    },
    "tags": []
   },
   "outputs": [
    {
     "data": {
      "text/html": [
       "<div>\n",
       "<style scoped>\n",
       "    .dataframe tbody tr th:only-of-type {\n",
       "        vertical-align: middle;\n",
       "    }\n",
       "\n",
       "    .dataframe tbody tr th {\n",
       "        vertical-align: top;\n",
       "    }\n",
       "\n",
       "    .dataframe thead th {\n",
       "        text-align: right;\n",
       "    }\n",
       "</style>\n",
       "<table border=\"1\" class=\"dataframe\">\n",
       "  <thead>\n",
       "    <tr style=\"text-align: right;\">\n",
       "      <th></th>\n",
       "      <th>Date</th>\n",
       "      <th>Close</th>\n",
       "    </tr>\n",
       "    <tr>\n",
       "      <th>Date</th>\n",
       "      <th></th>\n",
       "      <th></th>\n",
       "    </tr>\n",
       "  </thead>\n",
       "  <tbody>\n",
       "    <tr>\n",
       "      <th>2010-06-29</th>\n",
       "      <td>2010-06-29</td>\n",
       "      <td>23.889999</td>\n",
       "    </tr>\n",
       "    <tr>\n",
       "      <th>2010-06-30</th>\n",
       "      <td>2010-06-30</td>\n",
       "      <td>23.830000</td>\n",
       "    </tr>\n",
       "    <tr>\n",
       "      <th>2010-07-01</th>\n",
       "      <td>2010-07-01</td>\n",
       "      <td>21.959999</td>\n",
       "    </tr>\n",
       "    <tr>\n",
       "      <th>2010-07-02</th>\n",
       "      <td>2010-07-02</td>\n",
       "      <td>19.200001</td>\n",
       "    </tr>\n",
       "    <tr>\n",
       "      <th>2010-07-06</th>\n",
       "      <td>2010-07-06</td>\n",
       "      <td>16.110001</td>\n",
       "    </tr>\n",
       "    <tr>\n",
       "      <th>...</th>\n",
       "      <td>...</td>\n",
       "      <td>...</td>\n",
       "    </tr>\n",
       "    <tr>\n",
       "      <th>2020-01-28</th>\n",
       "      <td>2020-01-28</td>\n",
       "      <td>566.900024</td>\n",
       "    </tr>\n",
       "    <tr>\n",
       "      <th>2020-01-29</th>\n",
       "      <td>2020-01-29</td>\n",
       "      <td>580.989990</td>\n",
       "    </tr>\n",
       "    <tr>\n",
       "      <th>2020-01-30</th>\n",
       "      <td>2020-01-30</td>\n",
       "      <td>640.809998</td>\n",
       "    </tr>\n",
       "    <tr>\n",
       "      <th>2020-01-31</th>\n",
       "      <td>2020-01-31</td>\n",
       "      <td>650.570007</td>\n",
       "    </tr>\n",
       "    <tr>\n",
       "      <th>2020-02-03</th>\n",
       "      <td>2020-02-03</td>\n",
       "      <td>780.000000</td>\n",
       "    </tr>\n",
       "  </tbody>\n",
       "</table>\n",
       "<p>2416 rows × 2 columns</p>\n",
       "</div>"
      ],
      "text/plain": [
       "                 Date       Close\n",
       "Date                             \n",
       "2010-06-29 2010-06-29   23.889999\n",
       "2010-06-30 2010-06-30   23.830000\n",
       "2010-07-01 2010-07-01   21.959999\n",
       "2010-07-02 2010-07-02   19.200001\n",
       "2010-07-06 2010-07-06   16.110001\n",
       "...               ...         ...\n",
       "2020-01-28 2020-01-28  566.900024\n",
       "2020-01-29 2020-01-29  580.989990\n",
       "2020-01-30 2020-01-30  640.809998\n",
       "2020-01-31 2020-01-31  650.570007\n",
       "2020-02-03 2020-02-03  780.000000\n",
       "\n",
       "[2416 rows x 2 columns]"
      ]
     },
     "execution_count": 12,
     "metadata": {},
     "output_type": "execute_result"
    }
   ],
   "source": [
    "tesla_df"
   ]
  },
  {
   "cell_type": "code",
   "execution_count": 13,
   "id": "5a36e042",
   "metadata": {
    "execution": {
     "iopub.execute_input": "2024-12-28T07:14:15.246136Z",
     "iopub.status.busy": "2024-12-28T07:14:15.245108Z",
     "iopub.status.idle": "2024-12-28T07:14:15.250769Z",
     "shell.execute_reply": "2024-12-28T07:14:15.249969Z"
    },
    "id": "tgPM31WBWvcH",
    "papermill": {
     "duration": 0.020139,
     "end_time": "2024-12-28T07:14:15.252807",
     "exception": false,
     "start_time": "2024-12-28T07:14:15.232668",
     "status": "completed"
    },
    "tags": []
   },
   "outputs": [],
   "source": [
    "tesla_df.drop(\"Date\", axis=1, inplace=True)"
   ]
  },
  {
   "cell_type": "code",
   "execution_count": 14,
   "id": "4a410f5c",
   "metadata": {
    "execution": {
     "iopub.execute_input": "2024-12-28T07:14:15.277269Z",
     "iopub.status.busy": "2024-12-28T07:14:15.276579Z",
     "iopub.status.idle": "2024-12-28T07:14:15.286239Z",
     "shell.execute_reply": "2024-12-28T07:14:15.285307Z"
    },
    "id": "17KdnKMGWwSm",
    "papermill": {
     "duration": 0.023903,
     "end_time": "2024-12-28T07:14:15.288060",
     "exception": false,
     "start_time": "2024-12-28T07:14:15.264157",
     "status": "completed"
    },
    "tags": []
   },
   "outputs": [
    {
     "data": {
      "text/html": [
       "<div>\n",
       "<style scoped>\n",
       "    .dataframe tbody tr th:only-of-type {\n",
       "        vertical-align: middle;\n",
       "    }\n",
       "\n",
       "    .dataframe tbody tr th {\n",
       "        vertical-align: top;\n",
       "    }\n",
       "\n",
       "    .dataframe thead th {\n",
       "        text-align: right;\n",
       "    }\n",
       "</style>\n",
       "<table border=\"1\" class=\"dataframe\">\n",
       "  <thead>\n",
       "    <tr style=\"text-align: right;\">\n",
       "      <th></th>\n",
       "      <th>Close</th>\n",
       "    </tr>\n",
       "    <tr>\n",
       "      <th>Date</th>\n",
       "      <th></th>\n",
       "    </tr>\n",
       "  </thead>\n",
       "  <tbody>\n",
       "    <tr>\n",
       "      <th>2010-06-29</th>\n",
       "      <td>23.889999</td>\n",
       "    </tr>\n",
       "    <tr>\n",
       "      <th>2010-06-30</th>\n",
       "      <td>23.830000</td>\n",
       "    </tr>\n",
       "    <tr>\n",
       "      <th>2010-07-01</th>\n",
       "      <td>21.959999</td>\n",
       "    </tr>\n",
       "    <tr>\n",
       "      <th>2010-07-02</th>\n",
       "      <td>19.200001</td>\n",
       "    </tr>\n",
       "    <tr>\n",
       "      <th>2010-07-06</th>\n",
       "      <td>16.110001</td>\n",
       "    </tr>\n",
       "    <tr>\n",
       "      <th>...</th>\n",
       "      <td>...</td>\n",
       "    </tr>\n",
       "    <tr>\n",
       "      <th>2020-01-28</th>\n",
       "      <td>566.900024</td>\n",
       "    </tr>\n",
       "    <tr>\n",
       "      <th>2020-01-29</th>\n",
       "      <td>580.989990</td>\n",
       "    </tr>\n",
       "    <tr>\n",
       "      <th>2020-01-30</th>\n",
       "      <td>640.809998</td>\n",
       "    </tr>\n",
       "    <tr>\n",
       "      <th>2020-01-31</th>\n",
       "      <td>650.570007</td>\n",
       "    </tr>\n",
       "    <tr>\n",
       "      <th>2020-02-03</th>\n",
       "      <td>780.000000</td>\n",
       "    </tr>\n",
       "  </tbody>\n",
       "</table>\n",
       "<p>2416 rows × 1 columns</p>\n",
       "</div>"
      ],
      "text/plain": [
       "                 Close\n",
       "Date                  \n",
       "2010-06-29   23.889999\n",
       "2010-06-30   23.830000\n",
       "2010-07-01   21.959999\n",
       "2010-07-02   19.200001\n",
       "2010-07-06   16.110001\n",
       "...                ...\n",
       "2020-01-28  566.900024\n",
       "2020-01-29  580.989990\n",
       "2020-01-30  640.809998\n",
       "2020-01-31  650.570007\n",
       "2020-02-03  780.000000\n",
       "\n",
       "[2416 rows x 1 columns]"
      ]
     },
     "execution_count": 14,
     "metadata": {},
     "output_type": "execute_result"
    }
   ],
   "source": [
    "tesla_df"
   ]
  },
  {
   "cell_type": "code",
   "execution_count": 15,
   "id": "60476d59",
   "metadata": {
    "execution": {
     "iopub.execute_input": "2024-12-28T07:14:15.312650Z",
     "iopub.status.busy": "2024-12-28T07:14:15.312258Z",
     "iopub.status.idle": "2024-12-28T07:14:15.316849Z",
     "shell.execute_reply": "2024-12-28T07:14:15.315911Z"
    },
    "id": "PliZ5OcsWxsF",
    "papermill": {
     "duration": 0.019284,
     "end_time": "2024-12-28T07:14:15.318912",
     "exception": false,
     "start_time": "2024-12-28T07:14:15.299628",
     "status": "completed"
    },
    "tags": []
   },
   "outputs": [],
   "source": [
    "result_df = tesla_df.copy()"
   ]
  },
  {
   "cell_type": "code",
   "execution_count": 16,
   "id": "0a71f8f7",
   "metadata": {
    "execution": {
     "iopub.execute_input": "2024-12-28T07:14:15.343385Z",
     "iopub.status.busy": "2024-12-28T07:14:15.343002Z",
     "iopub.status.idle": "2024-12-28T07:14:15.700892Z",
     "shell.execute_reply": "2024-12-28T07:14:15.699970Z"
    },
    "id": "ObqHX6K2W0te",
    "papermill": {
     "duration": 0.372795,
     "end_time": "2024-12-28T07:14:15.703195",
     "exception": false,
     "start_time": "2024-12-28T07:14:15.330400",
     "status": "completed"
    },
    "tags": []
   },
   "outputs": [
    {
     "data": {
      "image/png": "[encoded data removed]",
      "text/plain": [
       "<Figure size 1400x500 with 1 Axes>"
      ]
     },
     "metadata": {},
     "output_type": "display_data"
    }
   ],
   "source": [
    "plt.figure(figsize=(14,5))\n",
    "plt.plot(tesla_df['Close'], color='blue')\n",
    "plt.title(\"Tesla Stock Price\")\n",
    "plt.xlabel(\"Time\")\n",
    "plt.ylabel(\"Stock Price\")\n",
    "plt.show()"
   ]
  },
  {
   "cell_type": "code",
   "execution_count": 17,
   "id": "c479e6de",
   "metadata": {
    "execution": {
     "iopub.execute_input": "2024-12-28T07:14:15.730528Z",
     "iopub.status.busy": "2024-12-28T07:14:15.729888Z",
     "iopub.status.idle": "2024-12-28T07:14:15.734260Z",
     "shell.execute_reply": "2024-12-28T07:14:15.733344Z"
    },
    "id": "5LWFDWjNW2z2",
    "papermill": {
     "duration": 0.020006,
     "end_time": "2024-12-28T07:14:15.736130",
     "exception": false,
     "start_time": "2024-12-28T07:14:15.716124",
     "status": "completed"
    },
    "tags": []
   },
   "outputs": [],
   "source": [
    "tesla_df = tesla_df.values"
   ]
  },
  {
   "cell_type": "code",
   "execution_count": 18,
   "id": "4432b267",
   "metadata": {
    "execution": {
     "iopub.execute_input": "2024-12-28T07:14:15.764197Z",
     "iopub.status.busy": "2024-12-28T07:14:15.763832Z",
     "iopub.status.idle": "2024-12-28T07:14:15.769940Z",
     "shell.execute_reply": "2024-12-28T07:14:15.769029Z"
    },
    "id": "jxFZkTS-W9Mm",
    "papermill": {
     "duration": 0.021289,
     "end_time": "2024-12-28T07:14:15.771801",
     "exception": false,
     "start_time": "2024-12-28T07:14:15.750512",
     "status": "completed"
    },
    "tags": []
   },
   "outputs": [
    {
     "data": {
      "text/plain": [
       "array([[23.889999],\n",
       "       [23.83    ],\n",
       "       [21.959999],\n",
       "       [19.200001],\n",
       "       [16.110001]])"
      ]
     },
     "execution_count": 18,
     "metadata": {},
     "output_type": "execute_result"
    }
   ],
   "source": [
    "tesla_df[0:5]"
   ]
  },
  {
   "cell_type": "code",
   "execution_count": 19,
   "id": "895fa086",
   "metadata": {
    "execution": {
     "iopub.execute_input": "2024-12-28T07:14:15.797450Z",
     "iopub.status.busy": "2024-12-28T07:14:15.796635Z",
     "iopub.status.idle": "2024-12-28T07:14:15.801014Z",
     "shell.execute_reply": "2024-12-28T07:14:15.800120Z"
    },
    "id": "iU7KJlc4XAb2",
    "papermill": {
     "duration": 0.019052,
     "end_time": "2024-12-28T07:14:15.802840",
     "exception": false,
     "start_time": "2024-12-28T07:14:15.783788",
     "status": "completed"
    },
    "tags": []
   },
   "outputs": [],
   "source": [
    "tesla_df = tesla_df.astype(\"float32\")"
   ]
  },
  {
   "cell_type": "code",
   "execution_count": 20,
   "id": "ee37b9f9",
   "metadata": {
    "execution": {
     "iopub.execute_input": "2024-12-28T07:14:15.828737Z",
     "iopub.status.busy": "2024-12-28T07:14:15.828339Z",
     "iopub.status.idle": "2024-12-28T07:14:15.833307Z",
     "shell.execute_reply": "2024-12-28T07:14:15.832380Z"
    },
    "id": "r7Cywk9oXBI-",
    "papermill": {
     "duration": 0.020287,
     "end_time": "2024-12-28T07:14:15.835256",
     "exception": false,
     "start_time": "2024-12-28T07:14:15.814969",
     "status": "completed"
    },
    "tags": []
   },
   "outputs": [],
   "source": [
    "def split_data(dataframe, test_size):\n",
    "  position = int(round(len(dataframe) * (1 - test_size)))\n",
    "  train = dataframe[:position]\n",
    "  test = dataframe[position:]\n",
    "  return train, test, position"
   ]
  },
  {
   "cell_type": "code",
   "execution_count": 21,
   "id": "055dc397",
   "metadata": {
    "execution": {
     "iopub.execute_input": "2024-12-28T07:14:15.861291Z",
     "iopub.status.busy": "2024-12-28T07:14:15.860919Z",
     "iopub.status.idle": "2024-12-28T07:14:15.865299Z",
     "shell.execute_reply": "2024-12-28T07:14:15.864486Z"
    },
    "id": "COxqfz0SZvV_",
    "papermill": {
     "duration": 0.01978,
     "end_time": "2024-12-28T07:14:15.867294",
     "exception": false,
     "start_time": "2024-12-28T07:14:15.847514",
     "status": "completed"
    },
    "tags": []
   },
   "outputs": [],
   "source": [
    "train, test, position = split_data(tesla_df, 0.20)"
   ]
  },
  {
   "cell_type": "code",
   "execution_count": 22,
   "id": "4559e339",
   "metadata": {
    "execution": {
     "iopub.execute_input": "2024-12-28T07:14:15.893388Z",
     "iopub.status.busy": "2024-12-28T07:14:15.892724Z",
     "iopub.status.idle": "2024-12-28T07:14:15.897766Z",
     "shell.execute_reply": "2024-12-28T07:14:15.896808Z"
    },
    "id": "jESwxnt2Z1t5",
    "papermill": {
     "duration": 0.020201,
     "end_time": "2024-12-28T07:14:15.899731",
     "exception": false,
     "start_time": "2024-12-28T07:14:15.879530",
     "status": "completed"
    },
    "tags": []
   },
   "outputs": [
    {
     "name": "stdout",
     "output_type": "stream",
     "text": [
      "(1933, 1) (483, 1)\n"
     ]
    }
   ],
   "source": [
    "print(train.shape, test.shape)"
   ]
  },
  {
   "cell_type": "code",
   "execution_count": 23,
   "id": "027b1b7f",
   "metadata": {
    "execution": {
     "iopub.execute_input": "2024-12-28T07:14:15.926908Z",
     "iopub.status.busy": "2024-12-28T07:14:15.926074Z",
     "iopub.status.idle": "2024-12-28T07:14:15.930973Z",
     "shell.execute_reply": "2024-12-28T07:14:15.929900Z"
    },
    "id": "wleQDdgSZ8NZ",
    "papermill": {
     "duration": 0.020517,
     "end_time": "2024-12-28T07:14:15.933066",
     "exception": false,
     "start_time": "2024-12-28T07:14:15.912549",
     "status": "completed"
    },
    "tags": []
   },
   "outputs": [],
   "source": [
    "scaler_train = MinMaxScaler(feature_range = (0,1))"
   ]
  },
  {
   "cell_type": "code",
   "execution_count": 24,
   "id": "f810f0f9",
   "metadata": {
    "execution": {
     "iopub.execute_input": "2024-12-28T07:14:15.959476Z",
     "iopub.status.busy": "2024-12-28T07:14:15.958749Z",
     "iopub.status.idle": "2024-12-28T07:14:15.964182Z",
     "shell.execute_reply": "2024-12-28T07:14:15.963256Z"
    },
    "id": "Enf8wikDaNZh",
    "papermill": {
     "duration": 0.020731,
     "end_time": "2024-12-28T07:14:15.966154",
     "exception": false,
     "start_time": "2024-12-28T07:14:15.945423",
     "status": "completed"
    },
    "tags": []
   },
   "outputs": [],
   "source": [
    "train = scaler_train.fit_transform(train)"
   ]
  },
  {
   "cell_type": "code",
   "execution_count": 25,
   "id": "b7d81bf9",
   "metadata": {
    "execution": {
     "iopub.execute_input": "2024-12-28T07:14:15.992936Z",
     "iopub.status.busy": "2024-12-28T07:14:15.992161Z",
     "iopub.status.idle": "2024-12-28T07:14:15.996714Z",
     "shell.execute_reply": "2024-12-28T07:14:15.995726Z"
    },
    "id": "cg-7tCn_aXTc",
    "papermill": {
     "duration": 0.019799,
     "end_time": "2024-12-28T07:14:15.998676",
     "exception": false,
     "start_time": "2024-12-28T07:14:15.978877",
     "status": "completed"
    },
    "tags": []
   },
   "outputs": [],
   "source": [
    "scaler_test = MinMaxScaler(feature_range = (0,1))"
   ]
  },
  {
   "cell_type": "code",
   "execution_count": 26,
   "id": "e83e7cd5",
   "metadata": {
    "execution": {
     "iopub.execute_input": "2024-12-28T07:14:16.025051Z",
     "iopub.status.busy": "2024-12-28T07:14:16.024346Z",
     "iopub.status.idle": "2024-12-28T07:14:16.029519Z",
     "shell.execute_reply": "2024-12-28T07:14:16.028580Z"
    },
    "id": "tSbuIifiabbC",
    "papermill": {
     "duration": 0.020495,
     "end_time": "2024-12-28T07:14:16.031433",
     "exception": false,
     "start_time": "2024-12-28T07:14:16.010938",
     "status": "completed"
    },
    "tags": []
   },
   "outputs": [],
   "source": [
    "test = scaler_test.fit_transform(test)"
   ]
  },
  {
   "cell_type": "code",
   "execution_count": 27,
   "id": "537fb57c",
   "metadata": {
    "execution": {
     "iopub.execute_input": "2024-12-28T07:14:16.057378Z",
     "iopub.status.busy": "2024-12-28T07:14:16.057017Z",
     "iopub.status.idle": "2024-12-28T07:14:16.063414Z",
     "shell.execute_reply": "2024-12-28T07:14:16.062456Z"
    },
    "id": "X5a7m_BEagaJ",
    "papermill": {
     "duration": 0.021546,
     "end_time": "2024-12-28T07:14:16.065287",
     "exception": false,
     "start_time": "2024-12-28T07:14:16.043741",
     "status": "completed"
    },
    "tags": []
   },
   "outputs": [
    {
     "data": {
      "text/plain": [
       "array([[0.02191224],\n",
       "       [0.02174973],\n",
       "       [0.01668472],\n",
       "       [0.0092091 ],\n",
       "       [0.00083966]], dtype=float32)"
      ]
     },
     "execution_count": 27,
     "metadata": {},
     "output_type": "execute_result"
    }
   ],
   "source": [
    "train[0:5]"
   ]
  },
  {
   "cell_type": "code",
   "execution_count": 28,
   "id": "4d59be9e",
   "metadata": {
    "execution": {
     "iopub.execute_input": "2024-12-28T07:14:16.090997Z",
     "iopub.status.busy": "2024-12-28T07:14:16.090629Z",
     "iopub.status.idle": "2024-12-28T07:14:16.096699Z",
     "shell.execute_reply": "2024-12-28T07:14:16.095812Z"
    },
    "id": "AeVSy_ijahnh",
    "papermill": {
     "duration": 0.020939,
     "end_time": "2024-12-28T07:14:16.098452",
     "exception": false,
     "start_time": "2024-12-28T07:14:16.077513",
     "status": "completed"
    },
    "tags": []
   },
   "outputs": [
    {
     "data": {
      "text/plain": [
       "array([[0.25685903],\n",
       "       [0.24829045],\n",
       "       [0.25511202],\n",
       "       [0.24978784],\n",
       "       [0.2465767 ]], dtype=float32)"
      ]
     },
     "execution_count": 28,
     "metadata": {},
     "output_type": "execute_result"
    }
   ],
   "source": [
    "test[0:5]"
   ]
  },
  {
   "cell_type": "code",
   "execution_count": 29,
   "id": "fc1896c0",
   "metadata": {
    "execution": {
     "iopub.execute_input": "2024-12-28T07:14:16.124431Z",
     "iopub.status.busy": "2024-12-28T07:14:16.124068Z",
     "iopub.status.idle": "2024-12-28T07:14:16.129218Z",
     "shell.execute_reply": "2024-12-28T07:14:16.128304Z"
    },
    "id": "Gv95UqJWasHS",
    "papermill": {
     "duration": 0.020348,
     "end_time": "2024-12-28T07:14:16.131017",
     "exception": false,
     "start_time": "2024-12-28T07:14:16.110669",
     "status": "completed"
    },
    "tags": []
   },
   "outputs": [],
   "source": [
    "def create_features(data, lookback):\n",
    "  X, Y = [], []\n",
    "  for i in range(lookback, len(data)):\n",
    "    X.append(data[i-lookback:i,0])\n",
    "    Y.append(data[i,0])\n",
    "\n",
    "  return np.array(X), np.array(Y)"
   ]
  },
  {
   "cell_type": "code",
   "execution_count": 30,
   "id": "ba1ea5aa",
   "metadata": {
    "execution": {
     "iopub.execute_input": "2024-12-28T07:14:16.156744Z",
     "iopub.status.busy": "2024-12-28T07:14:16.156371Z",
     "iopub.status.idle": "2024-12-28T07:14:16.160497Z",
     "shell.execute_reply": "2024-12-28T07:14:16.159611Z"
    },
    "id": "e36Ux4_CbASm",
    "papermill": {
     "duration": 0.019263,
     "end_time": "2024-12-28T07:14:16.162359",
     "exception": false,
     "start_time": "2024-12-28T07:14:16.143096",
     "status": "completed"
    },
    "tags": []
   },
   "outputs": [],
   "source": [
    "lookback = 20"
   ]
  },
  {
   "cell_type": "code",
   "execution_count": 31,
   "id": "58c9844b",
   "metadata": {
    "execution": {
     "iopub.execute_input": "2024-12-28T07:14:16.189120Z",
     "iopub.status.busy": "2024-12-28T07:14:16.188417Z",
     "iopub.status.idle": "2024-12-28T07:14:16.195227Z",
     "shell.execute_reply": "2024-12-28T07:14:16.194306Z"
    },
    "id": "Xd8JMdaWbCzp",
    "papermill": {
     "duration": 0.022378,
     "end_time": "2024-12-28T07:14:16.197282",
     "exception": false,
     "start_time": "2024-12-28T07:14:16.174904",
     "status": "completed"
    },
    "tags": []
   },
   "outputs": [],
   "source": [
    "X_train, y_train = create_features(train, lookback)"
   ]
  },
  {
   "cell_type": "code",
   "execution_count": 32,
   "id": "3ca9c9ec",
   "metadata": {
    "execution": {
     "iopub.execute_input": "2024-12-28T07:14:16.271969Z",
     "iopub.status.busy": "2024-12-28T07:14:16.271548Z",
     "iopub.status.idle": "2024-12-28T07:14:16.276954Z",
     "shell.execute_reply": "2024-12-28T07:14:16.275997Z"
    },
    "id": "wHgq8DT5bF_Z",
    "papermill": {
     "duration": 0.069048,
     "end_time": "2024-12-28T07:14:16.278986",
     "exception": false,
     "start_time": "2024-12-28T07:14:16.209938",
     "status": "completed"
    },
    "tags": []
   },
   "outputs": [],
   "source": [
    "X_test, y_test = create_features(test, lookback)"
   ]
  },
  {
   "cell_type": "code",
   "execution_count": 33,
   "id": "576ba793",
   "metadata": {
    "execution": {
     "iopub.execute_input": "2024-12-28T07:14:16.305465Z",
     "iopub.status.busy": "2024-12-28T07:14:16.305096Z",
     "iopub.status.idle": "2024-12-28T07:14:16.310171Z",
     "shell.execute_reply": "2024-12-28T07:14:16.309349Z"
    },
    "id": "zYQy_33TbKdb",
    "papermill": {
     "duration": 0.020395,
     "end_time": "2024-12-28T07:14:16.312027",
     "exception": false,
     "start_time": "2024-12-28T07:14:16.291632",
     "status": "completed"
    },
    "tags": []
   },
   "outputs": [
    {
     "name": "stdout",
     "output_type": "stream",
     "text": [
      "(1913, 20) (1913,) (463, 20) (463,)\n"
     ]
    }
   ],
   "source": [
    "print(X_train.shape, y_train.shape, X_test.shape, y_test.shape)"
   ]
  },
  {
   "cell_type": "code",
   "execution_count": 34,
   "id": "82d369ec",
   "metadata": {
    "execution": {
     "iopub.execute_input": "2024-12-28T07:14:16.338414Z",
     "iopub.status.busy": "2024-12-28T07:14:16.338036Z",
     "iopub.status.idle": "2024-12-28T07:14:16.344997Z",
     "shell.execute_reply": "2024-12-28T07:14:16.344027Z"
    },
    "id": "sI1k-K6bTKuw",
    "papermill": {
     "duration": 0.022277,
     "end_time": "2024-12-28T07:14:16.346788",
     "exception": false,
     "start_time": "2024-12-28T07:14:16.324511",
     "status": "completed"
    },
    "tags": []
   },
   "outputs": [
    {
     "data": {
      "text/plain": [
       "array([[0.02191224, 0.02174973, 0.01668472, 0.0092091 , 0.00083966,\n",
       "        0.        , 0.00449621, 0.00433369, 0.0033857 , 0.00633803,\n",
       "        0.01094258, 0.011078  , 0.01310942, 0.0165493 , 0.01218851,\n",
       "        0.01197183, 0.01408451, 0.01486999, 0.01394908, 0.01286566],\n",
       "       [0.02174973, 0.01668472, 0.0092091 , 0.00083966, 0.        ,\n",
       "        0.00449621, 0.00433369, 0.0033857 , 0.00633803, 0.01094258,\n",
       "        0.011078  , 0.01310942, 0.0165493 , 0.01218851, 0.01197183,\n",
       "        0.01408451, 0.01486999, 0.01394908, 0.01286566, 0.01332611],\n",
       "       [0.01668472, 0.0092091 , 0.00083966, 0.        , 0.00449621,\n",
       "        0.00433369, 0.0033857 , 0.00633803, 0.01094258, 0.011078  ,\n",
       "        0.01310942, 0.0165493 , 0.01218851, 0.01197183, 0.01408451,\n",
       "        0.01486999, 0.01394908, 0.01286566, 0.01332611, 0.01232395],\n",
       "       [0.0092091 , 0.00083966, 0.        , 0.00449621, 0.00433369,\n",
       "        0.0033857 , 0.00633803, 0.01094258, 0.011078  , 0.01310942,\n",
       "        0.0165493 , 0.01218851, 0.01197183, 0.01408451, 0.01486999,\n",
       "        0.01394908, 0.01286566, 0.01332611, 0.01232395, 0.01121344],\n",
       "       [0.00083966, 0.        , 0.00449621, 0.00433369, 0.0033857 ,\n",
       "        0.00633803, 0.01094258, 0.011078  , 0.01310942, 0.0165493 ,\n",
       "        0.01218851, 0.01197183, 0.01408451, 0.01486999, 0.01394908,\n",
       "        0.01286566, 0.01332611, 0.01232395, 0.01121344, 0.01386782]],\n",
       "      dtype=float32)"
      ]
     },
     "execution_count": 34,
     "metadata": {},
     "output_type": "execute_result"
    }
   ],
   "source": [
    "X_train[0:5]"
   ]
  },
  {
   "cell_type": "code",
   "execution_count": 35,
   "id": "057c574c",
   "metadata": {
    "execution": {
     "iopub.execute_input": "2024-12-28T07:14:16.373530Z",
     "iopub.status.busy": "2024-12-28T07:14:16.372905Z",
     "iopub.status.idle": "2024-12-28T07:14:16.379242Z",
     "shell.execute_reply": "2024-12-28T07:14:16.378273Z"
    },
    "id": "vY5hCVQHTg9u",
    "papermill": {
     "duration": 0.021909,
     "end_time": "2024-12-28T07:14:16.381206",
     "exception": false,
     "start_time": "2024-12-28T07:14:16.359297",
     "status": "completed"
    },
    "tags": []
   },
   "outputs": [
    {
     "data": {
      "text/plain": [
       "array([0.01332611, 0.01232395, 0.01121344, 0.01386782, 0.01665764],\n",
       "      dtype=float32)"
      ]
     },
     "execution_count": 35,
     "metadata": {},
     "output_type": "execute_result"
    }
   ],
   "source": [
    "y_train[0:5]"
   ]
  },
  {
   "cell_type": "code",
   "execution_count": 36,
   "id": "96638c4c",
   "metadata": {
    "execution": {
     "iopub.execute_input": "2024-12-28T07:14:16.408409Z",
     "iopub.status.busy": "2024-12-28T07:14:16.408037Z",
     "iopub.status.idle": "2024-12-28T07:14:16.413114Z",
     "shell.execute_reply": "2024-12-28T07:14:16.412163Z"
    },
    "id": "yvf-4kLybad5",
    "papermill": {
     "duration": 0.020873,
     "end_time": "2024-12-28T07:14:16.415070",
     "exception": false,
     "start_time": "2024-12-28T07:14:16.394197",
     "status": "completed"
    },
    "tags": []
   },
   "outputs": [],
   "source": [
    "X_train = np.reshape(X_train, (X_train.shape[0], 1, X_train.shape[1]))\n",
    "X_test = np.reshape(X_test, (X_test.shape[0], 1, X_test.shape[1]))\n",
    "y_train = y_train.reshape(-1,1)\n",
    "y_test = y_test.reshape(-1,1)"
   ]
  },
  {
   "cell_type": "code",
   "execution_count": 37,
   "id": "8ec9eb89",
   "metadata": {
    "execution": {
     "iopub.execute_input": "2024-12-28T07:14:16.441858Z",
     "iopub.status.busy": "2024-12-28T07:14:16.441471Z",
     "iopub.status.idle": "2024-12-28T07:14:16.446775Z",
     "shell.execute_reply": "2024-12-28T07:14:16.445800Z"
    },
    "id": "D2ltv0Edb3wz",
    "papermill": {
     "duration": 0.020874,
     "end_time": "2024-12-28T07:14:16.448672",
     "exception": false,
     "start_time": "2024-12-28T07:14:16.427798",
     "status": "completed"
    },
    "tags": []
   },
   "outputs": [
    {
     "name": "stdout",
     "output_type": "stream",
     "text": [
      "(1913, 1, 20) (1913, 1) (463, 1, 20) (463, 1)\n"
     ]
    }
   ],
   "source": [
    "print(X_train.shape, y_train.shape, X_test.shape, y_test.shape)"
   ]
  },
  {
   "cell_type": "markdown",
   "id": "506dc8ac",
   "metadata": {
    "id": "DtsN3xazcIAn",
    "papermill": {
     "duration": 0.012813,
     "end_time": "2024-12-28T07:14:16.474302",
     "exception": false,
     "start_time": "2024-12-28T07:14:16.461489",
     "status": "completed"
    },
    "tags": []
   },
   "source": [
    "## Modelling"
   ]
  },
  {
   "cell_type": "code",
   "execution_count": 38,
   "id": "da347303",
   "metadata": {
    "execution": {
     "iopub.execute_input": "2024-12-28T07:14:16.501598Z",
     "iopub.status.busy": "2024-12-28T07:14:16.501177Z",
     "iopub.status.idle": "2024-12-28T07:14:16.634088Z",
     "shell.execute_reply": "2024-12-28T07:14:16.633073Z"
    },
    "id": "QtbQx4G9cI_z",
    "papermill": {
     "duration": 0.149248,
     "end_time": "2024-12-28T07:14:16.636400",
     "exception": false,
     "start_time": "2024-12-28T07:14:16.487152",
     "status": "completed"
    },
    "tags": []
   },
   "outputs": [],
   "source": [
    "model = Sequential()\n",
    "\n",
    "model.add(LSTM(units = 50,\n",
    "                    activation = 'relu',\n",
    "                    input_shape=(X_train.shape[1], lookback)))\n",
    "\n",
    "model.add(Dropout(0.2))\n",
    "\n",
    "model.add(Dense(1))\n"
   ]
  },
  {
   "cell_type": "code",
   "execution_count": 39,
   "id": "599592da",
   "metadata": {
    "execution": {
     "iopub.execute_input": "2024-12-28T07:14:16.663833Z",
     "iopub.status.busy": "2024-12-28T07:14:16.662978Z",
     "iopub.status.idle": "2024-12-28T07:14:16.680230Z",
     "shell.execute_reply": "2024-12-28T07:14:16.679397Z"
    },
    "id": "RQFXIkDbciE6",
    "papermill": {
     "duration": 0.032811,
     "end_time": "2024-12-28T07:14:16.682088",
     "exception": false,
     "start_time": "2024-12-28T07:14:16.649277",
     "status": "completed"
    },
    "tags": []
   },
   "outputs": [
    {
     "data": {
      "text/html": [
       "<pre style=\"white-space:pre;overflow-x:auto;line-height:normal;font-family:Menlo,'DejaVu Sans Mono',consolas,'Courier New',monospace\"><span style=\"font-weight: bold\">Model: \"sequential\"</span>\n",
       "</pre>\n"
      ],
      "text/plain": [
       "\u001b[1mModel: \"sequential\"\u001b[0m\n"
      ]
     },
     "metadata": {},
     "output_type": "display_data"
    },
    {
     "data": {
      "text/html": [
       "<pre style=\"white-space:pre;overflow-x:auto;line-height:normal;font-family:Menlo,'DejaVu Sans Mono',consolas,'Courier New',monospace\">┏━━━━━━━━━━━━━━━━━━━━━━━━━━━━━━━━━┳━━━━━━━━━━━━━━━━━━━━━━━━┳━━━━━━━━━━━━━━━┓\n",
       "┃<span style=\"font-weight: bold\"> Layer (type)                    </span>┃<span style=\"font-weight: bold\"> Output Shape           </span>┃<span style=\"font-weight: bold\">       Param # </span>┃\n",
       "┡━━━━━━━━━━━━━━━━━━━━━━━━━━━━━━━━━╇━━━━━━━━━━━━━━━━━━━━━━━━╇━━━━━━━━━━━━━━━┩\n",
       "│ lstm (<span style=\"color: #0087ff; text-decoration-color: #0087ff\">LSTM</span>)                     │ (<span style=\"color: #00d7ff; text-decoration-color: #00d7ff\">None</span>, <span style=\"color: #00af00; text-decoration-color: #00af00\">50</span>)             │        <span style=\"color: #00af00; text-decoration-color: #00af00\">14,200</span> │\n",
       "├─────────────────────────────────┼────────────────────────┼───────────────┤\n",
       "│ dropout (<span style=\"color: #0087ff; text-decoration-color: #0087ff\">Dropout</span>)               │ (<span style=\"color: #00d7ff; text-decoration-color: #00d7ff\">None</span>, <span style=\"color: #00af00; text-decoration-color: #00af00\">50</span>)             │             <span style=\"color: #00af00; text-decoration-color: #00af00\">0</span> │\n",
       "├─────────────────────────────────┼────────────────────────┼───────────────┤\n",
       "│ dense (<span style=\"color: #0087ff; text-decoration-color: #0087ff\">Dense</span>)                   │ (<span style=\"color: #00d7ff; text-decoration-color: #00d7ff\">None</span>, <span style=\"color: #00af00; text-decoration-color: #00af00\">1</span>)              │            <span style=\"color: #00af00; text-decoration-color: #00af00\">51</span> │\n",
       "└─────────────────────────────────┴────────────────────────┴───────────────┘\n",
       "</pre>\n"
      ],
      "text/plain": [
       "┏━━━━━━━━━━━━━━━━━━━━━━━━━━━━━━━━━┳━━━━━━━━━━━━━━━━━━━━━━━━┳━━━━━━━━━━━━━━━┓\n",
       "┃\u001b[1m \u001b[0m\u001b[1mLayer (type)                   \u001b[0m\u001b[1m \u001b[0m┃\u001b[1m \u001b[0m\u001b[1mOutput Shape          \u001b[0m\u001b[1m \u001b[0m┃\u001b[1m \u001b[0m\u001b[1m      Param #\u001b[0m\u001b[1m \u001b[0m┃\n",
       "┡━━━━━━━━━━━━━━━━━━━━━━━━━━━━━━━━━╇━━━━━━━━━━━━━━━━━━━━━━━━╇━━━━━━━━━━━━━━━┩\n",
       "│ lstm (\u001b[38;5;33mLSTM\u001b[0m)                     │ (\u001b[38;5;45mNone\u001b[0m, \u001b[38;5;34m50\u001b[0m)             │        \u001b[38;5;34m14,200\u001b[0m │\n",
       "├─────────────────────────────────┼────────────────────────┼───────────────┤\n",
       "│ dropout (\u001b[38;5;33mDropout\u001b[0m)               │ (\u001b[38;5;45mNone\u001b[0m, \u001b[38;5;34m50\u001b[0m)             │             \u001b[38;5;34m0\u001b[0m │\n",
       "├─────────────────────────────────┼────────────────────────┼───────────────┤\n",
       "│ dense (\u001b[38;5;33mDense\u001b[0m)                   │ (\u001b[38;5;45mNone\u001b[0m, \u001b[38;5;34m1\u001b[0m)              │            \u001b[38;5;34m51\u001b[0m │\n",
       "└─────────────────────────────────┴────────────────────────┴───────────────┘\n"
      ]
     },
     "metadata": {},
     "output_type": "display_data"
    },
    {
     "data": {
      "text/html": [
       "<pre style=\"white-space:pre;overflow-x:auto;line-height:normal;font-family:Menlo,'DejaVu Sans Mono',consolas,'Courier New',monospace\"><span style=\"font-weight: bold\"> Total params: </span><span style=\"color: #00af00; text-decoration-color: #00af00\">14,251</span> (55.67 KB)\n",
       "</pre>\n"
      ],
      "text/plain": [
       "\u001b[1m Total params: \u001b[0m\u001b[38;5;34m14,251\u001b[0m (55.67 KB)\n"
      ]
     },
     "metadata": {},
     "output_type": "display_data"
    },
    {
     "data": {
      "text/html": [
       "<pre style=\"white-space:pre;overflow-x:auto;line-height:normal;font-family:Menlo,'DejaVu Sans Mono',consolas,'Courier New',monospace\"><span style=\"font-weight: bold\"> Trainable params: </span><span style=\"color: #00af00; text-decoration-color: #00af00\">14,251</span> (55.67 KB)\n",
       "</pre>\n"
      ],
      "text/plain": [
       "\u001b[1m Trainable params: \u001b[0m\u001b[38;5;34m14,251\u001b[0m (55.67 KB)\n"
      ]
     },
     "metadata": {},
     "output_type": "display_data"
    },
    {
     "data": {
      "text/html": [
       "<pre style=\"white-space:pre;overflow-x:auto;line-height:normal;font-family:Menlo,'DejaVu Sans Mono',consolas,'Courier New',monospace\"><span style=\"font-weight: bold\"> Non-trainable params: </span><span style=\"color: #00af00; text-decoration-color: #00af00\">0</span> (0.00 B)\n",
       "</pre>\n"
      ],
      "text/plain": [
       "\u001b[1m Non-trainable params: \u001b[0m\u001b[38;5;34m0\u001b[0m (0.00 B)\n"
      ]
     },
     "metadata": {},
     "output_type": "display_data"
    }
   ],
   "source": [
    "model.summary()"
   ]
  },
  {
   "cell_type": "code",
   "execution_count": 40,
   "id": "f22c139d",
   "metadata": {
    "execution": {
     "iopub.execute_input": "2024-12-28T07:14:16.710240Z",
     "iopub.status.busy": "2024-12-28T07:14:16.709881Z",
     "iopub.status.idle": "2024-12-28T07:14:16.723292Z",
     "shell.execute_reply": "2024-12-28T07:14:16.722536Z"
    },
    "id": "NE6_O7IwclkT",
    "papermill": {
     "duration": 0.030022,
     "end_time": "2024-12-28T07:14:16.725355",
     "exception": false,
     "start_time": "2024-12-28T07:14:16.695333",
     "status": "completed"
    },
    "tags": []
   },
   "outputs": [],
   "source": [
    "model.compile(loss='mean_squared_error', optimizer='adam')"
   ]
  },
  {
   "cell_type": "code",
   "execution_count": 41,
   "id": "e0bf0e4a",
   "metadata": {
    "execution": {
     "iopub.execute_input": "2024-12-28T07:14:16.755843Z",
     "iopub.status.busy": "2024-12-28T07:14:16.754976Z",
     "iopub.status.idle": "2024-12-28T07:14:16.759834Z",
     "shell.execute_reply": "2024-12-28T07:14:16.758907Z"
    },
    "id": "JLqjYZudc3Is",
    "papermill": {
     "duration": 0.022847,
     "end_time": "2024-12-28T07:14:16.761621",
     "exception": false,
     "start_time": "2024-12-28T07:14:16.738774",
     "status": "completed"
    },
    "tags": []
   },
   "outputs": [],
   "source": [
    "callbacks = (EarlyStopping(monitor='val_loss', patience=10, verbose=1, mode='min'),\n",
    "            ModelCheckpoint(filepath='mymodel.keras', monitor='val_loss', mode='min',\n",
    "            save_best_only = True, save_weights_only = False, verbose = 1))"
   ]
  },
  {
   "cell_type": "code",
   "execution_count": 42,
   "id": "f95c991e",
   "metadata": {
    "execution": {
     "iopub.execute_input": "2024-12-28T07:14:16.789760Z",
     "iopub.status.busy": "2024-12-28T07:14:16.789146Z",
     "iopub.status.idle": "2024-12-28T07:14:25.462755Z",
     "shell.execute_reply": "2024-12-28T07:14:25.461954Z"
    },
    "id": "7Pv-Fb9FdSf7",
    "papermill": {
     "duration": 8.689992,
     "end_time": "2024-12-28T07:14:25.464838",
     "exception": false,
     "start_time": "2024-12-28T07:14:16.774846",
     "status": "completed"
    },
    "tags": []
   },
   "outputs": [
    {
     "name": "stdout",
     "output_type": "stream",
     "text": [
      "Epoch 1/100\n",
      "\u001b[1m65/96\u001b[0m \u001b[32m━━━━━━━━━━━━━\u001b[0m\u001b[37m━━━━━━━\u001b[0m \u001b[1m0s\u001b[0m 2ms/step - loss: 0.0023    \n",
      "Epoch 1: val_loss improved from inf to 0.00394, saving model to mymodel.keras\n",
      "\u001b[1m96/96\u001b[0m \u001b[32m━━━━━━━━━━━━━━━━━━━━\u001b[0m\u001b[37m\u001b[0m \u001b[1m2s\u001b[0m 5ms/step - loss: 0.0038 - val_loss: 0.0039\n",
      "Epoch 2/100\n",
      "\u001b[1m65/96\u001b[0m \u001b[32m━━━━━━━━━━━━━\u001b[0m\u001b[37m━━━━━━━\u001b[0m \u001b[1m0s\u001b[0m 2ms/step - loss: 0.0035\n",
      "Epoch 2: val_loss improved from 0.00394 to 0.00345, saving model to mymodel.keras\n",
      "\u001b[1m96/96\u001b[0m \u001b[32m━━━━━━━━━━━━━━━━━━━━\u001b[0m\u001b[37m\u001b[0m \u001b[1m0s\u001b[0m 2ms/step - loss: 0.0040 - val_loss: 0.0035\n",
      "Epoch 3/100\n",
      "\u001b[1m64/96\u001b[0m \u001b[32m━━━━━━━━━━━━━\u001b[0m\u001b[37m━━━━━━━\u001b[0m \u001b[1m0s\u001b[0m 2ms/step - loss: 0.0021\n",
      "Epoch 3: val_loss improved from 0.00345 to 0.00300, saving model to mymodel.keras\n",
      "\u001b[1m96/96\u001b[0m \u001b[32m━━━━━━━━━━━━━━━━━━━━\u001b[0m\u001b[37m\u001b[0m \u001b[1m0s\u001b[0m 2ms/step - loss: 0.0028 - val_loss: 0.0030\n",
      "Epoch 4/100\n",
      "\u001b[1m91/96\u001b[0m \u001b[32m━━━━━━━━━━━━━━━━━━\u001b[0m\u001b[37m━━\u001b[0m \u001b[1m0s\u001b[0m 2ms/step - loss: 0.0023\n",
      "Epoch 4: val_loss improved from 0.00300 to 0.00291, saving model to mymodel.keras\n",
      "\u001b[1m96/96\u001b[0m \u001b[32m━━━━━━━━━━━━━━━━━━━━\u001b[0m\u001b[37m\u001b[0m \u001b[1m0s\u001b[0m 2ms/step - loss: 0.0025 - val_loss: 0.0029\n",
      "Epoch 5/100\n",
      "\u001b[1m96/96\u001b[0m \u001b[32m━━━━━━━━━━━━━━━━━━━━\u001b[0m\u001b[37m\u001b[0m \u001b[1m0s\u001b[0m 2ms/step - loss: 0.0021\n",
      "Epoch 5: val_loss improved from 0.00291 to 0.00285, saving model to mymodel.keras\n",
      "\u001b[1m96/96\u001b[0m \u001b[32m━━━━━━━━━━━━━━━━━━━━\u001b[0m\u001b[37m\u001b[0m \u001b[1m0s\u001b[0m 2ms/step - loss: 0.0021 - val_loss: 0.0028\n",
      "Epoch 6/100\n",
      "\u001b[1m96/96\u001b[0m \u001b[32m━━━━━━━━━━━━━━━━━━━━\u001b[0m\u001b[37m\u001b[0m \u001b[1m0s\u001b[0m 2ms/step - loss: 0.0021\n",
      "Epoch 6: val_loss improved from 0.00285 to 0.00244, saving model to mymodel.keras\n",
      "\u001b[1m96/96\u001b[0m \u001b[32m━━━━━━━━━━━━━━━━━━━━\u001b[0m\u001b[37m\u001b[0m \u001b[1m0s\u001b[0m 2ms/step - loss: 0.0021 - val_loss: 0.0024\n",
      "Epoch 7/100\n",
      "\u001b[1m64/96\u001b[0m \u001b[32m━━━━━━━━━━━━━\u001b[0m\u001b[37m━━━━━━━\u001b[0m \u001b[1m0s\u001b[0m 2ms/step - loss: 0.0010    \n",
      "Epoch 7: val_loss did not improve from 0.00244\n",
      "\u001b[1m96/96\u001b[0m \u001b[32m━━━━━━━━━━━━━━━━━━━━\u001b[0m\u001b[37m\u001b[0m \u001b[1m0s\u001b[0m 2ms/step - loss: 0.0018 - val_loss: 0.0026\n",
      "Epoch 8/100\n",
      "\u001b[1m65/96\u001b[0m \u001b[32m━━━━━━━━━━━━━\u001b[0m\u001b[37m━━━━━━━\u001b[0m \u001b[1m0s\u001b[0m 2ms/step - loss: 0.0011    \n",
      "Epoch 8: val_loss improved from 0.00244 to 0.00234, saving model to mymodel.keras\n",
      "\u001b[1m96/96\u001b[0m \u001b[32m━━━━━━━━━━━━━━━━━━━━\u001b[0m\u001b[37m\u001b[0m \u001b[1m0s\u001b[0m 2ms/step - loss: 0.0018 - val_loss: 0.0023\n",
      "Epoch 9/100\n",
      "\u001b[1m65/96\u001b[0m \u001b[32m━━━━━━━━━━━━━\u001b[0m\u001b[37m━━━━━━━\u001b[0m \u001b[1m0s\u001b[0m 2ms/step - loss: 0.0011    \n",
      "Epoch 9: val_loss did not improve from 0.00234\n",
      "\u001b[1m96/96\u001b[0m \u001b[32m━━━━━━━━━━━━━━━━━━━━\u001b[0m\u001b[37m\u001b[0m \u001b[1m0s\u001b[0m 2ms/step - loss: 0.0018 - val_loss: 0.0024\n",
      "Epoch 10/100\n",
      "\u001b[1m65/96\u001b[0m \u001b[32m━━━━━━━━━━━━━\u001b[0m\u001b[37m━━━━━━━\u001b[0m \u001b[1m0s\u001b[0m 2ms/step - loss: 0.0013\n",
      "Epoch 10: val_loss improved from 0.00234 to 0.00222, saving model to mymodel.keras\n",
      "\u001b[1m96/96\u001b[0m \u001b[32m━━━━━━━━━━━━━━━━━━━━\u001b[0m\u001b[37m\u001b[0m \u001b[1m0s\u001b[0m 2ms/step - loss: 0.0020 - val_loss: 0.0022\n",
      "Epoch 11/100\n",
      "\u001b[1m96/96\u001b[0m \u001b[32m━━━━━━━━━━━━━━━━━━━━\u001b[0m\u001b[37m\u001b[0m \u001b[1m0s\u001b[0m 2ms/step - loss: 0.0020\n",
      "Epoch 11: val_loss improved from 0.00222 to 0.00200, saving model to mymodel.keras\n",
      "\u001b[1m96/96\u001b[0m \u001b[32m━━━━━━━━━━━━━━━━━━━━\u001b[0m\u001b[37m\u001b[0m \u001b[1m0s\u001b[0m 2ms/step - loss: 0.0020 - val_loss: 0.0020\n",
      "Epoch 12/100\n",
      "\u001b[1m65/96\u001b[0m \u001b[32m━━━━━━━━━━━━━\u001b[0m\u001b[37m━━━━━━━\u001b[0m \u001b[1m0s\u001b[0m 2ms/step - loss: 9.5817e-04\n",
      "Epoch 12: val_loss improved from 0.00200 to 0.00189, saving model to mymodel.keras\n",
      "\u001b[1m96/96\u001b[0m \u001b[32m━━━━━━━━━━━━━━━━━━━━\u001b[0m\u001b[37m\u001b[0m \u001b[1m0s\u001b[0m 2ms/step - loss: 0.0017 - val_loss: 0.0019\n",
      "Epoch 13/100\n",
      "\u001b[1m66/96\u001b[0m \u001b[32m━━━━━━━━━━━━━\u001b[0m\u001b[37m━━━━━━━\u001b[0m \u001b[1m0s\u001b[0m 2ms/step - loss: 0.0011    \n",
      "Epoch 13: val_loss did not improve from 0.00189\n",
      "\u001b[1m96/96\u001b[0m \u001b[32m━━━━━━━━━━━━━━━━━━━━\u001b[0m\u001b[37m\u001b[0m \u001b[1m0s\u001b[0m 2ms/step - loss: 0.0018 - val_loss: 0.0020\n",
      "Epoch 14/100\n",
      "\u001b[1m65/96\u001b[0m \u001b[32m━━━━━━━━━━━━━\u001b[0m\u001b[37m━━━━━━━\u001b[0m \u001b[1m0s\u001b[0m 2ms/step - loss: 0.0012\n",
      "Epoch 14: val_loss did not improve from 0.00189\n",
      "\u001b[1m96/96\u001b[0m \u001b[32m━━━━━━━━━━━━━━━━━━━━\u001b[0m\u001b[37m\u001b[0m \u001b[1m0s\u001b[0m 2ms/step - loss: 0.0018 - val_loss: 0.0020\n",
      "Epoch 15/100\n",
      "\u001b[1m65/96\u001b[0m \u001b[32m━━━━━━━━━━━━━\u001b[0m\u001b[37m━━━━━━━\u001b[0m \u001b[1m0s\u001b[0m 2ms/step - loss: 0.0011\n",
      "Epoch 15: val_loss did not improve from 0.00189\n",
      "\u001b[1m96/96\u001b[0m \u001b[32m━━━━━━━━━━━━━━━━━━━━\u001b[0m\u001b[37m\u001b[0m \u001b[1m0s\u001b[0m 2ms/step - loss: 0.0017 - val_loss: 0.0022\n",
      "Epoch 16/100\n",
      "\u001b[1m65/96\u001b[0m \u001b[32m━━━━━━━━━━━━━\u001b[0m\u001b[37m━━━━━━━\u001b[0m \u001b[1m0s\u001b[0m 2ms/step - loss: 0.0012\n",
      "Epoch 16: val_loss did not improve from 0.00189\n",
      "\u001b[1m96/96\u001b[0m \u001b[32m━━━━━━━━━━━━━━━━━━━━\u001b[0m\u001b[37m\u001b[0m \u001b[1m0s\u001b[0m 2ms/step - loss: 0.0017 - val_loss: 0.0019\n",
      "Epoch 17/100\n",
      "\u001b[1m65/96\u001b[0m \u001b[32m━━━━━━━━━━━━━\u001b[0m\u001b[37m━━━━━━━\u001b[0m \u001b[1m0s\u001b[0m 2ms/step - loss: 0.0011    \n",
      "Epoch 17: val_loss improved from 0.00189 to 0.00184, saving model to mymodel.keras\n",
      "\u001b[1m96/96\u001b[0m \u001b[32m━━━━━━━━━━━━━━━━━━━━\u001b[0m\u001b[37m\u001b[0m \u001b[1m0s\u001b[0m 2ms/step - loss: 0.0016 - val_loss: 0.0018\n",
      "Epoch 18/100\n",
      "\u001b[1m96/96\u001b[0m \u001b[32m━━━━━━━━━━━━━━━━━━━━\u001b[0m\u001b[37m\u001b[0m \u001b[1m0s\u001b[0m 2ms/step - loss: 0.0016    \n",
      "Epoch 18: val_loss did not improve from 0.00184\n",
      "\u001b[1m96/96\u001b[0m \u001b[32m━━━━━━━━━━━━━━━━━━━━\u001b[0m\u001b[37m\u001b[0m \u001b[1m0s\u001b[0m 2ms/step - loss: 0.0016 - val_loss: 0.0026\n",
      "Epoch 19/100\n",
      "\u001b[1m66/96\u001b[0m \u001b[32m━━━━━━━━━━━━━\u001b[0m\u001b[37m━━━━━━━\u001b[0m \u001b[1m0s\u001b[0m 2ms/step - loss: 0.0013\n",
      "Epoch 19: val_loss improved from 0.00184 to 0.00176, saving model to mymodel.keras\n",
      "\u001b[1m96/96\u001b[0m \u001b[32m━━━━━━━━━━━━━━━━━━━━\u001b[0m\u001b[37m\u001b[0m \u001b[1m0s\u001b[0m 2ms/step - loss: 0.0019 - val_loss: 0.0018\n",
      "Epoch 20/100\n",
      "\u001b[1m64/96\u001b[0m \u001b[32m━━━━━━━━━━━━━\u001b[0m\u001b[37m━━━━━━━\u001b[0m \u001b[1m0s\u001b[0m 2ms/step - loss: 9.3319e-04\n",
      "Epoch 20: val_loss did not improve from 0.00176\n",
      "\u001b[1m96/96\u001b[0m \u001b[32m━━━━━━━━━━━━━━━━━━━━\u001b[0m\u001b[37m\u001b[0m \u001b[1m0s\u001b[0m 2ms/step - loss: 0.0016 - val_loss: 0.0019\n",
      "Epoch 21/100\n",
      "\u001b[1m96/96\u001b[0m \u001b[32m━━━━━━━━━━━━━━━━━━━━\u001b[0m\u001b[37m\u001b[0m \u001b[1m0s\u001b[0m 2ms/step - loss: 0.0017\n",
      "Epoch 21: val_loss did not improve from 0.00176\n",
      "\u001b[1m96/96\u001b[0m \u001b[32m━━━━━━━━━━━━━━━━━━━━\u001b[0m\u001b[37m\u001b[0m \u001b[1m0s\u001b[0m 2ms/step - loss: 0.0018 - val_loss: 0.0018\n",
      "Epoch 22/100\n",
      "\u001b[1m65/96\u001b[0m \u001b[32m━━━━━━━━━━━━━\u001b[0m\u001b[37m━━━━━━━\u001b[0m \u001b[1m0s\u001b[0m 2ms/step - loss: 0.0011    \n",
      "Epoch 22: val_loss did not improve from 0.00176\n",
      "\u001b[1m96/96\u001b[0m \u001b[32m━━━━━━━━━━━━━━━━━━━━\u001b[0m\u001b[37m\u001b[0m \u001b[1m0s\u001b[0m 2ms/step - loss: 0.0018 - val_loss: 0.0038\n",
      "Epoch 23/100\n",
      "\u001b[1m65/96\u001b[0m \u001b[32m━━━━━━━━━━━━━\u001b[0m\u001b[37m━━━━━━━\u001b[0m \u001b[1m0s\u001b[0m 2ms/step - loss: 0.0016\n",
      "Epoch 23: val_loss did not improve from 0.00176\n",
      "\u001b[1m96/96\u001b[0m \u001b[32m━━━━━━━━━━━━━━━━━━━━\u001b[0m\u001b[37m\u001b[0m \u001b[1m0s\u001b[0m 2ms/step - loss: 0.0021 - val_loss: 0.0036\n",
      "Epoch 24/100\n",
      "\u001b[1m65/96\u001b[0m \u001b[32m━━━━━━━━━━━━━\u001b[0m\u001b[37m━━━━━━━\u001b[0m \u001b[1m0s\u001b[0m 2ms/step - loss: 0.0013\n",
      "Epoch 24: val_loss did not improve from 0.00176\n",
      "\u001b[1m96/96\u001b[0m \u001b[32m━━━━━━━━━━━━━━━━━━━━\u001b[0m\u001b[37m\u001b[0m \u001b[1m0s\u001b[0m 2ms/step - loss: 0.0020 - val_loss: 0.0038\n",
      "Epoch 25/100\n",
      "\u001b[1m96/96\u001b[0m \u001b[32m━━━━━━━━━━━━━━━━━━━━\u001b[0m\u001b[37m\u001b[0m \u001b[1m0s\u001b[0m 2ms/step - loss: 0.0020\n",
      "Epoch 25: val_loss did not improve from 0.00176\n",
      "\u001b[1m96/96\u001b[0m \u001b[32m━━━━━━━━━━━━━━━━━━━━\u001b[0m\u001b[37m\u001b[0m \u001b[1m0s\u001b[0m 2ms/step - loss: 0.0020 - val_loss: 0.0060\n",
      "Epoch 26/100\n",
      "\u001b[1m66/96\u001b[0m \u001b[32m━━━━━━━━━━━━━\u001b[0m\u001b[37m━━━━━━━\u001b[0m \u001b[1m0s\u001b[0m 2ms/step - loss: 0.0016\n",
      "Epoch 26: val_loss did not improve from 0.00176\n",
      "\u001b[1m96/96\u001b[0m \u001b[32m━━━━━━━━━━━━━━━━━━━━\u001b[0m\u001b[37m\u001b[0m \u001b[1m0s\u001b[0m 2ms/step - loss: 0.0022 - val_loss: 0.0061\n",
      "Epoch 27/100\n",
      "\u001b[1m96/96\u001b[0m \u001b[32m━━━━━━━━━━━━━━━━━━━━\u001b[0m\u001b[37m\u001b[0m \u001b[1m0s\u001b[0m 2ms/step - loss: 0.0023\n",
      "Epoch 27: val_loss did not improve from 0.00176\n",
      "\u001b[1m96/96\u001b[0m \u001b[32m━━━━━━━━━━━━━━━━━━━━\u001b[0m\u001b[37m\u001b[0m \u001b[1m0s\u001b[0m 2ms/step - loss: 0.0023 - val_loss: 0.0101\n",
      "Epoch 28/100\n",
      "\u001b[1m66/96\u001b[0m \u001b[32m━━━━━━━━━━━━━\u001b[0m\u001b[37m━━━━━━━\u001b[0m \u001b[1m0s\u001b[0m 2ms/step - loss: 0.0017\n",
      "Epoch 28: val_loss did not improve from 0.00176\n",
      "\u001b[1m96/96\u001b[0m \u001b[32m━━━━━━━━━━━━━━━━━━━━\u001b[0m\u001b[37m\u001b[0m \u001b[1m0s\u001b[0m 2ms/step - loss: 0.0024 - val_loss: 0.0070\n",
      "Epoch 29/100\n",
      "\u001b[1m96/96\u001b[0m \u001b[32m━━━━━━━━━━━━━━━━━━━━\u001b[0m\u001b[37m\u001b[0m \u001b[1m0s\u001b[0m 2ms/step - loss: 0.0021\n",
      "Epoch 29: val_loss did not improve from 0.00176\n",
      "\u001b[1m96/96\u001b[0m \u001b[32m━━━━━━━━━━━━━━━━━━━━\u001b[0m\u001b[37m\u001b[0m \u001b[1m0s\u001b[0m 2ms/step - loss: 0.0022 - val_loss: 0.0107\n",
      "Epoch 29: early stopping\n"
     ]
    }
   ],
   "source": [
    "history = model.fit(x=X_train,\n",
    "                    y=y_train,\n",
    "                    epochs=100,\n",
    "                    batch_size=20,\n",
    "                    validation_data=(X_test, y_test),\n",
    "                    callbacks=[callbacks],\n",
    "                    shuffle=False)"
   ]
  },
  {
   "cell_type": "code",
   "execution_count": 43,
   "id": "c66f567b",
   "metadata": {
    "execution": {
     "iopub.execute_input": "2024-12-28T07:14:25.514302Z",
     "iopub.status.busy": "2024-12-28T07:14:25.513247Z",
     "iopub.status.idle": "2024-12-28T07:14:25.767260Z",
     "shell.execute_reply": "2024-12-28T07:14:25.765990Z"
    },
    "id": "VzxR8n1yeGpV",
    "papermill": {
     "duration": 0.280978,
     "end_time": "2024-12-28T07:14:25.769848",
     "exception": false,
     "start_time": "2024-12-28T07:14:25.488870",
     "status": "completed"
    },
    "tags": []
   },
   "outputs": [
    {
     "data": {
      "image/png": "[encoded data removed]",
      "text/plain": [
       "<Figure size 2000x500 with 1 Axes>"
      ]
     },
     "metadata": {},
     "output_type": "display_data"
    }
   ],
   "source": [
    "plt.figure(figsize=(20,5))\n",
    "plt.subplot(1,2,1)\n",
    "plt.plot(history.history['loss'], label='Training Loss')\n",
    "plt.plot(history.history['val_loss'], label='Validation Loss')\n",
    "plt.legend(loc='upper right')\n",
    "plt.xlabel('Epoch', fontsize = 16)\n",
    "plt.ylabel('Loss', fontsize = 16)\n",
    "plt.ylim([0,max(plt.ylim())])\n",
    "plt.title('Training and Validation Loss', fontsize = 16)\n",
    "plt.show()"
   ]
  },
  {
   "cell_type": "markdown",
   "id": "5d261f40",
   "metadata": {
    "id": "XO0NGWQWerLU",
    "papermill": {
     "duration": 0.023029,
     "end_time": "2024-12-28T07:14:25.816787",
     "exception": false,
     "start_time": "2024-12-28T07:14:25.793758",
     "status": "completed"
    },
    "tags": []
   },
   "source": [
    "## Evaluation"
   ]
  },
  {
   "cell_type": "code",
   "execution_count": 44,
   "id": "8b568b3c",
   "metadata": {
    "execution": {
     "iopub.execute_input": "2024-12-28T07:14:25.864381Z",
     "iopub.status.busy": "2024-12-28T07:14:25.864004Z",
     "iopub.status.idle": "2024-12-28T07:14:26.354729Z",
     "shell.execute_reply": "2024-12-28T07:14:26.353589Z"
    },
    "id": "hyeoNUjxetH-",
    "papermill": {
     "duration": 0.516934,
     "end_time": "2024-12-28T07:14:26.356768",
     "exception": false,
     "start_time": "2024-12-28T07:14:25.839834",
     "status": "completed"
    },
    "tags": []
   },
   "outputs": [
    {
     "name": "stdout",
     "output_type": "stream",
     "text": [
      "\u001b[1m463/463\u001b[0m \u001b[32m━━━━━━━━━━━━━━━━━━━━\u001b[0m\u001b[37m\u001b[0m \u001b[1m0s\u001b[0m 915us/step - loss: 0.0123\n",
      "\n",
      "Test Loss: 1.1%\n"
     ]
    }
   ],
   "source": [
    "loss = model.evaluate(X_test, y_test, batch_size=1)\n",
    "print(\"\\nTest Loss: %.1f%%\" % (100.0 * loss))"
   ]
  },
  {
   "cell_type": "code",
   "execution_count": 45,
   "id": "3bc429e6",
   "metadata": {
    "execution": {
     "iopub.execute_input": "2024-12-28T07:14:26.406167Z",
     "iopub.status.busy": "2024-12-28T07:14:26.405787Z",
     "iopub.status.idle": "2024-12-28T07:14:26.838416Z",
     "shell.execute_reply": "2024-12-28T07:14:26.837613Z"
    },
    "id": "9e854j_NfFTV",
    "papermill": {
     "duration": 0.459914,
     "end_time": "2024-12-28T07:14:26.840686",
     "exception": false,
     "start_time": "2024-12-28T07:14:26.380772",
     "status": "completed"
    },
    "tags": []
   },
   "outputs": [
    {
     "name": "stdout",
     "output_type": "stream",
     "text": [
      "\u001b[1m60/60\u001b[0m \u001b[32m━━━━━━━━━━━━━━━━━━━━\u001b[0m\u001b[37m\u001b[0m \u001b[1m0s\u001b[0m 3ms/step\n"
     ]
    }
   ],
   "source": [
    "train_predict = model.predict(X_train)"
   ]
  },
  {
   "cell_type": "code",
   "execution_count": 46,
   "id": "344de0e9",
   "metadata": {
    "execution": {
     "iopub.execute_input": "2024-12-28T07:14:26.890900Z",
     "iopub.status.busy": "2024-12-28T07:14:26.890496Z",
     "iopub.status.idle": "2024-12-28T07:14:26.983238Z",
     "shell.execute_reply": "2024-12-28T07:14:26.982409Z"
    },
    "id": "GZgJuMd-fqZW",
    "papermill": {
     "duration": 0.120337,
     "end_time": "2024-12-28T07:14:26.985475",
     "exception": false,
     "start_time": "2024-12-28T07:14:26.865138",
     "status": "completed"
    },
    "tags": []
   },
   "outputs": [
    {
     "name": "stdout",
     "output_type": "stream",
     "text": [
      "\u001b[1m15/15\u001b[0m \u001b[32m━━━━━━━━━━━━━━━━━━━━\u001b[0m\u001b[37m\u001b[0m \u001b[1m0s\u001b[0m 1ms/step \n"
     ]
    }
   ],
   "source": [
    "test_predict = model.predict(X_test)"
   ]
  },
  {
   "cell_type": "code",
   "execution_count": 47,
   "id": "b42b2c8b",
   "metadata": {
    "execution": {
     "iopub.execute_input": "2024-12-28T07:14:27.036080Z",
     "iopub.status.busy": "2024-12-28T07:14:27.035710Z",
     "iopub.status.idle": "2024-12-28T07:14:27.040520Z",
     "shell.execute_reply": "2024-12-28T07:14:27.039633Z"
    },
    "id": "FcH_8U3tfsGm",
    "papermill": {
     "duration": 0.032386,
     "end_time": "2024-12-28T07:14:27.042461",
     "exception": false,
     "start_time": "2024-12-28T07:14:27.010075",
     "status": "completed"
    },
    "tags": []
   },
   "outputs": [],
   "source": [
    "train_predict = scaler_train.inverse_transform(train_predict)\n",
    "test_predict = scaler_test.inverse_transform(test_predict)"
   ]
  },
  {
   "cell_type": "code",
   "execution_count": 48,
   "id": "dcf0f48e",
   "metadata": {
    "execution": {
     "iopub.execute_input": "2024-12-28T07:14:27.092295Z",
     "iopub.status.busy": "2024-12-28T07:14:27.091918Z",
     "iopub.status.idle": "2024-12-28T07:14:27.096848Z",
     "shell.execute_reply": "2024-12-28T07:14:27.095869Z"
    },
    "id": "DsGDu-NKf912",
    "papermill": {
     "duration": 0.032372,
     "end_time": "2024-12-28T07:14:27.098904",
     "exception": false,
     "start_time": "2024-12-28T07:14:27.066532",
     "status": "completed"
    },
    "tags": []
   },
   "outputs": [],
   "source": [
    "y_train = scaler_train.inverse_transform(y_train)\n",
    "y_test = scaler_test.inverse_transform(y_test)"
   ]
  },
  {
   "cell_type": "code",
   "execution_count": 49,
   "id": "bdab12a5",
   "metadata": {
    "execution": {
     "iopub.execute_input": "2024-12-28T07:14:27.148753Z",
     "iopub.status.busy": "2024-12-28T07:14:27.148365Z",
     "iopub.status.idle": "2024-12-28T07:14:27.153599Z",
     "shell.execute_reply": "2024-12-28T07:14:27.152608Z"
    },
    "id": "ZLXqwAU7gGW2",
    "papermill": {
     "duration": 0.032203,
     "end_time": "2024-12-28T07:14:27.155381",
     "exception": false,
     "start_time": "2024-12-28T07:14:27.123178",
     "status": "completed"
    },
    "tags": []
   },
   "outputs": [],
   "source": [
    "train_rmse = np.sqrt(mean_squared_error(y_train, train_predict))"
   ]
  },
  {
   "cell_type": "code",
   "execution_count": 50,
   "id": "e391270b",
   "metadata": {
    "execution": {
     "iopub.execute_input": "2024-12-28T07:14:27.205377Z",
     "iopub.status.busy": "2024-12-28T07:14:27.204463Z",
     "iopub.status.idle": "2024-12-28T07:14:27.209532Z",
     "shell.execute_reply": "2024-12-28T07:14:27.208683Z"
    },
    "id": "76WbnJaIgJ4g",
    "papermill": {
     "duration": 0.03215,
     "end_time": "2024-12-28T07:14:27.211467",
     "exception": false,
     "start_time": "2024-12-28T07:14:27.179317",
     "status": "completed"
    },
    "tags": []
   },
   "outputs": [],
   "source": [
    "test_rmse = np.sqrt(mean_squared_error(y_test, test_predict))"
   ]
  },
  {
   "cell_type": "code",
   "execution_count": 51,
   "id": "0d6fbbc5",
   "metadata": {
    "execution": {
     "iopub.execute_input": "2024-12-28T07:14:27.261397Z",
     "iopub.status.busy": "2024-12-28T07:14:27.261019Z",
     "iopub.status.idle": "2024-12-28T07:14:27.266373Z",
     "shell.execute_reply": "2024-12-28T07:14:27.265340Z"
    },
    "id": "WcUBQBz7gMV2",
    "papermill": {
     "duration": 0.032595,
     "end_time": "2024-12-28T07:14:27.268401",
     "exception": false,
     "start_time": "2024-12-28T07:14:27.235806",
     "status": "completed"
    },
    "tags": []
   },
   "outputs": [
    {
     "name": "stdout",
     "output_type": "stream",
     "text": [
      "Train RMSE: 37.690189361572266\n",
      "Test RMSE: 62.26547622680664\n"
     ]
    }
   ],
   "source": [
    "print(f\"Train RMSE: {train_rmse}\")\n",
    "print(f\"Test RMSE: {test_rmse}\")"
   ]
  },
  {
   "cell_type": "code",
   "execution_count": 52,
   "id": "3d4560c1",
   "metadata": {
    "execution": {
     "iopub.execute_input": "2024-12-28T07:14:27.318628Z",
     "iopub.status.busy": "2024-12-28T07:14:27.318198Z",
     "iopub.status.idle": "2024-12-28T07:14:27.346784Z",
     "shell.execute_reply": "2024-12-28T07:14:27.345852Z"
    },
    "id": "t_llof9mgYz_",
    "papermill": {
     "duration": 0.056361,
     "end_time": "2024-12-28T07:14:27.348993",
     "exception": false,
     "start_time": "2024-12-28T07:14:27.292632",
     "status": "completed"
    },
    "tags": []
   },
   "outputs": [
    {
     "data": {
      "text/html": [
       "<div>\n",
       "<style scoped>\n",
       "    .dataframe tbody tr th:only-of-type {\n",
       "        vertical-align: middle;\n",
       "    }\n",
       "\n",
       "    .dataframe tbody tr th {\n",
       "        vertical-align: top;\n",
       "    }\n",
       "\n",
       "    .dataframe thead th {\n",
       "        text-align: right;\n",
       "    }\n",
       "</style>\n",
       "<table border=\"1\" class=\"dataframe\">\n",
       "  <thead>\n",
       "    <tr style=\"text-align: right;\">\n",
       "      <th></th>\n",
       "      <th>count</th>\n",
       "      <th>mean</th>\n",
       "      <th>min</th>\n",
       "      <th>25%</th>\n",
       "      <th>50%</th>\n",
       "      <th>75%</th>\n",
       "      <th>max</th>\n",
       "      <th>std</th>\n",
       "    </tr>\n",
       "  </thead>\n",
       "  <tbody>\n",
       "    <tr>\n",
       "      <th>Date</th>\n",
       "      <td>2416</td>\n",
       "      <td>2015-04-15 11:09:56.026490112</td>\n",
       "      <td>2010-06-29 00:00:00</td>\n",
       "      <td>2012-11-19 18:00:00</td>\n",
       "      <td>2015-04-16 12:00:00</td>\n",
       "      <td>2017-09-07 06:00:00</td>\n",
       "      <td>2020-02-03 00:00:00</td>\n",
       "      <td>NaN</td>\n",
       "    </tr>\n",
       "    <tr>\n",
       "      <th>Open</th>\n",
       "      <td>2416.0</td>\n",
       "      <td>186.271147</td>\n",
       "      <td>16.139999</td>\n",
       "      <td>34.342498</td>\n",
       "      <td>213.035004</td>\n",
       "      <td>266.450012</td>\n",
       "      <td>673.690002</td>\n",
       "      <td>118.740163</td>\n",
       "    </tr>\n",
       "    <tr>\n",
       "      <th>High</th>\n",
       "      <td>2416.0</td>\n",
       "      <td>189.578224</td>\n",
       "      <td>16.629999</td>\n",
       "      <td>34.897501</td>\n",
       "      <td>216.745002</td>\n",
       "      <td>270.927513</td>\n",
       "      <td>786.140015</td>\n",
       "      <td>120.892329</td>\n",
       "    </tr>\n",
       "    <tr>\n",
       "      <th>Low</th>\n",
       "      <td>2416.0</td>\n",
       "      <td>182.916639</td>\n",
       "      <td>14.98</td>\n",
       "      <td>33.587501</td>\n",
       "      <td>208.870002</td>\n",
       "      <td>262.102501</td>\n",
       "      <td>673.52002</td>\n",
       "      <td>116.857591</td>\n",
       "    </tr>\n",
       "    <tr>\n",
       "      <th>Close</th>\n",
       "      <td>2416.0</td>\n",
       "      <td>186.403651</td>\n",
       "      <td>15.8</td>\n",
       "      <td>34.400002</td>\n",
       "      <td>212.960007</td>\n",
       "      <td>266.774994</td>\n",
       "      <td>780.0</td>\n",
       "      <td>119.13602</td>\n",
       "    </tr>\n",
       "    <tr>\n",
       "      <th>Adj Close</th>\n",
       "      <td>2416.0</td>\n",
       "      <td>186.403651</td>\n",
       "      <td>15.8</td>\n",
       "      <td>34.400002</td>\n",
       "      <td>212.960007</td>\n",
       "      <td>266.774994</td>\n",
       "      <td>780.0</td>\n",
       "      <td>119.13602</td>\n",
       "    </tr>\n",
       "    <tr>\n",
       "      <th>Volume</th>\n",
       "      <td>2416.0</td>\n",
       "      <td>5572721.688742</td>\n",
       "      <td>118500.0</td>\n",
       "      <td>1899275.0</td>\n",
       "      <td>4578400.0</td>\n",
       "      <td>7361150.0</td>\n",
       "      <td>47065000.0</td>\n",
       "      <td>4987809.151888</td>\n",
       "    </tr>\n",
       "  </tbody>\n",
       "</table>\n",
       "</div>"
      ],
      "text/plain": [
       "            count                           mean                  min  \\\n",
       "Date         2416  2015-04-15 11:09:56.026490112  2010-06-29 00:00:00   \n",
       "Open       2416.0                     186.271147            16.139999   \n",
       "High       2416.0                     189.578224            16.629999   \n",
       "Low        2416.0                     182.916639                14.98   \n",
       "Close      2416.0                     186.403651                 15.8   \n",
       "Adj Close  2416.0                     186.403651                 15.8   \n",
       "Volume     2416.0                 5572721.688742             118500.0   \n",
       "\n",
       "                           25%                  50%                  75%  \\\n",
       "Date       2012-11-19 18:00:00  2015-04-16 12:00:00  2017-09-07 06:00:00   \n",
       "Open                 34.342498           213.035004           266.450012   \n",
       "High                 34.897501           216.745002           270.927513   \n",
       "Low                  33.587501           208.870002           262.102501   \n",
       "Close                34.400002           212.960007           266.774994   \n",
       "Adj Close            34.400002           212.960007           266.774994   \n",
       "Volume               1899275.0            4578400.0            7361150.0   \n",
       "\n",
       "                           max             std  \n",
       "Date       2020-02-03 00:00:00             NaN  \n",
       "Open                673.690002      118.740163  \n",
       "High                786.140015      120.892329  \n",
       "Low                  673.52002      116.857591  \n",
       "Close                    780.0       119.13602  \n",
       "Adj Close                780.0       119.13602  \n",
       "Volume              47065000.0  4987809.151888  "
      ]
     },
     "execution_count": 52,
     "metadata": {},
     "output_type": "execute_result"
    }
   ],
   "source": [
    "df.describe().T"
   ]
  },
  {
   "cell_type": "code",
   "execution_count": 53,
   "id": "76585a23",
   "metadata": {
    "execution": {
     "iopub.execute_input": "2024-12-28T07:14:27.400239Z",
     "iopub.status.busy": "2024-12-28T07:14:27.399862Z",
     "iopub.status.idle": "2024-12-28T07:14:27.410720Z",
     "shell.execute_reply": "2024-12-28T07:14:27.409788Z"
    },
    "id": "-PSGVpMzgz1O",
    "papermill": {
     "duration": 0.038933,
     "end_time": "2024-12-28T07:14:27.412589",
     "exception": false,
     "start_time": "2024-12-28T07:14:27.373656",
     "status": "completed"
    },
    "tags": []
   },
   "outputs": [
    {
     "data": {
      "text/html": [
       "<div>\n",
       "<style scoped>\n",
       "    .dataframe tbody tr th:only-of-type {\n",
       "        vertical-align: middle;\n",
       "    }\n",
       "\n",
       "    .dataframe tbody tr th {\n",
       "        vertical-align: top;\n",
       "    }\n",
       "\n",
       "    .dataframe thead th {\n",
       "        text-align: right;\n",
       "    }\n",
       "</style>\n",
       "<table border=\"1\" class=\"dataframe\">\n",
       "  <thead>\n",
       "    <tr style=\"text-align: right;\">\n",
       "      <th></th>\n",
       "      <th>Close</th>\n",
       "      <th>Predicted</th>\n",
       "    </tr>\n",
       "    <tr>\n",
       "      <th>Date</th>\n",
       "      <th></th>\n",
       "      <th></th>\n",
       "    </tr>\n",
       "  </thead>\n",
       "  <tbody>\n",
       "    <tr>\n",
       "      <th>2010-07-28</th>\n",
       "      <td>20.719999</td>\n",
       "      <td>40.099167</td>\n",
       "    </tr>\n",
       "    <tr>\n",
       "      <th>2010-07-29</th>\n",
       "      <td>20.350000</td>\n",
       "      <td>40.099167</td>\n",
       "    </tr>\n",
       "    <tr>\n",
       "      <th>2010-07-30</th>\n",
       "      <td>19.940001</td>\n",
       "      <td>40.099167</td>\n",
       "    </tr>\n",
       "    <tr>\n",
       "      <th>2010-08-02</th>\n",
       "      <td>20.920000</td>\n",
       "      <td>40.099167</td>\n",
       "    </tr>\n",
       "    <tr>\n",
       "      <th>2010-08-03</th>\n",
       "      <td>21.950001</td>\n",
       "      <td>40.099167</td>\n",
       "    </tr>\n",
       "  </tbody>\n",
       "</table>\n",
       "</div>"
      ],
      "text/plain": [
       "                Close  Predicted\n",
       "Date                            \n",
       "2010-07-28  20.719999  40.099167\n",
       "2010-07-29  20.350000  40.099167\n",
       "2010-07-30  19.940001  40.099167\n",
       "2010-08-02  20.920000  40.099167\n",
       "2010-08-03  21.950001  40.099167"
      ]
     },
     "execution_count": 53,
     "metadata": {},
     "output_type": "execute_result"
    }
   ],
   "source": [
    "train_prediction_df = result_df[lookback:position]\n",
    "train_prediction_df[\"Predicted\"] = train_predict\n",
    "train_prediction_df.head()"
   ]
  },
  {
   "cell_type": "code",
   "execution_count": 54,
   "id": "32e164b3",
   "metadata": {
    "execution": {
     "iopub.execute_input": "2024-12-28T07:14:27.463898Z",
     "iopub.status.busy": "2024-12-28T07:14:27.463085Z",
     "iopub.status.idle": "2024-12-28T07:14:27.473768Z",
     "shell.execute_reply": "2024-12-28T07:14:27.472768Z"
    },
    "id": "o7tRAXwOhMSA",
    "papermill": {
     "duration": 0.038458,
     "end_time": "2024-12-28T07:14:27.475850",
     "exception": false,
     "start_time": "2024-12-28T07:14:27.437392",
     "status": "completed"
    },
    "tags": []
   },
   "outputs": [
    {
     "data": {
      "text/html": [
       "<div>\n",
       "<style scoped>\n",
       "    .dataframe tbody tr th:only-of-type {\n",
       "        vertical-align: middle;\n",
       "    }\n",
       "\n",
       "    .dataframe tbody tr th {\n",
       "        vertical-align: top;\n",
       "    }\n",
       "\n",
       "    .dataframe thead th {\n",
       "        text-align: right;\n",
       "    }\n",
       "</style>\n",
       "<table border=\"1\" class=\"dataframe\">\n",
       "  <thead>\n",
       "    <tr style=\"text-align: right;\">\n",
       "      <th></th>\n",
       "      <th>Close</th>\n",
       "      <th>Predicted</th>\n",
       "    </tr>\n",
       "    <tr>\n",
       "      <th>Date</th>\n",
       "      <th></th>\n",
       "      <th></th>\n",
       "    </tr>\n",
       "  </thead>\n",
       "  <tbody>\n",
       "    <tr>\n",
       "      <th>2018-04-03</th>\n",
       "      <td>267.529999</td>\n",
       "      <td>352.860107</td>\n",
       "    </tr>\n",
       "    <tr>\n",
       "      <th>2018-04-04</th>\n",
       "      <td>286.940002</td>\n",
       "      <td>348.803650</td>\n",
       "    </tr>\n",
       "    <tr>\n",
       "      <th>2018-04-05</th>\n",
       "      <td>305.720001</td>\n",
       "      <td>347.325470</td>\n",
       "    </tr>\n",
       "    <tr>\n",
       "      <th>2018-04-06</th>\n",
       "      <td>299.299988</td>\n",
       "      <td>350.358917</td>\n",
       "    </tr>\n",
       "    <tr>\n",
       "      <th>2018-04-09</th>\n",
       "      <td>289.660004</td>\n",
       "      <td>352.658325</td>\n",
       "    </tr>\n",
       "  </tbody>\n",
       "</table>\n",
       "</div>"
      ],
      "text/plain": [
       "                 Close   Predicted\n",
       "Date                              \n",
       "2018-04-03  267.529999  352.860107\n",
       "2018-04-04  286.940002  348.803650\n",
       "2018-04-05  305.720001  347.325470\n",
       "2018-04-06  299.299988  350.358917\n",
       "2018-04-09  289.660004  352.658325"
      ]
     },
     "execution_count": 54,
     "metadata": {},
     "output_type": "execute_result"
    }
   ],
   "source": [
    "test_prediction_df = result_df[position+lookback:]\n",
    "test_prediction_df[\"Predicted\"] = test_predict\n",
    "test_prediction_df.head()"
   ]
  },
  {
   "cell_type": "code",
   "execution_count": 55,
   "id": "732d3795",
   "metadata": {
    "execution": {
     "iopub.execute_input": "2024-12-28T07:14:27.527097Z",
     "iopub.status.busy": "2024-12-28T07:14:27.526239Z",
     "iopub.status.idle": "2024-12-28T07:14:27.908414Z",
     "shell.execute_reply": "2024-12-28T07:14:27.907337Z"
    },
    "id": "PJ_-znSchYO_",
    "papermill": {
     "duration": 0.410459,
     "end_time": "2024-12-28T07:14:27.910897",
     "exception": false,
     "start_time": "2024-12-28T07:14:27.500438",
     "status": "completed"
    },
    "tags": []
   },
   "outputs": [
    {
     "data": {
      "image/png": "[encoded data removed]",
      "text/plain": [
       "<Figure size 1400x500 with 1 Axes>"
      ]
     },
     "metadata": {},
     "output_type": "display_data"
    }
   ],
   "source": [
    "plt.figure(figsize=(14,5))\n",
    "plt.plot(result_df, label = \"Real Number of Passengers\")\n",
    "plt.plot(train_prediction_df[\"Predicted\"], color = 'blue', label = \"Train Predicted Number of Passengers\")\n",
    "plt.plot(test_prediction_df[\"Predicted\"],color = 'red', label = \"Test Predicted Number of Passengers\")\n",
    "plt.title(\"Number of Passengers Prediction\")\n",
    "plt.xlabel(\"Time\")\n",
    "plt.ylabel(\"Number of Passengers\")\n",
    "plt.legend()\n",
    "plt.show()"
   ]
  }
 ],
 "metadata": {
  "colab": {
   "provenance": []
  },
  "kaggle": {
   "accelerator": "none",
   "dataSources": [
    {
     "datasetId": 500872,
     "sourceId": 927894,
     "sourceType": "datasetVersion"
    }
   ],
   "dockerImageVersionId": 30761,
   "isGpuEnabled": false,
   "isInternetEnabled": true,
   "language": "python",
   "sourceType": "notebook"
  },
  "kernelspec": {
   "display_name": "Python 3",
   "language": "python",
   "name": "python3"
  },
  "language_info": {
   "codemirror_mode": {
    "name": "ipython",
    "version": 3
   },
   "file_extension": ".py",
   "mimetype": "text/x-python",
   "name": "python",
   "nbconvert_exporter": "python",
   "pygments_lexer": "ipython3",
   "version": "3.10.14"
  },
  "papermill": {
   "default_parameters": {},
   "duration": 35.842496,
   "end_time": "2024-12-28T07:14:29.560716",
   "environment_variables": {},
   "exception": null,
   "input_path": "__notebook__.ipynb",
   "output_path": "__notebook__.ipynb",
   "parameters": {},
   "start_time": "2024-12-28T07:13:53.718220",
   "version": "2.6.0"
  }
 },
 "nbformat": 4,
 "nbformat_minor": 5
}
