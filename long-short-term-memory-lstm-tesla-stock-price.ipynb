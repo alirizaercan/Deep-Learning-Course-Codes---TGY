{
 "cells": [
  {
   "cell_type": "markdown",
   "id": "d493864f",
   "metadata": {
    "id": "4unSJJjsT8BM",
    "papermill": {
     "duration": 0.019675,
     "end_time": "2024-09-23T06:40:08.188002",
     "exception": false,
     "start_time": "2024-09-23T06:40:08.168327",
     "status": "completed"
    },
    "tags": []
   },
   "source": [
    "# Tesla - Stock Price Prediction\n",
    "\n",
    "---\n",
    "\n"
   ]
  },
  {
   "cell_type": "markdown",
   "id": "edb492d8",
   "metadata": {
    "id": "wkRLJL2XUAfT",
    "papermill": {
     "duration": 0.018326,
     "end_time": "2024-09-23T06:40:08.225275",
     "exception": false,
     "start_time": "2024-09-23T06:40:08.206949",
     "status": "completed"
    },
    "tags": []
   },
   "source": [
    "## Business Problem\n",
    "\n",
    "In this notebook, our purpose is to predict of tesla - stock price."
   ]
  },
  {
   "cell_type": "markdown",
   "id": "f993a1d4",
   "metadata": {
    "id": "0uxjphZsUwjz",
    "papermill": {
     "duration": 0.020157,
     "end_time": "2024-09-23T06:40:08.263916",
     "exception": false,
     "start_time": "2024-09-23T06:40:08.243759",
     "status": "completed"
    },
    "tags": []
   },
   "source": [
    "## Data Understanding"
   ]
  },
  {
   "cell_type": "code",
   "execution_count": 1,
   "id": "5a5f7435",
   "metadata": {
    "execution": {
     "iopub.execute_input": "2024-09-23T06:40:08.303458Z",
     "iopub.status.busy": "2024-09-23T06:40:08.302883Z",
     "iopub.status.idle": "2024-09-23T06:40:26.582301Z",
     "shell.execute_reply": "2024-09-23T06:40:26.580926Z"
    },
    "id": "40IR65rQUyWC",
    "outputId": "4562368d-970e-4fd6-b03e-be036efe4dcd",
    "papermill": {
     "duration": 18.30283,
     "end_time": "2024-09-23T06:40:26.585374",
     "exception": false,
     "start_time": "2024-09-23T06:40:08.282544",
     "status": "completed"
    },
    "tags": []
   },
   "outputs": [],
   "source": [
    "import numpy as np\n",
    "import pandas as pd\n",
    "import datetime as dt\n",
    "import tensorflow as tf\n",
    "import matplotlib.pyplot as plt\n",
    "\n",
    "from sklearn.preprocessing import MinMaxScaler\n",
    "from sklearn.metrics import mean_squared_error\n",
    "\n",
    "from tensorflow.keras.models import Sequential\n",
    "from tensorflow.keras.layers import Dense, LSTM, Dropout\n",
    "from tensorflow.keras.callbacks import ModelCheckpoint, EarlyStopping\n",
    "\n",
    "import warnings\n",
    "warnings.filterwarnings('ignore')\n",
    "\n",
    "import os\n",
    "os.environ['TF_CPP_MIN_LOG_LEVEL'] = '3'\n",
    "tf.compat.v1.logging.set_verbosity(tf.compat.v1.logging.ERROR)"
   ]
  },
  {
   "cell_type": "code",
   "execution_count": 2,
   "id": "5e73a3d3",
   "metadata": {
    "execution": {
     "iopub.execute_input": "2024-09-23T06:40:26.625143Z",
     "iopub.status.busy": "2024-09-23T06:40:26.624434Z",
     "iopub.status.idle": "2024-09-23T06:40:26.690402Z",
     "shell.execute_reply": "2024-09-23T06:40:26.688812Z"
    },
    "id": "-be5_efvVpTV",
    "papermill": {
     "duration": 0.088764,
     "end_time": "2024-09-23T06:40:26.693232",
     "exception": false,
     "start_time": "2024-09-23T06:40:26.604468",
     "status": "completed"
    },
    "tags": []
   },
   "outputs": [
    {
     "data": {
      "text/html": [
       "<div>\n",
       "<style scoped>\n",
       "    .dataframe tbody tr th:only-of-type {\n",
       "        vertical-align: middle;\n",
       "    }\n",
       "\n",
       "    .dataframe tbody tr th {\n",
       "        vertical-align: top;\n",
       "    }\n",
       "\n",
       "    .dataframe thead th {\n",
       "        text-align: right;\n",
       "    }\n",
       "</style>\n",
       "<table border=\"1\" class=\"dataframe\">\n",
       "  <thead>\n",
       "    <tr style=\"text-align: right;\">\n",
       "      <th></th>\n",
       "      <th>Date</th>\n",
       "      <th>Open</th>\n",
       "      <th>High</th>\n",
       "      <th>Low</th>\n",
       "      <th>Close</th>\n",
       "      <th>Adj Close</th>\n",
       "      <th>Volume</th>\n",
       "    </tr>\n",
       "  </thead>\n",
       "  <tbody>\n",
       "    <tr>\n",
       "      <th>0</th>\n",
       "      <td>2010-06-29</td>\n",
       "      <td>19.000000</td>\n",
       "      <td>25.000000</td>\n",
       "      <td>17.540001</td>\n",
       "      <td>23.889999</td>\n",
       "      <td>23.889999</td>\n",
       "      <td>18766300</td>\n",
       "    </tr>\n",
       "    <tr>\n",
       "      <th>1</th>\n",
       "      <td>2010-06-30</td>\n",
       "      <td>25.790001</td>\n",
       "      <td>30.420000</td>\n",
       "      <td>23.299999</td>\n",
       "      <td>23.830000</td>\n",
       "      <td>23.830000</td>\n",
       "      <td>17187100</td>\n",
       "    </tr>\n",
       "    <tr>\n",
       "      <th>2</th>\n",
       "      <td>2010-07-01</td>\n",
       "      <td>25.000000</td>\n",
       "      <td>25.920000</td>\n",
       "      <td>20.270000</td>\n",
       "      <td>21.959999</td>\n",
       "      <td>21.959999</td>\n",
       "      <td>8218800</td>\n",
       "    </tr>\n",
       "    <tr>\n",
       "      <th>3</th>\n",
       "      <td>2010-07-02</td>\n",
       "      <td>23.000000</td>\n",
       "      <td>23.100000</td>\n",
       "      <td>18.709999</td>\n",
       "      <td>19.200001</td>\n",
       "      <td>19.200001</td>\n",
       "      <td>5139800</td>\n",
       "    </tr>\n",
       "    <tr>\n",
       "      <th>4</th>\n",
       "      <td>2010-07-06</td>\n",
       "      <td>20.000000</td>\n",
       "      <td>20.000000</td>\n",
       "      <td>15.830000</td>\n",
       "      <td>16.110001</td>\n",
       "      <td>16.110001</td>\n",
       "      <td>6866900</td>\n",
       "    </tr>\n",
       "    <tr>\n",
       "      <th>...</th>\n",
       "      <td>...</td>\n",
       "      <td>...</td>\n",
       "      <td>...</td>\n",
       "      <td>...</td>\n",
       "      <td>...</td>\n",
       "      <td>...</td>\n",
       "      <td>...</td>\n",
       "    </tr>\n",
       "    <tr>\n",
       "      <th>2411</th>\n",
       "      <td>2020-01-28</td>\n",
       "      <td>568.489990</td>\n",
       "      <td>576.809998</td>\n",
       "      <td>558.080017</td>\n",
       "      <td>566.900024</td>\n",
       "      <td>566.900024</td>\n",
       "      <td>11788500</td>\n",
       "    </tr>\n",
       "    <tr>\n",
       "      <th>2412</th>\n",
       "      <td>2020-01-29</td>\n",
       "      <td>575.690002</td>\n",
       "      <td>589.799988</td>\n",
       "      <td>567.429993</td>\n",
       "      <td>580.989990</td>\n",
       "      <td>580.989990</td>\n",
       "      <td>17801500</td>\n",
       "    </tr>\n",
       "    <tr>\n",
       "      <th>2413</th>\n",
       "      <td>2020-01-30</td>\n",
       "      <td>632.419983</td>\n",
       "      <td>650.880005</td>\n",
       "      <td>618.000000</td>\n",
       "      <td>640.809998</td>\n",
       "      <td>640.809998</td>\n",
       "      <td>29005700</td>\n",
       "    </tr>\n",
       "    <tr>\n",
       "      <th>2414</th>\n",
       "      <td>2020-01-31</td>\n",
       "      <td>640.000000</td>\n",
       "      <td>653.000000</td>\n",
       "      <td>632.520020</td>\n",
       "      <td>650.570007</td>\n",
       "      <td>650.570007</td>\n",
       "      <td>15719300</td>\n",
       "    </tr>\n",
       "    <tr>\n",
       "      <th>2415</th>\n",
       "      <td>2020-02-03</td>\n",
       "      <td>673.690002</td>\n",
       "      <td>786.140015</td>\n",
       "      <td>673.520020</td>\n",
       "      <td>780.000000</td>\n",
       "      <td>780.000000</td>\n",
       "      <td>47065000</td>\n",
       "    </tr>\n",
       "  </tbody>\n",
       "</table>\n",
       "<p>2416 rows × 7 columns</p>\n",
       "</div>"
      ],
      "text/plain": [
       "            Date        Open        High         Low       Close   Adj Close  \\\n",
       "0     2010-06-29   19.000000   25.000000   17.540001   23.889999   23.889999   \n",
       "1     2010-06-30   25.790001   30.420000   23.299999   23.830000   23.830000   \n",
       "2     2010-07-01   25.000000   25.920000   20.270000   21.959999   21.959999   \n",
       "3     2010-07-02   23.000000   23.100000   18.709999   19.200001   19.200001   \n",
       "4     2010-07-06   20.000000   20.000000   15.830000   16.110001   16.110001   \n",
       "...          ...         ...         ...         ...         ...         ...   \n",
       "2411  2020-01-28  568.489990  576.809998  558.080017  566.900024  566.900024   \n",
       "2412  2020-01-29  575.690002  589.799988  567.429993  580.989990  580.989990   \n",
       "2413  2020-01-30  632.419983  650.880005  618.000000  640.809998  640.809998   \n",
       "2414  2020-01-31  640.000000  653.000000  632.520020  650.570007  650.570007   \n",
       "2415  2020-02-03  673.690002  786.140015  673.520020  780.000000  780.000000   \n",
       "\n",
       "        Volume  \n",
       "0     18766300  \n",
       "1     17187100  \n",
       "2      8218800  \n",
       "3      5139800  \n",
       "4      6866900  \n",
       "...        ...  \n",
       "2411  11788500  \n",
       "2412  17801500  \n",
       "2413  29005700  \n",
       "2414  15719300  \n",
       "2415  47065000  \n",
       "\n",
       "[2416 rows x 7 columns]"
      ]
     },
     "execution_count": 2,
     "metadata": {},
     "output_type": "execute_result"
    }
   ],
   "source": [
    "df = pd.read_csv('/kaggle/input/tesla-stock-data-from-2010-to-2020/TSLA.csv')\n",
    "df"
   ]
  },
  {
   "cell_type": "code",
   "execution_count": 3,
   "id": "f17474c0",
   "metadata": {
    "execution": {
     "iopub.execute_input": "2024-09-23T06:40:26.735220Z",
     "iopub.status.busy": "2024-09-23T06:40:26.733518Z",
     "iopub.status.idle": "2024-09-23T06:40:26.751620Z",
     "shell.execute_reply": "2024-09-23T06:40:26.750092Z"
    },
    "id": "lG_AO3mdVv17",
    "papermill": {
     "duration": 0.041691,
     "end_time": "2024-09-23T06:40:26.754406",
     "exception": false,
     "start_time": "2024-09-23T06:40:26.712715",
     "status": "completed"
    },
    "tags": []
   },
   "outputs": [
    {
     "data": {
      "text/html": [
       "<div>\n",
       "<style scoped>\n",
       "    .dataframe tbody tr th:only-of-type {\n",
       "        vertical-align: middle;\n",
       "    }\n",
       "\n",
       "    .dataframe tbody tr th {\n",
       "        vertical-align: top;\n",
       "    }\n",
       "\n",
       "    .dataframe thead th {\n",
       "        text-align: right;\n",
       "    }\n",
       "</style>\n",
       "<table border=\"1\" class=\"dataframe\">\n",
       "  <thead>\n",
       "    <tr style=\"text-align: right;\">\n",
       "      <th></th>\n",
       "      <th>Date</th>\n",
       "      <th>Open</th>\n",
       "      <th>High</th>\n",
       "      <th>Low</th>\n",
       "      <th>Close</th>\n",
       "      <th>Adj Close</th>\n",
       "      <th>Volume</th>\n",
       "    </tr>\n",
       "  </thead>\n",
       "  <tbody>\n",
       "    <tr>\n",
       "      <th>0</th>\n",
       "      <td>2010-06-29</td>\n",
       "      <td>19.000000</td>\n",
       "      <td>25.00</td>\n",
       "      <td>17.540001</td>\n",
       "      <td>23.889999</td>\n",
       "      <td>23.889999</td>\n",
       "      <td>18766300</td>\n",
       "    </tr>\n",
       "    <tr>\n",
       "      <th>1</th>\n",
       "      <td>2010-06-30</td>\n",
       "      <td>25.790001</td>\n",
       "      <td>30.42</td>\n",
       "      <td>23.299999</td>\n",
       "      <td>23.830000</td>\n",
       "      <td>23.830000</td>\n",
       "      <td>17187100</td>\n",
       "    </tr>\n",
       "    <tr>\n",
       "      <th>2</th>\n",
       "      <td>2010-07-01</td>\n",
       "      <td>25.000000</td>\n",
       "      <td>25.92</td>\n",
       "      <td>20.270000</td>\n",
       "      <td>21.959999</td>\n",
       "      <td>21.959999</td>\n",
       "      <td>8218800</td>\n",
       "    </tr>\n",
       "    <tr>\n",
       "      <th>3</th>\n",
       "      <td>2010-07-02</td>\n",
       "      <td>23.000000</td>\n",
       "      <td>23.10</td>\n",
       "      <td>18.709999</td>\n",
       "      <td>19.200001</td>\n",
       "      <td>19.200001</td>\n",
       "      <td>5139800</td>\n",
       "    </tr>\n",
       "    <tr>\n",
       "      <th>4</th>\n",
       "      <td>2010-07-06</td>\n",
       "      <td>20.000000</td>\n",
       "      <td>20.00</td>\n",
       "      <td>15.830000</td>\n",
       "      <td>16.110001</td>\n",
       "      <td>16.110001</td>\n",
       "      <td>6866900</td>\n",
       "    </tr>\n",
       "  </tbody>\n",
       "</table>\n",
       "</div>"
      ],
      "text/plain": [
       "         Date       Open   High        Low      Close  Adj Close    Volume\n",
       "0  2010-06-29  19.000000  25.00  17.540001  23.889999  23.889999  18766300\n",
       "1  2010-06-30  25.790001  30.42  23.299999  23.830000  23.830000  17187100\n",
       "2  2010-07-01  25.000000  25.92  20.270000  21.959999  21.959999   8218800\n",
       "3  2010-07-02  23.000000  23.10  18.709999  19.200001  19.200001   5139800\n",
       "4  2010-07-06  20.000000  20.00  15.830000  16.110001  16.110001   6866900"
      ]
     },
     "execution_count": 3,
     "metadata": {},
     "output_type": "execute_result"
    }
   ],
   "source": [
    "df.head()"
   ]
  },
  {
   "cell_type": "code",
   "execution_count": 4,
   "id": "9e7b6ec8",
   "metadata": {
    "execution": {
     "iopub.execute_input": "2024-09-23T06:40:26.795577Z",
     "iopub.status.busy": "2024-09-23T06:40:26.795016Z",
     "iopub.status.idle": "2024-09-23T06:40:26.804361Z",
     "shell.execute_reply": "2024-09-23T06:40:26.803013Z"
    },
    "id": "TU5hlfyvVxY0",
    "papermill": {
     "duration": 0.033411,
     "end_time": "2024-09-23T06:40:26.807240",
     "exception": false,
     "start_time": "2024-09-23T06:40:26.773829",
     "status": "completed"
    },
    "tags": []
   },
   "outputs": [],
   "source": [
    "def check_df(dataframe, head=5):\n",
    "    print(\"##################### Shape #####################\")\n",
    "    print(dataframe.shape)\n",
    "    print(\"##################### Types #####################\")\n",
    "    print(dataframe.dtypes)\n",
    "    print(\"##################### Head #####################\")\n",
    "    print(dataframe.head(head))  # Fonksiyon çağrısına dikkat edin\n",
    "    print(\"##################### Tail #####################\")\n",
    "    print(dataframe.tail(head))\n",
    "    print(\"##################### NA #####################\")\n",
    "    print(dataframe.isnull().sum())\n",
    "    print(\"##################### Quantile #####################\")\n",
    "    print(dataframe.select_dtypes(include='number').quantile([0, 0.05, 0.5, 0.95, 0.99, 1]).T)\n"
   ]
  },
  {
   "cell_type": "code",
   "execution_count": 5,
   "id": "bdfd846c",
   "metadata": {
    "execution": {
     "iopub.execute_input": "2024-09-23T06:40:26.849155Z",
     "iopub.status.busy": "2024-09-23T06:40:26.848625Z",
     "iopub.status.idle": "2024-09-23T06:40:26.878477Z",
     "shell.execute_reply": "2024-09-23T06:40:26.876699Z"
    },
    "id": "t6iFP965V4vk",
    "papermill": {
     "duration": 0.055143,
     "end_time": "2024-09-23T06:40:26.882188",
     "exception": false,
     "start_time": "2024-09-23T06:40:26.827045",
     "status": "completed"
    },
    "tags": []
   },
   "outputs": [
    {
     "name": "stdout",
     "output_type": "stream",
     "text": [
      "##################### Shape #####################\n",
      "(2416, 7)\n",
      "##################### Types #####################\n",
      "Date          object\n",
      "Open         float64\n",
      "High         float64\n",
      "Low          float64\n",
      "Close        float64\n",
      "Adj Close    float64\n",
      "Volume         int64\n",
      "dtype: object\n",
      "##################### Head #####################\n",
      "         Date       Open   High        Low      Close  Adj Close    Volume\n",
      "0  2010-06-29  19.000000  25.00  17.540001  23.889999  23.889999  18766300\n",
      "1  2010-06-30  25.790001  30.42  23.299999  23.830000  23.830000  17187100\n",
      "2  2010-07-01  25.000000  25.92  20.270000  21.959999  21.959999   8218800\n",
      "3  2010-07-02  23.000000  23.10  18.709999  19.200001  19.200001   5139800\n",
      "4  2010-07-06  20.000000  20.00  15.830000  16.110001  16.110001   6866900\n",
      "##################### Tail #####################\n",
      "            Date        Open        High         Low       Close   Adj Close  \\\n",
      "2411  2020-01-28  568.489990  576.809998  558.080017  566.900024  566.900024   \n",
      "2412  2020-01-29  575.690002  589.799988  567.429993  580.989990  580.989990   \n",
      "2413  2020-01-30  632.419983  650.880005  618.000000  640.809998  640.809998   \n",
      "2414  2020-01-31  640.000000  653.000000  632.520020  650.570007  650.570007   \n",
      "2415  2020-02-03  673.690002  786.140015  673.520020  780.000000  780.000000   \n",
      "\n",
      "        Volume  \n",
      "2411  11788500  \n",
      "2412  17801500  \n",
      "2413  29005700  \n",
      "2414  15719300  \n",
      "2415  47065000  \n",
      "##################### NA #####################\n",
      "Date         0\n",
      "Open         0\n",
      "High         0\n",
      "Low          0\n",
      "Close        0\n",
      "Adj Close    0\n",
      "Volume       0\n",
      "dtype: int64\n",
      "##################### Quantile #####################\n",
      "                    0.00           0.05          0.50          0.95  \\\n",
      "Open           16.139999      23.384999  2.130350e+02  3.519100e+02   \n",
      "High           16.629999      24.022501  2.167450e+02  3.567500e+02   \n",
      "Low            14.980000      22.867499  2.088700e+02  3.460250e+02   \n",
      "Close          15.800000      23.565000  2.129600e+02  3.511675e+02   \n",
      "Adj Close      15.800000      23.565000  2.129600e+02  3.511675e+02   \n",
      "Volume     118500.000000  633825.000000  4.578400e+06  1.476090e+07   \n",
      "\n",
      "                   0.99          1.00  \n",
      "Open       4.235790e+02  6.736900e+02  \n",
      "High       4.284705e+02  7.861400e+02  \n",
      "Low        4.122865e+02  6.735200e+02  \n",
      "Close      4.243455e+02  7.800000e+02  \n",
      "Adj Close  4.243455e+02  7.800000e+02  \n",
      "Volume     2.459959e+07  4.706500e+07  \n"
     ]
    }
   ],
   "source": [
    "check_df(df)"
   ]
  },
  {
   "cell_type": "markdown",
   "id": "48991905",
   "metadata": {
    "id": "v2n2ONcpWlQl",
    "papermill": {
     "duration": 0.019768,
     "end_time": "2024-09-23T06:40:26.922207",
     "exception": false,
     "start_time": "2024-09-23T06:40:26.902439",
     "status": "completed"
    },
    "tags": []
   },
   "source": [
    "## Data Preparation"
   ]
  },
  {
   "cell_type": "code",
   "execution_count": 6,
   "id": "b2170037",
   "metadata": {
    "execution": {
     "iopub.execute_input": "2024-09-23T06:40:26.965354Z",
     "iopub.status.busy": "2024-09-23T06:40:26.964828Z",
     "iopub.status.idle": "2024-09-23T06:40:26.980554Z",
     "shell.execute_reply": "2024-09-23T06:40:26.979140Z"
    },
    "id": "x-En8ormWAo8",
    "papermill": {
     "duration": 0.04138,
     "end_time": "2024-09-23T06:40:26.984053",
     "exception": false,
     "start_time": "2024-09-23T06:40:26.942673",
     "status": "completed"
    },
    "tags": []
   },
   "outputs": [],
   "source": [
    "df[\"Date\"] = pd.to_datetime(df[\"Date\"])"
   ]
  },
  {
   "cell_type": "code",
   "execution_count": 7,
   "id": "55a75522",
   "metadata": {
    "execution": {
     "iopub.execute_input": "2024-09-23T06:40:27.030996Z",
     "iopub.status.busy": "2024-09-23T06:40:27.030504Z",
     "iopub.status.idle": "2024-09-23T06:40:27.051153Z",
     "shell.execute_reply": "2024-09-23T06:40:27.049763Z"
    },
    "id": "Wk3C4MPkWBUG",
    "papermill": {
     "duration": 0.049077,
     "end_time": "2024-09-23T06:40:27.054433",
     "exception": false,
     "start_time": "2024-09-23T06:40:27.005356",
     "status": "completed"
    },
    "tags": []
   },
   "outputs": [
    {
     "data": {
      "text/html": [
       "<div>\n",
       "<style scoped>\n",
       "    .dataframe tbody tr th:only-of-type {\n",
       "        vertical-align: middle;\n",
       "    }\n",
       "\n",
       "    .dataframe tbody tr th {\n",
       "        vertical-align: top;\n",
       "    }\n",
       "\n",
       "    .dataframe thead th {\n",
       "        text-align: right;\n",
       "    }\n",
       "</style>\n",
       "<table border=\"1\" class=\"dataframe\">\n",
       "  <thead>\n",
       "    <tr style=\"text-align: right;\">\n",
       "      <th></th>\n",
       "      <th>Date</th>\n",
       "      <th>Open</th>\n",
       "      <th>High</th>\n",
       "      <th>Low</th>\n",
       "      <th>Close</th>\n",
       "      <th>Adj Close</th>\n",
       "      <th>Volume</th>\n",
       "    </tr>\n",
       "  </thead>\n",
       "  <tbody>\n",
       "    <tr>\n",
       "      <th>0</th>\n",
       "      <td>2010-06-29</td>\n",
       "      <td>19.000000</td>\n",
       "      <td>25.00</td>\n",
       "      <td>17.540001</td>\n",
       "      <td>23.889999</td>\n",
       "      <td>23.889999</td>\n",
       "      <td>18766300</td>\n",
       "    </tr>\n",
       "    <tr>\n",
       "      <th>1</th>\n",
       "      <td>2010-06-30</td>\n",
       "      <td>25.790001</td>\n",
       "      <td>30.42</td>\n",
       "      <td>23.299999</td>\n",
       "      <td>23.830000</td>\n",
       "      <td>23.830000</td>\n",
       "      <td>17187100</td>\n",
       "    </tr>\n",
       "    <tr>\n",
       "      <th>2</th>\n",
       "      <td>2010-07-01</td>\n",
       "      <td>25.000000</td>\n",
       "      <td>25.92</td>\n",
       "      <td>20.270000</td>\n",
       "      <td>21.959999</td>\n",
       "      <td>21.959999</td>\n",
       "      <td>8218800</td>\n",
       "    </tr>\n",
       "    <tr>\n",
       "      <th>3</th>\n",
       "      <td>2010-07-02</td>\n",
       "      <td>23.000000</td>\n",
       "      <td>23.10</td>\n",
       "      <td>18.709999</td>\n",
       "      <td>19.200001</td>\n",
       "      <td>19.200001</td>\n",
       "      <td>5139800</td>\n",
       "    </tr>\n",
       "    <tr>\n",
       "      <th>4</th>\n",
       "      <td>2010-07-06</td>\n",
       "      <td>20.000000</td>\n",
       "      <td>20.00</td>\n",
       "      <td>15.830000</td>\n",
       "      <td>16.110001</td>\n",
       "      <td>16.110001</td>\n",
       "      <td>6866900</td>\n",
       "    </tr>\n",
       "  </tbody>\n",
       "</table>\n",
       "</div>"
      ],
      "text/plain": [
       "        Date       Open   High        Low      Close  Adj Close    Volume\n",
       "0 2010-06-29  19.000000  25.00  17.540001  23.889999  23.889999  18766300\n",
       "1 2010-06-30  25.790001  30.42  23.299999  23.830000  23.830000  17187100\n",
       "2 2010-07-01  25.000000  25.92  20.270000  21.959999  21.959999   8218800\n",
       "3 2010-07-02  23.000000  23.10  18.709999  19.200001  19.200001   5139800\n",
       "4 2010-07-06  20.000000  20.00  15.830000  16.110001  16.110001   6866900"
      ]
     },
     "execution_count": 7,
     "metadata": {},
     "output_type": "execute_result"
    }
   ],
   "source": [
    "df.head()"
   ]
  },
  {
   "cell_type": "code",
   "execution_count": 8,
   "id": "9fce15f1",
   "metadata": {
    "execution": {
     "iopub.execute_input": "2024-09-23T06:40:27.102069Z",
     "iopub.status.busy": "2024-09-23T06:40:27.101615Z",
     "iopub.status.idle": "2024-09-23T06:40:27.109998Z",
     "shell.execute_reply": "2024-09-23T06:40:27.108349Z"
    },
    "id": "ZOVzSrk1WCHu",
    "papermill": {
     "duration": 0.036574,
     "end_time": "2024-09-23T06:40:27.113259",
     "exception": false,
     "start_time": "2024-09-23T06:40:27.076685",
     "status": "completed"
    },
    "tags": []
   },
   "outputs": [],
   "source": [
    "tesla_df = df[[\"Date\", \"Close\"]]"
   ]
  },
  {
   "cell_type": "code",
   "execution_count": 9,
   "id": "b7abab40",
   "metadata": {
    "execution": {
     "iopub.execute_input": "2024-09-23T06:40:27.157920Z",
     "iopub.status.busy": "2024-09-23T06:40:27.156219Z",
     "iopub.status.idle": "2024-09-23T06:40:27.171687Z",
     "shell.execute_reply": "2024-09-23T06:40:27.170237Z"
    },
    "id": "Tli5FuMBWF8l",
    "papermill": {
     "duration": 0.041263,
     "end_time": "2024-09-23T06:40:27.174794",
     "exception": false,
     "start_time": "2024-09-23T06:40:27.133531",
     "status": "completed"
    },
    "tags": []
   },
   "outputs": [
    {
     "data": {
      "text/html": [
       "<div>\n",
       "<style scoped>\n",
       "    .dataframe tbody tr th:only-of-type {\n",
       "        vertical-align: middle;\n",
       "    }\n",
       "\n",
       "    .dataframe tbody tr th {\n",
       "        vertical-align: top;\n",
       "    }\n",
       "\n",
       "    .dataframe thead th {\n",
       "        text-align: right;\n",
       "    }\n",
       "</style>\n",
       "<table border=\"1\" class=\"dataframe\">\n",
       "  <thead>\n",
       "    <tr style=\"text-align: right;\">\n",
       "      <th></th>\n",
       "      <th>Date</th>\n",
       "      <th>Close</th>\n",
       "    </tr>\n",
       "  </thead>\n",
       "  <tbody>\n",
       "    <tr>\n",
       "      <th>0</th>\n",
       "      <td>2010-06-29</td>\n",
       "      <td>23.889999</td>\n",
       "    </tr>\n",
       "    <tr>\n",
       "      <th>1</th>\n",
       "      <td>2010-06-30</td>\n",
       "      <td>23.830000</td>\n",
       "    </tr>\n",
       "    <tr>\n",
       "      <th>2</th>\n",
       "      <td>2010-07-01</td>\n",
       "      <td>21.959999</td>\n",
       "    </tr>\n",
       "    <tr>\n",
       "      <th>3</th>\n",
       "      <td>2010-07-02</td>\n",
       "      <td>19.200001</td>\n",
       "    </tr>\n",
       "    <tr>\n",
       "      <th>4</th>\n",
       "      <td>2010-07-06</td>\n",
       "      <td>16.110001</td>\n",
       "    </tr>\n",
       "  </tbody>\n",
       "</table>\n",
       "</div>"
      ],
      "text/plain": [
       "        Date      Close\n",
       "0 2010-06-29  23.889999\n",
       "1 2010-06-30  23.830000\n",
       "2 2010-07-01  21.959999\n",
       "3 2010-07-02  19.200001\n",
       "4 2010-07-06  16.110001"
      ]
     },
     "execution_count": 9,
     "metadata": {},
     "output_type": "execute_result"
    }
   ],
   "source": [
    "tesla_df.head()"
   ]
  },
  {
   "cell_type": "code",
   "execution_count": 10,
   "id": "60afb013",
   "metadata": {
    "execution": {
     "iopub.execute_input": "2024-09-23T06:40:27.220427Z",
     "iopub.status.busy": "2024-09-23T06:40:27.219376Z",
     "iopub.status.idle": "2024-09-23T06:40:27.227649Z",
     "shell.execute_reply": "2024-09-23T06:40:27.226092Z"
    },
    "id": "Gsw5OQCAWLzn",
    "papermill": {
     "duration": 0.034777,
     "end_time": "2024-09-23T06:40:27.230989",
     "exception": false,
     "start_time": "2024-09-23T06:40:27.196212",
     "status": "completed"
    },
    "tags": []
   },
   "outputs": [
    {
     "name": "stdout",
     "output_type": "stream",
     "text": [
      "Min Date:  2010-06-29 00:00:00\n",
      "Max Date:  2020-02-03 00:00:00\n"
     ]
    }
   ],
   "source": [
    "print(\"Min Date: \", tesla_df[\"Date\"].min())\n",
    "print(\"Max Date: \", tesla_df[\"Date\"].max())"
   ]
  },
  {
   "cell_type": "code",
   "execution_count": 11,
   "id": "ae14f30f",
   "metadata": {
    "execution": {
     "iopub.execute_input": "2024-09-23T06:40:27.275908Z",
     "iopub.status.busy": "2024-09-23T06:40:27.275395Z",
     "iopub.status.idle": "2024-09-23T06:40:27.281819Z",
     "shell.execute_reply": "2024-09-23T06:40:27.280380Z"
    },
    "id": "JGi8P08mWQO1",
    "papermill": {
     "duration": 0.031342,
     "end_time": "2024-09-23T06:40:27.284824",
     "exception": false,
     "start_time": "2024-09-23T06:40:27.253482",
     "status": "completed"
    },
    "tags": []
   },
   "outputs": [],
   "source": [
    "tesla_df.index = tesla_df[\"Date\"]"
   ]
  },
  {
   "cell_type": "code",
   "execution_count": 12,
   "id": "5f902a02",
   "metadata": {
    "execution": {
     "iopub.execute_input": "2024-09-23T06:40:27.327676Z",
     "iopub.status.busy": "2024-09-23T06:40:27.327034Z",
     "iopub.status.idle": "2024-09-23T06:40:27.344269Z",
     "shell.execute_reply": "2024-09-23T06:40:27.342742Z"
    },
    "id": "YBWxX2IOWoL_",
    "papermill": {
     "duration": 0.041896,
     "end_time": "2024-09-23T06:40:27.346977",
     "exception": false,
     "start_time": "2024-09-23T06:40:27.305081",
     "status": "completed"
    },
    "tags": []
   },
   "outputs": [
    {
     "data": {
      "text/html": [
       "<div>\n",
       "<style scoped>\n",
       "    .dataframe tbody tr th:only-of-type {\n",
       "        vertical-align: middle;\n",
       "    }\n",
       "\n",
       "    .dataframe tbody tr th {\n",
       "        vertical-align: top;\n",
       "    }\n",
       "\n",
       "    .dataframe thead th {\n",
       "        text-align: right;\n",
       "    }\n",
       "</style>\n",
       "<table border=\"1\" class=\"dataframe\">\n",
       "  <thead>\n",
       "    <tr style=\"text-align: right;\">\n",
       "      <th></th>\n",
       "      <th>Date</th>\n",
       "      <th>Close</th>\n",
       "    </tr>\n",
       "    <tr>\n",
       "      <th>Date</th>\n",
       "      <th></th>\n",
       "      <th></th>\n",
       "    </tr>\n",
       "  </thead>\n",
       "  <tbody>\n",
       "    <tr>\n",
       "      <th>2010-06-29</th>\n",
       "      <td>2010-06-29</td>\n",
       "      <td>23.889999</td>\n",
       "    </tr>\n",
       "    <tr>\n",
       "      <th>2010-06-30</th>\n",
       "      <td>2010-06-30</td>\n",
       "      <td>23.830000</td>\n",
       "    </tr>\n",
       "    <tr>\n",
       "      <th>2010-07-01</th>\n",
       "      <td>2010-07-01</td>\n",
       "      <td>21.959999</td>\n",
       "    </tr>\n",
       "    <tr>\n",
       "      <th>2010-07-02</th>\n",
       "      <td>2010-07-02</td>\n",
       "      <td>19.200001</td>\n",
       "    </tr>\n",
       "    <tr>\n",
       "      <th>2010-07-06</th>\n",
       "      <td>2010-07-06</td>\n",
       "      <td>16.110001</td>\n",
       "    </tr>\n",
       "    <tr>\n",
       "      <th>...</th>\n",
       "      <td>...</td>\n",
       "      <td>...</td>\n",
       "    </tr>\n",
       "    <tr>\n",
       "      <th>2020-01-28</th>\n",
       "      <td>2020-01-28</td>\n",
       "      <td>566.900024</td>\n",
       "    </tr>\n",
       "    <tr>\n",
       "      <th>2020-01-29</th>\n",
       "      <td>2020-01-29</td>\n",
       "      <td>580.989990</td>\n",
       "    </tr>\n",
       "    <tr>\n",
       "      <th>2020-01-30</th>\n",
       "      <td>2020-01-30</td>\n",
       "      <td>640.809998</td>\n",
       "    </tr>\n",
       "    <tr>\n",
       "      <th>2020-01-31</th>\n",
       "      <td>2020-01-31</td>\n",
       "      <td>650.570007</td>\n",
       "    </tr>\n",
       "    <tr>\n",
       "      <th>2020-02-03</th>\n",
       "      <td>2020-02-03</td>\n",
       "      <td>780.000000</td>\n",
       "    </tr>\n",
       "  </tbody>\n",
       "</table>\n",
       "<p>2416 rows × 2 columns</p>\n",
       "</div>"
      ],
      "text/plain": [
       "                 Date       Close\n",
       "Date                             \n",
       "2010-06-29 2010-06-29   23.889999\n",
       "2010-06-30 2010-06-30   23.830000\n",
       "2010-07-01 2010-07-01   21.959999\n",
       "2010-07-02 2010-07-02   19.200001\n",
       "2010-07-06 2010-07-06   16.110001\n",
       "...               ...         ...\n",
       "2020-01-28 2020-01-28  566.900024\n",
       "2020-01-29 2020-01-29  580.989990\n",
       "2020-01-30 2020-01-30  640.809998\n",
       "2020-01-31 2020-01-31  650.570007\n",
       "2020-02-03 2020-02-03  780.000000\n",
       "\n",
       "[2416 rows x 2 columns]"
      ]
     },
     "execution_count": 12,
     "metadata": {},
     "output_type": "execute_result"
    }
   ],
   "source": [
    "tesla_df"
   ]
  },
  {
   "cell_type": "code",
   "execution_count": 13,
   "id": "74a49b1d",
   "metadata": {
    "execution": {
     "iopub.execute_input": "2024-09-23T06:40:27.394510Z",
     "iopub.status.busy": "2024-09-23T06:40:27.393918Z",
     "iopub.status.idle": "2024-09-23T06:40:27.401973Z",
     "shell.execute_reply": "2024-09-23T06:40:27.400383Z"
    },
    "id": "tgPM31WBWvcH",
    "papermill": {
     "duration": 0.035375,
     "end_time": "2024-09-23T06:40:27.404850",
     "exception": false,
     "start_time": "2024-09-23T06:40:27.369475",
     "status": "completed"
    },
    "tags": []
   },
   "outputs": [],
   "source": [
    "tesla_df.drop(\"Date\", axis=1, inplace=True)"
   ]
  },
  {
   "cell_type": "code",
   "execution_count": 14,
   "id": "db925c99",
   "metadata": {
    "execution": {
     "iopub.execute_input": "2024-09-23T06:40:27.448167Z",
     "iopub.status.busy": "2024-09-23T06:40:27.447610Z",
     "iopub.status.idle": "2024-09-23T06:40:27.463238Z",
     "shell.execute_reply": "2024-09-23T06:40:27.461689Z"
    },
    "id": "17KdnKMGWwSm",
    "papermill": {
     "duration": 0.040722,
     "end_time": "2024-09-23T06:40:27.465920",
     "exception": false,
     "start_time": "2024-09-23T06:40:27.425198",
     "status": "completed"
    },
    "tags": []
   },
   "outputs": [
    {
     "data": {
      "text/html": [
       "<div>\n",
       "<style scoped>\n",
       "    .dataframe tbody tr th:only-of-type {\n",
       "        vertical-align: middle;\n",
       "    }\n",
       "\n",
       "    .dataframe tbody tr th {\n",
       "        vertical-align: top;\n",
       "    }\n",
       "\n",
       "    .dataframe thead th {\n",
       "        text-align: right;\n",
       "    }\n",
       "</style>\n",
       "<table border=\"1\" class=\"dataframe\">\n",
       "  <thead>\n",
       "    <tr style=\"text-align: right;\">\n",
       "      <th></th>\n",
       "      <th>Close</th>\n",
       "    </tr>\n",
       "    <tr>\n",
       "      <th>Date</th>\n",
       "      <th></th>\n",
       "    </tr>\n",
       "  </thead>\n",
       "  <tbody>\n",
       "    <tr>\n",
       "      <th>2010-06-29</th>\n",
       "      <td>23.889999</td>\n",
       "    </tr>\n",
       "    <tr>\n",
       "      <th>2010-06-30</th>\n",
       "      <td>23.830000</td>\n",
       "    </tr>\n",
       "    <tr>\n",
       "      <th>2010-07-01</th>\n",
       "      <td>21.959999</td>\n",
       "    </tr>\n",
       "    <tr>\n",
       "      <th>2010-07-02</th>\n",
       "      <td>19.200001</td>\n",
       "    </tr>\n",
       "    <tr>\n",
       "      <th>2010-07-06</th>\n",
       "      <td>16.110001</td>\n",
       "    </tr>\n",
       "    <tr>\n",
       "      <th>...</th>\n",
       "      <td>...</td>\n",
       "    </tr>\n",
       "    <tr>\n",
       "      <th>2020-01-28</th>\n",
       "      <td>566.900024</td>\n",
       "    </tr>\n",
       "    <tr>\n",
       "      <th>2020-01-29</th>\n",
       "      <td>580.989990</td>\n",
       "    </tr>\n",
       "    <tr>\n",
       "      <th>2020-01-30</th>\n",
       "      <td>640.809998</td>\n",
       "    </tr>\n",
       "    <tr>\n",
       "      <th>2020-01-31</th>\n",
       "      <td>650.570007</td>\n",
       "    </tr>\n",
       "    <tr>\n",
       "      <th>2020-02-03</th>\n",
       "      <td>780.000000</td>\n",
       "    </tr>\n",
       "  </tbody>\n",
       "</table>\n",
       "<p>2416 rows × 1 columns</p>\n",
       "</div>"
      ],
      "text/plain": [
       "                 Close\n",
       "Date                  \n",
       "2010-06-29   23.889999\n",
       "2010-06-30   23.830000\n",
       "2010-07-01   21.959999\n",
       "2010-07-02   19.200001\n",
       "2010-07-06   16.110001\n",
       "...                ...\n",
       "2020-01-28  566.900024\n",
       "2020-01-29  580.989990\n",
       "2020-01-30  640.809998\n",
       "2020-01-31  650.570007\n",
       "2020-02-03  780.000000\n",
       "\n",
       "[2416 rows x 1 columns]"
      ]
     },
     "execution_count": 14,
     "metadata": {},
     "output_type": "execute_result"
    }
   ],
   "source": [
    "tesla_df"
   ]
  },
  {
   "cell_type": "code",
   "execution_count": 15,
   "id": "1a3b7d56",
   "metadata": {
    "execution": {
     "iopub.execute_input": "2024-09-23T06:40:27.509247Z",
     "iopub.status.busy": "2024-09-23T06:40:27.508745Z",
     "iopub.status.idle": "2024-09-23T06:40:27.516244Z",
     "shell.execute_reply": "2024-09-23T06:40:27.514543Z"
    },
    "id": "PliZ5OcsWxsF",
    "papermill": {
     "duration": 0.032858,
     "end_time": "2024-09-23T06:40:27.519494",
     "exception": false,
     "start_time": "2024-09-23T06:40:27.486636",
     "status": "completed"
    },
    "tags": []
   },
   "outputs": [],
   "source": [
    "result_df = tesla_df.copy()"
   ]
  },
  {
   "cell_type": "code",
   "execution_count": 16,
   "id": "c3c47df4",
   "metadata": {
    "execution": {
     "iopub.execute_input": "2024-09-23T06:40:27.566405Z",
     "iopub.status.busy": "2024-09-23T06:40:27.565913Z",
     "iopub.status.idle": "2024-09-23T06:40:28.069738Z",
     "shell.execute_reply": "2024-09-23T06:40:28.068360Z"
    },
    "id": "ObqHX6K2W0te",
    "papermill": {
     "duration": 0.530937,
     "end_time": "2024-09-23T06:40:28.072697",
     "exception": false,
     "start_time": "2024-09-23T06:40:27.541760",
     "status": "completed"
    },
    "tags": []
   },
   "outputs": [
    {
     "data": {
      "image/png": "[encoded data removed]",
      "text/plain": [
       "<Figure size 1400x500 with 1 Axes>"
      ]
     },
     "metadata": {},
     "output_type": "display_data"
    }
   ],
   "source": [
    "plt.figure(figsize=(14,5))\n",
    "plt.plot(tesla_df['Close'], color='blue')\n",
    "plt.title(\"Tesla Stock Price\")\n",
    "plt.xlabel(\"Time\")\n",
    "plt.ylabel(\"Stock Price\")\n",
    "plt.show()"
   ]
  },
  {
   "cell_type": "code",
   "execution_count": 17,
   "id": "76db8803",
   "metadata": {
    "execution": {
     "iopub.execute_input": "2024-09-23T06:40:28.121568Z",
     "iopub.status.busy": "2024-09-23T06:40:28.121074Z",
     "iopub.status.idle": "2024-09-23T06:40:28.127173Z",
     "shell.execute_reply": "2024-09-23T06:40:28.125815Z"
    },
    "id": "5LWFDWjNW2z2",
    "papermill": {
     "duration": 0.034271,
     "end_time": "2024-09-23T06:40:28.130136",
     "exception": false,
     "start_time": "2024-09-23T06:40:28.095865",
     "status": "completed"
    },
    "tags": []
   },
   "outputs": [],
   "source": [
    "tesla_df = tesla_df.values"
   ]
  },
  {
   "cell_type": "code",
   "execution_count": 18,
   "id": "89e7fada",
   "metadata": {
    "execution": {
     "iopub.execute_input": "2024-09-23T06:40:28.177220Z",
     "iopub.status.busy": "2024-09-23T06:40:28.175709Z",
     "iopub.status.idle": "2024-09-23T06:40:28.185577Z",
     "shell.execute_reply": "2024-09-23T06:40:28.184141Z"
    },
    "id": "jxFZkTS-W9Mm",
    "papermill": {
     "duration": 0.036115,
     "end_time": "2024-09-23T06:40:28.188382",
     "exception": false,
     "start_time": "2024-09-23T06:40:28.152267",
     "status": "completed"
    },
    "tags": []
   },
   "outputs": [
    {
     "data": {
      "text/plain": [
       "array([[23.889999],\n",
       "       [23.83    ],\n",
       "       [21.959999],\n",
       "       [19.200001],\n",
       "       [16.110001]])"
      ]
     },
     "execution_count": 18,
     "metadata": {},
     "output_type": "execute_result"
    }
   ],
   "source": [
    "tesla_df[0:5]"
   ]
  },
  {
   "cell_type": "code",
   "execution_count": 19,
   "id": "88eea1ad",
   "metadata": {
    "execution": {
     "iopub.execute_input": "2024-09-23T06:40:28.234099Z",
     "iopub.status.busy": "2024-09-23T06:40:28.233584Z",
     "iopub.status.idle": "2024-09-23T06:40:28.240064Z",
     "shell.execute_reply": "2024-09-23T06:40:28.238555Z"
    },
    "id": "iU7KJlc4XAb2",
    "papermill": {
     "duration": 0.03303,
     "end_time": "2024-09-23T06:40:28.242999",
     "exception": false,
     "start_time": "2024-09-23T06:40:28.209969",
     "status": "completed"
    },
    "tags": []
   },
   "outputs": [],
   "source": [
    "tesla_df = tesla_df.astype(\"float32\")"
   ]
  },
  {
   "cell_type": "code",
   "execution_count": 20,
   "id": "6d102625",
   "metadata": {
    "execution": {
     "iopub.execute_input": "2024-09-23T06:40:28.305927Z",
     "iopub.status.busy": "2024-09-23T06:40:28.305329Z",
     "iopub.status.idle": "2024-09-23T06:40:28.313357Z",
     "shell.execute_reply": "2024-09-23T06:40:28.311628Z"
    },
    "id": "r7Cywk9oXBI-",
    "papermill": {
     "duration": 0.036284,
     "end_time": "2024-09-23T06:40:28.316503",
     "exception": false,
     "start_time": "2024-09-23T06:40:28.280219",
     "status": "completed"
    },
    "tags": []
   },
   "outputs": [],
   "source": [
    "def split_data(dataframe, test_size):\n",
    "  position = int(round(len(dataframe) * (1 - test_size)))\n",
    "  train = dataframe[:position]\n",
    "  test = dataframe[position:]\n",
    "  return train, test, position"
   ]
  },
  {
   "cell_type": "code",
   "execution_count": 21,
   "id": "18a29a8e",
   "metadata": {
    "execution": {
     "iopub.execute_input": "2024-09-23T06:40:28.371115Z",
     "iopub.status.busy": "2024-09-23T06:40:28.370630Z",
     "iopub.status.idle": "2024-09-23T06:40:28.377216Z",
     "shell.execute_reply": "2024-09-23T06:40:28.375718Z"
    },
    "id": "COxqfz0SZvV_",
    "papermill": {
     "duration": 0.037371,
     "end_time": "2024-09-23T06:40:28.380428",
     "exception": false,
     "start_time": "2024-09-23T06:40:28.343057",
     "status": "completed"
    },
    "tags": []
   },
   "outputs": [],
   "source": [
    "train, test, position = split_data(tesla_df, 0.20)"
   ]
  },
  {
   "cell_type": "code",
   "execution_count": 22,
   "id": "2ec4ff13",
   "metadata": {
    "execution": {
     "iopub.execute_input": "2024-09-23T06:40:28.429227Z",
     "iopub.status.busy": "2024-09-23T06:40:28.428759Z",
     "iopub.status.idle": "2024-09-23T06:40:28.435614Z",
     "shell.execute_reply": "2024-09-23T06:40:28.434136Z"
    },
    "id": "jESwxnt2Z1t5",
    "papermill": {
     "duration": 0.033092,
     "end_time": "2024-09-23T06:40:28.438433",
     "exception": false,
     "start_time": "2024-09-23T06:40:28.405341",
     "status": "completed"
    },
    "tags": []
   },
   "outputs": [
    {
     "name": "stdout",
     "output_type": "stream",
     "text": [
      "(1933, 1) (483, 1)\n"
     ]
    }
   ],
   "source": [
    "print(train.shape, test.shape)"
   ]
  },
  {
   "cell_type": "code",
   "execution_count": 23,
   "id": "d03b7879",
   "metadata": {
    "execution": {
     "iopub.execute_input": "2024-09-23T06:40:28.484090Z",
     "iopub.status.busy": "2024-09-23T06:40:28.483617Z",
     "iopub.status.idle": "2024-09-23T06:40:28.490113Z",
     "shell.execute_reply": "2024-09-23T06:40:28.488652Z"
    },
    "id": "wleQDdgSZ8NZ",
    "papermill": {
     "duration": 0.032776,
     "end_time": "2024-09-23T06:40:28.492974",
     "exception": false,
     "start_time": "2024-09-23T06:40:28.460198",
     "status": "completed"
    },
    "tags": []
   },
   "outputs": [],
   "source": [
    "scaler_train = MinMaxScaler(feature_range = (0,1))"
   ]
  },
  {
   "cell_type": "code",
   "execution_count": 24,
   "id": "53c32817",
   "metadata": {
    "execution": {
     "iopub.execute_input": "2024-09-23T06:40:28.539438Z",
     "iopub.status.busy": "2024-09-23T06:40:28.538901Z",
     "iopub.status.idle": "2024-09-23T06:40:28.546607Z",
     "shell.execute_reply": "2024-09-23T06:40:28.544982Z"
    },
    "id": "Enf8wikDaNZh",
    "papermill": {
     "duration": 0.034722,
     "end_time": "2024-09-23T06:40:28.549405",
     "exception": false,
     "start_time": "2024-09-23T06:40:28.514683",
     "status": "completed"
    },
    "tags": []
   },
   "outputs": [],
   "source": [
    "train = scaler_train.fit_transform(train)"
   ]
  },
  {
   "cell_type": "code",
   "execution_count": 25,
   "id": "d0e2689f",
   "metadata": {
    "execution": {
     "iopub.execute_input": "2024-09-23T06:40:28.600494Z",
     "iopub.status.busy": "2024-09-23T06:40:28.599912Z",
     "iopub.status.idle": "2024-09-23T06:40:28.606324Z",
     "shell.execute_reply": "2024-09-23T06:40:28.604878Z"
    },
    "id": "cg-7tCn_aXTc",
    "papermill": {
     "duration": 0.033072,
     "end_time": "2024-09-23T06:40:28.608926",
     "exception": false,
     "start_time": "2024-09-23T06:40:28.575854",
     "status": "completed"
    },
    "tags": []
   },
   "outputs": [],
   "source": [
    "scaler_test = MinMaxScaler(feature_range = (0,1))"
   ]
  },
  {
   "cell_type": "code",
   "execution_count": 26,
   "id": "2c73926f",
   "metadata": {
    "execution": {
     "iopub.execute_input": "2024-09-23T06:40:28.655133Z",
     "iopub.status.busy": "2024-09-23T06:40:28.654570Z",
     "iopub.status.idle": "2024-09-23T06:40:28.662079Z",
     "shell.execute_reply": "2024-09-23T06:40:28.660559Z"
    },
    "id": "tSbuIifiabbC",
    "papermill": {
     "duration": 0.033929,
     "end_time": "2024-09-23T06:40:28.664903",
     "exception": false,
     "start_time": "2024-09-23T06:40:28.630974",
     "status": "completed"
    },
    "tags": []
   },
   "outputs": [],
   "source": [
    "test = scaler_test.fit_transform(test)"
   ]
  },
  {
   "cell_type": "code",
   "execution_count": 27,
   "id": "5f287d7b",
   "metadata": {
    "execution": {
     "iopub.execute_input": "2024-09-23T06:40:28.711735Z",
     "iopub.status.busy": "2024-09-23T06:40:28.711188Z",
     "iopub.status.idle": "2024-09-23T06:40:28.720476Z",
     "shell.execute_reply": "2024-09-23T06:40:28.719224Z"
    },
    "id": "X5a7m_BEagaJ",
    "papermill": {
     "duration": 0.035985,
     "end_time": "2024-09-23T06:40:28.723128",
     "exception": false,
     "start_time": "2024-09-23T06:40:28.687143",
     "status": "completed"
    },
    "tags": []
   },
   "outputs": [
    {
     "data": {
      "text/plain": [
       "array([[0.02191224],\n",
       "       [0.02174973],\n",
       "       [0.01668472],\n",
       "       [0.0092091 ],\n",
       "       [0.00083966]], dtype=float32)"
      ]
     },
     "execution_count": 27,
     "metadata": {},
     "output_type": "execute_result"
    }
   ],
   "source": [
    "train[0:5]"
   ]
  },
  {
   "cell_type": "code",
   "execution_count": 28,
   "id": "3541daf9",
   "metadata": {
    "execution": {
     "iopub.execute_input": "2024-09-23T06:40:28.768929Z",
     "iopub.status.busy": "2024-09-23T06:40:28.768378Z",
     "iopub.status.idle": "2024-09-23T06:40:28.777522Z",
     "shell.execute_reply": "2024-09-23T06:40:28.776211Z"
    },
    "id": "AeVSy_ijahnh",
    "papermill": {
     "duration": 0.035368,
     "end_time": "2024-09-23T06:40:28.780216",
     "exception": false,
     "start_time": "2024-09-23T06:40:28.744848",
     "status": "completed"
    },
    "tags": []
   },
   "outputs": [
    {
     "data": {
      "text/plain": [
       "array([[0.25685903],\n",
       "       [0.24829045],\n",
       "       [0.25511202],\n",
       "       [0.24978784],\n",
       "       [0.2465767 ]], dtype=float32)"
      ]
     },
     "execution_count": 28,
     "metadata": {},
     "output_type": "execute_result"
    }
   ],
   "source": [
    "test[0:5]"
   ]
  },
  {
   "cell_type": "code",
   "execution_count": 29,
   "id": "4f44553f",
   "metadata": {
    "execution": {
     "iopub.execute_input": "2024-09-23T06:40:28.826896Z",
     "iopub.status.busy": "2024-09-23T06:40:28.826376Z",
     "iopub.status.idle": "2024-09-23T06:40:28.834808Z",
     "shell.execute_reply": "2024-09-23T06:40:28.833133Z"
    },
    "id": "Gv95UqJWasHS",
    "papermill": {
     "duration": 0.035419,
     "end_time": "2024-09-23T06:40:28.837695",
     "exception": false,
     "start_time": "2024-09-23T06:40:28.802276",
     "status": "completed"
    },
    "tags": []
   },
   "outputs": [],
   "source": [
    "def create_features(data, lookback):\n",
    "  X, Y = [], []\n",
    "  for i in range(lookback, len(data)):\n",
    "    X.append(data[i-lookback:i,0])\n",
    "    Y.append(data[i,0])\n",
    "\n",
    "  return np.array(X), np.array(Y)"
   ]
  },
  {
   "cell_type": "code",
   "execution_count": 30,
   "id": "fbcf9a36",
   "metadata": {
    "execution": {
     "iopub.execute_input": "2024-09-23T06:40:28.885445Z",
     "iopub.status.busy": "2024-09-23T06:40:28.884844Z",
     "iopub.status.idle": "2024-09-23T06:40:28.891143Z",
     "shell.execute_reply": "2024-09-23T06:40:28.889790Z"
    },
    "id": "e36Ux4_CbASm",
    "papermill": {
     "duration": 0.034381,
     "end_time": "2024-09-23T06:40:28.894113",
     "exception": false,
     "start_time": "2024-09-23T06:40:28.859732",
     "status": "completed"
    },
    "tags": []
   },
   "outputs": [],
   "source": [
    "lookback = 20"
   ]
  },
  {
   "cell_type": "code",
   "execution_count": 31,
   "id": "5fcf0b27",
   "metadata": {
    "execution": {
     "iopub.execute_input": "2024-09-23T06:40:28.941584Z",
     "iopub.status.busy": "2024-09-23T06:40:28.940969Z",
     "iopub.status.idle": "2024-09-23T06:40:28.953142Z",
     "shell.execute_reply": "2024-09-23T06:40:28.951686Z"
    },
    "id": "Xd8JMdaWbCzp",
    "papermill": {
     "duration": 0.039497,
     "end_time": "2024-09-23T06:40:28.956170",
     "exception": false,
     "start_time": "2024-09-23T06:40:28.916673",
     "status": "completed"
    },
    "tags": []
   },
   "outputs": [],
   "source": [
    "X_train, y_train = create_features(train, lookback)"
   ]
  },
  {
   "cell_type": "code",
   "execution_count": 32,
   "id": "eb4c9503",
   "metadata": {
    "execution": {
     "iopub.execute_input": "2024-09-23T06:40:29.059140Z",
     "iopub.status.busy": "2024-09-23T06:40:29.058690Z",
     "iopub.status.idle": "2024-09-23T06:40:29.066259Z",
     "shell.execute_reply": "2024-09-23T06:40:29.065141Z"
    },
    "id": "wHgq8DT5bF_Z",
    "papermill": {
     "duration": 0.090797,
     "end_time": "2024-09-23T06:40:29.069154",
     "exception": false,
     "start_time": "2024-09-23T06:40:28.978357",
     "status": "completed"
    },
    "tags": []
   },
   "outputs": [],
   "source": [
    "X_test, y_test = create_features(test, lookback)"
   ]
  },
  {
   "cell_type": "code",
   "execution_count": 33,
   "id": "a0d7637e",
   "metadata": {
    "execution": {
     "iopub.execute_input": "2024-09-23T06:40:29.116639Z",
     "iopub.status.busy": "2024-09-23T06:40:29.116196Z",
     "iopub.status.idle": "2024-09-23T06:40:29.124108Z",
     "shell.execute_reply": "2024-09-23T06:40:29.122471Z"
    },
    "id": "zYQy_33TbKdb",
    "papermill": {
     "duration": 0.035401,
     "end_time": "2024-09-23T06:40:29.127076",
     "exception": false,
     "start_time": "2024-09-23T06:40:29.091675",
     "status": "completed"
    },
    "tags": []
   },
   "outputs": [
    {
     "name": "stdout",
     "output_type": "stream",
     "text": [
      "(1913, 20) (1913,) (463, 20) (463,)\n"
     ]
    }
   ],
   "source": [
    "print(X_train.shape, y_train.shape, X_test.shape, y_test.shape)"
   ]
  },
  {
   "cell_type": "code",
   "execution_count": 34,
   "id": "06b99927",
   "metadata": {
    "execution": {
     "iopub.execute_input": "2024-09-23T06:40:29.176890Z",
     "iopub.status.busy": "2024-09-23T06:40:29.175085Z",
     "iopub.status.idle": "2024-09-23T06:40:29.186187Z",
     "shell.execute_reply": "2024-09-23T06:40:29.184894Z"
    },
    "id": "sI1k-K6bTKuw",
    "papermill": {
     "duration": 0.03897,
     "end_time": "2024-09-23T06:40:29.189209",
     "exception": false,
     "start_time": "2024-09-23T06:40:29.150239",
     "status": "completed"
    },
    "tags": []
   },
   "outputs": [
    {
     "data": {
      "text/plain": [
       "array([[0.02191224, 0.02174973, 0.01668472, 0.0092091 , 0.00083966,\n",
       "        0.        , 0.00449621, 0.00433369, 0.0033857 , 0.00633803,\n",
       "        0.01094258, 0.011078  , 0.01310942, 0.0165493 , 0.01218851,\n",
       "        0.01197183, 0.01408451, 0.01486999, 0.01394908, 0.01286566],\n",
       "       [0.02174973, 0.01668472, 0.0092091 , 0.00083966, 0.        ,\n",
       "        0.00449621, 0.00433369, 0.0033857 , 0.00633803, 0.01094258,\n",
       "        0.011078  , 0.01310942, 0.0165493 , 0.01218851, 0.01197183,\n",
       "        0.01408451, 0.01486999, 0.01394908, 0.01286566, 0.01332611],\n",
       "       [0.01668472, 0.0092091 , 0.00083966, 0.        , 0.00449621,\n",
       "        0.00433369, 0.0033857 , 0.00633803, 0.01094258, 0.011078  ,\n",
       "        0.01310942, 0.0165493 , 0.01218851, 0.01197183, 0.01408451,\n",
       "        0.01486999, 0.01394908, 0.01286566, 0.01332611, 0.01232395],\n",
       "       [0.0092091 , 0.00083966, 0.        , 0.00449621, 0.00433369,\n",
       "        0.0033857 , 0.00633803, 0.01094258, 0.011078  , 0.01310942,\n",
       "        0.0165493 , 0.01218851, 0.01197183, 0.01408451, 0.01486999,\n",
       "        0.01394908, 0.01286566, 0.01332611, 0.01232395, 0.01121344],\n",
       "       [0.00083966, 0.        , 0.00449621, 0.00433369, 0.0033857 ,\n",
       "        0.00633803, 0.01094258, 0.011078  , 0.01310942, 0.0165493 ,\n",
       "        0.01218851, 0.01197183, 0.01408451, 0.01486999, 0.01394908,\n",
       "        0.01286566, 0.01332611, 0.01232395, 0.01121344, 0.01386782]],\n",
       "      dtype=float32)"
      ]
     },
     "execution_count": 34,
     "metadata": {},
     "output_type": "execute_result"
    }
   ],
   "source": [
    "X_train[0:5]"
   ]
  },
  {
   "cell_type": "code",
   "execution_count": 35,
   "id": "c490391c",
   "metadata": {
    "execution": {
     "iopub.execute_input": "2024-09-23T06:40:29.236329Z",
     "iopub.status.busy": "2024-09-23T06:40:29.235826Z",
     "iopub.status.idle": "2024-09-23T06:40:29.245786Z",
     "shell.execute_reply": "2024-09-23T06:40:29.244325Z"
    },
    "id": "vY5hCVQHTg9u",
    "papermill": {
     "duration": 0.03671,
     "end_time": "2024-09-23T06:40:29.248494",
     "exception": false,
     "start_time": "2024-09-23T06:40:29.211784",
     "status": "completed"
    },
    "tags": []
   },
   "outputs": [
    {
     "data": {
      "text/plain": [
       "array([0.01332611, 0.01232395, 0.01121344, 0.01386782, 0.01665764],\n",
       "      dtype=float32)"
      ]
     },
     "execution_count": 35,
     "metadata": {},
     "output_type": "execute_result"
    }
   ],
   "source": [
    "y_train[0:5]"
   ]
  },
  {
   "cell_type": "code",
   "execution_count": 36,
   "id": "948491d7",
   "metadata": {
    "execution": {
     "iopub.execute_input": "2024-09-23T06:40:29.297286Z",
     "iopub.status.busy": "2024-09-23T06:40:29.296405Z",
     "iopub.status.idle": "2024-09-23T06:40:29.304137Z",
     "shell.execute_reply": "2024-09-23T06:40:29.302803Z"
    },
    "id": "yvf-4kLybad5",
    "papermill": {
     "duration": 0.035767,
     "end_time": "2024-09-23T06:40:29.307328",
     "exception": false,
     "start_time": "2024-09-23T06:40:29.271561",
     "status": "completed"
    },
    "tags": []
   },
   "outputs": [],
   "source": [
    "X_train = np.reshape(X_train, (X_train.shape[0], 1, X_train.shape[1]))\n",
    "X_test = np.reshape(X_test, (X_test.shape[0], 1, X_test.shape[1]))\n",
    "y_train = y_train.reshape(-1,1)\n",
    "y_test = y_test.reshape(-1,1)"
   ]
  },
  {
   "cell_type": "code",
   "execution_count": 37,
   "id": "36d751ca",
   "metadata": {
    "execution": {
     "iopub.execute_input": "2024-09-23T06:40:29.356864Z",
     "iopub.status.busy": "2024-09-23T06:40:29.355842Z",
     "iopub.status.idle": "2024-09-23T06:40:29.363973Z",
     "shell.execute_reply": "2024-09-23T06:40:29.362420Z"
    },
    "id": "D2ltv0Edb3wz",
    "papermill": {
     "duration": 0.036402,
     "end_time": "2024-09-23T06:40:29.366805",
     "exception": false,
     "start_time": "2024-09-23T06:40:29.330403",
     "status": "completed"
    },
    "tags": []
   },
   "outputs": [
    {
     "name": "stdout",
     "output_type": "stream",
     "text": [
      "(1913, 1, 20) (1913, 1) (463, 1, 20) (463, 1)\n"
     ]
    }
   ],
   "source": [
    "print(X_train.shape, y_train.shape, X_test.shape, y_test.shape)"
   ]
  },
  {
   "cell_type": "markdown",
   "id": "247f23ad",
   "metadata": {
    "id": "DtsN3xazcIAn",
    "papermill": {
     "duration": 0.024335,
     "end_time": "2024-09-23T06:40:29.416268",
     "exception": false,
     "start_time": "2024-09-23T06:40:29.391933",
     "status": "completed"
    },
    "tags": []
   },
   "source": [
    "## Modelling"
   ]
  },
  {
   "cell_type": "code",
   "execution_count": 38,
   "id": "4a6dd758",
   "metadata": {
    "execution": {
     "iopub.execute_input": "2024-09-23T06:40:29.463882Z",
     "iopub.status.busy": "2024-09-23T06:40:29.463355Z",
     "iopub.status.idle": "2024-09-23T06:40:29.617903Z",
     "shell.execute_reply": "2024-09-23T06:40:29.616353Z"
    },
    "id": "QtbQx4G9cI_z",
    "papermill": {
     "duration": 0.18212,
     "end_time": "2024-09-23T06:40:29.621112",
     "exception": false,
     "start_time": "2024-09-23T06:40:29.438992",
     "status": "completed"
    },
    "tags": []
   },
   "outputs": [],
   "source": [
    "model = Sequential()\n",
    "\n",
    "model.add(LSTM(units = 50,\n",
    "                    activation = 'relu',\n",
    "                    input_shape=(X_train.shape[1], lookback)))\n",
    "\n",
    "model.add(Dropout(0.2))\n",
    "\n",
    "model.add(Dense(1))\n"
   ]
  },
  {
   "cell_type": "code",
   "execution_count": 39,
   "id": "27e58fc6",
   "metadata": {
    "execution": {
     "iopub.execute_input": "2024-09-23T06:40:29.670252Z",
     "iopub.status.busy": "2024-09-23T06:40:29.669725Z",
     "iopub.status.idle": "2024-09-23T06:40:29.697042Z",
     "shell.execute_reply": "2024-09-23T06:40:29.695627Z"
    },
    "id": "RQFXIkDbciE6",
    "papermill": {
     "duration": 0.055322,
     "end_time": "2024-09-23T06:40:29.699879",
     "exception": false,
     "start_time": "2024-09-23T06:40:29.644557",
     "status": "completed"
    },
    "tags": []
   },
   "outputs": [
    {
     "data": {
      "text/html": [
       "<pre style=\"white-space:pre;overflow-x:auto;line-height:normal;font-family:Menlo,'DejaVu Sans Mono',consolas,'Courier New',monospace\"><span style=\"font-weight: bold\">Model: \"sequential\"</span>\n",
       "</pre>\n"
      ],
      "text/plain": [
       "\u001b[1mModel: \"sequential\"\u001b[0m\n"
      ]
     },
     "metadata": {},
     "output_type": "display_data"
    },
    {
     "data": {
      "text/html": [
       "<pre style=\"white-space:pre;overflow-x:auto;line-height:normal;font-family:Menlo,'DejaVu Sans Mono',consolas,'Courier New',monospace\">┏━━━━━━━━━━━━━━━━━━━━━━━━━━━━━━━━━┳━━━━━━━━━━━━━━━━━━━━━━━━┳━━━━━━━━━━━━━━━┓\n",
       "┃<span style=\"font-weight: bold\"> Layer (type)                    </span>┃<span style=\"font-weight: bold\"> Output Shape           </span>┃<span style=\"font-weight: bold\">       Param # </span>┃\n",
       "┡━━━━━━━━━━━━━━━━━━━━━━━━━━━━━━━━━╇━━━━━━━━━━━━━━━━━━━━━━━━╇━━━━━━━━━━━━━━━┩\n",
       "│ lstm (<span style=\"color: #0087ff; text-decoration-color: #0087ff\">LSTM</span>)                     │ (<span style=\"color: #00d7ff; text-decoration-color: #00d7ff\">None</span>, <span style=\"color: #00af00; text-decoration-color: #00af00\">50</span>)             │        <span style=\"color: #00af00; text-decoration-color: #00af00\">14,200</span> │\n",
       "├─────────────────────────────────┼────────────────────────┼───────────────┤\n",
       "│ dropout (<span style=\"color: #0087ff; text-decoration-color: #0087ff\">Dropout</span>)               │ (<span style=\"color: #00d7ff; text-decoration-color: #00d7ff\">None</span>, <span style=\"color: #00af00; text-decoration-color: #00af00\">50</span>)             │             <span style=\"color: #00af00; text-decoration-color: #00af00\">0</span> │\n",
       "├─────────────────────────────────┼────────────────────────┼───────────────┤\n",
       "│ dense (<span style=\"color: #0087ff; text-decoration-color: #0087ff\">Dense</span>)                   │ (<span style=\"color: #00d7ff; text-decoration-color: #00d7ff\">None</span>, <span style=\"color: #00af00; text-decoration-color: #00af00\">1</span>)              │            <span style=\"color: #00af00; text-decoration-color: #00af00\">51</span> │\n",
       "└─────────────────────────────────┴────────────────────────┴───────────────┘\n",
       "</pre>\n"
      ],
      "text/plain": [
       "┏━━━━━━━━━━━━━━━━━━━━━━━━━━━━━━━━━┳━━━━━━━━━━━━━━━━━━━━━━━━┳━━━━━━━━━━━━━━━┓\n",
       "┃\u001b[1m \u001b[0m\u001b[1mLayer (type)                   \u001b[0m\u001b[1m \u001b[0m┃\u001b[1m \u001b[0m\u001b[1mOutput Shape          \u001b[0m\u001b[1m \u001b[0m┃\u001b[1m \u001b[0m\u001b[1m      Param #\u001b[0m\u001b[1m \u001b[0m┃\n",
       "┡━━━━━━━━━━━━━━━━━━━━━━━━━━━━━━━━━╇━━━━━━━━━━━━━━━━━━━━━━━━╇━━━━━━━━━━━━━━━┩\n",
       "│ lstm (\u001b[38;5;33mLSTM\u001b[0m)                     │ (\u001b[38;5;45mNone\u001b[0m, \u001b[38;5;34m50\u001b[0m)             │        \u001b[38;5;34m14,200\u001b[0m │\n",
       "├─────────────────────────────────┼────────────────────────┼───────────────┤\n",
       "│ dropout (\u001b[38;5;33mDropout\u001b[0m)               │ (\u001b[38;5;45mNone\u001b[0m, \u001b[38;5;34m50\u001b[0m)             │             \u001b[38;5;34m0\u001b[0m │\n",
       "├─────────────────────────────────┼────────────────────────┼───────────────┤\n",
       "│ dense (\u001b[38;5;33mDense\u001b[0m)                   │ (\u001b[38;5;45mNone\u001b[0m, \u001b[38;5;34m1\u001b[0m)              │            \u001b[38;5;34m51\u001b[0m │\n",
       "└─────────────────────────────────┴────────────────────────┴───────────────┘\n"
      ]
     },
     "metadata": {},
     "output_type": "display_data"
    },
    {
     "data": {
      "text/html": [
       "<pre style=\"white-space:pre;overflow-x:auto;line-height:normal;font-family:Menlo,'DejaVu Sans Mono',consolas,'Courier New',monospace\"><span style=\"font-weight: bold\"> Total params: </span><span style=\"color: #00af00; text-decoration-color: #00af00\">14,251</span> (55.67 KB)\n",
       "</pre>\n"
      ],
      "text/plain": [
       "\u001b[1m Total params: \u001b[0m\u001b[38;5;34m14,251\u001b[0m (55.67 KB)\n"
      ]
     },
     "metadata": {},
     "output_type": "display_data"
    },
    {
     "data": {
      "text/html": [
       "<pre style=\"white-space:pre;overflow-x:auto;line-height:normal;font-family:Menlo,'DejaVu Sans Mono',consolas,'Courier New',monospace\"><span style=\"font-weight: bold\"> Trainable params: </span><span style=\"color: #00af00; text-decoration-color: #00af00\">14,251</span> (55.67 KB)\n",
       "</pre>\n"
      ],
      "text/plain": [
       "\u001b[1m Trainable params: \u001b[0m\u001b[38;5;34m14,251\u001b[0m (55.67 KB)\n"
      ]
     },
     "metadata": {},
     "output_type": "display_data"
    },
    {
     "data": {
      "text/html": [
       "<pre style=\"white-space:pre;overflow-x:auto;line-height:normal;font-family:Menlo,'DejaVu Sans Mono',consolas,'Courier New',monospace\"><span style=\"font-weight: bold\"> Non-trainable params: </span><span style=\"color: #00af00; text-decoration-color: #00af00\">0</span> (0.00 B)\n",
       "</pre>\n"
      ],
      "text/plain": [
       "\u001b[1m Non-trainable params: \u001b[0m\u001b[38;5;34m0\u001b[0m (0.00 B)\n"
      ]
     },
     "metadata": {},
     "output_type": "display_data"
    }
   ],
   "source": [
    "model.summary()"
   ]
  },
  {
   "cell_type": "code",
   "execution_count": 40,
   "id": "2fe52a00",
   "metadata": {
    "execution": {
     "iopub.execute_input": "2024-09-23T06:40:29.750597Z",
     "iopub.status.busy": "2024-09-23T06:40:29.750084Z",
     "iopub.status.idle": "2024-09-23T06:40:29.766587Z",
     "shell.execute_reply": "2024-09-23T06:40:29.765261Z"
    },
    "id": "NE6_O7IwclkT",
    "papermill": {
     "duration": 0.045607,
     "end_time": "2024-09-23T06:40:29.769731",
     "exception": false,
     "start_time": "2024-09-23T06:40:29.724124",
     "status": "completed"
    },
    "tags": []
   },
   "outputs": [],
   "source": [
    "model.compile(loss='mean_squared_error', optimizer='adam')"
   ]
  },
  {
   "cell_type": "code",
   "execution_count": 41,
   "id": "2d356c34",
   "metadata": {
    "execution": {
     "iopub.execute_input": "2024-09-23T06:40:29.820415Z",
     "iopub.status.busy": "2024-09-23T06:40:29.819945Z",
     "iopub.status.idle": "2024-09-23T06:40:29.826893Z",
     "shell.execute_reply": "2024-09-23T06:40:29.825657Z"
    },
    "id": "JLqjYZudc3Is",
    "papermill": {
     "duration": 0.035817,
     "end_time": "2024-09-23T06:40:29.829985",
     "exception": false,
     "start_time": "2024-09-23T06:40:29.794168",
     "status": "completed"
    },
    "tags": []
   },
   "outputs": [],
   "source": [
    "callbacks = (EarlyStopping(monitor='val_loss', patience=10, verbose=1, mode='min'),\n",
    "            ModelCheckpoint(filepath='mymodel.keras', monitor='val_loss', mode='min',\n",
    "            save_best_only = True, save_weights_only = False, verbose = 1))"
   ]
  },
  {
   "cell_type": "code",
   "execution_count": 42,
   "id": "ee42212d",
   "metadata": {
    "execution": {
     "iopub.execute_input": "2024-09-23T06:40:29.880701Z",
     "iopub.status.busy": "2024-09-23T06:40:29.880169Z",
     "iopub.status.idle": "2024-09-23T06:40:41.479567Z",
     "shell.execute_reply": "2024-09-23T06:40:41.477856Z"
    },
    "id": "7Pv-Fb9FdSf7",
    "papermill": {
     "duration": 11.628493,
     "end_time": "2024-09-23T06:40:41.482929",
     "exception": false,
     "start_time": "2024-09-23T06:40:29.854436",
     "status": "completed"
    },
    "tags": []
   },
   "outputs": [
    {
     "name": "stdout",
     "output_type": "stream",
     "text": [
      "Epoch 1/100\n",
      "\u001b[1m88/96\u001b[0m \u001b[32m━━━━━━━━━━━━━━━━━━\u001b[0m\u001b[37m━━\u001b[0m \u001b[1m0s\u001b[0m 3ms/step - loss: 0.0021\n",
      "Epoch 1: val_loss improved from inf to 0.00364, saving model to mymodel.keras\n",
      "\u001b[1m96/96\u001b[0m \u001b[32m━━━━━━━━━━━━━━━━━━━━\u001b[0m\u001b[37m\u001b[0m \u001b[1m3s\u001b[0m 8ms/step - loss: 0.0024 - val_loss: 0.0036\n",
      "Epoch 2/100\n",
      "\u001b[1m83/96\u001b[0m \u001b[32m━━━━━━━━━━━━━━━━━\u001b[0m\u001b[37m━━━\u001b[0m \u001b[1m0s\u001b[0m 3ms/step - loss: 0.0027\n",
      "Epoch 2: val_loss improved from 0.00364 to 0.00292, saving model to mymodel.keras\n",
      "\u001b[1m96/96\u001b[0m \u001b[32m━━━━━━━━━━━━━━━━━━━━\u001b[0m\u001b[37m\u001b[0m \u001b[1m0s\u001b[0m 4ms/step - loss: 0.0030 - val_loss: 0.0029\n",
      "Epoch 3/100\n",
      "\u001b[1m88/96\u001b[0m \u001b[32m━━━━━━━━━━━━━━━━━━\u001b[0m\u001b[37m━━\u001b[0m \u001b[1m0s\u001b[0m 4ms/step - loss: 0.0016\n",
      "Epoch 3: val_loss improved from 0.00292 to 0.00265, saving model to mymodel.keras\n",
      "\u001b[1m96/96\u001b[0m \u001b[32m━━━━━━━━━━━━━━━━━━━━\u001b[0m\u001b[37m\u001b[0m \u001b[1m0s\u001b[0m 4ms/step - loss: 0.0019 - val_loss: 0.0027\n",
      "Epoch 4/100\n",
      "\u001b[1m84/96\u001b[0m \u001b[32m━━━━━━━━━━━━━━━━━\u001b[0m\u001b[37m━━━\u001b[0m \u001b[1m0s\u001b[0m 3ms/step - loss: 0.0013    \n",
      "Epoch 4: val_loss improved from 0.00265 to 0.00252, saving model to mymodel.keras\n",
      "\u001b[1m96/96\u001b[0m \u001b[32m━━━━━━━━━━━━━━━━━━━━\u001b[0m\u001b[37m\u001b[0m \u001b[1m0s\u001b[0m 4ms/step - loss: 0.0016 - val_loss: 0.0025\n",
      "Epoch 5/100\n",
      "\u001b[1m95/96\u001b[0m \u001b[32m━━━━━━━━━━━━━━━━━━━\u001b[0m\u001b[37m━\u001b[0m \u001b[1m0s\u001b[0m 3ms/step - loss: 0.0015\n",
      "Epoch 5: val_loss improved from 0.00252 to 0.00237, saving model to mymodel.keras\n",
      "\u001b[1m96/96\u001b[0m \u001b[32m━━━━━━━━━━━━━━━━━━━━\u001b[0m\u001b[37m\u001b[0m \u001b[1m0s\u001b[0m 4ms/step - loss: 0.0015 - val_loss: 0.0024\n",
      "Epoch 6/100\n",
      "\u001b[1m96/96\u001b[0m \u001b[32m━━━━━━━━━━━━━━━━━━━━\u001b[0m\u001b[37m\u001b[0m \u001b[1m0s\u001b[0m 3ms/step - loss: 0.0012    \n",
      "Epoch 6: val_loss improved from 0.00237 to 0.00229, saving model to mymodel.keras\n",
      "\u001b[1m96/96\u001b[0m \u001b[32m━━━━━━━━━━━━━━━━━━━━\u001b[0m\u001b[37m\u001b[0m \u001b[1m0s\u001b[0m 4ms/step - loss: 0.0013 - val_loss: 0.0023\n",
      "Epoch 7/100\n",
      "\u001b[1m84/96\u001b[0m \u001b[32m━━━━━━━━━━━━━━━━━\u001b[0m\u001b[37m━━━\u001b[0m \u001b[1m0s\u001b[0m 3ms/step - loss: 0.0013    \n",
      "Epoch 7: val_loss did not improve from 0.00229\n",
      "\u001b[1m96/96\u001b[0m \u001b[32m━━━━━━━━━━━━━━━━━━━━\u001b[0m\u001b[37m\u001b[0m \u001b[1m0s\u001b[0m 4ms/step - loss: 0.0016 - val_loss: 0.0023\n",
      "Epoch 8/100\n",
      "\u001b[1m84/96\u001b[0m \u001b[32m━━━━━━━━━━━━━━━━━\u001b[0m\u001b[37m━━━\u001b[0m \u001b[1m0s\u001b[0m 3ms/step - loss: 0.0011    \n",
      "Epoch 8: val_loss did not improve from 0.00229\n",
      "\u001b[1m96/96\u001b[0m \u001b[32m━━━━━━━━━━━━━━━━━━━━\u001b[0m\u001b[37m\u001b[0m \u001b[1m0s\u001b[0m 4ms/step - loss: 0.0014 - val_loss: 0.0025\n",
      "Epoch 9/100\n",
      "\u001b[1m85/96\u001b[0m \u001b[32m━━━━━━━━━━━━━━━━━\u001b[0m\u001b[37m━━━\u001b[0m \u001b[1m0s\u001b[0m 3ms/step - loss: 0.0014\n",
      "Epoch 9: val_loss did not improve from 0.00229\n",
      "\u001b[1m96/96\u001b[0m \u001b[32m━━━━━━━━━━━━━━━━━━━━\u001b[0m\u001b[37m\u001b[0m \u001b[1m0s\u001b[0m 4ms/step - loss: 0.0016 - val_loss: 0.0028\n",
      "Epoch 10/100\n",
      "\u001b[1m85/96\u001b[0m \u001b[32m━━━━━━━━━━━━━━━━━\u001b[0m\u001b[37m━━━\u001b[0m \u001b[1m0s\u001b[0m 3ms/step - loss: 0.0014\n",
      "Epoch 10: val_loss improved from 0.00229 to 0.00211, saving model to mymodel.keras\n",
      "\u001b[1m96/96\u001b[0m \u001b[32m━━━━━━━━━━━━━━━━━━━━\u001b[0m\u001b[37m\u001b[0m \u001b[1m0s\u001b[0m 4ms/step - loss: 0.0016 - val_loss: 0.0021\n",
      "Epoch 11/100\n",
      "\u001b[1m89/96\u001b[0m \u001b[32m━━━━━━━━━━━━━━━━━━\u001b[0m\u001b[37m━━\u001b[0m \u001b[1m0s\u001b[0m 3ms/step - loss: 0.0013\n",
      "Epoch 11: val_loss did not improve from 0.00211\n",
      "\u001b[1m96/96\u001b[0m \u001b[32m━━━━━━━━━━━━━━━━━━━━\u001b[0m\u001b[37m\u001b[0m \u001b[1m0s\u001b[0m 4ms/step - loss: 0.0015 - val_loss: 0.0036\n",
      "Epoch 12/100\n",
      "\u001b[1m86/96\u001b[0m \u001b[32m━━━━━━━━━━━━━━━━━\u001b[0m\u001b[37m━━━\u001b[0m \u001b[1m0s\u001b[0m 3ms/step - loss: 0.0016\n",
      "Epoch 12: val_loss improved from 0.00211 to 0.00208, saving model to mymodel.keras\n",
      "\u001b[1m96/96\u001b[0m \u001b[32m━━━━━━━━━━━━━━━━━━━━\u001b[0m\u001b[37m\u001b[0m \u001b[1m0s\u001b[0m 4ms/step - loss: 0.0017 - val_loss: 0.0021\n",
      "Epoch 13/100\n",
      "\u001b[1m87/96\u001b[0m \u001b[32m━━━━━━━━━━━━━━━━━━\u001b[0m\u001b[37m━━\u001b[0m \u001b[1m0s\u001b[0m 3ms/step - loss: 0.0011    \n",
      "Epoch 13: val_loss did not improve from 0.00208\n",
      "\u001b[1m96/96\u001b[0m \u001b[32m━━━━━━━━━━━━━━━━━━━━\u001b[0m\u001b[37m\u001b[0m \u001b[1m0s\u001b[0m 4ms/step - loss: 0.0013 - val_loss: 0.0029\n",
      "Epoch 14/100\n",
      "\u001b[1m82/96\u001b[0m \u001b[32m━━━━━━━━━━━━━━━━━\u001b[0m\u001b[37m━━━\u001b[0m \u001b[1m0s\u001b[0m 3ms/step - loss: 0.0011    \n",
      "Epoch 14: val_loss did not improve from 0.00208\n",
      "\u001b[1m96/96\u001b[0m \u001b[32m━━━━━━━━━━━━━━━━━━━━\u001b[0m\u001b[37m\u001b[0m \u001b[1m0s\u001b[0m 4ms/step - loss: 0.0013 - val_loss: 0.0043\n",
      "Epoch 15/100\n",
      "\u001b[1m85/96\u001b[0m \u001b[32m━━━━━━━━━━━━━━━━━\u001b[0m\u001b[37m━━━\u001b[0m \u001b[1m0s\u001b[0m 3ms/step - loss: 0.0014\n",
      "Epoch 15: val_loss did not improve from 0.00208\n",
      "\u001b[1m96/96\u001b[0m \u001b[32m━━━━━━━━━━━━━━━━━━━━\u001b[0m\u001b[37m\u001b[0m \u001b[1m0s\u001b[0m 4ms/step - loss: 0.0016 - val_loss: 0.0067\n",
      "Epoch 16/100\n",
      "\u001b[1m85/96\u001b[0m \u001b[32m━━━━━━━━━━━━━━━━━\u001b[0m\u001b[37m━━━\u001b[0m \u001b[1m0s\u001b[0m 3ms/step - loss: 0.0016\n",
      "Epoch 16: val_loss did not improve from 0.00208\n",
      "\u001b[1m96/96\u001b[0m \u001b[32m━━━━━━━━━━━━━━━━━━━━\u001b[0m\u001b[37m\u001b[0m \u001b[1m0s\u001b[0m 4ms/step - loss: 0.0019 - val_loss: 0.0078\n",
      "Epoch 17/100\n",
      "\u001b[1m86/96\u001b[0m \u001b[32m━━━━━━━━━━━━━━━━━\u001b[0m\u001b[37m━━━\u001b[0m \u001b[1m0s\u001b[0m 3ms/step - loss: 0.0016\n",
      "Epoch 17: val_loss did not improve from 0.00208\n",
      "\u001b[1m96/96\u001b[0m \u001b[32m━━━━━━━━━━━━━━━━━━━━\u001b[0m\u001b[37m\u001b[0m \u001b[1m0s\u001b[0m 4ms/step - loss: 0.0020 - val_loss: 0.0095\n",
      "Epoch 18/100\n",
      "\u001b[1m96/96\u001b[0m \u001b[32m━━━━━━━━━━━━━━━━━━━━\u001b[0m\u001b[37m\u001b[0m \u001b[1m0s\u001b[0m 3ms/step - loss: 0.0019\n",
      "Epoch 18: val_loss did not improve from 0.00208\n",
      "\u001b[1m96/96\u001b[0m \u001b[32m━━━━━━━━━━━━━━━━━━━━\u001b[0m\u001b[37m\u001b[0m \u001b[1m0s\u001b[0m 4ms/step - loss: 0.0019 - val_loss: 0.0128\n",
      "Epoch 19/100\n",
      "\u001b[1m83/96\u001b[0m \u001b[32m━━━━━━━━━━━━━━━━━\u001b[0m\u001b[37m━━━\u001b[0m \u001b[1m0s\u001b[0m 3ms/step - loss: 0.0015\n",
      "Epoch 19: val_loss did not improve from 0.00208\n",
      "\u001b[1m96/96\u001b[0m \u001b[32m━━━━━━━━━━━━━━━━━━━━\u001b[0m\u001b[37m\u001b[0m \u001b[1m0s\u001b[0m 4ms/step - loss: 0.0019 - val_loss: 0.0143\n",
      "Epoch 20/100\n",
      "\u001b[1m83/96\u001b[0m \u001b[32m━━━━━━━━━━━━━━━━━\u001b[0m\u001b[37m━━━\u001b[0m \u001b[1m0s\u001b[0m 3ms/step - loss: 0.0014\n",
      "Epoch 20: val_loss did not improve from 0.00208\n",
      "\u001b[1m96/96\u001b[0m \u001b[32m━━━━━━━━━━━━━━━━━━━━\u001b[0m\u001b[37m\u001b[0m \u001b[1m0s\u001b[0m 4ms/step - loss: 0.0017 - val_loss: 0.0125\n",
      "Epoch 21/100\n",
      "\u001b[1m82/96\u001b[0m \u001b[32m━━━━━━━━━━━━━━━━━\u001b[0m\u001b[37m━━━\u001b[0m \u001b[1m0s\u001b[0m 3ms/step - loss: 0.0017\n",
      "Epoch 21: val_loss did not improve from 0.00208\n",
      "\u001b[1m96/96\u001b[0m \u001b[32m━━━━━━━━━━━━━━━━━━━━\u001b[0m\u001b[37m\u001b[0m \u001b[1m0s\u001b[0m 4ms/step - loss: 0.0020 - val_loss: 0.0051\n",
      "Epoch 22/100\n",
      "\u001b[1m86/96\u001b[0m \u001b[32m━━━━━━━━━━━━━━━━━\u001b[0m\u001b[37m━━━\u001b[0m \u001b[1m0s\u001b[0m 3ms/step - loss: 0.0013\n",
      "Epoch 22: val_loss did not improve from 0.00208\n",
      "\u001b[1m96/96\u001b[0m \u001b[32m━━━━━━━━━━━━━━━━━━━━\u001b[0m\u001b[37m\u001b[0m \u001b[1m0s\u001b[0m 4ms/step - loss: 0.0015 - val_loss: 0.0069\n",
      "Epoch 22: early stopping\n"
     ]
    }
   ],
   "source": [
    "history = model.fit(x=X_train,\n",
    "                    y=y_train,\n",
    "                    epochs=100,\n",
    "                    batch_size=20,\n",
    "                    validation_data=(X_test, y_test),\n",
    "                    callbacks=[callbacks],\n",
    "                    shuffle=False)"
   ]
  },
  {
   "cell_type": "code",
   "execution_count": 43,
   "id": "024ae2e5",
   "metadata": {
    "execution": {
     "iopub.execute_input": "2024-09-23T06:40:41.574215Z",
     "iopub.status.busy": "2024-09-23T06:40:41.573646Z",
     "iopub.status.idle": "2024-09-23T06:40:41.944469Z",
     "shell.execute_reply": "2024-09-23T06:40:41.943018Z"
    },
    "id": "VzxR8n1yeGpV",
    "papermill": {
     "duration": 0.419432,
     "end_time": "2024-09-23T06:40:41.947456",
     "exception": false,
     "start_time": "2024-09-23T06:40:41.528024",
     "status": "completed"
    },
    "tags": []
   },
   "outputs": [
    {
     "data": {
      "image/png": "[encoded data removed]",
      "text/plain": [
       "<Figure size 2000x500 with 1 Axes>"
      ]
     },
     "metadata": {},
     "output_type": "display_data"
    }
   ],
   "source": [
    "plt.figure(figsize=(20,5))\n",
    "plt.subplot(1,2,1)\n",
    "plt.plot(history.history['loss'], label='Training Loss')\n",
    "plt.plot(history.history['val_loss'], label='Validation Loss')\n",
    "plt.legend(loc='upper right')\n",
    "plt.xlabel('Epoch', fontsize = 16)\n",
    "plt.ylabel('Loss', fontsize = 16)\n",
    "plt.ylim([0,max(plt.ylim())])\n",
    "plt.title('Training and Validation Loss', fontsize = 16)\n",
    "plt.show()"
   ]
  },
  {
   "cell_type": "markdown",
   "id": "2681a62b",
   "metadata": {
    "id": "XO0NGWQWerLU",
    "papermill": {
     "duration": 0.04757,
     "end_time": "2024-09-23T06:40:42.040604",
     "exception": false,
     "start_time": "2024-09-23T06:40:41.993034",
     "status": "completed"
    },
    "tags": []
   },
   "source": [
    "## Evaluation"
   ]
  },
  {
   "cell_type": "code",
   "execution_count": 44,
   "id": "b32d706f",
   "metadata": {
    "execution": {
     "iopub.execute_input": "2024-09-23T06:40:42.133901Z",
     "iopub.status.busy": "2024-09-23T06:40:42.133426Z",
     "iopub.status.idle": "2024-09-23T06:40:43.055625Z",
     "shell.execute_reply": "2024-09-23T06:40:43.053666Z"
    },
    "id": "hyeoNUjxetH-",
    "papermill": {
     "duration": 0.97443,
     "end_time": "2024-09-23T06:40:43.059075",
     "exception": false,
     "start_time": "2024-09-23T06:40:42.084645",
     "status": "completed"
    },
    "tags": []
   },
   "outputs": [
    {
     "name": "stdout",
     "output_type": "stream",
     "text": [
      "\u001b[1m463/463\u001b[0m \u001b[32m━━━━━━━━━━━━━━━━━━━━\u001b[0m\u001b[37m\u001b[0m \u001b[1m1s\u001b[0m 2ms/step - loss: 0.0081\n",
      "\n",
      "Test Loss: 0.7%\n"
     ]
    }
   ],
   "source": [
    "loss = model.evaluate(X_test, y_test, batch_size=1)\n",
    "print(\"\\nTest Loss: %.1f%%\" % (100.0 * loss))"
   ]
  },
  {
   "cell_type": "code",
   "execution_count": 45,
   "id": "9eb4bc49",
   "metadata": {
    "execution": {
     "iopub.execute_input": "2024-09-23T06:40:43.154328Z",
     "iopub.status.busy": "2024-09-23T06:40:43.153768Z",
     "iopub.status.idle": "2024-09-23T06:40:43.851666Z",
     "shell.execute_reply": "2024-09-23T06:40:43.849803Z"
    },
    "id": "9e854j_NfFTV",
    "papermill": {
     "duration": 0.749593,
     "end_time": "2024-09-23T06:40:43.855267",
     "exception": false,
     "start_time": "2024-09-23T06:40:43.105674",
     "status": "completed"
    },
    "tags": []
   },
   "outputs": [
    {
     "name": "stdout",
     "output_type": "stream",
     "text": [
      "\u001b[1m60/60\u001b[0m \u001b[32m━━━━━━━━━━━━━━━━━━━━\u001b[0m\u001b[37m\u001b[0m \u001b[1m1s\u001b[0m 6ms/step\n"
     ]
    }
   ],
   "source": [
    "train_predict = model.predict(X_train)"
   ]
  },
  {
   "cell_type": "code",
   "execution_count": 46,
   "id": "d505d7db",
   "metadata": {
    "execution": {
     "iopub.execute_input": "2024-09-23T06:40:43.960772Z",
     "iopub.status.busy": "2024-09-23T06:40:43.960212Z",
     "iopub.status.idle": "2024-09-23T06:40:44.103529Z",
     "shell.execute_reply": "2024-09-23T06:40:44.101660Z"
    },
    "id": "GZgJuMd-fqZW",
    "papermill": {
     "duration": 0.199568,
     "end_time": "2024-09-23T06:40:44.107251",
     "exception": false,
     "start_time": "2024-09-23T06:40:43.907683",
     "status": "completed"
    },
    "tags": []
   },
   "outputs": [
    {
     "name": "stdout",
     "output_type": "stream",
     "text": [
      "\u001b[1m15/15\u001b[0m \u001b[32m━━━━━━━━━━━━━━━━━━━━\u001b[0m\u001b[37m\u001b[0m \u001b[1m0s\u001b[0m 2ms/step \n"
     ]
    }
   ],
   "source": [
    "test_predict = model.predict(X_test)"
   ]
  },
  {
   "cell_type": "code",
   "execution_count": 47,
   "id": "ce3c0d71",
   "metadata": {
    "execution": {
     "iopub.execute_input": "2024-09-23T06:40:44.210117Z",
     "iopub.status.busy": "2024-09-23T06:40:44.209621Z",
     "iopub.status.idle": "2024-09-23T06:40:44.217383Z",
     "shell.execute_reply": "2024-09-23T06:40:44.215624Z"
    },
    "id": "FcH_8U3tfsGm",
    "papermill": {
     "duration": 0.064933,
     "end_time": "2024-09-23T06:40:44.220584",
     "exception": false,
     "start_time": "2024-09-23T06:40:44.155651",
     "status": "completed"
    },
    "tags": []
   },
   "outputs": [],
   "source": [
    "train_predict = scaler_train.inverse_transform(train_predict)\n",
    "test_predict = scaler_test.inverse_transform(test_predict)"
   ]
  },
  {
   "cell_type": "code",
   "execution_count": 48,
   "id": "7941b7cd",
   "metadata": {
    "execution": {
     "iopub.execute_input": "2024-09-23T06:40:44.324424Z",
     "iopub.status.busy": "2024-09-23T06:40:44.323907Z",
     "iopub.status.idle": "2024-09-23T06:40:44.331967Z",
     "shell.execute_reply": "2024-09-23T06:40:44.329978Z"
    },
    "id": "DsGDu-NKf912",
    "papermill": {
     "duration": 0.064533,
     "end_time": "2024-09-23T06:40:44.335557",
     "exception": false,
     "start_time": "2024-09-23T06:40:44.271024",
     "status": "completed"
    },
    "tags": []
   },
   "outputs": [],
   "source": [
    "y_train = scaler_train.inverse_transform(y_train)\n",
    "y_test = scaler_test.inverse_transform(y_test)"
   ]
  },
  {
   "cell_type": "code",
   "execution_count": 49,
   "id": "b8ed7954",
   "metadata": {
    "execution": {
     "iopub.execute_input": "2024-09-23T06:40:44.441619Z",
     "iopub.status.busy": "2024-09-23T06:40:44.441057Z",
     "iopub.status.idle": "2024-09-23T06:40:44.448766Z",
     "shell.execute_reply": "2024-09-23T06:40:44.447225Z"
    },
    "id": "ZLXqwAU7gGW2",
    "papermill": {
     "duration": 0.065968,
     "end_time": "2024-09-23T06:40:44.453548",
     "exception": false,
     "start_time": "2024-09-23T06:40:44.387580",
     "status": "completed"
    },
    "tags": []
   },
   "outputs": [],
   "source": [
    "train_rmse = np.sqrt(mean_squared_error(y_train, train_predict))"
   ]
  },
  {
   "cell_type": "code",
   "execution_count": 50,
   "id": "843cf950",
   "metadata": {
    "execution": {
     "iopub.execute_input": "2024-09-23T06:40:44.559605Z",
     "iopub.status.busy": "2024-09-23T06:40:44.558604Z",
     "iopub.status.idle": "2024-09-23T06:40:44.566492Z",
     "shell.execute_reply": "2024-09-23T06:40:44.564779Z"
    },
    "id": "76WbnJaIgJ4g",
    "papermill": {
     "duration": 0.064951,
     "end_time": "2024-09-23T06:40:44.569449",
     "exception": false,
     "start_time": "2024-09-23T06:40:44.504498",
     "status": "completed"
    },
    "tags": []
   },
   "outputs": [],
   "source": [
    "test_rmse = np.sqrt(mean_squared_error(y_test, test_predict))"
   ]
  },
  {
   "cell_type": "code",
   "execution_count": 51,
   "id": "83178eb3",
   "metadata": {
    "execution": {
     "iopub.execute_input": "2024-09-23T06:40:44.669224Z",
     "iopub.status.busy": "2024-09-23T06:40:44.668790Z",
     "iopub.status.idle": "2024-09-23T06:40:44.676020Z",
     "shell.execute_reply": "2024-09-23T06:40:44.674137Z"
    },
    "id": "WcUBQBz7gMV2",
    "papermill": {
     "duration": 0.06096,
     "end_time": "2024-09-23T06:40:44.678694",
     "exception": false,
     "start_time": "2024-09-23T06:40:44.617734",
     "status": "completed"
    },
    "tags": []
   },
   "outputs": [
    {
     "name": "stdout",
     "output_type": "stream",
     "text": [
      "Train RMSE: 34.6078987121582\n",
      "Test RMSE: 49.900753021240234\n"
     ]
    }
   ],
   "source": [
    "print(f\"Train RMSE: {train_rmse}\")\n",
    "print(f\"Test RMSE: {test_rmse}\")"
   ]
  },
  {
   "cell_type": "code",
   "execution_count": 52,
   "id": "ecabd169",
   "metadata": {
    "execution": {
     "iopub.execute_input": "2024-09-23T06:40:44.776964Z",
     "iopub.status.busy": "2024-09-23T06:40:44.776511Z",
     "iopub.status.idle": "2024-09-23T06:40:44.818746Z",
     "shell.execute_reply": "2024-09-23T06:40:44.816918Z"
    },
    "id": "t_llof9mgYz_",
    "papermill": {
     "duration": 0.09656,
     "end_time": "2024-09-23T06:40:44.821989",
     "exception": false,
     "start_time": "2024-09-23T06:40:44.725429",
     "status": "completed"
    },
    "tags": []
   },
   "outputs": [
    {
     "data": {
      "text/html": [
       "<div>\n",
       "<style scoped>\n",
       "    .dataframe tbody tr th:only-of-type {\n",
       "        vertical-align: middle;\n",
       "    }\n",
       "\n",
       "    .dataframe tbody tr th {\n",
       "        vertical-align: top;\n",
       "    }\n",
       "\n",
       "    .dataframe thead th {\n",
       "        text-align: right;\n",
       "    }\n",
       "</style>\n",
       "<table border=\"1\" class=\"dataframe\">\n",
       "  <thead>\n",
       "    <tr style=\"text-align: right;\">\n",
       "      <th></th>\n",
       "      <th>count</th>\n",
       "      <th>mean</th>\n",
       "      <th>min</th>\n",
       "      <th>25%</th>\n",
       "      <th>50%</th>\n",
       "      <th>75%</th>\n",
       "      <th>max</th>\n",
       "      <th>std</th>\n",
       "    </tr>\n",
       "  </thead>\n",
       "  <tbody>\n",
       "    <tr>\n",
       "      <th>Date</th>\n",
       "      <td>2416</td>\n",
       "      <td>2015-04-15 11:09:56.026490112</td>\n",
       "      <td>2010-06-29 00:00:00</td>\n",
       "      <td>2012-11-19 18:00:00</td>\n",
       "      <td>2015-04-16 12:00:00</td>\n",
       "      <td>2017-09-07 06:00:00</td>\n",
       "      <td>2020-02-03 00:00:00</td>\n",
       "      <td>NaN</td>\n",
       "    </tr>\n",
       "    <tr>\n",
       "      <th>Open</th>\n",
       "      <td>2416.0</td>\n",
       "      <td>186.271147</td>\n",
       "      <td>16.139999</td>\n",
       "      <td>34.342498</td>\n",
       "      <td>213.035004</td>\n",
       "      <td>266.450012</td>\n",
       "      <td>673.690002</td>\n",
       "      <td>118.740163</td>\n",
       "    </tr>\n",
       "    <tr>\n",
       "      <th>High</th>\n",
       "      <td>2416.0</td>\n",
       "      <td>189.578224</td>\n",
       "      <td>16.629999</td>\n",
       "      <td>34.897501</td>\n",
       "      <td>216.745002</td>\n",
       "      <td>270.927513</td>\n",
       "      <td>786.140015</td>\n",
       "      <td>120.892329</td>\n",
       "    </tr>\n",
       "    <tr>\n",
       "      <th>Low</th>\n",
       "      <td>2416.0</td>\n",
       "      <td>182.916639</td>\n",
       "      <td>14.98</td>\n",
       "      <td>33.587501</td>\n",
       "      <td>208.870002</td>\n",
       "      <td>262.102501</td>\n",
       "      <td>673.52002</td>\n",
       "      <td>116.857591</td>\n",
       "    </tr>\n",
       "    <tr>\n",
       "      <th>Close</th>\n",
       "      <td>2416.0</td>\n",
       "      <td>186.403651</td>\n",
       "      <td>15.8</td>\n",
       "      <td>34.400002</td>\n",
       "      <td>212.960007</td>\n",
       "      <td>266.774994</td>\n",
       "      <td>780.0</td>\n",
       "      <td>119.13602</td>\n",
       "    </tr>\n",
       "    <tr>\n",
       "      <th>Adj Close</th>\n",
       "      <td>2416.0</td>\n",
       "      <td>186.403651</td>\n",
       "      <td>15.8</td>\n",
       "      <td>34.400002</td>\n",
       "      <td>212.960007</td>\n",
       "      <td>266.774994</td>\n",
       "      <td>780.0</td>\n",
       "      <td>119.13602</td>\n",
       "    </tr>\n",
       "    <tr>\n",
       "      <th>Volume</th>\n",
       "      <td>2416.0</td>\n",
       "      <td>5572721.688742</td>\n",
       "      <td>118500.0</td>\n",
       "      <td>1899275.0</td>\n",
       "      <td>4578400.0</td>\n",
       "      <td>7361150.0</td>\n",
       "      <td>47065000.0</td>\n",
       "      <td>4987809.151888</td>\n",
       "    </tr>\n",
       "  </tbody>\n",
       "</table>\n",
       "</div>"
      ],
      "text/plain": [
       "            count                           mean                  min  \\\n",
       "Date         2416  2015-04-15 11:09:56.026490112  2010-06-29 00:00:00   \n",
       "Open       2416.0                     186.271147            16.139999   \n",
       "High       2416.0                     189.578224            16.629999   \n",
       "Low        2416.0                     182.916639                14.98   \n",
       "Close      2416.0                     186.403651                 15.8   \n",
       "Adj Close  2416.0                     186.403651                 15.8   \n",
       "Volume     2416.0                 5572721.688742             118500.0   \n",
       "\n",
       "                           25%                  50%                  75%  \\\n",
       "Date       2012-11-19 18:00:00  2015-04-16 12:00:00  2017-09-07 06:00:00   \n",
       "Open                 34.342498           213.035004           266.450012   \n",
       "High                 34.897501           216.745002           270.927513   \n",
       "Low                  33.587501           208.870002           262.102501   \n",
       "Close                34.400002           212.960007           266.774994   \n",
       "Adj Close            34.400002           212.960007           266.774994   \n",
       "Volume               1899275.0            4578400.0            7361150.0   \n",
       "\n",
       "                           max             std  \n",
       "Date       2020-02-03 00:00:00             NaN  \n",
       "Open                673.690002      118.740163  \n",
       "High                786.140015      120.892329  \n",
       "Low                  673.52002      116.857591  \n",
       "Close                    780.0       119.13602  \n",
       "Adj Close                780.0       119.13602  \n",
       "Volume              47065000.0  4987809.151888  "
      ]
     },
     "execution_count": 52,
     "metadata": {},
     "output_type": "execute_result"
    }
   ],
   "source": [
    "df.describe().T"
   ]
  },
  {
   "cell_type": "code",
   "execution_count": 53,
   "id": "498d7629",
   "metadata": {
    "execution": {
     "iopub.execute_input": "2024-09-23T06:40:44.920962Z",
     "iopub.status.busy": "2024-09-23T06:40:44.920504Z",
     "iopub.status.idle": "2024-09-23T06:40:44.938162Z",
     "shell.execute_reply": "2024-09-23T06:40:44.936419Z"
    },
    "id": "-PSGVpMzgz1O",
    "papermill": {
     "duration": 0.069917,
     "end_time": "2024-09-23T06:40:44.941345",
     "exception": false,
     "start_time": "2024-09-23T06:40:44.871428",
     "status": "completed"
    },
    "tags": []
   },
   "outputs": [
    {
     "data": {
      "text/html": [
       "<div>\n",
       "<style scoped>\n",
       "    .dataframe tbody tr th:only-of-type {\n",
       "        vertical-align: middle;\n",
       "    }\n",
       "\n",
       "    .dataframe tbody tr th {\n",
       "        vertical-align: top;\n",
       "    }\n",
       "\n",
       "    .dataframe thead th {\n",
       "        text-align: right;\n",
       "    }\n",
       "</style>\n",
       "<table border=\"1\" class=\"dataframe\">\n",
       "  <thead>\n",
       "    <tr style=\"text-align: right;\">\n",
       "      <th></th>\n",
       "      <th>Close</th>\n",
       "      <th>Predicted</th>\n",
       "    </tr>\n",
       "    <tr>\n",
       "      <th>Date</th>\n",
       "      <th></th>\n",
       "      <th></th>\n",
       "    </tr>\n",
       "  </thead>\n",
       "  <tbody>\n",
       "    <tr>\n",
       "      <th>2010-07-28</th>\n",
       "      <td>20.719999</td>\n",
       "      <td>33.398342</td>\n",
       "    </tr>\n",
       "    <tr>\n",
       "      <th>2010-07-29</th>\n",
       "      <td>20.350000</td>\n",
       "      <td>33.410873</td>\n",
       "    </tr>\n",
       "    <tr>\n",
       "      <th>2010-07-30</th>\n",
       "      <td>19.940001</td>\n",
       "      <td>33.445278</td>\n",
       "    </tr>\n",
       "    <tr>\n",
       "      <th>2010-08-02</th>\n",
       "      <td>20.920000</td>\n",
       "      <td>33.468464</td>\n",
       "    </tr>\n",
       "    <tr>\n",
       "      <th>2010-08-03</th>\n",
       "      <td>21.950001</td>\n",
       "      <td>33.411659</td>\n",
       "    </tr>\n",
       "  </tbody>\n",
       "</table>\n",
       "</div>"
      ],
      "text/plain": [
       "                Close  Predicted\n",
       "Date                            \n",
       "2010-07-28  20.719999  33.398342\n",
       "2010-07-29  20.350000  33.410873\n",
       "2010-07-30  19.940001  33.445278\n",
       "2010-08-02  20.920000  33.468464\n",
       "2010-08-03  21.950001  33.411659"
      ]
     },
     "execution_count": 53,
     "metadata": {},
     "output_type": "execute_result"
    }
   ],
   "source": [
    "train_prediction_df = result_df[lookback:position]\n",
    "train_prediction_df[\"Predicted\"] = train_predict\n",
    "train_prediction_df.head()"
   ]
  },
  {
   "cell_type": "code",
   "execution_count": 54,
   "id": "014851d9",
   "metadata": {
    "execution": {
     "iopub.execute_input": "2024-09-23T06:40:45.042246Z",
     "iopub.status.busy": "2024-09-23T06:40:45.041730Z",
     "iopub.status.idle": "2024-09-23T06:40:45.062104Z",
     "shell.execute_reply": "2024-09-23T06:40:45.059734Z"
    },
    "id": "o7tRAXwOhMSA",
    "papermill": {
     "duration": 0.076261,
     "end_time": "2024-09-23T06:40:45.065336",
     "exception": false,
     "start_time": "2024-09-23T06:40:44.989075",
     "status": "completed"
    },
    "tags": []
   },
   "outputs": [
    {
     "data": {
      "text/html": [
       "<div>\n",
       "<style scoped>\n",
       "    .dataframe tbody tr th:only-of-type {\n",
       "        vertical-align: middle;\n",
       "    }\n",
       "\n",
       "    .dataframe tbody tr th {\n",
       "        vertical-align: top;\n",
       "    }\n",
       "\n",
       "    .dataframe thead th {\n",
       "        text-align: right;\n",
       "    }\n",
       "</style>\n",
       "<table border=\"1\" class=\"dataframe\">\n",
       "  <thead>\n",
       "    <tr style=\"text-align: right;\">\n",
       "      <th></th>\n",
       "      <th>Close</th>\n",
       "      <th>Predicted</th>\n",
       "    </tr>\n",
       "    <tr>\n",
       "      <th>Date</th>\n",
       "      <th></th>\n",
       "      <th></th>\n",
       "    </tr>\n",
       "  </thead>\n",
       "  <tbody>\n",
       "    <tr>\n",
       "      <th>2018-04-03</th>\n",
       "      <td>267.529999</td>\n",
       "      <td>339.420868</td>\n",
       "    </tr>\n",
       "    <tr>\n",
       "      <th>2018-04-04</th>\n",
       "      <td>286.940002</td>\n",
       "      <td>332.620667</td>\n",
       "    </tr>\n",
       "    <tr>\n",
       "      <th>2018-04-05</th>\n",
       "      <td>305.720001</td>\n",
       "      <td>331.809967</td>\n",
       "    </tr>\n",
       "    <tr>\n",
       "      <th>2018-04-06</th>\n",
       "      <td>299.299988</td>\n",
       "      <td>335.184296</td>\n",
       "    </tr>\n",
       "    <tr>\n",
       "      <th>2018-04-09</th>\n",
       "      <td>289.660004</td>\n",
       "      <td>336.049469</td>\n",
       "    </tr>\n",
       "  </tbody>\n",
       "</table>\n",
       "</div>"
      ],
      "text/plain": [
       "                 Close   Predicted\n",
       "Date                              \n",
       "2018-04-03  267.529999  339.420868\n",
       "2018-04-04  286.940002  332.620667\n",
       "2018-04-05  305.720001  331.809967\n",
       "2018-04-06  299.299988  335.184296\n",
       "2018-04-09  289.660004  336.049469"
      ]
     },
     "execution_count": 54,
     "metadata": {},
     "output_type": "execute_result"
    }
   ],
   "source": [
    "test_prediction_df = result_df[position+lookback:]\n",
    "test_prediction_df[\"Predicted\"] = test_predict\n",
    "test_prediction_df.head()"
   ]
  },
  {
   "cell_type": "code",
   "execution_count": 55,
   "id": "f4557682",
   "metadata": {
    "execution": {
     "iopub.execute_input": "2024-09-23T06:40:45.164078Z",
     "iopub.status.busy": "2024-09-23T06:40:45.163553Z",
     "iopub.status.idle": "2024-09-23T06:40:45.779700Z",
     "shell.execute_reply": "2024-09-23T06:40:45.777960Z"
    },
    "id": "PJ_-znSchYO_",
    "papermill": {
     "duration": 0.668277,
     "end_time": "2024-09-23T06:40:45.782808",
     "exception": false,
     "start_time": "2024-09-23T06:40:45.114531",
     "status": "completed"
    },
    "tags": []
   },
   "outputs": [
    {
     "data": {
      "image/png": "[encoded data removed]",
      "text/plain": [
       "<Figure size 1400x500 with 1 Axes>"
      ]
     },
     "metadata": {},
     "output_type": "display_data"
    }
   ],
   "source": [
    "plt.figure(figsize=(14,5))\n",
    "plt.plot(result_df, label = \"Real Number of Passengers\")\n",
    "plt.plot(train_prediction_df[\"Predicted\"], color = 'blue', label = \"Train Predicted Number of Passengers\")\n",
    "plt.plot(test_prediction_df[\"Predicted\"],color = 'red', label = \"Test Predicted Number of Passengers\")\n",
    "plt.title(\"Number of Passengers Prediction\")\n",
    "plt.xlabel(\"Time\")\n",
    "plt.ylabel(\"Number of Passengers\")\n",
    "plt.legend()\n",
    "plt.show()"
   ]
  }
 ],
 "metadata": {
  "colab": {
   "provenance": []
  },
  "kaggle": {
   "accelerator": "none",
   "dataSources": [
    {
     "datasetId": 500872,
     "sourceId": 927894,
     "sourceType": "datasetVersion"
    }
   ],
   "dockerImageVersionId": 30761,
   "isGpuEnabled": false,
   "isInternetEnabled": true,
   "language": "python",
   "sourceType": "notebook"
  },
  "kernelspec": {
   "display_name": "Python 3",
   "language": "python",
   "name": "python3"
  },
  "language_info": {
   "codemirror_mode": {
    "name": "ipython",
    "version": 3
   },
   "file_extension": ".py",
   "mimetype": "text/x-python",
   "name": "python",
   "nbconvert_exporter": "python",
   "pygments_lexer": "ipython3",
   "version": "3.10.14"
  },
  "papermill": {
   "default_parameters": {},
   "duration": 43.643447,
   "end_time": "2024-09-23T06:40:48.441614",
   "environment_variables": {},
   "exception": null,
   "input_path": "__notebook__.ipynb",
   "output_path": "__notebook__.ipynb",
   "parameters": {},
   "start_time": "2024-09-23T06:40:04.798167",
   "version": "2.6.0"
  }
 },
 "nbformat": 4,
 "nbformat_minor": 5
}
