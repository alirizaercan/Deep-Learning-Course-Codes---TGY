{
 "cells": [
  {
   "cell_type": "markdown",
   "id": "4a39c393",
   "metadata": {
    "id": "4unSJJjsT8BM",
    "papermill": {
     "duration": 0.011413,
     "end_time": "2025-01-30T06:16:22.556473",
     "exception": false,
     "start_time": "2025-01-30T06:16:22.545060",
     "status": "completed"
    },
    "tags": []
   },
   "source": [
    "# Tesla - Stock Price Prediction\n",
    "\n",
    "---\n",
    "\n"
   ]
  },
  {
   "cell_type": "markdown",
   "id": "d1849709",
   "metadata": {
    "id": "wkRLJL2XUAfT",
    "papermill": {
     "duration": 0.010215,
     "end_time": "2025-01-30T06:16:22.577261",
     "exception": false,
     "start_time": "2025-01-30T06:16:22.567046",
     "status": "completed"
    },
    "tags": []
   },
   "source": [
    "## Business Problem\n",
    "\n",
    "In this notebook, our purpose is to predict of tesla - stock price."
   ]
  },
  {
   "cell_type": "markdown",
   "id": "255bd8cd",
   "metadata": {
    "id": "0uxjphZsUwjz",
    "papermill": {
     "duration": 0.010332,
     "end_time": "2025-01-30T06:16:22.597974",
     "exception": false,
     "start_time": "2025-01-30T06:16:22.587642",
     "status": "completed"
    },
    "tags": []
   },
   "source": [
    "## Data Understanding"
   ]
  },
  {
   "cell_type": "code",
   "execution_count": 1,
   "id": "30d37e77",
   "metadata": {
    "execution": {
     "iopub.execute_input": "2025-01-30T06:16:22.621110Z",
     "iopub.status.busy": "2025-01-30T06:16:22.620694Z",
     "iopub.status.idle": "2025-01-30T06:16:37.755361Z",
     "shell.execute_reply": "2025-01-30T06:16:37.754469Z"
    },
    "id": "40IR65rQUyWC",
    "outputId": "4562368d-970e-4fd6-b03e-be036efe4dcd",
    "papermill": {
     "duration": 15.148748,
     "end_time": "2025-01-30T06:16:37.757687",
     "exception": false,
     "start_time": "2025-01-30T06:16:22.608939",
     "status": "completed"
    },
    "tags": []
   },
   "outputs": [],
   "source": [
    "import numpy as np\n",
    "import pandas as pd\n",
    "import datetime as dt\n",
    "import tensorflow as tf\n",
    "import matplotlib.pyplot as plt\n",
    "\n",
    "from sklearn.preprocessing import MinMaxScaler\n",
    "from sklearn.metrics import mean_squared_error\n",
    "\n",
    "from tensorflow.keras.models import Sequential\n",
    "from tensorflow.keras.layers import Dense, LSTM, Dropout\n",
    "from tensorflow.keras.callbacks import ModelCheckpoint, EarlyStopping\n",
    "\n",
    "import warnings\n",
    "warnings.filterwarnings('ignore')\n",
    "\n",
    "import os\n",
    "os.environ['TF_CPP_MIN_LOG_LEVEL'] = '3'\n",
    "tf.compat.v1.logging.set_verbosity(tf.compat.v1.logging.ERROR)"
   ]
  },
  {
   "cell_type": "code",
   "execution_count": 2,
   "id": "d37dd48b",
   "metadata": {
    "execution": {
     "iopub.execute_input": "2025-01-30T06:16:37.780644Z",
     "iopub.status.busy": "2025-01-30T06:16:37.780048Z",
     "iopub.status.idle": "2025-01-30T06:16:37.831060Z",
     "shell.execute_reply": "2025-01-30T06:16:37.830100Z"
    },
    "id": "-be5_efvVpTV",
    "papermill": {
     "duration": 0.064611,
     "end_time": "2025-01-30T06:16:37.833060",
     "exception": false,
     "start_time": "2025-01-30T06:16:37.768449",
     "status": "completed"
    },
    "tags": []
   },
   "outputs": [
    {
     "data": {
      "text/html": [
       "<div>\n",
       "<style scoped>\n",
       "    .dataframe tbody tr th:only-of-type {\n",
       "        vertical-align: middle;\n",
       "    }\n",
       "\n",
       "    .dataframe tbody tr th {\n",
       "        vertical-align: top;\n",
       "    }\n",
       "\n",
       "    .dataframe thead th {\n",
       "        text-align: right;\n",
       "    }\n",
       "</style>\n",
       "<table border=\"1\" class=\"dataframe\">\n",
       "  <thead>\n",
       "    <tr style=\"text-align: right;\">\n",
       "      <th></th>\n",
       "      <th>Date</th>\n",
       "      <th>Open</th>\n",
       "      <th>High</th>\n",
       "      <th>Low</th>\n",
       "      <th>Close</th>\n",
       "      <th>Adj Close</th>\n",
       "      <th>Volume</th>\n",
       "    </tr>\n",
       "  </thead>\n",
       "  <tbody>\n",
       "    <tr>\n",
       "      <th>0</th>\n",
       "      <td>2010-06-29</td>\n",
       "      <td>19.000000</td>\n",
       "      <td>25.000000</td>\n",
       "      <td>17.540001</td>\n",
       "      <td>23.889999</td>\n",
       "      <td>23.889999</td>\n",
       "      <td>18766300</td>\n",
       "    </tr>\n",
       "    <tr>\n",
       "      <th>1</th>\n",
       "      <td>2010-06-30</td>\n",
       "      <td>25.790001</td>\n",
       "      <td>30.420000</td>\n",
       "      <td>23.299999</td>\n",
       "      <td>23.830000</td>\n",
       "      <td>23.830000</td>\n",
       "      <td>17187100</td>\n",
       "    </tr>\n",
       "    <tr>\n",
       "      <th>2</th>\n",
       "      <td>2010-07-01</td>\n",
       "      <td>25.000000</td>\n",
       "      <td>25.920000</td>\n",
       "      <td>20.270000</td>\n",
       "      <td>21.959999</td>\n",
       "      <td>21.959999</td>\n",
       "      <td>8218800</td>\n",
       "    </tr>\n",
       "    <tr>\n",
       "      <th>3</th>\n",
       "      <td>2010-07-02</td>\n",
       "      <td>23.000000</td>\n",
       "      <td>23.100000</td>\n",
       "      <td>18.709999</td>\n",
       "      <td>19.200001</td>\n",
       "      <td>19.200001</td>\n",
       "      <td>5139800</td>\n",
       "    </tr>\n",
       "    <tr>\n",
       "      <th>4</th>\n",
       "      <td>2010-07-06</td>\n",
       "      <td>20.000000</td>\n",
       "      <td>20.000000</td>\n",
       "      <td>15.830000</td>\n",
       "      <td>16.110001</td>\n",
       "      <td>16.110001</td>\n",
       "      <td>6866900</td>\n",
       "    </tr>\n",
       "    <tr>\n",
       "      <th>...</th>\n",
       "      <td>...</td>\n",
       "      <td>...</td>\n",
       "      <td>...</td>\n",
       "      <td>...</td>\n",
       "      <td>...</td>\n",
       "      <td>...</td>\n",
       "      <td>...</td>\n",
       "    </tr>\n",
       "    <tr>\n",
       "      <th>2411</th>\n",
       "      <td>2020-01-28</td>\n",
       "      <td>568.489990</td>\n",
       "      <td>576.809998</td>\n",
       "      <td>558.080017</td>\n",
       "      <td>566.900024</td>\n",
       "      <td>566.900024</td>\n",
       "      <td>11788500</td>\n",
       "    </tr>\n",
       "    <tr>\n",
       "      <th>2412</th>\n",
       "      <td>2020-01-29</td>\n",
       "      <td>575.690002</td>\n",
       "      <td>589.799988</td>\n",
       "      <td>567.429993</td>\n",
       "      <td>580.989990</td>\n",
       "      <td>580.989990</td>\n",
       "      <td>17801500</td>\n",
       "    </tr>\n",
       "    <tr>\n",
       "      <th>2413</th>\n",
       "      <td>2020-01-30</td>\n",
       "      <td>632.419983</td>\n",
       "      <td>650.880005</td>\n",
       "      <td>618.000000</td>\n",
       "      <td>640.809998</td>\n",
       "      <td>640.809998</td>\n",
       "      <td>29005700</td>\n",
       "    </tr>\n",
       "    <tr>\n",
       "      <th>2414</th>\n",
       "      <td>2020-01-31</td>\n",
       "      <td>640.000000</td>\n",
       "      <td>653.000000</td>\n",
       "      <td>632.520020</td>\n",
       "      <td>650.570007</td>\n",
       "      <td>650.570007</td>\n",
       "      <td>15719300</td>\n",
       "    </tr>\n",
       "    <tr>\n",
       "      <th>2415</th>\n",
       "      <td>2020-02-03</td>\n",
       "      <td>673.690002</td>\n",
       "      <td>786.140015</td>\n",
       "      <td>673.520020</td>\n",
       "      <td>780.000000</td>\n",
       "      <td>780.000000</td>\n",
       "      <td>47065000</td>\n",
       "    </tr>\n",
       "  </tbody>\n",
       "</table>\n",
       "<p>2416 rows × 7 columns</p>\n",
       "</div>"
      ],
      "text/plain": [
       "            Date        Open        High         Low       Close   Adj Close  \\\n",
       "0     2010-06-29   19.000000   25.000000   17.540001   23.889999   23.889999   \n",
       "1     2010-06-30   25.790001   30.420000   23.299999   23.830000   23.830000   \n",
       "2     2010-07-01   25.000000   25.920000   20.270000   21.959999   21.959999   \n",
       "3     2010-07-02   23.000000   23.100000   18.709999   19.200001   19.200001   \n",
       "4     2010-07-06   20.000000   20.000000   15.830000   16.110001   16.110001   \n",
       "...          ...         ...         ...         ...         ...         ...   \n",
       "2411  2020-01-28  568.489990  576.809998  558.080017  566.900024  566.900024   \n",
       "2412  2020-01-29  575.690002  589.799988  567.429993  580.989990  580.989990   \n",
       "2413  2020-01-30  632.419983  650.880005  618.000000  640.809998  640.809998   \n",
       "2414  2020-01-31  640.000000  653.000000  632.520020  650.570007  650.570007   \n",
       "2415  2020-02-03  673.690002  786.140015  673.520020  780.000000  780.000000   \n",
       "\n",
       "        Volume  \n",
       "0     18766300  \n",
       "1     17187100  \n",
       "2      8218800  \n",
       "3      5139800  \n",
       "4      6866900  \n",
       "...        ...  \n",
       "2411  11788500  \n",
       "2412  17801500  \n",
       "2413  29005700  \n",
       "2414  15719300  \n",
       "2415  47065000  \n",
       "\n",
       "[2416 rows x 7 columns]"
      ]
     },
     "execution_count": 2,
     "metadata": {},
     "output_type": "execute_result"
    }
   ],
   "source": [
    "df = pd.read_csv('/kaggle/input/tesla-stock-data-from-2010-to-2020/TSLA.csv')\n",
    "df"
   ]
  },
  {
   "cell_type": "code",
   "execution_count": 3,
   "id": "ebac79e9",
   "metadata": {
    "execution": {
     "iopub.execute_input": "2025-01-30T06:16:37.856396Z",
     "iopub.status.busy": "2025-01-30T06:16:37.856002Z",
     "iopub.status.idle": "2025-01-30T06:16:37.868524Z",
     "shell.execute_reply": "2025-01-30T06:16:37.867559Z"
    },
    "id": "lG_AO3mdVv17",
    "papermill": {
     "duration": 0.026395,
     "end_time": "2025-01-30T06:16:37.870444",
     "exception": false,
     "start_time": "2025-01-30T06:16:37.844049",
     "status": "completed"
    },
    "tags": []
   },
   "outputs": [
    {
     "data": {
      "text/html": [
       "<div>\n",
       "<style scoped>\n",
       "    .dataframe tbody tr th:only-of-type {\n",
       "        vertical-align: middle;\n",
       "    }\n",
       "\n",
       "    .dataframe tbody tr th {\n",
       "        vertical-align: top;\n",
       "    }\n",
       "\n",
       "    .dataframe thead th {\n",
       "        text-align: right;\n",
       "    }\n",
       "</style>\n",
       "<table border=\"1\" class=\"dataframe\">\n",
       "  <thead>\n",
       "    <tr style=\"text-align: right;\">\n",
       "      <th></th>\n",
       "      <th>Date</th>\n",
       "      <th>Open</th>\n",
       "      <th>High</th>\n",
       "      <th>Low</th>\n",
       "      <th>Close</th>\n",
       "      <th>Adj Close</th>\n",
       "      <th>Volume</th>\n",
       "    </tr>\n",
       "  </thead>\n",
       "  <tbody>\n",
       "    <tr>\n",
       "      <th>0</th>\n",
       "      <td>2010-06-29</td>\n",
       "      <td>19.000000</td>\n",
       "      <td>25.00</td>\n",
       "      <td>17.540001</td>\n",
       "      <td>23.889999</td>\n",
       "      <td>23.889999</td>\n",
       "      <td>18766300</td>\n",
       "    </tr>\n",
       "    <tr>\n",
       "      <th>1</th>\n",
       "      <td>2010-06-30</td>\n",
       "      <td>25.790001</td>\n",
       "      <td>30.42</td>\n",
       "      <td>23.299999</td>\n",
       "      <td>23.830000</td>\n",
       "      <td>23.830000</td>\n",
       "      <td>17187100</td>\n",
       "    </tr>\n",
       "    <tr>\n",
       "      <th>2</th>\n",
       "      <td>2010-07-01</td>\n",
       "      <td>25.000000</td>\n",
       "      <td>25.92</td>\n",
       "      <td>20.270000</td>\n",
       "      <td>21.959999</td>\n",
       "      <td>21.959999</td>\n",
       "      <td>8218800</td>\n",
       "    </tr>\n",
       "    <tr>\n",
       "      <th>3</th>\n",
       "      <td>2010-07-02</td>\n",
       "      <td>23.000000</td>\n",
       "      <td>23.10</td>\n",
       "      <td>18.709999</td>\n",
       "      <td>19.200001</td>\n",
       "      <td>19.200001</td>\n",
       "      <td>5139800</td>\n",
       "    </tr>\n",
       "    <tr>\n",
       "      <th>4</th>\n",
       "      <td>2010-07-06</td>\n",
       "      <td>20.000000</td>\n",
       "      <td>20.00</td>\n",
       "      <td>15.830000</td>\n",
       "      <td>16.110001</td>\n",
       "      <td>16.110001</td>\n",
       "      <td>6866900</td>\n",
       "    </tr>\n",
       "  </tbody>\n",
       "</table>\n",
       "</div>"
      ],
      "text/plain": [
       "         Date       Open   High        Low      Close  Adj Close    Volume\n",
       "0  2010-06-29  19.000000  25.00  17.540001  23.889999  23.889999  18766300\n",
       "1  2010-06-30  25.790001  30.42  23.299999  23.830000  23.830000  17187100\n",
       "2  2010-07-01  25.000000  25.92  20.270000  21.959999  21.959999   8218800\n",
       "3  2010-07-02  23.000000  23.10  18.709999  19.200001  19.200001   5139800\n",
       "4  2010-07-06  20.000000  20.00  15.830000  16.110001  16.110001   6866900"
      ]
     },
     "execution_count": 3,
     "metadata": {},
     "output_type": "execute_result"
    }
   ],
   "source": [
    "df.head()"
   ]
  },
  {
   "cell_type": "code",
   "execution_count": 4,
   "id": "e344706b",
   "metadata": {
    "execution": {
     "iopub.execute_input": "2025-01-30T06:16:37.894264Z",
     "iopub.status.busy": "2025-01-30T06:16:37.893385Z",
     "iopub.status.idle": "2025-01-30T06:16:37.899585Z",
     "shell.execute_reply": "2025-01-30T06:16:37.898628Z"
    },
    "id": "TU5hlfyvVxY0",
    "papermill": {
     "duration": 0.020285,
     "end_time": "2025-01-30T06:16:37.901637",
     "exception": false,
     "start_time": "2025-01-30T06:16:37.881352",
     "status": "completed"
    },
    "tags": []
   },
   "outputs": [],
   "source": [
    "def check_df(dataframe, head=5):\n",
    "    print(\"##################### Shape #####################\")\n",
    "    print(dataframe.shape)\n",
    "    print(\"##################### Types #####################\")\n",
    "    print(dataframe.dtypes)\n",
    "    print(\"##################### Head #####################\")\n",
    "    print(dataframe.head(head))  # Fonksiyon çağrısına dikkat edin\n",
    "    print(\"##################### Tail #####################\")\n",
    "    print(dataframe.tail(head))\n",
    "    print(\"##################### NA #####################\")\n",
    "    print(dataframe.isnull().sum())\n",
    "    print(\"##################### Quantile #####################\")\n",
    "    print(dataframe.select_dtypes(include='number').quantile([0, 0.05, 0.5, 0.95, 0.99, 1]).T)\n"
   ]
  },
  {
   "cell_type": "code",
   "execution_count": 5,
   "id": "7fc53546",
   "metadata": {
    "execution": {
     "iopub.execute_input": "2025-01-30T06:16:37.925475Z",
     "iopub.status.busy": "2025-01-30T06:16:37.924782Z",
     "iopub.status.idle": "2025-01-30T06:16:37.946029Z",
     "shell.execute_reply": "2025-01-30T06:16:37.944829Z"
    },
    "id": "t6iFP965V4vk",
    "papermill": {
     "duration": 0.035674,
     "end_time": "2025-01-30T06:16:37.948357",
     "exception": false,
     "start_time": "2025-01-30T06:16:37.912683",
     "status": "completed"
    },
    "tags": []
   },
   "outputs": [
    {
     "name": "stdout",
     "output_type": "stream",
     "text": [
      "##################### Shape #####################\n",
      "(2416, 7)\n",
      "##################### Types #####################\n",
      "Date          object\n",
      "Open         float64\n",
      "High         float64\n",
      "Low          float64\n",
      "Close        float64\n",
      "Adj Close    float64\n",
      "Volume         int64\n",
      "dtype: object\n",
      "##################### Head #####################\n",
      "         Date       Open   High        Low      Close  Adj Close    Volume\n",
      "0  2010-06-29  19.000000  25.00  17.540001  23.889999  23.889999  18766300\n",
      "1  2010-06-30  25.790001  30.42  23.299999  23.830000  23.830000  17187100\n",
      "2  2010-07-01  25.000000  25.92  20.270000  21.959999  21.959999   8218800\n",
      "3  2010-07-02  23.000000  23.10  18.709999  19.200001  19.200001   5139800\n",
      "4  2010-07-06  20.000000  20.00  15.830000  16.110001  16.110001   6866900\n",
      "##################### Tail #####################\n",
      "            Date        Open        High         Low       Close   Adj Close  \\\n",
      "2411  2020-01-28  568.489990  576.809998  558.080017  566.900024  566.900024   \n",
      "2412  2020-01-29  575.690002  589.799988  567.429993  580.989990  580.989990   \n",
      "2413  2020-01-30  632.419983  650.880005  618.000000  640.809998  640.809998   \n",
      "2414  2020-01-31  640.000000  653.000000  632.520020  650.570007  650.570007   \n",
      "2415  2020-02-03  673.690002  786.140015  673.520020  780.000000  780.000000   \n",
      "\n",
      "        Volume  \n",
      "2411  11788500  \n",
      "2412  17801500  \n",
      "2413  29005700  \n",
      "2414  15719300  \n",
      "2415  47065000  \n",
      "##################### NA #####################\n",
      "Date         0\n",
      "Open         0\n",
      "High         0\n",
      "Low          0\n",
      "Close        0\n",
      "Adj Close    0\n",
      "Volume       0\n",
      "dtype: int64\n",
      "##################### Quantile #####################\n",
      "                    0.00           0.05          0.50          0.95  \\\n",
      "Open           16.139999      23.384999  2.130350e+02  3.519100e+02   \n",
      "High           16.629999      24.022501  2.167450e+02  3.567500e+02   \n",
      "Low            14.980000      22.867499  2.088700e+02  3.460250e+02   \n",
      "Close          15.800000      23.565000  2.129600e+02  3.511675e+02   \n",
      "Adj Close      15.800000      23.565000  2.129600e+02  3.511675e+02   \n",
      "Volume     118500.000000  633825.000000  4.578400e+06  1.476090e+07   \n",
      "\n",
      "                   0.99          1.00  \n",
      "Open       4.235790e+02  6.736900e+02  \n",
      "High       4.284705e+02  7.861400e+02  \n",
      "Low        4.122865e+02  6.735200e+02  \n",
      "Close      4.243455e+02  7.800000e+02  \n",
      "Adj Close  4.243455e+02  7.800000e+02  \n",
      "Volume     2.459959e+07  4.706500e+07  \n"
     ]
    }
   ],
   "source": [
    "check_df(df)"
   ]
  },
  {
   "cell_type": "markdown",
   "id": "3efe9634",
   "metadata": {
    "id": "v2n2ONcpWlQl",
    "papermill": {
     "duration": 0.01087,
     "end_time": "2025-01-30T06:16:37.972058",
     "exception": false,
     "start_time": "2025-01-30T06:16:37.961188",
     "status": "completed"
    },
    "tags": []
   },
   "source": [
    "## Data Preparation"
   ]
  },
  {
   "cell_type": "code",
   "execution_count": 6,
   "id": "c2351308",
   "metadata": {
    "execution": {
     "iopub.execute_input": "2025-01-30T06:16:37.996106Z",
     "iopub.status.busy": "2025-01-30T06:16:37.995195Z",
     "iopub.status.idle": "2025-01-30T06:16:38.005107Z",
     "shell.execute_reply": "2025-01-30T06:16:38.004087Z"
    },
    "id": "x-En8ormWAo8",
    "papermill": {
     "duration": 0.023971,
     "end_time": "2025-01-30T06:16:38.007117",
     "exception": false,
     "start_time": "2025-01-30T06:16:37.983146",
     "status": "completed"
    },
    "tags": []
   },
   "outputs": [],
   "source": [
    "df[\"Date\"] = pd.to_datetime(df[\"Date\"])"
   ]
  },
  {
   "cell_type": "code",
   "execution_count": 7,
   "id": "d5c9c5e7",
   "metadata": {
    "execution": {
     "iopub.execute_input": "2025-01-30T06:16:38.031394Z",
     "iopub.status.busy": "2025-01-30T06:16:38.030998Z",
     "iopub.status.idle": "2025-01-30T06:16:38.044914Z",
     "shell.execute_reply": "2025-01-30T06:16:38.043920Z"
    },
    "id": "Wk3C4MPkWBUG",
    "papermill": {
     "duration": 0.028344,
     "end_time": "2025-01-30T06:16:38.047059",
     "exception": false,
     "start_time": "2025-01-30T06:16:38.018715",
     "status": "completed"
    },
    "tags": []
   },
   "outputs": [
    {
     "data": {
      "text/html": [
       "<div>\n",
       "<style scoped>\n",
       "    .dataframe tbody tr th:only-of-type {\n",
       "        vertical-align: middle;\n",
       "    }\n",
       "\n",
       "    .dataframe tbody tr th {\n",
       "        vertical-align: top;\n",
       "    }\n",
       "\n",
       "    .dataframe thead th {\n",
       "        text-align: right;\n",
       "    }\n",
       "</style>\n",
       "<table border=\"1\" class=\"dataframe\">\n",
       "  <thead>\n",
       "    <tr style=\"text-align: right;\">\n",
       "      <th></th>\n",
       "      <th>Date</th>\n",
       "      <th>Open</th>\n",
       "      <th>High</th>\n",
       "      <th>Low</th>\n",
       "      <th>Close</th>\n",
       "      <th>Adj Close</th>\n",
       "      <th>Volume</th>\n",
       "    </tr>\n",
       "  </thead>\n",
       "  <tbody>\n",
       "    <tr>\n",
       "      <th>0</th>\n",
       "      <td>2010-06-29</td>\n",
       "      <td>19.000000</td>\n",
       "      <td>25.00</td>\n",
       "      <td>17.540001</td>\n",
       "      <td>23.889999</td>\n",
       "      <td>23.889999</td>\n",
       "      <td>18766300</td>\n",
       "    </tr>\n",
       "    <tr>\n",
       "      <th>1</th>\n",
       "      <td>2010-06-30</td>\n",
       "      <td>25.790001</td>\n",
       "      <td>30.42</td>\n",
       "      <td>23.299999</td>\n",
       "      <td>23.830000</td>\n",
       "      <td>23.830000</td>\n",
       "      <td>17187100</td>\n",
       "    </tr>\n",
       "    <tr>\n",
       "      <th>2</th>\n",
       "      <td>2010-07-01</td>\n",
       "      <td>25.000000</td>\n",
       "      <td>25.92</td>\n",
       "      <td>20.270000</td>\n",
       "      <td>21.959999</td>\n",
       "      <td>21.959999</td>\n",
       "      <td>8218800</td>\n",
       "    </tr>\n",
       "    <tr>\n",
       "      <th>3</th>\n",
       "      <td>2010-07-02</td>\n",
       "      <td>23.000000</td>\n",
       "      <td>23.10</td>\n",
       "      <td>18.709999</td>\n",
       "      <td>19.200001</td>\n",
       "      <td>19.200001</td>\n",
       "      <td>5139800</td>\n",
       "    </tr>\n",
       "    <tr>\n",
       "      <th>4</th>\n",
       "      <td>2010-07-06</td>\n",
       "      <td>20.000000</td>\n",
       "      <td>20.00</td>\n",
       "      <td>15.830000</td>\n",
       "      <td>16.110001</td>\n",
       "      <td>16.110001</td>\n",
       "      <td>6866900</td>\n",
       "    </tr>\n",
       "  </tbody>\n",
       "</table>\n",
       "</div>"
      ],
      "text/plain": [
       "        Date       Open   High        Low      Close  Adj Close    Volume\n",
       "0 2010-06-29  19.000000  25.00  17.540001  23.889999  23.889999  18766300\n",
       "1 2010-06-30  25.790001  30.42  23.299999  23.830000  23.830000  17187100\n",
       "2 2010-07-01  25.000000  25.92  20.270000  21.959999  21.959999   8218800\n",
       "3 2010-07-02  23.000000  23.10  18.709999  19.200001  19.200001   5139800\n",
       "4 2010-07-06  20.000000  20.00  15.830000  16.110001  16.110001   6866900"
      ]
     },
     "execution_count": 7,
     "metadata": {},
     "output_type": "execute_result"
    }
   ],
   "source": [
    "df.head()"
   ]
  },
  {
   "cell_type": "code",
   "execution_count": 8,
   "id": "c5b85579",
   "metadata": {
    "execution": {
     "iopub.execute_input": "2025-01-30T06:16:38.071642Z",
     "iopub.status.busy": "2025-01-30T06:16:38.070731Z",
     "iopub.status.idle": "2025-01-30T06:16:38.076532Z",
     "shell.execute_reply": "2025-01-30T06:16:38.075562Z"
    },
    "id": "ZOVzSrk1WCHu",
    "papermill": {
     "duration": 0.020211,
     "end_time": "2025-01-30T06:16:38.078558",
     "exception": false,
     "start_time": "2025-01-30T06:16:38.058347",
     "status": "completed"
    },
    "tags": []
   },
   "outputs": [],
   "source": [
    "tesla_df = df[[\"Date\", \"Close\"]]"
   ]
  },
  {
   "cell_type": "code",
   "execution_count": 9,
   "id": "a2dd3df4",
   "metadata": {
    "execution": {
     "iopub.execute_input": "2025-01-30T06:16:38.102937Z",
     "iopub.status.busy": "2025-01-30T06:16:38.102159Z",
     "iopub.status.idle": "2025-01-30T06:16:38.111618Z",
     "shell.execute_reply": "2025-01-30T06:16:38.110631Z"
    },
    "id": "Tli5FuMBWF8l",
    "papermill": {
     "duration": 0.023874,
     "end_time": "2025-01-30T06:16:38.113530",
     "exception": false,
     "start_time": "2025-01-30T06:16:38.089656",
     "status": "completed"
    },
    "tags": []
   },
   "outputs": [
    {
     "data": {
      "text/html": [
       "<div>\n",
       "<style scoped>\n",
       "    .dataframe tbody tr th:only-of-type {\n",
       "        vertical-align: middle;\n",
       "    }\n",
       "\n",
       "    .dataframe tbody tr th {\n",
       "        vertical-align: top;\n",
       "    }\n",
       "\n",
       "    .dataframe thead th {\n",
       "        text-align: right;\n",
       "    }\n",
       "</style>\n",
       "<table border=\"1\" class=\"dataframe\">\n",
       "  <thead>\n",
       "    <tr style=\"text-align: right;\">\n",
       "      <th></th>\n",
       "      <th>Date</th>\n",
       "      <th>Close</th>\n",
       "    </tr>\n",
       "  </thead>\n",
       "  <tbody>\n",
       "    <tr>\n",
       "      <th>0</th>\n",
       "      <td>2010-06-29</td>\n",
       "      <td>23.889999</td>\n",
       "    </tr>\n",
       "    <tr>\n",
       "      <th>1</th>\n",
       "      <td>2010-06-30</td>\n",
       "      <td>23.830000</td>\n",
       "    </tr>\n",
       "    <tr>\n",
       "      <th>2</th>\n",
       "      <td>2010-07-01</td>\n",
       "      <td>21.959999</td>\n",
       "    </tr>\n",
       "    <tr>\n",
       "      <th>3</th>\n",
       "      <td>2010-07-02</td>\n",
       "      <td>19.200001</td>\n",
       "    </tr>\n",
       "    <tr>\n",
       "      <th>4</th>\n",
       "      <td>2010-07-06</td>\n",
       "      <td>16.110001</td>\n",
       "    </tr>\n",
       "  </tbody>\n",
       "</table>\n",
       "</div>"
      ],
      "text/plain": [
       "        Date      Close\n",
       "0 2010-06-29  23.889999\n",
       "1 2010-06-30  23.830000\n",
       "2 2010-07-01  21.959999\n",
       "3 2010-07-02  19.200001\n",
       "4 2010-07-06  16.110001"
      ]
     },
     "execution_count": 9,
     "metadata": {},
     "output_type": "execute_result"
    }
   ],
   "source": [
    "tesla_df.head()"
   ]
  },
  {
   "cell_type": "code",
   "execution_count": 10,
   "id": "60ddd9ee",
   "metadata": {
    "execution": {
     "iopub.execute_input": "2025-01-30T06:16:38.138098Z",
     "iopub.status.busy": "2025-01-30T06:16:38.137370Z",
     "iopub.status.idle": "2025-01-30T06:16:38.144049Z",
     "shell.execute_reply": "2025-01-30T06:16:38.142826Z"
    },
    "id": "Gsw5OQCAWLzn",
    "papermill": {
     "duration": 0.02132,
     "end_time": "2025-01-30T06:16:38.146176",
     "exception": false,
     "start_time": "2025-01-30T06:16:38.124856",
     "status": "completed"
    },
    "tags": []
   },
   "outputs": [
    {
     "name": "stdout",
     "output_type": "stream",
     "text": [
      "Min Date:  2010-06-29 00:00:00\n",
      "Max Date:  2020-02-03 00:00:00\n"
     ]
    }
   ],
   "source": [
    "print(\"Min Date: \", tesla_df[\"Date\"].min())\n",
    "print(\"Max Date: \", tesla_df[\"Date\"].max())"
   ]
  },
  {
   "cell_type": "code",
   "execution_count": 11,
   "id": "419ef7a2",
   "metadata": {
    "execution": {
     "iopub.execute_input": "2025-01-30T06:16:38.170911Z",
     "iopub.status.busy": "2025-01-30T06:16:38.170157Z",
     "iopub.status.idle": "2025-01-30T06:16:38.174771Z",
     "shell.execute_reply": "2025-01-30T06:16:38.173752Z"
    },
    "id": "JGi8P08mWQO1",
    "papermill": {
     "duration": 0.019028,
     "end_time": "2025-01-30T06:16:38.176726",
     "exception": false,
     "start_time": "2025-01-30T06:16:38.157698",
     "status": "completed"
    },
    "tags": []
   },
   "outputs": [],
   "source": [
    "tesla_df.index = tesla_df[\"Date\"]"
   ]
  },
  {
   "cell_type": "code",
   "execution_count": 12,
   "id": "ee52776d",
   "metadata": {
    "execution": {
     "iopub.execute_input": "2025-01-30T06:16:38.200980Z",
     "iopub.status.busy": "2025-01-30T06:16:38.200624Z",
     "iopub.status.idle": "2025-01-30T06:16:38.211553Z",
     "shell.execute_reply": "2025-01-30T06:16:38.210535Z"
    },
    "id": "YBWxX2IOWoL_",
    "papermill": {
     "duration": 0.025606,
     "end_time": "2025-01-30T06:16:38.213723",
     "exception": false,
     "start_time": "2025-01-30T06:16:38.188117",
     "status": "completed"
    },
    "tags": []
   },
   "outputs": [
    {
     "data": {
      "text/html": [
       "<div>\n",
       "<style scoped>\n",
       "    .dataframe tbody tr th:only-of-type {\n",
       "        vertical-align: middle;\n",
       "    }\n",
       "\n",
       "    .dataframe tbody tr th {\n",
       "        vertical-align: top;\n",
       "    }\n",
       "\n",
       "    .dataframe thead th {\n",
       "        text-align: right;\n",
       "    }\n",
       "</style>\n",
       "<table border=\"1\" class=\"dataframe\">\n",
       "  <thead>\n",
       "    <tr style=\"text-align: right;\">\n",
       "      <th></th>\n",
       "      <th>Date</th>\n",
       "      <th>Close</th>\n",
       "    </tr>\n",
       "    <tr>\n",
       "      <th>Date</th>\n",
       "      <th></th>\n",
       "      <th></th>\n",
       "    </tr>\n",
       "  </thead>\n",
       "  <tbody>\n",
       "    <tr>\n",
       "      <th>2010-06-29</th>\n",
       "      <td>2010-06-29</td>\n",
       "      <td>23.889999</td>\n",
       "    </tr>\n",
       "    <tr>\n",
       "      <th>2010-06-30</th>\n",
       "      <td>2010-06-30</td>\n",
       "      <td>23.830000</td>\n",
       "    </tr>\n",
       "    <tr>\n",
       "      <th>2010-07-01</th>\n",
       "      <td>2010-07-01</td>\n",
       "      <td>21.959999</td>\n",
       "    </tr>\n",
       "    <tr>\n",
       "      <th>2010-07-02</th>\n",
       "      <td>2010-07-02</td>\n",
       "      <td>19.200001</td>\n",
       "    </tr>\n",
       "    <tr>\n",
       "      <th>2010-07-06</th>\n",
       "      <td>2010-07-06</td>\n",
       "      <td>16.110001</td>\n",
       "    </tr>\n",
       "    <tr>\n",
       "      <th>...</th>\n",
       "      <td>...</td>\n",
       "      <td>...</td>\n",
       "    </tr>\n",
       "    <tr>\n",
       "      <th>2020-01-28</th>\n",
       "      <td>2020-01-28</td>\n",
       "      <td>566.900024</td>\n",
       "    </tr>\n",
       "    <tr>\n",
       "      <th>2020-01-29</th>\n",
       "      <td>2020-01-29</td>\n",
       "      <td>580.989990</td>\n",
       "    </tr>\n",
       "    <tr>\n",
       "      <th>2020-01-30</th>\n",
       "      <td>2020-01-30</td>\n",
       "      <td>640.809998</td>\n",
       "    </tr>\n",
       "    <tr>\n",
       "      <th>2020-01-31</th>\n",
       "      <td>2020-01-31</td>\n",
       "      <td>650.570007</td>\n",
       "    </tr>\n",
       "    <tr>\n",
       "      <th>2020-02-03</th>\n",
       "      <td>2020-02-03</td>\n",
       "      <td>780.000000</td>\n",
       "    </tr>\n",
       "  </tbody>\n",
       "</table>\n",
       "<p>2416 rows × 2 columns</p>\n",
       "</div>"
      ],
      "text/plain": [
       "                 Date       Close\n",
       "Date                             \n",
       "2010-06-29 2010-06-29   23.889999\n",
       "2010-06-30 2010-06-30   23.830000\n",
       "2010-07-01 2010-07-01   21.959999\n",
       "2010-07-02 2010-07-02   19.200001\n",
       "2010-07-06 2010-07-06   16.110001\n",
       "...               ...         ...\n",
       "2020-01-28 2020-01-28  566.900024\n",
       "2020-01-29 2020-01-29  580.989990\n",
       "2020-01-30 2020-01-30  640.809998\n",
       "2020-01-31 2020-01-31  650.570007\n",
       "2020-02-03 2020-02-03  780.000000\n",
       "\n",
       "[2416 rows x 2 columns]"
      ]
     },
     "execution_count": 12,
     "metadata": {},
     "output_type": "execute_result"
    }
   ],
   "source": [
    "tesla_df"
   ]
  },
  {
   "cell_type": "code",
   "execution_count": 13,
   "id": "82e21222",
   "metadata": {
    "execution": {
     "iopub.execute_input": "2025-01-30T06:16:38.239350Z",
     "iopub.status.busy": "2025-01-30T06:16:38.238434Z",
     "iopub.status.idle": "2025-01-30T06:16:38.244132Z",
     "shell.execute_reply": "2025-01-30T06:16:38.243081Z"
    },
    "id": "tgPM31WBWvcH",
    "papermill": {
     "duration": 0.020757,
     "end_time": "2025-01-30T06:16:38.246203",
     "exception": false,
     "start_time": "2025-01-30T06:16:38.225446",
     "status": "completed"
    },
    "tags": []
   },
   "outputs": [],
   "source": [
    "tesla_df.drop(\"Date\", axis=1, inplace=True)"
   ]
  },
  {
   "cell_type": "code",
   "execution_count": 14,
   "id": "2664f050",
   "metadata": {
    "execution": {
     "iopub.execute_input": "2025-01-30T06:16:38.270968Z",
     "iopub.status.busy": "2025-01-30T06:16:38.270599Z",
     "iopub.status.idle": "2025-01-30T06:16:38.281016Z",
     "shell.execute_reply": "2025-01-30T06:16:38.280016Z"
    },
    "id": "17KdnKMGWwSm",
    "papermill": {
     "duration": 0.025285,
     "end_time": "2025-01-30T06:16:38.283132",
     "exception": false,
     "start_time": "2025-01-30T06:16:38.257847",
     "status": "completed"
    },
    "tags": []
   },
   "outputs": [
    {
     "data": {
      "text/html": [
       "<div>\n",
       "<style scoped>\n",
       "    .dataframe tbody tr th:only-of-type {\n",
       "        vertical-align: middle;\n",
       "    }\n",
       "\n",
       "    .dataframe tbody tr th {\n",
       "        vertical-align: top;\n",
       "    }\n",
       "\n",
       "    .dataframe thead th {\n",
       "        text-align: right;\n",
       "    }\n",
       "</style>\n",
       "<table border=\"1\" class=\"dataframe\">\n",
       "  <thead>\n",
       "    <tr style=\"text-align: right;\">\n",
       "      <th></th>\n",
       "      <th>Close</th>\n",
       "    </tr>\n",
       "    <tr>\n",
       "      <th>Date</th>\n",
       "      <th></th>\n",
       "    </tr>\n",
       "  </thead>\n",
       "  <tbody>\n",
       "    <tr>\n",
       "      <th>2010-06-29</th>\n",
       "      <td>23.889999</td>\n",
       "    </tr>\n",
       "    <tr>\n",
       "      <th>2010-06-30</th>\n",
       "      <td>23.830000</td>\n",
       "    </tr>\n",
       "    <tr>\n",
       "      <th>2010-07-01</th>\n",
       "      <td>21.959999</td>\n",
       "    </tr>\n",
       "    <tr>\n",
       "      <th>2010-07-02</th>\n",
       "      <td>19.200001</td>\n",
       "    </tr>\n",
       "    <tr>\n",
       "      <th>2010-07-06</th>\n",
       "      <td>16.110001</td>\n",
       "    </tr>\n",
       "    <tr>\n",
       "      <th>...</th>\n",
       "      <td>...</td>\n",
       "    </tr>\n",
       "    <tr>\n",
       "      <th>2020-01-28</th>\n",
       "      <td>566.900024</td>\n",
       "    </tr>\n",
       "    <tr>\n",
       "      <th>2020-01-29</th>\n",
       "      <td>580.989990</td>\n",
       "    </tr>\n",
       "    <tr>\n",
       "      <th>2020-01-30</th>\n",
       "      <td>640.809998</td>\n",
       "    </tr>\n",
       "    <tr>\n",
       "      <th>2020-01-31</th>\n",
       "      <td>650.570007</td>\n",
       "    </tr>\n",
       "    <tr>\n",
       "      <th>2020-02-03</th>\n",
       "      <td>780.000000</td>\n",
       "    </tr>\n",
       "  </tbody>\n",
       "</table>\n",
       "<p>2416 rows × 1 columns</p>\n",
       "</div>"
      ],
      "text/plain": [
       "                 Close\n",
       "Date                  \n",
       "2010-06-29   23.889999\n",
       "2010-06-30   23.830000\n",
       "2010-07-01   21.959999\n",
       "2010-07-02   19.200001\n",
       "2010-07-06   16.110001\n",
       "...                ...\n",
       "2020-01-28  566.900024\n",
       "2020-01-29  580.989990\n",
       "2020-01-30  640.809998\n",
       "2020-01-31  650.570007\n",
       "2020-02-03  780.000000\n",
       "\n",
       "[2416 rows x 1 columns]"
      ]
     },
     "execution_count": 14,
     "metadata": {},
     "output_type": "execute_result"
    }
   ],
   "source": [
    "tesla_df"
   ]
  },
  {
   "cell_type": "code",
   "execution_count": 15,
   "id": "c66e9a2a",
   "metadata": {
    "execution": {
     "iopub.execute_input": "2025-01-30T06:16:38.308458Z",
     "iopub.status.busy": "2025-01-30T06:16:38.308064Z",
     "iopub.status.idle": "2025-01-30T06:16:38.312836Z",
     "shell.execute_reply": "2025-01-30T06:16:38.311829Z"
    },
    "id": "PliZ5OcsWxsF",
    "papermill": {
     "duration": 0.019595,
     "end_time": "2025-01-30T06:16:38.314789",
     "exception": false,
     "start_time": "2025-01-30T06:16:38.295194",
     "status": "completed"
    },
    "tags": []
   },
   "outputs": [],
   "source": [
    "result_df = tesla_df.copy()"
   ]
  },
  {
   "cell_type": "code",
   "execution_count": 16,
   "id": "fbbfaf0a",
   "metadata": {
    "execution": {
     "iopub.execute_input": "2025-01-30T06:16:38.340538Z",
     "iopub.status.busy": "2025-01-30T06:16:38.340136Z",
     "iopub.status.idle": "2025-01-30T06:16:38.684108Z",
     "shell.execute_reply": "2025-01-30T06:16:38.683069Z"
    },
    "id": "ObqHX6K2W0te",
    "papermill": {
     "duration": 0.359528,
     "end_time": "2025-01-30T06:16:38.686331",
     "exception": false,
     "start_time": "2025-01-30T06:16:38.326803",
     "status": "completed"
    },
    "tags": []
   },
   "outputs": [
    {
     "data": {
      "image/png": "[encoded data removed]",
      "text/plain": [
       "<Figure size 1400x500 with 1 Axes>"
      ]
     },
     "metadata": {},
     "output_type": "display_data"
    }
   ],
   "source": [
    "plt.figure(figsize=(14,5))\n",
    "plt.plot(tesla_df['Close'], color='blue')\n",
    "plt.title(\"Tesla Stock Price\")\n",
    "plt.xlabel(\"Time\")\n",
    "plt.ylabel(\"Stock Price\")\n",
    "plt.show()"
   ]
  },
  {
   "cell_type": "code",
   "execution_count": 17,
   "id": "66fa07f8",
   "metadata": {
    "execution": {
     "iopub.execute_input": "2025-01-30T06:16:38.713826Z",
     "iopub.status.busy": "2025-01-30T06:16:38.712914Z",
     "iopub.status.idle": "2025-01-30T06:16:38.717675Z",
     "shell.execute_reply": "2025-01-30T06:16:38.716720Z"
    },
    "id": "5LWFDWjNW2z2",
    "papermill": {
     "duration": 0.020626,
     "end_time": "2025-01-30T06:16:38.719673",
     "exception": false,
     "start_time": "2025-01-30T06:16:38.699047",
     "status": "completed"
    },
    "tags": []
   },
   "outputs": [],
   "source": [
    "tesla_df = tesla_df.values"
   ]
  },
  {
   "cell_type": "code",
   "execution_count": 18,
   "id": "14de3d75",
   "metadata": {
    "execution": {
     "iopub.execute_input": "2025-01-30T06:16:38.746641Z",
     "iopub.status.busy": "2025-01-30T06:16:38.746180Z",
     "iopub.status.idle": "2025-01-30T06:16:38.752782Z",
     "shell.execute_reply": "2025-01-30T06:16:38.751842Z"
    },
    "id": "jxFZkTS-W9Mm",
    "papermill": {
     "duration": 0.022325,
     "end_time": "2025-01-30T06:16:38.754775",
     "exception": false,
     "start_time": "2025-01-30T06:16:38.732450",
     "status": "completed"
    },
    "tags": []
   },
   "outputs": [
    {
     "data": {
      "text/plain": [
       "array([[23.889999],\n",
       "       [23.83    ],\n",
       "       [21.959999],\n",
       "       [19.200001],\n",
       "       [16.110001]])"
      ]
     },
     "execution_count": 18,
     "metadata": {},
     "output_type": "execute_result"
    }
   ],
   "source": [
    "tesla_df[0:5]"
   ]
  },
  {
   "cell_type": "code",
   "execution_count": 19,
   "id": "dfd84728",
   "metadata": {
    "execution": {
     "iopub.execute_input": "2025-01-30T06:16:38.782268Z",
     "iopub.status.busy": "2025-01-30T06:16:38.781474Z",
     "iopub.status.idle": "2025-01-30T06:16:38.786129Z",
     "shell.execute_reply": "2025-01-30T06:16:38.785126Z"
    },
    "id": "iU7KJlc4XAb2",
    "papermill": {
     "duration": 0.020525,
     "end_time": "2025-01-30T06:16:38.788289",
     "exception": false,
     "start_time": "2025-01-30T06:16:38.767764",
     "status": "completed"
    },
    "tags": []
   },
   "outputs": [],
   "source": [
    "tesla_df = tesla_df.astype(\"float32\")"
   ]
  },
  {
   "cell_type": "code",
   "execution_count": 20,
   "id": "fdf97bab",
   "metadata": {
    "execution": {
     "iopub.execute_input": "2025-01-30T06:16:38.815745Z",
     "iopub.status.busy": "2025-01-30T06:16:38.814825Z",
     "iopub.status.idle": "2025-01-30T06:16:38.820016Z",
     "shell.execute_reply": "2025-01-30T06:16:38.819070Z"
    },
    "id": "r7Cywk9oXBI-",
    "papermill": {
     "duration": 0.020967,
     "end_time": "2025-01-30T06:16:38.822012",
     "exception": false,
     "start_time": "2025-01-30T06:16:38.801045",
     "status": "completed"
    },
    "tags": []
   },
   "outputs": [],
   "source": [
    "def split_data(dataframe, test_size):\n",
    "  position = int(round(len(dataframe) * (1 - test_size)))\n",
    "  train = dataframe[:position]\n",
    "  test = dataframe[position:]\n",
    "  return train, test, position"
   ]
  },
  {
   "cell_type": "code",
   "execution_count": 21,
   "id": "485cf360",
   "metadata": {
    "execution": {
     "iopub.execute_input": "2025-01-30T06:16:38.850003Z",
     "iopub.status.busy": "2025-01-30T06:16:38.848900Z",
     "iopub.status.idle": "2025-01-30T06:16:38.853454Z",
     "shell.execute_reply": "2025-01-30T06:16:38.852637Z"
    },
    "id": "COxqfz0SZvV_",
    "papermill": {
     "duration": 0.020524,
     "end_time": "2025-01-30T06:16:38.855348",
     "exception": false,
     "start_time": "2025-01-30T06:16:38.834824",
     "status": "completed"
    },
    "tags": []
   },
   "outputs": [],
   "source": [
    "train, test, position = split_data(tesla_df, 0.20)"
   ]
  },
  {
   "cell_type": "code",
   "execution_count": 22,
   "id": "6799e5c9",
   "metadata": {
    "execution": {
     "iopub.execute_input": "2025-01-30T06:16:38.882454Z",
     "iopub.status.busy": "2025-01-30T06:16:38.882036Z",
     "iopub.status.idle": "2025-01-30T06:16:38.887284Z",
     "shell.execute_reply": "2025-01-30T06:16:38.886261Z"
    },
    "id": "jESwxnt2Z1t5",
    "papermill": {
     "duration": 0.021343,
     "end_time": "2025-01-30T06:16:38.889414",
     "exception": false,
     "start_time": "2025-01-30T06:16:38.868071",
     "status": "completed"
    },
    "tags": []
   },
   "outputs": [
    {
     "name": "stdout",
     "output_type": "stream",
     "text": [
      "(1933, 1) (483, 1)\n"
     ]
    }
   ],
   "source": [
    "print(train.shape, test.shape)"
   ]
  },
  {
   "cell_type": "code",
   "execution_count": 23,
   "id": "8cc03daf",
   "metadata": {
    "execution": {
     "iopub.execute_input": "2025-01-30T06:16:38.916545Z",
     "iopub.status.busy": "2025-01-30T06:16:38.916150Z",
     "iopub.status.idle": "2025-01-30T06:16:38.920977Z",
     "shell.execute_reply": "2025-01-30T06:16:38.919903Z"
    },
    "id": "wleQDdgSZ8NZ",
    "papermill": {
     "duration": 0.020933,
     "end_time": "2025-01-30T06:16:38.923061",
     "exception": false,
     "start_time": "2025-01-30T06:16:38.902128",
     "status": "completed"
    },
    "tags": []
   },
   "outputs": [],
   "source": [
    "scaler_train = MinMaxScaler(feature_range = (0,1))"
   ]
  },
  {
   "cell_type": "code",
   "execution_count": 24,
   "id": "474b4113",
   "metadata": {
    "execution": {
     "iopub.execute_input": "2025-01-30T06:16:38.950733Z",
     "iopub.status.busy": "2025-01-30T06:16:38.949887Z",
     "iopub.status.idle": "2025-01-30T06:16:38.955999Z",
     "shell.execute_reply": "2025-01-30T06:16:38.954772Z"
    },
    "id": "Enf8wikDaNZh",
    "papermill": {
     "duration": 0.022341,
     "end_time": "2025-01-30T06:16:38.958210",
     "exception": false,
     "start_time": "2025-01-30T06:16:38.935869",
     "status": "completed"
    },
    "tags": []
   },
   "outputs": [],
   "source": [
    "train = scaler_train.fit_transform(train)"
   ]
  },
  {
   "cell_type": "code",
   "execution_count": 25,
   "id": "0bab2949",
   "metadata": {
    "execution": {
     "iopub.execute_input": "2025-01-30T06:16:38.986587Z",
     "iopub.status.busy": "2025-01-30T06:16:38.985701Z",
     "iopub.status.idle": "2025-01-30T06:16:38.990370Z",
     "shell.execute_reply": "2025-01-30T06:16:38.989415Z"
    },
    "id": "cg-7tCn_aXTc",
    "papermill": {
     "duration": 0.020997,
     "end_time": "2025-01-30T06:16:38.992324",
     "exception": false,
     "start_time": "2025-01-30T06:16:38.971327",
     "status": "completed"
    },
    "tags": []
   },
   "outputs": [],
   "source": [
    "scaler_test = MinMaxScaler(feature_range = (0,1))"
   ]
  },
  {
   "cell_type": "code",
   "execution_count": 26,
   "id": "6135115e",
   "metadata": {
    "execution": {
     "iopub.execute_input": "2025-01-30T06:16:39.019907Z",
     "iopub.status.busy": "2025-01-30T06:16:39.019011Z",
     "iopub.status.idle": "2025-01-30T06:16:39.024358Z",
     "shell.execute_reply": "2025-01-30T06:16:39.023389Z"
    },
    "id": "tSbuIifiabbC",
    "papermill": {
     "duration": 0.021342,
     "end_time": "2025-01-30T06:16:39.026416",
     "exception": false,
     "start_time": "2025-01-30T06:16:39.005074",
     "status": "completed"
    },
    "tags": []
   },
   "outputs": [],
   "source": [
    "test = scaler_test.fit_transform(test)"
   ]
  },
  {
   "cell_type": "code",
   "execution_count": 27,
   "id": "32f78f2c",
   "metadata": {
    "execution": {
     "iopub.execute_input": "2025-01-30T06:16:39.054061Z",
     "iopub.status.busy": "2025-01-30T06:16:39.053290Z",
     "iopub.status.idle": "2025-01-30T06:16:39.059902Z",
     "shell.execute_reply": "2025-01-30T06:16:39.058983Z"
    },
    "id": "X5a7m_BEagaJ",
    "papermill": {
     "duration": 0.022691,
     "end_time": "2025-01-30T06:16:39.061949",
     "exception": false,
     "start_time": "2025-01-30T06:16:39.039258",
     "status": "completed"
    },
    "tags": []
   },
   "outputs": [
    {
     "data": {
      "text/plain": [
       "array([[0.02191224],\n",
       "       [0.02174973],\n",
       "       [0.01668472],\n",
       "       [0.0092091 ],\n",
       "       [0.00083966]], dtype=float32)"
      ]
     },
     "execution_count": 27,
     "metadata": {},
     "output_type": "execute_result"
    }
   ],
   "source": [
    "train[0:5]"
   ]
  },
  {
   "cell_type": "code",
   "execution_count": 28,
   "id": "499ca25d",
   "metadata": {
    "execution": {
     "iopub.execute_input": "2025-01-30T06:16:39.089483Z",
     "iopub.status.busy": "2025-01-30T06:16:39.088739Z",
     "iopub.status.idle": "2025-01-30T06:16:39.095580Z",
     "shell.execute_reply": "2025-01-30T06:16:39.094506Z"
    },
    "id": "AeVSy_ijahnh",
    "papermill": {
     "duration": 0.02298,
     "end_time": "2025-01-30T06:16:39.097640",
     "exception": false,
     "start_time": "2025-01-30T06:16:39.074660",
     "status": "completed"
    },
    "tags": []
   },
   "outputs": [
    {
     "data": {
      "text/plain": [
       "array([[0.25685903],\n",
       "       [0.24829045],\n",
       "       [0.25511202],\n",
       "       [0.24978784],\n",
       "       [0.2465767 ]], dtype=float32)"
      ]
     },
     "execution_count": 28,
     "metadata": {},
     "output_type": "execute_result"
    }
   ],
   "source": [
    "test[0:5]"
   ]
  },
  {
   "cell_type": "code",
   "execution_count": 29,
   "id": "38857e60",
   "metadata": {
    "execution": {
     "iopub.execute_input": "2025-01-30T06:16:39.125555Z",
     "iopub.status.busy": "2025-01-30T06:16:39.125166Z",
     "iopub.status.idle": "2025-01-30T06:16:39.130640Z",
     "shell.execute_reply": "2025-01-30T06:16:39.129629Z"
    },
    "id": "Gv95UqJWasHS",
    "papermill": {
     "duration": 0.021851,
     "end_time": "2025-01-30T06:16:39.132619",
     "exception": false,
     "start_time": "2025-01-30T06:16:39.110768",
     "status": "completed"
    },
    "tags": []
   },
   "outputs": [],
   "source": [
    "def create_features(data, lookback):\n",
    "  X, Y = [], []\n",
    "  for i in range(lookback, len(data)):\n",
    "    X.append(data[i-lookback:i,0])\n",
    "    Y.append(data[i,0])\n",
    "\n",
    "  return np.array(X), np.array(Y)"
   ]
  },
  {
   "cell_type": "code",
   "execution_count": 30,
   "id": "a852ed00",
   "metadata": {
    "execution": {
     "iopub.execute_input": "2025-01-30T06:16:39.159883Z",
     "iopub.status.busy": "2025-01-30T06:16:39.159509Z",
     "iopub.status.idle": "2025-01-30T06:16:39.164078Z",
     "shell.execute_reply": "2025-01-30T06:16:39.163145Z"
    },
    "id": "e36Ux4_CbASm",
    "papermill": {
     "duration": 0.02044,
     "end_time": "2025-01-30T06:16:39.165943",
     "exception": false,
     "start_time": "2025-01-30T06:16:39.145503",
     "status": "completed"
    },
    "tags": []
   },
   "outputs": [],
   "source": [
    "lookback = 20"
   ]
  },
  {
   "cell_type": "code",
   "execution_count": 31,
   "id": "eeae85fd",
   "metadata": {
    "execution": {
     "iopub.execute_input": "2025-01-30T06:16:39.193831Z",
     "iopub.status.busy": "2025-01-30T06:16:39.193107Z",
     "iopub.status.idle": "2025-01-30T06:16:39.200676Z",
     "shell.execute_reply": "2025-01-30T06:16:39.199894Z"
    },
    "id": "Xd8JMdaWbCzp",
    "papermill": {
     "duration": 0.02397,
     "end_time": "2025-01-30T06:16:39.202823",
     "exception": false,
     "start_time": "2025-01-30T06:16:39.178853",
     "status": "completed"
    },
    "tags": []
   },
   "outputs": [],
   "source": [
    "X_train, y_train = create_features(train, lookback)"
   ]
  },
  {
   "cell_type": "code",
   "execution_count": 32,
   "id": "d78aa450",
   "metadata": {
    "execution": {
     "iopub.execute_input": "2025-01-30T06:16:39.280348Z",
     "iopub.status.busy": "2025-01-30T06:16:39.279952Z",
     "iopub.status.idle": "2025-01-30T06:16:39.285382Z",
     "shell.execute_reply": "2025-01-30T06:16:39.284341Z"
    },
    "id": "wHgq8DT5bF_Z",
    "papermill": {
     "duration": 0.071669,
     "end_time": "2025-01-30T06:16:39.287563",
     "exception": false,
     "start_time": "2025-01-30T06:16:39.215894",
     "status": "completed"
    },
    "tags": []
   },
   "outputs": [],
   "source": [
    "X_test, y_test = create_features(test, lookback)"
   ]
  },
  {
   "cell_type": "code",
   "execution_count": 33,
   "id": "f0f30229",
   "metadata": {
    "execution": {
     "iopub.execute_input": "2025-01-30T06:16:39.315996Z",
     "iopub.status.busy": "2025-01-30T06:16:39.314711Z",
     "iopub.status.idle": "2025-01-30T06:16:39.320733Z",
     "shell.execute_reply": "2025-01-30T06:16:39.319716Z"
    },
    "id": "zYQy_33TbKdb",
    "papermill": {
     "duration": 0.022278,
     "end_time": "2025-01-30T06:16:39.322924",
     "exception": false,
     "start_time": "2025-01-30T06:16:39.300646",
     "status": "completed"
    },
    "tags": []
   },
   "outputs": [
    {
     "name": "stdout",
     "output_type": "stream",
     "text": [
      "(1913, 20) (1913,) (463, 20) (463,)\n"
     ]
    }
   ],
   "source": [
    "print(X_train.shape, y_train.shape, X_test.shape, y_test.shape)"
   ]
  },
  {
   "cell_type": "code",
   "execution_count": 34,
   "id": "12806d72",
   "metadata": {
    "execution": {
     "iopub.execute_input": "2025-01-30T06:16:39.350577Z",
     "iopub.status.busy": "2025-01-30T06:16:39.350161Z",
     "iopub.status.idle": "2025-01-30T06:16:39.357642Z",
     "shell.execute_reply": "2025-01-30T06:16:39.356571Z"
    },
    "id": "sI1k-K6bTKuw",
    "papermill": {
     "duration": 0.023711,
     "end_time": "2025-01-30T06:16:39.359772",
     "exception": false,
     "start_time": "2025-01-30T06:16:39.336061",
     "status": "completed"
    },
    "tags": []
   },
   "outputs": [
    {
     "data": {
      "text/plain": [
       "array([[0.02191224, 0.02174973, 0.01668472, 0.0092091 , 0.00083966,\n",
       "        0.        , 0.00449621, 0.00433369, 0.0033857 , 0.00633803,\n",
       "        0.01094258, 0.011078  , 0.01310942, 0.0165493 , 0.01218851,\n",
       "        0.01197183, 0.01408451, 0.01486999, 0.01394908, 0.01286566],\n",
       "       [0.02174973, 0.01668472, 0.0092091 , 0.00083966, 0.        ,\n",
       "        0.00449621, 0.00433369, 0.0033857 , 0.00633803, 0.01094258,\n",
       "        0.011078  , 0.01310942, 0.0165493 , 0.01218851, 0.01197183,\n",
       "        0.01408451, 0.01486999, 0.01394908, 0.01286566, 0.01332611],\n",
       "       [0.01668472, 0.0092091 , 0.00083966, 0.        , 0.00449621,\n",
       "        0.00433369, 0.0033857 , 0.00633803, 0.01094258, 0.011078  ,\n",
       "        0.01310942, 0.0165493 , 0.01218851, 0.01197183, 0.01408451,\n",
       "        0.01486999, 0.01394908, 0.01286566, 0.01332611, 0.01232395],\n",
       "       [0.0092091 , 0.00083966, 0.        , 0.00449621, 0.00433369,\n",
       "        0.0033857 , 0.00633803, 0.01094258, 0.011078  , 0.01310942,\n",
       "        0.0165493 , 0.01218851, 0.01197183, 0.01408451, 0.01486999,\n",
       "        0.01394908, 0.01286566, 0.01332611, 0.01232395, 0.01121344],\n",
       "       [0.00083966, 0.        , 0.00449621, 0.00433369, 0.0033857 ,\n",
       "        0.00633803, 0.01094258, 0.011078  , 0.01310942, 0.0165493 ,\n",
       "        0.01218851, 0.01197183, 0.01408451, 0.01486999, 0.01394908,\n",
       "        0.01286566, 0.01332611, 0.01232395, 0.01121344, 0.01386782]],\n",
       "      dtype=float32)"
      ]
     },
     "execution_count": 34,
     "metadata": {},
     "output_type": "execute_result"
    }
   ],
   "source": [
    "X_train[0:5]"
   ]
  },
  {
   "cell_type": "code",
   "execution_count": 35,
   "id": "528e7a9b",
   "metadata": {
    "execution": {
     "iopub.execute_input": "2025-01-30T06:16:39.388670Z",
     "iopub.status.busy": "2025-01-30T06:16:39.388019Z",
     "iopub.status.idle": "2025-01-30T06:16:39.394684Z",
     "shell.execute_reply": "2025-01-30T06:16:39.393629Z"
    },
    "id": "vY5hCVQHTg9u",
    "papermill": {
     "duration": 0.023121,
     "end_time": "2025-01-30T06:16:39.396787",
     "exception": false,
     "start_time": "2025-01-30T06:16:39.373666",
     "status": "completed"
    },
    "tags": []
   },
   "outputs": [
    {
     "data": {
      "text/plain": [
       "array([0.01332611, 0.01232395, 0.01121344, 0.01386782, 0.01665764],\n",
       "      dtype=float32)"
      ]
     },
     "execution_count": 35,
     "metadata": {},
     "output_type": "execute_result"
    }
   ],
   "source": [
    "y_train[0:5]"
   ]
  },
  {
   "cell_type": "code",
   "execution_count": 36,
   "id": "73a2d3dc",
   "metadata": {
    "execution": {
     "iopub.execute_input": "2025-01-30T06:16:39.425330Z",
     "iopub.status.busy": "2025-01-30T06:16:39.424943Z",
     "iopub.status.idle": "2025-01-30T06:16:39.430246Z",
     "shell.execute_reply": "2025-01-30T06:16:39.429287Z"
    },
    "id": "yvf-4kLybad5",
    "papermill": {
     "duration": 0.022025,
     "end_time": "2025-01-30T06:16:39.432351",
     "exception": false,
     "start_time": "2025-01-30T06:16:39.410326",
     "status": "completed"
    },
    "tags": []
   },
   "outputs": [],
   "source": [
    "X_train = np.reshape(X_train, (X_train.shape[0], 1, X_train.shape[1]))\n",
    "X_test = np.reshape(X_test, (X_test.shape[0], 1, X_test.shape[1]))\n",
    "y_train = y_train.reshape(-1,1)\n",
    "y_test = y_test.reshape(-1,1)"
   ]
  },
  {
   "cell_type": "code",
   "execution_count": 37,
   "id": "55b20016",
   "metadata": {
    "execution": {
     "iopub.execute_input": "2025-01-30T06:16:39.460663Z",
     "iopub.status.busy": "2025-01-30T06:16:39.459898Z",
     "iopub.status.idle": "2025-01-30T06:16:39.465028Z",
     "shell.execute_reply": "2025-01-30T06:16:39.464053Z"
    },
    "id": "D2ltv0Edb3wz",
    "papermill": {
     "duration": 0.021775,
     "end_time": "2025-01-30T06:16:39.467329",
     "exception": false,
     "start_time": "2025-01-30T06:16:39.445554",
     "status": "completed"
    },
    "tags": []
   },
   "outputs": [
    {
     "name": "stdout",
     "output_type": "stream",
     "text": [
      "(1913, 1, 20) (1913, 1) (463, 1, 20) (463, 1)\n"
     ]
    }
   ],
   "source": [
    "print(X_train.shape, y_train.shape, X_test.shape, y_test.shape)"
   ]
  },
  {
   "cell_type": "markdown",
   "id": "73548b90",
   "metadata": {
    "id": "DtsN3xazcIAn",
    "papermill": {
     "duration": 0.013005,
     "end_time": "2025-01-30T06:16:39.493679",
     "exception": false,
     "start_time": "2025-01-30T06:16:39.480674",
     "status": "completed"
    },
    "tags": []
   },
   "source": [
    "## Modelling"
   ]
  },
  {
   "cell_type": "code",
   "execution_count": 38,
   "id": "49ba1e21",
   "metadata": {
    "execution": {
     "iopub.execute_input": "2025-01-30T06:16:39.521812Z",
     "iopub.status.busy": "2025-01-30T06:16:39.521102Z",
     "iopub.status.idle": "2025-01-30T06:16:39.634103Z",
     "shell.execute_reply": "2025-01-30T06:16:39.633029Z"
    },
    "id": "QtbQx4G9cI_z",
    "papermill": {
     "duration": 0.129813,
     "end_time": "2025-01-30T06:16:39.636545",
     "exception": false,
     "start_time": "2025-01-30T06:16:39.506732",
     "status": "completed"
    },
    "tags": []
   },
   "outputs": [],
   "source": [
    "model = Sequential()\n",
    "\n",
    "model.add(LSTM(units = 50,\n",
    "                    activation = 'relu',\n",
    "                    input_shape=(X_train.shape[1], lookback)))\n",
    "\n",
    "model.add(Dropout(0.2))\n",
    "\n",
    "model.add(Dense(1))\n"
   ]
  },
  {
   "cell_type": "code",
   "execution_count": 39,
   "id": "4bc9fe3d",
   "metadata": {
    "execution": {
     "iopub.execute_input": "2025-01-30T06:16:39.665394Z",
     "iopub.status.busy": "2025-01-30T06:16:39.664978Z",
     "iopub.status.idle": "2025-01-30T06:16:39.683010Z",
     "shell.execute_reply": "2025-01-30T06:16:39.681974Z"
    },
    "id": "RQFXIkDbciE6",
    "papermill": {
     "duration": 0.035262,
     "end_time": "2025-01-30T06:16:39.685107",
     "exception": false,
     "start_time": "2025-01-30T06:16:39.649845",
     "status": "completed"
    },
    "tags": []
   },
   "outputs": [
    {
     "data": {
      "text/html": [
       "<pre style=\"white-space:pre;overflow-x:auto;line-height:normal;font-family:Menlo,'DejaVu Sans Mono',consolas,'Courier New',monospace\"><span style=\"font-weight: bold\">Model: \"sequential\"</span>\n",
       "</pre>\n"
      ],
      "text/plain": [
       "\u001b[1mModel: \"sequential\"\u001b[0m\n"
      ]
     },
     "metadata": {},
     "output_type": "display_data"
    },
    {
     "data": {
      "text/html": [
       "<pre style=\"white-space:pre;overflow-x:auto;line-height:normal;font-family:Menlo,'DejaVu Sans Mono',consolas,'Courier New',monospace\">┏━━━━━━━━━━━━━━━━━━━━━━━━━━━━━━━━━┳━━━━━━━━━━━━━━━━━━━━━━━━┳━━━━━━━━━━━━━━━┓\n",
       "┃<span style=\"font-weight: bold\"> Layer (type)                    </span>┃<span style=\"font-weight: bold\"> Output Shape           </span>┃<span style=\"font-weight: bold\">       Param # </span>┃\n",
       "┡━━━━━━━━━━━━━━━━━━━━━━━━━━━━━━━━━╇━━━━━━━━━━━━━━━━━━━━━━━━╇━━━━━━━━━━━━━━━┩\n",
       "│ lstm (<span style=\"color: #0087ff; text-decoration-color: #0087ff\">LSTM</span>)                     │ (<span style=\"color: #00d7ff; text-decoration-color: #00d7ff\">None</span>, <span style=\"color: #00af00; text-decoration-color: #00af00\">50</span>)             │        <span style=\"color: #00af00; text-decoration-color: #00af00\">14,200</span> │\n",
       "├─────────────────────────────────┼────────────────────────┼───────────────┤\n",
       "│ dropout (<span style=\"color: #0087ff; text-decoration-color: #0087ff\">Dropout</span>)               │ (<span style=\"color: #00d7ff; text-decoration-color: #00d7ff\">None</span>, <span style=\"color: #00af00; text-decoration-color: #00af00\">50</span>)             │             <span style=\"color: #00af00; text-decoration-color: #00af00\">0</span> │\n",
       "├─────────────────────────────────┼────────────────────────┼───────────────┤\n",
       "│ dense (<span style=\"color: #0087ff; text-decoration-color: #0087ff\">Dense</span>)                   │ (<span style=\"color: #00d7ff; text-decoration-color: #00d7ff\">None</span>, <span style=\"color: #00af00; text-decoration-color: #00af00\">1</span>)              │            <span style=\"color: #00af00; text-decoration-color: #00af00\">51</span> │\n",
       "└─────────────────────────────────┴────────────────────────┴───────────────┘\n",
       "</pre>\n"
      ],
      "text/plain": [
       "┏━━━━━━━━━━━━━━━━━━━━━━━━━━━━━━━━━┳━━━━━━━━━━━━━━━━━━━━━━━━┳━━━━━━━━━━━━━━━┓\n",
       "┃\u001b[1m \u001b[0m\u001b[1mLayer (type)                   \u001b[0m\u001b[1m \u001b[0m┃\u001b[1m \u001b[0m\u001b[1mOutput Shape          \u001b[0m\u001b[1m \u001b[0m┃\u001b[1m \u001b[0m\u001b[1m      Param #\u001b[0m\u001b[1m \u001b[0m┃\n",
       "┡━━━━━━━━━━━━━━━━━━━━━━━━━━━━━━━━━╇━━━━━━━━━━━━━━━━━━━━━━━━╇━━━━━━━━━━━━━━━┩\n",
       "│ lstm (\u001b[38;5;33mLSTM\u001b[0m)                     │ (\u001b[38;5;45mNone\u001b[0m, \u001b[38;5;34m50\u001b[0m)             │        \u001b[38;5;34m14,200\u001b[0m │\n",
       "├─────────────────────────────────┼────────────────────────┼───────────────┤\n",
       "│ dropout (\u001b[38;5;33mDropout\u001b[0m)               │ (\u001b[38;5;45mNone\u001b[0m, \u001b[38;5;34m50\u001b[0m)             │             \u001b[38;5;34m0\u001b[0m │\n",
       "├─────────────────────────────────┼────────────────────────┼───────────────┤\n",
       "│ dense (\u001b[38;5;33mDense\u001b[0m)                   │ (\u001b[38;5;45mNone\u001b[0m, \u001b[38;5;34m1\u001b[0m)              │            \u001b[38;5;34m51\u001b[0m │\n",
       "└─────────────────────────────────┴────────────────────────┴───────────────┘\n"
      ]
     },
     "metadata": {},
     "output_type": "display_data"
    },
    {
     "data": {
      "text/html": [
       "<pre style=\"white-space:pre;overflow-x:auto;line-height:normal;font-family:Menlo,'DejaVu Sans Mono',consolas,'Courier New',monospace\"><span style=\"font-weight: bold\"> Total params: </span><span style=\"color: #00af00; text-decoration-color: #00af00\">14,251</span> (55.67 KB)\n",
       "</pre>\n"
      ],
      "text/plain": [
       "\u001b[1m Total params: \u001b[0m\u001b[38;5;34m14,251\u001b[0m (55.67 KB)\n"
      ]
     },
     "metadata": {},
     "output_type": "display_data"
    },
    {
     "data": {
      "text/html": [
       "<pre style=\"white-space:pre;overflow-x:auto;line-height:normal;font-family:Menlo,'DejaVu Sans Mono',consolas,'Courier New',monospace\"><span style=\"font-weight: bold\"> Trainable params: </span><span style=\"color: #00af00; text-decoration-color: #00af00\">14,251</span> (55.67 KB)\n",
       "</pre>\n"
      ],
      "text/plain": [
       "\u001b[1m Trainable params: \u001b[0m\u001b[38;5;34m14,251\u001b[0m (55.67 KB)\n"
      ]
     },
     "metadata": {},
     "output_type": "display_data"
    },
    {
     "data": {
      "text/html": [
       "<pre style=\"white-space:pre;overflow-x:auto;line-height:normal;font-family:Menlo,'DejaVu Sans Mono',consolas,'Courier New',monospace\"><span style=\"font-weight: bold\"> Non-trainable params: </span><span style=\"color: #00af00; text-decoration-color: #00af00\">0</span> (0.00 B)\n",
       "</pre>\n"
      ],
      "text/plain": [
       "\u001b[1m Non-trainable params: \u001b[0m\u001b[38;5;34m0\u001b[0m (0.00 B)\n"
      ]
     },
     "metadata": {},
     "output_type": "display_data"
    }
   ],
   "source": [
    "model.summary()"
   ]
  },
  {
   "cell_type": "code",
   "execution_count": 40,
   "id": "3093639b",
   "metadata": {
    "execution": {
     "iopub.execute_input": "2025-01-30T06:16:39.715370Z",
     "iopub.status.busy": "2025-01-30T06:16:39.714328Z",
     "iopub.status.idle": "2025-01-30T06:16:39.729244Z",
     "shell.execute_reply": "2025-01-30T06:16:39.728111Z"
    },
    "id": "NE6_O7IwclkT",
    "papermill": {
     "duration": 0.032418,
     "end_time": "2025-01-30T06:16:39.731556",
     "exception": false,
     "start_time": "2025-01-30T06:16:39.699138",
     "status": "completed"
    },
    "tags": []
   },
   "outputs": [],
   "source": [
    "model.compile(loss='mean_squared_error', optimizer='adam')"
   ]
  },
  {
   "cell_type": "code",
   "execution_count": 41,
   "id": "942d2008",
   "metadata": {
    "execution": {
     "iopub.execute_input": "2025-01-30T06:16:39.761495Z",
     "iopub.status.busy": "2025-01-30T06:16:39.760522Z",
     "iopub.status.idle": "2025-01-30T06:16:39.765769Z",
     "shell.execute_reply": "2025-01-30T06:16:39.764872Z"
    },
    "id": "JLqjYZudc3Is",
    "papermill": {
     "duration": 0.022131,
     "end_time": "2025-01-30T06:16:39.767633",
     "exception": false,
     "start_time": "2025-01-30T06:16:39.745502",
     "status": "completed"
    },
    "tags": []
   },
   "outputs": [],
   "source": [
    "callbacks = (EarlyStopping(monitor='val_loss', patience=10, verbose=1, mode='min'),\n",
    "            ModelCheckpoint(filepath='mymodel.keras', monitor='val_loss', mode='min',\n",
    "            save_best_only = True, save_weights_only = False, verbose = 1))"
   ]
  },
  {
   "cell_type": "code",
   "execution_count": 42,
   "id": "be2544cc",
   "metadata": {
    "execution": {
     "iopub.execute_input": "2025-01-30T06:16:39.797430Z",
     "iopub.status.busy": "2025-01-30T06:16:39.796499Z",
     "iopub.status.idle": "2025-01-30T06:16:46.750814Z",
     "shell.execute_reply": "2025-01-30T06:16:46.749858Z"
    },
    "id": "7Pv-Fb9FdSf7",
    "papermill": {
     "duration": 6.971267,
     "end_time": "2025-01-30T06:16:46.752894",
     "exception": false,
     "start_time": "2025-01-30T06:16:39.781627",
     "status": "completed"
    },
    "tags": []
   },
   "outputs": [
    {
     "name": "stdout",
     "output_type": "stream",
     "text": [
      "Epoch 1/100\n",
      "\u001b[1m96/96\u001b[0m \u001b[32m━━━━━━━━━━━━━━━━━━━━\u001b[0m\u001b[37m\u001b[0m \u001b[1m0s\u001b[0m 2ms/step - loss: 0.0046\n",
      "Epoch 1: val_loss improved from inf to 0.00410, saving model to mymodel.keras\n",
      "\u001b[1m96/96\u001b[0m \u001b[32m━━━━━━━━━━━━━━━━━━━━\u001b[0m\u001b[37m\u001b[0m \u001b[1m2s\u001b[0m 5ms/step - loss: 0.0046 - val_loss: 0.0041\n",
      "Epoch 2/100\n",
      "\u001b[1m65/96\u001b[0m \u001b[32m━━━━━━━━━━━━━\u001b[0m\u001b[37m━━━━━━━\u001b[0m \u001b[1m0s\u001b[0m 2ms/step - loss: 0.0041\n",
      "Epoch 2: val_loss improved from 0.00410 to 0.00349, saving model to mymodel.keras\n",
      "\u001b[1m96/96\u001b[0m \u001b[32m━━━━━━━━━━━━━━━━━━━━\u001b[0m\u001b[37m\u001b[0m \u001b[1m0s\u001b[0m 2ms/step - loss: 0.0045 - val_loss: 0.0035\n",
      "Epoch 3/100\n",
      "\u001b[1m95/96\u001b[0m \u001b[32m━━━━━━━━━━━━━━━━━━━\u001b[0m\u001b[37m━\u001b[0m \u001b[1m0s\u001b[0m 2ms/step - loss: 0.0028\n",
      "Epoch 3: val_loss improved from 0.00349 to 0.00341, saving model to mymodel.keras\n",
      "\u001b[1m96/96\u001b[0m \u001b[32m━━━━━━━━━━━━━━━━━━━━\u001b[0m\u001b[37m\u001b[0m \u001b[1m0s\u001b[0m 2ms/step - loss: 0.0028 - val_loss: 0.0034\n",
      "Epoch 4/100\n",
      "\u001b[1m66/96\u001b[0m \u001b[32m━━━━━━━━━━━━━\u001b[0m\u001b[37m━━━━━━━\u001b[0m \u001b[1m0s\u001b[0m 2ms/step - loss: 0.0014    \n",
      "Epoch 4: val_loss improved from 0.00341 to 0.00311, saving model to mymodel.keras\n",
      "\u001b[1m96/96\u001b[0m \u001b[32m━━━━━━━━━━━━━━━━━━━━\u001b[0m\u001b[37m\u001b[0m \u001b[1m0s\u001b[0m 2ms/step - loss: 0.0022 - val_loss: 0.0031\n",
      "Epoch 5/100\n",
      "\u001b[1m96/96\u001b[0m \u001b[32m━━━━━━━━━━━━━━━━━━━━\u001b[0m\u001b[37m\u001b[0m \u001b[1m0s\u001b[0m 2ms/step - loss: 0.0019\n",
      "Epoch 5: val_loss improved from 0.00311 to 0.00275, saving model to mymodel.keras\n",
      "\u001b[1m96/96\u001b[0m \u001b[32m━━━━━━━━━━━━━━━━━━━━\u001b[0m\u001b[37m\u001b[0m \u001b[1m0s\u001b[0m 2ms/step - loss: 0.0019 - val_loss: 0.0027\n",
      "Epoch 6/100\n",
      "\u001b[1m94/96\u001b[0m \u001b[32m━━━━━━━━━━━━━━━━━━━\u001b[0m\u001b[37m━\u001b[0m \u001b[1m0s\u001b[0m 2ms/step - loss: 0.0017    \n",
      "Epoch 6: val_loss did not improve from 0.00275\n",
      "\u001b[1m96/96\u001b[0m \u001b[32m━━━━━━━━━━━━━━━━━━━━\u001b[0m\u001b[37m\u001b[0m \u001b[1m0s\u001b[0m 2ms/step - loss: 0.0018 - val_loss: 0.0029\n",
      "Epoch 7/100\n",
      "\u001b[1m92/96\u001b[0m \u001b[32m━━━━━━━━━━━━━━━━━━━\u001b[0m\u001b[37m━\u001b[0m \u001b[1m0s\u001b[0m 2ms/step - loss: 0.0015    \n",
      "Epoch 7: val_loss improved from 0.00275 to 0.00265, saving model to mymodel.keras\n",
      "\u001b[1m96/96\u001b[0m \u001b[32m━━━━━━━━━━━━━━━━━━━━\u001b[0m\u001b[37m\u001b[0m \u001b[1m0s\u001b[0m 2ms/step - loss: 0.0017 - val_loss: 0.0026\n",
      "Epoch 8/100\n",
      "\u001b[1m94/96\u001b[0m \u001b[32m━━━━━━━━━━━━━━━━━━━\u001b[0m\u001b[37m━\u001b[0m \u001b[1m0s\u001b[0m 2ms/step - loss: 0.0017\n",
      "Epoch 8: val_loss improved from 0.00265 to 0.00255, saving model to mymodel.keras\n",
      "\u001b[1m96/96\u001b[0m \u001b[32m━━━━━━━━━━━━━━━━━━━━\u001b[0m\u001b[37m\u001b[0m \u001b[1m0s\u001b[0m 2ms/step - loss: 0.0018 - val_loss: 0.0026\n",
      "Epoch 9/100\n",
      "\u001b[1m94/96\u001b[0m \u001b[32m━━━━━━━━━━━━━━━━━━━\u001b[0m\u001b[37m━\u001b[0m \u001b[1m0s\u001b[0m 2ms/step - loss: 0.0017\n",
      "Epoch 9: val_loss improved from 0.00255 to 0.00251, saving model to mymodel.keras\n",
      "\u001b[1m96/96\u001b[0m \u001b[32m━━━━━━━━━━━━━━━━━━━━\u001b[0m\u001b[37m\u001b[0m \u001b[1m0s\u001b[0m 2ms/step - loss: 0.0018 - val_loss: 0.0025\n",
      "Epoch 10/100\n",
      "\u001b[1m79/96\u001b[0m \u001b[32m━━━━━━━━━━━━━━━━\u001b[0m\u001b[37m━━━━\u001b[0m \u001b[1m0s\u001b[0m 2ms/step - loss: 0.0015\n",
      "Epoch 10: val_loss improved from 0.00251 to 0.00215, saving model to mymodel.keras\n",
      "\u001b[1m96/96\u001b[0m \u001b[32m━━━━━━━━━━━━━━━━━━━━\u001b[0m\u001b[37m\u001b[0m \u001b[1m0s\u001b[0m 3ms/step - loss: 0.0018 - val_loss: 0.0021\n",
      "Epoch 11/100\n",
      "\u001b[1m85/96\u001b[0m \u001b[32m━━━━━━━━━━━━━━━━━\u001b[0m\u001b[37m━━━\u001b[0m \u001b[1m0s\u001b[0m 2ms/step - loss: 0.0012    \n",
      "Epoch 11: val_loss did not improve from 0.00215\n",
      "\u001b[1m96/96\u001b[0m \u001b[32m━━━━━━━━━━━━━━━━━━━━\u001b[0m\u001b[37m\u001b[0m \u001b[1m0s\u001b[0m 2ms/step - loss: 0.0015 - val_loss: 0.0023\n",
      "Epoch 12/100\n",
      "\u001b[1m87/96\u001b[0m \u001b[32m━━━━━━━━━━━━━━━━━━\u001b[0m\u001b[37m━━\u001b[0m \u001b[1m0s\u001b[0m 2ms/step - loss: 0.0016\n",
      "Epoch 12: val_loss did not improve from 0.00215\n",
      "\u001b[1m96/96\u001b[0m \u001b[32m━━━━━━━━━━━━━━━━━━━━\u001b[0m\u001b[37m\u001b[0m \u001b[1m0s\u001b[0m 2ms/step - loss: 0.0018 - val_loss: 0.0027\n",
      "Epoch 13/100\n",
      "\u001b[1m86/96\u001b[0m \u001b[32m━━━━━━━━━━━━━━━━━\u001b[0m\u001b[37m━━━\u001b[0m \u001b[1m0s\u001b[0m 2ms/step - loss: 0.0017\n",
      "Epoch 13: val_loss did not improve from 0.00215\n",
      "\u001b[1m96/96\u001b[0m \u001b[32m━━━━━━━━━━━━━━━━━━━━\u001b[0m\u001b[37m\u001b[0m \u001b[1m0s\u001b[0m 2ms/step - loss: 0.0020 - val_loss: 0.0035\n",
      "Epoch 14/100\n",
      "\u001b[1m87/96\u001b[0m \u001b[32m━━━━━━━━━━━━━━━━━━\u001b[0m\u001b[37m━━\u001b[0m \u001b[1m0s\u001b[0m 2ms/step - loss: 0.0018\n",
      "Epoch 14: val_loss did not improve from 0.00215\n",
      "\u001b[1m96/96\u001b[0m \u001b[32m━━━━━━━━━━━━━━━━━━━━\u001b[0m\u001b[37m\u001b[0m \u001b[1m0s\u001b[0m 2ms/step - loss: 0.0020 - val_loss: 0.0030\n",
      "Epoch 15/100\n",
      "\u001b[1m86/96\u001b[0m \u001b[32m━━━━━━━━━━━━━━━━━\u001b[0m\u001b[37m━━━\u001b[0m \u001b[1m0s\u001b[0m 2ms/step - loss: 0.0016\n",
      "Epoch 15: val_loss did not improve from 0.00215\n",
      "\u001b[1m96/96\u001b[0m \u001b[32m━━━━━━━━━━━━━━━━━━━━\u001b[0m\u001b[37m\u001b[0m \u001b[1m0s\u001b[0m 2ms/step - loss: 0.0019 - val_loss: 0.0038\n",
      "Epoch 16/100\n",
      "\u001b[1m85/96\u001b[0m \u001b[32m━━━━━━━━━━━━━━━━━\u001b[0m\u001b[37m━━━\u001b[0m \u001b[1m0s\u001b[0m 2ms/step - loss: 0.0017\n",
      "Epoch 16: val_loss did not improve from 0.00215\n",
      "\u001b[1m96/96\u001b[0m \u001b[32m━━━━━━━━━━━━━━━━━━━━\u001b[0m\u001b[37m\u001b[0m \u001b[1m0s\u001b[0m 2ms/step - loss: 0.0020 - val_loss: 0.0037\n",
      "Epoch 17/100\n",
      "\u001b[1m94/96\u001b[0m \u001b[32m━━━━━━━━━━━━━━━━━━━\u001b[0m\u001b[37m━\u001b[0m \u001b[1m0s\u001b[0m 2ms/step - loss: 0.0021\n",
      "Epoch 17: val_loss did not improve from 0.00215\n",
      "\u001b[1m96/96\u001b[0m \u001b[32m━━━━━━━━━━━━━━━━━━━━\u001b[0m\u001b[37m\u001b[0m \u001b[1m0s\u001b[0m 2ms/step - loss: 0.0022 - val_loss: 0.0082\n",
      "Epoch 18/100\n",
      "\u001b[1m90/96\u001b[0m \u001b[32m━━━━━━━━━━━━━━━━━━\u001b[0m\u001b[37m━━\u001b[0m \u001b[1m0s\u001b[0m 2ms/step - loss: 0.0024\n",
      "Epoch 18: val_loss did not improve from 0.00215\n",
      "\u001b[1m96/96\u001b[0m \u001b[32m━━━━━━━━━━━━━━━━━━━━\u001b[0m\u001b[37m\u001b[0m \u001b[1m0s\u001b[0m 2ms/step - loss: 0.0026 - val_loss: 0.0075\n",
      "Epoch 19/100\n",
      "\u001b[1m95/96\u001b[0m \u001b[32m━━━━━━━━━━━━━━━━━━━\u001b[0m\u001b[37m━\u001b[0m \u001b[1m0s\u001b[0m 2ms/step - loss: 0.0021\n",
      "Epoch 19: val_loss did not improve from 0.00215\n",
      "\u001b[1m96/96\u001b[0m \u001b[32m━━━━━━━━━━━━━━━━━━━━\u001b[0m\u001b[37m\u001b[0m \u001b[1m0s\u001b[0m 2ms/step - loss: 0.0022 - val_loss: 0.0072\n",
      "Epoch 20/100\n",
      "\u001b[1m95/96\u001b[0m \u001b[32m━━━━━━━━━━━━━━━━━━━\u001b[0m\u001b[37m━\u001b[0m \u001b[1m0s\u001b[0m 2ms/step - loss: 0.0020\n",
      "Epoch 20: val_loss did not improve from 0.00215\n",
      "\u001b[1m96/96\u001b[0m \u001b[32m━━━━━━━━━━━━━━━━━━━━\u001b[0m\u001b[37m\u001b[0m \u001b[1m0s\u001b[0m 2ms/step - loss: 0.0021 - val_loss: 0.0075\n",
      "Epoch 20: early stopping\n"
     ]
    }
   ],
   "source": [
    "history = model.fit(x=X_train,\n",
    "                    y=y_train,\n",
    "                    epochs=100,\n",
    "                    batch_size=20,\n",
    "                    validation_data=(X_test, y_test),\n",
    "                    callbacks=[callbacks],\n",
    "                    shuffle=False)"
   ]
  },
  {
   "cell_type": "code",
   "execution_count": 43,
   "id": "60641fc7",
   "metadata": {
    "execution": {
     "iopub.execute_input": "2025-01-30T06:16:46.799105Z",
     "iopub.status.busy": "2025-01-30T06:16:46.798142Z",
     "iopub.status.idle": "2025-01-30T06:16:47.042449Z",
     "shell.execute_reply": "2025-01-30T06:16:47.041413Z"
    },
    "id": "VzxR8n1yeGpV",
    "papermill": {
     "duration": 0.269517,
     "end_time": "2025-01-30T06:16:47.044570",
     "exception": false,
     "start_time": "2025-01-30T06:16:46.775053",
     "status": "completed"
    },
    "tags": []
   },
   "outputs": [
    {
     "data": {
      "image/png": "[encoded data removed]",
      "text/plain": [
       "<Figure size 2000x500 with 1 Axes>"
      ]
     },
     "metadata": {},
     "output_type": "display_data"
    }
   ],
   "source": [
    "plt.figure(figsize=(20,5))\n",
    "plt.subplot(1,2,1)\n",
    "plt.plot(history.history['loss'], label='Training Loss')\n",
    "plt.plot(history.history['val_loss'], label='Validation Loss')\n",
    "plt.legend(loc='upper right')\n",
    "plt.xlabel('Epoch', fontsize = 16)\n",
    "plt.ylabel('Loss', fontsize = 16)\n",
    "plt.ylim([0,max(plt.ylim())])\n",
    "plt.title('Training and Validation Loss', fontsize = 16)\n",
    "plt.show()"
   ]
  },
  {
   "cell_type": "markdown",
   "id": "98d5027f",
   "metadata": {
    "id": "XO0NGWQWerLU",
    "papermill": {
     "duration": 0.021437,
     "end_time": "2025-01-30T06:16:47.088049",
     "exception": false,
     "start_time": "2025-01-30T06:16:47.066612",
     "status": "completed"
    },
    "tags": []
   },
   "source": [
    "## Evaluation"
   ]
  },
  {
   "cell_type": "code",
   "execution_count": 44,
   "id": "7679de00",
   "metadata": {
    "execution": {
     "iopub.execute_input": "2025-01-30T06:16:47.133786Z",
     "iopub.status.busy": "2025-01-30T06:16:47.133031Z",
     "iopub.status.idle": "2025-01-30T06:16:47.631314Z",
     "shell.execute_reply": "2025-01-30T06:16:47.630283Z"
    },
    "id": "hyeoNUjxetH-",
    "papermill": {
     "duration": 0.523471,
     "end_time": "2025-01-30T06:16:47.633382",
     "exception": false,
     "start_time": "2025-01-30T06:16:47.109911",
     "status": "completed"
    },
    "tags": []
   },
   "outputs": [
    {
     "name": "stdout",
     "output_type": "stream",
     "text": [
      "\u001b[1m463/463\u001b[0m \u001b[32m━━━━━━━━━━━━━━━━━━━━\u001b[0m\u001b[37m\u001b[0m \u001b[1m0s\u001b[0m 928us/step - loss: 0.0089\n",
      "\n",
      "Test Loss: 0.8%\n"
     ]
    }
   ],
   "source": [
    "loss = model.evaluate(X_test, y_test, batch_size=1)\n",
    "print(\"\\nTest Loss: %.1f%%\" % (100.0 * loss))"
   ]
  },
  {
   "cell_type": "code",
   "execution_count": 45,
   "id": "1d1ea719",
   "metadata": {
    "execution": {
     "iopub.execute_input": "2025-01-30T06:16:47.680586Z",
     "iopub.status.busy": "2025-01-30T06:16:47.679871Z",
     "iopub.status.idle": "2025-01-30T06:16:48.116218Z",
     "shell.execute_reply": "2025-01-30T06:16:48.115131Z"
    },
    "id": "9e854j_NfFTV",
    "papermill": {
     "duration": 0.462651,
     "end_time": "2025-01-30T06:16:48.118767",
     "exception": false,
     "start_time": "2025-01-30T06:16:47.656116",
     "status": "completed"
    },
    "tags": []
   },
   "outputs": [
    {
     "name": "stdout",
     "output_type": "stream",
     "text": [
      "\u001b[1m60/60\u001b[0m \u001b[32m━━━━━━━━━━━━━━━━━━━━\u001b[0m\u001b[37m\u001b[0m \u001b[1m0s\u001b[0m 4ms/step\n"
     ]
    }
   ],
   "source": [
    "train_predict = model.predict(X_train)"
   ]
  },
  {
   "cell_type": "code",
   "execution_count": 46,
   "id": "30aa4651",
   "metadata": {
    "execution": {
     "iopub.execute_input": "2025-01-30T06:16:48.167887Z",
     "iopub.status.busy": "2025-01-30T06:16:48.167144Z",
     "iopub.status.idle": "2025-01-30T06:16:48.265786Z",
     "shell.execute_reply": "2025-01-30T06:16:48.264941Z"
    },
    "id": "GZgJuMd-fqZW",
    "papermill": {
     "duration": 0.125657,
     "end_time": "2025-01-30T06:16:48.268124",
     "exception": false,
     "start_time": "2025-01-30T06:16:48.142467",
     "status": "completed"
    },
    "tags": []
   },
   "outputs": [
    {
     "name": "stdout",
     "output_type": "stream",
     "text": [
      "\u001b[1m15/15\u001b[0m \u001b[32m━━━━━━━━━━━━━━━━━━━━\u001b[0m\u001b[37m\u001b[0m \u001b[1m0s\u001b[0m 1ms/step \n"
     ]
    }
   ],
   "source": [
    "test_predict = model.predict(X_test)"
   ]
  },
  {
   "cell_type": "code",
   "execution_count": 47,
   "id": "255fc8cf",
   "metadata": {
    "execution": {
     "iopub.execute_input": "2025-01-30T06:16:48.315675Z",
     "iopub.status.busy": "2025-01-30T06:16:48.314938Z",
     "iopub.status.idle": "2025-01-30T06:16:48.320122Z",
     "shell.execute_reply": "2025-01-30T06:16:48.319149Z"
    },
    "id": "FcH_8U3tfsGm",
    "papermill": {
     "duration": 0.031008,
     "end_time": "2025-01-30T06:16:48.322114",
     "exception": false,
     "start_time": "2025-01-30T06:16:48.291106",
     "status": "completed"
    },
    "tags": []
   },
   "outputs": [],
   "source": [
    "train_predict = scaler_train.inverse_transform(train_predict)\n",
    "test_predict = scaler_test.inverse_transform(test_predict)"
   ]
  },
  {
   "cell_type": "code",
   "execution_count": 48,
   "id": "3ccde85d",
   "metadata": {
    "execution": {
     "iopub.execute_input": "2025-01-30T06:16:48.369888Z",
     "iopub.status.busy": "2025-01-30T06:16:48.369098Z",
     "iopub.status.idle": "2025-01-30T06:16:48.374157Z",
     "shell.execute_reply": "2025-01-30T06:16:48.373181Z"
    },
    "id": "DsGDu-NKf912",
    "papermill": {
     "duration": 0.030839,
     "end_time": "2025-01-30T06:16:48.376015",
     "exception": false,
     "start_time": "2025-01-30T06:16:48.345176",
     "status": "completed"
    },
    "tags": []
   },
   "outputs": [],
   "source": [
    "y_train = scaler_train.inverse_transform(y_train)\n",
    "y_test = scaler_test.inverse_transform(y_test)"
   ]
  },
  {
   "cell_type": "code",
   "execution_count": 49,
   "id": "1790a8f0",
   "metadata": {
    "execution": {
     "iopub.execute_input": "2025-01-30T06:16:48.423835Z",
     "iopub.status.busy": "2025-01-30T06:16:48.423043Z",
     "iopub.status.idle": "2025-01-30T06:16:48.428202Z",
     "shell.execute_reply": "2025-01-30T06:16:48.427161Z"
    },
    "id": "ZLXqwAU7gGW2",
    "papermill": {
     "duration": 0.031438,
     "end_time": "2025-01-30T06:16:48.430191",
     "exception": false,
     "start_time": "2025-01-30T06:16:48.398753",
     "status": "completed"
    },
    "tags": []
   },
   "outputs": [],
   "source": [
    "train_rmse = np.sqrt(mean_squared_error(y_train, train_predict))"
   ]
  },
  {
   "cell_type": "code",
   "execution_count": 50,
   "id": "6688e6cd",
   "metadata": {
    "execution": {
     "iopub.execute_input": "2025-01-30T06:16:48.478440Z",
     "iopub.status.busy": "2025-01-30T06:16:48.477480Z",
     "iopub.status.idle": "2025-01-30T06:16:48.482916Z",
     "shell.execute_reply": "2025-01-30T06:16:48.481936Z"
    },
    "id": "76WbnJaIgJ4g",
    "papermill": {
     "duration": 0.031497,
     "end_time": "2025-01-30T06:16:48.484989",
     "exception": false,
     "start_time": "2025-01-30T06:16:48.453492",
     "status": "completed"
    },
    "tags": []
   },
   "outputs": [],
   "source": [
    "test_rmse = np.sqrt(mean_squared_error(y_test, test_predict))"
   ]
  },
  {
   "cell_type": "code",
   "execution_count": 51,
   "id": "31e12b75",
   "metadata": {
    "execution": {
     "iopub.execute_input": "2025-01-30T06:16:48.532616Z",
     "iopub.status.busy": "2025-01-30T06:16:48.531922Z",
     "iopub.status.idle": "2025-01-30T06:16:48.537249Z",
     "shell.execute_reply": "2025-01-30T06:16:48.536271Z"
    },
    "id": "WcUBQBz7gMV2",
    "papermill": {
     "duration": 0.031586,
     "end_time": "2025-01-30T06:16:48.539341",
     "exception": false,
     "start_time": "2025-01-30T06:16:48.507755",
     "status": "completed"
    },
    "tags": []
   },
   "outputs": [
    {
     "name": "stdout",
     "output_type": "stream",
     "text": [
      "Train RMSE: 28.884342193603516\n",
      "Test RMSE: 52.223243713378906\n"
     ]
    }
   ],
   "source": [
    "print(f\"Train RMSE: {train_rmse}\")\n",
    "print(f\"Test RMSE: {test_rmse}\")"
   ]
  },
  {
   "cell_type": "code",
   "execution_count": 52,
   "id": "9552ed76",
   "metadata": {
    "execution": {
     "iopub.execute_input": "2025-01-30T06:16:48.586730Z",
     "iopub.status.busy": "2025-01-30T06:16:48.585833Z",
     "iopub.status.idle": "2025-01-30T06:16:48.616701Z",
     "shell.execute_reply": "2025-01-30T06:16:48.615712Z"
    },
    "id": "t_llof9mgYz_",
    "papermill": {
     "duration": 0.056729,
     "end_time": "2025-01-30T06:16:48.618766",
     "exception": false,
     "start_time": "2025-01-30T06:16:48.562037",
     "status": "completed"
    },
    "tags": []
   },
   "outputs": [
    {
     "data": {
      "text/html": [
       "<div>\n",
       "<style scoped>\n",
       "    .dataframe tbody tr th:only-of-type {\n",
       "        vertical-align: middle;\n",
       "    }\n",
       "\n",
       "    .dataframe tbody tr th {\n",
       "        vertical-align: top;\n",
       "    }\n",
       "\n",
       "    .dataframe thead th {\n",
       "        text-align: right;\n",
       "    }\n",
       "</style>\n",
       "<table border=\"1\" class=\"dataframe\">\n",
       "  <thead>\n",
       "    <tr style=\"text-align: right;\">\n",
       "      <th></th>\n",
       "      <th>count</th>\n",
       "      <th>mean</th>\n",
       "      <th>min</th>\n",
       "      <th>25%</th>\n",
       "      <th>50%</th>\n",
       "      <th>75%</th>\n",
       "      <th>max</th>\n",
       "      <th>std</th>\n",
       "    </tr>\n",
       "  </thead>\n",
       "  <tbody>\n",
       "    <tr>\n",
       "      <th>Date</th>\n",
       "      <td>2416</td>\n",
       "      <td>2015-04-15 11:09:56.026490112</td>\n",
       "      <td>2010-06-29 00:00:00</td>\n",
       "      <td>2012-11-19 18:00:00</td>\n",
       "      <td>2015-04-16 12:00:00</td>\n",
       "      <td>2017-09-07 06:00:00</td>\n",
       "      <td>2020-02-03 00:00:00</td>\n",
       "      <td>NaN</td>\n",
       "    </tr>\n",
       "    <tr>\n",
       "      <th>Open</th>\n",
       "      <td>2416.0</td>\n",
       "      <td>186.271147</td>\n",
       "      <td>16.139999</td>\n",
       "      <td>34.342498</td>\n",
       "      <td>213.035004</td>\n",
       "      <td>266.450012</td>\n",
       "      <td>673.690002</td>\n",
       "      <td>118.740163</td>\n",
       "    </tr>\n",
       "    <tr>\n",
       "      <th>High</th>\n",
       "      <td>2416.0</td>\n",
       "      <td>189.578224</td>\n",
       "      <td>16.629999</td>\n",
       "      <td>34.897501</td>\n",
       "      <td>216.745002</td>\n",
       "      <td>270.927513</td>\n",
       "      <td>786.140015</td>\n",
       "      <td>120.892329</td>\n",
       "    </tr>\n",
       "    <tr>\n",
       "      <th>Low</th>\n",
       "      <td>2416.0</td>\n",
       "      <td>182.916639</td>\n",
       "      <td>14.98</td>\n",
       "      <td>33.587501</td>\n",
       "      <td>208.870002</td>\n",
       "      <td>262.102501</td>\n",
       "      <td>673.52002</td>\n",
       "      <td>116.857591</td>\n",
       "    </tr>\n",
       "    <tr>\n",
       "      <th>Close</th>\n",
       "      <td>2416.0</td>\n",
       "      <td>186.403651</td>\n",
       "      <td>15.8</td>\n",
       "      <td>34.400002</td>\n",
       "      <td>212.960007</td>\n",
       "      <td>266.774994</td>\n",
       "      <td>780.0</td>\n",
       "      <td>119.13602</td>\n",
       "    </tr>\n",
       "    <tr>\n",
       "      <th>Adj Close</th>\n",
       "      <td>2416.0</td>\n",
       "      <td>186.403651</td>\n",
       "      <td>15.8</td>\n",
       "      <td>34.400002</td>\n",
       "      <td>212.960007</td>\n",
       "      <td>266.774994</td>\n",
       "      <td>780.0</td>\n",
       "      <td>119.13602</td>\n",
       "    </tr>\n",
       "    <tr>\n",
       "      <th>Volume</th>\n",
       "      <td>2416.0</td>\n",
       "      <td>5572721.688742</td>\n",
       "      <td>118500.0</td>\n",
       "      <td>1899275.0</td>\n",
       "      <td>4578400.0</td>\n",
       "      <td>7361150.0</td>\n",
       "      <td>47065000.0</td>\n",
       "      <td>4987809.151888</td>\n",
       "    </tr>\n",
       "  </tbody>\n",
       "</table>\n",
       "</div>"
      ],
      "text/plain": [
       "            count                           mean                  min  \\\n",
       "Date         2416  2015-04-15 11:09:56.026490112  2010-06-29 00:00:00   \n",
       "Open       2416.0                     186.271147            16.139999   \n",
       "High       2416.0                     189.578224            16.629999   \n",
       "Low        2416.0                     182.916639                14.98   \n",
       "Close      2416.0                     186.403651                 15.8   \n",
       "Adj Close  2416.0                     186.403651                 15.8   \n",
       "Volume     2416.0                 5572721.688742             118500.0   \n",
       "\n",
       "                           25%                  50%                  75%  \\\n",
       "Date       2012-11-19 18:00:00  2015-04-16 12:00:00  2017-09-07 06:00:00   \n",
       "Open                 34.342498           213.035004           266.450012   \n",
       "High                 34.897501           216.745002           270.927513   \n",
       "Low                  33.587501           208.870002           262.102501   \n",
       "Close                34.400002           212.960007           266.774994   \n",
       "Adj Close            34.400002           212.960007           266.774994   \n",
       "Volume               1899275.0            4578400.0            7361150.0   \n",
       "\n",
       "                           max             std  \n",
       "Date       2020-02-03 00:00:00             NaN  \n",
       "Open                673.690002      118.740163  \n",
       "High                786.140015      120.892329  \n",
       "Low                  673.52002      116.857591  \n",
       "Close                    780.0       119.13602  \n",
       "Adj Close                780.0       119.13602  \n",
       "Volume              47065000.0  4987809.151888  "
      ]
     },
     "execution_count": 52,
     "metadata": {},
     "output_type": "execute_result"
    }
   ],
   "source": [
    "df.describe().T"
   ]
  },
  {
   "cell_type": "code",
   "execution_count": 53,
   "id": "9c6f9977",
   "metadata": {
    "execution": {
     "iopub.execute_input": "2025-01-30T06:16:48.666764Z",
     "iopub.status.busy": "2025-01-30T06:16:48.665895Z",
     "iopub.status.idle": "2025-01-30T06:16:48.676838Z",
     "shell.execute_reply": "2025-01-30T06:16:48.675897Z"
    },
    "id": "-PSGVpMzgz1O",
    "papermill": {
     "duration": 0.036774,
     "end_time": "2025-01-30T06:16:48.678665",
     "exception": false,
     "start_time": "2025-01-30T06:16:48.641891",
     "status": "completed"
    },
    "tags": []
   },
   "outputs": [
    {
     "data": {
      "text/html": [
       "<div>\n",
       "<style scoped>\n",
       "    .dataframe tbody tr th:only-of-type {\n",
       "        vertical-align: middle;\n",
       "    }\n",
       "\n",
       "    .dataframe tbody tr th {\n",
       "        vertical-align: top;\n",
       "    }\n",
       "\n",
       "    .dataframe thead th {\n",
       "        text-align: right;\n",
       "    }\n",
       "</style>\n",
       "<table border=\"1\" class=\"dataframe\">\n",
       "  <thead>\n",
       "    <tr style=\"text-align: right;\">\n",
       "      <th></th>\n",
       "      <th>Close</th>\n",
       "      <th>Predicted</th>\n",
       "    </tr>\n",
       "    <tr>\n",
       "      <th>Date</th>\n",
       "      <th></th>\n",
       "      <th></th>\n",
       "    </tr>\n",
       "  </thead>\n",
       "  <tbody>\n",
       "    <tr>\n",
       "      <th>2010-07-28</th>\n",
       "      <td>20.719999</td>\n",
       "      <td>37.888611</td>\n",
       "    </tr>\n",
       "    <tr>\n",
       "      <th>2010-07-29</th>\n",
       "      <td>20.350000</td>\n",
       "      <td>37.888611</td>\n",
       "    </tr>\n",
       "    <tr>\n",
       "      <th>2010-07-30</th>\n",
       "      <td>19.940001</td>\n",
       "      <td>37.888611</td>\n",
       "    </tr>\n",
       "    <tr>\n",
       "      <th>2010-08-02</th>\n",
       "      <td>20.920000</td>\n",
       "      <td>37.888611</td>\n",
       "    </tr>\n",
       "    <tr>\n",
       "      <th>2010-08-03</th>\n",
       "      <td>21.950001</td>\n",
       "      <td>37.888611</td>\n",
       "    </tr>\n",
       "  </tbody>\n",
       "</table>\n",
       "</div>"
      ],
      "text/plain": [
       "                Close  Predicted\n",
       "Date                            \n",
       "2010-07-28  20.719999  37.888611\n",
       "2010-07-29  20.350000  37.888611\n",
       "2010-07-30  19.940001  37.888611\n",
       "2010-08-02  20.920000  37.888611\n",
       "2010-08-03  21.950001  37.888611"
      ]
     },
     "execution_count": 53,
     "metadata": {},
     "output_type": "execute_result"
    }
   ],
   "source": [
    "train_prediction_df = result_df[lookback:position]\n",
    "train_prediction_df[\"Predicted\"] = train_predict\n",
    "train_prediction_df.head()"
   ]
  },
  {
   "cell_type": "code",
   "execution_count": 54,
   "id": "df80e092",
   "metadata": {
    "execution": {
     "iopub.execute_input": "2025-01-30T06:16:48.726901Z",
     "iopub.status.busy": "2025-01-30T06:16:48.726520Z",
     "iopub.status.idle": "2025-01-30T06:16:48.737577Z",
     "shell.execute_reply": "2025-01-30T06:16:48.736611Z"
    },
    "id": "o7tRAXwOhMSA",
    "papermill": {
     "duration": 0.037473,
     "end_time": "2025-01-30T06:16:48.739555",
     "exception": false,
     "start_time": "2025-01-30T06:16:48.702082",
     "status": "completed"
    },
    "tags": []
   },
   "outputs": [
    {
     "data": {
      "text/html": [
       "<div>\n",
       "<style scoped>\n",
       "    .dataframe tbody tr th:only-of-type {\n",
       "        vertical-align: middle;\n",
       "    }\n",
       "\n",
       "    .dataframe tbody tr th {\n",
       "        vertical-align: top;\n",
       "    }\n",
       "\n",
       "    .dataframe thead th {\n",
       "        text-align: right;\n",
       "    }\n",
       "</style>\n",
       "<table border=\"1\" class=\"dataframe\">\n",
       "  <thead>\n",
       "    <tr style=\"text-align: right;\">\n",
       "      <th></th>\n",
       "      <th>Close</th>\n",
       "      <th>Predicted</th>\n",
       "    </tr>\n",
       "    <tr>\n",
       "      <th>Date</th>\n",
       "      <th></th>\n",
       "      <th></th>\n",
       "    </tr>\n",
       "  </thead>\n",
       "  <tbody>\n",
       "    <tr>\n",
       "      <th>2018-04-03</th>\n",
       "      <td>267.529999</td>\n",
       "      <td>349.521210</td>\n",
       "    </tr>\n",
       "    <tr>\n",
       "      <th>2018-04-04</th>\n",
       "      <td>286.940002</td>\n",
       "      <td>345.657715</td>\n",
       "    </tr>\n",
       "    <tr>\n",
       "      <th>2018-04-05</th>\n",
       "      <td>305.720001</td>\n",
       "      <td>343.632294</td>\n",
       "    </tr>\n",
       "    <tr>\n",
       "      <th>2018-04-06</th>\n",
       "      <td>299.299988</td>\n",
       "      <td>344.281616</td>\n",
       "    </tr>\n",
       "    <tr>\n",
       "      <th>2018-04-09</th>\n",
       "      <td>289.660004</td>\n",
       "      <td>345.175232</td>\n",
       "    </tr>\n",
       "  </tbody>\n",
       "</table>\n",
       "</div>"
      ],
      "text/plain": [
       "                 Close   Predicted\n",
       "Date                              \n",
       "2018-04-03  267.529999  349.521210\n",
       "2018-04-04  286.940002  345.657715\n",
       "2018-04-05  305.720001  343.632294\n",
       "2018-04-06  299.299988  344.281616\n",
       "2018-04-09  289.660004  345.175232"
      ]
     },
     "execution_count": 54,
     "metadata": {},
     "output_type": "execute_result"
    }
   ],
   "source": [
    "test_prediction_df = result_df[position+lookback:]\n",
    "test_prediction_df[\"Predicted\"] = test_predict\n",
    "test_prediction_df.head()"
   ]
  },
  {
   "cell_type": "code",
   "execution_count": 55,
   "id": "8a0dceea",
   "metadata": {
    "execution": {
     "iopub.execute_input": "2025-01-30T06:16:48.788190Z",
     "iopub.status.busy": "2025-01-30T06:16:48.787805Z",
     "iopub.status.idle": "2025-01-30T06:16:49.132206Z",
     "shell.execute_reply": "2025-01-30T06:16:49.131191Z"
    },
    "id": "PJ_-znSchYO_",
    "papermill": {
     "duration": 0.371271,
     "end_time": "2025-01-30T06:16:49.134419",
     "exception": false,
     "start_time": "2025-01-30T06:16:48.763148",
     "status": "completed"
    },
    "tags": []
   },
   "outputs": [
    {
     "data": {
      "image/png": "[encoded data removed]",
      "text/plain": [
       "<Figure size 1400x500 with 1 Axes>"
      ]
     },
     "metadata": {},
     "output_type": "display_data"
    }
   ],
   "source": [
    "plt.figure(figsize=(14,5))\n",
    "plt.plot(result_df, label = \"Real Number of Passengers\")\n",
    "plt.plot(train_prediction_df[\"Predicted\"], color = 'blue', label = \"Train Predicted Number of Passengers\")\n",
    "plt.plot(test_prediction_df[\"Predicted\"],color = 'red', label = \"Test Predicted Number of Passengers\")\n",
    "plt.title(\"Number of Passengers Prediction\")\n",
    "plt.xlabel(\"Time\")\n",
    "plt.ylabel(\"Number of Passengers\")\n",
    "plt.legend()\n",
    "plt.show()"
   ]
  }
 ],
 "metadata": {
  "colab": {
   "provenance": []
  },
  "kaggle": {
   "accelerator": "none",
   "dataSources": [
    {
     "datasetId": 500872,
     "sourceId": 927894,
     "sourceType": "datasetVersion"
    }
   ],
   "dockerImageVersionId": 30761,
   "isGpuEnabled": false,
   "isInternetEnabled": true,
   "language": "python",
   "sourceType": "notebook"
  },
  "kernelspec": {
   "display_name": "Python 3",
   "language": "python",
   "name": "python3"
  },
  "language_info": {
   "codemirror_mode": {
    "name": "ipython",
    "version": 3
   },
   "file_extension": ".py",
   "mimetype": "text/x-python",
   "name": "python",
   "nbconvert_exporter": "python",
   "pygments_lexer": "ipython3",
   "version": "3.10.14"
  },
  "papermill": {
   "default_parameters": {},
   "duration": 31.865902,
   "end_time": "2025-01-30T06:16:51.423214",
   "environment_variables": {},
   "exception": null,
   "input_path": "__notebook__.ipynb",
   "output_path": "__notebook__.ipynb",
   "parameters": {},
   "start_time": "2025-01-30T06:16:19.557312",
   "version": "2.6.0"
  }
 },
 "nbformat": 4,
 "nbformat_minor": 5
}
