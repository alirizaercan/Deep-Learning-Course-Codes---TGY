{
 "cells": [
  {
   "cell_type": "markdown",
   "id": "674799b1",
   "metadata": {
    "id": "4unSJJjsT8BM",
    "papermill": {
     "duration": 0.011373,
     "end_time": "2025-01-13T07:45:54.182605",
     "exception": false,
     "start_time": "2025-01-13T07:45:54.171232",
     "status": "completed"
    },
    "tags": []
   },
   "source": [
    "# Tesla - Stock Price Prediction\n",
    "\n",
    "---\n",
    "\n"
   ]
  },
  {
   "cell_type": "markdown",
   "id": "6d7b5b45",
   "metadata": {
    "id": "wkRLJL2XUAfT",
    "papermill": {
     "duration": 0.010091,
     "end_time": "2025-01-13T07:45:54.203313",
     "exception": false,
     "start_time": "2025-01-13T07:45:54.193222",
     "status": "completed"
    },
    "tags": []
   },
   "source": [
    "## Business Problem\n",
    "\n",
    "In this notebook, our purpose is to predict of tesla - stock price."
   ]
  },
  {
   "cell_type": "markdown",
   "id": "074795c1",
   "metadata": {
    "id": "0uxjphZsUwjz",
    "papermill": {
     "duration": 0.010094,
     "end_time": "2025-01-13T07:45:54.223798",
     "exception": false,
     "start_time": "2025-01-13T07:45:54.213704",
     "status": "completed"
    },
    "tags": []
   },
   "source": [
    "## Data Understanding"
   ]
  },
  {
   "cell_type": "code",
   "execution_count": 1,
   "id": "4bc6deb6",
   "metadata": {
    "execution": {
     "iopub.execute_input": "2025-01-13T07:45:54.246718Z",
     "iopub.status.busy": "2025-01-13T07:45:54.246188Z",
     "iopub.status.idle": "2025-01-13T07:46:10.909980Z",
     "shell.execute_reply": "2025-01-13T07:46:10.908927Z"
    },
    "id": "40IR65rQUyWC",
    "outputId": "4562368d-970e-4fd6-b03e-be036efe4dcd",
    "papermill": {
     "duration": 16.678157,
     "end_time": "2025-01-13T07:46:10.912363",
     "exception": false,
     "start_time": "2025-01-13T07:45:54.234206",
     "status": "completed"
    },
    "tags": []
   },
   "outputs": [],
   "source": [
    "import numpy as np\n",
    "import pandas as pd\n",
    "import datetime as dt\n",
    "import tensorflow as tf\n",
    "import matplotlib.pyplot as plt\n",
    "\n",
    "from sklearn.preprocessing import MinMaxScaler\n",
    "from sklearn.metrics import mean_squared_error\n",
    "\n",
    "from tensorflow.keras.models import Sequential\n",
    "from tensorflow.keras.layers import Dense, LSTM, Dropout\n",
    "from tensorflow.keras.callbacks import ModelCheckpoint, EarlyStopping\n",
    "\n",
    "import warnings\n",
    "warnings.filterwarnings('ignore')\n",
    "\n",
    "import os\n",
    "os.environ['TF_CPP_MIN_LOG_LEVEL'] = '3'\n",
    "tf.compat.v1.logging.set_verbosity(tf.compat.v1.logging.ERROR)"
   ]
  },
  {
   "cell_type": "code",
   "execution_count": 2,
   "id": "8dd04fcc",
   "metadata": {
    "execution": {
     "iopub.execute_input": "2025-01-13T07:46:10.935394Z",
     "iopub.status.busy": "2025-01-13T07:46:10.934792Z",
     "iopub.status.idle": "2025-01-13T07:46:10.997229Z",
     "shell.execute_reply": "2025-01-13T07:46:10.996153Z"
    },
    "id": "-be5_efvVpTV",
    "papermill": {
     "duration": 0.076208,
     "end_time": "2025-01-13T07:46:10.999382",
     "exception": false,
     "start_time": "2025-01-13T07:46:10.923174",
     "status": "completed"
    },
    "tags": []
   },
   "outputs": [
    {
     "data": {
      "text/html": [
       "<div>\n",
       "<style scoped>\n",
       "    .dataframe tbody tr th:only-of-type {\n",
       "        vertical-align: middle;\n",
       "    }\n",
       "\n",
       "    .dataframe tbody tr th {\n",
       "        vertical-align: top;\n",
       "    }\n",
       "\n",
       "    .dataframe thead th {\n",
       "        text-align: right;\n",
       "    }\n",
       "</style>\n",
       "<table border=\"1\" class=\"dataframe\">\n",
       "  <thead>\n",
       "    <tr style=\"text-align: right;\">\n",
       "      <th></th>\n",
       "      <th>Date</th>\n",
       "      <th>Open</th>\n",
       "      <th>High</th>\n",
       "      <th>Low</th>\n",
       "      <th>Close</th>\n",
       "      <th>Adj Close</th>\n",
       "      <th>Volume</th>\n",
       "    </tr>\n",
       "  </thead>\n",
       "  <tbody>\n",
       "    <tr>\n",
       "      <th>0</th>\n",
       "      <td>2010-06-29</td>\n",
       "      <td>19.000000</td>\n",
       "      <td>25.000000</td>\n",
       "      <td>17.540001</td>\n",
       "      <td>23.889999</td>\n",
       "      <td>23.889999</td>\n",
       "      <td>18766300</td>\n",
       "    </tr>\n",
       "    <tr>\n",
       "      <th>1</th>\n",
       "      <td>2010-06-30</td>\n",
       "      <td>25.790001</td>\n",
       "      <td>30.420000</td>\n",
       "      <td>23.299999</td>\n",
       "      <td>23.830000</td>\n",
       "      <td>23.830000</td>\n",
       "      <td>17187100</td>\n",
       "    </tr>\n",
       "    <tr>\n",
       "      <th>2</th>\n",
       "      <td>2010-07-01</td>\n",
       "      <td>25.000000</td>\n",
       "      <td>25.920000</td>\n",
       "      <td>20.270000</td>\n",
       "      <td>21.959999</td>\n",
       "      <td>21.959999</td>\n",
       "      <td>8218800</td>\n",
       "    </tr>\n",
       "    <tr>\n",
       "      <th>3</th>\n",
       "      <td>2010-07-02</td>\n",
       "      <td>23.000000</td>\n",
       "      <td>23.100000</td>\n",
       "      <td>18.709999</td>\n",
       "      <td>19.200001</td>\n",
       "      <td>19.200001</td>\n",
       "      <td>5139800</td>\n",
       "    </tr>\n",
       "    <tr>\n",
       "      <th>4</th>\n",
       "      <td>2010-07-06</td>\n",
       "      <td>20.000000</td>\n",
       "      <td>20.000000</td>\n",
       "      <td>15.830000</td>\n",
       "      <td>16.110001</td>\n",
       "      <td>16.110001</td>\n",
       "      <td>6866900</td>\n",
       "    </tr>\n",
       "    <tr>\n",
       "      <th>...</th>\n",
       "      <td>...</td>\n",
       "      <td>...</td>\n",
       "      <td>...</td>\n",
       "      <td>...</td>\n",
       "      <td>...</td>\n",
       "      <td>...</td>\n",
       "      <td>...</td>\n",
       "    </tr>\n",
       "    <tr>\n",
       "      <th>2411</th>\n",
       "      <td>2020-01-28</td>\n",
       "      <td>568.489990</td>\n",
       "      <td>576.809998</td>\n",
       "      <td>558.080017</td>\n",
       "      <td>566.900024</td>\n",
       "      <td>566.900024</td>\n",
       "      <td>11788500</td>\n",
       "    </tr>\n",
       "    <tr>\n",
       "      <th>2412</th>\n",
       "      <td>2020-01-29</td>\n",
       "      <td>575.690002</td>\n",
       "      <td>589.799988</td>\n",
       "      <td>567.429993</td>\n",
       "      <td>580.989990</td>\n",
       "      <td>580.989990</td>\n",
       "      <td>17801500</td>\n",
       "    </tr>\n",
       "    <tr>\n",
       "      <th>2413</th>\n",
       "      <td>2020-01-30</td>\n",
       "      <td>632.419983</td>\n",
       "      <td>650.880005</td>\n",
       "      <td>618.000000</td>\n",
       "      <td>640.809998</td>\n",
       "      <td>640.809998</td>\n",
       "      <td>29005700</td>\n",
       "    </tr>\n",
       "    <tr>\n",
       "      <th>2414</th>\n",
       "      <td>2020-01-31</td>\n",
       "      <td>640.000000</td>\n",
       "      <td>653.000000</td>\n",
       "      <td>632.520020</td>\n",
       "      <td>650.570007</td>\n",
       "      <td>650.570007</td>\n",
       "      <td>15719300</td>\n",
       "    </tr>\n",
       "    <tr>\n",
       "      <th>2415</th>\n",
       "      <td>2020-02-03</td>\n",
       "      <td>673.690002</td>\n",
       "      <td>786.140015</td>\n",
       "      <td>673.520020</td>\n",
       "      <td>780.000000</td>\n",
       "      <td>780.000000</td>\n",
       "      <td>47065000</td>\n",
       "    </tr>\n",
       "  </tbody>\n",
       "</table>\n",
       "<p>2416 rows × 7 columns</p>\n",
       "</div>"
      ],
      "text/plain": [
       "            Date        Open        High         Low       Close   Adj Close  \\\n",
       "0     2010-06-29   19.000000   25.000000   17.540001   23.889999   23.889999   \n",
       "1     2010-06-30   25.790001   30.420000   23.299999   23.830000   23.830000   \n",
       "2     2010-07-01   25.000000   25.920000   20.270000   21.959999   21.959999   \n",
       "3     2010-07-02   23.000000   23.100000   18.709999   19.200001   19.200001   \n",
       "4     2010-07-06   20.000000   20.000000   15.830000   16.110001   16.110001   \n",
       "...          ...         ...         ...         ...         ...         ...   \n",
       "2411  2020-01-28  568.489990  576.809998  558.080017  566.900024  566.900024   \n",
       "2412  2020-01-29  575.690002  589.799988  567.429993  580.989990  580.989990   \n",
       "2413  2020-01-30  632.419983  650.880005  618.000000  640.809998  640.809998   \n",
       "2414  2020-01-31  640.000000  653.000000  632.520020  650.570007  650.570007   \n",
       "2415  2020-02-03  673.690002  786.140015  673.520020  780.000000  780.000000   \n",
       "\n",
       "        Volume  \n",
       "0     18766300  \n",
       "1     17187100  \n",
       "2      8218800  \n",
       "3      5139800  \n",
       "4      6866900  \n",
       "...        ...  \n",
       "2411  11788500  \n",
       "2412  17801500  \n",
       "2413  29005700  \n",
       "2414  15719300  \n",
       "2415  47065000  \n",
       "\n",
       "[2416 rows x 7 columns]"
      ]
     },
     "execution_count": 2,
     "metadata": {},
     "output_type": "execute_result"
    }
   ],
   "source": [
    "df = pd.read_csv('/kaggle/input/tesla-stock-data-from-2010-to-2020/TSLA.csv')\n",
    "df"
   ]
  },
  {
   "cell_type": "code",
   "execution_count": 3,
   "id": "5545ef3a",
   "metadata": {
    "execution": {
     "iopub.execute_input": "2025-01-13T07:46:11.022824Z",
     "iopub.status.busy": "2025-01-13T07:46:11.022397Z",
     "iopub.status.idle": "2025-01-13T07:46:11.035355Z",
     "shell.execute_reply": "2025-01-13T07:46:11.034385Z"
    },
    "id": "lG_AO3mdVv17",
    "papermill": {
     "duration": 0.02678,
     "end_time": "2025-01-13T07:46:11.037262",
     "exception": false,
     "start_time": "2025-01-13T07:46:11.010482",
     "status": "completed"
    },
    "tags": []
   },
   "outputs": [
    {
     "data": {
      "text/html": [
       "<div>\n",
       "<style scoped>\n",
       "    .dataframe tbody tr th:only-of-type {\n",
       "        vertical-align: middle;\n",
       "    }\n",
       "\n",
       "    .dataframe tbody tr th {\n",
       "        vertical-align: top;\n",
       "    }\n",
       "\n",
       "    .dataframe thead th {\n",
       "        text-align: right;\n",
       "    }\n",
       "</style>\n",
       "<table border=\"1\" class=\"dataframe\">\n",
       "  <thead>\n",
       "    <tr style=\"text-align: right;\">\n",
       "      <th></th>\n",
       "      <th>Date</th>\n",
       "      <th>Open</th>\n",
       "      <th>High</th>\n",
       "      <th>Low</th>\n",
       "      <th>Close</th>\n",
       "      <th>Adj Close</th>\n",
       "      <th>Volume</th>\n",
       "    </tr>\n",
       "  </thead>\n",
       "  <tbody>\n",
       "    <tr>\n",
       "      <th>0</th>\n",
       "      <td>2010-06-29</td>\n",
       "      <td>19.000000</td>\n",
       "      <td>25.00</td>\n",
       "      <td>17.540001</td>\n",
       "      <td>23.889999</td>\n",
       "      <td>23.889999</td>\n",
       "      <td>18766300</td>\n",
       "    </tr>\n",
       "    <tr>\n",
       "      <th>1</th>\n",
       "      <td>2010-06-30</td>\n",
       "      <td>25.790001</td>\n",
       "      <td>30.42</td>\n",
       "      <td>23.299999</td>\n",
       "      <td>23.830000</td>\n",
       "      <td>23.830000</td>\n",
       "      <td>17187100</td>\n",
       "    </tr>\n",
       "    <tr>\n",
       "      <th>2</th>\n",
       "      <td>2010-07-01</td>\n",
       "      <td>25.000000</td>\n",
       "      <td>25.92</td>\n",
       "      <td>20.270000</td>\n",
       "      <td>21.959999</td>\n",
       "      <td>21.959999</td>\n",
       "      <td>8218800</td>\n",
       "    </tr>\n",
       "    <tr>\n",
       "      <th>3</th>\n",
       "      <td>2010-07-02</td>\n",
       "      <td>23.000000</td>\n",
       "      <td>23.10</td>\n",
       "      <td>18.709999</td>\n",
       "      <td>19.200001</td>\n",
       "      <td>19.200001</td>\n",
       "      <td>5139800</td>\n",
       "    </tr>\n",
       "    <tr>\n",
       "      <th>4</th>\n",
       "      <td>2010-07-06</td>\n",
       "      <td>20.000000</td>\n",
       "      <td>20.00</td>\n",
       "      <td>15.830000</td>\n",
       "      <td>16.110001</td>\n",
       "      <td>16.110001</td>\n",
       "      <td>6866900</td>\n",
       "    </tr>\n",
       "  </tbody>\n",
       "</table>\n",
       "</div>"
      ],
      "text/plain": [
       "         Date       Open   High        Low      Close  Adj Close    Volume\n",
       "0  2010-06-29  19.000000  25.00  17.540001  23.889999  23.889999  18766300\n",
       "1  2010-06-30  25.790001  30.42  23.299999  23.830000  23.830000  17187100\n",
       "2  2010-07-01  25.000000  25.92  20.270000  21.959999  21.959999   8218800\n",
       "3  2010-07-02  23.000000  23.10  18.709999  19.200001  19.200001   5139800\n",
       "4  2010-07-06  20.000000  20.00  15.830000  16.110001  16.110001   6866900"
      ]
     },
     "execution_count": 3,
     "metadata": {},
     "output_type": "execute_result"
    }
   ],
   "source": [
    "df.head()"
   ]
  },
  {
   "cell_type": "code",
   "execution_count": 4,
   "id": "2af5455b",
   "metadata": {
    "execution": {
     "iopub.execute_input": "2025-01-13T07:46:11.060851Z",
     "iopub.status.busy": "2025-01-13T07:46:11.060424Z",
     "iopub.status.idle": "2025-01-13T07:46:11.066734Z",
     "shell.execute_reply": "2025-01-13T07:46:11.065841Z"
    },
    "id": "TU5hlfyvVxY0",
    "papermill": {
     "duration": 0.02064,
     "end_time": "2025-01-13T07:46:11.068824",
     "exception": false,
     "start_time": "2025-01-13T07:46:11.048184",
     "status": "completed"
    },
    "tags": []
   },
   "outputs": [],
   "source": [
    "def check_df(dataframe, head=5):\n",
    "    print(\"##################### Shape #####################\")\n",
    "    print(dataframe.shape)\n",
    "    print(\"##################### Types #####################\")\n",
    "    print(dataframe.dtypes)\n",
    "    print(\"##################### Head #####################\")\n",
    "    print(dataframe.head(head))  # Fonksiyon çağrısına dikkat edin\n",
    "    print(\"##################### Tail #####################\")\n",
    "    print(dataframe.tail(head))\n",
    "    print(\"##################### NA #####################\")\n",
    "    print(dataframe.isnull().sum())\n",
    "    print(\"##################### Quantile #####################\")\n",
    "    print(dataframe.select_dtypes(include='number').quantile([0, 0.05, 0.5, 0.95, 0.99, 1]).T)\n"
   ]
  },
  {
   "cell_type": "code",
   "execution_count": 5,
   "id": "fabfb77b",
   "metadata": {
    "execution": {
     "iopub.execute_input": "2025-01-13T07:46:11.092556Z",
     "iopub.status.busy": "2025-01-13T07:46:11.092160Z",
     "iopub.status.idle": "2025-01-13T07:46:11.113801Z",
     "shell.execute_reply": "2025-01-13T07:46:11.112836Z"
    },
    "id": "t6iFP965V4vk",
    "papermill": {
     "duration": 0.036292,
     "end_time": "2025-01-13T07:46:11.116269",
     "exception": false,
     "start_time": "2025-01-13T07:46:11.079977",
     "status": "completed"
    },
    "tags": []
   },
   "outputs": [
    {
     "name": "stdout",
     "output_type": "stream",
     "text": [
      "##################### Shape #####################\n",
      "(2416, 7)\n",
      "##################### Types #####################\n",
      "Date          object\n",
      "Open         float64\n",
      "High         float64\n",
      "Low          float64\n",
      "Close        float64\n",
      "Adj Close    float64\n",
      "Volume         int64\n",
      "dtype: object\n",
      "##################### Head #####################\n",
      "         Date       Open   High        Low      Close  Adj Close    Volume\n",
      "0  2010-06-29  19.000000  25.00  17.540001  23.889999  23.889999  18766300\n",
      "1  2010-06-30  25.790001  30.42  23.299999  23.830000  23.830000  17187100\n",
      "2  2010-07-01  25.000000  25.92  20.270000  21.959999  21.959999   8218800\n",
      "3  2010-07-02  23.000000  23.10  18.709999  19.200001  19.200001   5139800\n",
      "4  2010-07-06  20.000000  20.00  15.830000  16.110001  16.110001   6866900\n",
      "##################### Tail #####################\n",
      "            Date        Open        High         Low       Close   Adj Close  \\\n",
      "2411  2020-01-28  568.489990  576.809998  558.080017  566.900024  566.900024   \n",
      "2412  2020-01-29  575.690002  589.799988  567.429993  580.989990  580.989990   \n",
      "2413  2020-01-30  632.419983  650.880005  618.000000  640.809998  640.809998   \n",
      "2414  2020-01-31  640.000000  653.000000  632.520020  650.570007  650.570007   \n",
      "2415  2020-02-03  673.690002  786.140015  673.520020  780.000000  780.000000   \n",
      "\n",
      "        Volume  \n",
      "2411  11788500  \n",
      "2412  17801500  \n",
      "2413  29005700  \n",
      "2414  15719300  \n",
      "2415  47065000  \n",
      "##################### NA #####################\n",
      "Date         0\n",
      "Open         0\n",
      "High         0\n",
      "Low          0\n",
      "Close        0\n",
      "Adj Close    0\n",
      "Volume       0\n",
      "dtype: int64\n",
      "##################### Quantile #####################\n",
      "                    0.00           0.05          0.50          0.95  \\\n",
      "Open           16.139999      23.384999  2.130350e+02  3.519100e+02   \n",
      "High           16.629999      24.022501  2.167450e+02  3.567500e+02   \n",
      "Low            14.980000      22.867499  2.088700e+02  3.460250e+02   \n",
      "Close          15.800000      23.565000  2.129600e+02  3.511675e+02   \n",
      "Adj Close      15.800000      23.565000  2.129600e+02  3.511675e+02   \n",
      "Volume     118500.000000  633825.000000  4.578400e+06  1.476090e+07   \n",
      "\n",
      "                   0.99          1.00  \n",
      "Open       4.235790e+02  6.736900e+02  \n",
      "High       4.284705e+02  7.861400e+02  \n",
      "Low        4.122865e+02  6.735200e+02  \n",
      "Close      4.243455e+02  7.800000e+02  \n",
      "Adj Close  4.243455e+02  7.800000e+02  \n",
      "Volume     2.459959e+07  4.706500e+07  \n"
     ]
    }
   ],
   "source": [
    "check_df(df)"
   ]
  },
  {
   "cell_type": "markdown",
   "id": "ca809e42",
   "metadata": {
    "id": "v2n2ONcpWlQl",
    "papermill": {
     "duration": 0.010633,
     "end_time": "2025-01-13T07:46:11.139263",
     "exception": false,
     "start_time": "2025-01-13T07:46:11.128630",
     "status": "completed"
    },
    "tags": []
   },
   "source": [
    "## Data Preparation"
   ]
  },
  {
   "cell_type": "code",
   "execution_count": 6,
   "id": "3d051efe",
   "metadata": {
    "execution": {
     "iopub.execute_input": "2025-01-13T07:46:11.163212Z",
     "iopub.status.busy": "2025-01-13T07:46:11.162212Z",
     "iopub.status.idle": "2025-01-13T07:46:11.173323Z",
     "shell.execute_reply": "2025-01-13T07:46:11.172234Z"
    },
    "id": "x-En8ormWAo8",
    "papermill": {
     "duration": 0.025313,
     "end_time": "2025-01-13T07:46:11.175397",
     "exception": false,
     "start_time": "2025-01-13T07:46:11.150084",
     "status": "completed"
    },
    "tags": []
   },
   "outputs": [],
   "source": [
    "df[\"Date\"] = pd.to_datetime(df[\"Date\"])"
   ]
  },
  {
   "cell_type": "code",
   "execution_count": 7,
   "id": "51933f11",
   "metadata": {
    "execution": {
     "iopub.execute_input": "2025-01-13T07:46:11.198705Z",
     "iopub.status.busy": "2025-01-13T07:46:11.198273Z",
     "iopub.status.idle": "2025-01-13T07:46:11.212475Z",
     "shell.execute_reply": "2025-01-13T07:46:11.211481Z"
    },
    "id": "Wk3C4MPkWBUG",
    "papermill": {
     "duration": 0.028302,
     "end_time": "2025-01-13T07:46:11.214482",
     "exception": false,
     "start_time": "2025-01-13T07:46:11.186180",
     "status": "completed"
    },
    "tags": []
   },
   "outputs": [
    {
     "data": {
      "text/html": [
       "<div>\n",
       "<style scoped>\n",
       "    .dataframe tbody tr th:only-of-type {\n",
       "        vertical-align: middle;\n",
       "    }\n",
       "\n",
       "    .dataframe tbody tr th {\n",
       "        vertical-align: top;\n",
       "    }\n",
       "\n",
       "    .dataframe thead th {\n",
       "        text-align: right;\n",
       "    }\n",
       "</style>\n",
       "<table border=\"1\" class=\"dataframe\">\n",
       "  <thead>\n",
       "    <tr style=\"text-align: right;\">\n",
       "      <th></th>\n",
       "      <th>Date</th>\n",
       "      <th>Open</th>\n",
       "      <th>High</th>\n",
       "      <th>Low</th>\n",
       "      <th>Close</th>\n",
       "      <th>Adj Close</th>\n",
       "      <th>Volume</th>\n",
       "    </tr>\n",
       "  </thead>\n",
       "  <tbody>\n",
       "    <tr>\n",
       "      <th>0</th>\n",
       "      <td>2010-06-29</td>\n",
       "      <td>19.000000</td>\n",
       "      <td>25.00</td>\n",
       "      <td>17.540001</td>\n",
       "      <td>23.889999</td>\n",
       "      <td>23.889999</td>\n",
       "      <td>18766300</td>\n",
       "    </tr>\n",
       "    <tr>\n",
       "      <th>1</th>\n",
       "      <td>2010-06-30</td>\n",
       "      <td>25.790001</td>\n",
       "      <td>30.42</td>\n",
       "      <td>23.299999</td>\n",
       "      <td>23.830000</td>\n",
       "      <td>23.830000</td>\n",
       "      <td>17187100</td>\n",
       "    </tr>\n",
       "    <tr>\n",
       "      <th>2</th>\n",
       "      <td>2010-07-01</td>\n",
       "      <td>25.000000</td>\n",
       "      <td>25.92</td>\n",
       "      <td>20.270000</td>\n",
       "      <td>21.959999</td>\n",
       "      <td>21.959999</td>\n",
       "      <td>8218800</td>\n",
       "    </tr>\n",
       "    <tr>\n",
       "      <th>3</th>\n",
       "      <td>2010-07-02</td>\n",
       "      <td>23.000000</td>\n",
       "      <td>23.10</td>\n",
       "      <td>18.709999</td>\n",
       "      <td>19.200001</td>\n",
       "      <td>19.200001</td>\n",
       "      <td>5139800</td>\n",
       "    </tr>\n",
       "    <tr>\n",
       "      <th>4</th>\n",
       "      <td>2010-07-06</td>\n",
       "      <td>20.000000</td>\n",
       "      <td>20.00</td>\n",
       "      <td>15.830000</td>\n",
       "      <td>16.110001</td>\n",
       "      <td>16.110001</td>\n",
       "      <td>6866900</td>\n",
       "    </tr>\n",
       "  </tbody>\n",
       "</table>\n",
       "</div>"
      ],
      "text/plain": [
       "        Date       Open   High        Low      Close  Adj Close    Volume\n",
       "0 2010-06-29  19.000000  25.00  17.540001  23.889999  23.889999  18766300\n",
       "1 2010-06-30  25.790001  30.42  23.299999  23.830000  23.830000  17187100\n",
       "2 2010-07-01  25.000000  25.92  20.270000  21.959999  21.959999   8218800\n",
       "3 2010-07-02  23.000000  23.10  18.709999  19.200001  19.200001   5139800\n",
       "4 2010-07-06  20.000000  20.00  15.830000  16.110001  16.110001   6866900"
      ]
     },
     "execution_count": 7,
     "metadata": {},
     "output_type": "execute_result"
    }
   ],
   "source": [
    "df.head()"
   ]
  },
  {
   "cell_type": "code",
   "execution_count": 8,
   "id": "24f9c551",
   "metadata": {
    "execution": {
     "iopub.execute_input": "2025-01-13T07:46:11.238177Z",
     "iopub.status.busy": "2025-01-13T07:46:11.237435Z",
     "iopub.status.idle": "2025-01-13T07:46:11.243020Z",
     "shell.execute_reply": "2025-01-13T07:46:11.242084Z"
    },
    "id": "ZOVzSrk1WCHu",
    "papermill": {
     "duration": 0.019361,
     "end_time": "2025-01-13T07:46:11.244867",
     "exception": false,
     "start_time": "2025-01-13T07:46:11.225506",
     "status": "completed"
    },
    "tags": []
   },
   "outputs": [],
   "source": [
    "tesla_df = df[[\"Date\", \"Close\"]]"
   ]
  },
  {
   "cell_type": "code",
   "execution_count": 9,
   "id": "dd78c147",
   "metadata": {
    "execution": {
     "iopub.execute_input": "2025-01-13T07:46:11.268176Z",
     "iopub.status.busy": "2025-01-13T07:46:11.267808Z",
     "iopub.status.idle": "2025-01-13T07:46:11.277734Z",
     "shell.execute_reply": "2025-01-13T07:46:11.276724Z"
    },
    "id": "Tli5FuMBWF8l",
    "papermill": {
     "duration": 0.02377,
     "end_time": "2025-01-13T07:46:11.279577",
     "exception": false,
     "start_time": "2025-01-13T07:46:11.255807",
     "status": "completed"
    },
    "tags": []
   },
   "outputs": [
    {
     "data": {
      "text/html": [
       "<div>\n",
       "<style scoped>\n",
       "    .dataframe tbody tr th:only-of-type {\n",
       "        vertical-align: middle;\n",
       "    }\n",
       "\n",
       "    .dataframe tbody tr th {\n",
       "        vertical-align: top;\n",
       "    }\n",
       "\n",
       "    .dataframe thead th {\n",
       "        text-align: right;\n",
       "    }\n",
       "</style>\n",
       "<table border=\"1\" class=\"dataframe\">\n",
       "  <thead>\n",
       "    <tr style=\"text-align: right;\">\n",
       "      <th></th>\n",
       "      <th>Date</th>\n",
       "      <th>Close</th>\n",
       "    </tr>\n",
       "  </thead>\n",
       "  <tbody>\n",
       "    <tr>\n",
       "      <th>0</th>\n",
       "      <td>2010-06-29</td>\n",
       "      <td>23.889999</td>\n",
       "    </tr>\n",
       "    <tr>\n",
       "      <th>1</th>\n",
       "      <td>2010-06-30</td>\n",
       "      <td>23.830000</td>\n",
       "    </tr>\n",
       "    <tr>\n",
       "      <th>2</th>\n",
       "      <td>2010-07-01</td>\n",
       "      <td>21.959999</td>\n",
       "    </tr>\n",
       "    <tr>\n",
       "      <th>3</th>\n",
       "      <td>2010-07-02</td>\n",
       "      <td>19.200001</td>\n",
       "    </tr>\n",
       "    <tr>\n",
       "      <th>4</th>\n",
       "      <td>2010-07-06</td>\n",
       "      <td>16.110001</td>\n",
       "    </tr>\n",
       "  </tbody>\n",
       "</table>\n",
       "</div>"
      ],
      "text/plain": [
       "        Date      Close\n",
       "0 2010-06-29  23.889999\n",
       "1 2010-06-30  23.830000\n",
       "2 2010-07-01  21.959999\n",
       "3 2010-07-02  19.200001\n",
       "4 2010-07-06  16.110001"
      ]
     },
     "execution_count": 9,
     "metadata": {},
     "output_type": "execute_result"
    }
   ],
   "source": [
    "tesla_df.head()"
   ]
  },
  {
   "cell_type": "code",
   "execution_count": 10,
   "id": "165ab2a9",
   "metadata": {
    "execution": {
     "iopub.execute_input": "2025-01-13T07:46:11.303869Z",
     "iopub.status.busy": "2025-01-13T07:46:11.303441Z",
     "iopub.status.idle": "2025-01-13T07:46:11.309934Z",
     "shell.execute_reply": "2025-01-13T07:46:11.308911Z"
    },
    "id": "Gsw5OQCAWLzn",
    "papermill": {
     "duration": 0.021266,
     "end_time": "2025-01-13T07:46:11.312183",
     "exception": false,
     "start_time": "2025-01-13T07:46:11.290917",
     "status": "completed"
    },
    "tags": []
   },
   "outputs": [
    {
     "name": "stdout",
     "output_type": "stream",
     "text": [
      "Min Date:  2010-06-29 00:00:00\n",
      "Max Date:  2020-02-03 00:00:00\n"
     ]
    }
   ],
   "source": [
    "print(\"Min Date: \", tesla_df[\"Date\"].min())\n",
    "print(\"Max Date: \", tesla_df[\"Date\"].max())"
   ]
  },
  {
   "cell_type": "code",
   "execution_count": 11,
   "id": "a9f379da",
   "metadata": {
    "execution": {
     "iopub.execute_input": "2025-01-13T07:46:11.336402Z",
     "iopub.status.busy": "2025-01-13T07:46:11.336024Z",
     "iopub.status.idle": "2025-01-13T07:46:11.340548Z",
     "shell.execute_reply": "2025-01-13T07:46:11.339569Z"
    },
    "id": "JGi8P08mWQO1",
    "papermill": {
     "duration": 0.018817,
     "end_time": "2025-01-13T07:46:11.342532",
     "exception": false,
     "start_time": "2025-01-13T07:46:11.323715",
     "status": "completed"
    },
    "tags": []
   },
   "outputs": [],
   "source": [
    "tesla_df.index = tesla_df[\"Date\"]"
   ]
  },
  {
   "cell_type": "code",
   "execution_count": 12,
   "id": "d5b77181",
   "metadata": {
    "execution": {
     "iopub.execute_input": "2025-01-13T07:46:11.367356Z",
     "iopub.status.busy": "2025-01-13T07:46:11.366275Z",
     "iopub.status.idle": "2025-01-13T07:46:11.377575Z",
     "shell.execute_reply": "2025-01-13T07:46:11.376539Z"
    },
    "id": "YBWxX2IOWoL_",
    "papermill": {
     "duration": 0.025629,
     "end_time": "2025-01-13T07:46:11.379574",
     "exception": false,
     "start_time": "2025-01-13T07:46:11.353945",
     "status": "completed"
    },
    "tags": []
   },
   "outputs": [
    {
     "data": {
      "text/html": [
       "<div>\n",
       "<style scoped>\n",
       "    .dataframe tbody tr th:only-of-type {\n",
       "        vertical-align: middle;\n",
       "    }\n",
       "\n",
       "    .dataframe tbody tr th {\n",
       "        vertical-align: top;\n",
       "    }\n",
       "\n",
       "    .dataframe thead th {\n",
       "        text-align: right;\n",
       "    }\n",
       "</style>\n",
       "<table border=\"1\" class=\"dataframe\">\n",
       "  <thead>\n",
       "    <tr style=\"text-align: right;\">\n",
       "      <th></th>\n",
       "      <th>Date</th>\n",
       "      <th>Close</th>\n",
       "    </tr>\n",
       "    <tr>\n",
       "      <th>Date</th>\n",
       "      <th></th>\n",
       "      <th></th>\n",
       "    </tr>\n",
       "  </thead>\n",
       "  <tbody>\n",
       "    <tr>\n",
       "      <th>2010-06-29</th>\n",
       "      <td>2010-06-29</td>\n",
       "      <td>23.889999</td>\n",
       "    </tr>\n",
       "    <tr>\n",
       "      <th>2010-06-30</th>\n",
       "      <td>2010-06-30</td>\n",
       "      <td>23.830000</td>\n",
       "    </tr>\n",
       "    <tr>\n",
       "      <th>2010-07-01</th>\n",
       "      <td>2010-07-01</td>\n",
       "      <td>21.959999</td>\n",
       "    </tr>\n",
       "    <tr>\n",
       "      <th>2010-07-02</th>\n",
       "      <td>2010-07-02</td>\n",
       "      <td>19.200001</td>\n",
       "    </tr>\n",
       "    <tr>\n",
       "      <th>2010-07-06</th>\n",
       "      <td>2010-07-06</td>\n",
       "      <td>16.110001</td>\n",
       "    </tr>\n",
       "    <tr>\n",
       "      <th>...</th>\n",
       "      <td>...</td>\n",
       "      <td>...</td>\n",
       "    </tr>\n",
       "    <tr>\n",
       "      <th>2020-01-28</th>\n",
       "      <td>2020-01-28</td>\n",
       "      <td>566.900024</td>\n",
       "    </tr>\n",
       "    <tr>\n",
       "      <th>2020-01-29</th>\n",
       "      <td>2020-01-29</td>\n",
       "      <td>580.989990</td>\n",
       "    </tr>\n",
       "    <tr>\n",
       "      <th>2020-01-30</th>\n",
       "      <td>2020-01-30</td>\n",
       "      <td>640.809998</td>\n",
       "    </tr>\n",
       "    <tr>\n",
       "      <th>2020-01-31</th>\n",
       "      <td>2020-01-31</td>\n",
       "      <td>650.570007</td>\n",
       "    </tr>\n",
       "    <tr>\n",
       "      <th>2020-02-03</th>\n",
       "      <td>2020-02-03</td>\n",
       "      <td>780.000000</td>\n",
       "    </tr>\n",
       "  </tbody>\n",
       "</table>\n",
       "<p>2416 rows × 2 columns</p>\n",
       "</div>"
      ],
      "text/plain": [
       "                 Date       Close\n",
       "Date                             \n",
       "2010-06-29 2010-06-29   23.889999\n",
       "2010-06-30 2010-06-30   23.830000\n",
       "2010-07-01 2010-07-01   21.959999\n",
       "2010-07-02 2010-07-02   19.200001\n",
       "2010-07-06 2010-07-06   16.110001\n",
       "...               ...         ...\n",
       "2020-01-28 2020-01-28  566.900024\n",
       "2020-01-29 2020-01-29  580.989990\n",
       "2020-01-30 2020-01-30  640.809998\n",
       "2020-01-31 2020-01-31  650.570007\n",
       "2020-02-03 2020-02-03  780.000000\n",
       "\n",
       "[2416 rows x 2 columns]"
      ]
     },
     "execution_count": 12,
     "metadata": {},
     "output_type": "execute_result"
    }
   ],
   "source": [
    "tesla_df"
   ]
  },
  {
   "cell_type": "code",
   "execution_count": 13,
   "id": "62e40953",
   "metadata": {
    "execution": {
     "iopub.execute_input": "2025-01-13T07:46:11.404256Z",
     "iopub.status.busy": "2025-01-13T07:46:11.403886Z",
     "iopub.status.idle": "2025-01-13T07:46:11.409450Z",
     "shell.execute_reply": "2025-01-13T07:46:11.408481Z"
    },
    "id": "tgPM31WBWvcH",
    "papermill": {
     "duration": 0.020153,
     "end_time": "2025-01-13T07:46:11.411445",
     "exception": false,
     "start_time": "2025-01-13T07:46:11.391292",
     "status": "completed"
    },
    "tags": []
   },
   "outputs": [],
   "source": [
    "tesla_df.drop(\"Date\", axis=1, inplace=True)"
   ]
  },
  {
   "cell_type": "code",
   "execution_count": 14,
   "id": "2ebfb8cb",
   "metadata": {
    "execution": {
     "iopub.execute_input": "2025-01-13T07:46:11.435949Z",
     "iopub.status.busy": "2025-01-13T07:46:11.435510Z",
     "iopub.status.idle": "2025-01-13T07:46:11.446279Z",
     "shell.execute_reply": "2025-01-13T07:46:11.445136Z"
    },
    "id": "17KdnKMGWwSm",
    "papermill": {
     "duration": 0.025295,
     "end_time": "2025-01-13T07:46:11.448252",
     "exception": false,
     "start_time": "2025-01-13T07:46:11.422957",
     "status": "completed"
    },
    "tags": []
   },
   "outputs": [
    {
     "data": {
      "text/html": [
       "<div>\n",
       "<style scoped>\n",
       "    .dataframe tbody tr th:only-of-type {\n",
       "        vertical-align: middle;\n",
       "    }\n",
       "\n",
       "    .dataframe tbody tr th {\n",
       "        vertical-align: top;\n",
       "    }\n",
       "\n",
       "    .dataframe thead th {\n",
       "        text-align: right;\n",
       "    }\n",
       "</style>\n",
       "<table border=\"1\" class=\"dataframe\">\n",
       "  <thead>\n",
       "    <tr style=\"text-align: right;\">\n",
       "      <th></th>\n",
       "      <th>Close</th>\n",
       "    </tr>\n",
       "    <tr>\n",
       "      <th>Date</th>\n",
       "      <th></th>\n",
       "    </tr>\n",
       "  </thead>\n",
       "  <tbody>\n",
       "    <tr>\n",
       "      <th>2010-06-29</th>\n",
       "      <td>23.889999</td>\n",
       "    </tr>\n",
       "    <tr>\n",
       "      <th>2010-06-30</th>\n",
       "      <td>23.830000</td>\n",
       "    </tr>\n",
       "    <tr>\n",
       "      <th>2010-07-01</th>\n",
       "      <td>21.959999</td>\n",
       "    </tr>\n",
       "    <tr>\n",
       "      <th>2010-07-02</th>\n",
       "      <td>19.200001</td>\n",
       "    </tr>\n",
       "    <tr>\n",
       "      <th>2010-07-06</th>\n",
       "      <td>16.110001</td>\n",
       "    </tr>\n",
       "    <tr>\n",
       "      <th>...</th>\n",
       "      <td>...</td>\n",
       "    </tr>\n",
       "    <tr>\n",
       "      <th>2020-01-28</th>\n",
       "      <td>566.900024</td>\n",
       "    </tr>\n",
       "    <tr>\n",
       "      <th>2020-01-29</th>\n",
       "      <td>580.989990</td>\n",
       "    </tr>\n",
       "    <tr>\n",
       "      <th>2020-01-30</th>\n",
       "      <td>640.809998</td>\n",
       "    </tr>\n",
       "    <tr>\n",
       "      <th>2020-01-31</th>\n",
       "      <td>650.570007</td>\n",
       "    </tr>\n",
       "    <tr>\n",
       "      <th>2020-02-03</th>\n",
       "      <td>780.000000</td>\n",
       "    </tr>\n",
       "  </tbody>\n",
       "</table>\n",
       "<p>2416 rows × 1 columns</p>\n",
       "</div>"
      ],
      "text/plain": [
       "                 Close\n",
       "Date                  \n",
       "2010-06-29   23.889999\n",
       "2010-06-30   23.830000\n",
       "2010-07-01   21.959999\n",
       "2010-07-02   19.200001\n",
       "2010-07-06   16.110001\n",
       "...                ...\n",
       "2020-01-28  566.900024\n",
       "2020-01-29  580.989990\n",
       "2020-01-30  640.809998\n",
       "2020-01-31  650.570007\n",
       "2020-02-03  780.000000\n",
       "\n",
       "[2416 rows x 1 columns]"
      ]
     },
     "execution_count": 14,
     "metadata": {},
     "output_type": "execute_result"
    }
   ],
   "source": [
    "tesla_df"
   ]
  },
  {
   "cell_type": "code",
   "execution_count": 15,
   "id": "68f8f4b0",
   "metadata": {
    "execution": {
     "iopub.execute_input": "2025-01-13T07:46:11.473349Z",
     "iopub.status.busy": "2025-01-13T07:46:11.472954Z",
     "iopub.status.idle": "2025-01-13T07:46:11.477820Z",
     "shell.execute_reply": "2025-01-13T07:46:11.476858Z"
    },
    "id": "PliZ5OcsWxsF",
    "papermill": {
     "duration": 0.019637,
     "end_time": "2025-01-13T07:46:11.479739",
     "exception": false,
     "start_time": "2025-01-13T07:46:11.460102",
     "status": "completed"
    },
    "tags": []
   },
   "outputs": [],
   "source": [
    "result_df = tesla_df.copy()"
   ]
  },
  {
   "cell_type": "code",
   "execution_count": 16,
   "id": "e2fbe4e9",
   "metadata": {
    "execution": {
     "iopub.execute_input": "2025-01-13T07:46:11.504427Z",
     "iopub.status.busy": "2025-01-13T07:46:11.504047Z",
     "iopub.status.idle": "2025-01-13T07:46:11.890368Z",
     "shell.execute_reply": "2025-01-13T07:46:11.889239Z"
    },
    "id": "ObqHX6K2W0te",
    "papermill": {
     "duration": 0.401348,
     "end_time": "2025-01-13T07:46:11.892751",
     "exception": false,
     "start_time": "2025-01-13T07:46:11.491403",
     "status": "completed"
    },
    "tags": []
   },
   "outputs": [
    {
     "data": {
      "image/png": "[encoded data removed]",
      "text/plain": [
       "<Figure size 1400x500 with 1 Axes>"
      ]
     },
     "metadata": {},
     "output_type": "display_data"
    }
   ],
   "source": [
    "plt.figure(figsize=(14,5))\n",
    "plt.plot(tesla_df['Close'], color='blue')\n",
    "plt.title(\"Tesla Stock Price\")\n",
    "plt.xlabel(\"Time\")\n",
    "plt.ylabel(\"Stock Price\")\n",
    "plt.show()"
   ]
  },
  {
   "cell_type": "code",
   "execution_count": 17,
   "id": "40526f21",
   "metadata": {
    "execution": {
     "iopub.execute_input": "2025-01-13T07:46:11.919886Z",
     "iopub.status.busy": "2025-01-13T07:46:11.919437Z",
     "iopub.status.idle": "2025-01-13T07:46:11.924038Z",
     "shell.execute_reply": "2025-01-13T07:46:11.923063Z"
    },
    "id": "5LWFDWjNW2z2",
    "papermill": {
     "duration": 0.020098,
     "end_time": "2025-01-13T07:46:11.925916",
     "exception": false,
     "start_time": "2025-01-13T07:46:11.905818",
     "status": "completed"
    },
    "tags": []
   },
   "outputs": [],
   "source": [
    "tesla_df = tesla_df.values"
   ]
  },
  {
   "cell_type": "code",
   "execution_count": 18,
   "id": "6f74a123",
   "metadata": {
    "execution": {
     "iopub.execute_input": "2025-01-13T07:46:11.952776Z",
     "iopub.status.busy": "2025-01-13T07:46:11.952195Z",
     "iopub.status.idle": "2025-01-13T07:46:11.960049Z",
     "shell.execute_reply": "2025-01-13T07:46:11.958942Z"
    },
    "id": "jxFZkTS-W9Mm",
    "papermill": {
     "duration": 0.023595,
     "end_time": "2025-01-13T07:46:11.962136",
     "exception": false,
     "start_time": "2025-01-13T07:46:11.938541",
     "status": "completed"
    },
    "tags": []
   },
   "outputs": [
    {
     "data": {
      "text/plain": [
       "array([[23.889999],\n",
       "       [23.83    ],\n",
       "       [21.959999],\n",
       "       [19.200001],\n",
       "       [16.110001]])"
      ]
     },
     "execution_count": 18,
     "metadata": {},
     "output_type": "execute_result"
    }
   ],
   "source": [
    "tesla_df[0:5]"
   ]
  },
  {
   "cell_type": "code",
   "execution_count": 19,
   "id": "bb0cad37",
   "metadata": {
    "execution": {
     "iopub.execute_input": "2025-01-13T07:46:11.989315Z",
     "iopub.status.busy": "2025-01-13T07:46:11.988922Z",
     "iopub.status.idle": "2025-01-13T07:46:11.993579Z",
     "shell.execute_reply": "2025-01-13T07:46:11.992686Z"
    },
    "id": "iU7KJlc4XAb2",
    "papermill": {
     "duration": 0.020299,
     "end_time": "2025-01-13T07:46:11.995434",
     "exception": false,
     "start_time": "2025-01-13T07:46:11.975135",
     "status": "completed"
    },
    "tags": []
   },
   "outputs": [],
   "source": [
    "tesla_df = tesla_df.astype(\"float32\")"
   ]
  },
  {
   "cell_type": "code",
   "execution_count": 20,
   "id": "ae7423c1",
   "metadata": {
    "execution": {
     "iopub.execute_input": "2025-01-13T07:46:12.022790Z",
     "iopub.status.busy": "2025-01-13T07:46:12.022364Z",
     "iopub.status.idle": "2025-01-13T07:46:12.027791Z",
     "shell.execute_reply": "2025-01-13T07:46:12.026763Z"
    },
    "id": "r7Cywk9oXBI-",
    "papermill": {
     "duration": 0.021196,
     "end_time": "2025-01-13T07:46:12.029725",
     "exception": false,
     "start_time": "2025-01-13T07:46:12.008529",
     "status": "completed"
    },
    "tags": []
   },
   "outputs": [],
   "source": [
    "def split_data(dataframe, test_size):\n",
    "  position = int(round(len(dataframe) * (1 - test_size)))\n",
    "  train = dataframe[:position]\n",
    "  test = dataframe[position:]\n",
    "  return train, test, position"
   ]
  },
  {
   "cell_type": "code",
   "execution_count": 21,
   "id": "c34d3749",
   "metadata": {
    "execution": {
     "iopub.execute_input": "2025-01-13T07:46:12.056596Z",
     "iopub.status.busy": "2025-01-13T07:46:12.056204Z",
     "iopub.status.idle": "2025-01-13T07:46:12.060649Z",
     "shell.execute_reply": "2025-01-13T07:46:12.059756Z"
    },
    "id": "COxqfz0SZvV_",
    "papermill": {
     "duration": 0.020469,
     "end_time": "2025-01-13T07:46:12.062753",
     "exception": false,
     "start_time": "2025-01-13T07:46:12.042284",
     "status": "completed"
    },
    "tags": []
   },
   "outputs": [],
   "source": [
    "train, test, position = split_data(tesla_df, 0.20)"
   ]
  },
  {
   "cell_type": "code",
   "execution_count": 22,
   "id": "b1c894c6",
   "metadata": {
    "execution": {
     "iopub.execute_input": "2025-01-13T07:46:12.089855Z",
     "iopub.status.busy": "2025-01-13T07:46:12.089421Z",
     "iopub.status.idle": "2025-01-13T07:46:12.094690Z",
     "shell.execute_reply": "2025-01-13T07:46:12.093682Z"
    },
    "id": "jESwxnt2Z1t5",
    "papermill": {
     "duration": 0.021673,
     "end_time": "2025-01-13T07:46:12.097087",
     "exception": false,
     "start_time": "2025-01-13T07:46:12.075414",
     "status": "completed"
    },
    "tags": []
   },
   "outputs": [
    {
     "name": "stdout",
     "output_type": "stream",
     "text": [
      "(1933, 1) (483, 1)\n"
     ]
    }
   ],
   "source": [
    "print(train.shape, test.shape)"
   ]
  },
  {
   "cell_type": "code",
   "execution_count": 23,
   "id": "64445ce6",
   "metadata": {
    "execution": {
     "iopub.execute_input": "2025-01-13T07:46:12.123857Z",
     "iopub.status.busy": "2025-01-13T07:46:12.123440Z",
     "iopub.status.idle": "2025-01-13T07:46:12.127881Z",
     "shell.execute_reply": "2025-01-13T07:46:12.126960Z"
    },
    "id": "wleQDdgSZ8NZ",
    "papermill": {
     "duration": 0.02025,
     "end_time": "2025-01-13T07:46:12.129936",
     "exception": false,
     "start_time": "2025-01-13T07:46:12.109686",
     "status": "completed"
    },
    "tags": []
   },
   "outputs": [],
   "source": [
    "scaler_train = MinMaxScaler(feature_range = (0,1))"
   ]
  },
  {
   "cell_type": "code",
   "execution_count": 24,
   "id": "c15db404",
   "metadata": {
    "execution": {
     "iopub.execute_input": "2025-01-13T07:46:12.157292Z",
     "iopub.status.busy": "2025-01-13T07:46:12.156917Z",
     "iopub.status.idle": "2025-01-13T07:46:12.162471Z",
     "shell.execute_reply": "2025-01-13T07:46:12.161488Z"
    },
    "id": "Enf8wikDaNZh",
    "papermill": {
     "duration": 0.021218,
     "end_time": "2025-01-13T07:46:12.164405",
     "exception": false,
     "start_time": "2025-01-13T07:46:12.143187",
     "status": "completed"
    },
    "tags": []
   },
   "outputs": [],
   "source": [
    "train = scaler_train.fit_transform(train)"
   ]
  },
  {
   "cell_type": "code",
   "execution_count": 25,
   "id": "154c6fa6",
   "metadata": {
    "execution": {
     "iopub.execute_input": "2025-01-13T07:46:12.191692Z",
     "iopub.status.busy": "2025-01-13T07:46:12.191274Z",
     "iopub.status.idle": "2025-01-13T07:46:12.196201Z",
     "shell.execute_reply": "2025-01-13T07:46:12.195214Z"
    },
    "id": "cg-7tCn_aXTc",
    "papermill": {
     "duration": 0.020697,
     "end_time": "2025-01-13T07:46:12.198004",
     "exception": false,
     "start_time": "2025-01-13T07:46:12.177307",
     "status": "completed"
    },
    "tags": []
   },
   "outputs": [],
   "source": [
    "scaler_test = MinMaxScaler(feature_range = (0,1))"
   ]
  },
  {
   "cell_type": "code",
   "execution_count": 26,
   "id": "03878e5e",
   "metadata": {
    "execution": {
     "iopub.execute_input": "2025-01-13T07:46:12.224409Z",
     "iopub.status.busy": "2025-01-13T07:46:12.224032Z",
     "iopub.status.idle": "2025-01-13T07:46:12.229911Z",
     "shell.execute_reply": "2025-01-13T07:46:12.228872Z"
    },
    "id": "tSbuIifiabbC",
    "papermill": {
     "duration": 0.021602,
     "end_time": "2025-01-13T07:46:12.231998",
     "exception": false,
     "start_time": "2025-01-13T07:46:12.210396",
     "status": "completed"
    },
    "tags": []
   },
   "outputs": [],
   "source": [
    "test = scaler_test.fit_transform(test)"
   ]
  },
  {
   "cell_type": "code",
   "execution_count": 27,
   "id": "9c671191",
   "metadata": {
    "execution": {
     "iopub.execute_input": "2025-01-13T07:46:12.259300Z",
     "iopub.status.busy": "2025-01-13T07:46:12.258905Z",
     "iopub.status.idle": "2025-01-13T07:46:12.265743Z",
     "shell.execute_reply": "2025-01-13T07:46:12.264725Z"
    },
    "id": "X5a7m_BEagaJ",
    "papermill": {
     "duration": 0.022785,
     "end_time": "2025-01-13T07:46:12.267706",
     "exception": false,
     "start_time": "2025-01-13T07:46:12.244921",
     "status": "completed"
    },
    "tags": []
   },
   "outputs": [
    {
     "data": {
      "text/plain": [
       "array([[0.02191224],\n",
       "       [0.02174973],\n",
       "       [0.01668472],\n",
       "       [0.0092091 ],\n",
       "       [0.00083966]], dtype=float32)"
      ]
     },
     "execution_count": 27,
     "metadata": {},
     "output_type": "execute_result"
    }
   ],
   "source": [
    "train[0:5]"
   ]
  },
  {
   "cell_type": "code",
   "execution_count": 28,
   "id": "4f25e406",
   "metadata": {
    "execution": {
     "iopub.execute_input": "2025-01-13T07:46:12.294603Z",
     "iopub.status.busy": "2025-01-13T07:46:12.294231Z",
     "iopub.status.idle": "2025-01-13T07:46:12.300897Z",
     "shell.execute_reply": "2025-01-13T07:46:12.299899Z"
    },
    "id": "AeVSy_ijahnh",
    "papermill": {
     "duration": 0.022439,
     "end_time": "2025-01-13T07:46:12.302810",
     "exception": false,
     "start_time": "2025-01-13T07:46:12.280371",
     "status": "completed"
    },
    "tags": []
   },
   "outputs": [
    {
     "data": {
      "text/plain": [
       "array([[0.25685903],\n",
       "       [0.24829045],\n",
       "       [0.25511202],\n",
       "       [0.24978784],\n",
       "       [0.2465767 ]], dtype=float32)"
      ]
     },
     "execution_count": 28,
     "metadata": {},
     "output_type": "execute_result"
    }
   ],
   "source": [
    "test[0:5]"
   ]
  },
  {
   "cell_type": "code",
   "execution_count": 29,
   "id": "95124240",
   "metadata": {
    "execution": {
     "iopub.execute_input": "2025-01-13T07:46:12.329931Z",
     "iopub.status.busy": "2025-01-13T07:46:12.329421Z",
     "iopub.status.idle": "2025-01-13T07:46:12.334793Z",
     "shell.execute_reply": "2025-01-13T07:46:12.333906Z"
    },
    "id": "Gv95UqJWasHS",
    "papermill": {
     "duration": 0.021229,
     "end_time": "2025-01-13T07:46:12.336797",
     "exception": false,
     "start_time": "2025-01-13T07:46:12.315568",
     "status": "completed"
    },
    "tags": []
   },
   "outputs": [],
   "source": [
    "def create_features(data, lookback):\n",
    "  X, Y = [], []\n",
    "  for i in range(lookback, len(data)):\n",
    "    X.append(data[i-lookback:i,0])\n",
    "    Y.append(data[i,0])\n",
    "\n",
    "  return np.array(X), np.array(Y)"
   ]
  },
  {
   "cell_type": "code",
   "execution_count": 30,
   "id": "e639923c",
   "metadata": {
    "execution": {
     "iopub.execute_input": "2025-01-13T07:46:12.364077Z",
     "iopub.status.busy": "2025-01-13T07:46:12.363676Z",
     "iopub.status.idle": "2025-01-13T07:46:12.368032Z",
     "shell.execute_reply": "2025-01-13T07:46:12.367056Z"
    },
    "id": "e36Ux4_CbASm",
    "papermill": {
     "duration": 0.020348,
     "end_time": "2025-01-13T07:46:12.369986",
     "exception": false,
     "start_time": "2025-01-13T07:46:12.349638",
     "status": "completed"
    },
    "tags": []
   },
   "outputs": [],
   "source": [
    "lookback = 20"
   ]
  },
  {
   "cell_type": "code",
   "execution_count": 31,
   "id": "f77218b3",
   "metadata": {
    "execution": {
     "iopub.execute_input": "2025-01-13T07:46:12.397616Z",
     "iopub.status.busy": "2025-01-13T07:46:12.397229Z",
     "iopub.status.idle": "2025-01-13T07:46:12.404994Z",
     "shell.execute_reply": "2025-01-13T07:46:12.404226Z"
    },
    "id": "Xd8JMdaWbCzp",
    "papermill": {
     "duration": 0.024071,
     "end_time": "2025-01-13T07:46:12.406948",
     "exception": false,
     "start_time": "2025-01-13T07:46:12.382877",
     "status": "completed"
    },
    "tags": []
   },
   "outputs": [],
   "source": [
    "X_train, y_train = create_features(train, lookback)"
   ]
  },
  {
   "cell_type": "code",
   "execution_count": 32,
   "id": "b2e154f7",
   "metadata": {
    "execution": {
     "iopub.execute_input": "2025-01-13T07:46:12.487888Z",
     "iopub.status.busy": "2025-01-13T07:46:12.487485Z",
     "iopub.status.idle": "2025-01-13T07:46:12.493009Z",
     "shell.execute_reply": "2025-01-13T07:46:12.492156Z"
    },
    "id": "wHgq8DT5bF_Z",
    "papermill": {
     "duration": 0.074654,
     "end_time": "2025-01-13T07:46:12.494799",
     "exception": false,
     "start_time": "2025-01-13T07:46:12.420145",
     "status": "completed"
    },
    "tags": []
   },
   "outputs": [],
   "source": [
    "X_test, y_test = create_features(test, lookback)"
   ]
  },
  {
   "cell_type": "code",
   "execution_count": 33,
   "id": "9944b30b",
   "metadata": {
    "execution": {
     "iopub.execute_input": "2025-01-13T07:46:12.521554Z",
     "iopub.status.busy": "2025-01-13T07:46:12.521167Z",
     "iopub.status.idle": "2025-01-13T07:46:12.526209Z",
     "shell.execute_reply": "2025-01-13T07:46:12.525098Z"
    },
    "id": "zYQy_33TbKdb",
    "papermill": {
     "duration": 0.021879,
     "end_time": "2025-01-13T07:46:12.529249",
     "exception": false,
     "start_time": "2025-01-13T07:46:12.507370",
     "status": "completed"
    },
    "tags": []
   },
   "outputs": [
    {
     "name": "stdout",
     "output_type": "stream",
     "text": [
      "(1913, 20) (1913,) (463, 20) (463,)\n"
     ]
    }
   ],
   "source": [
    "print(X_train.shape, y_train.shape, X_test.shape, y_test.shape)"
   ]
  },
  {
   "cell_type": "code",
   "execution_count": 34,
   "id": "5921520b",
   "metadata": {
    "execution": {
     "iopub.execute_input": "2025-01-13T07:46:12.556651Z",
     "iopub.status.busy": "2025-01-13T07:46:12.556275Z",
     "iopub.status.idle": "2025-01-13T07:46:12.563806Z",
     "shell.execute_reply": "2025-01-13T07:46:12.562715Z"
    },
    "id": "sI1k-K6bTKuw",
    "papermill": {
     "duration": 0.023725,
     "end_time": "2025-01-13T07:46:12.565841",
     "exception": false,
     "start_time": "2025-01-13T07:46:12.542116",
     "status": "completed"
    },
    "tags": []
   },
   "outputs": [
    {
     "data": {
      "text/plain": [
       "array([[0.02191224, 0.02174973, 0.01668472, 0.0092091 , 0.00083966,\n",
       "        0.        , 0.00449621, 0.00433369, 0.0033857 , 0.00633803,\n",
       "        0.01094258, 0.011078  , 0.01310942, 0.0165493 , 0.01218851,\n",
       "        0.01197183, 0.01408451, 0.01486999, 0.01394908, 0.01286566],\n",
       "       [0.02174973, 0.01668472, 0.0092091 , 0.00083966, 0.        ,\n",
       "        0.00449621, 0.00433369, 0.0033857 , 0.00633803, 0.01094258,\n",
       "        0.011078  , 0.01310942, 0.0165493 , 0.01218851, 0.01197183,\n",
       "        0.01408451, 0.01486999, 0.01394908, 0.01286566, 0.01332611],\n",
       "       [0.01668472, 0.0092091 , 0.00083966, 0.        , 0.00449621,\n",
       "        0.00433369, 0.0033857 , 0.00633803, 0.01094258, 0.011078  ,\n",
       "        0.01310942, 0.0165493 , 0.01218851, 0.01197183, 0.01408451,\n",
       "        0.01486999, 0.01394908, 0.01286566, 0.01332611, 0.01232395],\n",
       "       [0.0092091 , 0.00083966, 0.        , 0.00449621, 0.00433369,\n",
       "        0.0033857 , 0.00633803, 0.01094258, 0.011078  , 0.01310942,\n",
       "        0.0165493 , 0.01218851, 0.01197183, 0.01408451, 0.01486999,\n",
       "        0.01394908, 0.01286566, 0.01332611, 0.01232395, 0.01121344],\n",
       "       [0.00083966, 0.        , 0.00449621, 0.00433369, 0.0033857 ,\n",
       "        0.00633803, 0.01094258, 0.011078  , 0.01310942, 0.0165493 ,\n",
       "        0.01218851, 0.01197183, 0.01408451, 0.01486999, 0.01394908,\n",
       "        0.01286566, 0.01332611, 0.01232395, 0.01121344, 0.01386782]],\n",
       "      dtype=float32)"
      ]
     },
     "execution_count": 34,
     "metadata": {},
     "output_type": "execute_result"
    }
   ],
   "source": [
    "X_train[0:5]"
   ]
  },
  {
   "cell_type": "code",
   "execution_count": 35,
   "id": "366e8f01",
   "metadata": {
    "execution": {
     "iopub.execute_input": "2025-01-13T07:46:12.594292Z",
     "iopub.status.busy": "2025-01-13T07:46:12.593321Z",
     "iopub.status.idle": "2025-01-13T07:46:12.600333Z",
     "shell.execute_reply": "2025-01-13T07:46:12.599361Z"
    },
    "id": "vY5hCVQHTg9u",
    "papermill": {
     "duration": 0.023343,
     "end_time": "2025-01-13T07:46:12.602274",
     "exception": false,
     "start_time": "2025-01-13T07:46:12.578931",
     "status": "completed"
    },
    "tags": []
   },
   "outputs": [
    {
     "data": {
      "text/plain": [
       "array([0.01332611, 0.01232395, 0.01121344, 0.01386782, 0.01665764],\n",
       "      dtype=float32)"
      ]
     },
     "execution_count": 35,
     "metadata": {},
     "output_type": "execute_result"
    }
   ],
   "source": [
    "y_train[0:5]"
   ]
  },
  {
   "cell_type": "code",
   "execution_count": 36,
   "id": "50950cac",
   "metadata": {
    "execution": {
     "iopub.execute_input": "2025-01-13T07:46:12.630591Z",
     "iopub.status.busy": "2025-01-13T07:46:12.630151Z",
     "iopub.status.idle": "2025-01-13T07:46:12.636038Z",
     "shell.execute_reply": "2025-01-13T07:46:12.634933Z"
    },
    "id": "yvf-4kLybad5",
    "papermill": {
     "duration": 0.022417,
     "end_time": "2025-01-13T07:46:12.638058",
     "exception": false,
     "start_time": "2025-01-13T07:46:12.615641",
     "status": "completed"
    },
    "tags": []
   },
   "outputs": [],
   "source": [
    "X_train = np.reshape(X_train, (X_train.shape[0], 1, X_train.shape[1]))\n",
    "X_test = np.reshape(X_test, (X_test.shape[0], 1, X_test.shape[1]))\n",
    "y_train = y_train.reshape(-1,1)\n",
    "y_test = y_test.reshape(-1,1)"
   ]
  },
  {
   "cell_type": "code",
   "execution_count": 37,
   "id": "554c93a0",
   "metadata": {
    "execution": {
     "iopub.execute_input": "2025-01-13T07:46:12.666289Z",
     "iopub.status.busy": "2025-01-13T07:46:12.665349Z",
     "iopub.status.idle": "2025-01-13T07:46:12.671019Z",
     "shell.execute_reply": "2025-01-13T07:46:12.669956Z"
    },
    "id": "D2ltv0Edb3wz",
    "papermill": {
     "duration": 0.0218,
     "end_time": "2025-01-13T07:46:12.672987",
     "exception": false,
     "start_time": "2025-01-13T07:46:12.651187",
     "status": "completed"
    },
    "tags": []
   },
   "outputs": [
    {
     "name": "stdout",
     "output_type": "stream",
     "text": [
      "(1913, 1, 20) (1913, 1) (463, 1, 20) (463, 1)\n"
     ]
    }
   ],
   "source": [
    "print(X_train.shape, y_train.shape, X_test.shape, y_test.shape)"
   ]
  },
  {
   "cell_type": "markdown",
   "id": "adeb5af4",
   "metadata": {
    "id": "DtsN3xazcIAn",
    "papermill": {
     "duration": 0.0129,
     "end_time": "2025-01-13T07:46:12.698938",
     "exception": false,
     "start_time": "2025-01-13T07:46:12.686038",
     "status": "completed"
    },
    "tags": []
   },
   "source": [
    "## Modelling"
   ]
  },
  {
   "cell_type": "code",
   "execution_count": 38,
   "id": "e2bd5373",
   "metadata": {
    "execution": {
     "iopub.execute_input": "2025-01-13T07:46:12.727162Z",
     "iopub.status.busy": "2025-01-13T07:46:12.726375Z",
     "iopub.status.idle": "2025-01-13T07:46:12.844061Z",
     "shell.execute_reply": "2025-01-13T07:46:12.842971Z"
    },
    "id": "QtbQx4G9cI_z",
    "papermill": {
     "duration": 0.134395,
     "end_time": "2025-01-13T07:46:12.846502",
     "exception": false,
     "start_time": "2025-01-13T07:46:12.712107",
     "status": "completed"
    },
    "tags": []
   },
   "outputs": [],
   "source": [
    "model = Sequential()\n",
    "\n",
    "model.add(LSTM(units = 50,\n",
    "                    activation = 'relu',\n",
    "                    input_shape=(X_train.shape[1], lookback)))\n",
    "\n",
    "model.add(Dropout(0.2))\n",
    "\n",
    "model.add(Dense(1))\n"
   ]
  },
  {
   "cell_type": "code",
   "execution_count": 39,
   "id": "9e000bf1",
   "metadata": {
    "execution": {
     "iopub.execute_input": "2025-01-13T07:46:12.874465Z",
     "iopub.status.busy": "2025-01-13T07:46:12.873806Z",
     "iopub.status.idle": "2025-01-13T07:46:12.890940Z",
     "shell.execute_reply": "2025-01-13T07:46:12.889964Z"
    },
    "id": "RQFXIkDbciE6",
    "papermill": {
     "duration": 0.033138,
     "end_time": "2025-01-13T07:46:12.892708",
     "exception": false,
     "start_time": "2025-01-13T07:46:12.859570",
     "status": "completed"
    },
    "tags": []
   },
   "outputs": [
    {
     "data": {
      "text/html": [
       "<pre style=\"white-space:pre;overflow-x:auto;line-height:normal;font-family:Menlo,'DejaVu Sans Mono',consolas,'Courier New',monospace\"><span style=\"font-weight: bold\">Model: \"sequential\"</span>\n",
       "</pre>\n"
      ],
      "text/plain": [
       "\u001b[1mModel: \"sequential\"\u001b[0m\n"
      ]
     },
     "metadata": {},
     "output_type": "display_data"
    },
    {
     "data": {
      "text/html": [
       "<pre style=\"white-space:pre;overflow-x:auto;line-height:normal;font-family:Menlo,'DejaVu Sans Mono',consolas,'Courier New',monospace\">┏━━━━━━━━━━━━━━━━━━━━━━━━━━━━━━━━━┳━━━━━━━━━━━━━━━━━━━━━━━━┳━━━━━━━━━━━━━━━┓\n",
       "┃<span style=\"font-weight: bold\"> Layer (type)                    </span>┃<span style=\"font-weight: bold\"> Output Shape           </span>┃<span style=\"font-weight: bold\">       Param # </span>┃\n",
       "┡━━━━━━━━━━━━━━━━━━━━━━━━━━━━━━━━━╇━━━━━━━━━━━━━━━━━━━━━━━━╇━━━━━━━━━━━━━━━┩\n",
       "│ lstm (<span style=\"color: #0087ff; text-decoration-color: #0087ff\">LSTM</span>)                     │ (<span style=\"color: #00d7ff; text-decoration-color: #00d7ff\">None</span>, <span style=\"color: #00af00; text-decoration-color: #00af00\">50</span>)             │        <span style=\"color: #00af00; text-decoration-color: #00af00\">14,200</span> │\n",
       "├─────────────────────────────────┼────────────────────────┼───────────────┤\n",
       "│ dropout (<span style=\"color: #0087ff; text-decoration-color: #0087ff\">Dropout</span>)               │ (<span style=\"color: #00d7ff; text-decoration-color: #00d7ff\">None</span>, <span style=\"color: #00af00; text-decoration-color: #00af00\">50</span>)             │             <span style=\"color: #00af00; text-decoration-color: #00af00\">0</span> │\n",
       "├─────────────────────────────────┼────────────────────────┼───────────────┤\n",
       "│ dense (<span style=\"color: #0087ff; text-decoration-color: #0087ff\">Dense</span>)                   │ (<span style=\"color: #00d7ff; text-decoration-color: #00d7ff\">None</span>, <span style=\"color: #00af00; text-decoration-color: #00af00\">1</span>)              │            <span style=\"color: #00af00; text-decoration-color: #00af00\">51</span> │\n",
       "└─────────────────────────────────┴────────────────────────┴───────────────┘\n",
       "</pre>\n"
      ],
      "text/plain": [
       "┏━━━━━━━━━━━━━━━━━━━━━━━━━━━━━━━━━┳━━━━━━━━━━━━━━━━━━━━━━━━┳━━━━━━━━━━━━━━━┓\n",
       "┃\u001b[1m \u001b[0m\u001b[1mLayer (type)                   \u001b[0m\u001b[1m \u001b[0m┃\u001b[1m \u001b[0m\u001b[1mOutput Shape          \u001b[0m\u001b[1m \u001b[0m┃\u001b[1m \u001b[0m\u001b[1m      Param #\u001b[0m\u001b[1m \u001b[0m┃\n",
       "┡━━━━━━━━━━━━━━━━━━━━━━━━━━━━━━━━━╇━━━━━━━━━━━━━━━━━━━━━━━━╇━━━━━━━━━━━━━━━┩\n",
       "│ lstm (\u001b[38;5;33mLSTM\u001b[0m)                     │ (\u001b[38;5;45mNone\u001b[0m, \u001b[38;5;34m50\u001b[0m)             │        \u001b[38;5;34m14,200\u001b[0m │\n",
       "├─────────────────────────────────┼────────────────────────┼───────────────┤\n",
       "│ dropout (\u001b[38;5;33mDropout\u001b[0m)               │ (\u001b[38;5;45mNone\u001b[0m, \u001b[38;5;34m50\u001b[0m)             │             \u001b[38;5;34m0\u001b[0m │\n",
       "├─────────────────────────────────┼────────────────────────┼───────────────┤\n",
       "│ dense (\u001b[38;5;33mDense\u001b[0m)                   │ (\u001b[38;5;45mNone\u001b[0m, \u001b[38;5;34m1\u001b[0m)              │            \u001b[38;5;34m51\u001b[0m │\n",
       "└─────────────────────────────────┴────────────────────────┴───────────────┘\n"
      ]
     },
     "metadata": {},
     "output_type": "display_data"
    },
    {
     "data": {
      "text/html": [
       "<pre style=\"white-space:pre;overflow-x:auto;line-height:normal;font-family:Menlo,'DejaVu Sans Mono',consolas,'Courier New',monospace\"><span style=\"font-weight: bold\"> Total params: </span><span style=\"color: #00af00; text-decoration-color: #00af00\">14,251</span> (55.67 KB)\n",
       "</pre>\n"
      ],
      "text/plain": [
       "\u001b[1m Total params: \u001b[0m\u001b[38;5;34m14,251\u001b[0m (55.67 KB)\n"
      ]
     },
     "metadata": {},
     "output_type": "display_data"
    },
    {
     "data": {
      "text/html": [
       "<pre style=\"white-space:pre;overflow-x:auto;line-height:normal;font-family:Menlo,'DejaVu Sans Mono',consolas,'Courier New',monospace\"><span style=\"font-weight: bold\"> Trainable params: </span><span style=\"color: #00af00; text-decoration-color: #00af00\">14,251</span> (55.67 KB)\n",
       "</pre>\n"
      ],
      "text/plain": [
       "\u001b[1m Trainable params: \u001b[0m\u001b[38;5;34m14,251\u001b[0m (55.67 KB)\n"
      ]
     },
     "metadata": {},
     "output_type": "display_data"
    },
    {
     "data": {
      "text/html": [
       "<pre style=\"white-space:pre;overflow-x:auto;line-height:normal;font-family:Menlo,'DejaVu Sans Mono',consolas,'Courier New',monospace\"><span style=\"font-weight: bold\"> Non-trainable params: </span><span style=\"color: #00af00; text-decoration-color: #00af00\">0</span> (0.00 B)\n",
       "</pre>\n"
      ],
      "text/plain": [
       "\u001b[1m Non-trainable params: \u001b[0m\u001b[38;5;34m0\u001b[0m (0.00 B)\n"
      ]
     },
     "metadata": {},
     "output_type": "display_data"
    }
   ],
   "source": [
    "model.summary()"
   ]
  },
  {
   "cell_type": "code",
   "execution_count": 40,
   "id": "577091fd",
   "metadata": {
    "execution": {
     "iopub.execute_input": "2025-01-13T07:46:12.921850Z",
     "iopub.status.busy": "2025-01-13T07:46:12.921423Z",
     "iopub.status.idle": "2025-01-13T07:46:12.935389Z",
     "shell.execute_reply": "2025-01-13T07:46:12.934298Z"
    },
    "id": "NE6_O7IwclkT",
    "papermill": {
     "duration": 0.031009,
     "end_time": "2025-01-13T07:46:12.937637",
     "exception": false,
     "start_time": "2025-01-13T07:46:12.906628",
     "status": "completed"
    },
    "tags": []
   },
   "outputs": [],
   "source": [
    "model.compile(loss='mean_squared_error', optimizer='adam')"
   ]
  },
  {
   "cell_type": "code",
   "execution_count": 41,
   "id": "f929aa05",
   "metadata": {
    "execution": {
     "iopub.execute_input": "2025-01-13T07:46:12.966799Z",
     "iopub.status.busy": "2025-01-13T07:46:12.966369Z",
     "iopub.status.idle": "2025-01-13T07:46:12.971576Z",
     "shell.execute_reply": "2025-01-13T07:46:12.970506Z"
    },
    "id": "JLqjYZudc3Is",
    "papermill": {
     "duration": 0.022267,
     "end_time": "2025-01-13T07:46:12.973698",
     "exception": false,
     "start_time": "2025-01-13T07:46:12.951431",
     "status": "completed"
    },
    "tags": []
   },
   "outputs": [],
   "source": [
    "callbacks = (EarlyStopping(monitor='val_loss', patience=10, verbose=1, mode='min'),\n",
    "            ModelCheckpoint(filepath='mymodel.keras', monitor='val_loss', mode='min',\n",
    "            save_best_only = True, save_weights_only = False, verbose = 1))"
   ]
  },
  {
   "cell_type": "code",
   "execution_count": 42,
   "id": "96fe85de",
   "metadata": {
    "execution": {
     "iopub.execute_input": "2025-01-13T07:46:13.002763Z",
     "iopub.status.busy": "2025-01-13T07:46:13.002374Z",
     "iopub.status.idle": "2025-01-13T07:46:21.533276Z",
     "shell.execute_reply": "2025-01-13T07:46:21.532260Z"
    },
    "id": "7Pv-Fb9FdSf7",
    "papermill": {
     "duration": 8.54849,
     "end_time": "2025-01-13T07:46:21.535820",
     "exception": false,
     "start_time": "2025-01-13T07:46:12.987330",
     "status": "completed"
    },
    "tags": []
   },
   "outputs": [
    {
     "name": "stdout",
     "output_type": "stream",
     "text": [
      "Epoch 1/100\n",
      "\u001b[1m87/96\u001b[0m \u001b[32m━━━━━━━━━━━━━━━━━━\u001b[0m\u001b[37m━━\u001b[0m \u001b[1m0s\u001b[0m 2ms/step - loss: 0.0034\n",
      "Epoch 1: val_loss improved from inf to 0.00417, saving model to mymodel.keras\n",
      "\u001b[1m96/96\u001b[0m \u001b[32m━━━━━━━━━━━━━━━━━━━━\u001b[0m\u001b[37m\u001b[0m \u001b[1m2s\u001b[0m 5ms/step - loss: 0.0039 - val_loss: 0.0042\n",
      "Epoch 2/100\n",
      "\u001b[1m85/96\u001b[0m \u001b[32m━━━━━━━━━━━━━━━━━\u001b[0m\u001b[37m━━━\u001b[0m \u001b[1m0s\u001b[0m 2ms/step - loss: 0.0039\n",
      "Epoch 2: val_loss improved from 0.00417 to 0.00359, saving model to mymodel.keras\n",
      "\u001b[1m96/96\u001b[0m \u001b[32m━━━━━━━━━━━━━━━━━━━━\u001b[0m\u001b[37m\u001b[0m \u001b[1m0s\u001b[0m 3ms/step - loss: 0.0042 - val_loss: 0.0036\n",
      "Epoch 3/100\n",
      "\u001b[1m84/96\u001b[0m \u001b[32m━━━━━━━━━━━━━━━━━\u001b[0m\u001b[37m━━━\u001b[0m \u001b[1m0s\u001b[0m 2ms/step - loss: 0.0027\n",
      "Epoch 3: val_loss improved from 0.00359 to 0.00309, saving model to mymodel.keras\n",
      "\u001b[1m96/96\u001b[0m \u001b[32m━━━━━━━━━━━━━━━━━━━━\u001b[0m\u001b[37m\u001b[0m \u001b[1m0s\u001b[0m 3ms/step - loss: 0.0030 - val_loss: 0.0031\n",
      "Epoch 4/100\n",
      "\u001b[1m84/96\u001b[0m \u001b[32m━━━━━━━━━━━━━━━━━\u001b[0m\u001b[37m━━━\u001b[0m \u001b[1m0s\u001b[0m 2ms/step - loss: 0.0018\n",
      "Epoch 4: val_loss did not improve from 0.00309\n",
      "\u001b[1m96/96\u001b[0m \u001b[32m━━━━━━━━━━━━━━━━━━━━\u001b[0m\u001b[37m\u001b[0m \u001b[1m0s\u001b[0m 2ms/step - loss: 0.0021 - val_loss: 0.0032\n",
      "Epoch 5/100\n",
      "\u001b[1m86/96\u001b[0m \u001b[32m━━━━━━━━━━━━━━━━━\u001b[0m\u001b[37m━━━\u001b[0m \u001b[1m0s\u001b[0m 2ms/step - loss: 0.0016    \n",
      "Epoch 5: val_loss improved from 0.00309 to 0.00296, saving model to mymodel.keras\n",
      "\u001b[1m96/96\u001b[0m \u001b[32m━━━━━━━━━━━━━━━━━━━━\u001b[0m\u001b[37m\u001b[0m \u001b[1m0s\u001b[0m 3ms/step - loss: 0.0019 - val_loss: 0.0030\n",
      "Epoch 6/100\n",
      "\u001b[1m86/96\u001b[0m \u001b[32m━━━━━━━━━━━━━━━━━\u001b[0m\u001b[37m━━━\u001b[0m \u001b[1m0s\u001b[0m 2ms/step - loss: 0.0017\n",
      "Epoch 6: val_loss improved from 0.00296 to 0.00282, saving model to mymodel.keras\n",
      "\u001b[1m96/96\u001b[0m \u001b[32m━━━━━━━━━━━━━━━━━━━━\u001b[0m\u001b[37m\u001b[0m \u001b[1m0s\u001b[0m 3ms/step - loss: 0.0020 - val_loss: 0.0028\n",
      "Epoch 7/100\n",
      "\u001b[1m83/96\u001b[0m \u001b[32m━━━━━━━━━━━━━━━━━\u001b[0m\u001b[37m━━━\u001b[0m \u001b[1m0s\u001b[0m 2ms/step - loss: 0.0015    \n",
      "Epoch 7: val_loss improved from 0.00282 to 0.00268, saving model to mymodel.keras\n",
      "\u001b[1m96/96\u001b[0m \u001b[32m━━━━━━━━━━━━━━━━━━━━\u001b[0m\u001b[37m\u001b[0m \u001b[1m0s\u001b[0m 3ms/step - loss: 0.0018 - val_loss: 0.0027\n",
      "Epoch 8/100\n",
      "\u001b[1m77/96\u001b[0m \u001b[32m━━━━━━━━━━━━━━━━\u001b[0m\u001b[37m━━━━\u001b[0m \u001b[1m0s\u001b[0m 2ms/step - loss: 0.0015    \n",
      "Epoch 8: val_loss did not improve from 0.00268\n",
      "\u001b[1m96/96\u001b[0m \u001b[32m━━━━━━━━━━━━━━━━━━━━\u001b[0m\u001b[37m\u001b[0m \u001b[1m0s\u001b[0m 3ms/step - loss: 0.0019 - val_loss: 0.0030\n",
      "Epoch 9/100\n",
      "\u001b[1m84/96\u001b[0m \u001b[32m━━━━━━━━━━━━━━━━━\u001b[0m\u001b[37m━━━\u001b[0m \u001b[1m0s\u001b[0m 2ms/step - loss: 0.0018\n",
      "Epoch 9: val_loss improved from 0.00268 to 0.00246, saving model to mymodel.keras\n",
      "\u001b[1m96/96\u001b[0m \u001b[32m━━━━━━━━━━━━━━━━━━━━\u001b[0m\u001b[37m\u001b[0m \u001b[1m0s\u001b[0m 3ms/step - loss: 0.0022 - val_loss: 0.0025\n",
      "Epoch 10/100\n",
      "\u001b[1m83/96\u001b[0m \u001b[32m━━━━━━━━━━━━━━━━━\u001b[0m\u001b[37m━━━\u001b[0m \u001b[1m0s\u001b[0m 2ms/step - loss: 0.0013    \n",
      "Epoch 10: val_loss did not improve from 0.00246\n",
      "\u001b[1m96/96\u001b[0m \u001b[32m━━━━━━━━━━━━━━━━━━━━\u001b[0m\u001b[37m\u001b[0m \u001b[1m0s\u001b[0m 2ms/step - loss: 0.0016 - val_loss: 0.0027\n",
      "Epoch 11/100\n",
      "\u001b[1m78/96\u001b[0m \u001b[32m━━━━━━━━━━━━━━━━\u001b[0m\u001b[37m━━━━\u001b[0m \u001b[1m0s\u001b[0m 2ms/step - loss: 0.0015\n",
      "Epoch 11: val_loss did not improve from 0.00246\n",
      "\u001b[1m96/96\u001b[0m \u001b[32m━━━━━━━━━━━━━━━━━━━━\u001b[0m\u001b[37m\u001b[0m \u001b[1m0s\u001b[0m 3ms/step - loss: 0.0019 - val_loss: 0.0025\n",
      "Epoch 12/100\n",
      "\u001b[1m86/96\u001b[0m \u001b[32m━━━━━━━━━━━━━━━━━\u001b[0m\u001b[37m━━━\u001b[0m \u001b[1m0s\u001b[0m 2ms/step - loss: 0.0017\n",
      "Epoch 12: val_loss did not improve from 0.00246\n",
      "\u001b[1m96/96\u001b[0m \u001b[32m━━━━━━━━━━━━━━━━━━━━\u001b[0m\u001b[37m\u001b[0m \u001b[1m0s\u001b[0m 2ms/step - loss: 0.0019 - val_loss: 0.0025\n",
      "Epoch 13/100\n",
      "\u001b[1m87/96\u001b[0m \u001b[32m━━━━━━━━━━━━━━━━━━\u001b[0m\u001b[37m━━\u001b[0m \u001b[1m0s\u001b[0m 2ms/step - loss: 0.0017\n",
      "Epoch 13: val_loss did not improve from 0.00246\n",
      "\u001b[1m96/96\u001b[0m \u001b[32m━━━━━━━━━━━━━━━━━━━━\u001b[0m\u001b[37m\u001b[0m \u001b[1m0s\u001b[0m 2ms/step - loss: 0.0019 - val_loss: 0.0029\n",
      "Epoch 14/100\n",
      "\u001b[1m86/96\u001b[0m \u001b[32m━━━━━━━━━━━━━━━━━\u001b[0m\u001b[37m━━━\u001b[0m \u001b[1m0s\u001b[0m 2ms/step - loss: 0.0016\n",
      "Epoch 14: val_loss improved from 0.00246 to 0.00220, saving model to mymodel.keras\n",
      "\u001b[1m96/96\u001b[0m \u001b[32m━━━━━━━━━━━━━━━━━━━━\u001b[0m\u001b[37m\u001b[0m \u001b[1m0s\u001b[0m 3ms/step - loss: 0.0018 - val_loss: 0.0022\n",
      "Epoch 15/100\n",
      "\u001b[1m84/96\u001b[0m \u001b[32m━━━━━━━━━━━━━━━━━\u001b[0m\u001b[37m━━━\u001b[0m \u001b[1m0s\u001b[0m 2ms/step - loss: 0.0014    \n",
      "Epoch 15: val_loss improved from 0.00220 to 0.00209, saving model to mymodel.keras\n",
      "\u001b[1m96/96\u001b[0m \u001b[32m━━━━━━━━━━━━━━━━━━━━\u001b[0m\u001b[37m\u001b[0m \u001b[1m0s\u001b[0m 3ms/step - loss: 0.0017 - val_loss: 0.0021\n",
      "Epoch 16/100\n",
      "\u001b[1m85/96\u001b[0m \u001b[32m━━━━━━━━━━━━━━━━━\u001b[0m\u001b[37m━━━\u001b[0m \u001b[1m0s\u001b[0m 2ms/step - loss: 0.0015    \n",
      "Epoch 16: val_loss did not improve from 0.00209\n",
      "\u001b[1m96/96\u001b[0m \u001b[32m━━━━━━━━━━━━━━━━━━━━\u001b[0m\u001b[37m\u001b[0m \u001b[1m0s\u001b[0m 2ms/step - loss: 0.0018 - val_loss: 0.0032\n",
      "Epoch 17/100\n",
      "\u001b[1m84/96\u001b[0m \u001b[32m━━━━━━━━━━━━━━━━━\u001b[0m\u001b[37m━━━\u001b[0m \u001b[1m0s\u001b[0m 2ms/step - loss: 0.0021\n",
      "Epoch 17: val_loss did not improve from 0.00209\n",
      "\u001b[1m96/96\u001b[0m \u001b[32m━━━━━━━━━━━━━━━━━━━━\u001b[0m\u001b[37m\u001b[0m \u001b[1m0s\u001b[0m 2ms/step - loss: 0.0025 - val_loss: 0.0074\n",
      "Epoch 18/100\n",
      "\u001b[1m86/96\u001b[0m \u001b[32m━━━━━━━━━━━━━━━━━\u001b[0m\u001b[37m━━━\u001b[0m \u001b[1m0s\u001b[0m 2ms/step - loss: 0.0026\n",
      "Epoch 18: val_loss did not improve from 0.00209\n",
      "\u001b[1m96/96\u001b[0m \u001b[32m━━━━━━━━━━━━━━━━━━━━\u001b[0m\u001b[37m\u001b[0m \u001b[1m0s\u001b[0m 2ms/step - loss: 0.0028 - val_loss: 0.0069\n",
      "Epoch 19/100\n",
      "\u001b[1m84/96\u001b[0m \u001b[32m━━━━━━━━━━━━━━━━━\u001b[0m\u001b[37m━━━\u001b[0m \u001b[1m0s\u001b[0m 2ms/step - loss: 0.0023\n",
      "Epoch 19: val_loss did not improve from 0.00209\n",
      "\u001b[1m96/96\u001b[0m \u001b[32m━━━━━━━━━━━━━━━━━━━━\u001b[0m\u001b[37m\u001b[0m \u001b[1m0s\u001b[0m 2ms/step - loss: 0.0027 - val_loss: 0.0092\n",
      "Epoch 20/100\n",
      "\u001b[1m84/96\u001b[0m \u001b[32m━━━━━━━━━━━━━━━━━\u001b[0m\u001b[37m━━━\u001b[0m \u001b[1m0s\u001b[0m 2ms/step - loss: 0.0022\n",
      "Epoch 20: val_loss did not improve from 0.00209\n",
      "\u001b[1m96/96\u001b[0m \u001b[32m━━━━━━━━━━━━━━━━━━━━\u001b[0m\u001b[37m\u001b[0m \u001b[1m0s\u001b[0m 2ms/step - loss: 0.0025 - val_loss: 0.0082\n",
      "Epoch 21/100\n",
      "\u001b[1m85/96\u001b[0m \u001b[32m━━━━━━━━━━━━━━━━━\u001b[0m\u001b[37m━━━\u001b[0m \u001b[1m0s\u001b[0m 2ms/step - loss: 0.0019\n",
      "Epoch 21: val_loss did not improve from 0.00209\n",
      "\u001b[1m96/96\u001b[0m \u001b[32m━━━━━━━━━━━━━━━━━━━━\u001b[0m\u001b[37m\u001b[0m \u001b[1m0s\u001b[0m 2ms/step - loss: 0.0022 - val_loss: 0.0064\n",
      "Epoch 22/100\n",
      "\u001b[1m84/96\u001b[0m \u001b[32m━━━━━━━━━━━━━━━━━\u001b[0m\u001b[37m━━━\u001b[0m \u001b[1m0s\u001b[0m 2ms/step - loss: 0.0016\n",
      "Epoch 22: val_loss did not improve from 0.00209\n",
      "\u001b[1m96/96\u001b[0m \u001b[32m━━━━━━━━━━━━━━━━━━━━\u001b[0m\u001b[37m\u001b[0m \u001b[1m0s\u001b[0m 2ms/step - loss: 0.0020 - val_loss: 0.0081\n",
      "Epoch 23/100\n",
      "\u001b[1m80/96\u001b[0m \u001b[32m━━━━━━━━━━━━━━━━\u001b[0m\u001b[37m━━━━\u001b[0m \u001b[1m0s\u001b[0m 2ms/step - loss: 0.0018\n",
      "Epoch 23: val_loss did not improve from 0.00209\n",
      "\u001b[1m96/96\u001b[0m \u001b[32m━━━━━━━━━━━━━━━━━━━━\u001b[0m\u001b[37m\u001b[0m \u001b[1m0s\u001b[0m 2ms/step - loss: 0.0022 - val_loss: 0.0068\n",
      "Epoch 24/100\n",
      "\u001b[1m83/96\u001b[0m \u001b[32m━━━━━━━━━━━━━━━━━\u001b[0m\u001b[37m━━━\u001b[0m \u001b[1m0s\u001b[0m 2ms/step - loss: 0.0018\n",
      "Epoch 24: val_loss did not improve from 0.00209\n",
      "\u001b[1m96/96\u001b[0m \u001b[32m━━━━━━━━━━━━━━━━━━━━\u001b[0m\u001b[37m\u001b[0m \u001b[1m0s\u001b[0m 2ms/step - loss: 0.0022 - val_loss: 0.0035\n",
      "Epoch 25/100\n",
      "\u001b[1m85/96\u001b[0m \u001b[32m━━━━━━━━━━━━━━━━━\u001b[0m\u001b[37m━━━\u001b[0m \u001b[1m0s\u001b[0m 2ms/step - loss: 0.0013    \n",
      "Epoch 25: val_loss did not improve from 0.00209\n",
      "\u001b[1m96/96\u001b[0m \u001b[32m━━━━━━━━━━━━━━━━━━━━\u001b[0m\u001b[37m\u001b[0m \u001b[1m0s\u001b[0m 2ms/step - loss: 0.0017 - val_loss: 0.0042\n",
      "Epoch 25: early stopping\n"
     ]
    }
   ],
   "source": [
    "history = model.fit(x=X_train,\n",
    "                    y=y_train,\n",
    "                    epochs=100,\n",
    "                    batch_size=20,\n",
    "                    validation_data=(X_test, y_test),\n",
    "                    callbacks=[callbacks],\n",
    "                    shuffle=False)"
   ]
  },
  {
   "cell_type": "code",
   "execution_count": 43,
   "id": "02dcd21b",
   "metadata": {
    "execution": {
     "iopub.execute_input": "2025-01-13T07:46:21.586100Z",
     "iopub.status.busy": "2025-01-13T07:46:21.585653Z",
     "iopub.status.idle": "2025-01-13T07:46:21.818278Z",
     "shell.execute_reply": "2025-01-13T07:46:21.817038Z"
    },
    "id": "VzxR8n1yeGpV",
    "papermill": {
     "duration": 0.26028,
     "end_time": "2025-01-13T07:46:21.820639",
     "exception": false,
     "start_time": "2025-01-13T07:46:21.560359",
     "status": "completed"
    },
    "tags": []
   },
   "outputs": [
    {
     "data": {
      "image/png": "[encoded data removed]",
      "text/plain": [
       "<Figure size 2000x500 with 1 Axes>"
      ]
     },
     "metadata": {},
     "output_type": "display_data"
    }
   ],
   "source": [
    "plt.figure(figsize=(20,5))\n",
    "plt.subplot(1,2,1)\n",
    "plt.plot(history.history['loss'], label='Training Loss')\n",
    "plt.plot(history.history['val_loss'], label='Validation Loss')\n",
    "plt.legend(loc='upper right')\n",
    "plt.xlabel('Epoch', fontsize = 16)\n",
    "plt.ylabel('Loss', fontsize = 16)\n",
    "plt.ylim([0,max(plt.ylim())])\n",
    "plt.title('Training and Validation Loss', fontsize = 16)\n",
    "plt.show()"
   ]
  },
  {
   "cell_type": "markdown",
   "id": "52fcb730",
   "metadata": {
    "id": "XO0NGWQWerLU",
    "papermill": {
     "duration": 0.023582,
     "end_time": "2025-01-13T07:46:21.868799",
     "exception": false,
     "start_time": "2025-01-13T07:46:21.845217",
     "status": "completed"
    },
    "tags": []
   },
   "source": [
    "## Evaluation"
   ]
  },
  {
   "cell_type": "code",
   "execution_count": 44,
   "id": "0347daf8",
   "metadata": {
    "execution": {
     "iopub.execute_input": "2025-01-13T07:46:21.918390Z",
     "iopub.status.busy": "2025-01-13T07:46:21.918025Z",
     "iopub.status.idle": "2025-01-13T07:46:22.481000Z",
     "shell.execute_reply": "2025-01-13T07:46:22.479584Z"
    },
    "id": "hyeoNUjxetH-",
    "papermill": {
     "duration": 0.590192,
     "end_time": "2025-01-13T07:46:22.483133",
     "exception": false,
     "start_time": "2025-01-13T07:46:21.892941",
     "status": "completed"
    },
    "tags": []
   },
   "outputs": [
    {
     "name": "stdout",
     "output_type": "stream",
     "text": [
      "\u001b[1m463/463\u001b[0m \u001b[32m━━━━━━━━━━━━━━━━━━━━\u001b[0m\u001b[37m\u001b[0m \u001b[1m1s\u001b[0m 1ms/step - loss: 0.0050\n",
      "\n",
      "Test Loss: 0.4%\n"
     ]
    }
   ],
   "source": [
    "loss = model.evaluate(X_test, y_test, batch_size=1)\n",
    "print(\"\\nTest Loss: %.1f%%\" % (100.0 * loss))"
   ]
  },
  {
   "cell_type": "code",
   "execution_count": 45,
   "id": "4ac05f0f",
   "metadata": {
    "execution": {
     "iopub.execute_input": "2025-01-13T07:46:22.533596Z",
     "iopub.status.busy": "2025-01-13T07:46:22.533239Z",
     "iopub.status.idle": "2025-01-13T07:46:22.987090Z",
     "shell.execute_reply": "2025-01-13T07:46:22.986070Z"
    },
    "id": "9e854j_NfFTV",
    "papermill": {
     "duration": 0.481696,
     "end_time": "2025-01-13T07:46:22.989513",
     "exception": false,
     "start_time": "2025-01-13T07:46:22.507817",
     "status": "completed"
    },
    "tags": []
   },
   "outputs": [
    {
     "name": "stdout",
     "output_type": "stream",
     "text": [
      "\u001b[1m60/60\u001b[0m \u001b[32m━━━━━━━━━━━━━━━━━━━━\u001b[0m\u001b[37m\u001b[0m \u001b[1m0s\u001b[0m 4ms/step\n"
     ]
    }
   ],
   "source": [
    "train_predict = model.predict(X_train)"
   ]
  },
  {
   "cell_type": "code",
   "execution_count": 46,
   "id": "8e0f855f",
   "metadata": {
    "execution": {
     "iopub.execute_input": "2025-01-13T07:46:23.041554Z",
     "iopub.status.busy": "2025-01-13T07:46:23.040571Z",
     "iopub.status.idle": "2025-01-13T07:46:23.140764Z",
     "shell.execute_reply": "2025-01-13T07:46:23.139832Z"
    },
    "id": "GZgJuMd-fqZW",
    "papermill": {
     "duration": 0.128321,
     "end_time": "2025-01-13T07:46:23.143036",
     "exception": false,
     "start_time": "2025-01-13T07:46:23.014715",
     "status": "completed"
    },
    "tags": []
   },
   "outputs": [
    {
     "name": "stdout",
     "output_type": "stream",
     "text": [
      "\u001b[1m15/15\u001b[0m \u001b[32m━━━━━━━━━━━━━━━━━━━━\u001b[0m\u001b[37m\u001b[0m \u001b[1m0s\u001b[0m 1ms/step \n"
     ]
    }
   ],
   "source": [
    "test_predict = model.predict(X_test)"
   ]
  },
  {
   "cell_type": "code",
   "execution_count": 47,
   "id": "9c36f529",
   "metadata": {
    "execution": {
     "iopub.execute_input": "2025-01-13T07:46:23.195193Z",
     "iopub.status.busy": "2025-01-13T07:46:23.194377Z",
     "iopub.status.idle": "2025-01-13T07:46:23.199835Z",
     "shell.execute_reply": "2025-01-13T07:46:23.198814Z"
    },
    "id": "FcH_8U3tfsGm",
    "papermill": {
     "duration": 0.033558,
     "end_time": "2025-01-13T07:46:23.201757",
     "exception": false,
     "start_time": "2025-01-13T07:46:23.168199",
     "status": "completed"
    },
    "tags": []
   },
   "outputs": [],
   "source": [
    "train_predict = scaler_train.inverse_transform(train_predict)\n",
    "test_predict = scaler_test.inverse_transform(test_predict)"
   ]
  },
  {
   "cell_type": "code",
   "execution_count": 48,
   "id": "f69a11fd",
   "metadata": {
    "execution": {
     "iopub.execute_input": "2025-01-13T07:46:23.252691Z",
     "iopub.status.busy": "2025-01-13T07:46:23.251950Z",
     "iopub.status.idle": "2025-01-13T07:46:23.257307Z",
     "shell.execute_reply": "2025-01-13T07:46:23.256335Z"
    },
    "id": "DsGDu-NKf912",
    "papermill": {
     "duration": 0.032857,
     "end_time": "2025-01-13T07:46:23.259191",
     "exception": false,
     "start_time": "2025-01-13T07:46:23.226334",
     "status": "completed"
    },
    "tags": []
   },
   "outputs": [],
   "source": [
    "y_train = scaler_train.inverse_transform(y_train)\n",
    "y_test = scaler_test.inverse_transform(y_test)"
   ]
  },
  {
   "cell_type": "code",
   "execution_count": 49,
   "id": "8a08bc5e",
   "metadata": {
    "execution": {
     "iopub.execute_input": "2025-01-13T07:46:23.310515Z",
     "iopub.status.busy": "2025-01-13T07:46:23.310103Z",
     "iopub.status.idle": "2025-01-13T07:46:23.316266Z",
     "shell.execute_reply": "2025-01-13T07:46:23.315176Z"
    },
    "id": "ZLXqwAU7gGW2",
    "papermill": {
     "duration": 0.034526,
     "end_time": "2025-01-13T07:46:23.318263",
     "exception": false,
     "start_time": "2025-01-13T07:46:23.283737",
     "status": "completed"
    },
    "tags": []
   },
   "outputs": [],
   "source": [
    "train_rmse = np.sqrt(mean_squared_error(y_train, train_predict))"
   ]
  },
  {
   "cell_type": "code",
   "execution_count": 50,
   "id": "b8db10c5",
   "metadata": {
    "execution": {
     "iopub.execute_input": "2025-01-13T07:46:23.370168Z",
     "iopub.status.busy": "2025-01-13T07:46:23.369448Z",
     "iopub.status.idle": "2025-01-13T07:46:23.375156Z",
     "shell.execute_reply": "2025-01-13T07:46:23.374125Z"
    },
    "id": "76WbnJaIgJ4g",
    "papermill": {
     "duration": 0.033854,
     "end_time": "2025-01-13T07:46:23.377020",
     "exception": false,
     "start_time": "2025-01-13T07:46:23.343166",
     "status": "completed"
    },
    "tags": []
   },
   "outputs": [],
   "source": [
    "test_rmse = np.sqrt(mean_squared_error(y_test, test_predict))"
   ]
  },
  {
   "cell_type": "code",
   "execution_count": 51,
   "id": "4d258fea",
   "metadata": {
    "execution": {
     "iopub.execute_input": "2025-01-13T07:46:23.428364Z",
     "iopub.status.busy": "2025-01-13T07:46:23.427422Z",
     "iopub.status.idle": "2025-01-13T07:46:23.433207Z",
     "shell.execute_reply": "2025-01-13T07:46:23.432219Z"
    },
    "id": "WcUBQBz7gMV2",
    "papermill": {
     "duration": 0.033794,
     "end_time": "2025-01-13T07:46:23.435576",
     "exception": false,
     "start_time": "2025-01-13T07:46:23.401782",
     "status": "completed"
    },
    "tags": []
   },
   "outputs": [
    {
     "name": "stdout",
     "output_type": "stream",
     "text": [
      "Train RMSE: 28.143627166748047\n",
      "Test RMSE: 39.148414611816406\n"
     ]
    }
   ],
   "source": [
    "print(f\"Train RMSE: {train_rmse}\")\n",
    "print(f\"Test RMSE: {test_rmse}\")"
   ]
  },
  {
   "cell_type": "code",
   "execution_count": 52,
   "id": "9f3947d0",
   "metadata": {
    "execution": {
     "iopub.execute_input": "2025-01-13T07:46:23.487210Z",
     "iopub.status.busy": "2025-01-13T07:46:23.486827Z",
     "iopub.status.idle": "2025-01-13T07:46:23.517442Z",
     "shell.execute_reply": "2025-01-13T07:46:23.516443Z"
    },
    "id": "t_llof9mgYz_",
    "papermill": {
     "duration": 0.058784,
     "end_time": "2025-01-13T07:46:23.519646",
     "exception": false,
     "start_time": "2025-01-13T07:46:23.460862",
     "status": "completed"
    },
    "tags": []
   },
   "outputs": [
    {
     "data": {
      "text/html": [
       "<div>\n",
       "<style scoped>\n",
       "    .dataframe tbody tr th:only-of-type {\n",
       "        vertical-align: middle;\n",
       "    }\n",
       "\n",
       "    .dataframe tbody tr th {\n",
       "        vertical-align: top;\n",
       "    }\n",
       "\n",
       "    .dataframe thead th {\n",
       "        text-align: right;\n",
       "    }\n",
       "</style>\n",
       "<table border=\"1\" class=\"dataframe\">\n",
       "  <thead>\n",
       "    <tr style=\"text-align: right;\">\n",
       "      <th></th>\n",
       "      <th>count</th>\n",
       "      <th>mean</th>\n",
       "      <th>min</th>\n",
       "      <th>25%</th>\n",
       "      <th>50%</th>\n",
       "      <th>75%</th>\n",
       "      <th>max</th>\n",
       "      <th>std</th>\n",
       "    </tr>\n",
       "  </thead>\n",
       "  <tbody>\n",
       "    <tr>\n",
       "      <th>Date</th>\n",
       "      <td>2416</td>\n",
       "      <td>2015-04-15 11:09:56.026490112</td>\n",
       "      <td>2010-06-29 00:00:00</td>\n",
       "      <td>2012-11-19 18:00:00</td>\n",
       "      <td>2015-04-16 12:00:00</td>\n",
       "      <td>2017-09-07 06:00:00</td>\n",
       "      <td>2020-02-03 00:00:00</td>\n",
       "      <td>NaN</td>\n",
       "    </tr>\n",
       "    <tr>\n",
       "      <th>Open</th>\n",
       "      <td>2416.0</td>\n",
       "      <td>186.271147</td>\n",
       "      <td>16.139999</td>\n",
       "      <td>34.342498</td>\n",
       "      <td>213.035004</td>\n",
       "      <td>266.450012</td>\n",
       "      <td>673.690002</td>\n",
       "      <td>118.740163</td>\n",
       "    </tr>\n",
       "    <tr>\n",
       "      <th>High</th>\n",
       "      <td>2416.0</td>\n",
       "      <td>189.578224</td>\n",
       "      <td>16.629999</td>\n",
       "      <td>34.897501</td>\n",
       "      <td>216.745002</td>\n",
       "      <td>270.927513</td>\n",
       "      <td>786.140015</td>\n",
       "      <td>120.892329</td>\n",
       "    </tr>\n",
       "    <tr>\n",
       "      <th>Low</th>\n",
       "      <td>2416.0</td>\n",
       "      <td>182.916639</td>\n",
       "      <td>14.98</td>\n",
       "      <td>33.587501</td>\n",
       "      <td>208.870002</td>\n",
       "      <td>262.102501</td>\n",
       "      <td>673.52002</td>\n",
       "      <td>116.857591</td>\n",
       "    </tr>\n",
       "    <tr>\n",
       "      <th>Close</th>\n",
       "      <td>2416.0</td>\n",
       "      <td>186.403651</td>\n",
       "      <td>15.8</td>\n",
       "      <td>34.400002</td>\n",
       "      <td>212.960007</td>\n",
       "      <td>266.774994</td>\n",
       "      <td>780.0</td>\n",
       "      <td>119.13602</td>\n",
       "    </tr>\n",
       "    <tr>\n",
       "      <th>Adj Close</th>\n",
       "      <td>2416.0</td>\n",
       "      <td>186.403651</td>\n",
       "      <td>15.8</td>\n",
       "      <td>34.400002</td>\n",
       "      <td>212.960007</td>\n",
       "      <td>266.774994</td>\n",
       "      <td>780.0</td>\n",
       "      <td>119.13602</td>\n",
       "    </tr>\n",
       "    <tr>\n",
       "      <th>Volume</th>\n",
       "      <td>2416.0</td>\n",
       "      <td>5572721.688742</td>\n",
       "      <td>118500.0</td>\n",
       "      <td>1899275.0</td>\n",
       "      <td>4578400.0</td>\n",
       "      <td>7361150.0</td>\n",
       "      <td>47065000.0</td>\n",
       "      <td>4987809.151888</td>\n",
       "    </tr>\n",
       "  </tbody>\n",
       "</table>\n",
       "</div>"
      ],
      "text/plain": [
       "            count                           mean                  min  \\\n",
       "Date         2416  2015-04-15 11:09:56.026490112  2010-06-29 00:00:00   \n",
       "Open       2416.0                     186.271147            16.139999   \n",
       "High       2416.0                     189.578224            16.629999   \n",
       "Low        2416.0                     182.916639                14.98   \n",
       "Close      2416.0                     186.403651                 15.8   \n",
       "Adj Close  2416.0                     186.403651                 15.8   \n",
       "Volume     2416.0                 5572721.688742             118500.0   \n",
       "\n",
       "                           25%                  50%                  75%  \\\n",
       "Date       2012-11-19 18:00:00  2015-04-16 12:00:00  2017-09-07 06:00:00   \n",
       "Open                 34.342498           213.035004           266.450012   \n",
       "High                 34.897501           216.745002           270.927513   \n",
       "Low                  33.587501           208.870002           262.102501   \n",
       "Close                34.400002           212.960007           266.774994   \n",
       "Adj Close            34.400002           212.960007           266.774994   \n",
       "Volume               1899275.0            4578400.0            7361150.0   \n",
       "\n",
       "                           max             std  \n",
       "Date       2020-02-03 00:00:00             NaN  \n",
       "Open                673.690002      118.740163  \n",
       "High                786.140015      120.892329  \n",
       "Low                  673.52002      116.857591  \n",
       "Close                    780.0       119.13602  \n",
       "Adj Close                780.0       119.13602  \n",
       "Volume              47065000.0  4987809.151888  "
      ]
     },
     "execution_count": 52,
     "metadata": {},
     "output_type": "execute_result"
    }
   ],
   "source": [
    "df.describe().T"
   ]
  },
  {
   "cell_type": "code",
   "execution_count": 53,
   "id": "26225d73",
   "metadata": {
    "execution": {
     "iopub.execute_input": "2025-01-13T07:46:23.571366Z",
     "iopub.status.busy": "2025-01-13T07:46:23.570552Z",
     "iopub.status.idle": "2025-01-13T07:46:23.582144Z",
     "shell.execute_reply": "2025-01-13T07:46:23.581092Z"
    },
    "id": "-PSGVpMzgz1O",
    "papermill": {
     "duration": 0.039573,
     "end_time": "2025-01-13T07:46:23.584289",
     "exception": false,
     "start_time": "2025-01-13T07:46:23.544716",
     "status": "completed"
    },
    "tags": []
   },
   "outputs": [
    {
     "data": {
      "text/html": [
       "<div>\n",
       "<style scoped>\n",
       "    .dataframe tbody tr th:only-of-type {\n",
       "        vertical-align: middle;\n",
       "    }\n",
       "\n",
       "    .dataframe tbody tr th {\n",
       "        vertical-align: top;\n",
       "    }\n",
       "\n",
       "    .dataframe thead th {\n",
       "        text-align: right;\n",
       "    }\n",
       "</style>\n",
       "<table border=\"1\" class=\"dataframe\">\n",
       "  <thead>\n",
       "    <tr style=\"text-align: right;\">\n",
       "      <th></th>\n",
       "      <th>Close</th>\n",
       "      <th>Predicted</th>\n",
       "    </tr>\n",
       "    <tr>\n",
       "      <th>Date</th>\n",
       "      <th></th>\n",
       "      <th></th>\n",
       "    </tr>\n",
       "  </thead>\n",
       "  <tbody>\n",
       "    <tr>\n",
       "      <th>2010-07-28</th>\n",
       "      <td>20.719999</td>\n",
       "      <td>36.045654</td>\n",
       "    </tr>\n",
       "    <tr>\n",
       "      <th>2010-07-29</th>\n",
       "      <td>20.350000</td>\n",
       "      <td>36.045654</td>\n",
       "    </tr>\n",
       "    <tr>\n",
       "      <th>2010-07-30</th>\n",
       "      <td>19.940001</td>\n",
       "      <td>36.045654</td>\n",
       "    </tr>\n",
       "    <tr>\n",
       "      <th>2010-08-02</th>\n",
       "      <td>20.920000</td>\n",
       "      <td>36.045654</td>\n",
       "    </tr>\n",
       "    <tr>\n",
       "      <th>2010-08-03</th>\n",
       "      <td>21.950001</td>\n",
       "      <td>36.045654</td>\n",
       "    </tr>\n",
       "  </tbody>\n",
       "</table>\n",
       "</div>"
      ],
      "text/plain": [
       "                Close  Predicted\n",
       "Date                            \n",
       "2010-07-28  20.719999  36.045654\n",
       "2010-07-29  20.350000  36.045654\n",
       "2010-07-30  19.940001  36.045654\n",
       "2010-08-02  20.920000  36.045654\n",
       "2010-08-03  21.950001  36.045654"
      ]
     },
     "execution_count": 53,
     "metadata": {},
     "output_type": "execute_result"
    }
   ],
   "source": [
    "train_prediction_df = result_df[lookback:position]\n",
    "train_prediction_df[\"Predicted\"] = train_predict\n",
    "train_prediction_df.head()"
   ]
  },
  {
   "cell_type": "code",
   "execution_count": 54,
   "id": "18c10a4e",
   "metadata": {
    "execution": {
     "iopub.execute_input": "2025-01-13T07:46:23.635712Z",
     "iopub.status.busy": "2025-01-13T07:46:23.635281Z",
     "iopub.status.idle": "2025-01-13T07:46:23.646476Z",
     "shell.execute_reply": "2025-01-13T07:46:23.645527Z"
    },
    "id": "o7tRAXwOhMSA",
    "papermill": {
     "duration": 0.038745,
     "end_time": "2025-01-13T07:46:23.648341",
     "exception": false,
     "start_time": "2025-01-13T07:46:23.609596",
     "status": "completed"
    },
    "tags": []
   },
   "outputs": [
    {
     "data": {
      "text/html": [
       "<div>\n",
       "<style scoped>\n",
       "    .dataframe tbody tr th:only-of-type {\n",
       "        vertical-align: middle;\n",
       "    }\n",
       "\n",
       "    .dataframe tbody tr th {\n",
       "        vertical-align: top;\n",
       "    }\n",
       "\n",
       "    .dataframe thead th {\n",
       "        text-align: right;\n",
       "    }\n",
       "</style>\n",
       "<table border=\"1\" class=\"dataframe\">\n",
       "  <thead>\n",
       "    <tr style=\"text-align: right;\">\n",
       "      <th></th>\n",
       "      <th>Close</th>\n",
       "      <th>Predicted</th>\n",
       "    </tr>\n",
       "    <tr>\n",
       "      <th>Date</th>\n",
       "      <th></th>\n",
       "      <th></th>\n",
       "    </tr>\n",
       "  </thead>\n",
       "  <tbody>\n",
       "    <tr>\n",
       "      <th>2018-04-03</th>\n",
       "      <td>267.529999</td>\n",
       "      <td>333.344971</td>\n",
       "    </tr>\n",
       "    <tr>\n",
       "      <th>2018-04-04</th>\n",
       "      <td>286.940002</td>\n",
       "      <td>327.668304</td>\n",
       "    </tr>\n",
       "    <tr>\n",
       "      <th>2018-04-05</th>\n",
       "      <td>305.720001</td>\n",
       "      <td>327.600037</td>\n",
       "    </tr>\n",
       "    <tr>\n",
       "      <th>2018-04-06</th>\n",
       "      <td>299.299988</td>\n",
       "      <td>329.643524</td>\n",
       "    </tr>\n",
       "    <tr>\n",
       "      <th>2018-04-09</th>\n",
       "      <td>289.660004</td>\n",
       "      <td>327.925110</td>\n",
       "    </tr>\n",
       "  </tbody>\n",
       "</table>\n",
       "</div>"
      ],
      "text/plain": [
       "                 Close   Predicted\n",
       "Date                              \n",
       "2018-04-03  267.529999  333.344971\n",
       "2018-04-04  286.940002  327.668304\n",
       "2018-04-05  305.720001  327.600037\n",
       "2018-04-06  299.299988  329.643524\n",
       "2018-04-09  289.660004  327.925110"
      ]
     },
     "execution_count": 54,
     "metadata": {},
     "output_type": "execute_result"
    }
   ],
   "source": [
    "test_prediction_df = result_df[position+lookback:]\n",
    "test_prediction_df[\"Predicted\"] = test_predict\n",
    "test_prediction_df.head()"
   ]
  },
  {
   "cell_type": "code",
   "execution_count": 55,
   "id": "abe75436",
   "metadata": {
    "execution": {
     "iopub.execute_input": "2025-01-13T07:46:23.701096Z",
     "iopub.status.busy": "2025-01-13T07:46:23.700303Z",
     "iopub.status.idle": "2025-01-13T07:46:24.058621Z",
     "shell.execute_reply": "2025-01-13T07:46:24.057462Z"
    },
    "id": "PJ_-znSchYO_",
    "papermill": {
     "duration": 0.388055,
     "end_time": "2025-01-13T07:46:24.061685",
     "exception": false,
     "start_time": "2025-01-13T07:46:23.673630",
     "status": "completed"
    },
    "tags": []
   },
   "outputs": [
    {
     "data": {
      "image/png": "[encoded data removed]",
      "text/plain": [
       "<Figure size 1400x500 with 1 Axes>"
      ]
     },
     "metadata": {},
     "output_type": "display_data"
    }
   ],
   "source": [
    "plt.figure(figsize=(14,5))\n",
    "plt.plot(result_df, label = \"Real Number of Passengers\")\n",
    "plt.plot(train_prediction_df[\"Predicted\"], color = 'blue', label = \"Train Predicted Number of Passengers\")\n",
    "plt.plot(test_prediction_df[\"Predicted\"],color = 'red', label = \"Test Predicted Number of Passengers\")\n",
    "plt.title(\"Number of Passengers Prediction\")\n",
    "plt.xlabel(\"Time\")\n",
    "plt.ylabel(\"Number of Passengers\")\n",
    "plt.legend()\n",
    "plt.show()"
   ]
  }
 ],
 "metadata": {
  "colab": {
   "provenance": []
  },
  "kaggle": {
   "accelerator": "none",
   "dataSources": [
    {
     "datasetId": 500872,
     "sourceId": 927894,
     "sourceType": "datasetVersion"
    }
   ],
   "dockerImageVersionId": 30761,
   "isGpuEnabled": false,
   "isInternetEnabled": true,
   "language": "python",
   "sourceType": "notebook"
  },
  "kernelspec": {
   "display_name": "Python 3",
   "language": "python",
   "name": "python3"
  },
  "language_info": {
   "codemirror_mode": {
    "name": "ipython",
    "version": 3
   },
   "file_extension": ".py",
   "mimetype": "text/x-python",
   "name": "python",
   "nbconvert_exporter": "python",
   "pygments_lexer": "ipython3",
   "version": "3.10.14"
  },
  "papermill": {
   "default_parameters": {},
   "duration": 34.944232,
   "end_time": "2025-01-13T07:46:25.817066",
   "environment_variables": {},
   "exception": null,
   "input_path": "__notebook__.ipynb",
   "output_path": "__notebook__.ipynb",
   "parameters": {},
   "start_time": "2025-01-13T07:45:50.872834",
   "version": "2.6.0"
  }
 },
 "nbformat": 4,
 "nbformat_minor": 5
}
