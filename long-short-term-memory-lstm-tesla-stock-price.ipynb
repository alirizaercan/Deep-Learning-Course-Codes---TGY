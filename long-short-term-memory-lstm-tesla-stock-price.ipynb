{
 "cells": [
  {
   "cell_type": "markdown",
   "id": "7c12422f",
   "metadata": {
    "id": "4unSJJjsT8BM",
    "papermill": {
     "duration": 0.012452,
     "end_time": "2024-11-23T08:52:24.840554",
     "exception": false,
     "start_time": "2024-11-23T08:52:24.828102",
     "status": "completed"
    },
    "tags": []
   },
   "source": [
    "# Tesla - Stock Price Prediction\n",
    "\n",
    "---\n",
    "\n"
   ]
  },
  {
   "cell_type": "markdown",
   "id": "fbf4e12a",
   "metadata": {
    "id": "wkRLJL2XUAfT",
    "papermill": {
     "duration": 0.011021,
     "end_time": "2024-11-23T08:52:24.863219",
     "exception": false,
     "start_time": "2024-11-23T08:52:24.852198",
     "status": "completed"
    },
    "tags": []
   },
   "source": [
    "## Business Problem\n",
    "\n",
    "In this notebook, our purpose is to predict of tesla - stock price."
   ]
  },
  {
   "cell_type": "markdown",
   "id": "3687a05b",
   "metadata": {
    "id": "0uxjphZsUwjz",
    "papermill": {
     "duration": 0.010662,
     "end_time": "2024-11-23T08:52:24.884714",
     "exception": false,
     "start_time": "2024-11-23T08:52:24.874052",
     "status": "completed"
    },
    "tags": []
   },
   "source": [
    "## Data Understanding"
   ]
  },
  {
   "cell_type": "code",
   "execution_count": 1,
   "id": "75469c01",
   "metadata": {
    "execution": {
     "iopub.execute_input": "2024-11-23T08:52:24.908598Z",
     "iopub.status.busy": "2024-11-23T08:52:24.908171Z",
     "iopub.status.idle": "2024-11-23T08:52:41.753580Z",
     "shell.execute_reply": "2024-11-23T08:52:41.752479Z"
    },
    "id": "40IR65rQUyWC",
    "outputId": "4562368d-970e-4fd6-b03e-be036efe4dcd",
    "papermill": {
     "duration": 16.860405,
     "end_time": "2024-11-23T08:52:41.756377",
     "exception": false,
     "start_time": "2024-11-23T08:52:24.895972",
     "status": "completed"
    },
    "tags": []
   },
   "outputs": [],
   "source": [
    "import numpy as np\n",
    "import pandas as pd\n",
    "import datetime as dt\n",
    "import tensorflow as tf\n",
    "import matplotlib.pyplot as plt\n",
    "\n",
    "from sklearn.preprocessing import MinMaxScaler\n",
    "from sklearn.metrics import mean_squared_error\n",
    "\n",
    "from tensorflow.keras.models import Sequential\n",
    "from tensorflow.keras.layers import Dense, LSTM, Dropout\n",
    "from tensorflow.keras.callbacks import ModelCheckpoint, EarlyStopping\n",
    "\n",
    "import warnings\n",
    "warnings.filterwarnings('ignore')\n",
    "\n",
    "import os\n",
    "os.environ['TF_CPP_MIN_LOG_LEVEL'] = '3'\n",
    "tf.compat.v1.logging.set_verbosity(tf.compat.v1.logging.ERROR)"
   ]
  },
  {
   "cell_type": "code",
   "execution_count": 2,
   "id": "8ac87b99",
   "metadata": {
    "execution": {
     "iopub.execute_input": "2024-11-23T08:52:41.781519Z",
     "iopub.status.busy": "2024-11-23T08:52:41.780116Z",
     "iopub.status.idle": "2024-11-23T08:52:41.839732Z",
     "shell.execute_reply": "2024-11-23T08:52:41.838450Z"
    },
    "id": "-be5_efvVpTV",
    "papermill": {
     "duration": 0.074346,
     "end_time": "2024-11-23T08:52:41.842281",
     "exception": false,
     "start_time": "2024-11-23T08:52:41.767935",
     "status": "completed"
    },
    "tags": []
   },
   "outputs": [
    {
     "data": {
      "text/html": [
       "<div>\n",
       "<style scoped>\n",
       "    .dataframe tbody tr th:only-of-type {\n",
       "        vertical-align: middle;\n",
       "    }\n",
       "\n",
       "    .dataframe tbody tr th {\n",
       "        vertical-align: top;\n",
       "    }\n",
       "\n",
       "    .dataframe thead th {\n",
       "        text-align: right;\n",
       "    }\n",
       "</style>\n",
       "<table border=\"1\" class=\"dataframe\">\n",
       "  <thead>\n",
       "    <tr style=\"text-align: right;\">\n",
       "      <th></th>\n",
       "      <th>Date</th>\n",
       "      <th>Open</th>\n",
       "      <th>High</th>\n",
       "      <th>Low</th>\n",
       "      <th>Close</th>\n",
       "      <th>Adj Close</th>\n",
       "      <th>Volume</th>\n",
       "    </tr>\n",
       "  </thead>\n",
       "  <tbody>\n",
       "    <tr>\n",
       "      <th>0</th>\n",
       "      <td>2010-06-29</td>\n",
       "      <td>19.000000</td>\n",
       "      <td>25.000000</td>\n",
       "      <td>17.540001</td>\n",
       "      <td>23.889999</td>\n",
       "      <td>23.889999</td>\n",
       "      <td>18766300</td>\n",
       "    </tr>\n",
       "    <tr>\n",
       "      <th>1</th>\n",
       "      <td>2010-06-30</td>\n",
       "      <td>25.790001</td>\n",
       "      <td>30.420000</td>\n",
       "      <td>23.299999</td>\n",
       "      <td>23.830000</td>\n",
       "      <td>23.830000</td>\n",
       "      <td>17187100</td>\n",
       "    </tr>\n",
       "    <tr>\n",
       "      <th>2</th>\n",
       "      <td>2010-07-01</td>\n",
       "      <td>25.000000</td>\n",
       "      <td>25.920000</td>\n",
       "      <td>20.270000</td>\n",
       "      <td>21.959999</td>\n",
       "      <td>21.959999</td>\n",
       "      <td>8218800</td>\n",
       "    </tr>\n",
       "    <tr>\n",
       "      <th>3</th>\n",
       "      <td>2010-07-02</td>\n",
       "      <td>23.000000</td>\n",
       "      <td>23.100000</td>\n",
       "      <td>18.709999</td>\n",
       "      <td>19.200001</td>\n",
       "      <td>19.200001</td>\n",
       "      <td>5139800</td>\n",
       "    </tr>\n",
       "    <tr>\n",
       "      <th>4</th>\n",
       "      <td>2010-07-06</td>\n",
       "      <td>20.000000</td>\n",
       "      <td>20.000000</td>\n",
       "      <td>15.830000</td>\n",
       "      <td>16.110001</td>\n",
       "      <td>16.110001</td>\n",
       "      <td>6866900</td>\n",
       "    </tr>\n",
       "    <tr>\n",
       "      <th>...</th>\n",
       "      <td>...</td>\n",
       "      <td>...</td>\n",
       "      <td>...</td>\n",
       "      <td>...</td>\n",
       "      <td>...</td>\n",
       "      <td>...</td>\n",
       "      <td>...</td>\n",
       "    </tr>\n",
       "    <tr>\n",
       "      <th>2411</th>\n",
       "      <td>2020-01-28</td>\n",
       "      <td>568.489990</td>\n",
       "      <td>576.809998</td>\n",
       "      <td>558.080017</td>\n",
       "      <td>566.900024</td>\n",
       "      <td>566.900024</td>\n",
       "      <td>11788500</td>\n",
       "    </tr>\n",
       "    <tr>\n",
       "      <th>2412</th>\n",
       "      <td>2020-01-29</td>\n",
       "      <td>575.690002</td>\n",
       "      <td>589.799988</td>\n",
       "      <td>567.429993</td>\n",
       "      <td>580.989990</td>\n",
       "      <td>580.989990</td>\n",
       "      <td>17801500</td>\n",
       "    </tr>\n",
       "    <tr>\n",
       "      <th>2413</th>\n",
       "      <td>2020-01-30</td>\n",
       "      <td>632.419983</td>\n",
       "      <td>650.880005</td>\n",
       "      <td>618.000000</td>\n",
       "      <td>640.809998</td>\n",
       "      <td>640.809998</td>\n",
       "      <td>29005700</td>\n",
       "    </tr>\n",
       "    <tr>\n",
       "      <th>2414</th>\n",
       "      <td>2020-01-31</td>\n",
       "      <td>640.000000</td>\n",
       "      <td>653.000000</td>\n",
       "      <td>632.520020</td>\n",
       "      <td>650.570007</td>\n",
       "      <td>650.570007</td>\n",
       "      <td>15719300</td>\n",
       "    </tr>\n",
       "    <tr>\n",
       "      <th>2415</th>\n",
       "      <td>2020-02-03</td>\n",
       "      <td>673.690002</td>\n",
       "      <td>786.140015</td>\n",
       "      <td>673.520020</td>\n",
       "      <td>780.000000</td>\n",
       "      <td>780.000000</td>\n",
       "      <td>47065000</td>\n",
       "    </tr>\n",
       "  </tbody>\n",
       "</table>\n",
       "<p>2416 rows × 7 columns</p>\n",
       "</div>"
      ],
      "text/plain": [
       "            Date        Open        High         Low       Close   Adj Close  \\\n",
       "0     2010-06-29   19.000000   25.000000   17.540001   23.889999   23.889999   \n",
       "1     2010-06-30   25.790001   30.420000   23.299999   23.830000   23.830000   \n",
       "2     2010-07-01   25.000000   25.920000   20.270000   21.959999   21.959999   \n",
       "3     2010-07-02   23.000000   23.100000   18.709999   19.200001   19.200001   \n",
       "4     2010-07-06   20.000000   20.000000   15.830000   16.110001   16.110001   \n",
       "...          ...         ...         ...         ...         ...         ...   \n",
       "2411  2020-01-28  568.489990  576.809998  558.080017  566.900024  566.900024   \n",
       "2412  2020-01-29  575.690002  589.799988  567.429993  580.989990  580.989990   \n",
       "2413  2020-01-30  632.419983  650.880005  618.000000  640.809998  640.809998   \n",
       "2414  2020-01-31  640.000000  653.000000  632.520020  650.570007  650.570007   \n",
       "2415  2020-02-03  673.690002  786.140015  673.520020  780.000000  780.000000   \n",
       "\n",
       "        Volume  \n",
       "0     18766300  \n",
       "1     17187100  \n",
       "2      8218800  \n",
       "3      5139800  \n",
       "4      6866900  \n",
       "...        ...  \n",
       "2411  11788500  \n",
       "2412  17801500  \n",
       "2413  29005700  \n",
       "2414  15719300  \n",
       "2415  47065000  \n",
       "\n",
       "[2416 rows x 7 columns]"
      ]
     },
     "execution_count": 2,
     "metadata": {},
     "output_type": "execute_result"
    }
   ],
   "source": [
    "df = pd.read_csv('/kaggle/input/tesla-stock-data-from-2010-to-2020/TSLA.csv')\n",
    "df"
   ]
  },
  {
   "cell_type": "code",
   "execution_count": 3,
   "id": "f9101c1b",
   "metadata": {
    "execution": {
     "iopub.execute_input": "2024-11-23T08:52:41.866817Z",
     "iopub.status.busy": "2024-11-23T08:52:41.866405Z",
     "iopub.status.idle": "2024-11-23T08:52:41.879841Z",
     "shell.execute_reply": "2024-11-23T08:52:41.878840Z"
    },
    "id": "lG_AO3mdVv17",
    "papermill": {
     "duration": 0.027893,
     "end_time": "2024-11-23T08:52:41.882070",
     "exception": false,
     "start_time": "2024-11-23T08:52:41.854177",
     "status": "completed"
    },
    "tags": []
   },
   "outputs": [
    {
     "data": {
      "text/html": [
       "<div>\n",
       "<style scoped>\n",
       "    .dataframe tbody tr th:only-of-type {\n",
       "        vertical-align: middle;\n",
       "    }\n",
       "\n",
       "    .dataframe tbody tr th {\n",
       "        vertical-align: top;\n",
       "    }\n",
       "\n",
       "    .dataframe thead th {\n",
       "        text-align: right;\n",
       "    }\n",
       "</style>\n",
       "<table border=\"1\" class=\"dataframe\">\n",
       "  <thead>\n",
       "    <tr style=\"text-align: right;\">\n",
       "      <th></th>\n",
       "      <th>Date</th>\n",
       "      <th>Open</th>\n",
       "      <th>High</th>\n",
       "      <th>Low</th>\n",
       "      <th>Close</th>\n",
       "      <th>Adj Close</th>\n",
       "      <th>Volume</th>\n",
       "    </tr>\n",
       "  </thead>\n",
       "  <tbody>\n",
       "    <tr>\n",
       "      <th>0</th>\n",
       "      <td>2010-06-29</td>\n",
       "      <td>19.000000</td>\n",
       "      <td>25.00</td>\n",
       "      <td>17.540001</td>\n",
       "      <td>23.889999</td>\n",
       "      <td>23.889999</td>\n",
       "      <td>18766300</td>\n",
       "    </tr>\n",
       "    <tr>\n",
       "      <th>1</th>\n",
       "      <td>2010-06-30</td>\n",
       "      <td>25.790001</td>\n",
       "      <td>30.42</td>\n",
       "      <td>23.299999</td>\n",
       "      <td>23.830000</td>\n",
       "      <td>23.830000</td>\n",
       "      <td>17187100</td>\n",
       "    </tr>\n",
       "    <tr>\n",
       "      <th>2</th>\n",
       "      <td>2010-07-01</td>\n",
       "      <td>25.000000</td>\n",
       "      <td>25.92</td>\n",
       "      <td>20.270000</td>\n",
       "      <td>21.959999</td>\n",
       "      <td>21.959999</td>\n",
       "      <td>8218800</td>\n",
       "    </tr>\n",
       "    <tr>\n",
       "      <th>3</th>\n",
       "      <td>2010-07-02</td>\n",
       "      <td>23.000000</td>\n",
       "      <td>23.10</td>\n",
       "      <td>18.709999</td>\n",
       "      <td>19.200001</td>\n",
       "      <td>19.200001</td>\n",
       "      <td>5139800</td>\n",
       "    </tr>\n",
       "    <tr>\n",
       "      <th>4</th>\n",
       "      <td>2010-07-06</td>\n",
       "      <td>20.000000</td>\n",
       "      <td>20.00</td>\n",
       "      <td>15.830000</td>\n",
       "      <td>16.110001</td>\n",
       "      <td>16.110001</td>\n",
       "      <td>6866900</td>\n",
       "    </tr>\n",
       "  </tbody>\n",
       "</table>\n",
       "</div>"
      ],
      "text/plain": [
       "         Date       Open   High        Low      Close  Adj Close    Volume\n",
       "0  2010-06-29  19.000000  25.00  17.540001  23.889999  23.889999  18766300\n",
       "1  2010-06-30  25.790001  30.42  23.299999  23.830000  23.830000  17187100\n",
       "2  2010-07-01  25.000000  25.92  20.270000  21.959999  21.959999   8218800\n",
       "3  2010-07-02  23.000000  23.10  18.709999  19.200001  19.200001   5139800\n",
       "4  2010-07-06  20.000000  20.00  15.830000  16.110001  16.110001   6866900"
      ]
     },
     "execution_count": 3,
     "metadata": {},
     "output_type": "execute_result"
    }
   ],
   "source": [
    "df.head()"
   ]
  },
  {
   "cell_type": "code",
   "execution_count": 4,
   "id": "61ae8b64",
   "metadata": {
    "execution": {
     "iopub.execute_input": "2024-11-23T08:52:41.907408Z",
     "iopub.status.busy": "2024-11-23T08:52:41.906098Z",
     "iopub.status.idle": "2024-11-23T08:52:41.913313Z",
     "shell.execute_reply": "2024-11-23T08:52:41.912229Z"
    },
    "id": "TU5hlfyvVxY0",
    "papermill": {
     "duration": 0.022563,
     "end_time": "2024-11-23T08:52:41.916127",
     "exception": false,
     "start_time": "2024-11-23T08:52:41.893564",
     "status": "completed"
    },
    "tags": []
   },
   "outputs": [],
   "source": [
    "def check_df(dataframe, head=5):\n",
    "    print(\"##################### Shape #####################\")\n",
    "    print(dataframe.shape)\n",
    "    print(\"##################### Types #####################\")\n",
    "    print(dataframe.dtypes)\n",
    "    print(\"##################### Head #####################\")\n",
    "    print(dataframe.head(head))  # Fonksiyon çağrısına dikkat edin\n",
    "    print(\"##################### Tail #####################\")\n",
    "    print(dataframe.tail(head))\n",
    "    print(\"##################### NA #####################\")\n",
    "    print(dataframe.isnull().sum())\n",
    "    print(\"##################### Quantile #####################\")\n",
    "    print(dataframe.select_dtypes(include='number').quantile([0, 0.05, 0.5, 0.95, 0.99, 1]).T)\n"
   ]
  },
  {
   "cell_type": "code",
   "execution_count": 5,
   "id": "e16dbdd6",
   "metadata": {
    "execution": {
     "iopub.execute_input": "2024-11-23T08:52:41.941036Z",
     "iopub.status.busy": "2024-11-23T08:52:41.940637Z",
     "iopub.status.idle": "2024-11-23T08:52:41.963901Z",
     "shell.execute_reply": "2024-11-23T08:52:41.962585Z"
    },
    "id": "t6iFP965V4vk",
    "papermill": {
     "duration": 0.039033,
     "end_time": "2024-11-23T08:52:41.966805",
     "exception": false,
     "start_time": "2024-11-23T08:52:41.927772",
     "status": "completed"
    },
    "tags": []
   },
   "outputs": [
    {
     "name": "stdout",
     "output_type": "stream",
     "text": [
      "##################### Shape #####################\n",
      "(2416, 7)\n",
      "##################### Types #####################\n",
      "Date          object\n",
      "Open         float64\n",
      "High         float64\n",
      "Low          float64\n",
      "Close        float64\n",
      "Adj Close    float64\n",
      "Volume         int64\n",
      "dtype: object\n",
      "##################### Head #####################\n",
      "         Date       Open   High        Low      Close  Adj Close    Volume\n",
      "0  2010-06-29  19.000000  25.00  17.540001  23.889999  23.889999  18766300\n",
      "1  2010-06-30  25.790001  30.42  23.299999  23.830000  23.830000  17187100\n",
      "2  2010-07-01  25.000000  25.92  20.270000  21.959999  21.959999   8218800\n",
      "3  2010-07-02  23.000000  23.10  18.709999  19.200001  19.200001   5139800\n",
      "4  2010-07-06  20.000000  20.00  15.830000  16.110001  16.110001   6866900\n",
      "##################### Tail #####################\n",
      "            Date        Open        High         Low       Close   Adj Close  \\\n",
      "2411  2020-01-28  568.489990  576.809998  558.080017  566.900024  566.900024   \n",
      "2412  2020-01-29  575.690002  589.799988  567.429993  580.989990  580.989990   \n",
      "2413  2020-01-30  632.419983  650.880005  618.000000  640.809998  640.809998   \n",
      "2414  2020-01-31  640.000000  653.000000  632.520020  650.570007  650.570007   \n",
      "2415  2020-02-03  673.690002  786.140015  673.520020  780.000000  780.000000   \n",
      "\n",
      "        Volume  \n",
      "2411  11788500  \n",
      "2412  17801500  \n",
      "2413  29005700  \n",
      "2414  15719300  \n",
      "2415  47065000  \n",
      "##################### NA #####################\n",
      "Date         0\n",
      "Open         0\n",
      "High         0\n",
      "Low          0\n",
      "Close        0\n",
      "Adj Close    0\n",
      "Volume       0\n",
      "dtype: int64\n",
      "##################### Quantile #####################\n",
      "                    0.00           0.05          0.50          0.95  \\\n",
      "Open           16.139999      23.384999  2.130350e+02  3.519100e+02   \n",
      "High           16.629999      24.022501  2.167450e+02  3.567500e+02   \n",
      "Low            14.980000      22.867499  2.088700e+02  3.460250e+02   \n",
      "Close          15.800000      23.565000  2.129600e+02  3.511675e+02   \n",
      "Adj Close      15.800000      23.565000  2.129600e+02  3.511675e+02   \n",
      "Volume     118500.000000  633825.000000  4.578400e+06  1.476090e+07   \n",
      "\n",
      "                   0.99          1.00  \n",
      "Open       4.235790e+02  6.736900e+02  \n",
      "High       4.284705e+02  7.861400e+02  \n",
      "Low        4.122865e+02  6.735200e+02  \n",
      "Close      4.243455e+02  7.800000e+02  \n",
      "Adj Close  4.243455e+02  7.800000e+02  \n",
      "Volume     2.459959e+07  4.706500e+07  \n"
     ]
    }
   ],
   "source": [
    "check_df(df)"
   ]
  },
  {
   "cell_type": "markdown",
   "id": "1342c130",
   "metadata": {
    "id": "v2n2ONcpWlQl",
    "papermill": {
     "duration": 0.011074,
     "end_time": "2024-11-23T08:52:41.989753",
     "exception": false,
     "start_time": "2024-11-23T08:52:41.978679",
     "status": "completed"
    },
    "tags": []
   },
   "source": [
    "## Data Preparation"
   ]
  },
  {
   "cell_type": "code",
   "execution_count": 6,
   "id": "81eade7b",
   "metadata": {
    "execution": {
     "iopub.execute_input": "2024-11-23T08:52:42.014298Z",
     "iopub.status.busy": "2024-11-23T08:52:42.013825Z",
     "iopub.status.idle": "2024-11-23T08:52:42.025340Z",
     "shell.execute_reply": "2024-11-23T08:52:42.024296Z"
    },
    "id": "x-En8ormWAo8",
    "papermill": {
     "duration": 0.026507,
     "end_time": "2024-11-23T08:52:42.027785",
     "exception": false,
     "start_time": "2024-11-23T08:52:42.001278",
     "status": "completed"
    },
    "tags": []
   },
   "outputs": [],
   "source": [
    "df[\"Date\"] = pd.to_datetime(df[\"Date\"])"
   ]
  },
  {
   "cell_type": "code",
   "execution_count": 7,
   "id": "a1846f70",
   "metadata": {
    "execution": {
     "iopub.execute_input": "2024-11-23T08:52:42.053611Z",
     "iopub.status.busy": "2024-11-23T08:52:42.052537Z",
     "iopub.status.idle": "2024-11-23T08:52:42.066780Z",
     "shell.execute_reply": "2024-11-23T08:52:42.065718Z"
    },
    "id": "Wk3C4MPkWBUG",
    "papermill": {
     "duration": 0.029621,
     "end_time": "2024-11-23T08:52:42.069342",
     "exception": false,
     "start_time": "2024-11-23T08:52:42.039721",
     "status": "completed"
    },
    "tags": []
   },
   "outputs": [
    {
     "data": {
      "text/html": [
       "<div>\n",
       "<style scoped>\n",
       "    .dataframe tbody tr th:only-of-type {\n",
       "        vertical-align: middle;\n",
       "    }\n",
       "\n",
       "    .dataframe tbody tr th {\n",
       "        vertical-align: top;\n",
       "    }\n",
       "\n",
       "    .dataframe thead th {\n",
       "        text-align: right;\n",
       "    }\n",
       "</style>\n",
       "<table border=\"1\" class=\"dataframe\">\n",
       "  <thead>\n",
       "    <tr style=\"text-align: right;\">\n",
       "      <th></th>\n",
       "      <th>Date</th>\n",
       "      <th>Open</th>\n",
       "      <th>High</th>\n",
       "      <th>Low</th>\n",
       "      <th>Close</th>\n",
       "      <th>Adj Close</th>\n",
       "      <th>Volume</th>\n",
       "    </tr>\n",
       "  </thead>\n",
       "  <tbody>\n",
       "    <tr>\n",
       "      <th>0</th>\n",
       "      <td>2010-06-29</td>\n",
       "      <td>19.000000</td>\n",
       "      <td>25.00</td>\n",
       "      <td>17.540001</td>\n",
       "      <td>23.889999</td>\n",
       "      <td>23.889999</td>\n",
       "      <td>18766300</td>\n",
       "    </tr>\n",
       "    <tr>\n",
       "      <th>1</th>\n",
       "      <td>2010-06-30</td>\n",
       "      <td>25.790001</td>\n",
       "      <td>30.42</td>\n",
       "      <td>23.299999</td>\n",
       "      <td>23.830000</td>\n",
       "      <td>23.830000</td>\n",
       "      <td>17187100</td>\n",
       "    </tr>\n",
       "    <tr>\n",
       "      <th>2</th>\n",
       "      <td>2010-07-01</td>\n",
       "      <td>25.000000</td>\n",
       "      <td>25.92</td>\n",
       "      <td>20.270000</td>\n",
       "      <td>21.959999</td>\n",
       "      <td>21.959999</td>\n",
       "      <td>8218800</td>\n",
       "    </tr>\n",
       "    <tr>\n",
       "      <th>3</th>\n",
       "      <td>2010-07-02</td>\n",
       "      <td>23.000000</td>\n",
       "      <td>23.10</td>\n",
       "      <td>18.709999</td>\n",
       "      <td>19.200001</td>\n",
       "      <td>19.200001</td>\n",
       "      <td>5139800</td>\n",
       "    </tr>\n",
       "    <tr>\n",
       "      <th>4</th>\n",
       "      <td>2010-07-06</td>\n",
       "      <td>20.000000</td>\n",
       "      <td>20.00</td>\n",
       "      <td>15.830000</td>\n",
       "      <td>16.110001</td>\n",
       "      <td>16.110001</td>\n",
       "      <td>6866900</td>\n",
       "    </tr>\n",
       "  </tbody>\n",
       "</table>\n",
       "</div>"
      ],
      "text/plain": [
       "        Date       Open   High        Low      Close  Adj Close    Volume\n",
       "0 2010-06-29  19.000000  25.00  17.540001  23.889999  23.889999  18766300\n",
       "1 2010-06-30  25.790001  30.42  23.299999  23.830000  23.830000  17187100\n",
       "2 2010-07-01  25.000000  25.92  20.270000  21.959999  21.959999   8218800\n",
       "3 2010-07-02  23.000000  23.10  18.709999  19.200001  19.200001   5139800\n",
       "4 2010-07-06  20.000000  20.00  15.830000  16.110001  16.110001   6866900"
      ]
     },
     "execution_count": 7,
     "metadata": {},
     "output_type": "execute_result"
    }
   ],
   "source": [
    "df.head()"
   ]
  },
  {
   "cell_type": "code",
   "execution_count": 8,
   "id": "41e754e0",
   "metadata": {
    "execution": {
     "iopub.execute_input": "2024-11-23T08:52:42.094340Z",
     "iopub.status.busy": "2024-11-23T08:52:42.093850Z",
     "iopub.status.idle": "2024-11-23T08:52:42.100556Z",
     "shell.execute_reply": "2024-11-23T08:52:42.099468Z"
    },
    "id": "ZOVzSrk1WCHu",
    "papermill": {
     "duration": 0.021705,
     "end_time": "2024-11-23T08:52:42.102622",
     "exception": false,
     "start_time": "2024-11-23T08:52:42.080917",
     "status": "completed"
    },
    "tags": []
   },
   "outputs": [],
   "source": [
    "tesla_df = df[[\"Date\", \"Close\"]]"
   ]
  },
  {
   "cell_type": "code",
   "execution_count": 9,
   "id": "7c3d34b6",
   "metadata": {
    "execution": {
     "iopub.execute_input": "2024-11-23T08:52:42.128796Z",
     "iopub.status.busy": "2024-11-23T08:52:42.128406Z",
     "iopub.status.idle": "2024-11-23T08:52:42.138473Z",
     "shell.execute_reply": "2024-11-23T08:52:42.137351Z"
    },
    "id": "Tli5FuMBWF8l",
    "papermill": {
     "duration": 0.025544,
     "end_time": "2024-11-23T08:52:42.140685",
     "exception": false,
     "start_time": "2024-11-23T08:52:42.115141",
     "status": "completed"
    },
    "tags": []
   },
   "outputs": [
    {
     "data": {
      "text/html": [
       "<div>\n",
       "<style scoped>\n",
       "    .dataframe tbody tr th:only-of-type {\n",
       "        vertical-align: middle;\n",
       "    }\n",
       "\n",
       "    .dataframe tbody tr th {\n",
       "        vertical-align: top;\n",
       "    }\n",
       "\n",
       "    .dataframe thead th {\n",
       "        text-align: right;\n",
       "    }\n",
       "</style>\n",
       "<table border=\"1\" class=\"dataframe\">\n",
       "  <thead>\n",
       "    <tr style=\"text-align: right;\">\n",
       "      <th></th>\n",
       "      <th>Date</th>\n",
       "      <th>Close</th>\n",
       "    </tr>\n",
       "  </thead>\n",
       "  <tbody>\n",
       "    <tr>\n",
       "      <th>0</th>\n",
       "      <td>2010-06-29</td>\n",
       "      <td>23.889999</td>\n",
       "    </tr>\n",
       "    <tr>\n",
       "      <th>1</th>\n",
       "      <td>2010-06-30</td>\n",
       "      <td>23.830000</td>\n",
       "    </tr>\n",
       "    <tr>\n",
       "      <th>2</th>\n",
       "      <td>2010-07-01</td>\n",
       "      <td>21.959999</td>\n",
       "    </tr>\n",
       "    <tr>\n",
       "      <th>3</th>\n",
       "      <td>2010-07-02</td>\n",
       "      <td>19.200001</td>\n",
       "    </tr>\n",
       "    <tr>\n",
       "      <th>4</th>\n",
       "      <td>2010-07-06</td>\n",
       "      <td>16.110001</td>\n",
       "    </tr>\n",
       "  </tbody>\n",
       "</table>\n",
       "</div>"
      ],
      "text/plain": [
       "        Date      Close\n",
       "0 2010-06-29  23.889999\n",
       "1 2010-06-30  23.830000\n",
       "2 2010-07-01  21.959999\n",
       "3 2010-07-02  19.200001\n",
       "4 2010-07-06  16.110001"
      ]
     },
     "execution_count": 9,
     "metadata": {},
     "output_type": "execute_result"
    }
   ],
   "source": [
    "tesla_df.head()"
   ]
  },
  {
   "cell_type": "code",
   "execution_count": 10,
   "id": "a9d19134",
   "metadata": {
    "execution": {
     "iopub.execute_input": "2024-11-23T08:52:42.166246Z",
     "iopub.status.busy": "2024-11-23T08:52:42.165834Z",
     "iopub.status.idle": "2024-11-23T08:52:42.173175Z",
     "shell.execute_reply": "2024-11-23T08:52:42.172053Z"
    },
    "id": "Gsw5OQCAWLzn",
    "papermill": {
     "duration": 0.02311,
     "end_time": "2024-11-23T08:52:42.175619",
     "exception": false,
     "start_time": "2024-11-23T08:52:42.152509",
     "status": "completed"
    },
    "tags": []
   },
   "outputs": [
    {
     "name": "stdout",
     "output_type": "stream",
     "text": [
      "Min Date:  2010-06-29 00:00:00\n",
      "Max Date:  2020-02-03 00:00:00\n"
     ]
    }
   ],
   "source": [
    "print(\"Min Date: \", tesla_df[\"Date\"].min())\n",
    "print(\"Max Date: \", tesla_df[\"Date\"].max())"
   ]
  },
  {
   "cell_type": "code",
   "execution_count": 11,
   "id": "1d27d5d6",
   "metadata": {
    "execution": {
     "iopub.execute_input": "2024-11-23T08:52:42.200909Z",
     "iopub.status.busy": "2024-11-23T08:52:42.200477Z",
     "iopub.status.idle": "2024-11-23T08:52:42.205537Z",
     "shell.execute_reply": "2024-11-23T08:52:42.204349Z"
    },
    "id": "JGi8P08mWQO1",
    "papermill": {
     "duration": 0.020264,
     "end_time": "2024-11-23T08:52:42.207655",
     "exception": false,
     "start_time": "2024-11-23T08:52:42.187391",
     "status": "completed"
    },
    "tags": []
   },
   "outputs": [],
   "source": [
    "tesla_df.index = tesla_df[\"Date\"]"
   ]
  },
  {
   "cell_type": "code",
   "execution_count": 12,
   "id": "88db85b3",
   "metadata": {
    "execution": {
     "iopub.execute_input": "2024-11-23T08:52:42.234047Z",
     "iopub.status.busy": "2024-11-23T08:52:42.233640Z",
     "iopub.status.idle": "2024-11-23T08:52:42.245192Z",
     "shell.execute_reply": "2024-11-23T08:52:42.244129Z"
    },
    "id": "YBWxX2IOWoL_",
    "papermill": {
     "duration": 0.027833,
     "end_time": "2024-11-23T08:52:42.247323",
     "exception": false,
     "start_time": "2024-11-23T08:52:42.219490",
     "status": "completed"
    },
    "tags": []
   },
   "outputs": [
    {
     "data": {
      "text/html": [
       "<div>\n",
       "<style scoped>\n",
       "    .dataframe tbody tr th:only-of-type {\n",
       "        vertical-align: middle;\n",
       "    }\n",
       "\n",
       "    .dataframe tbody tr th {\n",
       "        vertical-align: top;\n",
       "    }\n",
       "\n",
       "    .dataframe thead th {\n",
       "        text-align: right;\n",
       "    }\n",
       "</style>\n",
       "<table border=\"1\" class=\"dataframe\">\n",
       "  <thead>\n",
       "    <tr style=\"text-align: right;\">\n",
       "      <th></th>\n",
       "      <th>Date</th>\n",
       "      <th>Close</th>\n",
       "    </tr>\n",
       "    <tr>\n",
       "      <th>Date</th>\n",
       "      <th></th>\n",
       "      <th></th>\n",
       "    </tr>\n",
       "  </thead>\n",
       "  <tbody>\n",
       "    <tr>\n",
       "      <th>2010-06-29</th>\n",
       "      <td>2010-06-29</td>\n",
       "      <td>23.889999</td>\n",
       "    </tr>\n",
       "    <tr>\n",
       "      <th>2010-06-30</th>\n",
       "      <td>2010-06-30</td>\n",
       "      <td>23.830000</td>\n",
       "    </tr>\n",
       "    <tr>\n",
       "      <th>2010-07-01</th>\n",
       "      <td>2010-07-01</td>\n",
       "      <td>21.959999</td>\n",
       "    </tr>\n",
       "    <tr>\n",
       "      <th>2010-07-02</th>\n",
       "      <td>2010-07-02</td>\n",
       "      <td>19.200001</td>\n",
       "    </tr>\n",
       "    <tr>\n",
       "      <th>2010-07-06</th>\n",
       "      <td>2010-07-06</td>\n",
       "      <td>16.110001</td>\n",
       "    </tr>\n",
       "    <tr>\n",
       "      <th>...</th>\n",
       "      <td>...</td>\n",
       "      <td>...</td>\n",
       "    </tr>\n",
       "    <tr>\n",
       "      <th>2020-01-28</th>\n",
       "      <td>2020-01-28</td>\n",
       "      <td>566.900024</td>\n",
       "    </tr>\n",
       "    <tr>\n",
       "      <th>2020-01-29</th>\n",
       "      <td>2020-01-29</td>\n",
       "      <td>580.989990</td>\n",
       "    </tr>\n",
       "    <tr>\n",
       "      <th>2020-01-30</th>\n",
       "      <td>2020-01-30</td>\n",
       "      <td>640.809998</td>\n",
       "    </tr>\n",
       "    <tr>\n",
       "      <th>2020-01-31</th>\n",
       "      <td>2020-01-31</td>\n",
       "      <td>650.570007</td>\n",
       "    </tr>\n",
       "    <tr>\n",
       "      <th>2020-02-03</th>\n",
       "      <td>2020-02-03</td>\n",
       "      <td>780.000000</td>\n",
       "    </tr>\n",
       "  </tbody>\n",
       "</table>\n",
       "<p>2416 rows × 2 columns</p>\n",
       "</div>"
      ],
      "text/plain": [
       "                 Date       Close\n",
       "Date                             \n",
       "2010-06-29 2010-06-29   23.889999\n",
       "2010-06-30 2010-06-30   23.830000\n",
       "2010-07-01 2010-07-01   21.959999\n",
       "2010-07-02 2010-07-02   19.200001\n",
       "2010-07-06 2010-07-06   16.110001\n",
       "...               ...         ...\n",
       "2020-01-28 2020-01-28  566.900024\n",
       "2020-01-29 2020-01-29  580.989990\n",
       "2020-01-30 2020-01-30  640.809998\n",
       "2020-01-31 2020-01-31  650.570007\n",
       "2020-02-03 2020-02-03  780.000000\n",
       "\n",
       "[2416 rows x 2 columns]"
      ]
     },
     "execution_count": 12,
     "metadata": {},
     "output_type": "execute_result"
    }
   ],
   "source": [
    "tesla_df"
   ]
  },
  {
   "cell_type": "code",
   "execution_count": 13,
   "id": "94d05091",
   "metadata": {
    "execution": {
     "iopub.execute_input": "2024-11-23T08:52:42.273676Z",
     "iopub.status.busy": "2024-11-23T08:52:42.273247Z",
     "iopub.status.idle": "2024-11-23T08:52:42.279556Z",
     "shell.execute_reply": "2024-11-23T08:52:42.278099Z"
    },
    "id": "tgPM31WBWvcH",
    "papermill": {
     "duration": 0.022166,
     "end_time": "2024-11-23T08:52:42.281625",
     "exception": false,
     "start_time": "2024-11-23T08:52:42.259459",
     "status": "completed"
    },
    "tags": []
   },
   "outputs": [],
   "source": [
    "tesla_df.drop(\"Date\", axis=1, inplace=True)"
   ]
  },
  {
   "cell_type": "code",
   "execution_count": 14,
   "id": "dd9a8880",
   "metadata": {
    "execution": {
     "iopub.execute_input": "2024-11-23T08:52:42.307685Z",
     "iopub.status.busy": "2024-11-23T08:52:42.307311Z",
     "iopub.status.idle": "2024-11-23T08:52:42.318200Z",
     "shell.execute_reply": "2024-11-23T08:52:42.317205Z"
    },
    "id": "17KdnKMGWwSm",
    "papermill": {
     "duration": 0.027009,
     "end_time": "2024-11-23T08:52:42.321114",
     "exception": false,
     "start_time": "2024-11-23T08:52:42.294105",
     "status": "completed"
    },
    "tags": []
   },
   "outputs": [
    {
     "data": {
      "text/html": [
       "<div>\n",
       "<style scoped>\n",
       "    .dataframe tbody tr th:only-of-type {\n",
       "        vertical-align: middle;\n",
       "    }\n",
       "\n",
       "    .dataframe tbody tr th {\n",
       "        vertical-align: top;\n",
       "    }\n",
       "\n",
       "    .dataframe thead th {\n",
       "        text-align: right;\n",
       "    }\n",
       "</style>\n",
       "<table border=\"1\" class=\"dataframe\">\n",
       "  <thead>\n",
       "    <tr style=\"text-align: right;\">\n",
       "      <th></th>\n",
       "      <th>Close</th>\n",
       "    </tr>\n",
       "    <tr>\n",
       "      <th>Date</th>\n",
       "      <th></th>\n",
       "    </tr>\n",
       "  </thead>\n",
       "  <tbody>\n",
       "    <tr>\n",
       "      <th>2010-06-29</th>\n",
       "      <td>23.889999</td>\n",
       "    </tr>\n",
       "    <tr>\n",
       "      <th>2010-06-30</th>\n",
       "      <td>23.830000</td>\n",
       "    </tr>\n",
       "    <tr>\n",
       "      <th>2010-07-01</th>\n",
       "      <td>21.959999</td>\n",
       "    </tr>\n",
       "    <tr>\n",
       "      <th>2010-07-02</th>\n",
       "      <td>19.200001</td>\n",
       "    </tr>\n",
       "    <tr>\n",
       "      <th>2010-07-06</th>\n",
       "      <td>16.110001</td>\n",
       "    </tr>\n",
       "    <tr>\n",
       "      <th>...</th>\n",
       "      <td>...</td>\n",
       "    </tr>\n",
       "    <tr>\n",
       "      <th>2020-01-28</th>\n",
       "      <td>566.900024</td>\n",
       "    </tr>\n",
       "    <tr>\n",
       "      <th>2020-01-29</th>\n",
       "      <td>580.989990</td>\n",
       "    </tr>\n",
       "    <tr>\n",
       "      <th>2020-01-30</th>\n",
       "      <td>640.809998</td>\n",
       "    </tr>\n",
       "    <tr>\n",
       "      <th>2020-01-31</th>\n",
       "      <td>650.570007</td>\n",
       "    </tr>\n",
       "    <tr>\n",
       "      <th>2020-02-03</th>\n",
       "      <td>780.000000</td>\n",
       "    </tr>\n",
       "  </tbody>\n",
       "</table>\n",
       "<p>2416 rows × 1 columns</p>\n",
       "</div>"
      ],
      "text/plain": [
       "                 Close\n",
       "Date                  \n",
       "2010-06-29   23.889999\n",
       "2010-06-30   23.830000\n",
       "2010-07-01   21.959999\n",
       "2010-07-02   19.200001\n",
       "2010-07-06   16.110001\n",
       "...                ...\n",
       "2020-01-28  566.900024\n",
       "2020-01-29  580.989990\n",
       "2020-01-30  640.809998\n",
       "2020-01-31  650.570007\n",
       "2020-02-03  780.000000\n",
       "\n",
       "[2416 rows x 1 columns]"
      ]
     },
     "execution_count": 14,
     "metadata": {},
     "output_type": "execute_result"
    }
   ],
   "source": [
    "tesla_df"
   ]
  },
  {
   "cell_type": "code",
   "execution_count": 15,
   "id": "c5eb074a",
   "metadata": {
    "execution": {
     "iopub.execute_input": "2024-11-23T08:52:42.347475Z",
     "iopub.status.busy": "2024-11-23T08:52:42.347063Z",
     "iopub.status.idle": "2024-11-23T08:52:42.352473Z",
     "shell.execute_reply": "2024-11-23T08:52:42.351306Z"
    },
    "id": "PliZ5OcsWxsF",
    "papermill": {
     "duration": 0.020996,
     "end_time": "2024-11-23T08:52:42.354551",
     "exception": false,
     "start_time": "2024-11-23T08:52:42.333555",
     "status": "completed"
    },
    "tags": []
   },
   "outputs": [],
   "source": [
    "result_df = tesla_df.copy()"
   ]
  },
  {
   "cell_type": "code",
   "execution_count": 16,
   "id": "06a2cc97",
   "metadata": {
    "execution": {
     "iopub.execute_input": "2024-11-23T08:52:42.380122Z",
     "iopub.status.busy": "2024-11-23T08:52:42.379703Z",
     "iopub.status.idle": "2024-11-23T08:52:42.709980Z",
     "shell.execute_reply": "2024-11-23T08:52:42.709005Z"
    },
    "id": "ObqHX6K2W0te",
    "papermill": {
     "duration": 0.345997,
     "end_time": "2024-11-23T08:52:42.712675",
     "exception": false,
     "start_time": "2024-11-23T08:52:42.366678",
     "status": "completed"
    },
    "tags": []
   },
   "outputs": [
    {
     "data": {
      "image/png": "[encoded data removed]",
      "text/plain": [
       "<Figure size 1400x500 with 1 Axes>"
      ]
     },
     "metadata": {},
     "output_type": "display_data"
    }
   ],
   "source": [
    "plt.figure(figsize=(14,5))\n",
    "plt.plot(tesla_df['Close'], color='blue')\n",
    "plt.title(\"Tesla Stock Price\")\n",
    "plt.xlabel(\"Time\")\n",
    "plt.ylabel(\"Stock Price\")\n",
    "plt.show()"
   ]
  },
  {
   "cell_type": "code",
   "execution_count": 17,
   "id": "133c9134",
   "metadata": {
    "execution": {
     "iopub.execute_input": "2024-11-23T08:52:42.740188Z",
     "iopub.status.busy": "2024-11-23T08:52:42.739818Z",
     "iopub.status.idle": "2024-11-23T08:52:42.744647Z",
     "shell.execute_reply": "2024-11-23T08:52:42.743466Z"
    },
    "id": "5LWFDWjNW2z2",
    "papermill": {
     "duration": 0.0211,
     "end_time": "2024-11-23T08:52:42.746943",
     "exception": false,
     "start_time": "2024-11-23T08:52:42.725843",
     "status": "completed"
    },
    "tags": []
   },
   "outputs": [],
   "source": [
    "tesla_df = tesla_df.values"
   ]
  },
  {
   "cell_type": "code",
   "execution_count": 18,
   "id": "73d81e4e",
   "metadata": {
    "execution": {
     "iopub.execute_input": "2024-11-23T08:52:42.774227Z",
     "iopub.status.busy": "2024-11-23T08:52:42.773820Z",
     "iopub.status.idle": "2024-11-23T08:52:42.780852Z",
     "shell.execute_reply": "2024-11-23T08:52:42.779740Z"
    },
    "id": "jxFZkTS-W9Mm",
    "papermill": {
     "duration": 0.023142,
     "end_time": "2024-11-23T08:52:42.782898",
     "exception": false,
     "start_time": "2024-11-23T08:52:42.759756",
     "status": "completed"
    },
    "tags": []
   },
   "outputs": [
    {
     "data": {
      "text/plain": [
       "array([[23.889999],\n",
       "       [23.83    ],\n",
       "       [21.959999],\n",
       "       [19.200001],\n",
       "       [16.110001]])"
      ]
     },
     "execution_count": 18,
     "metadata": {},
     "output_type": "execute_result"
    }
   ],
   "source": [
    "tesla_df[0:5]"
   ]
  },
  {
   "cell_type": "code",
   "execution_count": 19,
   "id": "e576730a",
   "metadata": {
    "execution": {
     "iopub.execute_input": "2024-11-23T08:52:42.810899Z",
     "iopub.status.busy": "2024-11-23T08:52:42.809981Z",
     "iopub.status.idle": "2024-11-23T08:52:42.814817Z",
     "shell.execute_reply": "2024-11-23T08:52:42.813819Z"
    },
    "id": "iU7KJlc4XAb2",
    "papermill": {
     "duration": 0.021103,
     "end_time": "2024-11-23T08:52:42.816915",
     "exception": false,
     "start_time": "2024-11-23T08:52:42.795812",
     "status": "completed"
    },
    "tags": []
   },
   "outputs": [],
   "source": [
    "tesla_df = tesla_df.astype(\"float32\")"
   ]
  },
  {
   "cell_type": "code",
   "execution_count": 20,
   "id": "cce8a47d",
   "metadata": {
    "execution": {
     "iopub.execute_input": "2024-11-23T08:52:42.846115Z",
     "iopub.status.busy": "2024-11-23T08:52:42.845756Z",
     "iopub.status.idle": "2024-11-23T08:52:42.851349Z",
     "shell.execute_reply": "2024-11-23T08:52:42.850056Z"
    },
    "id": "r7Cywk9oXBI-",
    "papermill": {
     "duration": 0.022243,
     "end_time": "2024-11-23T08:52:42.853466",
     "exception": false,
     "start_time": "2024-11-23T08:52:42.831223",
     "status": "completed"
    },
    "tags": []
   },
   "outputs": [],
   "source": [
    "def split_data(dataframe, test_size):\n",
    "  position = int(round(len(dataframe) * (1 - test_size)))\n",
    "  train = dataframe[:position]\n",
    "  test = dataframe[position:]\n",
    "  return train, test, position"
   ]
  },
  {
   "cell_type": "code",
   "execution_count": 21,
   "id": "5e7e5080",
   "metadata": {
    "execution": {
     "iopub.execute_input": "2024-11-23T08:52:42.881651Z",
     "iopub.status.busy": "2024-11-23T08:52:42.881204Z",
     "iopub.status.idle": "2024-11-23T08:52:42.886099Z",
     "shell.execute_reply": "2024-11-23T08:52:42.885061Z"
    },
    "id": "COxqfz0SZvV_",
    "papermill": {
     "duration": 0.021727,
     "end_time": "2024-11-23T08:52:42.888226",
     "exception": false,
     "start_time": "2024-11-23T08:52:42.866499",
     "status": "completed"
    },
    "tags": []
   },
   "outputs": [],
   "source": [
    "train, test, position = split_data(tesla_df, 0.20)"
   ]
  },
  {
   "cell_type": "code",
   "execution_count": 22,
   "id": "4499c8a2",
   "metadata": {
    "execution": {
     "iopub.execute_input": "2024-11-23T08:52:42.915474Z",
     "iopub.status.busy": "2024-11-23T08:52:42.915095Z",
     "iopub.status.idle": "2024-11-23T08:52:42.920848Z",
     "shell.execute_reply": "2024-11-23T08:52:42.919637Z"
    },
    "id": "jESwxnt2Z1t5",
    "papermill": {
     "duration": 0.02183,
     "end_time": "2024-11-23T08:52:42.922859",
     "exception": false,
     "start_time": "2024-11-23T08:52:42.901029",
     "status": "completed"
    },
    "tags": []
   },
   "outputs": [
    {
     "name": "stdout",
     "output_type": "stream",
     "text": [
      "(1933, 1) (483, 1)\n"
     ]
    }
   ],
   "source": [
    "print(train.shape, test.shape)"
   ]
  },
  {
   "cell_type": "code",
   "execution_count": 23,
   "id": "e2344809",
   "metadata": {
    "execution": {
     "iopub.execute_input": "2024-11-23T08:52:42.950622Z",
     "iopub.status.busy": "2024-11-23T08:52:42.950210Z",
     "iopub.status.idle": "2024-11-23T08:52:42.955151Z",
     "shell.execute_reply": "2024-11-23T08:52:42.954134Z"
    },
    "id": "wleQDdgSZ8NZ",
    "papermill": {
     "duration": 0.021633,
     "end_time": "2024-11-23T08:52:42.957510",
     "exception": false,
     "start_time": "2024-11-23T08:52:42.935877",
     "status": "completed"
    },
    "tags": []
   },
   "outputs": [],
   "source": [
    "scaler_train = MinMaxScaler(feature_range = (0,1))"
   ]
  },
  {
   "cell_type": "code",
   "execution_count": 24,
   "id": "c29ca2cd",
   "metadata": {
    "execution": {
     "iopub.execute_input": "2024-11-23T08:52:42.986534Z",
     "iopub.status.busy": "2024-11-23T08:52:42.985947Z",
     "iopub.status.idle": "2024-11-23T08:52:42.992645Z",
     "shell.execute_reply": "2024-11-23T08:52:42.991535Z"
    },
    "id": "Enf8wikDaNZh",
    "papermill": {
     "duration": 0.023917,
     "end_time": "2024-11-23T08:52:42.994879",
     "exception": false,
     "start_time": "2024-11-23T08:52:42.970962",
     "status": "completed"
    },
    "tags": []
   },
   "outputs": [],
   "source": [
    "train = scaler_train.fit_transform(train)"
   ]
  },
  {
   "cell_type": "code",
   "execution_count": 25,
   "id": "f9da3b9d",
   "metadata": {
    "execution": {
     "iopub.execute_input": "2024-11-23T08:52:43.023452Z",
     "iopub.status.busy": "2024-11-23T08:52:43.023004Z",
     "iopub.status.idle": "2024-11-23T08:52:43.028210Z",
     "shell.execute_reply": "2024-11-23T08:52:43.027159Z"
    },
    "id": "cg-7tCn_aXTc",
    "papermill": {
     "duration": 0.022362,
     "end_time": "2024-11-23T08:52:43.030555",
     "exception": false,
     "start_time": "2024-11-23T08:52:43.008193",
     "status": "completed"
    },
    "tags": []
   },
   "outputs": [],
   "source": [
    "scaler_test = MinMaxScaler(feature_range = (0,1))"
   ]
  },
  {
   "cell_type": "code",
   "execution_count": 26,
   "id": "4cf40e55",
   "metadata": {
    "execution": {
     "iopub.execute_input": "2024-11-23T08:52:43.058737Z",
     "iopub.status.busy": "2024-11-23T08:52:43.057806Z",
     "iopub.status.idle": "2024-11-23T08:52:43.063730Z",
     "shell.execute_reply": "2024-11-23T08:52:43.062571Z"
    },
    "id": "tSbuIifiabbC",
    "papermill": {
     "duration": 0.022392,
     "end_time": "2024-11-23T08:52:43.065941",
     "exception": false,
     "start_time": "2024-11-23T08:52:43.043549",
     "status": "completed"
    },
    "tags": []
   },
   "outputs": [],
   "source": [
    "test = scaler_test.fit_transform(test)"
   ]
  },
  {
   "cell_type": "code",
   "execution_count": 27,
   "id": "0c3e51d0",
   "metadata": {
    "execution": {
     "iopub.execute_input": "2024-11-23T08:52:43.094207Z",
     "iopub.status.busy": "2024-11-23T08:52:43.093277Z",
     "iopub.status.idle": "2024-11-23T08:52:43.100160Z",
     "shell.execute_reply": "2024-11-23T08:52:43.099105Z"
    },
    "id": "X5a7m_BEagaJ",
    "papermill": {
     "duration": 0.023233,
     "end_time": "2024-11-23T08:52:43.102241",
     "exception": false,
     "start_time": "2024-11-23T08:52:43.079008",
     "status": "completed"
    },
    "tags": []
   },
   "outputs": [
    {
     "data": {
      "text/plain": [
       "array([[0.02191224],\n",
       "       [0.02174973],\n",
       "       [0.01668472],\n",
       "       [0.0092091 ],\n",
       "       [0.00083966]], dtype=float32)"
      ]
     },
     "execution_count": 27,
     "metadata": {},
     "output_type": "execute_result"
    }
   ],
   "source": [
    "train[0:5]"
   ]
  },
  {
   "cell_type": "code",
   "execution_count": 28,
   "id": "dc96f54d",
   "metadata": {
    "execution": {
     "iopub.execute_input": "2024-11-23T08:52:43.130360Z",
     "iopub.status.busy": "2024-11-23T08:52:43.129886Z",
     "iopub.status.idle": "2024-11-23T08:52:43.137184Z",
     "shell.execute_reply": "2024-11-23T08:52:43.136130Z"
    },
    "id": "AeVSy_ijahnh",
    "papermill": {
     "duration": 0.02415,
     "end_time": "2024-11-23T08:52:43.139434",
     "exception": false,
     "start_time": "2024-11-23T08:52:43.115284",
     "status": "completed"
    },
    "tags": []
   },
   "outputs": [
    {
     "data": {
      "text/plain": [
       "array([[0.25685903],\n",
       "       [0.24829045],\n",
       "       [0.25511202],\n",
       "       [0.24978784],\n",
       "       [0.2465767 ]], dtype=float32)"
      ]
     },
     "execution_count": 28,
     "metadata": {},
     "output_type": "execute_result"
    }
   ],
   "source": [
    "test[0:5]"
   ]
  },
  {
   "cell_type": "code",
   "execution_count": 29,
   "id": "1947bc14",
   "metadata": {
    "execution": {
     "iopub.execute_input": "2024-11-23T08:52:43.167940Z",
     "iopub.status.busy": "2024-11-23T08:52:43.167490Z",
     "iopub.status.idle": "2024-11-23T08:52:43.173433Z",
     "shell.execute_reply": "2024-11-23T08:52:43.172283Z"
    },
    "id": "Gv95UqJWasHS",
    "papermill": {
     "duration": 0.022937,
     "end_time": "2024-11-23T08:52:43.175726",
     "exception": false,
     "start_time": "2024-11-23T08:52:43.152789",
     "status": "completed"
    },
    "tags": []
   },
   "outputs": [],
   "source": [
    "def create_features(data, lookback):\n",
    "  X, Y = [], []\n",
    "  for i in range(lookback, len(data)):\n",
    "    X.append(data[i-lookback:i,0])\n",
    "    Y.append(data[i,0])\n",
    "\n",
    "  return np.array(X), np.array(Y)"
   ]
  },
  {
   "cell_type": "code",
   "execution_count": 30,
   "id": "2a75346d",
   "metadata": {
    "execution": {
     "iopub.execute_input": "2024-11-23T08:52:43.204744Z",
     "iopub.status.busy": "2024-11-23T08:52:43.204322Z",
     "iopub.status.idle": "2024-11-23T08:52:43.209441Z",
     "shell.execute_reply": "2024-11-23T08:52:43.208188Z"
    },
    "id": "e36Ux4_CbASm",
    "papermill": {
     "duration": 0.02273,
     "end_time": "2024-11-23T08:52:43.211806",
     "exception": false,
     "start_time": "2024-11-23T08:52:43.189076",
     "status": "completed"
    },
    "tags": []
   },
   "outputs": [],
   "source": [
    "lookback = 20"
   ]
  },
  {
   "cell_type": "code",
   "execution_count": 31,
   "id": "9eabb11c",
   "metadata": {
    "execution": {
     "iopub.execute_input": "2024-11-23T08:52:43.240216Z",
     "iopub.status.busy": "2024-11-23T08:52:43.239351Z",
     "iopub.status.idle": "2024-11-23T08:52:43.247747Z",
     "shell.execute_reply": "2024-11-23T08:52:43.246751Z"
    },
    "id": "Xd8JMdaWbCzp",
    "papermill": {
     "duration": 0.025117,
     "end_time": "2024-11-23T08:52:43.250102",
     "exception": false,
     "start_time": "2024-11-23T08:52:43.224985",
     "status": "completed"
    },
    "tags": []
   },
   "outputs": [],
   "source": [
    "X_train, y_train = create_features(train, lookback)"
   ]
  },
  {
   "cell_type": "code",
   "execution_count": 32,
   "id": "403ed6d1",
   "metadata": {
    "execution": {
     "iopub.execute_input": "2024-11-23T08:52:43.334435Z",
     "iopub.status.busy": "2024-11-23T08:52:43.334011Z",
     "iopub.status.idle": "2024-11-23T08:52:43.340883Z",
     "shell.execute_reply": "2024-11-23T08:52:43.339778Z"
    },
    "id": "wHgq8DT5bF_Z",
    "papermill": {
     "duration": 0.079953,
     "end_time": "2024-11-23T08:52:43.343601",
     "exception": false,
     "start_time": "2024-11-23T08:52:43.263648",
     "status": "completed"
    },
    "tags": []
   },
   "outputs": [],
   "source": [
    "X_test, y_test = create_features(test, lookback)"
   ]
  },
  {
   "cell_type": "code",
   "execution_count": 33,
   "id": "93dea1e6",
   "metadata": {
    "execution": {
     "iopub.execute_input": "2024-11-23T08:52:43.372278Z",
     "iopub.status.busy": "2024-11-23T08:52:43.371744Z",
     "iopub.status.idle": "2024-11-23T08:52:43.378289Z",
     "shell.execute_reply": "2024-11-23T08:52:43.376893Z"
    },
    "id": "zYQy_33TbKdb",
    "papermill": {
     "duration": 0.023523,
     "end_time": "2024-11-23T08:52:43.380629",
     "exception": false,
     "start_time": "2024-11-23T08:52:43.357106",
     "status": "completed"
    },
    "tags": []
   },
   "outputs": [
    {
     "name": "stdout",
     "output_type": "stream",
     "text": [
      "(1913, 20) (1913,) (463, 20) (463,)\n"
     ]
    }
   ],
   "source": [
    "print(X_train.shape, y_train.shape, X_test.shape, y_test.shape)"
   ]
  },
  {
   "cell_type": "code",
   "execution_count": 34,
   "id": "48f1ad18",
   "metadata": {
    "execution": {
     "iopub.execute_input": "2024-11-23T08:52:43.410453Z",
     "iopub.status.busy": "2024-11-23T08:52:43.409162Z",
     "iopub.status.idle": "2024-11-23T08:52:43.418592Z",
     "shell.execute_reply": "2024-11-23T08:52:43.417316Z"
    },
    "id": "sI1k-K6bTKuw",
    "papermill": {
     "duration": 0.026724,
     "end_time": "2024-11-23T08:52:43.420958",
     "exception": false,
     "start_time": "2024-11-23T08:52:43.394234",
     "status": "completed"
    },
    "tags": []
   },
   "outputs": [
    {
     "data": {
      "text/plain": [
       "array([[0.02191224, 0.02174973, 0.01668472, 0.0092091 , 0.00083966,\n",
       "        0.        , 0.00449621, 0.00433369, 0.0033857 , 0.00633803,\n",
       "        0.01094258, 0.011078  , 0.01310942, 0.0165493 , 0.01218851,\n",
       "        0.01197183, 0.01408451, 0.01486999, 0.01394908, 0.01286566],\n",
       "       [0.02174973, 0.01668472, 0.0092091 , 0.00083966, 0.        ,\n",
       "        0.00449621, 0.00433369, 0.0033857 , 0.00633803, 0.01094258,\n",
       "        0.011078  , 0.01310942, 0.0165493 , 0.01218851, 0.01197183,\n",
       "        0.01408451, 0.01486999, 0.01394908, 0.01286566, 0.01332611],\n",
       "       [0.01668472, 0.0092091 , 0.00083966, 0.        , 0.00449621,\n",
       "        0.00433369, 0.0033857 , 0.00633803, 0.01094258, 0.011078  ,\n",
       "        0.01310942, 0.0165493 , 0.01218851, 0.01197183, 0.01408451,\n",
       "        0.01486999, 0.01394908, 0.01286566, 0.01332611, 0.01232395],\n",
       "       [0.0092091 , 0.00083966, 0.        , 0.00449621, 0.00433369,\n",
       "        0.0033857 , 0.00633803, 0.01094258, 0.011078  , 0.01310942,\n",
       "        0.0165493 , 0.01218851, 0.01197183, 0.01408451, 0.01486999,\n",
       "        0.01394908, 0.01286566, 0.01332611, 0.01232395, 0.01121344],\n",
       "       [0.00083966, 0.        , 0.00449621, 0.00433369, 0.0033857 ,\n",
       "        0.00633803, 0.01094258, 0.011078  , 0.01310942, 0.0165493 ,\n",
       "        0.01218851, 0.01197183, 0.01408451, 0.01486999, 0.01394908,\n",
       "        0.01286566, 0.01332611, 0.01232395, 0.01121344, 0.01386782]],\n",
       "      dtype=float32)"
      ]
     },
     "execution_count": 34,
     "metadata": {},
     "output_type": "execute_result"
    }
   ],
   "source": [
    "X_train[0:5]"
   ]
  },
  {
   "cell_type": "code",
   "execution_count": 35,
   "id": "1a728247",
   "metadata": {
    "execution": {
     "iopub.execute_input": "2024-11-23T08:52:43.449380Z",
     "iopub.status.busy": "2024-11-23T08:52:43.448950Z",
     "iopub.status.idle": "2024-11-23T08:52:43.456509Z",
     "shell.execute_reply": "2024-11-23T08:52:43.455430Z"
    },
    "id": "vY5hCVQHTg9u",
    "papermill": {
     "duration": 0.024419,
     "end_time": "2024-11-23T08:52:43.458760",
     "exception": false,
     "start_time": "2024-11-23T08:52:43.434341",
     "status": "completed"
    },
    "tags": []
   },
   "outputs": [
    {
     "data": {
      "text/plain": [
       "array([0.01332611, 0.01232395, 0.01121344, 0.01386782, 0.01665764],\n",
       "      dtype=float32)"
      ]
     },
     "execution_count": 35,
     "metadata": {},
     "output_type": "execute_result"
    }
   ],
   "source": [
    "y_train[0:5]"
   ]
  },
  {
   "cell_type": "code",
   "execution_count": 36,
   "id": "726d09a0",
   "metadata": {
    "execution": {
     "iopub.execute_input": "2024-11-23T08:52:43.489356Z",
     "iopub.status.busy": "2024-11-23T08:52:43.488962Z",
     "iopub.status.idle": "2024-11-23T08:52:43.494772Z",
     "shell.execute_reply": "2024-11-23T08:52:43.493706Z"
    },
    "id": "yvf-4kLybad5",
    "papermill": {
     "duration": 0.024477,
     "end_time": "2024-11-23T08:52:43.496832",
     "exception": false,
     "start_time": "2024-11-23T08:52:43.472355",
     "status": "completed"
    },
    "tags": []
   },
   "outputs": [],
   "source": [
    "X_train = np.reshape(X_train, (X_train.shape[0], 1, X_train.shape[1]))\n",
    "X_test = np.reshape(X_test, (X_test.shape[0], 1, X_test.shape[1]))\n",
    "y_train = y_train.reshape(-1,1)\n",
    "y_test = y_test.reshape(-1,1)"
   ]
  },
  {
   "cell_type": "code",
   "execution_count": 37,
   "id": "54203326",
   "metadata": {
    "execution": {
     "iopub.execute_input": "2024-11-23T08:52:43.526005Z",
     "iopub.status.busy": "2024-11-23T08:52:43.525627Z",
     "iopub.status.idle": "2024-11-23T08:52:43.532208Z",
     "shell.execute_reply": "2024-11-23T08:52:43.530836Z"
    },
    "id": "D2ltv0Edb3wz",
    "papermill": {
     "duration": 0.023903,
     "end_time": "2024-11-23T08:52:43.534475",
     "exception": false,
     "start_time": "2024-11-23T08:52:43.510572",
     "status": "completed"
    },
    "tags": []
   },
   "outputs": [
    {
     "name": "stdout",
     "output_type": "stream",
     "text": [
      "(1913, 1, 20) (1913, 1) (463, 1, 20) (463, 1)\n"
     ]
    }
   ],
   "source": [
    "print(X_train.shape, y_train.shape, X_test.shape, y_test.shape)"
   ]
  },
  {
   "cell_type": "markdown",
   "id": "3efa9502",
   "metadata": {
    "id": "DtsN3xazcIAn",
    "papermill": {
     "duration": 0.013498,
     "end_time": "2024-11-23T08:52:43.561726",
     "exception": false,
     "start_time": "2024-11-23T08:52:43.548228",
     "status": "completed"
    },
    "tags": []
   },
   "source": [
    "## Modelling"
   ]
  },
  {
   "cell_type": "code",
   "execution_count": 38,
   "id": "68748a1e",
   "metadata": {
    "execution": {
     "iopub.execute_input": "2024-11-23T08:52:43.590831Z",
     "iopub.status.busy": "2024-11-23T08:52:43.590414Z",
     "iopub.status.idle": "2024-11-23T08:52:43.716121Z",
     "shell.execute_reply": "2024-11-23T08:52:43.714997Z"
    },
    "id": "QtbQx4G9cI_z",
    "papermill": {
     "duration": 0.143247,
     "end_time": "2024-11-23T08:52:43.718701",
     "exception": false,
     "start_time": "2024-11-23T08:52:43.575454",
     "status": "completed"
    },
    "tags": []
   },
   "outputs": [],
   "source": [
    "model = Sequential()\n",
    "\n",
    "model.add(LSTM(units = 50,\n",
    "                    activation = 'relu',\n",
    "                    input_shape=(X_train.shape[1], lookback)))\n",
    "\n",
    "model.add(Dropout(0.2))\n",
    "\n",
    "model.add(Dense(1))\n"
   ]
  },
  {
   "cell_type": "code",
   "execution_count": 39,
   "id": "d0c48355",
   "metadata": {
    "execution": {
     "iopub.execute_input": "2024-11-23T08:52:43.748642Z",
     "iopub.status.busy": "2024-11-23T08:52:43.748201Z",
     "iopub.status.idle": "2024-11-23T08:52:43.769347Z",
     "shell.execute_reply": "2024-11-23T08:52:43.768351Z"
    },
    "id": "RQFXIkDbciE6",
    "papermill": {
     "duration": 0.039001,
     "end_time": "2024-11-23T08:52:43.771752",
     "exception": false,
     "start_time": "2024-11-23T08:52:43.732751",
     "status": "completed"
    },
    "tags": []
   },
   "outputs": [
    {
     "data": {
      "text/html": [
       "<pre style=\"white-space:pre;overflow-x:auto;line-height:normal;font-family:Menlo,'DejaVu Sans Mono',consolas,'Courier New',monospace\"><span style=\"font-weight: bold\">Model: \"sequential\"</span>\n",
       "</pre>\n"
      ],
      "text/plain": [
       "\u001b[1mModel: \"sequential\"\u001b[0m\n"
      ]
     },
     "metadata": {},
     "output_type": "display_data"
    },
    {
     "data": {
      "text/html": [
       "<pre style=\"white-space:pre;overflow-x:auto;line-height:normal;font-family:Menlo,'DejaVu Sans Mono',consolas,'Courier New',monospace\">┏━━━━━━━━━━━━━━━━━━━━━━━━━━━━━━━━━┳━━━━━━━━━━━━━━━━━━━━━━━━┳━━━━━━━━━━━━━━━┓\n",
       "┃<span style=\"font-weight: bold\"> Layer (type)                    </span>┃<span style=\"font-weight: bold\"> Output Shape           </span>┃<span style=\"font-weight: bold\">       Param # </span>┃\n",
       "┡━━━━━━━━━━━━━━━━━━━━━━━━━━━━━━━━━╇━━━━━━━━━━━━━━━━━━━━━━━━╇━━━━━━━━━━━━━━━┩\n",
       "│ lstm (<span style=\"color: #0087ff; text-decoration-color: #0087ff\">LSTM</span>)                     │ (<span style=\"color: #00d7ff; text-decoration-color: #00d7ff\">None</span>, <span style=\"color: #00af00; text-decoration-color: #00af00\">50</span>)             │        <span style=\"color: #00af00; text-decoration-color: #00af00\">14,200</span> │\n",
       "├─────────────────────────────────┼────────────────────────┼───────────────┤\n",
       "│ dropout (<span style=\"color: #0087ff; text-decoration-color: #0087ff\">Dropout</span>)               │ (<span style=\"color: #00d7ff; text-decoration-color: #00d7ff\">None</span>, <span style=\"color: #00af00; text-decoration-color: #00af00\">50</span>)             │             <span style=\"color: #00af00; text-decoration-color: #00af00\">0</span> │\n",
       "├─────────────────────────────────┼────────────────────────┼───────────────┤\n",
       "│ dense (<span style=\"color: #0087ff; text-decoration-color: #0087ff\">Dense</span>)                   │ (<span style=\"color: #00d7ff; text-decoration-color: #00d7ff\">None</span>, <span style=\"color: #00af00; text-decoration-color: #00af00\">1</span>)              │            <span style=\"color: #00af00; text-decoration-color: #00af00\">51</span> │\n",
       "└─────────────────────────────────┴────────────────────────┴───────────────┘\n",
       "</pre>\n"
      ],
      "text/plain": [
       "┏━━━━━━━━━━━━━━━━━━━━━━━━━━━━━━━━━┳━━━━━━━━━━━━━━━━━━━━━━━━┳━━━━━━━━━━━━━━━┓\n",
       "┃\u001b[1m \u001b[0m\u001b[1mLayer (type)                   \u001b[0m\u001b[1m \u001b[0m┃\u001b[1m \u001b[0m\u001b[1mOutput Shape          \u001b[0m\u001b[1m \u001b[0m┃\u001b[1m \u001b[0m\u001b[1m      Param #\u001b[0m\u001b[1m \u001b[0m┃\n",
       "┡━━━━━━━━━━━━━━━━━━━━━━━━━━━━━━━━━╇━━━━━━━━━━━━━━━━━━━━━━━━╇━━━━━━━━━━━━━━━┩\n",
       "│ lstm (\u001b[38;5;33mLSTM\u001b[0m)                     │ (\u001b[38;5;45mNone\u001b[0m, \u001b[38;5;34m50\u001b[0m)             │        \u001b[38;5;34m14,200\u001b[0m │\n",
       "├─────────────────────────────────┼────────────────────────┼───────────────┤\n",
       "│ dropout (\u001b[38;5;33mDropout\u001b[0m)               │ (\u001b[38;5;45mNone\u001b[0m, \u001b[38;5;34m50\u001b[0m)             │             \u001b[38;5;34m0\u001b[0m │\n",
       "├─────────────────────────────────┼────────────────────────┼───────────────┤\n",
       "│ dense (\u001b[38;5;33mDense\u001b[0m)                   │ (\u001b[38;5;45mNone\u001b[0m, \u001b[38;5;34m1\u001b[0m)              │            \u001b[38;5;34m51\u001b[0m │\n",
       "└─────────────────────────────────┴────────────────────────┴───────────────┘\n"
      ]
     },
     "metadata": {},
     "output_type": "display_data"
    },
    {
     "data": {
      "text/html": [
       "<pre style=\"white-space:pre;overflow-x:auto;line-height:normal;font-family:Menlo,'DejaVu Sans Mono',consolas,'Courier New',monospace\"><span style=\"font-weight: bold\"> Total params: </span><span style=\"color: #00af00; text-decoration-color: #00af00\">14,251</span> (55.67 KB)\n",
       "</pre>\n"
      ],
      "text/plain": [
       "\u001b[1m Total params: \u001b[0m\u001b[38;5;34m14,251\u001b[0m (55.67 KB)\n"
      ]
     },
     "metadata": {},
     "output_type": "display_data"
    },
    {
     "data": {
      "text/html": [
       "<pre style=\"white-space:pre;overflow-x:auto;line-height:normal;font-family:Menlo,'DejaVu Sans Mono',consolas,'Courier New',monospace\"><span style=\"font-weight: bold\"> Trainable params: </span><span style=\"color: #00af00; text-decoration-color: #00af00\">14,251</span> (55.67 KB)\n",
       "</pre>\n"
      ],
      "text/plain": [
       "\u001b[1m Trainable params: \u001b[0m\u001b[38;5;34m14,251\u001b[0m (55.67 KB)\n"
      ]
     },
     "metadata": {},
     "output_type": "display_data"
    },
    {
     "data": {
      "text/html": [
       "<pre style=\"white-space:pre;overflow-x:auto;line-height:normal;font-family:Menlo,'DejaVu Sans Mono',consolas,'Courier New',monospace\"><span style=\"font-weight: bold\"> Non-trainable params: </span><span style=\"color: #00af00; text-decoration-color: #00af00\">0</span> (0.00 B)\n",
       "</pre>\n"
      ],
      "text/plain": [
       "\u001b[1m Non-trainable params: \u001b[0m\u001b[38;5;34m0\u001b[0m (0.00 B)\n"
      ]
     },
     "metadata": {},
     "output_type": "display_data"
    }
   ],
   "source": [
    "model.summary()"
   ]
  },
  {
   "cell_type": "code",
   "execution_count": 40,
   "id": "7542157e",
   "metadata": {
    "execution": {
     "iopub.execute_input": "2024-11-23T08:52:43.801940Z",
     "iopub.status.busy": "2024-11-23T08:52:43.801560Z",
     "iopub.status.idle": "2024-11-23T08:52:43.816495Z",
     "shell.execute_reply": "2024-11-23T08:52:43.815308Z"
    },
    "id": "NE6_O7IwclkT",
    "papermill": {
     "duration": 0.032996,
     "end_time": "2024-11-23T08:52:43.819092",
     "exception": false,
     "start_time": "2024-11-23T08:52:43.786096",
     "status": "completed"
    },
    "tags": []
   },
   "outputs": [],
   "source": [
    "model.compile(loss='mean_squared_error', optimizer='adam')"
   ]
  },
  {
   "cell_type": "code",
   "execution_count": 41,
   "id": "67daae4f",
   "metadata": {
    "execution": {
     "iopub.execute_input": "2024-11-23T08:52:43.850793Z",
     "iopub.status.busy": "2024-11-23T08:52:43.850400Z",
     "iopub.status.idle": "2024-11-23T08:52:43.856111Z",
     "shell.execute_reply": "2024-11-23T08:52:43.855078Z"
    },
    "id": "JLqjYZudc3Is",
    "papermill": {
     "duration": 0.024386,
     "end_time": "2024-11-23T08:52:43.858368",
     "exception": false,
     "start_time": "2024-11-23T08:52:43.833982",
     "status": "completed"
    },
    "tags": []
   },
   "outputs": [],
   "source": [
    "callbacks = (EarlyStopping(monitor='val_loss', patience=10, verbose=1, mode='min'),\n",
    "            ModelCheckpoint(filepath='mymodel.keras', monitor='val_loss', mode='min',\n",
    "            save_best_only = True, save_weights_only = False, verbose = 1))"
   ]
  },
  {
   "cell_type": "code",
   "execution_count": 42,
   "id": "0c5295b3",
   "metadata": {
    "execution": {
     "iopub.execute_input": "2024-11-23T08:52:43.889510Z",
     "iopub.status.busy": "2024-11-23T08:52:43.889093Z",
     "iopub.status.idle": "2024-11-23T08:52:52.926759Z",
     "shell.execute_reply": "2024-11-23T08:52:52.925471Z"
    },
    "id": "7Pv-Fb9FdSf7",
    "papermill": {
     "duration": 9.056441,
     "end_time": "2024-11-23T08:52:52.929487",
     "exception": false,
     "start_time": "2024-11-23T08:52:43.873046",
     "status": "completed"
    },
    "tags": []
   },
   "outputs": [
    {
     "name": "stdout",
     "output_type": "stream",
     "text": [
      "Epoch 1/100\n",
      "\u001b[1m79/96\u001b[0m \u001b[32m━━━━━━━━━━━━━━━━\u001b[0m\u001b[37m━━━━\u001b[0m \u001b[1m0s\u001b[0m 2ms/step - loss: 0.0041\n",
      "Epoch 1: val_loss improved from inf to 0.00405, saving model to mymodel.keras\n",
      "\u001b[1m96/96\u001b[0m \u001b[32m━━━━━━━━━━━━━━━━━━━━\u001b[0m\u001b[37m\u001b[0m \u001b[1m2s\u001b[0m 6ms/step - loss: 0.0049 - val_loss: 0.0041\n",
      "Epoch 2/100\n",
      "\u001b[1m81/96\u001b[0m \u001b[32m━━━━━━━━━━━━━━━━\u001b[0m\u001b[37m━━━━\u001b[0m \u001b[1m0s\u001b[0m 2ms/step - loss: 0.0052\n",
      "Epoch 2: val_loss improved from 0.00405 to 0.00346, saving model to mymodel.keras\n",
      "\u001b[1m96/96\u001b[0m \u001b[32m━━━━━━━━━━━━━━━━━━━━\u001b[0m\u001b[37m\u001b[0m \u001b[1m0s\u001b[0m 3ms/step - loss: 0.0055 - val_loss: 0.0035\n",
      "Epoch 3/100\n",
      "\u001b[1m78/96\u001b[0m \u001b[32m━━━━━━━━━━━━━━━━\u001b[0m\u001b[37m━━━━\u001b[0m \u001b[1m0s\u001b[0m 2ms/step - loss: 0.0036\n",
      "Epoch 3: val_loss improved from 0.00346 to 0.00322, saving model to mymodel.keras\n",
      "\u001b[1m96/96\u001b[0m \u001b[32m━━━━━━━━━━━━━━━━━━━━\u001b[0m\u001b[37m\u001b[0m \u001b[1m0s\u001b[0m 3ms/step - loss: 0.0039 - val_loss: 0.0032\n",
      "Epoch 4/100\n",
      "\u001b[1m76/96\u001b[0m \u001b[32m━━━━━━━━━━━━━━━\u001b[0m\u001b[37m━━━━━\u001b[0m \u001b[1m0s\u001b[0m 2ms/step - loss: 0.0024\n",
      "Epoch 4: val_loss improved from 0.00322 to 0.00300, saving model to mymodel.keras\n",
      "\u001b[1m96/96\u001b[0m \u001b[32m━━━━━━━━━━━━━━━━━━━━\u001b[0m\u001b[37m\u001b[0m \u001b[1m0s\u001b[0m 3ms/step - loss: 0.0029 - val_loss: 0.0030\n",
      "Epoch 5/100\n",
      "\u001b[1m78/96\u001b[0m \u001b[32m━━━━━━━━━━━━━━━━\u001b[0m\u001b[37m━━━━\u001b[0m \u001b[1m0s\u001b[0m 2ms/step - loss: 0.0021\n",
      "Epoch 5: val_loss improved from 0.00300 to 0.00266, saving model to mymodel.keras\n",
      "\u001b[1m96/96\u001b[0m \u001b[32m━━━━━━━━━━━━━━━━━━━━\u001b[0m\u001b[37m\u001b[0m \u001b[1m0s\u001b[0m 3ms/step - loss: 0.0025 - val_loss: 0.0027\n",
      "Epoch 6/100\n",
      "\u001b[1m79/96\u001b[0m \u001b[32m━━━━━━━━━━━━━━━━\u001b[0m\u001b[37m━━━━\u001b[0m \u001b[1m0s\u001b[0m 2ms/step - loss: 0.0016\n",
      "Epoch 6: val_loss improved from 0.00266 to 0.00246, saving model to mymodel.keras\n",
      "\u001b[1m96/96\u001b[0m \u001b[32m━━━━━━━━━━━━━━━━━━━━\u001b[0m\u001b[37m\u001b[0m \u001b[1m0s\u001b[0m 3ms/step - loss: 0.0020 - val_loss: 0.0025\n",
      "Epoch 7/100\n",
      "\u001b[1m80/96\u001b[0m \u001b[32m━━━━━━━━━━━━━━━━\u001b[0m\u001b[37m━━━━\u001b[0m \u001b[1m0s\u001b[0m 2ms/step - loss: 0.0015    \n",
      "Epoch 7: val_loss did not improve from 0.00246\n",
      "\u001b[1m96/96\u001b[0m \u001b[32m━━━━━━━━━━━━━━━━━━━━\u001b[0m\u001b[37m\u001b[0m \u001b[1m0s\u001b[0m 3ms/step - loss: 0.0019 - val_loss: 0.0025\n",
      "Epoch 8/100\n",
      "\u001b[1m74/96\u001b[0m \u001b[32m━━━━━━━━━━━━━━━\u001b[0m\u001b[37m━━━━━\u001b[0m \u001b[1m0s\u001b[0m 2ms/step - loss: 0.0012    \n",
      "Epoch 8: val_loss improved from 0.00246 to 0.00238, saving model to mymodel.keras\n",
      "\u001b[1m96/96\u001b[0m \u001b[32m━━━━━━━━━━━━━━━━━━━━\u001b[0m\u001b[37m\u001b[0m \u001b[1m0s\u001b[0m 3ms/step - loss: 0.0017 - val_loss: 0.0024\n",
      "Epoch 9/100\n",
      "\u001b[1m82/96\u001b[0m \u001b[32m━━━━━━━━━━━━━━━━━\u001b[0m\u001b[37m━━━\u001b[0m \u001b[1m0s\u001b[0m 2ms/step - loss: 0.0017\n",
      "Epoch 9: val_loss improved from 0.00238 to 0.00220, saving model to mymodel.keras\n",
      "\u001b[1m96/96\u001b[0m \u001b[32m━━━━━━━━━━━━━━━━━━━━\u001b[0m\u001b[37m\u001b[0m \u001b[1m0s\u001b[0m 3ms/step - loss: 0.0021 - val_loss: 0.0022\n",
      "Epoch 10/100\n",
      "\u001b[1m85/96\u001b[0m \u001b[32m━━━━━━━━━━━━━━━━━\u001b[0m\u001b[37m━━━\u001b[0m \u001b[1m0s\u001b[0m 2ms/step - loss: 0.0016\n",
      "Epoch 10: val_loss improved from 0.00220 to 0.00219, saving model to mymodel.keras\n",
      "\u001b[1m96/96\u001b[0m \u001b[32m━━━━━━━━━━━━━━━━━━━━\u001b[0m\u001b[37m\u001b[0m \u001b[1m0s\u001b[0m 3ms/step - loss: 0.0020 - val_loss: 0.0022\n",
      "Epoch 11/100\n",
      "\u001b[1m78/96\u001b[0m \u001b[32m━━━━━━━━━━━━━━━━\u001b[0m\u001b[37m━━━━\u001b[0m \u001b[1m0s\u001b[0m 2ms/step - loss: 0.0016\n",
      "Epoch 11: val_loss did not improve from 0.00219\n",
      "\u001b[1m96/96\u001b[0m \u001b[32m━━━━━━━━━━━━━━━━━━━━\u001b[0m\u001b[37m\u001b[0m \u001b[1m0s\u001b[0m 3ms/step - loss: 0.0020 - val_loss: 0.0023\n",
      "Epoch 12/100\n",
      "\u001b[1m79/96\u001b[0m \u001b[32m━━━━━━━━━━━━━━━━\u001b[0m\u001b[37m━━━━\u001b[0m \u001b[1m0s\u001b[0m 2ms/step - loss: 0.0018\n",
      "Epoch 12: val_loss improved from 0.00219 to 0.00203, saving model to mymodel.keras\n",
      "\u001b[1m96/96\u001b[0m \u001b[32m━━━━━━━━━━━━━━━━━━━━\u001b[0m\u001b[37m\u001b[0m \u001b[1m0s\u001b[0m 3ms/step - loss: 0.0022 - val_loss: 0.0020\n",
      "Epoch 13/100\n",
      "\u001b[1m80/96\u001b[0m \u001b[32m━━━━━━━━━━━━━━━━\u001b[0m\u001b[37m━━━━\u001b[0m \u001b[1m0s\u001b[0m 2ms/step - loss: 0.0016\n",
      "Epoch 13: val_loss did not improve from 0.00203\n",
      "\u001b[1m96/96\u001b[0m \u001b[32m━━━━━━━━━━━━━━━━━━━━\u001b[0m\u001b[37m\u001b[0m \u001b[1m0s\u001b[0m 2ms/step - loss: 0.0019 - val_loss: 0.0025\n",
      "Epoch 14/100\n",
      "\u001b[1m81/96\u001b[0m \u001b[32m━━━━━━━━━━━━━━━━\u001b[0m\u001b[37m━━━━\u001b[0m \u001b[1m0s\u001b[0m 2ms/step - loss: 0.0019\n",
      "Epoch 14: val_loss improved from 0.00203 to 0.00178, saving model to mymodel.keras\n",
      "\u001b[1m96/96\u001b[0m \u001b[32m━━━━━━━━━━━━━━━━━━━━\u001b[0m\u001b[37m\u001b[0m \u001b[1m0s\u001b[0m 3ms/step - loss: 0.0022 - val_loss: 0.0018\n",
      "Epoch 15/100\n",
      "\u001b[1m79/96\u001b[0m \u001b[32m━━━━━━━━━━━━━━━━\u001b[0m\u001b[37m━━━━\u001b[0m \u001b[1m0s\u001b[0m 2ms/step - loss: 0.0014    \n",
      "Epoch 15: val_loss improved from 0.00178 to 0.00178, saving model to mymodel.keras\n",
      "\u001b[1m96/96\u001b[0m \u001b[32m━━━━━━━━━━━━━━━━━━━━\u001b[0m\u001b[37m\u001b[0m \u001b[1m0s\u001b[0m 3ms/step - loss: 0.0018 - val_loss: 0.0018\n",
      "Epoch 16/100\n",
      "\u001b[1m82/96\u001b[0m \u001b[32m━━━━━━━━━━━━━━━━━\u001b[0m\u001b[37m━━━\u001b[0m \u001b[1m0s\u001b[0m 2ms/step - loss: 0.0014    \n",
      "Epoch 16: val_loss did not improve from 0.00178\n",
      "\u001b[1m96/96\u001b[0m \u001b[32m━━━━━━━━━━━━━━━━━━━━\u001b[0m\u001b[37m\u001b[0m \u001b[1m0s\u001b[0m 2ms/step - loss: 0.0018 - val_loss: 0.0020\n",
      "Epoch 17/100\n",
      "\u001b[1m82/96\u001b[0m \u001b[32m━━━━━━━━━━━━━━━━━\u001b[0m\u001b[37m━━━\u001b[0m \u001b[1m0s\u001b[0m 2ms/step - loss: 0.0016\n",
      "Epoch 17: val_loss did not improve from 0.00178\n",
      "\u001b[1m96/96\u001b[0m \u001b[32m━━━━━━━━━━━━━━━━━━━━\u001b[0m\u001b[37m\u001b[0m \u001b[1m0s\u001b[0m 2ms/step - loss: 0.0019 - val_loss: 0.0019\n",
      "Epoch 18/100\n",
      "\u001b[1m83/96\u001b[0m \u001b[32m━━━━━━━━━━━━━━━━━\u001b[0m\u001b[37m━━━\u001b[0m \u001b[1m0s\u001b[0m 2ms/step - loss: 0.0016\n",
      "Epoch 18: val_loss did not improve from 0.00178\n",
      "\u001b[1m96/96\u001b[0m \u001b[32m━━━━━━━━━━━━━━━━━━━━\u001b[0m\u001b[37m\u001b[0m \u001b[1m0s\u001b[0m 2ms/step - loss: 0.0019 - val_loss: 0.0029\n",
      "Epoch 19/100\n",
      "\u001b[1m83/96\u001b[0m \u001b[32m━━━━━━━━━━━━━━━━━\u001b[0m\u001b[37m━━━\u001b[0m \u001b[1m0s\u001b[0m 2ms/step - loss: 0.0018\n",
      "Epoch 19: val_loss did not improve from 0.00178\n",
      "\u001b[1m96/96\u001b[0m \u001b[32m━━━━━━━━━━━━━━━━━━━━\u001b[0m\u001b[37m\u001b[0m \u001b[1m0s\u001b[0m 2ms/step - loss: 0.0021 - val_loss: 0.0030\n",
      "Epoch 20/100\n",
      "\u001b[1m83/96\u001b[0m \u001b[32m━━━━━━━━━━━━━━━━━\u001b[0m\u001b[37m━━━\u001b[0m \u001b[1m0s\u001b[0m 2ms/step - loss: 0.0018\n",
      "Epoch 20: val_loss did not improve from 0.00178\n",
      "\u001b[1m96/96\u001b[0m \u001b[32m━━━━━━━━━━━━━━━━━━━━\u001b[0m\u001b[37m\u001b[0m \u001b[1m0s\u001b[0m 2ms/step - loss: 0.0021 - val_loss: 0.0039\n",
      "Epoch 21/100\n",
      "\u001b[1m77/96\u001b[0m \u001b[32m━━━━━━━━━━━━━━━━\u001b[0m\u001b[37m━━━━\u001b[0m \u001b[1m0s\u001b[0m 2ms/step - loss: 0.0017\n",
      "Epoch 21: val_loss did not improve from 0.00178\n",
      "\u001b[1m96/96\u001b[0m \u001b[32m━━━━━━━━━━━━━━━━━━━━\u001b[0m\u001b[37m\u001b[0m \u001b[1m0s\u001b[0m 3ms/step - loss: 0.0021 - val_loss: 0.0041\n",
      "Epoch 22/100\n",
      "\u001b[1m80/96\u001b[0m \u001b[32m━━━━━━━━━━━━━━━━\u001b[0m\u001b[37m━━━━\u001b[0m \u001b[1m0s\u001b[0m 2ms/step - loss: 0.0017\n",
      "Epoch 22: val_loss did not improve from 0.00178\n",
      "\u001b[1m96/96\u001b[0m \u001b[32m━━━━━━━━━━━━━━━━━━━━\u001b[0m\u001b[37m\u001b[0m \u001b[1m0s\u001b[0m 2ms/step - loss: 0.0021 - val_loss: 0.0047\n",
      "Epoch 23/100\n",
      "\u001b[1m80/96\u001b[0m \u001b[32m━━━━━━━━━━━━━━━━\u001b[0m\u001b[37m━━━━\u001b[0m \u001b[1m0s\u001b[0m 2ms/step - loss: 0.0017\n",
      "Epoch 23: val_loss did not improve from 0.00178\n",
      "\u001b[1m96/96\u001b[0m \u001b[32m━━━━━━━━━━━━━━━━━━━━\u001b[0m\u001b[37m\u001b[0m \u001b[1m0s\u001b[0m 2ms/step - loss: 0.0022 - val_loss: 0.0058\n",
      "Epoch 24/100\n",
      "\u001b[1m77/96\u001b[0m \u001b[32m━━━━━━━━━━━━━━━━\u001b[0m\u001b[37m━━━━\u001b[0m \u001b[1m0s\u001b[0m 2ms/step - loss: 0.0018\n",
      "Epoch 24: val_loss did not improve from 0.00178\n",
      "\u001b[1m96/96\u001b[0m \u001b[32m━━━━━━━━━━━━━━━━━━━━\u001b[0m\u001b[37m\u001b[0m \u001b[1m0s\u001b[0m 3ms/step - loss: 0.0023 - val_loss: 0.0085\n",
      "Epoch 25/100\n",
      "\u001b[1m77/96\u001b[0m \u001b[32m━━━━━━━━━━━━━━━━\u001b[0m\u001b[37m━━━━\u001b[0m \u001b[1m0s\u001b[0m 2ms/step - loss: 0.0021\n",
      "Epoch 25: val_loss did not improve from 0.00178\n",
      "\u001b[1m96/96\u001b[0m \u001b[32m━━━━━━━━━━━━━━━━━━━━\u001b[0m\u001b[37m\u001b[0m \u001b[1m0s\u001b[0m 3ms/step - loss: 0.0025 - val_loss: 0.0042\n",
      "Epoch 25: early stopping\n"
     ]
    }
   ],
   "source": [
    "history = model.fit(x=X_train,\n",
    "                    y=y_train,\n",
    "                    epochs=100,\n",
    "                    batch_size=20,\n",
    "                    validation_data=(X_test, y_test),\n",
    "                    callbacks=[callbacks],\n",
    "                    shuffle=False)"
   ]
  },
  {
   "cell_type": "code",
   "execution_count": 43,
   "id": "0769794f",
   "metadata": {
    "execution": {
     "iopub.execute_input": "2024-11-23T08:52:52.979047Z",
     "iopub.status.busy": "2024-11-23T08:52:52.978664Z",
     "iopub.status.idle": "2024-11-23T08:52:53.203748Z",
     "shell.execute_reply": "2024-11-23T08:52:53.202583Z"
    },
    "id": "VzxR8n1yeGpV",
    "papermill": {
     "duration": 0.252422,
     "end_time": "2024-11-23T08:52:53.206230",
     "exception": false,
     "start_time": "2024-11-23T08:52:52.953808",
     "status": "completed"
    },
    "tags": []
   },
   "outputs": [
    {
     "data": {
      "image/png": "[encoded data removed]",
      "text/plain": [
       "<Figure size 2000x500 with 1 Axes>"
      ]
     },
     "metadata": {},
     "output_type": "display_data"
    }
   ],
   "source": [
    "plt.figure(figsize=(20,5))\n",
    "plt.subplot(1,2,1)\n",
    "plt.plot(history.history['loss'], label='Training Loss')\n",
    "plt.plot(history.history['val_loss'], label='Validation Loss')\n",
    "plt.legend(loc='upper right')\n",
    "plt.xlabel('Epoch', fontsize = 16)\n",
    "plt.ylabel('Loss', fontsize = 16)\n",
    "plt.ylim([0,max(plt.ylim())])\n",
    "plt.title('Training and Validation Loss', fontsize = 16)\n",
    "plt.show()"
   ]
  },
  {
   "cell_type": "markdown",
   "id": "a2aca1e5",
   "metadata": {
    "id": "XO0NGWQWerLU",
    "papermill": {
     "duration": 0.024655,
     "end_time": "2024-11-23T08:52:53.256198",
     "exception": false,
     "start_time": "2024-11-23T08:52:53.231543",
     "status": "completed"
    },
    "tags": []
   },
   "source": [
    "## Evaluation"
   ]
  },
  {
   "cell_type": "code",
   "execution_count": 44,
   "id": "366bcd4d",
   "metadata": {
    "execution": {
     "iopub.execute_input": "2024-11-23T08:52:53.307213Z",
     "iopub.status.busy": "2024-11-23T08:52:53.306832Z",
     "iopub.status.idle": "2024-11-23T08:52:53.869607Z",
     "shell.execute_reply": "2024-11-23T08:52:53.868331Z"
    },
    "id": "hyeoNUjxetH-",
    "papermill": {
     "duration": 0.591208,
     "end_time": "2024-11-23T08:52:53.871969",
     "exception": false,
     "start_time": "2024-11-23T08:52:53.280761",
     "status": "completed"
    },
    "tags": []
   },
   "outputs": [
    {
     "name": "stdout",
     "output_type": "stream",
     "text": [
      "\u001b[1m463/463\u001b[0m \u001b[32m━━━━━━━━━━━━━━━━━━━━\u001b[0m\u001b[37m\u001b[0m \u001b[1m1s\u001b[0m 1ms/step - loss: 0.0049\n",
      "\n",
      "Test Loss: 0.4%\n"
     ]
    }
   ],
   "source": [
    "loss = model.evaluate(X_test, y_test, batch_size=1)\n",
    "print(\"\\nTest Loss: %.1f%%\" % (100.0 * loss))"
   ]
  },
  {
   "cell_type": "code",
   "execution_count": 45,
   "id": "5ab1efed",
   "metadata": {
    "execution": {
     "iopub.execute_input": "2024-11-23T08:52:53.925284Z",
     "iopub.status.busy": "2024-11-23T08:52:53.924111Z",
     "iopub.status.idle": "2024-11-23T08:52:54.392521Z",
     "shell.execute_reply": "2024-11-23T08:52:54.391334Z"
    },
    "id": "9e854j_NfFTV",
    "papermill": {
     "duration": 0.497122,
     "end_time": "2024-11-23T08:52:54.395176",
     "exception": false,
     "start_time": "2024-11-23T08:52:53.898054",
     "status": "completed"
    },
    "tags": []
   },
   "outputs": [
    {
     "name": "stdout",
     "output_type": "stream",
     "text": [
      "\u001b[1m60/60\u001b[0m \u001b[32m━━━━━━━━━━━━━━━━━━━━\u001b[0m\u001b[37m\u001b[0m \u001b[1m0s\u001b[0m 4ms/step\n"
     ]
    }
   ],
   "source": [
    "train_predict = model.predict(X_train)"
   ]
  },
  {
   "cell_type": "code",
   "execution_count": 46,
   "id": "8a9d24da",
   "metadata": {
    "execution": {
     "iopub.execute_input": "2024-11-23T08:52:54.446870Z",
     "iopub.status.busy": "2024-11-23T08:52:54.446483Z",
     "iopub.status.idle": "2024-11-23T08:52:54.552157Z",
     "shell.execute_reply": "2024-11-23T08:52:54.551096Z"
    },
    "id": "GZgJuMd-fqZW",
    "papermill": {
     "duration": 0.134521,
     "end_time": "2024-11-23T08:52:54.554868",
     "exception": false,
     "start_time": "2024-11-23T08:52:54.420347",
     "status": "completed"
    },
    "tags": []
   },
   "outputs": [
    {
     "name": "stdout",
     "output_type": "stream",
     "text": [
      "\u001b[1m15/15\u001b[0m \u001b[32m━━━━━━━━━━━━━━━━━━━━\u001b[0m\u001b[37m\u001b[0m \u001b[1m0s\u001b[0m 2ms/step \n"
     ]
    }
   ],
   "source": [
    "test_predict = model.predict(X_test)"
   ]
  },
  {
   "cell_type": "code",
   "execution_count": 47,
   "id": "2ad8dc8a",
   "metadata": {
    "execution": {
     "iopub.execute_input": "2024-11-23T08:52:54.608245Z",
     "iopub.status.busy": "2024-11-23T08:52:54.607869Z",
     "iopub.status.idle": "2024-11-23T08:52:54.613716Z",
     "shell.execute_reply": "2024-11-23T08:52:54.612526Z"
    },
    "id": "FcH_8U3tfsGm",
    "papermill": {
     "duration": 0.035135,
     "end_time": "2024-11-23T08:52:54.615927",
     "exception": false,
     "start_time": "2024-11-23T08:52:54.580792",
     "status": "completed"
    },
    "tags": []
   },
   "outputs": [],
   "source": [
    "train_predict = scaler_train.inverse_transform(train_predict)\n",
    "test_predict = scaler_test.inverse_transform(test_predict)"
   ]
  },
  {
   "cell_type": "code",
   "execution_count": 48,
   "id": "e7590e03",
   "metadata": {
    "execution": {
     "iopub.execute_input": "2024-11-23T08:52:54.669819Z",
     "iopub.status.busy": "2024-11-23T08:52:54.668777Z",
     "iopub.status.idle": "2024-11-23T08:52:54.674530Z",
     "shell.execute_reply": "2024-11-23T08:52:54.673224Z"
    },
    "id": "DsGDu-NKf912",
    "papermill": {
     "duration": 0.03455,
     "end_time": "2024-11-23T08:52:54.676700",
     "exception": false,
     "start_time": "2024-11-23T08:52:54.642150",
     "status": "completed"
    },
    "tags": []
   },
   "outputs": [],
   "source": [
    "y_train = scaler_train.inverse_transform(y_train)\n",
    "y_test = scaler_test.inverse_transform(y_test)"
   ]
  },
  {
   "cell_type": "code",
   "execution_count": 49,
   "id": "147c3134",
   "metadata": {
    "execution": {
     "iopub.execute_input": "2024-11-23T08:52:54.729336Z",
     "iopub.status.busy": "2024-11-23T08:52:54.728878Z",
     "iopub.status.idle": "2024-11-23T08:52:54.734970Z",
     "shell.execute_reply": "2024-11-23T08:52:54.733890Z"
    },
    "id": "ZLXqwAU7gGW2",
    "papermill": {
     "duration": 0.035182,
     "end_time": "2024-11-23T08:52:54.737314",
     "exception": false,
     "start_time": "2024-11-23T08:52:54.702132",
     "status": "completed"
    },
    "tags": []
   },
   "outputs": [],
   "source": [
    "train_rmse = np.sqrt(mean_squared_error(y_train, train_predict))"
   ]
  },
  {
   "cell_type": "code",
   "execution_count": 50,
   "id": "ec7125fb",
   "metadata": {
    "execution": {
     "iopub.execute_input": "2024-11-23T08:52:54.791400Z",
     "iopub.status.busy": "2024-11-23T08:52:54.790589Z",
     "iopub.status.idle": "2024-11-23T08:52:54.796430Z",
     "shell.execute_reply": "2024-11-23T08:52:54.795343Z"
    },
    "id": "76WbnJaIgJ4g",
    "papermill": {
     "duration": 0.035131,
     "end_time": "2024-11-23T08:52:54.798615",
     "exception": false,
     "start_time": "2024-11-23T08:52:54.763484",
     "status": "completed"
    },
    "tags": []
   },
   "outputs": [],
   "source": [
    "test_rmse = np.sqrt(mean_squared_error(y_test, test_predict))"
   ]
  },
  {
   "cell_type": "code",
   "execution_count": 51,
   "id": "d6dd7aeb",
   "metadata": {
    "execution": {
     "iopub.execute_input": "2024-11-23T08:52:54.852144Z",
     "iopub.status.busy": "2024-11-23T08:52:54.851167Z",
     "iopub.status.idle": "2024-11-23T08:52:54.857425Z",
     "shell.execute_reply": "2024-11-23T08:52:54.856178Z"
    },
    "id": "WcUBQBz7gMV2",
    "papermill": {
     "duration": 0.035796,
     "end_time": "2024-11-23T08:52:54.859718",
     "exception": false,
     "start_time": "2024-11-23T08:52:54.823922",
     "status": "completed"
    },
    "tags": []
   },
   "outputs": [
    {
     "name": "stdout",
     "output_type": "stream",
     "text": [
      "Train RMSE: 23.9660587310791\n",
      "Test RMSE: 39.15851974487305\n"
     ]
    }
   ],
   "source": [
    "print(f\"Train RMSE: {train_rmse}\")\n",
    "print(f\"Test RMSE: {test_rmse}\")"
   ]
  },
  {
   "cell_type": "code",
   "execution_count": 52,
   "id": "ef372b0c",
   "metadata": {
    "execution": {
     "iopub.execute_input": "2024-11-23T08:52:54.913186Z",
     "iopub.status.busy": "2024-11-23T08:52:54.912788Z",
     "iopub.status.idle": "2024-11-23T08:52:54.945405Z",
     "shell.execute_reply": "2024-11-23T08:52:54.944299Z"
    },
    "id": "t_llof9mgYz_",
    "papermill": {
     "duration": 0.062727,
     "end_time": "2024-11-23T08:52:54.947963",
     "exception": false,
     "start_time": "2024-11-23T08:52:54.885236",
     "status": "completed"
    },
    "tags": []
   },
   "outputs": [
    {
     "data": {
      "text/html": [
       "<div>\n",
       "<style scoped>\n",
       "    .dataframe tbody tr th:only-of-type {\n",
       "        vertical-align: middle;\n",
       "    }\n",
       "\n",
       "    .dataframe tbody tr th {\n",
       "        vertical-align: top;\n",
       "    }\n",
       "\n",
       "    .dataframe thead th {\n",
       "        text-align: right;\n",
       "    }\n",
       "</style>\n",
       "<table border=\"1\" class=\"dataframe\">\n",
       "  <thead>\n",
       "    <tr style=\"text-align: right;\">\n",
       "      <th></th>\n",
       "      <th>count</th>\n",
       "      <th>mean</th>\n",
       "      <th>min</th>\n",
       "      <th>25%</th>\n",
       "      <th>50%</th>\n",
       "      <th>75%</th>\n",
       "      <th>max</th>\n",
       "      <th>std</th>\n",
       "    </tr>\n",
       "  </thead>\n",
       "  <tbody>\n",
       "    <tr>\n",
       "      <th>Date</th>\n",
       "      <td>2416</td>\n",
       "      <td>2015-04-15 11:09:56.026490112</td>\n",
       "      <td>2010-06-29 00:00:00</td>\n",
       "      <td>2012-11-19 18:00:00</td>\n",
       "      <td>2015-04-16 12:00:00</td>\n",
       "      <td>2017-09-07 06:00:00</td>\n",
       "      <td>2020-02-03 00:00:00</td>\n",
       "      <td>NaN</td>\n",
       "    </tr>\n",
       "    <tr>\n",
       "      <th>Open</th>\n",
       "      <td>2416.0</td>\n",
       "      <td>186.271147</td>\n",
       "      <td>16.139999</td>\n",
       "      <td>34.342498</td>\n",
       "      <td>213.035004</td>\n",
       "      <td>266.450012</td>\n",
       "      <td>673.690002</td>\n",
       "      <td>118.740163</td>\n",
       "    </tr>\n",
       "    <tr>\n",
       "      <th>High</th>\n",
       "      <td>2416.0</td>\n",
       "      <td>189.578224</td>\n",
       "      <td>16.629999</td>\n",
       "      <td>34.897501</td>\n",
       "      <td>216.745002</td>\n",
       "      <td>270.927513</td>\n",
       "      <td>786.140015</td>\n",
       "      <td>120.892329</td>\n",
       "    </tr>\n",
       "    <tr>\n",
       "      <th>Low</th>\n",
       "      <td>2416.0</td>\n",
       "      <td>182.916639</td>\n",
       "      <td>14.98</td>\n",
       "      <td>33.587501</td>\n",
       "      <td>208.870002</td>\n",
       "      <td>262.102501</td>\n",
       "      <td>673.52002</td>\n",
       "      <td>116.857591</td>\n",
       "    </tr>\n",
       "    <tr>\n",
       "      <th>Close</th>\n",
       "      <td>2416.0</td>\n",
       "      <td>186.403651</td>\n",
       "      <td>15.8</td>\n",
       "      <td>34.400002</td>\n",
       "      <td>212.960007</td>\n",
       "      <td>266.774994</td>\n",
       "      <td>780.0</td>\n",
       "      <td>119.13602</td>\n",
       "    </tr>\n",
       "    <tr>\n",
       "      <th>Adj Close</th>\n",
       "      <td>2416.0</td>\n",
       "      <td>186.403651</td>\n",
       "      <td>15.8</td>\n",
       "      <td>34.400002</td>\n",
       "      <td>212.960007</td>\n",
       "      <td>266.774994</td>\n",
       "      <td>780.0</td>\n",
       "      <td>119.13602</td>\n",
       "    </tr>\n",
       "    <tr>\n",
       "      <th>Volume</th>\n",
       "      <td>2416.0</td>\n",
       "      <td>5572721.688742</td>\n",
       "      <td>118500.0</td>\n",
       "      <td>1899275.0</td>\n",
       "      <td>4578400.0</td>\n",
       "      <td>7361150.0</td>\n",
       "      <td>47065000.0</td>\n",
       "      <td>4987809.151888</td>\n",
       "    </tr>\n",
       "  </tbody>\n",
       "</table>\n",
       "</div>"
      ],
      "text/plain": [
       "            count                           mean                  min  \\\n",
       "Date         2416  2015-04-15 11:09:56.026490112  2010-06-29 00:00:00   \n",
       "Open       2416.0                     186.271147            16.139999   \n",
       "High       2416.0                     189.578224            16.629999   \n",
       "Low        2416.0                     182.916639                14.98   \n",
       "Close      2416.0                     186.403651                 15.8   \n",
       "Adj Close  2416.0                     186.403651                 15.8   \n",
       "Volume     2416.0                 5572721.688742             118500.0   \n",
       "\n",
       "                           25%                  50%                  75%  \\\n",
       "Date       2012-11-19 18:00:00  2015-04-16 12:00:00  2017-09-07 06:00:00   \n",
       "Open                 34.342498           213.035004           266.450012   \n",
       "High                 34.897501           216.745002           270.927513   \n",
       "Low                  33.587501           208.870002           262.102501   \n",
       "Close                34.400002           212.960007           266.774994   \n",
       "Adj Close            34.400002           212.960007           266.774994   \n",
       "Volume               1899275.0            4578400.0            7361150.0   \n",
       "\n",
       "                           max             std  \n",
       "Date       2020-02-03 00:00:00             NaN  \n",
       "Open                673.690002      118.740163  \n",
       "High                786.140015      120.892329  \n",
       "Low                  673.52002      116.857591  \n",
       "Close                    780.0       119.13602  \n",
       "Adj Close                780.0       119.13602  \n",
       "Volume              47065000.0  4987809.151888  "
      ]
     },
     "execution_count": 52,
     "metadata": {},
     "output_type": "execute_result"
    }
   ],
   "source": [
    "df.describe().T"
   ]
  },
  {
   "cell_type": "code",
   "execution_count": 53,
   "id": "6c695ec2",
   "metadata": {
    "execution": {
     "iopub.execute_input": "2024-11-23T08:52:55.001853Z",
     "iopub.status.busy": "2024-11-23T08:52:55.001440Z",
     "iopub.status.idle": "2024-11-23T08:52:55.014592Z",
     "shell.execute_reply": "2024-11-23T08:52:55.013333Z"
    },
    "id": "-PSGVpMzgz1O",
    "papermill": {
     "duration": 0.042464,
     "end_time": "2024-11-23T08:52:55.016635",
     "exception": false,
     "start_time": "2024-11-23T08:52:54.974171",
     "status": "completed"
    },
    "tags": []
   },
   "outputs": [
    {
     "data": {
      "text/html": [
       "<div>\n",
       "<style scoped>\n",
       "    .dataframe tbody tr th:only-of-type {\n",
       "        vertical-align: middle;\n",
       "    }\n",
       "\n",
       "    .dataframe tbody tr th {\n",
       "        vertical-align: top;\n",
       "    }\n",
       "\n",
       "    .dataframe thead th {\n",
       "        text-align: right;\n",
       "    }\n",
       "</style>\n",
       "<table border=\"1\" class=\"dataframe\">\n",
       "  <thead>\n",
       "    <tr style=\"text-align: right;\">\n",
       "      <th></th>\n",
       "      <th>Close</th>\n",
       "      <th>Predicted</th>\n",
       "    </tr>\n",
       "    <tr>\n",
       "      <th>Date</th>\n",
       "      <th></th>\n",
       "      <th></th>\n",
       "    </tr>\n",
       "  </thead>\n",
       "  <tbody>\n",
       "    <tr>\n",
       "      <th>2010-07-28</th>\n",
       "      <td>20.719999</td>\n",
       "      <td>36.250809</td>\n",
       "    </tr>\n",
       "    <tr>\n",
       "      <th>2010-07-29</th>\n",
       "      <td>20.350000</td>\n",
       "      <td>36.250809</td>\n",
       "    </tr>\n",
       "    <tr>\n",
       "      <th>2010-07-30</th>\n",
       "      <td>19.940001</td>\n",
       "      <td>36.250809</td>\n",
       "    </tr>\n",
       "    <tr>\n",
       "      <th>2010-08-02</th>\n",
       "      <td>20.920000</td>\n",
       "      <td>36.250809</td>\n",
       "    </tr>\n",
       "    <tr>\n",
       "      <th>2010-08-03</th>\n",
       "      <td>21.950001</td>\n",
       "      <td>36.250809</td>\n",
       "    </tr>\n",
       "  </tbody>\n",
       "</table>\n",
       "</div>"
      ],
      "text/plain": [
       "                Close  Predicted\n",
       "Date                            \n",
       "2010-07-28  20.719999  36.250809\n",
       "2010-07-29  20.350000  36.250809\n",
       "2010-07-30  19.940001  36.250809\n",
       "2010-08-02  20.920000  36.250809\n",
       "2010-08-03  21.950001  36.250809"
      ]
     },
     "execution_count": 53,
     "metadata": {},
     "output_type": "execute_result"
    }
   ],
   "source": [
    "train_prediction_df = result_df[lookback:position]\n",
    "train_prediction_df[\"Predicted\"] = train_predict\n",
    "train_prediction_df.head()"
   ]
  },
  {
   "cell_type": "code",
   "execution_count": 54,
   "id": "5c281016",
   "metadata": {
    "execution": {
     "iopub.execute_input": "2024-11-23T08:52:55.072151Z",
     "iopub.status.busy": "2024-11-23T08:52:55.071735Z",
     "iopub.status.idle": "2024-11-23T08:52:55.083367Z",
     "shell.execute_reply": "2024-11-23T08:52:55.082219Z"
    },
    "id": "o7tRAXwOhMSA",
    "papermill": {
     "duration": 0.042082,
     "end_time": "2024-11-23T08:52:55.085709",
     "exception": false,
     "start_time": "2024-11-23T08:52:55.043627",
     "status": "completed"
    },
    "tags": []
   },
   "outputs": [
    {
     "data": {
      "text/html": [
       "<div>\n",
       "<style scoped>\n",
       "    .dataframe tbody tr th:only-of-type {\n",
       "        vertical-align: middle;\n",
       "    }\n",
       "\n",
       "    .dataframe tbody tr th {\n",
       "        vertical-align: top;\n",
       "    }\n",
       "\n",
       "    .dataframe thead th {\n",
       "        text-align: right;\n",
       "    }\n",
       "</style>\n",
       "<table border=\"1\" class=\"dataframe\">\n",
       "  <thead>\n",
       "    <tr style=\"text-align: right;\">\n",
       "      <th></th>\n",
       "      <th>Close</th>\n",
       "      <th>Predicted</th>\n",
       "    </tr>\n",
       "    <tr>\n",
       "      <th>Date</th>\n",
       "      <th></th>\n",
       "      <th></th>\n",
       "    </tr>\n",
       "  </thead>\n",
       "  <tbody>\n",
       "    <tr>\n",
       "      <th>2018-04-03</th>\n",
       "      <td>267.529999</td>\n",
       "      <td>330.538757</td>\n",
       "    </tr>\n",
       "    <tr>\n",
       "      <th>2018-04-04</th>\n",
       "      <td>286.940002</td>\n",
       "      <td>324.944885</td>\n",
       "    </tr>\n",
       "    <tr>\n",
       "      <th>2018-04-05</th>\n",
       "      <td>305.720001</td>\n",
       "      <td>324.834564</td>\n",
       "    </tr>\n",
       "    <tr>\n",
       "      <th>2018-04-06</th>\n",
       "      <td>299.299988</td>\n",
       "      <td>326.153198</td>\n",
       "    </tr>\n",
       "    <tr>\n",
       "      <th>2018-04-09</th>\n",
       "      <td>289.660004</td>\n",
       "      <td>324.991577</td>\n",
       "    </tr>\n",
       "  </tbody>\n",
       "</table>\n",
       "</div>"
      ],
      "text/plain": [
       "                 Close   Predicted\n",
       "Date                              \n",
       "2018-04-03  267.529999  330.538757\n",
       "2018-04-04  286.940002  324.944885\n",
       "2018-04-05  305.720001  324.834564\n",
       "2018-04-06  299.299988  326.153198\n",
       "2018-04-09  289.660004  324.991577"
      ]
     },
     "execution_count": 54,
     "metadata": {},
     "output_type": "execute_result"
    }
   ],
   "source": [
    "test_prediction_df = result_df[position+lookback:]\n",
    "test_prediction_df[\"Predicted\"] = test_predict\n",
    "test_prediction_df.head()"
   ]
  },
  {
   "cell_type": "code",
   "execution_count": 55,
   "id": "3284dda9",
   "metadata": {
    "execution": {
     "iopub.execute_input": "2024-11-23T08:52:55.139872Z",
     "iopub.status.busy": "2024-11-23T08:52:55.139069Z",
     "iopub.status.idle": "2024-11-23T08:52:55.504389Z",
     "shell.execute_reply": "2024-11-23T08:52:55.502992Z"
    },
    "id": "PJ_-znSchYO_",
    "papermill": {
     "duration": 0.394865,
     "end_time": "2024-11-23T08:52:55.507037",
     "exception": false,
     "start_time": "2024-11-23T08:52:55.112172",
     "status": "completed"
    },
    "tags": []
   },
   "outputs": [
    {
     "data": {
      "image/png": "[encoded data removed]",
      "text/plain": [
       "<Figure size 1400x500 with 1 Axes>"
      ]
     },
     "metadata": {},
     "output_type": "display_data"
    }
   ],
   "source": [
    "plt.figure(figsize=(14,5))\n",
    "plt.plot(result_df, label = \"Real Number of Passengers\")\n",
    "plt.plot(train_prediction_df[\"Predicted\"], color = 'blue', label = \"Train Predicted Number of Passengers\")\n",
    "plt.plot(test_prediction_df[\"Predicted\"],color = 'red', label = \"Test Predicted Number of Passengers\")\n",
    "plt.title(\"Number of Passengers Prediction\")\n",
    "plt.xlabel(\"Time\")\n",
    "plt.ylabel(\"Number of Passengers\")\n",
    "plt.legend()\n",
    "plt.show()"
   ]
  }
 ],
 "metadata": {
  "colab": {
   "provenance": []
  },
  "kaggle": {
   "accelerator": "none",
   "dataSources": [
    {
     "datasetId": 500872,
     "sourceId": 927894,
     "sourceType": "datasetVersion"
    }
   ],
   "dockerImageVersionId": 30761,
   "isGpuEnabled": false,
   "isInternetEnabled": true,
   "language": "python",
   "sourceType": "notebook"
  },
  "kernelspec": {
   "display_name": "Python 3",
   "language": "python",
   "name": "python3"
  },
  "language_info": {
   "codemirror_mode": {
    "name": "ipython",
    "version": 3
   },
   "file_extension": ".py",
   "mimetype": "text/x-python",
   "name": "python",
   "nbconvert_exporter": "python",
   "pygments_lexer": "ipython3",
   "version": "3.10.14"
  },
  "papermill": {
   "default_parameters": {},
   "duration": 35.160513,
   "end_time": "2024-11-23T08:52:57.161069",
   "environment_variables": {},
   "exception": null,
   "input_path": "__notebook__.ipynb",
   "output_path": "__notebook__.ipynb",
   "parameters": {},
   "start_time": "2024-11-23T08:52:22.000556",
   "version": "2.6.0"
  }
 },
 "nbformat": 4,
 "nbformat_minor": 5
}
