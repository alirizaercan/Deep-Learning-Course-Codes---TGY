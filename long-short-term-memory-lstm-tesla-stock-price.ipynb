{
 "cells": [
  {
   "cell_type": "markdown",
   "id": "10f65e38",
   "metadata": {
    "id": "4unSJJjsT8BM",
    "papermill": {
     "duration": 0.013422,
     "end_time": "2024-11-05T06:20:06.702946",
     "exception": false,
     "start_time": "2024-11-05T06:20:06.689524",
     "status": "completed"
    },
    "tags": []
   },
   "source": [
    "# Tesla - Stock Price Prediction\n",
    "\n",
    "---\n",
    "\n"
   ]
  },
  {
   "cell_type": "markdown",
   "id": "200cb366",
   "metadata": {
    "id": "wkRLJL2XUAfT",
    "papermill": {
     "duration": 0.012335,
     "end_time": "2024-11-05T06:20:06.728265",
     "exception": false,
     "start_time": "2024-11-05T06:20:06.715930",
     "status": "completed"
    },
    "tags": []
   },
   "source": [
    "## Business Problem\n",
    "\n",
    "In this notebook, our purpose is to predict of tesla - stock price."
   ]
  },
  {
   "cell_type": "markdown",
   "id": "b49d893c",
   "metadata": {
    "id": "0uxjphZsUwjz",
    "papermill": {
     "duration": 0.012392,
     "end_time": "2024-11-05T06:20:06.753256",
     "exception": false,
     "start_time": "2024-11-05T06:20:06.740864",
     "status": "completed"
    },
    "tags": []
   },
   "source": [
    "## Data Understanding"
   ]
  },
  {
   "cell_type": "code",
   "execution_count": 1,
   "id": "05e1d17d",
   "metadata": {
    "execution": {
     "iopub.execute_input": "2024-11-05T06:20:06.780896Z",
     "iopub.status.busy": "2024-11-05T06:20:06.780328Z",
     "iopub.status.idle": "2024-11-05T06:20:23.334623Z",
     "shell.execute_reply": "2024-11-05T06:20:23.333483Z"
    },
    "id": "40IR65rQUyWC",
    "outputId": "4562368d-970e-4fd6-b03e-be036efe4dcd",
    "papermill": {
     "duration": 16.571446,
     "end_time": "2024-11-05T06:20:23.337349",
     "exception": false,
     "start_time": "2024-11-05T06:20:06.765903",
     "status": "completed"
    },
    "tags": []
   },
   "outputs": [],
   "source": [
    "import numpy as np\n",
    "import pandas as pd\n",
    "import datetime as dt\n",
    "import tensorflow as tf\n",
    "import matplotlib.pyplot as plt\n",
    "\n",
    "from sklearn.preprocessing import MinMaxScaler\n",
    "from sklearn.metrics import mean_squared_error\n",
    "\n",
    "from tensorflow.keras.models import Sequential\n",
    "from tensorflow.keras.layers import Dense, LSTM, Dropout\n",
    "from tensorflow.keras.callbacks import ModelCheckpoint, EarlyStopping\n",
    "\n",
    "import warnings\n",
    "warnings.filterwarnings('ignore')\n",
    "\n",
    "import os\n",
    "os.environ['TF_CPP_MIN_LOG_LEVEL'] = '3'\n",
    "tf.compat.v1.logging.set_verbosity(tf.compat.v1.logging.ERROR)"
   ]
  },
  {
   "cell_type": "code",
   "execution_count": 2,
   "id": "98b710bf",
   "metadata": {
    "execution": {
     "iopub.execute_input": "2024-11-05T06:20:23.365854Z",
     "iopub.status.busy": "2024-11-05T06:20:23.364987Z",
     "iopub.status.idle": "2024-11-05T06:20:23.431212Z",
     "shell.execute_reply": "2024-11-05T06:20:23.430050Z"
    },
    "id": "-be5_efvVpTV",
    "papermill": {
     "duration": 0.083117,
     "end_time": "2024-11-05T06:20:23.433908",
     "exception": false,
     "start_time": "2024-11-05T06:20:23.350791",
     "status": "completed"
    },
    "tags": []
   },
   "outputs": [
    {
     "data": {
      "text/html": [
       "<div>\n",
       "<style scoped>\n",
       "    .dataframe tbody tr th:only-of-type {\n",
       "        vertical-align: middle;\n",
       "    }\n",
       "\n",
       "    .dataframe tbody tr th {\n",
       "        vertical-align: top;\n",
       "    }\n",
       "\n",
       "    .dataframe thead th {\n",
       "        text-align: right;\n",
       "    }\n",
       "</style>\n",
       "<table border=\"1\" class=\"dataframe\">\n",
       "  <thead>\n",
       "    <tr style=\"text-align: right;\">\n",
       "      <th></th>\n",
       "      <th>Date</th>\n",
       "      <th>Open</th>\n",
       "      <th>High</th>\n",
       "      <th>Low</th>\n",
       "      <th>Close</th>\n",
       "      <th>Adj Close</th>\n",
       "      <th>Volume</th>\n",
       "    </tr>\n",
       "  </thead>\n",
       "  <tbody>\n",
       "    <tr>\n",
       "      <th>0</th>\n",
       "      <td>2010-06-29</td>\n",
       "      <td>19.000000</td>\n",
       "      <td>25.000000</td>\n",
       "      <td>17.540001</td>\n",
       "      <td>23.889999</td>\n",
       "      <td>23.889999</td>\n",
       "      <td>18766300</td>\n",
       "    </tr>\n",
       "    <tr>\n",
       "      <th>1</th>\n",
       "      <td>2010-06-30</td>\n",
       "      <td>25.790001</td>\n",
       "      <td>30.420000</td>\n",
       "      <td>23.299999</td>\n",
       "      <td>23.830000</td>\n",
       "      <td>23.830000</td>\n",
       "      <td>17187100</td>\n",
       "    </tr>\n",
       "    <tr>\n",
       "      <th>2</th>\n",
       "      <td>2010-07-01</td>\n",
       "      <td>25.000000</td>\n",
       "      <td>25.920000</td>\n",
       "      <td>20.270000</td>\n",
       "      <td>21.959999</td>\n",
       "      <td>21.959999</td>\n",
       "      <td>8218800</td>\n",
       "    </tr>\n",
       "    <tr>\n",
       "      <th>3</th>\n",
       "      <td>2010-07-02</td>\n",
       "      <td>23.000000</td>\n",
       "      <td>23.100000</td>\n",
       "      <td>18.709999</td>\n",
       "      <td>19.200001</td>\n",
       "      <td>19.200001</td>\n",
       "      <td>5139800</td>\n",
       "    </tr>\n",
       "    <tr>\n",
       "      <th>4</th>\n",
       "      <td>2010-07-06</td>\n",
       "      <td>20.000000</td>\n",
       "      <td>20.000000</td>\n",
       "      <td>15.830000</td>\n",
       "      <td>16.110001</td>\n",
       "      <td>16.110001</td>\n",
       "      <td>6866900</td>\n",
       "    </tr>\n",
       "    <tr>\n",
       "      <th>...</th>\n",
       "      <td>...</td>\n",
       "      <td>...</td>\n",
       "      <td>...</td>\n",
       "      <td>...</td>\n",
       "      <td>...</td>\n",
       "      <td>...</td>\n",
       "      <td>...</td>\n",
       "    </tr>\n",
       "    <tr>\n",
       "      <th>2411</th>\n",
       "      <td>2020-01-28</td>\n",
       "      <td>568.489990</td>\n",
       "      <td>576.809998</td>\n",
       "      <td>558.080017</td>\n",
       "      <td>566.900024</td>\n",
       "      <td>566.900024</td>\n",
       "      <td>11788500</td>\n",
       "    </tr>\n",
       "    <tr>\n",
       "      <th>2412</th>\n",
       "      <td>2020-01-29</td>\n",
       "      <td>575.690002</td>\n",
       "      <td>589.799988</td>\n",
       "      <td>567.429993</td>\n",
       "      <td>580.989990</td>\n",
       "      <td>580.989990</td>\n",
       "      <td>17801500</td>\n",
       "    </tr>\n",
       "    <tr>\n",
       "      <th>2413</th>\n",
       "      <td>2020-01-30</td>\n",
       "      <td>632.419983</td>\n",
       "      <td>650.880005</td>\n",
       "      <td>618.000000</td>\n",
       "      <td>640.809998</td>\n",
       "      <td>640.809998</td>\n",
       "      <td>29005700</td>\n",
       "    </tr>\n",
       "    <tr>\n",
       "      <th>2414</th>\n",
       "      <td>2020-01-31</td>\n",
       "      <td>640.000000</td>\n",
       "      <td>653.000000</td>\n",
       "      <td>632.520020</td>\n",
       "      <td>650.570007</td>\n",
       "      <td>650.570007</td>\n",
       "      <td>15719300</td>\n",
       "    </tr>\n",
       "    <tr>\n",
       "      <th>2415</th>\n",
       "      <td>2020-02-03</td>\n",
       "      <td>673.690002</td>\n",
       "      <td>786.140015</td>\n",
       "      <td>673.520020</td>\n",
       "      <td>780.000000</td>\n",
       "      <td>780.000000</td>\n",
       "      <td>47065000</td>\n",
       "    </tr>\n",
       "  </tbody>\n",
       "</table>\n",
       "<p>2416 rows × 7 columns</p>\n",
       "</div>"
      ],
      "text/plain": [
       "            Date        Open        High         Low       Close   Adj Close  \\\n",
       "0     2010-06-29   19.000000   25.000000   17.540001   23.889999   23.889999   \n",
       "1     2010-06-30   25.790001   30.420000   23.299999   23.830000   23.830000   \n",
       "2     2010-07-01   25.000000   25.920000   20.270000   21.959999   21.959999   \n",
       "3     2010-07-02   23.000000   23.100000   18.709999   19.200001   19.200001   \n",
       "4     2010-07-06   20.000000   20.000000   15.830000   16.110001   16.110001   \n",
       "...          ...         ...         ...         ...         ...         ...   \n",
       "2411  2020-01-28  568.489990  576.809998  558.080017  566.900024  566.900024   \n",
       "2412  2020-01-29  575.690002  589.799988  567.429993  580.989990  580.989990   \n",
       "2413  2020-01-30  632.419983  650.880005  618.000000  640.809998  640.809998   \n",
       "2414  2020-01-31  640.000000  653.000000  632.520020  650.570007  650.570007   \n",
       "2415  2020-02-03  673.690002  786.140015  673.520020  780.000000  780.000000   \n",
       "\n",
       "        Volume  \n",
       "0     18766300  \n",
       "1     17187100  \n",
       "2      8218800  \n",
       "3      5139800  \n",
       "4      6866900  \n",
       "...        ...  \n",
       "2411  11788500  \n",
       "2412  17801500  \n",
       "2413  29005700  \n",
       "2414  15719300  \n",
       "2415  47065000  \n",
       "\n",
       "[2416 rows x 7 columns]"
      ]
     },
     "execution_count": 2,
     "metadata": {},
     "output_type": "execute_result"
    }
   ],
   "source": [
    "df = pd.read_csv('/kaggle/input/tesla-stock-data-from-2010-to-2020/TSLA.csv')\n",
    "df"
   ]
  },
  {
   "cell_type": "code",
   "execution_count": 3,
   "id": "4aac7273",
   "metadata": {
    "execution": {
     "iopub.execute_input": "2024-11-05T06:20:23.462530Z",
     "iopub.status.busy": "2024-11-05T06:20:23.462092Z",
     "iopub.status.idle": "2024-11-05T06:20:23.476357Z",
     "shell.execute_reply": "2024-11-05T06:20:23.475151Z"
    },
    "id": "lG_AO3mdVv17",
    "papermill": {
     "duration": 0.031077,
     "end_time": "2024-11-05T06:20:23.478720",
     "exception": false,
     "start_time": "2024-11-05T06:20:23.447643",
     "status": "completed"
    },
    "tags": []
   },
   "outputs": [
    {
     "data": {
      "text/html": [
       "<div>\n",
       "<style scoped>\n",
       "    .dataframe tbody tr th:only-of-type {\n",
       "        vertical-align: middle;\n",
       "    }\n",
       "\n",
       "    .dataframe tbody tr th {\n",
       "        vertical-align: top;\n",
       "    }\n",
       "\n",
       "    .dataframe thead th {\n",
       "        text-align: right;\n",
       "    }\n",
       "</style>\n",
       "<table border=\"1\" class=\"dataframe\">\n",
       "  <thead>\n",
       "    <tr style=\"text-align: right;\">\n",
       "      <th></th>\n",
       "      <th>Date</th>\n",
       "      <th>Open</th>\n",
       "      <th>High</th>\n",
       "      <th>Low</th>\n",
       "      <th>Close</th>\n",
       "      <th>Adj Close</th>\n",
       "      <th>Volume</th>\n",
       "    </tr>\n",
       "  </thead>\n",
       "  <tbody>\n",
       "    <tr>\n",
       "      <th>0</th>\n",
       "      <td>2010-06-29</td>\n",
       "      <td>19.000000</td>\n",
       "      <td>25.00</td>\n",
       "      <td>17.540001</td>\n",
       "      <td>23.889999</td>\n",
       "      <td>23.889999</td>\n",
       "      <td>18766300</td>\n",
       "    </tr>\n",
       "    <tr>\n",
       "      <th>1</th>\n",
       "      <td>2010-06-30</td>\n",
       "      <td>25.790001</td>\n",
       "      <td>30.42</td>\n",
       "      <td>23.299999</td>\n",
       "      <td>23.830000</td>\n",
       "      <td>23.830000</td>\n",
       "      <td>17187100</td>\n",
       "    </tr>\n",
       "    <tr>\n",
       "      <th>2</th>\n",
       "      <td>2010-07-01</td>\n",
       "      <td>25.000000</td>\n",
       "      <td>25.92</td>\n",
       "      <td>20.270000</td>\n",
       "      <td>21.959999</td>\n",
       "      <td>21.959999</td>\n",
       "      <td>8218800</td>\n",
       "    </tr>\n",
       "    <tr>\n",
       "      <th>3</th>\n",
       "      <td>2010-07-02</td>\n",
       "      <td>23.000000</td>\n",
       "      <td>23.10</td>\n",
       "      <td>18.709999</td>\n",
       "      <td>19.200001</td>\n",
       "      <td>19.200001</td>\n",
       "      <td>5139800</td>\n",
       "    </tr>\n",
       "    <tr>\n",
       "      <th>4</th>\n",
       "      <td>2010-07-06</td>\n",
       "      <td>20.000000</td>\n",
       "      <td>20.00</td>\n",
       "      <td>15.830000</td>\n",
       "      <td>16.110001</td>\n",
       "      <td>16.110001</td>\n",
       "      <td>6866900</td>\n",
       "    </tr>\n",
       "  </tbody>\n",
       "</table>\n",
       "</div>"
      ],
      "text/plain": [
       "         Date       Open   High        Low      Close  Adj Close    Volume\n",
       "0  2010-06-29  19.000000  25.00  17.540001  23.889999  23.889999  18766300\n",
       "1  2010-06-30  25.790001  30.42  23.299999  23.830000  23.830000  17187100\n",
       "2  2010-07-01  25.000000  25.92  20.270000  21.959999  21.959999   8218800\n",
       "3  2010-07-02  23.000000  23.10  18.709999  19.200001  19.200001   5139800\n",
       "4  2010-07-06  20.000000  20.00  15.830000  16.110001  16.110001   6866900"
      ]
     },
     "execution_count": 3,
     "metadata": {},
     "output_type": "execute_result"
    }
   ],
   "source": [
    "df.head()"
   ]
  },
  {
   "cell_type": "code",
   "execution_count": 4,
   "id": "cb86c26d",
   "metadata": {
    "execution": {
     "iopub.execute_input": "2024-11-05T06:20:23.507094Z",
     "iopub.status.busy": "2024-11-05T06:20:23.506563Z",
     "iopub.status.idle": "2024-11-05T06:20:23.514021Z",
     "shell.execute_reply": "2024-11-05T06:20:23.512842Z"
    },
    "id": "TU5hlfyvVxY0",
    "papermill": {
     "duration": 0.024351,
     "end_time": "2024-11-05T06:20:23.516268",
     "exception": false,
     "start_time": "2024-11-05T06:20:23.491917",
     "status": "completed"
    },
    "tags": []
   },
   "outputs": [],
   "source": [
    "def check_df(dataframe, head=5):\n",
    "    print(\"##################### Shape #####################\")\n",
    "    print(dataframe.shape)\n",
    "    print(\"##################### Types #####################\")\n",
    "    print(dataframe.dtypes)\n",
    "    print(\"##################### Head #####################\")\n",
    "    print(dataframe.head(head))  # Fonksiyon çağrısına dikkat edin\n",
    "    print(\"##################### Tail #####################\")\n",
    "    print(dataframe.tail(head))\n",
    "    print(\"##################### NA #####################\")\n",
    "    print(dataframe.isnull().sum())\n",
    "    print(\"##################### Quantile #####################\")\n",
    "    print(dataframe.select_dtypes(include='number').quantile([0, 0.05, 0.5, 0.95, 0.99, 1]).T)\n"
   ]
  },
  {
   "cell_type": "code",
   "execution_count": 5,
   "id": "ff580db6",
   "metadata": {
    "execution": {
     "iopub.execute_input": "2024-11-05T06:20:23.544763Z",
     "iopub.status.busy": "2024-11-05T06:20:23.544311Z",
     "iopub.status.idle": "2024-11-05T06:20:23.567662Z",
     "shell.execute_reply": "2024-11-05T06:20:23.566527Z"
    },
    "id": "t6iFP965V4vk",
    "papermill": {
     "duration": 0.040531,
     "end_time": "2024-11-05T06:20:23.570086",
     "exception": false,
     "start_time": "2024-11-05T06:20:23.529555",
     "status": "completed"
    },
    "tags": []
   },
   "outputs": [
    {
     "name": "stdout",
     "output_type": "stream",
     "text": [
      "##################### Shape #####################\n",
      "(2416, 7)\n",
      "##################### Types #####################\n",
      "Date          object\n",
      "Open         float64\n",
      "High         float64\n",
      "Low          float64\n",
      "Close        float64\n",
      "Adj Close    float64\n",
      "Volume         int64\n",
      "dtype: object\n",
      "##################### Head #####################\n",
      "         Date       Open   High        Low      Close  Adj Close    Volume\n",
      "0  2010-06-29  19.000000  25.00  17.540001  23.889999  23.889999  18766300\n",
      "1  2010-06-30  25.790001  30.42  23.299999  23.830000  23.830000  17187100\n",
      "2  2010-07-01  25.000000  25.92  20.270000  21.959999  21.959999   8218800\n",
      "3  2010-07-02  23.000000  23.10  18.709999  19.200001  19.200001   5139800\n",
      "4  2010-07-06  20.000000  20.00  15.830000  16.110001  16.110001   6866900\n",
      "##################### Tail #####################\n",
      "            Date        Open        High         Low       Close   Adj Close  \\\n",
      "2411  2020-01-28  568.489990  576.809998  558.080017  566.900024  566.900024   \n",
      "2412  2020-01-29  575.690002  589.799988  567.429993  580.989990  580.989990   \n",
      "2413  2020-01-30  632.419983  650.880005  618.000000  640.809998  640.809998   \n",
      "2414  2020-01-31  640.000000  653.000000  632.520020  650.570007  650.570007   \n",
      "2415  2020-02-03  673.690002  786.140015  673.520020  780.000000  780.000000   \n",
      "\n",
      "        Volume  \n",
      "2411  11788500  \n",
      "2412  17801500  \n",
      "2413  29005700  \n",
      "2414  15719300  \n",
      "2415  47065000  \n",
      "##################### NA #####################\n",
      "Date         0\n",
      "Open         0\n",
      "High         0\n",
      "Low          0\n",
      "Close        0\n",
      "Adj Close    0\n",
      "Volume       0\n",
      "dtype: int64\n",
      "##################### Quantile #####################\n",
      "                    0.00           0.05          0.50          0.95  \\\n",
      "Open           16.139999      23.384999  2.130350e+02  3.519100e+02   \n",
      "High           16.629999      24.022501  2.167450e+02  3.567500e+02   \n",
      "Low            14.980000      22.867499  2.088700e+02  3.460250e+02   \n",
      "Close          15.800000      23.565000  2.129600e+02  3.511675e+02   \n",
      "Adj Close      15.800000      23.565000  2.129600e+02  3.511675e+02   \n",
      "Volume     118500.000000  633825.000000  4.578400e+06  1.476090e+07   \n",
      "\n",
      "                   0.99          1.00  \n",
      "Open       4.235790e+02  6.736900e+02  \n",
      "High       4.284705e+02  7.861400e+02  \n",
      "Low        4.122865e+02  6.735200e+02  \n",
      "Close      4.243455e+02  7.800000e+02  \n",
      "Adj Close  4.243455e+02  7.800000e+02  \n",
      "Volume     2.459959e+07  4.706500e+07  \n"
     ]
    }
   ],
   "source": [
    "check_df(df)"
   ]
  },
  {
   "cell_type": "markdown",
   "id": "6558ff0d",
   "metadata": {
    "id": "v2n2ONcpWlQl",
    "papermill": {
     "duration": 0.013952,
     "end_time": "2024-11-05T06:20:23.597535",
     "exception": false,
     "start_time": "2024-11-05T06:20:23.583583",
     "status": "completed"
    },
    "tags": []
   },
   "source": [
    "## Data Preparation"
   ]
  },
  {
   "cell_type": "code",
   "execution_count": 6,
   "id": "378eb5b5",
   "metadata": {
    "execution": {
     "iopub.execute_input": "2024-11-05T06:20:23.625859Z",
     "iopub.status.busy": "2024-11-05T06:20:23.625383Z",
     "iopub.status.idle": "2024-11-05T06:20:23.637625Z",
     "shell.execute_reply": "2024-11-05T06:20:23.636346Z"
    },
    "id": "x-En8ormWAo8",
    "papermill": {
     "duration": 0.02947,
     "end_time": "2024-11-05T06:20:23.640291",
     "exception": false,
     "start_time": "2024-11-05T06:20:23.610821",
     "status": "completed"
    },
    "tags": []
   },
   "outputs": [],
   "source": [
    "df[\"Date\"] = pd.to_datetime(df[\"Date\"])"
   ]
  },
  {
   "cell_type": "code",
   "execution_count": 7,
   "id": "6e5e3328",
   "metadata": {
    "execution": {
     "iopub.execute_input": "2024-11-05T06:20:23.669608Z",
     "iopub.status.busy": "2024-11-05T06:20:23.669171Z",
     "iopub.status.idle": "2024-11-05T06:20:23.685442Z",
     "shell.execute_reply": "2024-11-05T06:20:23.684149Z"
    },
    "id": "Wk3C4MPkWBUG",
    "papermill": {
     "duration": 0.033557,
     "end_time": "2024-11-05T06:20:23.687843",
     "exception": false,
     "start_time": "2024-11-05T06:20:23.654286",
     "status": "completed"
    },
    "tags": []
   },
   "outputs": [
    {
     "data": {
      "text/html": [
       "<div>\n",
       "<style scoped>\n",
       "    .dataframe tbody tr th:only-of-type {\n",
       "        vertical-align: middle;\n",
       "    }\n",
       "\n",
       "    .dataframe tbody tr th {\n",
       "        vertical-align: top;\n",
       "    }\n",
       "\n",
       "    .dataframe thead th {\n",
       "        text-align: right;\n",
       "    }\n",
       "</style>\n",
       "<table border=\"1\" class=\"dataframe\">\n",
       "  <thead>\n",
       "    <tr style=\"text-align: right;\">\n",
       "      <th></th>\n",
       "      <th>Date</th>\n",
       "      <th>Open</th>\n",
       "      <th>High</th>\n",
       "      <th>Low</th>\n",
       "      <th>Close</th>\n",
       "      <th>Adj Close</th>\n",
       "      <th>Volume</th>\n",
       "    </tr>\n",
       "  </thead>\n",
       "  <tbody>\n",
       "    <tr>\n",
       "      <th>0</th>\n",
       "      <td>2010-06-29</td>\n",
       "      <td>19.000000</td>\n",
       "      <td>25.00</td>\n",
       "      <td>17.540001</td>\n",
       "      <td>23.889999</td>\n",
       "      <td>23.889999</td>\n",
       "      <td>18766300</td>\n",
       "    </tr>\n",
       "    <tr>\n",
       "      <th>1</th>\n",
       "      <td>2010-06-30</td>\n",
       "      <td>25.790001</td>\n",
       "      <td>30.42</td>\n",
       "      <td>23.299999</td>\n",
       "      <td>23.830000</td>\n",
       "      <td>23.830000</td>\n",
       "      <td>17187100</td>\n",
       "    </tr>\n",
       "    <tr>\n",
       "      <th>2</th>\n",
       "      <td>2010-07-01</td>\n",
       "      <td>25.000000</td>\n",
       "      <td>25.92</td>\n",
       "      <td>20.270000</td>\n",
       "      <td>21.959999</td>\n",
       "      <td>21.959999</td>\n",
       "      <td>8218800</td>\n",
       "    </tr>\n",
       "    <tr>\n",
       "      <th>3</th>\n",
       "      <td>2010-07-02</td>\n",
       "      <td>23.000000</td>\n",
       "      <td>23.10</td>\n",
       "      <td>18.709999</td>\n",
       "      <td>19.200001</td>\n",
       "      <td>19.200001</td>\n",
       "      <td>5139800</td>\n",
       "    </tr>\n",
       "    <tr>\n",
       "      <th>4</th>\n",
       "      <td>2010-07-06</td>\n",
       "      <td>20.000000</td>\n",
       "      <td>20.00</td>\n",
       "      <td>15.830000</td>\n",
       "      <td>16.110001</td>\n",
       "      <td>16.110001</td>\n",
       "      <td>6866900</td>\n",
       "    </tr>\n",
       "  </tbody>\n",
       "</table>\n",
       "</div>"
      ],
      "text/plain": [
       "        Date       Open   High        Low      Close  Adj Close    Volume\n",
       "0 2010-06-29  19.000000  25.00  17.540001  23.889999  23.889999  18766300\n",
       "1 2010-06-30  25.790001  30.42  23.299999  23.830000  23.830000  17187100\n",
       "2 2010-07-01  25.000000  25.92  20.270000  21.959999  21.959999   8218800\n",
       "3 2010-07-02  23.000000  23.10  18.709999  19.200001  19.200001   5139800\n",
       "4 2010-07-06  20.000000  20.00  15.830000  16.110001  16.110001   6866900"
      ]
     },
     "execution_count": 7,
     "metadata": {},
     "output_type": "execute_result"
    }
   ],
   "source": [
    "df.head()"
   ]
  },
  {
   "cell_type": "code",
   "execution_count": 8,
   "id": "75f88884",
   "metadata": {
    "execution": {
     "iopub.execute_input": "2024-11-05T06:20:23.717151Z",
     "iopub.status.busy": "2024-11-05T06:20:23.716318Z",
     "iopub.status.idle": "2024-11-05T06:20:23.723312Z",
     "shell.execute_reply": "2024-11-05T06:20:23.722074Z"
    },
    "id": "ZOVzSrk1WCHu",
    "papermill": {
     "duration": 0.024196,
     "end_time": "2024-11-05T06:20:23.725561",
     "exception": false,
     "start_time": "2024-11-05T06:20:23.701365",
     "status": "completed"
    },
    "tags": []
   },
   "outputs": [],
   "source": [
    "tesla_df = df[[\"Date\", \"Close\"]]"
   ]
  },
  {
   "cell_type": "code",
   "execution_count": 9,
   "id": "9904e7b4",
   "metadata": {
    "execution": {
     "iopub.execute_input": "2024-11-05T06:20:23.754958Z",
     "iopub.status.busy": "2024-11-05T06:20:23.753902Z",
     "iopub.status.idle": "2024-11-05T06:20:23.764786Z",
     "shell.execute_reply": "2024-11-05T06:20:23.763513Z"
    },
    "id": "Tli5FuMBWF8l",
    "papermill": {
     "duration": 0.028255,
     "end_time": "2024-11-05T06:20:23.767422",
     "exception": false,
     "start_time": "2024-11-05T06:20:23.739167",
     "status": "completed"
    },
    "tags": []
   },
   "outputs": [
    {
     "data": {
      "text/html": [
       "<div>\n",
       "<style scoped>\n",
       "    .dataframe tbody tr th:only-of-type {\n",
       "        vertical-align: middle;\n",
       "    }\n",
       "\n",
       "    .dataframe tbody tr th {\n",
       "        vertical-align: top;\n",
       "    }\n",
       "\n",
       "    .dataframe thead th {\n",
       "        text-align: right;\n",
       "    }\n",
       "</style>\n",
       "<table border=\"1\" class=\"dataframe\">\n",
       "  <thead>\n",
       "    <tr style=\"text-align: right;\">\n",
       "      <th></th>\n",
       "      <th>Date</th>\n",
       "      <th>Close</th>\n",
       "    </tr>\n",
       "  </thead>\n",
       "  <tbody>\n",
       "    <tr>\n",
       "      <th>0</th>\n",
       "      <td>2010-06-29</td>\n",
       "      <td>23.889999</td>\n",
       "    </tr>\n",
       "    <tr>\n",
       "      <th>1</th>\n",
       "      <td>2010-06-30</td>\n",
       "      <td>23.830000</td>\n",
       "    </tr>\n",
       "    <tr>\n",
       "      <th>2</th>\n",
       "      <td>2010-07-01</td>\n",
       "      <td>21.959999</td>\n",
       "    </tr>\n",
       "    <tr>\n",
       "      <th>3</th>\n",
       "      <td>2010-07-02</td>\n",
       "      <td>19.200001</td>\n",
       "    </tr>\n",
       "    <tr>\n",
       "      <th>4</th>\n",
       "      <td>2010-07-06</td>\n",
       "      <td>16.110001</td>\n",
       "    </tr>\n",
       "  </tbody>\n",
       "</table>\n",
       "</div>"
      ],
      "text/plain": [
       "        Date      Close\n",
       "0 2010-06-29  23.889999\n",
       "1 2010-06-30  23.830000\n",
       "2 2010-07-01  21.959999\n",
       "3 2010-07-02  19.200001\n",
       "4 2010-07-06  16.110001"
      ]
     },
     "execution_count": 9,
     "metadata": {},
     "output_type": "execute_result"
    }
   ],
   "source": [
    "tesla_df.head()"
   ]
  },
  {
   "cell_type": "code",
   "execution_count": 10,
   "id": "a1330e2f",
   "metadata": {
    "execution": {
     "iopub.execute_input": "2024-11-05T06:20:23.797303Z",
     "iopub.status.busy": "2024-11-05T06:20:23.796896Z",
     "iopub.status.idle": "2024-11-05T06:20:23.803964Z",
     "shell.execute_reply": "2024-11-05T06:20:23.802890Z"
    },
    "id": "Gsw5OQCAWLzn",
    "papermill": {
     "duration": 0.02486,
     "end_time": "2024-11-05T06:20:23.806312",
     "exception": false,
     "start_time": "2024-11-05T06:20:23.781452",
     "status": "completed"
    },
    "tags": []
   },
   "outputs": [
    {
     "name": "stdout",
     "output_type": "stream",
     "text": [
      "Min Date:  2010-06-29 00:00:00\n",
      "Max Date:  2020-02-03 00:00:00\n"
     ]
    }
   ],
   "source": [
    "print(\"Min Date: \", tesla_df[\"Date\"].min())\n",
    "print(\"Max Date: \", tesla_df[\"Date\"].max())"
   ]
  },
  {
   "cell_type": "code",
   "execution_count": 11,
   "id": "d6e0e0bb",
   "metadata": {
    "execution": {
     "iopub.execute_input": "2024-11-05T06:20:23.836962Z",
     "iopub.status.busy": "2024-11-05T06:20:23.836488Z",
     "iopub.status.idle": "2024-11-05T06:20:23.842032Z",
     "shell.execute_reply": "2024-11-05T06:20:23.840842Z"
    },
    "id": "JGi8P08mWQO1",
    "papermill": {
     "duration": 0.023728,
     "end_time": "2024-11-05T06:20:23.844570",
     "exception": false,
     "start_time": "2024-11-05T06:20:23.820842",
     "status": "completed"
    },
    "tags": []
   },
   "outputs": [],
   "source": [
    "tesla_df.index = tesla_df[\"Date\"]"
   ]
  },
  {
   "cell_type": "code",
   "execution_count": 12,
   "id": "f8b6df1e",
   "metadata": {
    "execution": {
     "iopub.execute_input": "2024-11-05T06:20:23.874880Z",
     "iopub.status.busy": "2024-11-05T06:20:23.874432Z",
     "iopub.status.idle": "2024-11-05T06:20:23.887376Z",
     "shell.execute_reply": "2024-11-05T06:20:23.886155Z"
    },
    "id": "YBWxX2IOWoL_",
    "papermill": {
     "duration": 0.031154,
     "end_time": "2024-11-05T06:20:23.889719",
     "exception": false,
     "start_time": "2024-11-05T06:20:23.858565",
     "status": "completed"
    },
    "tags": []
   },
   "outputs": [
    {
     "data": {
      "text/html": [
       "<div>\n",
       "<style scoped>\n",
       "    .dataframe tbody tr th:only-of-type {\n",
       "        vertical-align: middle;\n",
       "    }\n",
       "\n",
       "    .dataframe tbody tr th {\n",
       "        vertical-align: top;\n",
       "    }\n",
       "\n",
       "    .dataframe thead th {\n",
       "        text-align: right;\n",
       "    }\n",
       "</style>\n",
       "<table border=\"1\" class=\"dataframe\">\n",
       "  <thead>\n",
       "    <tr style=\"text-align: right;\">\n",
       "      <th></th>\n",
       "      <th>Date</th>\n",
       "      <th>Close</th>\n",
       "    </tr>\n",
       "    <tr>\n",
       "      <th>Date</th>\n",
       "      <th></th>\n",
       "      <th></th>\n",
       "    </tr>\n",
       "  </thead>\n",
       "  <tbody>\n",
       "    <tr>\n",
       "      <th>2010-06-29</th>\n",
       "      <td>2010-06-29</td>\n",
       "      <td>23.889999</td>\n",
       "    </tr>\n",
       "    <tr>\n",
       "      <th>2010-06-30</th>\n",
       "      <td>2010-06-30</td>\n",
       "      <td>23.830000</td>\n",
       "    </tr>\n",
       "    <tr>\n",
       "      <th>2010-07-01</th>\n",
       "      <td>2010-07-01</td>\n",
       "      <td>21.959999</td>\n",
       "    </tr>\n",
       "    <tr>\n",
       "      <th>2010-07-02</th>\n",
       "      <td>2010-07-02</td>\n",
       "      <td>19.200001</td>\n",
       "    </tr>\n",
       "    <tr>\n",
       "      <th>2010-07-06</th>\n",
       "      <td>2010-07-06</td>\n",
       "      <td>16.110001</td>\n",
       "    </tr>\n",
       "    <tr>\n",
       "      <th>...</th>\n",
       "      <td>...</td>\n",
       "      <td>...</td>\n",
       "    </tr>\n",
       "    <tr>\n",
       "      <th>2020-01-28</th>\n",
       "      <td>2020-01-28</td>\n",
       "      <td>566.900024</td>\n",
       "    </tr>\n",
       "    <tr>\n",
       "      <th>2020-01-29</th>\n",
       "      <td>2020-01-29</td>\n",
       "      <td>580.989990</td>\n",
       "    </tr>\n",
       "    <tr>\n",
       "      <th>2020-01-30</th>\n",
       "      <td>2020-01-30</td>\n",
       "      <td>640.809998</td>\n",
       "    </tr>\n",
       "    <tr>\n",
       "      <th>2020-01-31</th>\n",
       "      <td>2020-01-31</td>\n",
       "      <td>650.570007</td>\n",
       "    </tr>\n",
       "    <tr>\n",
       "      <th>2020-02-03</th>\n",
       "      <td>2020-02-03</td>\n",
       "      <td>780.000000</td>\n",
       "    </tr>\n",
       "  </tbody>\n",
       "</table>\n",
       "<p>2416 rows × 2 columns</p>\n",
       "</div>"
      ],
      "text/plain": [
       "                 Date       Close\n",
       "Date                             \n",
       "2010-06-29 2010-06-29   23.889999\n",
       "2010-06-30 2010-06-30   23.830000\n",
       "2010-07-01 2010-07-01   21.959999\n",
       "2010-07-02 2010-07-02   19.200001\n",
       "2010-07-06 2010-07-06   16.110001\n",
       "...               ...         ...\n",
       "2020-01-28 2020-01-28  566.900024\n",
       "2020-01-29 2020-01-29  580.989990\n",
       "2020-01-30 2020-01-30  640.809998\n",
       "2020-01-31 2020-01-31  650.570007\n",
       "2020-02-03 2020-02-03  780.000000\n",
       "\n",
       "[2416 rows x 2 columns]"
      ]
     },
     "execution_count": 12,
     "metadata": {},
     "output_type": "execute_result"
    }
   ],
   "source": [
    "tesla_df"
   ]
  },
  {
   "cell_type": "code",
   "execution_count": 13,
   "id": "d2fbf5c7",
   "metadata": {
    "execution": {
     "iopub.execute_input": "2024-11-05T06:20:23.920887Z",
     "iopub.status.busy": "2024-11-05T06:20:23.919690Z",
     "iopub.status.idle": "2024-11-05T06:20:23.926288Z",
     "shell.execute_reply": "2024-11-05T06:20:23.925151Z"
    },
    "id": "tgPM31WBWvcH",
    "papermill": {
     "duration": 0.024312,
     "end_time": "2024-11-05T06:20:23.928489",
     "exception": false,
     "start_time": "2024-11-05T06:20:23.904177",
     "status": "completed"
    },
    "tags": []
   },
   "outputs": [],
   "source": [
    "tesla_df.drop(\"Date\", axis=1, inplace=True)"
   ]
  },
  {
   "cell_type": "code",
   "execution_count": 14,
   "id": "5d6fb7cc",
   "metadata": {
    "execution": {
     "iopub.execute_input": "2024-11-05T06:20:23.958316Z",
     "iopub.status.busy": "2024-11-05T06:20:23.957877Z",
     "iopub.status.idle": "2024-11-05T06:20:23.969829Z",
     "shell.execute_reply": "2024-11-05T06:20:23.968663Z"
    },
    "id": "17KdnKMGWwSm",
    "papermill": {
     "duration": 0.02977,
     "end_time": "2024-11-05T06:20:23.972125",
     "exception": false,
     "start_time": "2024-11-05T06:20:23.942355",
     "status": "completed"
    },
    "tags": []
   },
   "outputs": [
    {
     "data": {
      "text/html": [
       "<div>\n",
       "<style scoped>\n",
       "    .dataframe tbody tr th:only-of-type {\n",
       "        vertical-align: middle;\n",
       "    }\n",
       "\n",
       "    .dataframe tbody tr th {\n",
       "        vertical-align: top;\n",
       "    }\n",
       "\n",
       "    .dataframe thead th {\n",
       "        text-align: right;\n",
       "    }\n",
       "</style>\n",
       "<table border=\"1\" class=\"dataframe\">\n",
       "  <thead>\n",
       "    <tr style=\"text-align: right;\">\n",
       "      <th></th>\n",
       "      <th>Close</th>\n",
       "    </tr>\n",
       "    <tr>\n",
       "      <th>Date</th>\n",
       "      <th></th>\n",
       "    </tr>\n",
       "  </thead>\n",
       "  <tbody>\n",
       "    <tr>\n",
       "      <th>2010-06-29</th>\n",
       "      <td>23.889999</td>\n",
       "    </tr>\n",
       "    <tr>\n",
       "      <th>2010-06-30</th>\n",
       "      <td>23.830000</td>\n",
       "    </tr>\n",
       "    <tr>\n",
       "      <th>2010-07-01</th>\n",
       "      <td>21.959999</td>\n",
       "    </tr>\n",
       "    <tr>\n",
       "      <th>2010-07-02</th>\n",
       "      <td>19.200001</td>\n",
       "    </tr>\n",
       "    <tr>\n",
       "      <th>2010-07-06</th>\n",
       "      <td>16.110001</td>\n",
       "    </tr>\n",
       "    <tr>\n",
       "      <th>...</th>\n",
       "      <td>...</td>\n",
       "    </tr>\n",
       "    <tr>\n",
       "      <th>2020-01-28</th>\n",
       "      <td>566.900024</td>\n",
       "    </tr>\n",
       "    <tr>\n",
       "      <th>2020-01-29</th>\n",
       "      <td>580.989990</td>\n",
       "    </tr>\n",
       "    <tr>\n",
       "      <th>2020-01-30</th>\n",
       "      <td>640.809998</td>\n",
       "    </tr>\n",
       "    <tr>\n",
       "      <th>2020-01-31</th>\n",
       "      <td>650.570007</td>\n",
       "    </tr>\n",
       "    <tr>\n",
       "      <th>2020-02-03</th>\n",
       "      <td>780.000000</td>\n",
       "    </tr>\n",
       "  </tbody>\n",
       "</table>\n",
       "<p>2416 rows × 1 columns</p>\n",
       "</div>"
      ],
      "text/plain": [
       "                 Close\n",
       "Date                  \n",
       "2010-06-29   23.889999\n",
       "2010-06-30   23.830000\n",
       "2010-07-01   21.959999\n",
       "2010-07-02   19.200001\n",
       "2010-07-06   16.110001\n",
       "...                ...\n",
       "2020-01-28  566.900024\n",
       "2020-01-29  580.989990\n",
       "2020-01-30  640.809998\n",
       "2020-01-31  650.570007\n",
       "2020-02-03  780.000000\n",
       "\n",
       "[2416 rows x 1 columns]"
      ]
     },
     "execution_count": 14,
     "metadata": {},
     "output_type": "execute_result"
    }
   ],
   "source": [
    "tesla_df"
   ]
  },
  {
   "cell_type": "code",
   "execution_count": 15,
   "id": "514eff39",
   "metadata": {
    "execution": {
     "iopub.execute_input": "2024-11-05T06:20:24.002211Z",
     "iopub.status.busy": "2024-11-05T06:20:24.001763Z",
     "iopub.status.idle": "2024-11-05T06:20:24.007403Z",
     "shell.execute_reply": "2024-11-05T06:20:24.006336Z"
    },
    "id": "PliZ5OcsWxsF",
    "papermill": {
     "duration": 0.023329,
     "end_time": "2024-11-05T06:20:24.009537",
     "exception": false,
     "start_time": "2024-11-05T06:20:23.986208",
     "status": "completed"
    },
    "tags": []
   },
   "outputs": [],
   "source": [
    "result_df = tesla_df.copy()"
   ]
  },
  {
   "cell_type": "code",
   "execution_count": 16,
   "id": "2250bc4e",
   "metadata": {
    "execution": {
     "iopub.execute_input": "2024-11-05T06:20:24.039577Z",
     "iopub.status.busy": "2024-11-05T06:20:24.039152Z",
     "iopub.status.idle": "2024-11-05T06:20:24.449506Z",
     "shell.execute_reply": "2024-11-05T06:20:24.448340Z"
    },
    "id": "ObqHX6K2W0te",
    "papermill": {
     "duration": 0.428579,
     "end_time": "2024-11-05T06:20:24.452280",
     "exception": false,
     "start_time": "2024-11-05T06:20:24.023701",
     "status": "completed"
    },
    "tags": []
   },
   "outputs": [
    {
     "data": {
      "image/png": "[encoded data removed]",
      "text/plain": [
       "<Figure size 1400x500 with 1 Axes>"
      ]
     },
     "metadata": {},
     "output_type": "display_data"
    }
   ],
   "source": [
    "plt.figure(figsize=(14,5))\n",
    "plt.plot(tesla_df['Close'], color='blue')\n",
    "plt.title(\"Tesla Stock Price\")\n",
    "plt.xlabel(\"Time\")\n",
    "plt.ylabel(\"Stock Price\")\n",
    "plt.show()"
   ]
  },
  {
   "cell_type": "code",
   "execution_count": 17,
   "id": "9e8bf655",
   "metadata": {
    "execution": {
     "iopub.execute_input": "2024-11-05T06:20:24.484629Z",
     "iopub.status.busy": "2024-11-05T06:20:24.484222Z",
     "iopub.status.idle": "2024-11-05T06:20:24.489499Z",
     "shell.execute_reply": "2024-11-05T06:20:24.488333Z"
    },
    "id": "5LWFDWjNW2z2",
    "papermill": {
     "duration": 0.024296,
     "end_time": "2024-11-05T06:20:24.491861",
     "exception": false,
     "start_time": "2024-11-05T06:20:24.467565",
     "status": "completed"
    },
    "tags": []
   },
   "outputs": [],
   "source": [
    "tesla_df = tesla_df.values"
   ]
  },
  {
   "cell_type": "code",
   "execution_count": 18,
   "id": "4876cc59",
   "metadata": {
    "execution": {
     "iopub.execute_input": "2024-11-05T06:20:24.523778Z",
     "iopub.status.busy": "2024-11-05T06:20:24.523343Z",
     "iopub.status.idle": "2024-11-05T06:20:24.531115Z",
     "shell.execute_reply": "2024-11-05T06:20:24.529922Z"
    },
    "id": "jxFZkTS-W9Mm",
    "papermill": {
     "duration": 0.02638,
     "end_time": "2024-11-05T06:20:24.533489",
     "exception": false,
     "start_time": "2024-11-05T06:20:24.507109",
     "status": "completed"
    },
    "tags": []
   },
   "outputs": [
    {
     "data": {
      "text/plain": [
       "array([[23.889999],\n",
       "       [23.83    ],\n",
       "       [21.959999],\n",
       "       [19.200001],\n",
       "       [16.110001]])"
      ]
     },
     "execution_count": 18,
     "metadata": {},
     "output_type": "execute_result"
    }
   ],
   "source": [
    "tesla_df[0:5]"
   ]
  },
  {
   "cell_type": "code",
   "execution_count": 19,
   "id": "1f121381",
   "metadata": {
    "execution": {
     "iopub.execute_input": "2024-11-05T06:20:24.566064Z",
     "iopub.status.busy": "2024-11-05T06:20:24.565192Z",
     "iopub.status.idle": "2024-11-05T06:20:24.570452Z",
     "shell.execute_reply": "2024-11-05T06:20:24.569442Z"
    },
    "id": "iU7KJlc4XAb2",
    "papermill": {
     "duration": 0.023693,
     "end_time": "2024-11-05T06:20:24.572535",
     "exception": false,
     "start_time": "2024-11-05T06:20:24.548842",
     "status": "completed"
    },
    "tags": []
   },
   "outputs": [],
   "source": [
    "tesla_df = tesla_df.astype(\"float32\")"
   ]
  },
  {
   "cell_type": "code",
   "execution_count": 20,
   "id": "a7be226e",
   "metadata": {
    "execution": {
     "iopub.execute_input": "2024-11-05T06:20:24.606139Z",
     "iopub.status.busy": "2024-11-05T06:20:24.605593Z",
     "iopub.status.idle": "2024-11-05T06:20:24.613967Z",
     "shell.execute_reply": "2024-11-05T06:20:24.612241Z"
    },
    "id": "r7Cywk9oXBI-",
    "papermill": {
     "duration": 0.029905,
     "end_time": "2024-11-05T06:20:24.617590",
     "exception": false,
     "start_time": "2024-11-05T06:20:24.587685",
     "status": "completed"
    },
    "tags": []
   },
   "outputs": [],
   "source": [
    "def split_data(dataframe, test_size):\n",
    "  position = int(round(len(dataframe) * (1 - test_size)))\n",
    "  train = dataframe[:position]\n",
    "  test = dataframe[position:]\n",
    "  return train, test, position"
   ]
  },
  {
   "cell_type": "code",
   "execution_count": 21,
   "id": "d6a69fe7",
   "metadata": {
    "execution": {
     "iopub.execute_input": "2024-11-05T06:20:24.659371Z",
     "iopub.status.busy": "2024-11-05T06:20:24.658781Z",
     "iopub.status.idle": "2024-11-05T06:20:24.665949Z",
     "shell.execute_reply": "2024-11-05T06:20:24.664419Z"
    },
    "id": "COxqfz0SZvV_",
    "papermill": {
     "duration": 0.031161,
     "end_time": "2024-11-05T06:20:24.668638",
     "exception": false,
     "start_time": "2024-11-05T06:20:24.637477",
     "status": "completed"
    },
    "tags": []
   },
   "outputs": [],
   "source": [
    "train, test, position = split_data(tesla_df, 0.20)"
   ]
  },
  {
   "cell_type": "code",
   "execution_count": 22,
   "id": "5753966d",
   "metadata": {
    "execution": {
     "iopub.execute_input": "2024-11-05T06:20:24.711048Z",
     "iopub.status.busy": "2024-11-05T06:20:24.709848Z",
     "iopub.status.idle": "2024-11-05T06:20:24.716107Z",
     "shell.execute_reply": "2024-11-05T06:20:24.715055Z"
    },
    "id": "jESwxnt2Z1t5",
    "papermill": {
     "duration": 0.027883,
     "end_time": "2024-11-05T06:20:24.718539",
     "exception": false,
     "start_time": "2024-11-05T06:20:24.690656",
     "status": "completed"
    },
    "tags": []
   },
   "outputs": [
    {
     "name": "stdout",
     "output_type": "stream",
     "text": [
      "(1933, 1) (483, 1)\n"
     ]
    }
   ],
   "source": [
    "print(train.shape, test.shape)"
   ]
  },
  {
   "cell_type": "code",
   "execution_count": 23,
   "id": "5f337ab7",
   "metadata": {
    "execution": {
     "iopub.execute_input": "2024-11-05T06:20:24.751526Z",
     "iopub.status.busy": "2024-11-05T06:20:24.750690Z",
     "iopub.status.idle": "2024-11-05T06:20:24.756005Z",
     "shell.execute_reply": "2024-11-05T06:20:24.754901Z"
    },
    "id": "wleQDdgSZ8NZ",
    "papermill": {
     "duration": 0.024059,
     "end_time": "2024-11-05T06:20:24.758216",
     "exception": false,
     "start_time": "2024-11-05T06:20:24.734157",
     "status": "completed"
    },
    "tags": []
   },
   "outputs": [],
   "source": [
    "scaler_train = MinMaxScaler(feature_range = (0,1))"
   ]
  },
  {
   "cell_type": "code",
   "execution_count": 24,
   "id": "efaadc4b",
   "metadata": {
    "execution": {
     "iopub.execute_input": "2024-11-05T06:20:24.790851Z",
     "iopub.status.busy": "2024-11-05T06:20:24.790395Z",
     "iopub.status.idle": "2024-11-05T06:20:24.796884Z",
     "shell.execute_reply": "2024-11-05T06:20:24.795625Z"
    },
    "id": "Enf8wikDaNZh",
    "papermill": {
     "duration": 0.025609,
     "end_time": "2024-11-05T06:20:24.799238",
     "exception": false,
     "start_time": "2024-11-05T06:20:24.773629",
     "status": "completed"
    },
    "tags": []
   },
   "outputs": [],
   "source": [
    "train = scaler_train.fit_transform(train)"
   ]
  },
  {
   "cell_type": "code",
   "execution_count": 25,
   "id": "954673ea",
   "metadata": {
    "execution": {
     "iopub.execute_input": "2024-11-05T06:20:24.831788Z",
     "iopub.status.busy": "2024-11-05T06:20:24.831322Z",
     "iopub.status.idle": "2024-11-05T06:20:24.836643Z",
     "shell.execute_reply": "2024-11-05T06:20:24.835485Z"
    },
    "id": "cg-7tCn_aXTc",
    "papermill": {
     "duration": 0.024293,
     "end_time": "2024-11-05T06:20:24.838954",
     "exception": false,
     "start_time": "2024-11-05T06:20:24.814661",
     "status": "completed"
    },
    "tags": []
   },
   "outputs": [],
   "source": [
    "scaler_test = MinMaxScaler(feature_range = (0,1))"
   ]
  },
  {
   "cell_type": "code",
   "execution_count": 26,
   "id": "3742a976",
   "metadata": {
    "execution": {
     "iopub.execute_input": "2024-11-05T06:20:24.871381Z",
     "iopub.status.busy": "2024-11-05T06:20:24.870936Z",
     "iopub.status.idle": "2024-11-05T06:20:24.877270Z",
     "shell.execute_reply": "2024-11-05T06:20:24.876099Z"
    },
    "id": "tSbuIifiabbC",
    "papermill": {
     "duration": 0.025567,
     "end_time": "2024-11-05T06:20:24.879819",
     "exception": false,
     "start_time": "2024-11-05T06:20:24.854252",
     "status": "completed"
    },
    "tags": []
   },
   "outputs": [],
   "source": [
    "test = scaler_test.fit_transform(test)"
   ]
  },
  {
   "cell_type": "code",
   "execution_count": 27,
   "id": "33f45aa9",
   "metadata": {
    "execution": {
     "iopub.execute_input": "2024-11-05T06:20:24.911971Z",
     "iopub.status.busy": "2024-11-05T06:20:24.911503Z",
     "iopub.status.idle": "2024-11-05T06:20:24.919426Z",
     "shell.execute_reply": "2024-11-05T06:20:24.918177Z"
    },
    "id": "X5a7m_BEagaJ",
    "papermill": {
     "duration": 0.026867,
     "end_time": "2024-11-05T06:20:24.921850",
     "exception": false,
     "start_time": "2024-11-05T06:20:24.894983",
     "status": "completed"
    },
    "tags": []
   },
   "outputs": [
    {
     "data": {
      "text/plain": [
       "array([[0.02191224],\n",
       "       [0.02174973],\n",
       "       [0.01668472],\n",
       "       [0.0092091 ],\n",
       "       [0.00083966]], dtype=float32)"
      ]
     },
     "execution_count": 27,
     "metadata": {},
     "output_type": "execute_result"
    }
   ],
   "source": [
    "train[0:5]"
   ]
  },
  {
   "cell_type": "code",
   "execution_count": 28,
   "id": "73d2533a",
   "metadata": {
    "execution": {
     "iopub.execute_input": "2024-11-05T06:20:24.954308Z",
     "iopub.status.busy": "2024-11-05T06:20:24.953906Z",
     "iopub.status.idle": "2024-11-05T06:20:24.961608Z",
     "shell.execute_reply": "2024-11-05T06:20:24.960336Z"
    },
    "id": "AeVSy_ijahnh",
    "papermill": {
     "duration": 0.026791,
     "end_time": "2024-11-05T06:20:24.964130",
     "exception": false,
     "start_time": "2024-11-05T06:20:24.937339",
     "status": "completed"
    },
    "tags": []
   },
   "outputs": [
    {
     "data": {
      "text/plain": [
       "array([[0.25685903],\n",
       "       [0.24829045],\n",
       "       [0.25511202],\n",
       "       [0.24978784],\n",
       "       [0.2465767 ]], dtype=float32)"
      ]
     },
     "execution_count": 28,
     "metadata": {},
     "output_type": "execute_result"
    }
   ],
   "source": [
    "test[0:5]"
   ]
  },
  {
   "cell_type": "code",
   "execution_count": 29,
   "id": "566672f5",
   "metadata": {
    "execution": {
     "iopub.execute_input": "2024-11-05T06:20:24.997094Z",
     "iopub.status.busy": "2024-11-05T06:20:24.996658Z",
     "iopub.status.idle": "2024-11-05T06:20:25.003275Z",
     "shell.execute_reply": "2024-11-05T06:20:25.002005Z"
    },
    "id": "Gv95UqJWasHS",
    "papermill": {
     "duration": 0.025598,
     "end_time": "2024-11-05T06:20:25.005471",
     "exception": false,
     "start_time": "2024-11-05T06:20:24.979873",
     "status": "completed"
    },
    "tags": []
   },
   "outputs": [],
   "source": [
    "def create_features(data, lookback):\n",
    "  X, Y = [], []\n",
    "  for i in range(lookback, len(data)):\n",
    "    X.append(data[i-lookback:i,0])\n",
    "    Y.append(data[i,0])\n",
    "\n",
    "  return np.array(X), np.array(Y)"
   ]
  },
  {
   "cell_type": "code",
   "execution_count": 30,
   "id": "8de2eafb",
   "metadata": {
    "execution": {
     "iopub.execute_input": "2024-11-05T06:20:25.038630Z",
     "iopub.status.busy": "2024-11-05T06:20:25.038218Z",
     "iopub.status.idle": "2024-11-05T06:20:25.043539Z",
     "shell.execute_reply": "2024-11-05T06:20:25.042362Z"
    },
    "id": "e36Ux4_CbASm",
    "papermill": {
     "duration": 0.024771,
     "end_time": "2024-11-05T06:20:25.045841",
     "exception": false,
     "start_time": "2024-11-05T06:20:25.021070",
     "status": "completed"
    },
    "tags": []
   },
   "outputs": [],
   "source": [
    "lookback = 20"
   ]
  },
  {
   "cell_type": "code",
   "execution_count": 31,
   "id": "9c50d5ad",
   "metadata": {
    "execution": {
     "iopub.execute_input": "2024-11-05T06:20:25.078873Z",
     "iopub.status.busy": "2024-11-05T06:20:25.077889Z",
     "iopub.status.idle": "2024-11-05T06:20:25.085998Z",
     "shell.execute_reply": "2024-11-05T06:20:25.084769Z"
    },
    "id": "Xd8JMdaWbCzp",
    "papermill": {
     "duration": 0.027225,
     "end_time": "2024-11-05T06:20:25.088529",
     "exception": false,
     "start_time": "2024-11-05T06:20:25.061304",
     "status": "completed"
    },
    "tags": []
   },
   "outputs": [],
   "source": [
    "X_train, y_train = create_features(train, lookback)"
   ]
  },
  {
   "cell_type": "code",
   "execution_count": 32,
   "id": "c64735fe",
   "metadata": {
    "execution": {
     "iopub.execute_input": "2024-11-05T06:20:25.182045Z",
     "iopub.status.busy": "2024-11-05T06:20:25.181516Z",
     "iopub.status.idle": "2024-11-05T06:20:25.188897Z",
     "shell.execute_reply": "2024-11-05T06:20:25.187412Z"
    },
    "id": "wHgq8DT5bF_Z",
    "papermill": {
     "duration": 0.087502,
     "end_time": "2024-11-05T06:20:25.191658",
     "exception": false,
     "start_time": "2024-11-05T06:20:25.104156",
     "status": "completed"
    },
    "tags": []
   },
   "outputs": [],
   "source": [
    "X_test, y_test = create_features(test, lookback)"
   ]
  },
  {
   "cell_type": "code",
   "execution_count": 33,
   "id": "e67da173",
   "metadata": {
    "execution": {
     "iopub.execute_input": "2024-11-05T06:20:25.224974Z",
     "iopub.status.busy": "2024-11-05T06:20:25.224524Z",
     "iopub.status.idle": "2024-11-05T06:20:25.231857Z",
     "shell.execute_reply": "2024-11-05T06:20:25.230419Z"
    },
    "id": "zYQy_33TbKdb",
    "papermill": {
     "duration": 0.026873,
     "end_time": "2024-11-05T06:20:25.234353",
     "exception": false,
     "start_time": "2024-11-05T06:20:25.207480",
     "status": "completed"
    },
    "tags": []
   },
   "outputs": [
    {
     "name": "stdout",
     "output_type": "stream",
     "text": [
      "(1913, 20) (1913,) (463, 20) (463,)\n"
     ]
    }
   ],
   "source": [
    "print(X_train.shape, y_train.shape, X_test.shape, y_test.shape)"
   ]
  },
  {
   "cell_type": "code",
   "execution_count": 34,
   "id": "441774a7",
   "metadata": {
    "execution": {
     "iopub.execute_input": "2024-11-05T06:20:25.268391Z",
     "iopub.status.busy": "2024-11-05T06:20:25.267945Z",
     "iopub.status.idle": "2024-11-05T06:20:25.276658Z",
     "shell.execute_reply": "2024-11-05T06:20:25.275533Z"
    },
    "id": "sI1k-K6bTKuw",
    "papermill": {
     "duration": 0.028432,
     "end_time": "2024-11-05T06:20:25.279105",
     "exception": false,
     "start_time": "2024-11-05T06:20:25.250673",
     "status": "completed"
    },
    "tags": []
   },
   "outputs": [
    {
     "data": {
      "text/plain": [
       "array([[0.02191224, 0.02174973, 0.01668472, 0.0092091 , 0.00083966,\n",
       "        0.        , 0.00449621, 0.00433369, 0.0033857 , 0.00633803,\n",
       "        0.01094258, 0.011078  , 0.01310942, 0.0165493 , 0.01218851,\n",
       "        0.01197183, 0.01408451, 0.01486999, 0.01394908, 0.01286566],\n",
       "       [0.02174973, 0.01668472, 0.0092091 , 0.00083966, 0.        ,\n",
       "        0.00449621, 0.00433369, 0.0033857 , 0.00633803, 0.01094258,\n",
       "        0.011078  , 0.01310942, 0.0165493 , 0.01218851, 0.01197183,\n",
       "        0.01408451, 0.01486999, 0.01394908, 0.01286566, 0.01332611],\n",
       "       [0.01668472, 0.0092091 , 0.00083966, 0.        , 0.00449621,\n",
       "        0.00433369, 0.0033857 , 0.00633803, 0.01094258, 0.011078  ,\n",
       "        0.01310942, 0.0165493 , 0.01218851, 0.01197183, 0.01408451,\n",
       "        0.01486999, 0.01394908, 0.01286566, 0.01332611, 0.01232395],\n",
       "       [0.0092091 , 0.00083966, 0.        , 0.00449621, 0.00433369,\n",
       "        0.0033857 , 0.00633803, 0.01094258, 0.011078  , 0.01310942,\n",
       "        0.0165493 , 0.01218851, 0.01197183, 0.01408451, 0.01486999,\n",
       "        0.01394908, 0.01286566, 0.01332611, 0.01232395, 0.01121344],\n",
       "       [0.00083966, 0.        , 0.00449621, 0.00433369, 0.0033857 ,\n",
       "        0.00633803, 0.01094258, 0.011078  , 0.01310942, 0.0165493 ,\n",
       "        0.01218851, 0.01197183, 0.01408451, 0.01486999, 0.01394908,\n",
       "        0.01286566, 0.01332611, 0.01232395, 0.01121344, 0.01386782]],\n",
       "      dtype=float32)"
      ]
     },
     "execution_count": 34,
     "metadata": {},
     "output_type": "execute_result"
    }
   ],
   "source": [
    "X_train[0:5]"
   ]
  },
  {
   "cell_type": "code",
   "execution_count": 35,
   "id": "bbf0ec4f",
   "metadata": {
    "execution": {
     "iopub.execute_input": "2024-11-05T06:20:25.312658Z",
     "iopub.status.busy": "2024-11-05T06:20:25.312210Z",
     "iopub.status.idle": "2024-11-05T06:20:25.320494Z",
     "shell.execute_reply": "2024-11-05T06:20:25.319142Z"
    },
    "id": "vY5hCVQHTg9u",
    "papermill": {
     "duration": 0.02822,
     "end_time": "2024-11-05T06:20:25.323178",
     "exception": false,
     "start_time": "2024-11-05T06:20:25.294958",
     "status": "completed"
    },
    "tags": []
   },
   "outputs": [
    {
     "data": {
      "text/plain": [
       "array([0.01332611, 0.01232395, 0.01121344, 0.01386782, 0.01665764],\n",
       "      dtype=float32)"
      ]
     },
     "execution_count": 35,
     "metadata": {},
     "output_type": "execute_result"
    }
   ],
   "source": [
    "y_train[0:5]"
   ]
  },
  {
   "cell_type": "code",
   "execution_count": 36,
   "id": "26d4f631",
   "metadata": {
    "execution": {
     "iopub.execute_input": "2024-11-05T06:20:25.358700Z",
     "iopub.status.busy": "2024-11-05T06:20:25.357828Z",
     "iopub.status.idle": "2024-11-05T06:20:25.364487Z",
     "shell.execute_reply": "2024-11-05T06:20:25.363188Z"
    },
    "id": "yvf-4kLybad5",
    "papermill": {
     "duration": 0.026735,
     "end_time": "2024-11-05T06:20:25.366927",
     "exception": false,
     "start_time": "2024-11-05T06:20:25.340192",
     "status": "completed"
    },
    "tags": []
   },
   "outputs": [],
   "source": [
    "X_train = np.reshape(X_train, (X_train.shape[0], 1, X_train.shape[1]))\n",
    "X_test = np.reshape(X_test, (X_test.shape[0], 1, X_test.shape[1]))\n",
    "y_train = y_train.reshape(-1,1)\n",
    "y_test = y_test.reshape(-1,1)"
   ]
  },
  {
   "cell_type": "code",
   "execution_count": 37,
   "id": "fb8eb19a",
   "metadata": {
    "execution": {
     "iopub.execute_input": "2024-11-05T06:20:25.401176Z",
     "iopub.status.busy": "2024-11-05T06:20:25.400750Z",
     "iopub.status.idle": "2024-11-05T06:20:25.407435Z",
     "shell.execute_reply": "2024-11-05T06:20:25.405829Z"
    },
    "id": "D2ltv0Edb3wz",
    "papermill": {
     "duration": 0.027827,
     "end_time": "2024-11-05T06:20:25.410911",
     "exception": false,
     "start_time": "2024-11-05T06:20:25.383084",
     "status": "completed"
    },
    "tags": []
   },
   "outputs": [
    {
     "name": "stdout",
     "output_type": "stream",
     "text": [
      "(1913, 1, 20) (1913, 1) (463, 1, 20) (463, 1)\n"
     ]
    }
   ],
   "source": [
    "print(X_train.shape, y_train.shape, X_test.shape, y_test.shape)"
   ]
  },
  {
   "cell_type": "markdown",
   "id": "e1050b37",
   "metadata": {
    "id": "DtsN3xazcIAn",
    "papermill": {
     "duration": 0.019037,
     "end_time": "2024-11-05T06:20:25.446190",
     "exception": false,
     "start_time": "2024-11-05T06:20:25.427153",
     "status": "completed"
    },
    "tags": []
   },
   "source": [
    "## Modelling"
   ]
  },
  {
   "cell_type": "code",
   "execution_count": 38,
   "id": "aaf18909",
   "metadata": {
    "execution": {
     "iopub.execute_input": "2024-11-05T06:20:25.481028Z",
     "iopub.status.busy": "2024-11-05T06:20:25.480570Z",
     "iopub.status.idle": "2024-11-05T06:20:25.604177Z",
     "shell.execute_reply": "2024-11-05T06:20:25.602819Z"
    },
    "id": "QtbQx4G9cI_z",
    "papermill": {
     "duration": 0.144286,
     "end_time": "2024-11-05T06:20:25.607105",
     "exception": false,
     "start_time": "2024-11-05T06:20:25.462819",
     "status": "completed"
    },
    "tags": []
   },
   "outputs": [],
   "source": [
    "model = Sequential()\n",
    "\n",
    "model.add(LSTM(units = 50,\n",
    "                    activation = 'relu',\n",
    "                    input_shape=(X_train.shape[1], lookback)))\n",
    "\n",
    "model.add(Dropout(0.2))\n",
    "\n",
    "model.add(Dense(1))\n"
   ]
  },
  {
   "cell_type": "code",
   "execution_count": 39,
   "id": "005d9ed0",
   "metadata": {
    "execution": {
     "iopub.execute_input": "2024-11-05T06:20:25.641247Z",
     "iopub.status.busy": "2024-11-05T06:20:25.640813Z",
     "iopub.status.idle": "2024-11-05T06:20:25.663318Z",
     "shell.execute_reply": "2024-11-05T06:20:25.662124Z"
    },
    "id": "RQFXIkDbciE6",
    "papermill": {
     "duration": 0.042466,
     "end_time": "2024-11-05T06:20:25.665647",
     "exception": false,
     "start_time": "2024-11-05T06:20:25.623181",
     "status": "completed"
    },
    "tags": []
   },
   "outputs": [
    {
     "data": {
      "text/html": [
       "<pre style=\"white-space:pre;overflow-x:auto;line-height:normal;font-family:Menlo,'DejaVu Sans Mono',consolas,'Courier New',monospace\"><span style=\"font-weight: bold\">Model: \"sequential\"</span>\n",
       "</pre>\n"
      ],
      "text/plain": [
       "\u001b[1mModel: \"sequential\"\u001b[0m\n"
      ]
     },
     "metadata": {},
     "output_type": "display_data"
    },
    {
     "data": {
      "text/html": [
       "<pre style=\"white-space:pre;overflow-x:auto;line-height:normal;font-family:Menlo,'DejaVu Sans Mono',consolas,'Courier New',monospace\">┏━━━━━━━━━━━━━━━━━━━━━━━━━━━━━━━━━┳━━━━━━━━━━━━━━━━━━━━━━━━┳━━━━━━━━━━━━━━━┓\n",
       "┃<span style=\"font-weight: bold\"> Layer (type)                    </span>┃<span style=\"font-weight: bold\"> Output Shape           </span>┃<span style=\"font-weight: bold\">       Param # </span>┃\n",
       "┡━━━━━━━━━━━━━━━━━━━━━━━━━━━━━━━━━╇━━━━━━━━━━━━━━━━━━━━━━━━╇━━━━━━━━━━━━━━━┩\n",
       "│ lstm (<span style=\"color: #0087ff; text-decoration-color: #0087ff\">LSTM</span>)                     │ (<span style=\"color: #00d7ff; text-decoration-color: #00d7ff\">None</span>, <span style=\"color: #00af00; text-decoration-color: #00af00\">50</span>)             │        <span style=\"color: #00af00; text-decoration-color: #00af00\">14,200</span> │\n",
       "├─────────────────────────────────┼────────────────────────┼───────────────┤\n",
       "│ dropout (<span style=\"color: #0087ff; text-decoration-color: #0087ff\">Dropout</span>)               │ (<span style=\"color: #00d7ff; text-decoration-color: #00d7ff\">None</span>, <span style=\"color: #00af00; text-decoration-color: #00af00\">50</span>)             │             <span style=\"color: #00af00; text-decoration-color: #00af00\">0</span> │\n",
       "├─────────────────────────────────┼────────────────────────┼───────────────┤\n",
       "│ dense (<span style=\"color: #0087ff; text-decoration-color: #0087ff\">Dense</span>)                   │ (<span style=\"color: #00d7ff; text-decoration-color: #00d7ff\">None</span>, <span style=\"color: #00af00; text-decoration-color: #00af00\">1</span>)              │            <span style=\"color: #00af00; text-decoration-color: #00af00\">51</span> │\n",
       "└─────────────────────────────────┴────────────────────────┴───────────────┘\n",
       "</pre>\n"
      ],
      "text/plain": [
       "┏━━━━━━━━━━━━━━━━━━━━━━━━━━━━━━━━━┳━━━━━━━━━━━━━━━━━━━━━━━━┳━━━━━━━━━━━━━━━┓\n",
       "┃\u001b[1m \u001b[0m\u001b[1mLayer (type)                   \u001b[0m\u001b[1m \u001b[0m┃\u001b[1m \u001b[0m\u001b[1mOutput Shape          \u001b[0m\u001b[1m \u001b[0m┃\u001b[1m \u001b[0m\u001b[1m      Param #\u001b[0m\u001b[1m \u001b[0m┃\n",
       "┡━━━━━━━━━━━━━━━━━━━━━━━━━━━━━━━━━╇━━━━━━━━━━━━━━━━━━━━━━━━╇━━━━━━━━━━━━━━━┩\n",
       "│ lstm (\u001b[38;5;33mLSTM\u001b[0m)                     │ (\u001b[38;5;45mNone\u001b[0m, \u001b[38;5;34m50\u001b[0m)             │        \u001b[38;5;34m14,200\u001b[0m │\n",
       "├─────────────────────────────────┼────────────────────────┼───────────────┤\n",
       "│ dropout (\u001b[38;5;33mDropout\u001b[0m)               │ (\u001b[38;5;45mNone\u001b[0m, \u001b[38;5;34m50\u001b[0m)             │             \u001b[38;5;34m0\u001b[0m │\n",
       "├─────────────────────────────────┼────────────────────────┼───────────────┤\n",
       "│ dense (\u001b[38;5;33mDense\u001b[0m)                   │ (\u001b[38;5;45mNone\u001b[0m, \u001b[38;5;34m1\u001b[0m)              │            \u001b[38;5;34m51\u001b[0m │\n",
       "└─────────────────────────────────┴────────────────────────┴───────────────┘\n"
      ]
     },
     "metadata": {},
     "output_type": "display_data"
    },
    {
     "data": {
      "text/html": [
       "<pre style=\"white-space:pre;overflow-x:auto;line-height:normal;font-family:Menlo,'DejaVu Sans Mono',consolas,'Courier New',monospace\"><span style=\"font-weight: bold\"> Total params: </span><span style=\"color: #00af00; text-decoration-color: #00af00\">14,251</span> (55.67 KB)\n",
       "</pre>\n"
      ],
      "text/plain": [
       "\u001b[1m Total params: \u001b[0m\u001b[38;5;34m14,251\u001b[0m (55.67 KB)\n"
      ]
     },
     "metadata": {},
     "output_type": "display_data"
    },
    {
     "data": {
      "text/html": [
       "<pre style=\"white-space:pre;overflow-x:auto;line-height:normal;font-family:Menlo,'DejaVu Sans Mono',consolas,'Courier New',monospace\"><span style=\"font-weight: bold\"> Trainable params: </span><span style=\"color: #00af00; text-decoration-color: #00af00\">14,251</span> (55.67 KB)\n",
       "</pre>\n"
      ],
      "text/plain": [
       "\u001b[1m Trainable params: \u001b[0m\u001b[38;5;34m14,251\u001b[0m (55.67 KB)\n"
      ]
     },
     "metadata": {},
     "output_type": "display_data"
    },
    {
     "data": {
      "text/html": [
       "<pre style=\"white-space:pre;overflow-x:auto;line-height:normal;font-family:Menlo,'DejaVu Sans Mono',consolas,'Courier New',monospace\"><span style=\"font-weight: bold\"> Non-trainable params: </span><span style=\"color: #00af00; text-decoration-color: #00af00\">0</span> (0.00 B)\n",
       "</pre>\n"
      ],
      "text/plain": [
       "\u001b[1m Non-trainable params: \u001b[0m\u001b[38;5;34m0\u001b[0m (0.00 B)\n"
      ]
     },
     "metadata": {},
     "output_type": "display_data"
    }
   ],
   "source": [
    "model.summary()"
   ]
  },
  {
   "cell_type": "code",
   "execution_count": 40,
   "id": "2c070faa",
   "metadata": {
    "execution": {
     "iopub.execute_input": "2024-11-05T06:20:25.700705Z",
     "iopub.status.busy": "2024-11-05T06:20:25.700299Z",
     "iopub.status.idle": "2024-11-05T06:20:25.715507Z",
     "shell.execute_reply": "2024-11-05T06:20:25.714424Z"
    },
    "id": "NE6_O7IwclkT",
    "papermill": {
     "duration": 0.035717,
     "end_time": "2024-11-05T06:20:25.718077",
     "exception": false,
     "start_time": "2024-11-05T06:20:25.682360",
     "status": "completed"
    },
    "tags": []
   },
   "outputs": [],
   "source": [
    "model.compile(loss='mean_squared_error', optimizer='adam')"
   ]
  },
  {
   "cell_type": "code",
   "execution_count": 41,
   "id": "78141282",
   "metadata": {
    "execution": {
     "iopub.execute_input": "2024-11-05T06:20:25.753354Z",
     "iopub.status.busy": "2024-11-05T06:20:25.752533Z",
     "iopub.status.idle": "2024-11-05T06:20:25.758297Z",
     "shell.execute_reply": "2024-11-05T06:20:25.757212Z"
    },
    "id": "JLqjYZudc3Is",
    "papermill": {
     "duration": 0.025825,
     "end_time": "2024-11-05T06:20:25.760467",
     "exception": false,
     "start_time": "2024-11-05T06:20:25.734642",
     "status": "completed"
    },
    "tags": []
   },
   "outputs": [],
   "source": [
    "callbacks = (EarlyStopping(monitor='val_loss', patience=10, verbose=1, mode='min'),\n",
    "            ModelCheckpoint(filepath='mymodel.keras', monitor='val_loss', mode='min',\n",
    "            save_best_only = True, save_weights_only = False, verbose = 1))"
   ]
  },
  {
   "cell_type": "code",
   "execution_count": 42,
   "id": "6ab6bc43",
   "metadata": {
    "execution": {
     "iopub.execute_input": "2024-11-05T06:20:25.795199Z",
     "iopub.status.busy": "2024-11-05T06:20:25.794726Z",
     "iopub.status.idle": "2024-11-05T06:20:34.093896Z",
     "shell.execute_reply": "2024-11-05T06:20:34.092617Z"
    },
    "id": "7Pv-Fb9FdSf7",
    "papermill": {
     "duration": 8.319493,
     "end_time": "2024-11-05T06:20:34.096412",
     "exception": false,
     "start_time": "2024-11-05T06:20:25.776919",
     "status": "completed"
    },
    "tags": []
   },
   "outputs": [
    {
     "name": "stdout",
     "output_type": "stream",
     "text": [
      "Epoch 1/100\n",
      "\u001b[1m79/96\u001b[0m \u001b[32m━━━━━━━━━━━━━━━━\u001b[0m\u001b[37m━━━━\u001b[0m \u001b[1m0s\u001b[0m 2ms/step - loss: 0.0020    \n",
      "Epoch 1: val_loss improved from inf to 0.00384, saving model to mymodel.keras\n",
      "\u001b[1m96/96\u001b[0m \u001b[32m━━━━━━━━━━━━━━━━━━━━\u001b[0m\u001b[37m\u001b[0m \u001b[1m2s\u001b[0m 6ms/step - loss: 0.0026 - val_loss: 0.0038\n",
      "Epoch 2/100\n",
      "\u001b[1m95/96\u001b[0m \u001b[32m━━━━━━━━━━━━━━━━━━━\u001b[0m\u001b[37m━\u001b[0m \u001b[1m0s\u001b[0m 2ms/step - loss: 0.0033\n",
      "Epoch 2: val_loss improved from 0.00384 to 0.00321, saving model to mymodel.keras\n",
      "\u001b[1m96/96\u001b[0m \u001b[32m━━━━━━━━━━━━━━━━━━━━\u001b[0m\u001b[37m\u001b[0m \u001b[1m0s\u001b[0m 3ms/step - loss: 0.0033 - val_loss: 0.0032\n",
      "Epoch 3/100\n",
      "\u001b[1m75/96\u001b[0m \u001b[32m━━━━━━━━━━━━━━━\u001b[0m\u001b[37m━━━━━\u001b[0m \u001b[1m0s\u001b[0m 2ms/step - loss: 0.0020\n",
      "Epoch 3: val_loss improved from 0.00321 to 0.00294, saving model to mymodel.keras\n",
      "\u001b[1m96/96\u001b[0m \u001b[32m━━━━━━━━━━━━━━━━━━━━\u001b[0m\u001b[37m\u001b[0m \u001b[1m0s\u001b[0m 3ms/step - loss: 0.0024 - val_loss: 0.0029\n",
      "Epoch 4/100\n",
      "\u001b[1m78/96\u001b[0m \u001b[32m━━━━━━━━━━━━━━━━\u001b[0m\u001b[37m━━━━\u001b[0m \u001b[1m0s\u001b[0m 2ms/step - loss: 9.4122e-04\n",
      "Epoch 4: val_loss improved from 0.00294 to 0.00264, saving model to mymodel.keras\n",
      "\u001b[1m96/96\u001b[0m \u001b[32m━━━━━━━━━━━━━━━━━━━━\u001b[0m\u001b[37m\u001b[0m \u001b[1m0s\u001b[0m 3ms/step - loss: 0.0013 - val_loss: 0.0026\n",
      "Epoch 5/100\n",
      "\u001b[1m92/96\u001b[0m \u001b[32m━━━━━━━━━━━━━━━━━━━\u001b[0m\u001b[37m━\u001b[0m \u001b[1m0s\u001b[0m 2ms/step - loss: 0.0013    \n",
      "Epoch 5: val_loss improved from 0.00264 to 0.00243, saving model to mymodel.keras\n",
      "\u001b[1m96/96\u001b[0m \u001b[32m━━━━━━━━━━━━━━━━━━━━\u001b[0m\u001b[37m\u001b[0m \u001b[1m0s\u001b[0m 3ms/step - loss: 0.0014 - val_loss: 0.0024\n",
      "Epoch 6/100\n",
      "\u001b[1m79/96\u001b[0m \u001b[32m━━━━━━━━━━━━━━━━\u001b[0m\u001b[37m━━━━\u001b[0m \u001b[1m0s\u001b[0m 2ms/step - loss: 9.5101e-04\n",
      "Epoch 6: val_loss improved from 0.00243 to 0.00239, saving model to mymodel.keras\n",
      "\u001b[1m96/96\u001b[0m \u001b[32m━━━━━━━━━━━━━━━━━━━━\u001b[0m\u001b[37m\u001b[0m \u001b[1m0s\u001b[0m 3ms/step - loss: 0.0013 - val_loss: 0.0024\n",
      "Epoch 7/100\n",
      "\u001b[1m80/96\u001b[0m \u001b[32m━━━━━━━━━━━━━━━━\u001b[0m\u001b[37m━━━━\u001b[0m \u001b[1m0s\u001b[0m 2ms/step - loss: 0.0012    \n",
      "Epoch 7: val_loss did not improve from 0.00239\n",
      "\u001b[1m96/96\u001b[0m \u001b[32m━━━━━━━━━━━━━━━━━━━━\u001b[0m\u001b[37m\u001b[0m \u001b[1m0s\u001b[0m 3ms/step - loss: 0.0016 - val_loss: 0.0028\n",
      "Epoch 8/100\n",
      "\u001b[1m89/96\u001b[0m \u001b[32m━━━━━━━━━━━━━━━━━━\u001b[0m\u001b[37m━━\u001b[0m \u001b[1m0s\u001b[0m 2ms/step - loss: 0.0015\n",
      "Epoch 8: val_loss did not improve from 0.00239\n",
      "\u001b[1m96/96\u001b[0m \u001b[32m━━━━━━━━━━━━━━━━━━━━\u001b[0m\u001b[37m\u001b[0m \u001b[1m0s\u001b[0m 3ms/step - loss: 0.0016 - val_loss: 0.0025\n",
      "Epoch 9/100\n",
      "\u001b[1m76/96\u001b[0m \u001b[32m━━━━━━━━━━━━━━━\u001b[0m\u001b[37m━━━━━\u001b[0m \u001b[1m0s\u001b[0m 2ms/step - loss: 0.0011    \n",
      "Epoch 9: val_loss improved from 0.00239 to 0.00238, saving model to mymodel.keras\n",
      "\u001b[1m96/96\u001b[0m \u001b[32m━━━━━━━━━━━━━━━━━━━━\u001b[0m\u001b[37m\u001b[0m \u001b[1m0s\u001b[0m 3ms/step - loss: 0.0014 - val_loss: 0.0024\n",
      "Epoch 10/100\n",
      "\u001b[1m81/96\u001b[0m \u001b[32m━━━━━━━━━━━━━━━━\u001b[0m\u001b[37m━━━━\u001b[0m \u001b[1m0s\u001b[0m 2ms/step - loss: 0.0012    \n",
      "Epoch 10: val_loss did not improve from 0.00238\n",
      "\u001b[1m96/96\u001b[0m \u001b[32m━━━━━━━━━━━━━━━━━━━━\u001b[0m\u001b[37m\u001b[0m \u001b[1m0s\u001b[0m 3ms/step - loss: 0.0015 - val_loss: 0.0034\n",
      "Epoch 11/100\n",
      "\u001b[1m80/96\u001b[0m \u001b[32m━━━━━━━━━━━━━━━━\u001b[0m\u001b[37m━━━━\u001b[0m \u001b[1m0s\u001b[0m 2ms/step - loss: 0.0013    \n",
      "Epoch 11: val_loss improved from 0.00238 to 0.00235, saving model to mymodel.keras\n",
      "\u001b[1m96/96\u001b[0m \u001b[32m━━━━━━━━━━━━━━━━━━━━\u001b[0m\u001b[37m\u001b[0m \u001b[1m0s\u001b[0m 3ms/step - loss: 0.0016 - val_loss: 0.0024\n",
      "Epoch 12/100\n",
      "\u001b[1m80/96\u001b[0m \u001b[32m━━━━━━━━━━━━━━━━\u001b[0m\u001b[37m━━━━\u001b[0m \u001b[1m0s\u001b[0m 2ms/step - loss: 8.9495e-04\n",
      "Epoch 12: val_loss did not improve from 0.00235\n",
      "\u001b[1m96/96\u001b[0m \u001b[32m━━━━━━━━━━━━━━━━━━━━\u001b[0m\u001b[37m\u001b[0m \u001b[1m0s\u001b[0m 3ms/step - loss: 0.0012 - val_loss: 0.0031\n",
      "Epoch 13/100\n",
      "\u001b[1m81/96\u001b[0m \u001b[32m━━━━━━━━━━━━━━━━\u001b[0m\u001b[37m━━━━\u001b[0m \u001b[1m0s\u001b[0m 2ms/step - loss: 0.0011    \n",
      "Epoch 13: val_loss did not improve from 0.00235\n",
      "\u001b[1m96/96\u001b[0m \u001b[32m━━━━━━━━━━━━━━━━━━━━\u001b[0m\u001b[37m\u001b[0m \u001b[1m0s\u001b[0m 2ms/step - loss: 0.0014 - val_loss: 0.0038\n",
      "Epoch 14/100\n",
      "\u001b[1m77/96\u001b[0m \u001b[32m━━━━━━━━━━━━━━━━\u001b[0m\u001b[37m━━━━\u001b[0m \u001b[1m0s\u001b[0m 2ms/step - loss: 0.0011    \n",
      "Epoch 14: val_loss did not improve from 0.00235\n",
      "\u001b[1m96/96\u001b[0m \u001b[32m━━━━━━━━━━━━━━━━━━━━\u001b[0m\u001b[37m\u001b[0m \u001b[1m0s\u001b[0m 3ms/step - loss: 0.0015 - val_loss: 0.0053\n",
      "Epoch 15/100\n",
      "\u001b[1m72/96\u001b[0m \u001b[32m━━━━━━━━━━━━━━━\u001b[0m\u001b[37m━━━━━\u001b[0m \u001b[1m0s\u001b[0m 2ms/step - loss: 0.0012    \n",
      "Epoch 15: val_loss did not improve from 0.00235\n",
      "\u001b[1m96/96\u001b[0m \u001b[32m━━━━━━━━━━━━━━━━━━━━\u001b[0m\u001b[37m\u001b[0m \u001b[1m0s\u001b[0m 3ms/step - loss: 0.0017 - val_loss: 0.0097\n",
      "Epoch 16/100\n",
      "\u001b[1m80/96\u001b[0m \u001b[32m━━━━━━━━━━━━━━━━\u001b[0m\u001b[37m━━━━\u001b[0m \u001b[1m0s\u001b[0m 2ms/step - loss: 0.0016\n",
      "Epoch 16: val_loss did not improve from 0.00235\n",
      "\u001b[1m96/96\u001b[0m \u001b[32m━━━━━━━━━━━━━━━━━━━━\u001b[0m\u001b[37m\u001b[0m \u001b[1m0s\u001b[0m 3ms/step - loss: 0.0020 - val_loss: 0.0110\n",
      "Epoch 17/100\n",
      "\u001b[1m76/96\u001b[0m \u001b[32m━━━━━━━━━━━━━━━\u001b[0m\u001b[37m━━━━━\u001b[0m \u001b[1m0s\u001b[0m 2ms/step - loss: 0.0015    \n",
      "Epoch 17: val_loss did not improve from 0.00235\n",
      "\u001b[1m96/96\u001b[0m \u001b[32m━━━━━━━━━━━━━━━━━━━━\u001b[0m\u001b[37m\u001b[0m \u001b[1m0s\u001b[0m 3ms/step - loss: 0.0021 - val_loss: 0.0169\n",
      "Epoch 18/100\n",
      "\u001b[1m78/96\u001b[0m \u001b[32m━━━━━━━━━━━━━━━━\u001b[0m\u001b[37m━━━━\u001b[0m \u001b[1m0s\u001b[0m 2ms/step - loss: 0.0017\n",
      "Epoch 18: val_loss did not improve from 0.00235\n",
      "\u001b[1m96/96\u001b[0m \u001b[32m━━━━━━━━━━━━━━━━━━━━\u001b[0m\u001b[37m\u001b[0m \u001b[1m0s\u001b[0m 3ms/step - loss: 0.0021 - val_loss: 0.0099\n",
      "Epoch 19/100\n",
      "\u001b[1m75/96\u001b[0m \u001b[32m━━━━━━━━━━━━━━━\u001b[0m\u001b[37m━━━━━\u001b[0m \u001b[1m0s\u001b[0m 2ms/step - loss: 0.0014    \n",
      "Epoch 19: val_loss did not improve from 0.00235\n",
      "\u001b[1m96/96\u001b[0m \u001b[32m━━━━━━━━━━━━━━━━━━━━\u001b[0m\u001b[37m\u001b[0m \u001b[1m0s\u001b[0m 3ms/step - loss: 0.0019 - val_loss: 0.0096\n",
      "Epoch 20/100\n",
      "\u001b[1m75/96\u001b[0m \u001b[32m━━━━━━━━━━━━━━━\u001b[0m\u001b[37m━━━━━\u001b[0m \u001b[1m0s\u001b[0m 2ms/step - loss: 0.0013    \n",
      "Epoch 20: val_loss did not improve from 0.00235\n",
      "\u001b[1m96/96\u001b[0m \u001b[32m━━━━━━━━━━━━━━━━━━━━\u001b[0m\u001b[37m\u001b[0m \u001b[1m0s\u001b[0m 3ms/step - loss: 0.0017 - val_loss: 0.0065\n",
      "Epoch 21/100\n",
      "\u001b[1m82/96\u001b[0m \u001b[32m━━━━━━━━━━━━━━━━━\u001b[0m\u001b[37m━━━\u001b[0m \u001b[1m0s\u001b[0m 2ms/step - loss: 0.0013    \n",
      "Epoch 21: val_loss did not improve from 0.00235\n",
      "\u001b[1m96/96\u001b[0m \u001b[32m━━━━━━━━━━━━━━━━━━━━\u001b[0m\u001b[37m\u001b[0m \u001b[1m0s\u001b[0m 2ms/step - loss: 0.0016 - val_loss: 0.0070\n",
      "Epoch 21: early stopping\n"
     ]
    }
   ],
   "source": [
    "history = model.fit(x=X_train,\n",
    "                    y=y_train,\n",
    "                    epochs=100,\n",
    "                    batch_size=20,\n",
    "                    validation_data=(X_test, y_test),\n",
    "                    callbacks=[callbacks],\n",
    "                    shuffle=False)"
   ]
  },
  {
   "cell_type": "code",
   "execution_count": 43,
   "id": "a82af835",
   "metadata": {
    "execution": {
     "iopub.execute_input": "2024-11-05T06:20:34.151794Z",
     "iopub.status.busy": "2024-11-05T06:20:34.151321Z",
     "iopub.status.idle": "2024-11-05T06:20:34.442720Z",
     "shell.execute_reply": "2024-11-05T06:20:34.441567Z"
    },
    "id": "VzxR8n1yeGpV",
    "papermill": {
     "duration": 0.321798,
     "end_time": "2024-11-05T06:20:34.445290",
     "exception": false,
     "start_time": "2024-11-05T06:20:34.123492",
     "status": "completed"
    },
    "tags": []
   },
   "outputs": [
    {
     "data": {
      "image/png": "[encoded data removed]",
      "text/plain": [
       "<Figure size 2000x500 with 1 Axes>"
      ]
     },
     "metadata": {},
     "output_type": "display_data"
    }
   ],
   "source": [
    "plt.figure(figsize=(20,5))\n",
    "plt.subplot(1,2,1)\n",
    "plt.plot(history.history['loss'], label='Training Loss')\n",
    "plt.plot(history.history['val_loss'], label='Validation Loss')\n",
    "plt.legend(loc='upper right')\n",
    "plt.xlabel('Epoch', fontsize = 16)\n",
    "plt.ylabel('Loss', fontsize = 16)\n",
    "plt.ylim([0,max(plt.ylim())])\n",
    "plt.title('Training and Validation Loss', fontsize = 16)\n",
    "plt.show()"
   ]
  },
  {
   "cell_type": "markdown",
   "id": "b2c1a5a2",
   "metadata": {
    "id": "XO0NGWQWerLU",
    "papermill": {
     "duration": 0.026823,
     "end_time": "2024-11-05T06:20:34.499665",
     "exception": false,
     "start_time": "2024-11-05T06:20:34.472842",
     "status": "completed"
    },
    "tags": []
   },
   "source": [
    "## Evaluation"
   ]
  },
  {
   "cell_type": "code",
   "execution_count": 44,
   "id": "7eca425d",
   "metadata": {
    "execution": {
     "iopub.execute_input": "2024-11-05T06:20:34.555989Z",
     "iopub.status.busy": "2024-11-05T06:20:34.555553Z",
     "iopub.status.idle": "2024-11-05T06:20:35.164518Z",
     "shell.execute_reply": "2024-11-05T06:20:35.162958Z"
    },
    "id": "hyeoNUjxetH-",
    "papermill": {
     "duration": 0.640651,
     "end_time": "2024-11-05T06:20:35.167546",
     "exception": false,
     "start_time": "2024-11-05T06:20:34.526895",
     "status": "completed"
    },
    "tags": []
   },
   "outputs": [
    {
     "name": "stdout",
     "output_type": "stream",
     "text": [
      "\u001b[1m463/463\u001b[0m \u001b[32m━━━━━━━━━━━━━━━━━━━━\u001b[0m\u001b[37m\u001b[0m \u001b[1m1s\u001b[0m 1ms/step - loss: 0.0083\n",
      "\n",
      "Test Loss: 0.7%\n"
     ]
    }
   ],
   "source": [
    "loss = model.evaluate(X_test, y_test, batch_size=1)\n",
    "print(\"\\nTest Loss: %.1f%%\" % (100.0 * loss))"
   ]
  },
  {
   "cell_type": "code",
   "execution_count": 45,
   "id": "026c405f",
   "metadata": {
    "execution": {
     "iopub.execute_input": "2024-11-05T06:20:35.228684Z",
     "iopub.status.busy": "2024-11-05T06:20:35.228256Z",
     "iopub.status.idle": "2024-11-05T06:20:35.730574Z",
     "shell.execute_reply": "2024-11-05T06:20:35.729468Z"
    },
    "id": "9e854j_NfFTV",
    "papermill": {
     "duration": 0.536712,
     "end_time": "2024-11-05T06:20:35.733157",
     "exception": false,
     "start_time": "2024-11-05T06:20:35.196445",
     "status": "completed"
    },
    "tags": []
   },
   "outputs": [
    {
     "name": "stdout",
     "output_type": "stream",
     "text": [
      "\u001b[1m60/60\u001b[0m \u001b[32m━━━━━━━━━━━━━━━━━━━━\u001b[0m\u001b[37m\u001b[0m \u001b[1m0s\u001b[0m 4ms/step\n"
     ]
    }
   ],
   "source": [
    "train_predict = model.predict(X_train)"
   ]
  },
  {
   "cell_type": "code",
   "execution_count": 46,
   "id": "8b8d8527",
   "metadata": {
    "execution": {
     "iopub.execute_input": "2024-11-05T06:20:35.792693Z",
     "iopub.status.busy": "2024-11-05T06:20:35.792275Z",
     "iopub.status.idle": "2024-11-05T06:20:35.902663Z",
     "shell.execute_reply": "2024-11-05T06:20:35.901415Z"
    },
    "id": "GZgJuMd-fqZW",
    "papermill": {
     "duration": 0.143133,
     "end_time": "2024-11-05T06:20:35.905559",
     "exception": false,
     "start_time": "2024-11-05T06:20:35.762426",
     "status": "completed"
    },
    "tags": []
   },
   "outputs": [
    {
     "name": "stdout",
     "output_type": "stream",
     "text": [
      "\u001b[1m15/15\u001b[0m \u001b[32m━━━━━━━━━━━━━━━━━━━━\u001b[0m\u001b[37m\u001b[0m \u001b[1m0s\u001b[0m 2ms/step \n"
     ]
    }
   ],
   "source": [
    "test_predict = model.predict(X_test)"
   ]
  },
  {
   "cell_type": "code",
   "execution_count": 47,
   "id": "74d2b2b4",
   "metadata": {
    "execution": {
     "iopub.execute_input": "2024-11-05T06:20:35.964308Z",
     "iopub.status.busy": "2024-11-05T06:20:35.963867Z",
     "iopub.status.idle": "2024-11-05T06:20:35.970119Z",
     "shell.execute_reply": "2024-11-05T06:20:35.968911Z"
    },
    "id": "FcH_8U3tfsGm",
    "papermill": {
     "duration": 0.038307,
     "end_time": "2024-11-05T06:20:35.972485",
     "exception": false,
     "start_time": "2024-11-05T06:20:35.934178",
     "status": "completed"
    },
    "tags": []
   },
   "outputs": [],
   "source": [
    "train_predict = scaler_train.inverse_transform(train_predict)\n",
    "test_predict = scaler_test.inverse_transform(test_predict)"
   ]
  },
  {
   "cell_type": "code",
   "execution_count": 48,
   "id": "cbe72c9d",
   "metadata": {
    "execution": {
     "iopub.execute_input": "2024-11-05T06:20:36.032336Z",
     "iopub.status.busy": "2024-11-05T06:20:36.031883Z",
     "iopub.status.idle": "2024-11-05T06:20:36.038782Z",
     "shell.execute_reply": "2024-11-05T06:20:36.037602Z"
    },
    "id": "DsGDu-NKf912",
    "papermill": {
     "duration": 0.039136,
     "end_time": "2024-11-05T06:20:36.040994",
     "exception": false,
     "start_time": "2024-11-05T06:20:36.001858",
     "status": "completed"
    },
    "tags": []
   },
   "outputs": [],
   "source": [
    "y_train = scaler_train.inverse_transform(y_train)\n",
    "y_test = scaler_test.inverse_transform(y_test)"
   ]
  },
  {
   "cell_type": "code",
   "execution_count": 49,
   "id": "7ed64272",
   "metadata": {
    "execution": {
     "iopub.execute_input": "2024-11-05T06:20:36.099303Z",
     "iopub.status.busy": "2024-11-05T06:20:36.098903Z",
     "iopub.status.idle": "2024-11-05T06:20:36.105045Z",
     "shell.execute_reply": "2024-11-05T06:20:36.103818Z"
    },
    "id": "ZLXqwAU7gGW2",
    "papermill": {
     "duration": 0.037974,
     "end_time": "2024-11-05T06:20:36.107379",
     "exception": false,
     "start_time": "2024-11-05T06:20:36.069405",
     "status": "completed"
    },
    "tags": []
   },
   "outputs": [],
   "source": [
    "train_rmse = np.sqrt(mean_squared_error(y_train, train_predict))"
   ]
  },
  {
   "cell_type": "code",
   "execution_count": 50,
   "id": "9c2bca54",
   "metadata": {
    "execution": {
     "iopub.execute_input": "2024-11-05T06:20:36.166415Z",
     "iopub.status.busy": "2024-11-05T06:20:36.166001Z",
     "iopub.status.idle": "2024-11-05T06:20:36.173288Z",
     "shell.execute_reply": "2024-11-05T06:20:36.171837Z"
    },
    "id": "76WbnJaIgJ4g",
    "papermill": {
     "duration": 0.039992,
     "end_time": "2024-11-05T06:20:36.175822",
     "exception": false,
     "start_time": "2024-11-05T06:20:36.135830",
     "status": "completed"
    },
    "tags": []
   },
   "outputs": [],
   "source": [
    "test_rmse = np.sqrt(mean_squared_error(y_test, test_predict))"
   ]
  },
  {
   "cell_type": "code",
   "execution_count": 51,
   "id": "524bd758",
   "metadata": {
    "execution": {
     "iopub.execute_input": "2024-11-05T06:20:36.236954Z",
     "iopub.status.busy": "2024-11-05T06:20:36.236497Z",
     "iopub.status.idle": "2024-11-05T06:20:36.242566Z",
     "shell.execute_reply": "2024-11-05T06:20:36.241356Z"
    },
    "id": "WcUBQBz7gMV2",
    "papermill": {
     "duration": 0.04064,
     "end_time": "2024-11-05T06:20:36.245031",
     "exception": false,
     "start_time": "2024-11-05T06:20:36.204391",
     "status": "completed"
    },
    "tags": []
   },
   "outputs": [
    {
     "name": "stdout",
     "output_type": "stream",
     "text": [
      "Train RMSE: 33.61185073852539\n",
      "Test RMSE: 50.236785888671875\n"
     ]
    }
   ],
   "source": [
    "print(f\"Train RMSE: {train_rmse}\")\n",
    "print(f\"Test RMSE: {test_rmse}\")"
   ]
  },
  {
   "cell_type": "code",
   "execution_count": 52,
   "id": "f9ec9466",
   "metadata": {
    "execution": {
     "iopub.execute_input": "2024-11-05T06:20:36.305315Z",
     "iopub.status.busy": "2024-11-05T06:20:36.304278Z",
     "iopub.status.idle": "2024-11-05T06:20:36.340448Z",
     "shell.execute_reply": "2024-11-05T06:20:36.339306Z"
    },
    "id": "t_llof9mgYz_",
    "papermill": {
     "duration": 0.068594,
     "end_time": "2024-11-05T06:20:36.343028",
     "exception": false,
     "start_time": "2024-11-05T06:20:36.274434",
     "status": "completed"
    },
    "tags": []
   },
   "outputs": [
    {
     "data": {
      "text/html": [
       "<div>\n",
       "<style scoped>\n",
       "    .dataframe tbody tr th:only-of-type {\n",
       "        vertical-align: middle;\n",
       "    }\n",
       "\n",
       "    .dataframe tbody tr th {\n",
       "        vertical-align: top;\n",
       "    }\n",
       "\n",
       "    .dataframe thead th {\n",
       "        text-align: right;\n",
       "    }\n",
       "</style>\n",
       "<table border=\"1\" class=\"dataframe\">\n",
       "  <thead>\n",
       "    <tr style=\"text-align: right;\">\n",
       "      <th></th>\n",
       "      <th>count</th>\n",
       "      <th>mean</th>\n",
       "      <th>min</th>\n",
       "      <th>25%</th>\n",
       "      <th>50%</th>\n",
       "      <th>75%</th>\n",
       "      <th>max</th>\n",
       "      <th>std</th>\n",
       "    </tr>\n",
       "  </thead>\n",
       "  <tbody>\n",
       "    <tr>\n",
       "      <th>Date</th>\n",
       "      <td>2416</td>\n",
       "      <td>2015-04-15 11:09:56.026490112</td>\n",
       "      <td>2010-06-29 00:00:00</td>\n",
       "      <td>2012-11-19 18:00:00</td>\n",
       "      <td>2015-04-16 12:00:00</td>\n",
       "      <td>2017-09-07 06:00:00</td>\n",
       "      <td>2020-02-03 00:00:00</td>\n",
       "      <td>NaN</td>\n",
       "    </tr>\n",
       "    <tr>\n",
       "      <th>Open</th>\n",
       "      <td>2416.0</td>\n",
       "      <td>186.271147</td>\n",
       "      <td>16.139999</td>\n",
       "      <td>34.342498</td>\n",
       "      <td>213.035004</td>\n",
       "      <td>266.450012</td>\n",
       "      <td>673.690002</td>\n",
       "      <td>118.740163</td>\n",
       "    </tr>\n",
       "    <tr>\n",
       "      <th>High</th>\n",
       "      <td>2416.0</td>\n",
       "      <td>189.578224</td>\n",
       "      <td>16.629999</td>\n",
       "      <td>34.897501</td>\n",
       "      <td>216.745002</td>\n",
       "      <td>270.927513</td>\n",
       "      <td>786.140015</td>\n",
       "      <td>120.892329</td>\n",
       "    </tr>\n",
       "    <tr>\n",
       "      <th>Low</th>\n",
       "      <td>2416.0</td>\n",
       "      <td>182.916639</td>\n",
       "      <td>14.98</td>\n",
       "      <td>33.587501</td>\n",
       "      <td>208.870002</td>\n",
       "      <td>262.102501</td>\n",
       "      <td>673.52002</td>\n",
       "      <td>116.857591</td>\n",
       "    </tr>\n",
       "    <tr>\n",
       "      <th>Close</th>\n",
       "      <td>2416.0</td>\n",
       "      <td>186.403651</td>\n",
       "      <td>15.8</td>\n",
       "      <td>34.400002</td>\n",
       "      <td>212.960007</td>\n",
       "      <td>266.774994</td>\n",
       "      <td>780.0</td>\n",
       "      <td>119.13602</td>\n",
       "    </tr>\n",
       "    <tr>\n",
       "      <th>Adj Close</th>\n",
       "      <td>2416.0</td>\n",
       "      <td>186.403651</td>\n",
       "      <td>15.8</td>\n",
       "      <td>34.400002</td>\n",
       "      <td>212.960007</td>\n",
       "      <td>266.774994</td>\n",
       "      <td>780.0</td>\n",
       "      <td>119.13602</td>\n",
       "    </tr>\n",
       "    <tr>\n",
       "      <th>Volume</th>\n",
       "      <td>2416.0</td>\n",
       "      <td>5572721.688742</td>\n",
       "      <td>118500.0</td>\n",
       "      <td>1899275.0</td>\n",
       "      <td>4578400.0</td>\n",
       "      <td>7361150.0</td>\n",
       "      <td>47065000.0</td>\n",
       "      <td>4987809.151888</td>\n",
       "    </tr>\n",
       "  </tbody>\n",
       "</table>\n",
       "</div>"
      ],
      "text/plain": [
       "            count                           mean                  min  \\\n",
       "Date         2416  2015-04-15 11:09:56.026490112  2010-06-29 00:00:00   \n",
       "Open       2416.0                     186.271147            16.139999   \n",
       "High       2416.0                     189.578224            16.629999   \n",
       "Low        2416.0                     182.916639                14.98   \n",
       "Close      2416.0                     186.403651                 15.8   \n",
       "Adj Close  2416.0                     186.403651                 15.8   \n",
       "Volume     2416.0                 5572721.688742             118500.0   \n",
       "\n",
       "                           25%                  50%                  75%  \\\n",
       "Date       2012-11-19 18:00:00  2015-04-16 12:00:00  2017-09-07 06:00:00   \n",
       "Open                 34.342498           213.035004           266.450012   \n",
       "High                 34.897501           216.745002           270.927513   \n",
       "Low                  33.587501           208.870002           262.102501   \n",
       "Close                34.400002           212.960007           266.774994   \n",
       "Adj Close            34.400002           212.960007           266.774994   \n",
       "Volume               1899275.0            4578400.0            7361150.0   \n",
       "\n",
       "                           max             std  \n",
       "Date       2020-02-03 00:00:00             NaN  \n",
       "Open                673.690002      118.740163  \n",
       "High                786.140015      120.892329  \n",
       "Low                  673.52002      116.857591  \n",
       "Close                    780.0       119.13602  \n",
       "Adj Close                780.0       119.13602  \n",
       "Volume              47065000.0  4987809.151888  "
      ]
     },
     "execution_count": 52,
     "metadata": {},
     "output_type": "execute_result"
    }
   ],
   "source": [
    "df.describe().T"
   ]
  },
  {
   "cell_type": "code",
   "execution_count": 53,
   "id": "7ae64828",
   "metadata": {
    "execution": {
     "iopub.execute_input": "2024-11-05T06:20:36.403203Z",
     "iopub.status.busy": "2024-11-05T06:20:36.402788Z",
     "iopub.status.idle": "2024-11-05T06:20:36.416136Z",
     "shell.execute_reply": "2024-11-05T06:20:36.414768Z"
    },
    "id": "-PSGVpMzgz1O",
    "papermill": {
     "duration": 0.046157,
     "end_time": "2024-11-05T06:20:36.418714",
     "exception": false,
     "start_time": "2024-11-05T06:20:36.372557",
     "status": "completed"
    },
    "tags": []
   },
   "outputs": [
    {
     "data": {
      "text/html": [
       "<div>\n",
       "<style scoped>\n",
       "    .dataframe tbody tr th:only-of-type {\n",
       "        vertical-align: middle;\n",
       "    }\n",
       "\n",
       "    .dataframe tbody tr th {\n",
       "        vertical-align: top;\n",
       "    }\n",
       "\n",
       "    .dataframe thead th {\n",
       "        text-align: right;\n",
       "    }\n",
       "</style>\n",
       "<table border=\"1\" class=\"dataframe\">\n",
       "  <thead>\n",
       "    <tr style=\"text-align: right;\">\n",
       "      <th></th>\n",
       "      <th>Close</th>\n",
       "      <th>Predicted</th>\n",
       "    </tr>\n",
       "    <tr>\n",
       "      <th>Date</th>\n",
       "      <th></th>\n",
       "      <th></th>\n",
       "    </tr>\n",
       "  </thead>\n",
       "  <tbody>\n",
       "    <tr>\n",
       "      <th>2010-07-28</th>\n",
       "      <td>20.719999</td>\n",
       "      <td>34.223461</td>\n",
       "    </tr>\n",
       "    <tr>\n",
       "      <th>2010-07-29</th>\n",
       "      <td>20.350000</td>\n",
       "      <td>34.148010</td>\n",
       "    </tr>\n",
       "    <tr>\n",
       "      <th>2010-07-30</th>\n",
       "      <td>19.940001</td>\n",
       "      <td>34.109669</td>\n",
       "    </tr>\n",
       "    <tr>\n",
       "      <th>2010-08-02</th>\n",
       "      <td>20.920000</td>\n",
       "      <td>34.156975</td>\n",
       "    </tr>\n",
       "    <tr>\n",
       "      <th>2010-08-03</th>\n",
       "      <td>21.950001</td>\n",
       "      <td>34.232281</td>\n",
       "    </tr>\n",
       "  </tbody>\n",
       "</table>\n",
       "</div>"
      ],
      "text/plain": [
       "                Close  Predicted\n",
       "Date                            \n",
       "2010-07-28  20.719999  34.223461\n",
       "2010-07-29  20.350000  34.148010\n",
       "2010-07-30  19.940001  34.109669\n",
       "2010-08-02  20.920000  34.156975\n",
       "2010-08-03  21.950001  34.232281"
      ]
     },
     "execution_count": 53,
     "metadata": {},
     "output_type": "execute_result"
    }
   ],
   "source": [
    "train_prediction_df = result_df[lookback:position]\n",
    "train_prediction_df[\"Predicted\"] = train_predict\n",
    "train_prediction_df.head()"
   ]
  },
  {
   "cell_type": "code",
   "execution_count": 54,
   "id": "76f023fa",
   "metadata": {
    "execution": {
     "iopub.execute_input": "2024-11-05T06:20:36.479497Z",
     "iopub.status.busy": "2024-11-05T06:20:36.479088Z",
     "iopub.status.idle": "2024-11-05T06:20:36.491945Z",
     "shell.execute_reply": "2024-11-05T06:20:36.490758Z"
    },
    "id": "o7tRAXwOhMSA",
    "papermill": {
     "duration": 0.046307,
     "end_time": "2024-11-05T06:20:36.494314",
     "exception": false,
     "start_time": "2024-11-05T06:20:36.448007",
     "status": "completed"
    },
    "tags": []
   },
   "outputs": [
    {
     "data": {
      "text/html": [
       "<div>\n",
       "<style scoped>\n",
       "    .dataframe tbody tr th:only-of-type {\n",
       "        vertical-align: middle;\n",
       "    }\n",
       "\n",
       "    .dataframe tbody tr th {\n",
       "        vertical-align: top;\n",
       "    }\n",
       "\n",
       "    .dataframe thead th {\n",
       "        text-align: right;\n",
       "    }\n",
       "</style>\n",
       "<table border=\"1\" class=\"dataframe\">\n",
       "  <thead>\n",
       "    <tr style=\"text-align: right;\">\n",
       "      <th></th>\n",
       "      <th>Close</th>\n",
       "      <th>Predicted</th>\n",
       "    </tr>\n",
       "    <tr>\n",
       "      <th>Date</th>\n",
       "      <th></th>\n",
       "      <th></th>\n",
       "    </tr>\n",
       "  </thead>\n",
       "  <tbody>\n",
       "    <tr>\n",
       "      <th>2018-04-03</th>\n",
       "      <td>267.529999</td>\n",
       "      <td>347.170990</td>\n",
       "    </tr>\n",
       "    <tr>\n",
       "      <th>2018-04-04</th>\n",
       "      <td>286.940002</td>\n",
       "      <td>342.344269</td>\n",
       "    </tr>\n",
       "    <tr>\n",
       "      <th>2018-04-05</th>\n",
       "      <td>305.720001</td>\n",
       "      <td>340.318329</td>\n",
       "    </tr>\n",
       "    <tr>\n",
       "      <th>2018-04-06</th>\n",
       "      <td>299.299988</td>\n",
       "      <td>340.300842</td>\n",
       "    </tr>\n",
       "    <tr>\n",
       "      <th>2018-04-09</th>\n",
       "      <td>289.660004</td>\n",
       "      <td>339.183502</td>\n",
       "    </tr>\n",
       "  </tbody>\n",
       "</table>\n",
       "</div>"
      ],
      "text/plain": [
       "                 Close   Predicted\n",
       "Date                              \n",
       "2018-04-03  267.529999  347.170990\n",
       "2018-04-04  286.940002  342.344269\n",
       "2018-04-05  305.720001  340.318329\n",
       "2018-04-06  299.299988  340.300842\n",
       "2018-04-09  289.660004  339.183502"
      ]
     },
     "execution_count": 54,
     "metadata": {},
     "output_type": "execute_result"
    }
   ],
   "source": [
    "test_prediction_df = result_df[position+lookback:]\n",
    "test_prediction_df[\"Predicted\"] = test_predict\n",
    "test_prediction_df.head()"
   ]
  },
  {
   "cell_type": "code",
   "execution_count": 55,
   "id": "fa2e137e",
   "metadata": {
    "execution": {
     "iopub.execute_input": "2024-11-05T06:20:36.555089Z",
     "iopub.status.busy": "2024-11-05T06:20:36.554632Z",
     "iopub.status.idle": "2024-11-05T06:20:37.012879Z",
     "shell.execute_reply": "2024-11-05T06:20:37.011583Z"
    },
    "id": "PJ_-znSchYO_",
    "papermill": {
     "duration": 0.491752,
     "end_time": "2024-11-05T06:20:37.015671",
     "exception": false,
     "start_time": "2024-11-05T06:20:36.523919",
     "status": "completed"
    },
    "tags": []
   },
   "outputs": [
    {
     "data": {
      "image/png": "[encoded data removed]",
      "text/plain": [
       "<Figure size 1400x500 with 1 Axes>"
      ]
     },
     "metadata": {},
     "output_type": "display_data"
    }
   ],
   "source": [
    "plt.figure(figsize=(14,5))\n",
    "plt.plot(result_df, label = \"Real Number of Passengers\")\n",
    "plt.plot(train_prediction_df[\"Predicted\"], color = 'blue', label = \"Train Predicted Number of Passengers\")\n",
    "plt.plot(test_prediction_df[\"Predicted\"],color = 'red', label = \"Test Predicted Number of Passengers\")\n",
    "plt.title(\"Number of Passengers Prediction\")\n",
    "plt.xlabel(\"Time\")\n",
    "plt.ylabel(\"Number of Passengers\")\n",
    "plt.legend()\n",
    "plt.show()"
   ]
  }
 ],
 "metadata": {
  "colab": {
   "provenance": []
  },
  "kaggle": {
   "accelerator": "none",
   "dataSources": [
    {
     "datasetId": 500872,
     "sourceId": 927894,
     "sourceType": "datasetVersion"
    }
   ],
   "dockerImageVersionId": 30761,
   "isGpuEnabled": false,
   "isInternetEnabled": true,
   "language": "python",
   "sourceType": "notebook"
  },
  "kernelspec": {
   "display_name": "Python 3",
   "language": "python",
   "name": "python3"
  },
  "language_info": {
   "codemirror_mode": {
    "name": "ipython",
    "version": 3
   },
   "file_extension": ".py",
   "mimetype": "text/x-python",
   "name": "python",
   "nbconvert_exporter": "python",
   "pygments_lexer": "ipython3",
   "version": "3.10.14"
  },
  "papermill": {
   "default_parameters": {},
   "duration": 35.474439,
   "end_time": "2024-11-05T06:20:38.772488",
   "environment_variables": {},
   "exception": null,
   "input_path": "__notebook__.ipynb",
   "output_path": "__notebook__.ipynb",
   "parameters": {},
   "start_time": "2024-11-05T06:20:03.298049",
   "version": "2.6.0"
  }
 },
 "nbformat": 4,
 "nbformat_minor": 5
}
