{
 "cells": [
  {
   "cell_type": "markdown",
   "id": "198745c9",
   "metadata": {
    "id": "4unSJJjsT8BM",
    "papermill": {
     "duration": 0.019007,
     "end_time": "2024-10-03T07:44:11.720448",
     "exception": false,
     "start_time": "2024-10-03T07:44:11.701441",
     "status": "completed"
    },
    "tags": []
   },
   "source": [
    "# Tesla - Stock Price Prediction\n",
    "\n",
    "---\n",
    "\n"
   ]
  },
  {
   "cell_type": "markdown",
   "id": "93e69580",
   "metadata": {
    "id": "wkRLJL2XUAfT",
    "papermill": {
     "duration": 0.017866,
     "end_time": "2024-10-03T07:44:11.757251",
     "exception": false,
     "start_time": "2024-10-03T07:44:11.739385",
     "status": "completed"
    },
    "tags": []
   },
   "source": [
    "## Business Problem\n",
    "\n",
    "In this notebook, our purpose is to predict of tesla - stock price."
   ]
  },
  {
   "cell_type": "markdown",
   "id": "afd3adb2",
   "metadata": {
    "id": "0uxjphZsUwjz",
    "papermill": {
     "duration": 0.018246,
     "end_time": "2024-10-03T07:44:11.794814",
     "exception": false,
     "start_time": "2024-10-03T07:44:11.776568",
     "status": "completed"
    },
    "tags": []
   },
   "source": [
    "## Data Understanding"
   ]
  },
  {
   "cell_type": "code",
   "execution_count": 1,
   "id": "7231f622",
   "metadata": {
    "execution": {
     "iopub.execute_input": "2024-10-03T07:44:11.833636Z",
     "iopub.status.busy": "2024-10-03T07:44:11.833105Z",
     "iopub.status.idle": "2024-10-03T07:44:28.943906Z",
     "shell.execute_reply": "2024-10-03T07:44:28.942619Z"
    },
    "id": "40IR65rQUyWC",
    "outputId": "4562368d-970e-4fd6-b03e-be036efe4dcd",
    "papermill": {
     "duration": 17.133883,
     "end_time": "2024-10-03T07:44:28.946944",
     "exception": false,
     "start_time": "2024-10-03T07:44:11.813061",
     "status": "completed"
    },
    "tags": []
   },
   "outputs": [],
   "source": [
    "import numpy as np\n",
    "import pandas as pd\n",
    "import datetime as dt\n",
    "import tensorflow as tf\n",
    "import matplotlib.pyplot as plt\n",
    "\n",
    "from sklearn.preprocessing import MinMaxScaler\n",
    "from sklearn.metrics import mean_squared_error\n",
    "\n",
    "from tensorflow.keras.models import Sequential\n",
    "from tensorflow.keras.layers import Dense, LSTM, Dropout\n",
    "from tensorflow.keras.callbacks import ModelCheckpoint, EarlyStopping\n",
    "\n",
    "import warnings\n",
    "warnings.filterwarnings('ignore')\n",
    "\n",
    "import os\n",
    "os.environ['TF_CPP_MIN_LOG_LEVEL'] = '3'\n",
    "tf.compat.v1.logging.set_verbosity(tf.compat.v1.logging.ERROR)"
   ]
  },
  {
   "cell_type": "code",
   "execution_count": 2,
   "id": "4fca782d",
   "metadata": {
    "execution": {
     "iopub.execute_input": "2024-10-03T07:44:28.985732Z",
     "iopub.status.busy": "2024-10-03T07:44:28.985017Z",
     "iopub.status.idle": "2024-10-03T07:44:29.038520Z",
     "shell.execute_reply": "2024-10-03T07:44:29.037290Z"
    },
    "id": "-be5_efvVpTV",
    "papermill": {
     "duration": 0.075727,
     "end_time": "2024-10-03T07:44:29.041029",
     "exception": false,
     "start_time": "2024-10-03T07:44:28.965302",
     "status": "completed"
    },
    "tags": []
   },
   "outputs": [
    {
     "data": {
      "text/html": [
       "<div>\n",
       "<style scoped>\n",
       "    .dataframe tbody tr th:only-of-type {\n",
       "        vertical-align: middle;\n",
       "    }\n",
       "\n",
       "    .dataframe tbody tr th {\n",
       "        vertical-align: top;\n",
       "    }\n",
       "\n",
       "    .dataframe thead th {\n",
       "        text-align: right;\n",
       "    }\n",
       "</style>\n",
       "<table border=\"1\" class=\"dataframe\">\n",
       "  <thead>\n",
       "    <tr style=\"text-align: right;\">\n",
       "      <th></th>\n",
       "      <th>Date</th>\n",
       "      <th>Open</th>\n",
       "      <th>High</th>\n",
       "      <th>Low</th>\n",
       "      <th>Close</th>\n",
       "      <th>Adj Close</th>\n",
       "      <th>Volume</th>\n",
       "    </tr>\n",
       "  </thead>\n",
       "  <tbody>\n",
       "    <tr>\n",
       "      <th>0</th>\n",
       "      <td>2010-06-29</td>\n",
       "      <td>19.000000</td>\n",
       "      <td>25.000000</td>\n",
       "      <td>17.540001</td>\n",
       "      <td>23.889999</td>\n",
       "      <td>23.889999</td>\n",
       "      <td>18766300</td>\n",
       "    </tr>\n",
       "    <tr>\n",
       "      <th>1</th>\n",
       "      <td>2010-06-30</td>\n",
       "      <td>25.790001</td>\n",
       "      <td>30.420000</td>\n",
       "      <td>23.299999</td>\n",
       "      <td>23.830000</td>\n",
       "      <td>23.830000</td>\n",
       "      <td>17187100</td>\n",
       "    </tr>\n",
       "    <tr>\n",
       "      <th>2</th>\n",
       "      <td>2010-07-01</td>\n",
       "      <td>25.000000</td>\n",
       "      <td>25.920000</td>\n",
       "      <td>20.270000</td>\n",
       "      <td>21.959999</td>\n",
       "      <td>21.959999</td>\n",
       "      <td>8218800</td>\n",
       "    </tr>\n",
       "    <tr>\n",
       "      <th>3</th>\n",
       "      <td>2010-07-02</td>\n",
       "      <td>23.000000</td>\n",
       "      <td>23.100000</td>\n",
       "      <td>18.709999</td>\n",
       "      <td>19.200001</td>\n",
       "      <td>19.200001</td>\n",
       "      <td>5139800</td>\n",
       "    </tr>\n",
       "    <tr>\n",
       "      <th>4</th>\n",
       "      <td>2010-07-06</td>\n",
       "      <td>20.000000</td>\n",
       "      <td>20.000000</td>\n",
       "      <td>15.830000</td>\n",
       "      <td>16.110001</td>\n",
       "      <td>16.110001</td>\n",
       "      <td>6866900</td>\n",
       "    </tr>\n",
       "    <tr>\n",
       "      <th>...</th>\n",
       "      <td>...</td>\n",
       "      <td>...</td>\n",
       "      <td>...</td>\n",
       "      <td>...</td>\n",
       "      <td>...</td>\n",
       "      <td>...</td>\n",
       "      <td>...</td>\n",
       "    </tr>\n",
       "    <tr>\n",
       "      <th>2411</th>\n",
       "      <td>2020-01-28</td>\n",
       "      <td>568.489990</td>\n",
       "      <td>576.809998</td>\n",
       "      <td>558.080017</td>\n",
       "      <td>566.900024</td>\n",
       "      <td>566.900024</td>\n",
       "      <td>11788500</td>\n",
       "    </tr>\n",
       "    <tr>\n",
       "      <th>2412</th>\n",
       "      <td>2020-01-29</td>\n",
       "      <td>575.690002</td>\n",
       "      <td>589.799988</td>\n",
       "      <td>567.429993</td>\n",
       "      <td>580.989990</td>\n",
       "      <td>580.989990</td>\n",
       "      <td>17801500</td>\n",
       "    </tr>\n",
       "    <tr>\n",
       "      <th>2413</th>\n",
       "      <td>2020-01-30</td>\n",
       "      <td>632.419983</td>\n",
       "      <td>650.880005</td>\n",
       "      <td>618.000000</td>\n",
       "      <td>640.809998</td>\n",
       "      <td>640.809998</td>\n",
       "      <td>29005700</td>\n",
       "    </tr>\n",
       "    <tr>\n",
       "      <th>2414</th>\n",
       "      <td>2020-01-31</td>\n",
       "      <td>640.000000</td>\n",
       "      <td>653.000000</td>\n",
       "      <td>632.520020</td>\n",
       "      <td>650.570007</td>\n",
       "      <td>650.570007</td>\n",
       "      <td>15719300</td>\n",
       "    </tr>\n",
       "    <tr>\n",
       "      <th>2415</th>\n",
       "      <td>2020-02-03</td>\n",
       "      <td>673.690002</td>\n",
       "      <td>786.140015</td>\n",
       "      <td>673.520020</td>\n",
       "      <td>780.000000</td>\n",
       "      <td>780.000000</td>\n",
       "      <td>47065000</td>\n",
       "    </tr>\n",
       "  </tbody>\n",
       "</table>\n",
       "<p>2416 rows × 7 columns</p>\n",
       "</div>"
      ],
      "text/plain": [
       "            Date        Open        High         Low       Close   Adj Close  \\\n",
       "0     2010-06-29   19.000000   25.000000   17.540001   23.889999   23.889999   \n",
       "1     2010-06-30   25.790001   30.420000   23.299999   23.830000   23.830000   \n",
       "2     2010-07-01   25.000000   25.920000   20.270000   21.959999   21.959999   \n",
       "3     2010-07-02   23.000000   23.100000   18.709999   19.200001   19.200001   \n",
       "4     2010-07-06   20.000000   20.000000   15.830000   16.110001   16.110001   \n",
       "...          ...         ...         ...         ...         ...         ...   \n",
       "2411  2020-01-28  568.489990  576.809998  558.080017  566.900024  566.900024   \n",
       "2412  2020-01-29  575.690002  589.799988  567.429993  580.989990  580.989990   \n",
       "2413  2020-01-30  632.419983  650.880005  618.000000  640.809998  640.809998   \n",
       "2414  2020-01-31  640.000000  653.000000  632.520020  650.570007  650.570007   \n",
       "2415  2020-02-03  673.690002  786.140015  673.520020  780.000000  780.000000   \n",
       "\n",
       "        Volume  \n",
       "0     18766300  \n",
       "1     17187100  \n",
       "2      8218800  \n",
       "3      5139800  \n",
       "4      6866900  \n",
       "...        ...  \n",
       "2411  11788500  \n",
       "2412  17801500  \n",
       "2413  29005700  \n",
       "2414  15719300  \n",
       "2415  47065000  \n",
       "\n",
       "[2416 rows x 7 columns]"
      ]
     },
     "execution_count": 2,
     "metadata": {},
     "output_type": "execute_result"
    }
   ],
   "source": [
    "df = pd.read_csv('/kaggle/input/tesla-stock-data-from-2010-to-2020/TSLA.csv')\n",
    "df"
   ]
  },
  {
   "cell_type": "code",
   "execution_count": 3,
   "id": "c70bfa84",
   "metadata": {
    "execution": {
     "iopub.execute_input": "2024-10-03T07:44:29.080273Z",
     "iopub.status.busy": "2024-10-03T07:44:29.079839Z",
     "iopub.status.idle": "2024-10-03T07:44:29.095624Z",
     "shell.execute_reply": "2024-10-03T07:44:29.094407Z"
    },
    "id": "lG_AO3mdVv17",
    "papermill": {
     "duration": 0.037987,
     "end_time": "2024-10-03T07:44:29.098071",
     "exception": false,
     "start_time": "2024-10-03T07:44:29.060084",
     "status": "completed"
    },
    "tags": []
   },
   "outputs": [
    {
     "data": {
      "text/html": [
       "<div>\n",
       "<style scoped>\n",
       "    .dataframe tbody tr th:only-of-type {\n",
       "        vertical-align: middle;\n",
       "    }\n",
       "\n",
       "    .dataframe tbody tr th {\n",
       "        vertical-align: top;\n",
       "    }\n",
       "\n",
       "    .dataframe thead th {\n",
       "        text-align: right;\n",
       "    }\n",
       "</style>\n",
       "<table border=\"1\" class=\"dataframe\">\n",
       "  <thead>\n",
       "    <tr style=\"text-align: right;\">\n",
       "      <th></th>\n",
       "      <th>Date</th>\n",
       "      <th>Open</th>\n",
       "      <th>High</th>\n",
       "      <th>Low</th>\n",
       "      <th>Close</th>\n",
       "      <th>Adj Close</th>\n",
       "      <th>Volume</th>\n",
       "    </tr>\n",
       "  </thead>\n",
       "  <tbody>\n",
       "    <tr>\n",
       "      <th>0</th>\n",
       "      <td>2010-06-29</td>\n",
       "      <td>19.000000</td>\n",
       "      <td>25.00</td>\n",
       "      <td>17.540001</td>\n",
       "      <td>23.889999</td>\n",
       "      <td>23.889999</td>\n",
       "      <td>18766300</td>\n",
       "    </tr>\n",
       "    <tr>\n",
       "      <th>1</th>\n",
       "      <td>2010-06-30</td>\n",
       "      <td>25.790001</td>\n",
       "      <td>30.42</td>\n",
       "      <td>23.299999</td>\n",
       "      <td>23.830000</td>\n",
       "      <td>23.830000</td>\n",
       "      <td>17187100</td>\n",
       "    </tr>\n",
       "    <tr>\n",
       "      <th>2</th>\n",
       "      <td>2010-07-01</td>\n",
       "      <td>25.000000</td>\n",
       "      <td>25.92</td>\n",
       "      <td>20.270000</td>\n",
       "      <td>21.959999</td>\n",
       "      <td>21.959999</td>\n",
       "      <td>8218800</td>\n",
       "    </tr>\n",
       "    <tr>\n",
       "      <th>3</th>\n",
       "      <td>2010-07-02</td>\n",
       "      <td>23.000000</td>\n",
       "      <td>23.10</td>\n",
       "      <td>18.709999</td>\n",
       "      <td>19.200001</td>\n",
       "      <td>19.200001</td>\n",
       "      <td>5139800</td>\n",
       "    </tr>\n",
       "    <tr>\n",
       "      <th>4</th>\n",
       "      <td>2010-07-06</td>\n",
       "      <td>20.000000</td>\n",
       "      <td>20.00</td>\n",
       "      <td>15.830000</td>\n",
       "      <td>16.110001</td>\n",
       "      <td>16.110001</td>\n",
       "      <td>6866900</td>\n",
       "    </tr>\n",
       "  </tbody>\n",
       "</table>\n",
       "</div>"
      ],
      "text/plain": [
       "         Date       Open   High        Low      Close  Adj Close    Volume\n",
       "0  2010-06-29  19.000000  25.00  17.540001  23.889999  23.889999  18766300\n",
       "1  2010-06-30  25.790001  30.42  23.299999  23.830000  23.830000  17187100\n",
       "2  2010-07-01  25.000000  25.92  20.270000  21.959999  21.959999   8218800\n",
       "3  2010-07-02  23.000000  23.10  18.709999  19.200001  19.200001   5139800\n",
       "4  2010-07-06  20.000000  20.00  15.830000  16.110001  16.110001   6866900"
      ]
     },
     "execution_count": 3,
     "metadata": {},
     "output_type": "execute_result"
    }
   ],
   "source": [
    "df.head()"
   ]
  },
  {
   "cell_type": "code",
   "execution_count": 4,
   "id": "26b92901",
   "metadata": {
    "execution": {
     "iopub.execute_input": "2024-10-03T07:44:29.137579Z",
     "iopub.status.busy": "2024-10-03T07:44:29.137117Z",
     "iopub.status.idle": "2024-10-03T07:44:29.145495Z",
     "shell.execute_reply": "2024-10-03T07:44:29.144373Z"
    },
    "id": "TU5hlfyvVxY0",
    "papermill": {
     "duration": 0.031022,
     "end_time": "2024-10-03T07:44:29.147942",
     "exception": false,
     "start_time": "2024-10-03T07:44:29.116920",
     "status": "completed"
    },
    "tags": []
   },
   "outputs": [],
   "source": [
    "def check_df(dataframe, head=5):\n",
    "    print(\"##################### Shape #####################\")\n",
    "    print(dataframe.shape)\n",
    "    print(\"##################### Types #####################\")\n",
    "    print(dataframe.dtypes)\n",
    "    print(\"##################### Head #####################\")\n",
    "    print(dataframe.head(head))  # Fonksiyon çağrısına dikkat edin\n",
    "    print(\"##################### Tail #####################\")\n",
    "    print(dataframe.tail(head))\n",
    "    print(\"##################### NA #####################\")\n",
    "    print(dataframe.isnull().sum())\n",
    "    print(\"##################### Quantile #####################\")\n",
    "    print(dataframe.select_dtypes(include='number').quantile([0, 0.05, 0.5, 0.95, 0.99, 1]).T)\n"
   ]
  },
  {
   "cell_type": "code",
   "execution_count": 5,
   "id": "6eaa764e",
   "metadata": {
    "execution": {
     "iopub.execute_input": "2024-10-03T07:44:29.187493Z",
     "iopub.status.busy": "2024-10-03T07:44:29.187048Z",
     "iopub.status.idle": "2024-10-03T07:44:29.211203Z",
     "shell.execute_reply": "2024-10-03T07:44:29.209978Z"
    },
    "id": "t6iFP965V4vk",
    "papermill": {
     "duration": 0.047869,
     "end_time": "2024-10-03T07:44:29.214770",
     "exception": false,
     "start_time": "2024-10-03T07:44:29.166901",
     "status": "completed"
    },
    "tags": []
   },
   "outputs": [
    {
     "name": "stdout",
     "output_type": "stream",
     "text": [
      "##################### Shape #####################\n",
      "(2416, 7)\n",
      "##################### Types #####################\n",
      "Date          object\n",
      "Open         float64\n",
      "High         float64\n",
      "Low          float64\n",
      "Close        float64\n",
      "Adj Close    float64\n",
      "Volume         int64\n",
      "dtype: object\n",
      "##################### Head #####################\n",
      "         Date       Open   High        Low      Close  Adj Close    Volume\n",
      "0  2010-06-29  19.000000  25.00  17.540001  23.889999  23.889999  18766300\n",
      "1  2010-06-30  25.790001  30.42  23.299999  23.830000  23.830000  17187100\n",
      "2  2010-07-01  25.000000  25.92  20.270000  21.959999  21.959999   8218800\n",
      "3  2010-07-02  23.000000  23.10  18.709999  19.200001  19.200001   5139800\n",
      "4  2010-07-06  20.000000  20.00  15.830000  16.110001  16.110001   6866900\n",
      "##################### Tail #####################\n",
      "            Date        Open        High         Low       Close   Adj Close  \\\n",
      "2411  2020-01-28  568.489990  576.809998  558.080017  566.900024  566.900024   \n",
      "2412  2020-01-29  575.690002  589.799988  567.429993  580.989990  580.989990   \n",
      "2413  2020-01-30  632.419983  650.880005  618.000000  640.809998  640.809998   \n",
      "2414  2020-01-31  640.000000  653.000000  632.520020  650.570007  650.570007   \n",
      "2415  2020-02-03  673.690002  786.140015  673.520020  780.000000  780.000000   \n",
      "\n",
      "        Volume  \n",
      "2411  11788500  \n",
      "2412  17801500  \n",
      "2413  29005700  \n",
      "2414  15719300  \n",
      "2415  47065000  \n",
      "##################### NA #####################\n",
      "Date         0\n",
      "Open         0\n",
      "High         0\n",
      "Low          0\n",
      "Close        0\n",
      "Adj Close    0\n",
      "Volume       0\n",
      "dtype: int64\n",
      "##################### Quantile #####################\n",
      "                    0.00           0.05          0.50          0.95  \\\n",
      "Open           16.139999      23.384999  2.130350e+02  3.519100e+02   \n",
      "High           16.629999      24.022501  2.167450e+02  3.567500e+02   \n",
      "Low            14.980000      22.867499  2.088700e+02  3.460250e+02   \n",
      "Close          15.800000      23.565000  2.129600e+02  3.511675e+02   \n",
      "Adj Close      15.800000      23.565000  2.129600e+02  3.511675e+02   \n",
      "Volume     118500.000000  633825.000000  4.578400e+06  1.476090e+07   \n",
      "\n",
      "                   0.99          1.00  \n",
      "Open       4.235790e+02  6.736900e+02  \n",
      "High       4.284705e+02  7.861400e+02  \n",
      "Low        4.122865e+02  6.735200e+02  \n",
      "Close      4.243455e+02  7.800000e+02  \n",
      "Adj Close  4.243455e+02  7.800000e+02  \n",
      "Volume     2.459959e+07  4.706500e+07  \n"
     ]
    }
   ],
   "source": [
    "check_df(df)"
   ]
  },
  {
   "cell_type": "markdown",
   "id": "f1cf49b7",
   "metadata": {
    "id": "v2n2ONcpWlQl",
    "papermill": {
     "duration": 0.018574,
     "end_time": "2024-10-03T07:44:29.252699",
     "exception": false,
     "start_time": "2024-10-03T07:44:29.234125",
     "status": "completed"
    },
    "tags": []
   },
   "source": [
    "## Data Preparation"
   ]
  },
  {
   "cell_type": "code",
   "execution_count": 6,
   "id": "cb455648",
   "metadata": {
    "execution": {
     "iopub.execute_input": "2024-10-03T07:44:29.292584Z",
     "iopub.status.busy": "2024-10-03T07:44:29.292139Z",
     "iopub.status.idle": "2024-10-03T07:44:29.305890Z",
     "shell.execute_reply": "2024-10-03T07:44:29.304778Z"
    },
    "id": "x-En8ormWAo8",
    "papermill": {
     "duration": 0.036899,
     "end_time": "2024-10-03T07:44:29.308561",
     "exception": false,
     "start_time": "2024-10-03T07:44:29.271662",
     "status": "completed"
    },
    "tags": []
   },
   "outputs": [],
   "source": [
    "df[\"Date\"] = pd.to_datetime(df[\"Date\"])"
   ]
  },
  {
   "cell_type": "code",
   "execution_count": 7,
   "id": "9d1594cc",
   "metadata": {
    "execution": {
     "iopub.execute_input": "2024-10-03T07:44:29.348972Z",
     "iopub.status.busy": "2024-10-03T07:44:29.348486Z",
     "iopub.status.idle": "2024-10-03T07:44:29.365508Z",
     "shell.execute_reply": "2024-10-03T07:44:29.364268Z"
    },
    "id": "Wk3C4MPkWBUG",
    "papermill": {
     "duration": 0.039934,
     "end_time": "2024-10-03T07:44:29.367830",
     "exception": false,
     "start_time": "2024-10-03T07:44:29.327896",
     "status": "completed"
    },
    "tags": []
   },
   "outputs": [
    {
     "data": {
      "text/html": [
       "<div>\n",
       "<style scoped>\n",
       "    .dataframe tbody tr th:only-of-type {\n",
       "        vertical-align: middle;\n",
       "    }\n",
       "\n",
       "    .dataframe tbody tr th {\n",
       "        vertical-align: top;\n",
       "    }\n",
       "\n",
       "    .dataframe thead th {\n",
       "        text-align: right;\n",
       "    }\n",
       "</style>\n",
       "<table border=\"1\" class=\"dataframe\">\n",
       "  <thead>\n",
       "    <tr style=\"text-align: right;\">\n",
       "      <th></th>\n",
       "      <th>Date</th>\n",
       "      <th>Open</th>\n",
       "      <th>High</th>\n",
       "      <th>Low</th>\n",
       "      <th>Close</th>\n",
       "      <th>Adj Close</th>\n",
       "      <th>Volume</th>\n",
       "    </tr>\n",
       "  </thead>\n",
       "  <tbody>\n",
       "    <tr>\n",
       "      <th>0</th>\n",
       "      <td>2010-06-29</td>\n",
       "      <td>19.000000</td>\n",
       "      <td>25.00</td>\n",
       "      <td>17.540001</td>\n",
       "      <td>23.889999</td>\n",
       "      <td>23.889999</td>\n",
       "      <td>18766300</td>\n",
       "    </tr>\n",
       "    <tr>\n",
       "      <th>1</th>\n",
       "      <td>2010-06-30</td>\n",
       "      <td>25.790001</td>\n",
       "      <td>30.42</td>\n",
       "      <td>23.299999</td>\n",
       "      <td>23.830000</td>\n",
       "      <td>23.830000</td>\n",
       "      <td>17187100</td>\n",
       "    </tr>\n",
       "    <tr>\n",
       "      <th>2</th>\n",
       "      <td>2010-07-01</td>\n",
       "      <td>25.000000</td>\n",
       "      <td>25.92</td>\n",
       "      <td>20.270000</td>\n",
       "      <td>21.959999</td>\n",
       "      <td>21.959999</td>\n",
       "      <td>8218800</td>\n",
       "    </tr>\n",
       "    <tr>\n",
       "      <th>3</th>\n",
       "      <td>2010-07-02</td>\n",
       "      <td>23.000000</td>\n",
       "      <td>23.10</td>\n",
       "      <td>18.709999</td>\n",
       "      <td>19.200001</td>\n",
       "      <td>19.200001</td>\n",
       "      <td>5139800</td>\n",
       "    </tr>\n",
       "    <tr>\n",
       "      <th>4</th>\n",
       "      <td>2010-07-06</td>\n",
       "      <td>20.000000</td>\n",
       "      <td>20.00</td>\n",
       "      <td>15.830000</td>\n",
       "      <td>16.110001</td>\n",
       "      <td>16.110001</td>\n",
       "      <td>6866900</td>\n",
       "    </tr>\n",
       "  </tbody>\n",
       "</table>\n",
       "</div>"
      ],
      "text/plain": [
       "        Date       Open   High        Low      Close  Adj Close    Volume\n",
       "0 2010-06-29  19.000000  25.00  17.540001  23.889999  23.889999  18766300\n",
       "1 2010-06-30  25.790001  30.42  23.299999  23.830000  23.830000  17187100\n",
       "2 2010-07-01  25.000000  25.92  20.270000  21.959999  21.959999   8218800\n",
       "3 2010-07-02  23.000000  23.10  18.709999  19.200001  19.200001   5139800\n",
       "4 2010-07-06  20.000000  20.00  15.830000  16.110001  16.110001   6866900"
      ]
     },
     "execution_count": 7,
     "metadata": {},
     "output_type": "execute_result"
    }
   ],
   "source": [
    "df.head()"
   ]
  },
  {
   "cell_type": "code",
   "execution_count": 8,
   "id": "bcf8bf38",
   "metadata": {
    "execution": {
     "iopub.execute_input": "2024-10-03T07:44:29.409617Z",
     "iopub.status.busy": "2024-10-03T07:44:29.409156Z",
     "iopub.status.idle": "2024-10-03T07:44:29.416702Z",
     "shell.execute_reply": "2024-10-03T07:44:29.415313Z"
    },
    "id": "ZOVzSrk1WCHu",
    "papermill": {
     "duration": 0.032061,
     "end_time": "2024-10-03T07:44:29.419250",
     "exception": false,
     "start_time": "2024-10-03T07:44:29.387189",
     "status": "completed"
    },
    "tags": []
   },
   "outputs": [],
   "source": [
    "tesla_df = df[[\"Date\", \"Close\"]]"
   ]
  },
  {
   "cell_type": "code",
   "execution_count": 9,
   "id": "a38c830a",
   "metadata": {
    "execution": {
     "iopub.execute_input": "2024-10-03T07:44:29.459985Z",
     "iopub.status.busy": "2024-10-03T07:44:29.459473Z",
     "iopub.status.idle": "2024-10-03T07:44:29.471291Z",
     "shell.execute_reply": "2024-10-03T07:44:29.469900Z"
    },
    "id": "Tli5FuMBWF8l",
    "papermill": {
     "duration": 0.035058,
     "end_time": "2024-10-03T07:44:29.473950",
     "exception": false,
     "start_time": "2024-10-03T07:44:29.438892",
     "status": "completed"
    },
    "tags": []
   },
   "outputs": [
    {
     "data": {
      "text/html": [
       "<div>\n",
       "<style scoped>\n",
       "    .dataframe tbody tr th:only-of-type {\n",
       "        vertical-align: middle;\n",
       "    }\n",
       "\n",
       "    .dataframe tbody tr th {\n",
       "        vertical-align: top;\n",
       "    }\n",
       "\n",
       "    .dataframe thead th {\n",
       "        text-align: right;\n",
       "    }\n",
       "</style>\n",
       "<table border=\"1\" class=\"dataframe\">\n",
       "  <thead>\n",
       "    <tr style=\"text-align: right;\">\n",
       "      <th></th>\n",
       "      <th>Date</th>\n",
       "      <th>Close</th>\n",
       "    </tr>\n",
       "  </thead>\n",
       "  <tbody>\n",
       "    <tr>\n",
       "      <th>0</th>\n",
       "      <td>2010-06-29</td>\n",
       "      <td>23.889999</td>\n",
       "    </tr>\n",
       "    <tr>\n",
       "      <th>1</th>\n",
       "      <td>2010-06-30</td>\n",
       "      <td>23.830000</td>\n",
       "    </tr>\n",
       "    <tr>\n",
       "      <th>2</th>\n",
       "      <td>2010-07-01</td>\n",
       "      <td>21.959999</td>\n",
       "    </tr>\n",
       "    <tr>\n",
       "      <th>3</th>\n",
       "      <td>2010-07-02</td>\n",
       "      <td>19.200001</td>\n",
       "    </tr>\n",
       "    <tr>\n",
       "      <th>4</th>\n",
       "      <td>2010-07-06</td>\n",
       "      <td>16.110001</td>\n",
       "    </tr>\n",
       "  </tbody>\n",
       "</table>\n",
       "</div>"
      ],
      "text/plain": [
       "        Date      Close\n",
       "0 2010-06-29  23.889999\n",
       "1 2010-06-30  23.830000\n",
       "2 2010-07-01  21.959999\n",
       "3 2010-07-02  19.200001\n",
       "4 2010-07-06  16.110001"
      ]
     },
     "execution_count": 9,
     "metadata": {},
     "output_type": "execute_result"
    }
   ],
   "source": [
    "tesla_df.head()"
   ]
  },
  {
   "cell_type": "code",
   "execution_count": 10,
   "id": "04364db7",
   "metadata": {
    "execution": {
     "iopub.execute_input": "2024-10-03T07:44:29.516859Z",
     "iopub.status.busy": "2024-10-03T07:44:29.516358Z",
     "iopub.status.idle": "2024-10-03T07:44:29.523911Z",
     "shell.execute_reply": "2024-10-03T07:44:29.522586Z"
    },
    "id": "Gsw5OQCAWLzn",
    "papermill": {
     "duration": 0.033344,
     "end_time": "2024-10-03T07:44:29.527110",
     "exception": false,
     "start_time": "2024-10-03T07:44:29.493766",
     "status": "completed"
    },
    "tags": []
   },
   "outputs": [
    {
     "name": "stdout",
     "output_type": "stream",
     "text": [
      "Min Date:  2010-06-29 00:00:00\n",
      "Max Date:  2020-02-03 00:00:00\n"
     ]
    }
   ],
   "source": [
    "print(\"Min Date: \", tesla_df[\"Date\"].min())\n",
    "print(\"Max Date: \", tesla_df[\"Date\"].max())"
   ]
  },
  {
   "cell_type": "code",
   "execution_count": 11,
   "id": "74447bda",
   "metadata": {
    "execution": {
     "iopub.execute_input": "2024-10-03T07:44:29.570890Z",
     "iopub.status.busy": "2024-10-03T07:44:29.570417Z",
     "iopub.status.idle": "2024-10-03T07:44:29.576170Z",
     "shell.execute_reply": "2024-10-03T07:44:29.574869Z"
    },
    "id": "JGi8P08mWQO1",
    "papermill": {
     "duration": 0.030297,
     "end_time": "2024-10-03T07:44:29.578866",
     "exception": false,
     "start_time": "2024-10-03T07:44:29.548569",
     "status": "completed"
    },
    "tags": []
   },
   "outputs": [],
   "source": [
    "tesla_df.index = tesla_df[\"Date\"]"
   ]
  },
  {
   "cell_type": "code",
   "execution_count": 12,
   "id": "28f034ec",
   "metadata": {
    "execution": {
     "iopub.execute_input": "2024-10-03T07:44:29.621347Z",
     "iopub.status.busy": "2024-10-03T07:44:29.620884Z",
     "iopub.status.idle": "2024-10-03T07:44:29.635265Z",
     "shell.execute_reply": "2024-10-03T07:44:29.634063Z"
    },
    "id": "YBWxX2IOWoL_",
    "papermill": {
     "duration": 0.038976,
     "end_time": "2024-10-03T07:44:29.637964",
     "exception": false,
     "start_time": "2024-10-03T07:44:29.598988",
     "status": "completed"
    },
    "tags": []
   },
   "outputs": [
    {
     "data": {
      "text/html": [
       "<div>\n",
       "<style scoped>\n",
       "    .dataframe tbody tr th:only-of-type {\n",
       "        vertical-align: middle;\n",
       "    }\n",
       "\n",
       "    .dataframe tbody tr th {\n",
       "        vertical-align: top;\n",
       "    }\n",
       "\n",
       "    .dataframe thead th {\n",
       "        text-align: right;\n",
       "    }\n",
       "</style>\n",
       "<table border=\"1\" class=\"dataframe\">\n",
       "  <thead>\n",
       "    <tr style=\"text-align: right;\">\n",
       "      <th></th>\n",
       "      <th>Date</th>\n",
       "      <th>Close</th>\n",
       "    </tr>\n",
       "    <tr>\n",
       "      <th>Date</th>\n",
       "      <th></th>\n",
       "      <th></th>\n",
       "    </tr>\n",
       "  </thead>\n",
       "  <tbody>\n",
       "    <tr>\n",
       "      <th>2010-06-29</th>\n",
       "      <td>2010-06-29</td>\n",
       "      <td>23.889999</td>\n",
       "    </tr>\n",
       "    <tr>\n",
       "      <th>2010-06-30</th>\n",
       "      <td>2010-06-30</td>\n",
       "      <td>23.830000</td>\n",
       "    </tr>\n",
       "    <tr>\n",
       "      <th>2010-07-01</th>\n",
       "      <td>2010-07-01</td>\n",
       "      <td>21.959999</td>\n",
       "    </tr>\n",
       "    <tr>\n",
       "      <th>2010-07-02</th>\n",
       "      <td>2010-07-02</td>\n",
       "      <td>19.200001</td>\n",
       "    </tr>\n",
       "    <tr>\n",
       "      <th>2010-07-06</th>\n",
       "      <td>2010-07-06</td>\n",
       "      <td>16.110001</td>\n",
       "    </tr>\n",
       "    <tr>\n",
       "      <th>...</th>\n",
       "      <td>...</td>\n",
       "      <td>...</td>\n",
       "    </tr>\n",
       "    <tr>\n",
       "      <th>2020-01-28</th>\n",
       "      <td>2020-01-28</td>\n",
       "      <td>566.900024</td>\n",
       "    </tr>\n",
       "    <tr>\n",
       "      <th>2020-01-29</th>\n",
       "      <td>2020-01-29</td>\n",
       "      <td>580.989990</td>\n",
       "    </tr>\n",
       "    <tr>\n",
       "      <th>2020-01-30</th>\n",
       "      <td>2020-01-30</td>\n",
       "      <td>640.809998</td>\n",
       "    </tr>\n",
       "    <tr>\n",
       "      <th>2020-01-31</th>\n",
       "      <td>2020-01-31</td>\n",
       "      <td>650.570007</td>\n",
       "    </tr>\n",
       "    <tr>\n",
       "      <th>2020-02-03</th>\n",
       "      <td>2020-02-03</td>\n",
       "      <td>780.000000</td>\n",
       "    </tr>\n",
       "  </tbody>\n",
       "</table>\n",
       "<p>2416 rows × 2 columns</p>\n",
       "</div>"
      ],
      "text/plain": [
       "                 Date       Close\n",
       "Date                             \n",
       "2010-06-29 2010-06-29   23.889999\n",
       "2010-06-30 2010-06-30   23.830000\n",
       "2010-07-01 2010-07-01   21.959999\n",
       "2010-07-02 2010-07-02   19.200001\n",
       "2010-07-06 2010-07-06   16.110001\n",
       "...               ...         ...\n",
       "2020-01-28 2020-01-28  566.900024\n",
       "2020-01-29 2020-01-29  580.989990\n",
       "2020-01-30 2020-01-30  640.809998\n",
       "2020-01-31 2020-01-31  650.570007\n",
       "2020-02-03 2020-02-03  780.000000\n",
       "\n",
       "[2416 rows x 2 columns]"
      ]
     },
     "execution_count": 12,
     "metadata": {},
     "output_type": "execute_result"
    }
   ],
   "source": [
    "tesla_df"
   ]
  },
  {
   "cell_type": "code",
   "execution_count": 13,
   "id": "bf06cec4",
   "metadata": {
    "execution": {
     "iopub.execute_input": "2024-10-03T07:44:29.681656Z",
     "iopub.status.busy": "2024-10-03T07:44:29.681241Z",
     "iopub.status.idle": "2024-10-03T07:44:29.688796Z",
     "shell.execute_reply": "2024-10-03T07:44:29.687596Z"
    },
    "id": "tgPM31WBWvcH",
    "papermill": {
     "duration": 0.032479,
     "end_time": "2024-10-03T07:44:29.691366",
     "exception": false,
     "start_time": "2024-10-03T07:44:29.658887",
     "status": "completed"
    },
    "tags": []
   },
   "outputs": [],
   "source": [
    "tesla_df.drop(\"Date\", axis=1, inplace=True)"
   ]
  },
  {
   "cell_type": "code",
   "execution_count": 14,
   "id": "094a4787",
   "metadata": {
    "execution": {
     "iopub.execute_input": "2024-10-03T07:44:29.733661Z",
     "iopub.status.busy": "2024-10-03T07:44:29.732675Z",
     "iopub.status.idle": "2024-10-03T07:44:29.745175Z",
     "shell.execute_reply": "2024-10-03T07:44:29.743810Z"
    },
    "id": "17KdnKMGWwSm",
    "papermill": {
     "duration": 0.036601,
     "end_time": "2024-10-03T07:44:29.747949",
     "exception": false,
     "start_time": "2024-10-03T07:44:29.711348",
     "status": "completed"
    },
    "tags": []
   },
   "outputs": [
    {
     "data": {
      "text/html": [
       "<div>\n",
       "<style scoped>\n",
       "    .dataframe tbody tr th:only-of-type {\n",
       "        vertical-align: middle;\n",
       "    }\n",
       "\n",
       "    .dataframe tbody tr th {\n",
       "        vertical-align: top;\n",
       "    }\n",
       "\n",
       "    .dataframe thead th {\n",
       "        text-align: right;\n",
       "    }\n",
       "</style>\n",
       "<table border=\"1\" class=\"dataframe\">\n",
       "  <thead>\n",
       "    <tr style=\"text-align: right;\">\n",
       "      <th></th>\n",
       "      <th>Close</th>\n",
       "    </tr>\n",
       "    <tr>\n",
       "      <th>Date</th>\n",
       "      <th></th>\n",
       "    </tr>\n",
       "  </thead>\n",
       "  <tbody>\n",
       "    <tr>\n",
       "      <th>2010-06-29</th>\n",
       "      <td>23.889999</td>\n",
       "    </tr>\n",
       "    <tr>\n",
       "      <th>2010-06-30</th>\n",
       "      <td>23.830000</td>\n",
       "    </tr>\n",
       "    <tr>\n",
       "      <th>2010-07-01</th>\n",
       "      <td>21.959999</td>\n",
       "    </tr>\n",
       "    <tr>\n",
       "      <th>2010-07-02</th>\n",
       "      <td>19.200001</td>\n",
       "    </tr>\n",
       "    <tr>\n",
       "      <th>2010-07-06</th>\n",
       "      <td>16.110001</td>\n",
       "    </tr>\n",
       "    <tr>\n",
       "      <th>...</th>\n",
       "      <td>...</td>\n",
       "    </tr>\n",
       "    <tr>\n",
       "      <th>2020-01-28</th>\n",
       "      <td>566.900024</td>\n",
       "    </tr>\n",
       "    <tr>\n",
       "      <th>2020-01-29</th>\n",
       "      <td>580.989990</td>\n",
       "    </tr>\n",
       "    <tr>\n",
       "      <th>2020-01-30</th>\n",
       "      <td>640.809998</td>\n",
       "    </tr>\n",
       "    <tr>\n",
       "      <th>2020-01-31</th>\n",
       "      <td>650.570007</td>\n",
       "    </tr>\n",
       "    <tr>\n",
       "      <th>2020-02-03</th>\n",
       "      <td>780.000000</td>\n",
       "    </tr>\n",
       "  </tbody>\n",
       "</table>\n",
       "<p>2416 rows × 1 columns</p>\n",
       "</div>"
      ],
      "text/plain": [
       "                 Close\n",
       "Date                  \n",
       "2010-06-29   23.889999\n",
       "2010-06-30   23.830000\n",
       "2010-07-01   21.959999\n",
       "2010-07-02   19.200001\n",
       "2010-07-06   16.110001\n",
       "...                ...\n",
       "2020-01-28  566.900024\n",
       "2020-01-29  580.989990\n",
       "2020-01-30  640.809998\n",
       "2020-01-31  650.570007\n",
       "2020-02-03  780.000000\n",
       "\n",
       "[2416 rows x 1 columns]"
      ]
     },
     "execution_count": 14,
     "metadata": {},
     "output_type": "execute_result"
    }
   ],
   "source": [
    "tesla_df"
   ]
  },
  {
   "cell_type": "code",
   "execution_count": 15,
   "id": "8b3702a9",
   "metadata": {
    "execution": {
     "iopub.execute_input": "2024-10-03T07:44:29.790773Z",
     "iopub.status.busy": "2024-10-03T07:44:29.790281Z",
     "iopub.status.idle": "2024-10-03T07:44:29.796044Z",
     "shell.execute_reply": "2024-10-03T07:44:29.794806Z"
    },
    "id": "PliZ5OcsWxsF",
    "papermill": {
     "duration": 0.029965,
     "end_time": "2024-10-03T07:44:29.798595",
     "exception": false,
     "start_time": "2024-10-03T07:44:29.768630",
     "status": "completed"
    },
    "tags": []
   },
   "outputs": [],
   "source": [
    "result_df = tesla_df.copy()"
   ]
  },
  {
   "cell_type": "code",
   "execution_count": 16,
   "id": "63c1bb49",
   "metadata": {
    "execution": {
     "iopub.execute_input": "2024-10-03T07:44:29.841812Z",
     "iopub.status.busy": "2024-10-03T07:44:29.841338Z",
     "iopub.status.idle": "2024-10-03T07:44:30.321998Z",
     "shell.execute_reply": "2024-10-03T07:44:30.320765Z"
    },
    "id": "ObqHX6K2W0te",
    "papermill": {
     "duration": 0.505245,
     "end_time": "2024-10-03T07:44:30.324772",
     "exception": false,
     "start_time": "2024-10-03T07:44:29.819527",
     "status": "completed"
    },
    "tags": []
   },
   "outputs": [
    {
     "data": {
      "image/png": "[encoded data removed]",
      "text/plain": [
       "<Figure size 1400x500 with 1 Axes>"
      ]
     },
     "metadata": {},
     "output_type": "display_data"
    }
   ],
   "source": [
    "plt.figure(figsize=(14,5))\n",
    "plt.plot(tesla_df['Close'], color='blue')\n",
    "plt.title(\"Tesla Stock Price\")\n",
    "plt.xlabel(\"Time\")\n",
    "plt.ylabel(\"Stock Price\")\n",
    "plt.show()"
   ]
  },
  {
   "cell_type": "code",
   "execution_count": 17,
   "id": "5ec2d8e4",
   "metadata": {
    "execution": {
     "iopub.execute_input": "2024-10-03T07:44:30.369301Z",
     "iopub.status.busy": "2024-10-03T07:44:30.368534Z",
     "iopub.status.idle": "2024-10-03T07:44:30.373905Z",
     "shell.execute_reply": "2024-10-03T07:44:30.372657Z"
    },
    "id": "5LWFDWjNW2z2",
    "papermill": {
     "duration": 0.030349,
     "end_time": "2024-10-03T07:44:30.376435",
     "exception": false,
     "start_time": "2024-10-03T07:44:30.346086",
     "status": "completed"
    },
    "tags": []
   },
   "outputs": [],
   "source": [
    "tesla_df = tesla_df.values"
   ]
  },
  {
   "cell_type": "code",
   "execution_count": 18,
   "id": "7d88b997",
   "metadata": {
    "execution": {
     "iopub.execute_input": "2024-10-03T07:44:30.421440Z",
     "iopub.status.busy": "2024-10-03T07:44:30.420992Z",
     "iopub.status.idle": "2024-10-03T07:44:30.428740Z",
     "shell.execute_reply": "2024-10-03T07:44:30.427390Z"
    },
    "id": "jxFZkTS-W9Mm",
    "papermill": {
     "duration": 0.033247,
     "end_time": "2024-10-03T07:44:30.431184",
     "exception": false,
     "start_time": "2024-10-03T07:44:30.397937",
     "status": "completed"
    },
    "tags": []
   },
   "outputs": [
    {
     "data": {
      "text/plain": [
       "array([[23.889999],\n",
       "       [23.83    ],\n",
       "       [21.959999],\n",
       "       [19.200001],\n",
       "       [16.110001]])"
      ]
     },
     "execution_count": 18,
     "metadata": {},
     "output_type": "execute_result"
    }
   ],
   "source": [
    "tesla_df[0:5]"
   ]
  },
  {
   "cell_type": "code",
   "execution_count": 19,
   "id": "9e30b31e",
   "metadata": {
    "execution": {
     "iopub.execute_input": "2024-10-03T07:44:30.475348Z",
     "iopub.status.busy": "2024-10-03T07:44:30.474931Z",
     "iopub.status.idle": "2024-10-03T07:44:30.480627Z",
     "shell.execute_reply": "2024-10-03T07:44:30.479373Z"
    },
    "id": "iU7KJlc4XAb2",
    "papermill": {
     "duration": 0.030804,
     "end_time": "2024-10-03T07:44:30.483225",
     "exception": false,
     "start_time": "2024-10-03T07:44:30.452421",
     "status": "completed"
    },
    "tags": []
   },
   "outputs": [],
   "source": [
    "tesla_df = tesla_df.astype(\"float32\")"
   ]
  },
  {
   "cell_type": "code",
   "execution_count": 20,
   "id": "916860ba",
   "metadata": {
    "execution": {
     "iopub.execute_input": "2024-10-03T07:44:30.536672Z",
     "iopub.status.busy": "2024-10-03T07:44:30.536245Z",
     "iopub.status.idle": "2024-10-03T07:44:30.543044Z",
     "shell.execute_reply": "2024-10-03T07:44:30.541726Z"
    },
    "id": "r7Cywk9oXBI-",
    "papermill": {
     "duration": 0.033233,
     "end_time": "2024-10-03T07:44:30.545624",
     "exception": false,
     "start_time": "2024-10-03T07:44:30.512391",
     "status": "completed"
    },
    "tags": []
   },
   "outputs": [],
   "source": [
    "def split_data(dataframe, test_size):\n",
    "  position = int(round(len(dataframe) * (1 - test_size)))\n",
    "  train = dataframe[:position]\n",
    "  test = dataframe[position:]\n",
    "  return train, test, position"
   ]
  },
  {
   "cell_type": "code",
   "execution_count": 21,
   "id": "bfd2e357",
   "metadata": {
    "execution": {
     "iopub.execute_input": "2024-10-03T07:44:30.590303Z",
     "iopub.status.busy": "2024-10-03T07:44:30.589857Z",
     "iopub.status.idle": "2024-10-03T07:44:30.595194Z",
     "shell.execute_reply": "2024-10-03T07:44:30.594044Z"
    },
    "id": "COxqfz0SZvV_",
    "papermill": {
     "duration": 0.030666,
     "end_time": "2024-10-03T07:44:30.597638",
     "exception": false,
     "start_time": "2024-10-03T07:44:30.566972",
     "status": "completed"
    },
    "tags": []
   },
   "outputs": [],
   "source": [
    "train, test, position = split_data(tesla_df, 0.20)"
   ]
  },
  {
   "cell_type": "code",
   "execution_count": 22,
   "id": "70700c44",
   "metadata": {
    "execution": {
     "iopub.execute_input": "2024-10-03T07:44:30.642394Z",
     "iopub.status.busy": "2024-10-03T07:44:30.641522Z",
     "iopub.status.idle": "2024-10-03T07:44:30.648244Z",
     "shell.execute_reply": "2024-10-03T07:44:30.646926Z"
    },
    "id": "jESwxnt2Z1t5",
    "papermill": {
     "duration": 0.031802,
     "end_time": "2024-10-03T07:44:30.650839",
     "exception": false,
     "start_time": "2024-10-03T07:44:30.619037",
     "status": "completed"
    },
    "tags": []
   },
   "outputs": [
    {
     "name": "stdout",
     "output_type": "stream",
     "text": [
      "(1933, 1) (483, 1)\n"
     ]
    }
   ],
   "source": [
    "print(train.shape, test.shape)"
   ]
  },
  {
   "cell_type": "code",
   "execution_count": 23,
   "id": "2edc8577",
   "metadata": {
    "execution": {
     "iopub.execute_input": "2024-10-03T07:44:30.696159Z",
     "iopub.status.busy": "2024-10-03T07:44:30.695750Z",
     "iopub.status.idle": "2024-10-03T07:44:30.700805Z",
     "shell.execute_reply": "2024-10-03T07:44:30.699594Z"
    },
    "id": "wleQDdgSZ8NZ",
    "papermill": {
     "duration": 0.030327,
     "end_time": "2024-10-03T07:44:30.703288",
     "exception": false,
     "start_time": "2024-10-03T07:44:30.672961",
     "status": "completed"
    },
    "tags": []
   },
   "outputs": [],
   "source": [
    "scaler_train = MinMaxScaler(feature_range = (0,1))"
   ]
  },
  {
   "cell_type": "code",
   "execution_count": 24,
   "id": "684a6e17",
   "metadata": {
    "execution": {
     "iopub.execute_input": "2024-10-03T07:44:30.747671Z",
     "iopub.status.busy": "2024-10-03T07:44:30.747187Z",
     "iopub.status.idle": "2024-10-03T07:44:30.753795Z",
     "shell.execute_reply": "2024-10-03T07:44:30.752503Z"
    },
    "id": "Enf8wikDaNZh",
    "papermill": {
     "duration": 0.031851,
     "end_time": "2024-10-03T07:44:30.756203",
     "exception": false,
     "start_time": "2024-10-03T07:44:30.724352",
     "status": "completed"
    },
    "tags": []
   },
   "outputs": [],
   "source": [
    "train = scaler_train.fit_transform(train)"
   ]
  },
  {
   "cell_type": "code",
   "execution_count": 25,
   "id": "6dc924eb",
   "metadata": {
    "execution": {
     "iopub.execute_input": "2024-10-03T07:44:30.800562Z",
     "iopub.status.busy": "2024-10-03T07:44:30.800150Z",
     "iopub.status.idle": "2024-10-03T07:44:30.805430Z",
     "shell.execute_reply": "2024-10-03T07:44:30.804327Z"
    },
    "id": "cg-7tCn_aXTc",
    "papermill": {
     "duration": 0.030496,
     "end_time": "2024-10-03T07:44:30.807938",
     "exception": false,
     "start_time": "2024-10-03T07:44:30.777442",
     "status": "completed"
    },
    "tags": []
   },
   "outputs": [],
   "source": [
    "scaler_test = MinMaxScaler(feature_range = (0,1))"
   ]
  },
  {
   "cell_type": "code",
   "execution_count": 26,
   "id": "cf1d2f97",
   "metadata": {
    "execution": {
     "iopub.execute_input": "2024-10-03T07:44:30.852328Z",
     "iopub.status.busy": "2024-10-03T07:44:30.851897Z",
     "iopub.status.idle": "2024-10-03T07:44:30.857991Z",
     "shell.execute_reply": "2024-10-03T07:44:30.856776Z"
    },
    "id": "tSbuIifiabbC",
    "papermill": {
     "duration": 0.031325,
     "end_time": "2024-10-03T07:44:30.860615",
     "exception": false,
     "start_time": "2024-10-03T07:44:30.829290",
     "status": "completed"
    },
    "tags": []
   },
   "outputs": [],
   "source": [
    "test = scaler_test.fit_transform(test)"
   ]
  },
  {
   "cell_type": "code",
   "execution_count": 27,
   "id": "74558bcb",
   "metadata": {
    "execution": {
     "iopub.execute_input": "2024-10-03T07:44:30.905658Z",
     "iopub.status.busy": "2024-10-03T07:44:30.904742Z",
     "iopub.status.idle": "2024-10-03T07:44:30.913069Z",
     "shell.execute_reply": "2024-10-03T07:44:30.911832Z"
    },
    "id": "X5a7m_BEagaJ",
    "papermill": {
     "duration": 0.033286,
     "end_time": "2024-10-03T07:44:30.915461",
     "exception": false,
     "start_time": "2024-10-03T07:44:30.882175",
     "status": "completed"
    },
    "tags": []
   },
   "outputs": [
    {
     "data": {
      "text/plain": [
       "array([[0.02191224],\n",
       "       [0.02174973],\n",
       "       [0.01668472],\n",
       "       [0.0092091 ],\n",
       "       [0.00083966]], dtype=float32)"
      ]
     },
     "execution_count": 27,
     "metadata": {},
     "output_type": "execute_result"
    }
   ],
   "source": [
    "train[0:5]"
   ]
  },
  {
   "cell_type": "code",
   "execution_count": 28,
   "id": "bf93316a",
   "metadata": {
    "execution": {
     "iopub.execute_input": "2024-10-03T07:44:30.960756Z",
     "iopub.status.busy": "2024-10-03T07:44:30.960325Z",
     "iopub.status.idle": "2024-10-03T07:44:30.968619Z",
     "shell.execute_reply": "2024-10-03T07:44:30.967453Z"
    },
    "id": "AeVSy_ijahnh",
    "papermill": {
     "duration": 0.033791,
     "end_time": "2024-10-03T07:44:30.971077",
     "exception": false,
     "start_time": "2024-10-03T07:44:30.937286",
     "status": "completed"
    },
    "tags": []
   },
   "outputs": [
    {
     "data": {
      "text/plain": [
       "array([[0.25685903],\n",
       "       [0.24829045],\n",
       "       [0.25511202],\n",
       "       [0.24978784],\n",
       "       [0.2465767 ]], dtype=float32)"
      ]
     },
     "execution_count": 28,
     "metadata": {},
     "output_type": "execute_result"
    }
   ],
   "source": [
    "test[0:5]"
   ]
  },
  {
   "cell_type": "code",
   "execution_count": 29,
   "id": "5653040c",
   "metadata": {
    "execution": {
     "iopub.execute_input": "2024-10-03T07:44:31.016338Z",
     "iopub.status.busy": "2024-10-03T07:44:31.015894Z",
     "iopub.status.idle": "2024-10-03T07:44:31.022789Z",
     "shell.execute_reply": "2024-10-03T07:44:31.021446Z"
    },
    "id": "Gv95UqJWasHS",
    "papermill": {
     "duration": 0.032643,
     "end_time": "2024-10-03T07:44:31.025346",
     "exception": false,
     "start_time": "2024-10-03T07:44:30.992703",
     "status": "completed"
    },
    "tags": []
   },
   "outputs": [],
   "source": [
    "def create_features(data, lookback):\n",
    "  X, Y = [], []\n",
    "  for i in range(lookback, len(data)):\n",
    "    X.append(data[i-lookback:i,0])\n",
    "    Y.append(data[i,0])\n",
    "\n",
    "  return np.array(X), np.array(Y)"
   ]
  },
  {
   "cell_type": "code",
   "execution_count": 30,
   "id": "c2c8638b",
   "metadata": {
    "execution": {
     "iopub.execute_input": "2024-10-03T07:44:31.070667Z",
     "iopub.status.busy": "2024-10-03T07:44:31.070229Z",
     "iopub.status.idle": "2024-10-03T07:44:31.075409Z",
     "shell.execute_reply": "2024-10-03T07:44:31.074221Z"
    },
    "id": "e36Ux4_CbASm",
    "papermill": {
     "duration": 0.03057,
     "end_time": "2024-10-03T07:44:31.077921",
     "exception": false,
     "start_time": "2024-10-03T07:44:31.047351",
     "status": "completed"
    },
    "tags": []
   },
   "outputs": [],
   "source": [
    "lookback = 20"
   ]
  },
  {
   "cell_type": "code",
   "execution_count": 31,
   "id": "b3f129ae",
   "metadata": {
    "execution": {
     "iopub.execute_input": "2024-10-03T07:44:31.122686Z",
     "iopub.status.busy": "2024-10-03T07:44:31.122238Z",
     "iopub.status.idle": "2024-10-03T07:44:31.131496Z",
     "shell.execute_reply": "2024-10-03T07:44:31.130514Z"
    },
    "id": "Xd8JMdaWbCzp",
    "papermill": {
     "duration": 0.034403,
     "end_time": "2024-10-03T07:44:31.133872",
     "exception": false,
     "start_time": "2024-10-03T07:44:31.099469",
     "status": "completed"
    },
    "tags": []
   },
   "outputs": [],
   "source": [
    "X_train, y_train = create_features(train, lookback)"
   ]
  },
  {
   "cell_type": "code",
   "execution_count": 32,
   "id": "6ffc3eb1",
   "metadata": {
    "execution": {
     "iopub.execute_input": "2024-10-03T07:44:31.229905Z",
     "iopub.status.busy": "2024-10-03T07:44:31.229442Z",
     "iopub.status.idle": "2024-10-03T07:44:31.235608Z",
     "shell.execute_reply": "2024-10-03T07:44:31.234719Z"
    },
    "id": "wHgq8DT5bF_Z",
    "papermill": {
     "duration": 0.081607,
     "end_time": "2024-10-03T07:44:31.237880",
     "exception": false,
     "start_time": "2024-10-03T07:44:31.156273",
     "status": "completed"
    },
    "tags": []
   },
   "outputs": [],
   "source": [
    "X_test, y_test = create_features(test, lookback)"
   ]
  },
  {
   "cell_type": "code",
   "execution_count": 33,
   "id": "7f59d29e",
   "metadata": {
    "execution": {
     "iopub.execute_input": "2024-10-03T07:44:31.283024Z",
     "iopub.status.busy": "2024-10-03T07:44:31.282419Z",
     "iopub.status.idle": "2024-10-03T07:44:31.288386Z",
     "shell.execute_reply": "2024-10-03T07:44:31.287368Z"
    },
    "id": "zYQy_33TbKdb",
    "papermill": {
     "duration": 0.031901,
     "end_time": "2024-10-03T07:44:31.291439",
     "exception": false,
     "start_time": "2024-10-03T07:44:31.259538",
     "status": "completed"
    },
    "tags": []
   },
   "outputs": [
    {
     "name": "stdout",
     "output_type": "stream",
     "text": [
      "(1913, 20) (1913,) (463, 20) (463,)\n"
     ]
    }
   ],
   "source": [
    "print(X_train.shape, y_train.shape, X_test.shape, y_test.shape)"
   ]
  },
  {
   "cell_type": "code",
   "execution_count": 34,
   "id": "bac0aa65",
   "metadata": {
    "execution": {
     "iopub.execute_input": "2024-10-03T07:44:31.339287Z",
     "iopub.status.busy": "2024-10-03T07:44:31.338881Z",
     "iopub.status.idle": "2024-10-03T07:44:31.347840Z",
     "shell.execute_reply": "2024-10-03T07:44:31.346787Z"
    },
    "id": "sI1k-K6bTKuw",
    "papermill": {
     "duration": 0.035166,
     "end_time": "2024-10-03T07:44:31.350269",
     "exception": false,
     "start_time": "2024-10-03T07:44:31.315103",
     "status": "completed"
    },
    "tags": []
   },
   "outputs": [
    {
     "data": {
      "text/plain": [
       "array([[0.02191224, 0.02174973, 0.01668472, 0.0092091 , 0.00083966,\n",
       "        0.        , 0.00449621, 0.00433369, 0.0033857 , 0.00633803,\n",
       "        0.01094258, 0.011078  , 0.01310942, 0.0165493 , 0.01218851,\n",
       "        0.01197183, 0.01408451, 0.01486999, 0.01394908, 0.01286566],\n",
       "       [0.02174973, 0.01668472, 0.0092091 , 0.00083966, 0.        ,\n",
       "        0.00449621, 0.00433369, 0.0033857 , 0.00633803, 0.01094258,\n",
       "        0.011078  , 0.01310942, 0.0165493 , 0.01218851, 0.01197183,\n",
       "        0.01408451, 0.01486999, 0.01394908, 0.01286566, 0.01332611],\n",
       "       [0.01668472, 0.0092091 , 0.00083966, 0.        , 0.00449621,\n",
       "        0.00433369, 0.0033857 , 0.00633803, 0.01094258, 0.011078  ,\n",
       "        0.01310942, 0.0165493 , 0.01218851, 0.01197183, 0.01408451,\n",
       "        0.01486999, 0.01394908, 0.01286566, 0.01332611, 0.01232395],\n",
       "       [0.0092091 , 0.00083966, 0.        , 0.00449621, 0.00433369,\n",
       "        0.0033857 , 0.00633803, 0.01094258, 0.011078  , 0.01310942,\n",
       "        0.0165493 , 0.01218851, 0.01197183, 0.01408451, 0.01486999,\n",
       "        0.01394908, 0.01286566, 0.01332611, 0.01232395, 0.01121344],\n",
       "       [0.00083966, 0.        , 0.00449621, 0.00433369, 0.0033857 ,\n",
       "        0.00633803, 0.01094258, 0.011078  , 0.01310942, 0.0165493 ,\n",
       "        0.01218851, 0.01197183, 0.01408451, 0.01486999, 0.01394908,\n",
       "        0.01286566, 0.01332611, 0.01232395, 0.01121344, 0.01386782]],\n",
       "      dtype=float32)"
      ]
     },
     "execution_count": 34,
     "metadata": {},
     "output_type": "execute_result"
    }
   ],
   "source": [
    "X_train[0:5]"
   ]
  },
  {
   "cell_type": "code",
   "execution_count": 35,
   "id": "61487648",
   "metadata": {
    "execution": {
     "iopub.execute_input": "2024-10-03T07:44:31.395346Z",
     "iopub.status.busy": "2024-10-03T07:44:31.394905Z",
     "iopub.status.idle": "2024-10-03T07:44:31.403163Z",
     "shell.execute_reply": "2024-10-03T07:44:31.402043Z"
    },
    "id": "vY5hCVQHTg9u",
    "papermill": {
     "duration": 0.03365,
     "end_time": "2024-10-03T07:44:31.405616",
     "exception": false,
     "start_time": "2024-10-03T07:44:31.371966",
     "status": "completed"
    },
    "tags": []
   },
   "outputs": [
    {
     "data": {
      "text/plain": [
       "array([0.01332611, 0.01232395, 0.01121344, 0.01386782, 0.01665764],\n",
       "      dtype=float32)"
      ]
     },
     "execution_count": 35,
     "metadata": {},
     "output_type": "execute_result"
    }
   ],
   "source": [
    "y_train[0:5]"
   ]
  },
  {
   "cell_type": "code",
   "execution_count": 36,
   "id": "5ce6fac2",
   "metadata": {
    "execution": {
     "iopub.execute_input": "2024-10-03T07:44:31.451838Z",
     "iopub.status.busy": "2024-10-03T07:44:31.450867Z",
     "iopub.status.idle": "2024-10-03T07:44:31.457951Z",
     "shell.execute_reply": "2024-10-03T07:44:31.456657Z"
    },
    "id": "yvf-4kLybad5",
    "papermill": {
     "duration": 0.032894,
     "end_time": "2024-10-03T07:44:31.460398",
     "exception": false,
     "start_time": "2024-10-03T07:44:31.427504",
     "status": "completed"
    },
    "tags": []
   },
   "outputs": [],
   "source": [
    "X_train = np.reshape(X_train, (X_train.shape[0], 1, X_train.shape[1]))\n",
    "X_test = np.reshape(X_test, (X_test.shape[0], 1, X_test.shape[1]))\n",
    "y_train = y_train.reshape(-1,1)\n",
    "y_test = y_test.reshape(-1,1)"
   ]
  },
  {
   "cell_type": "code",
   "execution_count": 37,
   "id": "345c7a9d",
   "metadata": {
    "execution": {
     "iopub.execute_input": "2024-10-03T07:44:31.508259Z",
     "iopub.status.busy": "2024-10-03T07:44:31.507184Z",
     "iopub.status.idle": "2024-10-03T07:44:31.514474Z",
     "shell.execute_reply": "2024-10-03T07:44:31.513144Z"
    },
    "id": "D2ltv0Edb3wz",
    "papermill": {
     "duration": 0.034148,
     "end_time": "2024-10-03T07:44:31.517102",
     "exception": false,
     "start_time": "2024-10-03T07:44:31.482954",
     "status": "completed"
    },
    "tags": []
   },
   "outputs": [
    {
     "name": "stdout",
     "output_type": "stream",
     "text": [
      "(1913, 1, 20) (1913, 1) (463, 1, 20) (463, 1)\n"
     ]
    }
   ],
   "source": [
    "print(X_train.shape, y_train.shape, X_test.shape, y_test.shape)"
   ]
  },
  {
   "cell_type": "markdown",
   "id": "196b634c",
   "metadata": {
    "id": "DtsN3xazcIAn",
    "papermill": {
     "duration": 0.021533,
     "end_time": "2024-10-03T07:44:31.560688",
     "exception": false,
     "start_time": "2024-10-03T07:44:31.539155",
     "status": "completed"
    },
    "tags": []
   },
   "source": [
    "## Modelling"
   ]
  },
  {
   "cell_type": "code",
   "execution_count": 38,
   "id": "e5d3a2d5",
   "metadata": {
    "execution": {
     "iopub.execute_input": "2024-10-03T07:44:31.606439Z",
     "iopub.status.busy": "2024-10-03T07:44:31.606031Z",
     "iopub.status.idle": "2024-10-03T07:44:31.724992Z",
     "shell.execute_reply": "2024-10-03T07:44:31.723868Z"
    },
    "id": "QtbQx4G9cI_z",
    "papermill": {
     "duration": 0.145292,
     "end_time": "2024-10-03T07:44:31.727894",
     "exception": false,
     "start_time": "2024-10-03T07:44:31.582602",
     "status": "completed"
    },
    "tags": []
   },
   "outputs": [],
   "source": [
    "model = Sequential()\n",
    "\n",
    "model.add(LSTM(units = 50,\n",
    "                    activation = 'relu',\n",
    "                    input_shape=(X_train.shape[1], lookback)))\n",
    "\n",
    "model.add(Dropout(0.2))\n",
    "\n",
    "model.add(Dense(1))\n"
   ]
  },
  {
   "cell_type": "code",
   "execution_count": 39,
   "id": "375fd8e8",
   "metadata": {
    "execution": {
     "iopub.execute_input": "2024-10-03T07:44:31.774597Z",
     "iopub.status.busy": "2024-10-03T07:44:31.774097Z",
     "iopub.status.idle": "2024-10-03T07:44:31.796542Z",
     "shell.execute_reply": "2024-10-03T07:44:31.795406Z"
    },
    "id": "RQFXIkDbciE6",
    "papermill": {
     "duration": 0.049066,
     "end_time": "2024-10-03T07:44:31.799126",
     "exception": false,
     "start_time": "2024-10-03T07:44:31.750060",
     "status": "completed"
    },
    "tags": []
   },
   "outputs": [
    {
     "data": {
      "text/html": [
       "<pre style=\"white-space:pre;overflow-x:auto;line-height:normal;font-family:Menlo,'DejaVu Sans Mono',consolas,'Courier New',monospace\"><span style=\"font-weight: bold\">Model: \"sequential\"</span>\n",
       "</pre>\n"
      ],
      "text/plain": [
       "\u001b[1mModel: \"sequential\"\u001b[0m\n"
      ]
     },
     "metadata": {},
     "output_type": "display_data"
    },
    {
     "data": {
      "text/html": [
       "<pre style=\"white-space:pre;overflow-x:auto;line-height:normal;font-family:Menlo,'DejaVu Sans Mono',consolas,'Courier New',monospace\">┏━━━━━━━━━━━━━━━━━━━━━━━━━━━━━━━━━┳━━━━━━━━━━━━━━━━━━━━━━━━┳━━━━━━━━━━━━━━━┓\n",
       "┃<span style=\"font-weight: bold\"> Layer (type)                    </span>┃<span style=\"font-weight: bold\"> Output Shape           </span>┃<span style=\"font-weight: bold\">       Param # </span>┃\n",
       "┡━━━━━━━━━━━━━━━━━━━━━━━━━━━━━━━━━╇━━━━━━━━━━━━━━━━━━━━━━━━╇━━━━━━━━━━━━━━━┩\n",
       "│ lstm (<span style=\"color: #0087ff; text-decoration-color: #0087ff\">LSTM</span>)                     │ (<span style=\"color: #00d7ff; text-decoration-color: #00d7ff\">None</span>, <span style=\"color: #00af00; text-decoration-color: #00af00\">50</span>)             │        <span style=\"color: #00af00; text-decoration-color: #00af00\">14,200</span> │\n",
       "├─────────────────────────────────┼────────────────────────┼───────────────┤\n",
       "│ dropout (<span style=\"color: #0087ff; text-decoration-color: #0087ff\">Dropout</span>)               │ (<span style=\"color: #00d7ff; text-decoration-color: #00d7ff\">None</span>, <span style=\"color: #00af00; text-decoration-color: #00af00\">50</span>)             │             <span style=\"color: #00af00; text-decoration-color: #00af00\">0</span> │\n",
       "├─────────────────────────────────┼────────────────────────┼───────────────┤\n",
       "│ dense (<span style=\"color: #0087ff; text-decoration-color: #0087ff\">Dense</span>)                   │ (<span style=\"color: #00d7ff; text-decoration-color: #00d7ff\">None</span>, <span style=\"color: #00af00; text-decoration-color: #00af00\">1</span>)              │            <span style=\"color: #00af00; text-decoration-color: #00af00\">51</span> │\n",
       "└─────────────────────────────────┴────────────────────────┴───────────────┘\n",
       "</pre>\n"
      ],
      "text/plain": [
       "┏━━━━━━━━━━━━━━━━━━━━━━━━━━━━━━━━━┳━━━━━━━━━━━━━━━━━━━━━━━━┳━━━━━━━━━━━━━━━┓\n",
       "┃\u001b[1m \u001b[0m\u001b[1mLayer (type)                   \u001b[0m\u001b[1m \u001b[0m┃\u001b[1m \u001b[0m\u001b[1mOutput Shape          \u001b[0m\u001b[1m \u001b[0m┃\u001b[1m \u001b[0m\u001b[1m      Param #\u001b[0m\u001b[1m \u001b[0m┃\n",
       "┡━━━━━━━━━━━━━━━━━━━━━━━━━━━━━━━━━╇━━━━━━━━━━━━━━━━━━━━━━━━╇━━━━━━━━━━━━━━━┩\n",
       "│ lstm (\u001b[38;5;33mLSTM\u001b[0m)                     │ (\u001b[38;5;45mNone\u001b[0m, \u001b[38;5;34m50\u001b[0m)             │        \u001b[38;5;34m14,200\u001b[0m │\n",
       "├─────────────────────────────────┼────────────────────────┼───────────────┤\n",
       "│ dropout (\u001b[38;5;33mDropout\u001b[0m)               │ (\u001b[38;5;45mNone\u001b[0m, \u001b[38;5;34m50\u001b[0m)             │             \u001b[38;5;34m0\u001b[0m │\n",
       "├─────────────────────────────────┼────────────────────────┼───────────────┤\n",
       "│ dense (\u001b[38;5;33mDense\u001b[0m)                   │ (\u001b[38;5;45mNone\u001b[0m, \u001b[38;5;34m1\u001b[0m)              │            \u001b[38;5;34m51\u001b[0m │\n",
       "└─────────────────────────────────┴────────────────────────┴───────────────┘\n"
      ]
     },
     "metadata": {},
     "output_type": "display_data"
    },
    {
     "data": {
      "text/html": [
       "<pre style=\"white-space:pre;overflow-x:auto;line-height:normal;font-family:Menlo,'DejaVu Sans Mono',consolas,'Courier New',monospace\"><span style=\"font-weight: bold\"> Total params: </span><span style=\"color: #00af00; text-decoration-color: #00af00\">14,251</span> (55.67 KB)\n",
       "</pre>\n"
      ],
      "text/plain": [
       "\u001b[1m Total params: \u001b[0m\u001b[38;5;34m14,251\u001b[0m (55.67 KB)\n"
      ]
     },
     "metadata": {},
     "output_type": "display_data"
    },
    {
     "data": {
      "text/html": [
       "<pre style=\"white-space:pre;overflow-x:auto;line-height:normal;font-family:Menlo,'DejaVu Sans Mono',consolas,'Courier New',monospace\"><span style=\"font-weight: bold\"> Trainable params: </span><span style=\"color: #00af00; text-decoration-color: #00af00\">14,251</span> (55.67 KB)\n",
       "</pre>\n"
      ],
      "text/plain": [
       "\u001b[1m Trainable params: \u001b[0m\u001b[38;5;34m14,251\u001b[0m (55.67 KB)\n"
      ]
     },
     "metadata": {},
     "output_type": "display_data"
    },
    {
     "data": {
      "text/html": [
       "<pre style=\"white-space:pre;overflow-x:auto;line-height:normal;font-family:Menlo,'DejaVu Sans Mono',consolas,'Courier New',monospace\"><span style=\"font-weight: bold\"> Non-trainable params: </span><span style=\"color: #00af00; text-decoration-color: #00af00\">0</span> (0.00 B)\n",
       "</pre>\n"
      ],
      "text/plain": [
       "\u001b[1m Non-trainable params: \u001b[0m\u001b[38;5;34m0\u001b[0m (0.00 B)\n"
      ]
     },
     "metadata": {},
     "output_type": "display_data"
    }
   ],
   "source": [
    "model.summary()"
   ]
  },
  {
   "cell_type": "code",
   "execution_count": 40,
   "id": "21086beb",
   "metadata": {
    "execution": {
     "iopub.execute_input": "2024-10-03T07:44:31.848883Z",
     "iopub.status.busy": "2024-10-03T07:44:31.847751Z",
     "iopub.status.idle": "2024-10-03T07:44:31.864898Z",
     "shell.execute_reply": "2024-10-03T07:44:31.863631Z"
    },
    "id": "NE6_O7IwclkT",
    "papermill": {
     "duration": 0.045252,
     "end_time": "2024-10-03T07:44:31.867631",
     "exception": false,
     "start_time": "2024-10-03T07:44:31.822379",
     "status": "completed"
    },
    "tags": []
   },
   "outputs": [],
   "source": [
    "model.compile(loss='mean_squared_error', optimizer='adam')"
   ]
  },
  {
   "cell_type": "code",
   "execution_count": 41,
   "id": "0bcfab3e",
   "metadata": {
    "execution": {
     "iopub.execute_input": "2024-10-03T07:44:31.915299Z",
     "iopub.status.busy": "2024-10-03T07:44:31.914840Z",
     "iopub.status.idle": "2024-10-03T07:44:31.922033Z",
     "shell.execute_reply": "2024-10-03T07:44:31.920682Z"
    },
    "id": "JLqjYZudc3Is",
    "papermill": {
     "duration": 0.033951,
     "end_time": "2024-10-03T07:44:31.924571",
     "exception": false,
     "start_time": "2024-10-03T07:44:31.890620",
     "status": "completed"
    },
    "tags": []
   },
   "outputs": [],
   "source": [
    "callbacks = (EarlyStopping(monitor='val_loss', patience=10, verbose=1, mode='min'),\n",
    "            ModelCheckpoint(filepath='mymodel.keras', monitor='val_loss', mode='min',\n",
    "            save_best_only = True, save_weights_only = False, verbose = 1))"
   ]
  },
  {
   "cell_type": "code",
   "execution_count": 42,
   "id": "ae43b2dd",
   "metadata": {
    "execution": {
     "iopub.execute_input": "2024-10-03T07:44:31.973319Z",
     "iopub.status.busy": "2024-10-03T07:44:31.972887Z",
     "iopub.status.idle": "2024-10-03T07:44:40.493089Z",
     "shell.execute_reply": "2024-10-03T07:44:40.491895Z"
    },
    "id": "7Pv-Fb9FdSf7",
    "papermill": {
     "duration": 8.547507,
     "end_time": "2024-10-03T07:44:40.495677",
     "exception": false,
     "start_time": "2024-10-03T07:44:31.948170",
     "status": "completed"
    },
    "tags": []
   },
   "outputs": [
    {
     "name": "stdout",
     "output_type": "stream",
     "text": [
      "Epoch 1/100\n",
      "\u001b[1m78/96\u001b[0m \u001b[32m━━━━━━━━━━━━━━━━\u001b[0m\u001b[37m━━━━\u001b[0m \u001b[1m0s\u001b[0m 2ms/step - loss: 0.0029\n",
      "Epoch 1: val_loss improved from inf to 0.00398, saving model to mymodel.keras\n",
      "\u001b[1m96/96\u001b[0m \u001b[32m━━━━━━━━━━━━━━━━━━━━\u001b[0m\u001b[37m\u001b[0m \u001b[1m2s\u001b[0m 6ms/step - loss: 0.0036 - val_loss: 0.0040\n",
      "Epoch 2/100\n",
      "\u001b[1m74/96\u001b[0m \u001b[32m━━━━━━━━━━━━━━━\u001b[0m\u001b[37m━━━━━\u001b[0m \u001b[1m0s\u001b[0m 2ms/step - loss: 0.0038\n",
      "Epoch 2: val_loss improved from 0.00398 to 0.00332, saving model to mymodel.keras\n",
      "\u001b[1m96/96\u001b[0m \u001b[32m━━━━━━━━━━━━━━━━━━━━\u001b[0m\u001b[37m\u001b[0m \u001b[1m0s\u001b[0m 3ms/step - loss: 0.0041 - val_loss: 0.0033\n",
      "Epoch 3/100\n",
      "\u001b[1m75/96\u001b[0m \u001b[32m━━━━━━━━━━━━━━━\u001b[0m\u001b[37m━━━━━\u001b[0m \u001b[1m0s\u001b[0m 2ms/step - loss: 0.0023\n",
      "Epoch 3: val_loss improved from 0.00332 to 0.00289, saving model to mymodel.keras\n",
      "\u001b[1m96/96\u001b[0m \u001b[32m━━━━━━━━━━━━━━━━━━━━\u001b[0m\u001b[37m\u001b[0m \u001b[1m0s\u001b[0m 3ms/step - loss: 0.0027 - val_loss: 0.0029\n",
      "Epoch 4/100\n",
      "\u001b[1m94/96\u001b[0m \u001b[32m━━━━━━━━━━━━━━━━━━━\u001b[0m\u001b[37m━\u001b[0m \u001b[1m0s\u001b[0m 2ms/step - loss: 0.0021\n",
      "Epoch 4: val_loss did not improve from 0.00289\n",
      "\u001b[1m96/96\u001b[0m \u001b[32m━━━━━━━━━━━━━━━━━━━━\u001b[0m\u001b[37m\u001b[0m \u001b[1m0s\u001b[0m 3ms/step - loss: 0.0021 - val_loss: 0.0029\n",
      "Epoch 5/100\n",
      "\u001b[1m75/96\u001b[0m \u001b[32m━━━━━━━━━━━━━━━\u001b[0m\u001b[37m━━━━━\u001b[0m \u001b[1m0s\u001b[0m 2ms/step - loss: 9.7298e-04\n",
      "Epoch 5: val_loss did not improve from 0.00289\n",
      "\u001b[1m96/96\u001b[0m \u001b[32m━━━━━━━━━━━━━━━━━━━━\u001b[0m\u001b[37m\u001b[0m \u001b[1m0s\u001b[0m 3ms/step - loss: 0.0015 - val_loss: 0.0031\n",
      "Epoch 6/100\n",
      "\u001b[1m75/96\u001b[0m \u001b[32m━━━━━━━━━━━━━━━\u001b[0m\u001b[37m━━━━━\u001b[0m \u001b[1m0s\u001b[0m 2ms/step - loss: 0.0010    \n",
      "Epoch 6: val_loss improved from 0.00289 to 0.00278, saving model to mymodel.keras\n",
      "\u001b[1m96/96\u001b[0m \u001b[32m━━━━━━━━━━━━━━━━━━━━\u001b[0m\u001b[37m\u001b[0m \u001b[1m0s\u001b[0m 3ms/step - loss: 0.0015 - val_loss: 0.0028\n",
      "Epoch 7/100\n",
      "\u001b[1m73/96\u001b[0m \u001b[32m━━━━━━━━━━━━━━━\u001b[0m\u001b[37m━━━━━\u001b[0m \u001b[1m0s\u001b[0m 2ms/step - loss: 0.0011    \n",
      "Epoch 7: val_loss improved from 0.00278 to 0.00235, saving model to mymodel.keras\n",
      "\u001b[1m96/96\u001b[0m \u001b[32m━━━━━━━━━━━━━━━━━━━━\u001b[0m\u001b[37m\u001b[0m \u001b[1m0s\u001b[0m 3ms/step - loss: 0.0015 - val_loss: 0.0024\n",
      "Epoch 8/100\n",
      "\u001b[1m95/96\u001b[0m \u001b[32m━━━━━━━━━━━━━━━━━━━\u001b[0m\u001b[37m━\u001b[0m \u001b[1m0s\u001b[0m 2ms/step - loss: 0.0016\n",
      "Epoch 8: val_loss did not improve from 0.00235\n",
      "\u001b[1m96/96\u001b[0m \u001b[32m━━━━━━━━━━━━━━━━━━━━\u001b[0m\u001b[37m\u001b[0m \u001b[1m0s\u001b[0m 3ms/step - loss: 0.0016 - val_loss: 0.0024\n",
      "Epoch 9/100\n",
      "\u001b[1m74/96\u001b[0m \u001b[32m━━━━━━━━━━━━━━━\u001b[0m\u001b[37m━━━━━\u001b[0m \u001b[1m0s\u001b[0m 2ms/step - loss: 0.0010    \n",
      "Epoch 9: val_loss improved from 0.00235 to 0.00218, saving model to mymodel.keras\n",
      "\u001b[1m96/96\u001b[0m \u001b[32m━━━━━━━━━━━━━━━━━━━━\u001b[0m\u001b[37m\u001b[0m \u001b[1m0s\u001b[0m 3ms/step - loss: 0.0015 - val_loss: 0.0022\n",
      "Epoch 10/100\n",
      "\u001b[1m77/96\u001b[0m \u001b[32m━━━━━━━━━━━━━━━━\u001b[0m\u001b[37m━━━━\u001b[0m \u001b[1m0s\u001b[0m 2ms/step - loss: 0.0012    \n",
      "Epoch 10: val_loss did not improve from 0.00218\n",
      "\u001b[1m96/96\u001b[0m \u001b[32m━━━━━━━━━━━━━━━━━━━━\u001b[0m\u001b[37m\u001b[0m \u001b[1m0s\u001b[0m 3ms/step - loss: 0.0016 - val_loss: 0.0022\n",
      "Epoch 11/100\n",
      "\u001b[1m96/96\u001b[0m \u001b[32m━━━━━━━━━━━━━━━━━━━━\u001b[0m\u001b[37m\u001b[0m \u001b[1m0s\u001b[0m 2ms/step - loss: 0.0017\n",
      "Epoch 11: val_loss did not improve from 0.00218\n",
      "\u001b[1m96/96\u001b[0m \u001b[32m━━━━━━━━━━━━━━━━━━━━\u001b[0m\u001b[37m\u001b[0m \u001b[1m0s\u001b[0m 3ms/step - loss: 0.0017 - val_loss: 0.0022\n",
      "Epoch 12/100\n",
      "\u001b[1m74/96\u001b[0m \u001b[32m━━━━━━━━━━━━━━━\u001b[0m\u001b[37m━━━━━\u001b[0m \u001b[1m0s\u001b[0m 2ms/step - loss: 0.0013    \n",
      "Epoch 12: val_loss improved from 0.00218 to 0.00206, saving model to mymodel.keras\n",
      "\u001b[1m96/96\u001b[0m \u001b[32m━━━━━━━━━━━━━━━━━━━━\u001b[0m\u001b[37m\u001b[0m \u001b[1m0s\u001b[0m 3ms/step - loss: 0.0017 - val_loss: 0.0021\n",
      "Epoch 13/100\n",
      "\u001b[1m75/96\u001b[0m \u001b[32m━━━━━━━━━━━━━━━\u001b[0m\u001b[37m━━━━━\u001b[0m \u001b[1m0s\u001b[0m 2ms/step - loss: 0.0012    \n",
      "Epoch 13: val_loss did not improve from 0.00206\n",
      "\u001b[1m96/96\u001b[0m \u001b[32m━━━━━━━━━━━━━━━━━━━━\u001b[0m\u001b[37m\u001b[0m \u001b[1m0s\u001b[0m 3ms/step - loss: 0.0016 - val_loss: 0.0024\n",
      "Epoch 14/100\n",
      "\u001b[1m76/96\u001b[0m \u001b[32m━━━━━━━━━━━━━━━\u001b[0m\u001b[37m━━━━━\u001b[0m \u001b[1m0s\u001b[0m 2ms/step - loss: 0.0013    \n",
      "Epoch 14: val_loss did not improve from 0.00206\n",
      "\u001b[1m96/96\u001b[0m \u001b[32m━━━━━━━━━━━━━━━━━━━━\u001b[0m\u001b[37m\u001b[0m \u001b[1m0s\u001b[0m 3ms/step - loss: 0.0017 - val_loss: 0.0026\n",
      "Epoch 15/100\n",
      "\u001b[1m77/96\u001b[0m \u001b[32m━━━━━━━━━━━━━━━━\u001b[0m\u001b[37m━━━━\u001b[0m \u001b[1m0s\u001b[0m 2ms/step - loss: 0.0014\n",
      "Epoch 15: val_loss did not improve from 0.00206\n",
      "\u001b[1m96/96\u001b[0m \u001b[32m━━━━━━━━━━━━━━━━━━━━\u001b[0m\u001b[37m\u001b[0m \u001b[1m0s\u001b[0m 3ms/step - loss: 0.0018 - val_loss: 0.0027\n",
      "Epoch 16/100\n",
      "\u001b[1m77/96\u001b[0m \u001b[32m━━━━━━━━━━━━━━━━\u001b[0m\u001b[37m━━━━\u001b[0m \u001b[1m0s\u001b[0m 2ms/step - loss: 0.0014    \n",
      "Epoch 16: val_loss did not improve from 0.00206\n",
      "\u001b[1m96/96\u001b[0m \u001b[32m━━━━━━━━━━━━━━━━━━━━\u001b[0m\u001b[37m\u001b[0m \u001b[1m0s\u001b[0m 3ms/step - loss: 0.0018 - val_loss: 0.0022\n",
      "Epoch 17/100\n",
      "\u001b[1m80/96\u001b[0m \u001b[32m━━━━━━━━━━━━━━━━\u001b[0m\u001b[37m━━━━\u001b[0m \u001b[1m0s\u001b[0m 2ms/step - loss: 0.0012    \n",
      "Epoch 17: val_loss did not improve from 0.00206\n",
      "\u001b[1m96/96\u001b[0m \u001b[32m━━━━━━━━━━━━━━━━━━━━\u001b[0m\u001b[37m\u001b[0m \u001b[1m0s\u001b[0m 3ms/step - loss: 0.0016 - val_loss: 0.0029\n",
      "Epoch 18/100\n",
      "\u001b[1m78/96\u001b[0m \u001b[32m━━━━━━━━━━━━━━━━\u001b[0m\u001b[37m━━━━\u001b[0m \u001b[1m0s\u001b[0m 2ms/step - loss: 0.0014    \n",
      "Epoch 18: val_loss did not improve from 0.00206\n",
      "\u001b[1m96/96\u001b[0m \u001b[32m━━━━━━━━━━━━━━━━━━━━\u001b[0m\u001b[37m\u001b[0m \u001b[1m0s\u001b[0m 3ms/step - loss: 0.0019 - val_loss: 0.0055\n",
      "Epoch 19/100\n",
      "\u001b[1m76/96\u001b[0m \u001b[32m━━━━━━━━━━━━━━━\u001b[0m\u001b[37m━━━━━\u001b[0m \u001b[1m0s\u001b[0m 2ms/step - loss: 0.0019\n",
      "Epoch 19: val_loss did not improve from 0.00206\n",
      "\u001b[1m96/96\u001b[0m \u001b[32m━━━━━━━━━━━━━━━━━━━━\u001b[0m\u001b[37m\u001b[0m \u001b[1m0s\u001b[0m 3ms/step - loss: 0.0022 - val_loss: 0.0063\n",
      "Epoch 20/100\n",
      "\u001b[1m79/96\u001b[0m \u001b[32m━━━━━━━━━━━━━━━━\u001b[0m\u001b[37m━━━━\u001b[0m \u001b[1m0s\u001b[0m 2ms/step - loss: 0.0018\n",
      "Epoch 20: val_loss did not improve from 0.00206\n",
      "\u001b[1m96/96\u001b[0m \u001b[32m━━━━━━━━━━━━━━━━━━━━\u001b[0m\u001b[37m\u001b[0m \u001b[1m0s\u001b[0m 3ms/step - loss: 0.0022 - val_loss: 0.0092\n",
      "Epoch 21/100\n",
      "\u001b[1m80/96\u001b[0m \u001b[32m━━━━━━━━━━━━━━━━\u001b[0m\u001b[37m━━━━\u001b[0m \u001b[1m0s\u001b[0m 2ms/step - loss: 0.0018\n",
      "Epoch 21: val_loss did not improve from 0.00206\n",
      "\u001b[1m96/96\u001b[0m \u001b[32m━━━━━━━━━━━━━━━━━━━━\u001b[0m\u001b[37m\u001b[0m \u001b[1m0s\u001b[0m 3ms/step - loss: 0.0022 - val_loss: 0.0090\n",
      "Epoch 22/100\n",
      "\u001b[1m76/96\u001b[0m \u001b[32m━━━━━━━━━━━━━━━\u001b[0m\u001b[37m━━━━━\u001b[0m \u001b[1m0s\u001b[0m 2ms/step - loss: 0.0016\n",
      "Epoch 22: val_loss did not improve from 0.00206\n",
      "\u001b[1m96/96\u001b[0m \u001b[32m━━━━━━━━━━━━━━━━━━━━\u001b[0m\u001b[37m\u001b[0m \u001b[1m0s\u001b[0m 3ms/step - loss: 0.0021 - val_loss: 0.0102\n",
      "Epoch 22: early stopping\n"
     ]
    }
   ],
   "source": [
    "history = model.fit(x=X_train,\n",
    "                    y=y_train,\n",
    "                    epochs=100,\n",
    "                    batch_size=20,\n",
    "                    validation_data=(X_test, y_test),\n",
    "                    callbacks=[callbacks],\n",
    "                    shuffle=False)"
   ]
  },
  {
   "cell_type": "code",
   "execution_count": 43,
   "id": "c79088dd",
   "metadata": {
    "execution": {
     "iopub.execute_input": "2024-10-03T07:44:40.574500Z",
     "iopub.status.busy": "2024-10-03T07:44:40.574026Z",
     "iopub.status.idle": "2024-10-03T07:44:40.839916Z",
     "shell.execute_reply": "2024-10-03T07:44:40.838740Z"
    },
    "id": "VzxR8n1yeGpV",
    "papermill": {
     "duration": 0.308217,
     "end_time": "2024-10-03T07:44:40.842762",
     "exception": false,
     "start_time": "2024-10-03T07:44:40.534545",
     "status": "completed"
    },
    "tags": []
   },
   "outputs": [
    {
     "data": {
      "image/png": "[encoded data removed]",
      "text/plain": [
       "<Figure size 2000x500 with 1 Axes>"
      ]
     },
     "metadata": {},
     "output_type": "display_data"
    }
   ],
   "source": [
    "plt.figure(figsize=(20,5))\n",
    "plt.subplot(1,2,1)\n",
    "plt.plot(history.history['loss'], label='Training Loss')\n",
    "plt.plot(history.history['val_loss'], label='Validation Loss')\n",
    "plt.legend(loc='upper right')\n",
    "plt.xlabel('Epoch', fontsize = 16)\n",
    "plt.ylabel('Loss', fontsize = 16)\n",
    "plt.ylim([0,max(plt.ylim())])\n",
    "plt.title('Training and Validation Loss', fontsize = 16)\n",
    "plt.show()"
   ]
  },
  {
   "cell_type": "markdown",
   "id": "1890940d",
   "metadata": {
    "id": "XO0NGWQWerLU",
    "papermill": {
     "duration": 0.038129,
     "end_time": "2024-10-03T07:44:40.919784",
     "exception": false,
     "start_time": "2024-10-03T07:44:40.881655",
     "status": "completed"
    },
    "tags": []
   },
   "source": [
    "## Evaluation"
   ]
  },
  {
   "cell_type": "code",
   "execution_count": 44,
   "id": "861a35f6",
   "metadata": {
    "execution": {
     "iopub.execute_input": "2024-10-03T07:44:40.998581Z",
     "iopub.status.busy": "2024-10-03T07:44:40.998135Z",
     "iopub.status.idle": "2024-10-03T07:44:41.628143Z",
     "shell.execute_reply": "2024-10-03T07:44:41.626719Z"
    },
    "id": "hyeoNUjxetH-",
    "papermill": {
     "duration": 0.672385,
     "end_time": "2024-10-03T07:44:41.630688",
     "exception": false,
     "start_time": "2024-10-03T07:44:40.958303",
     "status": "completed"
    },
    "tags": []
   },
   "outputs": [
    {
     "name": "stdout",
     "output_type": "stream",
     "text": [
      "\u001b[1m463/463\u001b[0m \u001b[32m━━━━━━━━━━━━━━━━━━━━\u001b[0m\u001b[37m\u001b[0m \u001b[1m1s\u001b[0m 1ms/step - loss: 0.0119\n",
      "\n",
      "Test Loss: 1.0%\n"
     ]
    }
   ],
   "source": [
    "loss = model.evaluate(X_test, y_test, batch_size=1)\n",
    "print(\"\\nTest Loss: %.1f%%\" % (100.0 * loss))"
   ]
  },
  {
   "cell_type": "code",
   "execution_count": 45,
   "id": "57ff3ecc",
   "metadata": {
    "execution": {
     "iopub.execute_input": "2024-10-03T07:44:41.713265Z",
     "iopub.status.busy": "2024-10-03T07:44:41.712813Z",
     "iopub.status.idle": "2024-10-03T07:44:42.212095Z",
     "shell.execute_reply": "2024-10-03T07:44:42.210986Z"
    },
    "id": "9e854j_NfFTV",
    "papermill": {
     "duration": 0.5444,
     "end_time": "2024-10-03T07:44:42.214924",
     "exception": false,
     "start_time": "2024-10-03T07:44:41.670524",
     "status": "completed"
    },
    "tags": []
   },
   "outputs": [
    {
     "name": "stdout",
     "output_type": "stream",
     "text": [
      "\u001b[1m60/60\u001b[0m \u001b[32m━━━━━━━━━━━━━━━━━━━━\u001b[0m\u001b[37m\u001b[0m \u001b[1m0s\u001b[0m 4ms/step\n"
     ]
    }
   ],
   "source": [
    "train_predict = model.predict(X_train)"
   ]
  },
  {
   "cell_type": "code",
   "execution_count": 46,
   "id": "8853ea33",
   "metadata": {
    "execution": {
     "iopub.execute_input": "2024-10-03T07:44:42.297403Z",
     "iopub.status.busy": "2024-10-03T07:44:42.296948Z",
     "iopub.status.idle": "2024-10-03T07:44:42.404073Z",
     "shell.execute_reply": "2024-10-03T07:44:42.402890Z"
    },
    "id": "GZgJuMd-fqZW",
    "papermill": {
     "duration": 0.151364,
     "end_time": "2024-10-03T07:44:42.406783",
     "exception": false,
     "start_time": "2024-10-03T07:44:42.255419",
     "status": "completed"
    },
    "tags": []
   },
   "outputs": [
    {
     "name": "stdout",
     "output_type": "stream",
     "text": [
      "\u001b[1m15/15\u001b[0m \u001b[32m━━━━━━━━━━━━━━━━━━━━\u001b[0m\u001b[37m\u001b[0m \u001b[1m0s\u001b[0m 2ms/step \n"
     ]
    }
   ],
   "source": [
    "test_predict = model.predict(X_test)"
   ]
  },
  {
   "cell_type": "code",
   "execution_count": 47,
   "id": "ad54cbe4",
   "metadata": {
    "execution": {
     "iopub.execute_input": "2024-10-03T07:44:42.488540Z",
     "iopub.status.busy": "2024-10-03T07:44:42.488060Z",
     "iopub.status.idle": "2024-10-03T07:44:42.494145Z",
     "shell.execute_reply": "2024-10-03T07:44:42.492920Z"
    },
    "id": "FcH_8U3tfsGm",
    "papermill": {
     "duration": 0.049906,
     "end_time": "2024-10-03T07:44:42.496657",
     "exception": false,
     "start_time": "2024-10-03T07:44:42.446751",
     "status": "completed"
    },
    "tags": []
   },
   "outputs": [],
   "source": [
    "train_predict = scaler_train.inverse_transform(train_predict)\n",
    "test_predict = scaler_test.inverse_transform(test_predict)"
   ]
  },
  {
   "cell_type": "code",
   "execution_count": 48,
   "id": "528f03fd",
   "metadata": {
    "execution": {
     "iopub.execute_input": "2024-10-03T07:44:42.579378Z",
     "iopub.status.busy": "2024-10-03T07:44:42.578931Z",
     "iopub.status.idle": "2024-10-03T07:44:42.584902Z",
     "shell.execute_reply": "2024-10-03T07:44:42.583665Z"
    },
    "id": "DsGDu-NKf912",
    "papermill": {
     "duration": 0.050106,
     "end_time": "2024-10-03T07:44:42.587575",
     "exception": false,
     "start_time": "2024-10-03T07:44:42.537469",
     "status": "completed"
    },
    "tags": []
   },
   "outputs": [],
   "source": [
    "y_train = scaler_train.inverse_transform(y_train)\n",
    "y_test = scaler_test.inverse_transform(y_test)"
   ]
  },
  {
   "cell_type": "code",
   "execution_count": 49,
   "id": "5d91fa32",
   "metadata": {
    "execution": {
     "iopub.execute_input": "2024-10-03T07:44:42.670429Z",
     "iopub.status.busy": "2024-10-03T07:44:42.669989Z",
     "iopub.status.idle": "2024-10-03T07:44:42.676466Z",
     "shell.execute_reply": "2024-10-03T07:44:42.675297Z"
    },
    "id": "ZLXqwAU7gGW2",
    "papermill": {
     "duration": 0.050641,
     "end_time": "2024-10-03T07:44:42.678860",
     "exception": false,
     "start_time": "2024-10-03T07:44:42.628219",
     "status": "completed"
    },
    "tags": []
   },
   "outputs": [],
   "source": [
    "train_rmse = np.sqrt(mean_squared_error(y_train, train_predict))"
   ]
  },
  {
   "cell_type": "code",
   "execution_count": 50,
   "id": "c5f3bac5",
   "metadata": {
    "execution": {
     "iopub.execute_input": "2024-10-03T07:44:42.760617Z",
     "iopub.status.busy": "2024-10-03T07:44:42.760184Z",
     "iopub.status.idle": "2024-10-03T07:44:42.766300Z",
     "shell.execute_reply": "2024-10-03T07:44:42.765197Z"
    },
    "id": "76WbnJaIgJ4g",
    "papermill": {
     "duration": 0.049756,
     "end_time": "2024-10-03T07:44:42.768780",
     "exception": false,
     "start_time": "2024-10-03T07:44:42.719024",
     "status": "completed"
    },
    "tags": []
   },
   "outputs": [],
   "source": [
    "test_rmse = np.sqrt(mean_squared_error(y_test, test_predict))"
   ]
  },
  {
   "cell_type": "code",
   "execution_count": 51,
   "id": "854fa6d6",
   "metadata": {
    "execution": {
     "iopub.execute_input": "2024-10-03T07:44:42.851116Z",
     "iopub.status.busy": "2024-10-03T07:44:42.850646Z",
     "iopub.status.idle": "2024-10-03T07:44:42.856835Z",
     "shell.execute_reply": "2024-10-03T07:44:42.855560Z"
    },
    "id": "WcUBQBz7gMV2",
    "papermill": {
     "duration": 0.050547,
     "end_time": "2024-10-03T07:44:42.859595",
     "exception": false,
     "start_time": "2024-10-03T07:44:42.809048",
     "status": "completed"
    },
    "tags": []
   },
   "outputs": [
    {
     "name": "stdout",
     "output_type": "stream",
     "text": [
      "Train RMSE: 34.80411911010742\n",
      "Test RMSE: 60.68844223022461\n"
     ]
    }
   ],
   "source": [
    "print(f\"Train RMSE: {train_rmse}\")\n",
    "print(f\"Test RMSE: {test_rmse}\")"
   ]
  },
  {
   "cell_type": "code",
   "execution_count": 52,
   "id": "9283bc28",
   "metadata": {
    "execution": {
     "iopub.execute_input": "2024-10-03T07:44:42.942067Z",
     "iopub.status.busy": "2024-10-03T07:44:42.941608Z",
     "iopub.status.idle": "2024-10-03T07:44:42.978442Z",
     "shell.execute_reply": "2024-10-03T07:44:42.977370Z"
    },
    "id": "t_llof9mgYz_",
    "papermill": {
     "duration": 0.08087,
     "end_time": "2024-10-03T07:44:42.981012",
     "exception": false,
     "start_time": "2024-10-03T07:44:42.900142",
     "status": "completed"
    },
    "tags": []
   },
   "outputs": [
    {
     "data": {
      "text/html": [
       "<div>\n",
       "<style scoped>\n",
       "    .dataframe tbody tr th:only-of-type {\n",
       "        vertical-align: middle;\n",
       "    }\n",
       "\n",
       "    .dataframe tbody tr th {\n",
       "        vertical-align: top;\n",
       "    }\n",
       "\n",
       "    .dataframe thead th {\n",
       "        text-align: right;\n",
       "    }\n",
       "</style>\n",
       "<table border=\"1\" class=\"dataframe\">\n",
       "  <thead>\n",
       "    <tr style=\"text-align: right;\">\n",
       "      <th></th>\n",
       "      <th>count</th>\n",
       "      <th>mean</th>\n",
       "      <th>min</th>\n",
       "      <th>25%</th>\n",
       "      <th>50%</th>\n",
       "      <th>75%</th>\n",
       "      <th>max</th>\n",
       "      <th>std</th>\n",
       "    </tr>\n",
       "  </thead>\n",
       "  <tbody>\n",
       "    <tr>\n",
       "      <th>Date</th>\n",
       "      <td>2416</td>\n",
       "      <td>2015-04-15 11:09:56.026490112</td>\n",
       "      <td>2010-06-29 00:00:00</td>\n",
       "      <td>2012-11-19 18:00:00</td>\n",
       "      <td>2015-04-16 12:00:00</td>\n",
       "      <td>2017-09-07 06:00:00</td>\n",
       "      <td>2020-02-03 00:00:00</td>\n",
       "      <td>NaN</td>\n",
       "    </tr>\n",
       "    <tr>\n",
       "      <th>Open</th>\n",
       "      <td>2416.0</td>\n",
       "      <td>186.271147</td>\n",
       "      <td>16.139999</td>\n",
       "      <td>34.342498</td>\n",
       "      <td>213.035004</td>\n",
       "      <td>266.450012</td>\n",
       "      <td>673.690002</td>\n",
       "      <td>118.740163</td>\n",
       "    </tr>\n",
       "    <tr>\n",
       "      <th>High</th>\n",
       "      <td>2416.0</td>\n",
       "      <td>189.578224</td>\n",
       "      <td>16.629999</td>\n",
       "      <td>34.897501</td>\n",
       "      <td>216.745002</td>\n",
       "      <td>270.927513</td>\n",
       "      <td>786.140015</td>\n",
       "      <td>120.892329</td>\n",
       "    </tr>\n",
       "    <tr>\n",
       "      <th>Low</th>\n",
       "      <td>2416.0</td>\n",
       "      <td>182.916639</td>\n",
       "      <td>14.98</td>\n",
       "      <td>33.587501</td>\n",
       "      <td>208.870002</td>\n",
       "      <td>262.102501</td>\n",
       "      <td>673.52002</td>\n",
       "      <td>116.857591</td>\n",
       "    </tr>\n",
       "    <tr>\n",
       "      <th>Close</th>\n",
       "      <td>2416.0</td>\n",
       "      <td>186.403651</td>\n",
       "      <td>15.8</td>\n",
       "      <td>34.400002</td>\n",
       "      <td>212.960007</td>\n",
       "      <td>266.774994</td>\n",
       "      <td>780.0</td>\n",
       "      <td>119.13602</td>\n",
       "    </tr>\n",
       "    <tr>\n",
       "      <th>Adj Close</th>\n",
       "      <td>2416.0</td>\n",
       "      <td>186.403651</td>\n",
       "      <td>15.8</td>\n",
       "      <td>34.400002</td>\n",
       "      <td>212.960007</td>\n",
       "      <td>266.774994</td>\n",
       "      <td>780.0</td>\n",
       "      <td>119.13602</td>\n",
       "    </tr>\n",
       "    <tr>\n",
       "      <th>Volume</th>\n",
       "      <td>2416.0</td>\n",
       "      <td>5572721.688742</td>\n",
       "      <td>118500.0</td>\n",
       "      <td>1899275.0</td>\n",
       "      <td>4578400.0</td>\n",
       "      <td>7361150.0</td>\n",
       "      <td>47065000.0</td>\n",
       "      <td>4987809.151888</td>\n",
       "    </tr>\n",
       "  </tbody>\n",
       "</table>\n",
       "</div>"
      ],
      "text/plain": [
       "            count                           mean                  min  \\\n",
       "Date         2416  2015-04-15 11:09:56.026490112  2010-06-29 00:00:00   \n",
       "Open       2416.0                     186.271147            16.139999   \n",
       "High       2416.0                     189.578224            16.629999   \n",
       "Low        2416.0                     182.916639                14.98   \n",
       "Close      2416.0                     186.403651                 15.8   \n",
       "Adj Close  2416.0                     186.403651                 15.8   \n",
       "Volume     2416.0                 5572721.688742             118500.0   \n",
       "\n",
       "                           25%                  50%                  75%  \\\n",
       "Date       2012-11-19 18:00:00  2015-04-16 12:00:00  2017-09-07 06:00:00   \n",
       "Open                 34.342498           213.035004           266.450012   \n",
       "High                 34.897501           216.745002           270.927513   \n",
       "Low                  33.587501           208.870002           262.102501   \n",
       "Close                34.400002           212.960007           266.774994   \n",
       "Adj Close            34.400002           212.960007           266.774994   \n",
       "Volume               1899275.0            4578400.0            7361150.0   \n",
       "\n",
       "                           max             std  \n",
       "Date       2020-02-03 00:00:00             NaN  \n",
       "Open                673.690002      118.740163  \n",
       "High                786.140015      120.892329  \n",
       "Low                  673.52002      116.857591  \n",
       "Close                    780.0       119.13602  \n",
       "Adj Close                780.0       119.13602  \n",
       "Volume              47065000.0  4987809.151888  "
      ]
     },
     "execution_count": 52,
     "metadata": {},
     "output_type": "execute_result"
    }
   ],
   "source": [
    "df.describe().T"
   ]
  },
  {
   "cell_type": "code",
   "execution_count": 53,
   "id": "74b9ddea",
   "metadata": {
    "execution": {
     "iopub.execute_input": "2024-10-03T07:44:43.064387Z",
     "iopub.status.busy": "2024-10-03T07:44:43.063527Z",
     "iopub.status.idle": "2024-10-03T07:44:43.076369Z",
     "shell.execute_reply": "2024-10-03T07:44:43.075150Z"
    },
    "id": "-PSGVpMzgz1O",
    "papermill": {
     "duration": 0.057377,
     "end_time": "2024-10-03T07:44:43.078757",
     "exception": false,
     "start_time": "2024-10-03T07:44:43.021380",
     "status": "completed"
    },
    "tags": []
   },
   "outputs": [
    {
     "data": {
      "text/html": [
       "<div>\n",
       "<style scoped>\n",
       "    .dataframe tbody tr th:only-of-type {\n",
       "        vertical-align: middle;\n",
       "    }\n",
       "\n",
       "    .dataframe tbody tr th {\n",
       "        vertical-align: top;\n",
       "    }\n",
       "\n",
       "    .dataframe thead th {\n",
       "        text-align: right;\n",
       "    }\n",
       "</style>\n",
       "<table border=\"1\" class=\"dataframe\">\n",
       "  <thead>\n",
       "    <tr style=\"text-align: right;\">\n",
       "      <th></th>\n",
       "      <th>Close</th>\n",
       "      <th>Predicted</th>\n",
       "    </tr>\n",
       "    <tr>\n",
       "      <th>Date</th>\n",
       "      <th></th>\n",
       "      <th></th>\n",
       "    </tr>\n",
       "  </thead>\n",
       "  <tbody>\n",
       "    <tr>\n",
       "      <th>2010-07-28</th>\n",
       "      <td>20.719999</td>\n",
       "      <td>38.735985</td>\n",
       "    </tr>\n",
       "    <tr>\n",
       "      <th>2010-07-29</th>\n",
       "      <td>20.350000</td>\n",
       "      <td>38.730824</td>\n",
       "    </tr>\n",
       "    <tr>\n",
       "      <th>2010-07-30</th>\n",
       "      <td>19.940001</td>\n",
       "      <td>38.714779</td>\n",
       "    </tr>\n",
       "    <tr>\n",
       "      <th>2010-08-02</th>\n",
       "      <td>20.920000</td>\n",
       "      <td>38.702560</td>\n",
       "    </tr>\n",
       "    <tr>\n",
       "      <th>2010-08-03</th>\n",
       "      <td>21.950001</td>\n",
       "      <td>38.702560</td>\n",
       "    </tr>\n",
       "  </tbody>\n",
       "</table>\n",
       "</div>"
      ],
      "text/plain": [
       "                Close  Predicted\n",
       "Date                            \n",
       "2010-07-28  20.719999  38.735985\n",
       "2010-07-29  20.350000  38.730824\n",
       "2010-07-30  19.940001  38.714779\n",
       "2010-08-02  20.920000  38.702560\n",
       "2010-08-03  21.950001  38.702560"
      ]
     },
     "execution_count": 53,
     "metadata": {},
     "output_type": "execute_result"
    }
   ],
   "source": [
    "train_prediction_df = result_df[lookback:position]\n",
    "train_prediction_df[\"Predicted\"] = train_predict\n",
    "train_prediction_df.head()"
   ]
  },
  {
   "cell_type": "code",
   "execution_count": 54,
   "id": "15bd9a5c",
   "metadata": {
    "execution": {
     "iopub.execute_input": "2024-10-03T07:44:43.162289Z",
     "iopub.status.busy": "2024-10-03T07:44:43.161872Z",
     "iopub.status.idle": "2024-10-03T07:44:43.174961Z",
     "shell.execute_reply": "2024-10-03T07:44:43.173683Z"
    },
    "id": "o7tRAXwOhMSA",
    "papermill": {
     "duration": 0.057698,
     "end_time": "2024-10-03T07:44:43.177481",
     "exception": false,
     "start_time": "2024-10-03T07:44:43.119783",
     "status": "completed"
    },
    "tags": []
   },
   "outputs": [
    {
     "data": {
      "text/html": [
       "<div>\n",
       "<style scoped>\n",
       "    .dataframe tbody tr th:only-of-type {\n",
       "        vertical-align: middle;\n",
       "    }\n",
       "\n",
       "    .dataframe tbody tr th {\n",
       "        vertical-align: top;\n",
       "    }\n",
       "\n",
       "    .dataframe thead th {\n",
       "        text-align: right;\n",
       "    }\n",
       "</style>\n",
       "<table border=\"1\" class=\"dataframe\">\n",
       "  <thead>\n",
       "    <tr style=\"text-align: right;\">\n",
       "      <th></th>\n",
       "      <th>Close</th>\n",
       "      <th>Predicted</th>\n",
       "    </tr>\n",
       "    <tr>\n",
       "      <th>Date</th>\n",
       "      <th></th>\n",
       "      <th></th>\n",
       "    </tr>\n",
       "  </thead>\n",
       "  <tbody>\n",
       "    <tr>\n",
       "      <th>2018-04-03</th>\n",
       "      <td>267.529999</td>\n",
       "      <td>353.108582</td>\n",
       "    </tr>\n",
       "    <tr>\n",
       "      <th>2018-04-04</th>\n",
       "      <td>286.940002</td>\n",
       "      <td>348.460327</td>\n",
       "    </tr>\n",
       "    <tr>\n",
       "      <th>2018-04-05</th>\n",
       "      <td>305.720001</td>\n",
       "      <td>349.587189</td>\n",
       "    </tr>\n",
       "    <tr>\n",
       "      <th>2018-04-06</th>\n",
       "      <td>299.299988</td>\n",
       "      <td>352.566925</td>\n",
       "    </tr>\n",
       "    <tr>\n",
       "      <th>2018-04-09</th>\n",
       "      <td>289.660004</td>\n",
       "      <td>353.407715</td>\n",
       "    </tr>\n",
       "  </tbody>\n",
       "</table>\n",
       "</div>"
      ],
      "text/plain": [
       "                 Close   Predicted\n",
       "Date                              \n",
       "2018-04-03  267.529999  353.108582\n",
       "2018-04-04  286.940002  348.460327\n",
       "2018-04-05  305.720001  349.587189\n",
       "2018-04-06  299.299988  352.566925\n",
       "2018-04-09  289.660004  353.407715"
      ]
     },
     "execution_count": 54,
     "metadata": {},
     "output_type": "execute_result"
    }
   ],
   "source": [
    "test_prediction_df = result_df[position+lookback:]\n",
    "test_prediction_df[\"Predicted\"] = test_predict\n",
    "test_prediction_df.head()"
   ]
  },
  {
   "cell_type": "code",
   "execution_count": 55,
   "id": "80204f48",
   "metadata": {
    "execution": {
     "iopub.execute_input": "2024-10-03T07:44:43.261187Z",
     "iopub.status.busy": "2024-10-03T07:44:43.260696Z",
     "iopub.status.idle": "2024-10-03T07:44:43.730407Z",
     "shell.execute_reply": "2024-10-03T07:44:43.729113Z"
    },
    "id": "PJ_-znSchYO_",
    "papermill": {
     "duration": 0.514874,
     "end_time": "2024-10-03T07:44:43.733307",
     "exception": false,
     "start_time": "2024-10-03T07:44:43.218433",
     "status": "completed"
    },
    "tags": []
   },
   "outputs": [
    {
     "data": {
      "image/png": "[encoded data removed]",
      "text/plain": [
       "<Figure size 1400x500 with 1 Axes>"
      ]
     },
     "metadata": {},
     "output_type": "display_data"
    }
   ],
   "source": [
    "plt.figure(figsize=(14,5))\n",
    "plt.plot(result_df, label = \"Real Number of Passengers\")\n",
    "plt.plot(train_prediction_df[\"Predicted\"], color = 'blue', label = \"Train Predicted Number of Passengers\")\n",
    "plt.plot(test_prediction_df[\"Predicted\"],color = 'red', label = \"Test Predicted Number of Passengers\")\n",
    "plt.title(\"Number of Passengers Prediction\")\n",
    "plt.xlabel(\"Time\")\n",
    "plt.ylabel(\"Number of Passengers\")\n",
    "plt.legend()\n",
    "plt.show()"
   ]
  }
 ],
 "metadata": {
  "colab": {
   "provenance": []
  },
  "kaggle": {
   "accelerator": "none",
   "dataSources": [
    {
     "datasetId": 500872,
     "sourceId": 927894,
     "sourceType": "datasetVersion"
    }
   ],
   "dockerImageVersionId": 30761,
   "isGpuEnabled": false,
   "isInternetEnabled": true,
   "language": "python",
   "sourceType": "notebook"
  },
  "kernelspec": {
   "display_name": "Python 3",
   "language": "python",
   "name": "python3"
  },
  "language_info": {
   "codemirror_mode": {
    "name": "ipython",
    "version": 3
   },
   "file_extension": ".py",
   "mimetype": "text/x-python",
   "name": "python",
   "nbconvert_exporter": "python",
   "pygments_lexer": "ipython3",
   "version": "3.10.14"
  },
  "papermill": {
   "default_parameters": {},
   "duration": 37.955947,
   "end_time": "2024-10-03T07:44:46.161241",
   "environment_variables": {},
   "exception": null,
   "input_path": "__notebook__.ipynb",
   "output_path": "__notebook__.ipynb",
   "parameters": {},
   "start_time": "2024-10-03T07:44:08.205294",
   "version": "2.6.0"
  }
 },
 "nbformat": 4,
 "nbformat_minor": 5
}
