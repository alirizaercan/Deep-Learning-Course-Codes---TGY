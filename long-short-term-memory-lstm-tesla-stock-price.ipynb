{
 "cells": [
  {
   "cell_type": "markdown",
   "id": "e4bfd46f",
   "metadata": {
    "id": "4unSJJjsT8BM",
    "papermill": {
     "duration": 0.013197,
     "end_time": "2024-09-30T07:13:24.307876",
     "exception": false,
     "start_time": "2024-09-30T07:13:24.294679",
     "status": "completed"
    },
    "tags": []
   },
   "source": [
    "# Tesla - Stock Price Prediction\n",
    "\n",
    "---\n",
    "\n"
   ]
  },
  {
   "cell_type": "markdown",
   "id": "9282e0e7",
   "metadata": {
    "id": "wkRLJL2XUAfT",
    "papermill": {
     "duration": 0.012834,
     "end_time": "2024-09-30T07:13:24.333368",
     "exception": false,
     "start_time": "2024-09-30T07:13:24.320534",
     "status": "completed"
    },
    "tags": []
   },
   "source": [
    "## Business Problem\n",
    "\n",
    "In this notebook, our purpose is to predict of tesla - stock price."
   ]
  },
  {
   "cell_type": "markdown",
   "id": "63fa38a7",
   "metadata": {
    "id": "0uxjphZsUwjz",
    "papermill": {
     "duration": 0.012335,
     "end_time": "2024-09-30T07:13:24.358348",
     "exception": false,
     "start_time": "2024-09-30T07:13:24.346013",
     "status": "completed"
    },
    "tags": []
   },
   "source": [
    "## Data Understanding"
   ]
  },
  {
   "cell_type": "code",
   "execution_count": 1,
   "id": "cd81436d",
   "metadata": {
    "execution": {
     "iopub.execute_input": "2024-09-30T07:13:24.384800Z",
     "iopub.status.busy": "2024-09-30T07:13:24.384389Z",
     "iopub.status.idle": "2024-09-30T07:13:40.132783Z",
     "shell.execute_reply": "2024-09-30T07:13:40.131723Z"
    },
    "id": "40IR65rQUyWC",
    "outputId": "4562368d-970e-4fd6-b03e-be036efe4dcd",
    "papermill": {
     "duration": 15.764495,
     "end_time": "2024-09-30T07:13:40.135246",
     "exception": false,
     "start_time": "2024-09-30T07:13:24.370751",
     "status": "completed"
    },
    "tags": []
   },
   "outputs": [],
   "source": [
    "import numpy as np\n",
    "import pandas as pd\n",
    "import datetime as dt\n",
    "import tensorflow as tf\n",
    "import matplotlib.pyplot as plt\n",
    "\n",
    "from sklearn.preprocessing import MinMaxScaler\n",
    "from sklearn.metrics import mean_squared_error\n",
    "\n",
    "from tensorflow.keras.models import Sequential\n",
    "from tensorflow.keras.layers import Dense, LSTM, Dropout\n",
    "from tensorflow.keras.callbacks import ModelCheckpoint, EarlyStopping\n",
    "\n",
    "import warnings\n",
    "warnings.filterwarnings('ignore')\n",
    "\n",
    "import os\n",
    "os.environ['TF_CPP_MIN_LOG_LEVEL'] = '3'\n",
    "tf.compat.v1.logging.set_verbosity(tf.compat.v1.logging.ERROR)"
   ]
  },
  {
   "cell_type": "code",
   "execution_count": 2,
   "id": "1905e040",
   "metadata": {
    "execution": {
     "iopub.execute_input": "2024-09-30T07:13:40.162402Z",
     "iopub.status.busy": "2024-09-30T07:13:40.161722Z",
     "iopub.status.idle": "2024-09-30T07:13:40.214467Z",
     "shell.execute_reply": "2024-09-30T07:13:40.213291Z"
    },
    "id": "-be5_efvVpTV",
    "papermill": {
     "duration": 0.068907,
     "end_time": "2024-09-30T07:13:40.216802",
     "exception": false,
     "start_time": "2024-09-30T07:13:40.147895",
     "status": "completed"
    },
    "tags": []
   },
   "outputs": [
    {
     "data": {
      "text/html": [
       "<div>\n",
       "<style scoped>\n",
       "    .dataframe tbody tr th:only-of-type {\n",
       "        vertical-align: middle;\n",
       "    }\n",
       "\n",
       "    .dataframe tbody tr th {\n",
       "        vertical-align: top;\n",
       "    }\n",
       "\n",
       "    .dataframe thead th {\n",
       "        text-align: right;\n",
       "    }\n",
       "</style>\n",
       "<table border=\"1\" class=\"dataframe\">\n",
       "  <thead>\n",
       "    <tr style=\"text-align: right;\">\n",
       "      <th></th>\n",
       "      <th>Date</th>\n",
       "      <th>Open</th>\n",
       "      <th>High</th>\n",
       "      <th>Low</th>\n",
       "      <th>Close</th>\n",
       "      <th>Adj Close</th>\n",
       "      <th>Volume</th>\n",
       "    </tr>\n",
       "  </thead>\n",
       "  <tbody>\n",
       "    <tr>\n",
       "      <th>0</th>\n",
       "      <td>2010-06-29</td>\n",
       "      <td>19.000000</td>\n",
       "      <td>25.000000</td>\n",
       "      <td>17.540001</td>\n",
       "      <td>23.889999</td>\n",
       "      <td>23.889999</td>\n",
       "      <td>18766300</td>\n",
       "    </tr>\n",
       "    <tr>\n",
       "      <th>1</th>\n",
       "      <td>2010-06-30</td>\n",
       "      <td>25.790001</td>\n",
       "      <td>30.420000</td>\n",
       "      <td>23.299999</td>\n",
       "      <td>23.830000</td>\n",
       "      <td>23.830000</td>\n",
       "      <td>17187100</td>\n",
       "    </tr>\n",
       "    <tr>\n",
       "      <th>2</th>\n",
       "      <td>2010-07-01</td>\n",
       "      <td>25.000000</td>\n",
       "      <td>25.920000</td>\n",
       "      <td>20.270000</td>\n",
       "      <td>21.959999</td>\n",
       "      <td>21.959999</td>\n",
       "      <td>8218800</td>\n",
       "    </tr>\n",
       "    <tr>\n",
       "      <th>3</th>\n",
       "      <td>2010-07-02</td>\n",
       "      <td>23.000000</td>\n",
       "      <td>23.100000</td>\n",
       "      <td>18.709999</td>\n",
       "      <td>19.200001</td>\n",
       "      <td>19.200001</td>\n",
       "      <td>5139800</td>\n",
       "    </tr>\n",
       "    <tr>\n",
       "      <th>4</th>\n",
       "      <td>2010-07-06</td>\n",
       "      <td>20.000000</td>\n",
       "      <td>20.000000</td>\n",
       "      <td>15.830000</td>\n",
       "      <td>16.110001</td>\n",
       "      <td>16.110001</td>\n",
       "      <td>6866900</td>\n",
       "    </tr>\n",
       "    <tr>\n",
       "      <th>...</th>\n",
       "      <td>...</td>\n",
       "      <td>...</td>\n",
       "      <td>...</td>\n",
       "      <td>...</td>\n",
       "      <td>...</td>\n",
       "      <td>...</td>\n",
       "      <td>...</td>\n",
       "    </tr>\n",
       "    <tr>\n",
       "      <th>2411</th>\n",
       "      <td>2020-01-28</td>\n",
       "      <td>568.489990</td>\n",
       "      <td>576.809998</td>\n",
       "      <td>558.080017</td>\n",
       "      <td>566.900024</td>\n",
       "      <td>566.900024</td>\n",
       "      <td>11788500</td>\n",
       "    </tr>\n",
       "    <tr>\n",
       "      <th>2412</th>\n",
       "      <td>2020-01-29</td>\n",
       "      <td>575.690002</td>\n",
       "      <td>589.799988</td>\n",
       "      <td>567.429993</td>\n",
       "      <td>580.989990</td>\n",
       "      <td>580.989990</td>\n",
       "      <td>17801500</td>\n",
       "    </tr>\n",
       "    <tr>\n",
       "      <th>2413</th>\n",
       "      <td>2020-01-30</td>\n",
       "      <td>632.419983</td>\n",
       "      <td>650.880005</td>\n",
       "      <td>618.000000</td>\n",
       "      <td>640.809998</td>\n",
       "      <td>640.809998</td>\n",
       "      <td>29005700</td>\n",
       "    </tr>\n",
       "    <tr>\n",
       "      <th>2414</th>\n",
       "      <td>2020-01-31</td>\n",
       "      <td>640.000000</td>\n",
       "      <td>653.000000</td>\n",
       "      <td>632.520020</td>\n",
       "      <td>650.570007</td>\n",
       "      <td>650.570007</td>\n",
       "      <td>15719300</td>\n",
       "    </tr>\n",
       "    <tr>\n",
       "      <th>2415</th>\n",
       "      <td>2020-02-03</td>\n",
       "      <td>673.690002</td>\n",
       "      <td>786.140015</td>\n",
       "      <td>673.520020</td>\n",
       "      <td>780.000000</td>\n",
       "      <td>780.000000</td>\n",
       "      <td>47065000</td>\n",
       "    </tr>\n",
       "  </tbody>\n",
       "</table>\n",
       "<p>2416 rows × 7 columns</p>\n",
       "</div>"
      ],
      "text/plain": [
       "            Date        Open        High         Low       Close   Adj Close  \\\n",
       "0     2010-06-29   19.000000   25.000000   17.540001   23.889999   23.889999   \n",
       "1     2010-06-30   25.790001   30.420000   23.299999   23.830000   23.830000   \n",
       "2     2010-07-01   25.000000   25.920000   20.270000   21.959999   21.959999   \n",
       "3     2010-07-02   23.000000   23.100000   18.709999   19.200001   19.200001   \n",
       "4     2010-07-06   20.000000   20.000000   15.830000   16.110001   16.110001   \n",
       "...          ...         ...         ...         ...         ...         ...   \n",
       "2411  2020-01-28  568.489990  576.809998  558.080017  566.900024  566.900024   \n",
       "2412  2020-01-29  575.690002  589.799988  567.429993  580.989990  580.989990   \n",
       "2413  2020-01-30  632.419983  650.880005  618.000000  640.809998  640.809998   \n",
       "2414  2020-01-31  640.000000  653.000000  632.520020  650.570007  650.570007   \n",
       "2415  2020-02-03  673.690002  786.140015  673.520020  780.000000  780.000000   \n",
       "\n",
       "        Volume  \n",
       "0     18766300  \n",
       "1     17187100  \n",
       "2      8218800  \n",
       "3      5139800  \n",
       "4      6866900  \n",
       "...        ...  \n",
       "2411  11788500  \n",
       "2412  17801500  \n",
       "2413  29005700  \n",
       "2414  15719300  \n",
       "2415  47065000  \n",
       "\n",
       "[2416 rows x 7 columns]"
      ]
     },
     "execution_count": 2,
     "metadata": {},
     "output_type": "execute_result"
    }
   ],
   "source": [
    "df = pd.read_csv('/kaggle/input/tesla-stock-data-from-2010-to-2020/TSLA.csv')\n",
    "df"
   ]
  },
  {
   "cell_type": "code",
   "execution_count": 3,
   "id": "52b19eee",
   "metadata": {
    "execution": {
     "iopub.execute_input": "2024-09-30T07:13:40.244790Z",
     "iopub.status.busy": "2024-09-30T07:13:40.244372Z",
     "iopub.status.idle": "2024-09-30T07:13:40.259812Z",
     "shell.execute_reply": "2024-09-30T07:13:40.258752Z"
    },
    "id": "lG_AO3mdVv17",
    "papermill": {
     "duration": 0.032738,
     "end_time": "2024-09-30T07:13:40.262812",
     "exception": false,
     "start_time": "2024-09-30T07:13:40.230074",
     "status": "completed"
    },
    "tags": []
   },
   "outputs": [
    {
     "data": {
      "text/html": [
       "<div>\n",
       "<style scoped>\n",
       "    .dataframe tbody tr th:only-of-type {\n",
       "        vertical-align: middle;\n",
       "    }\n",
       "\n",
       "    .dataframe tbody tr th {\n",
       "        vertical-align: top;\n",
       "    }\n",
       "\n",
       "    .dataframe thead th {\n",
       "        text-align: right;\n",
       "    }\n",
       "</style>\n",
       "<table border=\"1\" class=\"dataframe\">\n",
       "  <thead>\n",
       "    <tr style=\"text-align: right;\">\n",
       "      <th></th>\n",
       "      <th>Date</th>\n",
       "      <th>Open</th>\n",
       "      <th>High</th>\n",
       "      <th>Low</th>\n",
       "      <th>Close</th>\n",
       "      <th>Adj Close</th>\n",
       "      <th>Volume</th>\n",
       "    </tr>\n",
       "  </thead>\n",
       "  <tbody>\n",
       "    <tr>\n",
       "      <th>0</th>\n",
       "      <td>2010-06-29</td>\n",
       "      <td>19.000000</td>\n",
       "      <td>25.00</td>\n",
       "      <td>17.540001</td>\n",
       "      <td>23.889999</td>\n",
       "      <td>23.889999</td>\n",
       "      <td>18766300</td>\n",
       "    </tr>\n",
       "    <tr>\n",
       "      <th>1</th>\n",
       "      <td>2010-06-30</td>\n",
       "      <td>25.790001</td>\n",
       "      <td>30.42</td>\n",
       "      <td>23.299999</td>\n",
       "      <td>23.830000</td>\n",
       "      <td>23.830000</td>\n",
       "      <td>17187100</td>\n",
       "    </tr>\n",
       "    <tr>\n",
       "      <th>2</th>\n",
       "      <td>2010-07-01</td>\n",
       "      <td>25.000000</td>\n",
       "      <td>25.92</td>\n",
       "      <td>20.270000</td>\n",
       "      <td>21.959999</td>\n",
       "      <td>21.959999</td>\n",
       "      <td>8218800</td>\n",
       "    </tr>\n",
       "    <tr>\n",
       "      <th>3</th>\n",
       "      <td>2010-07-02</td>\n",
       "      <td>23.000000</td>\n",
       "      <td>23.10</td>\n",
       "      <td>18.709999</td>\n",
       "      <td>19.200001</td>\n",
       "      <td>19.200001</td>\n",
       "      <td>5139800</td>\n",
       "    </tr>\n",
       "    <tr>\n",
       "      <th>4</th>\n",
       "      <td>2010-07-06</td>\n",
       "      <td>20.000000</td>\n",
       "      <td>20.00</td>\n",
       "      <td>15.830000</td>\n",
       "      <td>16.110001</td>\n",
       "      <td>16.110001</td>\n",
       "      <td>6866900</td>\n",
       "    </tr>\n",
       "  </tbody>\n",
       "</table>\n",
       "</div>"
      ],
      "text/plain": [
       "         Date       Open   High        Low      Close  Adj Close    Volume\n",
       "0  2010-06-29  19.000000  25.00  17.540001  23.889999  23.889999  18766300\n",
       "1  2010-06-30  25.790001  30.42  23.299999  23.830000  23.830000  17187100\n",
       "2  2010-07-01  25.000000  25.92  20.270000  21.959999  21.959999   8218800\n",
       "3  2010-07-02  23.000000  23.10  18.709999  19.200001  19.200001   5139800\n",
       "4  2010-07-06  20.000000  20.00  15.830000  16.110001  16.110001   6866900"
      ]
     },
     "execution_count": 3,
     "metadata": {},
     "output_type": "execute_result"
    }
   ],
   "source": [
    "df.head()"
   ]
  },
  {
   "cell_type": "code",
   "execution_count": 4,
   "id": "ada14ec3",
   "metadata": {
    "execution": {
     "iopub.execute_input": "2024-09-30T07:13:40.295047Z",
     "iopub.status.busy": "2024-09-30T07:13:40.294072Z",
     "iopub.status.idle": "2024-09-30T07:13:40.300961Z",
     "shell.execute_reply": "2024-09-30T07:13:40.299912Z"
    },
    "id": "TU5hlfyvVxY0",
    "papermill": {
     "duration": 0.023814,
     "end_time": "2024-09-30T07:13:40.303363",
     "exception": false,
     "start_time": "2024-09-30T07:13:40.279549",
     "status": "completed"
    },
    "tags": []
   },
   "outputs": [],
   "source": [
    "def check_df(dataframe, head=5):\n",
    "    print(\"##################### Shape #####################\")\n",
    "    print(dataframe.shape)\n",
    "    print(\"##################### Types #####################\")\n",
    "    print(dataframe.dtypes)\n",
    "    print(\"##################### Head #####################\")\n",
    "    print(dataframe.head(head))  # Fonksiyon çağrısına dikkat edin\n",
    "    print(\"##################### Tail #####################\")\n",
    "    print(dataframe.tail(head))\n",
    "    print(\"##################### NA #####################\")\n",
    "    print(dataframe.isnull().sum())\n",
    "    print(\"##################### Quantile #####################\")\n",
    "    print(dataframe.select_dtypes(include='number').quantile([0, 0.05, 0.5, 0.95, 0.99, 1]).T)\n"
   ]
  },
  {
   "cell_type": "code",
   "execution_count": 5,
   "id": "e445e696",
   "metadata": {
    "execution": {
     "iopub.execute_input": "2024-09-30T07:13:40.331193Z",
     "iopub.status.busy": "2024-09-30T07:13:40.330783Z",
     "iopub.status.idle": "2024-09-30T07:13:40.355382Z",
     "shell.execute_reply": "2024-09-30T07:13:40.354219Z"
    },
    "id": "t6iFP965V4vk",
    "papermill": {
     "duration": 0.041459,
     "end_time": "2024-09-30T07:13:40.357935",
     "exception": false,
     "start_time": "2024-09-30T07:13:40.316476",
     "status": "completed"
    },
    "tags": []
   },
   "outputs": [
    {
     "name": "stdout",
     "output_type": "stream",
     "text": [
      "##################### Shape #####################\n",
      "(2416, 7)\n",
      "##################### Types #####################\n",
      "Date          object\n",
      "Open         float64\n",
      "High         float64\n",
      "Low          float64\n",
      "Close        float64\n",
      "Adj Close    float64\n",
      "Volume         int64\n",
      "dtype: object\n",
      "##################### Head #####################\n",
      "         Date       Open   High        Low      Close  Adj Close    Volume\n",
      "0  2010-06-29  19.000000  25.00  17.540001  23.889999  23.889999  18766300\n",
      "1  2010-06-30  25.790001  30.42  23.299999  23.830000  23.830000  17187100\n",
      "2  2010-07-01  25.000000  25.92  20.270000  21.959999  21.959999   8218800\n",
      "3  2010-07-02  23.000000  23.10  18.709999  19.200001  19.200001   5139800\n",
      "4  2010-07-06  20.000000  20.00  15.830000  16.110001  16.110001   6866900\n",
      "##################### Tail #####################\n",
      "            Date        Open        High         Low       Close   Adj Close  \\\n",
      "2411  2020-01-28  568.489990  576.809998  558.080017  566.900024  566.900024   \n",
      "2412  2020-01-29  575.690002  589.799988  567.429993  580.989990  580.989990   \n",
      "2413  2020-01-30  632.419983  650.880005  618.000000  640.809998  640.809998   \n",
      "2414  2020-01-31  640.000000  653.000000  632.520020  650.570007  650.570007   \n",
      "2415  2020-02-03  673.690002  786.140015  673.520020  780.000000  780.000000   \n",
      "\n",
      "        Volume  \n",
      "2411  11788500  \n",
      "2412  17801500  \n",
      "2413  29005700  \n",
      "2414  15719300  \n",
      "2415  47065000  \n",
      "##################### NA #####################\n",
      "Date         0\n",
      "Open         0\n",
      "High         0\n",
      "Low          0\n",
      "Close        0\n",
      "Adj Close    0\n",
      "Volume       0\n",
      "dtype: int64\n",
      "##################### Quantile #####################\n",
      "                    0.00           0.05          0.50          0.95  \\\n",
      "Open           16.139999      23.384999  2.130350e+02  3.519100e+02   \n",
      "High           16.629999      24.022501  2.167450e+02  3.567500e+02   \n",
      "Low            14.980000      22.867499  2.088700e+02  3.460250e+02   \n",
      "Close          15.800000      23.565000  2.129600e+02  3.511675e+02   \n",
      "Adj Close      15.800000      23.565000  2.129600e+02  3.511675e+02   \n",
      "Volume     118500.000000  633825.000000  4.578400e+06  1.476090e+07   \n",
      "\n",
      "                   0.99          1.00  \n",
      "Open       4.235790e+02  6.736900e+02  \n",
      "High       4.284705e+02  7.861400e+02  \n",
      "Low        4.122865e+02  6.735200e+02  \n",
      "Close      4.243455e+02  7.800000e+02  \n",
      "Adj Close  4.243455e+02  7.800000e+02  \n",
      "Volume     2.459959e+07  4.706500e+07  \n"
     ]
    }
   ],
   "source": [
    "check_df(df)"
   ]
  },
  {
   "cell_type": "markdown",
   "id": "a2fcb72d",
   "metadata": {
    "id": "v2n2ONcpWlQl",
    "papermill": {
     "duration": 0.014366,
     "end_time": "2024-09-30T07:13:40.390909",
     "exception": false,
     "start_time": "2024-09-30T07:13:40.376543",
     "status": "completed"
    },
    "tags": []
   },
   "source": [
    "## Data Preparation"
   ]
  },
  {
   "cell_type": "code",
   "execution_count": 6,
   "id": "04a564f0",
   "metadata": {
    "execution": {
     "iopub.execute_input": "2024-09-30T07:13:40.431527Z",
     "iopub.status.busy": "2024-09-30T07:13:40.430372Z",
     "iopub.status.idle": "2024-09-30T07:13:40.445043Z",
     "shell.execute_reply": "2024-09-30T07:13:40.444018Z"
    },
    "id": "x-En8ormWAo8",
    "papermill": {
     "duration": 0.03675,
     "end_time": "2024-09-30T07:13:40.447419",
     "exception": false,
     "start_time": "2024-09-30T07:13:40.410669",
     "status": "completed"
    },
    "tags": []
   },
   "outputs": [],
   "source": [
    "df[\"Date\"] = pd.to_datetime(df[\"Date\"])"
   ]
  },
  {
   "cell_type": "code",
   "execution_count": 7,
   "id": "51e82055",
   "metadata": {
    "execution": {
     "iopub.execute_input": "2024-09-30T07:13:40.476171Z",
     "iopub.status.busy": "2024-09-30T07:13:40.475755Z",
     "iopub.status.idle": "2024-09-30T07:13:40.491679Z",
     "shell.execute_reply": "2024-09-30T07:13:40.490458Z"
    },
    "id": "Wk3C4MPkWBUG",
    "papermill": {
     "duration": 0.03306,
     "end_time": "2024-09-30T07:13:40.494226",
     "exception": false,
     "start_time": "2024-09-30T07:13:40.461166",
     "status": "completed"
    },
    "tags": []
   },
   "outputs": [
    {
     "data": {
      "text/html": [
       "<div>\n",
       "<style scoped>\n",
       "    .dataframe tbody tr th:only-of-type {\n",
       "        vertical-align: middle;\n",
       "    }\n",
       "\n",
       "    .dataframe tbody tr th {\n",
       "        vertical-align: top;\n",
       "    }\n",
       "\n",
       "    .dataframe thead th {\n",
       "        text-align: right;\n",
       "    }\n",
       "</style>\n",
       "<table border=\"1\" class=\"dataframe\">\n",
       "  <thead>\n",
       "    <tr style=\"text-align: right;\">\n",
       "      <th></th>\n",
       "      <th>Date</th>\n",
       "      <th>Open</th>\n",
       "      <th>High</th>\n",
       "      <th>Low</th>\n",
       "      <th>Close</th>\n",
       "      <th>Adj Close</th>\n",
       "      <th>Volume</th>\n",
       "    </tr>\n",
       "  </thead>\n",
       "  <tbody>\n",
       "    <tr>\n",
       "      <th>0</th>\n",
       "      <td>2010-06-29</td>\n",
       "      <td>19.000000</td>\n",
       "      <td>25.00</td>\n",
       "      <td>17.540001</td>\n",
       "      <td>23.889999</td>\n",
       "      <td>23.889999</td>\n",
       "      <td>18766300</td>\n",
       "    </tr>\n",
       "    <tr>\n",
       "      <th>1</th>\n",
       "      <td>2010-06-30</td>\n",
       "      <td>25.790001</td>\n",
       "      <td>30.42</td>\n",
       "      <td>23.299999</td>\n",
       "      <td>23.830000</td>\n",
       "      <td>23.830000</td>\n",
       "      <td>17187100</td>\n",
       "    </tr>\n",
       "    <tr>\n",
       "      <th>2</th>\n",
       "      <td>2010-07-01</td>\n",
       "      <td>25.000000</td>\n",
       "      <td>25.92</td>\n",
       "      <td>20.270000</td>\n",
       "      <td>21.959999</td>\n",
       "      <td>21.959999</td>\n",
       "      <td>8218800</td>\n",
       "    </tr>\n",
       "    <tr>\n",
       "      <th>3</th>\n",
       "      <td>2010-07-02</td>\n",
       "      <td>23.000000</td>\n",
       "      <td>23.10</td>\n",
       "      <td>18.709999</td>\n",
       "      <td>19.200001</td>\n",
       "      <td>19.200001</td>\n",
       "      <td>5139800</td>\n",
       "    </tr>\n",
       "    <tr>\n",
       "      <th>4</th>\n",
       "      <td>2010-07-06</td>\n",
       "      <td>20.000000</td>\n",
       "      <td>20.00</td>\n",
       "      <td>15.830000</td>\n",
       "      <td>16.110001</td>\n",
       "      <td>16.110001</td>\n",
       "      <td>6866900</td>\n",
       "    </tr>\n",
       "  </tbody>\n",
       "</table>\n",
       "</div>"
      ],
      "text/plain": [
       "        Date       Open   High        Low      Close  Adj Close    Volume\n",
       "0 2010-06-29  19.000000  25.00  17.540001  23.889999  23.889999  18766300\n",
       "1 2010-06-30  25.790001  30.42  23.299999  23.830000  23.830000  17187100\n",
       "2 2010-07-01  25.000000  25.92  20.270000  21.959999  21.959999   8218800\n",
       "3 2010-07-02  23.000000  23.10  18.709999  19.200001  19.200001   5139800\n",
       "4 2010-07-06  20.000000  20.00  15.830000  16.110001  16.110001   6866900"
      ]
     },
     "execution_count": 7,
     "metadata": {},
     "output_type": "execute_result"
    }
   ],
   "source": [
    "df.head()"
   ]
  },
  {
   "cell_type": "code",
   "execution_count": 8,
   "id": "5126aa29",
   "metadata": {
    "execution": {
     "iopub.execute_input": "2024-09-30T07:13:40.523157Z",
     "iopub.status.busy": "2024-09-30T07:13:40.522746Z",
     "iopub.status.idle": "2024-09-30T07:13:40.529063Z",
     "shell.execute_reply": "2024-09-30T07:13:40.528002Z"
    },
    "id": "ZOVzSrk1WCHu",
    "papermill": {
     "duration": 0.023287,
     "end_time": "2024-09-30T07:13:40.531175",
     "exception": false,
     "start_time": "2024-09-30T07:13:40.507888",
     "status": "completed"
    },
    "tags": []
   },
   "outputs": [],
   "source": [
    "tesla_df = df[[\"Date\", \"Close\"]]"
   ]
  },
  {
   "cell_type": "code",
   "execution_count": 9,
   "id": "9b612f7b",
   "metadata": {
    "execution": {
     "iopub.execute_input": "2024-09-30T07:13:40.560888Z",
     "iopub.status.busy": "2024-09-30T07:13:40.560473Z",
     "iopub.status.idle": "2024-09-30T07:13:40.571768Z",
     "shell.execute_reply": "2024-09-30T07:13:40.570602Z"
    },
    "id": "Tli5FuMBWF8l",
    "papermill": {
     "duration": 0.028941,
     "end_time": "2024-09-30T07:13:40.574264",
     "exception": false,
     "start_time": "2024-09-30T07:13:40.545323",
     "status": "completed"
    },
    "tags": []
   },
   "outputs": [
    {
     "data": {
      "text/html": [
       "<div>\n",
       "<style scoped>\n",
       "    .dataframe tbody tr th:only-of-type {\n",
       "        vertical-align: middle;\n",
       "    }\n",
       "\n",
       "    .dataframe tbody tr th {\n",
       "        vertical-align: top;\n",
       "    }\n",
       "\n",
       "    .dataframe thead th {\n",
       "        text-align: right;\n",
       "    }\n",
       "</style>\n",
       "<table border=\"1\" class=\"dataframe\">\n",
       "  <thead>\n",
       "    <tr style=\"text-align: right;\">\n",
       "      <th></th>\n",
       "      <th>Date</th>\n",
       "      <th>Close</th>\n",
       "    </tr>\n",
       "  </thead>\n",
       "  <tbody>\n",
       "    <tr>\n",
       "      <th>0</th>\n",
       "      <td>2010-06-29</td>\n",
       "      <td>23.889999</td>\n",
       "    </tr>\n",
       "    <tr>\n",
       "      <th>1</th>\n",
       "      <td>2010-06-30</td>\n",
       "      <td>23.830000</td>\n",
       "    </tr>\n",
       "    <tr>\n",
       "      <th>2</th>\n",
       "      <td>2010-07-01</td>\n",
       "      <td>21.959999</td>\n",
       "    </tr>\n",
       "    <tr>\n",
       "      <th>3</th>\n",
       "      <td>2010-07-02</td>\n",
       "      <td>19.200001</td>\n",
       "    </tr>\n",
       "    <tr>\n",
       "      <th>4</th>\n",
       "      <td>2010-07-06</td>\n",
       "      <td>16.110001</td>\n",
       "    </tr>\n",
       "  </tbody>\n",
       "</table>\n",
       "</div>"
      ],
      "text/plain": [
       "        Date      Close\n",
       "0 2010-06-29  23.889999\n",
       "1 2010-06-30  23.830000\n",
       "2 2010-07-01  21.959999\n",
       "3 2010-07-02  19.200001\n",
       "4 2010-07-06  16.110001"
      ]
     },
     "execution_count": 9,
     "metadata": {},
     "output_type": "execute_result"
    }
   ],
   "source": [
    "tesla_df.head()"
   ]
  },
  {
   "cell_type": "code",
   "execution_count": 10,
   "id": "fa0783fa",
   "metadata": {
    "execution": {
     "iopub.execute_input": "2024-09-30T07:13:40.604425Z",
     "iopub.status.busy": "2024-09-30T07:13:40.604002Z",
     "iopub.status.idle": "2024-09-30T07:13:40.611185Z",
     "shell.execute_reply": "2024-09-30T07:13:40.610004Z"
    },
    "id": "Gsw5OQCAWLzn",
    "papermill": {
     "duration": 0.024688,
     "end_time": "2024-09-30T07:13:40.613231",
     "exception": false,
     "start_time": "2024-09-30T07:13:40.588543",
     "status": "completed"
    },
    "tags": []
   },
   "outputs": [
    {
     "name": "stdout",
     "output_type": "stream",
     "text": [
      "Min Date:  2010-06-29 00:00:00\n",
      "Max Date:  2020-02-03 00:00:00\n"
     ]
    }
   ],
   "source": [
    "print(\"Min Date: \", tesla_df[\"Date\"].min())\n",
    "print(\"Max Date: \", tesla_df[\"Date\"].max())"
   ]
  },
  {
   "cell_type": "code",
   "execution_count": 11,
   "id": "faeb2ebb",
   "metadata": {
    "execution": {
     "iopub.execute_input": "2024-09-30T07:13:40.642224Z",
     "iopub.status.busy": "2024-09-30T07:13:40.641780Z",
     "iopub.status.idle": "2024-09-30T07:13:40.647172Z",
     "shell.execute_reply": "2024-09-30T07:13:40.645896Z"
    },
    "id": "JGi8P08mWQO1",
    "papermill": {
     "duration": 0.022599,
     "end_time": "2024-09-30T07:13:40.649467",
     "exception": false,
     "start_time": "2024-09-30T07:13:40.626868",
     "status": "completed"
    },
    "tags": []
   },
   "outputs": [],
   "source": [
    "tesla_df.index = tesla_df[\"Date\"]"
   ]
  },
  {
   "cell_type": "code",
   "execution_count": 12,
   "id": "4387f887",
   "metadata": {
    "execution": {
     "iopub.execute_input": "2024-09-30T07:13:40.679070Z",
     "iopub.status.busy": "2024-09-30T07:13:40.678107Z",
     "iopub.status.idle": "2024-09-30T07:13:40.690608Z",
     "shell.execute_reply": "2024-09-30T07:13:40.689709Z"
    },
    "id": "YBWxX2IOWoL_",
    "papermill": {
     "duration": 0.02969,
     "end_time": "2024-09-30T07:13:40.692954",
     "exception": false,
     "start_time": "2024-09-30T07:13:40.663264",
     "status": "completed"
    },
    "tags": []
   },
   "outputs": [
    {
     "data": {
      "text/html": [
       "<div>\n",
       "<style scoped>\n",
       "    .dataframe tbody tr th:only-of-type {\n",
       "        vertical-align: middle;\n",
       "    }\n",
       "\n",
       "    .dataframe tbody tr th {\n",
       "        vertical-align: top;\n",
       "    }\n",
       "\n",
       "    .dataframe thead th {\n",
       "        text-align: right;\n",
       "    }\n",
       "</style>\n",
       "<table border=\"1\" class=\"dataframe\">\n",
       "  <thead>\n",
       "    <tr style=\"text-align: right;\">\n",
       "      <th></th>\n",
       "      <th>Date</th>\n",
       "      <th>Close</th>\n",
       "    </tr>\n",
       "    <tr>\n",
       "      <th>Date</th>\n",
       "      <th></th>\n",
       "      <th></th>\n",
       "    </tr>\n",
       "  </thead>\n",
       "  <tbody>\n",
       "    <tr>\n",
       "      <th>2010-06-29</th>\n",
       "      <td>2010-06-29</td>\n",
       "      <td>23.889999</td>\n",
       "    </tr>\n",
       "    <tr>\n",
       "      <th>2010-06-30</th>\n",
       "      <td>2010-06-30</td>\n",
       "      <td>23.830000</td>\n",
       "    </tr>\n",
       "    <tr>\n",
       "      <th>2010-07-01</th>\n",
       "      <td>2010-07-01</td>\n",
       "      <td>21.959999</td>\n",
       "    </tr>\n",
       "    <tr>\n",
       "      <th>2010-07-02</th>\n",
       "      <td>2010-07-02</td>\n",
       "      <td>19.200001</td>\n",
       "    </tr>\n",
       "    <tr>\n",
       "      <th>2010-07-06</th>\n",
       "      <td>2010-07-06</td>\n",
       "      <td>16.110001</td>\n",
       "    </tr>\n",
       "    <tr>\n",
       "      <th>...</th>\n",
       "      <td>...</td>\n",
       "      <td>...</td>\n",
       "    </tr>\n",
       "    <tr>\n",
       "      <th>2020-01-28</th>\n",
       "      <td>2020-01-28</td>\n",
       "      <td>566.900024</td>\n",
       "    </tr>\n",
       "    <tr>\n",
       "      <th>2020-01-29</th>\n",
       "      <td>2020-01-29</td>\n",
       "      <td>580.989990</td>\n",
       "    </tr>\n",
       "    <tr>\n",
       "      <th>2020-01-30</th>\n",
       "      <td>2020-01-30</td>\n",
       "      <td>640.809998</td>\n",
       "    </tr>\n",
       "    <tr>\n",
       "      <th>2020-01-31</th>\n",
       "      <td>2020-01-31</td>\n",
       "      <td>650.570007</td>\n",
       "    </tr>\n",
       "    <tr>\n",
       "      <th>2020-02-03</th>\n",
       "      <td>2020-02-03</td>\n",
       "      <td>780.000000</td>\n",
       "    </tr>\n",
       "  </tbody>\n",
       "</table>\n",
       "<p>2416 rows × 2 columns</p>\n",
       "</div>"
      ],
      "text/plain": [
       "                 Date       Close\n",
       "Date                             \n",
       "2010-06-29 2010-06-29   23.889999\n",
       "2010-06-30 2010-06-30   23.830000\n",
       "2010-07-01 2010-07-01   21.959999\n",
       "2010-07-02 2010-07-02   19.200001\n",
       "2010-07-06 2010-07-06   16.110001\n",
       "...               ...         ...\n",
       "2020-01-28 2020-01-28  566.900024\n",
       "2020-01-29 2020-01-29  580.989990\n",
       "2020-01-30 2020-01-30  640.809998\n",
       "2020-01-31 2020-01-31  650.570007\n",
       "2020-02-03 2020-02-03  780.000000\n",
       "\n",
       "[2416 rows x 2 columns]"
      ]
     },
     "execution_count": 12,
     "metadata": {},
     "output_type": "execute_result"
    }
   ],
   "source": [
    "tesla_df"
   ]
  },
  {
   "cell_type": "code",
   "execution_count": 13,
   "id": "0938b240",
   "metadata": {
    "execution": {
     "iopub.execute_input": "2024-09-30T07:13:40.723015Z",
     "iopub.status.busy": "2024-09-30T07:13:40.722600Z",
     "iopub.status.idle": "2024-09-30T07:13:40.728815Z",
     "shell.execute_reply": "2024-09-30T07:13:40.727703Z"
    },
    "id": "tgPM31WBWvcH",
    "papermill": {
     "duration": 0.023839,
     "end_time": "2024-09-30T07:13:40.731239",
     "exception": false,
     "start_time": "2024-09-30T07:13:40.707400",
     "status": "completed"
    },
    "tags": []
   },
   "outputs": [],
   "source": [
    "tesla_df.drop(\"Date\", axis=1, inplace=True)"
   ]
  },
  {
   "cell_type": "code",
   "execution_count": 14,
   "id": "3227b84d",
   "metadata": {
    "execution": {
     "iopub.execute_input": "2024-09-30T07:13:40.762350Z",
     "iopub.status.busy": "2024-09-30T07:13:40.761406Z",
     "iopub.status.idle": "2024-09-30T07:13:40.773681Z",
     "shell.execute_reply": "2024-09-30T07:13:40.772310Z"
    },
    "id": "17KdnKMGWwSm",
    "papermill": {
     "duration": 0.030195,
     "end_time": "2024-09-30T07:13:40.775977",
     "exception": false,
     "start_time": "2024-09-30T07:13:40.745782",
     "status": "completed"
    },
    "tags": []
   },
   "outputs": [
    {
     "data": {
      "text/html": [
       "<div>\n",
       "<style scoped>\n",
       "    .dataframe tbody tr th:only-of-type {\n",
       "        vertical-align: middle;\n",
       "    }\n",
       "\n",
       "    .dataframe tbody tr th {\n",
       "        vertical-align: top;\n",
       "    }\n",
       "\n",
       "    .dataframe thead th {\n",
       "        text-align: right;\n",
       "    }\n",
       "</style>\n",
       "<table border=\"1\" class=\"dataframe\">\n",
       "  <thead>\n",
       "    <tr style=\"text-align: right;\">\n",
       "      <th></th>\n",
       "      <th>Close</th>\n",
       "    </tr>\n",
       "    <tr>\n",
       "      <th>Date</th>\n",
       "      <th></th>\n",
       "    </tr>\n",
       "  </thead>\n",
       "  <tbody>\n",
       "    <tr>\n",
       "      <th>2010-06-29</th>\n",
       "      <td>23.889999</td>\n",
       "    </tr>\n",
       "    <tr>\n",
       "      <th>2010-06-30</th>\n",
       "      <td>23.830000</td>\n",
       "    </tr>\n",
       "    <tr>\n",
       "      <th>2010-07-01</th>\n",
       "      <td>21.959999</td>\n",
       "    </tr>\n",
       "    <tr>\n",
       "      <th>2010-07-02</th>\n",
       "      <td>19.200001</td>\n",
       "    </tr>\n",
       "    <tr>\n",
       "      <th>2010-07-06</th>\n",
       "      <td>16.110001</td>\n",
       "    </tr>\n",
       "    <tr>\n",
       "      <th>...</th>\n",
       "      <td>...</td>\n",
       "    </tr>\n",
       "    <tr>\n",
       "      <th>2020-01-28</th>\n",
       "      <td>566.900024</td>\n",
       "    </tr>\n",
       "    <tr>\n",
       "      <th>2020-01-29</th>\n",
       "      <td>580.989990</td>\n",
       "    </tr>\n",
       "    <tr>\n",
       "      <th>2020-01-30</th>\n",
       "      <td>640.809998</td>\n",
       "    </tr>\n",
       "    <tr>\n",
       "      <th>2020-01-31</th>\n",
       "      <td>650.570007</td>\n",
       "    </tr>\n",
       "    <tr>\n",
       "      <th>2020-02-03</th>\n",
       "      <td>780.000000</td>\n",
       "    </tr>\n",
       "  </tbody>\n",
       "</table>\n",
       "<p>2416 rows × 1 columns</p>\n",
       "</div>"
      ],
      "text/plain": [
       "                 Close\n",
       "Date                  \n",
       "2010-06-29   23.889999\n",
       "2010-06-30   23.830000\n",
       "2010-07-01   21.959999\n",
       "2010-07-02   19.200001\n",
       "2010-07-06   16.110001\n",
       "...                ...\n",
       "2020-01-28  566.900024\n",
       "2020-01-29  580.989990\n",
       "2020-01-30  640.809998\n",
       "2020-01-31  650.570007\n",
       "2020-02-03  780.000000\n",
       "\n",
       "[2416 rows x 1 columns]"
      ]
     },
     "execution_count": 14,
     "metadata": {},
     "output_type": "execute_result"
    }
   ],
   "source": [
    "tesla_df"
   ]
  },
  {
   "cell_type": "code",
   "execution_count": 15,
   "id": "651059ec",
   "metadata": {
    "execution": {
     "iopub.execute_input": "2024-09-30T07:13:40.807174Z",
     "iopub.status.busy": "2024-09-30T07:13:40.806056Z",
     "iopub.status.idle": "2024-09-30T07:13:40.811498Z",
     "shell.execute_reply": "2024-09-30T07:13:40.810484Z"
    },
    "id": "PliZ5OcsWxsF",
    "papermill": {
     "duration": 0.023735,
     "end_time": "2024-09-30T07:13:40.813851",
     "exception": false,
     "start_time": "2024-09-30T07:13:40.790116",
     "status": "completed"
    },
    "tags": []
   },
   "outputs": [],
   "source": [
    "result_df = tesla_df.copy()"
   ]
  },
  {
   "cell_type": "code",
   "execution_count": 16,
   "id": "f3262449",
   "metadata": {
    "execution": {
     "iopub.execute_input": "2024-09-30T07:13:40.844013Z",
     "iopub.status.busy": "2024-09-30T07:13:40.843102Z",
     "iopub.status.idle": "2024-09-30T07:13:41.259015Z",
     "shell.execute_reply": "2024-09-30T07:13:41.257970Z"
    },
    "id": "ObqHX6K2W0te",
    "papermill": {
     "duration": 0.43343,
     "end_time": "2024-09-30T07:13:41.261254",
     "exception": false,
     "start_time": "2024-09-30T07:13:40.827824",
     "status": "completed"
    },
    "tags": []
   },
   "outputs": [
    {
     "data": {
      "image/png": "[encoded data removed]",
      "text/plain": [
       "<Figure size 1400x500 with 1 Axes>"
      ]
     },
     "metadata": {},
     "output_type": "display_data"
    }
   ],
   "source": [
    "plt.figure(figsize=(14,5))\n",
    "plt.plot(tesla_df['Close'], color='blue')\n",
    "plt.title(\"Tesla Stock Price\")\n",
    "plt.xlabel(\"Time\")\n",
    "plt.ylabel(\"Stock Price\")\n",
    "plt.show()"
   ]
  },
  {
   "cell_type": "code",
   "execution_count": 17,
   "id": "890e1ea2",
   "metadata": {
    "execution": {
     "iopub.execute_input": "2024-09-30T07:13:41.292559Z",
     "iopub.status.busy": "2024-09-30T07:13:41.292101Z",
     "iopub.status.idle": "2024-09-30T07:13:41.296978Z",
     "shell.execute_reply": "2024-09-30T07:13:41.295967Z"
    },
    "id": "5LWFDWjNW2z2",
    "papermill": {
     "duration": 0.023143,
     "end_time": "2024-09-30T07:13:41.299188",
     "exception": false,
     "start_time": "2024-09-30T07:13:41.276045",
     "status": "completed"
    },
    "tags": []
   },
   "outputs": [],
   "source": [
    "tesla_df = tesla_df.values"
   ]
  },
  {
   "cell_type": "code",
   "execution_count": 18,
   "id": "a82f0bbf",
   "metadata": {
    "execution": {
     "iopub.execute_input": "2024-09-30T07:13:41.331248Z",
     "iopub.status.busy": "2024-09-30T07:13:41.330349Z",
     "iopub.status.idle": "2024-09-30T07:13:41.337376Z",
     "shell.execute_reply": "2024-09-30T07:13:41.336497Z"
    },
    "id": "jxFZkTS-W9Mm",
    "papermill": {
     "duration": 0.025775,
     "end_time": "2024-09-30T07:13:41.339895",
     "exception": false,
     "start_time": "2024-09-30T07:13:41.314120",
     "status": "completed"
    },
    "tags": []
   },
   "outputs": [
    {
     "data": {
      "text/plain": [
       "array([[23.889999],\n",
       "       [23.83    ],\n",
       "       [21.959999],\n",
       "       [19.200001],\n",
       "       [16.110001]])"
      ]
     },
     "execution_count": 18,
     "metadata": {},
     "output_type": "execute_result"
    }
   ],
   "source": [
    "tesla_df[0:5]"
   ]
  },
  {
   "cell_type": "code",
   "execution_count": 19,
   "id": "6c06845c",
   "metadata": {
    "execution": {
     "iopub.execute_input": "2024-09-30T07:13:41.373229Z",
     "iopub.status.busy": "2024-09-30T07:13:41.372824Z",
     "iopub.status.idle": "2024-09-30T07:13:41.377787Z",
     "shell.execute_reply": "2024-09-30T07:13:41.376702Z"
    },
    "id": "iU7KJlc4XAb2",
    "papermill": {
     "duration": 0.023889,
     "end_time": "2024-09-30T07:13:41.379844",
     "exception": false,
     "start_time": "2024-09-30T07:13:41.355955",
     "status": "completed"
    },
    "tags": []
   },
   "outputs": [],
   "source": [
    "tesla_df = tesla_df.astype(\"float32\")"
   ]
  },
  {
   "cell_type": "code",
   "execution_count": 20,
   "id": "e4d4c617",
   "metadata": {
    "execution": {
     "iopub.execute_input": "2024-09-30T07:13:41.412481Z",
     "iopub.status.busy": "2024-09-30T07:13:41.411747Z",
     "iopub.status.idle": "2024-09-30T07:13:41.417546Z",
     "shell.execute_reply": "2024-09-30T07:13:41.416387Z"
    },
    "id": "r7Cywk9oXBI-",
    "papermill": {
     "duration": 0.024804,
     "end_time": "2024-09-30T07:13:41.419855",
     "exception": false,
     "start_time": "2024-09-30T07:13:41.395051",
     "status": "completed"
    },
    "tags": []
   },
   "outputs": [],
   "source": [
    "def split_data(dataframe, test_size):\n",
    "  position = int(round(len(dataframe) * (1 - test_size)))\n",
    "  train = dataframe[:position]\n",
    "  test = dataframe[position:]\n",
    "  return train, test, position"
   ]
  },
  {
   "cell_type": "code",
   "execution_count": 21,
   "id": "f8aadab5",
   "metadata": {
    "execution": {
     "iopub.execute_input": "2024-09-30T07:13:41.452974Z",
     "iopub.status.busy": "2024-09-30T07:13:41.452564Z",
     "iopub.status.idle": "2024-09-30T07:13:41.457694Z",
     "shell.execute_reply": "2024-09-30T07:13:41.456534Z"
    },
    "id": "COxqfz0SZvV_",
    "papermill": {
     "duration": 0.023966,
     "end_time": "2024-09-30T07:13:41.459896",
     "exception": false,
     "start_time": "2024-09-30T07:13:41.435930",
     "status": "completed"
    },
    "tags": []
   },
   "outputs": [],
   "source": [
    "train, test, position = split_data(tesla_df, 0.20)"
   ]
  },
  {
   "cell_type": "code",
   "execution_count": 22,
   "id": "4d012c33",
   "metadata": {
    "execution": {
     "iopub.execute_input": "2024-09-30T07:13:41.491688Z",
     "iopub.status.busy": "2024-09-30T07:13:41.491277Z",
     "iopub.status.idle": "2024-09-30T07:13:41.497245Z",
     "shell.execute_reply": "2024-09-30T07:13:41.496034Z"
    },
    "id": "jESwxnt2Z1t5",
    "papermill": {
     "duration": 0.024692,
     "end_time": "2024-09-30T07:13:41.499595",
     "exception": false,
     "start_time": "2024-09-30T07:13:41.474903",
     "status": "completed"
    },
    "tags": []
   },
   "outputs": [
    {
     "name": "stdout",
     "output_type": "stream",
     "text": [
      "(1933, 1) (483, 1)\n"
     ]
    }
   ],
   "source": [
    "print(train.shape, test.shape)"
   ]
  },
  {
   "cell_type": "code",
   "execution_count": 23,
   "id": "7e538eb2",
   "metadata": {
    "execution": {
     "iopub.execute_input": "2024-09-30T07:13:41.532694Z",
     "iopub.status.busy": "2024-09-30T07:13:41.532260Z",
     "iopub.status.idle": "2024-09-30T07:13:41.537432Z",
     "shell.execute_reply": "2024-09-30T07:13:41.536307Z"
    },
    "id": "wleQDdgSZ8NZ",
    "papermill": {
     "duration": 0.024258,
     "end_time": "2024-09-30T07:13:41.539608",
     "exception": false,
     "start_time": "2024-09-30T07:13:41.515350",
     "status": "completed"
    },
    "tags": []
   },
   "outputs": [],
   "source": [
    "scaler_train = MinMaxScaler(feature_range = (0,1))"
   ]
  },
  {
   "cell_type": "code",
   "execution_count": 24,
   "id": "8bf6db00",
   "metadata": {
    "execution": {
     "iopub.execute_input": "2024-09-30T07:13:41.571642Z",
     "iopub.status.busy": "2024-09-30T07:13:41.571181Z",
     "iopub.status.idle": "2024-09-30T07:13:41.577401Z",
     "shell.execute_reply": "2024-09-30T07:13:41.576391Z"
    },
    "id": "Enf8wikDaNZh",
    "papermill": {
     "duration": 0.024862,
     "end_time": "2024-09-30T07:13:41.579608",
     "exception": false,
     "start_time": "2024-09-30T07:13:41.554746",
     "status": "completed"
    },
    "tags": []
   },
   "outputs": [],
   "source": [
    "train = scaler_train.fit_transform(train)"
   ]
  },
  {
   "cell_type": "code",
   "execution_count": 25,
   "id": "d2a400b7",
   "metadata": {
    "execution": {
     "iopub.execute_input": "2024-09-30T07:13:41.611689Z",
     "iopub.status.busy": "2024-09-30T07:13:41.611224Z",
     "iopub.status.idle": "2024-09-30T07:13:41.616339Z",
     "shell.execute_reply": "2024-09-30T07:13:41.615261Z"
    },
    "id": "cg-7tCn_aXTc",
    "papermill": {
     "duration": 0.023536,
     "end_time": "2024-09-30T07:13:41.618420",
     "exception": false,
     "start_time": "2024-09-30T07:13:41.594884",
     "status": "completed"
    },
    "tags": []
   },
   "outputs": [],
   "source": [
    "scaler_test = MinMaxScaler(feature_range = (0,1))"
   ]
  },
  {
   "cell_type": "code",
   "execution_count": 26,
   "id": "47f574c8",
   "metadata": {
    "execution": {
     "iopub.execute_input": "2024-09-30T07:13:41.650936Z",
     "iopub.status.busy": "2024-09-30T07:13:41.649872Z",
     "iopub.status.idle": "2024-09-30T07:13:41.655900Z",
     "shell.execute_reply": "2024-09-30T07:13:41.654693Z"
    },
    "id": "tSbuIifiabbC",
    "papermill": {
     "duration": 0.02463,
     "end_time": "2024-09-30T07:13:41.658166",
     "exception": false,
     "start_time": "2024-09-30T07:13:41.633536",
     "status": "completed"
    },
    "tags": []
   },
   "outputs": [],
   "source": [
    "test = scaler_test.fit_transform(test)"
   ]
  },
  {
   "cell_type": "code",
   "execution_count": 27,
   "id": "ce9bf825",
   "metadata": {
    "execution": {
     "iopub.execute_input": "2024-09-30T07:13:41.691225Z",
     "iopub.status.busy": "2024-09-30T07:13:41.690131Z",
     "iopub.status.idle": "2024-09-30T07:13:41.698395Z",
     "shell.execute_reply": "2024-09-30T07:13:41.697308Z"
    },
    "id": "X5a7m_BEagaJ",
    "papermill": {
     "duration": 0.027508,
     "end_time": "2024-09-30T07:13:41.700806",
     "exception": false,
     "start_time": "2024-09-30T07:13:41.673298",
     "status": "completed"
    },
    "tags": []
   },
   "outputs": [
    {
     "data": {
      "text/plain": [
       "array([[0.02191224],\n",
       "       [0.02174973],\n",
       "       [0.01668472],\n",
       "       [0.0092091 ],\n",
       "       [0.00083966]], dtype=float32)"
      ]
     },
     "execution_count": 27,
     "metadata": {},
     "output_type": "execute_result"
    }
   ],
   "source": [
    "train[0:5]"
   ]
  },
  {
   "cell_type": "code",
   "execution_count": 28,
   "id": "da93368d",
   "metadata": {
    "execution": {
     "iopub.execute_input": "2024-09-30T07:13:41.733814Z",
     "iopub.status.busy": "2024-09-30T07:13:41.732969Z",
     "iopub.status.idle": "2024-09-30T07:13:41.740511Z",
     "shell.execute_reply": "2024-09-30T07:13:41.739218Z"
    },
    "id": "AeVSy_ijahnh",
    "papermill": {
     "duration": 0.026825,
     "end_time": "2024-09-30T07:13:41.742990",
     "exception": false,
     "start_time": "2024-09-30T07:13:41.716165",
     "status": "completed"
    },
    "tags": []
   },
   "outputs": [
    {
     "data": {
      "text/plain": [
       "array([[0.25685903],\n",
       "       [0.24829045],\n",
       "       [0.25511202],\n",
       "       [0.24978784],\n",
       "       [0.2465767 ]], dtype=float32)"
      ]
     },
     "execution_count": 28,
     "metadata": {},
     "output_type": "execute_result"
    }
   ],
   "source": [
    "test[0:5]"
   ]
  },
  {
   "cell_type": "code",
   "execution_count": 29,
   "id": "d0fc44d7",
   "metadata": {
    "execution": {
     "iopub.execute_input": "2024-09-30T07:13:41.777037Z",
     "iopub.status.busy": "2024-09-30T07:13:41.775910Z",
     "iopub.status.idle": "2024-09-30T07:13:41.782991Z",
     "shell.execute_reply": "2024-09-30T07:13:41.781866Z"
    },
    "id": "Gv95UqJWasHS",
    "papermill": {
     "duration": 0.027153,
     "end_time": "2024-09-30T07:13:41.785474",
     "exception": false,
     "start_time": "2024-09-30T07:13:41.758321",
     "status": "completed"
    },
    "tags": []
   },
   "outputs": [],
   "source": [
    "def create_features(data, lookback):\n",
    "  X, Y = [], []\n",
    "  for i in range(lookback, len(data)):\n",
    "    X.append(data[i-lookback:i,0])\n",
    "    Y.append(data[i,0])\n",
    "\n",
    "  return np.array(X), np.array(Y)"
   ]
  },
  {
   "cell_type": "code",
   "execution_count": 30,
   "id": "c06bc658",
   "metadata": {
    "execution": {
     "iopub.execute_input": "2024-09-30T07:13:41.818025Z",
     "iopub.status.busy": "2024-09-30T07:13:41.817629Z",
     "iopub.status.idle": "2024-09-30T07:13:41.822570Z",
     "shell.execute_reply": "2024-09-30T07:13:41.821303Z"
    },
    "id": "e36Ux4_CbASm",
    "papermill": {
     "duration": 0.024047,
     "end_time": "2024-09-30T07:13:41.825044",
     "exception": false,
     "start_time": "2024-09-30T07:13:41.800997",
     "status": "completed"
    },
    "tags": []
   },
   "outputs": [],
   "source": [
    "lookback = 20"
   ]
  },
  {
   "cell_type": "code",
   "execution_count": 31,
   "id": "a144733a",
   "metadata": {
    "execution": {
     "iopub.execute_input": "2024-09-30T07:13:41.858278Z",
     "iopub.status.busy": "2024-09-30T07:13:41.857861Z",
     "iopub.status.idle": "2024-09-30T07:13:41.866103Z",
     "shell.execute_reply": "2024-09-30T07:13:41.865130Z"
    },
    "id": "Xd8JMdaWbCzp",
    "papermill": {
     "duration": 0.027777,
     "end_time": "2024-09-30T07:13:41.868635",
     "exception": false,
     "start_time": "2024-09-30T07:13:41.840858",
     "status": "completed"
    },
    "tags": []
   },
   "outputs": [],
   "source": [
    "X_train, y_train = create_features(train, lookback)"
   ]
  },
  {
   "cell_type": "code",
   "execution_count": 32,
   "id": "42fedd04",
   "metadata": {
    "execution": {
     "iopub.execute_input": "2024-09-30T07:13:41.954777Z",
     "iopub.status.busy": "2024-09-30T07:13:41.954350Z",
     "iopub.status.idle": "2024-09-30T07:13:41.960234Z",
     "shell.execute_reply": "2024-09-30T07:13:41.959410Z"
    },
    "id": "wHgq8DT5bF_Z",
    "papermill": {
     "duration": 0.078492,
     "end_time": "2024-09-30T07:13:41.962370",
     "exception": false,
     "start_time": "2024-09-30T07:13:41.883878",
     "status": "completed"
    },
    "tags": []
   },
   "outputs": [],
   "source": [
    "X_test, y_test = create_features(test, lookback)"
   ]
  },
  {
   "cell_type": "code",
   "execution_count": 33,
   "id": "57c61b72",
   "metadata": {
    "execution": {
     "iopub.execute_input": "2024-09-30T07:13:41.995212Z",
     "iopub.status.busy": "2024-09-30T07:13:41.994493Z",
     "iopub.status.idle": "2024-09-30T07:13:42.000089Z",
     "shell.execute_reply": "2024-09-30T07:13:41.998879Z"
    },
    "id": "zYQy_33TbKdb",
    "papermill": {
     "duration": 0.024937,
     "end_time": "2024-09-30T07:13:42.002754",
     "exception": false,
     "start_time": "2024-09-30T07:13:41.977817",
     "status": "completed"
    },
    "tags": []
   },
   "outputs": [
    {
     "name": "stdout",
     "output_type": "stream",
     "text": [
      "(1913, 20) (1913,) (463, 20) (463,)\n"
     ]
    }
   ],
   "source": [
    "print(X_train.shape, y_train.shape, X_test.shape, y_test.shape)"
   ]
  },
  {
   "cell_type": "code",
   "execution_count": 34,
   "id": "6ec5b0a6",
   "metadata": {
    "execution": {
     "iopub.execute_input": "2024-09-30T07:13:42.036113Z",
     "iopub.status.busy": "2024-09-30T07:13:42.035708Z",
     "iopub.status.idle": "2024-09-30T07:13:42.043769Z",
     "shell.execute_reply": "2024-09-30T07:13:42.042595Z"
    },
    "id": "sI1k-K6bTKuw",
    "papermill": {
     "duration": 0.027562,
     "end_time": "2024-09-30T07:13:42.046092",
     "exception": false,
     "start_time": "2024-09-30T07:13:42.018530",
     "status": "completed"
    },
    "tags": []
   },
   "outputs": [
    {
     "data": {
      "text/plain": [
       "array([[0.02191224, 0.02174973, 0.01668472, 0.0092091 , 0.00083966,\n",
       "        0.        , 0.00449621, 0.00433369, 0.0033857 , 0.00633803,\n",
       "        0.01094258, 0.011078  , 0.01310942, 0.0165493 , 0.01218851,\n",
       "        0.01197183, 0.01408451, 0.01486999, 0.01394908, 0.01286566],\n",
       "       [0.02174973, 0.01668472, 0.0092091 , 0.00083966, 0.        ,\n",
       "        0.00449621, 0.00433369, 0.0033857 , 0.00633803, 0.01094258,\n",
       "        0.011078  , 0.01310942, 0.0165493 , 0.01218851, 0.01197183,\n",
       "        0.01408451, 0.01486999, 0.01394908, 0.01286566, 0.01332611],\n",
       "       [0.01668472, 0.0092091 , 0.00083966, 0.        , 0.00449621,\n",
       "        0.00433369, 0.0033857 , 0.00633803, 0.01094258, 0.011078  ,\n",
       "        0.01310942, 0.0165493 , 0.01218851, 0.01197183, 0.01408451,\n",
       "        0.01486999, 0.01394908, 0.01286566, 0.01332611, 0.01232395],\n",
       "       [0.0092091 , 0.00083966, 0.        , 0.00449621, 0.00433369,\n",
       "        0.0033857 , 0.00633803, 0.01094258, 0.011078  , 0.01310942,\n",
       "        0.0165493 , 0.01218851, 0.01197183, 0.01408451, 0.01486999,\n",
       "        0.01394908, 0.01286566, 0.01332611, 0.01232395, 0.01121344],\n",
       "       [0.00083966, 0.        , 0.00449621, 0.00433369, 0.0033857 ,\n",
       "        0.00633803, 0.01094258, 0.011078  , 0.01310942, 0.0165493 ,\n",
       "        0.01218851, 0.01197183, 0.01408451, 0.01486999, 0.01394908,\n",
       "        0.01286566, 0.01332611, 0.01232395, 0.01121344, 0.01386782]],\n",
       "      dtype=float32)"
      ]
     },
     "execution_count": 34,
     "metadata": {},
     "output_type": "execute_result"
    }
   ],
   "source": [
    "X_train[0:5]"
   ]
  },
  {
   "cell_type": "code",
   "execution_count": 35,
   "id": "67648ebf",
   "metadata": {
    "execution": {
     "iopub.execute_input": "2024-09-30T07:13:42.079879Z",
     "iopub.status.busy": "2024-09-30T07:13:42.079223Z",
     "iopub.status.idle": "2024-09-30T07:13:42.086484Z",
     "shell.execute_reply": "2024-09-30T07:13:42.085433Z"
    },
    "id": "vY5hCVQHTg9u",
    "papermill": {
     "duration": 0.026519,
     "end_time": "2024-09-30T07:13:42.088618",
     "exception": false,
     "start_time": "2024-09-30T07:13:42.062099",
     "status": "completed"
    },
    "tags": []
   },
   "outputs": [
    {
     "data": {
      "text/plain": [
       "array([0.01332611, 0.01232395, 0.01121344, 0.01386782, 0.01665764],\n",
       "      dtype=float32)"
      ]
     },
     "execution_count": 35,
     "metadata": {},
     "output_type": "execute_result"
    }
   ],
   "source": [
    "y_train[0:5]"
   ]
  },
  {
   "cell_type": "code",
   "execution_count": 36,
   "id": "acf87c01",
   "metadata": {
    "execution": {
     "iopub.execute_input": "2024-09-30T07:13:42.121415Z",
     "iopub.status.busy": "2024-09-30T07:13:42.120996Z",
     "iopub.status.idle": "2024-09-30T07:13:42.126682Z",
     "shell.execute_reply": "2024-09-30T07:13:42.125642Z"
    },
    "id": "yvf-4kLybad5",
    "papermill": {
     "duration": 0.024564,
     "end_time": "2024-09-30T07:13:42.128745",
     "exception": false,
     "start_time": "2024-09-30T07:13:42.104181",
     "status": "completed"
    },
    "tags": []
   },
   "outputs": [],
   "source": [
    "X_train = np.reshape(X_train, (X_train.shape[0], 1, X_train.shape[1]))\n",
    "X_test = np.reshape(X_test, (X_test.shape[0], 1, X_test.shape[1]))\n",
    "y_train = y_train.reshape(-1,1)\n",
    "y_test = y_test.reshape(-1,1)"
   ]
  },
  {
   "cell_type": "code",
   "execution_count": 37,
   "id": "c91323d6",
   "metadata": {
    "execution": {
     "iopub.execute_input": "2024-09-30T07:13:42.162159Z",
     "iopub.status.busy": "2024-09-30T07:13:42.161176Z",
     "iopub.status.idle": "2024-09-30T07:13:42.166817Z",
     "shell.execute_reply": "2024-09-30T07:13:42.165791Z"
    },
    "id": "D2ltv0Edb3wz",
    "papermill": {
     "duration": 0.024974,
     "end_time": "2024-09-30T07:13:42.169291",
     "exception": false,
     "start_time": "2024-09-30T07:13:42.144317",
     "status": "completed"
    },
    "tags": []
   },
   "outputs": [
    {
     "name": "stdout",
     "output_type": "stream",
     "text": [
      "(1913, 1, 20) (1913, 1) (463, 1, 20) (463, 1)\n"
     ]
    }
   ],
   "source": [
    "print(X_train.shape, y_train.shape, X_test.shape, y_test.shape)"
   ]
  },
  {
   "cell_type": "markdown",
   "id": "037d6f0e",
   "metadata": {
    "id": "DtsN3xazcIAn",
    "papermill": {
     "duration": 0.015993,
     "end_time": "2024-09-30T07:13:42.200939",
     "exception": false,
     "start_time": "2024-09-30T07:13:42.184946",
     "status": "completed"
    },
    "tags": []
   },
   "source": [
    "## Modelling"
   ]
  },
  {
   "cell_type": "code",
   "execution_count": 38,
   "id": "3550faa7",
   "metadata": {
    "execution": {
     "iopub.execute_input": "2024-09-30T07:13:42.234707Z",
     "iopub.status.busy": "2024-09-30T07:13:42.233737Z",
     "iopub.status.idle": "2024-09-30T07:13:42.352994Z",
     "shell.execute_reply": "2024-09-30T07:13:42.351764Z"
    },
    "id": "QtbQx4G9cI_z",
    "papermill": {
     "duration": 0.138831,
     "end_time": "2024-09-30T07:13:42.355535",
     "exception": false,
     "start_time": "2024-09-30T07:13:42.216704",
     "status": "completed"
    },
    "tags": []
   },
   "outputs": [],
   "source": [
    "model = Sequential()\n",
    "\n",
    "model.add(LSTM(units = 50,\n",
    "                    activation = 'relu',\n",
    "                    input_shape=(X_train.shape[1], lookback)))\n",
    "\n",
    "model.add(Dropout(0.2))\n",
    "\n",
    "model.add(Dense(1))\n"
   ]
  },
  {
   "cell_type": "code",
   "execution_count": 39,
   "id": "87e328ca",
   "metadata": {
    "execution": {
     "iopub.execute_input": "2024-09-30T07:13:42.388777Z",
     "iopub.status.busy": "2024-09-30T07:13:42.388157Z",
     "iopub.status.idle": "2024-09-30T07:13:42.408447Z",
     "shell.execute_reply": "2024-09-30T07:13:42.407289Z"
    },
    "id": "RQFXIkDbciE6",
    "papermill": {
     "duration": 0.040211,
     "end_time": "2024-09-30T07:13:42.411519",
     "exception": false,
     "start_time": "2024-09-30T07:13:42.371308",
     "status": "completed"
    },
    "tags": []
   },
   "outputs": [
    {
     "data": {
      "text/html": [
       "<pre style=\"white-space:pre;overflow-x:auto;line-height:normal;font-family:Menlo,'DejaVu Sans Mono',consolas,'Courier New',monospace\"><span style=\"font-weight: bold\">Model: \"sequential\"</span>\n",
       "</pre>\n"
      ],
      "text/plain": [
       "\u001b[1mModel: \"sequential\"\u001b[0m\n"
      ]
     },
     "metadata": {},
     "output_type": "display_data"
    },
    {
     "data": {
      "text/html": [
       "<pre style=\"white-space:pre;overflow-x:auto;line-height:normal;font-family:Menlo,'DejaVu Sans Mono',consolas,'Courier New',monospace\">┏━━━━━━━━━━━━━━━━━━━━━━━━━━━━━━━━━┳━━━━━━━━━━━━━━━━━━━━━━━━┳━━━━━━━━━━━━━━━┓\n",
       "┃<span style=\"font-weight: bold\"> Layer (type)                    </span>┃<span style=\"font-weight: bold\"> Output Shape           </span>┃<span style=\"font-weight: bold\">       Param # </span>┃\n",
       "┡━━━━━━━━━━━━━━━━━━━━━━━━━━━━━━━━━╇━━━━━━━━━━━━━━━━━━━━━━━━╇━━━━━━━━━━━━━━━┩\n",
       "│ lstm (<span style=\"color: #0087ff; text-decoration-color: #0087ff\">LSTM</span>)                     │ (<span style=\"color: #00d7ff; text-decoration-color: #00d7ff\">None</span>, <span style=\"color: #00af00; text-decoration-color: #00af00\">50</span>)             │        <span style=\"color: #00af00; text-decoration-color: #00af00\">14,200</span> │\n",
       "├─────────────────────────────────┼────────────────────────┼───────────────┤\n",
       "│ dropout (<span style=\"color: #0087ff; text-decoration-color: #0087ff\">Dropout</span>)               │ (<span style=\"color: #00d7ff; text-decoration-color: #00d7ff\">None</span>, <span style=\"color: #00af00; text-decoration-color: #00af00\">50</span>)             │             <span style=\"color: #00af00; text-decoration-color: #00af00\">0</span> │\n",
       "├─────────────────────────────────┼────────────────────────┼───────────────┤\n",
       "│ dense (<span style=\"color: #0087ff; text-decoration-color: #0087ff\">Dense</span>)                   │ (<span style=\"color: #00d7ff; text-decoration-color: #00d7ff\">None</span>, <span style=\"color: #00af00; text-decoration-color: #00af00\">1</span>)              │            <span style=\"color: #00af00; text-decoration-color: #00af00\">51</span> │\n",
       "└─────────────────────────────────┴────────────────────────┴───────────────┘\n",
       "</pre>\n"
      ],
      "text/plain": [
       "┏━━━━━━━━━━━━━━━━━━━━━━━━━━━━━━━━━┳━━━━━━━━━━━━━━━━━━━━━━━━┳━━━━━━━━━━━━━━━┓\n",
       "┃\u001b[1m \u001b[0m\u001b[1mLayer (type)                   \u001b[0m\u001b[1m \u001b[0m┃\u001b[1m \u001b[0m\u001b[1mOutput Shape          \u001b[0m\u001b[1m \u001b[0m┃\u001b[1m \u001b[0m\u001b[1m      Param #\u001b[0m\u001b[1m \u001b[0m┃\n",
       "┡━━━━━━━━━━━━━━━━━━━━━━━━━━━━━━━━━╇━━━━━━━━━━━━━━━━━━━━━━━━╇━━━━━━━━━━━━━━━┩\n",
       "│ lstm (\u001b[38;5;33mLSTM\u001b[0m)                     │ (\u001b[38;5;45mNone\u001b[0m, \u001b[38;5;34m50\u001b[0m)             │        \u001b[38;5;34m14,200\u001b[0m │\n",
       "├─────────────────────────────────┼────────────────────────┼───────────────┤\n",
       "│ dropout (\u001b[38;5;33mDropout\u001b[0m)               │ (\u001b[38;5;45mNone\u001b[0m, \u001b[38;5;34m50\u001b[0m)             │             \u001b[38;5;34m0\u001b[0m │\n",
       "├─────────────────────────────────┼────────────────────────┼───────────────┤\n",
       "│ dense (\u001b[38;5;33mDense\u001b[0m)                   │ (\u001b[38;5;45mNone\u001b[0m, \u001b[38;5;34m1\u001b[0m)              │            \u001b[38;5;34m51\u001b[0m │\n",
       "└─────────────────────────────────┴────────────────────────┴───────────────┘\n"
      ]
     },
     "metadata": {},
     "output_type": "display_data"
    },
    {
     "data": {
      "text/html": [
       "<pre style=\"white-space:pre;overflow-x:auto;line-height:normal;font-family:Menlo,'DejaVu Sans Mono',consolas,'Courier New',monospace\"><span style=\"font-weight: bold\"> Total params: </span><span style=\"color: #00af00; text-decoration-color: #00af00\">14,251</span> (55.67 KB)\n",
       "</pre>\n"
      ],
      "text/plain": [
       "\u001b[1m Total params: \u001b[0m\u001b[38;5;34m14,251\u001b[0m (55.67 KB)\n"
      ]
     },
     "metadata": {},
     "output_type": "display_data"
    },
    {
     "data": {
      "text/html": [
       "<pre style=\"white-space:pre;overflow-x:auto;line-height:normal;font-family:Menlo,'DejaVu Sans Mono',consolas,'Courier New',monospace\"><span style=\"font-weight: bold\"> Trainable params: </span><span style=\"color: #00af00; text-decoration-color: #00af00\">14,251</span> (55.67 KB)\n",
       "</pre>\n"
      ],
      "text/plain": [
       "\u001b[1m Trainable params: \u001b[0m\u001b[38;5;34m14,251\u001b[0m (55.67 KB)\n"
      ]
     },
     "metadata": {},
     "output_type": "display_data"
    },
    {
     "data": {
      "text/html": [
       "<pre style=\"white-space:pre;overflow-x:auto;line-height:normal;font-family:Menlo,'DejaVu Sans Mono',consolas,'Courier New',monospace\"><span style=\"font-weight: bold\"> Non-trainable params: </span><span style=\"color: #00af00; text-decoration-color: #00af00\">0</span> (0.00 B)\n",
       "</pre>\n"
      ],
      "text/plain": [
       "\u001b[1m Non-trainable params: \u001b[0m\u001b[38;5;34m0\u001b[0m (0.00 B)\n"
      ]
     },
     "metadata": {},
     "output_type": "display_data"
    }
   ],
   "source": [
    "model.summary()"
   ]
  },
  {
   "cell_type": "code",
   "execution_count": 40,
   "id": "fed4bde0",
   "metadata": {
    "execution": {
     "iopub.execute_input": "2024-09-30T07:13:42.451259Z",
     "iopub.status.busy": "2024-09-30T07:13:42.450327Z",
     "iopub.status.idle": "2024-09-30T07:13:42.466341Z",
     "shell.execute_reply": "2024-09-30T07:13:42.465290Z"
    },
    "id": "NE6_O7IwclkT",
    "papermill": {
     "duration": 0.036187,
     "end_time": "2024-09-30T07:13:42.468929",
     "exception": false,
     "start_time": "2024-09-30T07:13:42.432742",
     "status": "completed"
    },
    "tags": []
   },
   "outputs": [],
   "source": [
    "model.compile(loss='mean_squared_error', optimizer='adam')"
   ]
  },
  {
   "cell_type": "code",
   "execution_count": 41,
   "id": "29811ceb",
   "metadata": {
    "execution": {
     "iopub.execute_input": "2024-09-30T07:13:42.504060Z",
     "iopub.status.busy": "2024-09-30T07:13:42.503068Z",
     "iopub.status.idle": "2024-09-30T07:13:42.508941Z",
     "shell.execute_reply": "2024-09-30T07:13:42.507792Z"
    },
    "id": "JLqjYZudc3Is",
    "papermill": {
     "duration": 0.025705,
     "end_time": "2024-09-30T07:13:42.511066",
     "exception": false,
     "start_time": "2024-09-30T07:13:42.485361",
     "status": "completed"
    },
    "tags": []
   },
   "outputs": [],
   "source": [
    "callbacks = (EarlyStopping(monitor='val_loss', patience=10, verbose=1, mode='min'),\n",
    "            ModelCheckpoint(filepath='mymodel.keras', monitor='val_loss', mode='min',\n",
    "            save_best_only = True, save_weights_only = False, verbose = 1))"
   ]
  },
  {
   "cell_type": "code",
   "execution_count": 42,
   "id": "cfb19fbe",
   "metadata": {
    "execution": {
     "iopub.execute_input": "2024-09-30T07:13:42.546559Z",
     "iopub.status.busy": "2024-09-30T07:13:42.546099Z",
     "iopub.status.idle": "2024-09-30T07:13:50.758826Z",
     "shell.execute_reply": "2024-09-30T07:13:50.757782Z"
    },
    "id": "7Pv-Fb9FdSf7",
    "papermill": {
     "duration": 8.232974,
     "end_time": "2024-09-30T07:13:50.761257",
     "exception": false,
     "start_time": "2024-09-30T07:13:42.528283",
     "status": "completed"
    },
    "tags": []
   },
   "outputs": [
    {
     "name": "stdout",
     "output_type": "stream",
     "text": [
      "Epoch 1/100\n",
      "\u001b[1m77/96\u001b[0m \u001b[32m━━━━━━━━━━━━━━━━\u001b[0m\u001b[37m━━━━\u001b[0m \u001b[1m0s\u001b[0m 2ms/step - loss: 0.0020    \n",
      "Epoch 1: val_loss improved from inf to 0.00326, saving model to mymodel.keras\n",
      "\u001b[1m96/96\u001b[0m \u001b[32m━━━━━━━━━━━━━━━━━━━━\u001b[0m\u001b[37m\u001b[0m \u001b[1m2s\u001b[0m 6ms/step - loss: 0.0027 - val_loss: 0.0033\n",
      "Epoch 2/100\n",
      "\u001b[1m78/96\u001b[0m \u001b[32m━━━━━━━━━━━━━━━━\u001b[0m\u001b[37m━━━━\u001b[0m \u001b[1m0s\u001b[0m 2ms/step - loss: 0.0034\n",
      "Epoch 2: val_loss improved from 0.00326 to 0.00297, saving model to mymodel.keras\n",
      "\u001b[1m96/96\u001b[0m \u001b[32m━━━━━━━━━━━━━━━━━━━━\u001b[0m\u001b[37m\u001b[0m \u001b[1m0s\u001b[0m 3ms/step - loss: 0.0038 - val_loss: 0.0030\n",
      "Epoch 3/100\n",
      "\u001b[1m75/96\u001b[0m \u001b[32m━━━━━━━━━━━━━━━\u001b[0m\u001b[37m━━━━━\u001b[0m \u001b[1m0s\u001b[0m 2ms/step - loss: 0.0022\n",
      "Epoch 3: val_loss improved from 0.00297 to 0.00252, saving model to mymodel.keras\n",
      "\u001b[1m96/96\u001b[0m \u001b[32m━━━━━━━━━━━━━━━━━━━━\u001b[0m\u001b[37m\u001b[0m \u001b[1m0s\u001b[0m 3ms/step - loss: 0.0026 - val_loss: 0.0025\n",
      "Epoch 4/100\n",
      "\u001b[1m78/96\u001b[0m \u001b[32m━━━━━━━━━━━━━━━━\u001b[0m\u001b[37m━━━━\u001b[0m \u001b[1m0s\u001b[0m 2ms/step - loss: 0.0015\n",
      "Epoch 4: val_loss improved from 0.00252 to 0.00232, saving model to mymodel.keras\n",
      "\u001b[1m96/96\u001b[0m \u001b[32m━━━━━━━━━━━━━━━━━━━━\u001b[0m\u001b[37m\u001b[0m \u001b[1m0s\u001b[0m 3ms/step - loss: 0.0019 - val_loss: 0.0023\n",
      "Epoch 5/100\n",
      "\u001b[1m81/96\u001b[0m \u001b[32m━━━━━━━━━━━━━━━━\u001b[0m\u001b[37m━━━━\u001b[0m \u001b[1m0s\u001b[0m 2ms/step - loss: 0.0013    \n",
      "Epoch 5: val_loss did not improve from 0.00232\n",
      "\u001b[1m96/96\u001b[0m \u001b[32m━━━━━━━━━━━━━━━━━━━━\u001b[0m\u001b[37m\u001b[0m \u001b[1m0s\u001b[0m 2ms/step - loss: 0.0017 - val_loss: 0.0023\n",
      "Epoch 6/100\n",
      "\u001b[1m84/96\u001b[0m \u001b[32m━━━━━━━━━━━━━━━━━\u001b[0m\u001b[37m━━━\u001b[0m \u001b[1m0s\u001b[0m 2ms/step - loss: 0.0012    \n",
      "Epoch 6: val_loss improved from 0.00232 to 0.00222, saving model to mymodel.keras\n",
      "\u001b[1m96/96\u001b[0m \u001b[32m━━━━━━━━━━━━━━━━━━━━\u001b[0m\u001b[37m\u001b[0m \u001b[1m0s\u001b[0m 3ms/step - loss: 0.0016 - val_loss: 0.0022\n",
      "Epoch 7/100\n",
      "\u001b[1m83/96\u001b[0m \u001b[32m━━━━━━━━━━━━━━━━━\u001b[0m\u001b[37m━━━\u001b[0m \u001b[1m0s\u001b[0m 2ms/step - loss: 0.0013    \n",
      "Epoch 7: val_loss improved from 0.00222 to 0.00213, saving model to mymodel.keras\n",
      "\u001b[1m96/96\u001b[0m \u001b[32m━━━━━━━━━━━━━━━━━━━━\u001b[0m\u001b[37m\u001b[0m \u001b[1m0s\u001b[0m 3ms/step - loss: 0.0016 - val_loss: 0.0021\n",
      "Epoch 8/100\n",
      "\u001b[1m79/96\u001b[0m \u001b[32m━━━━━━━━━━━━━━━━\u001b[0m\u001b[37m━━━━\u001b[0m \u001b[1m0s\u001b[0m 2ms/step - loss: 0.0011    \n",
      "Epoch 8: val_loss improved from 0.00213 to 0.00194, saving model to mymodel.keras\n",
      "\u001b[1m96/96\u001b[0m \u001b[32m━━━━━━━━━━━━━━━━━━━━\u001b[0m\u001b[37m\u001b[0m \u001b[1m0s\u001b[0m 3ms/step - loss: 0.0015 - val_loss: 0.0019\n",
      "Epoch 9/100\n",
      "\u001b[1m80/96\u001b[0m \u001b[32m━━━━━━━━━━━━━━━━\u001b[0m\u001b[37m━━━━\u001b[0m \u001b[1m0s\u001b[0m 2ms/step - loss: 0.0011    \n",
      "Epoch 9: val_loss improved from 0.00194 to 0.00181, saving model to mymodel.keras\n",
      "\u001b[1m96/96\u001b[0m \u001b[32m━━━━━━━━━━━━━━━━━━━━\u001b[0m\u001b[37m\u001b[0m \u001b[1m0s\u001b[0m 3ms/step - loss: 0.0014 - val_loss: 0.0018\n",
      "Epoch 10/100\n",
      "\u001b[1m77/96\u001b[0m \u001b[32m━━━━━━━━━━━━━━━━\u001b[0m\u001b[37m━━━━\u001b[0m \u001b[1m0s\u001b[0m 2ms/step - loss: 0.0011    \n",
      "Epoch 10: val_loss did not improve from 0.00181\n",
      "\u001b[1m96/96\u001b[0m \u001b[32m━━━━━━━━━━━━━━━━━━━━\u001b[0m\u001b[37m\u001b[0m \u001b[1m0s\u001b[0m 3ms/step - loss: 0.0014 - val_loss: 0.0019\n",
      "Epoch 11/100\n",
      "\u001b[1m86/96\u001b[0m \u001b[32m━━━━━━━━━━━━━━━━━\u001b[0m\u001b[37m━━━\u001b[0m \u001b[1m0s\u001b[0m 2ms/step - loss: 0.0014    \n",
      "Epoch 11: val_loss did not improve from 0.00181\n",
      "\u001b[1m96/96\u001b[0m \u001b[32m━━━━━━━━━━━━━━━━━━━━\u001b[0m\u001b[37m\u001b[0m \u001b[1m0s\u001b[0m 2ms/step - loss: 0.0016 - val_loss: 0.0021\n",
      "Epoch 12/100\n",
      "\u001b[1m83/96\u001b[0m \u001b[32m━━━━━━━━━━━━━━━━━\u001b[0m\u001b[37m━━━\u001b[0m \u001b[1m0s\u001b[0m 2ms/step - loss: 0.0014\n",
      "Epoch 12: val_loss improved from 0.00181 to 0.00178, saving model to mymodel.keras\n",
      "\u001b[1m96/96\u001b[0m \u001b[32m━━━━━━━━━━━━━━━━━━━━\u001b[0m\u001b[37m\u001b[0m \u001b[1m0s\u001b[0m 3ms/step - loss: 0.0017 - val_loss: 0.0018\n",
      "Epoch 13/100\n",
      "\u001b[1m84/96\u001b[0m \u001b[32m━━━━━━━━━━━━━━━━━\u001b[0m\u001b[37m━━━\u001b[0m \u001b[1m0s\u001b[0m 2ms/step - loss: 0.0013    \n",
      "Epoch 13: val_loss did not improve from 0.00178\n",
      "\u001b[1m96/96\u001b[0m \u001b[32m━━━━━━━━━━━━━━━━━━━━\u001b[0m\u001b[37m\u001b[0m \u001b[1m0s\u001b[0m 2ms/step - loss: 0.0016 - val_loss: 0.0022\n",
      "Epoch 14/100\n",
      "\u001b[1m82/96\u001b[0m \u001b[32m━━━━━━━━━━━━━━━━━\u001b[0m\u001b[37m━━━\u001b[0m \u001b[1m0s\u001b[0m 2ms/step - loss: 0.0015\n",
      "Epoch 14: val_loss did not improve from 0.00178\n",
      "\u001b[1m96/96\u001b[0m \u001b[32m━━━━━━━━━━━━━━━━━━━━\u001b[0m\u001b[37m\u001b[0m \u001b[1m0s\u001b[0m 2ms/step - loss: 0.0018 - val_loss: 0.0026\n",
      "Epoch 15/100\n",
      "\u001b[1m81/96\u001b[0m \u001b[32m━━━━━━━━━━━━━━━━\u001b[0m\u001b[37m━━━━\u001b[0m \u001b[1m0s\u001b[0m 2ms/step - loss: 0.0015\n",
      "Epoch 15: val_loss did not improve from 0.00178\n",
      "\u001b[1m96/96\u001b[0m \u001b[32m━━━━━━━━━━━━━━━━━━━━\u001b[0m\u001b[37m\u001b[0m \u001b[1m0s\u001b[0m 2ms/step - loss: 0.0018 - val_loss: 0.0029\n",
      "Epoch 16/100\n",
      "\u001b[1m84/96\u001b[0m \u001b[32m━━━━━━━━━━━━━━━━━\u001b[0m\u001b[37m━━━\u001b[0m \u001b[1m0s\u001b[0m 2ms/step - loss: 0.0016\n",
      "Epoch 16: val_loss did not improve from 0.00178\n",
      "\u001b[1m96/96\u001b[0m \u001b[32m━━━━━━━━━━━━━━━━━━━━\u001b[0m\u001b[37m\u001b[0m \u001b[1m0s\u001b[0m 2ms/step - loss: 0.0018 - val_loss: 0.0033\n",
      "Epoch 17/100\n",
      "\u001b[1m84/96\u001b[0m \u001b[32m━━━━━━━━━━━━━━━━━\u001b[0m\u001b[37m━━━\u001b[0m \u001b[1m0s\u001b[0m 2ms/step - loss: 0.0016\n",
      "Epoch 17: val_loss did not improve from 0.00178\n",
      "\u001b[1m96/96\u001b[0m \u001b[32m━━━━━━━━━━━━━━━━━━━━\u001b[0m\u001b[37m\u001b[0m \u001b[1m0s\u001b[0m 2ms/step - loss: 0.0019 - val_loss: 0.0051\n",
      "Epoch 18/100\n",
      "\u001b[1m82/96\u001b[0m \u001b[32m━━━━━━━━━━━━━━━━━\u001b[0m\u001b[37m━━━\u001b[0m \u001b[1m0s\u001b[0m 2ms/step - loss: 0.0021\n",
      "Epoch 18: val_loss did not improve from 0.00178\n",
      "\u001b[1m96/96\u001b[0m \u001b[32m━━━━━━━━━━━━━━━━━━━━\u001b[0m\u001b[37m\u001b[0m \u001b[1m0s\u001b[0m 3ms/step - loss: 0.0024 - val_loss: 0.0075\n",
      "Epoch 19/100\n",
      "\u001b[1m83/96\u001b[0m \u001b[32m━━━━━━━━━━━━━━━━━\u001b[0m\u001b[37m━━━\u001b[0m \u001b[1m0s\u001b[0m 2ms/step - loss: 0.0021\n",
      "Epoch 19: val_loss did not improve from 0.00178\n",
      "\u001b[1m96/96\u001b[0m \u001b[32m━━━━━━━━━━━━━━━━━━━━\u001b[0m\u001b[37m\u001b[0m \u001b[1m0s\u001b[0m 2ms/step - loss: 0.0024 - val_loss: 0.0069\n",
      "Epoch 20/100\n",
      "\u001b[1m84/96\u001b[0m \u001b[32m━━━━━━━━━━━━━━━━━\u001b[0m\u001b[37m━━━\u001b[0m \u001b[1m0s\u001b[0m 2ms/step - loss: 0.0017\n",
      "Epoch 20: val_loss did not improve from 0.00178\n",
      "\u001b[1m96/96\u001b[0m \u001b[32m━━━━━━━━━━━━━━━━━━━━\u001b[0m\u001b[37m\u001b[0m \u001b[1m0s\u001b[0m 2ms/step - loss: 0.0020 - val_loss: 0.0097\n",
      "Epoch 21/100\n",
      "\u001b[1m81/96\u001b[0m \u001b[32m━━━━━━━━━━━━━━━━\u001b[0m\u001b[37m━━━━\u001b[0m \u001b[1m0s\u001b[0m 2ms/step - loss: 0.0018\n",
      "Epoch 21: val_loss did not improve from 0.00178\n",
      "\u001b[1m96/96\u001b[0m \u001b[32m━━━━━━━━━━━━━━━━━━━━\u001b[0m\u001b[37m\u001b[0m \u001b[1m0s\u001b[0m 2ms/step - loss: 0.0022 - val_loss: 0.0083\n",
      "Epoch 22/100\n",
      "\u001b[1m85/96\u001b[0m \u001b[32m━━━━━━━━━━━━━━━━━\u001b[0m\u001b[37m━━━\u001b[0m \u001b[1m0s\u001b[0m 2ms/step - loss: 0.0016\n",
      "Epoch 22: val_loss did not improve from 0.00178\n",
      "\u001b[1m96/96\u001b[0m \u001b[32m━━━━━━━━━━━━━━━━━━━━\u001b[0m\u001b[37m\u001b[0m \u001b[1m0s\u001b[0m 2ms/step - loss: 0.0020 - val_loss: 0.0110\n",
      "Epoch 22: early stopping\n"
     ]
    }
   ],
   "source": [
    "history = model.fit(x=X_train,\n",
    "                    y=y_train,\n",
    "                    epochs=100,\n",
    "                    batch_size=20,\n",
    "                    validation_data=(X_test, y_test),\n",
    "                    callbacks=[callbacks],\n",
    "                    shuffle=False)"
   ]
  },
  {
   "cell_type": "code",
   "execution_count": 43,
   "id": "b9a778af",
   "metadata": {
    "execution": {
     "iopub.execute_input": "2024-09-30T07:13:50.817118Z",
     "iopub.status.busy": "2024-09-30T07:13:50.816711Z",
     "iopub.status.idle": "2024-09-30T07:13:51.059597Z",
     "shell.execute_reply": "2024-09-30T07:13:51.058391Z"
    },
    "id": "VzxR8n1yeGpV",
    "papermill": {
     "duration": 0.273484,
     "end_time": "2024-09-30T07:13:51.062138",
     "exception": false,
     "start_time": "2024-09-30T07:13:50.788654",
     "status": "completed"
    },
    "tags": []
   },
   "outputs": [
    {
     "data": {
      "image/png": "[encoded data removed]",
      "text/plain": [
       "<Figure size 2000x500 with 1 Axes>"
      ]
     },
     "metadata": {},
     "output_type": "display_data"
    }
   ],
   "source": [
    "plt.figure(figsize=(20,5))\n",
    "plt.subplot(1,2,1)\n",
    "plt.plot(history.history['loss'], label='Training Loss')\n",
    "plt.plot(history.history['val_loss'], label='Validation Loss')\n",
    "plt.legend(loc='upper right')\n",
    "plt.xlabel('Epoch', fontsize = 16)\n",
    "plt.ylabel('Loss', fontsize = 16)\n",
    "plt.ylim([0,max(plt.ylim())])\n",
    "plt.title('Training and Validation Loss', fontsize = 16)\n",
    "plt.show()"
   ]
  },
  {
   "cell_type": "markdown",
   "id": "c685cf08",
   "metadata": {
    "id": "XO0NGWQWerLU",
    "papermill": {
     "duration": 0.027075,
     "end_time": "2024-09-30T07:13:51.117002",
     "exception": false,
     "start_time": "2024-09-30T07:13:51.089927",
     "status": "completed"
    },
    "tags": []
   },
   "source": [
    "## Evaluation"
   ]
  },
  {
   "cell_type": "code",
   "execution_count": 44,
   "id": "12f06ced",
   "metadata": {
    "execution": {
     "iopub.execute_input": "2024-09-30T07:13:51.173177Z",
     "iopub.status.busy": "2024-09-30T07:13:51.172362Z",
     "iopub.status.idle": "2024-09-30T07:13:51.738965Z",
     "shell.execute_reply": "2024-09-30T07:13:51.737760Z"
    },
    "id": "hyeoNUjxetH-",
    "papermill": {
     "duration": 0.597431,
     "end_time": "2024-09-30T07:13:51.741280",
     "exception": false,
     "start_time": "2024-09-30T07:13:51.143849",
     "status": "completed"
    },
    "tags": []
   },
   "outputs": [
    {
     "name": "stdout",
     "output_type": "stream",
     "text": [
      "\u001b[1m463/463\u001b[0m \u001b[32m━━━━━━━━━━━━━━━━━━━━\u001b[0m\u001b[37m\u001b[0m \u001b[1m1s\u001b[0m 1ms/step - loss: 0.0126\n",
      "\n",
      "Test Loss: 1.1%\n"
     ]
    }
   ],
   "source": [
    "loss = model.evaluate(X_test, y_test, batch_size=1)\n",
    "print(\"\\nTest Loss: %.1f%%\" % (100.0 * loss))"
   ]
  },
  {
   "cell_type": "code",
   "execution_count": 45,
   "id": "65868e64",
   "metadata": {
    "execution": {
     "iopub.execute_input": "2024-09-30T07:13:51.800662Z",
     "iopub.status.busy": "2024-09-30T07:13:51.799855Z",
     "iopub.status.idle": "2024-09-30T07:13:52.274860Z",
     "shell.execute_reply": "2024-09-30T07:13:52.273828Z"
    },
    "id": "9e854j_NfFTV",
    "papermill": {
     "duration": 0.507742,
     "end_time": "2024-09-30T07:13:52.277371",
     "exception": false,
     "start_time": "2024-09-30T07:13:51.769629",
     "status": "completed"
    },
    "tags": []
   },
   "outputs": [
    {
     "name": "stdout",
     "output_type": "stream",
     "text": [
      "\u001b[1m60/60\u001b[0m \u001b[32m━━━━━━━━━━━━━━━━━━━━\u001b[0m\u001b[37m\u001b[0m \u001b[1m0s\u001b[0m 4ms/step\n"
     ]
    }
   ],
   "source": [
    "train_predict = model.predict(X_train)"
   ]
  },
  {
   "cell_type": "code",
   "execution_count": 46,
   "id": "51b0dd36",
   "metadata": {
    "execution": {
     "iopub.execute_input": "2024-09-30T07:13:52.334765Z",
     "iopub.status.busy": "2024-09-30T07:13:52.334355Z",
     "iopub.status.idle": "2024-09-30T07:13:52.436883Z",
     "shell.execute_reply": "2024-09-30T07:13:52.435918Z"
    },
    "id": "GZgJuMd-fqZW",
    "papermill": {
     "duration": 0.134163,
     "end_time": "2024-09-30T07:13:52.439362",
     "exception": false,
     "start_time": "2024-09-30T07:13:52.305199",
     "status": "completed"
    },
    "tags": []
   },
   "outputs": [
    {
     "name": "stdout",
     "output_type": "stream",
     "text": [
      "\u001b[1m15/15\u001b[0m \u001b[32m━━━━━━━━━━━━━━━━━━━━\u001b[0m\u001b[37m\u001b[0m \u001b[1m0s\u001b[0m 1ms/step \n"
     ]
    }
   ],
   "source": [
    "test_predict = model.predict(X_test)"
   ]
  },
  {
   "cell_type": "code",
   "execution_count": 47,
   "id": "f6783bb7",
   "metadata": {
    "execution": {
     "iopub.execute_input": "2024-09-30T07:13:52.497348Z",
     "iopub.status.busy": "2024-09-30T07:13:52.496899Z",
     "iopub.status.idle": "2024-09-30T07:13:52.502511Z",
     "shell.execute_reply": "2024-09-30T07:13:52.501421Z"
    },
    "id": "FcH_8U3tfsGm",
    "papermill": {
     "duration": 0.037215,
     "end_time": "2024-09-30T07:13:52.504719",
     "exception": false,
     "start_time": "2024-09-30T07:13:52.467504",
     "status": "completed"
    },
    "tags": []
   },
   "outputs": [],
   "source": [
    "train_predict = scaler_train.inverse_transform(train_predict)\n",
    "test_predict = scaler_test.inverse_transform(test_predict)"
   ]
  },
  {
   "cell_type": "code",
   "execution_count": 48,
   "id": "4b6d7f39",
   "metadata": {
    "execution": {
     "iopub.execute_input": "2024-09-30T07:13:52.581147Z",
     "iopub.status.busy": "2024-09-30T07:13:52.580678Z",
     "iopub.status.idle": "2024-09-30T07:13:52.586712Z",
     "shell.execute_reply": "2024-09-30T07:13:52.585633Z"
    },
    "id": "DsGDu-NKf912",
    "papermill": {
     "duration": 0.055831,
     "end_time": "2024-09-30T07:13:52.588939",
     "exception": false,
     "start_time": "2024-09-30T07:13:52.533108",
     "status": "completed"
    },
    "tags": []
   },
   "outputs": [],
   "source": [
    "y_train = scaler_train.inverse_transform(y_train)\n",
    "y_test = scaler_test.inverse_transform(y_test)"
   ]
  },
  {
   "cell_type": "code",
   "execution_count": 49,
   "id": "ac016195",
   "metadata": {
    "execution": {
     "iopub.execute_input": "2024-09-30T07:13:52.648430Z",
     "iopub.status.busy": "2024-09-30T07:13:52.648007Z",
     "iopub.status.idle": "2024-09-30T07:13:52.653731Z",
     "shell.execute_reply": "2024-09-30T07:13:52.652634Z"
    },
    "id": "ZLXqwAU7gGW2",
    "papermill": {
     "duration": 0.038028,
     "end_time": "2024-09-30T07:13:52.655826",
     "exception": false,
     "start_time": "2024-09-30T07:13:52.617798",
     "status": "completed"
    },
    "tags": []
   },
   "outputs": [],
   "source": [
    "train_rmse = np.sqrt(mean_squared_error(y_train, train_predict))"
   ]
  },
  {
   "cell_type": "code",
   "execution_count": 50,
   "id": "04722f77",
   "metadata": {
    "execution": {
     "iopub.execute_input": "2024-09-30T07:13:52.714182Z",
     "iopub.status.busy": "2024-09-30T07:13:52.713770Z",
     "iopub.status.idle": "2024-09-30T07:13:52.719580Z",
     "shell.execute_reply": "2024-09-30T07:13:52.718505Z"
    },
    "id": "76WbnJaIgJ4g",
    "papermill": {
     "duration": 0.037786,
     "end_time": "2024-09-30T07:13:52.721767",
     "exception": false,
     "start_time": "2024-09-30T07:13:52.683981",
     "status": "completed"
    },
    "tags": []
   },
   "outputs": [],
   "source": [
    "test_rmse = np.sqrt(mean_squared_error(y_test, test_predict))"
   ]
  },
  {
   "cell_type": "code",
   "execution_count": 51,
   "id": "6815e069",
   "metadata": {
    "execution": {
     "iopub.execute_input": "2024-09-30T07:13:52.782905Z",
     "iopub.status.busy": "2024-09-30T07:13:52.781696Z",
     "iopub.status.idle": "2024-09-30T07:13:52.788043Z",
     "shell.execute_reply": "2024-09-30T07:13:52.786903Z"
    },
    "id": "WcUBQBz7gMV2",
    "papermill": {
     "duration": 0.039187,
     "end_time": "2024-09-30T07:13:52.790680",
     "exception": false,
     "start_time": "2024-09-30T07:13:52.751493",
     "status": "completed"
    },
    "tags": []
   },
   "outputs": [
    {
     "name": "stdout",
     "output_type": "stream",
     "text": [
      "Train RMSE: 42.66703796386719\n",
      "Test RMSE: 63.11943054199219\n"
     ]
    }
   ],
   "source": [
    "print(f\"Train RMSE: {train_rmse}\")\n",
    "print(f\"Test RMSE: {test_rmse}\")"
   ]
  },
  {
   "cell_type": "code",
   "execution_count": 52,
   "id": "ff598db3",
   "metadata": {
    "execution": {
     "iopub.execute_input": "2024-09-30T07:13:52.849808Z",
     "iopub.status.busy": "2024-09-30T07:13:52.848794Z",
     "iopub.status.idle": "2024-09-30T07:13:52.881621Z",
     "shell.execute_reply": "2024-09-30T07:13:52.880283Z"
    },
    "id": "t_llof9mgYz_",
    "papermill": {
     "duration": 0.065274,
     "end_time": "2024-09-30T07:13:52.884362",
     "exception": false,
     "start_time": "2024-09-30T07:13:52.819088",
     "status": "completed"
    },
    "tags": []
   },
   "outputs": [
    {
     "data": {
      "text/html": [
       "<div>\n",
       "<style scoped>\n",
       "    .dataframe tbody tr th:only-of-type {\n",
       "        vertical-align: middle;\n",
       "    }\n",
       "\n",
       "    .dataframe tbody tr th {\n",
       "        vertical-align: top;\n",
       "    }\n",
       "\n",
       "    .dataframe thead th {\n",
       "        text-align: right;\n",
       "    }\n",
       "</style>\n",
       "<table border=\"1\" class=\"dataframe\">\n",
       "  <thead>\n",
       "    <tr style=\"text-align: right;\">\n",
       "      <th></th>\n",
       "      <th>count</th>\n",
       "      <th>mean</th>\n",
       "      <th>min</th>\n",
       "      <th>25%</th>\n",
       "      <th>50%</th>\n",
       "      <th>75%</th>\n",
       "      <th>max</th>\n",
       "      <th>std</th>\n",
       "    </tr>\n",
       "  </thead>\n",
       "  <tbody>\n",
       "    <tr>\n",
       "      <th>Date</th>\n",
       "      <td>2416</td>\n",
       "      <td>2015-04-15 11:09:56.026490112</td>\n",
       "      <td>2010-06-29 00:00:00</td>\n",
       "      <td>2012-11-19 18:00:00</td>\n",
       "      <td>2015-04-16 12:00:00</td>\n",
       "      <td>2017-09-07 06:00:00</td>\n",
       "      <td>2020-02-03 00:00:00</td>\n",
       "      <td>NaN</td>\n",
       "    </tr>\n",
       "    <tr>\n",
       "      <th>Open</th>\n",
       "      <td>2416.0</td>\n",
       "      <td>186.271147</td>\n",
       "      <td>16.139999</td>\n",
       "      <td>34.342498</td>\n",
       "      <td>213.035004</td>\n",
       "      <td>266.450012</td>\n",
       "      <td>673.690002</td>\n",
       "      <td>118.740163</td>\n",
       "    </tr>\n",
       "    <tr>\n",
       "      <th>High</th>\n",
       "      <td>2416.0</td>\n",
       "      <td>189.578224</td>\n",
       "      <td>16.629999</td>\n",
       "      <td>34.897501</td>\n",
       "      <td>216.745002</td>\n",
       "      <td>270.927513</td>\n",
       "      <td>786.140015</td>\n",
       "      <td>120.892329</td>\n",
       "    </tr>\n",
       "    <tr>\n",
       "      <th>Low</th>\n",
       "      <td>2416.0</td>\n",
       "      <td>182.916639</td>\n",
       "      <td>14.98</td>\n",
       "      <td>33.587501</td>\n",
       "      <td>208.870002</td>\n",
       "      <td>262.102501</td>\n",
       "      <td>673.52002</td>\n",
       "      <td>116.857591</td>\n",
       "    </tr>\n",
       "    <tr>\n",
       "      <th>Close</th>\n",
       "      <td>2416.0</td>\n",
       "      <td>186.403651</td>\n",
       "      <td>15.8</td>\n",
       "      <td>34.400002</td>\n",
       "      <td>212.960007</td>\n",
       "      <td>266.774994</td>\n",
       "      <td>780.0</td>\n",
       "      <td>119.13602</td>\n",
       "    </tr>\n",
       "    <tr>\n",
       "      <th>Adj Close</th>\n",
       "      <td>2416.0</td>\n",
       "      <td>186.403651</td>\n",
       "      <td>15.8</td>\n",
       "      <td>34.400002</td>\n",
       "      <td>212.960007</td>\n",
       "      <td>266.774994</td>\n",
       "      <td>780.0</td>\n",
       "      <td>119.13602</td>\n",
       "    </tr>\n",
       "    <tr>\n",
       "      <th>Volume</th>\n",
       "      <td>2416.0</td>\n",
       "      <td>5572721.688742</td>\n",
       "      <td>118500.0</td>\n",
       "      <td>1899275.0</td>\n",
       "      <td>4578400.0</td>\n",
       "      <td>7361150.0</td>\n",
       "      <td>47065000.0</td>\n",
       "      <td>4987809.151888</td>\n",
       "    </tr>\n",
       "  </tbody>\n",
       "</table>\n",
       "</div>"
      ],
      "text/plain": [
       "            count                           mean                  min  \\\n",
       "Date         2416  2015-04-15 11:09:56.026490112  2010-06-29 00:00:00   \n",
       "Open       2416.0                     186.271147            16.139999   \n",
       "High       2416.0                     189.578224            16.629999   \n",
       "Low        2416.0                     182.916639                14.98   \n",
       "Close      2416.0                     186.403651                 15.8   \n",
       "Adj Close  2416.0                     186.403651                 15.8   \n",
       "Volume     2416.0                 5572721.688742             118500.0   \n",
       "\n",
       "                           25%                  50%                  75%  \\\n",
       "Date       2012-11-19 18:00:00  2015-04-16 12:00:00  2017-09-07 06:00:00   \n",
       "Open                 34.342498           213.035004           266.450012   \n",
       "High                 34.897501           216.745002           270.927513   \n",
       "Low                  33.587501           208.870002           262.102501   \n",
       "Close                34.400002           212.960007           266.774994   \n",
       "Adj Close            34.400002           212.960007           266.774994   \n",
       "Volume               1899275.0            4578400.0            7361150.0   \n",
       "\n",
       "                           max             std  \n",
       "Date       2020-02-03 00:00:00             NaN  \n",
       "Open                673.690002      118.740163  \n",
       "High                786.140015      120.892329  \n",
       "Low                  673.52002      116.857591  \n",
       "Close                    780.0       119.13602  \n",
       "Adj Close                780.0       119.13602  \n",
       "Volume              47065000.0  4987809.151888  "
      ]
     },
     "execution_count": 52,
     "metadata": {},
     "output_type": "execute_result"
    }
   ],
   "source": [
    "df.describe().T"
   ]
  },
  {
   "cell_type": "code",
   "execution_count": 53,
   "id": "ad039371",
   "metadata": {
    "execution": {
     "iopub.execute_input": "2024-09-30T07:13:52.943375Z",
     "iopub.status.busy": "2024-09-30T07:13:52.942938Z",
     "iopub.status.idle": "2024-09-30T07:13:52.956248Z",
     "shell.execute_reply": "2024-09-30T07:13:52.955088Z"
    },
    "id": "-PSGVpMzgz1O",
    "papermill": {
     "duration": 0.045704,
     "end_time": "2024-09-30T07:13:52.958497",
     "exception": false,
     "start_time": "2024-09-30T07:13:52.912793",
     "status": "completed"
    },
    "tags": []
   },
   "outputs": [
    {
     "data": {
      "text/html": [
       "<div>\n",
       "<style scoped>\n",
       "    .dataframe tbody tr th:only-of-type {\n",
       "        vertical-align: middle;\n",
       "    }\n",
       "\n",
       "    .dataframe tbody tr th {\n",
       "        vertical-align: top;\n",
       "    }\n",
       "\n",
       "    .dataframe thead th {\n",
       "        text-align: right;\n",
       "    }\n",
       "</style>\n",
       "<table border=\"1\" class=\"dataframe\">\n",
       "  <thead>\n",
       "    <tr style=\"text-align: right;\">\n",
       "      <th></th>\n",
       "      <th>Close</th>\n",
       "      <th>Predicted</th>\n",
       "    </tr>\n",
       "    <tr>\n",
       "      <th>Date</th>\n",
       "      <th></th>\n",
       "      <th></th>\n",
       "    </tr>\n",
       "  </thead>\n",
       "  <tbody>\n",
       "    <tr>\n",
       "      <th>2010-07-28</th>\n",
       "      <td>20.719999</td>\n",
       "      <td>38.363102</td>\n",
       "    </tr>\n",
       "    <tr>\n",
       "      <th>2010-07-29</th>\n",
       "      <td>20.350000</td>\n",
       "      <td>38.363102</td>\n",
       "    </tr>\n",
       "    <tr>\n",
       "      <th>2010-07-30</th>\n",
       "      <td>19.940001</td>\n",
       "      <td>38.363102</td>\n",
       "    </tr>\n",
       "    <tr>\n",
       "      <th>2010-08-02</th>\n",
       "      <td>20.920000</td>\n",
       "      <td>38.363102</td>\n",
       "    </tr>\n",
       "    <tr>\n",
       "      <th>2010-08-03</th>\n",
       "      <td>21.950001</td>\n",
       "      <td>38.363102</td>\n",
       "    </tr>\n",
       "  </tbody>\n",
       "</table>\n",
       "</div>"
      ],
      "text/plain": [
       "                Close  Predicted\n",
       "Date                            \n",
       "2010-07-28  20.719999  38.363102\n",
       "2010-07-29  20.350000  38.363102\n",
       "2010-07-30  19.940001  38.363102\n",
       "2010-08-02  20.920000  38.363102\n",
       "2010-08-03  21.950001  38.363102"
      ]
     },
     "execution_count": 53,
     "metadata": {},
     "output_type": "execute_result"
    }
   ],
   "source": [
    "train_prediction_df = result_df[lookback:position]\n",
    "train_prediction_df[\"Predicted\"] = train_predict\n",
    "train_prediction_df.head()"
   ]
  },
  {
   "cell_type": "code",
   "execution_count": 54,
   "id": "fefca002",
   "metadata": {
    "execution": {
     "iopub.execute_input": "2024-09-30T07:13:53.018046Z",
     "iopub.status.busy": "2024-09-30T07:13:53.017634Z",
     "iopub.status.idle": "2024-09-30T07:13:53.030500Z",
     "shell.execute_reply": "2024-09-30T07:13:53.029082Z"
    },
    "id": "o7tRAXwOhMSA",
    "papermill": {
     "duration": 0.045514,
     "end_time": "2024-09-30T07:13:53.032862",
     "exception": false,
     "start_time": "2024-09-30T07:13:52.987348",
     "status": "completed"
    },
    "tags": []
   },
   "outputs": [
    {
     "data": {
      "text/html": [
       "<div>\n",
       "<style scoped>\n",
       "    .dataframe tbody tr th:only-of-type {\n",
       "        vertical-align: middle;\n",
       "    }\n",
       "\n",
       "    .dataframe tbody tr th {\n",
       "        vertical-align: top;\n",
       "    }\n",
       "\n",
       "    .dataframe thead th {\n",
       "        text-align: right;\n",
       "    }\n",
       "</style>\n",
       "<table border=\"1\" class=\"dataframe\">\n",
       "  <thead>\n",
       "    <tr style=\"text-align: right;\">\n",
       "      <th></th>\n",
       "      <th>Close</th>\n",
       "      <th>Predicted</th>\n",
       "    </tr>\n",
       "    <tr>\n",
       "      <th>Date</th>\n",
       "      <th></th>\n",
       "      <th></th>\n",
       "    </tr>\n",
       "  </thead>\n",
       "  <tbody>\n",
       "    <tr>\n",
       "      <th>2018-04-03</th>\n",
       "      <td>267.529999</td>\n",
       "      <td>353.173981</td>\n",
       "    </tr>\n",
       "    <tr>\n",
       "      <th>2018-04-04</th>\n",
       "      <td>286.940002</td>\n",
       "      <td>348.151001</td>\n",
       "    </tr>\n",
       "    <tr>\n",
       "      <th>2018-04-05</th>\n",
       "      <td>305.720001</td>\n",
       "      <td>349.998047</td>\n",
       "    </tr>\n",
       "    <tr>\n",
       "      <th>2018-04-06</th>\n",
       "      <td>299.299988</td>\n",
       "      <td>351.069885</td>\n",
       "    </tr>\n",
       "    <tr>\n",
       "      <th>2018-04-09</th>\n",
       "      <td>289.660004</td>\n",
       "      <td>353.542053</td>\n",
       "    </tr>\n",
       "  </tbody>\n",
       "</table>\n",
       "</div>"
      ],
      "text/plain": [
       "                 Close   Predicted\n",
       "Date                              \n",
       "2018-04-03  267.529999  353.173981\n",
       "2018-04-04  286.940002  348.151001\n",
       "2018-04-05  305.720001  349.998047\n",
       "2018-04-06  299.299988  351.069885\n",
       "2018-04-09  289.660004  353.542053"
      ]
     },
     "execution_count": 54,
     "metadata": {},
     "output_type": "execute_result"
    }
   ],
   "source": [
    "test_prediction_df = result_df[position+lookback:]\n",
    "test_prediction_df[\"Predicted\"] = test_predict\n",
    "test_prediction_df.head()"
   ]
  },
  {
   "cell_type": "code",
   "execution_count": 55,
   "id": "c1b76e38",
   "metadata": {
    "execution": {
     "iopub.execute_input": "2024-09-30T07:13:53.093430Z",
     "iopub.status.busy": "2024-09-30T07:13:53.093004Z",
     "iopub.status.idle": "2024-09-30T07:13:53.544121Z",
     "shell.execute_reply": "2024-09-30T07:13:53.542909Z"
    },
    "id": "PJ_-znSchYO_",
    "papermill": {
     "duration": 0.483998,
     "end_time": "2024-09-30T07:13:53.546537",
     "exception": false,
     "start_time": "2024-09-30T07:13:53.062539",
     "status": "completed"
    },
    "tags": []
   },
   "outputs": [
    {
     "data": {
      "image/png": "[encoded data removed]",
      "text/plain": [
       "<Figure size 1400x500 with 1 Axes>"
      ]
     },
     "metadata": {},
     "output_type": "display_data"
    }
   ],
   "source": [
    "plt.figure(figsize=(14,5))\n",
    "plt.plot(result_df, label = \"Real Number of Passengers\")\n",
    "plt.plot(train_prediction_df[\"Predicted\"], color = 'blue', label = \"Train Predicted Number of Passengers\")\n",
    "plt.plot(test_prediction_df[\"Predicted\"],color = 'red', label = \"Test Predicted Number of Passengers\")\n",
    "plt.title(\"Number of Passengers Prediction\")\n",
    "plt.xlabel(\"Time\")\n",
    "plt.ylabel(\"Number of Passengers\")\n",
    "plt.legend()\n",
    "plt.show()"
   ]
  }
 ],
 "metadata": {
  "colab": {
   "provenance": []
  },
  "kaggle": {
   "accelerator": "none",
   "dataSources": [
    {
     "datasetId": 500872,
     "sourceId": 927894,
     "sourceType": "datasetVersion"
    }
   ],
   "dockerImageVersionId": 30761,
   "isGpuEnabled": false,
   "isInternetEnabled": true,
   "language": "python",
   "sourceType": "notebook"
  },
  "kernelspec": {
   "display_name": "Python 3",
   "language": "python",
   "name": "python3"
  },
  "language_info": {
   "codemirror_mode": {
    "name": "ipython",
    "version": 3
   },
   "file_extension": ".py",
   "mimetype": "text/x-python",
   "name": "python",
   "nbconvert_exporter": "python",
   "pygments_lexer": "ipython3",
   "version": "3.10.14"
  },
  "papermill": {
   "default_parameters": {},
   "duration": 34.539313,
   "end_time": "2024-09-30T07:13:56.092770",
   "environment_variables": {},
   "exception": null,
   "input_path": "__notebook__.ipynb",
   "output_path": "__notebook__.ipynb",
   "parameters": {},
   "start_time": "2024-09-30T07:13:21.553457",
   "version": "2.6.0"
  }
 },
 "nbformat": 4,
 "nbformat_minor": 5
}
