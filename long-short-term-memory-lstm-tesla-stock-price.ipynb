{
 "cells": [
  {
   "cell_type": "markdown",
   "id": "d75c7594",
   "metadata": {
    "id": "4unSJJjsT8BM",
    "papermill": {
     "duration": 0.019216,
     "end_time": "2024-10-06T07:11:39.868045",
     "exception": false,
     "start_time": "2024-10-06T07:11:39.848829",
     "status": "completed"
    },
    "tags": []
   },
   "source": [
    "# Tesla - Stock Price Prediction\n",
    "\n",
    "---\n",
    "\n"
   ]
  },
  {
   "cell_type": "markdown",
   "id": "2c5031d5",
   "metadata": {
    "id": "wkRLJL2XUAfT",
    "papermill": {
     "duration": 0.017959,
     "end_time": "2024-10-06T07:11:39.904635",
     "exception": false,
     "start_time": "2024-10-06T07:11:39.886676",
     "status": "completed"
    },
    "tags": []
   },
   "source": [
    "## Business Problem\n",
    "\n",
    "In this notebook, our purpose is to predict of tesla - stock price."
   ]
  },
  {
   "cell_type": "markdown",
   "id": "4f736e02",
   "metadata": {
    "id": "0uxjphZsUwjz",
    "papermill": {
     "duration": 0.018553,
     "end_time": "2024-10-06T07:11:39.941505",
     "exception": false,
     "start_time": "2024-10-06T07:11:39.922952",
     "status": "completed"
    },
    "tags": []
   },
   "source": [
    "## Data Understanding"
   ]
  },
  {
   "cell_type": "code",
   "execution_count": 1,
   "id": "1fb67291",
   "metadata": {
    "execution": {
     "iopub.execute_input": "2024-10-06T07:11:39.980618Z",
     "iopub.status.busy": "2024-10-06T07:11:39.979510Z",
     "iopub.status.idle": "2024-10-06T07:11:56.943753Z",
     "shell.execute_reply": "2024-10-06T07:11:56.942391Z"
    },
    "id": "40IR65rQUyWC",
    "outputId": "4562368d-970e-4fd6-b03e-be036efe4dcd",
    "papermill": {
     "duration": 16.987078,
     "end_time": "2024-10-06T07:11:56.946843",
     "exception": false,
     "start_time": "2024-10-06T07:11:39.959765",
     "status": "completed"
    },
    "tags": []
   },
   "outputs": [],
   "source": [
    "import numpy as np\n",
    "import pandas as pd\n",
    "import datetime as dt\n",
    "import tensorflow as tf\n",
    "import matplotlib.pyplot as plt\n",
    "\n",
    "from sklearn.preprocessing import MinMaxScaler\n",
    "from sklearn.metrics import mean_squared_error\n",
    "\n",
    "from tensorflow.keras.models import Sequential\n",
    "from tensorflow.keras.layers import Dense, LSTM, Dropout\n",
    "from tensorflow.keras.callbacks import ModelCheckpoint, EarlyStopping\n",
    "\n",
    "import warnings\n",
    "warnings.filterwarnings('ignore')\n",
    "\n",
    "import os\n",
    "os.environ['TF_CPP_MIN_LOG_LEVEL'] = '3'\n",
    "tf.compat.v1.logging.set_verbosity(tf.compat.v1.logging.ERROR)"
   ]
  },
  {
   "cell_type": "code",
   "execution_count": 2,
   "id": "14bc8b09",
   "metadata": {
    "execution": {
     "iopub.execute_input": "2024-10-06T07:11:56.986186Z",
     "iopub.status.busy": "2024-10-06T07:11:56.985474Z",
     "iopub.status.idle": "2024-10-06T07:11:57.044956Z",
     "shell.execute_reply": "2024-10-06T07:11:57.043695Z"
    },
    "id": "-be5_efvVpTV",
    "papermill": {
     "duration": 0.08188,
     "end_time": "2024-10-06T07:11:57.047579",
     "exception": false,
     "start_time": "2024-10-06T07:11:56.965699",
     "status": "completed"
    },
    "tags": []
   },
   "outputs": [
    {
     "data": {
      "text/html": [
       "<div>\n",
       "<style scoped>\n",
       "    .dataframe tbody tr th:only-of-type {\n",
       "        vertical-align: middle;\n",
       "    }\n",
       "\n",
       "    .dataframe tbody tr th {\n",
       "        vertical-align: top;\n",
       "    }\n",
       "\n",
       "    .dataframe thead th {\n",
       "        text-align: right;\n",
       "    }\n",
       "</style>\n",
       "<table border=\"1\" class=\"dataframe\">\n",
       "  <thead>\n",
       "    <tr style=\"text-align: right;\">\n",
       "      <th></th>\n",
       "      <th>Date</th>\n",
       "      <th>Open</th>\n",
       "      <th>High</th>\n",
       "      <th>Low</th>\n",
       "      <th>Close</th>\n",
       "      <th>Adj Close</th>\n",
       "      <th>Volume</th>\n",
       "    </tr>\n",
       "  </thead>\n",
       "  <tbody>\n",
       "    <tr>\n",
       "      <th>0</th>\n",
       "      <td>2010-06-29</td>\n",
       "      <td>19.000000</td>\n",
       "      <td>25.000000</td>\n",
       "      <td>17.540001</td>\n",
       "      <td>23.889999</td>\n",
       "      <td>23.889999</td>\n",
       "      <td>18766300</td>\n",
       "    </tr>\n",
       "    <tr>\n",
       "      <th>1</th>\n",
       "      <td>2010-06-30</td>\n",
       "      <td>25.790001</td>\n",
       "      <td>30.420000</td>\n",
       "      <td>23.299999</td>\n",
       "      <td>23.830000</td>\n",
       "      <td>23.830000</td>\n",
       "      <td>17187100</td>\n",
       "    </tr>\n",
       "    <tr>\n",
       "      <th>2</th>\n",
       "      <td>2010-07-01</td>\n",
       "      <td>25.000000</td>\n",
       "      <td>25.920000</td>\n",
       "      <td>20.270000</td>\n",
       "      <td>21.959999</td>\n",
       "      <td>21.959999</td>\n",
       "      <td>8218800</td>\n",
       "    </tr>\n",
       "    <tr>\n",
       "      <th>3</th>\n",
       "      <td>2010-07-02</td>\n",
       "      <td>23.000000</td>\n",
       "      <td>23.100000</td>\n",
       "      <td>18.709999</td>\n",
       "      <td>19.200001</td>\n",
       "      <td>19.200001</td>\n",
       "      <td>5139800</td>\n",
       "    </tr>\n",
       "    <tr>\n",
       "      <th>4</th>\n",
       "      <td>2010-07-06</td>\n",
       "      <td>20.000000</td>\n",
       "      <td>20.000000</td>\n",
       "      <td>15.830000</td>\n",
       "      <td>16.110001</td>\n",
       "      <td>16.110001</td>\n",
       "      <td>6866900</td>\n",
       "    </tr>\n",
       "    <tr>\n",
       "      <th>...</th>\n",
       "      <td>...</td>\n",
       "      <td>...</td>\n",
       "      <td>...</td>\n",
       "      <td>...</td>\n",
       "      <td>...</td>\n",
       "      <td>...</td>\n",
       "      <td>...</td>\n",
       "    </tr>\n",
       "    <tr>\n",
       "      <th>2411</th>\n",
       "      <td>2020-01-28</td>\n",
       "      <td>568.489990</td>\n",
       "      <td>576.809998</td>\n",
       "      <td>558.080017</td>\n",
       "      <td>566.900024</td>\n",
       "      <td>566.900024</td>\n",
       "      <td>11788500</td>\n",
       "    </tr>\n",
       "    <tr>\n",
       "      <th>2412</th>\n",
       "      <td>2020-01-29</td>\n",
       "      <td>575.690002</td>\n",
       "      <td>589.799988</td>\n",
       "      <td>567.429993</td>\n",
       "      <td>580.989990</td>\n",
       "      <td>580.989990</td>\n",
       "      <td>17801500</td>\n",
       "    </tr>\n",
       "    <tr>\n",
       "      <th>2413</th>\n",
       "      <td>2020-01-30</td>\n",
       "      <td>632.419983</td>\n",
       "      <td>650.880005</td>\n",
       "      <td>618.000000</td>\n",
       "      <td>640.809998</td>\n",
       "      <td>640.809998</td>\n",
       "      <td>29005700</td>\n",
       "    </tr>\n",
       "    <tr>\n",
       "      <th>2414</th>\n",
       "      <td>2020-01-31</td>\n",
       "      <td>640.000000</td>\n",
       "      <td>653.000000</td>\n",
       "      <td>632.520020</td>\n",
       "      <td>650.570007</td>\n",
       "      <td>650.570007</td>\n",
       "      <td>15719300</td>\n",
       "    </tr>\n",
       "    <tr>\n",
       "      <th>2415</th>\n",
       "      <td>2020-02-03</td>\n",
       "      <td>673.690002</td>\n",
       "      <td>786.140015</td>\n",
       "      <td>673.520020</td>\n",
       "      <td>780.000000</td>\n",
       "      <td>780.000000</td>\n",
       "      <td>47065000</td>\n",
       "    </tr>\n",
       "  </tbody>\n",
       "</table>\n",
       "<p>2416 rows × 7 columns</p>\n",
       "</div>"
      ],
      "text/plain": [
       "            Date        Open        High         Low       Close   Adj Close  \\\n",
       "0     2010-06-29   19.000000   25.000000   17.540001   23.889999   23.889999   \n",
       "1     2010-06-30   25.790001   30.420000   23.299999   23.830000   23.830000   \n",
       "2     2010-07-01   25.000000   25.920000   20.270000   21.959999   21.959999   \n",
       "3     2010-07-02   23.000000   23.100000   18.709999   19.200001   19.200001   \n",
       "4     2010-07-06   20.000000   20.000000   15.830000   16.110001   16.110001   \n",
       "...          ...         ...         ...         ...         ...         ...   \n",
       "2411  2020-01-28  568.489990  576.809998  558.080017  566.900024  566.900024   \n",
       "2412  2020-01-29  575.690002  589.799988  567.429993  580.989990  580.989990   \n",
       "2413  2020-01-30  632.419983  650.880005  618.000000  640.809998  640.809998   \n",
       "2414  2020-01-31  640.000000  653.000000  632.520020  650.570007  650.570007   \n",
       "2415  2020-02-03  673.690002  786.140015  673.520020  780.000000  780.000000   \n",
       "\n",
       "        Volume  \n",
       "0     18766300  \n",
       "1     17187100  \n",
       "2      8218800  \n",
       "3      5139800  \n",
       "4      6866900  \n",
       "...        ...  \n",
       "2411  11788500  \n",
       "2412  17801500  \n",
       "2413  29005700  \n",
       "2414  15719300  \n",
       "2415  47065000  \n",
       "\n",
       "[2416 rows x 7 columns]"
      ]
     },
     "execution_count": 2,
     "metadata": {},
     "output_type": "execute_result"
    }
   ],
   "source": [
    "df = pd.read_csv('/kaggle/input/tesla-stock-data-from-2010-to-2020/TSLA.csv')\n",
    "df"
   ]
  },
  {
   "cell_type": "code",
   "execution_count": 3,
   "id": "5a4ccd92",
   "metadata": {
    "execution": {
     "iopub.execute_input": "2024-10-06T07:11:57.090627Z",
     "iopub.status.busy": "2024-10-06T07:11:57.089750Z",
     "iopub.status.idle": "2024-10-06T07:11:57.105304Z",
     "shell.execute_reply": "2024-10-06T07:11:57.104129Z"
    },
    "id": "lG_AO3mdVv17",
    "papermill": {
     "duration": 0.040772,
     "end_time": "2024-10-06T07:11:57.107823",
     "exception": false,
     "start_time": "2024-10-06T07:11:57.067051",
     "status": "completed"
    },
    "tags": []
   },
   "outputs": [
    {
     "data": {
      "text/html": [
       "<div>\n",
       "<style scoped>\n",
       "    .dataframe tbody tr th:only-of-type {\n",
       "        vertical-align: middle;\n",
       "    }\n",
       "\n",
       "    .dataframe tbody tr th {\n",
       "        vertical-align: top;\n",
       "    }\n",
       "\n",
       "    .dataframe thead th {\n",
       "        text-align: right;\n",
       "    }\n",
       "</style>\n",
       "<table border=\"1\" class=\"dataframe\">\n",
       "  <thead>\n",
       "    <tr style=\"text-align: right;\">\n",
       "      <th></th>\n",
       "      <th>Date</th>\n",
       "      <th>Open</th>\n",
       "      <th>High</th>\n",
       "      <th>Low</th>\n",
       "      <th>Close</th>\n",
       "      <th>Adj Close</th>\n",
       "      <th>Volume</th>\n",
       "    </tr>\n",
       "  </thead>\n",
       "  <tbody>\n",
       "    <tr>\n",
       "      <th>0</th>\n",
       "      <td>2010-06-29</td>\n",
       "      <td>19.000000</td>\n",
       "      <td>25.00</td>\n",
       "      <td>17.540001</td>\n",
       "      <td>23.889999</td>\n",
       "      <td>23.889999</td>\n",
       "      <td>18766300</td>\n",
       "    </tr>\n",
       "    <tr>\n",
       "      <th>1</th>\n",
       "      <td>2010-06-30</td>\n",
       "      <td>25.790001</td>\n",
       "      <td>30.42</td>\n",
       "      <td>23.299999</td>\n",
       "      <td>23.830000</td>\n",
       "      <td>23.830000</td>\n",
       "      <td>17187100</td>\n",
       "    </tr>\n",
       "    <tr>\n",
       "      <th>2</th>\n",
       "      <td>2010-07-01</td>\n",
       "      <td>25.000000</td>\n",
       "      <td>25.92</td>\n",
       "      <td>20.270000</td>\n",
       "      <td>21.959999</td>\n",
       "      <td>21.959999</td>\n",
       "      <td>8218800</td>\n",
       "    </tr>\n",
       "    <tr>\n",
       "      <th>3</th>\n",
       "      <td>2010-07-02</td>\n",
       "      <td>23.000000</td>\n",
       "      <td>23.10</td>\n",
       "      <td>18.709999</td>\n",
       "      <td>19.200001</td>\n",
       "      <td>19.200001</td>\n",
       "      <td>5139800</td>\n",
       "    </tr>\n",
       "    <tr>\n",
       "      <th>4</th>\n",
       "      <td>2010-07-06</td>\n",
       "      <td>20.000000</td>\n",
       "      <td>20.00</td>\n",
       "      <td>15.830000</td>\n",
       "      <td>16.110001</td>\n",
       "      <td>16.110001</td>\n",
       "      <td>6866900</td>\n",
       "    </tr>\n",
       "  </tbody>\n",
       "</table>\n",
       "</div>"
      ],
      "text/plain": [
       "         Date       Open   High        Low      Close  Adj Close    Volume\n",
       "0  2010-06-29  19.000000  25.00  17.540001  23.889999  23.889999  18766300\n",
       "1  2010-06-30  25.790001  30.42  23.299999  23.830000  23.830000  17187100\n",
       "2  2010-07-01  25.000000  25.92  20.270000  21.959999  21.959999   8218800\n",
       "3  2010-07-02  23.000000  23.10  18.709999  19.200001  19.200001   5139800\n",
       "4  2010-07-06  20.000000  20.00  15.830000  16.110001  16.110001   6866900"
      ]
     },
     "execution_count": 3,
     "metadata": {},
     "output_type": "execute_result"
    }
   ],
   "source": [
    "df.head()"
   ]
  },
  {
   "cell_type": "code",
   "execution_count": 4,
   "id": "21cdbbc0",
   "metadata": {
    "execution": {
     "iopub.execute_input": "2024-10-06T07:11:57.149344Z",
     "iopub.status.busy": "2024-10-06T07:11:57.148907Z",
     "iopub.status.idle": "2024-10-06T07:11:57.156960Z",
     "shell.execute_reply": "2024-10-06T07:11:57.155672Z"
    },
    "id": "TU5hlfyvVxY0",
    "papermill": {
     "duration": 0.031761,
     "end_time": "2024-10-06T07:11:57.159422",
     "exception": false,
     "start_time": "2024-10-06T07:11:57.127661",
     "status": "completed"
    },
    "tags": []
   },
   "outputs": [],
   "source": [
    "def check_df(dataframe, head=5):\n",
    "    print(\"##################### Shape #####################\")\n",
    "    print(dataframe.shape)\n",
    "    print(\"##################### Types #####################\")\n",
    "    print(dataframe.dtypes)\n",
    "    print(\"##################### Head #####################\")\n",
    "    print(dataframe.head(head))  # Fonksiyon çağrısına dikkat edin\n",
    "    print(\"##################### Tail #####################\")\n",
    "    print(dataframe.tail(head))\n",
    "    print(\"##################### NA #####################\")\n",
    "    print(dataframe.isnull().sum())\n",
    "    print(\"##################### Quantile #####################\")\n",
    "    print(dataframe.select_dtypes(include='number').quantile([0, 0.05, 0.5, 0.95, 0.99, 1]).T)\n"
   ]
  },
  {
   "cell_type": "code",
   "execution_count": 5,
   "id": "f80a33a3",
   "metadata": {
    "execution": {
     "iopub.execute_input": "2024-10-06T07:11:57.199520Z",
     "iopub.status.busy": "2024-10-06T07:11:57.199012Z",
     "iopub.status.idle": "2024-10-06T07:11:57.224787Z",
     "shell.execute_reply": "2024-10-06T07:11:57.223488Z"
    },
    "id": "t6iFP965V4vk",
    "papermill": {
     "duration": 0.049151,
     "end_time": "2024-10-06T07:11:57.227625",
     "exception": false,
     "start_time": "2024-10-06T07:11:57.178474",
     "status": "completed"
    },
    "tags": []
   },
   "outputs": [
    {
     "name": "stdout",
     "output_type": "stream",
     "text": [
      "##################### Shape #####################\n",
      "(2416, 7)\n",
      "##################### Types #####################\n",
      "Date          object\n",
      "Open         float64\n",
      "High         float64\n",
      "Low          float64\n",
      "Close        float64\n",
      "Adj Close    float64\n",
      "Volume         int64\n",
      "dtype: object\n",
      "##################### Head #####################\n",
      "         Date       Open   High        Low      Close  Adj Close    Volume\n",
      "0  2010-06-29  19.000000  25.00  17.540001  23.889999  23.889999  18766300\n",
      "1  2010-06-30  25.790001  30.42  23.299999  23.830000  23.830000  17187100\n",
      "2  2010-07-01  25.000000  25.92  20.270000  21.959999  21.959999   8218800\n",
      "3  2010-07-02  23.000000  23.10  18.709999  19.200001  19.200001   5139800\n",
      "4  2010-07-06  20.000000  20.00  15.830000  16.110001  16.110001   6866900\n",
      "##################### Tail #####################\n",
      "            Date        Open        High         Low       Close   Adj Close  \\\n",
      "2411  2020-01-28  568.489990  576.809998  558.080017  566.900024  566.900024   \n",
      "2412  2020-01-29  575.690002  589.799988  567.429993  580.989990  580.989990   \n",
      "2413  2020-01-30  632.419983  650.880005  618.000000  640.809998  640.809998   \n",
      "2414  2020-01-31  640.000000  653.000000  632.520020  650.570007  650.570007   \n",
      "2415  2020-02-03  673.690002  786.140015  673.520020  780.000000  780.000000   \n",
      "\n",
      "        Volume  \n",
      "2411  11788500  \n",
      "2412  17801500  \n",
      "2413  29005700  \n",
      "2414  15719300  \n",
      "2415  47065000  \n",
      "##################### NA #####################\n",
      "Date         0\n",
      "Open         0\n",
      "High         0\n",
      "Low          0\n",
      "Close        0\n",
      "Adj Close    0\n",
      "Volume       0\n",
      "dtype: int64\n",
      "##################### Quantile #####################\n",
      "                    0.00           0.05          0.50          0.95  \\\n",
      "Open           16.139999      23.384999  2.130350e+02  3.519100e+02   \n",
      "High           16.629999      24.022501  2.167450e+02  3.567500e+02   \n",
      "Low            14.980000      22.867499  2.088700e+02  3.460250e+02   \n",
      "Close          15.800000      23.565000  2.129600e+02  3.511675e+02   \n",
      "Adj Close      15.800000      23.565000  2.129600e+02  3.511675e+02   \n",
      "Volume     118500.000000  633825.000000  4.578400e+06  1.476090e+07   \n",
      "\n",
      "                   0.99          1.00  \n",
      "Open       4.235790e+02  6.736900e+02  \n",
      "High       4.284705e+02  7.861400e+02  \n",
      "Low        4.122865e+02  6.735200e+02  \n",
      "Close      4.243455e+02  7.800000e+02  \n",
      "Adj Close  4.243455e+02  7.800000e+02  \n",
      "Volume     2.459959e+07  4.706500e+07  \n"
     ]
    }
   ],
   "source": [
    "check_df(df)"
   ]
  },
  {
   "cell_type": "markdown",
   "id": "dfec85a4",
   "metadata": {
    "id": "v2n2ONcpWlQl",
    "papermill": {
     "duration": 0.019127,
     "end_time": "2024-10-06T07:11:57.266027",
     "exception": false,
     "start_time": "2024-10-06T07:11:57.246900",
     "status": "completed"
    },
    "tags": []
   },
   "source": [
    "## Data Preparation"
   ]
  },
  {
   "cell_type": "code",
   "execution_count": 6,
   "id": "dbded510",
   "metadata": {
    "execution": {
     "iopub.execute_input": "2024-10-06T07:11:57.306973Z",
     "iopub.status.busy": "2024-10-06T07:11:57.306568Z",
     "iopub.status.idle": "2024-10-06T07:11:57.319525Z",
     "shell.execute_reply": "2024-10-06T07:11:57.318348Z"
    },
    "id": "x-En8ormWAo8",
    "papermill": {
     "duration": 0.036892,
     "end_time": "2024-10-06T07:11:57.322091",
     "exception": false,
     "start_time": "2024-10-06T07:11:57.285199",
     "status": "completed"
    },
    "tags": []
   },
   "outputs": [],
   "source": [
    "df[\"Date\"] = pd.to_datetime(df[\"Date\"])"
   ]
  },
  {
   "cell_type": "code",
   "execution_count": 7,
   "id": "502730c9",
   "metadata": {
    "execution": {
     "iopub.execute_input": "2024-10-06T07:11:57.363251Z",
     "iopub.status.busy": "2024-10-06T07:11:57.362822Z",
     "iopub.status.idle": "2024-10-06T07:11:57.378872Z",
     "shell.execute_reply": "2024-10-06T07:11:57.377840Z"
    },
    "id": "Wk3C4MPkWBUG",
    "papermill": {
     "duration": 0.039657,
     "end_time": "2024-10-06T07:11:57.381500",
     "exception": false,
     "start_time": "2024-10-06T07:11:57.341843",
     "status": "completed"
    },
    "tags": []
   },
   "outputs": [
    {
     "data": {
      "text/html": [
       "<div>\n",
       "<style scoped>\n",
       "    .dataframe tbody tr th:only-of-type {\n",
       "        vertical-align: middle;\n",
       "    }\n",
       "\n",
       "    .dataframe tbody tr th {\n",
       "        vertical-align: top;\n",
       "    }\n",
       "\n",
       "    .dataframe thead th {\n",
       "        text-align: right;\n",
       "    }\n",
       "</style>\n",
       "<table border=\"1\" class=\"dataframe\">\n",
       "  <thead>\n",
       "    <tr style=\"text-align: right;\">\n",
       "      <th></th>\n",
       "      <th>Date</th>\n",
       "      <th>Open</th>\n",
       "      <th>High</th>\n",
       "      <th>Low</th>\n",
       "      <th>Close</th>\n",
       "      <th>Adj Close</th>\n",
       "      <th>Volume</th>\n",
       "    </tr>\n",
       "  </thead>\n",
       "  <tbody>\n",
       "    <tr>\n",
       "      <th>0</th>\n",
       "      <td>2010-06-29</td>\n",
       "      <td>19.000000</td>\n",
       "      <td>25.00</td>\n",
       "      <td>17.540001</td>\n",
       "      <td>23.889999</td>\n",
       "      <td>23.889999</td>\n",
       "      <td>18766300</td>\n",
       "    </tr>\n",
       "    <tr>\n",
       "      <th>1</th>\n",
       "      <td>2010-06-30</td>\n",
       "      <td>25.790001</td>\n",
       "      <td>30.42</td>\n",
       "      <td>23.299999</td>\n",
       "      <td>23.830000</td>\n",
       "      <td>23.830000</td>\n",
       "      <td>17187100</td>\n",
       "    </tr>\n",
       "    <tr>\n",
       "      <th>2</th>\n",
       "      <td>2010-07-01</td>\n",
       "      <td>25.000000</td>\n",
       "      <td>25.92</td>\n",
       "      <td>20.270000</td>\n",
       "      <td>21.959999</td>\n",
       "      <td>21.959999</td>\n",
       "      <td>8218800</td>\n",
       "    </tr>\n",
       "    <tr>\n",
       "      <th>3</th>\n",
       "      <td>2010-07-02</td>\n",
       "      <td>23.000000</td>\n",
       "      <td>23.10</td>\n",
       "      <td>18.709999</td>\n",
       "      <td>19.200001</td>\n",
       "      <td>19.200001</td>\n",
       "      <td>5139800</td>\n",
       "    </tr>\n",
       "    <tr>\n",
       "      <th>4</th>\n",
       "      <td>2010-07-06</td>\n",
       "      <td>20.000000</td>\n",
       "      <td>20.00</td>\n",
       "      <td>15.830000</td>\n",
       "      <td>16.110001</td>\n",
       "      <td>16.110001</td>\n",
       "      <td>6866900</td>\n",
       "    </tr>\n",
       "  </tbody>\n",
       "</table>\n",
       "</div>"
      ],
      "text/plain": [
       "        Date       Open   High        Low      Close  Adj Close    Volume\n",
       "0 2010-06-29  19.000000  25.00  17.540001  23.889999  23.889999  18766300\n",
       "1 2010-06-30  25.790001  30.42  23.299999  23.830000  23.830000  17187100\n",
       "2 2010-07-01  25.000000  25.92  20.270000  21.959999  21.959999   8218800\n",
       "3 2010-07-02  23.000000  23.10  18.709999  19.200001  19.200001   5139800\n",
       "4 2010-07-06  20.000000  20.00  15.830000  16.110001  16.110001   6866900"
      ]
     },
     "execution_count": 7,
     "metadata": {},
     "output_type": "execute_result"
    }
   ],
   "source": [
    "df.head()"
   ]
  },
  {
   "cell_type": "code",
   "execution_count": 8,
   "id": "466b66c1",
   "metadata": {
    "execution": {
     "iopub.execute_input": "2024-10-06T07:11:57.423488Z",
     "iopub.status.busy": "2024-10-06T07:11:57.422562Z",
     "iopub.status.idle": "2024-10-06T07:11:57.429443Z",
     "shell.execute_reply": "2024-10-06T07:11:57.428270Z"
    },
    "id": "ZOVzSrk1WCHu",
    "papermill": {
     "duration": 0.030652,
     "end_time": "2024-10-06T07:11:57.432219",
     "exception": false,
     "start_time": "2024-10-06T07:11:57.401567",
     "status": "completed"
    },
    "tags": []
   },
   "outputs": [],
   "source": [
    "tesla_df = df[[\"Date\", \"Close\"]]"
   ]
  },
  {
   "cell_type": "code",
   "execution_count": 9,
   "id": "6485baff",
   "metadata": {
    "execution": {
     "iopub.execute_input": "2024-10-06T07:11:57.474139Z",
     "iopub.status.busy": "2024-10-06T07:11:57.473669Z",
     "iopub.status.idle": "2024-10-06T07:11:57.485588Z",
     "shell.execute_reply": "2024-10-06T07:11:57.484285Z"
    },
    "id": "Tli5FuMBWF8l",
    "papermill": {
     "duration": 0.035839,
     "end_time": "2024-10-06T07:11:57.488040",
     "exception": false,
     "start_time": "2024-10-06T07:11:57.452201",
     "status": "completed"
    },
    "tags": []
   },
   "outputs": [
    {
     "data": {
      "text/html": [
       "<div>\n",
       "<style scoped>\n",
       "    .dataframe tbody tr th:only-of-type {\n",
       "        vertical-align: middle;\n",
       "    }\n",
       "\n",
       "    .dataframe tbody tr th {\n",
       "        vertical-align: top;\n",
       "    }\n",
       "\n",
       "    .dataframe thead th {\n",
       "        text-align: right;\n",
       "    }\n",
       "</style>\n",
       "<table border=\"1\" class=\"dataframe\">\n",
       "  <thead>\n",
       "    <tr style=\"text-align: right;\">\n",
       "      <th></th>\n",
       "      <th>Date</th>\n",
       "      <th>Close</th>\n",
       "    </tr>\n",
       "  </thead>\n",
       "  <tbody>\n",
       "    <tr>\n",
       "      <th>0</th>\n",
       "      <td>2010-06-29</td>\n",
       "      <td>23.889999</td>\n",
       "    </tr>\n",
       "    <tr>\n",
       "      <th>1</th>\n",
       "      <td>2010-06-30</td>\n",
       "      <td>23.830000</td>\n",
       "    </tr>\n",
       "    <tr>\n",
       "      <th>2</th>\n",
       "      <td>2010-07-01</td>\n",
       "      <td>21.959999</td>\n",
       "    </tr>\n",
       "    <tr>\n",
       "      <th>3</th>\n",
       "      <td>2010-07-02</td>\n",
       "      <td>19.200001</td>\n",
       "    </tr>\n",
       "    <tr>\n",
       "      <th>4</th>\n",
       "      <td>2010-07-06</td>\n",
       "      <td>16.110001</td>\n",
       "    </tr>\n",
       "  </tbody>\n",
       "</table>\n",
       "</div>"
      ],
      "text/plain": [
       "        Date      Close\n",
       "0 2010-06-29  23.889999\n",
       "1 2010-06-30  23.830000\n",
       "2 2010-07-01  21.959999\n",
       "3 2010-07-02  19.200001\n",
       "4 2010-07-06  16.110001"
      ]
     },
     "execution_count": 9,
     "metadata": {},
     "output_type": "execute_result"
    }
   ],
   "source": [
    "tesla_df.head()"
   ]
  },
  {
   "cell_type": "code",
   "execution_count": 10,
   "id": "88082fe2",
   "metadata": {
    "execution": {
     "iopub.execute_input": "2024-10-06T07:11:57.529603Z",
     "iopub.status.busy": "2024-10-06T07:11:57.529134Z",
     "iopub.status.idle": "2024-10-06T07:11:57.536877Z",
     "shell.execute_reply": "2024-10-06T07:11:57.535734Z"
    },
    "id": "Gsw5OQCAWLzn",
    "papermill": {
     "duration": 0.031631,
     "end_time": "2024-10-06T07:11:57.539360",
     "exception": false,
     "start_time": "2024-10-06T07:11:57.507729",
     "status": "completed"
    },
    "tags": []
   },
   "outputs": [
    {
     "name": "stdout",
     "output_type": "stream",
     "text": [
      "Min Date:  2010-06-29 00:00:00\n",
      "Max Date:  2020-02-03 00:00:00\n"
     ]
    }
   ],
   "source": [
    "print(\"Min Date: \", tesla_df[\"Date\"].min())\n",
    "print(\"Max Date: \", tesla_df[\"Date\"].max())"
   ]
  },
  {
   "cell_type": "code",
   "execution_count": 11,
   "id": "29182085",
   "metadata": {
    "execution": {
     "iopub.execute_input": "2024-10-06T07:11:57.580515Z",
     "iopub.status.busy": "2024-10-06T07:11:57.580026Z",
     "iopub.status.idle": "2024-10-06T07:11:57.585816Z",
     "shell.execute_reply": "2024-10-06T07:11:57.584562Z"
    },
    "id": "JGi8P08mWQO1",
    "papermill": {
     "duration": 0.029396,
     "end_time": "2024-10-06T07:11:57.588427",
     "exception": false,
     "start_time": "2024-10-06T07:11:57.559031",
     "status": "completed"
    },
    "tags": []
   },
   "outputs": [],
   "source": [
    "tesla_df.index = tesla_df[\"Date\"]"
   ]
  },
  {
   "cell_type": "code",
   "execution_count": 12,
   "id": "66232cf1",
   "metadata": {
    "execution": {
     "iopub.execute_input": "2024-10-06T07:11:57.631208Z",
     "iopub.status.busy": "2024-10-06T07:11:57.630155Z",
     "iopub.status.idle": "2024-10-06T07:11:57.643543Z",
     "shell.execute_reply": "2024-10-06T07:11:57.642210Z"
    },
    "id": "YBWxX2IOWoL_",
    "papermill": {
     "duration": 0.037062,
     "end_time": "2024-10-06T07:11:57.645777",
     "exception": false,
     "start_time": "2024-10-06T07:11:57.608715",
     "status": "completed"
    },
    "tags": []
   },
   "outputs": [
    {
     "data": {
      "text/html": [
       "<div>\n",
       "<style scoped>\n",
       "    .dataframe tbody tr th:only-of-type {\n",
       "        vertical-align: middle;\n",
       "    }\n",
       "\n",
       "    .dataframe tbody tr th {\n",
       "        vertical-align: top;\n",
       "    }\n",
       "\n",
       "    .dataframe thead th {\n",
       "        text-align: right;\n",
       "    }\n",
       "</style>\n",
       "<table border=\"1\" class=\"dataframe\">\n",
       "  <thead>\n",
       "    <tr style=\"text-align: right;\">\n",
       "      <th></th>\n",
       "      <th>Date</th>\n",
       "      <th>Close</th>\n",
       "    </tr>\n",
       "    <tr>\n",
       "      <th>Date</th>\n",
       "      <th></th>\n",
       "      <th></th>\n",
       "    </tr>\n",
       "  </thead>\n",
       "  <tbody>\n",
       "    <tr>\n",
       "      <th>2010-06-29</th>\n",
       "      <td>2010-06-29</td>\n",
       "      <td>23.889999</td>\n",
       "    </tr>\n",
       "    <tr>\n",
       "      <th>2010-06-30</th>\n",
       "      <td>2010-06-30</td>\n",
       "      <td>23.830000</td>\n",
       "    </tr>\n",
       "    <tr>\n",
       "      <th>2010-07-01</th>\n",
       "      <td>2010-07-01</td>\n",
       "      <td>21.959999</td>\n",
       "    </tr>\n",
       "    <tr>\n",
       "      <th>2010-07-02</th>\n",
       "      <td>2010-07-02</td>\n",
       "      <td>19.200001</td>\n",
       "    </tr>\n",
       "    <tr>\n",
       "      <th>2010-07-06</th>\n",
       "      <td>2010-07-06</td>\n",
       "      <td>16.110001</td>\n",
       "    </tr>\n",
       "    <tr>\n",
       "      <th>...</th>\n",
       "      <td>...</td>\n",
       "      <td>...</td>\n",
       "    </tr>\n",
       "    <tr>\n",
       "      <th>2020-01-28</th>\n",
       "      <td>2020-01-28</td>\n",
       "      <td>566.900024</td>\n",
       "    </tr>\n",
       "    <tr>\n",
       "      <th>2020-01-29</th>\n",
       "      <td>2020-01-29</td>\n",
       "      <td>580.989990</td>\n",
       "    </tr>\n",
       "    <tr>\n",
       "      <th>2020-01-30</th>\n",
       "      <td>2020-01-30</td>\n",
       "      <td>640.809998</td>\n",
       "    </tr>\n",
       "    <tr>\n",
       "      <th>2020-01-31</th>\n",
       "      <td>2020-01-31</td>\n",
       "      <td>650.570007</td>\n",
       "    </tr>\n",
       "    <tr>\n",
       "      <th>2020-02-03</th>\n",
       "      <td>2020-02-03</td>\n",
       "      <td>780.000000</td>\n",
       "    </tr>\n",
       "  </tbody>\n",
       "</table>\n",
       "<p>2416 rows × 2 columns</p>\n",
       "</div>"
      ],
      "text/plain": [
       "                 Date       Close\n",
       "Date                             \n",
       "2010-06-29 2010-06-29   23.889999\n",
       "2010-06-30 2010-06-30   23.830000\n",
       "2010-07-01 2010-07-01   21.959999\n",
       "2010-07-02 2010-07-02   19.200001\n",
       "2010-07-06 2010-07-06   16.110001\n",
       "...               ...         ...\n",
       "2020-01-28 2020-01-28  566.900024\n",
       "2020-01-29 2020-01-29  580.989990\n",
       "2020-01-30 2020-01-30  640.809998\n",
       "2020-01-31 2020-01-31  650.570007\n",
       "2020-02-03 2020-02-03  780.000000\n",
       "\n",
       "[2416 rows x 2 columns]"
      ]
     },
     "execution_count": 12,
     "metadata": {},
     "output_type": "execute_result"
    }
   ],
   "source": [
    "tesla_df"
   ]
  },
  {
   "cell_type": "code",
   "execution_count": 13,
   "id": "a1bb8092",
   "metadata": {
    "execution": {
     "iopub.execute_input": "2024-10-06T07:11:57.688553Z",
     "iopub.status.busy": "2024-10-06T07:11:57.687667Z",
     "iopub.status.idle": "2024-10-06T07:11:57.694355Z",
     "shell.execute_reply": "2024-10-06T07:11:57.693197Z"
    },
    "id": "tgPM31WBWvcH",
    "papermill": {
     "duration": 0.031144,
     "end_time": "2024-10-06T07:11:57.696981",
     "exception": false,
     "start_time": "2024-10-06T07:11:57.665837",
     "status": "completed"
    },
    "tags": []
   },
   "outputs": [],
   "source": [
    "tesla_df.drop(\"Date\", axis=1, inplace=True)"
   ]
  },
  {
   "cell_type": "code",
   "execution_count": 14,
   "id": "8351cd6e",
   "metadata": {
    "execution": {
     "iopub.execute_input": "2024-10-06T07:11:57.738819Z",
     "iopub.status.busy": "2024-10-06T07:11:57.738373Z",
     "iopub.status.idle": "2024-10-06T07:11:57.749865Z",
     "shell.execute_reply": "2024-10-06T07:11:57.748832Z"
    },
    "id": "17KdnKMGWwSm",
    "papermill": {
     "duration": 0.035715,
     "end_time": "2024-10-06T07:11:57.752679",
     "exception": false,
     "start_time": "2024-10-06T07:11:57.716964",
     "status": "completed"
    },
    "tags": []
   },
   "outputs": [
    {
     "data": {
      "text/html": [
       "<div>\n",
       "<style scoped>\n",
       "    .dataframe tbody tr th:only-of-type {\n",
       "        vertical-align: middle;\n",
       "    }\n",
       "\n",
       "    .dataframe tbody tr th {\n",
       "        vertical-align: top;\n",
       "    }\n",
       "\n",
       "    .dataframe thead th {\n",
       "        text-align: right;\n",
       "    }\n",
       "</style>\n",
       "<table border=\"1\" class=\"dataframe\">\n",
       "  <thead>\n",
       "    <tr style=\"text-align: right;\">\n",
       "      <th></th>\n",
       "      <th>Close</th>\n",
       "    </tr>\n",
       "    <tr>\n",
       "      <th>Date</th>\n",
       "      <th></th>\n",
       "    </tr>\n",
       "  </thead>\n",
       "  <tbody>\n",
       "    <tr>\n",
       "      <th>2010-06-29</th>\n",
       "      <td>23.889999</td>\n",
       "    </tr>\n",
       "    <tr>\n",
       "      <th>2010-06-30</th>\n",
       "      <td>23.830000</td>\n",
       "    </tr>\n",
       "    <tr>\n",
       "      <th>2010-07-01</th>\n",
       "      <td>21.959999</td>\n",
       "    </tr>\n",
       "    <tr>\n",
       "      <th>2010-07-02</th>\n",
       "      <td>19.200001</td>\n",
       "    </tr>\n",
       "    <tr>\n",
       "      <th>2010-07-06</th>\n",
       "      <td>16.110001</td>\n",
       "    </tr>\n",
       "    <tr>\n",
       "      <th>...</th>\n",
       "      <td>...</td>\n",
       "    </tr>\n",
       "    <tr>\n",
       "      <th>2020-01-28</th>\n",
       "      <td>566.900024</td>\n",
       "    </tr>\n",
       "    <tr>\n",
       "      <th>2020-01-29</th>\n",
       "      <td>580.989990</td>\n",
       "    </tr>\n",
       "    <tr>\n",
       "      <th>2020-01-30</th>\n",
       "      <td>640.809998</td>\n",
       "    </tr>\n",
       "    <tr>\n",
       "      <th>2020-01-31</th>\n",
       "      <td>650.570007</td>\n",
       "    </tr>\n",
       "    <tr>\n",
       "      <th>2020-02-03</th>\n",
       "      <td>780.000000</td>\n",
       "    </tr>\n",
       "  </tbody>\n",
       "</table>\n",
       "<p>2416 rows × 1 columns</p>\n",
       "</div>"
      ],
      "text/plain": [
       "                 Close\n",
       "Date                  \n",
       "2010-06-29   23.889999\n",
       "2010-06-30   23.830000\n",
       "2010-07-01   21.959999\n",
       "2010-07-02   19.200001\n",
       "2010-07-06   16.110001\n",
       "...                ...\n",
       "2020-01-28  566.900024\n",
       "2020-01-29  580.989990\n",
       "2020-01-30  640.809998\n",
       "2020-01-31  650.570007\n",
       "2020-02-03  780.000000\n",
       "\n",
       "[2416 rows x 1 columns]"
      ]
     },
     "execution_count": 14,
     "metadata": {},
     "output_type": "execute_result"
    }
   ],
   "source": [
    "tesla_df"
   ]
  },
  {
   "cell_type": "code",
   "execution_count": 15,
   "id": "2b47d2f3",
   "metadata": {
    "execution": {
     "iopub.execute_input": "2024-10-06T07:11:57.794887Z",
     "iopub.status.busy": "2024-10-06T07:11:57.794438Z",
     "iopub.status.idle": "2024-10-06T07:11:57.799786Z",
     "shell.execute_reply": "2024-10-06T07:11:57.798714Z"
    },
    "id": "PliZ5OcsWxsF",
    "papermill": {
     "duration": 0.029298,
     "end_time": "2024-10-06T07:11:57.802199",
     "exception": false,
     "start_time": "2024-10-06T07:11:57.772901",
     "status": "completed"
    },
    "tags": []
   },
   "outputs": [],
   "source": [
    "result_df = tesla_df.copy()"
   ]
  },
  {
   "cell_type": "code",
   "execution_count": 16,
   "id": "164d426c",
   "metadata": {
    "execution": {
     "iopub.execute_input": "2024-10-06T07:11:57.845708Z",
     "iopub.status.busy": "2024-10-06T07:11:57.845206Z",
     "iopub.status.idle": "2024-10-06T07:11:58.336175Z",
     "shell.execute_reply": "2024-10-06T07:11:58.334860Z"
    },
    "id": "ObqHX6K2W0te",
    "papermill": {
     "duration": 0.516441,
     "end_time": "2024-10-06T07:11:58.338868",
     "exception": false,
     "start_time": "2024-10-06T07:11:57.822427",
     "status": "completed"
    },
    "tags": []
   },
   "outputs": [
    {
     "data": {
      "image/png": "[encoded data removed]",
      "text/plain": [
       "<Figure size 1400x500 with 1 Axes>"
      ]
     },
     "metadata": {},
     "output_type": "display_data"
    }
   ],
   "source": [
    "plt.figure(figsize=(14,5))\n",
    "plt.plot(tesla_df['Close'], color='blue')\n",
    "plt.title(\"Tesla Stock Price\")\n",
    "plt.xlabel(\"Time\")\n",
    "plt.ylabel(\"Stock Price\")\n",
    "plt.show()"
   ]
  },
  {
   "cell_type": "code",
   "execution_count": 17,
   "id": "5cbe1f9e",
   "metadata": {
    "execution": {
     "iopub.execute_input": "2024-10-06T07:11:58.382827Z",
     "iopub.status.busy": "2024-10-06T07:11:58.382404Z",
     "iopub.status.idle": "2024-10-06T07:11:58.387634Z",
     "shell.execute_reply": "2024-10-06T07:11:58.386413Z"
    },
    "id": "5LWFDWjNW2z2",
    "papermill": {
     "duration": 0.029935,
     "end_time": "2024-10-06T07:11:58.389948",
     "exception": false,
     "start_time": "2024-10-06T07:11:58.360013",
     "status": "completed"
    },
    "tags": []
   },
   "outputs": [],
   "source": [
    "tesla_df = tesla_df.values"
   ]
  },
  {
   "cell_type": "code",
   "execution_count": 18,
   "id": "00fc83d1",
   "metadata": {
    "execution": {
     "iopub.execute_input": "2024-10-06T07:11:58.434920Z",
     "iopub.status.busy": "2024-10-06T07:11:58.434510Z",
     "iopub.status.idle": "2024-10-06T07:11:58.441919Z",
     "shell.execute_reply": "2024-10-06T07:11:58.440882Z"
    },
    "id": "jxFZkTS-W9Mm",
    "papermill": {
     "duration": 0.033165,
     "end_time": "2024-10-06T07:11:58.444590",
     "exception": false,
     "start_time": "2024-10-06T07:11:58.411425",
     "status": "completed"
    },
    "tags": []
   },
   "outputs": [
    {
     "data": {
      "text/plain": [
       "array([[23.889999],\n",
       "       [23.83    ],\n",
       "       [21.959999],\n",
       "       [19.200001],\n",
       "       [16.110001]])"
      ]
     },
     "execution_count": 18,
     "metadata": {},
     "output_type": "execute_result"
    }
   ],
   "source": [
    "tesla_df[0:5]"
   ]
  },
  {
   "cell_type": "code",
   "execution_count": 19,
   "id": "3a8b18a6",
   "metadata": {
    "execution": {
     "iopub.execute_input": "2024-10-06T07:11:58.490352Z",
     "iopub.status.busy": "2024-10-06T07:11:58.489365Z",
     "iopub.status.idle": "2024-10-06T07:11:58.494659Z",
     "shell.execute_reply": "2024-10-06T07:11:58.493532Z"
    },
    "id": "iU7KJlc4XAb2",
    "papermill": {
     "duration": 0.030651,
     "end_time": "2024-10-06T07:11:58.497067",
     "exception": false,
     "start_time": "2024-10-06T07:11:58.466416",
     "status": "completed"
    },
    "tags": []
   },
   "outputs": [],
   "source": [
    "tesla_df = tesla_df.astype(\"float32\")"
   ]
  },
  {
   "cell_type": "code",
   "execution_count": 20,
   "id": "824b9bf6",
   "metadata": {
    "execution": {
     "iopub.execute_input": "2024-10-06T07:11:58.542031Z",
     "iopub.status.busy": "2024-10-06T07:11:58.541597Z",
     "iopub.status.idle": "2024-10-06T07:11:58.548065Z",
     "shell.execute_reply": "2024-10-06T07:11:58.546714Z"
    },
    "id": "r7Cywk9oXBI-",
    "papermill": {
     "duration": 0.032081,
     "end_time": "2024-10-06T07:11:58.550802",
     "exception": false,
     "start_time": "2024-10-06T07:11:58.518721",
     "status": "completed"
    },
    "tags": []
   },
   "outputs": [],
   "source": [
    "def split_data(dataframe, test_size):\n",
    "  position = int(round(len(dataframe) * (1 - test_size)))\n",
    "  train = dataframe[:position]\n",
    "  test = dataframe[position:]\n",
    "  return train, test, position"
   ]
  },
  {
   "cell_type": "code",
   "execution_count": 21,
   "id": "0ed87420",
   "metadata": {
    "execution": {
     "iopub.execute_input": "2024-10-06T07:11:58.596353Z",
     "iopub.status.busy": "2024-10-06T07:11:58.595880Z",
     "iopub.status.idle": "2024-10-06T07:11:58.601588Z",
     "shell.execute_reply": "2024-10-06T07:11:58.600257Z"
    },
    "id": "COxqfz0SZvV_",
    "papermill": {
     "duration": 0.031304,
     "end_time": "2024-10-06T07:11:58.604247",
     "exception": false,
     "start_time": "2024-10-06T07:11:58.572943",
     "status": "completed"
    },
    "tags": []
   },
   "outputs": [],
   "source": [
    "train, test, position = split_data(tesla_df, 0.20)"
   ]
  },
  {
   "cell_type": "code",
   "execution_count": 22,
   "id": "8555433a",
   "metadata": {
    "execution": {
     "iopub.execute_input": "2024-10-06T07:11:58.649232Z",
     "iopub.status.busy": "2024-10-06T07:11:58.648806Z",
     "iopub.status.idle": "2024-10-06T07:11:58.654603Z",
     "shell.execute_reply": "2024-10-06T07:11:58.653551Z"
    },
    "id": "jESwxnt2Z1t5",
    "papermill": {
     "duration": 0.031666,
     "end_time": "2024-10-06T07:11:58.657383",
     "exception": false,
     "start_time": "2024-10-06T07:11:58.625717",
     "status": "completed"
    },
    "tags": []
   },
   "outputs": [
    {
     "name": "stdout",
     "output_type": "stream",
     "text": [
      "(1933, 1) (483, 1)\n"
     ]
    }
   ],
   "source": [
    "print(train.shape, test.shape)"
   ]
  },
  {
   "cell_type": "code",
   "execution_count": 23,
   "id": "0d65bd35",
   "metadata": {
    "execution": {
     "iopub.execute_input": "2024-10-06T07:11:58.704429Z",
     "iopub.status.busy": "2024-10-06T07:11:58.703409Z",
     "iopub.status.idle": "2024-10-06T07:11:58.708664Z",
     "shell.execute_reply": "2024-10-06T07:11:58.707532Z"
    },
    "id": "wleQDdgSZ8NZ",
    "papermill": {
     "duration": 0.030636,
     "end_time": "2024-10-06T07:11:58.711033",
     "exception": false,
     "start_time": "2024-10-06T07:11:58.680397",
     "status": "completed"
    },
    "tags": []
   },
   "outputs": [],
   "source": [
    "scaler_train = MinMaxScaler(feature_range = (0,1))"
   ]
  },
  {
   "cell_type": "code",
   "execution_count": 24,
   "id": "66092698",
   "metadata": {
    "execution": {
     "iopub.execute_input": "2024-10-06T07:11:58.757551Z",
     "iopub.status.busy": "2024-10-06T07:11:58.757064Z",
     "iopub.status.idle": "2024-10-06T07:11:58.763530Z",
     "shell.execute_reply": "2024-10-06T07:11:58.762383Z"
    },
    "id": "Enf8wikDaNZh",
    "papermill": {
     "duration": 0.032685,
     "end_time": "2024-10-06T07:11:58.765886",
     "exception": false,
     "start_time": "2024-10-06T07:11:58.733201",
     "status": "completed"
    },
    "tags": []
   },
   "outputs": [],
   "source": [
    "train = scaler_train.fit_transform(train)"
   ]
  },
  {
   "cell_type": "code",
   "execution_count": 25,
   "id": "9263a7b1",
   "metadata": {
    "execution": {
     "iopub.execute_input": "2024-10-06T07:11:58.811310Z",
     "iopub.status.busy": "2024-10-06T07:11:58.810883Z",
     "iopub.status.idle": "2024-10-06T07:11:58.816430Z",
     "shell.execute_reply": "2024-10-06T07:11:58.815282Z"
    },
    "id": "cg-7tCn_aXTc",
    "papermill": {
     "duration": 0.030676,
     "end_time": "2024-10-06T07:11:58.818812",
     "exception": false,
     "start_time": "2024-10-06T07:11:58.788136",
     "status": "completed"
    },
    "tags": []
   },
   "outputs": [],
   "source": [
    "scaler_test = MinMaxScaler(feature_range = (0,1))"
   ]
  },
  {
   "cell_type": "code",
   "execution_count": 26,
   "id": "f1eb0754",
   "metadata": {
    "execution": {
     "iopub.execute_input": "2024-10-06T07:11:58.864366Z",
     "iopub.status.busy": "2024-10-06T07:11:58.863944Z",
     "iopub.status.idle": "2024-10-06T07:11:58.870018Z",
     "shell.execute_reply": "2024-10-06T07:11:58.868822Z"
    },
    "id": "tSbuIifiabbC",
    "papermill": {
     "duration": 0.031902,
     "end_time": "2024-10-06T07:11:58.872499",
     "exception": false,
     "start_time": "2024-10-06T07:11:58.840597",
     "status": "completed"
    },
    "tags": []
   },
   "outputs": [],
   "source": [
    "test = scaler_test.fit_transform(test)"
   ]
  },
  {
   "cell_type": "code",
   "execution_count": 27,
   "id": "e4b52cd4",
   "metadata": {
    "execution": {
     "iopub.execute_input": "2024-10-06T07:11:58.917497Z",
     "iopub.status.busy": "2024-10-06T07:11:58.917045Z",
     "iopub.status.idle": "2024-10-06T07:11:58.924994Z",
     "shell.execute_reply": "2024-10-06T07:11:58.923925Z"
    },
    "id": "X5a7m_BEagaJ",
    "papermill": {
     "duration": 0.033397,
     "end_time": "2024-10-06T07:11:58.927353",
     "exception": false,
     "start_time": "2024-10-06T07:11:58.893956",
     "status": "completed"
    },
    "tags": []
   },
   "outputs": [
    {
     "data": {
      "text/plain": [
       "array([[0.02191224],\n",
       "       [0.02174973],\n",
       "       [0.01668472],\n",
       "       [0.0092091 ],\n",
       "       [0.00083966]], dtype=float32)"
      ]
     },
     "execution_count": 27,
     "metadata": {},
     "output_type": "execute_result"
    }
   ],
   "source": [
    "train[0:5]"
   ]
  },
  {
   "cell_type": "code",
   "execution_count": 28,
   "id": "a9b62575",
   "metadata": {
    "execution": {
     "iopub.execute_input": "2024-10-06T07:11:58.973236Z",
     "iopub.status.busy": "2024-10-06T07:11:58.972219Z",
     "iopub.status.idle": "2024-10-06T07:11:58.980570Z",
     "shell.execute_reply": "2024-10-06T07:11:58.979299Z"
    },
    "id": "AeVSy_ijahnh",
    "papermill": {
     "duration": 0.033892,
     "end_time": "2024-10-06T07:11:58.983017",
     "exception": false,
     "start_time": "2024-10-06T07:11:58.949125",
     "status": "completed"
    },
    "tags": []
   },
   "outputs": [
    {
     "data": {
      "text/plain": [
       "array([[0.25685903],\n",
       "       [0.24829045],\n",
       "       [0.25511202],\n",
       "       [0.24978784],\n",
       "       [0.2465767 ]], dtype=float32)"
      ]
     },
     "execution_count": 28,
     "metadata": {},
     "output_type": "execute_result"
    }
   ],
   "source": [
    "test[0:5]"
   ]
  },
  {
   "cell_type": "code",
   "execution_count": 29,
   "id": "0194cb9f",
   "metadata": {
    "execution": {
     "iopub.execute_input": "2024-10-06T07:11:59.028120Z",
     "iopub.status.busy": "2024-10-06T07:11:59.027709Z",
     "iopub.status.idle": "2024-10-06T07:11:59.034552Z",
     "shell.execute_reply": "2024-10-06T07:11:59.033409Z"
    },
    "id": "Gv95UqJWasHS",
    "papermill": {
     "duration": 0.032307,
     "end_time": "2024-10-06T07:11:59.036967",
     "exception": false,
     "start_time": "2024-10-06T07:11:59.004660",
     "status": "completed"
    },
    "tags": []
   },
   "outputs": [],
   "source": [
    "def create_features(data, lookback):\n",
    "  X, Y = [], []\n",
    "  for i in range(lookback, len(data)):\n",
    "    X.append(data[i-lookback:i,0])\n",
    "    Y.append(data[i,0])\n",
    "\n",
    "  return np.array(X), np.array(Y)"
   ]
  },
  {
   "cell_type": "code",
   "execution_count": 30,
   "id": "e786e0e6",
   "metadata": {
    "execution": {
     "iopub.execute_input": "2024-10-06T07:11:59.082098Z",
     "iopub.status.busy": "2024-10-06T07:11:59.081686Z",
     "iopub.status.idle": "2024-10-06T07:11:59.088095Z",
     "shell.execute_reply": "2024-10-06T07:11:59.086624Z"
    },
    "id": "e36Ux4_CbASm",
    "papermill": {
     "duration": 0.031848,
     "end_time": "2024-10-06T07:11:59.090602",
     "exception": false,
     "start_time": "2024-10-06T07:11:59.058754",
     "status": "completed"
    },
    "tags": []
   },
   "outputs": [],
   "source": [
    "lookback = 20"
   ]
  },
  {
   "cell_type": "code",
   "execution_count": 31,
   "id": "5803d126",
   "metadata": {
    "execution": {
     "iopub.execute_input": "2024-10-06T07:11:59.137532Z",
     "iopub.status.busy": "2024-10-06T07:11:59.136332Z",
     "iopub.status.idle": "2024-10-06T07:11:59.146552Z",
     "shell.execute_reply": "2024-10-06T07:11:59.145363Z"
    },
    "id": "Xd8JMdaWbCzp",
    "papermill": {
     "duration": 0.036831,
     "end_time": "2024-10-06T07:11:59.149264",
     "exception": false,
     "start_time": "2024-10-06T07:11:59.112433",
     "status": "completed"
    },
    "tags": []
   },
   "outputs": [],
   "source": [
    "X_train, y_train = create_features(train, lookback)"
   ]
  },
  {
   "cell_type": "code",
   "execution_count": 32,
   "id": "8362e5c7",
   "metadata": {
    "execution": {
     "iopub.execute_input": "2024-10-06T07:11:59.250537Z",
     "iopub.status.busy": "2024-10-06T07:11:59.250028Z",
     "iopub.status.idle": "2024-10-06T07:11:59.256896Z",
     "shell.execute_reply": "2024-10-06T07:11:59.255831Z"
    },
    "id": "wHgq8DT5bF_Z",
    "papermill": {
     "duration": 0.087919,
     "end_time": "2024-10-06T07:11:59.259395",
     "exception": false,
     "start_time": "2024-10-06T07:11:59.171476",
     "status": "completed"
    },
    "tags": []
   },
   "outputs": [],
   "source": [
    "X_test, y_test = create_features(test, lookback)"
   ]
  },
  {
   "cell_type": "code",
   "execution_count": 33,
   "id": "d8cf29a8",
   "metadata": {
    "execution": {
     "iopub.execute_input": "2024-10-06T07:11:59.308882Z",
     "iopub.status.busy": "2024-10-06T07:11:59.308409Z",
     "iopub.status.idle": "2024-10-06T07:11:59.314768Z",
     "shell.execute_reply": "2024-10-06T07:11:59.313520Z"
    },
    "id": "zYQy_33TbKdb",
    "papermill": {
     "duration": 0.033054,
     "end_time": "2024-10-06T07:11:59.317436",
     "exception": false,
     "start_time": "2024-10-06T07:11:59.284382",
     "status": "completed"
    },
    "tags": []
   },
   "outputs": [
    {
     "name": "stdout",
     "output_type": "stream",
     "text": [
      "(1913, 20) (1913,) (463, 20) (463,)\n"
     ]
    }
   ],
   "source": [
    "print(X_train.shape, y_train.shape, X_test.shape, y_test.shape)"
   ]
  },
  {
   "cell_type": "code",
   "execution_count": 34,
   "id": "8cb24424",
   "metadata": {
    "execution": {
     "iopub.execute_input": "2024-10-06T07:11:59.363158Z",
     "iopub.status.busy": "2024-10-06T07:11:59.362431Z",
     "iopub.status.idle": "2024-10-06T07:11:59.371228Z",
     "shell.execute_reply": "2024-10-06T07:11:59.370113Z"
    },
    "id": "sI1k-K6bTKuw",
    "papermill": {
     "duration": 0.034366,
     "end_time": "2024-10-06T07:11:59.373567",
     "exception": false,
     "start_time": "2024-10-06T07:11:59.339201",
     "status": "completed"
    },
    "tags": []
   },
   "outputs": [
    {
     "data": {
      "text/plain": [
       "array([[0.02191224, 0.02174973, 0.01668472, 0.0092091 , 0.00083966,\n",
       "        0.        , 0.00449621, 0.00433369, 0.0033857 , 0.00633803,\n",
       "        0.01094258, 0.011078  , 0.01310942, 0.0165493 , 0.01218851,\n",
       "        0.01197183, 0.01408451, 0.01486999, 0.01394908, 0.01286566],\n",
       "       [0.02174973, 0.01668472, 0.0092091 , 0.00083966, 0.        ,\n",
       "        0.00449621, 0.00433369, 0.0033857 , 0.00633803, 0.01094258,\n",
       "        0.011078  , 0.01310942, 0.0165493 , 0.01218851, 0.01197183,\n",
       "        0.01408451, 0.01486999, 0.01394908, 0.01286566, 0.01332611],\n",
       "       [0.01668472, 0.0092091 , 0.00083966, 0.        , 0.00449621,\n",
       "        0.00433369, 0.0033857 , 0.00633803, 0.01094258, 0.011078  ,\n",
       "        0.01310942, 0.0165493 , 0.01218851, 0.01197183, 0.01408451,\n",
       "        0.01486999, 0.01394908, 0.01286566, 0.01332611, 0.01232395],\n",
       "       [0.0092091 , 0.00083966, 0.        , 0.00449621, 0.00433369,\n",
       "        0.0033857 , 0.00633803, 0.01094258, 0.011078  , 0.01310942,\n",
       "        0.0165493 , 0.01218851, 0.01197183, 0.01408451, 0.01486999,\n",
       "        0.01394908, 0.01286566, 0.01332611, 0.01232395, 0.01121344],\n",
       "       [0.00083966, 0.        , 0.00449621, 0.00433369, 0.0033857 ,\n",
       "        0.00633803, 0.01094258, 0.011078  , 0.01310942, 0.0165493 ,\n",
       "        0.01218851, 0.01197183, 0.01408451, 0.01486999, 0.01394908,\n",
       "        0.01286566, 0.01332611, 0.01232395, 0.01121344, 0.01386782]],\n",
       "      dtype=float32)"
      ]
     },
     "execution_count": 34,
     "metadata": {},
     "output_type": "execute_result"
    }
   ],
   "source": [
    "X_train[0:5]"
   ]
  },
  {
   "cell_type": "code",
   "execution_count": 35,
   "id": "10649679",
   "metadata": {
    "execution": {
     "iopub.execute_input": "2024-10-06T07:11:59.420316Z",
     "iopub.status.busy": "2024-10-06T07:11:59.419519Z",
     "iopub.status.idle": "2024-10-06T07:11:59.427284Z",
     "shell.execute_reply": "2024-10-06T07:11:59.426233Z"
    },
    "id": "vY5hCVQHTg9u",
    "papermill": {
     "duration": 0.033753,
     "end_time": "2024-10-06T07:11:59.429627",
     "exception": false,
     "start_time": "2024-10-06T07:11:59.395874",
     "status": "completed"
    },
    "tags": []
   },
   "outputs": [
    {
     "data": {
      "text/plain": [
       "array([0.01332611, 0.01232395, 0.01121344, 0.01386782, 0.01665764],\n",
       "      dtype=float32)"
      ]
     },
     "execution_count": 35,
     "metadata": {},
     "output_type": "execute_result"
    }
   ],
   "source": [
    "y_train[0:5]"
   ]
  },
  {
   "cell_type": "code",
   "execution_count": 36,
   "id": "2e7bf65c",
   "metadata": {
    "execution": {
     "iopub.execute_input": "2024-10-06T07:11:59.477335Z",
     "iopub.status.busy": "2024-10-06T07:11:59.476265Z",
     "iopub.status.idle": "2024-10-06T07:11:59.483472Z",
     "shell.execute_reply": "2024-10-06T07:11:59.482060Z"
    },
    "id": "yvf-4kLybad5",
    "papermill": {
     "duration": 0.033283,
     "end_time": "2024-10-06T07:11:59.485808",
     "exception": false,
     "start_time": "2024-10-06T07:11:59.452525",
     "status": "completed"
    },
    "tags": []
   },
   "outputs": [],
   "source": [
    "X_train = np.reshape(X_train, (X_train.shape[0], 1, X_train.shape[1]))\n",
    "X_test = np.reshape(X_test, (X_test.shape[0], 1, X_test.shape[1]))\n",
    "y_train = y_train.reshape(-1,1)\n",
    "y_test = y_test.reshape(-1,1)"
   ]
  },
  {
   "cell_type": "code",
   "execution_count": 37,
   "id": "4c3100d1",
   "metadata": {
    "execution": {
     "iopub.execute_input": "2024-10-06T07:11:59.533471Z",
     "iopub.status.busy": "2024-10-06T07:11:59.533016Z",
     "iopub.status.idle": "2024-10-06T07:11:59.539075Z",
     "shell.execute_reply": "2024-10-06T07:11:59.537929Z"
    },
    "id": "D2ltv0Edb3wz",
    "papermill": {
     "duration": 0.033713,
     "end_time": "2024-10-06T07:11:59.542153",
     "exception": false,
     "start_time": "2024-10-06T07:11:59.508440",
     "status": "completed"
    },
    "tags": []
   },
   "outputs": [
    {
     "name": "stdout",
     "output_type": "stream",
     "text": [
      "(1913, 1, 20) (1913, 1) (463, 1, 20) (463, 1)\n"
     ]
    }
   ],
   "source": [
    "print(X_train.shape, y_train.shape, X_test.shape, y_test.shape)"
   ]
  },
  {
   "cell_type": "markdown",
   "id": "53a0c2a8",
   "metadata": {
    "id": "DtsN3xazcIAn",
    "papermill": {
     "duration": 0.022555,
     "end_time": "2024-10-06T07:11:59.587073",
     "exception": false,
     "start_time": "2024-10-06T07:11:59.564518",
     "status": "completed"
    },
    "tags": []
   },
   "source": [
    "## Modelling"
   ]
  },
  {
   "cell_type": "code",
   "execution_count": 38,
   "id": "7d47cc23",
   "metadata": {
    "execution": {
     "iopub.execute_input": "2024-10-06T07:11:59.634505Z",
     "iopub.status.busy": "2024-10-06T07:11:59.634015Z",
     "iopub.status.idle": "2024-10-06T07:11:59.761566Z",
     "shell.execute_reply": "2024-10-06T07:11:59.760391Z"
    },
    "id": "QtbQx4G9cI_z",
    "papermill": {
     "duration": 0.154773,
     "end_time": "2024-10-06T07:11:59.764409",
     "exception": false,
     "start_time": "2024-10-06T07:11:59.609636",
     "status": "completed"
    },
    "tags": []
   },
   "outputs": [],
   "source": [
    "model = Sequential()\n",
    "\n",
    "model.add(LSTM(units = 50,\n",
    "                    activation = 'relu',\n",
    "                    input_shape=(X_train.shape[1], lookback)))\n",
    "\n",
    "model.add(Dropout(0.2))\n",
    "\n",
    "model.add(Dense(1))\n"
   ]
  },
  {
   "cell_type": "code",
   "execution_count": 39,
   "id": "28d3e7f2",
   "metadata": {
    "execution": {
     "iopub.execute_input": "2024-10-06T07:11:59.811280Z",
     "iopub.status.busy": "2024-10-06T07:11:59.810836Z",
     "iopub.status.idle": "2024-10-06T07:11:59.833750Z",
     "shell.execute_reply": "2024-10-06T07:11:59.832638Z"
    },
    "id": "RQFXIkDbciE6",
    "papermill": {
     "duration": 0.049263,
     "end_time": "2024-10-06T07:11:59.836243",
     "exception": false,
     "start_time": "2024-10-06T07:11:59.786980",
     "status": "completed"
    },
    "tags": []
   },
   "outputs": [
    {
     "data": {
      "text/html": [
       "<pre style=\"white-space:pre;overflow-x:auto;line-height:normal;font-family:Menlo,'DejaVu Sans Mono',consolas,'Courier New',monospace\"><span style=\"font-weight: bold\">Model: \"sequential\"</span>\n",
       "</pre>\n"
      ],
      "text/plain": [
       "\u001b[1mModel: \"sequential\"\u001b[0m\n"
      ]
     },
     "metadata": {},
     "output_type": "display_data"
    },
    {
     "data": {
      "text/html": [
       "<pre style=\"white-space:pre;overflow-x:auto;line-height:normal;font-family:Menlo,'DejaVu Sans Mono',consolas,'Courier New',monospace\">┏━━━━━━━━━━━━━━━━━━━━━━━━━━━━━━━━━┳━━━━━━━━━━━━━━━━━━━━━━━━┳━━━━━━━━━━━━━━━┓\n",
       "┃<span style=\"font-weight: bold\"> Layer (type)                    </span>┃<span style=\"font-weight: bold\"> Output Shape           </span>┃<span style=\"font-weight: bold\">       Param # </span>┃\n",
       "┡━━━━━━━━━━━━━━━━━━━━━━━━━━━━━━━━━╇━━━━━━━━━━━━━━━━━━━━━━━━╇━━━━━━━━━━━━━━━┩\n",
       "│ lstm (<span style=\"color: #0087ff; text-decoration-color: #0087ff\">LSTM</span>)                     │ (<span style=\"color: #00d7ff; text-decoration-color: #00d7ff\">None</span>, <span style=\"color: #00af00; text-decoration-color: #00af00\">50</span>)             │        <span style=\"color: #00af00; text-decoration-color: #00af00\">14,200</span> │\n",
       "├─────────────────────────────────┼────────────────────────┼───────────────┤\n",
       "│ dropout (<span style=\"color: #0087ff; text-decoration-color: #0087ff\">Dropout</span>)               │ (<span style=\"color: #00d7ff; text-decoration-color: #00d7ff\">None</span>, <span style=\"color: #00af00; text-decoration-color: #00af00\">50</span>)             │             <span style=\"color: #00af00; text-decoration-color: #00af00\">0</span> │\n",
       "├─────────────────────────────────┼────────────────────────┼───────────────┤\n",
       "│ dense (<span style=\"color: #0087ff; text-decoration-color: #0087ff\">Dense</span>)                   │ (<span style=\"color: #00d7ff; text-decoration-color: #00d7ff\">None</span>, <span style=\"color: #00af00; text-decoration-color: #00af00\">1</span>)              │            <span style=\"color: #00af00; text-decoration-color: #00af00\">51</span> │\n",
       "└─────────────────────────────────┴────────────────────────┴───────────────┘\n",
       "</pre>\n"
      ],
      "text/plain": [
       "┏━━━━━━━━━━━━━━━━━━━━━━━━━━━━━━━━━┳━━━━━━━━━━━━━━━━━━━━━━━━┳━━━━━━━━━━━━━━━┓\n",
       "┃\u001b[1m \u001b[0m\u001b[1mLayer (type)                   \u001b[0m\u001b[1m \u001b[0m┃\u001b[1m \u001b[0m\u001b[1mOutput Shape          \u001b[0m\u001b[1m \u001b[0m┃\u001b[1m \u001b[0m\u001b[1m      Param #\u001b[0m\u001b[1m \u001b[0m┃\n",
       "┡━━━━━━━━━━━━━━━━━━━━━━━━━━━━━━━━━╇━━━━━━━━━━━━━━━━━━━━━━━━╇━━━━━━━━━━━━━━━┩\n",
       "│ lstm (\u001b[38;5;33mLSTM\u001b[0m)                     │ (\u001b[38;5;45mNone\u001b[0m, \u001b[38;5;34m50\u001b[0m)             │        \u001b[38;5;34m14,200\u001b[0m │\n",
       "├─────────────────────────────────┼────────────────────────┼───────────────┤\n",
       "│ dropout (\u001b[38;5;33mDropout\u001b[0m)               │ (\u001b[38;5;45mNone\u001b[0m, \u001b[38;5;34m50\u001b[0m)             │             \u001b[38;5;34m0\u001b[0m │\n",
       "├─────────────────────────────────┼────────────────────────┼───────────────┤\n",
       "│ dense (\u001b[38;5;33mDense\u001b[0m)                   │ (\u001b[38;5;45mNone\u001b[0m, \u001b[38;5;34m1\u001b[0m)              │            \u001b[38;5;34m51\u001b[0m │\n",
       "└─────────────────────────────────┴────────────────────────┴───────────────┘\n"
      ]
     },
     "metadata": {},
     "output_type": "display_data"
    },
    {
     "data": {
      "text/html": [
       "<pre style=\"white-space:pre;overflow-x:auto;line-height:normal;font-family:Menlo,'DejaVu Sans Mono',consolas,'Courier New',monospace\"><span style=\"font-weight: bold\"> Total params: </span><span style=\"color: #00af00; text-decoration-color: #00af00\">14,251</span> (55.67 KB)\n",
       "</pre>\n"
      ],
      "text/plain": [
       "\u001b[1m Total params: \u001b[0m\u001b[38;5;34m14,251\u001b[0m (55.67 KB)\n"
      ]
     },
     "metadata": {},
     "output_type": "display_data"
    },
    {
     "data": {
      "text/html": [
       "<pre style=\"white-space:pre;overflow-x:auto;line-height:normal;font-family:Menlo,'DejaVu Sans Mono',consolas,'Courier New',monospace\"><span style=\"font-weight: bold\"> Trainable params: </span><span style=\"color: #00af00; text-decoration-color: #00af00\">14,251</span> (55.67 KB)\n",
       "</pre>\n"
      ],
      "text/plain": [
       "\u001b[1m Trainable params: \u001b[0m\u001b[38;5;34m14,251\u001b[0m (55.67 KB)\n"
      ]
     },
     "metadata": {},
     "output_type": "display_data"
    },
    {
     "data": {
      "text/html": [
       "<pre style=\"white-space:pre;overflow-x:auto;line-height:normal;font-family:Menlo,'DejaVu Sans Mono',consolas,'Courier New',monospace\"><span style=\"font-weight: bold\"> Non-trainable params: </span><span style=\"color: #00af00; text-decoration-color: #00af00\">0</span> (0.00 B)\n",
       "</pre>\n"
      ],
      "text/plain": [
       "\u001b[1m Non-trainable params: \u001b[0m\u001b[38;5;34m0\u001b[0m (0.00 B)\n"
      ]
     },
     "metadata": {},
     "output_type": "display_data"
    }
   ],
   "source": [
    "model.summary()"
   ]
  },
  {
   "cell_type": "code",
   "execution_count": 40,
   "id": "c2d7f31f",
   "metadata": {
    "execution": {
     "iopub.execute_input": "2024-10-06T07:11:59.885527Z",
     "iopub.status.busy": "2024-10-06T07:11:59.885049Z",
     "iopub.status.idle": "2024-10-06T07:11:59.902299Z",
     "shell.execute_reply": "2024-10-06T07:11:59.900941Z"
    },
    "id": "NE6_O7IwclkT",
    "papermill": {
     "duration": 0.045422,
     "end_time": "2024-10-06T07:11:59.905279",
     "exception": false,
     "start_time": "2024-10-06T07:11:59.859857",
     "status": "completed"
    },
    "tags": []
   },
   "outputs": [],
   "source": [
    "model.compile(loss='mean_squared_error', optimizer='adam')"
   ]
  },
  {
   "cell_type": "code",
   "execution_count": 41,
   "id": "7b9bf7a0",
   "metadata": {
    "execution": {
     "iopub.execute_input": "2024-10-06T07:11:59.953697Z",
     "iopub.status.busy": "2024-10-06T07:11:59.953245Z",
     "iopub.status.idle": "2024-10-06T07:11:59.959506Z",
     "shell.execute_reply": "2024-10-06T07:11:59.958403Z"
    },
    "id": "JLqjYZudc3Is",
    "papermill": {
     "duration": 0.033096,
     "end_time": "2024-10-06T07:11:59.961765",
     "exception": false,
     "start_time": "2024-10-06T07:11:59.928669",
     "status": "completed"
    },
    "tags": []
   },
   "outputs": [],
   "source": [
    "callbacks = (EarlyStopping(monitor='val_loss', patience=10, verbose=1, mode='min'),\n",
    "            ModelCheckpoint(filepath='mymodel.keras', monitor='val_loss', mode='min',\n",
    "            save_best_only = True, save_weights_only = False, verbose = 1))"
   ]
  },
  {
   "cell_type": "code",
   "execution_count": 42,
   "id": "0fb5365a",
   "metadata": {
    "execution": {
     "iopub.execute_input": "2024-10-06T07:12:00.011158Z",
     "iopub.status.busy": "2024-10-06T07:12:00.010659Z",
     "iopub.status.idle": "2024-10-06T07:12:09.869790Z",
     "shell.execute_reply": "2024-10-06T07:12:09.868635Z"
    },
    "id": "7Pv-Fb9FdSf7",
    "papermill": {
     "duration": 9.88767,
     "end_time": "2024-10-06T07:12:09.872690",
     "exception": false,
     "start_time": "2024-10-06T07:11:59.985020",
     "status": "completed"
    },
    "tags": []
   },
   "outputs": [
    {
     "name": "stdout",
     "output_type": "stream",
     "text": [
      "Epoch 1/100\n",
      "\u001b[1m75/96\u001b[0m \u001b[32m━━━━━━━━━━━━━━━\u001b[0m\u001b[37m━━━━━\u001b[0m \u001b[1m0s\u001b[0m 2ms/step - loss: 0.0040\n",
      "Epoch 1: val_loss improved from inf to 0.00416, saving model to mymodel.keras\n",
      "\u001b[1m96/96\u001b[0m \u001b[32m━━━━━━━━━━━━━━━━━━━━\u001b[0m\u001b[37m\u001b[0m \u001b[1m2s\u001b[0m 6ms/step - loss: 0.0051 - val_loss: 0.0042\n",
      "Epoch 2/100\n",
      "\u001b[1m74/96\u001b[0m \u001b[32m━━━━━━━━━━━━━━━\u001b[0m\u001b[37m━━━━━\u001b[0m \u001b[1m0s\u001b[0m 2ms/step - loss: 0.0052\n",
      "Epoch 2: val_loss improved from 0.00416 to 0.00337, saving model to mymodel.keras\n",
      "\u001b[1m96/96\u001b[0m \u001b[32m━━━━━━━━━━━━━━━━━━━━\u001b[0m\u001b[37m\u001b[0m \u001b[1m0s\u001b[0m 3ms/step - loss: 0.0055 - val_loss: 0.0034\n",
      "Epoch 3/100\n",
      "\u001b[1m95/96\u001b[0m \u001b[32m━━━━━━━━━━━━━━━━━━━\u001b[0m\u001b[37m━\u001b[0m \u001b[1m0s\u001b[0m 2ms/step - loss: 0.0037\n",
      "Epoch 3: val_loss improved from 0.00337 to 0.00294, saving model to mymodel.keras\n",
      "\u001b[1m96/96\u001b[0m \u001b[32m━━━━━━━━━━━━━━━━━━━━\u001b[0m\u001b[37m\u001b[0m \u001b[1m0s\u001b[0m 3ms/step - loss: 0.0038 - val_loss: 0.0029\n",
      "Epoch 4/100\n",
      "\u001b[1m94/96\u001b[0m \u001b[32m━━━━━━━━━━━━━━━━━━━\u001b[0m\u001b[37m━\u001b[0m \u001b[1m0s\u001b[0m 2ms/step - loss: 0.0028\n",
      "Epoch 4: val_loss improved from 0.00294 to 0.00264, saving model to mymodel.keras\n",
      "\u001b[1m96/96\u001b[0m \u001b[32m━━━━━━━━━━━━━━━━━━━━\u001b[0m\u001b[37m\u001b[0m \u001b[1m0s\u001b[0m 3ms/step - loss: 0.0029 - val_loss: 0.0026\n",
      "Epoch 5/100\n",
      "\u001b[1m84/96\u001b[0m \u001b[32m━━━━━━━━━━━━━━━━━\u001b[0m\u001b[37m━━━\u001b[0m \u001b[1m0s\u001b[0m 2ms/step - loss: 0.0019\n",
      "Epoch 5: val_loss improved from 0.00264 to 0.00251, saving model to mymodel.keras\n",
      "\u001b[1m96/96\u001b[0m \u001b[32m━━━━━━━━━━━━━━━━━━━━\u001b[0m\u001b[37m\u001b[0m \u001b[1m0s\u001b[0m 3ms/step - loss: 0.0022 - val_loss: 0.0025\n",
      "Epoch 6/100\n",
      "\u001b[1m73/96\u001b[0m \u001b[32m━━━━━━━━━━━━━━━\u001b[0m\u001b[37m━━━━━\u001b[0m \u001b[1m0s\u001b[0m 2ms/step - loss: 0.0015    \n",
      "Epoch 6: val_loss improved from 0.00251 to 0.00239, saving model to mymodel.keras\n",
      "\u001b[1m96/96\u001b[0m \u001b[32m━━━━━━━━━━━━━━━━━━━━\u001b[0m\u001b[37m\u001b[0m \u001b[1m0s\u001b[0m 3ms/step - loss: 0.0020 - val_loss: 0.0024\n",
      "Epoch 7/100\n",
      "\u001b[1m74/96\u001b[0m \u001b[32m━━━━━━━━━━━━━━━\u001b[0m\u001b[37m━━━━━\u001b[0m \u001b[1m0s\u001b[0m 2ms/step - loss: 0.0014    \n",
      "Epoch 7: val_loss did not improve from 0.00239\n",
      "\u001b[1m96/96\u001b[0m \u001b[32m━━━━━━━━━━━━━━━━━━━━\u001b[0m\u001b[37m\u001b[0m \u001b[1m1s\u001b[0m 3ms/step - loss: 0.0020 - val_loss: 0.0026\n",
      "Epoch 8/100\n",
      "\u001b[1m93/96\u001b[0m \u001b[32m━━━━━━━━━━━━━━━━━━━\u001b[0m\u001b[37m━\u001b[0m \u001b[1m0s\u001b[0m 2ms/step - loss: 0.0021\n",
      "Epoch 8: val_loss improved from 0.00239 to 0.00220, saving model to mymodel.keras\n",
      "\u001b[1m96/96\u001b[0m \u001b[32m━━━━━━━━━━━━━━━━━━━━\u001b[0m\u001b[37m\u001b[0m \u001b[1m0s\u001b[0m 3ms/step - loss: 0.0022 - val_loss: 0.0022\n",
      "Epoch 9/100\n",
      "\u001b[1m77/96\u001b[0m \u001b[32m━━━━━━━━━━━━━━━━\u001b[0m\u001b[37m━━━━\u001b[0m \u001b[1m0s\u001b[0m 2ms/step - loss: 0.0014    \n",
      "Epoch 9: val_loss did not improve from 0.00220\n",
      "\u001b[1m96/96\u001b[0m \u001b[32m━━━━━━━━━━━━━━━━━━━━\u001b[0m\u001b[37m\u001b[0m \u001b[1m0s\u001b[0m 3ms/step - loss: 0.0018 - val_loss: 0.0023\n",
      "Epoch 10/100\n",
      "\u001b[1m78/96\u001b[0m \u001b[32m━━━━━━━━━━━━━━━━\u001b[0m\u001b[37m━━━━\u001b[0m \u001b[1m0s\u001b[0m 2ms/step - loss: 0.0016\n",
      "Epoch 10: val_loss improved from 0.00220 to 0.00202, saving model to mymodel.keras\n",
      "\u001b[1m96/96\u001b[0m \u001b[32m━━━━━━━━━━━━━━━━━━━━\u001b[0m\u001b[37m\u001b[0m \u001b[1m0s\u001b[0m 3ms/step - loss: 0.0020 - val_loss: 0.0020\n",
      "Epoch 11/100\n",
      "\u001b[1m73/96\u001b[0m \u001b[32m━━━━━━━━━━━━━━━\u001b[0m\u001b[37m━━━━━\u001b[0m \u001b[1m0s\u001b[0m 2ms/step - loss: 0.0012    \n",
      "Epoch 11: val_loss improved from 0.00202 to 0.00194, saving model to mymodel.keras\n",
      "\u001b[1m96/96\u001b[0m \u001b[32m━━━━━━━━━━━━━━━━━━━━\u001b[0m\u001b[37m\u001b[0m \u001b[1m0s\u001b[0m 3ms/step - loss: 0.0017 - val_loss: 0.0019\n",
      "Epoch 12/100\n",
      "\u001b[1m73/96\u001b[0m \u001b[32m━━━━━━━━━━━━━━━\u001b[0m\u001b[37m━━━━━\u001b[0m \u001b[1m0s\u001b[0m 2ms/step - loss: 0.0012    \n",
      "Epoch 12: val_loss did not improve from 0.00194\n",
      "\u001b[1m96/96\u001b[0m \u001b[32m━━━━━━━━━━━━━━━━━━━━\u001b[0m\u001b[37m\u001b[0m \u001b[1m0s\u001b[0m 3ms/step - loss: 0.0018 - val_loss: 0.0021\n",
      "Epoch 13/100\n",
      "\u001b[1m77/96\u001b[0m \u001b[32m━━━━━━━━━━━━━━━━\u001b[0m\u001b[37m━━━━\u001b[0m \u001b[1m0s\u001b[0m 2ms/step - loss: 0.0014\n",
      "Epoch 13: val_loss improved from 0.00194 to 0.00182, saving model to mymodel.keras\n",
      "\u001b[1m96/96\u001b[0m \u001b[32m━━━━━━━━━━━━━━━━━━━━\u001b[0m\u001b[37m\u001b[0m \u001b[1m0s\u001b[0m 3ms/step - loss: 0.0018 - val_loss: 0.0018\n",
      "Epoch 14/100\n",
      "\u001b[1m77/96\u001b[0m \u001b[32m━━━━━━━━━━━━━━━━\u001b[0m\u001b[37m━━━━\u001b[0m \u001b[1m0s\u001b[0m 2ms/step - loss: 0.0013    \n",
      "Epoch 14: val_loss did not improve from 0.00182\n",
      "\u001b[1m96/96\u001b[0m \u001b[32m━━━━━━━━━━━━━━━━━━━━\u001b[0m\u001b[37m\u001b[0m \u001b[1m0s\u001b[0m 3ms/step - loss: 0.0017 - val_loss: 0.0021\n",
      "Epoch 15/100\n",
      "\u001b[1m77/96\u001b[0m \u001b[32m━━━━━━━━━━━━━━━━\u001b[0m\u001b[37m━━━━\u001b[0m \u001b[1m0s\u001b[0m 2ms/step - loss: 0.0014\n",
      "Epoch 15: val_loss improved from 0.00182 to 0.00182, saving model to mymodel.keras\n",
      "\u001b[1m96/96\u001b[0m \u001b[32m━━━━━━━━━━━━━━━━━━━━\u001b[0m\u001b[37m\u001b[0m \u001b[1m0s\u001b[0m 3ms/step - loss: 0.0018 - val_loss: 0.0018\n",
      "Epoch 16/100\n",
      "\u001b[1m77/96\u001b[0m \u001b[32m━━━━━━━━━━━━━━━━\u001b[0m\u001b[37m━━━━\u001b[0m \u001b[1m0s\u001b[0m 2ms/step - loss: 0.0013    \n",
      "Epoch 16: val_loss did not improve from 0.00182\n",
      "\u001b[1m96/96\u001b[0m \u001b[32m━━━━━━━━━━━━━━━━━━━━\u001b[0m\u001b[37m\u001b[0m \u001b[1m0s\u001b[0m 3ms/step - loss: 0.0017 - val_loss: 0.0021\n",
      "Epoch 17/100\n",
      "\u001b[1m78/96\u001b[0m \u001b[32m━━━━━━━━━━━━━━━━\u001b[0m\u001b[37m━━━━\u001b[0m \u001b[1m0s\u001b[0m 2ms/step - loss: 0.0016\n",
      "Epoch 17: val_loss did not improve from 0.00182\n",
      "\u001b[1m96/96\u001b[0m \u001b[32m━━━━━━━━━━━━━━━━━━━━\u001b[0m\u001b[37m\u001b[0m \u001b[1m0s\u001b[0m 3ms/step - loss: 0.0020 - val_loss: 0.0034\n",
      "Epoch 18/100\n",
      "\u001b[1m76/96\u001b[0m \u001b[32m━━━━━━━━━━━━━━━\u001b[0m\u001b[37m━━━━━\u001b[0m \u001b[1m0s\u001b[0m 2ms/step - loss: 0.0022\n",
      "Epoch 18: val_loss did not improve from 0.00182\n",
      "\u001b[1m96/96\u001b[0m \u001b[32m━━━━━━━━━━━━━━━━━━━━\u001b[0m\u001b[37m\u001b[0m \u001b[1m0s\u001b[0m 3ms/step - loss: 0.0027 - val_loss: 0.0054\n",
      "Epoch 19/100\n",
      "\u001b[1m96/96\u001b[0m \u001b[32m━━━━━━━━━━━━━━━━━━━━\u001b[0m\u001b[37m\u001b[0m \u001b[1m0s\u001b[0m 2ms/step - loss: 0.0026\n",
      "Epoch 19: val_loss did not improve from 0.00182\n",
      "\u001b[1m96/96\u001b[0m \u001b[32m━━━━━━━━━━━━━━━━━━━━\u001b[0m\u001b[37m\u001b[0m \u001b[1m0s\u001b[0m 3ms/step - loss: 0.0026 - val_loss: 0.0043\n",
      "Epoch 20/100\n",
      "\u001b[1m78/96\u001b[0m \u001b[32m━━━━━━━━━━━━━━━━\u001b[0m\u001b[37m━━━━\u001b[0m \u001b[1m0s\u001b[0m 2ms/step - loss: 0.0017\n",
      "Epoch 20: val_loss did not improve from 0.00182\n",
      "\u001b[1m96/96\u001b[0m \u001b[32m━━━━━━━━━━━━━━━━━━━━\u001b[0m\u001b[37m\u001b[0m \u001b[1m0s\u001b[0m 3ms/step - loss: 0.0021 - val_loss: 0.0066\n",
      "Epoch 21/100\n",
      "\u001b[1m79/96\u001b[0m \u001b[32m━━━━━━━━━━━━━━━━\u001b[0m\u001b[37m━━━━\u001b[0m \u001b[1m0s\u001b[0m 2ms/step - loss: 0.0020\n",
      "Epoch 21: val_loss did not improve from 0.00182\n",
      "\u001b[1m96/96\u001b[0m \u001b[32m━━━━━━━━━━━━━━━━━━━━\u001b[0m\u001b[37m\u001b[0m \u001b[1m0s\u001b[0m 3ms/step - loss: 0.0025 - val_loss: 0.0085\n",
      "Epoch 22/100\n",
      "\u001b[1m79/96\u001b[0m \u001b[32m━━━━━━━━━━━━━━━━\u001b[0m\u001b[37m━━━━\u001b[0m \u001b[1m0s\u001b[0m 2ms/step - loss: 0.0021\n",
      "Epoch 22: val_loss did not improve from 0.00182\n",
      "\u001b[1m96/96\u001b[0m \u001b[32m━━━━━━━━━━━━━━━━━━━━\u001b[0m\u001b[37m\u001b[0m \u001b[1m0s\u001b[0m 3ms/step - loss: 0.0026 - val_loss: 0.0080\n",
      "Epoch 23/100\n",
      "\u001b[1m75/96\u001b[0m \u001b[32m━━━━━━━━━━━━━━━\u001b[0m\u001b[37m━━━━━\u001b[0m \u001b[1m0s\u001b[0m 2ms/step - loss: 0.0017\n",
      "Epoch 23: val_loss did not improve from 0.00182\n",
      "\u001b[1m96/96\u001b[0m \u001b[32m━━━━━━━━━━━━━━━━━━━━\u001b[0m\u001b[37m\u001b[0m \u001b[1m0s\u001b[0m 3ms/step - loss: 0.0022 - val_loss: 0.0083\n",
      "Epoch 24/100\n",
      "\u001b[1m77/96\u001b[0m \u001b[32m━━━━━━━━━━━━━━━━\u001b[0m\u001b[37m━━━━\u001b[0m \u001b[1m0s\u001b[0m 2ms/step - loss: 0.0017\n",
      "Epoch 24: val_loss did not improve from 0.00182\n",
      "\u001b[1m96/96\u001b[0m \u001b[32m━━━━━━━━━━━━━━━━━━━━\u001b[0m\u001b[37m\u001b[0m \u001b[1m0s\u001b[0m 3ms/step - loss: 0.0023 - val_loss: 0.0054\n",
      "Epoch 25/100\n",
      "\u001b[1m78/96\u001b[0m \u001b[32m━━━━━━━━━━━━━━━━\u001b[0m\u001b[37m━━━━\u001b[0m \u001b[1m0s\u001b[0m 2ms/step - loss: 0.0015    \n",
      "Epoch 25: val_loss did not improve from 0.00182\n",
      "\u001b[1m96/96\u001b[0m \u001b[32m━━━━━━━━━━━━━━━━━━━━\u001b[0m\u001b[37m\u001b[0m \u001b[1m0s\u001b[0m 3ms/step - loss: 0.0020 - val_loss: 0.0058\n",
      "Epoch 25: early stopping\n"
     ]
    }
   ],
   "source": [
    "history = model.fit(x=X_train,\n",
    "                    y=y_train,\n",
    "                    epochs=100,\n",
    "                    batch_size=20,\n",
    "                    validation_data=(X_test, y_test),\n",
    "                    callbacks=[callbacks],\n",
    "                    shuffle=False)"
   ]
  },
  {
   "cell_type": "code",
   "execution_count": 43,
   "id": "8fe03b26",
   "metadata": {
    "execution": {
     "iopub.execute_input": "2024-10-06T07:12:09.956550Z",
     "iopub.status.busy": "2024-10-06T07:12:09.956043Z",
     "iopub.status.idle": "2024-10-06T07:12:10.217765Z",
     "shell.execute_reply": "2024-10-06T07:12:10.216475Z"
    },
    "id": "VzxR8n1yeGpV",
    "papermill": {
     "duration": 0.306355,
     "end_time": "2024-10-06T07:12:10.220277",
     "exception": false,
     "start_time": "2024-10-06T07:12:09.913922",
     "status": "completed"
    },
    "tags": []
   },
   "outputs": [
    {
     "data": {
      "image/png": "[encoded data removed]",
      "text/plain": [
       "<Figure size 2000x500 with 1 Axes>"
      ]
     },
     "metadata": {},
     "output_type": "display_data"
    }
   ],
   "source": [
    "plt.figure(figsize=(20,5))\n",
    "plt.subplot(1,2,1)\n",
    "plt.plot(history.history['loss'], label='Training Loss')\n",
    "plt.plot(history.history['val_loss'], label='Validation Loss')\n",
    "plt.legend(loc='upper right')\n",
    "plt.xlabel('Epoch', fontsize = 16)\n",
    "plt.ylabel('Loss', fontsize = 16)\n",
    "plt.ylim([0,max(plt.ylim())])\n",
    "plt.title('Training and Validation Loss', fontsize = 16)\n",
    "plt.show()"
   ]
  },
  {
   "cell_type": "markdown",
   "id": "c1999ec4",
   "metadata": {
    "id": "XO0NGWQWerLU",
    "papermill": {
     "duration": 0.040608,
     "end_time": "2024-10-06T07:12:10.302110",
     "exception": false,
     "start_time": "2024-10-06T07:12:10.261502",
     "status": "completed"
    },
    "tags": []
   },
   "source": [
    "## Evaluation"
   ]
  },
  {
   "cell_type": "code",
   "execution_count": 44,
   "id": "6e69aba5",
   "metadata": {
    "execution": {
     "iopub.execute_input": "2024-10-06T07:12:10.386446Z",
     "iopub.status.busy": "2024-10-06T07:12:10.385968Z",
     "iopub.status.idle": "2024-10-06T07:12:11.007968Z",
     "shell.execute_reply": "2024-10-06T07:12:11.006698Z"
    },
    "id": "hyeoNUjxetH-",
    "papermill": {
     "duration": 0.667287,
     "end_time": "2024-10-06T07:12:11.010632",
     "exception": false,
     "start_time": "2024-10-06T07:12:10.343345",
     "status": "completed"
    },
    "tags": []
   },
   "outputs": [
    {
     "name": "stdout",
     "output_type": "stream",
     "text": [
      "\u001b[1m463/463\u001b[0m \u001b[32m━━━━━━━━━━━━━━━━━━━━\u001b[0m\u001b[37m\u001b[0m \u001b[1m1s\u001b[0m 1ms/step - loss: 0.0068\n",
      "\n",
      "Test Loss: 0.6%\n"
     ]
    }
   ],
   "source": [
    "loss = model.evaluate(X_test, y_test, batch_size=1)\n",
    "print(\"\\nTest Loss: %.1f%%\" % (100.0 * loss))"
   ]
  },
  {
   "cell_type": "code",
   "execution_count": 45,
   "id": "112c6c39",
   "metadata": {
    "execution": {
     "iopub.execute_input": "2024-10-06T07:12:11.098272Z",
     "iopub.status.busy": "2024-10-06T07:12:11.097817Z",
     "iopub.status.idle": "2024-10-06T07:12:11.603954Z",
     "shell.execute_reply": "2024-10-06T07:12:11.602758Z"
    },
    "id": "9e854j_NfFTV",
    "papermill": {
     "duration": 0.554251,
     "end_time": "2024-10-06T07:12:11.606838",
     "exception": false,
     "start_time": "2024-10-06T07:12:11.052587",
     "status": "completed"
    },
    "tags": []
   },
   "outputs": [
    {
     "name": "stdout",
     "output_type": "stream",
     "text": [
      "\u001b[1m60/60\u001b[0m \u001b[32m━━━━━━━━━━━━━━━━━━━━\u001b[0m\u001b[37m\u001b[0m \u001b[1m0s\u001b[0m 4ms/step\n"
     ]
    }
   ],
   "source": [
    "train_predict = model.predict(X_train)"
   ]
  },
  {
   "cell_type": "code",
   "execution_count": 46,
   "id": "c7f80f97",
   "metadata": {
    "execution": {
     "iopub.execute_input": "2024-10-06T07:12:11.693710Z",
     "iopub.status.busy": "2024-10-06T07:12:11.693260Z",
     "iopub.status.idle": "2024-10-06T07:12:11.799051Z",
     "shell.execute_reply": "2024-10-06T07:12:11.798015Z"
    },
    "id": "GZgJuMd-fqZW",
    "papermill": {
     "duration": 0.152269,
     "end_time": "2024-10-06T07:12:11.801833",
     "exception": false,
     "start_time": "2024-10-06T07:12:11.649564",
     "status": "completed"
    },
    "tags": []
   },
   "outputs": [
    {
     "name": "stdout",
     "output_type": "stream",
     "text": [
      "\u001b[1m15/15\u001b[0m \u001b[32m━━━━━━━━━━━━━━━━━━━━\u001b[0m\u001b[37m\u001b[0m \u001b[1m0s\u001b[0m 2ms/step \n"
     ]
    }
   ],
   "source": [
    "test_predict = model.predict(X_test)"
   ]
  },
  {
   "cell_type": "code",
   "execution_count": 47,
   "id": "36f46f06",
   "metadata": {
    "execution": {
     "iopub.execute_input": "2024-10-06T07:12:11.889086Z",
     "iopub.status.busy": "2024-10-06T07:12:11.888650Z",
     "iopub.status.idle": "2024-10-06T07:12:11.894425Z",
     "shell.execute_reply": "2024-10-06T07:12:11.893411Z"
    },
    "id": "FcH_8U3tfsGm",
    "papermill": {
     "duration": 0.052356,
     "end_time": "2024-10-06T07:12:11.897006",
     "exception": false,
     "start_time": "2024-10-06T07:12:11.844650",
     "status": "completed"
    },
    "tags": []
   },
   "outputs": [],
   "source": [
    "train_predict = scaler_train.inverse_transform(train_predict)\n",
    "test_predict = scaler_test.inverse_transform(test_predict)"
   ]
  },
  {
   "cell_type": "code",
   "execution_count": 48,
   "id": "a3cec9ae",
   "metadata": {
    "execution": {
     "iopub.execute_input": "2024-10-06T07:12:11.987096Z",
     "iopub.status.busy": "2024-10-06T07:12:11.986672Z",
     "iopub.status.idle": "2024-10-06T07:12:11.992554Z",
     "shell.execute_reply": "2024-10-06T07:12:11.991431Z"
    },
    "id": "DsGDu-NKf912",
    "papermill": {
     "duration": 0.053041,
     "end_time": "2024-10-06T07:12:11.994999",
     "exception": false,
     "start_time": "2024-10-06T07:12:11.941958",
     "status": "completed"
    },
    "tags": []
   },
   "outputs": [],
   "source": [
    "y_train = scaler_train.inverse_transform(y_train)\n",
    "y_test = scaler_test.inverse_transform(y_test)"
   ]
  },
  {
   "cell_type": "code",
   "execution_count": 49,
   "id": "91778c6e",
   "metadata": {
    "execution": {
     "iopub.execute_input": "2024-10-06T07:12:12.083325Z",
     "iopub.status.busy": "2024-10-06T07:12:12.082360Z",
     "iopub.status.idle": "2024-10-06T07:12:12.088481Z",
     "shell.execute_reply": "2024-10-06T07:12:12.087372Z"
    },
    "id": "ZLXqwAU7gGW2",
    "papermill": {
     "duration": 0.052665,
     "end_time": "2024-10-06T07:12:12.090822",
     "exception": false,
     "start_time": "2024-10-06T07:12:12.038157",
     "status": "completed"
    },
    "tags": []
   },
   "outputs": [],
   "source": [
    "train_rmse = np.sqrt(mean_squared_error(y_train, train_predict))"
   ]
  },
  {
   "cell_type": "code",
   "execution_count": 50,
   "id": "bf3f427b",
   "metadata": {
    "execution": {
     "iopub.execute_input": "2024-10-06T07:12:12.181297Z",
     "iopub.status.busy": "2024-10-06T07:12:12.180865Z",
     "iopub.status.idle": "2024-10-06T07:12:12.187117Z",
     "shell.execute_reply": "2024-10-06T07:12:12.185867Z"
    },
    "id": "76WbnJaIgJ4g",
    "papermill": {
     "duration": 0.055049,
     "end_time": "2024-10-06T07:12:12.189612",
     "exception": false,
     "start_time": "2024-10-06T07:12:12.134563",
     "status": "completed"
    },
    "tags": []
   },
   "outputs": [],
   "source": [
    "test_rmse = np.sqrt(mean_squared_error(y_test, test_predict))"
   ]
  },
  {
   "cell_type": "code",
   "execution_count": 51,
   "id": "07014ea7",
   "metadata": {
    "execution": {
     "iopub.execute_input": "2024-10-06T07:12:12.278725Z",
     "iopub.status.busy": "2024-10-06T07:12:12.277966Z",
     "iopub.status.idle": "2024-10-06T07:12:12.283952Z",
     "shell.execute_reply": "2024-10-06T07:12:12.282893Z"
    },
    "id": "WcUBQBz7gMV2",
    "papermill": {
     "duration": 0.052874,
     "end_time": "2024-10-06T07:12:12.286798",
     "exception": false,
     "start_time": "2024-10-06T07:12:12.233924",
     "status": "completed"
    },
    "tags": []
   },
   "outputs": [
    {
     "name": "stdout",
     "output_type": "stream",
     "text": [
      "Train RMSE: 28.23190689086914\n",
      "Test RMSE: 45.87885284423828\n"
     ]
    }
   ],
   "source": [
    "print(f\"Train RMSE: {train_rmse}\")\n",
    "print(f\"Test RMSE: {test_rmse}\")"
   ]
  },
  {
   "cell_type": "code",
   "execution_count": 52,
   "id": "ea7456d5",
   "metadata": {
    "execution": {
     "iopub.execute_input": "2024-10-06T07:12:12.375223Z",
     "iopub.status.busy": "2024-10-06T07:12:12.374788Z",
     "iopub.status.idle": "2024-10-06T07:12:12.411415Z",
     "shell.execute_reply": "2024-10-06T07:12:12.410045Z"
    },
    "id": "t_llof9mgYz_",
    "papermill": {
     "duration": 0.084012,
     "end_time": "2024-10-06T07:12:12.414102",
     "exception": false,
     "start_time": "2024-10-06T07:12:12.330090",
     "status": "completed"
    },
    "tags": []
   },
   "outputs": [
    {
     "data": {
      "text/html": [
       "<div>\n",
       "<style scoped>\n",
       "    .dataframe tbody tr th:only-of-type {\n",
       "        vertical-align: middle;\n",
       "    }\n",
       "\n",
       "    .dataframe tbody tr th {\n",
       "        vertical-align: top;\n",
       "    }\n",
       "\n",
       "    .dataframe thead th {\n",
       "        text-align: right;\n",
       "    }\n",
       "</style>\n",
       "<table border=\"1\" class=\"dataframe\">\n",
       "  <thead>\n",
       "    <tr style=\"text-align: right;\">\n",
       "      <th></th>\n",
       "      <th>count</th>\n",
       "      <th>mean</th>\n",
       "      <th>min</th>\n",
       "      <th>25%</th>\n",
       "      <th>50%</th>\n",
       "      <th>75%</th>\n",
       "      <th>max</th>\n",
       "      <th>std</th>\n",
       "    </tr>\n",
       "  </thead>\n",
       "  <tbody>\n",
       "    <tr>\n",
       "      <th>Date</th>\n",
       "      <td>2416</td>\n",
       "      <td>2015-04-15 11:09:56.026490112</td>\n",
       "      <td>2010-06-29 00:00:00</td>\n",
       "      <td>2012-11-19 18:00:00</td>\n",
       "      <td>2015-04-16 12:00:00</td>\n",
       "      <td>2017-09-07 06:00:00</td>\n",
       "      <td>2020-02-03 00:00:00</td>\n",
       "      <td>NaN</td>\n",
       "    </tr>\n",
       "    <tr>\n",
       "      <th>Open</th>\n",
       "      <td>2416.0</td>\n",
       "      <td>186.271147</td>\n",
       "      <td>16.139999</td>\n",
       "      <td>34.342498</td>\n",
       "      <td>213.035004</td>\n",
       "      <td>266.450012</td>\n",
       "      <td>673.690002</td>\n",
       "      <td>118.740163</td>\n",
       "    </tr>\n",
       "    <tr>\n",
       "      <th>High</th>\n",
       "      <td>2416.0</td>\n",
       "      <td>189.578224</td>\n",
       "      <td>16.629999</td>\n",
       "      <td>34.897501</td>\n",
       "      <td>216.745002</td>\n",
       "      <td>270.927513</td>\n",
       "      <td>786.140015</td>\n",
       "      <td>120.892329</td>\n",
       "    </tr>\n",
       "    <tr>\n",
       "      <th>Low</th>\n",
       "      <td>2416.0</td>\n",
       "      <td>182.916639</td>\n",
       "      <td>14.98</td>\n",
       "      <td>33.587501</td>\n",
       "      <td>208.870002</td>\n",
       "      <td>262.102501</td>\n",
       "      <td>673.52002</td>\n",
       "      <td>116.857591</td>\n",
       "    </tr>\n",
       "    <tr>\n",
       "      <th>Close</th>\n",
       "      <td>2416.0</td>\n",
       "      <td>186.403651</td>\n",
       "      <td>15.8</td>\n",
       "      <td>34.400002</td>\n",
       "      <td>212.960007</td>\n",
       "      <td>266.774994</td>\n",
       "      <td>780.0</td>\n",
       "      <td>119.13602</td>\n",
       "    </tr>\n",
       "    <tr>\n",
       "      <th>Adj Close</th>\n",
       "      <td>2416.0</td>\n",
       "      <td>186.403651</td>\n",
       "      <td>15.8</td>\n",
       "      <td>34.400002</td>\n",
       "      <td>212.960007</td>\n",
       "      <td>266.774994</td>\n",
       "      <td>780.0</td>\n",
       "      <td>119.13602</td>\n",
       "    </tr>\n",
       "    <tr>\n",
       "      <th>Volume</th>\n",
       "      <td>2416.0</td>\n",
       "      <td>5572721.688742</td>\n",
       "      <td>118500.0</td>\n",
       "      <td>1899275.0</td>\n",
       "      <td>4578400.0</td>\n",
       "      <td>7361150.0</td>\n",
       "      <td>47065000.0</td>\n",
       "      <td>4987809.151888</td>\n",
       "    </tr>\n",
       "  </tbody>\n",
       "</table>\n",
       "</div>"
      ],
      "text/plain": [
       "            count                           mean                  min  \\\n",
       "Date         2416  2015-04-15 11:09:56.026490112  2010-06-29 00:00:00   \n",
       "Open       2416.0                     186.271147            16.139999   \n",
       "High       2416.0                     189.578224            16.629999   \n",
       "Low        2416.0                     182.916639                14.98   \n",
       "Close      2416.0                     186.403651                 15.8   \n",
       "Adj Close  2416.0                     186.403651                 15.8   \n",
       "Volume     2416.0                 5572721.688742             118500.0   \n",
       "\n",
       "                           25%                  50%                  75%  \\\n",
       "Date       2012-11-19 18:00:00  2015-04-16 12:00:00  2017-09-07 06:00:00   \n",
       "Open                 34.342498           213.035004           266.450012   \n",
       "High                 34.897501           216.745002           270.927513   \n",
       "Low                  33.587501           208.870002           262.102501   \n",
       "Close                34.400002           212.960007           266.774994   \n",
       "Adj Close            34.400002           212.960007           266.774994   \n",
       "Volume               1899275.0            4578400.0            7361150.0   \n",
       "\n",
       "                           max             std  \n",
       "Date       2020-02-03 00:00:00             NaN  \n",
       "Open                673.690002      118.740163  \n",
       "High                786.140015      120.892329  \n",
       "Low                  673.52002      116.857591  \n",
       "Close                    780.0       119.13602  \n",
       "Adj Close                780.0       119.13602  \n",
       "Volume              47065000.0  4987809.151888  "
      ]
     },
     "execution_count": 52,
     "metadata": {},
     "output_type": "execute_result"
    }
   ],
   "source": [
    "df.describe().T"
   ]
  },
  {
   "cell_type": "code",
   "execution_count": 53,
   "id": "c396db00",
   "metadata": {
    "execution": {
     "iopub.execute_input": "2024-10-06T07:12:12.503549Z",
     "iopub.status.busy": "2024-10-06T07:12:12.503099Z",
     "iopub.status.idle": "2024-10-06T07:12:12.516702Z",
     "shell.execute_reply": "2024-10-06T07:12:12.515546Z"
    },
    "id": "-PSGVpMzgz1O",
    "papermill": {
     "duration": 0.061443,
     "end_time": "2024-10-06T07:12:12.519522",
     "exception": false,
     "start_time": "2024-10-06T07:12:12.458079",
     "status": "completed"
    },
    "tags": []
   },
   "outputs": [
    {
     "data": {
      "text/html": [
       "<div>\n",
       "<style scoped>\n",
       "    .dataframe tbody tr th:only-of-type {\n",
       "        vertical-align: middle;\n",
       "    }\n",
       "\n",
       "    .dataframe tbody tr th {\n",
       "        vertical-align: top;\n",
       "    }\n",
       "\n",
       "    .dataframe thead th {\n",
       "        text-align: right;\n",
       "    }\n",
       "</style>\n",
       "<table border=\"1\" class=\"dataframe\">\n",
       "  <thead>\n",
       "    <tr style=\"text-align: right;\">\n",
       "      <th></th>\n",
       "      <th>Close</th>\n",
       "      <th>Predicted</th>\n",
       "    </tr>\n",
       "    <tr>\n",
       "      <th>Date</th>\n",
       "      <th></th>\n",
       "      <th></th>\n",
       "    </tr>\n",
       "  </thead>\n",
       "  <tbody>\n",
       "    <tr>\n",
       "      <th>2010-07-28</th>\n",
       "      <td>20.719999</td>\n",
       "      <td>37.404449</td>\n",
       "    </tr>\n",
       "    <tr>\n",
       "      <th>2010-07-29</th>\n",
       "      <td>20.350000</td>\n",
       "      <td>37.404449</td>\n",
       "    </tr>\n",
       "    <tr>\n",
       "      <th>2010-07-30</th>\n",
       "      <td>19.940001</td>\n",
       "      <td>37.404449</td>\n",
       "    </tr>\n",
       "    <tr>\n",
       "      <th>2010-08-02</th>\n",
       "      <td>20.920000</td>\n",
       "      <td>37.404449</td>\n",
       "    </tr>\n",
       "    <tr>\n",
       "      <th>2010-08-03</th>\n",
       "      <td>21.950001</td>\n",
       "      <td>37.404449</td>\n",
       "    </tr>\n",
       "  </tbody>\n",
       "</table>\n",
       "</div>"
      ],
      "text/plain": [
       "                Close  Predicted\n",
       "Date                            \n",
       "2010-07-28  20.719999  37.404449\n",
       "2010-07-29  20.350000  37.404449\n",
       "2010-07-30  19.940001  37.404449\n",
       "2010-08-02  20.920000  37.404449\n",
       "2010-08-03  21.950001  37.404449"
      ]
     },
     "execution_count": 53,
     "metadata": {},
     "output_type": "execute_result"
    }
   ],
   "source": [
    "train_prediction_df = result_df[lookback:position]\n",
    "train_prediction_df[\"Predicted\"] = train_predict\n",
    "train_prediction_df.head()"
   ]
  },
  {
   "cell_type": "code",
   "execution_count": 54,
   "id": "309a3f4c",
   "metadata": {
    "execution": {
     "iopub.execute_input": "2024-10-06T07:12:12.610066Z",
     "iopub.status.busy": "2024-10-06T07:12:12.609612Z",
     "iopub.status.idle": "2024-10-06T07:12:12.623156Z",
     "shell.execute_reply": "2024-10-06T07:12:12.622054Z"
    },
    "id": "o7tRAXwOhMSA",
    "papermill": {
     "duration": 0.060846,
     "end_time": "2024-10-06T07:12:12.625757",
     "exception": false,
     "start_time": "2024-10-06T07:12:12.564911",
     "status": "completed"
    },
    "tags": []
   },
   "outputs": [
    {
     "data": {
      "text/html": [
       "<div>\n",
       "<style scoped>\n",
       "    .dataframe tbody tr th:only-of-type {\n",
       "        vertical-align: middle;\n",
       "    }\n",
       "\n",
       "    .dataframe tbody tr th {\n",
       "        vertical-align: top;\n",
       "    }\n",
       "\n",
       "    .dataframe thead th {\n",
       "        text-align: right;\n",
       "    }\n",
       "</style>\n",
       "<table border=\"1\" class=\"dataframe\">\n",
       "  <thead>\n",
       "    <tr style=\"text-align: right;\">\n",
       "      <th></th>\n",
       "      <th>Close</th>\n",
       "      <th>Predicted</th>\n",
       "    </tr>\n",
       "    <tr>\n",
       "      <th>Date</th>\n",
       "      <th></th>\n",
       "      <th></th>\n",
       "    </tr>\n",
       "  </thead>\n",
       "  <tbody>\n",
       "    <tr>\n",
       "      <th>2018-04-03</th>\n",
       "      <td>267.529999</td>\n",
       "      <td>338.554504</td>\n",
       "    </tr>\n",
       "    <tr>\n",
       "      <th>2018-04-04</th>\n",
       "      <td>286.940002</td>\n",
       "      <td>333.817535</td>\n",
       "    </tr>\n",
       "    <tr>\n",
       "      <th>2018-04-05</th>\n",
       "      <td>305.720001</td>\n",
       "      <td>331.678528</td>\n",
       "    </tr>\n",
       "    <tr>\n",
       "      <th>2018-04-06</th>\n",
       "      <td>299.299988</td>\n",
       "      <td>335.406342</td>\n",
       "    </tr>\n",
       "    <tr>\n",
       "      <th>2018-04-09</th>\n",
       "      <td>289.660004</td>\n",
       "      <td>335.478851</td>\n",
       "    </tr>\n",
       "  </tbody>\n",
       "</table>\n",
       "</div>"
      ],
      "text/plain": [
       "                 Close   Predicted\n",
       "Date                              \n",
       "2018-04-03  267.529999  338.554504\n",
       "2018-04-04  286.940002  333.817535\n",
       "2018-04-05  305.720001  331.678528\n",
       "2018-04-06  299.299988  335.406342\n",
       "2018-04-09  289.660004  335.478851"
      ]
     },
     "execution_count": 54,
     "metadata": {},
     "output_type": "execute_result"
    }
   ],
   "source": [
    "test_prediction_df = result_df[position+lookback:]\n",
    "test_prediction_df[\"Predicted\"] = test_predict\n",
    "test_prediction_df.head()"
   ]
  },
  {
   "cell_type": "code",
   "execution_count": 55,
   "id": "b7ab46b6",
   "metadata": {
    "execution": {
     "iopub.execute_input": "2024-10-06T07:12:12.717377Z",
     "iopub.status.busy": "2024-10-06T07:12:12.716924Z",
     "iopub.status.idle": "2024-10-06T07:12:13.188794Z",
     "shell.execute_reply": "2024-10-06T07:12:13.187426Z"
    },
    "id": "PJ_-znSchYO_",
    "papermill": {
     "duration": 0.521584,
     "end_time": "2024-10-06T07:12:13.191956",
     "exception": false,
     "start_time": "2024-10-06T07:12:12.670372",
     "status": "completed"
    },
    "tags": []
   },
   "outputs": [
    {
     "data": {
      "image/png": "[encoded data removed]",
      "text/plain": [
       "<Figure size 1400x500 with 1 Axes>"
      ]
     },
     "metadata": {},
     "output_type": "display_data"
    }
   ],
   "source": [
    "plt.figure(figsize=(14,5))\n",
    "plt.plot(result_df, label = \"Real Number of Passengers\")\n",
    "plt.plot(train_prediction_df[\"Predicted\"], color = 'blue', label = \"Train Predicted Number of Passengers\")\n",
    "plt.plot(test_prediction_df[\"Predicted\"],color = 'red', label = \"Test Predicted Number of Passengers\")\n",
    "plt.title(\"Number of Passengers Prediction\")\n",
    "plt.xlabel(\"Time\")\n",
    "plt.ylabel(\"Number of Passengers\")\n",
    "plt.legend()\n",
    "plt.show()"
   ]
  }
 ],
 "metadata": {
  "colab": {
   "provenance": []
  },
  "kaggle": {
   "accelerator": "none",
   "dataSources": [
    {
     "datasetId": 500872,
     "sourceId": 927894,
     "sourceType": "datasetVersion"
    }
   ],
   "dockerImageVersionId": 30761,
   "isGpuEnabled": false,
   "isInternetEnabled": true,
   "language": "python",
   "sourceType": "notebook"
  },
  "kernelspec": {
   "display_name": "Python 3",
   "language": "python",
   "name": "python3"
  },
  "language_info": {
   "codemirror_mode": {
    "name": "ipython",
    "version": 3
   },
   "file_extension": ".py",
   "mimetype": "text/x-python",
   "name": "python",
   "nbconvert_exporter": "python",
   "pygments_lexer": "ipython3",
   "version": "3.10.14"
  },
  "papermill": {
   "default_parameters": {},
   "duration": 38.099992,
   "end_time": "2024-10-06T07:12:14.963135",
   "environment_variables": {},
   "exception": null,
   "input_path": "__notebook__.ipynb",
   "output_path": "__notebook__.ipynb",
   "parameters": {},
   "start_time": "2024-10-06T07:11:36.863143",
   "version": "2.6.0"
  }
 },
 "nbformat": 4,
 "nbformat_minor": 5
}
