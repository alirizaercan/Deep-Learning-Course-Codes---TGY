{
 "cells": [
  {
   "cell_type": "markdown",
   "id": "f01ed6e1",
   "metadata": {
    "id": "4unSJJjsT8BM",
    "papermill": {
     "duration": 0.021272,
     "end_time": "2024-11-14T06:49:12.558254",
     "exception": false,
     "start_time": "2024-11-14T06:49:12.536982",
     "status": "completed"
    },
    "tags": []
   },
   "source": [
    "# Tesla - Stock Price Prediction\n",
    "\n",
    "---\n",
    "\n"
   ]
  },
  {
   "cell_type": "markdown",
   "id": "fb702fc1",
   "metadata": {
    "id": "wkRLJL2XUAfT",
    "papermill": {
     "duration": 0.017917,
     "end_time": "2024-11-14T06:49:12.595077",
     "exception": false,
     "start_time": "2024-11-14T06:49:12.577160",
     "status": "completed"
    },
    "tags": []
   },
   "source": [
    "## Business Problem\n",
    "\n",
    "In this notebook, our purpose is to predict of tesla - stock price."
   ]
  },
  {
   "cell_type": "markdown",
   "id": "66ff9b5b",
   "metadata": {
    "id": "0uxjphZsUwjz",
    "papermill": {
     "duration": 0.018193,
     "end_time": "2024-11-14T06:49:12.631280",
     "exception": false,
     "start_time": "2024-11-14T06:49:12.613087",
     "status": "completed"
    },
    "tags": []
   },
   "source": [
    "## Data Understanding"
   ]
  },
  {
   "cell_type": "code",
   "execution_count": 1,
   "id": "04591a5d",
   "metadata": {
    "execution": {
     "iopub.execute_input": "2024-11-14T06:49:12.669855Z",
     "iopub.status.busy": "2024-11-14T06:49:12.669410Z",
     "iopub.status.idle": "2024-11-14T06:49:30.249353Z",
     "shell.execute_reply": "2024-11-14T06:49:30.248269Z"
    },
    "id": "40IR65rQUyWC",
    "outputId": "4562368d-970e-4fd6-b03e-be036efe4dcd",
    "papermill": {
     "duration": 17.602624,
     "end_time": "2024-11-14T06:49:30.252293",
     "exception": false,
     "start_time": "2024-11-14T06:49:12.649669",
     "status": "completed"
    },
    "tags": []
   },
   "outputs": [],
   "source": [
    "import numpy as np\n",
    "import pandas as pd\n",
    "import datetime as dt\n",
    "import tensorflow as tf\n",
    "import matplotlib.pyplot as plt\n",
    "\n",
    "from sklearn.preprocessing import MinMaxScaler\n",
    "from sklearn.metrics import mean_squared_error\n",
    "\n",
    "from tensorflow.keras.models import Sequential\n",
    "from tensorflow.keras.layers import Dense, LSTM, Dropout\n",
    "from tensorflow.keras.callbacks import ModelCheckpoint, EarlyStopping\n",
    "\n",
    "import warnings\n",
    "warnings.filterwarnings('ignore')\n",
    "\n",
    "import os\n",
    "os.environ['TF_CPP_MIN_LOG_LEVEL'] = '3'\n",
    "tf.compat.v1.logging.set_verbosity(tf.compat.v1.logging.ERROR)"
   ]
  },
  {
   "cell_type": "code",
   "execution_count": 2,
   "id": "4cb647d7",
   "metadata": {
    "execution": {
     "iopub.execute_input": "2024-11-14T06:49:30.291717Z",
     "iopub.status.busy": "2024-11-14T06:49:30.290557Z",
     "iopub.status.idle": "2024-11-14T06:49:30.350959Z",
     "shell.execute_reply": "2024-11-14T06:49:30.349464Z"
    },
    "id": "-be5_efvVpTV",
    "papermill": {
     "duration": 0.082541,
     "end_time": "2024-11-14T06:49:30.353450",
     "exception": false,
     "start_time": "2024-11-14T06:49:30.270909",
     "status": "completed"
    },
    "tags": []
   },
   "outputs": [
    {
     "data": {
      "text/html": [
       "<div>\n",
       "<style scoped>\n",
       "    .dataframe tbody tr th:only-of-type {\n",
       "        vertical-align: middle;\n",
       "    }\n",
       "\n",
       "    .dataframe tbody tr th {\n",
       "        vertical-align: top;\n",
       "    }\n",
       "\n",
       "    .dataframe thead th {\n",
       "        text-align: right;\n",
       "    }\n",
       "</style>\n",
       "<table border=\"1\" class=\"dataframe\">\n",
       "  <thead>\n",
       "    <tr style=\"text-align: right;\">\n",
       "      <th></th>\n",
       "      <th>Date</th>\n",
       "      <th>Open</th>\n",
       "      <th>High</th>\n",
       "      <th>Low</th>\n",
       "      <th>Close</th>\n",
       "      <th>Adj Close</th>\n",
       "      <th>Volume</th>\n",
       "    </tr>\n",
       "  </thead>\n",
       "  <tbody>\n",
       "    <tr>\n",
       "      <th>0</th>\n",
       "      <td>2010-06-29</td>\n",
       "      <td>19.000000</td>\n",
       "      <td>25.000000</td>\n",
       "      <td>17.540001</td>\n",
       "      <td>23.889999</td>\n",
       "      <td>23.889999</td>\n",
       "      <td>18766300</td>\n",
       "    </tr>\n",
       "    <tr>\n",
       "      <th>1</th>\n",
       "      <td>2010-06-30</td>\n",
       "      <td>25.790001</td>\n",
       "      <td>30.420000</td>\n",
       "      <td>23.299999</td>\n",
       "      <td>23.830000</td>\n",
       "      <td>23.830000</td>\n",
       "      <td>17187100</td>\n",
       "    </tr>\n",
       "    <tr>\n",
       "      <th>2</th>\n",
       "      <td>2010-07-01</td>\n",
       "      <td>25.000000</td>\n",
       "      <td>25.920000</td>\n",
       "      <td>20.270000</td>\n",
       "      <td>21.959999</td>\n",
       "      <td>21.959999</td>\n",
       "      <td>8218800</td>\n",
       "    </tr>\n",
       "    <tr>\n",
       "      <th>3</th>\n",
       "      <td>2010-07-02</td>\n",
       "      <td>23.000000</td>\n",
       "      <td>23.100000</td>\n",
       "      <td>18.709999</td>\n",
       "      <td>19.200001</td>\n",
       "      <td>19.200001</td>\n",
       "      <td>5139800</td>\n",
       "    </tr>\n",
       "    <tr>\n",
       "      <th>4</th>\n",
       "      <td>2010-07-06</td>\n",
       "      <td>20.000000</td>\n",
       "      <td>20.000000</td>\n",
       "      <td>15.830000</td>\n",
       "      <td>16.110001</td>\n",
       "      <td>16.110001</td>\n",
       "      <td>6866900</td>\n",
       "    </tr>\n",
       "    <tr>\n",
       "      <th>...</th>\n",
       "      <td>...</td>\n",
       "      <td>...</td>\n",
       "      <td>...</td>\n",
       "      <td>...</td>\n",
       "      <td>...</td>\n",
       "      <td>...</td>\n",
       "      <td>...</td>\n",
       "    </tr>\n",
       "    <tr>\n",
       "      <th>2411</th>\n",
       "      <td>2020-01-28</td>\n",
       "      <td>568.489990</td>\n",
       "      <td>576.809998</td>\n",
       "      <td>558.080017</td>\n",
       "      <td>566.900024</td>\n",
       "      <td>566.900024</td>\n",
       "      <td>11788500</td>\n",
       "    </tr>\n",
       "    <tr>\n",
       "      <th>2412</th>\n",
       "      <td>2020-01-29</td>\n",
       "      <td>575.690002</td>\n",
       "      <td>589.799988</td>\n",
       "      <td>567.429993</td>\n",
       "      <td>580.989990</td>\n",
       "      <td>580.989990</td>\n",
       "      <td>17801500</td>\n",
       "    </tr>\n",
       "    <tr>\n",
       "      <th>2413</th>\n",
       "      <td>2020-01-30</td>\n",
       "      <td>632.419983</td>\n",
       "      <td>650.880005</td>\n",
       "      <td>618.000000</td>\n",
       "      <td>640.809998</td>\n",
       "      <td>640.809998</td>\n",
       "      <td>29005700</td>\n",
       "    </tr>\n",
       "    <tr>\n",
       "      <th>2414</th>\n",
       "      <td>2020-01-31</td>\n",
       "      <td>640.000000</td>\n",
       "      <td>653.000000</td>\n",
       "      <td>632.520020</td>\n",
       "      <td>650.570007</td>\n",
       "      <td>650.570007</td>\n",
       "      <td>15719300</td>\n",
       "    </tr>\n",
       "    <tr>\n",
       "      <th>2415</th>\n",
       "      <td>2020-02-03</td>\n",
       "      <td>673.690002</td>\n",
       "      <td>786.140015</td>\n",
       "      <td>673.520020</td>\n",
       "      <td>780.000000</td>\n",
       "      <td>780.000000</td>\n",
       "      <td>47065000</td>\n",
       "    </tr>\n",
       "  </tbody>\n",
       "</table>\n",
       "<p>2416 rows × 7 columns</p>\n",
       "</div>"
      ],
      "text/plain": [
       "            Date        Open        High         Low       Close   Adj Close  \\\n",
       "0     2010-06-29   19.000000   25.000000   17.540001   23.889999   23.889999   \n",
       "1     2010-06-30   25.790001   30.420000   23.299999   23.830000   23.830000   \n",
       "2     2010-07-01   25.000000   25.920000   20.270000   21.959999   21.959999   \n",
       "3     2010-07-02   23.000000   23.100000   18.709999   19.200001   19.200001   \n",
       "4     2010-07-06   20.000000   20.000000   15.830000   16.110001   16.110001   \n",
       "...          ...         ...         ...         ...         ...         ...   \n",
       "2411  2020-01-28  568.489990  576.809998  558.080017  566.900024  566.900024   \n",
       "2412  2020-01-29  575.690002  589.799988  567.429993  580.989990  580.989990   \n",
       "2413  2020-01-30  632.419983  650.880005  618.000000  640.809998  640.809998   \n",
       "2414  2020-01-31  640.000000  653.000000  632.520020  650.570007  650.570007   \n",
       "2415  2020-02-03  673.690002  786.140015  673.520020  780.000000  780.000000   \n",
       "\n",
       "        Volume  \n",
       "0     18766300  \n",
       "1     17187100  \n",
       "2      8218800  \n",
       "3      5139800  \n",
       "4      6866900  \n",
       "...        ...  \n",
       "2411  11788500  \n",
       "2412  17801500  \n",
       "2413  29005700  \n",
       "2414  15719300  \n",
       "2415  47065000  \n",
       "\n",
       "[2416 rows x 7 columns]"
      ]
     },
     "execution_count": 2,
     "metadata": {},
     "output_type": "execute_result"
    }
   ],
   "source": [
    "df = pd.read_csv('/kaggle/input/tesla-stock-data-from-2010-to-2020/TSLA.csv')\n",
    "df"
   ]
  },
  {
   "cell_type": "code",
   "execution_count": 3,
   "id": "4f98035c",
   "metadata": {
    "execution": {
     "iopub.execute_input": "2024-11-14T06:49:30.393132Z",
     "iopub.status.busy": "2024-11-14T06:49:30.392414Z",
     "iopub.status.idle": "2024-11-14T06:49:30.407598Z",
     "shell.execute_reply": "2024-11-14T06:49:30.406473Z"
    },
    "id": "lG_AO3mdVv17",
    "papermill": {
     "duration": 0.037841,
     "end_time": "2024-11-14T06:49:30.410259",
     "exception": false,
     "start_time": "2024-11-14T06:49:30.372418",
     "status": "completed"
    },
    "tags": []
   },
   "outputs": [
    {
     "data": {
      "text/html": [
       "<div>\n",
       "<style scoped>\n",
       "    .dataframe tbody tr th:only-of-type {\n",
       "        vertical-align: middle;\n",
       "    }\n",
       "\n",
       "    .dataframe tbody tr th {\n",
       "        vertical-align: top;\n",
       "    }\n",
       "\n",
       "    .dataframe thead th {\n",
       "        text-align: right;\n",
       "    }\n",
       "</style>\n",
       "<table border=\"1\" class=\"dataframe\">\n",
       "  <thead>\n",
       "    <tr style=\"text-align: right;\">\n",
       "      <th></th>\n",
       "      <th>Date</th>\n",
       "      <th>Open</th>\n",
       "      <th>High</th>\n",
       "      <th>Low</th>\n",
       "      <th>Close</th>\n",
       "      <th>Adj Close</th>\n",
       "      <th>Volume</th>\n",
       "    </tr>\n",
       "  </thead>\n",
       "  <tbody>\n",
       "    <tr>\n",
       "      <th>0</th>\n",
       "      <td>2010-06-29</td>\n",
       "      <td>19.000000</td>\n",
       "      <td>25.00</td>\n",
       "      <td>17.540001</td>\n",
       "      <td>23.889999</td>\n",
       "      <td>23.889999</td>\n",
       "      <td>18766300</td>\n",
       "    </tr>\n",
       "    <tr>\n",
       "      <th>1</th>\n",
       "      <td>2010-06-30</td>\n",
       "      <td>25.790001</td>\n",
       "      <td>30.42</td>\n",
       "      <td>23.299999</td>\n",
       "      <td>23.830000</td>\n",
       "      <td>23.830000</td>\n",
       "      <td>17187100</td>\n",
       "    </tr>\n",
       "    <tr>\n",
       "      <th>2</th>\n",
       "      <td>2010-07-01</td>\n",
       "      <td>25.000000</td>\n",
       "      <td>25.92</td>\n",
       "      <td>20.270000</td>\n",
       "      <td>21.959999</td>\n",
       "      <td>21.959999</td>\n",
       "      <td>8218800</td>\n",
       "    </tr>\n",
       "    <tr>\n",
       "      <th>3</th>\n",
       "      <td>2010-07-02</td>\n",
       "      <td>23.000000</td>\n",
       "      <td>23.10</td>\n",
       "      <td>18.709999</td>\n",
       "      <td>19.200001</td>\n",
       "      <td>19.200001</td>\n",
       "      <td>5139800</td>\n",
       "    </tr>\n",
       "    <tr>\n",
       "      <th>4</th>\n",
       "      <td>2010-07-06</td>\n",
       "      <td>20.000000</td>\n",
       "      <td>20.00</td>\n",
       "      <td>15.830000</td>\n",
       "      <td>16.110001</td>\n",
       "      <td>16.110001</td>\n",
       "      <td>6866900</td>\n",
       "    </tr>\n",
       "  </tbody>\n",
       "</table>\n",
       "</div>"
      ],
      "text/plain": [
       "         Date       Open   High        Low      Close  Adj Close    Volume\n",
       "0  2010-06-29  19.000000  25.00  17.540001  23.889999  23.889999  18766300\n",
       "1  2010-06-30  25.790001  30.42  23.299999  23.830000  23.830000  17187100\n",
       "2  2010-07-01  25.000000  25.92  20.270000  21.959999  21.959999   8218800\n",
       "3  2010-07-02  23.000000  23.10  18.709999  19.200001  19.200001   5139800\n",
       "4  2010-07-06  20.000000  20.00  15.830000  16.110001  16.110001   6866900"
      ]
     },
     "execution_count": 3,
     "metadata": {},
     "output_type": "execute_result"
    }
   ],
   "source": [
    "df.head()"
   ]
  },
  {
   "cell_type": "code",
   "execution_count": 4,
   "id": "b0c6d643",
   "metadata": {
    "execution": {
     "iopub.execute_input": "2024-11-14T06:49:30.450769Z",
     "iopub.status.busy": "2024-11-14T06:49:30.450086Z",
     "iopub.status.idle": "2024-11-14T06:49:30.459298Z",
     "shell.execute_reply": "2024-11-14T06:49:30.457919Z"
    },
    "id": "TU5hlfyvVxY0",
    "papermill": {
     "duration": 0.032614,
     "end_time": "2024-11-14T06:49:30.462091",
     "exception": false,
     "start_time": "2024-11-14T06:49:30.429477",
     "status": "completed"
    },
    "tags": []
   },
   "outputs": [],
   "source": [
    "def check_df(dataframe, head=5):\n",
    "    print(\"##################### Shape #####################\")\n",
    "    print(dataframe.shape)\n",
    "    print(\"##################### Types #####################\")\n",
    "    print(dataframe.dtypes)\n",
    "    print(\"##################### Head #####################\")\n",
    "    print(dataframe.head(head))  # Fonksiyon çağrısına dikkat edin\n",
    "    print(\"##################### Tail #####################\")\n",
    "    print(dataframe.tail(head))\n",
    "    print(\"##################### NA #####################\")\n",
    "    print(dataframe.isnull().sum())\n",
    "    print(\"##################### Quantile #####################\")\n",
    "    print(dataframe.select_dtypes(include='number').quantile([0, 0.05, 0.5, 0.95, 0.99, 1]).T)\n"
   ]
  },
  {
   "cell_type": "code",
   "execution_count": 5,
   "id": "a6a1fc7a",
   "metadata": {
    "execution": {
     "iopub.execute_input": "2024-11-14T06:49:30.502507Z",
     "iopub.status.busy": "2024-11-14T06:49:30.501508Z",
     "iopub.status.idle": "2024-11-14T06:49:30.526922Z",
     "shell.execute_reply": "2024-11-14T06:49:30.525754Z"
    },
    "id": "t6iFP965V4vk",
    "papermill": {
     "duration": 0.048464,
     "end_time": "2024-11-14T06:49:30.529653",
     "exception": false,
     "start_time": "2024-11-14T06:49:30.481189",
     "status": "completed"
    },
    "tags": []
   },
   "outputs": [
    {
     "name": "stdout",
     "output_type": "stream",
     "text": [
      "##################### Shape #####################\n",
      "(2416, 7)\n",
      "##################### Types #####################\n",
      "Date          object\n",
      "Open         float64\n",
      "High         float64\n",
      "Low          float64\n",
      "Close        float64\n",
      "Adj Close    float64\n",
      "Volume         int64\n",
      "dtype: object\n",
      "##################### Head #####################\n",
      "         Date       Open   High        Low      Close  Adj Close    Volume\n",
      "0  2010-06-29  19.000000  25.00  17.540001  23.889999  23.889999  18766300\n",
      "1  2010-06-30  25.790001  30.42  23.299999  23.830000  23.830000  17187100\n",
      "2  2010-07-01  25.000000  25.92  20.270000  21.959999  21.959999   8218800\n",
      "3  2010-07-02  23.000000  23.10  18.709999  19.200001  19.200001   5139800\n",
      "4  2010-07-06  20.000000  20.00  15.830000  16.110001  16.110001   6866900\n",
      "##################### Tail #####################\n",
      "            Date        Open        High         Low       Close   Adj Close  \\\n",
      "2411  2020-01-28  568.489990  576.809998  558.080017  566.900024  566.900024   \n",
      "2412  2020-01-29  575.690002  589.799988  567.429993  580.989990  580.989990   \n",
      "2413  2020-01-30  632.419983  650.880005  618.000000  640.809998  640.809998   \n",
      "2414  2020-01-31  640.000000  653.000000  632.520020  650.570007  650.570007   \n",
      "2415  2020-02-03  673.690002  786.140015  673.520020  780.000000  780.000000   \n",
      "\n",
      "        Volume  \n",
      "2411  11788500  \n",
      "2412  17801500  \n",
      "2413  29005700  \n",
      "2414  15719300  \n",
      "2415  47065000  \n",
      "##################### NA #####################\n",
      "Date         0\n",
      "Open         0\n",
      "High         0\n",
      "Low          0\n",
      "Close        0\n",
      "Adj Close    0\n",
      "Volume       0\n",
      "dtype: int64\n",
      "##################### Quantile #####################\n",
      "                    0.00           0.05          0.50          0.95  \\\n",
      "Open           16.139999      23.384999  2.130350e+02  3.519100e+02   \n",
      "High           16.629999      24.022501  2.167450e+02  3.567500e+02   \n",
      "Low            14.980000      22.867499  2.088700e+02  3.460250e+02   \n",
      "Close          15.800000      23.565000  2.129600e+02  3.511675e+02   \n",
      "Adj Close      15.800000      23.565000  2.129600e+02  3.511675e+02   \n",
      "Volume     118500.000000  633825.000000  4.578400e+06  1.476090e+07   \n",
      "\n",
      "                   0.99          1.00  \n",
      "Open       4.235790e+02  6.736900e+02  \n",
      "High       4.284705e+02  7.861400e+02  \n",
      "Low        4.122865e+02  6.735200e+02  \n",
      "Close      4.243455e+02  7.800000e+02  \n",
      "Adj Close  4.243455e+02  7.800000e+02  \n",
      "Volume     2.459959e+07  4.706500e+07  \n"
     ]
    }
   ],
   "source": [
    "check_df(df)"
   ]
  },
  {
   "cell_type": "markdown",
   "id": "b04a0879",
   "metadata": {
    "id": "v2n2ONcpWlQl",
    "papermill": {
     "duration": 0.018723,
     "end_time": "2024-11-14T06:49:30.567688",
     "exception": false,
     "start_time": "2024-11-14T06:49:30.548965",
     "status": "completed"
    },
    "tags": []
   },
   "source": [
    "## Data Preparation"
   ]
  },
  {
   "cell_type": "code",
   "execution_count": 6,
   "id": "fd01a99b",
   "metadata": {
    "execution": {
     "iopub.execute_input": "2024-11-14T06:49:30.607915Z",
     "iopub.status.busy": "2024-11-14T06:49:30.607041Z",
     "iopub.status.idle": "2024-11-14T06:49:30.619962Z",
     "shell.execute_reply": "2024-11-14T06:49:30.618683Z"
    },
    "id": "x-En8ormWAo8",
    "papermill": {
     "duration": 0.036089,
     "end_time": "2024-11-14T06:49:30.622848",
     "exception": false,
     "start_time": "2024-11-14T06:49:30.586759",
     "status": "completed"
    },
    "tags": []
   },
   "outputs": [],
   "source": [
    "df[\"Date\"] = pd.to_datetime(df[\"Date\"])"
   ]
  },
  {
   "cell_type": "code",
   "execution_count": 7,
   "id": "372ca082",
   "metadata": {
    "execution": {
     "iopub.execute_input": "2024-11-14T06:49:30.663109Z",
     "iopub.status.busy": "2024-11-14T06:49:30.662185Z",
     "iopub.status.idle": "2024-11-14T06:49:30.678410Z",
     "shell.execute_reply": "2024-11-14T06:49:30.677286Z"
    },
    "id": "Wk3C4MPkWBUG",
    "papermill": {
     "duration": 0.038808,
     "end_time": "2024-11-14T06:49:30.680725",
     "exception": false,
     "start_time": "2024-11-14T06:49:30.641917",
     "status": "completed"
    },
    "tags": []
   },
   "outputs": [
    {
     "data": {
      "text/html": [
       "<div>\n",
       "<style scoped>\n",
       "    .dataframe tbody tr th:only-of-type {\n",
       "        vertical-align: middle;\n",
       "    }\n",
       "\n",
       "    .dataframe tbody tr th {\n",
       "        vertical-align: top;\n",
       "    }\n",
       "\n",
       "    .dataframe thead th {\n",
       "        text-align: right;\n",
       "    }\n",
       "</style>\n",
       "<table border=\"1\" class=\"dataframe\">\n",
       "  <thead>\n",
       "    <tr style=\"text-align: right;\">\n",
       "      <th></th>\n",
       "      <th>Date</th>\n",
       "      <th>Open</th>\n",
       "      <th>High</th>\n",
       "      <th>Low</th>\n",
       "      <th>Close</th>\n",
       "      <th>Adj Close</th>\n",
       "      <th>Volume</th>\n",
       "    </tr>\n",
       "  </thead>\n",
       "  <tbody>\n",
       "    <tr>\n",
       "      <th>0</th>\n",
       "      <td>2010-06-29</td>\n",
       "      <td>19.000000</td>\n",
       "      <td>25.00</td>\n",
       "      <td>17.540001</td>\n",
       "      <td>23.889999</td>\n",
       "      <td>23.889999</td>\n",
       "      <td>18766300</td>\n",
       "    </tr>\n",
       "    <tr>\n",
       "      <th>1</th>\n",
       "      <td>2010-06-30</td>\n",
       "      <td>25.790001</td>\n",
       "      <td>30.42</td>\n",
       "      <td>23.299999</td>\n",
       "      <td>23.830000</td>\n",
       "      <td>23.830000</td>\n",
       "      <td>17187100</td>\n",
       "    </tr>\n",
       "    <tr>\n",
       "      <th>2</th>\n",
       "      <td>2010-07-01</td>\n",
       "      <td>25.000000</td>\n",
       "      <td>25.92</td>\n",
       "      <td>20.270000</td>\n",
       "      <td>21.959999</td>\n",
       "      <td>21.959999</td>\n",
       "      <td>8218800</td>\n",
       "    </tr>\n",
       "    <tr>\n",
       "      <th>3</th>\n",
       "      <td>2010-07-02</td>\n",
       "      <td>23.000000</td>\n",
       "      <td>23.10</td>\n",
       "      <td>18.709999</td>\n",
       "      <td>19.200001</td>\n",
       "      <td>19.200001</td>\n",
       "      <td>5139800</td>\n",
       "    </tr>\n",
       "    <tr>\n",
       "      <th>4</th>\n",
       "      <td>2010-07-06</td>\n",
       "      <td>20.000000</td>\n",
       "      <td>20.00</td>\n",
       "      <td>15.830000</td>\n",
       "      <td>16.110001</td>\n",
       "      <td>16.110001</td>\n",
       "      <td>6866900</td>\n",
       "    </tr>\n",
       "  </tbody>\n",
       "</table>\n",
       "</div>"
      ],
      "text/plain": [
       "        Date       Open   High        Low      Close  Adj Close    Volume\n",
       "0 2010-06-29  19.000000  25.00  17.540001  23.889999  23.889999  18766300\n",
       "1 2010-06-30  25.790001  30.42  23.299999  23.830000  23.830000  17187100\n",
       "2 2010-07-01  25.000000  25.92  20.270000  21.959999  21.959999   8218800\n",
       "3 2010-07-02  23.000000  23.10  18.709999  19.200001  19.200001   5139800\n",
       "4 2010-07-06  20.000000  20.00  15.830000  16.110001  16.110001   6866900"
      ]
     },
     "execution_count": 7,
     "metadata": {},
     "output_type": "execute_result"
    }
   ],
   "source": [
    "df.head()"
   ]
  },
  {
   "cell_type": "code",
   "execution_count": 8,
   "id": "7af08eaf",
   "metadata": {
    "execution": {
     "iopub.execute_input": "2024-11-14T06:49:30.720980Z",
     "iopub.status.busy": "2024-11-14T06:49:30.720528Z",
     "iopub.status.idle": "2024-11-14T06:49:30.726865Z",
     "shell.execute_reply": "2024-11-14T06:49:30.725864Z"
    },
    "id": "ZOVzSrk1WCHu",
    "papermill": {
     "duration": 0.029143,
     "end_time": "2024-11-14T06:49:30.729129",
     "exception": false,
     "start_time": "2024-11-14T06:49:30.699986",
     "status": "completed"
    },
    "tags": []
   },
   "outputs": [],
   "source": [
    "tesla_df = df[[\"Date\", \"Close\"]]"
   ]
  },
  {
   "cell_type": "code",
   "execution_count": 9,
   "id": "164e5cad",
   "metadata": {
    "execution": {
     "iopub.execute_input": "2024-11-14T06:49:30.770342Z",
     "iopub.status.busy": "2024-11-14T06:49:30.769325Z",
     "iopub.status.idle": "2024-11-14T06:49:30.780170Z",
     "shell.execute_reply": "2024-11-14T06:49:30.779132Z"
    },
    "id": "Tli5FuMBWF8l",
    "papermill": {
     "duration": 0.034172,
     "end_time": "2024-11-14T06:49:30.782749",
     "exception": false,
     "start_time": "2024-11-14T06:49:30.748577",
     "status": "completed"
    },
    "tags": []
   },
   "outputs": [
    {
     "data": {
      "text/html": [
       "<div>\n",
       "<style scoped>\n",
       "    .dataframe tbody tr th:only-of-type {\n",
       "        vertical-align: middle;\n",
       "    }\n",
       "\n",
       "    .dataframe tbody tr th {\n",
       "        vertical-align: top;\n",
       "    }\n",
       "\n",
       "    .dataframe thead th {\n",
       "        text-align: right;\n",
       "    }\n",
       "</style>\n",
       "<table border=\"1\" class=\"dataframe\">\n",
       "  <thead>\n",
       "    <tr style=\"text-align: right;\">\n",
       "      <th></th>\n",
       "      <th>Date</th>\n",
       "      <th>Close</th>\n",
       "    </tr>\n",
       "  </thead>\n",
       "  <tbody>\n",
       "    <tr>\n",
       "      <th>0</th>\n",
       "      <td>2010-06-29</td>\n",
       "      <td>23.889999</td>\n",
       "    </tr>\n",
       "    <tr>\n",
       "      <th>1</th>\n",
       "      <td>2010-06-30</td>\n",
       "      <td>23.830000</td>\n",
       "    </tr>\n",
       "    <tr>\n",
       "      <th>2</th>\n",
       "      <td>2010-07-01</td>\n",
       "      <td>21.959999</td>\n",
       "    </tr>\n",
       "    <tr>\n",
       "      <th>3</th>\n",
       "      <td>2010-07-02</td>\n",
       "      <td>19.200001</td>\n",
       "    </tr>\n",
       "    <tr>\n",
       "      <th>4</th>\n",
       "      <td>2010-07-06</td>\n",
       "      <td>16.110001</td>\n",
       "    </tr>\n",
       "  </tbody>\n",
       "</table>\n",
       "</div>"
      ],
      "text/plain": [
       "        Date      Close\n",
       "0 2010-06-29  23.889999\n",
       "1 2010-06-30  23.830000\n",
       "2 2010-07-01  21.959999\n",
       "3 2010-07-02  19.200001\n",
       "4 2010-07-06  16.110001"
      ]
     },
     "execution_count": 9,
     "metadata": {},
     "output_type": "execute_result"
    }
   ],
   "source": [
    "tesla_df.head()"
   ]
  },
  {
   "cell_type": "code",
   "execution_count": 10,
   "id": "a36f650a",
   "metadata": {
    "execution": {
     "iopub.execute_input": "2024-11-14T06:49:30.824216Z",
     "iopub.status.busy": "2024-11-14T06:49:30.823491Z",
     "iopub.status.idle": "2024-11-14T06:49:30.830730Z",
     "shell.execute_reply": "2024-11-14T06:49:30.829691Z"
    },
    "id": "Gsw5OQCAWLzn",
    "papermill": {
     "duration": 0.030949,
     "end_time": "2024-11-14T06:49:30.833285",
     "exception": false,
     "start_time": "2024-11-14T06:49:30.802336",
     "status": "completed"
    },
    "tags": []
   },
   "outputs": [
    {
     "name": "stdout",
     "output_type": "stream",
     "text": [
      "Min Date:  2010-06-29 00:00:00\n",
      "Max Date:  2020-02-03 00:00:00\n"
     ]
    }
   ],
   "source": [
    "print(\"Min Date: \", tesla_df[\"Date\"].min())\n",
    "print(\"Max Date: \", tesla_df[\"Date\"].max())"
   ]
  },
  {
   "cell_type": "code",
   "execution_count": 11,
   "id": "293aa136",
   "metadata": {
    "execution": {
     "iopub.execute_input": "2024-11-14T06:49:30.874717Z",
     "iopub.status.busy": "2024-11-14T06:49:30.873819Z",
     "iopub.status.idle": "2024-11-14T06:49:30.879220Z",
     "shell.execute_reply": "2024-11-14T06:49:30.878138Z"
    },
    "id": "JGi8P08mWQO1",
    "papermill": {
     "duration": 0.028636,
     "end_time": "2024-11-14T06:49:30.881591",
     "exception": false,
     "start_time": "2024-11-14T06:49:30.852955",
     "status": "completed"
    },
    "tags": []
   },
   "outputs": [],
   "source": [
    "tesla_df.index = tesla_df[\"Date\"]"
   ]
  },
  {
   "cell_type": "code",
   "execution_count": 12,
   "id": "46d0050d",
   "metadata": {
    "execution": {
     "iopub.execute_input": "2024-11-14T06:49:30.922344Z",
     "iopub.status.busy": "2024-11-14T06:49:30.921951Z",
     "iopub.status.idle": "2024-11-14T06:49:30.934787Z",
     "shell.execute_reply": "2024-11-14T06:49:30.933664Z"
    },
    "id": "YBWxX2IOWoL_",
    "papermill": {
     "duration": 0.036221,
     "end_time": "2024-11-14T06:49:30.937300",
     "exception": false,
     "start_time": "2024-11-14T06:49:30.901079",
     "status": "completed"
    },
    "tags": []
   },
   "outputs": [
    {
     "data": {
      "text/html": [
       "<div>\n",
       "<style scoped>\n",
       "    .dataframe tbody tr th:only-of-type {\n",
       "        vertical-align: middle;\n",
       "    }\n",
       "\n",
       "    .dataframe tbody tr th {\n",
       "        vertical-align: top;\n",
       "    }\n",
       "\n",
       "    .dataframe thead th {\n",
       "        text-align: right;\n",
       "    }\n",
       "</style>\n",
       "<table border=\"1\" class=\"dataframe\">\n",
       "  <thead>\n",
       "    <tr style=\"text-align: right;\">\n",
       "      <th></th>\n",
       "      <th>Date</th>\n",
       "      <th>Close</th>\n",
       "    </tr>\n",
       "    <tr>\n",
       "      <th>Date</th>\n",
       "      <th></th>\n",
       "      <th></th>\n",
       "    </tr>\n",
       "  </thead>\n",
       "  <tbody>\n",
       "    <tr>\n",
       "      <th>2010-06-29</th>\n",
       "      <td>2010-06-29</td>\n",
       "      <td>23.889999</td>\n",
       "    </tr>\n",
       "    <tr>\n",
       "      <th>2010-06-30</th>\n",
       "      <td>2010-06-30</td>\n",
       "      <td>23.830000</td>\n",
       "    </tr>\n",
       "    <tr>\n",
       "      <th>2010-07-01</th>\n",
       "      <td>2010-07-01</td>\n",
       "      <td>21.959999</td>\n",
       "    </tr>\n",
       "    <tr>\n",
       "      <th>2010-07-02</th>\n",
       "      <td>2010-07-02</td>\n",
       "      <td>19.200001</td>\n",
       "    </tr>\n",
       "    <tr>\n",
       "      <th>2010-07-06</th>\n",
       "      <td>2010-07-06</td>\n",
       "      <td>16.110001</td>\n",
       "    </tr>\n",
       "    <tr>\n",
       "      <th>...</th>\n",
       "      <td>...</td>\n",
       "      <td>...</td>\n",
       "    </tr>\n",
       "    <tr>\n",
       "      <th>2020-01-28</th>\n",
       "      <td>2020-01-28</td>\n",
       "      <td>566.900024</td>\n",
       "    </tr>\n",
       "    <tr>\n",
       "      <th>2020-01-29</th>\n",
       "      <td>2020-01-29</td>\n",
       "      <td>580.989990</td>\n",
       "    </tr>\n",
       "    <tr>\n",
       "      <th>2020-01-30</th>\n",
       "      <td>2020-01-30</td>\n",
       "      <td>640.809998</td>\n",
       "    </tr>\n",
       "    <tr>\n",
       "      <th>2020-01-31</th>\n",
       "      <td>2020-01-31</td>\n",
       "      <td>650.570007</td>\n",
       "    </tr>\n",
       "    <tr>\n",
       "      <th>2020-02-03</th>\n",
       "      <td>2020-02-03</td>\n",
       "      <td>780.000000</td>\n",
       "    </tr>\n",
       "  </tbody>\n",
       "</table>\n",
       "<p>2416 rows × 2 columns</p>\n",
       "</div>"
      ],
      "text/plain": [
       "                 Date       Close\n",
       "Date                             \n",
       "2010-06-29 2010-06-29   23.889999\n",
       "2010-06-30 2010-06-30   23.830000\n",
       "2010-07-01 2010-07-01   21.959999\n",
       "2010-07-02 2010-07-02   19.200001\n",
       "2010-07-06 2010-07-06   16.110001\n",
       "...               ...         ...\n",
       "2020-01-28 2020-01-28  566.900024\n",
       "2020-01-29 2020-01-29  580.989990\n",
       "2020-01-30 2020-01-30  640.809998\n",
       "2020-01-31 2020-01-31  650.570007\n",
       "2020-02-03 2020-02-03  780.000000\n",
       "\n",
       "[2416 rows x 2 columns]"
      ]
     },
     "execution_count": 12,
     "metadata": {},
     "output_type": "execute_result"
    }
   ],
   "source": [
    "tesla_df"
   ]
  },
  {
   "cell_type": "code",
   "execution_count": 13,
   "id": "a3b5c6b5",
   "metadata": {
    "execution": {
     "iopub.execute_input": "2024-11-14T06:49:30.978952Z",
     "iopub.status.busy": "2024-11-14T06:49:30.978504Z",
     "iopub.status.idle": "2024-11-14T06:49:30.984764Z",
     "shell.execute_reply": "2024-11-14T06:49:30.983679Z"
    },
    "id": "tgPM31WBWvcH",
    "papermill": {
     "duration": 0.030016,
     "end_time": "2024-11-14T06:49:30.987259",
     "exception": false,
     "start_time": "2024-11-14T06:49:30.957243",
     "status": "completed"
    },
    "tags": []
   },
   "outputs": [],
   "source": [
    "tesla_df.drop(\"Date\", axis=1, inplace=True)"
   ]
  },
  {
   "cell_type": "code",
   "execution_count": 14,
   "id": "ae54cb7d",
   "metadata": {
    "execution": {
     "iopub.execute_input": "2024-11-14T06:49:31.030040Z",
     "iopub.status.busy": "2024-11-14T06:49:31.029638Z",
     "iopub.status.idle": "2024-11-14T06:49:31.041433Z",
     "shell.execute_reply": "2024-11-14T06:49:31.040318Z"
    },
    "id": "17KdnKMGWwSm",
    "papermill": {
     "duration": 0.03566,
     "end_time": "2024-11-14T06:49:31.043713",
     "exception": false,
     "start_time": "2024-11-14T06:49:31.008053",
     "status": "completed"
    },
    "tags": []
   },
   "outputs": [
    {
     "data": {
      "text/html": [
       "<div>\n",
       "<style scoped>\n",
       "    .dataframe tbody tr th:only-of-type {\n",
       "        vertical-align: middle;\n",
       "    }\n",
       "\n",
       "    .dataframe tbody tr th {\n",
       "        vertical-align: top;\n",
       "    }\n",
       "\n",
       "    .dataframe thead th {\n",
       "        text-align: right;\n",
       "    }\n",
       "</style>\n",
       "<table border=\"1\" class=\"dataframe\">\n",
       "  <thead>\n",
       "    <tr style=\"text-align: right;\">\n",
       "      <th></th>\n",
       "      <th>Close</th>\n",
       "    </tr>\n",
       "    <tr>\n",
       "      <th>Date</th>\n",
       "      <th></th>\n",
       "    </tr>\n",
       "  </thead>\n",
       "  <tbody>\n",
       "    <tr>\n",
       "      <th>2010-06-29</th>\n",
       "      <td>23.889999</td>\n",
       "    </tr>\n",
       "    <tr>\n",
       "      <th>2010-06-30</th>\n",
       "      <td>23.830000</td>\n",
       "    </tr>\n",
       "    <tr>\n",
       "      <th>2010-07-01</th>\n",
       "      <td>21.959999</td>\n",
       "    </tr>\n",
       "    <tr>\n",
       "      <th>2010-07-02</th>\n",
       "      <td>19.200001</td>\n",
       "    </tr>\n",
       "    <tr>\n",
       "      <th>2010-07-06</th>\n",
       "      <td>16.110001</td>\n",
       "    </tr>\n",
       "    <tr>\n",
       "      <th>...</th>\n",
       "      <td>...</td>\n",
       "    </tr>\n",
       "    <tr>\n",
       "      <th>2020-01-28</th>\n",
       "      <td>566.900024</td>\n",
       "    </tr>\n",
       "    <tr>\n",
       "      <th>2020-01-29</th>\n",
       "      <td>580.989990</td>\n",
       "    </tr>\n",
       "    <tr>\n",
       "      <th>2020-01-30</th>\n",
       "      <td>640.809998</td>\n",
       "    </tr>\n",
       "    <tr>\n",
       "      <th>2020-01-31</th>\n",
       "      <td>650.570007</td>\n",
       "    </tr>\n",
       "    <tr>\n",
       "      <th>2020-02-03</th>\n",
       "      <td>780.000000</td>\n",
       "    </tr>\n",
       "  </tbody>\n",
       "</table>\n",
       "<p>2416 rows × 1 columns</p>\n",
       "</div>"
      ],
      "text/plain": [
       "                 Close\n",
       "Date                  \n",
       "2010-06-29   23.889999\n",
       "2010-06-30   23.830000\n",
       "2010-07-01   21.959999\n",
       "2010-07-02   19.200001\n",
       "2010-07-06   16.110001\n",
       "...                ...\n",
       "2020-01-28  566.900024\n",
       "2020-01-29  580.989990\n",
       "2020-01-30  640.809998\n",
       "2020-01-31  650.570007\n",
       "2020-02-03  780.000000\n",
       "\n",
       "[2416 rows x 1 columns]"
      ]
     },
     "execution_count": 14,
     "metadata": {},
     "output_type": "execute_result"
    }
   ],
   "source": [
    "tesla_df"
   ]
  },
  {
   "cell_type": "code",
   "execution_count": 15,
   "id": "b48f70b1",
   "metadata": {
    "execution": {
     "iopub.execute_input": "2024-11-14T06:49:31.086526Z",
     "iopub.status.busy": "2024-11-14T06:49:31.086066Z",
     "iopub.status.idle": "2024-11-14T06:49:31.091145Z",
     "shell.execute_reply": "2024-11-14T06:49:31.090141Z"
    },
    "id": "PliZ5OcsWxsF",
    "papermill": {
     "duration": 0.029307,
     "end_time": "2024-11-14T06:49:31.093373",
     "exception": false,
     "start_time": "2024-11-14T06:49:31.064066",
     "status": "completed"
    },
    "tags": []
   },
   "outputs": [],
   "source": [
    "result_df = tesla_df.copy()"
   ]
  },
  {
   "cell_type": "code",
   "execution_count": 16,
   "id": "d7814da2",
   "metadata": {
    "execution": {
     "iopub.execute_input": "2024-11-14T06:49:31.136337Z",
     "iopub.status.busy": "2024-11-14T06:49:31.135909Z",
     "iopub.status.idle": "2024-11-14T06:49:31.611228Z",
     "shell.execute_reply": "2024-11-14T06:49:31.610126Z"
    },
    "id": "ObqHX6K2W0te",
    "papermill": {
     "duration": 0.500215,
     "end_time": "2024-11-14T06:49:31.614069",
     "exception": false,
     "start_time": "2024-11-14T06:49:31.113854",
     "status": "completed"
    },
    "tags": []
   },
   "outputs": [
    {
     "data": {
      "image/png": "[encoded data removed]",
      "text/plain": [
       "<Figure size 1400x500 with 1 Axes>"
      ]
     },
     "metadata": {},
     "output_type": "display_data"
    }
   ],
   "source": [
    "plt.figure(figsize=(14,5))\n",
    "plt.plot(tesla_df['Close'], color='blue')\n",
    "plt.title(\"Tesla Stock Price\")\n",
    "plt.xlabel(\"Time\")\n",
    "plt.ylabel(\"Stock Price\")\n",
    "plt.show()"
   ]
  },
  {
   "cell_type": "code",
   "execution_count": 17,
   "id": "5b143ec8",
   "metadata": {
    "execution": {
     "iopub.execute_input": "2024-11-14T06:49:31.670429Z",
     "iopub.status.busy": "2024-11-14T06:49:31.669302Z",
     "iopub.status.idle": "2024-11-14T06:49:31.674812Z",
     "shell.execute_reply": "2024-11-14T06:49:31.673733Z"
    },
    "id": "5LWFDWjNW2z2",
    "papermill": {
     "duration": 0.040205,
     "end_time": "2024-11-14T06:49:31.677075",
     "exception": false,
     "start_time": "2024-11-14T06:49:31.636870",
     "status": "completed"
    },
    "tags": []
   },
   "outputs": [],
   "source": [
    "tesla_df = tesla_df.values"
   ]
  },
  {
   "cell_type": "code",
   "execution_count": 18,
   "id": "7275d281",
   "metadata": {
    "execution": {
     "iopub.execute_input": "2024-11-14T06:49:31.720361Z",
     "iopub.status.busy": "2024-11-14T06:49:31.719903Z",
     "iopub.status.idle": "2024-11-14T06:49:31.726938Z",
     "shell.execute_reply": "2024-11-14T06:49:31.725918Z"
    },
    "id": "jxFZkTS-W9Mm",
    "papermill": {
     "duration": 0.031635,
     "end_time": "2024-11-14T06:49:31.729444",
     "exception": false,
     "start_time": "2024-11-14T06:49:31.697809",
     "status": "completed"
    },
    "tags": []
   },
   "outputs": [
    {
     "data": {
      "text/plain": [
       "array([[23.889999],\n",
       "       [23.83    ],\n",
       "       [21.959999],\n",
       "       [19.200001],\n",
       "       [16.110001]])"
      ]
     },
     "execution_count": 18,
     "metadata": {},
     "output_type": "execute_result"
    }
   ],
   "source": [
    "tesla_df[0:5]"
   ]
  },
  {
   "cell_type": "code",
   "execution_count": 19,
   "id": "29ca0f55",
   "metadata": {
    "execution": {
     "iopub.execute_input": "2024-11-14T06:49:31.774336Z",
     "iopub.status.busy": "2024-11-14T06:49:31.773200Z",
     "iopub.status.idle": "2024-11-14T06:49:31.778577Z",
     "shell.execute_reply": "2024-11-14T06:49:31.777482Z"
    },
    "id": "iU7KJlc4XAb2",
    "papermill": {
     "duration": 0.030091,
     "end_time": "2024-11-14T06:49:31.780901",
     "exception": false,
     "start_time": "2024-11-14T06:49:31.750810",
     "status": "completed"
    },
    "tags": []
   },
   "outputs": [],
   "source": [
    "tesla_df = tesla_df.astype(\"float32\")"
   ]
  },
  {
   "cell_type": "code",
   "execution_count": 20,
   "id": "a814200a",
   "metadata": {
    "execution": {
     "iopub.execute_input": "2024-11-14T06:49:31.825326Z",
     "iopub.status.busy": "2024-11-14T06:49:31.824302Z",
     "iopub.status.idle": "2024-11-14T06:49:31.830540Z",
     "shell.execute_reply": "2024-11-14T06:49:31.829656Z"
    },
    "id": "r7Cywk9oXBI-",
    "papermill": {
     "duration": 0.030753,
     "end_time": "2024-11-14T06:49:31.832674",
     "exception": false,
     "start_time": "2024-11-14T06:49:31.801921",
     "status": "completed"
    },
    "tags": []
   },
   "outputs": [],
   "source": [
    "def split_data(dataframe, test_size):\n",
    "  position = int(round(len(dataframe) * (1 - test_size)))\n",
    "  train = dataframe[:position]\n",
    "  test = dataframe[position:]\n",
    "  return train, test, position"
   ]
  },
  {
   "cell_type": "code",
   "execution_count": 21,
   "id": "543f23ff",
   "metadata": {
    "execution": {
     "iopub.execute_input": "2024-11-14T06:49:31.876642Z",
     "iopub.status.busy": "2024-11-14T06:49:31.876174Z",
     "iopub.status.idle": "2024-11-14T06:49:31.881720Z",
     "shell.execute_reply": "2024-11-14T06:49:31.880614Z"
    },
    "id": "COxqfz0SZvV_",
    "papermill": {
     "duration": 0.030179,
     "end_time": "2024-11-14T06:49:31.884056",
     "exception": false,
     "start_time": "2024-11-14T06:49:31.853877",
     "status": "completed"
    },
    "tags": []
   },
   "outputs": [],
   "source": [
    "train, test, position = split_data(tesla_df, 0.20)"
   ]
  },
  {
   "cell_type": "code",
   "execution_count": 22,
   "id": "8421f829",
   "metadata": {
    "execution": {
     "iopub.execute_input": "2024-11-14T06:49:31.927443Z",
     "iopub.status.busy": "2024-11-14T06:49:31.926977Z",
     "iopub.status.idle": "2024-11-14T06:49:31.932628Z",
     "shell.execute_reply": "2024-11-14T06:49:31.931556Z"
    },
    "id": "jESwxnt2Z1t5",
    "papermill": {
     "duration": 0.030592,
     "end_time": "2024-11-14T06:49:31.935365",
     "exception": false,
     "start_time": "2024-11-14T06:49:31.904773",
     "status": "completed"
    },
    "tags": []
   },
   "outputs": [
    {
     "name": "stdout",
     "output_type": "stream",
     "text": [
      "(1933, 1) (483, 1)\n"
     ]
    }
   ],
   "source": [
    "print(train.shape, test.shape)"
   ]
  },
  {
   "cell_type": "code",
   "execution_count": 23,
   "id": "b595f312",
   "metadata": {
    "execution": {
     "iopub.execute_input": "2024-11-14T06:49:31.980291Z",
     "iopub.status.busy": "2024-11-14T06:49:31.979876Z",
     "iopub.status.idle": "2024-11-14T06:49:31.984941Z",
     "shell.execute_reply": "2024-11-14T06:49:31.983827Z"
    },
    "id": "wleQDdgSZ8NZ",
    "papermill": {
     "duration": 0.030567,
     "end_time": "2024-11-14T06:49:31.987314",
     "exception": false,
     "start_time": "2024-11-14T06:49:31.956747",
     "status": "completed"
    },
    "tags": []
   },
   "outputs": [],
   "source": [
    "scaler_train = MinMaxScaler(feature_range = (0,1))"
   ]
  },
  {
   "cell_type": "code",
   "execution_count": 24,
   "id": "c94383da",
   "metadata": {
    "execution": {
     "iopub.execute_input": "2024-11-14T06:49:32.031607Z",
     "iopub.status.busy": "2024-11-14T06:49:32.031146Z",
     "iopub.status.idle": "2024-11-14T06:49:32.038143Z",
     "shell.execute_reply": "2024-11-14T06:49:32.036876Z"
    },
    "id": "Enf8wikDaNZh",
    "papermill": {
     "duration": 0.031919,
     "end_time": "2024-11-14T06:49:32.040503",
     "exception": false,
     "start_time": "2024-11-14T06:49:32.008584",
     "status": "completed"
    },
    "tags": []
   },
   "outputs": [],
   "source": [
    "train = scaler_train.fit_transform(train)"
   ]
  },
  {
   "cell_type": "code",
   "execution_count": 25,
   "id": "b4c20c04",
   "metadata": {
    "execution": {
     "iopub.execute_input": "2024-11-14T06:49:32.085041Z",
     "iopub.status.busy": "2024-11-14T06:49:32.084226Z",
     "iopub.status.idle": "2024-11-14T06:49:32.089781Z",
     "shell.execute_reply": "2024-11-14T06:49:32.088438Z"
    },
    "id": "cg-7tCn_aXTc",
    "papermill": {
     "duration": 0.030735,
     "end_time": "2024-11-14T06:49:32.092482",
     "exception": false,
     "start_time": "2024-11-14T06:49:32.061747",
     "status": "completed"
    },
    "tags": []
   },
   "outputs": [],
   "source": [
    "scaler_test = MinMaxScaler(feature_range = (0,1))"
   ]
  },
  {
   "cell_type": "code",
   "execution_count": 26,
   "id": "0d134854",
   "metadata": {
    "execution": {
     "iopub.execute_input": "2024-11-14T06:49:32.137409Z",
     "iopub.status.busy": "2024-11-14T06:49:32.136949Z",
     "iopub.status.idle": "2024-11-14T06:49:32.142959Z",
     "shell.execute_reply": "2024-11-14T06:49:32.141864Z"
    },
    "id": "tSbuIifiabbC",
    "papermill": {
     "duration": 0.031281,
     "end_time": "2024-11-14T06:49:32.145377",
     "exception": false,
     "start_time": "2024-11-14T06:49:32.114096",
     "status": "completed"
    },
    "tags": []
   },
   "outputs": [],
   "source": [
    "test = scaler_test.fit_transform(test)"
   ]
  },
  {
   "cell_type": "code",
   "execution_count": 27,
   "id": "e738b876",
   "metadata": {
    "execution": {
     "iopub.execute_input": "2024-11-14T06:49:32.190379Z",
     "iopub.status.busy": "2024-11-14T06:49:32.189927Z",
     "iopub.status.idle": "2024-11-14T06:49:32.197702Z",
     "shell.execute_reply": "2024-11-14T06:49:32.196600Z"
    },
    "id": "X5a7m_BEagaJ",
    "papermill": {
     "duration": 0.033087,
     "end_time": "2024-11-14T06:49:32.200201",
     "exception": false,
     "start_time": "2024-11-14T06:49:32.167114",
     "status": "completed"
    },
    "tags": []
   },
   "outputs": [
    {
     "data": {
      "text/plain": [
       "array([[0.02191224],\n",
       "       [0.02174973],\n",
       "       [0.01668472],\n",
       "       [0.0092091 ],\n",
       "       [0.00083966]], dtype=float32)"
      ]
     },
     "execution_count": 27,
     "metadata": {},
     "output_type": "execute_result"
    }
   ],
   "source": [
    "train[0:5]"
   ]
  },
  {
   "cell_type": "code",
   "execution_count": 28,
   "id": "70133912",
   "metadata": {
    "execution": {
     "iopub.execute_input": "2024-11-14T06:49:32.244869Z",
     "iopub.status.busy": "2024-11-14T06:49:32.244411Z",
     "iopub.status.idle": "2024-11-14T06:49:32.252971Z",
     "shell.execute_reply": "2024-11-14T06:49:32.251612Z"
    },
    "id": "AeVSy_ijahnh",
    "papermill": {
     "duration": 0.033674,
     "end_time": "2024-11-14T06:49:32.255330",
     "exception": false,
     "start_time": "2024-11-14T06:49:32.221656",
     "status": "completed"
    },
    "tags": []
   },
   "outputs": [
    {
     "data": {
      "text/plain": [
       "array([[0.25685903],\n",
       "       [0.24829045],\n",
       "       [0.25511202],\n",
       "       [0.24978784],\n",
       "       [0.2465767 ]], dtype=float32)"
      ]
     },
     "execution_count": 28,
     "metadata": {},
     "output_type": "execute_result"
    }
   ],
   "source": [
    "test[0:5]"
   ]
  },
  {
   "cell_type": "code",
   "execution_count": 29,
   "id": "53e444aa",
   "metadata": {
    "execution": {
     "iopub.execute_input": "2024-11-14T06:49:32.300628Z",
     "iopub.status.busy": "2024-11-14T06:49:32.299732Z",
     "iopub.status.idle": "2024-11-14T06:49:32.306533Z",
     "shell.execute_reply": "2024-11-14T06:49:32.305255Z"
    },
    "id": "Gv95UqJWasHS",
    "papermill": {
     "duration": 0.032135,
     "end_time": "2024-11-14T06:49:32.308940",
     "exception": false,
     "start_time": "2024-11-14T06:49:32.276805",
     "status": "completed"
    },
    "tags": []
   },
   "outputs": [],
   "source": [
    "def create_features(data, lookback):\n",
    "  X, Y = [], []\n",
    "  for i in range(lookback, len(data)):\n",
    "    X.append(data[i-lookback:i,0])\n",
    "    Y.append(data[i,0])\n",
    "\n",
    "  return np.array(X), np.array(Y)"
   ]
  },
  {
   "cell_type": "code",
   "execution_count": 30,
   "id": "fe04a3dd",
   "metadata": {
    "execution": {
     "iopub.execute_input": "2024-11-14T06:49:32.353602Z",
     "iopub.status.busy": "2024-11-14T06:49:32.353140Z",
     "iopub.status.idle": "2024-11-14T06:49:32.358176Z",
     "shell.execute_reply": "2024-11-14T06:49:32.357064Z"
    },
    "id": "e36Ux4_CbASm",
    "papermill": {
     "duration": 0.0302,
     "end_time": "2024-11-14T06:49:32.360540",
     "exception": false,
     "start_time": "2024-11-14T06:49:32.330340",
     "status": "completed"
    },
    "tags": []
   },
   "outputs": [],
   "source": [
    "lookback = 20"
   ]
  },
  {
   "cell_type": "code",
   "execution_count": 31,
   "id": "9c8f9d13",
   "metadata": {
    "execution": {
     "iopub.execute_input": "2024-11-14T06:49:32.406044Z",
     "iopub.status.busy": "2024-11-14T06:49:32.405558Z",
     "iopub.status.idle": "2024-11-14T06:49:32.415446Z",
     "shell.execute_reply": "2024-11-14T06:49:32.414574Z"
    },
    "id": "Xd8JMdaWbCzp",
    "papermill": {
     "duration": 0.035265,
     "end_time": "2024-11-14T06:49:32.417969",
     "exception": false,
     "start_time": "2024-11-14T06:49:32.382704",
     "status": "completed"
    },
    "tags": []
   },
   "outputs": [],
   "source": [
    "X_train, y_train = create_features(train, lookback)"
   ]
  },
  {
   "cell_type": "code",
   "execution_count": 32,
   "id": "cea17c33",
   "metadata": {
    "execution": {
     "iopub.execute_input": "2024-11-14T06:49:32.513130Z",
     "iopub.status.busy": "2024-11-14T06:49:32.512701Z",
     "iopub.status.idle": "2024-11-14T06:49:32.518882Z",
     "shell.execute_reply": "2024-11-14T06:49:32.517944Z"
    },
    "id": "wHgq8DT5bF_Z",
    "papermill": {
     "duration": 0.081493,
     "end_time": "2024-11-14T06:49:32.521167",
     "exception": false,
     "start_time": "2024-11-14T06:49:32.439674",
     "status": "completed"
    },
    "tags": []
   },
   "outputs": [],
   "source": [
    "X_test, y_test = create_features(test, lookback)"
   ]
  },
  {
   "cell_type": "code",
   "execution_count": 33,
   "id": "410e3d00",
   "metadata": {
    "execution": {
     "iopub.execute_input": "2024-11-14T06:49:32.565618Z",
     "iopub.status.busy": "2024-11-14T06:49:32.565128Z",
     "iopub.status.idle": "2024-11-14T06:49:32.571267Z",
     "shell.execute_reply": "2024-11-14T06:49:32.570186Z"
    },
    "id": "zYQy_33TbKdb",
    "papermill": {
     "duration": 0.031664,
     "end_time": "2024-11-14T06:49:32.574090",
     "exception": false,
     "start_time": "2024-11-14T06:49:32.542426",
     "status": "completed"
    },
    "tags": []
   },
   "outputs": [
    {
     "name": "stdout",
     "output_type": "stream",
     "text": [
      "(1913, 20) (1913,) (463, 20) (463,)\n"
     ]
    }
   ],
   "source": [
    "print(X_train.shape, y_train.shape, X_test.shape, y_test.shape)"
   ]
  },
  {
   "cell_type": "code",
   "execution_count": 34,
   "id": "4959f73c",
   "metadata": {
    "execution": {
     "iopub.execute_input": "2024-11-14T06:49:32.619979Z",
     "iopub.status.busy": "2024-11-14T06:49:32.619539Z",
     "iopub.status.idle": "2024-11-14T06:49:32.629113Z",
     "shell.execute_reply": "2024-11-14T06:49:32.627584Z"
    },
    "id": "sI1k-K6bTKuw",
    "papermill": {
     "duration": 0.035627,
     "end_time": "2024-11-14T06:49:32.631967",
     "exception": false,
     "start_time": "2024-11-14T06:49:32.596340",
     "status": "completed"
    },
    "tags": []
   },
   "outputs": [
    {
     "data": {
      "text/plain": [
       "array([[0.02191224, 0.02174973, 0.01668472, 0.0092091 , 0.00083966,\n",
       "        0.        , 0.00449621, 0.00433369, 0.0033857 , 0.00633803,\n",
       "        0.01094258, 0.011078  , 0.01310942, 0.0165493 , 0.01218851,\n",
       "        0.01197183, 0.01408451, 0.01486999, 0.01394908, 0.01286566],\n",
       "       [0.02174973, 0.01668472, 0.0092091 , 0.00083966, 0.        ,\n",
       "        0.00449621, 0.00433369, 0.0033857 , 0.00633803, 0.01094258,\n",
       "        0.011078  , 0.01310942, 0.0165493 , 0.01218851, 0.01197183,\n",
       "        0.01408451, 0.01486999, 0.01394908, 0.01286566, 0.01332611],\n",
       "       [0.01668472, 0.0092091 , 0.00083966, 0.        , 0.00449621,\n",
       "        0.00433369, 0.0033857 , 0.00633803, 0.01094258, 0.011078  ,\n",
       "        0.01310942, 0.0165493 , 0.01218851, 0.01197183, 0.01408451,\n",
       "        0.01486999, 0.01394908, 0.01286566, 0.01332611, 0.01232395],\n",
       "       [0.0092091 , 0.00083966, 0.        , 0.00449621, 0.00433369,\n",
       "        0.0033857 , 0.00633803, 0.01094258, 0.011078  , 0.01310942,\n",
       "        0.0165493 , 0.01218851, 0.01197183, 0.01408451, 0.01486999,\n",
       "        0.01394908, 0.01286566, 0.01332611, 0.01232395, 0.01121344],\n",
       "       [0.00083966, 0.        , 0.00449621, 0.00433369, 0.0033857 ,\n",
       "        0.00633803, 0.01094258, 0.011078  , 0.01310942, 0.0165493 ,\n",
       "        0.01218851, 0.01197183, 0.01408451, 0.01486999, 0.01394908,\n",
       "        0.01286566, 0.01332611, 0.01232395, 0.01121344, 0.01386782]],\n",
       "      dtype=float32)"
      ]
     },
     "execution_count": 34,
     "metadata": {},
     "output_type": "execute_result"
    }
   ],
   "source": [
    "X_train[0:5]"
   ]
  },
  {
   "cell_type": "code",
   "execution_count": 35,
   "id": "382c2927",
   "metadata": {
    "execution": {
     "iopub.execute_input": "2024-11-14T06:49:32.678478Z",
     "iopub.status.busy": "2024-11-14T06:49:32.677332Z",
     "iopub.status.idle": "2024-11-14T06:49:32.685573Z",
     "shell.execute_reply": "2024-11-14T06:49:32.684348Z"
    },
    "id": "vY5hCVQHTg9u",
    "papermill": {
     "duration": 0.033839,
     "end_time": "2024-11-14T06:49:32.687982",
     "exception": false,
     "start_time": "2024-11-14T06:49:32.654143",
     "status": "completed"
    },
    "tags": []
   },
   "outputs": [
    {
     "data": {
      "text/plain": [
       "array([0.01332611, 0.01232395, 0.01121344, 0.01386782, 0.01665764],\n",
       "      dtype=float32)"
      ]
     },
     "execution_count": 35,
     "metadata": {},
     "output_type": "execute_result"
    }
   ],
   "source": [
    "y_train[0:5]"
   ]
  },
  {
   "cell_type": "code",
   "execution_count": 36,
   "id": "764691b7",
   "metadata": {
    "execution": {
     "iopub.execute_input": "2024-11-14T06:49:32.733273Z",
     "iopub.status.busy": "2024-11-14T06:49:32.732849Z",
     "iopub.status.idle": "2024-11-14T06:49:32.739560Z",
     "shell.execute_reply": "2024-11-14T06:49:32.738437Z"
    },
    "id": "yvf-4kLybad5",
    "papermill": {
     "duration": 0.032318,
     "end_time": "2024-11-14T06:49:32.741964",
     "exception": false,
     "start_time": "2024-11-14T06:49:32.709646",
     "status": "completed"
    },
    "tags": []
   },
   "outputs": [],
   "source": [
    "X_train = np.reshape(X_train, (X_train.shape[0], 1, X_train.shape[1]))\n",
    "X_test = np.reshape(X_test, (X_test.shape[0], 1, X_test.shape[1]))\n",
    "y_train = y_train.reshape(-1,1)\n",
    "y_test = y_test.reshape(-1,1)"
   ]
  },
  {
   "cell_type": "code",
   "execution_count": 37,
   "id": "c25c63b5",
   "metadata": {
    "execution": {
     "iopub.execute_input": "2024-11-14T06:49:32.788709Z",
     "iopub.status.busy": "2024-11-14T06:49:32.787378Z",
     "iopub.status.idle": "2024-11-14T06:49:32.794213Z",
     "shell.execute_reply": "2024-11-14T06:49:32.792978Z"
    },
    "id": "D2ltv0Edb3wz",
    "papermill": {
     "duration": 0.032466,
     "end_time": "2024-11-14T06:49:32.796626",
     "exception": false,
     "start_time": "2024-11-14T06:49:32.764160",
     "status": "completed"
    },
    "tags": []
   },
   "outputs": [
    {
     "name": "stdout",
     "output_type": "stream",
     "text": [
      "(1913, 1, 20) (1913, 1) (463, 1, 20) (463, 1)\n"
     ]
    }
   ],
   "source": [
    "print(X_train.shape, y_train.shape, X_test.shape, y_test.shape)"
   ]
  },
  {
   "cell_type": "markdown",
   "id": "82be49a8",
   "metadata": {
    "id": "DtsN3xazcIAn",
    "papermill": {
     "duration": 0.0218,
     "end_time": "2024-11-14T06:49:32.841320",
     "exception": false,
     "start_time": "2024-11-14T06:49:32.819520",
     "status": "completed"
    },
    "tags": []
   },
   "source": [
    "## Modelling"
   ]
  },
  {
   "cell_type": "code",
   "execution_count": 38,
   "id": "6d71045f",
   "metadata": {
    "execution": {
     "iopub.execute_input": "2024-11-14T06:49:32.886893Z",
     "iopub.status.busy": "2024-11-14T06:49:32.886463Z",
     "iopub.status.idle": "2024-11-14T06:49:33.006885Z",
     "shell.execute_reply": "2024-11-14T06:49:33.005915Z"
    },
    "id": "QtbQx4G9cI_z",
    "papermill": {
     "duration": 0.146394,
     "end_time": "2024-11-14T06:49:33.009622",
     "exception": false,
     "start_time": "2024-11-14T06:49:32.863228",
     "status": "completed"
    },
    "tags": []
   },
   "outputs": [],
   "source": [
    "model = Sequential()\n",
    "\n",
    "model.add(LSTM(units = 50,\n",
    "                    activation = 'relu',\n",
    "                    input_shape=(X_train.shape[1], lookback)))\n",
    "\n",
    "model.add(Dropout(0.2))\n",
    "\n",
    "model.add(Dense(1))\n"
   ]
  },
  {
   "cell_type": "code",
   "execution_count": 39,
   "id": "41f57f08",
   "metadata": {
    "execution": {
     "iopub.execute_input": "2024-11-14T06:49:33.056015Z",
     "iopub.status.busy": "2024-11-14T06:49:33.055206Z",
     "iopub.status.idle": "2024-11-14T06:49:33.077069Z",
     "shell.execute_reply": "2024-11-14T06:49:33.075952Z"
    },
    "id": "RQFXIkDbciE6",
    "papermill": {
     "duration": 0.04797,
     "end_time": "2024-11-14T06:49:33.079662",
     "exception": false,
     "start_time": "2024-11-14T06:49:33.031692",
     "status": "completed"
    },
    "tags": []
   },
   "outputs": [
    {
     "data": {
      "text/html": [
       "<pre style=\"white-space:pre;overflow-x:auto;line-height:normal;font-family:Menlo,'DejaVu Sans Mono',consolas,'Courier New',monospace\"><span style=\"font-weight: bold\">Model: \"sequential\"</span>\n",
       "</pre>\n"
      ],
      "text/plain": [
       "\u001b[1mModel: \"sequential\"\u001b[0m\n"
      ]
     },
     "metadata": {},
     "output_type": "display_data"
    },
    {
     "data": {
      "text/html": [
       "<pre style=\"white-space:pre;overflow-x:auto;line-height:normal;font-family:Menlo,'DejaVu Sans Mono',consolas,'Courier New',monospace\">┏━━━━━━━━━━━━━━━━━━━━━━━━━━━━━━━━━┳━━━━━━━━━━━━━━━━━━━━━━━━┳━━━━━━━━━━━━━━━┓\n",
       "┃<span style=\"font-weight: bold\"> Layer (type)                    </span>┃<span style=\"font-weight: bold\"> Output Shape           </span>┃<span style=\"font-weight: bold\">       Param # </span>┃\n",
       "┡━━━━━━━━━━━━━━━━━━━━━━━━━━━━━━━━━╇━━━━━━━━━━━━━━━━━━━━━━━━╇━━━━━━━━━━━━━━━┩\n",
       "│ lstm (<span style=\"color: #0087ff; text-decoration-color: #0087ff\">LSTM</span>)                     │ (<span style=\"color: #00d7ff; text-decoration-color: #00d7ff\">None</span>, <span style=\"color: #00af00; text-decoration-color: #00af00\">50</span>)             │        <span style=\"color: #00af00; text-decoration-color: #00af00\">14,200</span> │\n",
       "├─────────────────────────────────┼────────────────────────┼───────────────┤\n",
       "│ dropout (<span style=\"color: #0087ff; text-decoration-color: #0087ff\">Dropout</span>)               │ (<span style=\"color: #00d7ff; text-decoration-color: #00d7ff\">None</span>, <span style=\"color: #00af00; text-decoration-color: #00af00\">50</span>)             │             <span style=\"color: #00af00; text-decoration-color: #00af00\">0</span> │\n",
       "├─────────────────────────────────┼────────────────────────┼───────────────┤\n",
       "│ dense (<span style=\"color: #0087ff; text-decoration-color: #0087ff\">Dense</span>)                   │ (<span style=\"color: #00d7ff; text-decoration-color: #00d7ff\">None</span>, <span style=\"color: #00af00; text-decoration-color: #00af00\">1</span>)              │            <span style=\"color: #00af00; text-decoration-color: #00af00\">51</span> │\n",
       "└─────────────────────────────────┴────────────────────────┴───────────────┘\n",
       "</pre>\n"
      ],
      "text/plain": [
       "┏━━━━━━━━━━━━━━━━━━━━━━━━━━━━━━━━━┳━━━━━━━━━━━━━━━━━━━━━━━━┳━━━━━━━━━━━━━━━┓\n",
       "┃\u001b[1m \u001b[0m\u001b[1mLayer (type)                   \u001b[0m\u001b[1m \u001b[0m┃\u001b[1m \u001b[0m\u001b[1mOutput Shape          \u001b[0m\u001b[1m \u001b[0m┃\u001b[1m \u001b[0m\u001b[1m      Param #\u001b[0m\u001b[1m \u001b[0m┃\n",
       "┡━━━━━━━━━━━━━━━━━━━━━━━━━━━━━━━━━╇━━━━━━━━━━━━━━━━━━━━━━━━╇━━━━━━━━━━━━━━━┩\n",
       "│ lstm (\u001b[38;5;33mLSTM\u001b[0m)                     │ (\u001b[38;5;45mNone\u001b[0m, \u001b[38;5;34m50\u001b[0m)             │        \u001b[38;5;34m14,200\u001b[0m │\n",
       "├─────────────────────────────────┼────────────────────────┼───────────────┤\n",
       "│ dropout (\u001b[38;5;33mDropout\u001b[0m)               │ (\u001b[38;5;45mNone\u001b[0m, \u001b[38;5;34m50\u001b[0m)             │             \u001b[38;5;34m0\u001b[0m │\n",
       "├─────────────────────────────────┼────────────────────────┼───────────────┤\n",
       "│ dense (\u001b[38;5;33mDense\u001b[0m)                   │ (\u001b[38;5;45mNone\u001b[0m, \u001b[38;5;34m1\u001b[0m)              │            \u001b[38;5;34m51\u001b[0m │\n",
       "└─────────────────────────────────┴────────────────────────┴───────────────┘\n"
      ]
     },
     "metadata": {},
     "output_type": "display_data"
    },
    {
     "data": {
      "text/html": [
       "<pre style=\"white-space:pre;overflow-x:auto;line-height:normal;font-family:Menlo,'DejaVu Sans Mono',consolas,'Courier New',monospace\"><span style=\"font-weight: bold\"> Total params: </span><span style=\"color: #00af00; text-decoration-color: #00af00\">14,251</span> (55.67 KB)\n",
       "</pre>\n"
      ],
      "text/plain": [
       "\u001b[1m Total params: \u001b[0m\u001b[38;5;34m14,251\u001b[0m (55.67 KB)\n"
      ]
     },
     "metadata": {},
     "output_type": "display_data"
    },
    {
     "data": {
      "text/html": [
       "<pre style=\"white-space:pre;overflow-x:auto;line-height:normal;font-family:Menlo,'DejaVu Sans Mono',consolas,'Courier New',monospace\"><span style=\"font-weight: bold\"> Trainable params: </span><span style=\"color: #00af00; text-decoration-color: #00af00\">14,251</span> (55.67 KB)\n",
       "</pre>\n"
      ],
      "text/plain": [
       "\u001b[1m Trainable params: \u001b[0m\u001b[38;5;34m14,251\u001b[0m (55.67 KB)\n"
      ]
     },
     "metadata": {},
     "output_type": "display_data"
    },
    {
     "data": {
      "text/html": [
       "<pre style=\"white-space:pre;overflow-x:auto;line-height:normal;font-family:Menlo,'DejaVu Sans Mono',consolas,'Courier New',monospace\"><span style=\"font-weight: bold\"> Non-trainable params: </span><span style=\"color: #00af00; text-decoration-color: #00af00\">0</span> (0.00 B)\n",
       "</pre>\n"
      ],
      "text/plain": [
       "\u001b[1m Non-trainable params: \u001b[0m\u001b[38;5;34m0\u001b[0m (0.00 B)\n"
      ]
     },
     "metadata": {},
     "output_type": "display_data"
    }
   ],
   "source": [
    "model.summary()"
   ]
  },
  {
   "cell_type": "code",
   "execution_count": 40,
   "id": "2be0e514",
   "metadata": {
    "execution": {
     "iopub.execute_input": "2024-11-14T06:49:33.128620Z",
     "iopub.status.busy": "2024-11-14T06:49:33.128186Z",
     "iopub.status.idle": "2024-11-14T06:49:33.142234Z",
     "shell.execute_reply": "2024-11-14T06:49:33.141290Z"
    },
    "id": "NE6_O7IwclkT",
    "papermill": {
     "duration": 0.041301,
     "end_time": "2024-11-14T06:49:33.144587",
     "exception": false,
     "start_time": "2024-11-14T06:49:33.103286",
     "status": "completed"
    },
    "tags": []
   },
   "outputs": [],
   "source": [
    "model.compile(loss='mean_squared_error', optimizer='adam')"
   ]
  },
  {
   "cell_type": "code",
   "execution_count": 41,
   "id": "125c9656",
   "metadata": {
    "execution": {
     "iopub.execute_input": "2024-11-14T06:49:33.192927Z",
     "iopub.status.busy": "2024-11-14T06:49:33.191979Z",
     "iopub.status.idle": "2024-11-14T06:49:33.198335Z",
     "shell.execute_reply": "2024-11-14T06:49:33.197198Z"
    },
    "id": "JLqjYZudc3Is",
    "papermill": {
     "duration": 0.032988,
     "end_time": "2024-11-14T06:49:33.200584",
     "exception": false,
     "start_time": "2024-11-14T06:49:33.167596",
     "status": "completed"
    },
    "tags": []
   },
   "outputs": [],
   "source": [
    "callbacks = (EarlyStopping(monitor='val_loss', patience=10, verbose=1, mode='min'),\n",
    "            ModelCheckpoint(filepath='mymodel.keras', monitor='val_loss', mode='min',\n",
    "            save_best_only = True, save_weights_only = False, verbose = 1))"
   ]
  },
  {
   "cell_type": "code",
   "execution_count": 42,
   "id": "1efba1b1",
   "metadata": {
    "execution": {
     "iopub.execute_input": "2024-11-14T06:49:33.248874Z",
     "iopub.status.busy": "2024-11-14T06:49:33.247986Z",
     "iopub.status.idle": "2024-11-14T06:49:40.620256Z",
     "shell.execute_reply": "2024-11-14T06:49:40.619337Z"
    },
    "id": "7Pv-Fb9FdSf7",
    "papermill": {
     "duration": 7.399036,
     "end_time": "2024-11-14T06:49:40.622575",
     "exception": false,
     "start_time": "2024-11-14T06:49:33.223539",
     "status": "completed"
    },
    "tags": []
   },
   "outputs": [
    {
     "name": "stdout",
     "output_type": "stream",
     "text": [
      "Epoch 1/100\n",
      "\u001b[1m81/96\u001b[0m \u001b[32m━━━━━━━━━━━━━━━━\u001b[0m\u001b[37m━━━━\u001b[0m \u001b[1m0s\u001b[0m 2ms/step - loss: 0.0029\n",
      "Epoch 1: val_loss improved from inf to 0.00399, saving model to mymodel.keras\n",
      "\u001b[1m96/96\u001b[0m \u001b[32m━━━━━━━━━━━━━━━━━━━━\u001b[0m\u001b[37m\u001b[0m \u001b[1m2s\u001b[0m 6ms/step - loss: 0.0035 - val_loss: 0.0040\n",
      "Epoch 2/100\n",
      "\u001b[1m82/96\u001b[0m \u001b[32m━━━━━━━━━━━━━━━━━\u001b[0m\u001b[37m━━━\u001b[0m \u001b[1m0s\u001b[0m 2ms/step - loss: 0.0037\n",
      "Epoch 2: val_loss improved from 0.00399 to 0.00325, saving model to mymodel.keras\n",
      "\u001b[1m96/96\u001b[0m \u001b[32m━━━━━━━━━━━━━━━━━━━━\u001b[0m\u001b[37m\u001b[0m \u001b[1m0s\u001b[0m 3ms/step - loss: 0.0039 - val_loss: 0.0032\n",
      "Epoch 3/100\n",
      "\u001b[1m81/96\u001b[0m \u001b[32m━━━━━━━━━━━━━━━━\u001b[0m\u001b[37m━━━━\u001b[0m \u001b[1m0s\u001b[0m 2ms/step - loss: 0.0020\n",
      "Epoch 3: val_loss did not improve from 0.00325\n",
      "\u001b[1m96/96\u001b[0m \u001b[32m━━━━━━━━━━━━━━━━━━━━\u001b[0m\u001b[37m\u001b[0m \u001b[1m0s\u001b[0m 2ms/step - loss: 0.0023 - val_loss: 0.0033\n",
      "Epoch 4/100\n",
      "\u001b[1m79/96\u001b[0m \u001b[32m━━━━━━━━━━━━━━━━\u001b[0m\u001b[37m━━━━\u001b[0m \u001b[1m0s\u001b[0m 2ms/step - loss: 0.0012    \n",
      "Epoch 4: val_loss improved from 0.00325 to 0.00269, saving model to mymodel.keras\n",
      "\u001b[1m96/96\u001b[0m \u001b[32m━━━━━━━━━━━━━━━━━━━━\u001b[0m\u001b[37m\u001b[0m \u001b[1m0s\u001b[0m 3ms/step - loss: 0.0016 - val_loss: 0.0027\n",
      "Epoch 5/100\n",
      "\u001b[1m89/96\u001b[0m \u001b[32m━━━━━━━━━━━━━━━━━━\u001b[0m\u001b[37m━━\u001b[0m \u001b[1m0s\u001b[0m 2ms/step - loss: 0.0015\n",
      "Epoch 5: val_loss did not improve from 0.00269\n",
      "\u001b[1m96/96\u001b[0m \u001b[32m━━━━━━━━━━━━━━━━━━━━\u001b[0m\u001b[37m\u001b[0m \u001b[1m0s\u001b[0m 3ms/step - loss: 0.0016 - val_loss: 0.0027\n",
      "Epoch 6/100\n",
      "\u001b[1m81/96\u001b[0m \u001b[32m━━━━━━━━━━━━━━━━\u001b[0m\u001b[37m━━━━\u001b[0m \u001b[1m0s\u001b[0m 2ms/step - loss: 9.8293e-04\n",
      "Epoch 6: val_loss improved from 0.00269 to 0.00249, saving model to mymodel.keras\n",
      "\u001b[1m96/96\u001b[0m \u001b[32m━━━━━━━━━━━━━━━━━━━━\u001b[0m\u001b[37m\u001b[0m \u001b[1m0s\u001b[0m 3ms/step - loss: 0.0014 - val_loss: 0.0025\n",
      "Epoch 7/100\n",
      "\u001b[1m79/96\u001b[0m \u001b[32m━━━━━━━━━━━━━━━━\u001b[0m\u001b[37m━━━━\u001b[0m \u001b[1m0s\u001b[0m 2ms/step - loss: 0.0010    \n",
      "Epoch 7: val_loss improved from 0.00249 to 0.00248, saving model to mymodel.keras\n",
      "\u001b[1m96/96\u001b[0m \u001b[32m━━━━━━━━━━━━━━━━━━━━\u001b[0m\u001b[37m\u001b[0m \u001b[1m0s\u001b[0m 3ms/step - loss: 0.0014 - val_loss: 0.0025\n",
      "Epoch 8/100\n",
      "\u001b[1m76/96\u001b[0m \u001b[32m━━━━━━━━━━━━━━━\u001b[0m\u001b[37m━━━━━\u001b[0m \u001b[1m0s\u001b[0m 2ms/step - loss: 9.8539e-04\n",
      "Epoch 8: val_loss improved from 0.00248 to 0.00239, saving model to mymodel.keras\n",
      "\u001b[1m96/96\u001b[0m \u001b[32m━━━━━━━━━━━━━━━━━━━━\u001b[0m\u001b[37m\u001b[0m \u001b[1m0s\u001b[0m 3ms/step - loss: 0.0014 - val_loss: 0.0024\n",
      "Epoch 9/100\n",
      "\u001b[1m82/96\u001b[0m \u001b[32m━━━━━━━━━━━━━━━━━\u001b[0m\u001b[37m━━━\u001b[0m \u001b[1m0s\u001b[0m 2ms/step - loss: 0.0011    \n",
      "Epoch 9: val_loss improved from 0.00239 to 0.00224, saving model to mymodel.keras\n",
      "\u001b[1m96/96\u001b[0m \u001b[32m━━━━━━━━━━━━━━━━━━━━\u001b[0m\u001b[37m\u001b[0m \u001b[1m0s\u001b[0m 3ms/step - loss: 0.0014 - val_loss: 0.0022\n",
      "Epoch 10/100\n",
      "\u001b[1m83/96\u001b[0m \u001b[32m━━━━━━━━━━━━━━━━━\u001b[0m\u001b[37m━━━\u001b[0m \u001b[1m0s\u001b[0m 2ms/step - loss: 0.0013    \n",
      "Epoch 10: val_loss did not improve from 0.00224\n",
      "\u001b[1m96/96\u001b[0m \u001b[32m━━━━━━━━━━━━━━━━━━━━\u001b[0m\u001b[37m\u001b[0m \u001b[1m0s\u001b[0m 2ms/step - loss: 0.0016 - val_loss: 0.0022\n",
      "Epoch 11/100\n",
      "\u001b[1m84/96\u001b[0m \u001b[32m━━━━━━━━━━━━━━━━━\u001b[0m\u001b[37m━━━\u001b[0m \u001b[1m0s\u001b[0m 2ms/step - loss: 0.0013    \n",
      "Epoch 11: val_loss did not improve from 0.00224\n",
      "\u001b[1m96/96\u001b[0m \u001b[32m━━━━━━━━━━━━━━━━━━━━\u001b[0m\u001b[37m\u001b[0m \u001b[1m0s\u001b[0m 2ms/step - loss: 0.0016 - val_loss: 0.0023\n",
      "Epoch 12/100\n",
      "\u001b[1m74/96\u001b[0m \u001b[32m━━━━━━━━━━━━━━━\u001b[0m\u001b[37m━━━━━\u001b[0m \u001b[1m0s\u001b[0m 2ms/step - loss: 0.0012    \n",
      "Epoch 12: val_loss did not improve from 0.00224\n",
      "\u001b[1m96/96\u001b[0m \u001b[32m━━━━━━━━━━━━━━━━━━━━\u001b[0m\u001b[37m\u001b[0m \u001b[1m0s\u001b[0m 3ms/step - loss: 0.0016 - val_loss: 0.0026\n",
      "Epoch 13/100\n",
      "\u001b[1m83/96\u001b[0m \u001b[32m━━━━━━━━━━━━━━━━━\u001b[0m\u001b[37m━━━\u001b[0m \u001b[1m0s\u001b[0m 2ms/step - loss: 0.0014\n",
      "Epoch 13: val_loss did not improve from 0.00224\n",
      "\u001b[1m96/96\u001b[0m \u001b[32m━━━━━━━━━━━━━━━━━━━━\u001b[0m\u001b[37m\u001b[0m \u001b[1m0s\u001b[0m 2ms/step - loss: 0.0016 - val_loss: 0.0026\n",
      "Epoch 14/100\n",
      "\u001b[1m84/96\u001b[0m \u001b[32m━━━━━━━━━━━━━━━━━\u001b[0m\u001b[37m━━━\u001b[0m \u001b[1m0s\u001b[0m 2ms/step - loss: 0.0013    \n",
      "Epoch 14: val_loss did not improve from 0.00224\n",
      "\u001b[1m96/96\u001b[0m \u001b[32m━━━━━━━━━━━━━━━━━━━━\u001b[0m\u001b[37m\u001b[0m \u001b[1m0s\u001b[0m 2ms/step - loss: 0.0015 - val_loss: 0.0026\n",
      "Epoch 15/100\n",
      "\u001b[1m82/96\u001b[0m \u001b[32m━━━━━━━━━━━━━━━━━\u001b[0m\u001b[37m━━━\u001b[0m \u001b[1m0s\u001b[0m 2ms/step - loss: 0.0013    \n",
      "Epoch 15: val_loss did not improve from 0.00224\n",
      "\u001b[1m96/96\u001b[0m \u001b[32m━━━━━━━━━━━━━━━━━━━━\u001b[0m\u001b[37m\u001b[0m \u001b[1m0s\u001b[0m 2ms/step - loss: 0.0016 - val_loss: 0.0030\n",
      "Epoch 16/100\n",
      "\u001b[1m79/96\u001b[0m \u001b[32m━━━━━━━━━━━━━━━━\u001b[0m\u001b[37m━━━━\u001b[0m \u001b[1m0s\u001b[0m 2ms/step - loss: 0.0014    \n",
      "Epoch 16: val_loss did not improve from 0.00224\n",
      "\u001b[1m96/96\u001b[0m \u001b[32m━━━━━━━━━━━━━━━━━━━━\u001b[0m\u001b[37m\u001b[0m \u001b[1m0s\u001b[0m 2ms/step - loss: 0.0018 - val_loss: 0.0051\n",
      "Epoch 17/100\n",
      "\u001b[1m80/96\u001b[0m \u001b[32m━━━━━━━━━━━━━━━━\u001b[0m\u001b[37m━━━━\u001b[0m \u001b[1m0s\u001b[0m 2ms/step - loss: 0.0018\n",
      "Epoch 17: val_loss did not improve from 0.00224\n",
      "\u001b[1m96/96\u001b[0m \u001b[32m━━━━━━━━━━━━━━━━━━━━\u001b[0m\u001b[37m\u001b[0m \u001b[1m0s\u001b[0m 2ms/step - loss: 0.0021 - val_loss: 0.0066\n",
      "Epoch 18/100\n",
      "\u001b[1m82/96\u001b[0m \u001b[32m━━━━━━━━━━━━━━━━━\u001b[0m\u001b[37m━━━\u001b[0m \u001b[1m0s\u001b[0m 2ms/step - loss: 0.0019\n",
      "Epoch 18: val_loss did not improve from 0.00224\n",
      "\u001b[1m96/96\u001b[0m \u001b[32m━━━━━━━━━━━━━━━━━━━━\u001b[0m\u001b[37m\u001b[0m \u001b[1m0s\u001b[0m 2ms/step - loss: 0.0023 - val_loss: 0.0099\n",
      "Epoch 19/100\n",
      "\u001b[1m84/96\u001b[0m \u001b[32m━━━━━━━━━━━━━━━━━\u001b[0m\u001b[37m━━━\u001b[0m \u001b[1m0s\u001b[0m 2ms/step - loss: 0.0022\n",
      "Epoch 19: val_loss did not improve from 0.00224\n",
      "\u001b[1m96/96\u001b[0m \u001b[32m━━━━━━━━━━━━━━━━━━━━\u001b[0m\u001b[37m\u001b[0m \u001b[1m0s\u001b[0m 2ms/step - loss: 0.0025 - val_loss: 0.0114\n",
      "Epoch 19: early stopping\n"
     ]
    }
   ],
   "source": [
    "history = model.fit(x=X_train,\n",
    "                    y=y_train,\n",
    "                    epochs=100,\n",
    "                    batch_size=20,\n",
    "                    validation_data=(X_test, y_test),\n",
    "                    callbacks=[callbacks],\n",
    "                    shuffle=False)"
   ]
  },
  {
   "cell_type": "code",
   "execution_count": 43,
   "id": "c36f4e74",
   "metadata": {
    "execution": {
     "iopub.execute_input": "2024-11-14T06:49:40.698932Z",
     "iopub.status.busy": "2024-11-14T06:49:40.698499Z",
     "iopub.status.idle": "2024-11-14T06:49:41.035184Z",
     "shell.execute_reply": "2024-11-14T06:49:41.034100Z"
    },
    "id": "VzxR8n1yeGpV",
    "papermill": {
     "duration": 0.37813,
     "end_time": "2024-11-14T06:49:41.038019",
     "exception": false,
     "start_time": "2024-11-14T06:49:40.659889",
     "status": "completed"
    },
    "tags": []
   },
   "outputs": [
    {
     "data": {
      "image/png": "[encoded data removed]",
      "text/plain": [
       "<Figure size 2000x500 with 1 Axes>"
      ]
     },
     "metadata": {},
     "output_type": "display_data"
    }
   ],
   "source": [
    "plt.figure(figsize=(20,5))\n",
    "plt.subplot(1,2,1)\n",
    "plt.plot(history.history['loss'], label='Training Loss')\n",
    "plt.plot(history.history['val_loss'], label='Validation Loss')\n",
    "plt.legend(loc='upper right')\n",
    "plt.xlabel('Epoch', fontsize = 16)\n",
    "plt.ylabel('Loss', fontsize = 16)\n",
    "plt.ylim([0,max(plt.ylim())])\n",
    "plt.title('Training and Validation Loss', fontsize = 16)\n",
    "plt.show()"
   ]
  },
  {
   "cell_type": "markdown",
   "id": "330d5ca6",
   "metadata": {
    "id": "XO0NGWQWerLU",
    "papermill": {
     "duration": 0.036373,
     "end_time": "2024-11-14T06:49:41.110921",
     "exception": false,
     "start_time": "2024-11-14T06:49:41.074548",
     "status": "completed"
    },
    "tags": []
   },
   "source": [
    "## Evaluation"
   ]
  },
  {
   "cell_type": "code",
   "execution_count": 44,
   "id": "5a1897ee",
   "metadata": {
    "execution": {
     "iopub.execute_input": "2024-11-14T06:49:41.186171Z",
     "iopub.status.busy": "2024-11-14T06:49:41.185712Z",
     "iopub.status.idle": "2024-11-14T06:49:41.879417Z",
     "shell.execute_reply": "2024-11-14T06:49:41.878033Z"
    },
    "id": "hyeoNUjxetH-",
    "papermill": {
     "duration": 0.734288,
     "end_time": "2024-11-14T06:49:41.882033",
     "exception": false,
     "start_time": "2024-11-14T06:49:41.147745",
     "status": "completed"
    },
    "tags": []
   },
   "outputs": [
    {
     "name": "stdout",
     "output_type": "stream",
     "text": [
      "\u001b[1m463/463\u001b[0m \u001b[32m━━━━━━━━━━━━━━━━━━━━\u001b[0m\u001b[37m\u001b[0m \u001b[1m1s\u001b[0m 1ms/step - loss: 0.0132\n",
      "\n",
      "Test Loss: 1.1%\n"
     ]
    }
   ],
   "source": [
    "loss = model.evaluate(X_test, y_test, batch_size=1)\n",
    "print(\"\\nTest Loss: %.1f%%\" % (100.0 * loss))"
   ]
  },
  {
   "cell_type": "code",
   "execution_count": 45,
   "id": "d87df05e",
   "metadata": {
    "execution": {
     "iopub.execute_input": "2024-11-14T06:49:41.959990Z",
     "iopub.status.busy": "2024-11-14T06:49:41.958813Z",
     "iopub.status.idle": "2024-11-14T06:49:42.455960Z",
     "shell.execute_reply": "2024-11-14T06:49:42.454666Z"
    },
    "id": "9e854j_NfFTV",
    "papermill": {
     "duration": 0.538865,
     "end_time": "2024-11-14T06:49:42.458643",
     "exception": false,
     "start_time": "2024-11-14T06:49:41.919778",
     "status": "completed"
    },
    "tags": []
   },
   "outputs": [
    {
     "name": "stdout",
     "output_type": "stream",
     "text": [
      "\u001b[1m60/60\u001b[0m \u001b[32m━━━━━━━━━━━━━━━━━━━━\u001b[0m\u001b[37m\u001b[0m \u001b[1m0s\u001b[0m 4ms/step\n"
     ]
    }
   ],
   "source": [
    "train_predict = model.predict(X_train)"
   ]
  },
  {
   "cell_type": "code",
   "execution_count": 46,
   "id": "868c9e6a",
   "metadata": {
    "execution": {
     "iopub.execute_input": "2024-11-14T06:49:42.536177Z",
     "iopub.status.busy": "2024-11-14T06:49:42.535721Z",
     "iopub.status.idle": "2024-11-14T06:49:42.635283Z",
     "shell.execute_reply": "2024-11-14T06:49:42.634244Z"
    },
    "id": "GZgJuMd-fqZW",
    "papermill": {
     "duration": 0.141306,
     "end_time": "2024-11-14T06:49:42.637901",
     "exception": false,
     "start_time": "2024-11-14T06:49:42.496595",
     "status": "completed"
    },
    "tags": []
   },
   "outputs": [
    {
     "name": "stdout",
     "output_type": "stream",
     "text": [
      "\u001b[1m15/15\u001b[0m \u001b[32m━━━━━━━━━━━━━━━━━━━━\u001b[0m\u001b[37m\u001b[0m \u001b[1m0s\u001b[0m 1ms/step \n"
     ]
    }
   ],
   "source": [
    "test_predict = model.predict(X_test)"
   ]
  },
  {
   "cell_type": "code",
   "execution_count": 47,
   "id": "86baa258",
   "metadata": {
    "execution": {
     "iopub.execute_input": "2024-11-14T06:49:42.718107Z",
     "iopub.status.busy": "2024-11-14T06:49:42.717690Z",
     "iopub.status.idle": "2024-11-14T06:49:42.723309Z",
     "shell.execute_reply": "2024-11-14T06:49:42.722233Z"
    },
    "id": "FcH_8U3tfsGm",
    "papermill": {
     "duration": 0.048057,
     "end_time": "2024-11-14T06:49:42.725728",
     "exception": false,
     "start_time": "2024-11-14T06:49:42.677671",
     "status": "completed"
    },
    "tags": []
   },
   "outputs": [],
   "source": [
    "train_predict = scaler_train.inverse_transform(train_predict)\n",
    "test_predict = scaler_test.inverse_transform(test_predict)"
   ]
  },
  {
   "cell_type": "code",
   "execution_count": 48,
   "id": "23486ed7",
   "metadata": {
    "execution": {
     "iopub.execute_input": "2024-11-14T06:49:42.803755Z",
     "iopub.status.busy": "2024-11-14T06:49:42.803305Z",
     "iopub.status.idle": "2024-11-14T06:49:42.809315Z",
     "shell.execute_reply": "2024-11-14T06:49:42.808259Z"
    },
    "id": "DsGDu-NKf912",
    "papermill": {
     "duration": 0.047923,
     "end_time": "2024-11-14T06:49:42.811725",
     "exception": false,
     "start_time": "2024-11-14T06:49:42.763802",
     "status": "completed"
    },
    "tags": []
   },
   "outputs": [],
   "source": [
    "y_train = scaler_train.inverse_transform(y_train)\n",
    "y_test = scaler_test.inverse_transform(y_test)"
   ]
  },
  {
   "cell_type": "code",
   "execution_count": 49,
   "id": "8a3dfc37",
   "metadata": {
    "execution": {
     "iopub.execute_input": "2024-11-14T06:49:42.889435Z",
     "iopub.status.busy": "2024-11-14T06:49:42.888994Z",
     "iopub.status.idle": "2024-11-14T06:49:42.895573Z",
     "shell.execute_reply": "2024-11-14T06:49:42.894478Z"
    },
    "id": "ZLXqwAU7gGW2",
    "papermill": {
     "duration": 0.048402,
     "end_time": "2024-11-14T06:49:42.897903",
     "exception": false,
     "start_time": "2024-11-14T06:49:42.849501",
     "status": "completed"
    },
    "tags": []
   },
   "outputs": [],
   "source": [
    "train_rmse = np.sqrt(mean_squared_error(y_train, train_predict))"
   ]
  },
  {
   "cell_type": "code",
   "execution_count": 50,
   "id": "2b7ede4c",
   "metadata": {
    "execution": {
     "iopub.execute_input": "2024-11-14T06:49:42.977581Z",
     "iopub.status.busy": "2024-11-14T06:49:42.976710Z",
     "iopub.status.idle": "2024-11-14T06:49:42.982318Z",
     "shell.execute_reply": "2024-11-14T06:49:42.981248Z"
    },
    "id": "76WbnJaIgJ4g",
    "papermill": {
     "duration": 0.048127,
     "end_time": "2024-11-14T06:49:42.984849",
     "exception": false,
     "start_time": "2024-11-14T06:49:42.936722",
     "status": "completed"
    },
    "tags": []
   },
   "outputs": [],
   "source": [
    "test_rmse = np.sqrt(mean_squared_error(y_test, test_predict))"
   ]
  },
  {
   "cell_type": "code",
   "execution_count": 51,
   "id": "301410c7",
   "metadata": {
    "execution": {
     "iopub.execute_input": "2024-11-14T06:49:43.063309Z",
     "iopub.status.busy": "2024-11-14T06:49:43.062896Z",
     "iopub.status.idle": "2024-11-14T06:49:43.068806Z",
     "shell.execute_reply": "2024-11-14T06:49:43.067687Z"
    },
    "id": "WcUBQBz7gMV2",
    "papermill": {
     "duration": 0.048195,
     "end_time": "2024-11-14T06:49:43.071531",
     "exception": false,
     "start_time": "2024-11-14T06:49:43.023336",
     "status": "completed"
    },
    "tags": []
   },
   "outputs": [
    {
     "name": "stdout",
     "output_type": "stream",
     "text": [
      "Train RMSE: 38.37616729736328\n",
      "Test RMSE: 64.13812255859375\n"
     ]
    }
   ],
   "source": [
    "print(f\"Train RMSE: {train_rmse}\")\n",
    "print(f\"Test RMSE: {test_rmse}\")"
   ]
  },
  {
   "cell_type": "code",
   "execution_count": 52,
   "id": "d594eab7",
   "metadata": {
    "execution": {
     "iopub.execute_input": "2024-11-14T06:49:43.149928Z",
     "iopub.status.busy": "2024-11-14T06:49:43.149501Z",
     "iopub.status.idle": "2024-11-14T06:49:43.183434Z",
     "shell.execute_reply": "2024-11-14T06:49:43.182301Z"
    },
    "id": "t_llof9mgYz_",
    "papermill": {
     "duration": 0.076026,
     "end_time": "2024-11-14T06:49:43.186007",
     "exception": false,
     "start_time": "2024-11-14T06:49:43.109981",
     "status": "completed"
    },
    "tags": []
   },
   "outputs": [
    {
     "data": {
      "text/html": [
       "<div>\n",
       "<style scoped>\n",
       "    .dataframe tbody tr th:only-of-type {\n",
       "        vertical-align: middle;\n",
       "    }\n",
       "\n",
       "    .dataframe tbody tr th {\n",
       "        vertical-align: top;\n",
       "    }\n",
       "\n",
       "    .dataframe thead th {\n",
       "        text-align: right;\n",
       "    }\n",
       "</style>\n",
       "<table border=\"1\" class=\"dataframe\">\n",
       "  <thead>\n",
       "    <tr style=\"text-align: right;\">\n",
       "      <th></th>\n",
       "      <th>count</th>\n",
       "      <th>mean</th>\n",
       "      <th>min</th>\n",
       "      <th>25%</th>\n",
       "      <th>50%</th>\n",
       "      <th>75%</th>\n",
       "      <th>max</th>\n",
       "      <th>std</th>\n",
       "    </tr>\n",
       "  </thead>\n",
       "  <tbody>\n",
       "    <tr>\n",
       "      <th>Date</th>\n",
       "      <td>2416</td>\n",
       "      <td>2015-04-15 11:09:56.026490112</td>\n",
       "      <td>2010-06-29 00:00:00</td>\n",
       "      <td>2012-11-19 18:00:00</td>\n",
       "      <td>2015-04-16 12:00:00</td>\n",
       "      <td>2017-09-07 06:00:00</td>\n",
       "      <td>2020-02-03 00:00:00</td>\n",
       "      <td>NaN</td>\n",
       "    </tr>\n",
       "    <tr>\n",
       "      <th>Open</th>\n",
       "      <td>2416.0</td>\n",
       "      <td>186.271147</td>\n",
       "      <td>16.139999</td>\n",
       "      <td>34.342498</td>\n",
       "      <td>213.035004</td>\n",
       "      <td>266.450012</td>\n",
       "      <td>673.690002</td>\n",
       "      <td>118.740163</td>\n",
       "    </tr>\n",
       "    <tr>\n",
       "      <th>High</th>\n",
       "      <td>2416.0</td>\n",
       "      <td>189.578224</td>\n",
       "      <td>16.629999</td>\n",
       "      <td>34.897501</td>\n",
       "      <td>216.745002</td>\n",
       "      <td>270.927513</td>\n",
       "      <td>786.140015</td>\n",
       "      <td>120.892329</td>\n",
       "    </tr>\n",
       "    <tr>\n",
       "      <th>Low</th>\n",
       "      <td>2416.0</td>\n",
       "      <td>182.916639</td>\n",
       "      <td>14.98</td>\n",
       "      <td>33.587501</td>\n",
       "      <td>208.870002</td>\n",
       "      <td>262.102501</td>\n",
       "      <td>673.52002</td>\n",
       "      <td>116.857591</td>\n",
       "    </tr>\n",
       "    <tr>\n",
       "      <th>Close</th>\n",
       "      <td>2416.0</td>\n",
       "      <td>186.403651</td>\n",
       "      <td>15.8</td>\n",
       "      <td>34.400002</td>\n",
       "      <td>212.960007</td>\n",
       "      <td>266.774994</td>\n",
       "      <td>780.0</td>\n",
       "      <td>119.13602</td>\n",
       "    </tr>\n",
       "    <tr>\n",
       "      <th>Adj Close</th>\n",
       "      <td>2416.0</td>\n",
       "      <td>186.403651</td>\n",
       "      <td>15.8</td>\n",
       "      <td>34.400002</td>\n",
       "      <td>212.960007</td>\n",
       "      <td>266.774994</td>\n",
       "      <td>780.0</td>\n",
       "      <td>119.13602</td>\n",
       "    </tr>\n",
       "    <tr>\n",
       "      <th>Volume</th>\n",
       "      <td>2416.0</td>\n",
       "      <td>5572721.688742</td>\n",
       "      <td>118500.0</td>\n",
       "      <td>1899275.0</td>\n",
       "      <td>4578400.0</td>\n",
       "      <td>7361150.0</td>\n",
       "      <td>47065000.0</td>\n",
       "      <td>4987809.151888</td>\n",
       "    </tr>\n",
       "  </tbody>\n",
       "</table>\n",
       "</div>"
      ],
      "text/plain": [
       "            count                           mean                  min  \\\n",
       "Date         2416  2015-04-15 11:09:56.026490112  2010-06-29 00:00:00   \n",
       "Open       2416.0                     186.271147            16.139999   \n",
       "High       2416.0                     189.578224            16.629999   \n",
       "Low        2416.0                     182.916639                14.98   \n",
       "Close      2416.0                     186.403651                 15.8   \n",
       "Adj Close  2416.0                     186.403651                 15.8   \n",
       "Volume     2416.0                 5572721.688742             118500.0   \n",
       "\n",
       "                           25%                  50%                  75%  \\\n",
       "Date       2012-11-19 18:00:00  2015-04-16 12:00:00  2017-09-07 06:00:00   \n",
       "Open                 34.342498           213.035004           266.450012   \n",
       "High                 34.897501           216.745002           270.927513   \n",
       "Low                  33.587501           208.870002           262.102501   \n",
       "Close                34.400002           212.960007           266.774994   \n",
       "Adj Close            34.400002           212.960007           266.774994   \n",
       "Volume               1899275.0            4578400.0            7361150.0   \n",
       "\n",
       "                           max             std  \n",
       "Date       2020-02-03 00:00:00             NaN  \n",
       "Open                673.690002      118.740163  \n",
       "High                786.140015      120.892329  \n",
       "Low                  673.52002      116.857591  \n",
       "Close                    780.0       119.13602  \n",
       "Adj Close                780.0       119.13602  \n",
       "Volume              47065000.0  4987809.151888  "
      ]
     },
     "execution_count": 52,
     "metadata": {},
     "output_type": "execute_result"
    }
   ],
   "source": [
    "df.describe().T"
   ]
  },
  {
   "cell_type": "code",
   "execution_count": 53,
   "id": "1a494175",
   "metadata": {
    "execution": {
     "iopub.execute_input": "2024-11-14T06:49:43.266115Z",
     "iopub.status.busy": "2024-11-14T06:49:43.265698Z",
     "iopub.status.idle": "2024-11-14T06:49:43.278466Z",
     "shell.execute_reply": "2024-11-14T06:49:43.277443Z"
    },
    "id": "-PSGVpMzgz1O",
    "papermill": {
     "duration": 0.055906,
     "end_time": "2024-11-14T06:49:43.280820",
     "exception": false,
     "start_time": "2024-11-14T06:49:43.224914",
     "status": "completed"
    },
    "tags": []
   },
   "outputs": [
    {
     "data": {
      "text/html": [
       "<div>\n",
       "<style scoped>\n",
       "    .dataframe tbody tr th:only-of-type {\n",
       "        vertical-align: middle;\n",
       "    }\n",
       "\n",
       "    .dataframe tbody tr th {\n",
       "        vertical-align: top;\n",
       "    }\n",
       "\n",
       "    .dataframe thead th {\n",
       "        text-align: right;\n",
       "    }\n",
       "</style>\n",
       "<table border=\"1\" class=\"dataframe\">\n",
       "  <thead>\n",
       "    <tr style=\"text-align: right;\">\n",
       "      <th></th>\n",
       "      <th>Close</th>\n",
       "      <th>Predicted</th>\n",
       "    </tr>\n",
       "    <tr>\n",
       "      <th>Date</th>\n",
       "      <th></th>\n",
       "      <th></th>\n",
       "    </tr>\n",
       "  </thead>\n",
       "  <tbody>\n",
       "    <tr>\n",
       "      <th>2010-07-28</th>\n",
       "      <td>20.719999</td>\n",
       "      <td>39.943314</td>\n",
       "    </tr>\n",
       "    <tr>\n",
       "      <th>2010-07-29</th>\n",
       "      <td>20.350000</td>\n",
       "      <td>39.943314</td>\n",
       "    </tr>\n",
       "    <tr>\n",
       "      <th>2010-07-30</th>\n",
       "      <td>19.940001</td>\n",
       "      <td>39.943314</td>\n",
       "    </tr>\n",
       "    <tr>\n",
       "      <th>2010-08-02</th>\n",
       "      <td>20.920000</td>\n",
       "      <td>39.943314</td>\n",
       "    </tr>\n",
       "    <tr>\n",
       "      <th>2010-08-03</th>\n",
       "      <td>21.950001</td>\n",
       "      <td>39.943314</td>\n",
       "    </tr>\n",
       "  </tbody>\n",
       "</table>\n",
       "</div>"
      ],
      "text/plain": [
       "                Close  Predicted\n",
       "Date                            \n",
       "2010-07-28  20.719999  39.943314\n",
       "2010-07-29  20.350000  39.943314\n",
       "2010-07-30  19.940001  39.943314\n",
       "2010-08-02  20.920000  39.943314\n",
       "2010-08-03  21.950001  39.943314"
      ]
     },
     "execution_count": 53,
     "metadata": {},
     "output_type": "execute_result"
    }
   ],
   "source": [
    "train_prediction_df = result_df[lookback:position]\n",
    "train_prediction_df[\"Predicted\"] = train_predict\n",
    "train_prediction_df.head()"
   ]
  },
  {
   "cell_type": "code",
   "execution_count": 54,
   "id": "4be51dc6",
   "metadata": {
    "execution": {
     "iopub.execute_input": "2024-11-14T06:49:43.360734Z",
     "iopub.status.busy": "2024-11-14T06:49:43.360308Z",
     "iopub.status.idle": "2024-11-14T06:49:43.373006Z",
     "shell.execute_reply": "2024-11-14T06:49:43.371905Z"
    },
    "id": "o7tRAXwOhMSA",
    "papermill": {
     "duration": 0.055433,
     "end_time": "2024-11-14T06:49:43.375358",
     "exception": false,
     "start_time": "2024-11-14T06:49:43.319925",
     "status": "completed"
    },
    "tags": []
   },
   "outputs": [
    {
     "data": {
      "text/html": [
       "<div>\n",
       "<style scoped>\n",
       "    .dataframe tbody tr th:only-of-type {\n",
       "        vertical-align: middle;\n",
       "    }\n",
       "\n",
       "    .dataframe tbody tr th {\n",
       "        vertical-align: top;\n",
       "    }\n",
       "\n",
       "    .dataframe thead th {\n",
       "        text-align: right;\n",
       "    }\n",
       "</style>\n",
       "<table border=\"1\" class=\"dataframe\">\n",
       "  <thead>\n",
       "    <tr style=\"text-align: right;\">\n",
       "      <th></th>\n",
       "      <th>Close</th>\n",
       "      <th>Predicted</th>\n",
       "    </tr>\n",
       "    <tr>\n",
       "      <th>Date</th>\n",
       "      <th></th>\n",
       "      <th></th>\n",
       "    </tr>\n",
       "  </thead>\n",
       "  <tbody>\n",
       "    <tr>\n",
       "      <th>2018-04-03</th>\n",
       "      <td>267.529999</td>\n",
       "      <td>360.795502</td>\n",
       "    </tr>\n",
       "    <tr>\n",
       "      <th>2018-04-04</th>\n",
       "      <td>286.940002</td>\n",
       "      <td>356.662262</td>\n",
       "    </tr>\n",
       "    <tr>\n",
       "      <th>2018-04-05</th>\n",
       "      <td>305.720001</td>\n",
       "      <td>356.762390</td>\n",
       "    </tr>\n",
       "    <tr>\n",
       "      <th>2018-04-06</th>\n",
       "      <td>299.299988</td>\n",
       "      <td>355.212097</td>\n",
       "    </tr>\n",
       "    <tr>\n",
       "      <th>2018-04-09</th>\n",
       "      <td>289.660004</td>\n",
       "      <td>355.659912</td>\n",
       "    </tr>\n",
       "  </tbody>\n",
       "</table>\n",
       "</div>"
      ],
      "text/plain": [
       "                 Close   Predicted\n",
       "Date                              \n",
       "2018-04-03  267.529999  360.795502\n",
       "2018-04-04  286.940002  356.662262\n",
       "2018-04-05  305.720001  356.762390\n",
       "2018-04-06  299.299988  355.212097\n",
       "2018-04-09  289.660004  355.659912"
      ]
     },
     "execution_count": 54,
     "metadata": {},
     "output_type": "execute_result"
    }
   ],
   "source": [
    "test_prediction_df = result_df[position+lookback:]\n",
    "test_prediction_df[\"Predicted\"] = test_predict\n",
    "test_prediction_df.head()"
   ]
  },
  {
   "cell_type": "code",
   "execution_count": 55,
   "id": "12886717",
   "metadata": {
    "execution": {
     "iopub.execute_input": "2024-11-14T06:49:43.454627Z",
     "iopub.status.busy": "2024-11-14T06:49:43.454198Z",
     "iopub.status.idle": "2024-11-14T06:49:43.970685Z",
     "shell.execute_reply": "2024-11-14T06:49:43.969488Z"
    },
    "id": "PJ_-znSchYO_",
    "papermill": {
     "duration": 0.559852,
     "end_time": "2024-11-14T06:49:43.973941",
     "exception": false,
     "start_time": "2024-11-14T06:49:43.414089",
     "status": "completed"
    },
    "tags": []
   },
   "outputs": [
    {
     "data": {
      "image/png": "[encoded data removed]",
      "text/plain": [
       "<Figure size 1400x500 with 1 Axes>"
      ]
     },
     "metadata": {},
     "output_type": "display_data"
    }
   ],
   "source": [
    "plt.figure(figsize=(14,5))\n",
    "plt.plot(result_df, label = \"Real Number of Passengers\")\n",
    "plt.plot(train_prediction_df[\"Predicted\"], color = 'blue', label = \"Train Predicted Number of Passengers\")\n",
    "plt.plot(test_prediction_df[\"Predicted\"],color = 'red', label = \"Test Predicted Number of Passengers\")\n",
    "plt.title(\"Number of Passengers Prediction\")\n",
    "plt.xlabel(\"Time\")\n",
    "plt.ylabel(\"Number of Passengers\")\n",
    "plt.legend()\n",
    "plt.show()"
   ]
  }
 ],
 "metadata": {
  "colab": {
   "provenance": []
  },
  "kaggle": {
   "accelerator": "none",
   "dataSources": [
    {
     "datasetId": 500872,
     "sourceId": 927894,
     "sourceType": "datasetVersion"
    }
   ],
   "dockerImageVersionId": 30761,
   "isGpuEnabled": false,
   "isInternetEnabled": true,
   "language": "python",
   "sourceType": "notebook"
  },
  "kernelspec": {
   "display_name": "Python 3",
   "language": "python",
   "name": "python3"
  },
  "language_info": {
   "codemirror_mode": {
    "name": "ipython",
    "version": 3
   },
   "file_extension": ".py",
   "mimetype": "text/x-python",
   "name": "python",
   "nbconvert_exporter": "python",
   "pygments_lexer": "ipython3",
   "version": "3.10.14"
  },
  "papermill": {
   "default_parameters": {},
   "duration": 36.11047,
   "end_time": "2024-11-14T06:49:45.639528",
   "environment_variables": {},
   "exception": null,
   "input_path": "__notebook__.ipynb",
   "output_path": "__notebook__.ipynb",
   "parameters": {},
   "start_time": "2024-11-14T06:49:09.529058",
   "version": "2.6.0"
  }
 },
 "nbformat": 4,
 "nbformat_minor": 5
}
