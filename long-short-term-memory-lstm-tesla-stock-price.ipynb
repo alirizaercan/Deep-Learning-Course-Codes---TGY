{
 "cells": [
  {
   "cell_type": "markdown",
   "id": "209bfe45",
   "metadata": {
    "id": "4unSJJjsT8BM",
    "papermill": {
     "duration": 0.014789,
     "end_time": "2024-10-09T07:53:15.947339",
     "exception": false,
     "start_time": "2024-10-09T07:53:15.932550",
     "status": "completed"
    },
    "tags": []
   },
   "source": [
    "# Tesla - Stock Price Prediction\n",
    "\n",
    "---\n",
    "\n"
   ]
  },
  {
   "cell_type": "markdown",
   "id": "a576e980",
   "metadata": {
    "id": "wkRLJL2XUAfT",
    "papermill": {
     "duration": 0.012298,
     "end_time": "2024-10-09T07:53:15.972675",
     "exception": false,
     "start_time": "2024-10-09T07:53:15.960377",
     "status": "completed"
    },
    "tags": []
   },
   "source": [
    "## Business Problem\n",
    "\n",
    "In this notebook, our purpose is to predict of tesla - stock price."
   ]
  },
  {
   "cell_type": "markdown",
   "id": "e7caca99",
   "metadata": {
    "id": "0uxjphZsUwjz",
    "papermill": {
     "duration": 0.012482,
     "end_time": "2024-10-09T07:53:15.998268",
     "exception": false,
     "start_time": "2024-10-09T07:53:15.985786",
     "status": "completed"
    },
    "tags": []
   },
   "source": [
    "## Data Understanding"
   ]
  },
  {
   "cell_type": "code",
   "execution_count": 1,
   "id": "8d8752e8",
   "metadata": {
    "execution": {
     "iopub.execute_input": "2024-10-09T07:53:16.025895Z",
     "iopub.status.busy": "2024-10-09T07:53:16.025319Z",
     "iopub.status.idle": "2024-10-09T07:53:31.638269Z",
     "shell.execute_reply": "2024-10-09T07:53:31.637219Z"
    },
    "id": "40IR65rQUyWC",
    "outputId": "4562368d-970e-4fd6-b03e-be036efe4dcd",
    "papermill": {
     "duration": 15.630026,
     "end_time": "2024-10-09T07:53:31.641048",
     "exception": false,
     "start_time": "2024-10-09T07:53:16.011022",
     "status": "completed"
    },
    "tags": []
   },
   "outputs": [],
   "source": [
    "import numpy as np\n",
    "import pandas as pd\n",
    "import datetime as dt\n",
    "import tensorflow as tf\n",
    "import matplotlib.pyplot as plt\n",
    "\n",
    "from sklearn.preprocessing import MinMaxScaler\n",
    "from sklearn.metrics import mean_squared_error\n",
    "\n",
    "from tensorflow.keras.models import Sequential\n",
    "from tensorflow.keras.layers import Dense, LSTM, Dropout\n",
    "from tensorflow.keras.callbacks import ModelCheckpoint, EarlyStopping\n",
    "\n",
    "import warnings\n",
    "warnings.filterwarnings('ignore')\n",
    "\n",
    "import os\n",
    "os.environ['TF_CPP_MIN_LOG_LEVEL'] = '3'\n",
    "tf.compat.v1.logging.set_verbosity(tf.compat.v1.logging.ERROR)"
   ]
  },
  {
   "cell_type": "code",
   "execution_count": 2,
   "id": "a4addf68",
   "metadata": {
    "execution": {
     "iopub.execute_input": "2024-10-09T07:53:31.674052Z",
     "iopub.status.busy": "2024-10-09T07:53:31.672922Z",
     "iopub.status.idle": "2024-10-09T07:53:31.730487Z",
     "shell.execute_reply": "2024-10-09T07:53:31.728968Z"
    },
    "id": "-be5_efvVpTV",
    "papermill": {
     "duration": 0.079259,
     "end_time": "2024-10-09T07:53:31.734069",
     "exception": false,
     "start_time": "2024-10-09T07:53:31.654810",
     "status": "completed"
    },
    "tags": []
   },
   "outputs": [
    {
     "data": {
      "text/html": [
       "<div>\n",
       "<style scoped>\n",
       "    .dataframe tbody tr th:only-of-type {\n",
       "        vertical-align: middle;\n",
       "    }\n",
       "\n",
       "    .dataframe tbody tr th {\n",
       "        vertical-align: top;\n",
       "    }\n",
       "\n",
       "    .dataframe thead th {\n",
       "        text-align: right;\n",
       "    }\n",
       "</style>\n",
       "<table border=\"1\" class=\"dataframe\">\n",
       "  <thead>\n",
       "    <tr style=\"text-align: right;\">\n",
       "      <th></th>\n",
       "      <th>Date</th>\n",
       "      <th>Open</th>\n",
       "      <th>High</th>\n",
       "      <th>Low</th>\n",
       "      <th>Close</th>\n",
       "      <th>Adj Close</th>\n",
       "      <th>Volume</th>\n",
       "    </tr>\n",
       "  </thead>\n",
       "  <tbody>\n",
       "    <tr>\n",
       "      <th>0</th>\n",
       "      <td>2010-06-29</td>\n",
       "      <td>19.000000</td>\n",
       "      <td>25.000000</td>\n",
       "      <td>17.540001</td>\n",
       "      <td>23.889999</td>\n",
       "      <td>23.889999</td>\n",
       "      <td>18766300</td>\n",
       "    </tr>\n",
       "    <tr>\n",
       "      <th>1</th>\n",
       "      <td>2010-06-30</td>\n",
       "      <td>25.790001</td>\n",
       "      <td>30.420000</td>\n",
       "      <td>23.299999</td>\n",
       "      <td>23.830000</td>\n",
       "      <td>23.830000</td>\n",
       "      <td>17187100</td>\n",
       "    </tr>\n",
       "    <tr>\n",
       "      <th>2</th>\n",
       "      <td>2010-07-01</td>\n",
       "      <td>25.000000</td>\n",
       "      <td>25.920000</td>\n",
       "      <td>20.270000</td>\n",
       "      <td>21.959999</td>\n",
       "      <td>21.959999</td>\n",
       "      <td>8218800</td>\n",
       "    </tr>\n",
       "    <tr>\n",
       "      <th>3</th>\n",
       "      <td>2010-07-02</td>\n",
       "      <td>23.000000</td>\n",
       "      <td>23.100000</td>\n",
       "      <td>18.709999</td>\n",
       "      <td>19.200001</td>\n",
       "      <td>19.200001</td>\n",
       "      <td>5139800</td>\n",
       "    </tr>\n",
       "    <tr>\n",
       "      <th>4</th>\n",
       "      <td>2010-07-06</td>\n",
       "      <td>20.000000</td>\n",
       "      <td>20.000000</td>\n",
       "      <td>15.830000</td>\n",
       "      <td>16.110001</td>\n",
       "      <td>16.110001</td>\n",
       "      <td>6866900</td>\n",
       "    </tr>\n",
       "    <tr>\n",
       "      <th>...</th>\n",
       "      <td>...</td>\n",
       "      <td>...</td>\n",
       "      <td>...</td>\n",
       "      <td>...</td>\n",
       "      <td>...</td>\n",
       "      <td>...</td>\n",
       "      <td>...</td>\n",
       "    </tr>\n",
       "    <tr>\n",
       "      <th>2411</th>\n",
       "      <td>2020-01-28</td>\n",
       "      <td>568.489990</td>\n",
       "      <td>576.809998</td>\n",
       "      <td>558.080017</td>\n",
       "      <td>566.900024</td>\n",
       "      <td>566.900024</td>\n",
       "      <td>11788500</td>\n",
       "    </tr>\n",
       "    <tr>\n",
       "      <th>2412</th>\n",
       "      <td>2020-01-29</td>\n",
       "      <td>575.690002</td>\n",
       "      <td>589.799988</td>\n",
       "      <td>567.429993</td>\n",
       "      <td>580.989990</td>\n",
       "      <td>580.989990</td>\n",
       "      <td>17801500</td>\n",
       "    </tr>\n",
       "    <tr>\n",
       "      <th>2413</th>\n",
       "      <td>2020-01-30</td>\n",
       "      <td>632.419983</td>\n",
       "      <td>650.880005</td>\n",
       "      <td>618.000000</td>\n",
       "      <td>640.809998</td>\n",
       "      <td>640.809998</td>\n",
       "      <td>29005700</td>\n",
       "    </tr>\n",
       "    <tr>\n",
       "      <th>2414</th>\n",
       "      <td>2020-01-31</td>\n",
       "      <td>640.000000</td>\n",
       "      <td>653.000000</td>\n",
       "      <td>632.520020</td>\n",
       "      <td>650.570007</td>\n",
       "      <td>650.570007</td>\n",
       "      <td>15719300</td>\n",
       "    </tr>\n",
       "    <tr>\n",
       "      <th>2415</th>\n",
       "      <td>2020-02-03</td>\n",
       "      <td>673.690002</td>\n",
       "      <td>786.140015</td>\n",
       "      <td>673.520020</td>\n",
       "      <td>780.000000</td>\n",
       "      <td>780.000000</td>\n",
       "      <td>47065000</td>\n",
       "    </tr>\n",
       "  </tbody>\n",
       "</table>\n",
       "<p>2416 rows × 7 columns</p>\n",
       "</div>"
      ],
      "text/plain": [
       "            Date        Open        High         Low       Close   Adj Close  \\\n",
       "0     2010-06-29   19.000000   25.000000   17.540001   23.889999   23.889999   \n",
       "1     2010-06-30   25.790001   30.420000   23.299999   23.830000   23.830000   \n",
       "2     2010-07-01   25.000000   25.920000   20.270000   21.959999   21.959999   \n",
       "3     2010-07-02   23.000000   23.100000   18.709999   19.200001   19.200001   \n",
       "4     2010-07-06   20.000000   20.000000   15.830000   16.110001   16.110001   \n",
       "...          ...         ...         ...         ...         ...         ...   \n",
       "2411  2020-01-28  568.489990  576.809998  558.080017  566.900024  566.900024   \n",
       "2412  2020-01-29  575.690002  589.799988  567.429993  580.989990  580.989990   \n",
       "2413  2020-01-30  632.419983  650.880005  618.000000  640.809998  640.809998   \n",
       "2414  2020-01-31  640.000000  653.000000  632.520020  650.570007  650.570007   \n",
       "2415  2020-02-03  673.690002  786.140015  673.520020  780.000000  780.000000   \n",
       "\n",
       "        Volume  \n",
       "0     18766300  \n",
       "1     17187100  \n",
       "2      8218800  \n",
       "3      5139800  \n",
       "4      6866900  \n",
       "...        ...  \n",
       "2411  11788500  \n",
       "2412  17801500  \n",
       "2413  29005700  \n",
       "2414  15719300  \n",
       "2415  47065000  \n",
       "\n",
       "[2416 rows x 7 columns]"
      ]
     },
     "execution_count": 2,
     "metadata": {},
     "output_type": "execute_result"
    }
   ],
   "source": [
    "df = pd.read_csv('/kaggle/input/tesla-stock-data-from-2010-to-2020/TSLA.csv')\n",
    "df"
   ]
  },
  {
   "cell_type": "code",
   "execution_count": 3,
   "id": "72bdd80c",
   "metadata": {
    "execution": {
     "iopub.execute_input": "2024-10-09T07:53:31.763007Z",
     "iopub.status.busy": "2024-10-09T07:53:31.762577Z",
     "iopub.status.idle": "2024-10-09T07:53:31.778128Z",
     "shell.execute_reply": "2024-10-09T07:53:31.776877Z"
    },
    "id": "lG_AO3mdVv17",
    "papermill": {
     "duration": 0.03218,
     "end_time": "2024-10-09T07:53:31.780535",
     "exception": false,
     "start_time": "2024-10-09T07:53:31.748355",
     "status": "completed"
    },
    "tags": []
   },
   "outputs": [
    {
     "data": {
      "text/html": [
       "<div>\n",
       "<style scoped>\n",
       "    .dataframe tbody tr th:only-of-type {\n",
       "        vertical-align: middle;\n",
       "    }\n",
       "\n",
       "    .dataframe tbody tr th {\n",
       "        vertical-align: top;\n",
       "    }\n",
       "\n",
       "    .dataframe thead th {\n",
       "        text-align: right;\n",
       "    }\n",
       "</style>\n",
       "<table border=\"1\" class=\"dataframe\">\n",
       "  <thead>\n",
       "    <tr style=\"text-align: right;\">\n",
       "      <th></th>\n",
       "      <th>Date</th>\n",
       "      <th>Open</th>\n",
       "      <th>High</th>\n",
       "      <th>Low</th>\n",
       "      <th>Close</th>\n",
       "      <th>Adj Close</th>\n",
       "      <th>Volume</th>\n",
       "    </tr>\n",
       "  </thead>\n",
       "  <tbody>\n",
       "    <tr>\n",
       "      <th>0</th>\n",
       "      <td>2010-06-29</td>\n",
       "      <td>19.000000</td>\n",
       "      <td>25.00</td>\n",
       "      <td>17.540001</td>\n",
       "      <td>23.889999</td>\n",
       "      <td>23.889999</td>\n",
       "      <td>18766300</td>\n",
       "    </tr>\n",
       "    <tr>\n",
       "      <th>1</th>\n",
       "      <td>2010-06-30</td>\n",
       "      <td>25.790001</td>\n",
       "      <td>30.42</td>\n",
       "      <td>23.299999</td>\n",
       "      <td>23.830000</td>\n",
       "      <td>23.830000</td>\n",
       "      <td>17187100</td>\n",
       "    </tr>\n",
       "    <tr>\n",
       "      <th>2</th>\n",
       "      <td>2010-07-01</td>\n",
       "      <td>25.000000</td>\n",
       "      <td>25.92</td>\n",
       "      <td>20.270000</td>\n",
       "      <td>21.959999</td>\n",
       "      <td>21.959999</td>\n",
       "      <td>8218800</td>\n",
       "    </tr>\n",
       "    <tr>\n",
       "      <th>3</th>\n",
       "      <td>2010-07-02</td>\n",
       "      <td>23.000000</td>\n",
       "      <td>23.10</td>\n",
       "      <td>18.709999</td>\n",
       "      <td>19.200001</td>\n",
       "      <td>19.200001</td>\n",
       "      <td>5139800</td>\n",
       "    </tr>\n",
       "    <tr>\n",
       "      <th>4</th>\n",
       "      <td>2010-07-06</td>\n",
       "      <td>20.000000</td>\n",
       "      <td>20.00</td>\n",
       "      <td>15.830000</td>\n",
       "      <td>16.110001</td>\n",
       "      <td>16.110001</td>\n",
       "      <td>6866900</td>\n",
       "    </tr>\n",
       "  </tbody>\n",
       "</table>\n",
       "</div>"
      ],
      "text/plain": [
       "         Date       Open   High        Low      Close  Adj Close    Volume\n",
       "0  2010-06-29  19.000000  25.00  17.540001  23.889999  23.889999  18766300\n",
       "1  2010-06-30  25.790001  30.42  23.299999  23.830000  23.830000  17187100\n",
       "2  2010-07-01  25.000000  25.92  20.270000  21.959999  21.959999   8218800\n",
       "3  2010-07-02  23.000000  23.10  18.709999  19.200001  19.200001   5139800\n",
       "4  2010-07-06  20.000000  20.00  15.830000  16.110001  16.110001   6866900"
      ]
     },
     "execution_count": 3,
     "metadata": {},
     "output_type": "execute_result"
    }
   ],
   "source": [
    "df.head()"
   ]
  },
  {
   "cell_type": "code",
   "execution_count": 4,
   "id": "e8d9be1c",
   "metadata": {
    "execution": {
     "iopub.execute_input": "2024-10-09T07:53:31.809459Z",
     "iopub.status.busy": "2024-10-09T07:53:31.808718Z",
     "iopub.status.idle": "2024-10-09T07:53:31.815898Z",
     "shell.execute_reply": "2024-10-09T07:53:31.814780Z"
    },
    "id": "TU5hlfyvVxY0",
    "papermill": {
     "duration": 0.024423,
     "end_time": "2024-10-09T07:53:31.818398",
     "exception": false,
     "start_time": "2024-10-09T07:53:31.793975",
     "status": "completed"
    },
    "tags": []
   },
   "outputs": [],
   "source": [
    "def check_df(dataframe, head=5):\n",
    "    print(\"##################### Shape #####################\")\n",
    "    print(dataframe.shape)\n",
    "    print(\"##################### Types #####################\")\n",
    "    print(dataframe.dtypes)\n",
    "    print(\"##################### Head #####################\")\n",
    "    print(dataframe.head(head))  # Fonksiyon çağrısına dikkat edin\n",
    "    print(\"##################### Tail #####################\")\n",
    "    print(dataframe.tail(head))\n",
    "    print(\"##################### NA #####################\")\n",
    "    print(dataframe.isnull().sum())\n",
    "    print(\"##################### Quantile #####################\")\n",
    "    print(dataframe.select_dtypes(include='number').quantile([0, 0.05, 0.5, 0.95, 0.99, 1]).T)\n"
   ]
  },
  {
   "cell_type": "code",
   "execution_count": 5,
   "id": "1e284a3a",
   "metadata": {
    "execution": {
     "iopub.execute_input": "2024-10-09T07:53:31.846680Z",
     "iopub.status.busy": "2024-10-09T07:53:31.845905Z",
     "iopub.status.idle": "2024-10-09T07:53:31.868907Z",
     "shell.execute_reply": "2024-10-09T07:53:31.867752Z"
    },
    "id": "t6iFP965V4vk",
    "papermill": {
     "duration": 0.040017,
     "end_time": "2024-10-09T07:53:31.871659",
     "exception": false,
     "start_time": "2024-10-09T07:53:31.831642",
     "status": "completed"
    },
    "tags": []
   },
   "outputs": [
    {
     "name": "stdout",
     "output_type": "stream",
     "text": [
      "##################### Shape #####################\n",
      "(2416, 7)\n",
      "##################### Types #####################\n",
      "Date          object\n",
      "Open         float64\n",
      "High         float64\n",
      "Low          float64\n",
      "Close        float64\n",
      "Adj Close    float64\n",
      "Volume         int64\n",
      "dtype: object\n",
      "##################### Head #####################\n",
      "         Date       Open   High        Low      Close  Adj Close    Volume\n",
      "0  2010-06-29  19.000000  25.00  17.540001  23.889999  23.889999  18766300\n",
      "1  2010-06-30  25.790001  30.42  23.299999  23.830000  23.830000  17187100\n",
      "2  2010-07-01  25.000000  25.92  20.270000  21.959999  21.959999   8218800\n",
      "3  2010-07-02  23.000000  23.10  18.709999  19.200001  19.200001   5139800\n",
      "4  2010-07-06  20.000000  20.00  15.830000  16.110001  16.110001   6866900\n",
      "##################### Tail #####################\n",
      "            Date        Open        High         Low       Close   Adj Close  \\\n",
      "2411  2020-01-28  568.489990  576.809998  558.080017  566.900024  566.900024   \n",
      "2412  2020-01-29  575.690002  589.799988  567.429993  580.989990  580.989990   \n",
      "2413  2020-01-30  632.419983  650.880005  618.000000  640.809998  640.809998   \n",
      "2414  2020-01-31  640.000000  653.000000  632.520020  650.570007  650.570007   \n",
      "2415  2020-02-03  673.690002  786.140015  673.520020  780.000000  780.000000   \n",
      "\n",
      "        Volume  \n",
      "2411  11788500  \n",
      "2412  17801500  \n",
      "2413  29005700  \n",
      "2414  15719300  \n",
      "2415  47065000  \n",
      "##################### NA #####################\n",
      "Date         0\n",
      "Open         0\n",
      "High         0\n",
      "Low          0\n",
      "Close        0\n",
      "Adj Close    0\n",
      "Volume       0\n",
      "dtype: int64\n",
      "##################### Quantile #####################\n",
      "                    0.00           0.05          0.50          0.95  \\\n",
      "Open           16.139999      23.384999  2.130350e+02  3.519100e+02   \n",
      "High           16.629999      24.022501  2.167450e+02  3.567500e+02   \n",
      "Low            14.980000      22.867499  2.088700e+02  3.460250e+02   \n",
      "Close          15.800000      23.565000  2.129600e+02  3.511675e+02   \n",
      "Adj Close      15.800000      23.565000  2.129600e+02  3.511675e+02   \n",
      "Volume     118500.000000  633825.000000  4.578400e+06  1.476090e+07   \n",
      "\n",
      "                   0.99          1.00  \n",
      "Open       4.235790e+02  6.736900e+02  \n",
      "High       4.284705e+02  7.861400e+02  \n",
      "Low        4.122865e+02  6.735200e+02  \n",
      "Close      4.243455e+02  7.800000e+02  \n",
      "Adj Close  4.243455e+02  7.800000e+02  \n",
      "Volume     2.459959e+07  4.706500e+07  \n"
     ]
    }
   ],
   "source": [
    "check_df(df)"
   ]
  },
  {
   "cell_type": "markdown",
   "id": "d95add2b",
   "metadata": {
    "id": "v2n2ONcpWlQl",
    "papermill": {
     "duration": 0.013613,
     "end_time": "2024-10-09T07:53:31.898775",
     "exception": false,
     "start_time": "2024-10-09T07:53:31.885162",
     "status": "completed"
    },
    "tags": []
   },
   "source": [
    "## Data Preparation"
   ]
  },
  {
   "cell_type": "code",
   "execution_count": 6,
   "id": "759a7c35",
   "metadata": {
    "execution": {
     "iopub.execute_input": "2024-10-09T07:53:31.927779Z",
     "iopub.status.busy": "2024-10-09T07:53:31.926941Z",
     "iopub.status.idle": "2024-10-09T07:53:31.937659Z",
     "shell.execute_reply": "2024-10-09T07:53:31.936559Z"
    },
    "id": "x-En8ormWAo8",
    "papermill": {
     "duration": 0.027483,
     "end_time": "2024-10-09T07:53:31.939889",
     "exception": false,
     "start_time": "2024-10-09T07:53:31.912406",
     "status": "completed"
    },
    "tags": []
   },
   "outputs": [],
   "source": [
    "df[\"Date\"] = pd.to_datetime(df[\"Date\"])"
   ]
  },
  {
   "cell_type": "code",
   "execution_count": 7,
   "id": "0de0b4af",
   "metadata": {
    "execution": {
     "iopub.execute_input": "2024-10-09T07:53:31.968634Z",
     "iopub.status.busy": "2024-10-09T07:53:31.967868Z",
     "iopub.status.idle": "2024-10-09T07:53:31.982680Z",
     "shell.execute_reply": "2024-10-09T07:53:31.981638Z"
    },
    "id": "Wk3C4MPkWBUG",
    "papermill": {
     "duration": 0.031691,
     "end_time": "2024-10-09T07:53:31.984892",
     "exception": false,
     "start_time": "2024-10-09T07:53:31.953201",
     "status": "completed"
    },
    "tags": []
   },
   "outputs": [
    {
     "data": {
      "text/html": [
       "<div>\n",
       "<style scoped>\n",
       "    .dataframe tbody tr th:only-of-type {\n",
       "        vertical-align: middle;\n",
       "    }\n",
       "\n",
       "    .dataframe tbody tr th {\n",
       "        vertical-align: top;\n",
       "    }\n",
       "\n",
       "    .dataframe thead th {\n",
       "        text-align: right;\n",
       "    }\n",
       "</style>\n",
       "<table border=\"1\" class=\"dataframe\">\n",
       "  <thead>\n",
       "    <tr style=\"text-align: right;\">\n",
       "      <th></th>\n",
       "      <th>Date</th>\n",
       "      <th>Open</th>\n",
       "      <th>High</th>\n",
       "      <th>Low</th>\n",
       "      <th>Close</th>\n",
       "      <th>Adj Close</th>\n",
       "      <th>Volume</th>\n",
       "    </tr>\n",
       "  </thead>\n",
       "  <tbody>\n",
       "    <tr>\n",
       "      <th>0</th>\n",
       "      <td>2010-06-29</td>\n",
       "      <td>19.000000</td>\n",
       "      <td>25.00</td>\n",
       "      <td>17.540001</td>\n",
       "      <td>23.889999</td>\n",
       "      <td>23.889999</td>\n",
       "      <td>18766300</td>\n",
       "    </tr>\n",
       "    <tr>\n",
       "      <th>1</th>\n",
       "      <td>2010-06-30</td>\n",
       "      <td>25.790001</td>\n",
       "      <td>30.42</td>\n",
       "      <td>23.299999</td>\n",
       "      <td>23.830000</td>\n",
       "      <td>23.830000</td>\n",
       "      <td>17187100</td>\n",
       "    </tr>\n",
       "    <tr>\n",
       "      <th>2</th>\n",
       "      <td>2010-07-01</td>\n",
       "      <td>25.000000</td>\n",
       "      <td>25.92</td>\n",
       "      <td>20.270000</td>\n",
       "      <td>21.959999</td>\n",
       "      <td>21.959999</td>\n",
       "      <td>8218800</td>\n",
       "    </tr>\n",
       "    <tr>\n",
       "      <th>3</th>\n",
       "      <td>2010-07-02</td>\n",
       "      <td>23.000000</td>\n",
       "      <td>23.10</td>\n",
       "      <td>18.709999</td>\n",
       "      <td>19.200001</td>\n",
       "      <td>19.200001</td>\n",
       "      <td>5139800</td>\n",
       "    </tr>\n",
       "    <tr>\n",
       "      <th>4</th>\n",
       "      <td>2010-07-06</td>\n",
       "      <td>20.000000</td>\n",
       "      <td>20.00</td>\n",
       "      <td>15.830000</td>\n",
       "      <td>16.110001</td>\n",
       "      <td>16.110001</td>\n",
       "      <td>6866900</td>\n",
       "    </tr>\n",
       "  </tbody>\n",
       "</table>\n",
       "</div>"
      ],
      "text/plain": [
       "        Date       Open   High        Low      Close  Adj Close    Volume\n",
       "0 2010-06-29  19.000000  25.00  17.540001  23.889999  23.889999  18766300\n",
       "1 2010-06-30  25.790001  30.42  23.299999  23.830000  23.830000  17187100\n",
       "2 2010-07-01  25.000000  25.92  20.270000  21.959999  21.959999   8218800\n",
       "3 2010-07-02  23.000000  23.10  18.709999  19.200001  19.200001   5139800\n",
       "4 2010-07-06  20.000000  20.00  15.830000  16.110001  16.110001   6866900"
      ]
     },
     "execution_count": 7,
     "metadata": {},
     "output_type": "execute_result"
    }
   ],
   "source": [
    "df.head()"
   ]
  },
  {
   "cell_type": "code",
   "execution_count": 8,
   "id": "3b41abb0",
   "metadata": {
    "execution": {
     "iopub.execute_input": "2024-10-09T07:53:32.013813Z",
     "iopub.status.busy": "2024-10-09T07:53:32.013014Z",
     "iopub.status.idle": "2024-10-09T07:53:32.019473Z",
     "shell.execute_reply": "2024-10-09T07:53:32.018273Z"
    },
    "id": "ZOVzSrk1WCHu",
    "papermill": {
     "duration": 0.023395,
     "end_time": "2024-10-09T07:53:32.021790",
     "exception": false,
     "start_time": "2024-10-09T07:53:31.998395",
     "status": "completed"
    },
    "tags": []
   },
   "outputs": [],
   "source": [
    "tesla_df = df[[\"Date\", \"Close\"]]"
   ]
  },
  {
   "cell_type": "code",
   "execution_count": 9,
   "id": "b638b39a",
   "metadata": {
    "execution": {
     "iopub.execute_input": "2024-10-09T07:53:32.050478Z",
     "iopub.status.busy": "2024-10-09T07:53:32.050024Z",
     "iopub.status.idle": "2024-10-09T07:53:32.061596Z",
     "shell.execute_reply": "2024-10-09T07:53:32.060266Z"
    },
    "id": "Tli5FuMBWF8l",
    "papermill": {
     "duration": 0.028693,
     "end_time": "2024-10-09T07:53:32.064155",
     "exception": false,
     "start_time": "2024-10-09T07:53:32.035462",
     "status": "completed"
    },
    "tags": []
   },
   "outputs": [
    {
     "data": {
      "text/html": [
       "<div>\n",
       "<style scoped>\n",
       "    .dataframe tbody tr th:only-of-type {\n",
       "        vertical-align: middle;\n",
       "    }\n",
       "\n",
       "    .dataframe tbody tr th {\n",
       "        vertical-align: top;\n",
       "    }\n",
       "\n",
       "    .dataframe thead th {\n",
       "        text-align: right;\n",
       "    }\n",
       "</style>\n",
       "<table border=\"1\" class=\"dataframe\">\n",
       "  <thead>\n",
       "    <tr style=\"text-align: right;\">\n",
       "      <th></th>\n",
       "      <th>Date</th>\n",
       "      <th>Close</th>\n",
       "    </tr>\n",
       "  </thead>\n",
       "  <tbody>\n",
       "    <tr>\n",
       "      <th>0</th>\n",
       "      <td>2010-06-29</td>\n",
       "      <td>23.889999</td>\n",
       "    </tr>\n",
       "    <tr>\n",
       "      <th>1</th>\n",
       "      <td>2010-06-30</td>\n",
       "      <td>23.830000</td>\n",
       "    </tr>\n",
       "    <tr>\n",
       "      <th>2</th>\n",
       "      <td>2010-07-01</td>\n",
       "      <td>21.959999</td>\n",
       "    </tr>\n",
       "    <tr>\n",
       "      <th>3</th>\n",
       "      <td>2010-07-02</td>\n",
       "      <td>19.200001</td>\n",
       "    </tr>\n",
       "    <tr>\n",
       "      <th>4</th>\n",
       "      <td>2010-07-06</td>\n",
       "      <td>16.110001</td>\n",
       "    </tr>\n",
       "  </tbody>\n",
       "</table>\n",
       "</div>"
      ],
      "text/plain": [
       "        Date      Close\n",
       "0 2010-06-29  23.889999\n",
       "1 2010-06-30  23.830000\n",
       "2 2010-07-01  21.959999\n",
       "3 2010-07-02  19.200001\n",
       "4 2010-07-06  16.110001"
      ]
     },
     "execution_count": 9,
     "metadata": {},
     "output_type": "execute_result"
    }
   ],
   "source": [
    "tesla_df.head()"
   ]
  },
  {
   "cell_type": "code",
   "execution_count": 10,
   "id": "a8cdfb3f",
   "metadata": {
    "execution": {
     "iopub.execute_input": "2024-10-09T07:53:32.093512Z",
     "iopub.status.busy": "2024-10-09T07:53:32.093104Z",
     "iopub.status.idle": "2024-10-09T07:53:32.099807Z",
     "shell.execute_reply": "2024-10-09T07:53:32.098541Z"
    },
    "id": "Gsw5OQCAWLzn",
    "papermill": {
     "duration": 0.024484,
     "end_time": "2024-10-09T07:53:32.102462",
     "exception": false,
     "start_time": "2024-10-09T07:53:32.077978",
     "status": "completed"
    },
    "tags": []
   },
   "outputs": [
    {
     "name": "stdout",
     "output_type": "stream",
     "text": [
      "Min Date:  2010-06-29 00:00:00\n",
      "Max Date:  2020-02-03 00:00:00\n"
     ]
    }
   ],
   "source": [
    "print(\"Min Date: \", tesla_df[\"Date\"].min())\n",
    "print(\"Max Date: \", tesla_df[\"Date\"].max())"
   ]
  },
  {
   "cell_type": "code",
   "execution_count": 11,
   "id": "32912605",
   "metadata": {
    "execution": {
     "iopub.execute_input": "2024-10-09T07:53:32.132599Z",
     "iopub.status.busy": "2024-10-09T07:53:32.131682Z",
     "iopub.status.idle": "2024-10-09T07:53:32.137305Z",
     "shell.execute_reply": "2024-10-09T07:53:32.136092Z"
    },
    "id": "JGi8P08mWQO1",
    "papermill": {
     "duration": 0.022717,
     "end_time": "2024-10-09T07:53:32.139428",
     "exception": false,
     "start_time": "2024-10-09T07:53:32.116711",
     "status": "completed"
    },
    "tags": []
   },
   "outputs": [],
   "source": [
    "tesla_df.index = tesla_df[\"Date\"]"
   ]
  },
  {
   "cell_type": "code",
   "execution_count": 12,
   "id": "a690ff95",
   "metadata": {
    "execution": {
     "iopub.execute_input": "2024-10-09T07:53:32.169434Z",
     "iopub.status.busy": "2024-10-09T07:53:32.168527Z",
     "iopub.status.idle": "2024-10-09T07:53:32.181333Z",
     "shell.execute_reply": "2024-10-09T07:53:32.180061Z"
    },
    "id": "YBWxX2IOWoL_",
    "papermill": {
     "duration": 0.030543,
     "end_time": "2024-10-09T07:53:32.183732",
     "exception": false,
     "start_time": "2024-10-09T07:53:32.153189",
     "status": "completed"
    },
    "tags": []
   },
   "outputs": [
    {
     "data": {
      "text/html": [
       "<div>\n",
       "<style scoped>\n",
       "    .dataframe tbody tr th:only-of-type {\n",
       "        vertical-align: middle;\n",
       "    }\n",
       "\n",
       "    .dataframe tbody tr th {\n",
       "        vertical-align: top;\n",
       "    }\n",
       "\n",
       "    .dataframe thead th {\n",
       "        text-align: right;\n",
       "    }\n",
       "</style>\n",
       "<table border=\"1\" class=\"dataframe\">\n",
       "  <thead>\n",
       "    <tr style=\"text-align: right;\">\n",
       "      <th></th>\n",
       "      <th>Date</th>\n",
       "      <th>Close</th>\n",
       "    </tr>\n",
       "    <tr>\n",
       "      <th>Date</th>\n",
       "      <th></th>\n",
       "      <th></th>\n",
       "    </tr>\n",
       "  </thead>\n",
       "  <tbody>\n",
       "    <tr>\n",
       "      <th>2010-06-29</th>\n",
       "      <td>2010-06-29</td>\n",
       "      <td>23.889999</td>\n",
       "    </tr>\n",
       "    <tr>\n",
       "      <th>2010-06-30</th>\n",
       "      <td>2010-06-30</td>\n",
       "      <td>23.830000</td>\n",
       "    </tr>\n",
       "    <tr>\n",
       "      <th>2010-07-01</th>\n",
       "      <td>2010-07-01</td>\n",
       "      <td>21.959999</td>\n",
       "    </tr>\n",
       "    <tr>\n",
       "      <th>2010-07-02</th>\n",
       "      <td>2010-07-02</td>\n",
       "      <td>19.200001</td>\n",
       "    </tr>\n",
       "    <tr>\n",
       "      <th>2010-07-06</th>\n",
       "      <td>2010-07-06</td>\n",
       "      <td>16.110001</td>\n",
       "    </tr>\n",
       "    <tr>\n",
       "      <th>...</th>\n",
       "      <td>...</td>\n",
       "      <td>...</td>\n",
       "    </tr>\n",
       "    <tr>\n",
       "      <th>2020-01-28</th>\n",
       "      <td>2020-01-28</td>\n",
       "      <td>566.900024</td>\n",
       "    </tr>\n",
       "    <tr>\n",
       "      <th>2020-01-29</th>\n",
       "      <td>2020-01-29</td>\n",
       "      <td>580.989990</td>\n",
       "    </tr>\n",
       "    <tr>\n",
       "      <th>2020-01-30</th>\n",
       "      <td>2020-01-30</td>\n",
       "      <td>640.809998</td>\n",
       "    </tr>\n",
       "    <tr>\n",
       "      <th>2020-01-31</th>\n",
       "      <td>2020-01-31</td>\n",
       "      <td>650.570007</td>\n",
       "    </tr>\n",
       "    <tr>\n",
       "      <th>2020-02-03</th>\n",
       "      <td>2020-02-03</td>\n",
       "      <td>780.000000</td>\n",
       "    </tr>\n",
       "  </tbody>\n",
       "</table>\n",
       "<p>2416 rows × 2 columns</p>\n",
       "</div>"
      ],
      "text/plain": [
       "                 Date       Close\n",
       "Date                             \n",
       "2010-06-29 2010-06-29   23.889999\n",
       "2010-06-30 2010-06-30   23.830000\n",
       "2010-07-01 2010-07-01   21.959999\n",
       "2010-07-02 2010-07-02   19.200001\n",
       "2010-07-06 2010-07-06   16.110001\n",
       "...               ...         ...\n",
       "2020-01-28 2020-01-28  566.900024\n",
       "2020-01-29 2020-01-29  580.989990\n",
       "2020-01-30 2020-01-30  640.809998\n",
       "2020-01-31 2020-01-31  650.570007\n",
       "2020-02-03 2020-02-03  780.000000\n",
       "\n",
       "[2416 rows x 2 columns]"
      ]
     },
     "execution_count": 12,
     "metadata": {},
     "output_type": "execute_result"
    }
   ],
   "source": [
    "tesla_df"
   ]
  },
  {
   "cell_type": "code",
   "execution_count": 13,
   "id": "61e9bb4c",
   "metadata": {
    "execution": {
     "iopub.execute_input": "2024-10-09T07:53:32.213777Z",
     "iopub.status.busy": "2024-10-09T07:53:32.213371Z",
     "iopub.status.idle": "2024-10-09T07:53:32.219455Z",
     "shell.execute_reply": "2024-10-09T07:53:32.218279Z"
    },
    "id": "tgPM31WBWvcH",
    "papermill": {
     "duration": 0.023885,
     "end_time": "2024-10-09T07:53:32.221690",
     "exception": false,
     "start_time": "2024-10-09T07:53:32.197805",
     "status": "completed"
    },
    "tags": []
   },
   "outputs": [],
   "source": [
    "tesla_df.drop(\"Date\", axis=1, inplace=True)"
   ]
  },
  {
   "cell_type": "code",
   "execution_count": 14,
   "id": "95ae243f",
   "metadata": {
    "execution": {
     "iopub.execute_input": "2024-10-09T07:53:32.252212Z",
     "iopub.status.busy": "2024-10-09T07:53:32.250912Z",
     "iopub.status.idle": "2024-10-09T07:53:32.263399Z",
     "shell.execute_reply": "2024-10-09T07:53:32.262242Z"
    },
    "id": "17KdnKMGWwSm",
    "papermill": {
     "duration": 0.030087,
     "end_time": "2024-10-09T07:53:32.265672",
     "exception": false,
     "start_time": "2024-10-09T07:53:32.235585",
     "status": "completed"
    },
    "tags": []
   },
   "outputs": [
    {
     "data": {
      "text/html": [
       "<div>\n",
       "<style scoped>\n",
       "    .dataframe tbody tr th:only-of-type {\n",
       "        vertical-align: middle;\n",
       "    }\n",
       "\n",
       "    .dataframe tbody tr th {\n",
       "        vertical-align: top;\n",
       "    }\n",
       "\n",
       "    .dataframe thead th {\n",
       "        text-align: right;\n",
       "    }\n",
       "</style>\n",
       "<table border=\"1\" class=\"dataframe\">\n",
       "  <thead>\n",
       "    <tr style=\"text-align: right;\">\n",
       "      <th></th>\n",
       "      <th>Close</th>\n",
       "    </tr>\n",
       "    <tr>\n",
       "      <th>Date</th>\n",
       "      <th></th>\n",
       "    </tr>\n",
       "  </thead>\n",
       "  <tbody>\n",
       "    <tr>\n",
       "      <th>2010-06-29</th>\n",
       "      <td>23.889999</td>\n",
       "    </tr>\n",
       "    <tr>\n",
       "      <th>2010-06-30</th>\n",
       "      <td>23.830000</td>\n",
       "    </tr>\n",
       "    <tr>\n",
       "      <th>2010-07-01</th>\n",
       "      <td>21.959999</td>\n",
       "    </tr>\n",
       "    <tr>\n",
       "      <th>2010-07-02</th>\n",
       "      <td>19.200001</td>\n",
       "    </tr>\n",
       "    <tr>\n",
       "      <th>2010-07-06</th>\n",
       "      <td>16.110001</td>\n",
       "    </tr>\n",
       "    <tr>\n",
       "      <th>...</th>\n",
       "      <td>...</td>\n",
       "    </tr>\n",
       "    <tr>\n",
       "      <th>2020-01-28</th>\n",
       "      <td>566.900024</td>\n",
       "    </tr>\n",
       "    <tr>\n",
       "      <th>2020-01-29</th>\n",
       "      <td>580.989990</td>\n",
       "    </tr>\n",
       "    <tr>\n",
       "      <th>2020-01-30</th>\n",
       "      <td>640.809998</td>\n",
       "    </tr>\n",
       "    <tr>\n",
       "      <th>2020-01-31</th>\n",
       "      <td>650.570007</td>\n",
       "    </tr>\n",
       "    <tr>\n",
       "      <th>2020-02-03</th>\n",
       "      <td>780.000000</td>\n",
       "    </tr>\n",
       "  </tbody>\n",
       "</table>\n",
       "<p>2416 rows × 1 columns</p>\n",
       "</div>"
      ],
      "text/plain": [
       "                 Close\n",
       "Date                  \n",
       "2010-06-29   23.889999\n",
       "2010-06-30   23.830000\n",
       "2010-07-01   21.959999\n",
       "2010-07-02   19.200001\n",
       "2010-07-06   16.110001\n",
       "...                ...\n",
       "2020-01-28  566.900024\n",
       "2020-01-29  580.989990\n",
       "2020-01-30  640.809998\n",
       "2020-01-31  650.570007\n",
       "2020-02-03  780.000000\n",
       "\n",
       "[2416 rows x 1 columns]"
      ]
     },
     "execution_count": 14,
     "metadata": {},
     "output_type": "execute_result"
    }
   ],
   "source": [
    "tesla_df"
   ]
  },
  {
   "cell_type": "code",
   "execution_count": 15,
   "id": "7cd54cdb",
   "metadata": {
    "execution": {
     "iopub.execute_input": "2024-10-09T07:53:32.295617Z",
     "iopub.status.busy": "2024-10-09T07:53:32.295203Z",
     "iopub.status.idle": "2024-10-09T07:53:32.300579Z",
     "shell.execute_reply": "2024-10-09T07:53:32.299386Z"
    },
    "id": "PliZ5OcsWxsF",
    "papermill": {
     "duration": 0.023242,
     "end_time": "2024-10-09T07:53:32.302962",
     "exception": false,
     "start_time": "2024-10-09T07:53:32.279720",
     "status": "completed"
    },
    "tags": []
   },
   "outputs": [],
   "source": [
    "result_df = tesla_df.copy()"
   ]
  },
  {
   "cell_type": "code",
   "execution_count": 16,
   "id": "5c6a819b",
   "metadata": {
    "execution": {
     "iopub.execute_input": "2024-10-09T07:53:32.333560Z",
     "iopub.status.busy": "2024-10-09T07:53:32.332740Z",
     "iopub.status.idle": "2024-10-09T07:53:32.741492Z",
     "shell.execute_reply": "2024-10-09T07:53:32.740409Z"
    },
    "id": "ObqHX6K2W0te",
    "papermill": {
     "duration": 0.426519,
     "end_time": "2024-10-09T07:53:32.743838",
     "exception": false,
     "start_time": "2024-10-09T07:53:32.317319",
     "status": "completed"
    },
    "tags": []
   },
   "outputs": [
    {
     "data": {
      "image/png": "[encoded data removed]",
      "text/plain": [
       "<Figure size 1400x500 with 1 Axes>"
      ]
     },
     "metadata": {},
     "output_type": "display_data"
    }
   ],
   "source": [
    "plt.figure(figsize=(14,5))\n",
    "plt.plot(tesla_df['Close'], color='blue')\n",
    "plt.title(\"Tesla Stock Price\")\n",
    "plt.xlabel(\"Time\")\n",
    "plt.ylabel(\"Stock Price\")\n",
    "plt.show()"
   ]
  },
  {
   "cell_type": "code",
   "execution_count": 17,
   "id": "f4636b49",
   "metadata": {
    "execution": {
     "iopub.execute_input": "2024-10-09T07:53:32.775767Z",
     "iopub.status.busy": "2024-10-09T07:53:32.775344Z",
     "iopub.status.idle": "2024-10-09T07:53:32.780693Z",
     "shell.execute_reply": "2024-10-09T07:53:32.779543Z"
    },
    "id": "5LWFDWjNW2z2",
    "papermill": {
     "duration": 0.024053,
     "end_time": "2024-10-09T07:53:32.783029",
     "exception": false,
     "start_time": "2024-10-09T07:53:32.758976",
     "status": "completed"
    },
    "tags": []
   },
   "outputs": [],
   "source": [
    "tesla_df = tesla_df.values"
   ]
  },
  {
   "cell_type": "code",
   "execution_count": 18,
   "id": "8e3c9755",
   "metadata": {
    "execution": {
     "iopub.execute_input": "2024-10-09T07:53:32.815645Z",
     "iopub.status.busy": "2024-10-09T07:53:32.814894Z",
     "iopub.status.idle": "2024-10-09T07:53:32.822503Z",
     "shell.execute_reply": "2024-10-09T07:53:32.821407Z"
    },
    "id": "jxFZkTS-W9Mm",
    "papermill": {
     "duration": 0.026118,
     "end_time": "2024-10-09T07:53:32.824639",
     "exception": false,
     "start_time": "2024-10-09T07:53:32.798521",
     "status": "completed"
    },
    "tags": []
   },
   "outputs": [
    {
     "data": {
      "text/plain": [
       "array([[23.889999],\n",
       "       [23.83    ],\n",
       "       [21.959999],\n",
       "       [19.200001],\n",
       "       [16.110001]])"
      ]
     },
     "execution_count": 18,
     "metadata": {},
     "output_type": "execute_result"
    }
   ],
   "source": [
    "tesla_df[0:5]"
   ]
  },
  {
   "cell_type": "code",
   "execution_count": 19,
   "id": "4a215a58",
   "metadata": {
    "execution": {
     "iopub.execute_input": "2024-10-09T07:53:32.856521Z",
     "iopub.status.busy": "2024-10-09T07:53:32.856101Z",
     "iopub.status.idle": "2024-10-09T07:53:32.861694Z",
     "shell.execute_reply": "2024-10-09T07:53:32.860138Z"
    },
    "id": "iU7KJlc4XAb2",
    "papermill": {
     "duration": 0.024224,
     "end_time": "2024-10-09T07:53:32.863994",
     "exception": false,
     "start_time": "2024-10-09T07:53:32.839770",
     "status": "completed"
    },
    "tags": []
   },
   "outputs": [],
   "source": [
    "tesla_df = tesla_df.astype(\"float32\")"
   ]
  },
  {
   "cell_type": "code",
   "execution_count": 20,
   "id": "a9cf98c8",
   "metadata": {
    "execution": {
     "iopub.execute_input": "2024-10-09T07:53:32.896702Z",
     "iopub.status.busy": "2024-10-09T07:53:32.896295Z",
     "iopub.status.idle": "2024-10-09T07:53:32.902051Z",
     "shell.execute_reply": "2024-10-09T07:53:32.900950Z"
    },
    "id": "r7Cywk9oXBI-",
    "papermill": {
     "duration": 0.025095,
     "end_time": "2024-10-09T07:53:32.904420",
     "exception": false,
     "start_time": "2024-10-09T07:53:32.879325",
     "status": "completed"
    },
    "tags": []
   },
   "outputs": [],
   "source": [
    "def split_data(dataframe, test_size):\n",
    "  position = int(round(len(dataframe) * (1 - test_size)))\n",
    "  train = dataframe[:position]\n",
    "  test = dataframe[position:]\n",
    "  return train, test, position"
   ]
  },
  {
   "cell_type": "code",
   "execution_count": 21,
   "id": "5f4e9910",
   "metadata": {
    "execution": {
     "iopub.execute_input": "2024-10-09T07:53:32.936435Z",
     "iopub.status.busy": "2024-10-09T07:53:32.936024Z",
     "iopub.status.idle": "2024-10-09T07:53:32.941095Z",
     "shell.execute_reply": "2024-10-09T07:53:32.939924Z"
    },
    "id": "COxqfz0SZvV_",
    "papermill": {
     "duration": 0.024011,
     "end_time": "2024-10-09T07:53:32.943488",
     "exception": false,
     "start_time": "2024-10-09T07:53:32.919477",
     "status": "completed"
    },
    "tags": []
   },
   "outputs": [],
   "source": [
    "train, test, position = split_data(tesla_df, 0.20)"
   ]
  },
  {
   "cell_type": "code",
   "execution_count": 22,
   "id": "997c8435",
   "metadata": {
    "execution": {
     "iopub.execute_input": "2024-10-09T07:53:32.975925Z",
     "iopub.status.busy": "2024-10-09T07:53:32.975470Z",
     "iopub.status.idle": "2024-10-09T07:53:32.981553Z",
     "shell.execute_reply": "2024-10-09T07:53:32.980382Z"
    },
    "id": "jESwxnt2Z1t5",
    "papermill": {
     "duration": 0.025382,
     "end_time": "2024-10-09T07:53:32.984119",
     "exception": false,
     "start_time": "2024-10-09T07:53:32.958737",
     "status": "completed"
    },
    "tags": []
   },
   "outputs": [
    {
     "name": "stdout",
     "output_type": "stream",
     "text": [
      "(1933, 1) (483, 1)\n"
     ]
    }
   ],
   "source": [
    "print(train.shape, test.shape)"
   ]
  },
  {
   "cell_type": "code",
   "execution_count": 23,
   "id": "f9f63bca",
   "metadata": {
    "execution": {
     "iopub.execute_input": "2024-10-09T07:53:33.016312Z",
     "iopub.status.busy": "2024-10-09T07:53:33.015896Z",
     "iopub.status.idle": "2024-10-09T07:53:33.020895Z",
     "shell.execute_reply": "2024-10-09T07:53:33.019776Z"
    },
    "id": "wleQDdgSZ8NZ",
    "papermill": {
     "duration": 0.023642,
     "end_time": "2024-10-09T07:53:33.023030",
     "exception": false,
     "start_time": "2024-10-09T07:53:32.999388",
     "status": "completed"
    },
    "tags": []
   },
   "outputs": [],
   "source": [
    "scaler_train = MinMaxScaler(feature_range = (0,1))"
   ]
  },
  {
   "cell_type": "code",
   "execution_count": 24,
   "id": "7e9e66df",
   "metadata": {
    "execution": {
     "iopub.execute_input": "2024-10-09T07:53:33.056010Z",
     "iopub.status.busy": "2024-10-09T07:53:33.055579Z",
     "iopub.status.idle": "2024-10-09T07:53:33.062149Z",
     "shell.execute_reply": "2024-10-09T07:53:33.060944Z"
    },
    "id": "Enf8wikDaNZh",
    "papermill": {
     "duration": 0.026062,
     "end_time": "2024-10-09T07:53:33.064620",
     "exception": false,
     "start_time": "2024-10-09T07:53:33.038558",
     "status": "completed"
    },
    "tags": []
   },
   "outputs": [],
   "source": [
    "train = scaler_train.fit_transform(train)"
   ]
  },
  {
   "cell_type": "code",
   "execution_count": 25,
   "id": "689dc91e",
   "metadata": {
    "execution": {
     "iopub.execute_input": "2024-10-09T07:53:33.096880Z",
     "iopub.status.busy": "2024-10-09T07:53:33.096436Z",
     "iopub.status.idle": "2024-10-09T07:53:33.101714Z",
     "shell.execute_reply": "2024-10-09T07:53:33.100573Z"
    },
    "id": "cg-7tCn_aXTc",
    "papermill": {
     "duration": 0.023985,
     "end_time": "2024-10-09T07:53:33.103992",
     "exception": false,
     "start_time": "2024-10-09T07:53:33.080007",
     "status": "completed"
    },
    "tags": []
   },
   "outputs": [],
   "source": [
    "scaler_test = MinMaxScaler(feature_range = (0,1))"
   ]
  },
  {
   "cell_type": "code",
   "execution_count": 26,
   "id": "c395e0cf",
   "metadata": {
    "execution": {
     "iopub.execute_input": "2024-10-09T07:53:33.136076Z",
     "iopub.status.busy": "2024-10-09T07:53:33.135632Z",
     "iopub.status.idle": "2024-10-09T07:53:33.141537Z",
     "shell.execute_reply": "2024-10-09T07:53:33.140447Z"
    },
    "id": "tSbuIifiabbC",
    "papermill": {
     "duration": 0.02451,
     "end_time": "2024-10-09T07:53:33.143689",
     "exception": false,
     "start_time": "2024-10-09T07:53:33.119179",
     "status": "completed"
    },
    "tags": []
   },
   "outputs": [],
   "source": [
    "test = scaler_test.fit_transform(test)"
   ]
  },
  {
   "cell_type": "code",
   "execution_count": 27,
   "id": "bcb0bebc",
   "metadata": {
    "execution": {
     "iopub.execute_input": "2024-10-09T07:53:33.175590Z",
     "iopub.status.busy": "2024-10-09T07:53:33.175161Z",
     "iopub.status.idle": "2024-10-09T07:53:33.182716Z",
     "shell.execute_reply": "2024-10-09T07:53:33.181682Z"
    },
    "id": "X5a7m_BEagaJ",
    "papermill": {
     "duration": 0.026332,
     "end_time": "2024-10-09T07:53:33.185038",
     "exception": false,
     "start_time": "2024-10-09T07:53:33.158706",
     "status": "completed"
    },
    "tags": []
   },
   "outputs": [
    {
     "data": {
      "text/plain": [
       "array([[0.02191224],\n",
       "       [0.02174973],\n",
       "       [0.01668472],\n",
       "       [0.0092091 ],\n",
       "       [0.00083966]], dtype=float32)"
      ]
     },
     "execution_count": 27,
     "metadata": {},
     "output_type": "execute_result"
    }
   ],
   "source": [
    "train[0:5]"
   ]
  },
  {
   "cell_type": "code",
   "execution_count": 28,
   "id": "de1d570e",
   "metadata": {
    "execution": {
     "iopub.execute_input": "2024-10-09T07:53:33.217623Z",
     "iopub.status.busy": "2024-10-09T07:53:33.217194Z",
     "iopub.status.idle": "2024-10-09T07:53:33.224783Z",
     "shell.execute_reply": "2024-10-09T07:53:33.223580Z"
    },
    "id": "AeVSy_ijahnh",
    "papermill": {
     "duration": 0.026437,
     "end_time": "2024-10-09T07:53:33.227137",
     "exception": false,
     "start_time": "2024-10-09T07:53:33.200700",
     "status": "completed"
    },
    "tags": []
   },
   "outputs": [
    {
     "data": {
      "text/plain": [
       "array([[0.25685903],\n",
       "       [0.24829045],\n",
       "       [0.25511202],\n",
       "       [0.24978784],\n",
       "       [0.2465767 ]], dtype=float32)"
      ]
     },
     "execution_count": 28,
     "metadata": {},
     "output_type": "execute_result"
    }
   ],
   "source": [
    "test[0:5]"
   ]
  },
  {
   "cell_type": "code",
   "execution_count": 29,
   "id": "840494cd",
   "metadata": {
    "execution": {
     "iopub.execute_input": "2024-10-09T07:53:33.259927Z",
     "iopub.status.busy": "2024-10-09T07:53:33.259499Z",
     "iopub.status.idle": "2024-10-09T07:53:33.265687Z",
     "shell.execute_reply": "2024-10-09T07:53:33.264407Z"
    },
    "id": "Gv95UqJWasHS",
    "papermill": {
     "duration": 0.025515,
     "end_time": "2024-10-09T07:53:33.267972",
     "exception": false,
     "start_time": "2024-10-09T07:53:33.242457",
     "status": "completed"
    },
    "tags": []
   },
   "outputs": [],
   "source": [
    "def create_features(data, lookback):\n",
    "  X, Y = [], []\n",
    "  for i in range(lookback, len(data)):\n",
    "    X.append(data[i-lookback:i,0])\n",
    "    Y.append(data[i,0])\n",
    "\n",
    "  return np.array(X), np.array(Y)"
   ]
  },
  {
   "cell_type": "code",
   "execution_count": 30,
   "id": "61c37a93",
   "metadata": {
    "execution": {
     "iopub.execute_input": "2024-10-09T07:53:33.300908Z",
     "iopub.status.busy": "2024-10-09T07:53:33.299863Z",
     "iopub.status.idle": "2024-10-09T07:53:33.304797Z",
     "shell.execute_reply": "2024-10-09T07:53:33.303751Z"
    },
    "id": "e36Ux4_CbASm",
    "papermill": {
     "duration": 0.023674,
     "end_time": "2024-10-09T07:53:33.307119",
     "exception": false,
     "start_time": "2024-10-09T07:53:33.283445",
     "status": "completed"
    },
    "tags": []
   },
   "outputs": [],
   "source": [
    "lookback = 20"
   ]
  },
  {
   "cell_type": "code",
   "execution_count": 31,
   "id": "2b80c627",
   "metadata": {
    "execution": {
     "iopub.execute_input": "2024-10-09T07:53:33.339502Z",
     "iopub.status.busy": "2024-10-09T07:53:33.339053Z",
     "iopub.status.idle": "2024-10-09T07:53:33.347090Z",
     "shell.execute_reply": "2024-10-09T07:53:33.346049Z"
    },
    "id": "Xd8JMdaWbCzp",
    "papermill": {
     "duration": 0.02705,
     "end_time": "2024-10-09T07:53:33.349568",
     "exception": false,
     "start_time": "2024-10-09T07:53:33.322518",
     "status": "completed"
    },
    "tags": []
   },
   "outputs": [],
   "source": [
    "X_train, y_train = create_features(train, lookback)"
   ]
  },
  {
   "cell_type": "code",
   "execution_count": 32,
   "id": "2adbba47",
   "metadata": {
    "execution": {
     "iopub.execute_input": "2024-10-09T07:53:33.436448Z",
     "iopub.status.busy": "2024-10-09T07:53:33.436040Z",
     "iopub.status.idle": "2024-10-09T07:53:33.442298Z",
     "shell.execute_reply": "2024-10-09T07:53:33.441020Z"
    },
    "id": "wHgq8DT5bF_Z",
    "papermill": {
     "duration": 0.079921,
     "end_time": "2024-10-09T07:53:33.444903",
     "exception": false,
     "start_time": "2024-10-09T07:53:33.364982",
     "status": "completed"
    },
    "tags": []
   },
   "outputs": [],
   "source": [
    "X_test, y_test = create_features(test, lookback)"
   ]
  },
  {
   "cell_type": "code",
   "execution_count": 33,
   "id": "61d68c87",
   "metadata": {
    "execution": {
     "iopub.execute_input": "2024-10-09T07:53:33.477440Z",
     "iopub.status.busy": "2024-10-09T07:53:33.477008Z",
     "iopub.status.idle": "2024-10-09T07:53:33.483109Z",
     "shell.execute_reply": "2024-10-09T07:53:33.481925Z"
    },
    "id": "zYQy_33TbKdb",
    "papermill": {
     "duration": 0.025004,
     "end_time": "2024-10-09T07:53:33.485395",
     "exception": false,
     "start_time": "2024-10-09T07:53:33.460391",
     "status": "completed"
    },
    "tags": []
   },
   "outputs": [
    {
     "name": "stdout",
     "output_type": "stream",
     "text": [
      "(1913, 20) (1913,) (463, 20) (463,)\n"
     ]
    }
   ],
   "source": [
    "print(X_train.shape, y_train.shape, X_test.shape, y_test.shape)"
   ]
  },
  {
   "cell_type": "code",
   "execution_count": 34,
   "id": "49001b81",
   "metadata": {
    "execution": {
     "iopub.execute_input": "2024-10-09T07:53:33.518899Z",
     "iopub.status.busy": "2024-10-09T07:53:33.517877Z",
     "iopub.status.idle": "2024-10-09T07:53:33.526190Z",
     "shell.execute_reply": "2024-10-09T07:53:33.525050Z"
    },
    "id": "sI1k-K6bTKuw",
    "papermill": {
     "duration": 0.027331,
     "end_time": "2024-10-09T07:53:33.528356",
     "exception": false,
     "start_time": "2024-10-09T07:53:33.501025",
     "status": "completed"
    },
    "tags": []
   },
   "outputs": [
    {
     "data": {
      "text/plain": [
       "array([[0.02191224, 0.02174973, 0.01668472, 0.0092091 , 0.00083966,\n",
       "        0.        , 0.00449621, 0.00433369, 0.0033857 , 0.00633803,\n",
       "        0.01094258, 0.011078  , 0.01310942, 0.0165493 , 0.01218851,\n",
       "        0.01197183, 0.01408451, 0.01486999, 0.01394908, 0.01286566],\n",
       "       [0.02174973, 0.01668472, 0.0092091 , 0.00083966, 0.        ,\n",
       "        0.00449621, 0.00433369, 0.0033857 , 0.00633803, 0.01094258,\n",
       "        0.011078  , 0.01310942, 0.0165493 , 0.01218851, 0.01197183,\n",
       "        0.01408451, 0.01486999, 0.01394908, 0.01286566, 0.01332611],\n",
       "       [0.01668472, 0.0092091 , 0.00083966, 0.        , 0.00449621,\n",
       "        0.00433369, 0.0033857 , 0.00633803, 0.01094258, 0.011078  ,\n",
       "        0.01310942, 0.0165493 , 0.01218851, 0.01197183, 0.01408451,\n",
       "        0.01486999, 0.01394908, 0.01286566, 0.01332611, 0.01232395],\n",
       "       [0.0092091 , 0.00083966, 0.        , 0.00449621, 0.00433369,\n",
       "        0.0033857 , 0.00633803, 0.01094258, 0.011078  , 0.01310942,\n",
       "        0.0165493 , 0.01218851, 0.01197183, 0.01408451, 0.01486999,\n",
       "        0.01394908, 0.01286566, 0.01332611, 0.01232395, 0.01121344],\n",
       "       [0.00083966, 0.        , 0.00449621, 0.00433369, 0.0033857 ,\n",
       "        0.00633803, 0.01094258, 0.011078  , 0.01310942, 0.0165493 ,\n",
       "        0.01218851, 0.01197183, 0.01408451, 0.01486999, 0.01394908,\n",
       "        0.01286566, 0.01332611, 0.01232395, 0.01121344, 0.01386782]],\n",
       "      dtype=float32)"
      ]
     },
     "execution_count": 34,
     "metadata": {},
     "output_type": "execute_result"
    }
   ],
   "source": [
    "X_train[0:5]"
   ]
  },
  {
   "cell_type": "code",
   "execution_count": 35,
   "id": "c2d90c92",
   "metadata": {
    "execution": {
     "iopub.execute_input": "2024-10-09T07:53:33.561488Z",
     "iopub.status.busy": "2024-10-09T07:53:33.561062Z",
     "iopub.status.idle": "2024-10-09T07:53:33.568824Z",
     "shell.execute_reply": "2024-10-09T07:53:33.567780Z"
    },
    "id": "vY5hCVQHTg9u",
    "papermill": {
     "duration": 0.027131,
     "end_time": "2024-10-09T07:53:33.571094",
     "exception": false,
     "start_time": "2024-10-09T07:53:33.543963",
     "status": "completed"
    },
    "tags": []
   },
   "outputs": [
    {
     "data": {
      "text/plain": [
       "array([0.01332611, 0.01232395, 0.01121344, 0.01386782, 0.01665764],\n",
       "      dtype=float32)"
      ]
     },
     "execution_count": 35,
     "metadata": {},
     "output_type": "execute_result"
    }
   ],
   "source": [
    "y_train[0:5]"
   ]
  },
  {
   "cell_type": "code",
   "execution_count": 36,
   "id": "3579136c",
   "metadata": {
    "execution": {
     "iopub.execute_input": "2024-10-09T07:53:33.605123Z",
     "iopub.status.busy": "2024-10-09T07:53:33.604029Z",
     "iopub.status.idle": "2024-10-09T07:53:33.610128Z",
     "shell.execute_reply": "2024-10-09T07:53:33.609044Z"
    },
    "id": "yvf-4kLybad5",
    "papermill": {
     "duration": 0.025466,
     "end_time": "2024-10-09T07:53:33.612513",
     "exception": false,
     "start_time": "2024-10-09T07:53:33.587047",
     "status": "completed"
    },
    "tags": []
   },
   "outputs": [],
   "source": [
    "X_train = np.reshape(X_train, (X_train.shape[0], 1, X_train.shape[1]))\n",
    "X_test = np.reshape(X_test, (X_test.shape[0], 1, X_test.shape[1]))\n",
    "y_train = y_train.reshape(-1,1)\n",
    "y_test = y_test.reshape(-1,1)"
   ]
  },
  {
   "cell_type": "code",
   "execution_count": 37,
   "id": "c9121fc2",
   "metadata": {
    "execution": {
     "iopub.execute_input": "2024-10-09T07:53:33.648770Z",
     "iopub.status.busy": "2024-10-09T07:53:33.647972Z",
     "iopub.status.idle": "2024-10-09T07:53:33.653683Z",
     "shell.execute_reply": "2024-10-09T07:53:33.652591Z"
    },
    "id": "D2ltv0Edb3wz",
    "papermill": {
     "duration": 0.027664,
     "end_time": "2024-10-09T07:53:33.656144",
     "exception": false,
     "start_time": "2024-10-09T07:53:33.628480",
     "status": "completed"
    },
    "tags": []
   },
   "outputs": [
    {
     "name": "stdout",
     "output_type": "stream",
     "text": [
      "(1913, 1, 20) (1913, 1) (463, 1, 20) (463, 1)\n"
     ]
    }
   ],
   "source": [
    "print(X_train.shape, y_train.shape, X_test.shape, y_test.shape)"
   ]
  },
  {
   "cell_type": "markdown",
   "id": "8a93c017",
   "metadata": {
    "id": "DtsN3xazcIAn",
    "papermill": {
     "duration": 0.015701,
     "end_time": "2024-10-09T07:53:33.687514",
     "exception": false,
     "start_time": "2024-10-09T07:53:33.671813",
     "status": "completed"
    },
    "tags": []
   },
   "source": [
    "## Modelling"
   ]
  },
  {
   "cell_type": "code",
   "execution_count": 38,
   "id": "9ab144dd",
   "metadata": {
    "execution": {
     "iopub.execute_input": "2024-10-09T07:53:33.720813Z",
     "iopub.status.busy": "2024-10-09T07:53:33.720403Z",
     "iopub.status.idle": "2024-10-09T07:53:33.836757Z",
     "shell.execute_reply": "2024-10-09T07:53:33.835809Z"
    },
    "id": "QtbQx4G9cI_z",
    "papermill": {
     "duration": 0.13598,
     "end_time": "2024-10-09T07:53:33.839310",
     "exception": false,
     "start_time": "2024-10-09T07:53:33.703330",
     "status": "completed"
    },
    "tags": []
   },
   "outputs": [],
   "source": [
    "model = Sequential()\n",
    "\n",
    "model.add(LSTM(units = 50,\n",
    "                    activation = 'relu',\n",
    "                    input_shape=(X_train.shape[1], lookback)))\n",
    "\n",
    "model.add(Dropout(0.2))\n",
    "\n",
    "model.add(Dense(1))\n"
   ]
  },
  {
   "cell_type": "code",
   "execution_count": 39,
   "id": "4dcdf42b",
   "metadata": {
    "execution": {
     "iopub.execute_input": "2024-10-09T07:53:33.873047Z",
     "iopub.status.busy": "2024-10-09T07:53:33.871986Z",
     "iopub.status.idle": "2024-10-09T07:53:33.892653Z",
     "shell.execute_reply": "2024-10-09T07:53:33.891518Z"
    },
    "id": "RQFXIkDbciE6",
    "papermill": {
     "duration": 0.039925,
     "end_time": "2024-10-09T07:53:33.894974",
     "exception": false,
     "start_time": "2024-10-09T07:53:33.855049",
     "status": "completed"
    },
    "tags": []
   },
   "outputs": [
    {
     "data": {
      "text/html": [
       "<pre style=\"white-space:pre;overflow-x:auto;line-height:normal;font-family:Menlo,'DejaVu Sans Mono',consolas,'Courier New',monospace\"><span style=\"font-weight: bold\">Model: \"sequential\"</span>\n",
       "</pre>\n"
      ],
      "text/plain": [
       "\u001b[1mModel: \"sequential\"\u001b[0m\n"
      ]
     },
     "metadata": {},
     "output_type": "display_data"
    },
    {
     "data": {
      "text/html": [
       "<pre style=\"white-space:pre;overflow-x:auto;line-height:normal;font-family:Menlo,'DejaVu Sans Mono',consolas,'Courier New',monospace\">┏━━━━━━━━━━━━━━━━━━━━━━━━━━━━━━━━━┳━━━━━━━━━━━━━━━━━━━━━━━━┳━━━━━━━━━━━━━━━┓\n",
       "┃<span style=\"font-weight: bold\"> Layer (type)                    </span>┃<span style=\"font-weight: bold\"> Output Shape           </span>┃<span style=\"font-weight: bold\">       Param # </span>┃\n",
       "┡━━━━━━━━━━━━━━━━━━━━━━━━━━━━━━━━━╇━━━━━━━━━━━━━━━━━━━━━━━━╇━━━━━━━━━━━━━━━┩\n",
       "│ lstm (<span style=\"color: #0087ff; text-decoration-color: #0087ff\">LSTM</span>)                     │ (<span style=\"color: #00d7ff; text-decoration-color: #00d7ff\">None</span>, <span style=\"color: #00af00; text-decoration-color: #00af00\">50</span>)             │        <span style=\"color: #00af00; text-decoration-color: #00af00\">14,200</span> │\n",
       "├─────────────────────────────────┼────────────────────────┼───────────────┤\n",
       "│ dropout (<span style=\"color: #0087ff; text-decoration-color: #0087ff\">Dropout</span>)               │ (<span style=\"color: #00d7ff; text-decoration-color: #00d7ff\">None</span>, <span style=\"color: #00af00; text-decoration-color: #00af00\">50</span>)             │             <span style=\"color: #00af00; text-decoration-color: #00af00\">0</span> │\n",
       "├─────────────────────────────────┼────────────────────────┼───────────────┤\n",
       "│ dense (<span style=\"color: #0087ff; text-decoration-color: #0087ff\">Dense</span>)                   │ (<span style=\"color: #00d7ff; text-decoration-color: #00d7ff\">None</span>, <span style=\"color: #00af00; text-decoration-color: #00af00\">1</span>)              │            <span style=\"color: #00af00; text-decoration-color: #00af00\">51</span> │\n",
       "└─────────────────────────────────┴────────────────────────┴───────────────┘\n",
       "</pre>\n"
      ],
      "text/plain": [
       "┏━━━━━━━━━━━━━━━━━━━━━━━━━━━━━━━━━┳━━━━━━━━━━━━━━━━━━━━━━━━┳━━━━━━━━━━━━━━━┓\n",
       "┃\u001b[1m \u001b[0m\u001b[1mLayer (type)                   \u001b[0m\u001b[1m \u001b[0m┃\u001b[1m \u001b[0m\u001b[1mOutput Shape          \u001b[0m\u001b[1m \u001b[0m┃\u001b[1m \u001b[0m\u001b[1m      Param #\u001b[0m\u001b[1m \u001b[0m┃\n",
       "┡━━━━━━━━━━━━━━━━━━━━━━━━━━━━━━━━━╇━━━━━━━━━━━━━━━━━━━━━━━━╇━━━━━━━━━━━━━━━┩\n",
       "│ lstm (\u001b[38;5;33mLSTM\u001b[0m)                     │ (\u001b[38;5;45mNone\u001b[0m, \u001b[38;5;34m50\u001b[0m)             │        \u001b[38;5;34m14,200\u001b[0m │\n",
       "├─────────────────────────────────┼────────────────────────┼───────────────┤\n",
       "│ dropout (\u001b[38;5;33mDropout\u001b[0m)               │ (\u001b[38;5;45mNone\u001b[0m, \u001b[38;5;34m50\u001b[0m)             │             \u001b[38;5;34m0\u001b[0m │\n",
       "├─────────────────────────────────┼────────────────────────┼───────────────┤\n",
       "│ dense (\u001b[38;5;33mDense\u001b[0m)                   │ (\u001b[38;5;45mNone\u001b[0m, \u001b[38;5;34m1\u001b[0m)              │            \u001b[38;5;34m51\u001b[0m │\n",
       "└─────────────────────────────────┴────────────────────────┴───────────────┘\n"
      ]
     },
     "metadata": {},
     "output_type": "display_data"
    },
    {
     "data": {
      "text/html": [
       "<pre style=\"white-space:pre;overflow-x:auto;line-height:normal;font-family:Menlo,'DejaVu Sans Mono',consolas,'Courier New',monospace\"><span style=\"font-weight: bold\"> Total params: </span><span style=\"color: #00af00; text-decoration-color: #00af00\">14,251</span> (55.67 KB)\n",
       "</pre>\n"
      ],
      "text/plain": [
       "\u001b[1m Total params: \u001b[0m\u001b[38;5;34m14,251\u001b[0m (55.67 KB)\n"
      ]
     },
     "metadata": {},
     "output_type": "display_data"
    },
    {
     "data": {
      "text/html": [
       "<pre style=\"white-space:pre;overflow-x:auto;line-height:normal;font-family:Menlo,'DejaVu Sans Mono',consolas,'Courier New',monospace\"><span style=\"font-weight: bold\"> Trainable params: </span><span style=\"color: #00af00; text-decoration-color: #00af00\">14,251</span> (55.67 KB)\n",
       "</pre>\n"
      ],
      "text/plain": [
       "\u001b[1m Trainable params: \u001b[0m\u001b[38;5;34m14,251\u001b[0m (55.67 KB)\n"
      ]
     },
     "metadata": {},
     "output_type": "display_data"
    },
    {
     "data": {
      "text/html": [
       "<pre style=\"white-space:pre;overflow-x:auto;line-height:normal;font-family:Menlo,'DejaVu Sans Mono',consolas,'Courier New',monospace\"><span style=\"font-weight: bold\"> Non-trainable params: </span><span style=\"color: #00af00; text-decoration-color: #00af00\">0</span> (0.00 B)\n",
       "</pre>\n"
      ],
      "text/plain": [
       "\u001b[1m Non-trainable params: \u001b[0m\u001b[38;5;34m0\u001b[0m (0.00 B)\n"
      ]
     },
     "metadata": {},
     "output_type": "display_data"
    }
   ],
   "source": [
    "model.summary()"
   ]
  },
  {
   "cell_type": "code",
   "execution_count": 40,
   "id": "32b7fc9c",
   "metadata": {
    "execution": {
     "iopub.execute_input": "2024-10-09T07:53:33.930454Z",
     "iopub.status.busy": "2024-10-09T07:53:33.929411Z",
     "iopub.status.idle": "2024-10-09T07:53:33.944817Z",
     "shell.execute_reply": "2024-10-09T07:53:33.943708Z"
    },
    "id": "NE6_O7IwclkT",
    "papermill": {
     "duration": 0.035542,
     "end_time": "2024-10-09T07:53:33.947292",
     "exception": false,
     "start_time": "2024-10-09T07:53:33.911750",
     "status": "completed"
    },
    "tags": []
   },
   "outputs": [],
   "source": [
    "model.compile(loss='mean_squared_error', optimizer='adam')"
   ]
  },
  {
   "cell_type": "code",
   "execution_count": 41,
   "id": "1b93b598",
   "metadata": {
    "execution": {
     "iopub.execute_input": "2024-10-09T07:53:33.982416Z",
     "iopub.status.busy": "2024-10-09T07:53:33.981573Z",
     "iopub.status.idle": "2024-10-09T07:53:33.987102Z",
     "shell.execute_reply": "2024-10-09T07:53:33.986010Z"
    },
    "id": "JLqjYZudc3Is",
    "papermill": {
     "duration": 0.025719,
     "end_time": "2024-10-09T07:53:33.989371",
     "exception": false,
     "start_time": "2024-10-09T07:53:33.963652",
     "status": "completed"
    },
    "tags": []
   },
   "outputs": [],
   "source": [
    "callbacks = (EarlyStopping(monitor='val_loss', patience=10, verbose=1, mode='min'),\n",
    "            ModelCheckpoint(filepath='mymodel.keras', monitor='val_loss', mode='min',\n",
    "            save_best_only = True, save_weights_only = False, verbose = 1))"
   ]
  },
  {
   "cell_type": "code",
   "execution_count": 42,
   "id": "659bb3e0",
   "metadata": {
    "execution": {
     "iopub.execute_input": "2024-10-09T07:53:34.025011Z",
     "iopub.status.busy": "2024-10-09T07:53:34.023795Z",
     "iopub.status.idle": "2024-10-09T07:53:42.028830Z",
     "shell.execute_reply": "2024-10-09T07:53:42.027720Z"
    },
    "id": "7Pv-Fb9FdSf7",
    "papermill": {
     "duration": 8.025712,
     "end_time": "2024-10-09T07:53:42.031458",
     "exception": false,
     "start_time": "2024-10-09T07:53:34.005746",
     "status": "completed"
    },
    "tags": []
   },
   "outputs": [
    {
     "name": "stdout",
     "output_type": "stream",
     "text": [
      "Epoch 1/100\n",
      "\u001b[1m81/96\u001b[0m \u001b[32m━━━━━━━━━━━━━━━━\u001b[0m\u001b[37m━━━━\u001b[0m \u001b[1m0s\u001b[0m 2ms/step - loss: 0.0030\n",
      "Epoch 1: val_loss improved from inf to 0.00420, saving model to mymodel.keras\n",
      "\u001b[1m96/96\u001b[0m \u001b[32m━━━━━━━━━━━━━━━━━━━━\u001b[0m\u001b[37m\u001b[0m \u001b[1m2s\u001b[0m 6ms/step - loss: 0.0036 - val_loss: 0.0042\n",
      "Epoch 2/100\n",
      "\u001b[1m82/96\u001b[0m \u001b[32m━━━━━━━━━━━━━━━━━\u001b[0m\u001b[37m━━━\u001b[0m \u001b[1m0s\u001b[0m 2ms/step - loss: 0.0037\n",
      "Epoch 2: val_loss improved from 0.00420 to 0.00357, saving model to mymodel.keras\n",
      "\u001b[1m96/96\u001b[0m \u001b[32m━━━━━━━━━━━━━━━━━━━━\u001b[0m\u001b[37m\u001b[0m \u001b[1m0s\u001b[0m 3ms/step - loss: 0.0040 - val_loss: 0.0036\n",
      "Epoch 3/100\n",
      "\u001b[1m74/96\u001b[0m \u001b[32m━━━━━━━━━━━━━━━\u001b[0m\u001b[37m━━━━━\u001b[0m \u001b[1m0s\u001b[0m 2ms/step - loss: 0.0020\n",
      "Epoch 3: val_loss improved from 0.00357 to 0.00324, saving model to mymodel.keras\n",
      "\u001b[1m96/96\u001b[0m \u001b[32m━━━━━━━━━━━━━━━━━━━━\u001b[0m\u001b[37m\u001b[0m \u001b[1m0s\u001b[0m 3ms/step - loss: 0.0026 - val_loss: 0.0032\n",
      "Epoch 4/100\n",
      "\u001b[1m76/96\u001b[0m \u001b[32m━━━━━━━━━━━━━━━\u001b[0m\u001b[37m━━━━━\u001b[0m \u001b[1m0s\u001b[0m 2ms/step - loss: 0.0016\n",
      "Epoch 4: val_loss improved from 0.00324 to 0.00313, saving model to mymodel.keras\n",
      "\u001b[1m96/96\u001b[0m \u001b[32m━━━━━━━━━━━━━━━━━━━━\u001b[0m\u001b[37m\u001b[0m \u001b[1m0s\u001b[0m 3ms/step - loss: 0.0021 - val_loss: 0.0031\n",
      "Epoch 5/100\n",
      "\u001b[1m84/96\u001b[0m \u001b[32m━━━━━━━━━━━━━━━━━\u001b[0m\u001b[37m━━━\u001b[0m \u001b[1m0s\u001b[0m 2ms/step - loss: 0.0013    \n",
      "Epoch 5: val_loss did not improve from 0.00313\n",
      "\u001b[1m96/96\u001b[0m \u001b[32m━━━━━━━━━━━━━━━━━━━━\u001b[0m\u001b[37m\u001b[0m \u001b[1m0s\u001b[0m 2ms/step - loss: 0.0016 - val_loss: 0.0031\n",
      "Epoch 6/100\n",
      "\u001b[1m85/96\u001b[0m \u001b[32m━━━━━━━━━━━━━━━━━\u001b[0m\u001b[37m━━━\u001b[0m \u001b[1m0s\u001b[0m 2ms/step - loss: 0.0012    \n",
      "Epoch 6: val_loss improved from 0.00313 to 0.00278, saving model to mymodel.keras\n",
      "\u001b[1m96/96\u001b[0m \u001b[32m━━━━━━━━━━━━━━━━━━━━\u001b[0m\u001b[37m\u001b[0m \u001b[1m0s\u001b[0m 3ms/step - loss: 0.0015 - val_loss: 0.0028\n",
      "Epoch 7/100\n",
      "\u001b[1m79/96\u001b[0m \u001b[32m━━━━━━━━━━━━━━━━\u001b[0m\u001b[37m━━━━\u001b[0m \u001b[1m0s\u001b[0m 2ms/step - loss: 0.0013    \n",
      "Epoch 7: val_loss did not improve from 0.00278\n",
      "\u001b[1m96/96\u001b[0m \u001b[32m━━━━━━━━━━━━━━━━━━━━\u001b[0m\u001b[37m\u001b[0m \u001b[1m0s\u001b[0m 2ms/step - loss: 0.0017 - val_loss: 0.0028\n",
      "Epoch 8/100\n",
      "\u001b[1m76/96\u001b[0m \u001b[32m━━━━━━━━━━━━━━━\u001b[0m\u001b[37m━━━━━\u001b[0m \u001b[1m0s\u001b[0m 2ms/step - loss: 0.0011    \n",
      "Epoch 8: val_loss improved from 0.00278 to 0.00244, saving model to mymodel.keras\n",
      "\u001b[1m96/96\u001b[0m \u001b[32m━━━━━━━━━━━━━━━━━━━━\u001b[0m\u001b[37m\u001b[0m \u001b[1m0s\u001b[0m 3ms/step - loss: 0.0015 - val_loss: 0.0024\n",
      "Epoch 9/100\n",
      "\u001b[1m72/96\u001b[0m \u001b[32m━━━━━━━━━━━━━━━\u001b[0m\u001b[37m━━━━━\u001b[0m \u001b[1m0s\u001b[0m 2ms/step - loss: 0.0011    \n",
      "Epoch 9: val_loss did not improve from 0.00244\n",
      "\u001b[1m96/96\u001b[0m \u001b[32m━━━━━━━━━━━━━━━━━━━━\u001b[0m\u001b[37m\u001b[0m \u001b[1m0s\u001b[0m 3ms/step - loss: 0.0016 - val_loss: 0.0025\n",
      "Epoch 10/100\n",
      "\u001b[1m81/96\u001b[0m \u001b[32m━━━━━━━━━━━━━━━━\u001b[0m\u001b[37m━━━━\u001b[0m \u001b[1m0s\u001b[0m 2ms/step - loss: 0.0013    \n",
      "Epoch 10: val_loss improved from 0.00244 to 0.00234, saving model to mymodel.keras\n",
      "\u001b[1m96/96\u001b[0m \u001b[32m━━━━━━━━━━━━━━━━━━━━\u001b[0m\u001b[37m\u001b[0m \u001b[1m0s\u001b[0m 3ms/step - loss: 0.0016 - val_loss: 0.0023\n",
      "Epoch 11/100\n",
      "\u001b[1m78/96\u001b[0m \u001b[32m━━━━━━━━━━━━━━━━\u001b[0m\u001b[37m━━━━\u001b[0m \u001b[1m0s\u001b[0m 2ms/step - loss: 0.0012    \n",
      "Epoch 11: val_loss improved from 0.00234 to 0.00217, saving model to mymodel.keras\n",
      "\u001b[1m96/96\u001b[0m \u001b[32m━━━━━━━━━━━━━━━━━━━━\u001b[0m\u001b[37m\u001b[0m \u001b[1m0s\u001b[0m 3ms/step - loss: 0.0015 - val_loss: 0.0022\n",
      "Epoch 12/100\n",
      "\u001b[1m87/96\u001b[0m \u001b[32m━━━━━━━━━━━━━━━━━━\u001b[0m\u001b[37m━━\u001b[0m \u001b[1m0s\u001b[0m 2ms/step - loss: 0.0014    \n",
      "Epoch 12: val_loss did not improve from 0.00217\n",
      "\u001b[1m96/96\u001b[0m \u001b[32m━━━━━━━━━━━━━━━━━━━━\u001b[0m\u001b[37m\u001b[0m \u001b[1m0s\u001b[0m 2ms/step - loss: 0.0016 - val_loss: 0.0023\n",
      "Epoch 13/100\n",
      "\u001b[1m83/96\u001b[0m \u001b[32m━━━━━━━━━━━━━━━━━\u001b[0m\u001b[37m━━━\u001b[0m \u001b[1m0s\u001b[0m 2ms/step - loss: 0.0015\n",
      "Epoch 13: val_loss did not improve from 0.00217\n",
      "\u001b[1m96/96\u001b[0m \u001b[32m━━━━━━━━━━━━━━━━━━━━\u001b[0m\u001b[37m\u001b[0m \u001b[1m0s\u001b[0m 2ms/step - loss: 0.0017 - val_loss: 0.0022\n",
      "Epoch 14/100\n",
      "\u001b[1m81/96\u001b[0m \u001b[32m━━━━━━━━━━━━━━━━\u001b[0m\u001b[37m━━━━\u001b[0m \u001b[1m0s\u001b[0m 2ms/step - loss: 0.0014    \n",
      "Epoch 14: val_loss did not improve from 0.00217\n",
      "\u001b[1m96/96\u001b[0m \u001b[32m━━━━━━━━━━━━━━━━━━━━\u001b[0m\u001b[37m\u001b[0m \u001b[1m0s\u001b[0m 2ms/step - loss: 0.0017 - val_loss: 0.0025\n",
      "Epoch 15/100\n",
      "\u001b[1m78/96\u001b[0m \u001b[32m━━━━━━━━━━━━━━━━\u001b[0m\u001b[37m━━━━\u001b[0m \u001b[1m0s\u001b[0m 2ms/step - loss: 0.0014\n",
      "Epoch 15: val_loss did not improve from 0.00217\n",
      "\u001b[1m96/96\u001b[0m \u001b[32m━━━━━━━━━━━━━━━━━━━━\u001b[0m\u001b[37m\u001b[0m \u001b[1m0s\u001b[0m 3ms/step - loss: 0.0017 - val_loss: 0.0026\n",
      "Epoch 16/100\n",
      "\u001b[1m81/96\u001b[0m \u001b[32m━━━━━━━━━━━━━━━━\u001b[0m\u001b[37m━━━━\u001b[0m \u001b[1m0s\u001b[0m 2ms/step - loss: 0.0014    \n",
      "Epoch 16: val_loss did not improve from 0.00217\n",
      "\u001b[1m96/96\u001b[0m \u001b[32m━━━━━━━━━━━━━━━━━━━━\u001b[0m\u001b[37m\u001b[0m \u001b[1m0s\u001b[0m 2ms/step - loss: 0.0017 - val_loss: 0.0022\n",
      "Epoch 17/100\n",
      "\u001b[1m78/96\u001b[0m \u001b[32m━━━━━━━━━━━━━━━━\u001b[0m\u001b[37m━━━━\u001b[0m \u001b[1m0s\u001b[0m 2ms/step - loss: 0.0013    \n",
      "Epoch 17: val_loss did not improve from 0.00217\n",
      "\u001b[1m96/96\u001b[0m \u001b[32m━━━━━━━━━━━━━━━━━━━━\u001b[0m\u001b[37m\u001b[0m \u001b[1m0s\u001b[0m 2ms/step - loss: 0.0016 - val_loss: 0.0032\n",
      "Epoch 18/100\n",
      "\u001b[1m81/96\u001b[0m \u001b[32m━━━━━━━━━━━━━━━━\u001b[0m\u001b[37m━━━━\u001b[0m \u001b[1m0s\u001b[0m 2ms/step - loss: 0.0018\n",
      "Epoch 18: val_loss did not improve from 0.00217\n",
      "\u001b[1m96/96\u001b[0m \u001b[32m━━━━━━━━━━━━━━━━━━━━\u001b[0m\u001b[37m\u001b[0m \u001b[1m0s\u001b[0m 2ms/step - loss: 0.0021 - val_loss: 0.0061\n",
      "Epoch 19/100\n",
      "\u001b[1m79/96\u001b[0m \u001b[32m━━━━━━━━━━━━━━━━\u001b[0m\u001b[37m━━━━\u001b[0m \u001b[1m0s\u001b[0m 2ms/step - loss: 0.0020\n",
      "Epoch 19: val_loss did not improve from 0.00217\n",
      "\u001b[1m96/96\u001b[0m \u001b[32m━━━━━━━━━━━━━━━━━━━━\u001b[0m\u001b[37m\u001b[0m \u001b[1m0s\u001b[0m 2ms/step - loss: 0.0023 - val_loss: 0.0045\n",
      "Epoch 20/100\n",
      "\u001b[1m96/96\u001b[0m \u001b[32m━━━━━━━━━━━━━━━━━━━━\u001b[0m\u001b[37m\u001b[0m \u001b[1m0s\u001b[0m 2ms/step - loss: 0.0020\n",
      "Epoch 20: val_loss did not improve from 0.00217\n",
      "\u001b[1m96/96\u001b[0m \u001b[32m━━━━━━━━━━━━━━━━━━━━\u001b[0m\u001b[37m\u001b[0m \u001b[1m0s\u001b[0m 3ms/step - loss: 0.0021 - val_loss: 0.0050\n",
      "Epoch 21/100\n",
      "\u001b[1m78/96\u001b[0m \u001b[32m━━━━━━━━━━━━━━━━\u001b[0m\u001b[37m━━━━\u001b[0m \u001b[1m0s\u001b[0m 2ms/step - loss: 0.0017\n",
      "Epoch 21: val_loss did not improve from 0.00217\n",
      "\u001b[1m96/96\u001b[0m \u001b[32m━━━━━━━━━━━━━━━━━━━━\u001b[0m\u001b[37m\u001b[0m \u001b[1m0s\u001b[0m 3ms/step - loss: 0.0021 - val_loss: 0.0072\n",
      "Epoch 21: early stopping\n"
     ]
    }
   ],
   "source": [
    "history = model.fit(x=X_train,\n",
    "                    y=y_train,\n",
    "                    epochs=100,\n",
    "                    batch_size=20,\n",
    "                    validation_data=(X_test, y_test),\n",
    "                    callbacks=[callbacks],\n",
    "                    shuffle=False)"
   ]
  },
  {
   "cell_type": "code",
   "execution_count": 43,
   "id": "f9d3d6a1",
   "metadata": {
    "execution": {
     "iopub.execute_input": "2024-10-09T07:53:42.087846Z",
     "iopub.status.busy": "2024-10-09T07:53:42.087424Z",
     "iopub.status.idle": "2024-10-09T07:53:42.410194Z",
     "shell.execute_reply": "2024-10-09T07:53:42.408888Z"
    },
    "id": "VzxR8n1yeGpV",
    "papermill": {
     "duration": 0.353842,
     "end_time": "2024-10-09T07:53:42.412756",
     "exception": false,
     "start_time": "2024-10-09T07:53:42.058914",
     "status": "completed"
    },
    "tags": []
   },
   "outputs": [
    {
     "data": {
      "image/png": "[encoded data removed]",
      "text/plain": [
       "<Figure size 2000x500 with 1 Axes>"
      ]
     },
     "metadata": {},
     "output_type": "display_data"
    }
   ],
   "source": [
    "plt.figure(figsize=(20,5))\n",
    "plt.subplot(1,2,1)\n",
    "plt.plot(history.history['loss'], label='Training Loss')\n",
    "plt.plot(history.history['val_loss'], label='Validation Loss')\n",
    "plt.legend(loc='upper right')\n",
    "plt.xlabel('Epoch', fontsize = 16)\n",
    "plt.ylabel('Loss', fontsize = 16)\n",
    "plt.ylim([0,max(plt.ylim())])\n",
    "plt.title('Training and Validation Loss', fontsize = 16)\n",
    "plt.show()"
   ]
  },
  {
   "cell_type": "markdown",
   "id": "47e1cedb",
   "metadata": {
    "id": "XO0NGWQWerLU",
    "papermill": {
     "duration": 0.027367,
     "end_time": "2024-10-09T07:53:42.468002",
     "exception": false,
     "start_time": "2024-10-09T07:53:42.440635",
     "status": "completed"
    },
    "tags": []
   },
   "source": [
    "## Evaluation"
   ]
  },
  {
   "cell_type": "code",
   "execution_count": 44,
   "id": "64fb48f3",
   "metadata": {
    "execution": {
     "iopub.execute_input": "2024-10-09T07:53:42.523960Z",
     "iopub.status.busy": "2024-10-09T07:53:42.522835Z",
     "iopub.status.idle": "2024-10-09T07:53:43.110691Z",
     "shell.execute_reply": "2024-10-09T07:53:43.109481Z"
    },
    "id": "hyeoNUjxetH-",
    "papermill": {
     "duration": 0.61824,
     "end_time": "2024-10-09T07:53:43.112970",
     "exception": false,
     "start_time": "2024-10-09T07:53:42.494730",
     "status": "completed"
    },
    "tags": []
   },
   "outputs": [
    {
     "name": "stdout",
     "output_type": "stream",
     "text": [
      "\u001b[1m463/463\u001b[0m \u001b[32m━━━━━━━━━━━━━━━━━━━━\u001b[0m\u001b[37m\u001b[0m \u001b[1m1s\u001b[0m 1ms/step - loss: 0.0084\n",
      "\n",
      "Test Loss: 0.7%\n"
     ]
    }
   ],
   "source": [
    "loss = model.evaluate(X_test, y_test, batch_size=1)\n",
    "print(\"\\nTest Loss: %.1f%%\" % (100.0 * loss))"
   ]
  },
  {
   "cell_type": "code",
   "execution_count": 45,
   "id": "cbc3638e",
   "metadata": {
    "execution": {
     "iopub.execute_input": "2024-10-09T07:53:43.170633Z",
     "iopub.status.busy": "2024-10-09T07:53:43.169529Z",
     "iopub.status.idle": "2024-10-09T07:53:43.657354Z",
     "shell.execute_reply": "2024-10-09T07:53:43.656205Z"
    },
    "id": "9e854j_NfFTV",
    "papermill": {
     "duration": 0.519349,
     "end_time": "2024-10-09T07:53:43.660007",
     "exception": false,
     "start_time": "2024-10-09T07:53:43.140658",
     "status": "completed"
    },
    "tags": []
   },
   "outputs": [
    {
     "name": "stdout",
     "output_type": "stream",
     "text": [
      "\u001b[1m60/60\u001b[0m \u001b[32m━━━━━━━━━━━━━━━━━━━━\u001b[0m\u001b[37m\u001b[0m \u001b[1m0s\u001b[0m 4ms/step\n"
     ]
    }
   ],
   "source": [
    "train_predict = model.predict(X_train)"
   ]
  },
  {
   "cell_type": "code",
   "execution_count": 46,
   "id": "0a3f6f97",
   "metadata": {
    "execution": {
     "iopub.execute_input": "2024-10-09T07:53:43.720707Z",
     "iopub.status.busy": "2024-10-09T07:53:43.719604Z",
     "iopub.status.idle": "2024-10-09T07:53:43.822714Z",
     "shell.execute_reply": "2024-10-09T07:53:43.821654Z"
    },
    "id": "GZgJuMd-fqZW",
    "papermill": {
     "duration": 0.135171,
     "end_time": "2024-10-09T07:53:43.825111",
     "exception": false,
     "start_time": "2024-10-09T07:53:43.689940",
     "status": "completed"
    },
    "tags": []
   },
   "outputs": [
    {
     "name": "stdout",
     "output_type": "stream",
     "text": [
      "\u001b[1m15/15\u001b[0m \u001b[32m━━━━━━━━━━━━━━━━━━━━\u001b[0m\u001b[37m\u001b[0m \u001b[1m0s\u001b[0m 1ms/step \n"
     ]
    }
   ],
   "source": [
    "test_predict = model.predict(X_test)"
   ]
  },
  {
   "cell_type": "code",
   "execution_count": 47,
   "id": "53c8c9fe",
   "metadata": {
    "execution": {
     "iopub.execute_input": "2024-10-09T07:53:43.882808Z",
     "iopub.status.busy": "2024-10-09T07:53:43.882373Z",
     "iopub.status.idle": "2024-10-09T07:53:43.888422Z",
     "shell.execute_reply": "2024-10-09T07:53:43.887168Z"
    },
    "id": "FcH_8U3tfsGm",
    "papermill": {
     "duration": 0.037603,
     "end_time": "2024-10-09T07:53:43.890649",
     "exception": false,
     "start_time": "2024-10-09T07:53:43.853046",
     "status": "completed"
    },
    "tags": []
   },
   "outputs": [],
   "source": [
    "train_predict = scaler_train.inverse_transform(train_predict)\n",
    "test_predict = scaler_test.inverse_transform(test_predict)"
   ]
  },
  {
   "cell_type": "code",
   "execution_count": 48,
   "id": "25ddaf11",
   "metadata": {
    "execution": {
     "iopub.execute_input": "2024-10-09T07:53:43.948589Z",
     "iopub.status.busy": "2024-10-09T07:53:43.947725Z",
     "iopub.status.idle": "2024-10-09T07:53:43.953330Z",
     "shell.execute_reply": "2024-10-09T07:53:43.952216Z"
    },
    "id": "DsGDu-NKf912",
    "papermill": {
     "duration": 0.036965,
     "end_time": "2024-10-09T07:53:43.955504",
     "exception": false,
     "start_time": "2024-10-09T07:53:43.918539",
     "status": "completed"
    },
    "tags": []
   },
   "outputs": [],
   "source": [
    "y_train = scaler_train.inverse_transform(y_train)\n",
    "y_test = scaler_test.inverse_transform(y_test)"
   ]
  },
  {
   "cell_type": "code",
   "execution_count": 49,
   "id": "8108c2c9",
   "metadata": {
    "execution": {
     "iopub.execute_input": "2024-10-09T07:53:44.013639Z",
     "iopub.status.busy": "2024-10-09T07:53:44.012793Z",
     "iopub.status.idle": "2024-10-09T07:53:44.019119Z",
     "shell.execute_reply": "2024-10-09T07:53:44.017762Z"
    },
    "id": "ZLXqwAU7gGW2",
    "papermill": {
     "duration": 0.038052,
     "end_time": "2024-10-09T07:53:44.021374",
     "exception": false,
     "start_time": "2024-10-09T07:53:43.983322",
     "status": "completed"
    },
    "tags": []
   },
   "outputs": [],
   "source": [
    "train_rmse = np.sqrt(mean_squared_error(y_train, train_predict))"
   ]
  },
  {
   "cell_type": "code",
   "execution_count": 50,
   "id": "27fbe60e",
   "metadata": {
    "execution": {
     "iopub.execute_input": "2024-10-09T07:53:44.079408Z",
     "iopub.status.busy": "2024-10-09T07:53:44.078522Z",
     "iopub.status.idle": "2024-10-09T07:53:44.084444Z",
     "shell.execute_reply": "2024-10-09T07:53:44.083343Z"
    },
    "id": "76WbnJaIgJ4g",
    "papermill": {
     "duration": 0.037657,
     "end_time": "2024-10-09T07:53:44.086879",
     "exception": false,
     "start_time": "2024-10-09T07:53:44.049222",
     "status": "completed"
    },
    "tags": []
   },
   "outputs": [],
   "source": [
    "test_rmse = np.sqrt(mean_squared_error(y_test, test_predict))"
   ]
  },
  {
   "cell_type": "code",
   "execution_count": 51,
   "id": "6140bb99",
   "metadata": {
    "execution": {
     "iopub.execute_input": "2024-10-09T07:53:44.145032Z",
     "iopub.status.busy": "2024-10-09T07:53:44.144219Z",
     "iopub.status.idle": "2024-10-09T07:53:44.149900Z",
     "shell.execute_reply": "2024-10-09T07:53:44.148804Z"
    },
    "id": "WcUBQBz7gMV2",
    "papermill": {
     "duration": 0.036847,
     "end_time": "2024-10-09T07:53:44.151989",
     "exception": false,
     "start_time": "2024-10-09T07:53:44.115142",
     "status": "completed"
    },
    "tags": []
   },
   "outputs": [
    {
     "name": "stdout",
     "output_type": "stream",
     "text": [
      "Train RMSE: 25.787561416625977\n",
      "Test RMSE: 51.14130401611328\n"
     ]
    }
   ],
   "source": [
    "print(f\"Train RMSE: {train_rmse}\")\n",
    "print(f\"Test RMSE: {test_rmse}\")"
   ]
  },
  {
   "cell_type": "code",
   "execution_count": 52,
   "id": "d78194b7",
   "metadata": {
    "execution": {
     "iopub.execute_input": "2024-10-09T07:53:44.210512Z",
     "iopub.status.busy": "2024-10-09T07:53:44.209383Z",
     "iopub.status.idle": "2024-10-09T07:53:44.243841Z",
     "shell.execute_reply": "2024-10-09T07:53:44.242659Z"
    },
    "id": "t_llof9mgYz_",
    "papermill": {
     "duration": 0.066231,
     "end_time": "2024-10-09T07:53:44.246491",
     "exception": false,
     "start_time": "2024-10-09T07:53:44.180260",
     "status": "completed"
    },
    "tags": []
   },
   "outputs": [
    {
     "data": {
      "text/html": [
       "<div>\n",
       "<style scoped>\n",
       "    .dataframe tbody tr th:only-of-type {\n",
       "        vertical-align: middle;\n",
       "    }\n",
       "\n",
       "    .dataframe tbody tr th {\n",
       "        vertical-align: top;\n",
       "    }\n",
       "\n",
       "    .dataframe thead th {\n",
       "        text-align: right;\n",
       "    }\n",
       "</style>\n",
       "<table border=\"1\" class=\"dataframe\">\n",
       "  <thead>\n",
       "    <tr style=\"text-align: right;\">\n",
       "      <th></th>\n",
       "      <th>count</th>\n",
       "      <th>mean</th>\n",
       "      <th>min</th>\n",
       "      <th>25%</th>\n",
       "      <th>50%</th>\n",
       "      <th>75%</th>\n",
       "      <th>max</th>\n",
       "      <th>std</th>\n",
       "    </tr>\n",
       "  </thead>\n",
       "  <tbody>\n",
       "    <tr>\n",
       "      <th>Date</th>\n",
       "      <td>2416</td>\n",
       "      <td>2015-04-15 11:09:56.026490112</td>\n",
       "      <td>2010-06-29 00:00:00</td>\n",
       "      <td>2012-11-19 18:00:00</td>\n",
       "      <td>2015-04-16 12:00:00</td>\n",
       "      <td>2017-09-07 06:00:00</td>\n",
       "      <td>2020-02-03 00:00:00</td>\n",
       "      <td>NaN</td>\n",
       "    </tr>\n",
       "    <tr>\n",
       "      <th>Open</th>\n",
       "      <td>2416.0</td>\n",
       "      <td>186.271147</td>\n",
       "      <td>16.139999</td>\n",
       "      <td>34.342498</td>\n",
       "      <td>213.035004</td>\n",
       "      <td>266.450012</td>\n",
       "      <td>673.690002</td>\n",
       "      <td>118.740163</td>\n",
       "    </tr>\n",
       "    <tr>\n",
       "      <th>High</th>\n",
       "      <td>2416.0</td>\n",
       "      <td>189.578224</td>\n",
       "      <td>16.629999</td>\n",
       "      <td>34.897501</td>\n",
       "      <td>216.745002</td>\n",
       "      <td>270.927513</td>\n",
       "      <td>786.140015</td>\n",
       "      <td>120.892329</td>\n",
       "    </tr>\n",
       "    <tr>\n",
       "      <th>Low</th>\n",
       "      <td>2416.0</td>\n",
       "      <td>182.916639</td>\n",
       "      <td>14.98</td>\n",
       "      <td>33.587501</td>\n",
       "      <td>208.870002</td>\n",
       "      <td>262.102501</td>\n",
       "      <td>673.52002</td>\n",
       "      <td>116.857591</td>\n",
       "    </tr>\n",
       "    <tr>\n",
       "      <th>Close</th>\n",
       "      <td>2416.0</td>\n",
       "      <td>186.403651</td>\n",
       "      <td>15.8</td>\n",
       "      <td>34.400002</td>\n",
       "      <td>212.960007</td>\n",
       "      <td>266.774994</td>\n",
       "      <td>780.0</td>\n",
       "      <td>119.13602</td>\n",
       "    </tr>\n",
       "    <tr>\n",
       "      <th>Adj Close</th>\n",
       "      <td>2416.0</td>\n",
       "      <td>186.403651</td>\n",
       "      <td>15.8</td>\n",
       "      <td>34.400002</td>\n",
       "      <td>212.960007</td>\n",
       "      <td>266.774994</td>\n",
       "      <td>780.0</td>\n",
       "      <td>119.13602</td>\n",
       "    </tr>\n",
       "    <tr>\n",
       "      <th>Volume</th>\n",
       "      <td>2416.0</td>\n",
       "      <td>5572721.688742</td>\n",
       "      <td>118500.0</td>\n",
       "      <td>1899275.0</td>\n",
       "      <td>4578400.0</td>\n",
       "      <td>7361150.0</td>\n",
       "      <td>47065000.0</td>\n",
       "      <td>4987809.151888</td>\n",
       "    </tr>\n",
       "  </tbody>\n",
       "</table>\n",
       "</div>"
      ],
      "text/plain": [
       "            count                           mean                  min  \\\n",
       "Date         2416  2015-04-15 11:09:56.026490112  2010-06-29 00:00:00   \n",
       "Open       2416.0                     186.271147            16.139999   \n",
       "High       2416.0                     189.578224            16.629999   \n",
       "Low        2416.0                     182.916639                14.98   \n",
       "Close      2416.0                     186.403651                 15.8   \n",
       "Adj Close  2416.0                     186.403651                 15.8   \n",
       "Volume     2416.0                 5572721.688742             118500.0   \n",
       "\n",
       "                           25%                  50%                  75%  \\\n",
       "Date       2012-11-19 18:00:00  2015-04-16 12:00:00  2017-09-07 06:00:00   \n",
       "Open                 34.342498           213.035004           266.450012   \n",
       "High                 34.897501           216.745002           270.927513   \n",
       "Low                  33.587501           208.870002           262.102501   \n",
       "Close                34.400002           212.960007           266.774994   \n",
       "Adj Close            34.400002           212.960007           266.774994   \n",
       "Volume               1899275.0            4578400.0            7361150.0   \n",
       "\n",
       "                           max             std  \n",
       "Date       2020-02-03 00:00:00             NaN  \n",
       "Open                673.690002      118.740163  \n",
       "High                786.140015      120.892329  \n",
       "Low                  673.52002      116.857591  \n",
       "Close                    780.0       119.13602  \n",
       "Adj Close                780.0       119.13602  \n",
       "Volume              47065000.0  4987809.151888  "
      ]
     },
     "execution_count": 52,
     "metadata": {},
     "output_type": "execute_result"
    }
   ],
   "source": [
    "df.describe().T"
   ]
  },
  {
   "cell_type": "code",
   "execution_count": 53,
   "id": "039fb84e",
   "metadata": {
    "execution": {
     "iopub.execute_input": "2024-10-09T07:53:44.306692Z",
     "iopub.status.busy": "2024-10-09T07:53:44.305448Z",
     "iopub.status.idle": "2024-10-09T07:53:44.318762Z",
     "shell.execute_reply": "2024-10-09T07:53:44.317550Z"
    },
    "id": "-PSGVpMzgz1O",
    "papermill": {
     "duration": 0.045492,
     "end_time": "2024-10-09T07:53:44.321109",
     "exception": false,
     "start_time": "2024-10-09T07:53:44.275617",
     "status": "completed"
    },
    "tags": []
   },
   "outputs": [
    {
     "data": {
      "text/html": [
       "<div>\n",
       "<style scoped>\n",
       "    .dataframe tbody tr th:only-of-type {\n",
       "        vertical-align: middle;\n",
       "    }\n",
       "\n",
       "    .dataframe tbody tr th {\n",
       "        vertical-align: top;\n",
       "    }\n",
       "\n",
       "    .dataframe thead th {\n",
       "        text-align: right;\n",
       "    }\n",
       "</style>\n",
       "<table border=\"1\" class=\"dataframe\">\n",
       "  <thead>\n",
       "    <tr style=\"text-align: right;\">\n",
       "      <th></th>\n",
       "      <th>Close</th>\n",
       "      <th>Predicted</th>\n",
       "    </tr>\n",
       "    <tr>\n",
       "      <th>Date</th>\n",
       "      <th></th>\n",
       "      <th></th>\n",
       "    </tr>\n",
       "  </thead>\n",
       "  <tbody>\n",
       "    <tr>\n",
       "      <th>2010-07-28</th>\n",
       "      <td>20.719999</td>\n",
       "      <td>39.541817</td>\n",
       "    </tr>\n",
       "    <tr>\n",
       "      <th>2010-07-29</th>\n",
       "      <td>20.350000</td>\n",
       "      <td>39.541817</td>\n",
       "    </tr>\n",
       "    <tr>\n",
       "      <th>2010-07-30</th>\n",
       "      <td>19.940001</td>\n",
       "      <td>39.541817</td>\n",
       "    </tr>\n",
       "    <tr>\n",
       "      <th>2010-08-02</th>\n",
       "      <td>20.920000</td>\n",
       "      <td>39.541817</td>\n",
       "    </tr>\n",
       "    <tr>\n",
       "      <th>2010-08-03</th>\n",
       "      <td>21.950001</td>\n",
       "      <td>39.541817</td>\n",
       "    </tr>\n",
       "  </tbody>\n",
       "</table>\n",
       "</div>"
      ],
      "text/plain": [
       "                Close  Predicted\n",
       "Date                            \n",
       "2010-07-28  20.719999  39.541817\n",
       "2010-07-29  20.350000  39.541817\n",
       "2010-07-30  19.940001  39.541817\n",
       "2010-08-02  20.920000  39.541817\n",
       "2010-08-03  21.950001  39.541817"
      ]
     },
     "execution_count": 53,
     "metadata": {},
     "output_type": "execute_result"
    }
   ],
   "source": [
    "train_prediction_df = result_df[lookback:position]\n",
    "train_prediction_df[\"Predicted\"] = train_predict\n",
    "train_prediction_df.head()"
   ]
  },
  {
   "cell_type": "code",
   "execution_count": 54,
   "id": "cc6986df",
   "metadata": {
    "execution": {
     "iopub.execute_input": "2024-10-09T07:53:44.379881Z",
     "iopub.status.busy": "2024-10-09T07:53:44.379425Z",
     "iopub.status.idle": "2024-10-09T07:53:44.391893Z",
     "shell.execute_reply": "2024-10-09T07:53:44.390877Z"
    },
    "id": "o7tRAXwOhMSA",
    "papermill": {
     "duration": 0.04439,
     "end_time": "2024-10-09T07:53:44.393994",
     "exception": false,
     "start_time": "2024-10-09T07:53:44.349604",
     "status": "completed"
    },
    "tags": []
   },
   "outputs": [
    {
     "data": {
      "text/html": [
       "<div>\n",
       "<style scoped>\n",
       "    .dataframe tbody tr th:only-of-type {\n",
       "        vertical-align: middle;\n",
       "    }\n",
       "\n",
       "    .dataframe tbody tr th {\n",
       "        vertical-align: top;\n",
       "    }\n",
       "\n",
       "    .dataframe thead th {\n",
       "        text-align: right;\n",
       "    }\n",
       "</style>\n",
       "<table border=\"1\" class=\"dataframe\">\n",
       "  <thead>\n",
       "    <tr style=\"text-align: right;\">\n",
       "      <th></th>\n",
       "      <th>Close</th>\n",
       "      <th>Predicted</th>\n",
       "    </tr>\n",
       "    <tr>\n",
       "      <th>Date</th>\n",
       "      <th></th>\n",
       "      <th></th>\n",
       "    </tr>\n",
       "  </thead>\n",
       "  <tbody>\n",
       "    <tr>\n",
       "      <th>2018-04-03</th>\n",
       "      <td>267.529999</td>\n",
       "      <td>347.462769</td>\n",
       "    </tr>\n",
       "    <tr>\n",
       "      <th>2018-04-04</th>\n",
       "      <td>286.940002</td>\n",
       "      <td>342.776520</td>\n",
       "    </tr>\n",
       "    <tr>\n",
       "      <th>2018-04-05</th>\n",
       "      <td>305.720001</td>\n",
       "      <td>341.389618</td>\n",
       "    </tr>\n",
       "    <tr>\n",
       "      <th>2018-04-06</th>\n",
       "      <td>299.299988</td>\n",
       "      <td>342.056183</td>\n",
       "    </tr>\n",
       "    <tr>\n",
       "      <th>2018-04-09</th>\n",
       "      <td>289.660004</td>\n",
       "      <td>341.048218</td>\n",
       "    </tr>\n",
       "  </tbody>\n",
       "</table>\n",
       "</div>"
      ],
      "text/plain": [
       "                 Close   Predicted\n",
       "Date                              \n",
       "2018-04-03  267.529999  347.462769\n",
       "2018-04-04  286.940002  342.776520\n",
       "2018-04-05  305.720001  341.389618\n",
       "2018-04-06  299.299988  342.056183\n",
       "2018-04-09  289.660004  341.048218"
      ]
     },
     "execution_count": 54,
     "metadata": {},
     "output_type": "execute_result"
    }
   ],
   "source": [
    "test_prediction_df = result_df[position+lookback:]\n",
    "test_prediction_df[\"Predicted\"] = test_predict\n",
    "test_prediction_df.head()"
   ]
  },
  {
   "cell_type": "code",
   "execution_count": 55,
   "id": "1f97695f",
   "metadata": {
    "execution": {
     "iopub.execute_input": "2024-10-09T07:53:44.453821Z",
     "iopub.status.busy": "2024-10-09T07:53:44.452651Z",
     "iopub.status.idle": "2024-10-09T07:53:44.871522Z",
     "shell.execute_reply": "2024-10-09T07:53:44.870150Z"
    },
    "id": "PJ_-znSchYO_",
    "papermill": {
     "duration": 0.452114,
     "end_time": "2024-10-09T07:53:44.874680",
     "exception": false,
     "start_time": "2024-10-09T07:53:44.422566",
     "status": "completed"
    },
    "tags": []
   },
   "outputs": [
    {
     "data": {
      "image/png": "[encoded data removed]",
      "text/plain": [
       "<Figure size 1400x500 with 1 Axes>"
      ]
     },
     "metadata": {},
     "output_type": "display_data"
    }
   ],
   "source": [
    "plt.figure(figsize=(14,5))\n",
    "plt.plot(result_df, label = \"Real Number of Passengers\")\n",
    "plt.plot(train_prediction_df[\"Predicted\"], color = 'blue', label = \"Train Predicted Number of Passengers\")\n",
    "plt.plot(test_prediction_df[\"Predicted\"],color = 'red', label = \"Test Predicted Number of Passengers\")\n",
    "plt.title(\"Number of Passengers Prediction\")\n",
    "plt.xlabel(\"Time\")\n",
    "plt.ylabel(\"Number of Passengers\")\n",
    "plt.legend()\n",
    "plt.show()"
   ]
  }
 ],
 "metadata": {
  "colab": {
   "provenance": []
  },
  "kaggle": {
   "accelerator": "none",
   "dataSources": [
    {
     "datasetId": 500872,
     "sourceId": 927894,
     "sourceType": "datasetVersion"
    }
   ],
   "dockerImageVersionId": 30761,
   "isGpuEnabled": false,
   "isInternetEnabled": true,
   "language": "python",
   "sourceType": "notebook"
  },
  "kernelspec": {
   "display_name": "Python 3",
   "language": "python",
   "name": "python3"
  },
  "language_info": {
   "codemirror_mode": {
    "name": "ipython",
    "version": 3
   },
   "file_extension": ".py",
   "mimetype": "text/x-python",
   "name": "python",
   "nbconvert_exporter": "python",
   "pygments_lexer": "ipython3",
   "version": "3.10.14"
  },
  "papermill": {
   "default_parameters": {},
   "duration": 33.538257,
   "end_time": "2024-10-09T07:53:46.632782",
   "environment_variables": {},
   "exception": null,
   "input_path": "__notebook__.ipynb",
   "output_path": "__notebook__.ipynb",
   "parameters": {},
   "start_time": "2024-10-09T07:53:13.094525",
   "version": "2.6.0"
  }
 },
 "nbformat": 4,
 "nbformat_minor": 5
}
