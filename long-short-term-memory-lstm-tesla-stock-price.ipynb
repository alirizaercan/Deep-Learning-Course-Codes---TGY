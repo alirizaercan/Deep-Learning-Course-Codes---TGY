{
 "cells": [
  {
   "cell_type": "markdown",
   "id": "ace2e358",
   "metadata": {
    "id": "4unSJJjsT8BM",
    "papermill": {
     "duration": 0.012133,
     "end_time": "2024-12-07T08:37:42.352820",
     "exception": false,
     "start_time": "2024-12-07T08:37:42.340687",
     "status": "completed"
    },
    "tags": []
   },
   "source": [
    "# Tesla - Stock Price Prediction\n",
    "\n",
    "---\n",
    "\n"
   ]
  },
  {
   "cell_type": "markdown",
   "id": "0fdd7cd4",
   "metadata": {
    "id": "wkRLJL2XUAfT",
    "papermill": {
     "duration": 0.01089,
     "end_time": "2024-12-07T08:37:42.374876",
     "exception": false,
     "start_time": "2024-12-07T08:37:42.363986",
     "status": "completed"
    },
    "tags": []
   },
   "source": [
    "## Business Problem\n",
    "\n",
    "In this notebook, our purpose is to predict of tesla - stock price."
   ]
  },
  {
   "cell_type": "markdown",
   "id": "7187ea9b",
   "metadata": {
    "id": "0uxjphZsUwjz",
    "papermill": {
     "duration": 0.010305,
     "end_time": "2024-12-07T08:37:42.396049",
     "exception": false,
     "start_time": "2024-12-07T08:37:42.385744",
     "status": "completed"
    },
    "tags": []
   },
   "source": [
    "## Data Understanding"
   ]
  },
  {
   "cell_type": "code",
   "execution_count": 1,
   "id": "0d77aeda",
   "metadata": {
    "execution": {
     "iopub.execute_input": "2024-12-07T08:37:42.419119Z",
     "iopub.status.busy": "2024-12-07T08:37:42.418710Z",
     "iopub.status.idle": "2024-12-07T08:37:59.890376Z",
     "shell.execute_reply": "2024-12-07T08:37:59.888839Z"
    },
    "id": "40IR65rQUyWC",
    "outputId": "4562368d-970e-4fd6-b03e-be036efe4dcd",
    "papermill": {
     "duration": 17.486268,
     "end_time": "2024-12-07T08:37:59.892979",
     "exception": false,
     "start_time": "2024-12-07T08:37:42.406711",
     "status": "completed"
    },
    "tags": []
   },
   "outputs": [],
   "source": [
    "import numpy as np\n",
    "import pandas as pd\n",
    "import datetime as dt\n",
    "import tensorflow as tf\n",
    "import matplotlib.pyplot as plt\n",
    "\n",
    "from sklearn.preprocessing import MinMaxScaler\n",
    "from sklearn.metrics import mean_squared_error\n",
    "\n",
    "from tensorflow.keras.models import Sequential\n",
    "from tensorflow.keras.layers import Dense, LSTM, Dropout\n",
    "from tensorflow.keras.callbacks import ModelCheckpoint, EarlyStopping\n",
    "\n",
    "import warnings\n",
    "warnings.filterwarnings('ignore')\n",
    "\n",
    "import os\n",
    "os.environ['TF_CPP_MIN_LOG_LEVEL'] = '3'\n",
    "tf.compat.v1.logging.set_verbosity(tf.compat.v1.logging.ERROR)"
   ]
  },
  {
   "cell_type": "code",
   "execution_count": 2,
   "id": "4c43fea3",
   "metadata": {
    "execution": {
     "iopub.execute_input": "2024-12-07T08:37:59.916893Z",
     "iopub.status.busy": "2024-12-07T08:37:59.916187Z",
     "iopub.status.idle": "2024-12-07T08:37:59.979059Z",
     "shell.execute_reply": "2024-12-07T08:37:59.977809Z"
    },
    "id": "-be5_efvVpTV",
    "papermill": {
     "duration": 0.07773,
     "end_time": "2024-12-07T08:37:59.981670",
     "exception": false,
     "start_time": "2024-12-07T08:37:59.903940",
     "status": "completed"
    },
    "tags": []
   },
   "outputs": [
    {
     "data": {
      "text/html": [
       "<div>\n",
       "<style scoped>\n",
       "    .dataframe tbody tr th:only-of-type {\n",
       "        vertical-align: middle;\n",
       "    }\n",
       "\n",
       "    .dataframe tbody tr th {\n",
       "        vertical-align: top;\n",
       "    }\n",
       "\n",
       "    .dataframe thead th {\n",
       "        text-align: right;\n",
       "    }\n",
       "</style>\n",
       "<table border=\"1\" class=\"dataframe\">\n",
       "  <thead>\n",
       "    <tr style=\"text-align: right;\">\n",
       "      <th></th>\n",
       "      <th>Date</th>\n",
       "      <th>Open</th>\n",
       "      <th>High</th>\n",
       "      <th>Low</th>\n",
       "      <th>Close</th>\n",
       "      <th>Adj Close</th>\n",
       "      <th>Volume</th>\n",
       "    </tr>\n",
       "  </thead>\n",
       "  <tbody>\n",
       "    <tr>\n",
       "      <th>0</th>\n",
       "      <td>2010-06-29</td>\n",
       "      <td>19.000000</td>\n",
       "      <td>25.000000</td>\n",
       "      <td>17.540001</td>\n",
       "      <td>23.889999</td>\n",
       "      <td>23.889999</td>\n",
       "      <td>18766300</td>\n",
       "    </tr>\n",
       "    <tr>\n",
       "      <th>1</th>\n",
       "      <td>2010-06-30</td>\n",
       "      <td>25.790001</td>\n",
       "      <td>30.420000</td>\n",
       "      <td>23.299999</td>\n",
       "      <td>23.830000</td>\n",
       "      <td>23.830000</td>\n",
       "      <td>17187100</td>\n",
       "    </tr>\n",
       "    <tr>\n",
       "      <th>2</th>\n",
       "      <td>2010-07-01</td>\n",
       "      <td>25.000000</td>\n",
       "      <td>25.920000</td>\n",
       "      <td>20.270000</td>\n",
       "      <td>21.959999</td>\n",
       "      <td>21.959999</td>\n",
       "      <td>8218800</td>\n",
       "    </tr>\n",
       "    <tr>\n",
       "      <th>3</th>\n",
       "      <td>2010-07-02</td>\n",
       "      <td>23.000000</td>\n",
       "      <td>23.100000</td>\n",
       "      <td>18.709999</td>\n",
       "      <td>19.200001</td>\n",
       "      <td>19.200001</td>\n",
       "      <td>5139800</td>\n",
       "    </tr>\n",
       "    <tr>\n",
       "      <th>4</th>\n",
       "      <td>2010-07-06</td>\n",
       "      <td>20.000000</td>\n",
       "      <td>20.000000</td>\n",
       "      <td>15.830000</td>\n",
       "      <td>16.110001</td>\n",
       "      <td>16.110001</td>\n",
       "      <td>6866900</td>\n",
       "    </tr>\n",
       "    <tr>\n",
       "      <th>...</th>\n",
       "      <td>...</td>\n",
       "      <td>...</td>\n",
       "      <td>...</td>\n",
       "      <td>...</td>\n",
       "      <td>...</td>\n",
       "      <td>...</td>\n",
       "      <td>...</td>\n",
       "    </tr>\n",
       "    <tr>\n",
       "      <th>2411</th>\n",
       "      <td>2020-01-28</td>\n",
       "      <td>568.489990</td>\n",
       "      <td>576.809998</td>\n",
       "      <td>558.080017</td>\n",
       "      <td>566.900024</td>\n",
       "      <td>566.900024</td>\n",
       "      <td>11788500</td>\n",
       "    </tr>\n",
       "    <tr>\n",
       "      <th>2412</th>\n",
       "      <td>2020-01-29</td>\n",
       "      <td>575.690002</td>\n",
       "      <td>589.799988</td>\n",
       "      <td>567.429993</td>\n",
       "      <td>580.989990</td>\n",
       "      <td>580.989990</td>\n",
       "      <td>17801500</td>\n",
       "    </tr>\n",
       "    <tr>\n",
       "      <th>2413</th>\n",
       "      <td>2020-01-30</td>\n",
       "      <td>632.419983</td>\n",
       "      <td>650.880005</td>\n",
       "      <td>618.000000</td>\n",
       "      <td>640.809998</td>\n",
       "      <td>640.809998</td>\n",
       "      <td>29005700</td>\n",
       "    </tr>\n",
       "    <tr>\n",
       "      <th>2414</th>\n",
       "      <td>2020-01-31</td>\n",
       "      <td>640.000000</td>\n",
       "      <td>653.000000</td>\n",
       "      <td>632.520020</td>\n",
       "      <td>650.570007</td>\n",
       "      <td>650.570007</td>\n",
       "      <td>15719300</td>\n",
       "    </tr>\n",
       "    <tr>\n",
       "      <th>2415</th>\n",
       "      <td>2020-02-03</td>\n",
       "      <td>673.690002</td>\n",
       "      <td>786.140015</td>\n",
       "      <td>673.520020</td>\n",
       "      <td>780.000000</td>\n",
       "      <td>780.000000</td>\n",
       "      <td>47065000</td>\n",
       "    </tr>\n",
       "  </tbody>\n",
       "</table>\n",
       "<p>2416 rows × 7 columns</p>\n",
       "</div>"
      ],
      "text/plain": [
       "            Date        Open        High         Low       Close   Adj Close  \\\n",
       "0     2010-06-29   19.000000   25.000000   17.540001   23.889999   23.889999   \n",
       "1     2010-06-30   25.790001   30.420000   23.299999   23.830000   23.830000   \n",
       "2     2010-07-01   25.000000   25.920000   20.270000   21.959999   21.959999   \n",
       "3     2010-07-02   23.000000   23.100000   18.709999   19.200001   19.200001   \n",
       "4     2010-07-06   20.000000   20.000000   15.830000   16.110001   16.110001   \n",
       "...          ...         ...         ...         ...         ...         ...   \n",
       "2411  2020-01-28  568.489990  576.809998  558.080017  566.900024  566.900024   \n",
       "2412  2020-01-29  575.690002  589.799988  567.429993  580.989990  580.989990   \n",
       "2413  2020-01-30  632.419983  650.880005  618.000000  640.809998  640.809998   \n",
       "2414  2020-01-31  640.000000  653.000000  632.520020  650.570007  650.570007   \n",
       "2415  2020-02-03  673.690002  786.140015  673.520020  780.000000  780.000000   \n",
       "\n",
       "        Volume  \n",
       "0     18766300  \n",
       "1     17187100  \n",
       "2      8218800  \n",
       "3      5139800  \n",
       "4      6866900  \n",
       "...        ...  \n",
       "2411  11788500  \n",
       "2412  17801500  \n",
       "2413  29005700  \n",
       "2414  15719300  \n",
       "2415  47065000  \n",
       "\n",
       "[2416 rows x 7 columns]"
      ]
     },
     "execution_count": 2,
     "metadata": {},
     "output_type": "execute_result"
    }
   ],
   "source": [
    "df = pd.read_csv('/kaggle/input/tesla-stock-data-from-2010-to-2020/TSLA.csv')\n",
    "df"
   ]
  },
  {
   "cell_type": "code",
   "execution_count": 3,
   "id": "91fbd5de",
   "metadata": {
    "execution": {
     "iopub.execute_input": "2024-12-07T08:38:00.007415Z",
     "iopub.status.busy": "2024-12-07T08:38:00.006976Z",
     "iopub.status.idle": "2024-12-07T08:38:00.023315Z",
     "shell.execute_reply": "2024-12-07T08:38:00.022036Z"
    },
    "id": "lG_AO3mdVv17",
    "papermill": {
     "duration": 0.032404,
     "end_time": "2024-12-07T08:38:00.025844",
     "exception": false,
     "start_time": "2024-12-07T08:37:59.993440",
     "status": "completed"
    },
    "tags": []
   },
   "outputs": [
    {
     "data": {
      "text/html": [
       "<div>\n",
       "<style scoped>\n",
       "    .dataframe tbody tr th:only-of-type {\n",
       "        vertical-align: middle;\n",
       "    }\n",
       "\n",
       "    .dataframe tbody tr th {\n",
       "        vertical-align: top;\n",
       "    }\n",
       "\n",
       "    .dataframe thead th {\n",
       "        text-align: right;\n",
       "    }\n",
       "</style>\n",
       "<table border=\"1\" class=\"dataframe\">\n",
       "  <thead>\n",
       "    <tr style=\"text-align: right;\">\n",
       "      <th></th>\n",
       "      <th>Date</th>\n",
       "      <th>Open</th>\n",
       "      <th>High</th>\n",
       "      <th>Low</th>\n",
       "      <th>Close</th>\n",
       "      <th>Adj Close</th>\n",
       "      <th>Volume</th>\n",
       "    </tr>\n",
       "  </thead>\n",
       "  <tbody>\n",
       "    <tr>\n",
       "      <th>0</th>\n",
       "      <td>2010-06-29</td>\n",
       "      <td>19.000000</td>\n",
       "      <td>25.00</td>\n",
       "      <td>17.540001</td>\n",
       "      <td>23.889999</td>\n",
       "      <td>23.889999</td>\n",
       "      <td>18766300</td>\n",
       "    </tr>\n",
       "    <tr>\n",
       "      <th>1</th>\n",
       "      <td>2010-06-30</td>\n",
       "      <td>25.790001</td>\n",
       "      <td>30.42</td>\n",
       "      <td>23.299999</td>\n",
       "      <td>23.830000</td>\n",
       "      <td>23.830000</td>\n",
       "      <td>17187100</td>\n",
       "    </tr>\n",
       "    <tr>\n",
       "      <th>2</th>\n",
       "      <td>2010-07-01</td>\n",
       "      <td>25.000000</td>\n",
       "      <td>25.92</td>\n",
       "      <td>20.270000</td>\n",
       "      <td>21.959999</td>\n",
       "      <td>21.959999</td>\n",
       "      <td>8218800</td>\n",
       "    </tr>\n",
       "    <tr>\n",
       "      <th>3</th>\n",
       "      <td>2010-07-02</td>\n",
       "      <td>23.000000</td>\n",
       "      <td>23.10</td>\n",
       "      <td>18.709999</td>\n",
       "      <td>19.200001</td>\n",
       "      <td>19.200001</td>\n",
       "      <td>5139800</td>\n",
       "    </tr>\n",
       "    <tr>\n",
       "      <th>4</th>\n",
       "      <td>2010-07-06</td>\n",
       "      <td>20.000000</td>\n",
       "      <td>20.00</td>\n",
       "      <td>15.830000</td>\n",
       "      <td>16.110001</td>\n",
       "      <td>16.110001</td>\n",
       "      <td>6866900</td>\n",
       "    </tr>\n",
       "  </tbody>\n",
       "</table>\n",
       "</div>"
      ],
      "text/plain": [
       "         Date       Open   High        Low      Close  Adj Close    Volume\n",
       "0  2010-06-29  19.000000  25.00  17.540001  23.889999  23.889999  18766300\n",
       "1  2010-06-30  25.790001  30.42  23.299999  23.830000  23.830000  17187100\n",
       "2  2010-07-01  25.000000  25.92  20.270000  21.959999  21.959999   8218800\n",
       "3  2010-07-02  23.000000  23.10  18.709999  19.200001  19.200001   5139800\n",
       "4  2010-07-06  20.000000  20.00  15.830000  16.110001  16.110001   6866900"
      ]
     },
     "execution_count": 3,
     "metadata": {},
     "output_type": "execute_result"
    }
   ],
   "source": [
    "df.head()"
   ]
  },
  {
   "cell_type": "code",
   "execution_count": 4,
   "id": "ca843efb",
   "metadata": {
    "execution": {
     "iopub.execute_input": "2024-12-07T08:38:00.050692Z",
     "iopub.status.busy": "2024-12-07T08:38:00.050263Z",
     "iopub.status.idle": "2024-12-07T08:38:00.057727Z",
     "shell.execute_reply": "2024-12-07T08:38:00.056381Z"
    },
    "id": "TU5hlfyvVxY0",
    "papermill": {
     "duration": 0.02283,
     "end_time": "2024-12-07T08:38:00.060067",
     "exception": false,
     "start_time": "2024-12-07T08:38:00.037237",
     "status": "completed"
    },
    "tags": []
   },
   "outputs": [],
   "source": [
    "def check_df(dataframe, head=5):\n",
    "    print(\"##################### Shape #####################\")\n",
    "    print(dataframe.shape)\n",
    "    print(\"##################### Types #####################\")\n",
    "    print(dataframe.dtypes)\n",
    "    print(\"##################### Head #####################\")\n",
    "    print(dataframe.head(head))  # Fonksiyon çağrısına dikkat edin\n",
    "    print(\"##################### Tail #####################\")\n",
    "    print(dataframe.tail(head))\n",
    "    print(\"##################### NA #####################\")\n",
    "    print(dataframe.isnull().sum())\n",
    "    print(\"##################### Quantile #####################\")\n",
    "    print(dataframe.select_dtypes(include='number').quantile([0, 0.05, 0.5, 0.95, 0.99, 1]).T)\n"
   ]
  },
  {
   "cell_type": "code",
   "execution_count": 5,
   "id": "36889543",
   "metadata": {
    "execution": {
     "iopub.execute_input": "2024-12-07T08:38:00.084048Z",
     "iopub.status.busy": "2024-12-07T08:38:00.083660Z",
     "iopub.status.idle": "2024-12-07T08:38:00.109127Z",
     "shell.execute_reply": "2024-12-07T08:38:00.107398Z"
    },
    "id": "t6iFP965V4vk",
    "papermill": {
     "duration": 0.040642,
     "end_time": "2024-12-07T08:38:00.111855",
     "exception": false,
     "start_time": "2024-12-07T08:38:00.071213",
     "status": "completed"
    },
    "tags": []
   },
   "outputs": [
    {
     "name": "stdout",
     "output_type": "stream",
     "text": [
      "##################### Shape #####################\n",
      "(2416, 7)\n",
      "##################### Types #####################\n",
      "Date          object\n",
      "Open         float64\n",
      "High         float64\n",
      "Low          float64\n",
      "Close        float64\n",
      "Adj Close    float64\n",
      "Volume         int64\n",
      "dtype: object\n",
      "##################### Head #####################\n",
      "         Date       Open   High        Low      Close  Adj Close    Volume\n",
      "0  2010-06-29  19.000000  25.00  17.540001  23.889999  23.889999  18766300\n",
      "1  2010-06-30  25.790001  30.42  23.299999  23.830000  23.830000  17187100\n",
      "2  2010-07-01  25.000000  25.92  20.270000  21.959999  21.959999   8218800\n",
      "3  2010-07-02  23.000000  23.10  18.709999  19.200001  19.200001   5139800\n",
      "4  2010-07-06  20.000000  20.00  15.830000  16.110001  16.110001   6866900\n",
      "##################### Tail #####################\n",
      "            Date        Open        High         Low       Close   Adj Close  \\\n",
      "2411  2020-01-28  568.489990  576.809998  558.080017  566.900024  566.900024   \n",
      "2412  2020-01-29  575.690002  589.799988  567.429993  580.989990  580.989990   \n",
      "2413  2020-01-30  632.419983  650.880005  618.000000  640.809998  640.809998   \n",
      "2414  2020-01-31  640.000000  653.000000  632.520020  650.570007  650.570007   \n",
      "2415  2020-02-03  673.690002  786.140015  673.520020  780.000000  780.000000   \n",
      "\n",
      "        Volume  \n",
      "2411  11788500  \n",
      "2412  17801500  \n",
      "2413  29005700  \n",
      "2414  15719300  \n",
      "2415  47065000  \n",
      "##################### NA #####################\n",
      "Date         0\n",
      "Open         0\n",
      "High         0\n",
      "Low          0\n",
      "Close        0\n",
      "Adj Close    0\n",
      "Volume       0\n",
      "dtype: int64\n",
      "##################### Quantile #####################\n",
      "                    0.00           0.05          0.50          0.95  \\\n",
      "Open           16.139999      23.384999  2.130350e+02  3.519100e+02   \n",
      "High           16.629999      24.022501  2.167450e+02  3.567500e+02   \n",
      "Low            14.980000      22.867499  2.088700e+02  3.460250e+02   \n",
      "Close          15.800000      23.565000  2.129600e+02  3.511675e+02   \n",
      "Adj Close      15.800000      23.565000  2.129600e+02  3.511675e+02   \n",
      "Volume     118500.000000  633825.000000  4.578400e+06  1.476090e+07   \n",
      "\n",
      "                   0.99          1.00  \n",
      "Open       4.235790e+02  6.736900e+02  \n",
      "High       4.284705e+02  7.861400e+02  \n",
      "Low        4.122865e+02  6.735200e+02  \n",
      "Close      4.243455e+02  7.800000e+02  \n",
      "Adj Close  4.243455e+02  7.800000e+02  \n",
      "Volume     2.459959e+07  4.706500e+07  \n"
     ]
    }
   ],
   "source": [
    "check_df(df)"
   ]
  },
  {
   "cell_type": "markdown",
   "id": "276fc80a",
   "metadata": {
    "id": "v2n2ONcpWlQl",
    "papermill": {
     "duration": 0.011832,
     "end_time": "2024-12-07T08:38:00.135914",
     "exception": false,
     "start_time": "2024-12-07T08:38:00.124082",
     "status": "completed"
    },
    "tags": []
   },
   "source": [
    "## Data Preparation"
   ]
  },
  {
   "cell_type": "code",
   "execution_count": 6,
   "id": "81ea8b91",
   "metadata": {
    "execution": {
     "iopub.execute_input": "2024-12-07T08:38:00.160168Z",
     "iopub.status.busy": "2024-12-07T08:38:00.159790Z",
     "iopub.status.idle": "2024-12-07T08:38:00.171984Z",
     "shell.execute_reply": "2024-12-07T08:38:00.170834Z"
    },
    "id": "x-En8ormWAo8",
    "papermill": {
     "duration": 0.027275,
     "end_time": "2024-12-07T08:38:00.174502",
     "exception": false,
     "start_time": "2024-12-07T08:38:00.147227",
     "status": "completed"
    },
    "tags": []
   },
   "outputs": [],
   "source": [
    "df[\"Date\"] = pd.to_datetime(df[\"Date\"])"
   ]
  },
  {
   "cell_type": "code",
   "execution_count": 7,
   "id": "5f3a0594",
   "metadata": {
    "execution": {
     "iopub.execute_input": "2024-12-07T08:38:00.199857Z",
     "iopub.status.busy": "2024-12-07T08:38:00.199397Z",
     "iopub.status.idle": "2024-12-07T08:38:00.215421Z",
     "shell.execute_reply": "2024-12-07T08:38:00.214044Z"
    },
    "id": "Wk3C4MPkWBUG",
    "papermill": {
     "duration": 0.031331,
     "end_time": "2024-12-07T08:38:00.218044",
     "exception": false,
     "start_time": "2024-12-07T08:38:00.186713",
     "status": "completed"
    },
    "tags": []
   },
   "outputs": [
    {
     "data": {
      "text/html": [
       "<div>\n",
       "<style scoped>\n",
       "    .dataframe tbody tr th:only-of-type {\n",
       "        vertical-align: middle;\n",
       "    }\n",
       "\n",
       "    .dataframe tbody tr th {\n",
       "        vertical-align: top;\n",
       "    }\n",
       "\n",
       "    .dataframe thead th {\n",
       "        text-align: right;\n",
       "    }\n",
       "</style>\n",
       "<table border=\"1\" class=\"dataframe\">\n",
       "  <thead>\n",
       "    <tr style=\"text-align: right;\">\n",
       "      <th></th>\n",
       "      <th>Date</th>\n",
       "      <th>Open</th>\n",
       "      <th>High</th>\n",
       "      <th>Low</th>\n",
       "      <th>Close</th>\n",
       "      <th>Adj Close</th>\n",
       "      <th>Volume</th>\n",
       "    </tr>\n",
       "  </thead>\n",
       "  <tbody>\n",
       "    <tr>\n",
       "      <th>0</th>\n",
       "      <td>2010-06-29</td>\n",
       "      <td>19.000000</td>\n",
       "      <td>25.00</td>\n",
       "      <td>17.540001</td>\n",
       "      <td>23.889999</td>\n",
       "      <td>23.889999</td>\n",
       "      <td>18766300</td>\n",
       "    </tr>\n",
       "    <tr>\n",
       "      <th>1</th>\n",
       "      <td>2010-06-30</td>\n",
       "      <td>25.790001</td>\n",
       "      <td>30.42</td>\n",
       "      <td>23.299999</td>\n",
       "      <td>23.830000</td>\n",
       "      <td>23.830000</td>\n",
       "      <td>17187100</td>\n",
       "    </tr>\n",
       "    <tr>\n",
       "      <th>2</th>\n",
       "      <td>2010-07-01</td>\n",
       "      <td>25.000000</td>\n",
       "      <td>25.92</td>\n",
       "      <td>20.270000</td>\n",
       "      <td>21.959999</td>\n",
       "      <td>21.959999</td>\n",
       "      <td>8218800</td>\n",
       "    </tr>\n",
       "    <tr>\n",
       "      <th>3</th>\n",
       "      <td>2010-07-02</td>\n",
       "      <td>23.000000</td>\n",
       "      <td>23.10</td>\n",
       "      <td>18.709999</td>\n",
       "      <td>19.200001</td>\n",
       "      <td>19.200001</td>\n",
       "      <td>5139800</td>\n",
       "    </tr>\n",
       "    <tr>\n",
       "      <th>4</th>\n",
       "      <td>2010-07-06</td>\n",
       "      <td>20.000000</td>\n",
       "      <td>20.00</td>\n",
       "      <td>15.830000</td>\n",
       "      <td>16.110001</td>\n",
       "      <td>16.110001</td>\n",
       "      <td>6866900</td>\n",
       "    </tr>\n",
       "  </tbody>\n",
       "</table>\n",
       "</div>"
      ],
      "text/plain": [
       "        Date       Open   High        Low      Close  Adj Close    Volume\n",
       "0 2010-06-29  19.000000  25.00  17.540001  23.889999  23.889999  18766300\n",
       "1 2010-06-30  25.790001  30.42  23.299999  23.830000  23.830000  17187100\n",
       "2 2010-07-01  25.000000  25.92  20.270000  21.959999  21.959999   8218800\n",
       "3 2010-07-02  23.000000  23.10  18.709999  19.200001  19.200001   5139800\n",
       "4 2010-07-06  20.000000  20.00  15.830000  16.110001  16.110001   6866900"
      ]
     },
     "execution_count": 7,
     "metadata": {},
     "output_type": "execute_result"
    }
   ],
   "source": [
    "df.head()"
   ]
  },
  {
   "cell_type": "code",
   "execution_count": 8,
   "id": "b0dbc902",
   "metadata": {
    "execution": {
     "iopub.execute_input": "2024-12-07T08:38:00.242874Z",
     "iopub.status.busy": "2024-12-07T08:38:00.242460Z",
     "iopub.status.idle": "2024-12-07T08:38:00.249071Z",
     "shell.execute_reply": "2024-12-07T08:38:00.247937Z"
    },
    "id": "ZOVzSrk1WCHu",
    "papermill": {
     "duration": 0.021566,
     "end_time": "2024-12-07T08:38:00.251354",
     "exception": false,
     "start_time": "2024-12-07T08:38:00.229788",
     "status": "completed"
    },
    "tags": []
   },
   "outputs": [],
   "source": [
    "tesla_df = df[[\"Date\", \"Close\"]]"
   ]
  },
  {
   "cell_type": "code",
   "execution_count": 9,
   "id": "956140ac",
   "metadata": {
    "execution": {
     "iopub.execute_input": "2024-12-07T08:38:00.276716Z",
     "iopub.status.busy": "2024-12-07T08:38:00.276295Z",
     "iopub.status.idle": "2024-12-07T08:38:00.286685Z",
     "shell.execute_reply": "2024-12-07T08:38:00.285588Z"
    },
    "id": "Tli5FuMBWF8l",
    "papermill": {
     "duration": 0.025427,
     "end_time": "2024-12-07T08:38:00.288849",
     "exception": false,
     "start_time": "2024-12-07T08:38:00.263422",
     "status": "completed"
    },
    "tags": []
   },
   "outputs": [
    {
     "data": {
      "text/html": [
       "<div>\n",
       "<style scoped>\n",
       "    .dataframe tbody tr th:only-of-type {\n",
       "        vertical-align: middle;\n",
       "    }\n",
       "\n",
       "    .dataframe tbody tr th {\n",
       "        vertical-align: top;\n",
       "    }\n",
       "\n",
       "    .dataframe thead th {\n",
       "        text-align: right;\n",
       "    }\n",
       "</style>\n",
       "<table border=\"1\" class=\"dataframe\">\n",
       "  <thead>\n",
       "    <tr style=\"text-align: right;\">\n",
       "      <th></th>\n",
       "      <th>Date</th>\n",
       "      <th>Close</th>\n",
       "    </tr>\n",
       "  </thead>\n",
       "  <tbody>\n",
       "    <tr>\n",
       "      <th>0</th>\n",
       "      <td>2010-06-29</td>\n",
       "      <td>23.889999</td>\n",
       "    </tr>\n",
       "    <tr>\n",
       "      <th>1</th>\n",
       "      <td>2010-06-30</td>\n",
       "      <td>23.830000</td>\n",
       "    </tr>\n",
       "    <tr>\n",
       "      <th>2</th>\n",
       "      <td>2010-07-01</td>\n",
       "      <td>21.959999</td>\n",
       "    </tr>\n",
       "    <tr>\n",
       "      <th>3</th>\n",
       "      <td>2010-07-02</td>\n",
       "      <td>19.200001</td>\n",
       "    </tr>\n",
       "    <tr>\n",
       "      <th>4</th>\n",
       "      <td>2010-07-06</td>\n",
       "      <td>16.110001</td>\n",
       "    </tr>\n",
       "  </tbody>\n",
       "</table>\n",
       "</div>"
      ],
      "text/plain": [
       "        Date      Close\n",
       "0 2010-06-29  23.889999\n",
       "1 2010-06-30  23.830000\n",
       "2 2010-07-01  21.959999\n",
       "3 2010-07-02  19.200001\n",
       "4 2010-07-06  16.110001"
      ]
     },
     "execution_count": 9,
     "metadata": {},
     "output_type": "execute_result"
    }
   ],
   "source": [
    "tesla_df.head()"
   ]
  },
  {
   "cell_type": "code",
   "execution_count": 10,
   "id": "9360ba9a",
   "metadata": {
    "execution": {
     "iopub.execute_input": "2024-12-07T08:38:00.315775Z",
     "iopub.status.busy": "2024-12-07T08:38:00.315381Z",
     "iopub.status.idle": "2024-12-07T08:38:00.322646Z",
     "shell.execute_reply": "2024-12-07T08:38:00.321511Z"
    },
    "id": "Gsw5OQCAWLzn",
    "papermill": {
     "duration": 0.024463,
     "end_time": "2024-12-07T08:38:00.325060",
     "exception": false,
     "start_time": "2024-12-07T08:38:00.300597",
     "status": "completed"
    },
    "tags": []
   },
   "outputs": [
    {
     "name": "stdout",
     "output_type": "stream",
     "text": [
      "Min Date:  2010-06-29 00:00:00\n",
      "Max Date:  2020-02-03 00:00:00\n"
     ]
    }
   ],
   "source": [
    "print(\"Min Date: \", tesla_df[\"Date\"].min())\n",
    "print(\"Max Date: \", tesla_df[\"Date\"].max())"
   ]
  },
  {
   "cell_type": "code",
   "execution_count": 11,
   "id": "85e3ae3d",
   "metadata": {
    "execution": {
     "iopub.execute_input": "2024-12-07T08:38:00.350135Z",
     "iopub.status.busy": "2024-12-07T08:38:00.349765Z",
     "iopub.status.idle": "2024-12-07T08:38:00.355392Z",
     "shell.execute_reply": "2024-12-07T08:38:00.354119Z"
    },
    "id": "JGi8P08mWQO1",
    "papermill": {
     "duration": 0.021127,
     "end_time": "2024-12-07T08:38:00.357849",
     "exception": false,
     "start_time": "2024-12-07T08:38:00.336722",
     "status": "completed"
    },
    "tags": []
   },
   "outputs": [],
   "source": [
    "tesla_df.index = tesla_df[\"Date\"]"
   ]
  },
  {
   "cell_type": "code",
   "execution_count": 12,
   "id": "11343783",
   "metadata": {
    "execution": {
     "iopub.execute_input": "2024-12-07T08:38:00.383164Z",
     "iopub.status.busy": "2024-12-07T08:38:00.382784Z",
     "iopub.status.idle": "2024-12-07T08:38:00.394664Z",
     "shell.execute_reply": "2024-12-07T08:38:00.393509Z"
    },
    "id": "YBWxX2IOWoL_",
    "papermill": {
     "duration": 0.027302,
     "end_time": "2024-12-07T08:38:00.396972",
     "exception": false,
     "start_time": "2024-12-07T08:38:00.369670",
     "status": "completed"
    },
    "tags": []
   },
   "outputs": [
    {
     "data": {
      "text/html": [
       "<div>\n",
       "<style scoped>\n",
       "    .dataframe tbody tr th:only-of-type {\n",
       "        vertical-align: middle;\n",
       "    }\n",
       "\n",
       "    .dataframe tbody tr th {\n",
       "        vertical-align: top;\n",
       "    }\n",
       "\n",
       "    .dataframe thead th {\n",
       "        text-align: right;\n",
       "    }\n",
       "</style>\n",
       "<table border=\"1\" class=\"dataframe\">\n",
       "  <thead>\n",
       "    <tr style=\"text-align: right;\">\n",
       "      <th></th>\n",
       "      <th>Date</th>\n",
       "      <th>Close</th>\n",
       "    </tr>\n",
       "    <tr>\n",
       "      <th>Date</th>\n",
       "      <th></th>\n",
       "      <th></th>\n",
       "    </tr>\n",
       "  </thead>\n",
       "  <tbody>\n",
       "    <tr>\n",
       "      <th>2010-06-29</th>\n",
       "      <td>2010-06-29</td>\n",
       "      <td>23.889999</td>\n",
       "    </tr>\n",
       "    <tr>\n",
       "      <th>2010-06-30</th>\n",
       "      <td>2010-06-30</td>\n",
       "      <td>23.830000</td>\n",
       "    </tr>\n",
       "    <tr>\n",
       "      <th>2010-07-01</th>\n",
       "      <td>2010-07-01</td>\n",
       "      <td>21.959999</td>\n",
       "    </tr>\n",
       "    <tr>\n",
       "      <th>2010-07-02</th>\n",
       "      <td>2010-07-02</td>\n",
       "      <td>19.200001</td>\n",
       "    </tr>\n",
       "    <tr>\n",
       "      <th>2010-07-06</th>\n",
       "      <td>2010-07-06</td>\n",
       "      <td>16.110001</td>\n",
       "    </tr>\n",
       "    <tr>\n",
       "      <th>...</th>\n",
       "      <td>...</td>\n",
       "      <td>...</td>\n",
       "    </tr>\n",
       "    <tr>\n",
       "      <th>2020-01-28</th>\n",
       "      <td>2020-01-28</td>\n",
       "      <td>566.900024</td>\n",
       "    </tr>\n",
       "    <tr>\n",
       "      <th>2020-01-29</th>\n",
       "      <td>2020-01-29</td>\n",
       "      <td>580.989990</td>\n",
       "    </tr>\n",
       "    <tr>\n",
       "      <th>2020-01-30</th>\n",
       "      <td>2020-01-30</td>\n",
       "      <td>640.809998</td>\n",
       "    </tr>\n",
       "    <tr>\n",
       "      <th>2020-01-31</th>\n",
       "      <td>2020-01-31</td>\n",
       "      <td>650.570007</td>\n",
       "    </tr>\n",
       "    <tr>\n",
       "      <th>2020-02-03</th>\n",
       "      <td>2020-02-03</td>\n",
       "      <td>780.000000</td>\n",
       "    </tr>\n",
       "  </tbody>\n",
       "</table>\n",
       "<p>2416 rows × 2 columns</p>\n",
       "</div>"
      ],
      "text/plain": [
       "                 Date       Close\n",
       "Date                             \n",
       "2010-06-29 2010-06-29   23.889999\n",
       "2010-06-30 2010-06-30   23.830000\n",
       "2010-07-01 2010-07-01   21.959999\n",
       "2010-07-02 2010-07-02   19.200001\n",
       "2010-07-06 2010-07-06   16.110001\n",
       "...               ...         ...\n",
       "2020-01-28 2020-01-28  566.900024\n",
       "2020-01-29 2020-01-29  580.989990\n",
       "2020-01-30 2020-01-30  640.809998\n",
       "2020-01-31 2020-01-31  650.570007\n",
       "2020-02-03 2020-02-03  780.000000\n",
       "\n",
       "[2416 rows x 2 columns]"
      ]
     },
     "execution_count": 12,
     "metadata": {},
     "output_type": "execute_result"
    }
   ],
   "source": [
    "tesla_df"
   ]
  },
  {
   "cell_type": "code",
   "execution_count": 13,
   "id": "f5440628",
   "metadata": {
    "execution": {
     "iopub.execute_input": "2024-12-07T08:38:00.422846Z",
     "iopub.status.busy": "2024-12-07T08:38:00.422376Z",
     "iopub.status.idle": "2024-12-07T08:38:00.428528Z",
     "shell.execute_reply": "2024-12-07T08:38:00.427351Z"
    },
    "id": "tgPM31WBWvcH",
    "papermill": {
     "duration": 0.022006,
     "end_time": "2024-12-07T08:38:00.431038",
     "exception": false,
     "start_time": "2024-12-07T08:38:00.409032",
     "status": "completed"
    },
    "tags": []
   },
   "outputs": [],
   "source": [
    "tesla_df.drop(\"Date\", axis=1, inplace=True)"
   ]
  },
  {
   "cell_type": "code",
   "execution_count": 14,
   "id": "43227741",
   "metadata": {
    "execution": {
     "iopub.execute_input": "2024-12-07T08:38:00.457086Z",
     "iopub.status.busy": "2024-12-07T08:38:00.456718Z",
     "iopub.status.idle": "2024-12-07T08:38:00.467546Z",
     "shell.execute_reply": "2024-12-07T08:38:00.466308Z"
    },
    "id": "17KdnKMGWwSm",
    "papermill": {
     "duration": 0.026594,
     "end_time": "2024-12-07T08:38:00.469607",
     "exception": false,
     "start_time": "2024-12-07T08:38:00.443013",
     "status": "completed"
    },
    "tags": []
   },
   "outputs": [
    {
     "data": {
      "text/html": [
       "<div>\n",
       "<style scoped>\n",
       "    .dataframe tbody tr th:only-of-type {\n",
       "        vertical-align: middle;\n",
       "    }\n",
       "\n",
       "    .dataframe tbody tr th {\n",
       "        vertical-align: top;\n",
       "    }\n",
       "\n",
       "    .dataframe thead th {\n",
       "        text-align: right;\n",
       "    }\n",
       "</style>\n",
       "<table border=\"1\" class=\"dataframe\">\n",
       "  <thead>\n",
       "    <tr style=\"text-align: right;\">\n",
       "      <th></th>\n",
       "      <th>Close</th>\n",
       "    </tr>\n",
       "    <tr>\n",
       "      <th>Date</th>\n",
       "      <th></th>\n",
       "    </tr>\n",
       "  </thead>\n",
       "  <tbody>\n",
       "    <tr>\n",
       "      <th>2010-06-29</th>\n",
       "      <td>23.889999</td>\n",
       "    </tr>\n",
       "    <tr>\n",
       "      <th>2010-06-30</th>\n",
       "      <td>23.830000</td>\n",
       "    </tr>\n",
       "    <tr>\n",
       "      <th>2010-07-01</th>\n",
       "      <td>21.959999</td>\n",
       "    </tr>\n",
       "    <tr>\n",
       "      <th>2010-07-02</th>\n",
       "      <td>19.200001</td>\n",
       "    </tr>\n",
       "    <tr>\n",
       "      <th>2010-07-06</th>\n",
       "      <td>16.110001</td>\n",
       "    </tr>\n",
       "    <tr>\n",
       "      <th>...</th>\n",
       "      <td>...</td>\n",
       "    </tr>\n",
       "    <tr>\n",
       "      <th>2020-01-28</th>\n",
       "      <td>566.900024</td>\n",
       "    </tr>\n",
       "    <tr>\n",
       "      <th>2020-01-29</th>\n",
       "      <td>580.989990</td>\n",
       "    </tr>\n",
       "    <tr>\n",
       "      <th>2020-01-30</th>\n",
       "      <td>640.809998</td>\n",
       "    </tr>\n",
       "    <tr>\n",
       "      <th>2020-01-31</th>\n",
       "      <td>650.570007</td>\n",
       "    </tr>\n",
       "    <tr>\n",
       "      <th>2020-02-03</th>\n",
       "      <td>780.000000</td>\n",
       "    </tr>\n",
       "  </tbody>\n",
       "</table>\n",
       "<p>2416 rows × 1 columns</p>\n",
       "</div>"
      ],
      "text/plain": [
       "                 Close\n",
       "Date                  \n",
       "2010-06-29   23.889999\n",
       "2010-06-30   23.830000\n",
       "2010-07-01   21.959999\n",
       "2010-07-02   19.200001\n",
       "2010-07-06   16.110001\n",
       "...                ...\n",
       "2020-01-28  566.900024\n",
       "2020-01-29  580.989990\n",
       "2020-01-30  640.809998\n",
       "2020-01-31  650.570007\n",
       "2020-02-03  780.000000\n",
       "\n",
       "[2416 rows x 1 columns]"
      ]
     },
     "execution_count": 14,
     "metadata": {},
     "output_type": "execute_result"
    }
   ],
   "source": [
    "tesla_df"
   ]
  },
  {
   "cell_type": "code",
   "execution_count": 15,
   "id": "ee01e73d",
   "metadata": {
    "execution": {
     "iopub.execute_input": "2024-12-07T08:38:00.495966Z",
     "iopub.status.busy": "2024-12-07T08:38:00.495589Z",
     "iopub.status.idle": "2024-12-07T08:38:00.500752Z",
     "shell.execute_reply": "2024-12-07T08:38:00.499464Z"
    },
    "id": "PliZ5OcsWxsF",
    "papermill": {
     "duration": 0.021034,
     "end_time": "2024-12-07T08:38:00.503366",
     "exception": false,
     "start_time": "2024-12-07T08:38:00.482332",
     "status": "completed"
    },
    "tags": []
   },
   "outputs": [],
   "source": [
    "result_df = tesla_df.copy()"
   ]
  },
  {
   "cell_type": "code",
   "execution_count": 16,
   "id": "c128af3c",
   "metadata": {
    "execution": {
     "iopub.execute_input": "2024-12-07T08:38:00.530090Z",
     "iopub.status.busy": "2024-12-07T08:38:00.529678Z",
     "iopub.status.idle": "2024-12-07T08:38:00.915926Z",
     "shell.execute_reply": "2024-12-07T08:38:00.914675Z"
    },
    "id": "ObqHX6K2W0te",
    "papermill": {
     "duration": 0.402581,
     "end_time": "2024-12-07T08:38:00.918391",
     "exception": false,
     "start_time": "2024-12-07T08:38:00.515810",
     "status": "completed"
    },
    "tags": []
   },
   "outputs": [
    {
     "data": {
      "image/png": "[encoded data removed]",
      "text/plain": [
       "<Figure size 1400x500 with 1 Axes>"
      ]
     },
     "metadata": {},
     "output_type": "display_data"
    }
   ],
   "source": [
    "plt.figure(figsize=(14,5))\n",
    "plt.plot(tesla_df['Close'], color='blue')\n",
    "plt.title(\"Tesla Stock Price\")\n",
    "plt.xlabel(\"Time\")\n",
    "plt.ylabel(\"Stock Price\")\n",
    "plt.show()"
   ]
  },
  {
   "cell_type": "code",
   "execution_count": 17,
   "id": "75533d12",
   "metadata": {
    "execution": {
     "iopub.execute_input": "2024-12-07T08:38:00.947023Z",
     "iopub.status.busy": "2024-12-07T08:38:00.946597Z",
     "iopub.status.idle": "2024-12-07T08:38:00.952050Z",
     "shell.execute_reply": "2024-12-07T08:38:00.950699Z"
    },
    "id": "5LWFDWjNW2z2",
    "papermill": {
     "duration": 0.022986,
     "end_time": "2024-12-07T08:38:00.954532",
     "exception": false,
     "start_time": "2024-12-07T08:38:00.931546",
     "status": "completed"
    },
    "tags": []
   },
   "outputs": [],
   "source": [
    "tesla_df = tesla_df.values"
   ]
  },
  {
   "cell_type": "code",
   "execution_count": 18,
   "id": "be086472",
   "metadata": {
    "execution": {
     "iopub.execute_input": "2024-12-07T08:38:00.982709Z",
     "iopub.status.busy": "2024-12-07T08:38:00.982090Z",
     "iopub.status.idle": "2024-12-07T08:38:00.990554Z",
     "shell.execute_reply": "2024-12-07T08:38:00.989131Z"
    },
    "id": "jxFZkTS-W9Mm",
    "papermill": {
     "duration": 0.024782,
     "end_time": "2024-12-07T08:38:00.992669",
     "exception": false,
     "start_time": "2024-12-07T08:38:00.967887",
     "status": "completed"
    },
    "tags": []
   },
   "outputs": [
    {
     "data": {
      "text/plain": [
       "array([[23.889999],\n",
       "       [23.83    ],\n",
       "       [21.959999],\n",
       "       [19.200001],\n",
       "       [16.110001]])"
      ]
     },
     "execution_count": 18,
     "metadata": {},
     "output_type": "execute_result"
    }
   ],
   "source": [
    "tesla_df[0:5]"
   ]
  },
  {
   "cell_type": "code",
   "execution_count": 19,
   "id": "096d6e2e",
   "metadata": {
    "execution": {
     "iopub.execute_input": "2024-12-07T08:38:01.022297Z",
     "iopub.status.busy": "2024-12-07T08:38:01.021808Z",
     "iopub.status.idle": "2024-12-07T08:38:01.027403Z",
     "shell.execute_reply": "2024-12-07T08:38:01.026025Z"
    },
    "id": "iU7KJlc4XAb2",
    "papermill": {
     "duration": 0.023363,
     "end_time": "2024-12-07T08:38:01.029678",
     "exception": false,
     "start_time": "2024-12-07T08:38:01.006315",
     "status": "completed"
    },
    "tags": []
   },
   "outputs": [],
   "source": [
    "tesla_df = tesla_df.astype(\"float32\")"
   ]
  },
  {
   "cell_type": "code",
   "execution_count": 20,
   "id": "5ac16c99",
   "metadata": {
    "execution": {
     "iopub.execute_input": "2024-12-07T08:38:01.059130Z",
     "iopub.status.busy": "2024-12-07T08:38:01.058155Z",
     "iopub.status.idle": "2024-12-07T08:38:01.064616Z",
     "shell.execute_reply": "2024-12-07T08:38:01.063430Z"
    },
    "id": "r7Cywk9oXBI-",
    "papermill": {
     "duration": 0.023238,
     "end_time": "2024-12-07T08:38:01.066957",
     "exception": false,
     "start_time": "2024-12-07T08:38:01.043719",
     "status": "completed"
    },
    "tags": []
   },
   "outputs": [],
   "source": [
    "def split_data(dataframe, test_size):\n",
    "  position = int(round(len(dataframe) * (1 - test_size)))\n",
    "  train = dataframe[:position]\n",
    "  test = dataframe[position:]\n",
    "  return train, test, position"
   ]
  },
  {
   "cell_type": "code",
   "execution_count": 21,
   "id": "4fb02c59",
   "metadata": {
    "execution": {
     "iopub.execute_input": "2024-12-07T08:38:01.096072Z",
     "iopub.status.busy": "2024-12-07T08:38:01.095671Z",
     "iopub.status.idle": "2024-12-07T08:38:01.101569Z",
     "shell.execute_reply": "2024-12-07T08:38:01.100239Z"
    },
    "id": "COxqfz0SZvV_",
    "papermill": {
     "duration": 0.023828,
     "end_time": "2024-12-07T08:38:01.103853",
     "exception": false,
     "start_time": "2024-12-07T08:38:01.080025",
     "status": "completed"
    },
    "tags": []
   },
   "outputs": [],
   "source": [
    "train, test, position = split_data(tesla_df, 0.20)"
   ]
  },
  {
   "cell_type": "code",
   "execution_count": 22,
   "id": "f469233b",
   "metadata": {
    "execution": {
     "iopub.execute_input": "2024-12-07T08:38:01.133053Z",
     "iopub.status.busy": "2024-12-07T08:38:01.132103Z",
     "iopub.status.idle": "2024-12-07T08:38:01.138087Z",
     "shell.execute_reply": "2024-12-07T08:38:01.136981Z"
    },
    "id": "jESwxnt2Z1t5",
    "papermill": {
     "duration": 0.023188,
     "end_time": "2024-12-07T08:38:01.140513",
     "exception": false,
     "start_time": "2024-12-07T08:38:01.117325",
     "status": "completed"
    },
    "tags": []
   },
   "outputs": [
    {
     "name": "stdout",
     "output_type": "stream",
     "text": [
      "(1933, 1) (483, 1)\n"
     ]
    }
   ],
   "source": [
    "print(train.shape, test.shape)"
   ]
  },
  {
   "cell_type": "code",
   "execution_count": 23,
   "id": "c7ee3ba0",
   "metadata": {
    "execution": {
     "iopub.execute_input": "2024-12-07T08:38:01.170357Z",
     "iopub.status.busy": "2024-12-07T08:38:01.169250Z",
     "iopub.status.idle": "2024-12-07T08:38:01.174757Z",
     "shell.execute_reply": "2024-12-07T08:38:01.173604Z"
    },
    "id": "wleQDdgSZ8NZ",
    "papermill": {
     "duration": 0.022908,
     "end_time": "2024-12-07T08:38:01.176997",
     "exception": false,
     "start_time": "2024-12-07T08:38:01.154089",
     "status": "completed"
    },
    "tags": []
   },
   "outputs": [],
   "source": [
    "scaler_train = MinMaxScaler(feature_range = (0,1))"
   ]
  },
  {
   "cell_type": "code",
   "execution_count": 24,
   "id": "98f7079d",
   "metadata": {
    "execution": {
     "iopub.execute_input": "2024-12-07T08:38:01.205019Z",
     "iopub.status.busy": "2024-12-07T08:38:01.204624Z",
     "iopub.status.idle": "2024-12-07T08:38:01.210656Z",
     "shell.execute_reply": "2024-12-07T08:38:01.209556Z"
    },
    "id": "Enf8wikDaNZh",
    "papermill": {
     "duration": 0.0228,
     "end_time": "2024-12-07T08:38:01.212951",
     "exception": false,
     "start_time": "2024-12-07T08:38:01.190151",
     "status": "completed"
    },
    "tags": []
   },
   "outputs": [],
   "source": [
    "train = scaler_train.fit_transform(train)"
   ]
  },
  {
   "cell_type": "code",
   "execution_count": 25,
   "id": "607d4181",
   "metadata": {
    "execution": {
     "iopub.execute_input": "2024-12-07T08:38:01.242361Z",
     "iopub.status.busy": "2024-12-07T08:38:01.241345Z",
     "iopub.status.idle": "2024-12-07T08:38:01.246800Z",
     "shell.execute_reply": "2024-12-07T08:38:01.245476Z"
    },
    "id": "cg-7tCn_aXTc",
    "papermill": {
     "duration": 0.022575,
     "end_time": "2024-12-07T08:38:01.248913",
     "exception": false,
     "start_time": "2024-12-07T08:38:01.226338",
     "status": "completed"
    },
    "tags": []
   },
   "outputs": [],
   "source": [
    "scaler_test = MinMaxScaler(feature_range = (0,1))"
   ]
  },
  {
   "cell_type": "code",
   "execution_count": 26,
   "id": "3bc35eba",
   "metadata": {
    "execution": {
     "iopub.execute_input": "2024-12-07T08:38:01.276911Z",
     "iopub.status.busy": "2024-12-07T08:38:01.276538Z",
     "iopub.status.idle": "2024-12-07T08:38:01.282241Z",
     "shell.execute_reply": "2024-12-07T08:38:01.281047Z"
    },
    "id": "tSbuIifiabbC",
    "papermill": {
     "duration": 0.022103,
     "end_time": "2024-12-07T08:38:01.284237",
     "exception": false,
     "start_time": "2024-12-07T08:38:01.262134",
     "status": "completed"
    },
    "tags": []
   },
   "outputs": [],
   "source": [
    "test = scaler_test.fit_transform(test)"
   ]
  },
  {
   "cell_type": "code",
   "execution_count": 27,
   "id": "1e199060",
   "metadata": {
    "execution": {
     "iopub.execute_input": "2024-12-07T08:38:01.312104Z",
     "iopub.status.busy": "2024-12-07T08:38:01.311678Z",
     "iopub.status.idle": "2024-12-07T08:38:01.319851Z",
     "shell.execute_reply": "2024-12-07T08:38:01.318672Z"
    },
    "id": "X5a7m_BEagaJ",
    "papermill": {
     "duration": 0.024958,
     "end_time": "2024-12-07T08:38:01.322213",
     "exception": false,
     "start_time": "2024-12-07T08:38:01.297255",
     "status": "completed"
    },
    "tags": []
   },
   "outputs": [
    {
     "data": {
      "text/plain": [
       "array([[0.02191224],\n",
       "       [0.02174973],\n",
       "       [0.01668472],\n",
       "       [0.0092091 ],\n",
       "       [0.00083966]], dtype=float32)"
      ]
     },
     "execution_count": 27,
     "metadata": {},
     "output_type": "execute_result"
    }
   ],
   "source": [
    "train[0:5]"
   ]
  },
  {
   "cell_type": "code",
   "execution_count": 28,
   "id": "7ec43ab6",
   "metadata": {
    "execution": {
     "iopub.execute_input": "2024-12-07T08:38:01.350723Z",
     "iopub.status.busy": "2024-12-07T08:38:01.350210Z",
     "iopub.status.idle": "2024-12-07T08:38:01.358022Z",
     "shell.execute_reply": "2024-12-07T08:38:01.356763Z"
    },
    "id": "AeVSy_ijahnh",
    "papermill": {
     "duration": 0.024598,
     "end_time": "2024-12-07T08:38:01.360323",
     "exception": false,
     "start_time": "2024-12-07T08:38:01.335725",
     "status": "completed"
    },
    "tags": []
   },
   "outputs": [
    {
     "data": {
      "text/plain": [
       "array([[0.25685903],\n",
       "       [0.24829045],\n",
       "       [0.25511202],\n",
       "       [0.24978784],\n",
       "       [0.2465767 ]], dtype=float32)"
      ]
     },
     "execution_count": 28,
     "metadata": {},
     "output_type": "execute_result"
    }
   ],
   "source": [
    "test[0:5]"
   ]
  },
  {
   "cell_type": "code",
   "execution_count": 29,
   "id": "3e27c3cf",
   "metadata": {
    "execution": {
     "iopub.execute_input": "2024-12-07T08:38:01.403178Z",
     "iopub.status.busy": "2024-12-07T08:38:01.402766Z",
     "iopub.status.idle": "2024-12-07T08:38:01.409332Z",
     "shell.execute_reply": "2024-12-07T08:38:01.408268Z"
    },
    "id": "Gv95UqJWasHS",
    "papermill": {
     "duration": 0.02708,
     "end_time": "2024-12-07T08:38:01.411950",
     "exception": false,
     "start_time": "2024-12-07T08:38:01.384870",
     "status": "completed"
    },
    "tags": []
   },
   "outputs": [],
   "source": [
    "def create_features(data, lookback):\n",
    "  X, Y = [], []\n",
    "  for i in range(lookback, len(data)):\n",
    "    X.append(data[i-lookback:i,0])\n",
    "    Y.append(data[i,0])\n",
    "\n",
    "  return np.array(X), np.array(Y)"
   ]
  },
  {
   "cell_type": "code",
   "execution_count": 30,
   "id": "88f23bd2",
   "metadata": {
    "execution": {
     "iopub.execute_input": "2024-12-07T08:38:01.442995Z",
     "iopub.status.busy": "2024-12-07T08:38:01.442585Z",
     "iopub.status.idle": "2024-12-07T08:38:01.447760Z",
     "shell.execute_reply": "2024-12-07T08:38:01.446267Z"
    },
    "id": "e36Ux4_CbASm",
    "papermill": {
     "duration": 0.02309,
     "end_time": "2024-12-07T08:38:01.450179",
     "exception": false,
     "start_time": "2024-12-07T08:38:01.427089",
     "status": "completed"
    },
    "tags": []
   },
   "outputs": [],
   "source": [
    "lookback = 20"
   ]
  },
  {
   "cell_type": "code",
   "execution_count": 31,
   "id": "95b5fd86",
   "metadata": {
    "execution": {
     "iopub.execute_input": "2024-12-07T08:38:01.480754Z",
     "iopub.status.busy": "2024-12-07T08:38:01.480316Z",
     "iopub.status.idle": "2024-12-07T08:38:01.489095Z",
     "shell.execute_reply": "2024-12-07T08:38:01.487705Z"
    },
    "id": "Xd8JMdaWbCzp",
    "papermill": {
     "duration": 0.026143,
     "end_time": "2024-12-07T08:38:01.491719",
     "exception": false,
     "start_time": "2024-12-07T08:38:01.465576",
     "status": "completed"
    },
    "tags": []
   },
   "outputs": [],
   "source": [
    "X_train, y_train = create_features(train, lookback)"
   ]
  },
  {
   "cell_type": "code",
   "execution_count": 32,
   "id": "3bcf8b92",
   "metadata": {
    "execution": {
     "iopub.execute_input": "2024-12-07T08:38:01.575894Z",
     "iopub.status.busy": "2024-12-07T08:38:01.575479Z",
     "iopub.status.idle": "2024-12-07T08:38:01.581981Z",
     "shell.execute_reply": "2024-12-07T08:38:01.580740Z"
    },
    "id": "wHgq8DT5bF_Z",
    "papermill": {
     "duration": 0.079234,
     "end_time": "2024-12-07T08:38:01.584368",
     "exception": false,
     "start_time": "2024-12-07T08:38:01.505134",
     "status": "completed"
    },
    "tags": []
   },
   "outputs": [],
   "source": [
    "X_test, y_test = create_features(test, lookback)"
   ]
  },
  {
   "cell_type": "code",
   "execution_count": 33,
   "id": "9b4fe005",
   "metadata": {
    "execution": {
     "iopub.execute_input": "2024-12-07T08:38:01.615012Z",
     "iopub.status.busy": "2024-12-07T08:38:01.614038Z",
     "iopub.status.idle": "2024-12-07T08:38:01.620839Z",
     "shell.execute_reply": "2024-12-07T08:38:01.619549Z"
    },
    "id": "zYQy_33TbKdb",
    "papermill": {
     "duration": 0.024658,
     "end_time": "2024-12-07T08:38:01.623068",
     "exception": false,
     "start_time": "2024-12-07T08:38:01.598410",
     "status": "completed"
    },
    "tags": []
   },
   "outputs": [
    {
     "name": "stdout",
     "output_type": "stream",
     "text": [
      "(1913, 20) (1913,) (463, 20) (463,)\n"
     ]
    }
   ],
   "source": [
    "print(X_train.shape, y_train.shape, X_test.shape, y_test.shape)"
   ]
  },
  {
   "cell_type": "code",
   "execution_count": 34,
   "id": "4183bd7c",
   "metadata": {
    "execution": {
     "iopub.execute_input": "2024-12-07T08:38:01.652710Z",
     "iopub.status.busy": "2024-12-07T08:38:01.652242Z",
     "iopub.status.idle": "2024-12-07T08:38:01.660605Z",
     "shell.execute_reply": "2024-12-07T08:38:01.659423Z"
    },
    "id": "sI1k-K6bTKuw",
    "papermill": {
     "duration": 0.026233,
     "end_time": "2024-12-07T08:38:01.663103",
     "exception": false,
     "start_time": "2024-12-07T08:38:01.636870",
     "status": "completed"
    },
    "tags": []
   },
   "outputs": [
    {
     "data": {
      "text/plain": [
       "array([[0.02191224, 0.02174973, 0.01668472, 0.0092091 , 0.00083966,\n",
       "        0.        , 0.00449621, 0.00433369, 0.0033857 , 0.00633803,\n",
       "        0.01094258, 0.011078  , 0.01310942, 0.0165493 , 0.01218851,\n",
       "        0.01197183, 0.01408451, 0.01486999, 0.01394908, 0.01286566],\n",
       "       [0.02174973, 0.01668472, 0.0092091 , 0.00083966, 0.        ,\n",
       "        0.00449621, 0.00433369, 0.0033857 , 0.00633803, 0.01094258,\n",
       "        0.011078  , 0.01310942, 0.0165493 , 0.01218851, 0.01197183,\n",
       "        0.01408451, 0.01486999, 0.01394908, 0.01286566, 0.01332611],\n",
       "       [0.01668472, 0.0092091 , 0.00083966, 0.        , 0.00449621,\n",
       "        0.00433369, 0.0033857 , 0.00633803, 0.01094258, 0.011078  ,\n",
       "        0.01310942, 0.0165493 , 0.01218851, 0.01197183, 0.01408451,\n",
       "        0.01486999, 0.01394908, 0.01286566, 0.01332611, 0.01232395],\n",
       "       [0.0092091 , 0.00083966, 0.        , 0.00449621, 0.00433369,\n",
       "        0.0033857 , 0.00633803, 0.01094258, 0.011078  , 0.01310942,\n",
       "        0.0165493 , 0.01218851, 0.01197183, 0.01408451, 0.01486999,\n",
       "        0.01394908, 0.01286566, 0.01332611, 0.01232395, 0.01121344],\n",
       "       [0.00083966, 0.        , 0.00449621, 0.00433369, 0.0033857 ,\n",
       "        0.00633803, 0.01094258, 0.011078  , 0.01310942, 0.0165493 ,\n",
       "        0.01218851, 0.01197183, 0.01408451, 0.01486999, 0.01394908,\n",
       "        0.01286566, 0.01332611, 0.01232395, 0.01121344, 0.01386782]],\n",
       "      dtype=float32)"
      ]
     },
     "execution_count": 34,
     "metadata": {},
     "output_type": "execute_result"
    }
   ],
   "source": [
    "X_train[0:5]"
   ]
  },
  {
   "cell_type": "code",
   "execution_count": 35,
   "id": "331aa71e",
   "metadata": {
    "execution": {
     "iopub.execute_input": "2024-12-07T08:38:01.695215Z",
     "iopub.status.busy": "2024-12-07T08:38:01.693972Z",
     "iopub.status.idle": "2024-12-07T08:38:01.702122Z",
     "shell.execute_reply": "2024-12-07T08:38:01.700799Z"
    },
    "id": "vY5hCVQHTg9u",
    "papermill": {
     "duration": 0.027812,
     "end_time": "2024-12-07T08:38:01.704813",
     "exception": false,
     "start_time": "2024-12-07T08:38:01.677001",
     "status": "completed"
    },
    "tags": []
   },
   "outputs": [
    {
     "data": {
      "text/plain": [
       "array([0.01332611, 0.01232395, 0.01121344, 0.01386782, 0.01665764],\n",
       "      dtype=float32)"
      ]
     },
     "execution_count": 35,
     "metadata": {},
     "output_type": "execute_result"
    }
   ],
   "source": [
    "y_train[0:5]"
   ]
  },
  {
   "cell_type": "code",
   "execution_count": 36,
   "id": "55c6661b",
   "metadata": {
    "execution": {
     "iopub.execute_input": "2024-12-07T08:38:01.735971Z",
     "iopub.status.busy": "2024-12-07T08:38:01.735540Z",
     "iopub.status.idle": "2024-12-07T08:38:01.742169Z",
     "shell.execute_reply": "2024-12-07T08:38:01.740885Z"
    },
    "id": "yvf-4kLybad5",
    "papermill": {
     "duration": 0.025923,
     "end_time": "2024-12-07T08:38:01.744624",
     "exception": false,
     "start_time": "2024-12-07T08:38:01.718701",
     "status": "completed"
    },
    "tags": []
   },
   "outputs": [],
   "source": [
    "X_train = np.reshape(X_train, (X_train.shape[0], 1, X_train.shape[1]))\n",
    "X_test = np.reshape(X_test, (X_test.shape[0], 1, X_test.shape[1]))\n",
    "y_train = y_train.reshape(-1,1)\n",
    "y_test = y_test.reshape(-1,1)"
   ]
  },
  {
   "cell_type": "code",
   "execution_count": 37,
   "id": "5f3c2a87",
   "metadata": {
    "execution": {
     "iopub.execute_input": "2024-12-07T08:38:01.774584Z",
     "iopub.status.busy": "2024-12-07T08:38:01.774169Z",
     "iopub.status.idle": "2024-12-07T08:38:01.780797Z",
     "shell.execute_reply": "2024-12-07T08:38:01.779345Z"
    },
    "id": "D2ltv0Edb3wz",
    "papermill": {
     "duration": 0.024029,
     "end_time": "2024-12-07T08:38:01.783207",
     "exception": false,
     "start_time": "2024-12-07T08:38:01.759178",
     "status": "completed"
    },
    "tags": []
   },
   "outputs": [
    {
     "name": "stdout",
     "output_type": "stream",
     "text": [
      "(1913, 1, 20) (1913, 1) (463, 1, 20) (463, 1)\n"
     ]
    }
   ],
   "source": [
    "print(X_train.shape, y_train.shape, X_test.shape, y_test.shape)"
   ]
  },
  {
   "cell_type": "markdown",
   "id": "441c97a9",
   "metadata": {
    "id": "DtsN3xazcIAn",
    "papermill": {
     "duration": 0.013747,
     "end_time": "2024-12-07T08:38:01.811537",
     "exception": false,
     "start_time": "2024-12-07T08:38:01.797790",
     "status": "completed"
    },
    "tags": []
   },
   "source": [
    "## Modelling"
   ]
  },
  {
   "cell_type": "code",
   "execution_count": 38,
   "id": "62ce0e5a",
   "metadata": {
    "execution": {
     "iopub.execute_input": "2024-12-07T08:38:01.841507Z",
     "iopub.status.busy": "2024-12-07T08:38:01.841087Z",
     "iopub.status.idle": "2024-12-07T08:38:01.974702Z",
     "shell.execute_reply": "2024-12-07T08:38:01.973473Z"
    },
    "id": "QtbQx4G9cI_z",
    "papermill": {
     "duration": 0.151542,
     "end_time": "2024-12-07T08:38:01.977403",
     "exception": false,
     "start_time": "2024-12-07T08:38:01.825861",
     "status": "completed"
    },
    "tags": []
   },
   "outputs": [],
   "source": [
    "model = Sequential()\n",
    "\n",
    "model.add(LSTM(units = 50,\n",
    "                    activation = 'relu',\n",
    "                    input_shape=(X_train.shape[1], lookback)))\n",
    "\n",
    "model.add(Dropout(0.2))\n",
    "\n",
    "model.add(Dense(1))\n"
   ]
  },
  {
   "cell_type": "code",
   "execution_count": 39,
   "id": "939a08ce",
   "metadata": {
    "execution": {
     "iopub.execute_input": "2024-12-07T08:38:02.007682Z",
     "iopub.status.busy": "2024-12-07T08:38:02.007240Z",
     "iopub.status.idle": "2024-12-07T08:38:02.030388Z",
     "shell.execute_reply": "2024-12-07T08:38:02.029055Z"
    },
    "id": "RQFXIkDbciE6",
    "papermill": {
     "duration": 0.04097,
     "end_time": "2024-12-07T08:38:02.032920",
     "exception": false,
     "start_time": "2024-12-07T08:38:01.991950",
     "status": "completed"
    },
    "tags": []
   },
   "outputs": [
    {
     "data": {
      "text/html": [
       "<pre style=\"white-space:pre;overflow-x:auto;line-height:normal;font-family:Menlo,'DejaVu Sans Mono',consolas,'Courier New',monospace\"><span style=\"font-weight: bold\">Model: \"sequential\"</span>\n",
       "</pre>\n"
      ],
      "text/plain": [
       "\u001b[1mModel: \"sequential\"\u001b[0m\n"
      ]
     },
     "metadata": {},
     "output_type": "display_data"
    },
    {
     "data": {
      "text/html": [
       "<pre style=\"white-space:pre;overflow-x:auto;line-height:normal;font-family:Menlo,'DejaVu Sans Mono',consolas,'Courier New',monospace\">┏━━━━━━━━━━━━━━━━━━━━━━━━━━━━━━━━━┳━━━━━━━━━━━━━━━━━━━━━━━━┳━━━━━━━━━━━━━━━┓\n",
       "┃<span style=\"font-weight: bold\"> Layer (type)                    </span>┃<span style=\"font-weight: bold\"> Output Shape           </span>┃<span style=\"font-weight: bold\">       Param # </span>┃\n",
       "┡━━━━━━━━━━━━━━━━━━━━━━━━━━━━━━━━━╇━━━━━━━━━━━━━━━━━━━━━━━━╇━━━━━━━━━━━━━━━┩\n",
       "│ lstm (<span style=\"color: #0087ff; text-decoration-color: #0087ff\">LSTM</span>)                     │ (<span style=\"color: #00d7ff; text-decoration-color: #00d7ff\">None</span>, <span style=\"color: #00af00; text-decoration-color: #00af00\">50</span>)             │        <span style=\"color: #00af00; text-decoration-color: #00af00\">14,200</span> │\n",
       "├─────────────────────────────────┼────────────────────────┼───────────────┤\n",
       "│ dropout (<span style=\"color: #0087ff; text-decoration-color: #0087ff\">Dropout</span>)               │ (<span style=\"color: #00d7ff; text-decoration-color: #00d7ff\">None</span>, <span style=\"color: #00af00; text-decoration-color: #00af00\">50</span>)             │             <span style=\"color: #00af00; text-decoration-color: #00af00\">0</span> │\n",
       "├─────────────────────────────────┼────────────────────────┼───────────────┤\n",
       "│ dense (<span style=\"color: #0087ff; text-decoration-color: #0087ff\">Dense</span>)                   │ (<span style=\"color: #00d7ff; text-decoration-color: #00d7ff\">None</span>, <span style=\"color: #00af00; text-decoration-color: #00af00\">1</span>)              │            <span style=\"color: #00af00; text-decoration-color: #00af00\">51</span> │\n",
       "└─────────────────────────────────┴────────────────────────┴───────────────┘\n",
       "</pre>\n"
      ],
      "text/plain": [
       "┏━━━━━━━━━━━━━━━━━━━━━━━━━━━━━━━━━┳━━━━━━━━━━━━━━━━━━━━━━━━┳━━━━━━━━━━━━━━━┓\n",
       "┃\u001b[1m \u001b[0m\u001b[1mLayer (type)                   \u001b[0m\u001b[1m \u001b[0m┃\u001b[1m \u001b[0m\u001b[1mOutput Shape          \u001b[0m\u001b[1m \u001b[0m┃\u001b[1m \u001b[0m\u001b[1m      Param #\u001b[0m\u001b[1m \u001b[0m┃\n",
       "┡━━━━━━━━━━━━━━━━━━━━━━━━━━━━━━━━━╇━━━━━━━━━━━━━━━━━━━━━━━━╇━━━━━━━━━━━━━━━┩\n",
       "│ lstm (\u001b[38;5;33mLSTM\u001b[0m)                     │ (\u001b[38;5;45mNone\u001b[0m, \u001b[38;5;34m50\u001b[0m)             │        \u001b[38;5;34m14,200\u001b[0m │\n",
       "├─────────────────────────────────┼────────────────────────┼───────────────┤\n",
       "│ dropout (\u001b[38;5;33mDropout\u001b[0m)               │ (\u001b[38;5;45mNone\u001b[0m, \u001b[38;5;34m50\u001b[0m)             │             \u001b[38;5;34m0\u001b[0m │\n",
       "├─────────────────────────────────┼────────────────────────┼───────────────┤\n",
       "│ dense (\u001b[38;5;33mDense\u001b[0m)                   │ (\u001b[38;5;45mNone\u001b[0m, \u001b[38;5;34m1\u001b[0m)              │            \u001b[38;5;34m51\u001b[0m │\n",
       "└─────────────────────────────────┴────────────────────────┴───────────────┘\n"
      ]
     },
     "metadata": {},
     "output_type": "display_data"
    },
    {
     "data": {
      "text/html": [
       "<pre style=\"white-space:pre;overflow-x:auto;line-height:normal;font-family:Menlo,'DejaVu Sans Mono',consolas,'Courier New',monospace\"><span style=\"font-weight: bold\"> Total params: </span><span style=\"color: #00af00; text-decoration-color: #00af00\">14,251</span> (55.67 KB)\n",
       "</pre>\n"
      ],
      "text/plain": [
       "\u001b[1m Total params: \u001b[0m\u001b[38;5;34m14,251\u001b[0m (55.67 KB)\n"
      ]
     },
     "metadata": {},
     "output_type": "display_data"
    },
    {
     "data": {
      "text/html": [
       "<pre style=\"white-space:pre;overflow-x:auto;line-height:normal;font-family:Menlo,'DejaVu Sans Mono',consolas,'Courier New',monospace\"><span style=\"font-weight: bold\"> Trainable params: </span><span style=\"color: #00af00; text-decoration-color: #00af00\">14,251</span> (55.67 KB)\n",
       "</pre>\n"
      ],
      "text/plain": [
       "\u001b[1m Trainable params: \u001b[0m\u001b[38;5;34m14,251\u001b[0m (55.67 KB)\n"
      ]
     },
     "metadata": {},
     "output_type": "display_data"
    },
    {
     "data": {
      "text/html": [
       "<pre style=\"white-space:pre;overflow-x:auto;line-height:normal;font-family:Menlo,'DejaVu Sans Mono',consolas,'Courier New',monospace\"><span style=\"font-weight: bold\"> Non-trainable params: </span><span style=\"color: #00af00; text-decoration-color: #00af00\">0</span> (0.00 B)\n",
       "</pre>\n"
      ],
      "text/plain": [
       "\u001b[1m Non-trainable params: \u001b[0m\u001b[38;5;34m0\u001b[0m (0.00 B)\n"
      ]
     },
     "metadata": {},
     "output_type": "display_data"
    }
   ],
   "source": [
    "model.summary()"
   ]
  },
  {
   "cell_type": "code",
   "execution_count": 40,
   "id": "d37b3485",
   "metadata": {
    "execution": {
     "iopub.execute_input": "2024-12-07T08:38:02.064770Z",
     "iopub.status.busy": "2024-12-07T08:38:02.064344Z",
     "iopub.status.idle": "2024-12-07T08:38:02.079983Z",
     "shell.execute_reply": "2024-12-07T08:38:02.078727Z"
    },
    "id": "NE6_O7IwclkT",
    "papermill": {
     "duration": 0.034816,
     "end_time": "2024-12-07T08:38:02.082828",
     "exception": false,
     "start_time": "2024-12-07T08:38:02.048012",
     "status": "completed"
    },
    "tags": []
   },
   "outputs": [],
   "source": [
    "model.compile(loss='mean_squared_error', optimizer='adam')"
   ]
  },
  {
   "cell_type": "code",
   "execution_count": 41,
   "id": "cbcf11e3",
   "metadata": {
    "execution": {
     "iopub.execute_input": "2024-12-07T08:38:02.114362Z",
     "iopub.status.busy": "2024-12-07T08:38:02.113916Z",
     "iopub.status.idle": "2024-12-07T08:38:02.119796Z",
     "shell.execute_reply": "2024-12-07T08:38:02.118651Z"
    },
    "id": "JLqjYZudc3Is",
    "papermill": {
     "duration": 0.024136,
     "end_time": "2024-12-07T08:38:02.122240",
     "exception": false,
     "start_time": "2024-12-07T08:38:02.098104",
     "status": "completed"
    },
    "tags": []
   },
   "outputs": [],
   "source": [
    "callbacks = (EarlyStopping(monitor='val_loss', patience=10, verbose=1, mode='min'),\n",
    "            ModelCheckpoint(filepath='mymodel.keras', monitor='val_loss', mode='min',\n",
    "            save_best_only = True, save_weights_only = False, verbose = 1))"
   ]
  },
  {
   "cell_type": "code",
   "execution_count": 42,
   "id": "951095fd",
   "metadata": {
    "execution": {
     "iopub.execute_input": "2024-12-07T08:38:02.153805Z",
     "iopub.status.busy": "2024-12-07T08:38:02.153382Z",
     "iopub.status.idle": "2024-12-07T08:38:10.484001Z",
     "shell.execute_reply": "2024-12-07T08:38:10.482850Z"
    },
    "id": "7Pv-Fb9FdSf7",
    "papermill": {
     "duration": 8.349668,
     "end_time": "2024-12-07T08:38:10.486693",
     "exception": false,
     "start_time": "2024-12-07T08:38:02.137025",
     "status": "completed"
    },
    "tags": []
   },
   "outputs": [
    {
     "name": "stdout",
     "output_type": "stream",
     "text": [
      "Epoch 1/100\n",
      "\u001b[1m78/96\u001b[0m \u001b[32m━━━━━━━━━━━━━━━━\u001b[0m\u001b[37m━━━━\u001b[0m \u001b[1m0s\u001b[0m 2ms/step - loss: 0.0049\n",
      "Epoch 1: val_loss improved from inf to 0.00485, saving model to mymodel.keras\n",
      "\u001b[1m96/96\u001b[0m \u001b[32m━━━━━━━━━━━━━━━━━━━━\u001b[0m\u001b[37m\u001b[0m \u001b[1m2s\u001b[0m 6ms/step - loss: 0.0060 - val_loss: 0.0048\n",
      "Epoch 2/100\n",
      "\u001b[1m74/96\u001b[0m \u001b[32m━━━━━━━━━━━━━━━\u001b[0m\u001b[37m━━━━━\u001b[0m \u001b[1m0s\u001b[0m 2ms/step - loss: 0.0056\n",
      "Epoch 2: val_loss improved from 0.00485 to 0.00424, saving model to mymodel.keras\n",
      "\u001b[1m96/96\u001b[0m \u001b[32m━━━━━━━━━━━━━━━━━━━━\u001b[0m\u001b[37m\u001b[0m \u001b[1m0s\u001b[0m 3ms/step - loss: 0.0060 - val_loss: 0.0042\n",
      "Epoch 3/100\n",
      "\u001b[1m95/96\u001b[0m \u001b[32m━━━━━━━━━━━━━━━━━━━\u001b[0m\u001b[37m━\u001b[0m \u001b[1m0s\u001b[0m 2ms/step - loss: 0.0044\n",
      "Epoch 3: val_loss improved from 0.00424 to 0.00377, saving model to mymodel.keras\n",
      "\u001b[1m96/96\u001b[0m \u001b[32m━━━━━━━━━━━━━━━━━━━━\u001b[0m\u001b[37m\u001b[0m \u001b[1m0s\u001b[0m 3ms/step - loss: 0.0045 - val_loss: 0.0038\n",
      "Epoch 4/100\n",
      "\u001b[1m94/96\u001b[0m \u001b[32m━━━━━━━━━━━━━━━━━━━\u001b[0m\u001b[37m━\u001b[0m \u001b[1m0s\u001b[0m 2ms/step - loss: 0.0032\n",
      "Epoch 4: val_loss improved from 0.00377 to 0.00334, saving model to mymodel.keras\n",
      "\u001b[1m96/96\u001b[0m \u001b[32m━━━━━━━━━━━━━━━━━━━━\u001b[0m\u001b[37m\u001b[0m \u001b[1m0s\u001b[0m 3ms/step - loss: 0.0033 - val_loss: 0.0033\n",
      "Epoch 5/100\n",
      "\u001b[1m85/96\u001b[0m \u001b[32m━━━━━━━━━━━━━━━━━\u001b[0m\u001b[37m━━━\u001b[0m \u001b[1m0s\u001b[0m 2ms/step - loss: 0.0023\n",
      "Epoch 5: val_loss improved from 0.00334 to 0.00317, saving model to mymodel.keras\n",
      "\u001b[1m96/96\u001b[0m \u001b[32m━━━━━━━━━━━━━━━━━━━━\u001b[0m\u001b[37m\u001b[0m \u001b[1m0s\u001b[0m 3ms/step - loss: 0.0026 - val_loss: 0.0032\n",
      "Epoch 6/100\n",
      "\u001b[1m88/96\u001b[0m \u001b[32m━━━━━━━━━━━━━━━━━━\u001b[0m\u001b[37m━━\u001b[0m \u001b[1m0s\u001b[0m 2ms/step - loss: 0.0021\n",
      "Epoch 6: val_loss did not improve from 0.00317\n",
      "\u001b[1m96/96\u001b[0m \u001b[32m━━━━━━━━━━━━━━━━━━━━\u001b[0m\u001b[37m\u001b[0m \u001b[1m0s\u001b[0m 3ms/step - loss: 0.0023 - val_loss: 0.0032\n",
      "Epoch 7/100\n",
      "\u001b[1m94/96\u001b[0m \u001b[32m━━━━━━━━━━━━━━━━━━━\u001b[0m\u001b[37m━\u001b[0m \u001b[1m0s\u001b[0m 2ms/step - loss: 0.0021\n",
      "Epoch 7: val_loss improved from 0.00317 to 0.00301, saving model to mymodel.keras\n",
      "\u001b[1m96/96\u001b[0m \u001b[32m━━━━━━━━━━━━━━━━━━━━\u001b[0m\u001b[37m\u001b[0m \u001b[1m0s\u001b[0m 3ms/step - loss: 0.0022 - val_loss: 0.0030\n",
      "Epoch 8/100\n",
      "\u001b[1m93/96\u001b[0m \u001b[32m━━━━━━━━━━━━━━━━━━━\u001b[0m\u001b[37m━\u001b[0m \u001b[1m0s\u001b[0m 2ms/step - loss: 0.0021\n",
      "Epoch 8: val_loss improved from 0.00301 to 0.00282, saving model to mymodel.keras\n",
      "\u001b[1m96/96\u001b[0m \u001b[32m━━━━━━━━━━━━━━━━━━━━\u001b[0m\u001b[37m\u001b[0m \u001b[1m0s\u001b[0m 3ms/step - loss: 0.0022 - val_loss: 0.0028\n",
      "Epoch 9/100\n",
      "\u001b[1m75/96\u001b[0m \u001b[32m━━━━━━━━━━━━━━━\u001b[0m\u001b[37m━━━━━\u001b[0m \u001b[1m0s\u001b[0m 2ms/step - loss: 0.0015    \n",
      "Epoch 9: val_loss improved from 0.00282 to 0.00267, saving model to mymodel.keras\n",
      "\u001b[1m96/96\u001b[0m \u001b[32m━━━━━━━━━━━━━━━━━━━━\u001b[0m\u001b[37m\u001b[0m \u001b[1m0s\u001b[0m 3ms/step - loss: 0.0020 - val_loss: 0.0027\n",
      "Epoch 10/100\n",
      "\u001b[1m78/96\u001b[0m \u001b[32m━━━━━━━━━━━━━━━━\u001b[0m\u001b[37m━━━━\u001b[0m \u001b[1m0s\u001b[0m 2ms/step - loss: 0.0014    \n",
      "Epoch 10: val_loss improved from 0.00267 to 0.00260, saving model to mymodel.keras\n",
      "\u001b[1m96/96\u001b[0m \u001b[32m━━━━━━━━━━━━━━━━━━━━\u001b[0m\u001b[37m\u001b[0m \u001b[1m0s\u001b[0m 3ms/step - loss: 0.0018 - val_loss: 0.0026\n",
      "Epoch 11/100\n",
      "\u001b[1m96/96\u001b[0m \u001b[32m━━━━━━━━━━━━━━━━━━━━\u001b[0m\u001b[37m\u001b[0m \u001b[1m0s\u001b[0m 2ms/step - loss: 0.0020\n",
      "Epoch 11: val_loss did not improve from 0.00260\n",
      "\u001b[1m96/96\u001b[0m \u001b[32m━━━━━━━━━━━━━━━━━━━━\u001b[0m\u001b[37m\u001b[0m \u001b[1m0s\u001b[0m 3ms/step - loss: 0.0020 - val_loss: 0.0037\n",
      "Epoch 12/100\n",
      "\u001b[1m72/96\u001b[0m \u001b[32m━━━━━━━━━━━━━━━\u001b[0m\u001b[37m━━━━━\u001b[0m \u001b[1m0s\u001b[0m 2ms/step - loss: 0.0017\n",
      "Epoch 12: val_loss did not improve from 0.00260\n",
      "\u001b[1m96/96\u001b[0m \u001b[32m━━━━━━━━━━━━━━━━━━━━\u001b[0m\u001b[37m\u001b[0m \u001b[1m0s\u001b[0m 3ms/step - loss: 0.0022 - val_loss: 0.0032\n",
      "Epoch 13/100\n",
      "\u001b[1m75/96\u001b[0m \u001b[32m━━━━━━━━━━━━━━━\u001b[0m\u001b[37m━━━━━\u001b[0m \u001b[1m0s\u001b[0m 2ms/step - loss: 0.0016\n",
      "Epoch 13: val_loss did not improve from 0.00260\n",
      "\u001b[1m96/96\u001b[0m \u001b[32m━━━━━━━━━━━━━━━━━━━━\u001b[0m\u001b[37m\u001b[0m \u001b[1m0s\u001b[0m 3ms/step - loss: 0.0020 - val_loss: 0.0040\n",
      "Epoch 14/100\n",
      "\u001b[1m96/96\u001b[0m \u001b[32m━━━━━━━━━━━━━━━━━━━━\u001b[0m\u001b[37m\u001b[0m \u001b[1m0s\u001b[0m 2ms/step - loss: 0.0019\n",
      "Epoch 14: val_loss did not improve from 0.00260\n",
      "\u001b[1m96/96\u001b[0m \u001b[32m━━━━━━━━━━━━━━━━━━━━\u001b[0m\u001b[37m\u001b[0m \u001b[1m0s\u001b[0m 3ms/step - loss: 0.0019 - val_loss: 0.0031\n",
      "Epoch 15/100\n",
      "\u001b[1m96/96\u001b[0m \u001b[32m━━━━━━━━━━━━━━━━━━━━\u001b[0m\u001b[37m\u001b[0m \u001b[1m0s\u001b[0m 2ms/step - loss: 0.0017\n",
      "Epoch 15: val_loss did not improve from 0.00260\n",
      "\u001b[1m96/96\u001b[0m \u001b[32m━━━━━━━━━━━━━━━━━━━━\u001b[0m\u001b[37m\u001b[0m \u001b[1m0s\u001b[0m 3ms/step - loss: 0.0018 - val_loss: 0.0035\n",
      "Epoch 16/100\n",
      "\u001b[1m73/96\u001b[0m \u001b[32m━━━━━━━━━━━━━━━\u001b[0m\u001b[37m━━━━━\u001b[0m \u001b[1m0s\u001b[0m 2ms/step - loss: 0.0014    \n",
      "Epoch 16: val_loss did not improve from 0.00260\n",
      "\u001b[1m96/96\u001b[0m \u001b[32m━━━━━━━━━━━━━━━━━━━━\u001b[0m\u001b[37m\u001b[0m \u001b[1m0s\u001b[0m 3ms/step - loss: 0.0020 - val_loss: 0.0041\n",
      "Epoch 17/100\n",
      "\u001b[1m77/96\u001b[0m \u001b[32m━━━━━━━━━━━━━━━━\u001b[0m\u001b[37m━━━━\u001b[0m \u001b[1m0s\u001b[0m 2ms/step - loss: 0.0014    \n",
      "Epoch 17: val_loss did not improve from 0.00260\n",
      "\u001b[1m96/96\u001b[0m \u001b[32m━━━━━━━━━━━━━━━━━━━━\u001b[0m\u001b[37m\u001b[0m \u001b[1m0s\u001b[0m 3ms/step - loss: 0.0019 - val_loss: 0.0053\n",
      "Epoch 18/100\n",
      "\u001b[1m94/96\u001b[0m \u001b[32m━━━━━━━━━━━━━━━━━━━\u001b[0m\u001b[37m━\u001b[0m \u001b[1m0s\u001b[0m 2ms/step - loss: 0.0021\n",
      "Epoch 18: val_loss did not improve from 0.00260\n",
      "\u001b[1m96/96\u001b[0m \u001b[32m━━━━━━━━━━━━━━━━━━━━\u001b[0m\u001b[37m\u001b[0m \u001b[1m0s\u001b[0m 3ms/step - loss: 0.0022 - val_loss: 0.0070\n",
      "Epoch 19/100\n",
      "\u001b[1m75/96\u001b[0m \u001b[32m━━━━━━━━━━━━━━━\u001b[0m\u001b[37m━━━━━\u001b[0m \u001b[1m0s\u001b[0m 3ms/step - loss: 0.0018\n",
      "Epoch 19: val_loss did not improve from 0.00260\n",
      "\u001b[1m96/96\u001b[0m \u001b[32m━━━━━━━━━━━━━━━━━━━━\u001b[0m\u001b[37m\u001b[0m \u001b[1m0s\u001b[0m 3ms/step - loss: 0.0023 - val_loss: 0.0037\n",
      "Epoch 20/100\n",
      "\u001b[1m96/96\u001b[0m \u001b[32m━━━━━━━━━━━━━━━━━━━━\u001b[0m\u001b[37m\u001b[0m \u001b[1m0s\u001b[0m 2ms/step - loss: 0.0018\n",
      "Epoch 20: val_loss did not improve from 0.00260\n",
      "\u001b[1m96/96\u001b[0m \u001b[32m━━━━━━━━━━━━━━━━━━━━\u001b[0m\u001b[37m\u001b[0m \u001b[1m0s\u001b[0m 3ms/step - loss: 0.0018 - val_loss: 0.0063\n",
      "Epoch 20: early stopping\n"
     ]
    }
   ],
   "source": [
    "history = model.fit(x=X_train,\n",
    "                    y=y_train,\n",
    "                    epochs=100,\n",
    "                    batch_size=20,\n",
    "                    validation_data=(X_test, y_test),\n",
    "                    callbacks=[callbacks],\n",
    "                    shuffle=False)"
   ]
  },
  {
   "cell_type": "code",
   "execution_count": 43,
   "id": "d217fe5e",
   "metadata": {
    "execution": {
     "iopub.execute_input": "2024-12-07T08:38:10.535313Z",
     "iopub.status.busy": "2024-12-07T08:38:10.534897Z",
     "iopub.status.idle": "2024-12-07T08:38:10.819717Z",
     "shell.execute_reply": "2024-12-07T08:38:10.818480Z"
    },
    "id": "VzxR8n1yeGpV",
    "papermill": {
     "duration": 0.311822,
     "end_time": "2024-12-07T08:38:10.822161",
     "exception": false,
     "start_time": "2024-12-07T08:38:10.510339",
     "status": "completed"
    },
    "tags": []
   },
   "outputs": [
    {
     "data": {
      "image/png": "[encoded data removed]",
      "text/plain": [
       "<Figure size 2000x500 with 1 Axes>"
      ]
     },
     "metadata": {},
     "output_type": "display_data"
    }
   ],
   "source": [
    "plt.figure(figsize=(20,5))\n",
    "plt.subplot(1,2,1)\n",
    "plt.plot(history.history['loss'], label='Training Loss')\n",
    "plt.plot(history.history['val_loss'], label='Validation Loss')\n",
    "plt.legend(loc='upper right')\n",
    "plt.xlabel('Epoch', fontsize = 16)\n",
    "plt.ylabel('Loss', fontsize = 16)\n",
    "plt.ylim([0,max(plt.ylim())])\n",
    "plt.title('Training and Validation Loss', fontsize = 16)\n",
    "plt.show()"
   ]
  },
  {
   "cell_type": "markdown",
   "id": "92c224d3",
   "metadata": {
    "id": "XO0NGWQWerLU",
    "papermill": {
     "duration": 0.023289,
     "end_time": "2024-12-07T08:38:10.869876",
     "exception": false,
     "start_time": "2024-12-07T08:38:10.846587",
     "status": "completed"
    },
    "tags": []
   },
   "source": [
    "## Evaluation"
   ]
  },
  {
   "cell_type": "code",
   "execution_count": 44,
   "id": "fbe4c56d",
   "metadata": {
    "execution": {
     "iopub.execute_input": "2024-12-07T08:38:10.919737Z",
     "iopub.status.busy": "2024-12-07T08:38:10.919350Z",
     "iopub.status.idle": "2024-12-07T08:38:11.540973Z",
     "shell.execute_reply": "2024-12-07T08:38:11.539397Z"
    },
    "id": "hyeoNUjxetH-",
    "papermill": {
     "duration": 0.649975,
     "end_time": "2024-12-07T08:38:11.543456",
     "exception": false,
     "start_time": "2024-12-07T08:38:10.893481",
     "status": "completed"
    },
    "tags": []
   },
   "outputs": [
    {
     "name": "stdout",
     "output_type": "stream",
     "text": [
      "\u001b[1m463/463\u001b[0m \u001b[32m━━━━━━━━━━━━━━━━━━━━\u001b[0m\u001b[37m\u001b[0m \u001b[1m1s\u001b[0m 1ms/step - loss: 0.0075\n",
      "\n",
      "Test Loss: 0.6%\n"
     ]
    }
   ],
   "source": [
    "loss = model.evaluate(X_test, y_test, batch_size=1)\n",
    "print(\"\\nTest Loss: %.1f%%\" % (100.0 * loss))"
   ]
  },
  {
   "cell_type": "code",
   "execution_count": 45,
   "id": "3217581e",
   "metadata": {
    "execution": {
     "iopub.execute_input": "2024-12-07T08:38:11.594114Z",
     "iopub.status.busy": "2024-12-07T08:38:11.593739Z",
     "iopub.status.idle": "2024-12-07T08:38:12.098884Z",
     "shell.execute_reply": "2024-12-07T08:38:12.097732Z"
    },
    "id": "9e854j_NfFTV",
    "papermill": {
     "duration": 0.53314,
     "end_time": "2024-12-07T08:38:12.101441",
     "exception": false,
     "start_time": "2024-12-07T08:38:11.568301",
     "status": "completed"
    },
    "tags": []
   },
   "outputs": [
    {
     "name": "stdout",
     "output_type": "stream",
     "text": [
      "\u001b[1m60/60\u001b[0m \u001b[32m━━━━━━━━━━━━━━━━━━━━\u001b[0m\u001b[37m\u001b[0m \u001b[1m0s\u001b[0m 4ms/step\n"
     ]
    }
   ],
   "source": [
    "train_predict = model.predict(X_train)"
   ]
  },
  {
   "cell_type": "code",
   "execution_count": 46,
   "id": "67fe136e",
   "metadata": {
    "execution": {
     "iopub.execute_input": "2024-12-07T08:38:12.153512Z",
     "iopub.status.busy": "2024-12-07T08:38:12.152513Z",
     "iopub.status.idle": "2024-12-07T08:38:12.263058Z",
     "shell.execute_reply": "2024-12-07T08:38:12.261689Z"
    },
    "id": "GZgJuMd-fqZW",
    "papermill": {
     "duration": 0.139622,
     "end_time": "2024-12-07T08:38:12.265744",
     "exception": false,
     "start_time": "2024-12-07T08:38:12.126122",
     "status": "completed"
    },
    "tags": []
   },
   "outputs": [
    {
     "name": "stdout",
     "output_type": "stream",
     "text": [
      "\u001b[1m15/15\u001b[0m \u001b[32m━━━━━━━━━━━━━━━━━━━━\u001b[0m\u001b[37m\u001b[0m \u001b[1m0s\u001b[0m 2ms/step \n"
     ]
    }
   ],
   "source": [
    "test_predict = model.predict(X_test)"
   ]
  },
  {
   "cell_type": "code",
   "execution_count": 47,
   "id": "b0ebd58c",
   "metadata": {
    "execution": {
     "iopub.execute_input": "2024-12-07T08:38:12.319140Z",
     "iopub.status.busy": "2024-12-07T08:38:12.318733Z",
     "iopub.status.idle": "2024-12-07T08:38:12.325038Z",
     "shell.execute_reply": "2024-12-07T08:38:12.323767Z"
    },
    "id": "FcH_8U3tfsGm",
    "papermill": {
     "duration": 0.035431,
     "end_time": "2024-12-07T08:38:12.327359",
     "exception": false,
     "start_time": "2024-12-07T08:38:12.291928",
     "status": "completed"
    },
    "tags": []
   },
   "outputs": [],
   "source": [
    "train_predict = scaler_train.inverse_transform(train_predict)\n",
    "test_predict = scaler_test.inverse_transform(test_predict)"
   ]
  },
  {
   "cell_type": "code",
   "execution_count": 48,
   "id": "d5f615aa",
   "metadata": {
    "execution": {
     "iopub.execute_input": "2024-12-07T08:38:12.378371Z",
     "iopub.status.busy": "2024-12-07T08:38:12.377928Z",
     "iopub.status.idle": "2024-12-07T08:38:12.384618Z",
     "shell.execute_reply": "2024-12-07T08:38:12.383209Z"
    },
    "id": "DsGDu-NKf912",
    "papermill": {
     "duration": 0.03475,
     "end_time": "2024-12-07T08:38:12.386849",
     "exception": false,
     "start_time": "2024-12-07T08:38:12.352099",
     "status": "completed"
    },
    "tags": []
   },
   "outputs": [],
   "source": [
    "y_train = scaler_train.inverse_transform(y_train)\n",
    "y_test = scaler_test.inverse_transform(y_test)"
   ]
  },
  {
   "cell_type": "code",
   "execution_count": 49,
   "id": "a0957df7",
   "metadata": {
    "execution": {
     "iopub.execute_input": "2024-12-07T08:38:12.438195Z",
     "iopub.status.busy": "2024-12-07T08:38:12.437780Z",
     "iopub.status.idle": "2024-12-07T08:38:12.443843Z",
     "shell.execute_reply": "2024-12-07T08:38:12.442859Z"
    },
    "id": "ZLXqwAU7gGW2",
    "papermill": {
     "duration": 0.034602,
     "end_time": "2024-12-07T08:38:12.446039",
     "exception": false,
     "start_time": "2024-12-07T08:38:12.411437",
     "status": "completed"
    },
    "tags": []
   },
   "outputs": [],
   "source": [
    "train_rmse = np.sqrt(mean_squared_error(y_train, train_predict))"
   ]
  },
  {
   "cell_type": "code",
   "execution_count": 50,
   "id": "ac3de3a0",
   "metadata": {
    "execution": {
     "iopub.execute_input": "2024-12-07T08:38:12.496391Z",
     "iopub.status.busy": "2024-12-07T08:38:12.495956Z",
     "iopub.status.idle": "2024-12-07T08:38:12.501708Z",
     "shell.execute_reply": "2024-12-07T08:38:12.500554Z"
    },
    "id": "76WbnJaIgJ4g",
    "papermill": {
     "duration": 0.033637,
     "end_time": "2024-12-07T08:38:12.504028",
     "exception": false,
     "start_time": "2024-12-07T08:38:12.470391",
     "status": "completed"
    },
    "tags": []
   },
   "outputs": [],
   "source": [
    "test_rmse = np.sqrt(mean_squared_error(y_test, test_predict))"
   ]
  },
  {
   "cell_type": "code",
   "execution_count": 51,
   "id": "9d21356f",
   "metadata": {
    "execution": {
     "iopub.execute_input": "2024-12-07T08:38:12.555991Z",
     "iopub.status.busy": "2024-12-07T08:38:12.555556Z",
     "iopub.status.idle": "2024-12-07T08:38:12.561916Z",
     "shell.execute_reply": "2024-12-07T08:38:12.560622Z"
    },
    "id": "WcUBQBz7gMV2",
    "papermill": {
     "duration": 0.036291,
     "end_time": "2024-12-07T08:38:12.564796",
     "exception": false,
     "start_time": "2024-12-07T08:38:12.528505",
     "status": "completed"
    },
    "tags": []
   },
   "outputs": [
    {
     "name": "stdout",
     "output_type": "stream",
     "text": [
      "Train RMSE: 28.88100814819336\n",
      "Test RMSE: 47.83136749267578\n"
     ]
    }
   ],
   "source": [
    "print(f\"Train RMSE: {train_rmse}\")\n",
    "print(f\"Test RMSE: {test_rmse}\")"
   ]
  },
  {
   "cell_type": "code",
   "execution_count": 52,
   "id": "120c7d43",
   "metadata": {
    "execution": {
     "iopub.execute_input": "2024-12-07T08:38:12.617022Z",
     "iopub.status.busy": "2024-12-07T08:38:12.616591Z",
     "iopub.status.idle": "2024-12-07T08:38:12.647980Z",
     "shell.execute_reply": "2024-12-07T08:38:12.646884Z"
    },
    "id": "t_llof9mgYz_",
    "papermill": {
     "duration": 0.060481,
     "end_time": "2024-12-07T08:38:12.650186",
     "exception": false,
     "start_time": "2024-12-07T08:38:12.589705",
     "status": "completed"
    },
    "tags": []
   },
   "outputs": [
    {
     "data": {
      "text/html": [
       "<div>\n",
       "<style scoped>\n",
       "    .dataframe tbody tr th:only-of-type {\n",
       "        vertical-align: middle;\n",
       "    }\n",
       "\n",
       "    .dataframe tbody tr th {\n",
       "        vertical-align: top;\n",
       "    }\n",
       "\n",
       "    .dataframe thead th {\n",
       "        text-align: right;\n",
       "    }\n",
       "</style>\n",
       "<table border=\"1\" class=\"dataframe\">\n",
       "  <thead>\n",
       "    <tr style=\"text-align: right;\">\n",
       "      <th></th>\n",
       "      <th>count</th>\n",
       "      <th>mean</th>\n",
       "      <th>min</th>\n",
       "      <th>25%</th>\n",
       "      <th>50%</th>\n",
       "      <th>75%</th>\n",
       "      <th>max</th>\n",
       "      <th>std</th>\n",
       "    </tr>\n",
       "  </thead>\n",
       "  <tbody>\n",
       "    <tr>\n",
       "      <th>Date</th>\n",
       "      <td>2416</td>\n",
       "      <td>2015-04-15 11:09:56.026490112</td>\n",
       "      <td>2010-06-29 00:00:00</td>\n",
       "      <td>2012-11-19 18:00:00</td>\n",
       "      <td>2015-04-16 12:00:00</td>\n",
       "      <td>2017-09-07 06:00:00</td>\n",
       "      <td>2020-02-03 00:00:00</td>\n",
       "      <td>NaN</td>\n",
       "    </tr>\n",
       "    <tr>\n",
       "      <th>Open</th>\n",
       "      <td>2416.0</td>\n",
       "      <td>186.271147</td>\n",
       "      <td>16.139999</td>\n",
       "      <td>34.342498</td>\n",
       "      <td>213.035004</td>\n",
       "      <td>266.450012</td>\n",
       "      <td>673.690002</td>\n",
       "      <td>118.740163</td>\n",
       "    </tr>\n",
       "    <tr>\n",
       "      <th>High</th>\n",
       "      <td>2416.0</td>\n",
       "      <td>189.578224</td>\n",
       "      <td>16.629999</td>\n",
       "      <td>34.897501</td>\n",
       "      <td>216.745002</td>\n",
       "      <td>270.927513</td>\n",
       "      <td>786.140015</td>\n",
       "      <td>120.892329</td>\n",
       "    </tr>\n",
       "    <tr>\n",
       "      <th>Low</th>\n",
       "      <td>2416.0</td>\n",
       "      <td>182.916639</td>\n",
       "      <td>14.98</td>\n",
       "      <td>33.587501</td>\n",
       "      <td>208.870002</td>\n",
       "      <td>262.102501</td>\n",
       "      <td>673.52002</td>\n",
       "      <td>116.857591</td>\n",
       "    </tr>\n",
       "    <tr>\n",
       "      <th>Close</th>\n",
       "      <td>2416.0</td>\n",
       "      <td>186.403651</td>\n",
       "      <td>15.8</td>\n",
       "      <td>34.400002</td>\n",
       "      <td>212.960007</td>\n",
       "      <td>266.774994</td>\n",
       "      <td>780.0</td>\n",
       "      <td>119.13602</td>\n",
       "    </tr>\n",
       "    <tr>\n",
       "      <th>Adj Close</th>\n",
       "      <td>2416.0</td>\n",
       "      <td>186.403651</td>\n",
       "      <td>15.8</td>\n",
       "      <td>34.400002</td>\n",
       "      <td>212.960007</td>\n",
       "      <td>266.774994</td>\n",
       "      <td>780.0</td>\n",
       "      <td>119.13602</td>\n",
       "    </tr>\n",
       "    <tr>\n",
       "      <th>Volume</th>\n",
       "      <td>2416.0</td>\n",
       "      <td>5572721.688742</td>\n",
       "      <td>118500.0</td>\n",
       "      <td>1899275.0</td>\n",
       "      <td>4578400.0</td>\n",
       "      <td>7361150.0</td>\n",
       "      <td>47065000.0</td>\n",
       "      <td>4987809.151888</td>\n",
       "    </tr>\n",
       "  </tbody>\n",
       "</table>\n",
       "</div>"
      ],
      "text/plain": [
       "            count                           mean                  min  \\\n",
       "Date         2416  2015-04-15 11:09:56.026490112  2010-06-29 00:00:00   \n",
       "Open       2416.0                     186.271147            16.139999   \n",
       "High       2416.0                     189.578224            16.629999   \n",
       "Low        2416.0                     182.916639                14.98   \n",
       "Close      2416.0                     186.403651                 15.8   \n",
       "Adj Close  2416.0                     186.403651                 15.8   \n",
       "Volume     2416.0                 5572721.688742             118500.0   \n",
       "\n",
       "                           25%                  50%                  75%  \\\n",
       "Date       2012-11-19 18:00:00  2015-04-16 12:00:00  2017-09-07 06:00:00   \n",
       "Open                 34.342498           213.035004           266.450012   \n",
       "High                 34.897501           216.745002           270.927513   \n",
       "Low                  33.587501           208.870002           262.102501   \n",
       "Close                34.400002           212.960007           266.774994   \n",
       "Adj Close            34.400002           212.960007           266.774994   \n",
       "Volume               1899275.0            4578400.0            7361150.0   \n",
       "\n",
       "                           max             std  \n",
       "Date       2020-02-03 00:00:00             NaN  \n",
       "Open                673.690002      118.740163  \n",
       "High                786.140015      120.892329  \n",
       "Low                  673.52002      116.857591  \n",
       "Close                    780.0       119.13602  \n",
       "Adj Close                780.0       119.13602  \n",
       "Volume              47065000.0  4987809.151888  "
      ]
     },
     "execution_count": 52,
     "metadata": {},
     "output_type": "execute_result"
    }
   ],
   "source": [
    "df.describe().T"
   ]
  },
  {
   "cell_type": "code",
   "execution_count": 53,
   "id": "d0c0e781",
   "metadata": {
    "execution": {
     "iopub.execute_input": "2024-12-07T08:38:12.702120Z",
     "iopub.status.busy": "2024-12-07T08:38:12.701705Z",
     "iopub.status.idle": "2024-12-07T08:38:12.714218Z",
     "shell.execute_reply": "2024-12-07T08:38:12.712982Z"
    },
    "id": "-PSGVpMzgz1O",
    "papermill": {
     "duration": 0.041163,
     "end_time": "2024-12-07T08:38:12.716768",
     "exception": false,
     "start_time": "2024-12-07T08:38:12.675605",
     "status": "completed"
    },
    "tags": []
   },
   "outputs": [
    {
     "data": {
      "text/html": [
       "<div>\n",
       "<style scoped>\n",
       "    .dataframe tbody tr th:only-of-type {\n",
       "        vertical-align: middle;\n",
       "    }\n",
       "\n",
       "    .dataframe tbody tr th {\n",
       "        vertical-align: top;\n",
       "    }\n",
       "\n",
       "    .dataframe thead th {\n",
       "        text-align: right;\n",
       "    }\n",
       "</style>\n",
       "<table border=\"1\" class=\"dataframe\">\n",
       "  <thead>\n",
       "    <tr style=\"text-align: right;\">\n",
       "      <th></th>\n",
       "      <th>Close</th>\n",
       "      <th>Predicted</th>\n",
       "    </tr>\n",
       "    <tr>\n",
       "      <th>Date</th>\n",
       "      <th></th>\n",
       "      <th></th>\n",
       "    </tr>\n",
       "  </thead>\n",
       "  <tbody>\n",
       "    <tr>\n",
       "      <th>2010-07-28</th>\n",
       "      <td>20.719999</td>\n",
       "      <td>38.345123</td>\n",
       "    </tr>\n",
       "    <tr>\n",
       "      <th>2010-07-29</th>\n",
       "      <td>20.350000</td>\n",
       "      <td>38.345123</td>\n",
       "    </tr>\n",
       "    <tr>\n",
       "      <th>2010-07-30</th>\n",
       "      <td>19.940001</td>\n",
       "      <td>38.345123</td>\n",
       "    </tr>\n",
       "    <tr>\n",
       "      <th>2010-08-02</th>\n",
       "      <td>20.920000</td>\n",
       "      <td>38.345123</td>\n",
       "    </tr>\n",
       "    <tr>\n",
       "      <th>2010-08-03</th>\n",
       "      <td>21.950001</td>\n",
       "      <td>38.345123</td>\n",
       "    </tr>\n",
       "  </tbody>\n",
       "</table>\n",
       "</div>"
      ],
      "text/plain": [
       "                Close  Predicted\n",
       "Date                            \n",
       "2010-07-28  20.719999  38.345123\n",
       "2010-07-29  20.350000  38.345123\n",
       "2010-07-30  19.940001  38.345123\n",
       "2010-08-02  20.920000  38.345123\n",
       "2010-08-03  21.950001  38.345123"
      ]
     },
     "execution_count": 53,
     "metadata": {},
     "output_type": "execute_result"
    }
   ],
   "source": [
    "train_prediction_df = result_df[lookback:position]\n",
    "train_prediction_df[\"Predicted\"] = train_predict\n",
    "train_prediction_df.head()"
   ]
  },
  {
   "cell_type": "code",
   "execution_count": 54,
   "id": "928edb25",
   "metadata": {
    "execution": {
     "iopub.execute_input": "2024-12-07T08:38:12.770172Z",
     "iopub.status.busy": "2024-12-07T08:38:12.769323Z",
     "iopub.status.idle": "2024-12-07T08:38:12.781990Z",
     "shell.execute_reply": "2024-12-07T08:38:12.780883Z"
    },
    "id": "o7tRAXwOhMSA",
    "papermill": {
     "duration": 0.04106,
     "end_time": "2024-12-07T08:38:12.784175",
     "exception": false,
     "start_time": "2024-12-07T08:38:12.743115",
     "status": "completed"
    },
    "tags": []
   },
   "outputs": [
    {
     "data": {
      "text/html": [
       "<div>\n",
       "<style scoped>\n",
       "    .dataframe tbody tr th:only-of-type {\n",
       "        vertical-align: middle;\n",
       "    }\n",
       "\n",
       "    .dataframe tbody tr th {\n",
       "        vertical-align: top;\n",
       "    }\n",
       "\n",
       "    .dataframe thead th {\n",
       "        text-align: right;\n",
       "    }\n",
       "</style>\n",
       "<table border=\"1\" class=\"dataframe\">\n",
       "  <thead>\n",
       "    <tr style=\"text-align: right;\">\n",
       "      <th></th>\n",
       "      <th>Close</th>\n",
       "      <th>Predicted</th>\n",
       "    </tr>\n",
       "    <tr>\n",
       "      <th>Date</th>\n",
       "      <th></th>\n",
       "      <th></th>\n",
       "    </tr>\n",
       "  </thead>\n",
       "  <tbody>\n",
       "    <tr>\n",
       "      <th>2018-04-03</th>\n",
       "      <td>267.529999</td>\n",
       "      <td>349.605682</td>\n",
       "    </tr>\n",
       "    <tr>\n",
       "      <th>2018-04-04</th>\n",
       "      <td>286.940002</td>\n",
       "      <td>343.792755</td>\n",
       "    </tr>\n",
       "    <tr>\n",
       "      <th>2018-04-05</th>\n",
       "      <td>305.720001</td>\n",
       "      <td>341.031036</td>\n",
       "    </tr>\n",
       "    <tr>\n",
       "      <th>2018-04-06</th>\n",
       "      <td>299.299988</td>\n",
       "      <td>341.933014</td>\n",
       "    </tr>\n",
       "    <tr>\n",
       "      <th>2018-04-09</th>\n",
       "      <td>289.660004</td>\n",
       "      <td>341.180634</td>\n",
       "    </tr>\n",
       "  </tbody>\n",
       "</table>\n",
       "</div>"
      ],
      "text/plain": [
       "                 Close   Predicted\n",
       "Date                              \n",
       "2018-04-03  267.529999  349.605682\n",
       "2018-04-04  286.940002  343.792755\n",
       "2018-04-05  305.720001  341.031036\n",
       "2018-04-06  299.299988  341.933014\n",
       "2018-04-09  289.660004  341.180634"
      ]
     },
     "execution_count": 54,
     "metadata": {},
     "output_type": "execute_result"
    }
   ],
   "source": [
    "test_prediction_df = result_df[position+lookback:]\n",
    "test_prediction_df[\"Predicted\"] = test_predict\n",
    "test_prediction_df.head()"
   ]
  },
  {
   "cell_type": "code",
   "execution_count": 55,
   "id": "17159710",
   "metadata": {
    "execution": {
     "iopub.execute_input": "2024-12-07T08:38:12.838634Z",
     "iopub.status.busy": "2024-12-07T08:38:12.837557Z",
     "iopub.status.idle": "2024-12-07T08:38:13.264236Z",
     "shell.execute_reply": "2024-12-07T08:38:13.262971Z"
    },
    "id": "PJ_-znSchYO_",
    "papermill": {
     "duration": 0.457208,
     "end_time": "2024-12-07T08:38:13.266705",
     "exception": false,
     "start_time": "2024-12-07T08:38:12.809497",
     "status": "completed"
    },
    "tags": []
   },
   "outputs": [
    {
     "data": {
      "image/png": "[encoded data removed]",
      "text/plain": [
       "<Figure size 1400x500 with 1 Axes>"
      ]
     },
     "metadata": {},
     "output_type": "display_data"
    }
   ],
   "source": [
    "plt.figure(figsize=(14,5))\n",
    "plt.plot(result_df, label = \"Real Number of Passengers\")\n",
    "plt.plot(train_prediction_df[\"Predicted\"], color = 'blue', label = \"Train Predicted Number of Passengers\")\n",
    "plt.plot(test_prediction_df[\"Predicted\"],color = 'red', label = \"Test Predicted Number of Passengers\")\n",
    "plt.title(\"Number of Passengers Prediction\")\n",
    "plt.xlabel(\"Time\")\n",
    "plt.ylabel(\"Number of Passengers\")\n",
    "plt.legend()\n",
    "plt.show()"
   ]
  }
 ],
 "metadata": {
  "colab": {
   "provenance": []
  },
  "kaggle": {
   "accelerator": "none",
   "dataSources": [
    {
     "datasetId": 500872,
     "sourceId": 927894,
     "sourceType": "datasetVersion"
    }
   ],
   "dockerImageVersionId": 30761,
   "isGpuEnabled": false,
   "isInternetEnabled": true,
   "language": "python",
   "sourceType": "notebook"
  },
  "kernelspec": {
   "display_name": "Python 3",
   "language": "python",
   "name": "python3"
  },
  "language_info": {
   "codemirror_mode": {
    "name": "ipython",
    "version": 3
   },
   "file_extension": ".py",
   "mimetype": "text/x-python",
   "name": "python",
   "nbconvert_exporter": "python",
   "pygments_lexer": "ipython3",
   "version": "3.10.14"
  },
  "papermill": {
   "default_parameters": {},
   "duration": 35.545843,
   "end_time": "2024-12-07T08:38:15.021360",
   "environment_variables": {},
   "exception": null,
   "input_path": "__notebook__.ipynb",
   "output_path": "__notebook__.ipynb",
   "parameters": {},
   "start_time": "2024-12-07T08:37:39.475517",
   "version": "2.6.0"
  }
 },
 "nbformat": 4,
 "nbformat_minor": 5
}
