{
 "cells": [
  {
   "cell_type": "markdown",
   "id": "4d54013d",
   "metadata": {
    "id": "4unSJJjsT8BM",
    "papermill": {
     "duration": 0.011668,
     "end_time": "2024-12-14T11:20:47.588109",
     "exception": false,
     "start_time": "2024-12-14T11:20:47.576441",
     "status": "completed"
    },
    "tags": []
   },
   "source": [
    "# Tesla - Stock Price Prediction\n",
    "\n",
    "---\n",
    "\n"
   ]
  },
  {
   "cell_type": "markdown",
   "id": "4e3402f2",
   "metadata": {
    "id": "wkRLJL2XUAfT",
    "papermill": {
     "duration": 0.010247,
     "end_time": "2024-12-14T11:20:47.609148",
     "exception": false,
     "start_time": "2024-12-14T11:20:47.598901",
     "status": "completed"
    },
    "tags": []
   },
   "source": [
    "## Business Problem\n",
    "\n",
    "In this notebook, our purpose is to predict of tesla - stock price."
   ]
  },
  {
   "cell_type": "markdown",
   "id": "49ced1b5",
   "metadata": {
    "id": "0uxjphZsUwjz",
    "papermill": {
     "duration": 0.010103,
     "end_time": "2024-12-14T11:20:47.629726",
     "exception": false,
     "start_time": "2024-12-14T11:20:47.619623",
     "status": "completed"
    },
    "tags": []
   },
   "source": [
    "## Data Understanding"
   ]
  },
  {
   "cell_type": "code",
   "execution_count": 1,
   "id": "3fb2a973",
   "metadata": {
    "execution": {
     "iopub.execute_input": "2024-12-14T11:20:47.653509Z",
     "iopub.status.busy": "2024-12-14T11:20:47.652470Z",
     "iopub.status.idle": "2024-12-14T11:21:05.859081Z",
     "shell.execute_reply": "2024-12-14T11:21:05.857862Z"
    },
    "id": "40IR65rQUyWC",
    "outputId": "4562368d-970e-4fd6-b03e-be036efe4dcd",
    "papermill": {
     "duration": 18.221245,
     "end_time": "2024-12-14T11:21:05.861565",
     "exception": false,
     "start_time": "2024-12-14T11:20:47.640320",
     "status": "completed"
    },
    "tags": []
   },
   "outputs": [],
   "source": [
    "import numpy as np\n",
    "import pandas as pd\n",
    "import datetime as dt\n",
    "import tensorflow as tf\n",
    "import matplotlib.pyplot as plt\n",
    "\n",
    "from sklearn.preprocessing import MinMaxScaler\n",
    "from sklearn.metrics import mean_squared_error\n",
    "\n",
    "from tensorflow.keras.models import Sequential\n",
    "from tensorflow.keras.layers import Dense, LSTM, Dropout\n",
    "from tensorflow.keras.callbacks import ModelCheckpoint, EarlyStopping\n",
    "\n",
    "import warnings\n",
    "warnings.filterwarnings('ignore')\n",
    "\n",
    "import os\n",
    "os.environ['TF_CPP_MIN_LOG_LEVEL'] = '3'\n",
    "tf.compat.v1.logging.set_verbosity(tf.compat.v1.logging.ERROR)"
   ]
  },
  {
   "cell_type": "code",
   "execution_count": 2,
   "id": "e8f85676",
   "metadata": {
    "execution": {
     "iopub.execute_input": "2024-12-14T11:21:05.884968Z",
     "iopub.status.busy": "2024-12-14T11:21:05.884294Z",
     "iopub.status.idle": "2024-12-14T11:21:05.940813Z",
     "shell.execute_reply": "2024-12-14T11:21:05.939271Z"
    },
    "id": "-be5_efvVpTV",
    "papermill": {
     "duration": 0.070742,
     "end_time": "2024-12-14T11:21:05.943211",
     "exception": false,
     "start_time": "2024-12-14T11:21:05.872469",
     "status": "completed"
    },
    "tags": []
   },
   "outputs": [
    {
     "data": {
      "text/html": [
       "<div>\n",
       "<style scoped>\n",
       "    .dataframe tbody tr th:only-of-type {\n",
       "        vertical-align: middle;\n",
       "    }\n",
       "\n",
       "    .dataframe tbody tr th {\n",
       "        vertical-align: top;\n",
       "    }\n",
       "\n",
       "    .dataframe thead th {\n",
       "        text-align: right;\n",
       "    }\n",
       "</style>\n",
       "<table border=\"1\" class=\"dataframe\">\n",
       "  <thead>\n",
       "    <tr style=\"text-align: right;\">\n",
       "      <th></th>\n",
       "      <th>Date</th>\n",
       "      <th>Open</th>\n",
       "      <th>High</th>\n",
       "      <th>Low</th>\n",
       "      <th>Close</th>\n",
       "      <th>Adj Close</th>\n",
       "      <th>Volume</th>\n",
       "    </tr>\n",
       "  </thead>\n",
       "  <tbody>\n",
       "    <tr>\n",
       "      <th>0</th>\n",
       "      <td>2010-06-29</td>\n",
       "      <td>19.000000</td>\n",
       "      <td>25.000000</td>\n",
       "      <td>17.540001</td>\n",
       "      <td>23.889999</td>\n",
       "      <td>23.889999</td>\n",
       "      <td>18766300</td>\n",
       "    </tr>\n",
       "    <tr>\n",
       "      <th>1</th>\n",
       "      <td>2010-06-30</td>\n",
       "      <td>25.790001</td>\n",
       "      <td>30.420000</td>\n",
       "      <td>23.299999</td>\n",
       "      <td>23.830000</td>\n",
       "      <td>23.830000</td>\n",
       "      <td>17187100</td>\n",
       "    </tr>\n",
       "    <tr>\n",
       "      <th>2</th>\n",
       "      <td>2010-07-01</td>\n",
       "      <td>25.000000</td>\n",
       "      <td>25.920000</td>\n",
       "      <td>20.270000</td>\n",
       "      <td>21.959999</td>\n",
       "      <td>21.959999</td>\n",
       "      <td>8218800</td>\n",
       "    </tr>\n",
       "    <tr>\n",
       "      <th>3</th>\n",
       "      <td>2010-07-02</td>\n",
       "      <td>23.000000</td>\n",
       "      <td>23.100000</td>\n",
       "      <td>18.709999</td>\n",
       "      <td>19.200001</td>\n",
       "      <td>19.200001</td>\n",
       "      <td>5139800</td>\n",
       "    </tr>\n",
       "    <tr>\n",
       "      <th>4</th>\n",
       "      <td>2010-07-06</td>\n",
       "      <td>20.000000</td>\n",
       "      <td>20.000000</td>\n",
       "      <td>15.830000</td>\n",
       "      <td>16.110001</td>\n",
       "      <td>16.110001</td>\n",
       "      <td>6866900</td>\n",
       "    </tr>\n",
       "    <tr>\n",
       "      <th>...</th>\n",
       "      <td>...</td>\n",
       "      <td>...</td>\n",
       "      <td>...</td>\n",
       "      <td>...</td>\n",
       "      <td>...</td>\n",
       "      <td>...</td>\n",
       "      <td>...</td>\n",
       "    </tr>\n",
       "    <tr>\n",
       "      <th>2411</th>\n",
       "      <td>2020-01-28</td>\n",
       "      <td>568.489990</td>\n",
       "      <td>576.809998</td>\n",
       "      <td>558.080017</td>\n",
       "      <td>566.900024</td>\n",
       "      <td>566.900024</td>\n",
       "      <td>11788500</td>\n",
       "    </tr>\n",
       "    <tr>\n",
       "      <th>2412</th>\n",
       "      <td>2020-01-29</td>\n",
       "      <td>575.690002</td>\n",
       "      <td>589.799988</td>\n",
       "      <td>567.429993</td>\n",
       "      <td>580.989990</td>\n",
       "      <td>580.989990</td>\n",
       "      <td>17801500</td>\n",
       "    </tr>\n",
       "    <tr>\n",
       "      <th>2413</th>\n",
       "      <td>2020-01-30</td>\n",
       "      <td>632.419983</td>\n",
       "      <td>650.880005</td>\n",
       "      <td>618.000000</td>\n",
       "      <td>640.809998</td>\n",
       "      <td>640.809998</td>\n",
       "      <td>29005700</td>\n",
       "    </tr>\n",
       "    <tr>\n",
       "      <th>2414</th>\n",
       "      <td>2020-01-31</td>\n",
       "      <td>640.000000</td>\n",
       "      <td>653.000000</td>\n",
       "      <td>632.520020</td>\n",
       "      <td>650.570007</td>\n",
       "      <td>650.570007</td>\n",
       "      <td>15719300</td>\n",
       "    </tr>\n",
       "    <tr>\n",
       "      <th>2415</th>\n",
       "      <td>2020-02-03</td>\n",
       "      <td>673.690002</td>\n",
       "      <td>786.140015</td>\n",
       "      <td>673.520020</td>\n",
       "      <td>780.000000</td>\n",
       "      <td>780.000000</td>\n",
       "      <td>47065000</td>\n",
       "    </tr>\n",
       "  </tbody>\n",
       "</table>\n",
       "<p>2416 rows × 7 columns</p>\n",
       "</div>"
      ],
      "text/plain": [
       "            Date        Open        High         Low       Close   Adj Close  \\\n",
       "0     2010-06-29   19.000000   25.000000   17.540001   23.889999   23.889999   \n",
       "1     2010-06-30   25.790001   30.420000   23.299999   23.830000   23.830000   \n",
       "2     2010-07-01   25.000000   25.920000   20.270000   21.959999   21.959999   \n",
       "3     2010-07-02   23.000000   23.100000   18.709999   19.200001   19.200001   \n",
       "4     2010-07-06   20.000000   20.000000   15.830000   16.110001   16.110001   \n",
       "...          ...         ...         ...         ...         ...         ...   \n",
       "2411  2020-01-28  568.489990  576.809998  558.080017  566.900024  566.900024   \n",
       "2412  2020-01-29  575.690002  589.799988  567.429993  580.989990  580.989990   \n",
       "2413  2020-01-30  632.419983  650.880005  618.000000  640.809998  640.809998   \n",
       "2414  2020-01-31  640.000000  653.000000  632.520020  650.570007  650.570007   \n",
       "2415  2020-02-03  673.690002  786.140015  673.520020  780.000000  780.000000   \n",
       "\n",
       "        Volume  \n",
       "0     18766300  \n",
       "1     17187100  \n",
       "2      8218800  \n",
       "3      5139800  \n",
       "4      6866900  \n",
       "...        ...  \n",
       "2411  11788500  \n",
       "2412  17801500  \n",
       "2413  29005700  \n",
       "2414  15719300  \n",
       "2415  47065000  \n",
       "\n",
       "[2416 rows x 7 columns]"
      ]
     },
     "execution_count": 2,
     "metadata": {},
     "output_type": "execute_result"
    }
   ],
   "source": [
    "df = pd.read_csv('/kaggle/input/tesla-stock-data-from-2010-to-2020/TSLA.csv')\n",
    "df"
   ]
  },
  {
   "cell_type": "code",
   "execution_count": 3,
   "id": "5ffe10b5",
   "metadata": {
    "execution": {
     "iopub.execute_input": "2024-12-14T11:21:05.968234Z",
     "iopub.status.busy": "2024-12-14T11:21:05.966754Z",
     "iopub.status.idle": "2024-12-14T11:21:05.981301Z",
     "shell.execute_reply": "2024-12-14T11:21:05.980061Z"
    },
    "id": "lG_AO3mdVv17",
    "papermill": {
     "duration": 0.028891,
     "end_time": "2024-12-14T11:21:05.983529",
     "exception": false,
     "start_time": "2024-12-14T11:21:05.954638",
     "status": "completed"
    },
    "tags": []
   },
   "outputs": [
    {
     "data": {
      "text/html": [
       "<div>\n",
       "<style scoped>\n",
       "    .dataframe tbody tr th:only-of-type {\n",
       "        vertical-align: middle;\n",
       "    }\n",
       "\n",
       "    .dataframe tbody tr th {\n",
       "        vertical-align: top;\n",
       "    }\n",
       "\n",
       "    .dataframe thead th {\n",
       "        text-align: right;\n",
       "    }\n",
       "</style>\n",
       "<table border=\"1\" class=\"dataframe\">\n",
       "  <thead>\n",
       "    <tr style=\"text-align: right;\">\n",
       "      <th></th>\n",
       "      <th>Date</th>\n",
       "      <th>Open</th>\n",
       "      <th>High</th>\n",
       "      <th>Low</th>\n",
       "      <th>Close</th>\n",
       "      <th>Adj Close</th>\n",
       "      <th>Volume</th>\n",
       "    </tr>\n",
       "  </thead>\n",
       "  <tbody>\n",
       "    <tr>\n",
       "      <th>0</th>\n",
       "      <td>2010-06-29</td>\n",
       "      <td>19.000000</td>\n",
       "      <td>25.00</td>\n",
       "      <td>17.540001</td>\n",
       "      <td>23.889999</td>\n",
       "      <td>23.889999</td>\n",
       "      <td>18766300</td>\n",
       "    </tr>\n",
       "    <tr>\n",
       "      <th>1</th>\n",
       "      <td>2010-06-30</td>\n",
       "      <td>25.790001</td>\n",
       "      <td>30.42</td>\n",
       "      <td>23.299999</td>\n",
       "      <td>23.830000</td>\n",
       "      <td>23.830000</td>\n",
       "      <td>17187100</td>\n",
       "    </tr>\n",
       "    <tr>\n",
       "      <th>2</th>\n",
       "      <td>2010-07-01</td>\n",
       "      <td>25.000000</td>\n",
       "      <td>25.92</td>\n",
       "      <td>20.270000</td>\n",
       "      <td>21.959999</td>\n",
       "      <td>21.959999</td>\n",
       "      <td>8218800</td>\n",
       "    </tr>\n",
       "    <tr>\n",
       "      <th>3</th>\n",
       "      <td>2010-07-02</td>\n",
       "      <td>23.000000</td>\n",
       "      <td>23.10</td>\n",
       "      <td>18.709999</td>\n",
       "      <td>19.200001</td>\n",
       "      <td>19.200001</td>\n",
       "      <td>5139800</td>\n",
       "    </tr>\n",
       "    <tr>\n",
       "      <th>4</th>\n",
       "      <td>2010-07-06</td>\n",
       "      <td>20.000000</td>\n",
       "      <td>20.00</td>\n",
       "      <td>15.830000</td>\n",
       "      <td>16.110001</td>\n",
       "      <td>16.110001</td>\n",
       "      <td>6866900</td>\n",
       "    </tr>\n",
       "  </tbody>\n",
       "</table>\n",
       "</div>"
      ],
      "text/plain": [
       "         Date       Open   High        Low      Close  Adj Close    Volume\n",
       "0  2010-06-29  19.000000  25.00  17.540001  23.889999  23.889999  18766300\n",
       "1  2010-06-30  25.790001  30.42  23.299999  23.830000  23.830000  17187100\n",
       "2  2010-07-01  25.000000  25.92  20.270000  21.959999  21.959999   8218800\n",
       "3  2010-07-02  23.000000  23.10  18.709999  19.200001  19.200001   5139800\n",
       "4  2010-07-06  20.000000  20.00  15.830000  16.110001  16.110001   6866900"
      ]
     },
     "execution_count": 3,
     "metadata": {},
     "output_type": "execute_result"
    }
   ],
   "source": [
    "df.head()"
   ]
  },
  {
   "cell_type": "code",
   "execution_count": 4,
   "id": "c6225e1a",
   "metadata": {
    "execution": {
     "iopub.execute_input": "2024-12-14T11:21:06.008124Z",
     "iopub.status.busy": "2024-12-14T11:21:06.007597Z",
     "iopub.status.idle": "2024-12-14T11:21:06.014874Z",
     "shell.execute_reply": "2024-12-14T11:21:06.013801Z"
    },
    "id": "TU5hlfyvVxY0",
    "papermill": {
     "duration": 0.022365,
     "end_time": "2024-12-14T11:21:06.017651",
     "exception": false,
     "start_time": "2024-12-14T11:21:05.995286",
     "status": "completed"
    },
    "tags": []
   },
   "outputs": [],
   "source": [
    "def check_df(dataframe, head=5):\n",
    "    print(\"##################### Shape #####################\")\n",
    "    print(dataframe.shape)\n",
    "    print(\"##################### Types #####################\")\n",
    "    print(dataframe.dtypes)\n",
    "    print(\"##################### Head #####################\")\n",
    "    print(dataframe.head(head))  # Fonksiyon çağrısına dikkat edin\n",
    "    print(\"##################### Tail #####################\")\n",
    "    print(dataframe.tail(head))\n",
    "    print(\"##################### NA #####################\")\n",
    "    print(dataframe.isnull().sum())\n",
    "    print(\"##################### Quantile #####################\")\n",
    "    print(dataframe.select_dtypes(include='number').quantile([0, 0.05, 0.5, 0.95, 0.99, 1]).T)\n"
   ]
  },
  {
   "cell_type": "code",
   "execution_count": 5,
   "id": "2e7a8d4e",
   "metadata": {
    "execution": {
     "iopub.execute_input": "2024-12-14T11:21:06.042388Z",
     "iopub.status.busy": "2024-12-14T11:21:06.041978Z",
     "iopub.status.idle": "2024-12-14T11:21:06.066352Z",
     "shell.execute_reply": "2024-12-14T11:21:06.064890Z"
    },
    "id": "t6iFP965V4vk",
    "papermill": {
     "duration": 0.039929,
     "end_time": "2024-12-14T11:21:06.069117",
     "exception": false,
     "start_time": "2024-12-14T11:21:06.029188",
     "status": "completed"
    },
    "tags": []
   },
   "outputs": [
    {
     "name": "stdout",
     "output_type": "stream",
     "text": [
      "##################### Shape #####################\n",
      "(2416, 7)\n",
      "##################### Types #####################\n",
      "Date          object\n",
      "Open         float64\n",
      "High         float64\n",
      "Low          float64\n",
      "Close        float64\n",
      "Adj Close    float64\n",
      "Volume         int64\n",
      "dtype: object\n",
      "##################### Head #####################\n",
      "         Date       Open   High        Low      Close  Adj Close    Volume\n",
      "0  2010-06-29  19.000000  25.00  17.540001  23.889999  23.889999  18766300\n",
      "1  2010-06-30  25.790001  30.42  23.299999  23.830000  23.830000  17187100\n",
      "2  2010-07-01  25.000000  25.92  20.270000  21.959999  21.959999   8218800\n",
      "3  2010-07-02  23.000000  23.10  18.709999  19.200001  19.200001   5139800\n",
      "4  2010-07-06  20.000000  20.00  15.830000  16.110001  16.110001   6866900\n",
      "##################### Tail #####################\n",
      "            Date        Open        High         Low       Close   Adj Close  \\\n",
      "2411  2020-01-28  568.489990  576.809998  558.080017  566.900024  566.900024   \n",
      "2412  2020-01-29  575.690002  589.799988  567.429993  580.989990  580.989990   \n",
      "2413  2020-01-30  632.419983  650.880005  618.000000  640.809998  640.809998   \n",
      "2414  2020-01-31  640.000000  653.000000  632.520020  650.570007  650.570007   \n",
      "2415  2020-02-03  673.690002  786.140015  673.520020  780.000000  780.000000   \n",
      "\n",
      "        Volume  \n",
      "2411  11788500  \n",
      "2412  17801500  \n",
      "2413  29005700  \n",
      "2414  15719300  \n",
      "2415  47065000  \n",
      "##################### NA #####################\n",
      "Date         0\n",
      "Open         0\n",
      "High         0\n",
      "Low          0\n",
      "Close        0\n",
      "Adj Close    0\n",
      "Volume       0\n",
      "dtype: int64\n",
      "##################### Quantile #####################\n",
      "                    0.00           0.05          0.50          0.95  \\\n",
      "Open           16.139999      23.384999  2.130350e+02  3.519100e+02   \n",
      "High           16.629999      24.022501  2.167450e+02  3.567500e+02   \n",
      "Low            14.980000      22.867499  2.088700e+02  3.460250e+02   \n",
      "Close          15.800000      23.565000  2.129600e+02  3.511675e+02   \n",
      "Adj Close      15.800000      23.565000  2.129600e+02  3.511675e+02   \n",
      "Volume     118500.000000  633825.000000  4.578400e+06  1.476090e+07   \n",
      "\n",
      "                   0.99          1.00  \n",
      "Open       4.235790e+02  6.736900e+02  \n",
      "High       4.284705e+02  7.861400e+02  \n",
      "Low        4.122865e+02  6.735200e+02  \n",
      "Close      4.243455e+02  7.800000e+02  \n",
      "Adj Close  4.243455e+02  7.800000e+02  \n",
      "Volume     2.459959e+07  4.706500e+07  \n"
     ]
    }
   ],
   "source": [
    "check_df(df)"
   ]
  },
  {
   "cell_type": "markdown",
   "id": "30e38901",
   "metadata": {
    "id": "v2n2ONcpWlQl",
    "papermill": {
     "duration": 0.010839,
     "end_time": "2024-12-14T11:21:06.091408",
     "exception": false,
     "start_time": "2024-12-14T11:21:06.080569",
     "status": "completed"
    },
    "tags": []
   },
   "source": [
    "## Data Preparation"
   ]
  },
  {
   "cell_type": "code",
   "execution_count": 6,
   "id": "f25672c8",
   "metadata": {
    "execution": {
     "iopub.execute_input": "2024-12-14T11:21:06.115394Z",
     "iopub.status.busy": "2024-12-14T11:21:06.114978Z",
     "iopub.status.idle": "2024-12-14T11:21:06.126960Z",
     "shell.execute_reply": "2024-12-14T11:21:06.125883Z"
    },
    "id": "x-En8ormWAo8",
    "papermill": {
     "duration": 0.02699,
     "end_time": "2024-12-14T11:21:06.129622",
     "exception": false,
     "start_time": "2024-12-14T11:21:06.102632",
     "status": "completed"
    },
    "tags": []
   },
   "outputs": [],
   "source": [
    "df[\"Date\"] = pd.to_datetime(df[\"Date\"])"
   ]
  },
  {
   "cell_type": "code",
   "execution_count": 7,
   "id": "35a9fbf7",
   "metadata": {
    "execution": {
     "iopub.execute_input": "2024-12-14T11:21:06.153582Z",
     "iopub.status.busy": "2024-12-14T11:21:06.153219Z",
     "iopub.status.idle": "2024-12-14T11:21:06.168649Z",
     "shell.execute_reply": "2024-12-14T11:21:06.167502Z"
    },
    "id": "Wk3C4MPkWBUG",
    "papermill": {
     "duration": 0.029702,
     "end_time": "2024-12-14T11:21:06.170617",
     "exception": false,
     "start_time": "2024-12-14T11:21:06.140915",
     "status": "completed"
    },
    "tags": []
   },
   "outputs": [
    {
     "data": {
      "text/html": [
       "<div>\n",
       "<style scoped>\n",
       "    .dataframe tbody tr th:only-of-type {\n",
       "        vertical-align: middle;\n",
       "    }\n",
       "\n",
       "    .dataframe tbody tr th {\n",
       "        vertical-align: top;\n",
       "    }\n",
       "\n",
       "    .dataframe thead th {\n",
       "        text-align: right;\n",
       "    }\n",
       "</style>\n",
       "<table border=\"1\" class=\"dataframe\">\n",
       "  <thead>\n",
       "    <tr style=\"text-align: right;\">\n",
       "      <th></th>\n",
       "      <th>Date</th>\n",
       "      <th>Open</th>\n",
       "      <th>High</th>\n",
       "      <th>Low</th>\n",
       "      <th>Close</th>\n",
       "      <th>Adj Close</th>\n",
       "      <th>Volume</th>\n",
       "    </tr>\n",
       "  </thead>\n",
       "  <tbody>\n",
       "    <tr>\n",
       "      <th>0</th>\n",
       "      <td>2010-06-29</td>\n",
       "      <td>19.000000</td>\n",
       "      <td>25.00</td>\n",
       "      <td>17.540001</td>\n",
       "      <td>23.889999</td>\n",
       "      <td>23.889999</td>\n",
       "      <td>18766300</td>\n",
       "    </tr>\n",
       "    <tr>\n",
       "      <th>1</th>\n",
       "      <td>2010-06-30</td>\n",
       "      <td>25.790001</td>\n",
       "      <td>30.42</td>\n",
       "      <td>23.299999</td>\n",
       "      <td>23.830000</td>\n",
       "      <td>23.830000</td>\n",
       "      <td>17187100</td>\n",
       "    </tr>\n",
       "    <tr>\n",
       "      <th>2</th>\n",
       "      <td>2010-07-01</td>\n",
       "      <td>25.000000</td>\n",
       "      <td>25.92</td>\n",
       "      <td>20.270000</td>\n",
       "      <td>21.959999</td>\n",
       "      <td>21.959999</td>\n",
       "      <td>8218800</td>\n",
       "    </tr>\n",
       "    <tr>\n",
       "      <th>3</th>\n",
       "      <td>2010-07-02</td>\n",
       "      <td>23.000000</td>\n",
       "      <td>23.10</td>\n",
       "      <td>18.709999</td>\n",
       "      <td>19.200001</td>\n",
       "      <td>19.200001</td>\n",
       "      <td>5139800</td>\n",
       "    </tr>\n",
       "    <tr>\n",
       "      <th>4</th>\n",
       "      <td>2010-07-06</td>\n",
       "      <td>20.000000</td>\n",
       "      <td>20.00</td>\n",
       "      <td>15.830000</td>\n",
       "      <td>16.110001</td>\n",
       "      <td>16.110001</td>\n",
       "      <td>6866900</td>\n",
       "    </tr>\n",
       "  </tbody>\n",
       "</table>\n",
       "</div>"
      ],
      "text/plain": [
       "        Date       Open   High        Low      Close  Adj Close    Volume\n",
       "0 2010-06-29  19.000000  25.00  17.540001  23.889999  23.889999  18766300\n",
       "1 2010-06-30  25.790001  30.42  23.299999  23.830000  23.830000  17187100\n",
       "2 2010-07-01  25.000000  25.92  20.270000  21.959999  21.959999   8218800\n",
       "3 2010-07-02  23.000000  23.10  18.709999  19.200001  19.200001   5139800\n",
       "4 2010-07-06  20.000000  20.00  15.830000  16.110001  16.110001   6866900"
      ]
     },
     "execution_count": 7,
     "metadata": {},
     "output_type": "execute_result"
    }
   ],
   "source": [
    "df.head()"
   ]
  },
  {
   "cell_type": "code",
   "execution_count": 8,
   "id": "e5c93866",
   "metadata": {
    "execution": {
     "iopub.execute_input": "2024-12-14T11:21:06.195291Z",
     "iopub.status.busy": "2024-12-14T11:21:06.194894Z",
     "iopub.status.idle": "2024-12-14T11:21:06.201556Z",
     "shell.execute_reply": "2024-12-14T11:21:06.200322Z"
    },
    "id": "ZOVzSrk1WCHu",
    "papermill": {
     "duration": 0.021565,
     "end_time": "2024-12-14T11:21:06.203729",
     "exception": false,
     "start_time": "2024-12-14T11:21:06.182164",
     "status": "completed"
    },
    "tags": []
   },
   "outputs": [],
   "source": [
    "tesla_df = df[[\"Date\", \"Close\"]]"
   ]
  },
  {
   "cell_type": "code",
   "execution_count": 9,
   "id": "ae53d66c",
   "metadata": {
    "execution": {
     "iopub.execute_input": "2024-12-14T11:21:06.229446Z",
     "iopub.status.busy": "2024-12-14T11:21:06.229045Z",
     "iopub.status.idle": "2024-12-14T11:21:06.239798Z",
     "shell.execute_reply": "2024-12-14T11:21:06.238434Z"
    },
    "id": "Tli5FuMBWF8l",
    "papermill": {
     "duration": 0.026873,
     "end_time": "2024-12-14T11:21:06.242224",
     "exception": false,
     "start_time": "2024-12-14T11:21:06.215351",
     "status": "completed"
    },
    "tags": []
   },
   "outputs": [
    {
     "data": {
      "text/html": [
       "<div>\n",
       "<style scoped>\n",
       "    .dataframe tbody tr th:only-of-type {\n",
       "        vertical-align: middle;\n",
       "    }\n",
       "\n",
       "    .dataframe tbody tr th {\n",
       "        vertical-align: top;\n",
       "    }\n",
       "\n",
       "    .dataframe thead th {\n",
       "        text-align: right;\n",
       "    }\n",
       "</style>\n",
       "<table border=\"1\" class=\"dataframe\">\n",
       "  <thead>\n",
       "    <tr style=\"text-align: right;\">\n",
       "      <th></th>\n",
       "      <th>Date</th>\n",
       "      <th>Close</th>\n",
       "    </tr>\n",
       "  </thead>\n",
       "  <tbody>\n",
       "    <tr>\n",
       "      <th>0</th>\n",
       "      <td>2010-06-29</td>\n",
       "      <td>23.889999</td>\n",
       "    </tr>\n",
       "    <tr>\n",
       "      <th>1</th>\n",
       "      <td>2010-06-30</td>\n",
       "      <td>23.830000</td>\n",
       "    </tr>\n",
       "    <tr>\n",
       "      <th>2</th>\n",
       "      <td>2010-07-01</td>\n",
       "      <td>21.959999</td>\n",
       "    </tr>\n",
       "    <tr>\n",
       "      <th>3</th>\n",
       "      <td>2010-07-02</td>\n",
       "      <td>19.200001</td>\n",
       "    </tr>\n",
       "    <tr>\n",
       "      <th>4</th>\n",
       "      <td>2010-07-06</td>\n",
       "      <td>16.110001</td>\n",
       "    </tr>\n",
       "  </tbody>\n",
       "</table>\n",
       "</div>"
      ],
      "text/plain": [
       "        Date      Close\n",
       "0 2010-06-29  23.889999\n",
       "1 2010-06-30  23.830000\n",
       "2 2010-07-01  21.959999\n",
       "3 2010-07-02  19.200001\n",
       "4 2010-07-06  16.110001"
      ]
     },
     "execution_count": 9,
     "metadata": {},
     "output_type": "execute_result"
    }
   ],
   "source": [
    "tesla_df.head()"
   ]
  },
  {
   "cell_type": "code",
   "execution_count": 10,
   "id": "e4dda3ff",
   "metadata": {
    "execution": {
     "iopub.execute_input": "2024-12-14T11:21:06.269215Z",
     "iopub.status.busy": "2024-12-14T11:21:06.268807Z",
     "iopub.status.idle": "2024-12-14T11:21:06.277857Z",
     "shell.execute_reply": "2024-12-14T11:21:06.276077Z"
    },
    "id": "Gsw5OQCAWLzn",
    "papermill": {
     "duration": 0.025994,
     "end_time": "2024-12-14T11:21:06.280552",
     "exception": false,
     "start_time": "2024-12-14T11:21:06.254558",
     "status": "completed"
    },
    "tags": []
   },
   "outputs": [
    {
     "name": "stdout",
     "output_type": "stream",
     "text": [
      "Min Date:  2010-06-29 00:00:00\n",
      "Max Date:  2020-02-03 00:00:00\n"
     ]
    }
   ],
   "source": [
    "print(\"Min Date: \", tesla_df[\"Date\"].min())\n",
    "print(\"Max Date: \", tesla_df[\"Date\"].max())"
   ]
  },
  {
   "cell_type": "code",
   "execution_count": 11,
   "id": "ee00dad6",
   "metadata": {
    "execution": {
     "iopub.execute_input": "2024-12-14T11:21:06.308129Z",
     "iopub.status.busy": "2024-12-14T11:21:06.307727Z",
     "iopub.status.idle": "2024-12-14T11:21:06.312966Z",
     "shell.execute_reply": "2024-12-14T11:21:06.311632Z"
    },
    "id": "JGi8P08mWQO1",
    "papermill": {
     "duration": 0.021591,
     "end_time": "2024-12-14T11:21:06.315118",
     "exception": false,
     "start_time": "2024-12-14T11:21:06.293527",
     "status": "completed"
    },
    "tags": []
   },
   "outputs": [],
   "source": [
    "tesla_df.index = tesla_df[\"Date\"]"
   ]
  },
  {
   "cell_type": "code",
   "execution_count": 12,
   "id": "93e7d9ba",
   "metadata": {
    "execution": {
     "iopub.execute_input": "2024-12-14T11:21:06.341461Z",
     "iopub.status.busy": "2024-12-14T11:21:06.341041Z",
     "iopub.status.idle": "2024-12-14T11:21:06.353780Z",
     "shell.execute_reply": "2024-12-14T11:21:06.352467Z"
    },
    "id": "YBWxX2IOWoL_",
    "papermill": {
     "duration": 0.029187,
     "end_time": "2024-12-14T11:21:06.356093",
     "exception": false,
     "start_time": "2024-12-14T11:21:06.326906",
     "status": "completed"
    },
    "tags": []
   },
   "outputs": [
    {
     "data": {
      "text/html": [
       "<div>\n",
       "<style scoped>\n",
       "    .dataframe tbody tr th:only-of-type {\n",
       "        vertical-align: middle;\n",
       "    }\n",
       "\n",
       "    .dataframe tbody tr th {\n",
       "        vertical-align: top;\n",
       "    }\n",
       "\n",
       "    .dataframe thead th {\n",
       "        text-align: right;\n",
       "    }\n",
       "</style>\n",
       "<table border=\"1\" class=\"dataframe\">\n",
       "  <thead>\n",
       "    <tr style=\"text-align: right;\">\n",
       "      <th></th>\n",
       "      <th>Date</th>\n",
       "      <th>Close</th>\n",
       "    </tr>\n",
       "    <tr>\n",
       "      <th>Date</th>\n",
       "      <th></th>\n",
       "      <th></th>\n",
       "    </tr>\n",
       "  </thead>\n",
       "  <tbody>\n",
       "    <tr>\n",
       "      <th>2010-06-29</th>\n",
       "      <td>2010-06-29</td>\n",
       "      <td>23.889999</td>\n",
       "    </tr>\n",
       "    <tr>\n",
       "      <th>2010-06-30</th>\n",
       "      <td>2010-06-30</td>\n",
       "      <td>23.830000</td>\n",
       "    </tr>\n",
       "    <tr>\n",
       "      <th>2010-07-01</th>\n",
       "      <td>2010-07-01</td>\n",
       "      <td>21.959999</td>\n",
       "    </tr>\n",
       "    <tr>\n",
       "      <th>2010-07-02</th>\n",
       "      <td>2010-07-02</td>\n",
       "      <td>19.200001</td>\n",
       "    </tr>\n",
       "    <tr>\n",
       "      <th>2010-07-06</th>\n",
       "      <td>2010-07-06</td>\n",
       "      <td>16.110001</td>\n",
       "    </tr>\n",
       "    <tr>\n",
       "      <th>...</th>\n",
       "      <td>...</td>\n",
       "      <td>...</td>\n",
       "    </tr>\n",
       "    <tr>\n",
       "      <th>2020-01-28</th>\n",
       "      <td>2020-01-28</td>\n",
       "      <td>566.900024</td>\n",
       "    </tr>\n",
       "    <tr>\n",
       "      <th>2020-01-29</th>\n",
       "      <td>2020-01-29</td>\n",
       "      <td>580.989990</td>\n",
       "    </tr>\n",
       "    <tr>\n",
       "      <th>2020-01-30</th>\n",
       "      <td>2020-01-30</td>\n",
       "      <td>640.809998</td>\n",
       "    </tr>\n",
       "    <tr>\n",
       "      <th>2020-01-31</th>\n",
       "      <td>2020-01-31</td>\n",
       "      <td>650.570007</td>\n",
       "    </tr>\n",
       "    <tr>\n",
       "      <th>2020-02-03</th>\n",
       "      <td>2020-02-03</td>\n",
       "      <td>780.000000</td>\n",
       "    </tr>\n",
       "  </tbody>\n",
       "</table>\n",
       "<p>2416 rows × 2 columns</p>\n",
       "</div>"
      ],
      "text/plain": [
       "                 Date       Close\n",
       "Date                             \n",
       "2010-06-29 2010-06-29   23.889999\n",
       "2010-06-30 2010-06-30   23.830000\n",
       "2010-07-01 2010-07-01   21.959999\n",
       "2010-07-02 2010-07-02   19.200001\n",
       "2010-07-06 2010-07-06   16.110001\n",
       "...               ...         ...\n",
       "2020-01-28 2020-01-28  566.900024\n",
       "2020-01-29 2020-01-29  580.989990\n",
       "2020-01-30 2020-01-30  640.809998\n",
       "2020-01-31 2020-01-31  650.570007\n",
       "2020-02-03 2020-02-03  780.000000\n",
       "\n",
       "[2416 rows x 2 columns]"
      ]
     },
     "execution_count": 12,
     "metadata": {},
     "output_type": "execute_result"
    }
   ],
   "source": [
    "tesla_df"
   ]
  },
  {
   "cell_type": "code",
   "execution_count": 13,
   "id": "172846fc",
   "metadata": {
    "execution": {
     "iopub.execute_input": "2024-12-14T11:21:06.382019Z",
     "iopub.status.busy": "2024-12-14T11:21:06.381459Z",
     "iopub.status.idle": "2024-12-14T11:21:06.388463Z",
     "shell.execute_reply": "2024-12-14T11:21:06.387457Z"
    },
    "id": "tgPM31WBWvcH",
    "papermill": {
     "duration": 0.022541,
     "end_time": "2024-12-14T11:21:06.390678",
     "exception": false,
     "start_time": "2024-12-14T11:21:06.368137",
     "status": "completed"
    },
    "tags": []
   },
   "outputs": [],
   "source": [
    "tesla_df.drop(\"Date\", axis=1, inplace=True)"
   ]
  },
  {
   "cell_type": "code",
   "execution_count": 14,
   "id": "b04a7d08",
   "metadata": {
    "execution": {
     "iopub.execute_input": "2024-12-14T11:21:06.416143Z",
     "iopub.status.busy": "2024-12-14T11:21:06.415742Z",
     "iopub.status.idle": "2024-12-14T11:21:06.427254Z",
     "shell.execute_reply": "2024-12-14T11:21:06.425994Z"
    },
    "id": "17KdnKMGWwSm",
    "papermill": {
     "duration": 0.026986,
     "end_time": "2024-12-14T11:21:06.429527",
     "exception": false,
     "start_time": "2024-12-14T11:21:06.402541",
     "status": "completed"
    },
    "tags": []
   },
   "outputs": [
    {
     "data": {
      "text/html": [
       "<div>\n",
       "<style scoped>\n",
       "    .dataframe tbody tr th:only-of-type {\n",
       "        vertical-align: middle;\n",
       "    }\n",
       "\n",
       "    .dataframe tbody tr th {\n",
       "        vertical-align: top;\n",
       "    }\n",
       "\n",
       "    .dataframe thead th {\n",
       "        text-align: right;\n",
       "    }\n",
       "</style>\n",
       "<table border=\"1\" class=\"dataframe\">\n",
       "  <thead>\n",
       "    <tr style=\"text-align: right;\">\n",
       "      <th></th>\n",
       "      <th>Close</th>\n",
       "    </tr>\n",
       "    <tr>\n",
       "      <th>Date</th>\n",
       "      <th></th>\n",
       "    </tr>\n",
       "  </thead>\n",
       "  <tbody>\n",
       "    <tr>\n",
       "      <th>2010-06-29</th>\n",
       "      <td>23.889999</td>\n",
       "    </tr>\n",
       "    <tr>\n",
       "      <th>2010-06-30</th>\n",
       "      <td>23.830000</td>\n",
       "    </tr>\n",
       "    <tr>\n",
       "      <th>2010-07-01</th>\n",
       "      <td>21.959999</td>\n",
       "    </tr>\n",
       "    <tr>\n",
       "      <th>2010-07-02</th>\n",
       "      <td>19.200001</td>\n",
       "    </tr>\n",
       "    <tr>\n",
       "      <th>2010-07-06</th>\n",
       "      <td>16.110001</td>\n",
       "    </tr>\n",
       "    <tr>\n",
       "      <th>...</th>\n",
       "      <td>...</td>\n",
       "    </tr>\n",
       "    <tr>\n",
       "      <th>2020-01-28</th>\n",
       "      <td>566.900024</td>\n",
       "    </tr>\n",
       "    <tr>\n",
       "      <th>2020-01-29</th>\n",
       "      <td>580.989990</td>\n",
       "    </tr>\n",
       "    <tr>\n",
       "      <th>2020-01-30</th>\n",
       "      <td>640.809998</td>\n",
       "    </tr>\n",
       "    <tr>\n",
       "      <th>2020-01-31</th>\n",
       "      <td>650.570007</td>\n",
       "    </tr>\n",
       "    <tr>\n",
       "      <th>2020-02-03</th>\n",
       "      <td>780.000000</td>\n",
       "    </tr>\n",
       "  </tbody>\n",
       "</table>\n",
       "<p>2416 rows × 1 columns</p>\n",
       "</div>"
      ],
      "text/plain": [
       "                 Close\n",
       "Date                  \n",
       "2010-06-29   23.889999\n",
       "2010-06-30   23.830000\n",
       "2010-07-01   21.959999\n",
       "2010-07-02   19.200001\n",
       "2010-07-06   16.110001\n",
       "...                ...\n",
       "2020-01-28  566.900024\n",
       "2020-01-29  580.989990\n",
       "2020-01-30  640.809998\n",
       "2020-01-31  650.570007\n",
       "2020-02-03  780.000000\n",
       "\n",
       "[2416 rows x 1 columns]"
      ]
     },
     "execution_count": 14,
     "metadata": {},
     "output_type": "execute_result"
    }
   ],
   "source": [
    "tesla_df"
   ]
  },
  {
   "cell_type": "code",
   "execution_count": 15,
   "id": "afd27501",
   "metadata": {
    "execution": {
     "iopub.execute_input": "2024-12-14T11:21:06.455590Z",
     "iopub.status.busy": "2024-12-14T11:21:06.455174Z",
     "iopub.status.idle": "2024-12-14T11:21:06.460627Z",
     "shell.execute_reply": "2024-12-14T11:21:06.459422Z"
    },
    "id": "PliZ5OcsWxsF",
    "papermill": {
     "duration": 0.020916,
     "end_time": "2024-12-14T11:21:06.462937",
     "exception": false,
     "start_time": "2024-12-14T11:21:06.442021",
     "status": "completed"
    },
    "tags": []
   },
   "outputs": [],
   "source": [
    "result_df = tesla_df.copy()"
   ]
  },
  {
   "cell_type": "code",
   "execution_count": 16,
   "id": "7afd8c26",
   "metadata": {
    "execution": {
     "iopub.execute_input": "2024-12-14T11:21:06.490100Z",
     "iopub.status.busy": "2024-12-14T11:21:06.489624Z",
     "iopub.status.idle": "2024-12-14T11:21:06.893249Z",
     "shell.execute_reply": "2024-12-14T11:21:06.892028Z"
    },
    "id": "ObqHX6K2W0te",
    "papermill": {
     "duration": 0.42046,
     "end_time": "2024-12-14T11:21:06.895583",
     "exception": false,
     "start_time": "2024-12-14T11:21:06.475123",
     "status": "completed"
    },
    "tags": []
   },
   "outputs": [
    {
     "data": {
      "image/png": "[encoded data removed]",
      "text/plain": [
       "<Figure size 1400x500 with 1 Axes>"
      ]
     },
     "metadata": {},
     "output_type": "display_data"
    }
   ],
   "source": [
    "plt.figure(figsize=(14,5))\n",
    "plt.plot(tesla_df['Close'], color='blue')\n",
    "plt.title(\"Tesla Stock Price\")\n",
    "plt.xlabel(\"Time\")\n",
    "plt.ylabel(\"Stock Price\")\n",
    "plt.show()"
   ]
  },
  {
   "cell_type": "code",
   "execution_count": 17,
   "id": "617ea52e",
   "metadata": {
    "execution": {
     "iopub.execute_input": "2024-12-14T11:21:06.931279Z",
     "iopub.status.busy": "2024-12-14T11:21:06.930879Z",
     "iopub.status.idle": "2024-12-14T11:21:06.936414Z",
     "shell.execute_reply": "2024-12-14T11:21:06.935004Z"
    },
    "id": "5LWFDWjNW2z2",
    "papermill": {
     "duration": 0.021899,
     "end_time": "2024-12-14T11:21:06.938654",
     "exception": false,
     "start_time": "2024-12-14T11:21:06.916755",
     "status": "completed"
    },
    "tags": []
   },
   "outputs": [],
   "source": [
    "tesla_df = tesla_df.values"
   ]
  },
  {
   "cell_type": "code",
   "execution_count": 18,
   "id": "6c785c53",
   "metadata": {
    "execution": {
     "iopub.execute_input": "2024-12-14T11:21:06.966766Z",
     "iopub.status.busy": "2024-12-14T11:21:06.966344Z",
     "iopub.status.idle": "2024-12-14T11:21:06.974222Z",
     "shell.execute_reply": "2024-12-14T11:21:06.973013Z"
    },
    "id": "jxFZkTS-W9Mm",
    "papermill": {
     "duration": 0.024677,
     "end_time": "2024-12-14T11:21:06.976905",
     "exception": false,
     "start_time": "2024-12-14T11:21:06.952228",
     "status": "completed"
    },
    "tags": []
   },
   "outputs": [
    {
     "data": {
      "text/plain": [
       "array([[23.889999],\n",
       "       [23.83    ],\n",
       "       [21.959999],\n",
       "       [19.200001],\n",
       "       [16.110001]])"
      ]
     },
     "execution_count": 18,
     "metadata": {},
     "output_type": "execute_result"
    }
   ],
   "source": [
    "tesla_df[0:5]"
   ]
  },
  {
   "cell_type": "code",
   "execution_count": 19,
   "id": "c7347cec",
   "metadata": {
    "execution": {
     "iopub.execute_input": "2024-12-14T11:21:07.005949Z",
     "iopub.status.busy": "2024-12-14T11:21:07.005516Z",
     "iopub.status.idle": "2024-12-14T11:21:07.011443Z",
     "shell.execute_reply": "2024-12-14T11:21:07.009931Z"
    },
    "id": "iU7KJlc4XAb2",
    "papermill": {
     "duration": 0.023743,
     "end_time": "2024-12-14T11:21:07.013731",
     "exception": false,
     "start_time": "2024-12-14T11:21:06.989988",
     "status": "completed"
    },
    "tags": []
   },
   "outputs": [],
   "source": [
    "tesla_df = tesla_df.astype(\"float32\")"
   ]
  },
  {
   "cell_type": "code",
   "execution_count": 20,
   "id": "600c8d65",
   "metadata": {
    "execution": {
     "iopub.execute_input": "2024-12-14T11:21:07.043241Z",
     "iopub.status.busy": "2024-12-14T11:21:07.042767Z",
     "iopub.status.idle": "2024-12-14T11:21:07.048529Z",
     "shell.execute_reply": "2024-12-14T11:21:07.047237Z"
    },
    "id": "r7Cywk9oXBI-",
    "papermill": {
     "duration": 0.022405,
     "end_time": "2024-12-14T11:21:07.050762",
     "exception": false,
     "start_time": "2024-12-14T11:21:07.028357",
     "status": "completed"
    },
    "tags": []
   },
   "outputs": [],
   "source": [
    "def split_data(dataframe, test_size):\n",
    "  position = int(round(len(dataframe) * (1 - test_size)))\n",
    "  train = dataframe[:position]\n",
    "  test = dataframe[position:]\n",
    "  return train, test, position"
   ]
  },
  {
   "cell_type": "code",
   "execution_count": 21,
   "id": "162b9fbc",
   "metadata": {
    "execution": {
     "iopub.execute_input": "2024-12-14T11:21:07.079724Z",
     "iopub.status.busy": "2024-12-14T11:21:07.079290Z",
     "iopub.status.idle": "2024-12-14T11:21:07.085617Z",
     "shell.execute_reply": "2024-12-14T11:21:07.084185Z"
    },
    "id": "COxqfz0SZvV_",
    "papermill": {
     "duration": 0.023611,
     "end_time": "2024-12-14T11:21:07.088069",
     "exception": false,
     "start_time": "2024-12-14T11:21:07.064458",
     "status": "completed"
    },
    "tags": []
   },
   "outputs": [],
   "source": [
    "train, test, position = split_data(tesla_df, 0.20)"
   ]
  },
  {
   "cell_type": "code",
   "execution_count": 22,
   "id": "a5d6cae0",
   "metadata": {
    "execution": {
     "iopub.execute_input": "2024-12-14T11:21:07.116332Z",
     "iopub.status.busy": "2024-12-14T11:21:07.115472Z",
     "iopub.status.idle": "2024-12-14T11:21:07.121382Z",
     "shell.execute_reply": "2024-12-14T11:21:07.120213Z"
    },
    "id": "jESwxnt2Z1t5",
    "papermill": {
     "duration": 0.022742,
     "end_time": "2024-12-14T11:21:07.124164",
     "exception": false,
     "start_time": "2024-12-14T11:21:07.101422",
     "status": "completed"
    },
    "tags": []
   },
   "outputs": [
    {
     "name": "stdout",
     "output_type": "stream",
     "text": [
      "(1933, 1) (483, 1)\n"
     ]
    }
   ],
   "source": [
    "print(train.shape, test.shape)"
   ]
  },
  {
   "cell_type": "code",
   "execution_count": 23,
   "id": "837f4cf7",
   "metadata": {
    "execution": {
     "iopub.execute_input": "2024-12-14T11:21:07.153476Z",
     "iopub.status.busy": "2024-12-14T11:21:07.153073Z",
     "iopub.status.idle": "2024-12-14T11:21:07.159043Z",
     "shell.execute_reply": "2024-12-14T11:21:07.157391Z"
    },
    "id": "wleQDdgSZ8NZ",
    "papermill": {
     "duration": 0.024427,
     "end_time": "2024-12-14T11:21:07.161724",
     "exception": false,
     "start_time": "2024-12-14T11:21:07.137297",
     "status": "completed"
    },
    "tags": []
   },
   "outputs": [],
   "source": [
    "scaler_train = MinMaxScaler(feature_range = (0,1))"
   ]
  },
  {
   "cell_type": "code",
   "execution_count": 24,
   "id": "8c46350e",
   "metadata": {
    "execution": {
     "iopub.execute_input": "2024-12-14T11:21:07.190769Z",
     "iopub.status.busy": "2024-12-14T11:21:07.190338Z",
     "iopub.status.idle": "2024-12-14T11:21:07.196189Z",
     "shell.execute_reply": "2024-12-14T11:21:07.195009Z"
    },
    "id": "Enf8wikDaNZh",
    "papermill": {
     "duration": 0.022771,
     "end_time": "2024-12-14T11:21:07.198404",
     "exception": false,
     "start_time": "2024-12-14T11:21:07.175633",
     "status": "completed"
    },
    "tags": []
   },
   "outputs": [],
   "source": [
    "train = scaler_train.fit_transform(train)"
   ]
  },
  {
   "cell_type": "code",
   "execution_count": 25,
   "id": "2be580e3",
   "metadata": {
    "execution": {
     "iopub.execute_input": "2024-12-14T11:21:07.226679Z",
     "iopub.status.busy": "2024-12-14T11:21:07.226281Z",
     "iopub.status.idle": "2024-12-14T11:21:07.231566Z",
     "shell.execute_reply": "2024-12-14T11:21:07.230232Z"
    },
    "id": "cg-7tCn_aXTc",
    "papermill": {
     "duration": 0.022641,
     "end_time": "2024-12-14T11:21:07.234299",
     "exception": false,
     "start_time": "2024-12-14T11:21:07.211658",
     "status": "completed"
    },
    "tags": []
   },
   "outputs": [],
   "source": [
    "scaler_test = MinMaxScaler(feature_range = (0,1))"
   ]
  },
  {
   "cell_type": "code",
   "execution_count": 26,
   "id": "de883e43",
   "metadata": {
    "execution": {
     "iopub.execute_input": "2024-12-14T11:21:07.262356Z",
     "iopub.status.busy": "2024-12-14T11:21:07.261963Z",
     "iopub.status.idle": "2024-12-14T11:21:07.268565Z",
     "shell.execute_reply": "2024-12-14T11:21:07.267055Z"
    },
    "id": "tSbuIifiabbC",
    "papermill": {
     "duration": 0.023569,
     "end_time": "2024-12-14T11:21:07.270910",
     "exception": false,
     "start_time": "2024-12-14T11:21:07.247341",
     "status": "completed"
    },
    "tags": []
   },
   "outputs": [],
   "source": [
    "test = scaler_test.fit_transform(test)"
   ]
  },
  {
   "cell_type": "code",
   "execution_count": 27,
   "id": "e266e002",
   "metadata": {
    "execution": {
     "iopub.execute_input": "2024-12-14T11:21:07.299374Z",
     "iopub.status.busy": "2024-12-14T11:21:07.298967Z",
     "iopub.status.idle": "2024-12-14T11:21:07.307354Z",
     "shell.execute_reply": "2024-12-14T11:21:07.306065Z"
    },
    "id": "X5a7m_BEagaJ",
    "papermill": {
     "duration": 0.025307,
     "end_time": "2024-12-14T11:21:07.309722",
     "exception": false,
     "start_time": "2024-12-14T11:21:07.284415",
     "status": "completed"
    },
    "tags": []
   },
   "outputs": [
    {
     "data": {
      "text/plain": [
       "array([[0.02191224],\n",
       "       [0.02174973],\n",
       "       [0.01668472],\n",
       "       [0.0092091 ],\n",
       "       [0.00083966]], dtype=float32)"
      ]
     },
     "execution_count": 27,
     "metadata": {},
     "output_type": "execute_result"
    }
   ],
   "source": [
    "train[0:5]"
   ]
  },
  {
   "cell_type": "code",
   "execution_count": 28,
   "id": "67ad53f1",
   "metadata": {
    "execution": {
     "iopub.execute_input": "2024-12-14T11:21:07.338551Z",
     "iopub.status.busy": "2024-12-14T11:21:07.338192Z",
     "iopub.status.idle": "2024-12-14T11:21:07.346908Z",
     "shell.execute_reply": "2024-12-14T11:21:07.345538Z"
    },
    "id": "AeVSy_ijahnh",
    "papermill": {
     "duration": 0.025711,
     "end_time": "2024-12-14T11:21:07.349321",
     "exception": false,
     "start_time": "2024-12-14T11:21:07.323610",
     "status": "completed"
    },
    "tags": []
   },
   "outputs": [
    {
     "data": {
      "text/plain": [
       "array([[0.25685903],\n",
       "       [0.24829045],\n",
       "       [0.25511202],\n",
       "       [0.24978784],\n",
       "       [0.2465767 ]], dtype=float32)"
      ]
     },
     "execution_count": 28,
     "metadata": {},
     "output_type": "execute_result"
    }
   ],
   "source": [
    "test[0:5]"
   ]
  },
  {
   "cell_type": "code",
   "execution_count": 29,
   "id": "20824b3e",
   "metadata": {
    "execution": {
     "iopub.execute_input": "2024-12-14T11:21:07.377872Z",
     "iopub.status.busy": "2024-12-14T11:21:07.377310Z",
     "iopub.status.idle": "2024-12-14T11:21:07.384913Z",
     "shell.execute_reply": "2024-12-14T11:21:07.383266Z"
    },
    "id": "Gv95UqJWasHS",
    "papermill": {
     "duration": 0.025163,
     "end_time": "2024-12-14T11:21:07.387743",
     "exception": false,
     "start_time": "2024-12-14T11:21:07.362580",
     "status": "completed"
    },
    "tags": []
   },
   "outputs": [],
   "source": [
    "def create_features(data, lookback):\n",
    "  X, Y = [], []\n",
    "  for i in range(lookback, len(data)):\n",
    "    X.append(data[i-lookback:i,0])\n",
    "    Y.append(data[i,0])\n",
    "\n",
    "  return np.array(X), np.array(Y)"
   ]
  },
  {
   "cell_type": "code",
   "execution_count": 30,
   "id": "5dc20ac7",
   "metadata": {
    "execution": {
     "iopub.execute_input": "2024-12-14T11:21:07.416388Z",
     "iopub.status.busy": "2024-12-14T11:21:07.415994Z",
     "iopub.status.idle": "2024-12-14T11:21:07.420875Z",
     "shell.execute_reply": "2024-12-14T11:21:07.419749Z"
    },
    "id": "e36Ux4_CbASm",
    "papermill": {
     "duration": 0.022156,
     "end_time": "2024-12-14T11:21:07.423349",
     "exception": false,
     "start_time": "2024-12-14T11:21:07.401193",
     "status": "completed"
    },
    "tags": []
   },
   "outputs": [],
   "source": [
    "lookback = 20"
   ]
  },
  {
   "cell_type": "code",
   "execution_count": 31,
   "id": "eb1ab8d8",
   "metadata": {
    "execution": {
     "iopub.execute_input": "2024-12-14T11:21:07.453378Z",
     "iopub.status.busy": "2024-12-14T11:21:07.453019Z",
     "iopub.status.idle": "2024-12-14T11:21:07.461327Z",
     "shell.execute_reply": "2024-12-14T11:21:07.460102Z"
    },
    "id": "Xd8JMdaWbCzp",
    "papermill": {
     "duration": 0.026308,
     "end_time": "2024-12-14T11:21:07.463596",
     "exception": false,
     "start_time": "2024-12-14T11:21:07.437288",
     "status": "completed"
    },
    "tags": []
   },
   "outputs": [],
   "source": [
    "X_train, y_train = create_features(train, lookback)"
   ]
  },
  {
   "cell_type": "code",
   "execution_count": 32,
   "id": "c617b5f5",
   "metadata": {
    "execution": {
     "iopub.execute_input": "2024-12-14T11:21:07.545768Z",
     "iopub.status.busy": "2024-12-14T11:21:07.545343Z",
     "iopub.status.idle": "2024-12-14T11:21:07.551176Z",
     "shell.execute_reply": "2024-12-14T11:21:07.550126Z"
    },
    "id": "wHgq8DT5bF_Z",
    "papermill": {
     "duration": 0.076519,
     "end_time": "2024-12-14T11:21:07.553436",
     "exception": false,
     "start_time": "2024-12-14T11:21:07.476917",
     "status": "completed"
    },
    "tags": []
   },
   "outputs": [],
   "source": [
    "X_test, y_test = create_features(test, lookback)"
   ]
  },
  {
   "cell_type": "code",
   "execution_count": 33,
   "id": "aa440c6c",
   "metadata": {
    "execution": {
     "iopub.execute_input": "2024-12-14T11:21:07.581930Z",
     "iopub.status.busy": "2024-12-14T11:21:07.581515Z",
     "iopub.status.idle": "2024-12-14T11:21:07.587635Z",
     "shell.execute_reply": "2024-12-14T11:21:07.586530Z"
    },
    "id": "zYQy_33TbKdb",
    "papermill": {
     "duration": 0.023408,
     "end_time": "2024-12-14T11:21:07.589952",
     "exception": false,
     "start_time": "2024-12-14T11:21:07.566544",
     "status": "completed"
    },
    "tags": []
   },
   "outputs": [
    {
     "name": "stdout",
     "output_type": "stream",
     "text": [
      "(1913, 20) (1913,) (463, 20) (463,)\n"
     ]
    }
   ],
   "source": [
    "print(X_train.shape, y_train.shape, X_test.shape, y_test.shape)"
   ]
  },
  {
   "cell_type": "code",
   "execution_count": 34,
   "id": "90c1a742",
   "metadata": {
    "execution": {
     "iopub.execute_input": "2024-12-14T11:21:07.619440Z",
     "iopub.status.busy": "2024-12-14T11:21:07.619049Z",
     "iopub.status.idle": "2024-12-14T11:21:07.627103Z",
     "shell.execute_reply": "2024-12-14T11:21:07.626037Z"
    },
    "id": "sI1k-K6bTKuw",
    "papermill": {
     "duration": 0.025187,
     "end_time": "2024-12-14T11:21:07.629342",
     "exception": false,
     "start_time": "2024-12-14T11:21:07.604155",
     "status": "completed"
    },
    "tags": []
   },
   "outputs": [
    {
     "data": {
      "text/plain": [
       "array([[0.02191224, 0.02174973, 0.01668472, 0.0092091 , 0.00083966,\n",
       "        0.        , 0.00449621, 0.00433369, 0.0033857 , 0.00633803,\n",
       "        0.01094258, 0.011078  , 0.01310942, 0.0165493 , 0.01218851,\n",
       "        0.01197183, 0.01408451, 0.01486999, 0.01394908, 0.01286566],\n",
       "       [0.02174973, 0.01668472, 0.0092091 , 0.00083966, 0.        ,\n",
       "        0.00449621, 0.00433369, 0.0033857 , 0.00633803, 0.01094258,\n",
       "        0.011078  , 0.01310942, 0.0165493 , 0.01218851, 0.01197183,\n",
       "        0.01408451, 0.01486999, 0.01394908, 0.01286566, 0.01332611],\n",
       "       [0.01668472, 0.0092091 , 0.00083966, 0.        , 0.00449621,\n",
       "        0.00433369, 0.0033857 , 0.00633803, 0.01094258, 0.011078  ,\n",
       "        0.01310942, 0.0165493 , 0.01218851, 0.01197183, 0.01408451,\n",
       "        0.01486999, 0.01394908, 0.01286566, 0.01332611, 0.01232395],\n",
       "       [0.0092091 , 0.00083966, 0.        , 0.00449621, 0.00433369,\n",
       "        0.0033857 , 0.00633803, 0.01094258, 0.011078  , 0.01310942,\n",
       "        0.0165493 , 0.01218851, 0.01197183, 0.01408451, 0.01486999,\n",
       "        0.01394908, 0.01286566, 0.01332611, 0.01232395, 0.01121344],\n",
       "       [0.00083966, 0.        , 0.00449621, 0.00433369, 0.0033857 ,\n",
       "        0.00633803, 0.01094258, 0.011078  , 0.01310942, 0.0165493 ,\n",
       "        0.01218851, 0.01197183, 0.01408451, 0.01486999, 0.01394908,\n",
       "        0.01286566, 0.01332611, 0.01232395, 0.01121344, 0.01386782]],\n",
       "      dtype=float32)"
      ]
     },
     "execution_count": 34,
     "metadata": {},
     "output_type": "execute_result"
    }
   ],
   "source": [
    "X_train[0:5]"
   ]
  },
  {
   "cell_type": "code",
   "execution_count": 35,
   "id": "4dc1d4ad",
   "metadata": {
    "execution": {
     "iopub.execute_input": "2024-12-14T11:21:07.659609Z",
     "iopub.status.busy": "2024-12-14T11:21:07.659195Z",
     "iopub.status.idle": "2024-12-14T11:21:07.667122Z",
     "shell.execute_reply": "2024-12-14T11:21:07.666004Z"
    },
    "id": "vY5hCVQHTg9u",
    "papermill": {
     "duration": 0.026377,
     "end_time": "2024-12-14T11:21:07.669328",
     "exception": false,
     "start_time": "2024-12-14T11:21:07.642951",
     "status": "completed"
    },
    "tags": []
   },
   "outputs": [
    {
     "data": {
      "text/plain": [
       "array([0.01332611, 0.01232395, 0.01121344, 0.01386782, 0.01665764],\n",
       "      dtype=float32)"
      ]
     },
     "execution_count": 35,
     "metadata": {},
     "output_type": "execute_result"
    }
   ],
   "source": [
    "y_train[0:5]"
   ]
  },
  {
   "cell_type": "code",
   "execution_count": 36,
   "id": "b10d3485",
   "metadata": {
    "execution": {
     "iopub.execute_input": "2024-12-14T11:21:07.700413Z",
     "iopub.status.busy": "2024-12-14T11:21:07.700006Z",
     "iopub.status.idle": "2024-12-14T11:21:07.707069Z",
     "shell.execute_reply": "2024-12-14T11:21:07.705672Z"
    },
    "id": "yvf-4kLybad5",
    "papermill": {
     "duration": 0.026352,
     "end_time": "2024-12-14T11:21:07.709739",
     "exception": false,
     "start_time": "2024-12-14T11:21:07.683387",
     "status": "completed"
    },
    "tags": []
   },
   "outputs": [],
   "source": [
    "X_train = np.reshape(X_train, (X_train.shape[0], 1, X_train.shape[1]))\n",
    "X_test = np.reshape(X_test, (X_test.shape[0], 1, X_test.shape[1]))\n",
    "y_train = y_train.reshape(-1,1)\n",
    "y_test = y_test.reshape(-1,1)"
   ]
  },
  {
   "cell_type": "code",
   "execution_count": 37,
   "id": "792a00d8",
   "metadata": {
    "execution": {
     "iopub.execute_input": "2024-12-14T11:21:07.742598Z",
     "iopub.status.busy": "2024-12-14T11:21:07.741359Z",
     "iopub.status.idle": "2024-12-14T11:21:07.748073Z",
     "shell.execute_reply": "2024-12-14T11:21:07.746875Z"
    },
    "id": "D2ltv0Edb3wz",
    "papermill": {
     "duration": 0.025163,
     "end_time": "2024-12-14T11:21:07.750332",
     "exception": false,
     "start_time": "2024-12-14T11:21:07.725169",
     "status": "completed"
    },
    "tags": []
   },
   "outputs": [
    {
     "name": "stdout",
     "output_type": "stream",
     "text": [
      "(1913, 1, 20) (1913, 1) (463, 1, 20) (463, 1)\n"
     ]
    }
   ],
   "source": [
    "print(X_train.shape, y_train.shape, X_test.shape, y_test.shape)"
   ]
  },
  {
   "cell_type": "markdown",
   "id": "fa1fedd4",
   "metadata": {
    "id": "DtsN3xazcIAn",
    "papermill": {
     "duration": 0.015602,
     "end_time": "2024-12-14T11:21:07.780906",
     "exception": false,
     "start_time": "2024-12-14T11:21:07.765304",
     "status": "completed"
    },
    "tags": []
   },
   "source": [
    "## Modelling"
   ]
  },
  {
   "cell_type": "code",
   "execution_count": 38,
   "id": "117033a4",
   "metadata": {
    "execution": {
     "iopub.execute_input": "2024-12-14T11:21:07.812559Z",
     "iopub.status.busy": "2024-12-14T11:21:07.812172Z",
     "iopub.status.idle": "2024-12-14T11:21:07.941247Z",
     "shell.execute_reply": "2024-12-14T11:21:07.940143Z"
    },
    "id": "QtbQx4G9cI_z",
    "papermill": {
     "duration": 0.147251,
     "end_time": "2024-12-14T11:21:07.943837",
     "exception": false,
     "start_time": "2024-12-14T11:21:07.796586",
     "status": "completed"
    },
    "tags": []
   },
   "outputs": [],
   "source": [
    "model = Sequential()\n",
    "\n",
    "model.add(LSTM(units = 50,\n",
    "                    activation = 'relu',\n",
    "                    input_shape=(X_train.shape[1], lookback)))\n",
    "\n",
    "model.add(Dropout(0.2))\n",
    "\n",
    "model.add(Dense(1))\n"
   ]
  },
  {
   "cell_type": "code",
   "execution_count": 39,
   "id": "0b4bdc19",
   "metadata": {
    "execution": {
     "iopub.execute_input": "2024-12-14T11:21:07.974456Z",
     "iopub.status.busy": "2024-12-14T11:21:07.974039Z",
     "iopub.status.idle": "2024-12-14T11:21:07.996049Z",
     "shell.execute_reply": "2024-12-14T11:21:07.994746Z"
    },
    "id": "RQFXIkDbciE6",
    "papermill": {
     "duration": 0.040323,
     "end_time": "2024-12-14T11:21:07.998247",
     "exception": false,
     "start_time": "2024-12-14T11:21:07.957924",
     "status": "completed"
    },
    "tags": []
   },
   "outputs": [
    {
     "data": {
      "text/html": [
       "<pre style=\"white-space:pre;overflow-x:auto;line-height:normal;font-family:Menlo,'DejaVu Sans Mono',consolas,'Courier New',monospace\"><span style=\"font-weight: bold\">Model: \"sequential\"</span>\n",
       "</pre>\n"
      ],
      "text/plain": [
       "\u001b[1mModel: \"sequential\"\u001b[0m\n"
      ]
     },
     "metadata": {},
     "output_type": "display_data"
    },
    {
     "data": {
      "text/html": [
       "<pre style=\"white-space:pre;overflow-x:auto;line-height:normal;font-family:Menlo,'DejaVu Sans Mono',consolas,'Courier New',monospace\">┏━━━━━━━━━━━━━━━━━━━━━━━━━━━━━━━━━┳━━━━━━━━━━━━━━━━━━━━━━━━┳━━━━━━━━━━━━━━━┓\n",
       "┃<span style=\"font-weight: bold\"> Layer (type)                    </span>┃<span style=\"font-weight: bold\"> Output Shape           </span>┃<span style=\"font-weight: bold\">       Param # </span>┃\n",
       "┡━━━━━━━━━━━━━━━━━━━━━━━━━━━━━━━━━╇━━━━━━━━━━━━━━━━━━━━━━━━╇━━━━━━━━━━━━━━━┩\n",
       "│ lstm (<span style=\"color: #0087ff; text-decoration-color: #0087ff\">LSTM</span>)                     │ (<span style=\"color: #00d7ff; text-decoration-color: #00d7ff\">None</span>, <span style=\"color: #00af00; text-decoration-color: #00af00\">50</span>)             │        <span style=\"color: #00af00; text-decoration-color: #00af00\">14,200</span> │\n",
       "├─────────────────────────────────┼────────────────────────┼───────────────┤\n",
       "│ dropout (<span style=\"color: #0087ff; text-decoration-color: #0087ff\">Dropout</span>)               │ (<span style=\"color: #00d7ff; text-decoration-color: #00d7ff\">None</span>, <span style=\"color: #00af00; text-decoration-color: #00af00\">50</span>)             │             <span style=\"color: #00af00; text-decoration-color: #00af00\">0</span> │\n",
       "├─────────────────────────────────┼────────────────────────┼───────────────┤\n",
       "│ dense (<span style=\"color: #0087ff; text-decoration-color: #0087ff\">Dense</span>)                   │ (<span style=\"color: #00d7ff; text-decoration-color: #00d7ff\">None</span>, <span style=\"color: #00af00; text-decoration-color: #00af00\">1</span>)              │            <span style=\"color: #00af00; text-decoration-color: #00af00\">51</span> │\n",
       "└─────────────────────────────────┴────────────────────────┴───────────────┘\n",
       "</pre>\n"
      ],
      "text/plain": [
       "┏━━━━━━━━━━━━━━━━━━━━━━━━━━━━━━━━━┳━━━━━━━━━━━━━━━━━━━━━━━━┳━━━━━━━━━━━━━━━┓\n",
       "┃\u001b[1m \u001b[0m\u001b[1mLayer (type)                   \u001b[0m\u001b[1m \u001b[0m┃\u001b[1m \u001b[0m\u001b[1mOutput Shape          \u001b[0m\u001b[1m \u001b[0m┃\u001b[1m \u001b[0m\u001b[1m      Param #\u001b[0m\u001b[1m \u001b[0m┃\n",
       "┡━━━━━━━━━━━━━━━━━━━━━━━━━━━━━━━━━╇━━━━━━━━━━━━━━━━━━━━━━━━╇━━━━━━━━━━━━━━━┩\n",
       "│ lstm (\u001b[38;5;33mLSTM\u001b[0m)                     │ (\u001b[38;5;45mNone\u001b[0m, \u001b[38;5;34m50\u001b[0m)             │        \u001b[38;5;34m14,200\u001b[0m │\n",
       "├─────────────────────────────────┼────────────────────────┼───────────────┤\n",
       "│ dropout (\u001b[38;5;33mDropout\u001b[0m)               │ (\u001b[38;5;45mNone\u001b[0m, \u001b[38;5;34m50\u001b[0m)             │             \u001b[38;5;34m0\u001b[0m │\n",
       "├─────────────────────────────────┼────────────────────────┼───────────────┤\n",
       "│ dense (\u001b[38;5;33mDense\u001b[0m)                   │ (\u001b[38;5;45mNone\u001b[0m, \u001b[38;5;34m1\u001b[0m)              │            \u001b[38;5;34m51\u001b[0m │\n",
       "└─────────────────────────────────┴────────────────────────┴───────────────┘\n"
      ]
     },
     "metadata": {},
     "output_type": "display_data"
    },
    {
     "data": {
      "text/html": [
       "<pre style=\"white-space:pre;overflow-x:auto;line-height:normal;font-family:Menlo,'DejaVu Sans Mono',consolas,'Courier New',monospace\"><span style=\"font-weight: bold\"> Total params: </span><span style=\"color: #00af00; text-decoration-color: #00af00\">14,251</span> (55.67 KB)\n",
       "</pre>\n"
      ],
      "text/plain": [
       "\u001b[1m Total params: \u001b[0m\u001b[38;5;34m14,251\u001b[0m (55.67 KB)\n"
      ]
     },
     "metadata": {},
     "output_type": "display_data"
    },
    {
     "data": {
      "text/html": [
       "<pre style=\"white-space:pre;overflow-x:auto;line-height:normal;font-family:Menlo,'DejaVu Sans Mono',consolas,'Courier New',monospace\"><span style=\"font-weight: bold\"> Trainable params: </span><span style=\"color: #00af00; text-decoration-color: #00af00\">14,251</span> (55.67 KB)\n",
       "</pre>\n"
      ],
      "text/plain": [
       "\u001b[1m Trainable params: \u001b[0m\u001b[38;5;34m14,251\u001b[0m (55.67 KB)\n"
      ]
     },
     "metadata": {},
     "output_type": "display_data"
    },
    {
     "data": {
      "text/html": [
       "<pre style=\"white-space:pre;overflow-x:auto;line-height:normal;font-family:Menlo,'DejaVu Sans Mono',consolas,'Courier New',monospace\"><span style=\"font-weight: bold\"> Non-trainable params: </span><span style=\"color: #00af00; text-decoration-color: #00af00\">0</span> (0.00 B)\n",
       "</pre>\n"
      ],
      "text/plain": [
       "\u001b[1m Non-trainable params: \u001b[0m\u001b[38;5;34m0\u001b[0m (0.00 B)\n"
      ]
     },
     "metadata": {},
     "output_type": "display_data"
    }
   ],
   "source": [
    "model.summary()"
   ]
  },
  {
   "cell_type": "code",
   "execution_count": 40,
   "id": "a28fba29",
   "metadata": {
    "execution": {
     "iopub.execute_input": "2024-12-14T11:21:08.028408Z",
     "iopub.status.busy": "2024-12-14T11:21:08.028003Z",
     "iopub.status.idle": "2024-12-14T11:21:08.042928Z",
     "shell.execute_reply": "2024-12-14T11:21:08.041829Z"
    },
    "id": "NE6_O7IwclkT",
    "papermill": {
     "duration": 0.03291,
     "end_time": "2024-12-14T11:21:08.045416",
     "exception": false,
     "start_time": "2024-12-14T11:21:08.012506",
     "status": "completed"
    },
    "tags": []
   },
   "outputs": [],
   "source": [
    "model.compile(loss='mean_squared_error', optimizer='adam')"
   ]
  },
  {
   "cell_type": "code",
   "execution_count": 41,
   "id": "63ce8753",
   "metadata": {
    "execution": {
     "iopub.execute_input": "2024-12-14T11:21:08.076437Z",
     "iopub.status.busy": "2024-12-14T11:21:08.076019Z",
     "iopub.status.idle": "2024-12-14T11:21:08.081554Z",
     "shell.execute_reply": "2024-12-14T11:21:08.080425Z"
    },
    "id": "JLqjYZudc3Is",
    "papermill": {
     "duration": 0.023212,
     "end_time": "2024-12-14T11:21:08.083754",
     "exception": false,
     "start_time": "2024-12-14T11:21:08.060542",
     "status": "completed"
    },
    "tags": []
   },
   "outputs": [],
   "source": [
    "callbacks = (EarlyStopping(monitor='val_loss', patience=10, verbose=1, mode='min'),\n",
    "            ModelCheckpoint(filepath='mymodel.keras', monitor='val_loss', mode='min',\n",
    "            save_best_only = True, save_weights_only = False, verbose = 1))"
   ]
  },
  {
   "cell_type": "code",
   "execution_count": 42,
   "id": "f22b82cd",
   "metadata": {
    "execution": {
     "iopub.execute_input": "2024-12-14T11:21:08.113718Z",
     "iopub.status.busy": "2024-12-14T11:21:08.113283Z",
     "iopub.status.idle": "2024-12-14T11:21:18.216405Z",
     "shell.execute_reply": "2024-12-14T11:21:18.213301Z"
    },
    "id": "7Pv-Fb9FdSf7",
    "papermill": {
     "duration": 10.121704,
     "end_time": "2024-12-14T11:21:18.219605",
     "exception": false,
     "start_time": "2024-12-14T11:21:08.097901",
     "status": "completed"
    },
    "tags": []
   },
   "outputs": [
    {
     "name": "stdout",
     "output_type": "stream",
     "text": [
      "Epoch 1/100\n",
      "\u001b[1m96/96\u001b[0m \u001b[32m━━━━━━━━━━━━━━━━━━━━\u001b[0m\u001b[37m\u001b[0m \u001b[1m0s\u001b[0m 2ms/step - loss: 0.0041\n",
      "Epoch 1: val_loss improved from inf to 0.00398, saving model to mymodel.keras\n",
      "\u001b[1m96/96\u001b[0m \u001b[32m━━━━━━━━━━━━━━━━━━━━\u001b[0m\u001b[37m\u001b[0m \u001b[1m3s\u001b[0m 7ms/step - loss: 0.0041 - val_loss: 0.0040\n",
      "Epoch 2/100\n",
      "\u001b[1m88/96\u001b[0m \u001b[32m━━━━━━━━━━━━━━━━━━\u001b[0m\u001b[37m━━\u001b[0m \u001b[1m0s\u001b[0m 2ms/step - loss: 0.0040\n",
      "Epoch 2: val_loss improved from 0.00398 to 0.00332, saving model to mymodel.keras\n",
      "\u001b[1m96/96\u001b[0m \u001b[32m━━━━━━━━━━━━━━━━━━━━\u001b[0m\u001b[37m\u001b[0m \u001b[1m0s\u001b[0m 3ms/step - loss: 0.0042 - val_loss: 0.0033\n",
      "Epoch 3/100\n",
      "\u001b[1m85/96\u001b[0m \u001b[32m━━━━━━━━━━━━━━━━━\u001b[0m\u001b[37m━━━\u001b[0m \u001b[1m0s\u001b[0m 2ms/step - loss: 0.0023\n",
      "Epoch 3: val_loss improved from 0.00332 to 0.00290, saving model to mymodel.keras\n",
      "\u001b[1m96/96\u001b[0m \u001b[32m━━━━━━━━━━━━━━━━━━━━\u001b[0m\u001b[37m\u001b[0m \u001b[1m0s\u001b[0m 3ms/step - loss: 0.0027 - val_loss: 0.0029\n",
      "Epoch 4/100\n",
      "\u001b[1m95/96\u001b[0m \u001b[32m━━━━━━━━━━━━━━━━━━━\u001b[0m\u001b[37m━\u001b[0m \u001b[1m0s\u001b[0m 3ms/step - loss: 0.0021\n",
      "Epoch 4: val_loss did not improve from 0.00290\n",
      "\u001b[1m96/96\u001b[0m \u001b[32m━━━━━━━━━━━━━━━━━━━━\u001b[0m\u001b[37m\u001b[0m \u001b[1m0s\u001b[0m 3ms/step - loss: 0.0022 - val_loss: 0.0029\n",
      "Epoch 5/100\n",
      "\u001b[1m93/96\u001b[0m \u001b[32m━━━━━━━━━━━━━━━━━━━\u001b[0m\u001b[37m━\u001b[0m \u001b[1m0s\u001b[0m 2ms/step - loss: 0.0016\n",
      "Epoch 5: val_loss did not improve from 0.00290\n",
      "\u001b[1m96/96\u001b[0m \u001b[32m━━━━━━━━━━━━━━━━━━━━\u001b[0m\u001b[37m\u001b[0m \u001b[1m0s\u001b[0m 3ms/step - loss: 0.0017 - val_loss: 0.0032\n",
      "Epoch 6/100\n",
      "\u001b[1m88/96\u001b[0m \u001b[32m━━━━━━━━━━━━━━━━━━\u001b[0m\u001b[37m━━\u001b[0m \u001b[1m0s\u001b[0m 2ms/step - loss: 0.0016    \n",
      "Epoch 6: val_loss improved from 0.00290 to 0.00259, saving model to mymodel.keras\n",
      "\u001b[1m96/96\u001b[0m \u001b[32m━━━━━━━━━━━━━━━━━━━━\u001b[0m\u001b[37m\u001b[0m \u001b[1m0s\u001b[0m 3ms/step - loss: 0.0018 - val_loss: 0.0026\n",
      "Epoch 7/100\n",
      "\u001b[1m75/96\u001b[0m \u001b[32m━━━━━━━━━━━━━━━\u001b[0m\u001b[37m━━━━━\u001b[0m \u001b[1m0s\u001b[0m 2ms/step - loss: 0.0016\n",
      "Epoch 7: val_loss did not improve from 0.00259\n",
      "\u001b[1m96/96\u001b[0m \u001b[32m━━━━━━━━━━━━━━━━━━━━\u001b[0m\u001b[37m\u001b[0m \u001b[1m0s\u001b[0m 3ms/step - loss: 0.0020 - val_loss: 0.0026\n",
      "Epoch 8/100\n",
      "\u001b[1m96/96\u001b[0m \u001b[32m━━━━━━━━━━━━━━━━━━━━\u001b[0m\u001b[37m\u001b[0m \u001b[1m0s\u001b[0m 4ms/step - loss: 0.0016\n",
      "Epoch 8: val_loss improved from 0.00259 to 0.00255, saving model to mymodel.keras\n",
      "\u001b[1m96/96\u001b[0m \u001b[32m━━━━━━━━━━━━━━━━━━━━\u001b[0m\u001b[37m\u001b[0m \u001b[1m1s\u001b[0m 6ms/step - loss: 0.0016 - val_loss: 0.0026\n",
      "Epoch 9/100\n",
      "\u001b[1m96/96\u001b[0m \u001b[32m━━━━━━━━━━━━━━━━━━━━\u001b[0m\u001b[37m\u001b[0m \u001b[1m0s\u001b[0m 3ms/step - loss: 0.0019\n",
      "Epoch 9: val_loss did not improve from 0.00255\n",
      "\u001b[1m96/96\u001b[0m \u001b[32m━━━━━━━━━━━━━━━━━━━━\u001b[0m\u001b[37m\u001b[0m \u001b[1m0s\u001b[0m 3ms/step - loss: 0.0019 - val_loss: 0.0026\n",
      "Epoch 10/100\n",
      "\u001b[1m95/96\u001b[0m \u001b[32m━━━━━━━━━━━━━━━━━━━\u001b[0m\u001b[37m━\u001b[0m \u001b[1m0s\u001b[0m 3ms/step - loss: 0.0021\n",
      "Epoch 10: val_loss improved from 0.00255 to 0.00239, saving model to mymodel.keras\n",
      "\u001b[1m96/96\u001b[0m \u001b[32m━━━━━━━━━━━━━━━━━━━━\u001b[0m\u001b[37m\u001b[0m \u001b[1m0s\u001b[0m 4ms/step - loss: 0.0021 - val_loss: 0.0024\n",
      "Epoch 11/100\n",
      "\u001b[1m87/96\u001b[0m \u001b[32m━━━━━━━━━━━━━━━━━━\u001b[0m\u001b[37m━━\u001b[0m \u001b[1m0s\u001b[0m 2ms/step - loss: 0.0015\n",
      "Epoch 11: val_loss improved from 0.00239 to 0.00220, saving model to mymodel.keras\n",
      "\u001b[1m96/96\u001b[0m \u001b[32m━━━━━━━━━━━━━━━━━━━━\u001b[0m\u001b[37m\u001b[0m \u001b[1m0s\u001b[0m 3ms/step - loss: 0.0018 - val_loss: 0.0022\n",
      "Epoch 12/100\n",
      "\u001b[1m92/96\u001b[0m \u001b[32m━━━━━━━━━━━━━━━━━━━\u001b[0m\u001b[37m━\u001b[0m \u001b[1m0s\u001b[0m 2ms/step - loss: 0.0017\n",
      "Epoch 12: val_loss did not improve from 0.00220\n",
      "\u001b[1m96/96\u001b[0m \u001b[32m━━━━━━━━━━━━━━━━━━━━\u001b[0m\u001b[37m\u001b[0m \u001b[1m0s\u001b[0m 3ms/step - loss: 0.0018 - val_loss: 0.0022\n",
      "Epoch 13/100\n",
      "\u001b[1m91/96\u001b[0m \u001b[32m━━━━━━━━━━━━━━━━━━\u001b[0m\u001b[37m━━\u001b[0m \u001b[1m0s\u001b[0m 2ms/step - loss: 0.0017\n",
      "Epoch 13: val_loss improved from 0.00220 to 0.00211, saving model to mymodel.keras\n",
      "\u001b[1m96/96\u001b[0m \u001b[32m━━━━━━━━━━━━━━━━━━━━\u001b[0m\u001b[37m\u001b[0m \u001b[1m0s\u001b[0m 3ms/step - loss: 0.0019 - val_loss: 0.0021\n",
      "Epoch 14/100\n",
      "\u001b[1m96/96\u001b[0m \u001b[32m━━━━━━━━━━━━━━━━━━━━\u001b[0m\u001b[37m\u001b[0m \u001b[1m0s\u001b[0m 2ms/step - loss: 0.0018\n",
      "Epoch 14: val_loss improved from 0.00211 to 0.00206, saving model to mymodel.keras\n",
      "\u001b[1m96/96\u001b[0m \u001b[32m━━━━━━━━━━━━━━━━━━━━\u001b[0m\u001b[37m\u001b[0m \u001b[1m0s\u001b[0m 3ms/step - loss: 0.0018 - val_loss: 0.0021\n",
      "Epoch 15/100\n",
      "\u001b[1m90/96\u001b[0m \u001b[32m━━━━━━━━━━━━━━━━━━\u001b[0m\u001b[37m━━\u001b[0m \u001b[1m0s\u001b[0m 2ms/step - loss: 0.0016\n",
      "Epoch 15: val_loss did not improve from 0.00206\n",
      "\u001b[1m96/96\u001b[0m \u001b[32m━━━━━━━━━━━━━━━━━━━━\u001b[0m\u001b[37m\u001b[0m \u001b[1m0s\u001b[0m 3ms/step - loss: 0.0017 - val_loss: 0.0024\n",
      "Epoch 16/100\n",
      "\u001b[1m89/96\u001b[0m \u001b[32m━━━━━━━━━━━━━━━━━━\u001b[0m\u001b[37m━━\u001b[0m \u001b[1m0s\u001b[0m 2ms/step - loss: 0.0017\n",
      "Epoch 16: val_loss did not improve from 0.00206\n",
      "\u001b[1m96/96\u001b[0m \u001b[32m━━━━━━━━━━━━━━━━━━━━\u001b[0m\u001b[37m\u001b[0m \u001b[1m0s\u001b[0m 3ms/step - loss: 0.0018 - val_loss: 0.0028\n",
      "Epoch 17/100\n",
      "\u001b[1m93/96\u001b[0m \u001b[32m━━━━━━━━━━━━━━━━━━━\u001b[0m\u001b[37m━\u001b[0m \u001b[1m0s\u001b[0m 2ms/step - loss: 0.0020\n",
      "Epoch 17: val_loss did not improve from 0.00206\n",
      "\u001b[1m96/96\u001b[0m \u001b[32m━━━━━━━━━━━━━━━━━━━━\u001b[0m\u001b[37m\u001b[0m \u001b[1m0s\u001b[0m 3ms/step - loss: 0.0021 - val_loss: 0.0044\n",
      "Epoch 18/100\n",
      "\u001b[1m96/96\u001b[0m \u001b[32m━━━━━━━━━━━━━━━━━━━━\u001b[0m\u001b[37m\u001b[0m \u001b[1m0s\u001b[0m 2ms/step - loss: 0.0021\n",
      "Epoch 18: val_loss did not improve from 0.00206\n",
      "\u001b[1m96/96\u001b[0m \u001b[32m━━━━━━━━━━━━━━━━━━━━\u001b[0m\u001b[37m\u001b[0m \u001b[1m0s\u001b[0m 3ms/step - loss: 0.0021 - val_loss: 0.0028\n",
      "Epoch 19/100\n",
      "\u001b[1m78/96\u001b[0m \u001b[32m━━━━━━━━━━━━━━━━\u001b[0m\u001b[37m━━━━\u001b[0m \u001b[1m0s\u001b[0m 2ms/step - loss: 0.0015    \n",
      "Epoch 19: val_loss did not improve from 0.00206\n",
      "\u001b[1m96/96\u001b[0m \u001b[32m━━━━━━━━━━━━━━━━━━━━\u001b[0m\u001b[37m\u001b[0m \u001b[1m0s\u001b[0m 3ms/step - loss: 0.0019 - val_loss: 0.0038\n",
      "Epoch 20/100\n",
      "\u001b[1m77/96\u001b[0m \u001b[32m━━━━━━━━━━━━━━━━\u001b[0m\u001b[37m━━━━\u001b[0m \u001b[1m0s\u001b[0m 2ms/step - loss: 0.0014\n",
      "Epoch 20: val_loss did not improve from 0.00206\n",
      "\u001b[1m96/96\u001b[0m \u001b[32m━━━━━━━━━━━━━━━━━━━━\u001b[0m\u001b[37m\u001b[0m \u001b[1m0s\u001b[0m 3ms/step - loss: 0.0019 - val_loss: 0.0049\n",
      "Epoch 21/100\n",
      "\u001b[1m95/96\u001b[0m \u001b[32m━━━━━━━━━━━━━━━━━━━\u001b[0m\u001b[37m━\u001b[0m \u001b[1m0s\u001b[0m 2ms/step - loss: 0.0020\n",
      "Epoch 21: val_loss did not improve from 0.00206\n",
      "\u001b[1m96/96\u001b[0m \u001b[32m━━━━━━━━━━━━━━━━━━━━\u001b[0m\u001b[37m\u001b[0m \u001b[1m0s\u001b[0m 3ms/step - loss: 0.0020 - val_loss: 0.0069\n",
      "Epoch 22/100\n",
      "\u001b[1m86/96\u001b[0m \u001b[32m━━━━━━━━━━━━━━━━━\u001b[0m\u001b[37m━━━\u001b[0m \u001b[1m0s\u001b[0m 2ms/step - loss: 0.0020\n",
      "Epoch 22: val_loss did not improve from 0.00206\n",
      "\u001b[1m96/96\u001b[0m \u001b[32m━━━━━━━━━━━━━━━━━━━━\u001b[0m\u001b[37m\u001b[0m \u001b[1m0s\u001b[0m 3ms/step - loss: 0.0023 - val_loss: 0.0080\n",
      "Epoch 23/100\n",
      "\u001b[1m94/96\u001b[0m \u001b[32m━━━━━━━━━━━━━━━━━━━\u001b[0m\u001b[37m━\u001b[0m \u001b[1m0s\u001b[0m 2ms/step - loss: 0.0020\n",
      "Epoch 23: val_loss did not improve from 0.00206\n",
      "\u001b[1m96/96\u001b[0m \u001b[32m━━━━━━━━━━━━━━━━━━━━\u001b[0m\u001b[37m\u001b[0m \u001b[1m0s\u001b[0m 3ms/step - loss: 0.0021 - val_loss: 0.0060\n",
      "Epoch 24/100\n",
      "\u001b[1m72/96\u001b[0m \u001b[32m━━━━━━━━━━━━━━━\u001b[0m\u001b[37m━━━━━\u001b[0m \u001b[1m0s\u001b[0m 2ms/step - loss: 0.0013    \n",
      "Epoch 24: val_loss did not improve from 0.00206\n",
      "\u001b[1m96/96\u001b[0m \u001b[32m━━━━━━━━━━━━━━━━━━━━\u001b[0m\u001b[37m\u001b[0m \u001b[1m0s\u001b[0m 3ms/step - loss: 0.0018 - val_loss: 0.0052\n",
      "Epoch 24: early stopping\n"
     ]
    }
   ],
   "source": [
    "history = model.fit(x=X_train,\n",
    "                    y=y_train,\n",
    "                    epochs=100,\n",
    "                    batch_size=20,\n",
    "                    validation_data=(X_test, y_test),\n",
    "                    callbacks=[callbacks],\n",
    "                    shuffle=False)"
   ]
  },
  {
   "cell_type": "code",
   "execution_count": 43,
   "id": "bb2e497e",
   "metadata": {
    "execution": {
     "iopub.execute_input": "2024-12-14T11:21:18.272850Z",
     "iopub.status.busy": "2024-12-14T11:21:18.272413Z",
     "iopub.status.idle": "2024-12-14T11:21:18.553312Z",
     "shell.execute_reply": "2024-12-14T11:21:18.552099Z"
    },
    "id": "VzxR8n1yeGpV",
    "papermill": {
     "duration": 0.310459,
     "end_time": "2024-12-14T11:21:18.555531",
     "exception": false,
     "start_time": "2024-12-14T11:21:18.245072",
     "status": "completed"
    },
    "tags": []
   },
   "outputs": [
    {
     "data": {
      "image/png": "[encoded data removed]",
      "text/plain": [
       "<Figure size 2000x500 with 1 Axes>"
      ]
     },
     "metadata": {},
     "output_type": "display_data"
    }
   ],
   "source": [
    "plt.figure(figsize=(20,5))\n",
    "plt.subplot(1,2,1)\n",
    "plt.plot(history.history['loss'], label='Training Loss')\n",
    "plt.plot(history.history['val_loss'], label='Validation Loss')\n",
    "plt.legend(loc='upper right')\n",
    "plt.xlabel('Epoch', fontsize = 16)\n",
    "plt.ylabel('Loss', fontsize = 16)\n",
    "plt.ylim([0,max(plt.ylim())])\n",
    "plt.title('Training and Validation Loss', fontsize = 16)\n",
    "plt.show()"
   ]
  },
  {
   "cell_type": "markdown",
   "id": "23c113ae",
   "metadata": {
    "id": "XO0NGWQWerLU",
    "papermill": {
     "duration": 0.025314,
     "end_time": "2024-12-14T11:21:18.606662",
     "exception": false,
     "start_time": "2024-12-14T11:21:18.581348",
     "status": "completed"
    },
    "tags": []
   },
   "source": [
    "## Evaluation"
   ]
  },
  {
   "cell_type": "code",
   "execution_count": 44,
   "id": "41327d19",
   "metadata": {
    "execution": {
     "iopub.execute_input": "2024-12-14T11:21:18.660917Z",
     "iopub.status.busy": "2024-12-14T11:21:18.660490Z",
     "iopub.status.idle": "2024-12-14T11:21:19.286198Z",
     "shell.execute_reply": "2024-12-14T11:21:19.284791Z"
    },
    "id": "hyeoNUjxetH-",
    "papermill": {
     "duration": 0.655407,
     "end_time": "2024-12-14T11:21:19.288730",
     "exception": false,
     "start_time": "2024-12-14T11:21:18.633323",
     "status": "completed"
    },
    "tags": []
   },
   "outputs": [
    {
     "name": "stdout",
     "output_type": "stream",
     "text": [
      "\u001b[1m463/463\u001b[0m \u001b[32m━━━━━━━━━━━━━━━━━━━━\u001b[0m\u001b[37m\u001b[0m \u001b[1m1s\u001b[0m 1ms/step - loss: 0.0061\n",
      "\n",
      "Test Loss: 0.5%\n"
     ]
    }
   ],
   "source": [
    "loss = model.evaluate(X_test, y_test, batch_size=1)\n",
    "print(\"\\nTest Loss: %.1f%%\" % (100.0 * loss))"
   ]
  },
  {
   "cell_type": "code",
   "execution_count": 45,
   "id": "2098e959",
   "metadata": {
    "execution": {
     "iopub.execute_input": "2024-12-14T11:21:19.345442Z",
     "iopub.status.busy": "2024-12-14T11:21:19.345019Z",
     "iopub.status.idle": "2024-12-14T11:21:19.829039Z",
     "shell.execute_reply": "2024-12-14T11:21:19.827483Z"
    },
    "id": "9e854j_NfFTV",
    "papermill": {
     "duration": 0.514553,
     "end_time": "2024-12-14T11:21:19.831596",
     "exception": false,
     "start_time": "2024-12-14T11:21:19.317043",
     "status": "completed"
    },
    "tags": []
   },
   "outputs": [
    {
     "name": "stdout",
     "output_type": "stream",
     "text": [
      "\u001b[1m60/60\u001b[0m \u001b[32m━━━━━━━━━━━━━━━━━━━━\u001b[0m\u001b[37m\u001b[0m \u001b[1m0s\u001b[0m 4ms/step\n"
     ]
    }
   ],
   "source": [
    "train_predict = model.predict(X_train)"
   ]
  },
  {
   "cell_type": "code",
   "execution_count": 46,
   "id": "5b041d36",
   "metadata": {
    "execution": {
     "iopub.execute_input": "2024-12-14T11:21:19.887304Z",
     "iopub.status.busy": "2024-12-14T11:21:19.886867Z",
     "iopub.status.idle": "2024-12-14T11:21:19.993106Z",
     "shell.execute_reply": "2024-12-14T11:21:19.991853Z"
    },
    "id": "GZgJuMd-fqZW",
    "papermill": {
     "duration": 0.136683,
     "end_time": "2024-12-14T11:21:19.995917",
     "exception": false,
     "start_time": "2024-12-14T11:21:19.859234",
     "status": "completed"
    },
    "tags": []
   },
   "outputs": [
    {
     "name": "stdout",
     "output_type": "stream",
     "text": [
      "\u001b[1m15/15\u001b[0m \u001b[32m━━━━━━━━━━━━━━━━━━━━\u001b[0m\u001b[37m\u001b[0m \u001b[1m0s\u001b[0m 2ms/step \n"
     ]
    }
   ],
   "source": [
    "test_predict = model.predict(X_test)"
   ]
  },
  {
   "cell_type": "code",
   "execution_count": 47,
   "id": "dad97650",
   "metadata": {
    "execution": {
     "iopub.execute_input": "2024-12-14T11:21:20.054567Z",
     "iopub.status.busy": "2024-12-14T11:21:20.054166Z",
     "iopub.status.idle": "2024-12-14T11:21:20.060949Z",
     "shell.execute_reply": "2024-12-14T11:21:20.059311Z"
    },
    "id": "FcH_8U3tfsGm",
    "papermill": {
     "duration": 0.040218,
     "end_time": "2024-12-14T11:21:20.063418",
     "exception": false,
     "start_time": "2024-12-14T11:21:20.023200",
     "status": "completed"
    },
    "tags": []
   },
   "outputs": [],
   "source": [
    "train_predict = scaler_train.inverse_transform(train_predict)\n",
    "test_predict = scaler_test.inverse_transform(test_predict)"
   ]
  },
  {
   "cell_type": "code",
   "execution_count": 48,
   "id": "4392d381",
   "metadata": {
    "execution": {
     "iopub.execute_input": "2024-12-14T11:21:20.121032Z",
     "iopub.status.busy": "2024-12-14T11:21:20.120573Z",
     "iopub.status.idle": "2024-12-14T11:21:20.126788Z",
     "shell.execute_reply": "2024-12-14T11:21:20.125534Z"
    },
    "id": "DsGDu-NKf912",
    "papermill": {
     "duration": 0.037571,
     "end_time": "2024-12-14T11:21:20.129544",
     "exception": false,
     "start_time": "2024-12-14T11:21:20.091973",
     "status": "completed"
    },
    "tags": []
   },
   "outputs": [],
   "source": [
    "y_train = scaler_train.inverse_transform(y_train)\n",
    "y_test = scaler_test.inverse_transform(y_test)"
   ]
  },
  {
   "cell_type": "code",
   "execution_count": 49,
   "id": "1a9d8049",
   "metadata": {
    "execution": {
     "iopub.execute_input": "2024-12-14T11:21:20.184906Z",
     "iopub.status.busy": "2024-12-14T11:21:20.184486Z",
     "iopub.status.idle": "2024-12-14T11:21:20.190864Z",
     "shell.execute_reply": "2024-12-14T11:21:20.189626Z"
    },
    "id": "ZLXqwAU7gGW2",
    "papermill": {
     "duration": 0.037379,
     "end_time": "2024-12-14T11:21:20.193232",
     "exception": false,
     "start_time": "2024-12-14T11:21:20.155853",
     "status": "completed"
    },
    "tags": []
   },
   "outputs": [],
   "source": [
    "train_rmse = np.sqrt(mean_squared_error(y_train, train_predict))"
   ]
  },
  {
   "cell_type": "code",
   "execution_count": 50,
   "id": "c9298089",
   "metadata": {
    "execution": {
     "iopub.execute_input": "2024-12-14T11:21:20.248672Z",
     "iopub.status.busy": "2024-12-14T11:21:20.248314Z",
     "iopub.status.idle": "2024-12-14T11:21:20.254135Z",
     "shell.execute_reply": "2024-12-14T11:21:20.252920Z"
    },
    "id": "76WbnJaIgJ4g",
    "papermill": {
     "duration": 0.035693,
     "end_time": "2024-12-14T11:21:20.256418",
     "exception": false,
     "start_time": "2024-12-14T11:21:20.220725",
     "status": "completed"
    },
    "tags": []
   },
   "outputs": [],
   "source": [
    "test_rmse = np.sqrt(mean_squared_error(y_test, test_predict))"
   ]
  },
  {
   "cell_type": "code",
   "execution_count": 51,
   "id": "6b17db40",
   "metadata": {
    "execution": {
     "iopub.execute_input": "2024-12-14T11:21:20.313153Z",
     "iopub.status.busy": "2024-12-14T11:21:20.312786Z",
     "iopub.status.idle": "2024-12-14T11:21:20.318352Z",
     "shell.execute_reply": "2024-12-14T11:21:20.317224Z"
    },
    "id": "WcUBQBz7gMV2",
    "papermill": {
     "duration": 0.036928,
     "end_time": "2024-12-14T11:21:20.320501",
     "exception": false,
     "start_time": "2024-12-14T11:21:20.283573",
     "status": "completed"
    },
    "tags": []
   },
   "outputs": [
    {
     "name": "stdout",
     "output_type": "stream",
     "text": [
      "Train RMSE: 26.83689308166504\n",
      "Test RMSE: 43.34680938720703\n"
     ]
    }
   ],
   "source": [
    "print(f\"Train RMSE: {train_rmse}\")\n",
    "print(f\"Test RMSE: {test_rmse}\")"
   ]
  },
  {
   "cell_type": "code",
   "execution_count": 52,
   "id": "2f056189",
   "metadata": {
    "execution": {
     "iopub.execute_input": "2024-12-14T11:21:20.377437Z",
     "iopub.status.busy": "2024-12-14T11:21:20.377037Z",
     "iopub.status.idle": "2024-12-14T11:21:20.409902Z",
     "shell.execute_reply": "2024-12-14T11:21:20.408642Z"
    },
    "id": "t_llof9mgYz_",
    "papermill": {
     "duration": 0.065225,
     "end_time": "2024-12-14T11:21:20.412280",
     "exception": false,
     "start_time": "2024-12-14T11:21:20.347055",
     "status": "completed"
    },
    "tags": []
   },
   "outputs": [
    {
     "data": {
      "text/html": [
       "<div>\n",
       "<style scoped>\n",
       "    .dataframe tbody tr th:only-of-type {\n",
       "        vertical-align: middle;\n",
       "    }\n",
       "\n",
       "    .dataframe tbody tr th {\n",
       "        vertical-align: top;\n",
       "    }\n",
       "\n",
       "    .dataframe thead th {\n",
       "        text-align: right;\n",
       "    }\n",
       "</style>\n",
       "<table border=\"1\" class=\"dataframe\">\n",
       "  <thead>\n",
       "    <tr style=\"text-align: right;\">\n",
       "      <th></th>\n",
       "      <th>count</th>\n",
       "      <th>mean</th>\n",
       "      <th>min</th>\n",
       "      <th>25%</th>\n",
       "      <th>50%</th>\n",
       "      <th>75%</th>\n",
       "      <th>max</th>\n",
       "      <th>std</th>\n",
       "    </tr>\n",
       "  </thead>\n",
       "  <tbody>\n",
       "    <tr>\n",
       "      <th>Date</th>\n",
       "      <td>2416</td>\n",
       "      <td>2015-04-15 11:09:56.026490112</td>\n",
       "      <td>2010-06-29 00:00:00</td>\n",
       "      <td>2012-11-19 18:00:00</td>\n",
       "      <td>2015-04-16 12:00:00</td>\n",
       "      <td>2017-09-07 06:00:00</td>\n",
       "      <td>2020-02-03 00:00:00</td>\n",
       "      <td>NaN</td>\n",
       "    </tr>\n",
       "    <tr>\n",
       "      <th>Open</th>\n",
       "      <td>2416.0</td>\n",
       "      <td>186.271147</td>\n",
       "      <td>16.139999</td>\n",
       "      <td>34.342498</td>\n",
       "      <td>213.035004</td>\n",
       "      <td>266.450012</td>\n",
       "      <td>673.690002</td>\n",
       "      <td>118.740163</td>\n",
       "    </tr>\n",
       "    <tr>\n",
       "      <th>High</th>\n",
       "      <td>2416.0</td>\n",
       "      <td>189.578224</td>\n",
       "      <td>16.629999</td>\n",
       "      <td>34.897501</td>\n",
       "      <td>216.745002</td>\n",
       "      <td>270.927513</td>\n",
       "      <td>786.140015</td>\n",
       "      <td>120.892329</td>\n",
       "    </tr>\n",
       "    <tr>\n",
       "      <th>Low</th>\n",
       "      <td>2416.0</td>\n",
       "      <td>182.916639</td>\n",
       "      <td>14.98</td>\n",
       "      <td>33.587501</td>\n",
       "      <td>208.870002</td>\n",
       "      <td>262.102501</td>\n",
       "      <td>673.52002</td>\n",
       "      <td>116.857591</td>\n",
       "    </tr>\n",
       "    <tr>\n",
       "      <th>Close</th>\n",
       "      <td>2416.0</td>\n",
       "      <td>186.403651</td>\n",
       "      <td>15.8</td>\n",
       "      <td>34.400002</td>\n",
       "      <td>212.960007</td>\n",
       "      <td>266.774994</td>\n",
       "      <td>780.0</td>\n",
       "      <td>119.13602</td>\n",
       "    </tr>\n",
       "    <tr>\n",
       "      <th>Adj Close</th>\n",
       "      <td>2416.0</td>\n",
       "      <td>186.403651</td>\n",
       "      <td>15.8</td>\n",
       "      <td>34.400002</td>\n",
       "      <td>212.960007</td>\n",
       "      <td>266.774994</td>\n",
       "      <td>780.0</td>\n",
       "      <td>119.13602</td>\n",
       "    </tr>\n",
       "    <tr>\n",
       "      <th>Volume</th>\n",
       "      <td>2416.0</td>\n",
       "      <td>5572721.688742</td>\n",
       "      <td>118500.0</td>\n",
       "      <td>1899275.0</td>\n",
       "      <td>4578400.0</td>\n",
       "      <td>7361150.0</td>\n",
       "      <td>47065000.0</td>\n",
       "      <td>4987809.151888</td>\n",
       "    </tr>\n",
       "  </tbody>\n",
       "</table>\n",
       "</div>"
      ],
      "text/plain": [
       "            count                           mean                  min  \\\n",
       "Date         2416  2015-04-15 11:09:56.026490112  2010-06-29 00:00:00   \n",
       "Open       2416.0                     186.271147            16.139999   \n",
       "High       2416.0                     189.578224            16.629999   \n",
       "Low        2416.0                     182.916639                14.98   \n",
       "Close      2416.0                     186.403651                 15.8   \n",
       "Adj Close  2416.0                     186.403651                 15.8   \n",
       "Volume     2416.0                 5572721.688742             118500.0   \n",
       "\n",
       "                           25%                  50%                  75%  \\\n",
       "Date       2012-11-19 18:00:00  2015-04-16 12:00:00  2017-09-07 06:00:00   \n",
       "Open                 34.342498           213.035004           266.450012   \n",
       "High                 34.897501           216.745002           270.927513   \n",
       "Low                  33.587501           208.870002           262.102501   \n",
       "Close                34.400002           212.960007           266.774994   \n",
       "Adj Close            34.400002           212.960007           266.774994   \n",
       "Volume               1899275.0            4578400.0            7361150.0   \n",
       "\n",
       "                           max             std  \n",
       "Date       2020-02-03 00:00:00             NaN  \n",
       "Open                673.690002      118.740163  \n",
       "High                786.140015      120.892329  \n",
       "Low                  673.52002      116.857591  \n",
       "Close                    780.0       119.13602  \n",
       "Adj Close                780.0       119.13602  \n",
       "Volume              47065000.0  4987809.151888  "
      ]
     },
     "execution_count": 52,
     "metadata": {},
     "output_type": "execute_result"
    }
   ],
   "source": [
    "df.describe().T"
   ]
  },
  {
   "cell_type": "code",
   "execution_count": 53,
   "id": "1e34920e",
   "metadata": {
    "execution": {
     "iopub.execute_input": "2024-12-14T11:21:20.468780Z",
     "iopub.status.busy": "2024-12-14T11:21:20.468286Z",
     "iopub.status.idle": "2024-12-14T11:21:20.481115Z",
     "shell.execute_reply": "2024-12-14T11:21:20.479979Z"
    },
    "id": "-PSGVpMzgz1O",
    "papermill": {
     "duration": 0.043346,
     "end_time": "2024-12-14T11:21:20.483244",
     "exception": false,
     "start_time": "2024-12-14T11:21:20.439898",
     "status": "completed"
    },
    "tags": []
   },
   "outputs": [
    {
     "data": {
      "text/html": [
       "<div>\n",
       "<style scoped>\n",
       "    .dataframe tbody tr th:only-of-type {\n",
       "        vertical-align: middle;\n",
       "    }\n",
       "\n",
       "    .dataframe tbody tr th {\n",
       "        vertical-align: top;\n",
       "    }\n",
       "\n",
       "    .dataframe thead th {\n",
       "        text-align: right;\n",
       "    }\n",
       "</style>\n",
       "<table border=\"1\" class=\"dataframe\">\n",
       "  <thead>\n",
       "    <tr style=\"text-align: right;\">\n",
       "      <th></th>\n",
       "      <th>Close</th>\n",
       "      <th>Predicted</th>\n",
       "    </tr>\n",
       "    <tr>\n",
       "      <th>Date</th>\n",
       "      <th></th>\n",
       "      <th></th>\n",
       "    </tr>\n",
       "  </thead>\n",
       "  <tbody>\n",
       "    <tr>\n",
       "      <th>2010-07-28</th>\n",
       "      <td>20.719999</td>\n",
       "      <td>35.784939</td>\n",
       "    </tr>\n",
       "    <tr>\n",
       "      <th>2010-07-29</th>\n",
       "      <td>20.350000</td>\n",
       "      <td>35.784939</td>\n",
       "    </tr>\n",
       "    <tr>\n",
       "      <th>2010-07-30</th>\n",
       "      <td>19.940001</td>\n",
       "      <td>35.784939</td>\n",
       "    </tr>\n",
       "    <tr>\n",
       "      <th>2010-08-02</th>\n",
       "      <td>20.920000</td>\n",
       "      <td>35.784939</td>\n",
       "    </tr>\n",
       "    <tr>\n",
       "      <th>2010-08-03</th>\n",
       "      <td>21.950001</td>\n",
       "      <td>35.784939</td>\n",
       "    </tr>\n",
       "  </tbody>\n",
       "</table>\n",
       "</div>"
      ],
      "text/plain": [
       "                Close  Predicted\n",
       "Date                            \n",
       "2010-07-28  20.719999  35.784939\n",
       "2010-07-29  20.350000  35.784939\n",
       "2010-07-30  19.940001  35.784939\n",
       "2010-08-02  20.920000  35.784939\n",
       "2010-08-03  21.950001  35.784939"
      ]
     },
     "execution_count": 53,
     "metadata": {},
     "output_type": "execute_result"
    }
   ],
   "source": [
    "train_prediction_df = result_df[lookback:position]\n",
    "train_prediction_df[\"Predicted\"] = train_predict\n",
    "train_prediction_df.head()"
   ]
  },
  {
   "cell_type": "code",
   "execution_count": 54,
   "id": "abc2920a",
   "metadata": {
    "execution": {
     "iopub.execute_input": "2024-12-14T11:21:20.541992Z",
     "iopub.status.busy": "2024-12-14T11:21:20.540561Z",
     "iopub.status.idle": "2024-12-14T11:21:20.553150Z",
     "shell.execute_reply": "2024-12-14T11:21:20.551962Z"
    },
    "id": "o7tRAXwOhMSA",
    "papermill": {
     "duration": 0.044531,
     "end_time": "2024-12-14T11:21:20.556677",
     "exception": false,
     "start_time": "2024-12-14T11:21:20.512146",
     "status": "completed"
    },
    "tags": []
   },
   "outputs": [
    {
     "data": {
      "text/html": [
       "<div>\n",
       "<style scoped>\n",
       "    .dataframe tbody tr th:only-of-type {\n",
       "        vertical-align: middle;\n",
       "    }\n",
       "\n",
       "    .dataframe tbody tr th {\n",
       "        vertical-align: top;\n",
       "    }\n",
       "\n",
       "    .dataframe thead th {\n",
       "        text-align: right;\n",
       "    }\n",
       "</style>\n",
       "<table border=\"1\" class=\"dataframe\">\n",
       "  <thead>\n",
       "    <tr style=\"text-align: right;\">\n",
       "      <th></th>\n",
       "      <th>Close</th>\n",
       "      <th>Predicted</th>\n",
       "    </tr>\n",
       "    <tr>\n",
       "      <th>Date</th>\n",
       "      <th></th>\n",
       "      <th></th>\n",
       "    </tr>\n",
       "  </thead>\n",
       "  <tbody>\n",
       "    <tr>\n",
       "      <th>2018-04-03</th>\n",
       "      <td>267.529999</td>\n",
       "      <td>336.385559</td>\n",
       "    </tr>\n",
       "    <tr>\n",
       "      <th>2018-04-04</th>\n",
       "      <td>286.940002</td>\n",
       "      <td>331.363647</td>\n",
       "    </tr>\n",
       "    <tr>\n",
       "      <th>2018-04-05</th>\n",
       "      <td>305.720001</td>\n",
       "      <td>326.628632</td>\n",
       "    </tr>\n",
       "    <tr>\n",
       "      <th>2018-04-06</th>\n",
       "      <td>299.299988</td>\n",
       "      <td>327.607452</td>\n",
       "    </tr>\n",
       "    <tr>\n",
       "      <th>2018-04-09</th>\n",
       "      <td>289.660004</td>\n",
       "      <td>329.552734</td>\n",
       "    </tr>\n",
       "  </tbody>\n",
       "</table>\n",
       "</div>"
      ],
      "text/plain": [
       "                 Close   Predicted\n",
       "Date                              \n",
       "2018-04-03  267.529999  336.385559\n",
       "2018-04-04  286.940002  331.363647\n",
       "2018-04-05  305.720001  326.628632\n",
       "2018-04-06  299.299988  327.607452\n",
       "2018-04-09  289.660004  329.552734"
      ]
     },
     "execution_count": 54,
     "metadata": {},
     "output_type": "execute_result"
    }
   ],
   "source": [
    "test_prediction_df = result_df[position+lookback:]\n",
    "test_prediction_df[\"Predicted\"] = test_predict\n",
    "test_prediction_df.head()"
   ]
  },
  {
   "cell_type": "code",
   "execution_count": 55,
   "id": "088a37cf",
   "metadata": {
    "execution": {
     "iopub.execute_input": "2024-12-14T11:21:20.614546Z",
     "iopub.status.busy": "2024-12-14T11:21:20.613509Z",
     "iopub.status.idle": "2024-12-14T11:21:20.992353Z",
     "shell.execute_reply": "2024-12-14T11:21:20.990998Z"
    },
    "id": "PJ_-znSchYO_",
    "papermill": {
     "duration": 0.41028,
     "end_time": "2024-12-14T11:21:20.994780",
     "exception": false,
     "start_time": "2024-12-14T11:21:20.584500",
     "status": "completed"
    },
    "tags": []
   },
   "outputs": [
    {
     "data": {
      "image/png": "[encoded data removed]",
      "text/plain": [
       "<Figure size 1400x500 with 1 Axes>"
      ]
     },
     "metadata": {},
     "output_type": "display_data"
    }
   ],
   "source": [
    "plt.figure(figsize=(14,5))\n",
    "plt.plot(result_df, label = \"Real Number of Passengers\")\n",
    "plt.plot(train_prediction_df[\"Predicted\"], color = 'blue', label = \"Train Predicted Number of Passengers\")\n",
    "plt.plot(test_prediction_df[\"Predicted\"],color = 'red', label = \"Test Predicted Number of Passengers\")\n",
    "plt.title(\"Number of Passengers Prediction\")\n",
    "plt.xlabel(\"Time\")\n",
    "plt.ylabel(\"Number of Passengers\")\n",
    "plt.legend()\n",
    "plt.show()"
   ]
  }
 ],
 "metadata": {
  "colab": {
   "provenance": []
  },
  "kaggle": {
   "accelerator": "none",
   "dataSources": [
    {
     "datasetId": 500872,
     "sourceId": 927894,
     "sourceType": "datasetVersion"
    }
   ],
   "dockerImageVersionId": 30761,
   "isGpuEnabled": false,
   "isInternetEnabled": true,
   "language": "python",
   "sourceType": "notebook"
  },
  "kernelspec": {
   "display_name": "Python 3",
   "language": "python",
   "name": "python3"
  },
  "language_info": {
   "codemirror_mode": {
    "name": "ipython",
    "version": 3
   },
   "file_extension": ".py",
   "mimetype": "text/x-python",
   "name": "python",
   "nbconvert_exporter": "python",
   "pygments_lexer": "ipython3",
   "version": "3.10.14"
  },
  "papermill": {
   "default_parameters": {},
   "duration": 38.167649,
   "end_time": "2024-12-14T11:21:22.751360",
   "environment_variables": {},
   "exception": null,
   "input_path": "__notebook__.ipynb",
   "output_path": "__notebook__.ipynb",
   "parameters": {},
   "start_time": "2024-12-14T11:20:44.583711",
   "version": "2.6.0"
  }
 },
 "nbformat": 4,
 "nbformat_minor": 5
}
