{
 "cells": [
  {
   "cell_type": "markdown",
   "id": "42d11f17",
   "metadata": {
    "id": "4unSJJjsT8BM",
    "papermill": {
     "duration": 0.02104,
     "end_time": "2024-10-22T06:29:29.780282",
     "exception": false,
     "start_time": "2024-10-22T06:29:29.759242",
     "status": "completed"
    },
    "tags": []
   },
   "source": [
    "# Tesla - Stock Price Prediction\n",
    "\n",
    "---\n",
    "\n"
   ]
  },
  {
   "cell_type": "markdown",
   "id": "c43d1593",
   "metadata": {
    "id": "wkRLJL2XUAfT",
    "papermill": {
     "duration": 0.01893,
     "end_time": "2024-10-22T06:29:29.819913",
     "exception": false,
     "start_time": "2024-10-22T06:29:29.800983",
     "status": "completed"
    },
    "tags": []
   },
   "source": [
    "## Business Problem\n",
    "\n",
    "In this notebook, our purpose is to predict of tesla - stock price."
   ]
  },
  {
   "cell_type": "markdown",
   "id": "6b76e4db",
   "metadata": {
    "id": "0uxjphZsUwjz",
    "papermill": {
     "duration": 0.0189,
     "end_time": "2024-10-22T06:29:29.857490",
     "exception": false,
     "start_time": "2024-10-22T06:29:29.838590",
     "status": "completed"
    },
    "tags": []
   },
   "source": [
    "## Data Understanding"
   ]
  },
  {
   "cell_type": "code",
   "execution_count": 1,
   "id": "c0cb6115",
   "metadata": {
    "execution": {
     "iopub.execute_input": "2024-10-22T06:29:29.898458Z",
     "iopub.status.busy": "2024-10-22T06:29:29.897867Z",
     "iopub.status.idle": "2024-10-22T06:29:51.373606Z",
     "shell.execute_reply": "2024-10-22T06:29:51.372179Z"
    },
    "id": "40IR65rQUyWC",
    "outputId": "4562368d-970e-4fd6-b03e-be036efe4dcd",
    "papermill": {
     "duration": 21.499219,
     "end_time": "2024-10-22T06:29:51.376750",
     "exception": false,
     "start_time": "2024-10-22T06:29:29.877531",
     "status": "completed"
    },
    "tags": []
   },
   "outputs": [],
   "source": [
    "import numpy as np\n",
    "import pandas as pd\n",
    "import datetime as dt\n",
    "import tensorflow as tf\n",
    "import matplotlib.pyplot as plt\n",
    "\n",
    "from sklearn.preprocessing import MinMaxScaler\n",
    "from sklearn.metrics import mean_squared_error\n",
    "\n",
    "from tensorflow.keras.models import Sequential\n",
    "from tensorflow.keras.layers import Dense, LSTM, Dropout\n",
    "from tensorflow.keras.callbacks import ModelCheckpoint, EarlyStopping\n",
    "\n",
    "import warnings\n",
    "warnings.filterwarnings('ignore')\n",
    "\n",
    "import os\n",
    "os.environ['TF_CPP_MIN_LOG_LEVEL'] = '3'\n",
    "tf.compat.v1.logging.set_verbosity(tf.compat.v1.logging.ERROR)"
   ]
  },
  {
   "cell_type": "code",
   "execution_count": 2,
   "id": "10bdd0e0",
   "metadata": {
    "execution": {
     "iopub.execute_input": "2024-10-22T06:29:51.416457Z",
     "iopub.status.busy": "2024-10-22T06:29:51.415712Z",
     "iopub.status.idle": "2024-10-22T06:29:51.495310Z",
     "shell.execute_reply": "2024-10-22T06:29:51.493922Z"
    },
    "id": "-be5_efvVpTV",
    "papermill": {
     "duration": 0.102527,
     "end_time": "2024-10-22T06:29:51.498193",
     "exception": false,
     "start_time": "2024-10-22T06:29:51.395666",
     "status": "completed"
    },
    "tags": []
   },
   "outputs": [
    {
     "data": {
      "text/html": [
       "<div>\n",
       "<style scoped>\n",
       "    .dataframe tbody tr th:only-of-type {\n",
       "        vertical-align: middle;\n",
       "    }\n",
       "\n",
       "    .dataframe tbody tr th {\n",
       "        vertical-align: top;\n",
       "    }\n",
       "\n",
       "    .dataframe thead th {\n",
       "        text-align: right;\n",
       "    }\n",
       "</style>\n",
       "<table border=\"1\" class=\"dataframe\">\n",
       "  <thead>\n",
       "    <tr style=\"text-align: right;\">\n",
       "      <th></th>\n",
       "      <th>Date</th>\n",
       "      <th>Open</th>\n",
       "      <th>High</th>\n",
       "      <th>Low</th>\n",
       "      <th>Close</th>\n",
       "      <th>Adj Close</th>\n",
       "      <th>Volume</th>\n",
       "    </tr>\n",
       "  </thead>\n",
       "  <tbody>\n",
       "    <tr>\n",
       "      <th>0</th>\n",
       "      <td>2010-06-29</td>\n",
       "      <td>19.000000</td>\n",
       "      <td>25.000000</td>\n",
       "      <td>17.540001</td>\n",
       "      <td>23.889999</td>\n",
       "      <td>23.889999</td>\n",
       "      <td>18766300</td>\n",
       "    </tr>\n",
       "    <tr>\n",
       "      <th>1</th>\n",
       "      <td>2010-06-30</td>\n",
       "      <td>25.790001</td>\n",
       "      <td>30.420000</td>\n",
       "      <td>23.299999</td>\n",
       "      <td>23.830000</td>\n",
       "      <td>23.830000</td>\n",
       "      <td>17187100</td>\n",
       "    </tr>\n",
       "    <tr>\n",
       "      <th>2</th>\n",
       "      <td>2010-07-01</td>\n",
       "      <td>25.000000</td>\n",
       "      <td>25.920000</td>\n",
       "      <td>20.270000</td>\n",
       "      <td>21.959999</td>\n",
       "      <td>21.959999</td>\n",
       "      <td>8218800</td>\n",
       "    </tr>\n",
       "    <tr>\n",
       "      <th>3</th>\n",
       "      <td>2010-07-02</td>\n",
       "      <td>23.000000</td>\n",
       "      <td>23.100000</td>\n",
       "      <td>18.709999</td>\n",
       "      <td>19.200001</td>\n",
       "      <td>19.200001</td>\n",
       "      <td>5139800</td>\n",
       "    </tr>\n",
       "    <tr>\n",
       "      <th>4</th>\n",
       "      <td>2010-07-06</td>\n",
       "      <td>20.000000</td>\n",
       "      <td>20.000000</td>\n",
       "      <td>15.830000</td>\n",
       "      <td>16.110001</td>\n",
       "      <td>16.110001</td>\n",
       "      <td>6866900</td>\n",
       "    </tr>\n",
       "    <tr>\n",
       "      <th>...</th>\n",
       "      <td>...</td>\n",
       "      <td>...</td>\n",
       "      <td>...</td>\n",
       "      <td>...</td>\n",
       "      <td>...</td>\n",
       "      <td>...</td>\n",
       "      <td>...</td>\n",
       "    </tr>\n",
       "    <tr>\n",
       "      <th>2411</th>\n",
       "      <td>2020-01-28</td>\n",
       "      <td>568.489990</td>\n",
       "      <td>576.809998</td>\n",
       "      <td>558.080017</td>\n",
       "      <td>566.900024</td>\n",
       "      <td>566.900024</td>\n",
       "      <td>11788500</td>\n",
       "    </tr>\n",
       "    <tr>\n",
       "      <th>2412</th>\n",
       "      <td>2020-01-29</td>\n",
       "      <td>575.690002</td>\n",
       "      <td>589.799988</td>\n",
       "      <td>567.429993</td>\n",
       "      <td>580.989990</td>\n",
       "      <td>580.989990</td>\n",
       "      <td>17801500</td>\n",
       "    </tr>\n",
       "    <tr>\n",
       "      <th>2413</th>\n",
       "      <td>2020-01-30</td>\n",
       "      <td>632.419983</td>\n",
       "      <td>650.880005</td>\n",
       "      <td>618.000000</td>\n",
       "      <td>640.809998</td>\n",
       "      <td>640.809998</td>\n",
       "      <td>29005700</td>\n",
       "    </tr>\n",
       "    <tr>\n",
       "      <th>2414</th>\n",
       "      <td>2020-01-31</td>\n",
       "      <td>640.000000</td>\n",
       "      <td>653.000000</td>\n",
       "      <td>632.520020</td>\n",
       "      <td>650.570007</td>\n",
       "      <td>650.570007</td>\n",
       "      <td>15719300</td>\n",
       "    </tr>\n",
       "    <tr>\n",
       "      <th>2415</th>\n",
       "      <td>2020-02-03</td>\n",
       "      <td>673.690002</td>\n",
       "      <td>786.140015</td>\n",
       "      <td>673.520020</td>\n",
       "      <td>780.000000</td>\n",
       "      <td>780.000000</td>\n",
       "      <td>47065000</td>\n",
       "    </tr>\n",
       "  </tbody>\n",
       "</table>\n",
       "<p>2416 rows × 7 columns</p>\n",
       "</div>"
      ],
      "text/plain": [
       "            Date        Open        High         Low       Close   Adj Close  \\\n",
       "0     2010-06-29   19.000000   25.000000   17.540001   23.889999   23.889999   \n",
       "1     2010-06-30   25.790001   30.420000   23.299999   23.830000   23.830000   \n",
       "2     2010-07-01   25.000000   25.920000   20.270000   21.959999   21.959999   \n",
       "3     2010-07-02   23.000000   23.100000   18.709999   19.200001   19.200001   \n",
       "4     2010-07-06   20.000000   20.000000   15.830000   16.110001   16.110001   \n",
       "...          ...         ...         ...         ...         ...         ...   \n",
       "2411  2020-01-28  568.489990  576.809998  558.080017  566.900024  566.900024   \n",
       "2412  2020-01-29  575.690002  589.799988  567.429993  580.989990  580.989990   \n",
       "2413  2020-01-30  632.419983  650.880005  618.000000  640.809998  640.809998   \n",
       "2414  2020-01-31  640.000000  653.000000  632.520020  650.570007  650.570007   \n",
       "2415  2020-02-03  673.690002  786.140015  673.520020  780.000000  780.000000   \n",
       "\n",
       "        Volume  \n",
       "0     18766300  \n",
       "1     17187100  \n",
       "2      8218800  \n",
       "3      5139800  \n",
       "4      6866900  \n",
       "...        ...  \n",
       "2411  11788500  \n",
       "2412  17801500  \n",
       "2413  29005700  \n",
       "2414  15719300  \n",
       "2415  47065000  \n",
       "\n",
       "[2416 rows x 7 columns]"
      ]
     },
     "execution_count": 2,
     "metadata": {},
     "output_type": "execute_result"
    }
   ],
   "source": [
    "df = pd.read_csv('/kaggle/input/tesla-stock-data-from-2010-to-2020/TSLA.csv')\n",
    "df"
   ]
  },
  {
   "cell_type": "code",
   "execution_count": 3,
   "id": "60ea7943",
   "metadata": {
    "execution": {
     "iopub.execute_input": "2024-10-22T06:29:51.539823Z",
     "iopub.status.busy": "2024-10-22T06:29:51.539381Z",
     "iopub.status.idle": "2024-10-22T06:29:51.556612Z",
     "shell.execute_reply": "2024-10-22T06:29:51.555218Z"
    },
    "id": "lG_AO3mdVv17",
    "papermill": {
     "duration": 0.043018,
     "end_time": "2024-10-22T06:29:51.560971",
     "exception": false,
     "start_time": "2024-10-22T06:29:51.517953",
     "status": "completed"
    },
    "tags": []
   },
   "outputs": [
    {
     "data": {
      "text/html": [
       "<div>\n",
       "<style scoped>\n",
       "    .dataframe tbody tr th:only-of-type {\n",
       "        vertical-align: middle;\n",
       "    }\n",
       "\n",
       "    .dataframe tbody tr th {\n",
       "        vertical-align: top;\n",
       "    }\n",
       "\n",
       "    .dataframe thead th {\n",
       "        text-align: right;\n",
       "    }\n",
       "</style>\n",
       "<table border=\"1\" class=\"dataframe\">\n",
       "  <thead>\n",
       "    <tr style=\"text-align: right;\">\n",
       "      <th></th>\n",
       "      <th>Date</th>\n",
       "      <th>Open</th>\n",
       "      <th>High</th>\n",
       "      <th>Low</th>\n",
       "      <th>Close</th>\n",
       "      <th>Adj Close</th>\n",
       "      <th>Volume</th>\n",
       "    </tr>\n",
       "  </thead>\n",
       "  <tbody>\n",
       "    <tr>\n",
       "      <th>0</th>\n",
       "      <td>2010-06-29</td>\n",
       "      <td>19.000000</td>\n",
       "      <td>25.00</td>\n",
       "      <td>17.540001</td>\n",
       "      <td>23.889999</td>\n",
       "      <td>23.889999</td>\n",
       "      <td>18766300</td>\n",
       "    </tr>\n",
       "    <tr>\n",
       "      <th>1</th>\n",
       "      <td>2010-06-30</td>\n",
       "      <td>25.790001</td>\n",
       "      <td>30.42</td>\n",
       "      <td>23.299999</td>\n",
       "      <td>23.830000</td>\n",
       "      <td>23.830000</td>\n",
       "      <td>17187100</td>\n",
       "    </tr>\n",
       "    <tr>\n",
       "      <th>2</th>\n",
       "      <td>2010-07-01</td>\n",
       "      <td>25.000000</td>\n",
       "      <td>25.92</td>\n",
       "      <td>20.270000</td>\n",
       "      <td>21.959999</td>\n",
       "      <td>21.959999</td>\n",
       "      <td>8218800</td>\n",
       "    </tr>\n",
       "    <tr>\n",
       "      <th>3</th>\n",
       "      <td>2010-07-02</td>\n",
       "      <td>23.000000</td>\n",
       "      <td>23.10</td>\n",
       "      <td>18.709999</td>\n",
       "      <td>19.200001</td>\n",
       "      <td>19.200001</td>\n",
       "      <td>5139800</td>\n",
       "    </tr>\n",
       "    <tr>\n",
       "      <th>4</th>\n",
       "      <td>2010-07-06</td>\n",
       "      <td>20.000000</td>\n",
       "      <td>20.00</td>\n",
       "      <td>15.830000</td>\n",
       "      <td>16.110001</td>\n",
       "      <td>16.110001</td>\n",
       "      <td>6866900</td>\n",
       "    </tr>\n",
       "  </tbody>\n",
       "</table>\n",
       "</div>"
      ],
      "text/plain": [
       "         Date       Open   High        Low      Close  Adj Close    Volume\n",
       "0  2010-06-29  19.000000  25.00  17.540001  23.889999  23.889999  18766300\n",
       "1  2010-06-30  25.790001  30.42  23.299999  23.830000  23.830000  17187100\n",
       "2  2010-07-01  25.000000  25.92  20.270000  21.959999  21.959999   8218800\n",
       "3  2010-07-02  23.000000  23.10  18.709999  19.200001  19.200001   5139800\n",
       "4  2010-07-06  20.000000  20.00  15.830000  16.110001  16.110001   6866900"
      ]
     },
     "execution_count": 3,
     "metadata": {},
     "output_type": "execute_result"
    }
   ],
   "source": [
    "df.head()"
   ]
  },
  {
   "cell_type": "code",
   "execution_count": 4,
   "id": "c5725c58",
   "metadata": {
    "execution": {
     "iopub.execute_input": "2024-10-22T06:29:51.619455Z",
     "iopub.status.busy": "2024-10-22T06:29:51.619015Z",
     "iopub.status.idle": "2024-10-22T06:29:51.627807Z",
     "shell.execute_reply": "2024-10-22T06:29:51.626426Z"
    },
    "id": "TU5hlfyvVxY0",
    "papermill": {
     "duration": 0.032403,
     "end_time": "2024-10-22T06:29:51.630461",
     "exception": false,
     "start_time": "2024-10-22T06:29:51.598058",
     "status": "completed"
    },
    "tags": []
   },
   "outputs": [],
   "source": [
    "def check_df(dataframe, head=5):\n",
    "    print(\"##################### Shape #####################\")\n",
    "    print(dataframe.shape)\n",
    "    print(\"##################### Types #####################\")\n",
    "    print(dataframe.dtypes)\n",
    "    print(\"##################### Head #####################\")\n",
    "    print(dataframe.head(head))  # Fonksiyon çağrısına dikkat edin\n",
    "    print(\"##################### Tail #####################\")\n",
    "    print(dataframe.tail(head))\n",
    "    print(\"##################### NA #####################\")\n",
    "    print(dataframe.isnull().sum())\n",
    "    print(\"##################### Quantile #####################\")\n",
    "    print(dataframe.select_dtypes(include='number').quantile([0, 0.05, 0.5, 0.95, 0.99, 1]).T)\n"
   ]
  },
  {
   "cell_type": "code",
   "execution_count": 5,
   "id": "1bbd3d02",
   "metadata": {
    "execution": {
     "iopub.execute_input": "2024-10-22T06:29:51.671607Z",
     "iopub.status.busy": "2024-10-22T06:29:51.671182Z",
     "iopub.status.idle": "2024-10-22T06:29:51.698038Z",
     "shell.execute_reply": "2024-10-22T06:29:51.696835Z"
    },
    "id": "t6iFP965V4vk",
    "papermill": {
     "duration": 0.051155,
     "end_time": "2024-10-22T06:29:51.701449",
     "exception": false,
     "start_time": "2024-10-22T06:29:51.650294",
     "status": "completed"
    },
    "tags": []
   },
   "outputs": [
    {
     "name": "stdout",
     "output_type": "stream",
     "text": [
      "##################### Shape #####################\n",
      "(2416, 7)\n",
      "##################### Types #####################\n",
      "Date          object\n",
      "Open         float64\n",
      "High         float64\n",
      "Low          float64\n",
      "Close        float64\n",
      "Adj Close    float64\n",
      "Volume         int64\n",
      "dtype: object\n",
      "##################### Head #####################\n",
      "         Date       Open   High        Low      Close  Adj Close    Volume\n",
      "0  2010-06-29  19.000000  25.00  17.540001  23.889999  23.889999  18766300\n",
      "1  2010-06-30  25.790001  30.42  23.299999  23.830000  23.830000  17187100\n",
      "2  2010-07-01  25.000000  25.92  20.270000  21.959999  21.959999   8218800\n",
      "3  2010-07-02  23.000000  23.10  18.709999  19.200001  19.200001   5139800\n",
      "4  2010-07-06  20.000000  20.00  15.830000  16.110001  16.110001   6866900\n",
      "##################### Tail #####################\n",
      "            Date        Open        High         Low       Close   Adj Close  \\\n",
      "2411  2020-01-28  568.489990  576.809998  558.080017  566.900024  566.900024   \n",
      "2412  2020-01-29  575.690002  589.799988  567.429993  580.989990  580.989990   \n",
      "2413  2020-01-30  632.419983  650.880005  618.000000  640.809998  640.809998   \n",
      "2414  2020-01-31  640.000000  653.000000  632.520020  650.570007  650.570007   \n",
      "2415  2020-02-03  673.690002  786.140015  673.520020  780.000000  780.000000   \n",
      "\n",
      "        Volume  \n",
      "2411  11788500  \n",
      "2412  17801500  \n",
      "2413  29005700  \n",
      "2414  15719300  \n",
      "2415  47065000  \n",
      "##################### NA #####################\n",
      "Date         0\n",
      "Open         0\n",
      "High         0\n",
      "Low          0\n",
      "Close        0\n",
      "Adj Close    0\n",
      "Volume       0\n",
      "dtype: int64\n",
      "##################### Quantile #####################\n",
      "                    0.00           0.05          0.50          0.95  \\\n",
      "Open           16.139999      23.384999  2.130350e+02  3.519100e+02   \n",
      "High           16.629999      24.022501  2.167450e+02  3.567500e+02   \n",
      "Low            14.980000      22.867499  2.088700e+02  3.460250e+02   \n",
      "Close          15.800000      23.565000  2.129600e+02  3.511675e+02   \n",
      "Adj Close      15.800000      23.565000  2.129600e+02  3.511675e+02   \n",
      "Volume     118500.000000  633825.000000  4.578400e+06  1.476090e+07   \n",
      "\n",
      "                   0.99          1.00  \n",
      "Open       4.235790e+02  6.736900e+02  \n",
      "High       4.284705e+02  7.861400e+02  \n",
      "Low        4.122865e+02  6.735200e+02  \n",
      "Close      4.243455e+02  7.800000e+02  \n",
      "Adj Close  4.243455e+02  7.800000e+02  \n",
      "Volume     2.459959e+07  4.706500e+07  \n"
     ]
    }
   ],
   "source": [
    "check_df(df)"
   ]
  },
  {
   "cell_type": "markdown",
   "id": "30495843",
   "metadata": {
    "id": "v2n2ONcpWlQl",
    "papermill": {
     "duration": 0.019065,
     "end_time": "2024-10-22T06:29:51.740409",
     "exception": false,
     "start_time": "2024-10-22T06:29:51.721344",
     "status": "completed"
    },
    "tags": []
   },
   "source": [
    "## Data Preparation"
   ]
  },
  {
   "cell_type": "code",
   "execution_count": 6,
   "id": "ab0ca8b6",
   "metadata": {
    "execution": {
     "iopub.execute_input": "2024-10-22T06:29:51.781015Z",
     "iopub.status.busy": "2024-10-22T06:29:51.780564Z",
     "iopub.status.idle": "2024-10-22T06:29:51.793914Z",
     "shell.execute_reply": "2024-10-22T06:29:51.792658Z"
    },
    "id": "x-En8ormWAo8",
    "papermill": {
     "duration": 0.036844,
     "end_time": "2024-10-22T06:29:51.796677",
     "exception": false,
     "start_time": "2024-10-22T06:29:51.759833",
     "status": "completed"
    },
    "tags": []
   },
   "outputs": [],
   "source": [
    "df[\"Date\"] = pd.to_datetime(df[\"Date\"])"
   ]
  },
  {
   "cell_type": "code",
   "execution_count": 7,
   "id": "52805dd9",
   "metadata": {
    "execution": {
     "iopub.execute_input": "2024-10-22T06:29:51.837263Z",
     "iopub.status.busy": "2024-10-22T06:29:51.836841Z",
     "iopub.status.idle": "2024-10-22T06:29:51.856205Z",
     "shell.execute_reply": "2024-10-22T06:29:51.854667Z"
    },
    "id": "Wk3C4MPkWBUG",
    "papermill": {
     "duration": 0.042977,
     "end_time": "2024-10-22T06:29:51.858979",
     "exception": false,
     "start_time": "2024-10-22T06:29:51.816002",
     "status": "completed"
    },
    "tags": []
   },
   "outputs": [
    {
     "data": {
      "text/html": [
       "<div>\n",
       "<style scoped>\n",
       "    .dataframe tbody tr th:only-of-type {\n",
       "        vertical-align: middle;\n",
       "    }\n",
       "\n",
       "    .dataframe tbody tr th {\n",
       "        vertical-align: top;\n",
       "    }\n",
       "\n",
       "    .dataframe thead th {\n",
       "        text-align: right;\n",
       "    }\n",
       "</style>\n",
       "<table border=\"1\" class=\"dataframe\">\n",
       "  <thead>\n",
       "    <tr style=\"text-align: right;\">\n",
       "      <th></th>\n",
       "      <th>Date</th>\n",
       "      <th>Open</th>\n",
       "      <th>High</th>\n",
       "      <th>Low</th>\n",
       "      <th>Close</th>\n",
       "      <th>Adj Close</th>\n",
       "      <th>Volume</th>\n",
       "    </tr>\n",
       "  </thead>\n",
       "  <tbody>\n",
       "    <tr>\n",
       "      <th>0</th>\n",
       "      <td>2010-06-29</td>\n",
       "      <td>19.000000</td>\n",
       "      <td>25.00</td>\n",
       "      <td>17.540001</td>\n",
       "      <td>23.889999</td>\n",
       "      <td>23.889999</td>\n",
       "      <td>18766300</td>\n",
       "    </tr>\n",
       "    <tr>\n",
       "      <th>1</th>\n",
       "      <td>2010-06-30</td>\n",
       "      <td>25.790001</td>\n",
       "      <td>30.42</td>\n",
       "      <td>23.299999</td>\n",
       "      <td>23.830000</td>\n",
       "      <td>23.830000</td>\n",
       "      <td>17187100</td>\n",
       "    </tr>\n",
       "    <tr>\n",
       "      <th>2</th>\n",
       "      <td>2010-07-01</td>\n",
       "      <td>25.000000</td>\n",
       "      <td>25.92</td>\n",
       "      <td>20.270000</td>\n",
       "      <td>21.959999</td>\n",
       "      <td>21.959999</td>\n",
       "      <td>8218800</td>\n",
       "    </tr>\n",
       "    <tr>\n",
       "      <th>3</th>\n",
       "      <td>2010-07-02</td>\n",
       "      <td>23.000000</td>\n",
       "      <td>23.10</td>\n",
       "      <td>18.709999</td>\n",
       "      <td>19.200001</td>\n",
       "      <td>19.200001</td>\n",
       "      <td>5139800</td>\n",
       "    </tr>\n",
       "    <tr>\n",
       "      <th>4</th>\n",
       "      <td>2010-07-06</td>\n",
       "      <td>20.000000</td>\n",
       "      <td>20.00</td>\n",
       "      <td>15.830000</td>\n",
       "      <td>16.110001</td>\n",
       "      <td>16.110001</td>\n",
       "      <td>6866900</td>\n",
       "    </tr>\n",
       "  </tbody>\n",
       "</table>\n",
       "</div>"
      ],
      "text/plain": [
       "        Date       Open   High        Low      Close  Adj Close    Volume\n",
       "0 2010-06-29  19.000000  25.00  17.540001  23.889999  23.889999  18766300\n",
       "1 2010-06-30  25.790001  30.42  23.299999  23.830000  23.830000  17187100\n",
       "2 2010-07-01  25.000000  25.92  20.270000  21.959999  21.959999   8218800\n",
       "3 2010-07-02  23.000000  23.10  18.709999  19.200001  19.200001   5139800\n",
       "4 2010-07-06  20.000000  20.00  15.830000  16.110001  16.110001   6866900"
      ]
     },
     "execution_count": 7,
     "metadata": {},
     "output_type": "execute_result"
    }
   ],
   "source": [
    "df.head()"
   ]
  },
  {
   "cell_type": "code",
   "execution_count": 8,
   "id": "7482b4ef",
   "metadata": {
    "execution": {
     "iopub.execute_input": "2024-10-22T06:29:51.902145Z",
     "iopub.status.busy": "2024-10-22T06:29:51.901709Z",
     "iopub.status.idle": "2024-10-22T06:29:51.909596Z",
     "shell.execute_reply": "2024-10-22T06:29:51.908111Z"
    },
    "id": "ZOVzSrk1WCHu",
    "papermill": {
     "duration": 0.032177,
     "end_time": "2024-10-22T06:29:51.912529",
     "exception": false,
     "start_time": "2024-10-22T06:29:51.880352",
     "status": "completed"
    },
    "tags": []
   },
   "outputs": [],
   "source": [
    "tesla_df = df[[\"Date\", \"Close\"]]"
   ]
  },
  {
   "cell_type": "code",
   "execution_count": 9,
   "id": "421797cd",
   "metadata": {
    "execution": {
     "iopub.execute_input": "2024-10-22T06:29:51.954388Z",
     "iopub.status.busy": "2024-10-22T06:29:51.953873Z",
     "iopub.status.idle": "2024-10-22T06:29:51.967645Z",
     "shell.execute_reply": "2024-10-22T06:29:51.966210Z"
    },
    "id": "Tli5FuMBWF8l",
    "papermill": {
     "duration": 0.037839,
     "end_time": "2024-10-22T06:29:51.970549",
     "exception": false,
     "start_time": "2024-10-22T06:29:51.932710",
     "status": "completed"
    },
    "tags": []
   },
   "outputs": [
    {
     "data": {
      "text/html": [
       "<div>\n",
       "<style scoped>\n",
       "    .dataframe tbody tr th:only-of-type {\n",
       "        vertical-align: middle;\n",
       "    }\n",
       "\n",
       "    .dataframe tbody tr th {\n",
       "        vertical-align: top;\n",
       "    }\n",
       "\n",
       "    .dataframe thead th {\n",
       "        text-align: right;\n",
       "    }\n",
       "</style>\n",
       "<table border=\"1\" class=\"dataframe\">\n",
       "  <thead>\n",
       "    <tr style=\"text-align: right;\">\n",
       "      <th></th>\n",
       "      <th>Date</th>\n",
       "      <th>Close</th>\n",
       "    </tr>\n",
       "  </thead>\n",
       "  <tbody>\n",
       "    <tr>\n",
       "      <th>0</th>\n",
       "      <td>2010-06-29</td>\n",
       "      <td>23.889999</td>\n",
       "    </tr>\n",
       "    <tr>\n",
       "      <th>1</th>\n",
       "      <td>2010-06-30</td>\n",
       "      <td>23.830000</td>\n",
       "    </tr>\n",
       "    <tr>\n",
       "      <th>2</th>\n",
       "      <td>2010-07-01</td>\n",
       "      <td>21.959999</td>\n",
       "    </tr>\n",
       "    <tr>\n",
       "      <th>3</th>\n",
       "      <td>2010-07-02</td>\n",
       "      <td>19.200001</td>\n",
       "    </tr>\n",
       "    <tr>\n",
       "      <th>4</th>\n",
       "      <td>2010-07-06</td>\n",
       "      <td>16.110001</td>\n",
       "    </tr>\n",
       "  </tbody>\n",
       "</table>\n",
       "</div>"
      ],
      "text/plain": [
       "        Date      Close\n",
       "0 2010-06-29  23.889999\n",
       "1 2010-06-30  23.830000\n",
       "2 2010-07-01  21.959999\n",
       "3 2010-07-02  19.200001\n",
       "4 2010-07-06  16.110001"
      ]
     },
     "execution_count": 9,
     "metadata": {},
     "output_type": "execute_result"
    }
   ],
   "source": [
    "tesla_df.head()"
   ]
  },
  {
   "cell_type": "code",
   "execution_count": 10,
   "id": "a387a9b5",
   "metadata": {
    "execution": {
     "iopub.execute_input": "2024-10-22T06:29:52.013888Z",
     "iopub.status.busy": "2024-10-22T06:29:52.013392Z",
     "iopub.status.idle": "2024-10-22T06:29:52.022061Z",
     "shell.execute_reply": "2024-10-22T06:29:52.020748Z"
    },
    "id": "Gsw5OQCAWLzn",
    "papermill": {
     "duration": 0.032935,
     "end_time": "2024-10-22T06:29:52.024880",
     "exception": false,
     "start_time": "2024-10-22T06:29:51.991945",
     "status": "completed"
    },
    "tags": []
   },
   "outputs": [
    {
     "name": "stdout",
     "output_type": "stream",
     "text": [
      "Min Date:  2010-06-29 00:00:00\n",
      "Max Date:  2020-02-03 00:00:00\n"
     ]
    }
   ],
   "source": [
    "print(\"Min Date: \", tesla_df[\"Date\"].min())\n",
    "print(\"Max Date: \", tesla_df[\"Date\"].max())"
   ]
  },
  {
   "cell_type": "code",
   "execution_count": 11,
   "id": "108871b4",
   "metadata": {
    "execution": {
     "iopub.execute_input": "2024-10-22T06:29:52.067004Z",
     "iopub.status.busy": "2024-10-22T06:29:52.066414Z",
     "iopub.status.idle": "2024-10-22T06:29:52.073056Z",
     "shell.execute_reply": "2024-10-22T06:29:52.071490Z"
    },
    "id": "JGi8P08mWQO1",
    "papermill": {
     "duration": 0.031193,
     "end_time": "2024-10-22T06:29:52.076261",
     "exception": false,
     "start_time": "2024-10-22T06:29:52.045068",
     "status": "completed"
    },
    "tags": []
   },
   "outputs": [],
   "source": [
    "tesla_df.index = tesla_df[\"Date\"]"
   ]
  },
  {
   "cell_type": "code",
   "execution_count": 12,
   "id": "ffc4d6e4",
   "metadata": {
    "execution": {
     "iopub.execute_input": "2024-10-22T06:29:52.126806Z",
     "iopub.status.busy": "2024-10-22T06:29:52.125283Z",
     "iopub.status.idle": "2024-10-22T06:29:52.140168Z",
     "shell.execute_reply": "2024-10-22T06:29:52.138876Z"
    },
    "id": "YBWxX2IOWoL_",
    "papermill": {
     "duration": 0.046223,
     "end_time": "2024-10-22T06:29:52.143011",
     "exception": false,
     "start_time": "2024-10-22T06:29:52.096788",
     "status": "completed"
    },
    "tags": []
   },
   "outputs": [
    {
     "data": {
      "text/html": [
       "<div>\n",
       "<style scoped>\n",
       "    .dataframe tbody tr th:only-of-type {\n",
       "        vertical-align: middle;\n",
       "    }\n",
       "\n",
       "    .dataframe tbody tr th {\n",
       "        vertical-align: top;\n",
       "    }\n",
       "\n",
       "    .dataframe thead th {\n",
       "        text-align: right;\n",
       "    }\n",
       "</style>\n",
       "<table border=\"1\" class=\"dataframe\">\n",
       "  <thead>\n",
       "    <tr style=\"text-align: right;\">\n",
       "      <th></th>\n",
       "      <th>Date</th>\n",
       "      <th>Close</th>\n",
       "    </tr>\n",
       "    <tr>\n",
       "      <th>Date</th>\n",
       "      <th></th>\n",
       "      <th></th>\n",
       "    </tr>\n",
       "  </thead>\n",
       "  <tbody>\n",
       "    <tr>\n",
       "      <th>2010-06-29</th>\n",
       "      <td>2010-06-29</td>\n",
       "      <td>23.889999</td>\n",
       "    </tr>\n",
       "    <tr>\n",
       "      <th>2010-06-30</th>\n",
       "      <td>2010-06-30</td>\n",
       "      <td>23.830000</td>\n",
       "    </tr>\n",
       "    <tr>\n",
       "      <th>2010-07-01</th>\n",
       "      <td>2010-07-01</td>\n",
       "      <td>21.959999</td>\n",
       "    </tr>\n",
       "    <tr>\n",
       "      <th>2010-07-02</th>\n",
       "      <td>2010-07-02</td>\n",
       "      <td>19.200001</td>\n",
       "    </tr>\n",
       "    <tr>\n",
       "      <th>2010-07-06</th>\n",
       "      <td>2010-07-06</td>\n",
       "      <td>16.110001</td>\n",
       "    </tr>\n",
       "    <tr>\n",
       "      <th>...</th>\n",
       "      <td>...</td>\n",
       "      <td>...</td>\n",
       "    </tr>\n",
       "    <tr>\n",
       "      <th>2020-01-28</th>\n",
       "      <td>2020-01-28</td>\n",
       "      <td>566.900024</td>\n",
       "    </tr>\n",
       "    <tr>\n",
       "      <th>2020-01-29</th>\n",
       "      <td>2020-01-29</td>\n",
       "      <td>580.989990</td>\n",
       "    </tr>\n",
       "    <tr>\n",
       "      <th>2020-01-30</th>\n",
       "      <td>2020-01-30</td>\n",
       "      <td>640.809998</td>\n",
       "    </tr>\n",
       "    <tr>\n",
       "      <th>2020-01-31</th>\n",
       "      <td>2020-01-31</td>\n",
       "      <td>650.570007</td>\n",
       "    </tr>\n",
       "    <tr>\n",
       "      <th>2020-02-03</th>\n",
       "      <td>2020-02-03</td>\n",
       "      <td>780.000000</td>\n",
       "    </tr>\n",
       "  </tbody>\n",
       "</table>\n",
       "<p>2416 rows × 2 columns</p>\n",
       "</div>"
      ],
      "text/plain": [
       "                 Date       Close\n",
       "Date                             \n",
       "2010-06-29 2010-06-29   23.889999\n",
       "2010-06-30 2010-06-30   23.830000\n",
       "2010-07-01 2010-07-01   21.959999\n",
       "2010-07-02 2010-07-02   19.200001\n",
       "2010-07-06 2010-07-06   16.110001\n",
       "...               ...         ...\n",
       "2020-01-28 2020-01-28  566.900024\n",
       "2020-01-29 2020-01-29  580.989990\n",
       "2020-01-30 2020-01-30  640.809998\n",
       "2020-01-31 2020-01-31  650.570007\n",
       "2020-02-03 2020-02-03  780.000000\n",
       "\n",
       "[2416 rows x 2 columns]"
      ]
     },
     "execution_count": 12,
     "metadata": {},
     "output_type": "execute_result"
    }
   ],
   "source": [
    "tesla_df"
   ]
  },
  {
   "cell_type": "code",
   "execution_count": 13,
   "id": "971912bd",
   "metadata": {
    "execution": {
     "iopub.execute_input": "2024-10-22T06:29:52.186448Z",
     "iopub.status.busy": "2024-10-22T06:29:52.185915Z",
     "iopub.status.idle": "2024-10-22T06:29:52.193067Z",
     "shell.execute_reply": "2024-10-22T06:29:52.191657Z"
    },
    "id": "tgPM31WBWvcH",
    "papermill": {
     "duration": 0.032046,
     "end_time": "2024-10-22T06:29:52.195827",
     "exception": false,
     "start_time": "2024-10-22T06:29:52.163781",
     "status": "completed"
    },
    "tags": []
   },
   "outputs": [],
   "source": [
    "tesla_df.drop(\"Date\", axis=1, inplace=True)"
   ]
  },
  {
   "cell_type": "code",
   "execution_count": 14,
   "id": "f383b538",
   "metadata": {
    "execution": {
     "iopub.execute_input": "2024-10-22T06:29:52.242994Z",
     "iopub.status.busy": "2024-10-22T06:29:52.242539Z",
     "iopub.status.idle": "2024-10-22T06:29:52.258020Z",
     "shell.execute_reply": "2024-10-22T06:29:52.256881Z"
    },
    "id": "17KdnKMGWwSm",
    "papermill": {
     "duration": 0.046686,
     "end_time": "2024-10-22T06:29:52.262984",
     "exception": false,
     "start_time": "2024-10-22T06:29:52.216298",
     "status": "completed"
    },
    "tags": []
   },
   "outputs": [
    {
     "data": {
      "text/html": [
       "<div>\n",
       "<style scoped>\n",
       "    .dataframe tbody tr th:only-of-type {\n",
       "        vertical-align: middle;\n",
       "    }\n",
       "\n",
       "    .dataframe tbody tr th {\n",
       "        vertical-align: top;\n",
       "    }\n",
       "\n",
       "    .dataframe thead th {\n",
       "        text-align: right;\n",
       "    }\n",
       "</style>\n",
       "<table border=\"1\" class=\"dataframe\">\n",
       "  <thead>\n",
       "    <tr style=\"text-align: right;\">\n",
       "      <th></th>\n",
       "      <th>Close</th>\n",
       "    </tr>\n",
       "    <tr>\n",
       "      <th>Date</th>\n",
       "      <th></th>\n",
       "    </tr>\n",
       "  </thead>\n",
       "  <tbody>\n",
       "    <tr>\n",
       "      <th>2010-06-29</th>\n",
       "      <td>23.889999</td>\n",
       "    </tr>\n",
       "    <tr>\n",
       "      <th>2010-06-30</th>\n",
       "      <td>23.830000</td>\n",
       "    </tr>\n",
       "    <tr>\n",
       "      <th>2010-07-01</th>\n",
       "      <td>21.959999</td>\n",
       "    </tr>\n",
       "    <tr>\n",
       "      <th>2010-07-02</th>\n",
       "      <td>19.200001</td>\n",
       "    </tr>\n",
       "    <tr>\n",
       "      <th>2010-07-06</th>\n",
       "      <td>16.110001</td>\n",
       "    </tr>\n",
       "    <tr>\n",
       "      <th>...</th>\n",
       "      <td>...</td>\n",
       "    </tr>\n",
       "    <tr>\n",
       "      <th>2020-01-28</th>\n",
       "      <td>566.900024</td>\n",
       "    </tr>\n",
       "    <tr>\n",
       "      <th>2020-01-29</th>\n",
       "      <td>580.989990</td>\n",
       "    </tr>\n",
       "    <tr>\n",
       "      <th>2020-01-30</th>\n",
       "      <td>640.809998</td>\n",
       "    </tr>\n",
       "    <tr>\n",
       "      <th>2020-01-31</th>\n",
       "      <td>650.570007</td>\n",
       "    </tr>\n",
       "    <tr>\n",
       "      <th>2020-02-03</th>\n",
       "      <td>780.000000</td>\n",
       "    </tr>\n",
       "  </tbody>\n",
       "</table>\n",
       "<p>2416 rows × 1 columns</p>\n",
       "</div>"
      ],
      "text/plain": [
       "                 Close\n",
       "Date                  \n",
       "2010-06-29   23.889999\n",
       "2010-06-30   23.830000\n",
       "2010-07-01   21.959999\n",
       "2010-07-02   19.200001\n",
       "2010-07-06   16.110001\n",
       "...                ...\n",
       "2020-01-28  566.900024\n",
       "2020-01-29  580.989990\n",
       "2020-01-30  640.809998\n",
       "2020-01-31  650.570007\n",
       "2020-02-03  780.000000\n",
       "\n",
       "[2416 rows x 1 columns]"
      ]
     },
     "execution_count": 14,
     "metadata": {},
     "output_type": "execute_result"
    }
   ],
   "source": [
    "tesla_df"
   ]
  },
  {
   "cell_type": "code",
   "execution_count": 15,
   "id": "1638ed6b",
   "metadata": {
    "execution": {
     "iopub.execute_input": "2024-10-22T06:29:52.322158Z",
     "iopub.status.busy": "2024-10-22T06:29:52.320534Z",
     "iopub.status.idle": "2024-10-22T06:29:52.327991Z",
     "shell.execute_reply": "2024-10-22T06:29:52.326505Z"
    },
    "id": "PliZ5OcsWxsF",
    "papermill": {
     "duration": 0.037833,
     "end_time": "2024-10-22T06:29:52.331407",
     "exception": false,
     "start_time": "2024-10-22T06:29:52.293574",
     "status": "completed"
    },
    "tags": []
   },
   "outputs": [],
   "source": [
    "result_df = tesla_df.copy()"
   ]
  },
  {
   "cell_type": "code",
   "execution_count": 16,
   "id": "4f38eaf3",
   "metadata": {
    "execution": {
     "iopub.execute_input": "2024-10-22T06:29:52.377912Z",
     "iopub.status.busy": "2024-10-22T06:29:52.376801Z",
     "iopub.status.idle": "2024-10-22T06:29:52.887835Z",
     "shell.execute_reply": "2024-10-22T06:29:52.886520Z"
    },
    "id": "ObqHX6K2W0te",
    "papermill": {
     "duration": 0.537211,
     "end_time": "2024-10-22T06:29:52.891020",
     "exception": false,
     "start_time": "2024-10-22T06:29:52.353809",
     "status": "completed"
    },
    "tags": []
   },
   "outputs": [
    {
     "data": {
      "image/png": "[encoded data removed]",
      "text/plain": [
       "<Figure size 1400x500 with 1 Axes>"
      ]
     },
     "metadata": {},
     "output_type": "display_data"
    }
   ],
   "source": [
    "plt.figure(figsize=(14,5))\n",
    "plt.plot(tesla_df['Close'], color='blue')\n",
    "plt.title(\"Tesla Stock Price\")\n",
    "plt.xlabel(\"Time\")\n",
    "plt.ylabel(\"Stock Price\")\n",
    "plt.show()"
   ]
  },
  {
   "cell_type": "code",
   "execution_count": 17,
   "id": "c29d9385",
   "metadata": {
    "execution": {
     "iopub.execute_input": "2024-10-22T06:29:52.937150Z",
     "iopub.status.busy": "2024-10-22T06:29:52.936325Z",
     "iopub.status.idle": "2024-10-22T06:29:52.942441Z",
     "shell.execute_reply": "2024-10-22T06:29:52.941059Z"
    },
    "id": "5LWFDWjNW2z2",
    "papermill": {
     "duration": 0.032417,
     "end_time": "2024-10-22T06:29:52.945235",
     "exception": false,
     "start_time": "2024-10-22T06:29:52.912818",
     "status": "completed"
    },
    "tags": []
   },
   "outputs": [],
   "source": [
    "tesla_df = tesla_df.values"
   ]
  },
  {
   "cell_type": "code",
   "execution_count": 18,
   "id": "1dede70c",
   "metadata": {
    "execution": {
     "iopub.execute_input": "2024-10-22T06:29:52.994353Z",
     "iopub.status.busy": "2024-10-22T06:29:52.993138Z",
     "iopub.status.idle": "2024-10-22T06:29:53.003016Z",
     "shell.execute_reply": "2024-10-22T06:29:53.001307Z"
    },
    "id": "jxFZkTS-W9Mm",
    "papermill": {
     "duration": 0.039014,
     "end_time": "2024-10-22T06:29:53.005916",
     "exception": false,
     "start_time": "2024-10-22T06:29:52.966902",
     "status": "completed"
    },
    "tags": []
   },
   "outputs": [
    {
     "data": {
      "text/plain": [
       "array([[23.889999],\n",
       "       [23.83    ],\n",
       "       [21.959999],\n",
       "       [19.200001],\n",
       "       [16.110001]])"
      ]
     },
     "execution_count": 18,
     "metadata": {},
     "output_type": "execute_result"
    }
   ],
   "source": [
    "tesla_df[0:5]"
   ]
  },
  {
   "cell_type": "code",
   "execution_count": 19,
   "id": "18f3ffb8",
   "metadata": {
    "execution": {
     "iopub.execute_input": "2024-10-22T06:29:53.053897Z",
     "iopub.status.busy": "2024-10-22T06:29:53.053383Z",
     "iopub.status.idle": "2024-10-22T06:29:53.060412Z",
     "shell.execute_reply": "2024-10-22T06:29:53.058593Z"
    },
    "id": "iU7KJlc4XAb2",
    "papermill": {
     "duration": 0.034533,
     "end_time": "2024-10-22T06:29:53.063608",
     "exception": false,
     "start_time": "2024-10-22T06:29:53.029075",
     "status": "completed"
    },
    "tags": []
   },
   "outputs": [],
   "source": [
    "tesla_df = tesla_df.astype(\"float32\")"
   ]
  },
  {
   "cell_type": "code",
   "execution_count": 20,
   "id": "22075039",
   "metadata": {
    "execution": {
     "iopub.execute_input": "2024-10-22T06:29:53.110917Z",
     "iopub.status.busy": "2024-10-22T06:29:53.110396Z",
     "iopub.status.idle": "2024-10-22T06:29:53.118189Z",
     "shell.execute_reply": "2024-10-22T06:29:53.116498Z"
    },
    "id": "r7Cywk9oXBI-",
    "papermill": {
     "duration": 0.035152,
     "end_time": "2024-10-22T06:29:53.121449",
     "exception": false,
     "start_time": "2024-10-22T06:29:53.086297",
     "status": "completed"
    },
    "tags": []
   },
   "outputs": [],
   "source": [
    "def split_data(dataframe, test_size):\n",
    "  position = int(round(len(dataframe) * (1 - test_size)))\n",
    "  train = dataframe[:position]\n",
    "  test = dataframe[position:]\n",
    "  return train, test, position"
   ]
  },
  {
   "cell_type": "code",
   "execution_count": 21,
   "id": "12384367",
   "metadata": {
    "execution": {
     "iopub.execute_input": "2024-10-22T06:29:53.169182Z",
     "iopub.status.busy": "2024-10-22T06:29:53.168660Z",
     "iopub.status.idle": "2024-10-22T06:29:53.174463Z",
     "shell.execute_reply": "2024-10-22T06:29:53.173225Z"
    },
    "id": "COxqfz0SZvV_",
    "papermill": {
     "duration": 0.032285,
     "end_time": "2024-10-22T06:29:53.177562",
     "exception": false,
     "start_time": "2024-10-22T06:29:53.145277",
     "status": "completed"
    },
    "tags": []
   },
   "outputs": [],
   "source": [
    "train, test, position = split_data(tesla_df, 0.20)"
   ]
  },
  {
   "cell_type": "code",
   "execution_count": 22,
   "id": "70c37fbd",
   "metadata": {
    "execution": {
     "iopub.execute_input": "2024-10-22T06:29:53.223462Z",
     "iopub.status.busy": "2024-10-22T06:29:53.223000Z",
     "iopub.status.idle": "2024-10-22T06:29:53.229932Z",
     "shell.execute_reply": "2024-10-22T06:29:53.228378Z"
    },
    "id": "jESwxnt2Z1t5",
    "papermill": {
     "duration": 0.033554,
     "end_time": "2024-10-22T06:29:53.233301",
     "exception": false,
     "start_time": "2024-10-22T06:29:53.199747",
     "status": "completed"
    },
    "tags": []
   },
   "outputs": [
    {
     "name": "stdout",
     "output_type": "stream",
     "text": [
      "(1933, 1) (483, 1)\n"
     ]
    }
   ],
   "source": [
    "print(train.shape, test.shape)"
   ]
  },
  {
   "cell_type": "code",
   "execution_count": 23,
   "id": "208c073e",
   "metadata": {
    "execution": {
     "iopub.execute_input": "2024-10-22T06:29:53.284542Z",
     "iopub.status.busy": "2024-10-22T06:29:53.283396Z",
     "iopub.status.idle": "2024-10-22T06:29:53.289751Z",
     "shell.execute_reply": "2024-10-22T06:29:53.288340Z"
    },
    "id": "wleQDdgSZ8NZ",
    "papermill": {
     "duration": 0.03428,
     "end_time": "2024-10-22T06:29:53.292566",
     "exception": false,
     "start_time": "2024-10-22T06:29:53.258286",
     "status": "completed"
    },
    "tags": []
   },
   "outputs": [],
   "source": [
    "scaler_train = MinMaxScaler(feature_range = (0,1))"
   ]
  },
  {
   "cell_type": "code",
   "execution_count": 24,
   "id": "424e1279",
   "metadata": {
    "execution": {
     "iopub.execute_input": "2024-10-22T06:29:53.338725Z",
     "iopub.status.busy": "2024-10-22T06:29:53.338250Z",
     "iopub.status.idle": "2024-10-22T06:29:53.345105Z",
     "shell.execute_reply": "2024-10-22T06:29:53.343956Z"
    },
    "id": "Enf8wikDaNZh",
    "papermill": {
     "duration": 0.033327,
     "end_time": "2024-10-22T06:29:53.347628",
     "exception": false,
     "start_time": "2024-10-22T06:29:53.314301",
     "status": "completed"
    },
    "tags": []
   },
   "outputs": [],
   "source": [
    "train = scaler_train.fit_transform(train)"
   ]
  },
  {
   "cell_type": "code",
   "execution_count": 25,
   "id": "0dc07bad",
   "metadata": {
    "execution": {
     "iopub.execute_input": "2024-10-22T06:29:53.394634Z",
     "iopub.status.busy": "2024-10-22T06:29:53.394123Z",
     "iopub.status.idle": "2024-10-22T06:29:53.399966Z",
     "shell.execute_reply": "2024-10-22T06:29:53.398751Z"
    },
    "id": "cg-7tCn_aXTc",
    "papermill": {
     "duration": 0.032938,
     "end_time": "2024-10-22T06:29:53.402462",
     "exception": false,
     "start_time": "2024-10-22T06:29:53.369524",
     "status": "completed"
    },
    "tags": []
   },
   "outputs": [],
   "source": [
    "scaler_test = MinMaxScaler(feature_range = (0,1))"
   ]
  },
  {
   "cell_type": "code",
   "execution_count": 26,
   "id": "19d29460",
   "metadata": {
    "execution": {
     "iopub.execute_input": "2024-10-22T06:29:53.448964Z",
     "iopub.status.busy": "2024-10-22T06:29:53.448487Z",
     "iopub.status.idle": "2024-10-22T06:29:53.455343Z",
     "shell.execute_reply": "2024-10-22T06:29:53.454013Z"
    },
    "id": "tSbuIifiabbC",
    "papermill": {
     "duration": 0.033874,
     "end_time": "2024-10-22T06:29:53.458151",
     "exception": false,
     "start_time": "2024-10-22T06:29:53.424277",
     "status": "completed"
    },
    "tags": []
   },
   "outputs": [],
   "source": [
    "test = scaler_test.fit_transform(test)"
   ]
  },
  {
   "cell_type": "code",
   "execution_count": 27,
   "id": "47100465",
   "metadata": {
    "execution": {
     "iopub.execute_input": "2024-10-22T06:29:53.503886Z",
     "iopub.status.busy": "2024-10-22T06:29:53.503439Z",
     "iopub.status.idle": "2024-10-22T06:29:53.512045Z",
     "shell.execute_reply": "2024-10-22T06:29:53.510650Z"
    },
    "id": "X5a7m_BEagaJ",
    "papermill": {
     "duration": 0.035106,
     "end_time": "2024-10-22T06:29:53.515119",
     "exception": false,
     "start_time": "2024-10-22T06:29:53.480013",
     "status": "completed"
    },
    "tags": []
   },
   "outputs": [
    {
     "data": {
      "text/plain": [
       "array([[0.02191224],\n",
       "       [0.02174973],\n",
       "       [0.01668472],\n",
       "       [0.0092091 ],\n",
       "       [0.00083966]], dtype=float32)"
      ]
     },
     "execution_count": 27,
     "metadata": {},
     "output_type": "execute_result"
    }
   ],
   "source": [
    "train[0:5]"
   ]
  },
  {
   "cell_type": "code",
   "execution_count": 28,
   "id": "e2b2bbdd",
   "metadata": {
    "execution": {
     "iopub.execute_input": "2024-10-22T06:29:53.564294Z",
     "iopub.status.busy": "2024-10-22T06:29:53.563814Z",
     "iopub.status.idle": "2024-10-22T06:29:53.572520Z",
     "shell.execute_reply": "2024-10-22T06:29:53.571063Z"
    },
    "id": "AeVSy_ijahnh",
    "papermill": {
     "duration": 0.037246,
     "end_time": "2024-10-22T06:29:53.575315",
     "exception": false,
     "start_time": "2024-10-22T06:29:53.538069",
     "status": "completed"
    },
    "tags": []
   },
   "outputs": [
    {
     "data": {
      "text/plain": [
       "array([[0.25685903],\n",
       "       [0.24829045],\n",
       "       [0.25511202],\n",
       "       [0.24978784],\n",
       "       [0.2465767 ]], dtype=float32)"
      ]
     },
     "execution_count": 28,
     "metadata": {},
     "output_type": "execute_result"
    }
   ],
   "source": [
    "test[0:5]"
   ]
  },
  {
   "cell_type": "code",
   "execution_count": 29,
   "id": "102bc339",
   "metadata": {
    "execution": {
     "iopub.execute_input": "2024-10-22T06:29:53.622541Z",
     "iopub.status.busy": "2024-10-22T06:29:53.621313Z",
     "iopub.status.idle": "2024-10-22T06:29:53.628784Z",
     "shell.execute_reply": "2024-10-22T06:29:53.627540Z"
    },
    "id": "Gv95UqJWasHS",
    "papermill": {
     "duration": 0.033627,
     "end_time": "2024-10-22T06:29:53.631451",
     "exception": false,
     "start_time": "2024-10-22T06:29:53.597824",
     "status": "completed"
    },
    "tags": []
   },
   "outputs": [],
   "source": [
    "def create_features(data, lookback):\n",
    "  X, Y = [], []\n",
    "  for i in range(lookback, len(data)):\n",
    "    X.append(data[i-lookback:i,0])\n",
    "    Y.append(data[i,0])\n",
    "\n",
    "  return np.array(X), np.array(Y)"
   ]
  },
  {
   "cell_type": "code",
   "execution_count": 30,
   "id": "4854e1b2",
   "metadata": {
    "execution": {
     "iopub.execute_input": "2024-10-22T06:29:53.679782Z",
     "iopub.status.busy": "2024-10-22T06:29:53.678281Z",
     "iopub.status.idle": "2024-10-22T06:29:53.684354Z",
     "shell.execute_reply": "2024-10-22T06:29:53.683084Z"
    },
    "id": "e36Ux4_CbASm",
    "papermill": {
     "duration": 0.032874,
     "end_time": "2024-10-22T06:29:53.687351",
     "exception": false,
     "start_time": "2024-10-22T06:29:53.654477",
     "status": "completed"
    },
    "tags": []
   },
   "outputs": [],
   "source": [
    "lookback = 20"
   ]
  },
  {
   "cell_type": "code",
   "execution_count": 31,
   "id": "08608ac0",
   "metadata": {
    "execution": {
     "iopub.execute_input": "2024-10-22T06:29:53.734107Z",
     "iopub.status.busy": "2024-10-22T06:29:53.733603Z",
     "iopub.status.idle": "2024-10-22T06:29:53.745334Z",
     "shell.execute_reply": "2024-10-22T06:29:53.743937Z"
    },
    "id": "Xd8JMdaWbCzp",
    "papermill": {
     "duration": 0.03845,
     "end_time": "2024-10-22T06:29:53.748270",
     "exception": false,
     "start_time": "2024-10-22T06:29:53.709820",
     "status": "completed"
    },
    "tags": []
   },
   "outputs": [],
   "source": [
    "X_train, y_train = create_features(train, lookback)"
   ]
  },
  {
   "cell_type": "code",
   "execution_count": 32,
   "id": "77ead7b2",
   "metadata": {
    "execution": {
     "iopub.execute_input": "2024-10-22T06:29:53.853739Z",
     "iopub.status.busy": "2024-10-22T06:29:53.853278Z",
     "iopub.status.idle": "2024-10-22T06:29:53.861293Z",
     "shell.execute_reply": "2024-10-22T06:29:53.859861Z"
    },
    "id": "wHgq8DT5bF_Z",
    "papermill": {
     "duration": 0.093577,
     "end_time": "2024-10-22T06:29:53.864469",
     "exception": false,
     "start_time": "2024-10-22T06:29:53.770892",
     "status": "completed"
    },
    "tags": []
   },
   "outputs": [],
   "source": [
    "X_test, y_test = create_features(test, lookback)"
   ]
  },
  {
   "cell_type": "code",
   "execution_count": 33,
   "id": "2f713c14",
   "metadata": {
    "execution": {
     "iopub.execute_input": "2024-10-22T06:29:53.912771Z",
     "iopub.status.busy": "2024-10-22T06:29:53.912284Z",
     "iopub.status.idle": "2024-10-22T06:29:53.918679Z",
     "shell.execute_reply": "2024-10-22T06:29:53.917457Z"
    },
    "id": "zYQy_33TbKdb",
    "papermill": {
     "duration": 0.033669,
     "end_time": "2024-10-22T06:29:53.921723",
     "exception": false,
     "start_time": "2024-10-22T06:29:53.888054",
     "status": "completed"
    },
    "tags": []
   },
   "outputs": [
    {
     "name": "stdout",
     "output_type": "stream",
     "text": [
      "(1913, 20) (1913,) (463, 20) (463,)\n"
     ]
    }
   ],
   "source": [
    "print(X_train.shape, y_train.shape, X_test.shape, y_test.shape)"
   ]
  },
  {
   "cell_type": "code",
   "execution_count": 34,
   "id": "7d3816a7",
   "metadata": {
    "execution": {
     "iopub.execute_input": "2024-10-22T06:29:53.969266Z",
     "iopub.status.busy": "2024-10-22T06:29:53.968842Z",
     "iopub.status.idle": "2024-10-22T06:29:53.978923Z",
     "shell.execute_reply": "2024-10-22T06:29:53.977707Z"
    },
    "id": "sI1k-K6bTKuw",
    "papermill": {
     "duration": 0.037378,
     "end_time": "2024-10-22T06:29:53.981672",
     "exception": false,
     "start_time": "2024-10-22T06:29:53.944294",
     "status": "completed"
    },
    "tags": []
   },
   "outputs": [
    {
     "data": {
      "text/plain": [
       "array([[0.02191224, 0.02174973, 0.01668472, 0.0092091 , 0.00083966,\n",
       "        0.        , 0.00449621, 0.00433369, 0.0033857 , 0.00633803,\n",
       "        0.01094258, 0.011078  , 0.01310942, 0.0165493 , 0.01218851,\n",
       "        0.01197183, 0.01408451, 0.01486999, 0.01394908, 0.01286566],\n",
       "       [0.02174973, 0.01668472, 0.0092091 , 0.00083966, 0.        ,\n",
       "        0.00449621, 0.00433369, 0.0033857 , 0.00633803, 0.01094258,\n",
       "        0.011078  , 0.01310942, 0.0165493 , 0.01218851, 0.01197183,\n",
       "        0.01408451, 0.01486999, 0.01394908, 0.01286566, 0.01332611],\n",
       "       [0.01668472, 0.0092091 , 0.00083966, 0.        , 0.00449621,\n",
       "        0.00433369, 0.0033857 , 0.00633803, 0.01094258, 0.011078  ,\n",
       "        0.01310942, 0.0165493 , 0.01218851, 0.01197183, 0.01408451,\n",
       "        0.01486999, 0.01394908, 0.01286566, 0.01332611, 0.01232395],\n",
       "       [0.0092091 , 0.00083966, 0.        , 0.00449621, 0.00433369,\n",
       "        0.0033857 , 0.00633803, 0.01094258, 0.011078  , 0.01310942,\n",
       "        0.0165493 , 0.01218851, 0.01197183, 0.01408451, 0.01486999,\n",
       "        0.01394908, 0.01286566, 0.01332611, 0.01232395, 0.01121344],\n",
       "       [0.00083966, 0.        , 0.00449621, 0.00433369, 0.0033857 ,\n",
       "        0.00633803, 0.01094258, 0.011078  , 0.01310942, 0.0165493 ,\n",
       "        0.01218851, 0.01197183, 0.01408451, 0.01486999, 0.01394908,\n",
       "        0.01286566, 0.01332611, 0.01232395, 0.01121344, 0.01386782]],\n",
       "      dtype=float32)"
      ]
     },
     "execution_count": 34,
     "metadata": {},
     "output_type": "execute_result"
    }
   ],
   "source": [
    "X_train[0:5]"
   ]
  },
  {
   "cell_type": "code",
   "execution_count": 35,
   "id": "5d9d34ca",
   "metadata": {
    "execution": {
     "iopub.execute_input": "2024-10-22T06:29:54.028804Z",
     "iopub.status.busy": "2024-10-22T06:29:54.028314Z",
     "iopub.status.idle": "2024-10-22T06:29:54.037165Z",
     "shell.execute_reply": "2024-10-22T06:29:54.035699Z"
    },
    "id": "vY5hCVQHTg9u",
    "papermill": {
     "duration": 0.035936,
     "end_time": "2024-10-22T06:29:54.040093",
     "exception": false,
     "start_time": "2024-10-22T06:29:54.004157",
     "status": "completed"
    },
    "tags": []
   },
   "outputs": [
    {
     "data": {
      "text/plain": [
       "array([0.01332611, 0.01232395, 0.01121344, 0.01386782, 0.01665764],\n",
       "      dtype=float32)"
      ]
     },
     "execution_count": 35,
     "metadata": {},
     "output_type": "execute_result"
    }
   ],
   "source": [
    "y_train[0:5]"
   ]
  },
  {
   "cell_type": "code",
   "execution_count": 36,
   "id": "aca9757e",
   "metadata": {
    "execution": {
     "iopub.execute_input": "2024-10-22T06:29:54.087424Z",
     "iopub.status.busy": "2024-10-22T06:29:54.086956Z",
     "iopub.status.idle": "2024-10-22T06:29:54.094584Z",
     "shell.execute_reply": "2024-10-22T06:29:54.093216Z"
    },
    "id": "yvf-4kLybad5",
    "papermill": {
     "duration": 0.035173,
     "end_time": "2024-10-22T06:29:54.097477",
     "exception": false,
     "start_time": "2024-10-22T06:29:54.062304",
     "status": "completed"
    },
    "tags": []
   },
   "outputs": [],
   "source": [
    "X_train = np.reshape(X_train, (X_train.shape[0], 1, X_train.shape[1]))\n",
    "X_test = np.reshape(X_test, (X_test.shape[0], 1, X_test.shape[1]))\n",
    "y_train = y_train.reshape(-1,1)\n",
    "y_test = y_test.reshape(-1,1)"
   ]
  },
  {
   "cell_type": "code",
   "execution_count": 37,
   "id": "e34979af",
   "metadata": {
    "execution": {
     "iopub.execute_input": "2024-10-22T06:29:54.146663Z",
     "iopub.status.busy": "2024-10-22T06:29:54.145556Z",
     "iopub.status.idle": "2024-10-22T06:29:54.152940Z",
     "shell.execute_reply": "2024-10-22T06:29:54.151685Z"
    },
    "id": "D2ltv0Edb3wz",
    "papermill": {
     "duration": 0.035506,
     "end_time": "2024-10-22T06:29:54.155682",
     "exception": false,
     "start_time": "2024-10-22T06:29:54.120176",
     "status": "completed"
    },
    "tags": []
   },
   "outputs": [
    {
     "name": "stdout",
     "output_type": "stream",
     "text": [
      "(1913, 1, 20) (1913, 1) (463, 1, 20) (463, 1)\n"
     ]
    }
   ],
   "source": [
    "print(X_train.shape, y_train.shape, X_test.shape, y_test.shape)"
   ]
  },
  {
   "cell_type": "markdown",
   "id": "0d2f70f5",
   "metadata": {
    "id": "DtsN3xazcIAn",
    "papermill": {
     "duration": 0.022165,
     "end_time": "2024-10-22T06:29:54.200390",
     "exception": false,
     "start_time": "2024-10-22T06:29:54.178225",
     "status": "completed"
    },
    "tags": []
   },
   "source": [
    "## Modelling"
   ]
  },
  {
   "cell_type": "code",
   "execution_count": 38,
   "id": "32f9479e",
   "metadata": {
    "execution": {
     "iopub.execute_input": "2024-10-22T06:29:54.248414Z",
     "iopub.status.busy": "2024-10-22T06:29:54.247877Z",
     "iopub.status.idle": "2024-10-22T06:29:54.398091Z",
     "shell.execute_reply": "2024-10-22T06:29:54.396876Z"
    },
    "id": "QtbQx4G9cI_z",
    "papermill": {
     "duration": 0.177927,
     "end_time": "2024-10-22T06:29:54.401031",
     "exception": false,
     "start_time": "2024-10-22T06:29:54.223104",
     "status": "completed"
    },
    "tags": []
   },
   "outputs": [],
   "source": [
    "model = Sequential()\n",
    "\n",
    "model.add(LSTM(units = 50,\n",
    "                    activation = 'relu',\n",
    "                    input_shape=(X_train.shape[1], lookback)))\n",
    "\n",
    "model.add(Dropout(0.2))\n",
    "\n",
    "model.add(Dense(1))\n"
   ]
  },
  {
   "cell_type": "code",
   "execution_count": 39,
   "id": "0921661e",
   "metadata": {
    "execution": {
     "iopub.execute_input": "2024-10-22T06:29:54.449579Z",
     "iopub.status.busy": "2024-10-22T06:29:54.448410Z",
     "iopub.status.idle": "2024-10-22T06:29:54.472128Z",
     "shell.execute_reply": "2024-10-22T06:29:54.470742Z"
    },
    "id": "RQFXIkDbciE6",
    "papermill": {
     "duration": 0.051158,
     "end_time": "2024-10-22T06:29:54.475148",
     "exception": false,
     "start_time": "2024-10-22T06:29:54.423990",
     "status": "completed"
    },
    "tags": []
   },
   "outputs": [
    {
     "data": {
      "text/html": [
       "<pre style=\"white-space:pre;overflow-x:auto;line-height:normal;font-family:Menlo,'DejaVu Sans Mono',consolas,'Courier New',monospace\"><span style=\"font-weight: bold\">Model: \"sequential\"</span>\n",
       "</pre>\n"
      ],
      "text/plain": [
       "\u001b[1mModel: \"sequential\"\u001b[0m\n"
      ]
     },
     "metadata": {},
     "output_type": "display_data"
    },
    {
     "data": {
      "text/html": [
       "<pre style=\"white-space:pre;overflow-x:auto;line-height:normal;font-family:Menlo,'DejaVu Sans Mono',consolas,'Courier New',monospace\">┏━━━━━━━━━━━━━━━━━━━━━━━━━━━━━━━━━┳━━━━━━━━━━━━━━━━━━━━━━━━┳━━━━━━━━━━━━━━━┓\n",
       "┃<span style=\"font-weight: bold\"> Layer (type)                    </span>┃<span style=\"font-weight: bold\"> Output Shape           </span>┃<span style=\"font-weight: bold\">       Param # </span>┃\n",
       "┡━━━━━━━━━━━━━━━━━━━━━━━━━━━━━━━━━╇━━━━━━━━━━━━━━━━━━━━━━━━╇━━━━━━━━━━━━━━━┩\n",
       "│ lstm (<span style=\"color: #0087ff; text-decoration-color: #0087ff\">LSTM</span>)                     │ (<span style=\"color: #00d7ff; text-decoration-color: #00d7ff\">None</span>, <span style=\"color: #00af00; text-decoration-color: #00af00\">50</span>)             │        <span style=\"color: #00af00; text-decoration-color: #00af00\">14,200</span> │\n",
       "├─────────────────────────────────┼────────────────────────┼───────────────┤\n",
       "│ dropout (<span style=\"color: #0087ff; text-decoration-color: #0087ff\">Dropout</span>)               │ (<span style=\"color: #00d7ff; text-decoration-color: #00d7ff\">None</span>, <span style=\"color: #00af00; text-decoration-color: #00af00\">50</span>)             │             <span style=\"color: #00af00; text-decoration-color: #00af00\">0</span> │\n",
       "├─────────────────────────────────┼────────────────────────┼───────────────┤\n",
       "│ dense (<span style=\"color: #0087ff; text-decoration-color: #0087ff\">Dense</span>)                   │ (<span style=\"color: #00d7ff; text-decoration-color: #00d7ff\">None</span>, <span style=\"color: #00af00; text-decoration-color: #00af00\">1</span>)              │            <span style=\"color: #00af00; text-decoration-color: #00af00\">51</span> │\n",
       "└─────────────────────────────────┴────────────────────────┴───────────────┘\n",
       "</pre>\n"
      ],
      "text/plain": [
       "┏━━━━━━━━━━━━━━━━━━━━━━━━━━━━━━━━━┳━━━━━━━━━━━━━━━━━━━━━━━━┳━━━━━━━━━━━━━━━┓\n",
       "┃\u001b[1m \u001b[0m\u001b[1mLayer (type)                   \u001b[0m\u001b[1m \u001b[0m┃\u001b[1m \u001b[0m\u001b[1mOutput Shape          \u001b[0m\u001b[1m \u001b[0m┃\u001b[1m \u001b[0m\u001b[1m      Param #\u001b[0m\u001b[1m \u001b[0m┃\n",
       "┡━━━━━━━━━━━━━━━━━━━━━━━━━━━━━━━━━╇━━━━━━━━━━━━━━━━━━━━━━━━╇━━━━━━━━━━━━━━━┩\n",
       "│ lstm (\u001b[38;5;33mLSTM\u001b[0m)                     │ (\u001b[38;5;45mNone\u001b[0m, \u001b[38;5;34m50\u001b[0m)             │        \u001b[38;5;34m14,200\u001b[0m │\n",
       "├─────────────────────────────────┼────────────────────────┼───────────────┤\n",
       "│ dropout (\u001b[38;5;33mDropout\u001b[0m)               │ (\u001b[38;5;45mNone\u001b[0m, \u001b[38;5;34m50\u001b[0m)             │             \u001b[38;5;34m0\u001b[0m │\n",
       "├─────────────────────────────────┼────────────────────────┼───────────────┤\n",
       "│ dense (\u001b[38;5;33mDense\u001b[0m)                   │ (\u001b[38;5;45mNone\u001b[0m, \u001b[38;5;34m1\u001b[0m)              │            \u001b[38;5;34m51\u001b[0m │\n",
       "└─────────────────────────────────┴────────────────────────┴───────────────┘\n"
      ]
     },
     "metadata": {},
     "output_type": "display_data"
    },
    {
     "data": {
      "text/html": [
       "<pre style=\"white-space:pre;overflow-x:auto;line-height:normal;font-family:Menlo,'DejaVu Sans Mono',consolas,'Courier New',monospace\"><span style=\"font-weight: bold\"> Total params: </span><span style=\"color: #00af00; text-decoration-color: #00af00\">14,251</span> (55.67 KB)\n",
       "</pre>\n"
      ],
      "text/plain": [
       "\u001b[1m Total params: \u001b[0m\u001b[38;5;34m14,251\u001b[0m (55.67 KB)\n"
      ]
     },
     "metadata": {},
     "output_type": "display_data"
    },
    {
     "data": {
      "text/html": [
       "<pre style=\"white-space:pre;overflow-x:auto;line-height:normal;font-family:Menlo,'DejaVu Sans Mono',consolas,'Courier New',monospace\"><span style=\"font-weight: bold\"> Trainable params: </span><span style=\"color: #00af00; text-decoration-color: #00af00\">14,251</span> (55.67 KB)\n",
       "</pre>\n"
      ],
      "text/plain": [
       "\u001b[1m Trainable params: \u001b[0m\u001b[38;5;34m14,251\u001b[0m (55.67 KB)\n"
      ]
     },
     "metadata": {},
     "output_type": "display_data"
    },
    {
     "data": {
      "text/html": [
       "<pre style=\"white-space:pre;overflow-x:auto;line-height:normal;font-family:Menlo,'DejaVu Sans Mono',consolas,'Courier New',monospace\"><span style=\"font-weight: bold\"> Non-trainable params: </span><span style=\"color: #00af00; text-decoration-color: #00af00\">0</span> (0.00 B)\n",
       "</pre>\n"
      ],
      "text/plain": [
       "\u001b[1m Non-trainable params: \u001b[0m\u001b[38;5;34m0\u001b[0m (0.00 B)\n"
      ]
     },
     "metadata": {},
     "output_type": "display_data"
    }
   ],
   "source": [
    "model.summary()"
   ]
  },
  {
   "cell_type": "code",
   "execution_count": 40,
   "id": "fe6b0348",
   "metadata": {
    "execution": {
     "iopub.execute_input": "2024-10-22T06:29:54.525532Z",
     "iopub.status.busy": "2024-10-22T06:29:54.525030Z",
     "iopub.status.idle": "2024-10-22T06:29:54.541808Z",
     "shell.execute_reply": "2024-10-22T06:29:54.540466Z"
    },
    "id": "NE6_O7IwclkT",
    "papermill": {
     "duration": 0.046155,
     "end_time": "2024-10-22T06:29:54.545354",
     "exception": false,
     "start_time": "2024-10-22T06:29:54.499199",
     "status": "completed"
    },
    "tags": []
   },
   "outputs": [],
   "source": [
    "model.compile(loss='mean_squared_error', optimizer='adam')"
   ]
  },
  {
   "cell_type": "code",
   "execution_count": 41,
   "id": "1994a9fa",
   "metadata": {
    "execution": {
     "iopub.execute_input": "2024-10-22T06:29:54.597464Z",
     "iopub.status.busy": "2024-10-22T06:29:54.596302Z",
     "iopub.status.idle": "2024-10-22T06:29:54.603415Z",
     "shell.execute_reply": "2024-10-22T06:29:54.602118Z"
    },
    "id": "JLqjYZudc3Is",
    "papermill": {
     "duration": 0.03685,
     "end_time": "2024-10-22T06:29:54.606197",
     "exception": false,
     "start_time": "2024-10-22T06:29:54.569347",
     "status": "completed"
    },
    "tags": []
   },
   "outputs": [],
   "source": [
    "callbacks = (EarlyStopping(monitor='val_loss', patience=10, verbose=1, mode='min'),\n",
    "            ModelCheckpoint(filepath='mymodel.keras', monitor='val_loss', mode='min',\n",
    "            save_best_only = True, save_weights_only = False, verbose = 1))"
   ]
  },
  {
   "cell_type": "code",
   "execution_count": 42,
   "id": "bd6b82b5",
   "metadata": {
    "execution": {
     "iopub.execute_input": "2024-10-22T06:29:54.655071Z",
     "iopub.status.busy": "2024-10-22T06:29:54.654615Z",
     "iopub.status.idle": "2024-10-22T06:30:09.082142Z",
     "shell.execute_reply": "2024-10-22T06:30:09.080843Z"
    },
    "id": "7Pv-Fb9FdSf7",
    "papermill": {
     "duration": 14.455895,
     "end_time": "2024-10-22T06:30:09.085534",
     "exception": false,
     "start_time": "2024-10-22T06:29:54.629639",
     "status": "completed"
    },
    "tags": []
   },
   "outputs": [
    {
     "name": "stdout",
     "output_type": "stream",
     "text": [
      "Epoch 1/100\n",
      "\u001b[1m95/96\u001b[0m \u001b[32m━━━━━━━━━━━━━━━━━━━\u001b[0m\u001b[37m━\u001b[0m \u001b[1m0s\u001b[0m 3ms/step - loss: 0.0045\n",
      "Epoch 1: val_loss improved from inf to 0.00412, saving model to mymodel.keras\n",
      "\u001b[1m96/96\u001b[0m \u001b[32m━━━━━━━━━━━━━━━━━━━━\u001b[0m\u001b[37m\u001b[0m \u001b[1m3s\u001b[0m 8ms/step - loss: 0.0045 - val_loss: 0.0041\n",
      "Epoch 2/100\n",
      "\u001b[1m93/96\u001b[0m \u001b[32m━━━━━━━━━━━━━━━━━━━\u001b[0m\u001b[37m━\u001b[0m \u001b[1m0s\u001b[0m 3ms/step - loss: 0.0046\n",
      "Epoch 2: val_loss improved from 0.00412 to 0.00406, saving model to mymodel.keras\n",
      "\u001b[1m96/96\u001b[0m \u001b[32m━━━━━━━━━━━━━━━━━━━━\u001b[0m\u001b[37m\u001b[0m \u001b[1m0s\u001b[0m 4ms/step - loss: 0.0047 - val_loss: 0.0041\n",
      "Epoch 3/100\n",
      "\u001b[1m85/96\u001b[0m \u001b[32m━━━━━━━━━━━━━━━━━\u001b[0m\u001b[37m━━━\u001b[0m \u001b[1m0s\u001b[0m 3ms/step - loss: 0.0029\n",
      "Epoch 3: val_loss improved from 0.00406 to 0.00389, saving model to mymodel.keras\n",
      "\u001b[1m96/96\u001b[0m \u001b[32m━━━━━━━━━━━━━━━━━━━━\u001b[0m\u001b[37m\u001b[0m \u001b[1m0s\u001b[0m 4ms/step - loss: 0.0032 - val_loss: 0.0039\n",
      "Epoch 4/100\n",
      "\u001b[1m84/96\u001b[0m \u001b[32m━━━━━━━━━━━━━━━━━\u001b[0m\u001b[37m━━━\u001b[0m \u001b[1m0s\u001b[0m 3ms/step - loss: 0.0022\n",
      "Epoch 4: val_loss improved from 0.00389 to 0.00353, saving model to mymodel.keras\n",
      "\u001b[1m96/96\u001b[0m \u001b[32m━━━━━━━━━━━━━━━━━━━━\u001b[0m\u001b[37m\u001b[0m \u001b[1m0s\u001b[0m 4ms/step - loss: 0.0025 - val_loss: 0.0035\n",
      "Epoch 5/100\n",
      "\u001b[1m82/96\u001b[0m \u001b[32m━━━━━━━━━━━━━━━━━\u001b[0m\u001b[37m━━━\u001b[0m \u001b[1m0s\u001b[0m 4ms/step - loss: 0.0018\n",
      "Epoch 5: val_loss did not improve from 0.00353\n",
      "\u001b[1m96/96\u001b[0m \u001b[32m━━━━━━━━━━━━━━━━━━━━\u001b[0m\u001b[37m\u001b[0m \u001b[1m0s\u001b[0m 5ms/step - loss: 0.0022 - val_loss: 0.0039\n",
      "Epoch 6/100\n",
      "\u001b[1m94/96\u001b[0m \u001b[32m━━━━━━━━━━━━━━━━━━━\u001b[0m\u001b[37m━\u001b[0m \u001b[1m0s\u001b[0m 3ms/step - loss: 0.0019\n",
      "Epoch 6: val_loss improved from 0.00353 to 0.00318, saving model to mymodel.keras\n",
      "\u001b[1m96/96\u001b[0m \u001b[32m━━━━━━━━━━━━━━━━━━━━\u001b[0m\u001b[37m\u001b[0m \u001b[1m1s\u001b[0m 4ms/step - loss: 0.0020 - val_loss: 0.0032\n",
      "Epoch 7/100\n",
      "\u001b[1m91/96\u001b[0m \u001b[32m━━━━━━━━━━━━━━━━━━\u001b[0m\u001b[37m━━\u001b[0m \u001b[1m0s\u001b[0m 3ms/step - loss: 0.0021\n",
      "Epoch 7: val_loss did not improve from 0.00318\n",
      "\u001b[1m96/96\u001b[0m \u001b[32m━━━━━━━━━━━━━━━━━━━━\u001b[0m\u001b[37m\u001b[0m \u001b[1m0s\u001b[0m 4ms/step - loss: 0.0022 - val_loss: 0.0034\n",
      "Epoch 8/100\n",
      "\u001b[1m80/96\u001b[0m \u001b[32m━━━━━━━━━━━━━━━━\u001b[0m\u001b[37m━━━━\u001b[0m \u001b[1m0s\u001b[0m 3ms/step - loss: 0.0014    \n",
      "Epoch 8: val_loss did not improve from 0.00318\n",
      "\u001b[1m96/96\u001b[0m \u001b[32m━━━━━━━━━━━━━━━━━━━━\u001b[0m\u001b[37m\u001b[0m \u001b[1m0s\u001b[0m 4ms/step - loss: 0.0019 - val_loss: 0.0034\n",
      "Epoch 9/100\n",
      "\u001b[1m88/96\u001b[0m \u001b[32m━━━━━━━━━━━━━━━━━━\u001b[0m\u001b[37m━━\u001b[0m \u001b[1m0s\u001b[0m 3ms/step - loss: 0.0015\n",
      "Epoch 9: val_loss improved from 0.00318 to 0.00275, saving model to mymodel.keras\n",
      "\u001b[1m96/96\u001b[0m \u001b[32m━━━━━━━━━━━━━━━━━━━━\u001b[0m\u001b[37m\u001b[0m \u001b[1m0s\u001b[0m 4ms/step - loss: 0.0017 - val_loss: 0.0028\n",
      "Epoch 10/100\n",
      "\u001b[1m87/96\u001b[0m \u001b[32m━━━━━━━━━━━━━━━━━━\u001b[0m\u001b[37m━━\u001b[0m \u001b[1m0s\u001b[0m 3ms/step - loss: 0.0018\n",
      "Epoch 10: val_loss improved from 0.00275 to 0.00274, saving model to mymodel.keras\n",
      "\u001b[1m96/96\u001b[0m \u001b[32m━━━━━━━━━━━━━━━━━━━━\u001b[0m\u001b[37m\u001b[0m \u001b[1m0s\u001b[0m 4ms/step - loss: 0.0020 - val_loss: 0.0027\n",
      "Epoch 11/100\n",
      "\u001b[1m93/96\u001b[0m \u001b[32m━━━━━━━━━━━━━━━━━━━\u001b[0m\u001b[37m━\u001b[0m \u001b[1m0s\u001b[0m 3ms/step - loss: 0.0018\n",
      "Epoch 11: val_loss improved from 0.00274 to 0.00251, saving model to mymodel.keras\n",
      "\u001b[1m96/96\u001b[0m \u001b[32m━━━━━━━━━━━━━━━━━━━━\u001b[0m\u001b[37m\u001b[0m \u001b[1m1s\u001b[0m 5ms/step - loss: 0.0018 - val_loss: 0.0025\n",
      "Epoch 12/100\n",
      "\u001b[1m94/96\u001b[0m \u001b[32m━━━━━━━━━━━━━━━━━━━\u001b[0m\u001b[37m━\u001b[0m \u001b[1m0s\u001b[0m 3ms/step - loss: 0.0016\n",
      "Epoch 12: val_loss did not improve from 0.00251\n",
      "\u001b[1m96/96\u001b[0m \u001b[32m━━━━━━━━━━━━━━━━━━━━\u001b[0m\u001b[37m\u001b[0m \u001b[1m0s\u001b[0m 4ms/step - loss: 0.0016 - val_loss: 0.0026\n",
      "Epoch 13/100\n",
      "\u001b[1m92/96\u001b[0m \u001b[32m━━━━━━━━━━━━━━━━━━━\u001b[0m\u001b[37m━\u001b[0m \u001b[1m0s\u001b[0m 3ms/step - loss: 0.0019\n",
      "Epoch 13: val_loss did not improve from 0.00251\n",
      "\u001b[1m96/96\u001b[0m \u001b[32m━━━━━━━━━━━━━━━━━━━━\u001b[0m\u001b[37m\u001b[0m \u001b[1m0s\u001b[0m 4ms/step - loss: 0.0020 - val_loss: 0.0027\n",
      "Epoch 14/100\n",
      "\u001b[1m95/96\u001b[0m \u001b[32m━━━━━━━━━━━━━━━━━━━\u001b[0m\u001b[37m━\u001b[0m \u001b[1m0s\u001b[0m 3ms/step - loss: 0.0021\n",
      "Epoch 14: val_loss did not improve from 0.00251\n",
      "\u001b[1m96/96\u001b[0m \u001b[32m━━━━━━━━━━━━━━━━━━━━\u001b[0m\u001b[37m\u001b[0m \u001b[1m1s\u001b[0m 4ms/step - loss: 0.0021 - val_loss: 0.0027\n",
      "Epoch 15/100\n",
      "\u001b[1m91/96\u001b[0m \u001b[32m━━━━━━━━━━━━━━━━━━\u001b[0m\u001b[37m━━\u001b[0m \u001b[1m0s\u001b[0m 3ms/step - loss: 0.0019\n",
      "Epoch 15: val_loss improved from 0.00251 to 0.00239, saving model to mymodel.keras\n",
      "\u001b[1m96/96\u001b[0m \u001b[32m━━━━━━━━━━━━━━━━━━━━\u001b[0m\u001b[37m\u001b[0m \u001b[1m0s\u001b[0m 5ms/step - loss: 0.0021 - val_loss: 0.0024\n",
      "Epoch 16/100\n",
      "\u001b[1m93/96\u001b[0m \u001b[32m━━━━━━━━━━━━━━━━━━━\u001b[0m\u001b[37m━\u001b[0m \u001b[1m0s\u001b[0m 3ms/step - loss: 0.0018\n",
      "Epoch 16: val_loss improved from 0.00239 to 0.00232, saving model to mymodel.keras\n",
      "\u001b[1m96/96\u001b[0m \u001b[32m━━━━━━━━━━━━━━━━━━━━\u001b[0m\u001b[37m\u001b[0m \u001b[1m0s\u001b[0m 4ms/step - loss: 0.0019 - val_loss: 0.0023\n",
      "Epoch 17/100\n",
      "\u001b[1m86/96\u001b[0m \u001b[32m━━━━━━━━━━━━━━━━━\u001b[0m\u001b[37m━━━\u001b[0m \u001b[1m0s\u001b[0m 3ms/step - loss: 0.0016\n",
      "Epoch 17: val_loss did not improve from 0.00232\n",
      "\u001b[1m96/96\u001b[0m \u001b[32m━━━━━━━━━━━━━━━━━━━━\u001b[0m\u001b[37m\u001b[0m \u001b[1m0s\u001b[0m 4ms/step - loss: 0.0018 - val_loss: 0.0026\n",
      "Epoch 18/100\n",
      "\u001b[1m90/96\u001b[0m \u001b[32m━━━━━━━━━━━━━━━━━━\u001b[0m\u001b[37m━━\u001b[0m \u001b[1m0s\u001b[0m 3ms/step - loss: 0.0017\n",
      "Epoch 18: val_loss did not improve from 0.00232\n",
      "\u001b[1m96/96\u001b[0m \u001b[32m━━━━━━━━━━━━━━━━━━━━\u001b[0m\u001b[37m\u001b[0m \u001b[1m0s\u001b[0m 4ms/step - loss: 0.0019 - val_loss: 0.0026\n",
      "Epoch 19/100\n",
      "\u001b[1m87/96\u001b[0m \u001b[32m━━━━━━━━━━━━━━━━━━\u001b[0m\u001b[37m━━\u001b[0m \u001b[1m0s\u001b[0m 3ms/step - loss: 0.0016\n",
      "Epoch 19: val_loss did not improve from 0.00232\n",
      "\u001b[1m96/96\u001b[0m \u001b[32m━━━━━━━━━━━━━━━━━━━━\u001b[0m\u001b[37m\u001b[0m \u001b[1m0s\u001b[0m 4ms/step - loss: 0.0018 - val_loss: 0.0032\n",
      "Epoch 20/100\n",
      "\u001b[1m84/96\u001b[0m \u001b[32m━━━━━━━━━━━━━━━━━\u001b[0m\u001b[37m━━━\u001b[0m \u001b[1m0s\u001b[0m 3ms/step - loss: 0.0017\n",
      "Epoch 20: val_loss did not improve from 0.00232\n",
      "\u001b[1m96/96\u001b[0m \u001b[32m━━━━━━━━━━━━━━━━━━━━\u001b[0m\u001b[37m\u001b[0m \u001b[1m0s\u001b[0m 4ms/step - loss: 0.0020 - val_loss: 0.0038\n",
      "Epoch 21/100\n",
      "\u001b[1m83/96\u001b[0m \u001b[32m━━━━━━━━━━━━━━━━━\u001b[0m\u001b[37m━━━\u001b[0m \u001b[1m0s\u001b[0m 3ms/step - loss: 0.0016\n",
      "Epoch 21: val_loss did not improve from 0.00232\n",
      "\u001b[1m96/96\u001b[0m \u001b[32m━━━━━━━━━━━━━━━━━━━━\u001b[0m\u001b[37m\u001b[0m \u001b[1m0s\u001b[0m 4ms/step - loss: 0.0019 - val_loss: 0.0042\n",
      "Epoch 22/100\n",
      "\u001b[1m84/96\u001b[0m \u001b[32m━━━━━━━━━━━━━━━━━\u001b[0m\u001b[37m━━━\u001b[0m \u001b[1m0s\u001b[0m 4ms/step - loss: 0.0016\n",
      "Epoch 22: val_loss did not improve from 0.00232\n",
      "\u001b[1m96/96\u001b[0m \u001b[32m━━━━━━━━━━━━━━━━━━━━\u001b[0m\u001b[37m\u001b[0m \u001b[1m0s\u001b[0m 5ms/step - loss: 0.0019 - val_loss: 0.0048\n",
      "Epoch 23/100\n",
      "\u001b[1m90/96\u001b[0m \u001b[32m━━━━━━━━━━━━━━━━━━\u001b[0m\u001b[37m━━\u001b[0m \u001b[1m0s\u001b[0m 3ms/step - loss: 0.0018\n",
      "Epoch 23: val_loss did not improve from 0.00232\n",
      "\u001b[1m96/96\u001b[0m \u001b[32m━━━━━━━━━━━━━━━━━━━━\u001b[0m\u001b[37m\u001b[0m \u001b[1m0s\u001b[0m 4ms/step - loss: 0.0019 - val_loss: 0.0037\n",
      "Epoch 24/100\n",
      "\u001b[1m83/96\u001b[0m \u001b[32m━━━━━━━━━━━━━━━━━\u001b[0m\u001b[37m━━━\u001b[0m \u001b[1m0s\u001b[0m 3ms/step - loss: 0.0014\n",
      "Epoch 24: val_loss did not improve from 0.00232\n",
      "\u001b[1m96/96\u001b[0m \u001b[32m━━━━━━━━━━━━━━━━━━━━\u001b[0m\u001b[37m\u001b[0m \u001b[1m0s\u001b[0m 4ms/step - loss: 0.0017 - val_loss: 0.0039\n",
      "Epoch 25/100\n",
      "\u001b[1m87/96\u001b[0m \u001b[32m━━━━━━━━━━━━━━━━━━\u001b[0m\u001b[37m━━\u001b[0m \u001b[1m0s\u001b[0m 4ms/step - loss: 0.0014\n",
      "Epoch 25: val_loss did not improve from 0.00232\n",
      "\u001b[1m96/96\u001b[0m \u001b[32m━━━━━━━━━━━━━━━━━━━━\u001b[0m\u001b[37m\u001b[0m \u001b[1m0s\u001b[0m 5ms/step - loss: 0.0017 - val_loss: 0.0040\n",
      "Epoch 26/100\n",
      "\u001b[1m91/96\u001b[0m \u001b[32m━━━━━━━━━━━━━━━━━━\u001b[0m\u001b[37m━━\u001b[0m \u001b[1m0s\u001b[0m 3ms/step - loss: 0.0018\n",
      "Epoch 26: val_loss did not improve from 0.00232\n",
      "\u001b[1m96/96\u001b[0m \u001b[32m━━━━━━━━━━━━━━━━━━━━\u001b[0m\u001b[37m\u001b[0m \u001b[1m0s\u001b[0m 4ms/step - loss: 0.0020 - val_loss: 0.0090\n",
      "Epoch 26: early stopping\n"
     ]
    }
   ],
   "source": [
    "history = model.fit(x=X_train,\n",
    "                    y=y_train,\n",
    "                    epochs=100,\n",
    "                    batch_size=20,\n",
    "                    validation_data=(X_test, y_test),\n",
    "                    callbacks=[callbacks],\n",
    "                    shuffle=False)"
   ]
  },
  {
   "cell_type": "code",
   "execution_count": 43,
   "id": "846c8773",
   "metadata": {
    "execution": {
     "iopub.execute_input": "2024-10-22T06:30:09.200185Z",
     "iopub.status.busy": "2024-10-22T06:30:09.199692Z",
     "iopub.status.idle": "2024-10-22T06:30:09.597636Z",
     "shell.execute_reply": "2024-10-22T06:30:09.596169Z"
    },
    "id": "VzxR8n1yeGpV",
    "papermill": {
     "duration": 0.462789,
     "end_time": "2024-10-22T06:30:09.601137",
     "exception": false,
     "start_time": "2024-10-22T06:30:09.138348",
     "status": "completed"
    },
    "tags": []
   },
   "outputs": [
    {
     "data": {
      "image/png": "[encoded data removed]",
      "text/plain": [
       "<Figure size 2000x500 with 1 Axes>"
      ]
     },
     "metadata": {},
     "output_type": "display_data"
    }
   ],
   "source": [
    "plt.figure(figsize=(20,5))\n",
    "plt.subplot(1,2,1)\n",
    "plt.plot(history.history['loss'], label='Training Loss')\n",
    "plt.plot(history.history['val_loss'], label='Validation Loss')\n",
    "plt.legend(loc='upper right')\n",
    "plt.xlabel('Epoch', fontsize = 16)\n",
    "plt.ylabel('Loss', fontsize = 16)\n",
    "plt.ylim([0,max(plt.ylim())])\n",
    "plt.title('Training and Validation Loss', fontsize = 16)\n",
    "plt.show()"
   ]
  },
  {
   "cell_type": "markdown",
   "id": "dba39b49",
   "metadata": {
    "id": "XO0NGWQWerLU",
    "papermill": {
     "duration": 0.053148,
     "end_time": "2024-10-22T06:30:09.706464",
     "exception": false,
     "start_time": "2024-10-22T06:30:09.653316",
     "status": "completed"
    },
    "tags": []
   },
   "source": [
    "## Evaluation"
   ]
  },
  {
   "cell_type": "code",
   "execution_count": 44,
   "id": "7f6a8da9",
   "metadata": {
    "execution": {
     "iopub.execute_input": "2024-10-22T06:30:09.818158Z",
     "iopub.status.busy": "2024-10-22T06:30:09.817663Z",
     "iopub.status.idle": "2024-10-22T06:30:10.935680Z",
     "shell.execute_reply": "2024-10-22T06:30:10.933893Z"
    },
    "id": "hyeoNUjxetH-",
    "papermill": {
     "duration": 1.17901,
     "end_time": "2024-10-22T06:30:10.938575",
     "exception": false,
     "start_time": "2024-10-22T06:30:09.759565",
     "status": "completed"
    },
    "tags": []
   },
   "outputs": [
    {
     "name": "stdout",
     "output_type": "stream",
     "text": [
      "\u001b[1m463/463\u001b[0m \u001b[32m━━━━━━━━━━━━━━━━━━━━\u001b[0m\u001b[37m\u001b[0m \u001b[1m1s\u001b[0m 2ms/step - loss: 0.0104\n",
      "\n",
      "Test Loss: 0.9%\n"
     ]
    }
   ],
   "source": [
    "loss = model.evaluate(X_test, y_test, batch_size=1)\n",
    "print(\"\\nTest Loss: %.1f%%\" % (100.0 * loss))"
   ]
  },
  {
   "cell_type": "code",
   "execution_count": 45,
   "id": "4f3c4b6f",
   "metadata": {
    "execution": {
     "iopub.execute_input": "2024-10-22T06:30:11.047917Z",
     "iopub.status.busy": "2024-10-22T06:30:11.047461Z",
     "iopub.status.idle": "2024-10-22T06:30:11.705580Z",
     "shell.execute_reply": "2024-10-22T06:30:11.703960Z"
    },
    "id": "9e854j_NfFTV",
    "papermill": {
     "duration": 0.71638,
     "end_time": "2024-10-22T06:30:11.708958",
     "exception": false,
     "start_time": "2024-10-22T06:30:10.992578",
     "status": "completed"
    },
    "tags": []
   },
   "outputs": [
    {
     "name": "stdout",
     "output_type": "stream",
     "text": [
      "\u001b[1m60/60\u001b[0m \u001b[32m━━━━━━━━━━━━━━━━━━━━\u001b[0m\u001b[37m\u001b[0m \u001b[1m1s\u001b[0m 6ms/step\n"
     ]
    }
   ],
   "source": [
    "train_predict = model.predict(X_train)"
   ]
  },
  {
   "cell_type": "code",
   "execution_count": 46,
   "id": "8f11dafb",
   "metadata": {
    "execution": {
     "iopub.execute_input": "2024-10-22T06:30:11.817830Z",
     "iopub.status.busy": "2024-10-22T06:30:11.817296Z",
     "iopub.status.idle": "2024-10-22T06:30:11.952132Z",
     "shell.execute_reply": "2024-10-22T06:30:11.950473Z"
    },
    "id": "GZgJuMd-fqZW",
    "papermill": {
     "duration": 0.192641,
     "end_time": "2024-10-22T06:30:11.955325",
     "exception": false,
     "start_time": "2024-10-22T06:30:11.762684",
     "status": "completed"
    },
    "tags": []
   },
   "outputs": [
    {
     "name": "stdout",
     "output_type": "stream",
     "text": [
      "\u001b[1m15/15\u001b[0m \u001b[32m━━━━━━━━━━━━━━━━━━━━\u001b[0m\u001b[37m\u001b[0m \u001b[1m0s\u001b[0m 2ms/step \n"
     ]
    }
   ],
   "source": [
    "test_predict = model.predict(X_test)"
   ]
  },
  {
   "cell_type": "code",
   "execution_count": 47,
   "id": "3b0c18bf",
   "metadata": {
    "execution": {
     "iopub.execute_input": "2024-10-22T06:30:12.066643Z",
     "iopub.status.busy": "2024-10-22T06:30:12.066029Z",
     "iopub.status.idle": "2024-10-22T06:30:12.074961Z",
     "shell.execute_reply": "2024-10-22T06:30:12.072986Z"
    },
    "id": "FcH_8U3tfsGm",
    "papermill": {
     "duration": 0.070396,
     "end_time": "2024-10-22T06:30:12.078955",
     "exception": false,
     "start_time": "2024-10-22T06:30:12.008559",
     "status": "completed"
    },
    "tags": []
   },
   "outputs": [],
   "source": [
    "train_predict = scaler_train.inverse_transform(train_predict)\n",
    "test_predict = scaler_test.inverse_transform(test_predict)"
   ]
  },
  {
   "cell_type": "code",
   "execution_count": 48,
   "id": "adc7abcb",
   "metadata": {
    "execution": {
     "iopub.execute_input": "2024-10-22T06:30:12.206709Z",
     "iopub.status.busy": "2024-10-22T06:30:12.206257Z",
     "iopub.status.idle": "2024-10-22T06:30:12.212961Z",
     "shell.execute_reply": "2024-10-22T06:30:12.211520Z"
    },
    "id": "DsGDu-NKf912",
    "papermill": {
     "duration": 0.06729,
     "end_time": "2024-10-22T06:30:12.215718",
     "exception": false,
     "start_time": "2024-10-22T06:30:12.148428",
     "status": "completed"
    },
    "tags": []
   },
   "outputs": [],
   "source": [
    "y_train = scaler_train.inverse_transform(y_train)\n",
    "y_test = scaler_test.inverse_transform(y_test)"
   ]
  },
  {
   "cell_type": "code",
   "execution_count": 49,
   "id": "4d9aa130",
   "metadata": {
    "execution": {
     "iopub.execute_input": "2024-10-22T06:30:12.367434Z",
     "iopub.status.busy": "2024-10-22T06:30:12.366481Z",
     "iopub.status.idle": "2024-10-22T06:30:12.374305Z",
     "shell.execute_reply": "2024-10-22T06:30:12.372850Z"
    },
    "id": "ZLXqwAU7gGW2",
    "papermill": {
     "duration": 0.082917,
     "end_time": "2024-10-22T06:30:12.377537",
     "exception": false,
     "start_time": "2024-10-22T06:30:12.294620",
     "status": "completed"
    },
    "tags": []
   },
   "outputs": [],
   "source": [
    "train_rmse = np.sqrt(mean_squared_error(y_train, train_predict))"
   ]
  },
  {
   "cell_type": "code",
   "execution_count": 50,
   "id": "6ecd4389",
   "metadata": {
    "execution": {
     "iopub.execute_input": "2024-10-22T06:30:12.488854Z",
     "iopub.status.busy": "2024-10-22T06:30:12.488406Z",
     "iopub.status.idle": "2024-10-22T06:30:12.495288Z",
     "shell.execute_reply": "2024-10-22T06:30:12.493819Z"
    },
    "id": "76WbnJaIgJ4g",
    "papermill": {
     "duration": 0.065332,
     "end_time": "2024-10-22T06:30:12.497967",
     "exception": false,
     "start_time": "2024-10-22T06:30:12.432635",
     "status": "completed"
    },
    "tags": []
   },
   "outputs": [],
   "source": [
    "test_rmse = np.sqrt(mean_squared_error(y_test, test_predict))"
   ]
  },
  {
   "cell_type": "code",
   "execution_count": 51,
   "id": "212397ef",
   "metadata": {
    "execution": {
     "iopub.execute_input": "2024-10-22T06:30:12.604782Z",
     "iopub.status.busy": "2024-10-22T06:30:12.604304Z",
     "iopub.status.idle": "2024-10-22T06:30:12.611079Z",
     "shell.execute_reply": "2024-10-22T06:30:12.609704Z"
    },
    "id": "WcUBQBz7gMV2",
    "papermill": {
     "duration": 0.06311,
     "end_time": "2024-10-22T06:30:12.614107",
     "exception": false,
     "start_time": "2024-10-22T06:30:12.550997",
     "status": "completed"
    },
    "tags": []
   },
   "outputs": [
    {
     "name": "stdout",
     "output_type": "stream",
     "text": [
      "Train RMSE: 32.03178405761719\n",
      "Test RMSE: 56.95820999145508\n"
     ]
    }
   ],
   "source": [
    "print(f\"Train RMSE: {train_rmse}\")\n",
    "print(f\"Test RMSE: {test_rmse}\")"
   ]
  },
  {
   "cell_type": "code",
   "execution_count": 52,
   "id": "f2ef8936",
   "metadata": {
    "execution": {
     "iopub.execute_input": "2024-10-22T06:30:12.730215Z",
     "iopub.status.busy": "2024-10-22T06:30:12.729275Z",
     "iopub.status.idle": "2024-10-22T06:30:12.776782Z",
     "shell.execute_reply": "2024-10-22T06:30:12.774976Z"
    },
    "id": "t_llof9mgYz_",
    "papermill": {
     "duration": 0.111573,
     "end_time": "2024-10-22T06:30:12.781014",
     "exception": false,
     "start_time": "2024-10-22T06:30:12.669441",
     "status": "completed"
    },
    "tags": []
   },
   "outputs": [
    {
     "data": {
      "text/html": [
       "<div>\n",
       "<style scoped>\n",
       "    .dataframe tbody tr th:only-of-type {\n",
       "        vertical-align: middle;\n",
       "    }\n",
       "\n",
       "    .dataframe tbody tr th {\n",
       "        vertical-align: top;\n",
       "    }\n",
       "\n",
       "    .dataframe thead th {\n",
       "        text-align: right;\n",
       "    }\n",
       "</style>\n",
       "<table border=\"1\" class=\"dataframe\">\n",
       "  <thead>\n",
       "    <tr style=\"text-align: right;\">\n",
       "      <th></th>\n",
       "      <th>count</th>\n",
       "      <th>mean</th>\n",
       "      <th>min</th>\n",
       "      <th>25%</th>\n",
       "      <th>50%</th>\n",
       "      <th>75%</th>\n",
       "      <th>max</th>\n",
       "      <th>std</th>\n",
       "    </tr>\n",
       "  </thead>\n",
       "  <tbody>\n",
       "    <tr>\n",
       "      <th>Date</th>\n",
       "      <td>2416</td>\n",
       "      <td>2015-04-15 11:09:56.026490112</td>\n",
       "      <td>2010-06-29 00:00:00</td>\n",
       "      <td>2012-11-19 18:00:00</td>\n",
       "      <td>2015-04-16 12:00:00</td>\n",
       "      <td>2017-09-07 06:00:00</td>\n",
       "      <td>2020-02-03 00:00:00</td>\n",
       "      <td>NaN</td>\n",
       "    </tr>\n",
       "    <tr>\n",
       "      <th>Open</th>\n",
       "      <td>2416.0</td>\n",
       "      <td>186.271147</td>\n",
       "      <td>16.139999</td>\n",
       "      <td>34.342498</td>\n",
       "      <td>213.035004</td>\n",
       "      <td>266.450012</td>\n",
       "      <td>673.690002</td>\n",
       "      <td>118.740163</td>\n",
       "    </tr>\n",
       "    <tr>\n",
       "      <th>High</th>\n",
       "      <td>2416.0</td>\n",
       "      <td>189.578224</td>\n",
       "      <td>16.629999</td>\n",
       "      <td>34.897501</td>\n",
       "      <td>216.745002</td>\n",
       "      <td>270.927513</td>\n",
       "      <td>786.140015</td>\n",
       "      <td>120.892329</td>\n",
       "    </tr>\n",
       "    <tr>\n",
       "      <th>Low</th>\n",
       "      <td>2416.0</td>\n",
       "      <td>182.916639</td>\n",
       "      <td>14.98</td>\n",
       "      <td>33.587501</td>\n",
       "      <td>208.870002</td>\n",
       "      <td>262.102501</td>\n",
       "      <td>673.52002</td>\n",
       "      <td>116.857591</td>\n",
       "    </tr>\n",
       "    <tr>\n",
       "      <th>Close</th>\n",
       "      <td>2416.0</td>\n",
       "      <td>186.403651</td>\n",
       "      <td>15.8</td>\n",
       "      <td>34.400002</td>\n",
       "      <td>212.960007</td>\n",
       "      <td>266.774994</td>\n",
       "      <td>780.0</td>\n",
       "      <td>119.13602</td>\n",
       "    </tr>\n",
       "    <tr>\n",
       "      <th>Adj Close</th>\n",
       "      <td>2416.0</td>\n",
       "      <td>186.403651</td>\n",
       "      <td>15.8</td>\n",
       "      <td>34.400002</td>\n",
       "      <td>212.960007</td>\n",
       "      <td>266.774994</td>\n",
       "      <td>780.0</td>\n",
       "      <td>119.13602</td>\n",
       "    </tr>\n",
       "    <tr>\n",
       "      <th>Volume</th>\n",
       "      <td>2416.0</td>\n",
       "      <td>5572721.688742</td>\n",
       "      <td>118500.0</td>\n",
       "      <td>1899275.0</td>\n",
       "      <td>4578400.0</td>\n",
       "      <td>7361150.0</td>\n",
       "      <td>47065000.0</td>\n",
       "      <td>4987809.151888</td>\n",
       "    </tr>\n",
       "  </tbody>\n",
       "</table>\n",
       "</div>"
      ],
      "text/plain": [
       "            count                           mean                  min  \\\n",
       "Date         2416  2015-04-15 11:09:56.026490112  2010-06-29 00:00:00   \n",
       "Open       2416.0                     186.271147            16.139999   \n",
       "High       2416.0                     189.578224            16.629999   \n",
       "Low        2416.0                     182.916639                14.98   \n",
       "Close      2416.0                     186.403651                 15.8   \n",
       "Adj Close  2416.0                     186.403651                 15.8   \n",
       "Volume     2416.0                 5572721.688742             118500.0   \n",
       "\n",
       "                           25%                  50%                  75%  \\\n",
       "Date       2012-11-19 18:00:00  2015-04-16 12:00:00  2017-09-07 06:00:00   \n",
       "Open                 34.342498           213.035004           266.450012   \n",
       "High                 34.897501           216.745002           270.927513   \n",
       "Low                  33.587501           208.870002           262.102501   \n",
       "Close                34.400002           212.960007           266.774994   \n",
       "Adj Close            34.400002           212.960007           266.774994   \n",
       "Volume               1899275.0            4578400.0            7361150.0   \n",
       "\n",
       "                           max             std  \n",
       "Date       2020-02-03 00:00:00             NaN  \n",
       "Open                673.690002      118.740163  \n",
       "High                786.140015      120.892329  \n",
       "Low                  673.52002      116.857591  \n",
       "Close                    780.0       119.13602  \n",
       "Adj Close                780.0       119.13602  \n",
       "Volume              47065000.0  4987809.151888  "
      ]
     },
     "execution_count": 52,
     "metadata": {},
     "output_type": "execute_result"
    }
   ],
   "source": [
    "df.describe().T"
   ]
  },
  {
   "cell_type": "code",
   "execution_count": 53,
   "id": "f730e3f0",
   "metadata": {
    "execution": {
     "iopub.execute_input": "2024-10-22T06:30:12.898199Z",
     "iopub.status.busy": "2024-10-22T06:30:12.895809Z",
     "iopub.status.idle": "2024-10-22T06:30:12.913861Z",
     "shell.execute_reply": "2024-10-22T06:30:12.912135Z"
    },
    "id": "-PSGVpMzgz1O",
    "papermill": {
     "duration": 0.078788,
     "end_time": "2024-10-22T06:30:12.917888",
     "exception": false,
     "start_time": "2024-10-22T06:30:12.839100",
     "status": "completed"
    },
    "tags": []
   },
   "outputs": [
    {
     "data": {
      "text/html": [
       "<div>\n",
       "<style scoped>\n",
       "    .dataframe tbody tr th:only-of-type {\n",
       "        vertical-align: middle;\n",
       "    }\n",
       "\n",
       "    .dataframe tbody tr th {\n",
       "        vertical-align: top;\n",
       "    }\n",
       "\n",
       "    .dataframe thead th {\n",
       "        text-align: right;\n",
       "    }\n",
       "</style>\n",
       "<table border=\"1\" class=\"dataframe\">\n",
       "  <thead>\n",
       "    <tr style=\"text-align: right;\">\n",
       "      <th></th>\n",
       "      <th>Close</th>\n",
       "      <th>Predicted</th>\n",
       "    </tr>\n",
       "    <tr>\n",
       "      <th>Date</th>\n",
       "      <th></th>\n",
       "      <th></th>\n",
       "    </tr>\n",
       "  </thead>\n",
       "  <tbody>\n",
       "    <tr>\n",
       "      <th>2010-07-28</th>\n",
       "      <td>20.719999</td>\n",
       "      <td>41.267288</td>\n",
       "    </tr>\n",
       "    <tr>\n",
       "      <th>2010-07-29</th>\n",
       "      <td>20.350000</td>\n",
       "      <td>41.267288</td>\n",
       "    </tr>\n",
       "    <tr>\n",
       "      <th>2010-07-30</th>\n",
       "      <td>19.940001</td>\n",
       "      <td>41.267288</td>\n",
       "    </tr>\n",
       "    <tr>\n",
       "      <th>2010-08-02</th>\n",
       "      <td>20.920000</td>\n",
       "      <td>41.267288</td>\n",
       "    </tr>\n",
       "    <tr>\n",
       "      <th>2010-08-03</th>\n",
       "      <td>21.950001</td>\n",
       "      <td>41.267288</td>\n",
       "    </tr>\n",
       "  </tbody>\n",
       "</table>\n",
       "</div>"
      ],
      "text/plain": [
       "                Close  Predicted\n",
       "Date                            \n",
       "2010-07-28  20.719999  41.267288\n",
       "2010-07-29  20.350000  41.267288\n",
       "2010-07-30  19.940001  41.267288\n",
       "2010-08-02  20.920000  41.267288\n",
       "2010-08-03  21.950001  41.267288"
      ]
     },
     "execution_count": 53,
     "metadata": {},
     "output_type": "execute_result"
    }
   ],
   "source": [
    "train_prediction_df = result_df[lookback:position]\n",
    "train_prediction_df[\"Predicted\"] = train_predict\n",
    "train_prediction_df.head()"
   ]
  },
  {
   "cell_type": "code",
   "execution_count": 54,
   "id": "d90092f1",
   "metadata": {
    "execution": {
     "iopub.execute_input": "2024-10-22T06:30:13.043602Z",
     "iopub.status.busy": "2024-10-22T06:30:13.043064Z",
     "iopub.status.idle": "2024-10-22T06:30:13.062240Z",
     "shell.execute_reply": "2024-10-22T06:30:13.060391Z"
    },
    "id": "o7tRAXwOhMSA",
    "papermill": {
     "duration": 0.084478,
     "end_time": "2024-10-22T06:30:13.065456",
     "exception": false,
     "start_time": "2024-10-22T06:30:12.980978",
     "status": "completed"
    },
    "tags": []
   },
   "outputs": [
    {
     "data": {
      "text/html": [
       "<div>\n",
       "<style scoped>\n",
       "    .dataframe tbody tr th:only-of-type {\n",
       "        vertical-align: middle;\n",
       "    }\n",
       "\n",
       "    .dataframe tbody tr th {\n",
       "        vertical-align: top;\n",
       "    }\n",
       "\n",
       "    .dataframe thead th {\n",
       "        text-align: right;\n",
       "    }\n",
       "</style>\n",
       "<table border=\"1\" class=\"dataframe\">\n",
       "  <thead>\n",
       "    <tr style=\"text-align: right;\">\n",
       "      <th></th>\n",
       "      <th>Close</th>\n",
       "      <th>Predicted</th>\n",
       "    </tr>\n",
       "    <tr>\n",
       "      <th>Date</th>\n",
       "      <th></th>\n",
       "      <th></th>\n",
       "    </tr>\n",
       "  </thead>\n",
       "  <tbody>\n",
       "    <tr>\n",
       "      <th>2018-04-03</th>\n",
       "      <td>267.529999</td>\n",
       "      <td>354.927521</td>\n",
       "    </tr>\n",
       "    <tr>\n",
       "      <th>2018-04-04</th>\n",
       "      <td>286.940002</td>\n",
       "      <td>348.930176</td>\n",
       "    </tr>\n",
       "    <tr>\n",
       "      <th>2018-04-05</th>\n",
       "      <td>305.720001</td>\n",
       "      <td>345.715881</td>\n",
       "    </tr>\n",
       "    <tr>\n",
       "      <th>2018-04-06</th>\n",
       "      <td>299.299988</td>\n",
       "      <td>347.721680</td>\n",
       "    </tr>\n",
       "    <tr>\n",
       "      <th>2018-04-09</th>\n",
       "      <td>289.660004</td>\n",
       "      <td>348.355927</td>\n",
       "    </tr>\n",
       "  </tbody>\n",
       "</table>\n",
       "</div>"
      ],
      "text/plain": [
       "                 Close   Predicted\n",
       "Date                              \n",
       "2018-04-03  267.529999  354.927521\n",
       "2018-04-04  286.940002  348.930176\n",
       "2018-04-05  305.720001  345.715881\n",
       "2018-04-06  299.299988  347.721680\n",
       "2018-04-09  289.660004  348.355927"
      ]
     },
     "execution_count": 54,
     "metadata": {},
     "output_type": "execute_result"
    }
   ],
   "source": [
    "test_prediction_df = result_df[position+lookback:]\n",
    "test_prediction_df[\"Predicted\"] = test_predict\n",
    "test_prediction_df.head()"
   ]
  },
  {
   "cell_type": "code",
   "execution_count": 55,
   "id": "7fdee735",
   "metadata": {
    "execution": {
     "iopub.execute_input": "2024-10-22T06:30:13.184439Z",
     "iopub.status.busy": "2024-10-22T06:30:13.183922Z",
     "iopub.status.idle": "2024-10-22T06:30:13.780093Z",
     "shell.execute_reply": "2024-10-22T06:30:13.778101Z"
    },
    "id": "PJ_-znSchYO_",
    "papermill": {
     "duration": 0.660131,
     "end_time": "2024-10-22T06:30:13.783742",
     "exception": false,
     "start_time": "2024-10-22T06:30:13.123611",
     "status": "completed"
    },
    "tags": []
   },
   "outputs": [
    {
     "data": {
      "image/png": "[encoded data removed]",
      "text/plain": [
       "<Figure size 1400x500 with 1 Axes>"
      ]
     },
     "metadata": {},
     "output_type": "display_data"
    }
   ],
   "source": [
    "plt.figure(figsize=(14,5))\n",
    "plt.plot(result_df, label = \"Real Number of Passengers\")\n",
    "plt.plot(train_prediction_df[\"Predicted\"], color = 'blue', label = \"Train Predicted Number of Passengers\")\n",
    "plt.plot(test_prediction_df[\"Predicted\"],color = 'red', label = \"Test Predicted Number of Passengers\")\n",
    "plt.title(\"Number of Passengers Prediction\")\n",
    "plt.xlabel(\"Time\")\n",
    "plt.ylabel(\"Number of Passengers\")\n",
    "plt.legend()\n",
    "plt.show()"
   ]
  }
 ],
 "metadata": {
  "colab": {
   "provenance": []
  },
  "kaggle": {
   "accelerator": "none",
   "dataSources": [
    {
     "datasetId": 500872,
     "sourceId": 927894,
     "sourceType": "datasetVersion"
    }
   ],
   "dockerImageVersionId": 30761,
   "isGpuEnabled": false,
   "isInternetEnabled": true,
   "language": "python",
   "sourceType": "notebook"
  },
  "kernelspec": {
   "display_name": "Python 3",
   "language": "python",
   "name": "python3"
  },
  "language_info": {
   "codemirror_mode": {
    "name": "ipython",
    "version": 3
   },
   "file_extension": ".py",
   "mimetype": "text/x-python",
   "name": "python",
   "nbconvert_exporter": "python",
   "pygments_lexer": "ipython3",
   "version": "3.10.14"
  },
  "papermill": {
   "default_parameters": {},
   "duration": 49.691482,
   "end_time": "2024-10-22T06:30:15.876924",
   "environment_variables": {},
   "exception": null,
   "input_path": "__notebook__.ipynb",
   "output_path": "__notebook__.ipynb",
   "parameters": {},
   "start_time": "2024-10-22T06:29:26.185442",
   "version": "2.6.0"
  }
 },
 "nbformat": 4,
 "nbformat_minor": 5
}
