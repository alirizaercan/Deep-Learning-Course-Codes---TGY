{
 "cells": [
  {
   "cell_type": "markdown",
   "id": "7b2167b8",
   "metadata": {
    "id": "4unSJJjsT8BM",
    "papermill": {
     "duration": 0.013751,
     "end_time": "2024-10-25T07:00:33.786609",
     "exception": false,
     "start_time": "2024-10-25T07:00:33.772858",
     "status": "completed"
    },
    "tags": []
   },
   "source": [
    "# Tesla - Stock Price Prediction\n",
    "\n",
    "---\n",
    "\n"
   ]
  },
  {
   "cell_type": "markdown",
   "id": "402506c9",
   "metadata": {
    "id": "wkRLJL2XUAfT",
    "papermill": {
     "duration": 0.012571,
     "end_time": "2024-10-25T07:00:33.812125",
     "exception": false,
     "start_time": "2024-10-25T07:00:33.799554",
     "status": "completed"
    },
    "tags": []
   },
   "source": [
    "## Business Problem\n",
    "\n",
    "In this notebook, our purpose is to predict of tesla - stock price."
   ]
  },
  {
   "cell_type": "markdown",
   "id": "01901ddd",
   "metadata": {
    "id": "0uxjphZsUwjz",
    "papermill": {
     "duration": 0.012052,
     "end_time": "2024-10-25T07:00:33.836670",
     "exception": false,
     "start_time": "2024-10-25T07:00:33.824618",
     "status": "completed"
    },
    "tags": []
   },
   "source": [
    "## Data Understanding"
   ]
  },
  {
   "cell_type": "code",
   "execution_count": 1,
   "id": "de8219ee",
   "metadata": {
    "execution": {
     "iopub.execute_input": "2024-10-25T07:00:33.863700Z",
     "iopub.status.busy": "2024-10-25T07:00:33.863235Z",
     "iopub.status.idle": "2024-10-25T07:00:49.186309Z",
     "shell.execute_reply": "2024-10-25T07:00:49.185212Z"
    },
    "id": "40IR65rQUyWC",
    "outputId": "4562368d-970e-4fd6-b03e-be036efe4dcd",
    "papermill": {
     "duration": 15.339853,
     "end_time": "2024-10-25T07:00:49.189075",
     "exception": false,
     "start_time": "2024-10-25T07:00:33.849222",
     "status": "completed"
    },
    "tags": []
   },
   "outputs": [],
   "source": [
    "import numpy as np\n",
    "import pandas as pd\n",
    "import datetime as dt\n",
    "import tensorflow as tf\n",
    "import matplotlib.pyplot as plt\n",
    "\n",
    "from sklearn.preprocessing import MinMaxScaler\n",
    "from sklearn.metrics import mean_squared_error\n",
    "\n",
    "from tensorflow.keras.models import Sequential\n",
    "from tensorflow.keras.layers import Dense, LSTM, Dropout\n",
    "from tensorflow.keras.callbacks import ModelCheckpoint, EarlyStopping\n",
    "\n",
    "import warnings\n",
    "warnings.filterwarnings('ignore')\n",
    "\n",
    "import os\n",
    "os.environ['TF_CPP_MIN_LOG_LEVEL'] = '3'\n",
    "tf.compat.v1.logging.set_verbosity(tf.compat.v1.logging.ERROR)"
   ]
  },
  {
   "cell_type": "code",
   "execution_count": 2,
   "id": "d8afbd16",
   "metadata": {
    "execution": {
     "iopub.execute_input": "2024-10-25T07:00:49.217196Z",
     "iopub.status.busy": "2024-10-25T07:00:49.216557Z",
     "iopub.status.idle": "2024-10-25T07:00:49.309253Z",
     "shell.execute_reply": "2024-10-25T07:00:49.307893Z"
    },
    "id": "-be5_efvVpTV",
    "papermill": {
     "duration": 0.109895,
     "end_time": "2024-10-25T07:00:49.312266",
     "exception": false,
     "start_time": "2024-10-25T07:00:49.202371",
     "status": "completed"
    },
    "tags": []
   },
   "outputs": [
    {
     "data": {
      "text/html": [
       "<div>\n",
       "<style scoped>\n",
       "    .dataframe tbody tr th:only-of-type {\n",
       "        vertical-align: middle;\n",
       "    }\n",
       "\n",
       "    .dataframe tbody tr th {\n",
       "        vertical-align: top;\n",
       "    }\n",
       "\n",
       "    .dataframe thead th {\n",
       "        text-align: right;\n",
       "    }\n",
       "</style>\n",
       "<table border=\"1\" class=\"dataframe\">\n",
       "  <thead>\n",
       "    <tr style=\"text-align: right;\">\n",
       "      <th></th>\n",
       "      <th>Date</th>\n",
       "      <th>Open</th>\n",
       "      <th>High</th>\n",
       "      <th>Low</th>\n",
       "      <th>Close</th>\n",
       "      <th>Adj Close</th>\n",
       "      <th>Volume</th>\n",
       "    </tr>\n",
       "  </thead>\n",
       "  <tbody>\n",
       "    <tr>\n",
       "      <th>0</th>\n",
       "      <td>2010-06-29</td>\n",
       "      <td>19.000000</td>\n",
       "      <td>25.000000</td>\n",
       "      <td>17.540001</td>\n",
       "      <td>23.889999</td>\n",
       "      <td>23.889999</td>\n",
       "      <td>18766300</td>\n",
       "    </tr>\n",
       "    <tr>\n",
       "      <th>1</th>\n",
       "      <td>2010-06-30</td>\n",
       "      <td>25.790001</td>\n",
       "      <td>30.420000</td>\n",
       "      <td>23.299999</td>\n",
       "      <td>23.830000</td>\n",
       "      <td>23.830000</td>\n",
       "      <td>17187100</td>\n",
       "    </tr>\n",
       "    <tr>\n",
       "      <th>2</th>\n",
       "      <td>2010-07-01</td>\n",
       "      <td>25.000000</td>\n",
       "      <td>25.920000</td>\n",
       "      <td>20.270000</td>\n",
       "      <td>21.959999</td>\n",
       "      <td>21.959999</td>\n",
       "      <td>8218800</td>\n",
       "    </tr>\n",
       "    <tr>\n",
       "      <th>3</th>\n",
       "      <td>2010-07-02</td>\n",
       "      <td>23.000000</td>\n",
       "      <td>23.100000</td>\n",
       "      <td>18.709999</td>\n",
       "      <td>19.200001</td>\n",
       "      <td>19.200001</td>\n",
       "      <td>5139800</td>\n",
       "    </tr>\n",
       "    <tr>\n",
       "      <th>4</th>\n",
       "      <td>2010-07-06</td>\n",
       "      <td>20.000000</td>\n",
       "      <td>20.000000</td>\n",
       "      <td>15.830000</td>\n",
       "      <td>16.110001</td>\n",
       "      <td>16.110001</td>\n",
       "      <td>6866900</td>\n",
       "    </tr>\n",
       "    <tr>\n",
       "      <th>...</th>\n",
       "      <td>...</td>\n",
       "      <td>...</td>\n",
       "      <td>...</td>\n",
       "      <td>...</td>\n",
       "      <td>...</td>\n",
       "      <td>...</td>\n",
       "      <td>...</td>\n",
       "    </tr>\n",
       "    <tr>\n",
       "      <th>2411</th>\n",
       "      <td>2020-01-28</td>\n",
       "      <td>568.489990</td>\n",
       "      <td>576.809998</td>\n",
       "      <td>558.080017</td>\n",
       "      <td>566.900024</td>\n",
       "      <td>566.900024</td>\n",
       "      <td>11788500</td>\n",
       "    </tr>\n",
       "    <tr>\n",
       "      <th>2412</th>\n",
       "      <td>2020-01-29</td>\n",
       "      <td>575.690002</td>\n",
       "      <td>589.799988</td>\n",
       "      <td>567.429993</td>\n",
       "      <td>580.989990</td>\n",
       "      <td>580.989990</td>\n",
       "      <td>17801500</td>\n",
       "    </tr>\n",
       "    <tr>\n",
       "      <th>2413</th>\n",
       "      <td>2020-01-30</td>\n",
       "      <td>632.419983</td>\n",
       "      <td>650.880005</td>\n",
       "      <td>618.000000</td>\n",
       "      <td>640.809998</td>\n",
       "      <td>640.809998</td>\n",
       "      <td>29005700</td>\n",
       "    </tr>\n",
       "    <tr>\n",
       "      <th>2414</th>\n",
       "      <td>2020-01-31</td>\n",
       "      <td>640.000000</td>\n",
       "      <td>653.000000</td>\n",
       "      <td>632.520020</td>\n",
       "      <td>650.570007</td>\n",
       "      <td>650.570007</td>\n",
       "      <td>15719300</td>\n",
       "    </tr>\n",
       "    <tr>\n",
       "      <th>2415</th>\n",
       "      <td>2020-02-03</td>\n",
       "      <td>673.690002</td>\n",
       "      <td>786.140015</td>\n",
       "      <td>673.520020</td>\n",
       "      <td>780.000000</td>\n",
       "      <td>780.000000</td>\n",
       "      <td>47065000</td>\n",
       "    </tr>\n",
       "  </tbody>\n",
       "</table>\n",
       "<p>2416 rows × 7 columns</p>\n",
       "</div>"
      ],
      "text/plain": [
       "            Date        Open        High         Low       Close   Adj Close  \\\n",
       "0     2010-06-29   19.000000   25.000000   17.540001   23.889999   23.889999   \n",
       "1     2010-06-30   25.790001   30.420000   23.299999   23.830000   23.830000   \n",
       "2     2010-07-01   25.000000   25.920000   20.270000   21.959999   21.959999   \n",
       "3     2010-07-02   23.000000   23.100000   18.709999   19.200001   19.200001   \n",
       "4     2010-07-06   20.000000   20.000000   15.830000   16.110001   16.110001   \n",
       "...          ...         ...         ...         ...         ...         ...   \n",
       "2411  2020-01-28  568.489990  576.809998  558.080017  566.900024  566.900024   \n",
       "2412  2020-01-29  575.690002  589.799988  567.429993  580.989990  580.989990   \n",
       "2413  2020-01-30  632.419983  650.880005  618.000000  640.809998  640.809998   \n",
       "2414  2020-01-31  640.000000  653.000000  632.520020  650.570007  650.570007   \n",
       "2415  2020-02-03  673.690002  786.140015  673.520020  780.000000  780.000000   \n",
       "\n",
       "        Volume  \n",
       "0     18766300  \n",
       "1     17187100  \n",
       "2      8218800  \n",
       "3      5139800  \n",
       "4      6866900  \n",
       "...        ...  \n",
       "2411  11788500  \n",
       "2412  17801500  \n",
       "2413  29005700  \n",
       "2414  15719300  \n",
       "2415  47065000  \n",
       "\n",
       "[2416 rows x 7 columns]"
      ]
     },
     "execution_count": 2,
     "metadata": {},
     "output_type": "execute_result"
    }
   ],
   "source": [
    "df = pd.read_csv('/kaggle/input/tesla-stock-data-from-2010-to-2020/TSLA.csv')\n",
    "df"
   ]
  },
  {
   "cell_type": "code",
   "execution_count": 3,
   "id": "f47cbb4f",
   "metadata": {
    "execution": {
     "iopub.execute_input": "2024-10-25T07:00:49.341730Z",
     "iopub.status.busy": "2024-10-25T07:00:49.340888Z",
     "iopub.status.idle": "2024-10-25T07:00:49.354506Z",
     "shell.execute_reply": "2024-10-25T07:00:49.353471Z"
    },
    "id": "lG_AO3mdVv17",
    "papermill": {
     "duration": 0.030314,
     "end_time": "2024-10-25T07:00:49.357073",
     "exception": false,
     "start_time": "2024-10-25T07:00:49.326759",
     "status": "completed"
    },
    "tags": []
   },
   "outputs": [
    {
     "data": {
      "text/html": [
       "<div>\n",
       "<style scoped>\n",
       "    .dataframe tbody tr th:only-of-type {\n",
       "        vertical-align: middle;\n",
       "    }\n",
       "\n",
       "    .dataframe tbody tr th {\n",
       "        vertical-align: top;\n",
       "    }\n",
       "\n",
       "    .dataframe thead th {\n",
       "        text-align: right;\n",
       "    }\n",
       "</style>\n",
       "<table border=\"1\" class=\"dataframe\">\n",
       "  <thead>\n",
       "    <tr style=\"text-align: right;\">\n",
       "      <th></th>\n",
       "      <th>Date</th>\n",
       "      <th>Open</th>\n",
       "      <th>High</th>\n",
       "      <th>Low</th>\n",
       "      <th>Close</th>\n",
       "      <th>Adj Close</th>\n",
       "      <th>Volume</th>\n",
       "    </tr>\n",
       "  </thead>\n",
       "  <tbody>\n",
       "    <tr>\n",
       "      <th>0</th>\n",
       "      <td>2010-06-29</td>\n",
       "      <td>19.000000</td>\n",
       "      <td>25.00</td>\n",
       "      <td>17.540001</td>\n",
       "      <td>23.889999</td>\n",
       "      <td>23.889999</td>\n",
       "      <td>18766300</td>\n",
       "    </tr>\n",
       "    <tr>\n",
       "      <th>1</th>\n",
       "      <td>2010-06-30</td>\n",
       "      <td>25.790001</td>\n",
       "      <td>30.42</td>\n",
       "      <td>23.299999</td>\n",
       "      <td>23.830000</td>\n",
       "      <td>23.830000</td>\n",
       "      <td>17187100</td>\n",
       "    </tr>\n",
       "    <tr>\n",
       "      <th>2</th>\n",
       "      <td>2010-07-01</td>\n",
       "      <td>25.000000</td>\n",
       "      <td>25.92</td>\n",
       "      <td>20.270000</td>\n",
       "      <td>21.959999</td>\n",
       "      <td>21.959999</td>\n",
       "      <td>8218800</td>\n",
       "    </tr>\n",
       "    <tr>\n",
       "      <th>3</th>\n",
       "      <td>2010-07-02</td>\n",
       "      <td>23.000000</td>\n",
       "      <td>23.10</td>\n",
       "      <td>18.709999</td>\n",
       "      <td>19.200001</td>\n",
       "      <td>19.200001</td>\n",
       "      <td>5139800</td>\n",
       "    </tr>\n",
       "    <tr>\n",
       "      <th>4</th>\n",
       "      <td>2010-07-06</td>\n",
       "      <td>20.000000</td>\n",
       "      <td>20.00</td>\n",
       "      <td>15.830000</td>\n",
       "      <td>16.110001</td>\n",
       "      <td>16.110001</td>\n",
       "      <td>6866900</td>\n",
       "    </tr>\n",
       "  </tbody>\n",
       "</table>\n",
       "</div>"
      ],
      "text/plain": [
       "         Date       Open   High        Low      Close  Adj Close    Volume\n",
       "0  2010-06-29  19.000000  25.00  17.540001  23.889999  23.889999  18766300\n",
       "1  2010-06-30  25.790001  30.42  23.299999  23.830000  23.830000  17187100\n",
       "2  2010-07-01  25.000000  25.92  20.270000  21.959999  21.959999   8218800\n",
       "3  2010-07-02  23.000000  23.10  18.709999  19.200001  19.200001   5139800\n",
       "4  2010-07-06  20.000000  20.00  15.830000  16.110001  16.110001   6866900"
      ]
     },
     "execution_count": 3,
     "metadata": {},
     "output_type": "execute_result"
    }
   ],
   "source": [
    "df.head()"
   ]
  },
  {
   "cell_type": "code",
   "execution_count": 4,
   "id": "423a1ca2",
   "metadata": {
    "execution": {
     "iopub.execute_input": "2024-10-25T07:00:49.385654Z",
     "iopub.status.busy": "2024-10-25T07:00:49.385230Z",
     "iopub.status.idle": "2024-10-25T07:00:49.392177Z",
     "shell.execute_reply": "2024-10-25T07:00:49.391091Z"
    },
    "id": "TU5hlfyvVxY0",
    "papermill": {
     "duration": 0.023996,
     "end_time": "2024-10-25T07:00:49.394374",
     "exception": false,
     "start_time": "2024-10-25T07:00:49.370378",
     "status": "completed"
    },
    "tags": []
   },
   "outputs": [],
   "source": [
    "def check_df(dataframe, head=5):\n",
    "    print(\"##################### Shape #####################\")\n",
    "    print(dataframe.shape)\n",
    "    print(\"##################### Types #####################\")\n",
    "    print(dataframe.dtypes)\n",
    "    print(\"##################### Head #####################\")\n",
    "    print(dataframe.head(head))  # Fonksiyon çağrısına dikkat edin\n",
    "    print(\"##################### Tail #####################\")\n",
    "    print(dataframe.tail(head))\n",
    "    print(\"##################### NA #####################\")\n",
    "    print(dataframe.isnull().sum())\n",
    "    print(\"##################### Quantile #####################\")\n",
    "    print(dataframe.select_dtypes(include='number').quantile([0, 0.05, 0.5, 0.95, 0.99, 1]).T)\n"
   ]
  },
  {
   "cell_type": "code",
   "execution_count": 5,
   "id": "231b1e94",
   "metadata": {
    "execution": {
     "iopub.execute_input": "2024-10-25T07:00:49.422042Z",
     "iopub.status.busy": "2024-10-25T07:00:49.421648Z",
     "iopub.status.idle": "2024-10-25T07:00:49.443518Z",
     "shell.execute_reply": "2024-10-25T07:00:49.442453Z"
    },
    "id": "t6iFP965V4vk",
    "papermill": {
     "duration": 0.038606,
     "end_time": "2024-10-25T07:00:49.446117",
     "exception": false,
     "start_time": "2024-10-25T07:00:49.407511",
     "status": "completed"
    },
    "tags": []
   },
   "outputs": [
    {
     "name": "stdout",
     "output_type": "stream",
     "text": [
      "##################### Shape #####################\n",
      "(2416, 7)\n",
      "##################### Types #####################\n",
      "Date          object\n",
      "Open         float64\n",
      "High         float64\n",
      "Low          float64\n",
      "Close        float64\n",
      "Adj Close    float64\n",
      "Volume         int64\n",
      "dtype: object\n",
      "##################### Head #####################\n",
      "         Date       Open   High        Low      Close  Adj Close    Volume\n",
      "0  2010-06-29  19.000000  25.00  17.540001  23.889999  23.889999  18766300\n",
      "1  2010-06-30  25.790001  30.42  23.299999  23.830000  23.830000  17187100\n",
      "2  2010-07-01  25.000000  25.92  20.270000  21.959999  21.959999   8218800\n",
      "3  2010-07-02  23.000000  23.10  18.709999  19.200001  19.200001   5139800\n",
      "4  2010-07-06  20.000000  20.00  15.830000  16.110001  16.110001   6866900\n",
      "##################### Tail #####################\n",
      "            Date        Open        High         Low       Close   Adj Close  \\\n",
      "2411  2020-01-28  568.489990  576.809998  558.080017  566.900024  566.900024   \n",
      "2412  2020-01-29  575.690002  589.799988  567.429993  580.989990  580.989990   \n",
      "2413  2020-01-30  632.419983  650.880005  618.000000  640.809998  640.809998   \n",
      "2414  2020-01-31  640.000000  653.000000  632.520020  650.570007  650.570007   \n",
      "2415  2020-02-03  673.690002  786.140015  673.520020  780.000000  780.000000   \n",
      "\n",
      "        Volume  \n",
      "2411  11788500  \n",
      "2412  17801500  \n",
      "2413  29005700  \n",
      "2414  15719300  \n",
      "2415  47065000  \n",
      "##################### NA #####################\n",
      "Date         0\n",
      "Open         0\n",
      "High         0\n",
      "Low          0\n",
      "Close        0\n",
      "Adj Close    0\n",
      "Volume       0\n",
      "dtype: int64\n",
      "##################### Quantile #####################\n",
      "                    0.00           0.05          0.50          0.95  \\\n",
      "Open           16.139999      23.384999  2.130350e+02  3.519100e+02   \n",
      "High           16.629999      24.022501  2.167450e+02  3.567500e+02   \n",
      "Low            14.980000      22.867499  2.088700e+02  3.460250e+02   \n",
      "Close          15.800000      23.565000  2.129600e+02  3.511675e+02   \n",
      "Adj Close      15.800000      23.565000  2.129600e+02  3.511675e+02   \n",
      "Volume     118500.000000  633825.000000  4.578400e+06  1.476090e+07   \n",
      "\n",
      "                   0.99          1.00  \n",
      "Open       4.235790e+02  6.736900e+02  \n",
      "High       4.284705e+02  7.861400e+02  \n",
      "Low        4.122865e+02  6.735200e+02  \n",
      "Close      4.243455e+02  7.800000e+02  \n",
      "Adj Close  4.243455e+02  7.800000e+02  \n",
      "Volume     2.459959e+07  4.706500e+07  \n"
     ]
    }
   ],
   "source": [
    "check_df(df)"
   ]
  },
  {
   "cell_type": "markdown",
   "id": "af952d5c",
   "metadata": {
    "id": "v2n2ONcpWlQl",
    "papermill": {
     "duration": 0.012775,
     "end_time": "2024-10-25T07:00:49.472214",
     "exception": false,
     "start_time": "2024-10-25T07:00:49.459439",
     "status": "completed"
    },
    "tags": []
   },
   "source": [
    "## Data Preparation"
   ]
  },
  {
   "cell_type": "code",
   "execution_count": 6,
   "id": "d7891338",
   "metadata": {
    "execution": {
     "iopub.execute_input": "2024-10-25T07:00:49.500395Z",
     "iopub.status.busy": "2024-10-25T07:00:49.499639Z",
     "iopub.status.idle": "2024-10-25T07:00:49.510339Z",
     "shell.execute_reply": "2024-10-25T07:00:49.509204Z"
    },
    "id": "x-En8ormWAo8",
    "papermill": {
     "duration": 0.027186,
     "end_time": "2024-10-25T07:00:49.512457",
     "exception": false,
     "start_time": "2024-10-25T07:00:49.485271",
     "status": "completed"
    },
    "tags": []
   },
   "outputs": [],
   "source": [
    "df[\"Date\"] = pd.to_datetime(df[\"Date\"])"
   ]
  },
  {
   "cell_type": "code",
   "execution_count": 7,
   "id": "a2e84cd3",
   "metadata": {
    "execution": {
     "iopub.execute_input": "2024-10-25T07:00:49.540846Z",
     "iopub.status.busy": "2024-10-25T07:00:49.539989Z",
     "iopub.status.idle": "2024-10-25T07:00:49.555036Z",
     "shell.execute_reply": "2024-10-25T07:00:49.553979Z"
    },
    "id": "Wk3C4MPkWBUG",
    "papermill": {
     "duration": 0.031454,
     "end_time": "2024-10-25T07:00:49.557076",
     "exception": false,
     "start_time": "2024-10-25T07:00:49.525622",
     "status": "completed"
    },
    "tags": []
   },
   "outputs": [
    {
     "data": {
      "text/html": [
       "<div>\n",
       "<style scoped>\n",
       "    .dataframe tbody tr th:only-of-type {\n",
       "        vertical-align: middle;\n",
       "    }\n",
       "\n",
       "    .dataframe tbody tr th {\n",
       "        vertical-align: top;\n",
       "    }\n",
       "\n",
       "    .dataframe thead th {\n",
       "        text-align: right;\n",
       "    }\n",
       "</style>\n",
       "<table border=\"1\" class=\"dataframe\">\n",
       "  <thead>\n",
       "    <tr style=\"text-align: right;\">\n",
       "      <th></th>\n",
       "      <th>Date</th>\n",
       "      <th>Open</th>\n",
       "      <th>High</th>\n",
       "      <th>Low</th>\n",
       "      <th>Close</th>\n",
       "      <th>Adj Close</th>\n",
       "      <th>Volume</th>\n",
       "    </tr>\n",
       "  </thead>\n",
       "  <tbody>\n",
       "    <tr>\n",
       "      <th>0</th>\n",
       "      <td>2010-06-29</td>\n",
       "      <td>19.000000</td>\n",
       "      <td>25.00</td>\n",
       "      <td>17.540001</td>\n",
       "      <td>23.889999</td>\n",
       "      <td>23.889999</td>\n",
       "      <td>18766300</td>\n",
       "    </tr>\n",
       "    <tr>\n",
       "      <th>1</th>\n",
       "      <td>2010-06-30</td>\n",
       "      <td>25.790001</td>\n",
       "      <td>30.42</td>\n",
       "      <td>23.299999</td>\n",
       "      <td>23.830000</td>\n",
       "      <td>23.830000</td>\n",
       "      <td>17187100</td>\n",
       "    </tr>\n",
       "    <tr>\n",
       "      <th>2</th>\n",
       "      <td>2010-07-01</td>\n",
       "      <td>25.000000</td>\n",
       "      <td>25.92</td>\n",
       "      <td>20.270000</td>\n",
       "      <td>21.959999</td>\n",
       "      <td>21.959999</td>\n",
       "      <td>8218800</td>\n",
       "    </tr>\n",
       "    <tr>\n",
       "      <th>3</th>\n",
       "      <td>2010-07-02</td>\n",
       "      <td>23.000000</td>\n",
       "      <td>23.10</td>\n",
       "      <td>18.709999</td>\n",
       "      <td>19.200001</td>\n",
       "      <td>19.200001</td>\n",
       "      <td>5139800</td>\n",
       "    </tr>\n",
       "    <tr>\n",
       "      <th>4</th>\n",
       "      <td>2010-07-06</td>\n",
       "      <td>20.000000</td>\n",
       "      <td>20.00</td>\n",
       "      <td>15.830000</td>\n",
       "      <td>16.110001</td>\n",
       "      <td>16.110001</td>\n",
       "      <td>6866900</td>\n",
       "    </tr>\n",
       "  </tbody>\n",
       "</table>\n",
       "</div>"
      ],
      "text/plain": [
       "        Date       Open   High        Low      Close  Adj Close    Volume\n",
       "0 2010-06-29  19.000000  25.00  17.540001  23.889999  23.889999  18766300\n",
       "1 2010-06-30  25.790001  30.42  23.299999  23.830000  23.830000  17187100\n",
       "2 2010-07-01  25.000000  25.92  20.270000  21.959999  21.959999   8218800\n",
       "3 2010-07-02  23.000000  23.10  18.709999  19.200001  19.200001   5139800\n",
       "4 2010-07-06  20.000000  20.00  15.830000  16.110001  16.110001   6866900"
      ]
     },
     "execution_count": 7,
     "metadata": {},
     "output_type": "execute_result"
    }
   ],
   "source": [
    "df.head()"
   ]
  },
  {
   "cell_type": "code",
   "execution_count": 8,
   "id": "8753b228",
   "metadata": {
    "execution": {
     "iopub.execute_input": "2024-10-25T07:00:49.585812Z",
     "iopub.status.busy": "2024-10-25T07:00:49.584875Z",
     "iopub.status.idle": "2024-10-25T07:00:49.590775Z",
     "shell.execute_reply": "2024-10-25T07:00:49.589776Z"
    },
    "id": "ZOVzSrk1WCHu",
    "papermill": {
     "duration": 0.022595,
     "end_time": "2024-10-25T07:00:49.592874",
     "exception": false,
     "start_time": "2024-10-25T07:00:49.570279",
     "status": "completed"
    },
    "tags": []
   },
   "outputs": [],
   "source": [
    "tesla_df = df[[\"Date\", \"Close\"]]"
   ]
  },
  {
   "cell_type": "code",
   "execution_count": 9,
   "id": "c872a56f",
   "metadata": {
    "execution": {
     "iopub.execute_input": "2024-10-25T07:00:49.621176Z",
     "iopub.status.busy": "2024-10-25T07:00:49.620693Z",
     "iopub.status.idle": "2024-10-25T07:00:49.631413Z",
     "shell.execute_reply": "2024-10-25T07:00:49.630346Z"
    },
    "id": "Tli5FuMBWF8l",
    "papermill": {
     "duration": 0.027553,
     "end_time": "2024-10-25T07:00:49.633720",
     "exception": false,
     "start_time": "2024-10-25T07:00:49.606167",
     "status": "completed"
    },
    "tags": []
   },
   "outputs": [
    {
     "data": {
      "text/html": [
       "<div>\n",
       "<style scoped>\n",
       "    .dataframe tbody tr th:only-of-type {\n",
       "        vertical-align: middle;\n",
       "    }\n",
       "\n",
       "    .dataframe tbody tr th {\n",
       "        vertical-align: top;\n",
       "    }\n",
       "\n",
       "    .dataframe thead th {\n",
       "        text-align: right;\n",
       "    }\n",
       "</style>\n",
       "<table border=\"1\" class=\"dataframe\">\n",
       "  <thead>\n",
       "    <tr style=\"text-align: right;\">\n",
       "      <th></th>\n",
       "      <th>Date</th>\n",
       "      <th>Close</th>\n",
       "    </tr>\n",
       "  </thead>\n",
       "  <tbody>\n",
       "    <tr>\n",
       "      <th>0</th>\n",
       "      <td>2010-06-29</td>\n",
       "      <td>23.889999</td>\n",
       "    </tr>\n",
       "    <tr>\n",
       "      <th>1</th>\n",
       "      <td>2010-06-30</td>\n",
       "      <td>23.830000</td>\n",
       "    </tr>\n",
       "    <tr>\n",
       "      <th>2</th>\n",
       "      <td>2010-07-01</td>\n",
       "      <td>21.959999</td>\n",
       "    </tr>\n",
       "    <tr>\n",
       "      <th>3</th>\n",
       "      <td>2010-07-02</td>\n",
       "      <td>19.200001</td>\n",
       "    </tr>\n",
       "    <tr>\n",
       "      <th>4</th>\n",
       "      <td>2010-07-06</td>\n",
       "      <td>16.110001</td>\n",
       "    </tr>\n",
       "  </tbody>\n",
       "</table>\n",
       "</div>"
      ],
      "text/plain": [
       "        Date      Close\n",
       "0 2010-06-29  23.889999\n",
       "1 2010-06-30  23.830000\n",
       "2 2010-07-01  21.959999\n",
       "3 2010-07-02  19.200001\n",
       "4 2010-07-06  16.110001"
      ]
     },
     "execution_count": 9,
     "metadata": {},
     "output_type": "execute_result"
    }
   ],
   "source": [
    "tesla_df.head()"
   ]
  },
  {
   "cell_type": "code",
   "execution_count": 10,
   "id": "98e8eea8",
   "metadata": {
    "execution": {
     "iopub.execute_input": "2024-10-25T07:00:49.663201Z",
     "iopub.status.busy": "2024-10-25T07:00:49.662807Z",
     "iopub.status.idle": "2024-10-25T07:00:49.669489Z",
     "shell.execute_reply": "2024-10-25T07:00:49.668354Z"
    },
    "id": "Gsw5OQCAWLzn",
    "papermill": {
     "duration": 0.02418,
     "end_time": "2024-10-25T07:00:49.672155",
     "exception": false,
     "start_time": "2024-10-25T07:00:49.647975",
     "status": "completed"
    },
    "tags": []
   },
   "outputs": [
    {
     "name": "stdout",
     "output_type": "stream",
     "text": [
      "Min Date:  2010-06-29 00:00:00\n",
      "Max Date:  2020-02-03 00:00:00\n"
     ]
    }
   ],
   "source": [
    "print(\"Min Date: \", tesla_df[\"Date\"].min())\n",
    "print(\"Max Date: \", tesla_df[\"Date\"].max())"
   ]
  },
  {
   "cell_type": "code",
   "execution_count": 11,
   "id": "4c2a9d15",
   "metadata": {
    "execution": {
     "iopub.execute_input": "2024-10-25T07:00:49.701515Z",
     "iopub.status.busy": "2024-10-25T07:00:49.700699Z",
     "iopub.status.idle": "2024-10-25T07:00:49.705977Z",
     "shell.execute_reply": "2024-10-25T07:00:49.704808Z"
    },
    "id": "JGi8P08mWQO1",
    "papermill": {
     "duration": 0.022271,
     "end_time": "2024-10-25T07:00:49.708096",
     "exception": false,
     "start_time": "2024-10-25T07:00:49.685825",
     "status": "completed"
    },
    "tags": []
   },
   "outputs": [],
   "source": [
    "tesla_df.index = tesla_df[\"Date\"]"
   ]
  },
  {
   "cell_type": "code",
   "execution_count": 12,
   "id": "b9bc80e0",
   "metadata": {
    "execution": {
     "iopub.execute_input": "2024-10-25T07:00:49.737464Z",
     "iopub.status.busy": "2024-10-25T07:00:49.736462Z",
     "iopub.status.idle": "2024-10-25T07:00:49.748450Z",
     "shell.execute_reply": "2024-10-25T07:00:49.747470Z"
    },
    "id": "YBWxX2IOWoL_",
    "papermill": {
     "duration": 0.028744,
     "end_time": "2024-10-25T07:00:49.750553",
     "exception": false,
     "start_time": "2024-10-25T07:00:49.721809",
     "status": "completed"
    },
    "tags": []
   },
   "outputs": [
    {
     "data": {
      "text/html": [
       "<div>\n",
       "<style scoped>\n",
       "    .dataframe tbody tr th:only-of-type {\n",
       "        vertical-align: middle;\n",
       "    }\n",
       "\n",
       "    .dataframe tbody tr th {\n",
       "        vertical-align: top;\n",
       "    }\n",
       "\n",
       "    .dataframe thead th {\n",
       "        text-align: right;\n",
       "    }\n",
       "</style>\n",
       "<table border=\"1\" class=\"dataframe\">\n",
       "  <thead>\n",
       "    <tr style=\"text-align: right;\">\n",
       "      <th></th>\n",
       "      <th>Date</th>\n",
       "      <th>Close</th>\n",
       "    </tr>\n",
       "    <tr>\n",
       "      <th>Date</th>\n",
       "      <th></th>\n",
       "      <th></th>\n",
       "    </tr>\n",
       "  </thead>\n",
       "  <tbody>\n",
       "    <tr>\n",
       "      <th>2010-06-29</th>\n",
       "      <td>2010-06-29</td>\n",
       "      <td>23.889999</td>\n",
       "    </tr>\n",
       "    <tr>\n",
       "      <th>2010-06-30</th>\n",
       "      <td>2010-06-30</td>\n",
       "      <td>23.830000</td>\n",
       "    </tr>\n",
       "    <tr>\n",
       "      <th>2010-07-01</th>\n",
       "      <td>2010-07-01</td>\n",
       "      <td>21.959999</td>\n",
       "    </tr>\n",
       "    <tr>\n",
       "      <th>2010-07-02</th>\n",
       "      <td>2010-07-02</td>\n",
       "      <td>19.200001</td>\n",
       "    </tr>\n",
       "    <tr>\n",
       "      <th>2010-07-06</th>\n",
       "      <td>2010-07-06</td>\n",
       "      <td>16.110001</td>\n",
       "    </tr>\n",
       "    <tr>\n",
       "      <th>...</th>\n",
       "      <td>...</td>\n",
       "      <td>...</td>\n",
       "    </tr>\n",
       "    <tr>\n",
       "      <th>2020-01-28</th>\n",
       "      <td>2020-01-28</td>\n",
       "      <td>566.900024</td>\n",
       "    </tr>\n",
       "    <tr>\n",
       "      <th>2020-01-29</th>\n",
       "      <td>2020-01-29</td>\n",
       "      <td>580.989990</td>\n",
       "    </tr>\n",
       "    <tr>\n",
       "      <th>2020-01-30</th>\n",
       "      <td>2020-01-30</td>\n",
       "      <td>640.809998</td>\n",
       "    </tr>\n",
       "    <tr>\n",
       "      <th>2020-01-31</th>\n",
       "      <td>2020-01-31</td>\n",
       "      <td>650.570007</td>\n",
       "    </tr>\n",
       "    <tr>\n",
       "      <th>2020-02-03</th>\n",
       "      <td>2020-02-03</td>\n",
       "      <td>780.000000</td>\n",
       "    </tr>\n",
       "  </tbody>\n",
       "</table>\n",
       "<p>2416 rows × 2 columns</p>\n",
       "</div>"
      ],
      "text/plain": [
       "                 Date       Close\n",
       "Date                             \n",
       "2010-06-29 2010-06-29   23.889999\n",
       "2010-06-30 2010-06-30   23.830000\n",
       "2010-07-01 2010-07-01   21.959999\n",
       "2010-07-02 2010-07-02   19.200001\n",
       "2010-07-06 2010-07-06   16.110001\n",
       "...               ...         ...\n",
       "2020-01-28 2020-01-28  566.900024\n",
       "2020-01-29 2020-01-29  580.989990\n",
       "2020-01-30 2020-01-30  640.809998\n",
       "2020-01-31 2020-01-31  650.570007\n",
       "2020-02-03 2020-02-03  780.000000\n",
       "\n",
       "[2416 rows x 2 columns]"
      ]
     },
     "execution_count": 12,
     "metadata": {},
     "output_type": "execute_result"
    }
   ],
   "source": [
    "tesla_df"
   ]
  },
  {
   "cell_type": "code",
   "execution_count": 13,
   "id": "f6b6fca1",
   "metadata": {
    "execution": {
     "iopub.execute_input": "2024-10-25T07:00:49.780470Z",
     "iopub.status.busy": "2024-10-25T07:00:49.779587Z",
     "iopub.status.idle": "2024-10-25T07:00:49.785819Z",
     "shell.execute_reply": "2024-10-25T07:00:49.784621Z"
    },
    "id": "tgPM31WBWvcH",
    "papermill": {
     "duration": 0.023487,
     "end_time": "2024-10-25T07:00:49.788027",
     "exception": false,
     "start_time": "2024-10-25T07:00:49.764540",
     "status": "completed"
    },
    "tags": []
   },
   "outputs": [],
   "source": [
    "tesla_df.drop(\"Date\", axis=1, inplace=True)"
   ]
  },
  {
   "cell_type": "code",
   "execution_count": 14,
   "id": "9924ba0e",
   "metadata": {
    "execution": {
     "iopub.execute_input": "2024-10-25T07:00:49.819351Z",
     "iopub.status.busy": "2024-10-25T07:00:49.818911Z",
     "iopub.status.idle": "2024-10-25T07:00:49.830153Z",
     "shell.execute_reply": "2024-10-25T07:00:49.828948Z"
    },
    "id": "17KdnKMGWwSm",
    "papermill": {
     "duration": 0.030245,
     "end_time": "2024-10-25T07:00:49.832243",
     "exception": false,
     "start_time": "2024-10-25T07:00:49.801998",
     "status": "completed"
    },
    "tags": []
   },
   "outputs": [
    {
     "data": {
      "text/html": [
       "<div>\n",
       "<style scoped>\n",
       "    .dataframe tbody tr th:only-of-type {\n",
       "        vertical-align: middle;\n",
       "    }\n",
       "\n",
       "    .dataframe tbody tr th {\n",
       "        vertical-align: top;\n",
       "    }\n",
       "\n",
       "    .dataframe thead th {\n",
       "        text-align: right;\n",
       "    }\n",
       "</style>\n",
       "<table border=\"1\" class=\"dataframe\">\n",
       "  <thead>\n",
       "    <tr style=\"text-align: right;\">\n",
       "      <th></th>\n",
       "      <th>Close</th>\n",
       "    </tr>\n",
       "    <tr>\n",
       "      <th>Date</th>\n",
       "      <th></th>\n",
       "    </tr>\n",
       "  </thead>\n",
       "  <tbody>\n",
       "    <tr>\n",
       "      <th>2010-06-29</th>\n",
       "      <td>23.889999</td>\n",
       "    </tr>\n",
       "    <tr>\n",
       "      <th>2010-06-30</th>\n",
       "      <td>23.830000</td>\n",
       "    </tr>\n",
       "    <tr>\n",
       "      <th>2010-07-01</th>\n",
       "      <td>21.959999</td>\n",
       "    </tr>\n",
       "    <tr>\n",
       "      <th>2010-07-02</th>\n",
       "      <td>19.200001</td>\n",
       "    </tr>\n",
       "    <tr>\n",
       "      <th>2010-07-06</th>\n",
       "      <td>16.110001</td>\n",
       "    </tr>\n",
       "    <tr>\n",
       "      <th>...</th>\n",
       "      <td>...</td>\n",
       "    </tr>\n",
       "    <tr>\n",
       "      <th>2020-01-28</th>\n",
       "      <td>566.900024</td>\n",
       "    </tr>\n",
       "    <tr>\n",
       "      <th>2020-01-29</th>\n",
       "      <td>580.989990</td>\n",
       "    </tr>\n",
       "    <tr>\n",
       "      <th>2020-01-30</th>\n",
       "      <td>640.809998</td>\n",
       "    </tr>\n",
       "    <tr>\n",
       "      <th>2020-01-31</th>\n",
       "      <td>650.570007</td>\n",
       "    </tr>\n",
       "    <tr>\n",
       "      <th>2020-02-03</th>\n",
       "      <td>780.000000</td>\n",
       "    </tr>\n",
       "  </tbody>\n",
       "</table>\n",
       "<p>2416 rows × 1 columns</p>\n",
       "</div>"
      ],
      "text/plain": [
       "                 Close\n",
       "Date                  \n",
       "2010-06-29   23.889999\n",
       "2010-06-30   23.830000\n",
       "2010-07-01   21.959999\n",
       "2010-07-02   19.200001\n",
       "2010-07-06   16.110001\n",
       "...                ...\n",
       "2020-01-28  566.900024\n",
       "2020-01-29  580.989990\n",
       "2020-01-30  640.809998\n",
       "2020-01-31  650.570007\n",
       "2020-02-03  780.000000\n",
       "\n",
       "[2416 rows x 1 columns]"
      ]
     },
     "execution_count": 14,
     "metadata": {},
     "output_type": "execute_result"
    }
   ],
   "source": [
    "tesla_df"
   ]
  },
  {
   "cell_type": "code",
   "execution_count": 15,
   "id": "d68f663b",
   "metadata": {
    "execution": {
     "iopub.execute_input": "2024-10-25T07:00:49.862273Z",
     "iopub.status.busy": "2024-10-25T07:00:49.861878Z",
     "iopub.status.idle": "2024-10-25T07:00:49.866892Z",
     "shell.execute_reply": "2024-10-25T07:00:49.865821Z"
    },
    "id": "PliZ5OcsWxsF",
    "papermill": {
     "duration": 0.022521,
     "end_time": "2024-10-25T07:00:49.869169",
     "exception": false,
     "start_time": "2024-10-25T07:00:49.846648",
     "status": "completed"
    },
    "tags": []
   },
   "outputs": [],
   "source": [
    "result_df = tesla_df.copy()"
   ]
  },
  {
   "cell_type": "code",
   "execution_count": 16,
   "id": "88c7d847",
   "metadata": {
    "execution": {
     "iopub.execute_input": "2024-10-25T07:00:49.899706Z",
     "iopub.status.busy": "2024-10-25T07:00:49.898707Z",
     "iopub.status.idle": "2024-10-25T07:00:50.302850Z",
     "shell.execute_reply": "2024-10-25T07:00:50.301669Z"
    },
    "id": "ObqHX6K2W0te",
    "papermill": {
     "duration": 0.421574,
     "end_time": "2024-10-25T07:00:50.304983",
     "exception": false,
     "start_time": "2024-10-25T07:00:49.883409",
     "status": "completed"
    },
    "tags": []
   },
   "outputs": [
    {
     "data": {
      "image/png": "[encoded data removed]",
      "text/plain": [
       "<Figure size 1400x500 with 1 Axes>"
      ]
     },
     "metadata": {},
     "output_type": "display_data"
    }
   ],
   "source": [
    "plt.figure(figsize=(14,5))\n",
    "plt.plot(tesla_df['Close'], color='blue')\n",
    "plt.title(\"Tesla Stock Price\")\n",
    "plt.xlabel(\"Time\")\n",
    "plt.ylabel(\"Stock Price\")\n",
    "plt.show()"
   ]
  },
  {
   "cell_type": "code",
   "execution_count": 17,
   "id": "7967d62b",
   "metadata": {
    "execution": {
     "iopub.execute_input": "2024-10-25T07:00:50.337714Z",
     "iopub.status.busy": "2024-10-25T07:00:50.336725Z",
     "iopub.status.idle": "2024-10-25T07:00:50.341641Z",
     "shell.execute_reply": "2024-10-25T07:00:50.340644Z"
    },
    "id": "5LWFDWjNW2z2",
    "papermill": {
     "duration": 0.023183,
     "end_time": "2024-10-25T07:00:50.343846",
     "exception": false,
     "start_time": "2024-10-25T07:00:50.320663",
     "status": "completed"
    },
    "tags": []
   },
   "outputs": [],
   "source": [
    "tesla_df = tesla_df.values"
   ]
  },
  {
   "cell_type": "code",
   "execution_count": 18,
   "id": "9a10afa7",
   "metadata": {
    "execution": {
     "iopub.execute_input": "2024-10-25T07:00:50.376177Z",
     "iopub.status.busy": "2024-10-25T07:00:50.375391Z",
     "iopub.status.idle": "2024-10-25T07:00:50.382424Z",
     "shell.execute_reply": "2024-10-25T07:00:50.381353Z"
    },
    "id": "jxFZkTS-W9Mm",
    "papermill": {
     "duration": 0.025705,
     "end_time": "2024-10-25T07:00:50.384575",
     "exception": false,
     "start_time": "2024-10-25T07:00:50.358870",
     "status": "completed"
    },
    "tags": []
   },
   "outputs": [
    {
     "data": {
      "text/plain": [
       "array([[23.889999],\n",
       "       [23.83    ],\n",
       "       [21.959999],\n",
       "       [19.200001],\n",
       "       [16.110001]])"
      ]
     },
     "execution_count": 18,
     "metadata": {},
     "output_type": "execute_result"
    }
   ],
   "source": [
    "tesla_df[0:5]"
   ]
  },
  {
   "cell_type": "code",
   "execution_count": 19,
   "id": "82fa6102",
   "metadata": {
    "execution": {
     "iopub.execute_input": "2024-10-25T07:00:50.417042Z",
     "iopub.status.busy": "2024-10-25T07:00:50.416598Z",
     "iopub.status.idle": "2024-10-25T07:00:50.421738Z",
     "shell.execute_reply": "2024-10-25T07:00:50.420497Z"
    },
    "id": "iU7KJlc4XAb2",
    "papermill": {
     "duration": 0.024322,
     "end_time": "2024-10-25T07:00:50.424076",
     "exception": false,
     "start_time": "2024-10-25T07:00:50.399754",
     "status": "completed"
    },
    "tags": []
   },
   "outputs": [],
   "source": [
    "tesla_df = tesla_df.astype(\"float32\")"
   ]
  },
  {
   "cell_type": "code",
   "execution_count": 20,
   "id": "802e141b",
   "metadata": {
    "execution": {
     "iopub.execute_input": "2024-10-25T07:00:50.456505Z",
     "iopub.status.busy": "2024-10-25T07:00:50.456075Z",
     "iopub.status.idle": "2024-10-25T07:00:50.461970Z",
     "shell.execute_reply": "2024-10-25T07:00:50.460875Z"
    },
    "id": "r7Cywk9oXBI-",
    "papermill": {
     "duration": 0.024667,
     "end_time": "2024-10-25T07:00:50.464141",
     "exception": false,
     "start_time": "2024-10-25T07:00:50.439474",
     "status": "completed"
    },
    "tags": []
   },
   "outputs": [],
   "source": [
    "def split_data(dataframe, test_size):\n",
    "  position = int(round(len(dataframe) * (1 - test_size)))\n",
    "  train = dataframe[:position]\n",
    "  test = dataframe[position:]\n",
    "  return train, test, position"
   ]
  },
  {
   "cell_type": "code",
   "execution_count": 21,
   "id": "b689f23d",
   "metadata": {
    "execution": {
     "iopub.execute_input": "2024-10-25T07:00:50.497075Z",
     "iopub.status.busy": "2024-10-25T07:00:50.495964Z",
     "iopub.status.idle": "2024-10-25T07:00:50.501221Z",
     "shell.execute_reply": "2024-10-25T07:00:50.500177Z"
    },
    "id": "COxqfz0SZvV_",
    "papermill": {
     "duration": 0.023978,
     "end_time": "2024-10-25T07:00:50.503497",
     "exception": false,
     "start_time": "2024-10-25T07:00:50.479519",
     "status": "completed"
    },
    "tags": []
   },
   "outputs": [],
   "source": [
    "train, test, position = split_data(tesla_df, 0.20)"
   ]
  },
  {
   "cell_type": "code",
   "execution_count": 22,
   "id": "497228ec",
   "metadata": {
    "execution": {
     "iopub.execute_input": "2024-10-25T07:00:50.536620Z",
     "iopub.status.busy": "2024-10-25T07:00:50.535609Z",
     "iopub.status.idle": "2024-10-25T07:00:50.541240Z",
     "shell.execute_reply": "2024-10-25T07:00:50.540127Z"
    },
    "id": "jESwxnt2Z1t5",
    "papermill": {
     "duration": 0.024667,
     "end_time": "2024-10-25T07:00:50.543711",
     "exception": false,
     "start_time": "2024-10-25T07:00:50.519044",
     "status": "completed"
    },
    "tags": []
   },
   "outputs": [
    {
     "name": "stdout",
     "output_type": "stream",
     "text": [
      "(1933, 1) (483, 1)\n"
     ]
    }
   ],
   "source": [
    "print(train.shape, test.shape)"
   ]
  },
  {
   "cell_type": "code",
   "execution_count": 23,
   "id": "db00ebb3",
   "metadata": {
    "execution": {
     "iopub.execute_input": "2024-10-25T07:00:50.576132Z",
     "iopub.status.busy": "2024-10-25T07:00:50.575158Z",
     "iopub.status.idle": "2024-10-25T07:00:50.580119Z",
     "shell.execute_reply": "2024-10-25T07:00:50.579102Z"
    },
    "id": "wleQDdgSZ8NZ",
    "papermill": {
     "duration": 0.023537,
     "end_time": "2024-10-25T07:00:50.582385",
     "exception": false,
     "start_time": "2024-10-25T07:00:50.558848",
     "status": "completed"
    },
    "tags": []
   },
   "outputs": [],
   "source": [
    "scaler_train = MinMaxScaler(feature_range = (0,1))"
   ]
  },
  {
   "cell_type": "code",
   "execution_count": 24,
   "id": "74b31c35",
   "metadata": {
    "execution": {
     "iopub.execute_input": "2024-10-25T07:00:50.615712Z",
     "iopub.status.busy": "2024-10-25T07:00:50.614917Z",
     "iopub.status.idle": "2024-10-25T07:00:50.620924Z",
     "shell.execute_reply": "2024-10-25T07:00:50.619809Z"
    },
    "id": "Enf8wikDaNZh",
    "papermill": {
     "duration": 0.024541,
     "end_time": "2024-10-25T07:00:50.623190",
     "exception": false,
     "start_time": "2024-10-25T07:00:50.598649",
     "status": "completed"
    },
    "tags": []
   },
   "outputs": [],
   "source": [
    "train = scaler_train.fit_transform(train)"
   ]
  },
  {
   "cell_type": "code",
   "execution_count": 25,
   "id": "46283961",
   "metadata": {
    "execution": {
     "iopub.execute_input": "2024-10-25T07:00:50.655375Z",
     "iopub.status.busy": "2024-10-25T07:00:50.654937Z",
     "iopub.status.idle": "2024-10-25T07:00:50.660443Z",
     "shell.execute_reply": "2024-10-25T07:00:50.659152Z"
    },
    "id": "cg-7tCn_aXTc",
    "papermill": {
     "duration": 0.024279,
     "end_time": "2024-10-25T07:00:50.662867",
     "exception": false,
     "start_time": "2024-10-25T07:00:50.638588",
     "status": "completed"
    },
    "tags": []
   },
   "outputs": [],
   "source": [
    "scaler_test = MinMaxScaler(feature_range = (0,1))"
   ]
  },
  {
   "cell_type": "code",
   "execution_count": 26,
   "id": "aa5ac233",
   "metadata": {
    "execution": {
     "iopub.execute_input": "2024-10-25T07:00:50.695055Z",
     "iopub.status.busy": "2024-10-25T07:00:50.694302Z",
     "iopub.status.idle": "2024-10-25T07:00:50.699670Z",
     "shell.execute_reply": "2024-10-25T07:00:50.698569Z"
    },
    "id": "tSbuIifiabbC",
    "papermill": {
     "duration": 0.023801,
     "end_time": "2024-10-25T07:00:50.701856",
     "exception": false,
     "start_time": "2024-10-25T07:00:50.678055",
     "status": "completed"
    },
    "tags": []
   },
   "outputs": [],
   "source": [
    "test = scaler_test.fit_transform(test)"
   ]
  },
  {
   "cell_type": "code",
   "execution_count": 27,
   "id": "70d08d8c",
   "metadata": {
    "execution": {
     "iopub.execute_input": "2024-10-25T07:00:50.734795Z",
     "iopub.status.busy": "2024-10-25T07:00:50.734394Z",
     "iopub.status.idle": "2024-10-25T07:00:50.741561Z",
     "shell.execute_reply": "2024-10-25T07:00:50.740446Z"
    },
    "id": "X5a7m_BEagaJ",
    "papermill": {
     "duration": 0.026,
     "end_time": "2024-10-25T07:00:50.743922",
     "exception": false,
     "start_time": "2024-10-25T07:00:50.717922",
     "status": "completed"
    },
    "tags": []
   },
   "outputs": [
    {
     "data": {
      "text/plain": [
       "array([[0.02191224],\n",
       "       [0.02174973],\n",
       "       [0.01668472],\n",
       "       [0.0092091 ],\n",
       "       [0.00083966]], dtype=float32)"
      ]
     },
     "execution_count": 27,
     "metadata": {},
     "output_type": "execute_result"
    }
   ],
   "source": [
    "train[0:5]"
   ]
  },
  {
   "cell_type": "code",
   "execution_count": 28,
   "id": "103611a3",
   "metadata": {
    "execution": {
     "iopub.execute_input": "2024-10-25T07:00:50.777071Z",
     "iopub.status.busy": "2024-10-25T07:00:50.776022Z",
     "iopub.status.idle": "2024-10-25T07:00:50.783366Z",
     "shell.execute_reply": "2024-10-25T07:00:50.782319Z"
    },
    "id": "AeVSy_ijahnh",
    "papermill": {
     "duration": 0.025924,
     "end_time": "2024-10-25T07:00:50.785456",
     "exception": false,
     "start_time": "2024-10-25T07:00:50.759532",
     "status": "completed"
    },
    "tags": []
   },
   "outputs": [
    {
     "data": {
      "text/plain": [
       "array([[0.25685903],\n",
       "       [0.24829045],\n",
       "       [0.25511202],\n",
       "       [0.24978784],\n",
       "       [0.2465767 ]], dtype=float32)"
      ]
     },
     "execution_count": 28,
     "metadata": {},
     "output_type": "execute_result"
    }
   ],
   "source": [
    "test[0:5]"
   ]
  },
  {
   "cell_type": "code",
   "execution_count": 29,
   "id": "c90992c7",
   "metadata": {
    "execution": {
     "iopub.execute_input": "2024-10-25T07:00:50.819442Z",
     "iopub.status.busy": "2024-10-25T07:00:50.819026Z",
     "iopub.status.idle": "2024-10-25T07:00:50.825220Z",
     "shell.execute_reply": "2024-10-25T07:00:50.823960Z"
    },
    "id": "Gv95UqJWasHS",
    "papermill": {
     "duration": 0.026839,
     "end_time": "2024-10-25T07:00:50.827639",
     "exception": false,
     "start_time": "2024-10-25T07:00:50.800800",
     "status": "completed"
    },
    "tags": []
   },
   "outputs": [],
   "source": [
    "def create_features(data, lookback):\n",
    "  X, Y = [], []\n",
    "  for i in range(lookback, len(data)):\n",
    "    X.append(data[i-lookback:i,0])\n",
    "    Y.append(data[i,0])\n",
    "\n",
    "  return np.array(X), np.array(Y)"
   ]
  },
  {
   "cell_type": "code",
   "execution_count": 30,
   "id": "6fb91df4",
   "metadata": {
    "execution": {
     "iopub.execute_input": "2024-10-25T07:00:50.861370Z",
     "iopub.status.busy": "2024-10-25T07:00:50.860127Z",
     "iopub.status.idle": "2024-10-25T07:00:50.865704Z",
     "shell.execute_reply": "2024-10-25T07:00:50.864650Z"
    },
    "id": "e36Ux4_CbASm",
    "papermill": {
     "duration": 0.02469,
     "end_time": "2024-10-25T07:00:50.868083",
     "exception": false,
     "start_time": "2024-10-25T07:00:50.843393",
     "status": "completed"
    },
    "tags": []
   },
   "outputs": [],
   "source": [
    "lookback = 20"
   ]
  },
  {
   "cell_type": "code",
   "execution_count": 31,
   "id": "36cb55c7",
   "metadata": {
    "execution": {
     "iopub.execute_input": "2024-10-25T07:00:50.901763Z",
     "iopub.status.busy": "2024-10-25T07:00:50.901381Z",
     "iopub.status.idle": "2024-10-25T07:00:50.910187Z",
     "shell.execute_reply": "2024-10-25T07:00:50.909172Z"
    },
    "id": "Xd8JMdaWbCzp",
    "papermill": {
     "duration": 0.028584,
     "end_time": "2024-10-25T07:00:50.912748",
     "exception": false,
     "start_time": "2024-10-25T07:00:50.884164",
     "status": "completed"
    },
    "tags": []
   },
   "outputs": [],
   "source": [
    "X_train, y_train = create_features(train, lookback)"
   ]
  },
  {
   "cell_type": "code",
   "execution_count": 32,
   "id": "0ff1fbcb",
   "metadata": {
    "execution": {
     "iopub.execute_input": "2024-10-25T07:00:50.998120Z",
     "iopub.status.busy": "2024-10-25T07:00:50.997318Z",
     "iopub.status.idle": "2024-10-25T07:00:51.003484Z",
     "shell.execute_reply": "2024-10-25T07:00:51.002361Z"
    },
    "id": "wHgq8DT5bF_Z",
    "papermill": {
     "duration": 0.07725,
     "end_time": "2024-10-25T07:00:51.005793",
     "exception": false,
     "start_time": "2024-10-25T07:00:50.928543",
     "status": "completed"
    },
    "tags": []
   },
   "outputs": [],
   "source": [
    "X_test, y_test = create_features(test, lookback)"
   ]
  },
  {
   "cell_type": "code",
   "execution_count": 33,
   "id": "e5e9e229",
   "metadata": {
    "execution": {
     "iopub.execute_input": "2024-10-25T07:00:51.038105Z",
     "iopub.status.busy": "2024-10-25T07:00:51.037689Z",
     "iopub.status.idle": "2024-10-25T07:00:51.043468Z",
     "shell.execute_reply": "2024-10-25T07:00:51.042359Z"
    },
    "id": "zYQy_33TbKdb",
    "papermill": {
     "duration": 0.024798,
     "end_time": "2024-10-25T07:00:51.045949",
     "exception": false,
     "start_time": "2024-10-25T07:00:51.021151",
     "status": "completed"
    },
    "tags": []
   },
   "outputs": [
    {
     "name": "stdout",
     "output_type": "stream",
     "text": [
      "(1913, 20) (1913,) (463, 20) (463,)\n"
     ]
    }
   ],
   "source": [
    "print(X_train.shape, y_train.shape, X_test.shape, y_test.shape)"
   ]
  },
  {
   "cell_type": "code",
   "execution_count": 34,
   "id": "e27ead17",
   "metadata": {
    "execution": {
     "iopub.execute_input": "2024-10-25T07:00:51.078526Z",
     "iopub.status.busy": "2024-10-25T07:00:51.078109Z",
     "iopub.status.idle": "2024-10-25T07:00:51.085950Z",
     "shell.execute_reply": "2024-10-25T07:00:51.084852Z"
    },
    "id": "sI1k-K6bTKuw",
    "papermill": {
     "duration": 0.026761,
     "end_time": "2024-10-25T07:00:51.088238",
     "exception": false,
     "start_time": "2024-10-25T07:00:51.061477",
     "status": "completed"
    },
    "tags": []
   },
   "outputs": [
    {
     "data": {
      "text/plain": [
       "array([[0.02191224, 0.02174973, 0.01668472, 0.0092091 , 0.00083966,\n",
       "        0.        , 0.00449621, 0.00433369, 0.0033857 , 0.00633803,\n",
       "        0.01094258, 0.011078  , 0.01310942, 0.0165493 , 0.01218851,\n",
       "        0.01197183, 0.01408451, 0.01486999, 0.01394908, 0.01286566],\n",
       "       [0.02174973, 0.01668472, 0.0092091 , 0.00083966, 0.        ,\n",
       "        0.00449621, 0.00433369, 0.0033857 , 0.00633803, 0.01094258,\n",
       "        0.011078  , 0.01310942, 0.0165493 , 0.01218851, 0.01197183,\n",
       "        0.01408451, 0.01486999, 0.01394908, 0.01286566, 0.01332611],\n",
       "       [0.01668472, 0.0092091 , 0.00083966, 0.        , 0.00449621,\n",
       "        0.00433369, 0.0033857 , 0.00633803, 0.01094258, 0.011078  ,\n",
       "        0.01310942, 0.0165493 , 0.01218851, 0.01197183, 0.01408451,\n",
       "        0.01486999, 0.01394908, 0.01286566, 0.01332611, 0.01232395],\n",
       "       [0.0092091 , 0.00083966, 0.        , 0.00449621, 0.00433369,\n",
       "        0.0033857 , 0.00633803, 0.01094258, 0.011078  , 0.01310942,\n",
       "        0.0165493 , 0.01218851, 0.01197183, 0.01408451, 0.01486999,\n",
       "        0.01394908, 0.01286566, 0.01332611, 0.01232395, 0.01121344],\n",
       "       [0.00083966, 0.        , 0.00449621, 0.00433369, 0.0033857 ,\n",
       "        0.00633803, 0.01094258, 0.011078  , 0.01310942, 0.0165493 ,\n",
       "        0.01218851, 0.01197183, 0.01408451, 0.01486999, 0.01394908,\n",
       "        0.01286566, 0.01332611, 0.01232395, 0.01121344, 0.01386782]],\n",
       "      dtype=float32)"
      ]
     },
     "execution_count": 34,
     "metadata": {},
     "output_type": "execute_result"
    }
   ],
   "source": [
    "X_train[0:5]"
   ]
  },
  {
   "cell_type": "code",
   "execution_count": 35,
   "id": "dee4348c",
   "metadata": {
    "execution": {
     "iopub.execute_input": "2024-10-25T07:00:51.121298Z",
     "iopub.status.busy": "2024-10-25T07:00:51.120897Z",
     "iopub.status.idle": "2024-10-25T07:00:51.127898Z",
     "shell.execute_reply": "2024-10-25T07:00:51.126864Z"
    },
    "id": "vY5hCVQHTg9u",
    "papermill": {
     "duration": 0.026002,
     "end_time": "2024-10-25T07:00:51.130097",
     "exception": false,
     "start_time": "2024-10-25T07:00:51.104095",
     "status": "completed"
    },
    "tags": []
   },
   "outputs": [
    {
     "data": {
      "text/plain": [
       "array([0.01332611, 0.01232395, 0.01121344, 0.01386782, 0.01665764],\n",
       "      dtype=float32)"
      ]
     },
     "execution_count": 35,
     "metadata": {},
     "output_type": "execute_result"
    }
   ],
   "source": [
    "y_train[0:5]"
   ]
  },
  {
   "cell_type": "code",
   "execution_count": 36,
   "id": "33733e1f",
   "metadata": {
    "execution": {
     "iopub.execute_input": "2024-10-25T07:00:51.163026Z",
     "iopub.status.busy": "2024-10-25T07:00:51.162639Z",
     "iopub.status.idle": "2024-10-25T07:00:51.168608Z",
     "shell.execute_reply": "2024-10-25T07:00:51.167517Z"
    },
    "id": "yvf-4kLybad5",
    "papermill": {
     "duration": 0.025014,
     "end_time": "2024-10-25T07:00:51.170708",
     "exception": false,
     "start_time": "2024-10-25T07:00:51.145694",
     "status": "completed"
    },
    "tags": []
   },
   "outputs": [],
   "source": [
    "X_train = np.reshape(X_train, (X_train.shape[0], 1, X_train.shape[1]))\n",
    "X_test = np.reshape(X_test, (X_test.shape[0], 1, X_test.shape[1]))\n",
    "y_train = y_train.reshape(-1,1)\n",
    "y_test = y_test.reshape(-1,1)"
   ]
  },
  {
   "cell_type": "code",
   "execution_count": 37,
   "id": "415e3dea",
   "metadata": {
    "execution": {
     "iopub.execute_input": "2024-10-25T07:00:51.203812Z",
     "iopub.status.busy": "2024-10-25T07:00:51.203418Z",
     "iopub.status.idle": "2024-10-25T07:00:51.209218Z",
     "shell.execute_reply": "2024-10-25T07:00:51.208060Z"
    },
    "id": "D2ltv0Edb3wz",
    "papermill": {
     "duration": 0.025046,
     "end_time": "2024-10-25T07:00:51.211418",
     "exception": false,
     "start_time": "2024-10-25T07:00:51.186372",
     "status": "completed"
    },
    "tags": []
   },
   "outputs": [
    {
     "name": "stdout",
     "output_type": "stream",
     "text": [
      "(1913, 1, 20) (1913, 1) (463, 1, 20) (463, 1)\n"
     ]
    }
   ],
   "source": [
    "print(X_train.shape, y_train.shape, X_test.shape, y_test.shape)"
   ]
  },
  {
   "cell_type": "markdown",
   "id": "2dea25db",
   "metadata": {
    "id": "DtsN3xazcIAn",
    "papermill": {
     "duration": 0.015589,
     "end_time": "2024-10-25T07:00:51.242795",
     "exception": false,
     "start_time": "2024-10-25T07:00:51.227206",
     "status": "completed"
    },
    "tags": []
   },
   "source": [
    "## Modelling"
   ]
  },
  {
   "cell_type": "code",
   "execution_count": 38,
   "id": "dff897b6",
   "metadata": {
    "execution": {
     "iopub.execute_input": "2024-10-25T07:00:51.275998Z",
     "iopub.status.busy": "2024-10-25T07:00:51.275579Z",
     "iopub.status.idle": "2024-10-25T07:00:51.393575Z",
     "shell.execute_reply": "2024-10-25T07:00:51.392390Z"
    },
    "id": "QtbQx4G9cI_z",
    "papermill": {
     "duration": 0.137834,
     "end_time": "2024-10-25T07:00:51.396351",
     "exception": false,
     "start_time": "2024-10-25T07:00:51.258517",
     "status": "completed"
    },
    "tags": []
   },
   "outputs": [],
   "source": [
    "model = Sequential()\n",
    "\n",
    "model.add(LSTM(units = 50,\n",
    "                    activation = 'relu',\n",
    "                    input_shape=(X_train.shape[1], lookback)))\n",
    "\n",
    "model.add(Dropout(0.2))\n",
    "\n",
    "model.add(Dense(1))\n"
   ]
  },
  {
   "cell_type": "code",
   "execution_count": 39,
   "id": "b62b2fc2",
   "metadata": {
    "execution": {
     "iopub.execute_input": "2024-10-25T07:00:51.429418Z",
     "iopub.status.busy": "2024-10-25T07:00:51.428975Z",
     "iopub.status.idle": "2024-10-25T07:00:51.448824Z",
     "shell.execute_reply": "2024-10-25T07:00:51.447801Z"
    },
    "id": "RQFXIkDbciE6",
    "papermill": {
     "duration": 0.038863,
     "end_time": "2024-10-25T07:00:51.450987",
     "exception": false,
     "start_time": "2024-10-25T07:00:51.412124",
     "status": "completed"
    },
    "tags": []
   },
   "outputs": [
    {
     "data": {
      "text/html": [
       "<pre style=\"white-space:pre;overflow-x:auto;line-height:normal;font-family:Menlo,'DejaVu Sans Mono',consolas,'Courier New',monospace\"><span style=\"font-weight: bold\">Model: \"sequential\"</span>\n",
       "</pre>\n"
      ],
      "text/plain": [
       "\u001b[1mModel: \"sequential\"\u001b[0m\n"
      ]
     },
     "metadata": {},
     "output_type": "display_data"
    },
    {
     "data": {
      "text/html": [
       "<pre style=\"white-space:pre;overflow-x:auto;line-height:normal;font-family:Menlo,'DejaVu Sans Mono',consolas,'Courier New',monospace\">┏━━━━━━━━━━━━━━━━━━━━━━━━━━━━━━━━━┳━━━━━━━━━━━━━━━━━━━━━━━━┳━━━━━━━━━━━━━━━┓\n",
       "┃<span style=\"font-weight: bold\"> Layer (type)                    </span>┃<span style=\"font-weight: bold\"> Output Shape           </span>┃<span style=\"font-weight: bold\">       Param # </span>┃\n",
       "┡━━━━━━━━━━━━━━━━━━━━━━━━━━━━━━━━━╇━━━━━━━━━━━━━━━━━━━━━━━━╇━━━━━━━━━━━━━━━┩\n",
       "│ lstm (<span style=\"color: #0087ff; text-decoration-color: #0087ff\">LSTM</span>)                     │ (<span style=\"color: #00d7ff; text-decoration-color: #00d7ff\">None</span>, <span style=\"color: #00af00; text-decoration-color: #00af00\">50</span>)             │        <span style=\"color: #00af00; text-decoration-color: #00af00\">14,200</span> │\n",
       "├─────────────────────────────────┼────────────────────────┼───────────────┤\n",
       "│ dropout (<span style=\"color: #0087ff; text-decoration-color: #0087ff\">Dropout</span>)               │ (<span style=\"color: #00d7ff; text-decoration-color: #00d7ff\">None</span>, <span style=\"color: #00af00; text-decoration-color: #00af00\">50</span>)             │             <span style=\"color: #00af00; text-decoration-color: #00af00\">0</span> │\n",
       "├─────────────────────────────────┼────────────────────────┼───────────────┤\n",
       "│ dense (<span style=\"color: #0087ff; text-decoration-color: #0087ff\">Dense</span>)                   │ (<span style=\"color: #00d7ff; text-decoration-color: #00d7ff\">None</span>, <span style=\"color: #00af00; text-decoration-color: #00af00\">1</span>)              │            <span style=\"color: #00af00; text-decoration-color: #00af00\">51</span> │\n",
       "└─────────────────────────────────┴────────────────────────┴───────────────┘\n",
       "</pre>\n"
      ],
      "text/plain": [
       "┏━━━━━━━━━━━━━━━━━━━━━━━━━━━━━━━━━┳━━━━━━━━━━━━━━━━━━━━━━━━┳━━━━━━━━━━━━━━━┓\n",
       "┃\u001b[1m \u001b[0m\u001b[1mLayer (type)                   \u001b[0m\u001b[1m \u001b[0m┃\u001b[1m \u001b[0m\u001b[1mOutput Shape          \u001b[0m\u001b[1m \u001b[0m┃\u001b[1m \u001b[0m\u001b[1m      Param #\u001b[0m\u001b[1m \u001b[0m┃\n",
       "┡━━━━━━━━━━━━━━━━━━━━━━━━━━━━━━━━━╇━━━━━━━━━━━━━━━━━━━━━━━━╇━━━━━━━━━━━━━━━┩\n",
       "│ lstm (\u001b[38;5;33mLSTM\u001b[0m)                     │ (\u001b[38;5;45mNone\u001b[0m, \u001b[38;5;34m50\u001b[0m)             │        \u001b[38;5;34m14,200\u001b[0m │\n",
       "├─────────────────────────────────┼────────────────────────┼───────────────┤\n",
       "│ dropout (\u001b[38;5;33mDropout\u001b[0m)               │ (\u001b[38;5;45mNone\u001b[0m, \u001b[38;5;34m50\u001b[0m)             │             \u001b[38;5;34m0\u001b[0m │\n",
       "├─────────────────────────────────┼────────────────────────┼───────────────┤\n",
       "│ dense (\u001b[38;5;33mDense\u001b[0m)                   │ (\u001b[38;5;45mNone\u001b[0m, \u001b[38;5;34m1\u001b[0m)              │            \u001b[38;5;34m51\u001b[0m │\n",
       "└─────────────────────────────────┴────────────────────────┴───────────────┘\n"
      ]
     },
     "metadata": {},
     "output_type": "display_data"
    },
    {
     "data": {
      "text/html": [
       "<pre style=\"white-space:pre;overflow-x:auto;line-height:normal;font-family:Menlo,'DejaVu Sans Mono',consolas,'Courier New',monospace\"><span style=\"font-weight: bold\"> Total params: </span><span style=\"color: #00af00; text-decoration-color: #00af00\">14,251</span> (55.67 KB)\n",
       "</pre>\n"
      ],
      "text/plain": [
       "\u001b[1m Total params: \u001b[0m\u001b[38;5;34m14,251\u001b[0m (55.67 KB)\n"
      ]
     },
     "metadata": {},
     "output_type": "display_data"
    },
    {
     "data": {
      "text/html": [
       "<pre style=\"white-space:pre;overflow-x:auto;line-height:normal;font-family:Menlo,'DejaVu Sans Mono',consolas,'Courier New',monospace\"><span style=\"font-weight: bold\"> Trainable params: </span><span style=\"color: #00af00; text-decoration-color: #00af00\">14,251</span> (55.67 KB)\n",
       "</pre>\n"
      ],
      "text/plain": [
       "\u001b[1m Trainable params: \u001b[0m\u001b[38;5;34m14,251\u001b[0m (55.67 KB)\n"
      ]
     },
     "metadata": {},
     "output_type": "display_data"
    },
    {
     "data": {
      "text/html": [
       "<pre style=\"white-space:pre;overflow-x:auto;line-height:normal;font-family:Menlo,'DejaVu Sans Mono',consolas,'Courier New',monospace\"><span style=\"font-weight: bold\"> Non-trainable params: </span><span style=\"color: #00af00; text-decoration-color: #00af00\">0</span> (0.00 B)\n",
       "</pre>\n"
      ],
      "text/plain": [
       "\u001b[1m Non-trainable params: \u001b[0m\u001b[38;5;34m0\u001b[0m (0.00 B)\n"
      ]
     },
     "metadata": {},
     "output_type": "display_data"
    }
   ],
   "source": [
    "model.summary()"
   ]
  },
  {
   "cell_type": "code",
   "execution_count": 40,
   "id": "c64126ed",
   "metadata": {
    "execution": {
     "iopub.execute_input": "2024-10-25T07:00:51.486551Z",
     "iopub.status.busy": "2024-10-25T07:00:51.485393Z",
     "iopub.status.idle": "2024-10-25T07:00:51.501211Z",
     "shell.execute_reply": "2024-10-25T07:00:51.500042Z"
    },
    "id": "NE6_O7IwclkT",
    "papermill": {
     "duration": 0.036326,
     "end_time": "2024-10-25T07:00:51.504050",
     "exception": false,
     "start_time": "2024-10-25T07:00:51.467724",
     "status": "completed"
    },
    "tags": []
   },
   "outputs": [],
   "source": [
    "model.compile(loss='mean_squared_error', optimizer='adam')"
   ]
  },
  {
   "cell_type": "code",
   "execution_count": 41,
   "id": "f0315c64",
   "metadata": {
    "execution": {
     "iopub.execute_input": "2024-10-25T07:00:51.539043Z",
     "iopub.status.busy": "2024-10-25T07:00:51.538344Z",
     "iopub.status.idle": "2024-10-25T07:00:51.543851Z",
     "shell.execute_reply": "2024-10-25T07:00:51.542767Z"
    },
    "id": "JLqjYZudc3Is",
    "papermill": {
     "duration": 0.025482,
     "end_time": "2024-10-25T07:00:51.546000",
     "exception": false,
     "start_time": "2024-10-25T07:00:51.520518",
     "status": "completed"
    },
    "tags": []
   },
   "outputs": [],
   "source": [
    "callbacks = (EarlyStopping(monitor='val_loss', patience=10, verbose=1, mode='min'),\n",
    "            ModelCheckpoint(filepath='mymodel.keras', monitor='val_loss', mode='min',\n",
    "            save_best_only = True, save_weights_only = False, verbose = 1))"
   ]
  },
  {
   "cell_type": "code",
   "execution_count": 42,
   "id": "a2eb4739",
   "metadata": {
    "execution": {
     "iopub.execute_input": "2024-10-25T07:00:51.580569Z",
     "iopub.status.busy": "2024-10-25T07:00:51.580150Z",
     "iopub.status.idle": "2024-10-25T07:00:59.278508Z",
     "shell.execute_reply": "2024-10-25T07:00:59.277518Z"
    },
    "id": "7Pv-Fb9FdSf7",
    "papermill": {
     "duration": 7.718574,
     "end_time": "2024-10-25T07:00:59.281090",
     "exception": false,
     "start_time": "2024-10-25T07:00:51.562516",
     "status": "completed"
    },
    "tags": []
   },
   "outputs": [
    {
     "name": "stdout",
     "output_type": "stream",
     "text": [
      "Epoch 1/100\n",
      "\u001b[1m89/96\u001b[0m \u001b[32m━━━━━━━━━━━━━━━━━━\u001b[0m\u001b[37m━━\u001b[0m \u001b[1m0s\u001b[0m 2ms/step - loss: 0.0020    \n",
      "Epoch 1: val_loss improved from inf to 0.00369, saving model to mymodel.keras\n",
      "\u001b[1m96/96\u001b[0m \u001b[32m━━━━━━━━━━━━━━━━━━━━\u001b[0m\u001b[37m\u001b[0m \u001b[1m2s\u001b[0m 5ms/step - loss: 0.0023 - val_loss: 0.0037\n",
      "Epoch 2/100\n",
      "\u001b[1m88/96\u001b[0m \u001b[32m━━━━━━━━━━━━━━━━━━\u001b[0m\u001b[37m━━\u001b[0m \u001b[1m0s\u001b[0m 2ms/step - loss: 0.0032\n",
      "Epoch 2: val_loss improved from 0.00369 to 0.00274, saving model to mymodel.keras\n",
      "\u001b[1m96/96\u001b[0m \u001b[32m━━━━━━━━━━━━━━━━━━━━\u001b[0m\u001b[37m\u001b[0m \u001b[1m0s\u001b[0m 3ms/step - loss: 0.0034 - val_loss: 0.0027\n",
      "Epoch 3/100\n",
      "\u001b[1m91/96\u001b[0m \u001b[32m━━━━━━━━━━━━━━━━━━\u001b[0m\u001b[37m━━\u001b[0m \u001b[1m0s\u001b[0m 2ms/step - loss: 0.0017\n",
      "Epoch 3: val_loss improved from 0.00274 to 0.00231, saving model to mymodel.keras\n",
      "\u001b[1m96/96\u001b[0m \u001b[32m━━━━━━━━━━━━━━━━━━━━\u001b[0m\u001b[37m\u001b[0m \u001b[1m0s\u001b[0m 2ms/step - loss: 0.0019 - val_loss: 0.0023\n",
      "Epoch 4/100\n",
      "\u001b[1m86/96\u001b[0m \u001b[32m━━━━━━━━━━━━━━━━━\u001b[0m\u001b[37m━━━\u001b[0m \u001b[1m0s\u001b[0m 2ms/step - loss: 0.0012    \n",
      "Epoch 4: val_loss improved from 0.00231 to 0.00229, saving model to mymodel.keras\n",
      "\u001b[1m96/96\u001b[0m \u001b[32m━━━━━━━━━━━━━━━━━━━━\u001b[0m\u001b[37m\u001b[0m \u001b[1m0s\u001b[0m 3ms/step - loss: 0.0015 - val_loss: 0.0023\n",
      "Epoch 5/100\n",
      "\u001b[1m85/96\u001b[0m \u001b[32m━━━━━━━━━━━━━━━━━\u001b[0m\u001b[37m━━━\u001b[0m \u001b[1m0s\u001b[0m 2ms/step - loss: 0.0010    \n",
      "Epoch 5: val_loss did not improve from 0.00229\n",
      "\u001b[1m96/96\u001b[0m \u001b[32m━━━━━━━━━━━━━━━━━━━━\u001b[0m\u001b[37m\u001b[0m \u001b[1m0s\u001b[0m 2ms/step - loss: 0.0013 - val_loss: 0.0023\n",
      "Epoch 6/100\n",
      "\u001b[1m88/96\u001b[0m \u001b[32m━━━━━━━━━━━━━━━━━━\u001b[0m\u001b[37m━━\u001b[0m \u001b[1m0s\u001b[0m 2ms/step - loss: 0.0010    \n",
      "Epoch 6: val_loss improved from 0.00229 to 0.00205, saving model to mymodel.keras\n",
      "\u001b[1m96/96\u001b[0m \u001b[32m━━━━━━━━━━━━━━━━━━━━\u001b[0m\u001b[37m\u001b[0m \u001b[1m0s\u001b[0m 2ms/step - loss: 0.0013 - val_loss: 0.0021\n",
      "Epoch 7/100\n",
      "\u001b[1m82/96\u001b[0m \u001b[32m━━━━━━━━━━━━━━━━━\u001b[0m\u001b[37m━━━\u001b[0m \u001b[1m0s\u001b[0m 2ms/step - loss: 0.0011    \n",
      "Epoch 7: val_loss improved from 0.00205 to 0.00196, saving model to mymodel.keras\n",
      "\u001b[1m96/96\u001b[0m \u001b[32m━━━━━━━━━━━━━━━━━━━━\u001b[0m\u001b[37m\u001b[0m \u001b[1m0s\u001b[0m 3ms/step - loss: 0.0014 - val_loss: 0.0020\n",
      "Epoch 8/100\n",
      "\u001b[1m89/96\u001b[0m \u001b[32m━━━━━━━━━━━━━━━━━━\u001b[0m\u001b[37m━━\u001b[0m \u001b[1m0s\u001b[0m 2ms/step - loss: 0.0011    \n",
      "Epoch 8: val_loss improved from 0.00196 to 0.00190, saving model to mymodel.keras\n",
      "\u001b[1m96/96\u001b[0m \u001b[32m━━━━━━━━━━━━━━━━━━━━\u001b[0m\u001b[37m\u001b[0m \u001b[1m0s\u001b[0m 2ms/step - loss: 0.0013 - val_loss: 0.0019\n",
      "Epoch 9/100\n",
      "\u001b[1m84/96\u001b[0m \u001b[32m━━━━━━━━━━━━━━━━━\u001b[0m\u001b[37m━━━\u001b[0m \u001b[1m0s\u001b[0m 2ms/step - loss: 0.0011    \n",
      "Epoch 9: val_loss did not improve from 0.00190\n",
      "\u001b[1m96/96\u001b[0m \u001b[32m━━━━━━━━━━━━━━━━━━━━\u001b[0m\u001b[37m\u001b[0m \u001b[1m0s\u001b[0m 2ms/step - loss: 0.0014 - val_loss: 0.0019\n",
      "Epoch 10/100\n",
      "\u001b[1m81/96\u001b[0m \u001b[32m━━━━━━━━━━━━━━━━\u001b[0m\u001b[37m━━━━\u001b[0m \u001b[1m0s\u001b[0m 2ms/step - loss: 0.0010    \n",
      "Epoch 10: val_loss did not improve from 0.00190\n",
      "\u001b[1m96/96\u001b[0m \u001b[32m━━━━━━━━━━━━━━━━━━━━\u001b[0m\u001b[37m\u001b[0m \u001b[1m0s\u001b[0m 2ms/step - loss: 0.0013 - val_loss: 0.0023\n",
      "Epoch 11/100\n",
      "\u001b[1m85/96\u001b[0m \u001b[32m━━━━━━━━━━━━━━━━━\u001b[0m\u001b[37m━━━\u001b[0m \u001b[1m0s\u001b[0m 2ms/step - loss: 0.0014    \n",
      "Epoch 11: val_loss improved from 0.00190 to 0.00168, saving model to mymodel.keras\n",
      "\u001b[1m96/96\u001b[0m \u001b[32m━━━━━━━━━━━━━━━━━━━━\u001b[0m\u001b[37m\u001b[0m \u001b[1m0s\u001b[0m 3ms/step - loss: 0.0016 - val_loss: 0.0017\n",
      "Epoch 12/100\n",
      "\u001b[1m84/96\u001b[0m \u001b[32m━━━━━━━━━━━━━━━━━\u001b[0m\u001b[37m━━━\u001b[0m \u001b[1m0s\u001b[0m 2ms/step - loss: 0.0011    \n",
      "Epoch 12: val_loss did not improve from 0.00168\n",
      "\u001b[1m96/96\u001b[0m \u001b[32m━━━━━━━━━━━━━━━━━━━━\u001b[0m\u001b[37m\u001b[0m \u001b[1m0s\u001b[0m 2ms/step - loss: 0.0014 - val_loss: 0.0022\n",
      "Epoch 13/100\n",
      "\u001b[1m89/96\u001b[0m \u001b[32m━━━━━━━━━━━━━━━━━━\u001b[0m\u001b[37m━━\u001b[0m \u001b[1m0s\u001b[0m 2ms/step - loss: 0.0014\n",
      "Epoch 13: val_loss did not improve from 0.00168\n",
      "\u001b[1m96/96\u001b[0m \u001b[32m━━━━━━━━━━━━━━━━━━━━\u001b[0m\u001b[37m\u001b[0m \u001b[1m0s\u001b[0m 2ms/step - loss: 0.0016 - val_loss: 0.0033\n",
      "Epoch 14/100\n",
      "\u001b[1m88/96\u001b[0m \u001b[32m━━━━━━━━━━━━━━━━━━\u001b[0m\u001b[37m━━\u001b[0m \u001b[1m0s\u001b[0m 2ms/step - loss: 0.0014\n",
      "Epoch 14: val_loss did not improve from 0.00168\n",
      "\u001b[1m96/96\u001b[0m \u001b[32m━━━━━━━━━━━━━━━━━━━━\u001b[0m\u001b[37m\u001b[0m \u001b[1m0s\u001b[0m 2ms/step - loss: 0.0016 - val_loss: 0.0024\n",
      "Epoch 15/100\n",
      "\u001b[1m85/96\u001b[0m \u001b[32m━━━━━━━━━━━━━━━━━\u001b[0m\u001b[37m━━━\u001b[0m \u001b[1m0s\u001b[0m 2ms/step - loss: 0.0012    \n",
      "Epoch 15: val_loss did not improve from 0.00168\n",
      "\u001b[1m96/96\u001b[0m \u001b[32m━━━━━━━━━━━━━━━━━━━━\u001b[0m\u001b[37m\u001b[0m \u001b[1m0s\u001b[0m 2ms/step - loss: 0.0014 - val_loss: 0.0023\n",
      "Epoch 16/100\n",
      "\u001b[1m89/96\u001b[0m \u001b[32m━━━━━━━━━━━━━━━━━━\u001b[0m\u001b[37m━━\u001b[0m \u001b[1m0s\u001b[0m 2ms/step - loss: 0.0013    \n",
      "Epoch 16: val_loss did not improve from 0.00168\n",
      "\u001b[1m96/96\u001b[0m \u001b[32m━━━━━━━━━━━━━━━━━━━━\u001b[0m\u001b[37m\u001b[0m \u001b[1m0s\u001b[0m 2ms/step - loss: 0.0014 - val_loss: 0.0024\n",
      "Epoch 17/100\n",
      "\u001b[1m87/96\u001b[0m \u001b[32m━━━━━━━━━━━━━━━━━━\u001b[0m\u001b[37m━━\u001b[0m \u001b[1m0s\u001b[0m 2ms/step - loss: 0.0013    \n",
      "Epoch 17: val_loss did not improve from 0.00168\n",
      "\u001b[1m96/96\u001b[0m \u001b[32m━━━━━━━━━━━━━━━━━━━━\u001b[0m\u001b[37m\u001b[0m \u001b[1m0s\u001b[0m 2ms/step - loss: 0.0016 - val_loss: 0.0039\n",
      "Epoch 18/100\n",
      "\u001b[1m88/96\u001b[0m \u001b[32m━━━━━━━━━━━━━━━━━━\u001b[0m\u001b[37m━━\u001b[0m \u001b[1m0s\u001b[0m 2ms/step - loss: 0.0015\n",
      "Epoch 18: val_loss did not improve from 0.00168\n",
      "\u001b[1m96/96\u001b[0m \u001b[32m━━━━━━━━━━━━━━━━━━━━\u001b[0m\u001b[37m\u001b[0m \u001b[1m0s\u001b[0m 2ms/step - loss: 0.0017 - val_loss: 0.0021\n",
      "Epoch 19/100\n",
      "\u001b[1m83/96\u001b[0m \u001b[32m━━━━━━━━━━━━━━━━━\u001b[0m\u001b[37m━━━\u001b[0m \u001b[1m0s\u001b[0m 2ms/step - loss: 0.0012    \n",
      "Epoch 19: val_loss did not improve from 0.00168\n",
      "\u001b[1m96/96\u001b[0m \u001b[32m━━━━━━━━━━━━━━━━━━━━\u001b[0m\u001b[37m\u001b[0m \u001b[1m0s\u001b[0m 2ms/step - loss: 0.0015 - val_loss: 0.0051\n",
      "Epoch 20/100\n",
      "\u001b[1m83/96\u001b[0m \u001b[32m━━━━━━━━━━━━━━━━━\u001b[0m\u001b[37m━━━\u001b[0m \u001b[1m0s\u001b[0m 2ms/step - loss: 0.0018\n",
      "Epoch 20: val_loss did not improve from 0.00168\n",
      "\u001b[1m96/96\u001b[0m \u001b[32m━━━━━━━━━━━━━━━━━━━━\u001b[0m\u001b[37m\u001b[0m \u001b[1m0s\u001b[0m 3ms/step - loss: 0.0021 - val_loss: 0.0099\n",
      "Epoch 21/100\n",
      "\u001b[1m89/96\u001b[0m \u001b[32m━━━━━━━━━━━━━━━━━━\u001b[0m\u001b[37m━━\u001b[0m \u001b[1m0s\u001b[0m 2ms/step - loss: 0.0020\n",
      "Epoch 21: val_loss did not improve from 0.00168\n",
      "\u001b[1m96/96\u001b[0m \u001b[32m━━━━━━━━━━━━━━━━━━━━\u001b[0m\u001b[37m\u001b[0m \u001b[1m0s\u001b[0m 2ms/step - loss: 0.0022 - val_loss: 0.0066\n",
      "Epoch 21: early stopping\n"
     ]
    }
   ],
   "source": [
    "history = model.fit(x=X_train,\n",
    "                    y=y_train,\n",
    "                    epochs=100,\n",
    "                    batch_size=20,\n",
    "                    validation_data=(X_test, y_test),\n",
    "                    callbacks=[callbacks],\n",
    "                    shuffle=False)"
   ]
  },
  {
   "cell_type": "code",
   "execution_count": 43,
   "id": "399cbe0c",
   "metadata": {
    "execution": {
     "iopub.execute_input": "2024-10-25T07:00:59.335716Z",
     "iopub.status.busy": "2024-10-25T07:00:59.334944Z",
     "iopub.status.idle": "2024-10-25T07:00:59.596179Z",
     "shell.execute_reply": "2024-10-25T07:00:59.594975Z"
    },
    "id": "VzxR8n1yeGpV",
    "papermill": {
     "duration": 0.291153,
     "end_time": "2024-10-25T07:00:59.599024",
     "exception": false,
     "start_time": "2024-10-25T07:00:59.307871",
     "status": "completed"
    },
    "tags": []
   },
   "outputs": [
    {
     "data": {
      "image/png": "[encoded data removed]",
      "text/plain": [
       "<Figure size 2000x500 with 1 Axes>"
      ]
     },
     "metadata": {},
     "output_type": "display_data"
    }
   ],
   "source": [
    "plt.figure(figsize=(20,5))\n",
    "plt.subplot(1,2,1)\n",
    "plt.plot(history.history['loss'], label='Training Loss')\n",
    "plt.plot(history.history['val_loss'], label='Validation Loss')\n",
    "plt.legend(loc='upper right')\n",
    "plt.xlabel('Epoch', fontsize = 16)\n",
    "plt.ylabel('Loss', fontsize = 16)\n",
    "plt.ylim([0,max(plt.ylim())])\n",
    "plt.title('Training and Validation Loss', fontsize = 16)\n",
    "plt.show()"
   ]
  },
  {
   "cell_type": "markdown",
   "id": "dbde308d",
   "metadata": {
    "id": "XO0NGWQWerLU",
    "papermill": {
     "duration": 0.026254,
     "end_time": "2024-10-25T07:00:59.652208",
     "exception": false,
     "start_time": "2024-10-25T07:00:59.625954",
     "status": "completed"
    },
    "tags": []
   },
   "source": [
    "## Evaluation"
   ]
  },
  {
   "cell_type": "code",
   "execution_count": 44,
   "id": "f6ea7a02",
   "metadata": {
    "execution": {
     "iopub.execute_input": "2024-10-25T07:00:59.707135Z",
     "iopub.status.busy": "2024-10-25T07:00:59.706424Z",
     "iopub.status.idle": "2024-10-25T07:01:00.298216Z",
     "shell.execute_reply": "2024-10-25T07:01:00.296936Z"
    },
    "id": "hyeoNUjxetH-",
    "papermill": {
     "duration": 0.621972,
     "end_time": "2024-10-25T07:01:00.300560",
     "exception": false,
     "start_time": "2024-10-25T07:00:59.678588",
     "status": "completed"
    },
    "tags": []
   },
   "outputs": [
    {
     "name": "stdout",
     "output_type": "stream",
     "text": [
      "\u001b[1m463/463\u001b[0m \u001b[32m━━━━━━━━━━━━━━━━━━━━\u001b[0m\u001b[37m\u001b[0m \u001b[1m1s\u001b[0m 1ms/step - loss: 0.0077\n",
      "\n",
      "Test Loss: 0.7%\n"
     ]
    }
   ],
   "source": [
    "loss = model.evaluate(X_test, y_test, batch_size=1)\n",
    "print(\"\\nTest Loss: %.1f%%\" % (100.0 * loss))"
   ]
  },
  {
   "cell_type": "code",
   "execution_count": 45,
   "id": "ad26071a",
   "metadata": {
    "execution": {
     "iopub.execute_input": "2024-10-25T07:01:00.357068Z",
     "iopub.status.busy": "2024-10-25T07:01:00.356671Z",
     "iopub.status.idle": "2024-10-25T07:01:00.834770Z",
     "shell.execute_reply": "2024-10-25T07:01:00.833557Z"
    },
    "id": "9e854j_NfFTV",
    "papermill": {
     "duration": 0.50943,
     "end_time": "2024-10-25T07:01:00.837428",
     "exception": false,
     "start_time": "2024-10-25T07:01:00.327998",
     "status": "completed"
    },
    "tags": []
   },
   "outputs": [
    {
     "name": "stdout",
     "output_type": "stream",
     "text": [
      "\u001b[1m60/60\u001b[0m \u001b[32m━━━━━━━━━━━━━━━━━━━━\u001b[0m\u001b[37m\u001b[0m \u001b[1m0s\u001b[0m 4ms/step\n"
     ]
    }
   ],
   "source": [
    "train_predict = model.predict(X_train)"
   ]
  },
  {
   "cell_type": "code",
   "execution_count": 46,
   "id": "42d3e25e",
   "metadata": {
    "execution": {
     "iopub.execute_input": "2024-10-25T07:01:00.897159Z",
     "iopub.status.busy": "2024-10-25T07:01:00.896443Z",
     "iopub.status.idle": "2024-10-25T07:01:00.998219Z",
     "shell.execute_reply": "2024-10-25T07:01:00.997107Z"
    },
    "id": "GZgJuMd-fqZW",
    "papermill": {
     "duration": 0.133744,
     "end_time": "2024-10-25T07:01:01.000767",
     "exception": false,
     "start_time": "2024-10-25T07:01:00.867023",
     "status": "completed"
    },
    "tags": []
   },
   "outputs": [
    {
     "name": "stdout",
     "output_type": "stream",
     "text": [
      "\u001b[1m15/15\u001b[0m \u001b[32m━━━━━━━━━━━━━━━━━━━━\u001b[0m\u001b[37m\u001b[0m \u001b[1m0s\u001b[0m 1ms/step \n"
     ]
    }
   ],
   "source": [
    "test_predict = model.predict(X_test)"
   ]
  },
  {
   "cell_type": "code",
   "execution_count": 47,
   "id": "9c59a058",
   "metadata": {
    "execution": {
     "iopub.execute_input": "2024-10-25T07:01:01.058372Z",
     "iopub.status.busy": "2024-10-25T07:01:01.057943Z",
     "iopub.status.idle": "2024-10-25T07:01:01.063469Z",
     "shell.execute_reply": "2024-10-25T07:01:01.062353Z"
    },
    "id": "FcH_8U3tfsGm",
    "papermill": {
     "duration": 0.03658,
     "end_time": "2024-10-25T07:01:01.065546",
     "exception": false,
     "start_time": "2024-10-25T07:01:01.028966",
     "status": "completed"
    },
    "tags": []
   },
   "outputs": [],
   "source": [
    "train_predict = scaler_train.inverse_transform(train_predict)\n",
    "test_predict = scaler_test.inverse_transform(test_predict)"
   ]
  },
  {
   "cell_type": "code",
   "execution_count": 48,
   "id": "fe9ab6a4",
   "metadata": {
    "execution": {
     "iopub.execute_input": "2024-10-25T07:01:01.122391Z",
     "iopub.status.busy": "2024-10-25T07:01:01.121930Z",
     "iopub.status.idle": "2024-10-25T07:01:01.127600Z",
     "shell.execute_reply": "2024-10-25T07:01:01.126572Z"
    },
    "id": "DsGDu-NKf912",
    "papermill": {
     "duration": 0.03639,
     "end_time": "2024-10-25T07:01:01.129702",
     "exception": false,
     "start_time": "2024-10-25T07:01:01.093312",
     "status": "completed"
    },
    "tags": []
   },
   "outputs": [],
   "source": [
    "y_train = scaler_train.inverse_transform(y_train)\n",
    "y_test = scaler_test.inverse_transform(y_test)"
   ]
  },
  {
   "cell_type": "code",
   "execution_count": 49,
   "id": "c0c27477",
   "metadata": {
    "execution": {
     "iopub.execute_input": "2024-10-25T07:01:01.187215Z",
     "iopub.status.busy": "2024-10-25T07:01:01.186798Z",
     "iopub.status.idle": "2024-10-25T07:01:01.192863Z",
     "shell.execute_reply": "2024-10-25T07:01:01.191754Z"
    },
    "id": "ZLXqwAU7gGW2",
    "papermill": {
     "duration": 0.037221,
     "end_time": "2024-10-25T07:01:01.194944",
     "exception": false,
     "start_time": "2024-10-25T07:01:01.157723",
     "status": "completed"
    },
    "tags": []
   },
   "outputs": [],
   "source": [
    "train_rmse = np.sqrt(mean_squared_error(y_train, train_predict))"
   ]
  },
  {
   "cell_type": "code",
   "execution_count": 50,
   "id": "403c0cc5",
   "metadata": {
    "execution": {
     "iopub.execute_input": "2024-10-25T07:01:01.253242Z",
     "iopub.status.busy": "2024-10-25T07:01:01.252188Z",
     "iopub.status.idle": "2024-10-25T07:01:01.258201Z",
     "shell.execute_reply": "2024-10-25T07:01:01.256988Z"
    },
    "id": "76WbnJaIgJ4g",
    "papermill": {
     "duration": 0.037392,
     "end_time": "2024-10-25T07:01:01.260539",
     "exception": false,
     "start_time": "2024-10-25T07:01:01.223147",
     "status": "completed"
    },
    "tags": []
   },
   "outputs": [],
   "source": [
    "test_rmse = np.sqrt(mean_squared_error(y_test, test_predict))"
   ]
  },
  {
   "cell_type": "code",
   "execution_count": 51,
   "id": "c806c9e8",
   "metadata": {
    "execution": {
     "iopub.execute_input": "2024-10-25T07:01:01.317931Z",
     "iopub.status.busy": "2024-10-25T07:01:01.317536Z",
     "iopub.status.idle": "2024-10-25T07:01:01.322938Z",
     "shell.execute_reply": "2024-10-25T07:01:01.321801Z"
    },
    "id": "WcUBQBz7gMV2",
    "papermill": {
     "duration": 0.036829,
     "end_time": "2024-10-25T07:01:01.325226",
     "exception": false,
     "start_time": "2024-10-25T07:01:01.288397",
     "status": "completed"
    },
    "tags": []
   },
   "outputs": [
    {
     "name": "stdout",
     "output_type": "stream",
     "text": [
      "Train RMSE: 25.287797927856445\n",
      "Test RMSE: 48.89591979980469\n"
     ]
    }
   ],
   "source": [
    "print(f\"Train RMSE: {train_rmse}\")\n",
    "print(f\"Test RMSE: {test_rmse}\")"
   ]
  },
  {
   "cell_type": "code",
   "execution_count": 52,
   "id": "a2c7f80a",
   "metadata": {
    "execution": {
     "iopub.execute_input": "2024-10-25T07:01:01.383278Z",
     "iopub.status.busy": "2024-10-25T07:01:01.382238Z",
     "iopub.status.idle": "2024-10-25T07:01:01.415330Z",
     "shell.execute_reply": "2024-10-25T07:01:01.414256Z"
    },
    "id": "t_llof9mgYz_",
    "papermill": {
     "duration": 0.064525,
     "end_time": "2024-10-25T07:01:01.417628",
     "exception": false,
     "start_time": "2024-10-25T07:01:01.353103",
     "status": "completed"
    },
    "tags": []
   },
   "outputs": [
    {
     "data": {
      "text/html": [
       "<div>\n",
       "<style scoped>\n",
       "    .dataframe tbody tr th:only-of-type {\n",
       "        vertical-align: middle;\n",
       "    }\n",
       "\n",
       "    .dataframe tbody tr th {\n",
       "        vertical-align: top;\n",
       "    }\n",
       "\n",
       "    .dataframe thead th {\n",
       "        text-align: right;\n",
       "    }\n",
       "</style>\n",
       "<table border=\"1\" class=\"dataframe\">\n",
       "  <thead>\n",
       "    <tr style=\"text-align: right;\">\n",
       "      <th></th>\n",
       "      <th>count</th>\n",
       "      <th>mean</th>\n",
       "      <th>min</th>\n",
       "      <th>25%</th>\n",
       "      <th>50%</th>\n",
       "      <th>75%</th>\n",
       "      <th>max</th>\n",
       "      <th>std</th>\n",
       "    </tr>\n",
       "  </thead>\n",
       "  <tbody>\n",
       "    <tr>\n",
       "      <th>Date</th>\n",
       "      <td>2416</td>\n",
       "      <td>2015-04-15 11:09:56.026490112</td>\n",
       "      <td>2010-06-29 00:00:00</td>\n",
       "      <td>2012-11-19 18:00:00</td>\n",
       "      <td>2015-04-16 12:00:00</td>\n",
       "      <td>2017-09-07 06:00:00</td>\n",
       "      <td>2020-02-03 00:00:00</td>\n",
       "      <td>NaN</td>\n",
       "    </tr>\n",
       "    <tr>\n",
       "      <th>Open</th>\n",
       "      <td>2416.0</td>\n",
       "      <td>186.271147</td>\n",
       "      <td>16.139999</td>\n",
       "      <td>34.342498</td>\n",
       "      <td>213.035004</td>\n",
       "      <td>266.450012</td>\n",
       "      <td>673.690002</td>\n",
       "      <td>118.740163</td>\n",
       "    </tr>\n",
       "    <tr>\n",
       "      <th>High</th>\n",
       "      <td>2416.0</td>\n",
       "      <td>189.578224</td>\n",
       "      <td>16.629999</td>\n",
       "      <td>34.897501</td>\n",
       "      <td>216.745002</td>\n",
       "      <td>270.927513</td>\n",
       "      <td>786.140015</td>\n",
       "      <td>120.892329</td>\n",
       "    </tr>\n",
       "    <tr>\n",
       "      <th>Low</th>\n",
       "      <td>2416.0</td>\n",
       "      <td>182.916639</td>\n",
       "      <td>14.98</td>\n",
       "      <td>33.587501</td>\n",
       "      <td>208.870002</td>\n",
       "      <td>262.102501</td>\n",
       "      <td>673.52002</td>\n",
       "      <td>116.857591</td>\n",
       "    </tr>\n",
       "    <tr>\n",
       "      <th>Close</th>\n",
       "      <td>2416.0</td>\n",
       "      <td>186.403651</td>\n",
       "      <td>15.8</td>\n",
       "      <td>34.400002</td>\n",
       "      <td>212.960007</td>\n",
       "      <td>266.774994</td>\n",
       "      <td>780.0</td>\n",
       "      <td>119.13602</td>\n",
       "    </tr>\n",
       "    <tr>\n",
       "      <th>Adj Close</th>\n",
       "      <td>2416.0</td>\n",
       "      <td>186.403651</td>\n",
       "      <td>15.8</td>\n",
       "      <td>34.400002</td>\n",
       "      <td>212.960007</td>\n",
       "      <td>266.774994</td>\n",
       "      <td>780.0</td>\n",
       "      <td>119.13602</td>\n",
       "    </tr>\n",
       "    <tr>\n",
       "      <th>Volume</th>\n",
       "      <td>2416.0</td>\n",
       "      <td>5572721.688742</td>\n",
       "      <td>118500.0</td>\n",
       "      <td>1899275.0</td>\n",
       "      <td>4578400.0</td>\n",
       "      <td>7361150.0</td>\n",
       "      <td>47065000.0</td>\n",
       "      <td>4987809.151888</td>\n",
       "    </tr>\n",
       "  </tbody>\n",
       "</table>\n",
       "</div>"
      ],
      "text/plain": [
       "            count                           mean                  min  \\\n",
       "Date         2416  2015-04-15 11:09:56.026490112  2010-06-29 00:00:00   \n",
       "Open       2416.0                     186.271147            16.139999   \n",
       "High       2416.0                     189.578224            16.629999   \n",
       "Low        2416.0                     182.916639                14.98   \n",
       "Close      2416.0                     186.403651                 15.8   \n",
       "Adj Close  2416.0                     186.403651                 15.8   \n",
       "Volume     2416.0                 5572721.688742             118500.0   \n",
       "\n",
       "                           25%                  50%                  75%  \\\n",
       "Date       2012-11-19 18:00:00  2015-04-16 12:00:00  2017-09-07 06:00:00   \n",
       "Open                 34.342498           213.035004           266.450012   \n",
       "High                 34.897501           216.745002           270.927513   \n",
       "Low                  33.587501           208.870002           262.102501   \n",
       "Close                34.400002           212.960007           266.774994   \n",
       "Adj Close            34.400002           212.960007           266.774994   \n",
       "Volume               1899275.0            4578400.0            7361150.0   \n",
       "\n",
       "                           max             std  \n",
       "Date       2020-02-03 00:00:00             NaN  \n",
       "Open                673.690002      118.740163  \n",
       "High                786.140015      120.892329  \n",
       "Low                  673.52002      116.857591  \n",
       "Close                    780.0       119.13602  \n",
       "Adj Close                780.0       119.13602  \n",
       "Volume              47065000.0  4987809.151888  "
      ]
     },
     "execution_count": 52,
     "metadata": {},
     "output_type": "execute_result"
    }
   ],
   "source": [
    "df.describe().T"
   ]
  },
  {
   "cell_type": "code",
   "execution_count": 53,
   "id": "7468b07b",
   "metadata": {
    "execution": {
     "iopub.execute_input": "2024-10-25T07:01:01.477144Z",
     "iopub.status.busy": "2024-10-25T07:01:01.476707Z",
     "iopub.status.idle": "2024-10-25T07:01:01.489386Z",
     "shell.execute_reply": "2024-10-25T07:01:01.488172Z"
    },
    "id": "-PSGVpMzgz1O",
    "papermill": {
     "duration": 0.044712,
     "end_time": "2024-10-25T07:01:01.491635",
     "exception": false,
     "start_time": "2024-10-25T07:01:01.446923",
     "status": "completed"
    },
    "tags": []
   },
   "outputs": [
    {
     "data": {
      "text/html": [
       "<div>\n",
       "<style scoped>\n",
       "    .dataframe tbody tr th:only-of-type {\n",
       "        vertical-align: middle;\n",
       "    }\n",
       "\n",
       "    .dataframe tbody tr th {\n",
       "        vertical-align: top;\n",
       "    }\n",
       "\n",
       "    .dataframe thead th {\n",
       "        text-align: right;\n",
       "    }\n",
       "</style>\n",
       "<table border=\"1\" class=\"dataframe\">\n",
       "  <thead>\n",
       "    <tr style=\"text-align: right;\">\n",
       "      <th></th>\n",
       "      <th>Close</th>\n",
       "      <th>Predicted</th>\n",
       "    </tr>\n",
       "    <tr>\n",
       "      <th>Date</th>\n",
       "      <th></th>\n",
       "      <th></th>\n",
       "    </tr>\n",
       "  </thead>\n",
       "  <tbody>\n",
       "    <tr>\n",
       "      <th>2010-07-28</th>\n",
       "      <td>20.719999</td>\n",
       "      <td>37.314857</td>\n",
       "    </tr>\n",
       "    <tr>\n",
       "      <th>2010-07-29</th>\n",
       "      <td>20.350000</td>\n",
       "      <td>37.314857</td>\n",
       "    </tr>\n",
       "    <tr>\n",
       "      <th>2010-07-30</th>\n",
       "      <td>19.940001</td>\n",
       "      <td>37.314857</td>\n",
       "    </tr>\n",
       "    <tr>\n",
       "      <th>2010-08-02</th>\n",
       "      <td>20.920000</td>\n",
       "      <td>37.314857</td>\n",
       "    </tr>\n",
       "    <tr>\n",
       "      <th>2010-08-03</th>\n",
       "      <td>21.950001</td>\n",
       "      <td>37.324459</td>\n",
       "    </tr>\n",
       "  </tbody>\n",
       "</table>\n",
       "</div>"
      ],
      "text/plain": [
       "                Close  Predicted\n",
       "Date                            \n",
       "2010-07-28  20.719999  37.314857\n",
       "2010-07-29  20.350000  37.314857\n",
       "2010-07-30  19.940001  37.314857\n",
       "2010-08-02  20.920000  37.314857\n",
       "2010-08-03  21.950001  37.324459"
      ]
     },
     "execution_count": 53,
     "metadata": {},
     "output_type": "execute_result"
    }
   ],
   "source": [
    "train_prediction_df = result_df[lookback:position]\n",
    "train_prediction_df[\"Predicted\"] = train_predict\n",
    "train_prediction_df.head()"
   ]
  },
  {
   "cell_type": "code",
   "execution_count": 54,
   "id": "968ef98e",
   "metadata": {
    "execution": {
     "iopub.execute_input": "2024-10-25T07:01:01.550976Z",
     "iopub.status.busy": "2024-10-25T07:01:01.550538Z",
     "iopub.status.idle": "2024-10-25T07:01:01.563321Z",
     "shell.execute_reply": "2024-10-25T07:01:01.562209Z"
    },
    "id": "o7tRAXwOhMSA",
    "papermill": {
     "duration": 0.045336,
     "end_time": "2024-10-25T07:01:01.565586",
     "exception": false,
     "start_time": "2024-10-25T07:01:01.520250",
     "status": "completed"
    },
    "tags": []
   },
   "outputs": [
    {
     "data": {
      "text/html": [
       "<div>\n",
       "<style scoped>\n",
       "    .dataframe tbody tr th:only-of-type {\n",
       "        vertical-align: middle;\n",
       "    }\n",
       "\n",
       "    .dataframe tbody tr th {\n",
       "        vertical-align: top;\n",
       "    }\n",
       "\n",
       "    .dataframe thead th {\n",
       "        text-align: right;\n",
       "    }\n",
       "</style>\n",
       "<table border=\"1\" class=\"dataframe\">\n",
       "  <thead>\n",
       "    <tr style=\"text-align: right;\">\n",
       "      <th></th>\n",
       "      <th>Close</th>\n",
       "      <th>Predicted</th>\n",
       "    </tr>\n",
       "    <tr>\n",
       "      <th>Date</th>\n",
       "      <th></th>\n",
       "      <th></th>\n",
       "    </tr>\n",
       "  </thead>\n",
       "  <tbody>\n",
       "    <tr>\n",
       "      <th>2018-04-03</th>\n",
       "      <td>267.529999</td>\n",
       "      <td>337.785065</td>\n",
       "    </tr>\n",
       "    <tr>\n",
       "      <th>2018-04-04</th>\n",
       "      <td>286.940002</td>\n",
       "      <td>335.415649</td>\n",
       "    </tr>\n",
       "    <tr>\n",
       "      <th>2018-04-05</th>\n",
       "      <td>305.720001</td>\n",
       "      <td>335.398682</td>\n",
       "    </tr>\n",
       "    <tr>\n",
       "      <th>2018-04-06</th>\n",
       "      <td>299.299988</td>\n",
       "      <td>337.729584</td>\n",
       "    </tr>\n",
       "    <tr>\n",
       "      <th>2018-04-09</th>\n",
       "      <td>289.660004</td>\n",
       "      <td>341.815674</td>\n",
       "    </tr>\n",
       "  </tbody>\n",
       "</table>\n",
       "</div>"
      ],
      "text/plain": [
       "                 Close   Predicted\n",
       "Date                              \n",
       "2018-04-03  267.529999  337.785065\n",
       "2018-04-04  286.940002  335.415649\n",
       "2018-04-05  305.720001  335.398682\n",
       "2018-04-06  299.299988  337.729584\n",
       "2018-04-09  289.660004  341.815674"
      ]
     },
     "execution_count": 54,
     "metadata": {},
     "output_type": "execute_result"
    }
   ],
   "source": [
    "test_prediction_df = result_df[position+lookback:]\n",
    "test_prediction_df[\"Predicted\"] = test_predict\n",
    "test_prediction_df.head()"
   ]
  },
  {
   "cell_type": "code",
   "execution_count": 55,
   "id": "a21af8b5",
   "metadata": {
    "execution": {
     "iopub.execute_input": "2024-10-25T07:01:01.625707Z",
     "iopub.status.busy": "2024-10-25T07:01:01.625276Z",
     "iopub.status.idle": "2024-10-25T07:01:02.065346Z",
     "shell.execute_reply": "2024-10-25T07:01:02.064245Z"
    },
    "id": "PJ_-znSchYO_",
    "papermill": {
     "duration": 0.473508,
     "end_time": "2024-10-25T07:01:02.067657",
     "exception": false,
     "start_time": "2024-10-25T07:01:01.594149",
     "status": "completed"
    },
    "tags": []
   },
   "outputs": [
    {
     "data": {
      "image/png": "[encoded data removed]",
      "text/plain": [
       "<Figure size 1400x500 with 1 Axes>"
      ]
     },
     "metadata": {},
     "output_type": "display_data"
    }
   ],
   "source": [
    "plt.figure(figsize=(14,5))\n",
    "plt.plot(result_df, label = \"Real Number of Passengers\")\n",
    "plt.plot(train_prediction_df[\"Predicted\"], color = 'blue', label = \"Train Predicted Number of Passengers\")\n",
    "plt.plot(test_prediction_df[\"Predicted\"],color = 'red', label = \"Test Predicted Number of Passengers\")\n",
    "plt.title(\"Number of Passengers Prediction\")\n",
    "plt.xlabel(\"Time\")\n",
    "plt.ylabel(\"Number of Passengers\")\n",
    "plt.legend()\n",
    "plt.show()"
   ]
  }
 ],
 "metadata": {
  "colab": {
   "provenance": []
  },
  "kaggle": {
   "accelerator": "none",
   "dataSources": [
    {
     "datasetId": 500872,
     "sourceId": 927894,
     "sourceType": "datasetVersion"
    }
   ],
   "dockerImageVersionId": 30761,
   "isGpuEnabled": false,
   "isInternetEnabled": true,
   "language": "python",
   "sourceType": "notebook"
  },
  "kernelspec": {
   "display_name": "Python 3",
   "language": "python",
   "name": "python3"
  },
  "language_info": {
   "codemirror_mode": {
    "name": "ipython",
    "version": 3
   },
   "file_extension": ".py",
   "mimetype": "text/x-python",
   "name": "python",
   "nbconvert_exporter": "python",
   "pygments_lexer": "ipython3",
   "version": "3.10.14"
  },
  "papermill": {
   "default_parameters": {},
   "duration": 33.538033,
   "end_time": "2024-10-25T07:01:04.615929",
   "environment_variables": {},
   "exception": null,
   "input_path": "__notebook__.ipynb",
   "output_path": "__notebook__.ipynb",
   "parameters": {},
   "start_time": "2024-10-25T07:00:31.077896",
   "version": "2.6.0"
  }
 },
 "nbformat": 4,
 "nbformat_minor": 5
}
