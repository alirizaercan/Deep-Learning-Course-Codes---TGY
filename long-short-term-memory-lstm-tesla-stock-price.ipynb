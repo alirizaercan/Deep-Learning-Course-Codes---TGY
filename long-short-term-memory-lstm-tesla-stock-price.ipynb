{
 "cells": [
  {
   "cell_type": "markdown",
   "id": "c01ebbc7",
   "metadata": {
    "id": "4unSJJjsT8BM",
    "papermill": {
     "duration": 0.014061,
     "end_time": "2024-10-19T08:27:33.082646",
     "exception": false,
     "start_time": "2024-10-19T08:27:33.068585",
     "status": "completed"
    },
    "tags": []
   },
   "source": [
    "# Tesla - Stock Price Prediction\n",
    "\n",
    "---\n",
    "\n"
   ]
  },
  {
   "cell_type": "markdown",
   "id": "8ac04b8c",
   "metadata": {
    "id": "wkRLJL2XUAfT",
    "papermill": {
     "duration": 0.01266,
     "end_time": "2024-10-19T08:27:33.108703",
     "exception": false,
     "start_time": "2024-10-19T08:27:33.096043",
     "status": "completed"
    },
    "tags": []
   },
   "source": [
    "## Business Problem\n",
    "\n",
    "In this notebook, our purpose is to predict of tesla - stock price."
   ]
  },
  {
   "cell_type": "markdown",
   "id": "2644174d",
   "metadata": {
    "id": "0uxjphZsUwjz",
    "papermill": {
     "duration": 0.013515,
     "end_time": "2024-10-19T08:27:33.135387",
     "exception": false,
     "start_time": "2024-10-19T08:27:33.121872",
     "status": "completed"
    },
    "tags": []
   },
   "source": [
    "## Data Understanding"
   ]
  },
  {
   "cell_type": "code",
   "execution_count": 1,
   "id": "08cab89e",
   "metadata": {
    "execution": {
     "iopub.execute_input": "2024-10-19T08:27:33.163130Z",
     "iopub.status.busy": "2024-10-19T08:27:33.162689Z",
     "iopub.status.idle": "2024-10-19T08:27:49.445992Z",
     "shell.execute_reply": "2024-10-19T08:27:49.444959Z"
    },
    "id": "40IR65rQUyWC",
    "outputId": "4562368d-970e-4fd6-b03e-be036efe4dcd",
    "papermill": {
     "duration": 16.300155,
     "end_time": "2024-10-19T08:27:49.448575",
     "exception": false,
     "start_time": "2024-10-19T08:27:33.148420",
     "status": "completed"
    },
    "tags": []
   },
   "outputs": [],
   "source": [
    "import numpy as np\n",
    "import pandas as pd\n",
    "import datetime as dt\n",
    "import tensorflow as tf\n",
    "import matplotlib.pyplot as plt\n",
    "\n",
    "from sklearn.preprocessing import MinMaxScaler\n",
    "from sklearn.metrics import mean_squared_error\n",
    "\n",
    "from tensorflow.keras.models import Sequential\n",
    "from tensorflow.keras.layers import Dense, LSTM, Dropout\n",
    "from tensorflow.keras.callbacks import ModelCheckpoint, EarlyStopping\n",
    "\n",
    "import warnings\n",
    "warnings.filterwarnings('ignore')\n",
    "\n",
    "import os\n",
    "os.environ['TF_CPP_MIN_LOG_LEVEL'] = '3'\n",
    "tf.compat.v1.logging.set_verbosity(tf.compat.v1.logging.ERROR)"
   ]
  },
  {
   "cell_type": "code",
   "execution_count": 2,
   "id": "b2ca86b1",
   "metadata": {
    "execution": {
     "iopub.execute_input": "2024-10-19T08:27:49.476004Z",
     "iopub.status.busy": "2024-10-19T08:27:49.475306Z",
     "iopub.status.idle": "2024-10-19T08:27:49.536187Z",
     "shell.execute_reply": "2024-10-19T08:27:49.535044Z"
    },
    "id": "-be5_efvVpTV",
    "papermill": {
     "duration": 0.078006,
     "end_time": "2024-10-19T08:27:49.539275",
     "exception": false,
     "start_time": "2024-10-19T08:27:49.461269",
     "status": "completed"
    },
    "tags": []
   },
   "outputs": [
    {
     "data": {
      "text/html": [
       "<div>\n",
       "<style scoped>\n",
       "    .dataframe tbody tr th:only-of-type {\n",
       "        vertical-align: middle;\n",
       "    }\n",
       "\n",
       "    .dataframe tbody tr th {\n",
       "        vertical-align: top;\n",
       "    }\n",
       "\n",
       "    .dataframe thead th {\n",
       "        text-align: right;\n",
       "    }\n",
       "</style>\n",
       "<table border=\"1\" class=\"dataframe\">\n",
       "  <thead>\n",
       "    <tr style=\"text-align: right;\">\n",
       "      <th></th>\n",
       "      <th>Date</th>\n",
       "      <th>Open</th>\n",
       "      <th>High</th>\n",
       "      <th>Low</th>\n",
       "      <th>Close</th>\n",
       "      <th>Adj Close</th>\n",
       "      <th>Volume</th>\n",
       "    </tr>\n",
       "  </thead>\n",
       "  <tbody>\n",
       "    <tr>\n",
       "      <th>0</th>\n",
       "      <td>2010-06-29</td>\n",
       "      <td>19.000000</td>\n",
       "      <td>25.000000</td>\n",
       "      <td>17.540001</td>\n",
       "      <td>23.889999</td>\n",
       "      <td>23.889999</td>\n",
       "      <td>18766300</td>\n",
       "    </tr>\n",
       "    <tr>\n",
       "      <th>1</th>\n",
       "      <td>2010-06-30</td>\n",
       "      <td>25.790001</td>\n",
       "      <td>30.420000</td>\n",
       "      <td>23.299999</td>\n",
       "      <td>23.830000</td>\n",
       "      <td>23.830000</td>\n",
       "      <td>17187100</td>\n",
       "    </tr>\n",
       "    <tr>\n",
       "      <th>2</th>\n",
       "      <td>2010-07-01</td>\n",
       "      <td>25.000000</td>\n",
       "      <td>25.920000</td>\n",
       "      <td>20.270000</td>\n",
       "      <td>21.959999</td>\n",
       "      <td>21.959999</td>\n",
       "      <td>8218800</td>\n",
       "    </tr>\n",
       "    <tr>\n",
       "      <th>3</th>\n",
       "      <td>2010-07-02</td>\n",
       "      <td>23.000000</td>\n",
       "      <td>23.100000</td>\n",
       "      <td>18.709999</td>\n",
       "      <td>19.200001</td>\n",
       "      <td>19.200001</td>\n",
       "      <td>5139800</td>\n",
       "    </tr>\n",
       "    <tr>\n",
       "      <th>4</th>\n",
       "      <td>2010-07-06</td>\n",
       "      <td>20.000000</td>\n",
       "      <td>20.000000</td>\n",
       "      <td>15.830000</td>\n",
       "      <td>16.110001</td>\n",
       "      <td>16.110001</td>\n",
       "      <td>6866900</td>\n",
       "    </tr>\n",
       "    <tr>\n",
       "      <th>...</th>\n",
       "      <td>...</td>\n",
       "      <td>...</td>\n",
       "      <td>...</td>\n",
       "      <td>...</td>\n",
       "      <td>...</td>\n",
       "      <td>...</td>\n",
       "      <td>...</td>\n",
       "    </tr>\n",
       "    <tr>\n",
       "      <th>2411</th>\n",
       "      <td>2020-01-28</td>\n",
       "      <td>568.489990</td>\n",
       "      <td>576.809998</td>\n",
       "      <td>558.080017</td>\n",
       "      <td>566.900024</td>\n",
       "      <td>566.900024</td>\n",
       "      <td>11788500</td>\n",
       "    </tr>\n",
       "    <tr>\n",
       "      <th>2412</th>\n",
       "      <td>2020-01-29</td>\n",
       "      <td>575.690002</td>\n",
       "      <td>589.799988</td>\n",
       "      <td>567.429993</td>\n",
       "      <td>580.989990</td>\n",
       "      <td>580.989990</td>\n",
       "      <td>17801500</td>\n",
       "    </tr>\n",
       "    <tr>\n",
       "      <th>2413</th>\n",
       "      <td>2020-01-30</td>\n",
       "      <td>632.419983</td>\n",
       "      <td>650.880005</td>\n",
       "      <td>618.000000</td>\n",
       "      <td>640.809998</td>\n",
       "      <td>640.809998</td>\n",
       "      <td>29005700</td>\n",
       "    </tr>\n",
       "    <tr>\n",
       "      <th>2414</th>\n",
       "      <td>2020-01-31</td>\n",
       "      <td>640.000000</td>\n",
       "      <td>653.000000</td>\n",
       "      <td>632.520020</td>\n",
       "      <td>650.570007</td>\n",
       "      <td>650.570007</td>\n",
       "      <td>15719300</td>\n",
       "    </tr>\n",
       "    <tr>\n",
       "      <th>2415</th>\n",
       "      <td>2020-02-03</td>\n",
       "      <td>673.690002</td>\n",
       "      <td>786.140015</td>\n",
       "      <td>673.520020</td>\n",
       "      <td>780.000000</td>\n",
       "      <td>780.000000</td>\n",
       "      <td>47065000</td>\n",
       "    </tr>\n",
       "  </tbody>\n",
       "</table>\n",
       "<p>2416 rows × 7 columns</p>\n",
       "</div>"
      ],
      "text/plain": [
       "            Date        Open        High         Low       Close   Adj Close  \\\n",
       "0     2010-06-29   19.000000   25.000000   17.540001   23.889999   23.889999   \n",
       "1     2010-06-30   25.790001   30.420000   23.299999   23.830000   23.830000   \n",
       "2     2010-07-01   25.000000   25.920000   20.270000   21.959999   21.959999   \n",
       "3     2010-07-02   23.000000   23.100000   18.709999   19.200001   19.200001   \n",
       "4     2010-07-06   20.000000   20.000000   15.830000   16.110001   16.110001   \n",
       "...          ...         ...         ...         ...         ...         ...   \n",
       "2411  2020-01-28  568.489990  576.809998  558.080017  566.900024  566.900024   \n",
       "2412  2020-01-29  575.690002  589.799988  567.429993  580.989990  580.989990   \n",
       "2413  2020-01-30  632.419983  650.880005  618.000000  640.809998  640.809998   \n",
       "2414  2020-01-31  640.000000  653.000000  632.520020  650.570007  650.570007   \n",
       "2415  2020-02-03  673.690002  786.140015  673.520020  780.000000  780.000000   \n",
       "\n",
       "        Volume  \n",
       "0     18766300  \n",
       "1     17187100  \n",
       "2      8218800  \n",
       "3      5139800  \n",
       "4      6866900  \n",
       "...        ...  \n",
       "2411  11788500  \n",
       "2412  17801500  \n",
       "2413  29005700  \n",
       "2414  15719300  \n",
       "2415  47065000  \n",
       "\n",
       "[2416 rows x 7 columns]"
      ]
     },
     "execution_count": 2,
     "metadata": {},
     "output_type": "execute_result"
    }
   ],
   "source": [
    "df = pd.read_csv('/kaggle/input/tesla-stock-data-from-2010-to-2020/TSLA.csv')\n",
    "df"
   ]
  },
  {
   "cell_type": "code",
   "execution_count": 3,
   "id": "0d1857fc",
   "metadata": {
    "execution": {
     "iopub.execute_input": "2024-10-19T08:27:49.568433Z",
     "iopub.status.busy": "2024-10-19T08:27:49.567970Z",
     "iopub.status.idle": "2024-10-19T08:27:49.582581Z",
     "shell.execute_reply": "2024-10-19T08:27:49.581546Z"
    },
    "id": "lG_AO3mdVv17",
    "papermill": {
     "duration": 0.031186,
     "end_time": "2024-10-19T08:27:49.584724",
     "exception": false,
     "start_time": "2024-10-19T08:27:49.553538",
     "status": "completed"
    },
    "tags": []
   },
   "outputs": [
    {
     "data": {
      "text/html": [
       "<div>\n",
       "<style scoped>\n",
       "    .dataframe tbody tr th:only-of-type {\n",
       "        vertical-align: middle;\n",
       "    }\n",
       "\n",
       "    .dataframe tbody tr th {\n",
       "        vertical-align: top;\n",
       "    }\n",
       "\n",
       "    .dataframe thead th {\n",
       "        text-align: right;\n",
       "    }\n",
       "</style>\n",
       "<table border=\"1\" class=\"dataframe\">\n",
       "  <thead>\n",
       "    <tr style=\"text-align: right;\">\n",
       "      <th></th>\n",
       "      <th>Date</th>\n",
       "      <th>Open</th>\n",
       "      <th>High</th>\n",
       "      <th>Low</th>\n",
       "      <th>Close</th>\n",
       "      <th>Adj Close</th>\n",
       "      <th>Volume</th>\n",
       "    </tr>\n",
       "  </thead>\n",
       "  <tbody>\n",
       "    <tr>\n",
       "      <th>0</th>\n",
       "      <td>2010-06-29</td>\n",
       "      <td>19.000000</td>\n",
       "      <td>25.00</td>\n",
       "      <td>17.540001</td>\n",
       "      <td>23.889999</td>\n",
       "      <td>23.889999</td>\n",
       "      <td>18766300</td>\n",
       "    </tr>\n",
       "    <tr>\n",
       "      <th>1</th>\n",
       "      <td>2010-06-30</td>\n",
       "      <td>25.790001</td>\n",
       "      <td>30.42</td>\n",
       "      <td>23.299999</td>\n",
       "      <td>23.830000</td>\n",
       "      <td>23.830000</td>\n",
       "      <td>17187100</td>\n",
       "    </tr>\n",
       "    <tr>\n",
       "      <th>2</th>\n",
       "      <td>2010-07-01</td>\n",
       "      <td>25.000000</td>\n",
       "      <td>25.92</td>\n",
       "      <td>20.270000</td>\n",
       "      <td>21.959999</td>\n",
       "      <td>21.959999</td>\n",
       "      <td>8218800</td>\n",
       "    </tr>\n",
       "    <tr>\n",
       "      <th>3</th>\n",
       "      <td>2010-07-02</td>\n",
       "      <td>23.000000</td>\n",
       "      <td>23.10</td>\n",
       "      <td>18.709999</td>\n",
       "      <td>19.200001</td>\n",
       "      <td>19.200001</td>\n",
       "      <td>5139800</td>\n",
       "    </tr>\n",
       "    <tr>\n",
       "      <th>4</th>\n",
       "      <td>2010-07-06</td>\n",
       "      <td>20.000000</td>\n",
       "      <td>20.00</td>\n",
       "      <td>15.830000</td>\n",
       "      <td>16.110001</td>\n",
       "      <td>16.110001</td>\n",
       "      <td>6866900</td>\n",
       "    </tr>\n",
       "  </tbody>\n",
       "</table>\n",
       "</div>"
      ],
      "text/plain": [
       "         Date       Open   High        Low      Close  Adj Close    Volume\n",
       "0  2010-06-29  19.000000  25.00  17.540001  23.889999  23.889999  18766300\n",
       "1  2010-06-30  25.790001  30.42  23.299999  23.830000  23.830000  17187100\n",
       "2  2010-07-01  25.000000  25.92  20.270000  21.959999  21.959999   8218800\n",
       "3  2010-07-02  23.000000  23.10  18.709999  19.200001  19.200001   5139800\n",
       "4  2010-07-06  20.000000  20.00  15.830000  16.110001  16.110001   6866900"
      ]
     },
     "execution_count": 3,
     "metadata": {},
     "output_type": "execute_result"
    }
   ],
   "source": [
    "df.head()"
   ]
  },
  {
   "cell_type": "code",
   "execution_count": 4,
   "id": "b0e79716",
   "metadata": {
    "execution": {
     "iopub.execute_input": "2024-10-19T08:27:49.613302Z",
     "iopub.status.busy": "2024-10-19T08:27:49.612887Z",
     "iopub.status.idle": "2024-10-19T08:27:49.619904Z",
     "shell.execute_reply": "2024-10-19T08:27:49.618808Z"
    },
    "id": "TU5hlfyvVxY0",
    "papermill": {
     "duration": 0.023766,
     "end_time": "2024-10-19T08:27:49.622258",
     "exception": false,
     "start_time": "2024-10-19T08:27:49.598492",
     "status": "completed"
    },
    "tags": []
   },
   "outputs": [],
   "source": [
    "def check_df(dataframe, head=5):\n",
    "    print(\"##################### Shape #####################\")\n",
    "    print(dataframe.shape)\n",
    "    print(\"##################### Types #####################\")\n",
    "    print(dataframe.dtypes)\n",
    "    print(\"##################### Head #####################\")\n",
    "    print(dataframe.head(head))  # Fonksiyon çağrısına dikkat edin\n",
    "    print(\"##################### Tail #####################\")\n",
    "    print(dataframe.tail(head))\n",
    "    print(\"##################### NA #####################\")\n",
    "    print(dataframe.isnull().sum())\n",
    "    print(\"##################### Quantile #####################\")\n",
    "    print(dataframe.select_dtypes(include='number').quantile([0, 0.05, 0.5, 0.95, 0.99, 1]).T)\n"
   ]
  },
  {
   "cell_type": "code",
   "execution_count": 5,
   "id": "d014017e",
   "metadata": {
    "execution": {
     "iopub.execute_input": "2024-10-19T08:27:49.651305Z",
     "iopub.status.busy": "2024-10-19T08:27:49.650283Z",
     "iopub.status.idle": "2024-10-19T08:27:49.674649Z",
     "shell.execute_reply": "2024-10-19T08:27:49.673382Z"
    },
    "id": "t6iFP965V4vk",
    "papermill": {
     "duration": 0.04198,
     "end_time": "2024-10-19T08:27:49.677643",
     "exception": false,
     "start_time": "2024-10-19T08:27:49.635663",
     "status": "completed"
    },
    "tags": []
   },
   "outputs": [
    {
     "name": "stdout",
     "output_type": "stream",
     "text": [
      "##################### Shape #####################\n",
      "(2416, 7)\n",
      "##################### Types #####################\n",
      "Date          object\n",
      "Open         float64\n",
      "High         float64\n",
      "Low          float64\n",
      "Close        float64\n",
      "Adj Close    float64\n",
      "Volume         int64\n",
      "dtype: object\n",
      "##################### Head #####################\n",
      "         Date       Open   High        Low      Close  Adj Close    Volume\n",
      "0  2010-06-29  19.000000  25.00  17.540001  23.889999  23.889999  18766300\n",
      "1  2010-06-30  25.790001  30.42  23.299999  23.830000  23.830000  17187100\n",
      "2  2010-07-01  25.000000  25.92  20.270000  21.959999  21.959999   8218800\n",
      "3  2010-07-02  23.000000  23.10  18.709999  19.200001  19.200001   5139800\n",
      "4  2010-07-06  20.000000  20.00  15.830000  16.110001  16.110001   6866900\n",
      "##################### Tail #####################\n",
      "            Date        Open        High         Low       Close   Adj Close  \\\n",
      "2411  2020-01-28  568.489990  576.809998  558.080017  566.900024  566.900024   \n",
      "2412  2020-01-29  575.690002  589.799988  567.429993  580.989990  580.989990   \n",
      "2413  2020-01-30  632.419983  650.880005  618.000000  640.809998  640.809998   \n",
      "2414  2020-01-31  640.000000  653.000000  632.520020  650.570007  650.570007   \n",
      "2415  2020-02-03  673.690002  786.140015  673.520020  780.000000  780.000000   \n",
      "\n",
      "        Volume  \n",
      "2411  11788500  \n",
      "2412  17801500  \n",
      "2413  29005700  \n",
      "2414  15719300  \n",
      "2415  47065000  \n",
      "##################### NA #####################\n",
      "Date         0\n",
      "Open         0\n",
      "High         0\n",
      "Low          0\n",
      "Close        0\n",
      "Adj Close    0\n",
      "Volume       0\n",
      "dtype: int64\n",
      "##################### Quantile #####################\n",
      "                    0.00           0.05          0.50          0.95  \\\n",
      "Open           16.139999      23.384999  2.130350e+02  3.519100e+02   \n",
      "High           16.629999      24.022501  2.167450e+02  3.567500e+02   \n",
      "Low            14.980000      22.867499  2.088700e+02  3.460250e+02   \n",
      "Close          15.800000      23.565000  2.129600e+02  3.511675e+02   \n",
      "Adj Close      15.800000      23.565000  2.129600e+02  3.511675e+02   \n",
      "Volume     118500.000000  633825.000000  4.578400e+06  1.476090e+07   \n",
      "\n",
      "                   0.99          1.00  \n",
      "Open       4.235790e+02  6.736900e+02  \n",
      "High       4.284705e+02  7.861400e+02  \n",
      "Low        4.122865e+02  6.735200e+02  \n",
      "Close      4.243455e+02  7.800000e+02  \n",
      "Adj Close  4.243455e+02  7.800000e+02  \n",
      "Volume     2.459959e+07  4.706500e+07  \n"
     ]
    }
   ],
   "source": [
    "check_df(df)"
   ]
  },
  {
   "cell_type": "markdown",
   "id": "b070d645",
   "metadata": {
    "id": "v2n2ONcpWlQl",
    "papermill": {
     "duration": 0.013023,
     "end_time": "2024-10-19T08:27:49.704688",
     "exception": false,
     "start_time": "2024-10-19T08:27:49.691665",
     "status": "completed"
    },
    "tags": []
   },
   "source": [
    "## Data Preparation"
   ]
  },
  {
   "cell_type": "code",
   "execution_count": 6,
   "id": "15a7b9f3",
   "metadata": {
    "execution": {
     "iopub.execute_input": "2024-10-19T08:27:49.734348Z",
     "iopub.status.busy": "2024-10-19T08:27:49.733919Z",
     "iopub.status.idle": "2024-10-19T08:27:49.745957Z",
     "shell.execute_reply": "2024-10-19T08:27:49.744748Z"
    },
    "id": "x-En8ormWAo8",
    "papermill": {
     "duration": 0.030931,
     "end_time": "2024-10-19T08:27:49.748834",
     "exception": false,
     "start_time": "2024-10-19T08:27:49.717903",
     "status": "completed"
    },
    "tags": []
   },
   "outputs": [],
   "source": [
    "df[\"Date\"] = pd.to_datetime(df[\"Date\"])"
   ]
  },
  {
   "cell_type": "code",
   "execution_count": 7,
   "id": "d457b997",
   "metadata": {
    "execution": {
     "iopub.execute_input": "2024-10-19T08:27:49.778667Z",
     "iopub.status.busy": "2024-10-19T08:27:49.778235Z",
     "iopub.status.idle": "2024-10-19T08:27:49.794005Z",
     "shell.execute_reply": "2024-10-19T08:27:49.792877Z"
    },
    "id": "Wk3C4MPkWBUG",
    "papermill": {
     "duration": 0.033511,
     "end_time": "2024-10-19T08:27:49.796425",
     "exception": false,
     "start_time": "2024-10-19T08:27:49.762914",
     "status": "completed"
    },
    "tags": []
   },
   "outputs": [
    {
     "data": {
      "text/html": [
       "<div>\n",
       "<style scoped>\n",
       "    .dataframe tbody tr th:only-of-type {\n",
       "        vertical-align: middle;\n",
       "    }\n",
       "\n",
       "    .dataframe tbody tr th {\n",
       "        vertical-align: top;\n",
       "    }\n",
       "\n",
       "    .dataframe thead th {\n",
       "        text-align: right;\n",
       "    }\n",
       "</style>\n",
       "<table border=\"1\" class=\"dataframe\">\n",
       "  <thead>\n",
       "    <tr style=\"text-align: right;\">\n",
       "      <th></th>\n",
       "      <th>Date</th>\n",
       "      <th>Open</th>\n",
       "      <th>High</th>\n",
       "      <th>Low</th>\n",
       "      <th>Close</th>\n",
       "      <th>Adj Close</th>\n",
       "      <th>Volume</th>\n",
       "    </tr>\n",
       "  </thead>\n",
       "  <tbody>\n",
       "    <tr>\n",
       "      <th>0</th>\n",
       "      <td>2010-06-29</td>\n",
       "      <td>19.000000</td>\n",
       "      <td>25.00</td>\n",
       "      <td>17.540001</td>\n",
       "      <td>23.889999</td>\n",
       "      <td>23.889999</td>\n",
       "      <td>18766300</td>\n",
       "    </tr>\n",
       "    <tr>\n",
       "      <th>1</th>\n",
       "      <td>2010-06-30</td>\n",
       "      <td>25.790001</td>\n",
       "      <td>30.42</td>\n",
       "      <td>23.299999</td>\n",
       "      <td>23.830000</td>\n",
       "      <td>23.830000</td>\n",
       "      <td>17187100</td>\n",
       "    </tr>\n",
       "    <tr>\n",
       "      <th>2</th>\n",
       "      <td>2010-07-01</td>\n",
       "      <td>25.000000</td>\n",
       "      <td>25.92</td>\n",
       "      <td>20.270000</td>\n",
       "      <td>21.959999</td>\n",
       "      <td>21.959999</td>\n",
       "      <td>8218800</td>\n",
       "    </tr>\n",
       "    <tr>\n",
       "      <th>3</th>\n",
       "      <td>2010-07-02</td>\n",
       "      <td>23.000000</td>\n",
       "      <td>23.10</td>\n",
       "      <td>18.709999</td>\n",
       "      <td>19.200001</td>\n",
       "      <td>19.200001</td>\n",
       "      <td>5139800</td>\n",
       "    </tr>\n",
       "    <tr>\n",
       "      <th>4</th>\n",
       "      <td>2010-07-06</td>\n",
       "      <td>20.000000</td>\n",
       "      <td>20.00</td>\n",
       "      <td>15.830000</td>\n",
       "      <td>16.110001</td>\n",
       "      <td>16.110001</td>\n",
       "      <td>6866900</td>\n",
       "    </tr>\n",
       "  </tbody>\n",
       "</table>\n",
       "</div>"
      ],
      "text/plain": [
       "        Date       Open   High        Low      Close  Adj Close    Volume\n",
       "0 2010-06-29  19.000000  25.00  17.540001  23.889999  23.889999  18766300\n",
       "1 2010-06-30  25.790001  30.42  23.299999  23.830000  23.830000  17187100\n",
       "2 2010-07-01  25.000000  25.92  20.270000  21.959999  21.959999   8218800\n",
       "3 2010-07-02  23.000000  23.10  18.709999  19.200001  19.200001   5139800\n",
       "4 2010-07-06  20.000000  20.00  15.830000  16.110001  16.110001   6866900"
      ]
     },
     "execution_count": 7,
     "metadata": {},
     "output_type": "execute_result"
    }
   ],
   "source": [
    "df.head()"
   ]
  },
  {
   "cell_type": "code",
   "execution_count": 8,
   "id": "b70d2fcf",
   "metadata": {
    "execution": {
     "iopub.execute_input": "2024-10-19T08:27:49.826189Z",
     "iopub.status.busy": "2024-10-19T08:27:49.825742Z",
     "iopub.status.idle": "2024-10-19T08:27:49.832185Z",
     "shell.execute_reply": "2024-10-19T08:27:49.831021Z"
    },
    "id": "ZOVzSrk1WCHu",
    "papermill": {
     "duration": 0.023846,
     "end_time": "2024-10-19T08:27:49.834575",
     "exception": false,
     "start_time": "2024-10-19T08:27:49.810729",
     "status": "completed"
    },
    "tags": []
   },
   "outputs": [],
   "source": [
    "tesla_df = df[[\"Date\", \"Close\"]]"
   ]
  },
  {
   "cell_type": "code",
   "execution_count": 9,
   "id": "1a1411d6",
   "metadata": {
    "execution": {
     "iopub.execute_input": "2024-10-19T08:27:49.863622Z",
     "iopub.status.busy": "2024-10-19T08:27:49.862698Z",
     "iopub.status.idle": "2024-10-19T08:27:49.872778Z",
     "shell.execute_reply": "2024-10-19T08:27:49.871759Z"
    },
    "id": "Tli5FuMBWF8l",
    "papermill": {
     "duration": 0.026813,
     "end_time": "2024-10-19T08:27:49.874933",
     "exception": false,
     "start_time": "2024-10-19T08:27:49.848120",
     "status": "completed"
    },
    "tags": []
   },
   "outputs": [
    {
     "data": {
      "text/html": [
       "<div>\n",
       "<style scoped>\n",
       "    .dataframe tbody tr th:only-of-type {\n",
       "        vertical-align: middle;\n",
       "    }\n",
       "\n",
       "    .dataframe tbody tr th {\n",
       "        vertical-align: top;\n",
       "    }\n",
       "\n",
       "    .dataframe thead th {\n",
       "        text-align: right;\n",
       "    }\n",
       "</style>\n",
       "<table border=\"1\" class=\"dataframe\">\n",
       "  <thead>\n",
       "    <tr style=\"text-align: right;\">\n",
       "      <th></th>\n",
       "      <th>Date</th>\n",
       "      <th>Close</th>\n",
       "    </tr>\n",
       "  </thead>\n",
       "  <tbody>\n",
       "    <tr>\n",
       "      <th>0</th>\n",
       "      <td>2010-06-29</td>\n",
       "      <td>23.889999</td>\n",
       "    </tr>\n",
       "    <tr>\n",
       "      <th>1</th>\n",
       "      <td>2010-06-30</td>\n",
       "      <td>23.830000</td>\n",
       "    </tr>\n",
       "    <tr>\n",
       "      <th>2</th>\n",
       "      <td>2010-07-01</td>\n",
       "      <td>21.959999</td>\n",
       "    </tr>\n",
       "    <tr>\n",
       "      <th>3</th>\n",
       "      <td>2010-07-02</td>\n",
       "      <td>19.200001</td>\n",
       "    </tr>\n",
       "    <tr>\n",
       "      <th>4</th>\n",
       "      <td>2010-07-06</td>\n",
       "      <td>16.110001</td>\n",
       "    </tr>\n",
       "  </tbody>\n",
       "</table>\n",
       "</div>"
      ],
      "text/plain": [
       "        Date      Close\n",
       "0 2010-06-29  23.889999\n",
       "1 2010-06-30  23.830000\n",
       "2 2010-07-01  21.959999\n",
       "3 2010-07-02  19.200001\n",
       "4 2010-07-06  16.110001"
      ]
     },
     "execution_count": 9,
     "metadata": {},
     "output_type": "execute_result"
    }
   ],
   "source": [
    "tesla_df.head()"
   ]
  },
  {
   "cell_type": "code",
   "execution_count": 10,
   "id": "0091e03f",
   "metadata": {
    "execution": {
     "iopub.execute_input": "2024-10-19T08:27:49.903878Z",
     "iopub.status.busy": "2024-10-19T08:27:49.903466Z",
     "iopub.status.idle": "2024-10-19T08:27:49.910424Z",
     "shell.execute_reply": "2024-10-19T08:27:49.909308Z"
    },
    "id": "Gsw5OQCAWLzn",
    "papermill": {
     "duration": 0.024273,
     "end_time": "2024-10-19T08:27:49.912815",
     "exception": false,
     "start_time": "2024-10-19T08:27:49.888542",
     "status": "completed"
    },
    "tags": []
   },
   "outputs": [
    {
     "name": "stdout",
     "output_type": "stream",
     "text": [
      "Min Date:  2010-06-29 00:00:00\n",
      "Max Date:  2020-02-03 00:00:00\n"
     ]
    }
   ],
   "source": [
    "print(\"Min Date: \", tesla_df[\"Date\"].min())\n",
    "print(\"Max Date: \", tesla_df[\"Date\"].max())"
   ]
  },
  {
   "cell_type": "code",
   "execution_count": 11,
   "id": "e7f34e1d",
   "metadata": {
    "execution": {
     "iopub.execute_input": "2024-10-19T08:27:49.941892Z",
     "iopub.status.busy": "2024-10-19T08:27:49.941451Z",
     "iopub.status.idle": "2024-10-19T08:27:49.947090Z",
     "shell.execute_reply": "2024-10-19T08:27:49.945911Z"
    },
    "id": "JGi8P08mWQO1",
    "papermill": {
     "duration": 0.022719,
     "end_time": "2024-10-19T08:27:49.949283",
     "exception": false,
     "start_time": "2024-10-19T08:27:49.926564",
     "status": "completed"
    },
    "tags": []
   },
   "outputs": [],
   "source": [
    "tesla_df.index = tesla_df[\"Date\"]"
   ]
  },
  {
   "cell_type": "code",
   "execution_count": 12,
   "id": "a7281931",
   "metadata": {
    "execution": {
     "iopub.execute_input": "2024-10-19T08:27:49.978375Z",
     "iopub.status.busy": "2024-10-19T08:27:49.977952Z",
     "iopub.status.idle": "2024-10-19T08:27:49.990192Z",
     "shell.execute_reply": "2024-10-19T08:27:49.989152Z"
    },
    "id": "YBWxX2IOWoL_",
    "papermill": {
     "duration": 0.029413,
     "end_time": "2024-10-19T08:27:49.992460",
     "exception": false,
     "start_time": "2024-10-19T08:27:49.963047",
     "status": "completed"
    },
    "tags": []
   },
   "outputs": [
    {
     "data": {
      "text/html": [
       "<div>\n",
       "<style scoped>\n",
       "    .dataframe tbody tr th:only-of-type {\n",
       "        vertical-align: middle;\n",
       "    }\n",
       "\n",
       "    .dataframe tbody tr th {\n",
       "        vertical-align: top;\n",
       "    }\n",
       "\n",
       "    .dataframe thead th {\n",
       "        text-align: right;\n",
       "    }\n",
       "</style>\n",
       "<table border=\"1\" class=\"dataframe\">\n",
       "  <thead>\n",
       "    <tr style=\"text-align: right;\">\n",
       "      <th></th>\n",
       "      <th>Date</th>\n",
       "      <th>Close</th>\n",
       "    </tr>\n",
       "    <tr>\n",
       "      <th>Date</th>\n",
       "      <th></th>\n",
       "      <th></th>\n",
       "    </tr>\n",
       "  </thead>\n",
       "  <tbody>\n",
       "    <tr>\n",
       "      <th>2010-06-29</th>\n",
       "      <td>2010-06-29</td>\n",
       "      <td>23.889999</td>\n",
       "    </tr>\n",
       "    <tr>\n",
       "      <th>2010-06-30</th>\n",
       "      <td>2010-06-30</td>\n",
       "      <td>23.830000</td>\n",
       "    </tr>\n",
       "    <tr>\n",
       "      <th>2010-07-01</th>\n",
       "      <td>2010-07-01</td>\n",
       "      <td>21.959999</td>\n",
       "    </tr>\n",
       "    <tr>\n",
       "      <th>2010-07-02</th>\n",
       "      <td>2010-07-02</td>\n",
       "      <td>19.200001</td>\n",
       "    </tr>\n",
       "    <tr>\n",
       "      <th>2010-07-06</th>\n",
       "      <td>2010-07-06</td>\n",
       "      <td>16.110001</td>\n",
       "    </tr>\n",
       "    <tr>\n",
       "      <th>...</th>\n",
       "      <td>...</td>\n",
       "      <td>...</td>\n",
       "    </tr>\n",
       "    <tr>\n",
       "      <th>2020-01-28</th>\n",
       "      <td>2020-01-28</td>\n",
       "      <td>566.900024</td>\n",
       "    </tr>\n",
       "    <tr>\n",
       "      <th>2020-01-29</th>\n",
       "      <td>2020-01-29</td>\n",
       "      <td>580.989990</td>\n",
       "    </tr>\n",
       "    <tr>\n",
       "      <th>2020-01-30</th>\n",
       "      <td>2020-01-30</td>\n",
       "      <td>640.809998</td>\n",
       "    </tr>\n",
       "    <tr>\n",
       "      <th>2020-01-31</th>\n",
       "      <td>2020-01-31</td>\n",
       "      <td>650.570007</td>\n",
       "    </tr>\n",
       "    <tr>\n",
       "      <th>2020-02-03</th>\n",
       "      <td>2020-02-03</td>\n",
       "      <td>780.000000</td>\n",
       "    </tr>\n",
       "  </tbody>\n",
       "</table>\n",
       "<p>2416 rows × 2 columns</p>\n",
       "</div>"
      ],
      "text/plain": [
       "                 Date       Close\n",
       "Date                             \n",
       "2010-06-29 2010-06-29   23.889999\n",
       "2010-06-30 2010-06-30   23.830000\n",
       "2010-07-01 2010-07-01   21.959999\n",
       "2010-07-02 2010-07-02   19.200001\n",
       "2010-07-06 2010-07-06   16.110001\n",
       "...               ...         ...\n",
       "2020-01-28 2020-01-28  566.900024\n",
       "2020-01-29 2020-01-29  580.989990\n",
       "2020-01-30 2020-01-30  640.809998\n",
       "2020-01-31 2020-01-31  650.570007\n",
       "2020-02-03 2020-02-03  780.000000\n",
       "\n",
       "[2416 rows x 2 columns]"
      ]
     },
     "execution_count": 12,
     "metadata": {},
     "output_type": "execute_result"
    }
   ],
   "source": [
    "tesla_df"
   ]
  },
  {
   "cell_type": "code",
   "execution_count": 13,
   "id": "6f7a9809",
   "metadata": {
    "execution": {
     "iopub.execute_input": "2024-10-19T08:27:50.022553Z",
     "iopub.status.busy": "2024-10-19T08:27:50.021784Z",
     "iopub.status.idle": "2024-10-19T08:27:50.027901Z",
     "shell.execute_reply": "2024-10-19T08:27:50.026774Z"
    },
    "id": "tgPM31WBWvcH",
    "papermill": {
     "duration": 0.023583,
     "end_time": "2024-10-19T08:27:50.030115",
     "exception": false,
     "start_time": "2024-10-19T08:27:50.006532",
     "status": "completed"
    },
    "tags": []
   },
   "outputs": [],
   "source": [
    "tesla_df.drop(\"Date\", axis=1, inplace=True)"
   ]
  },
  {
   "cell_type": "code",
   "execution_count": 14,
   "id": "30c458eb",
   "metadata": {
    "execution": {
     "iopub.execute_input": "2024-10-19T08:27:50.060346Z",
     "iopub.status.busy": "2024-10-19T08:27:50.059391Z",
     "iopub.status.idle": "2024-10-19T08:27:50.070515Z",
     "shell.execute_reply": "2024-10-19T08:27:50.069330Z"
    },
    "id": "17KdnKMGWwSm",
    "papermill": {
     "duration": 0.028751,
     "end_time": "2024-10-19T08:27:50.072800",
     "exception": false,
     "start_time": "2024-10-19T08:27:50.044049",
     "status": "completed"
    },
    "tags": []
   },
   "outputs": [
    {
     "data": {
      "text/html": [
       "<div>\n",
       "<style scoped>\n",
       "    .dataframe tbody tr th:only-of-type {\n",
       "        vertical-align: middle;\n",
       "    }\n",
       "\n",
       "    .dataframe tbody tr th {\n",
       "        vertical-align: top;\n",
       "    }\n",
       "\n",
       "    .dataframe thead th {\n",
       "        text-align: right;\n",
       "    }\n",
       "</style>\n",
       "<table border=\"1\" class=\"dataframe\">\n",
       "  <thead>\n",
       "    <tr style=\"text-align: right;\">\n",
       "      <th></th>\n",
       "      <th>Close</th>\n",
       "    </tr>\n",
       "    <tr>\n",
       "      <th>Date</th>\n",
       "      <th></th>\n",
       "    </tr>\n",
       "  </thead>\n",
       "  <tbody>\n",
       "    <tr>\n",
       "      <th>2010-06-29</th>\n",
       "      <td>23.889999</td>\n",
       "    </tr>\n",
       "    <tr>\n",
       "      <th>2010-06-30</th>\n",
       "      <td>23.830000</td>\n",
       "    </tr>\n",
       "    <tr>\n",
       "      <th>2010-07-01</th>\n",
       "      <td>21.959999</td>\n",
       "    </tr>\n",
       "    <tr>\n",
       "      <th>2010-07-02</th>\n",
       "      <td>19.200001</td>\n",
       "    </tr>\n",
       "    <tr>\n",
       "      <th>2010-07-06</th>\n",
       "      <td>16.110001</td>\n",
       "    </tr>\n",
       "    <tr>\n",
       "      <th>...</th>\n",
       "      <td>...</td>\n",
       "    </tr>\n",
       "    <tr>\n",
       "      <th>2020-01-28</th>\n",
       "      <td>566.900024</td>\n",
       "    </tr>\n",
       "    <tr>\n",
       "      <th>2020-01-29</th>\n",
       "      <td>580.989990</td>\n",
       "    </tr>\n",
       "    <tr>\n",
       "      <th>2020-01-30</th>\n",
       "      <td>640.809998</td>\n",
       "    </tr>\n",
       "    <tr>\n",
       "      <th>2020-01-31</th>\n",
       "      <td>650.570007</td>\n",
       "    </tr>\n",
       "    <tr>\n",
       "      <th>2020-02-03</th>\n",
       "      <td>780.000000</td>\n",
       "    </tr>\n",
       "  </tbody>\n",
       "</table>\n",
       "<p>2416 rows × 1 columns</p>\n",
       "</div>"
      ],
      "text/plain": [
       "                 Close\n",
       "Date                  \n",
       "2010-06-29   23.889999\n",
       "2010-06-30   23.830000\n",
       "2010-07-01   21.959999\n",
       "2010-07-02   19.200001\n",
       "2010-07-06   16.110001\n",
       "...                ...\n",
       "2020-01-28  566.900024\n",
       "2020-01-29  580.989990\n",
       "2020-01-30  640.809998\n",
       "2020-01-31  650.570007\n",
       "2020-02-03  780.000000\n",
       "\n",
       "[2416 rows x 1 columns]"
      ]
     },
     "execution_count": 14,
     "metadata": {},
     "output_type": "execute_result"
    }
   ],
   "source": [
    "tesla_df"
   ]
  },
  {
   "cell_type": "code",
   "execution_count": 15,
   "id": "7285bc49",
   "metadata": {
    "execution": {
     "iopub.execute_input": "2024-10-19T08:27:50.103007Z",
     "iopub.status.busy": "2024-10-19T08:27:50.102592Z",
     "iopub.status.idle": "2024-10-19T08:27:50.107870Z",
     "shell.execute_reply": "2024-10-19T08:27:50.106875Z"
    },
    "id": "PliZ5OcsWxsF",
    "papermill": {
     "duration": 0.022845,
     "end_time": "2024-10-19T08:27:50.110056",
     "exception": false,
     "start_time": "2024-10-19T08:27:50.087211",
     "status": "completed"
    },
    "tags": []
   },
   "outputs": [],
   "source": [
    "result_df = tesla_df.copy()"
   ]
  },
  {
   "cell_type": "code",
   "execution_count": 16,
   "id": "d6fae117",
   "metadata": {
    "execution": {
     "iopub.execute_input": "2024-10-19T08:27:50.140129Z",
     "iopub.status.busy": "2024-10-19T08:27:50.139720Z",
     "iopub.status.idle": "2024-10-19T08:27:50.550932Z",
     "shell.execute_reply": "2024-10-19T08:27:50.549821Z"
    },
    "id": "ObqHX6K2W0te",
    "papermill": {
     "duration": 0.429074,
     "end_time": "2024-10-19T08:27:50.553381",
     "exception": false,
     "start_time": "2024-10-19T08:27:50.124307",
     "status": "completed"
    },
    "tags": []
   },
   "outputs": [
    {
     "data": {
      "image/png": "[encoded data removed]",
      "text/plain": [
       "<Figure size 1400x500 with 1 Axes>"
      ]
     },
     "metadata": {},
     "output_type": "display_data"
    }
   ],
   "source": [
    "plt.figure(figsize=(14,5))\n",
    "plt.plot(tesla_df['Close'], color='blue')\n",
    "plt.title(\"Tesla Stock Price\")\n",
    "plt.xlabel(\"Time\")\n",
    "plt.ylabel(\"Stock Price\")\n",
    "plt.show()"
   ]
  },
  {
   "cell_type": "code",
   "execution_count": 17,
   "id": "858dce3d",
   "metadata": {
    "execution": {
     "iopub.execute_input": "2024-10-19T08:27:50.585408Z",
     "iopub.status.busy": "2024-10-19T08:27:50.584948Z",
     "iopub.status.idle": "2024-10-19T08:27:50.590018Z",
     "shell.execute_reply": "2024-10-19T08:27:50.588947Z"
    },
    "id": "5LWFDWjNW2z2",
    "papermill": {
     "duration": 0.02394,
     "end_time": "2024-10-19T08:27:50.592608",
     "exception": false,
     "start_time": "2024-10-19T08:27:50.568668",
     "status": "completed"
    },
    "tags": []
   },
   "outputs": [],
   "source": [
    "tesla_df = tesla_df.values"
   ]
  },
  {
   "cell_type": "code",
   "execution_count": 18,
   "id": "15fa159b",
   "metadata": {
    "execution": {
     "iopub.execute_input": "2024-10-19T08:27:50.624602Z",
     "iopub.status.busy": "2024-10-19T08:27:50.624172Z",
     "iopub.status.idle": "2024-10-19T08:27:50.631378Z",
     "shell.execute_reply": "2024-10-19T08:27:50.630297Z"
    },
    "id": "jxFZkTS-W9Mm",
    "papermill": {
     "duration": 0.02617,
     "end_time": "2024-10-19T08:27:50.633977",
     "exception": false,
     "start_time": "2024-10-19T08:27:50.607807",
     "status": "completed"
    },
    "tags": []
   },
   "outputs": [
    {
     "data": {
      "text/plain": [
       "array([[23.889999],\n",
       "       [23.83    ],\n",
       "       [21.959999],\n",
       "       [19.200001],\n",
       "       [16.110001]])"
      ]
     },
     "execution_count": 18,
     "metadata": {},
     "output_type": "execute_result"
    }
   ],
   "source": [
    "tesla_df[0:5]"
   ]
  },
  {
   "cell_type": "code",
   "execution_count": 19,
   "id": "fd5e94c6",
   "metadata": {
    "execution": {
     "iopub.execute_input": "2024-10-19T08:27:50.665984Z",
     "iopub.status.busy": "2024-10-19T08:27:50.665597Z",
     "iopub.status.idle": "2024-10-19T08:27:50.670375Z",
     "shell.execute_reply": "2024-10-19T08:27:50.669349Z"
    },
    "id": "iU7KJlc4XAb2",
    "papermill": {
     "duration": 0.023507,
     "end_time": "2024-10-19T08:27:50.672563",
     "exception": false,
     "start_time": "2024-10-19T08:27:50.649056",
     "status": "completed"
    },
    "tags": []
   },
   "outputs": [],
   "source": [
    "tesla_df = tesla_df.astype(\"float32\")"
   ]
  },
  {
   "cell_type": "code",
   "execution_count": 20,
   "id": "57a976ae",
   "metadata": {
    "execution": {
     "iopub.execute_input": "2024-10-19T08:27:50.705255Z",
     "iopub.status.busy": "2024-10-19T08:27:50.704264Z",
     "iopub.status.idle": "2024-10-19T08:27:50.710159Z",
     "shell.execute_reply": "2024-10-19T08:27:50.709032Z"
    },
    "id": "r7Cywk9oXBI-",
    "papermill": {
     "duration": 0.024442,
     "end_time": "2024-10-19T08:27:50.712304",
     "exception": false,
     "start_time": "2024-10-19T08:27:50.687862",
     "status": "completed"
    },
    "tags": []
   },
   "outputs": [],
   "source": [
    "def split_data(dataframe, test_size):\n",
    "  position = int(round(len(dataframe) * (1 - test_size)))\n",
    "  train = dataframe[:position]\n",
    "  test = dataframe[position:]\n",
    "  return train, test, position"
   ]
  },
  {
   "cell_type": "code",
   "execution_count": 21,
   "id": "d87423fc",
   "metadata": {
    "execution": {
     "iopub.execute_input": "2024-10-19T08:27:50.744842Z",
     "iopub.status.busy": "2024-10-19T08:27:50.743968Z",
     "iopub.status.idle": "2024-10-19T08:27:50.749455Z",
     "shell.execute_reply": "2024-10-19T08:27:50.748240Z"
    },
    "id": "COxqfz0SZvV_",
    "papermill": {
     "duration": 0.024429,
     "end_time": "2024-10-19T08:27:50.751991",
     "exception": false,
     "start_time": "2024-10-19T08:27:50.727562",
     "status": "completed"
    },
    "tags": []
   },
   "outputs": [],
   "source": [
    "train, test, position = split_data(tesla_df, 0.20)"
   ]
  },
  {
   "cell_type": "code",
   "execution_count": 22,
   "id": "bdc56a7e",
   "metadata": {
    "execution": {
     "iopub.execute_input": "2024-10-19T08:27:50.786667Z",
     "iopub.status.busy": "2024-10-19T08:27:50.786217Z",
     "iopub.status.idle": "2024-10-19T08:27:50.792822Z",
     "shell.execute_reply": "2024-10-19T08:27:50.791504Z"
    },
    "id": "jESwxnt2Z1t5",
    "papermill": {
     "duration": 0.026986,
     "end_time": "2024-10-19T08:27:50.795276",
     "exception": false,
     "start_time": "2024-10-19T08:27:50.768290",
     "status": "completed"
    },
    "tags": []
   },
   "outputs": [
    {
     "name": "stdout",
     "output_type": "stream",
     "text": [
      "(1933, 1) (483, 1)\n"
     ]
    }
   ],
   "source": [
    "print(train.shape, test.shape)"
   ]
  },
  {
   "cell_type": "code",
   "execution_count": 23,
   "id": "6f47aa8e",
   "metadata": {
    "execution": {
     "iopub.execute_input": "2024-10-19T08:27:50.827891Z",
     "iopub.status.busy": "2024-10-19T08:27:50.827460Z",
     "iopub.status.idle": "2024-10-19T08:27:50.832717Z",
     "shell.execute_reply": "2024-10-19T08:27:50.831568Z"
    },
    "id": "wleQDdgSZ8NZ",
    "papermill": {
     "duration": 0.024151,
     "end_time": "2024-10-19T08:27:50.834963",
     "exception": false,
     "start_time": "2024-10-19T08:27:50.810812",
     "status": "completed"
    },
    "tags": []
   },
   "outputs": [],
   "source": [
    "scaler_train = MinMaxScaler(feature_range = (0,1))"
   ]
  },
  {
   "cell_type": "code",
   "execution_count": 24,
   "id": "fe517508",
   "metadata": {
    "execution": {
     "iopub.execute_input": "2024-10-19T08:27:50.867173Z",
     "iopub.status.busy": "2024-10-19T08:27:50.866755Z",
     "iopub.status.idle": "2024-10-19T08:27:50.873051Z",
     "shell.execute_reply": "2024-10-19T08:27:50.871986Z"
    },
    "id": "Enf8wikDaNZh",
    "papermill": {
     "duration": 0.025063,
     "end_time": "2024-10-19T08:27:50.875292",
     "exception": false,
     "start_time": "2024-10-19T08:27:50.850229",
     "status": "completed"
    },
    "tags": []
   },
   "outputs": [],
   "source": [
    "train = scaler_train.fit_transform(train)"
   ]
  },
  {
   "cell_type": "code",
   "execution_count": 25,
   "id": "9ab457fa",
   "metadata": {
    "execution": {
     "iopub.execute_input": "2024-10-19T08:27:50.907416Z",
     "iopub.status.busy": "2024-10-19T08:27:50.906919Z",
     "iopub.status.idle": "2024-10-19T08:27:50.912202Z",
     "shell.execute_reply": "2024-10-19T08:27:50.911192Z"
    },
    "id": "cg-7tCn_aXTc",
    "papermill": {
     "duration": 0.02405,
     "end_time": "2024-10-19T08:27:50.914591",
     "exception": false,
     "start_time": "2024-10-19T08:27:50.890541",
     "status": "completed"
    },
    "tags": []
   },
   "outputs": [],
   "source": [
    "scaler_test = MinMaxScaler(feature_range = (0,1))"
   ]
  },
  {
   "cell_type": "code",
   "execution_count": 26,
   "id": "c76d9dc2",
   "metadata": {
    "execution": {
     "iopub.execute_input": "2024-10-19T08:27:50.947055Z",
     "iopub.status.busy": "2024-10-19T08:27:50.946148Z",
     "iopub.status.idle": "2024-10-19T08:27:50.951991Z",
     "shell.execute_reply": "2024-10-19T08:27:50.950915Z"
    },
    "id": "tSbuIifiabbC",
    "papermill": {
     "duration": 0.024582,
     "end_time": "2024-10-19T08:27:50.954297",
     "exception": false,
     "start_time": "2024-10-19T08:27:50.929715",
     "status": "completed"
    },
    "tags": []
   },
   "outputs": [],
   "source": [
    "test = scaler_test.fit_transform(test)"
   ]
  },
  {
   "cell_type": "code",
   "execution_count": 27,
   "id": "bfb1d46f",
   "metadata": {
    "execution": {
     "iopub.execute_input": "2024-10-19T08:27:50.986488Z",
     "iopub.status.busy": "2024-10-19T08:27:50.986013Z",
     "iopub.status.idle": "2024-10-19T08:27:50.993060Z",
     "shell.execute_reply": "2024-10-19T08:27:50.992119Z"
    },
    "id": "X5a7m_BEagaJ",
    "papermill": {
     "duration": 0.025836,
     "end_time": "2024-10-19T08:27:50.995403",
     "exception": false,
     "start_time": "2024-10-19T08:27:50.969567",
     "status": "completed"
    },
    "tags": []
   },
   "outputs": [
    {
     "data": {
      "text/plain": [
       "array([[0.02191224],\n",
       "       [0.02174973],\n",
       "       [0.01668472],\n",
       "       [0.0092091 ],\n",
       "       [0.00083966]], dtype=float32)"
      ]
     },
     "execution_count": 27,
     "metadata": {},
     "output_type": "execute_result"
    }
   ],
   "source": [
    "train[0:5]"
   ]
  },
  {
   "cell_type": "code",
   "execution_count": 28,
   "id": "47f1d406",
   "metadata": {
    "execution": {
     "iopub.execute_input": "2024-10-19T08:27:51.028492Z",
     "iopub.status.busy": "2024-10-19T08:27:51.027427Z",
     "iopub.status.idle": "2024-10-19T08:27:51.034968Z",
     "shell.execute_reply": "2024-10-19T08:27:51.033942Z"
    },
    "id": "AeVSy_ijahnh",
    "papermill": {
     "duration": 0.026488,
     "end_time": "2024-10-19T08:27:51.037210",
     "exception": false,
     "start_time": "2024-10-19T08:27:51.010722",
     "status": "completed"
    },
    "tags": []
   },
   "outputs": [
    {
     "data": {
      "text/plain": [
       "array([[0.25685903],\n",
       "       [0.24829045],\n",
       "       [0.25511202],\n",
       "       [0.24978784],\n",
       "       [0.2465767 ]], dtype=float32)"
      ]
     },
     "execution_count": 28,
     "metadata": {},
     "output_type": "execute_result"
    }
   ],
   "source": [
    "test[0:5]"
   ]
  },
  {
   "cell_type": "code",
   "execution_count": 29,
   "id": "44346e1d",
   "metadata": {
    "execution": {
     "iopub.execute_input": "2024-10-19T08:27:51.069859Z",
     "iopub.status.busy": "2024-10-19T08:27:51.069384Z",
     "iopub.status.idle": "2024-10-19T08:27:51.075759Z",
     "shell.execute_reply": "2024-10-19T08:27:51.074640Z"
    },
    "id": "Gv95UqJWasHS",
    "papermill": {
     "duration": 0.025501,
     "end_time": "2024-10-19T08:27:51.078216",
     "exception": false,
     "start_time": "2024-10-19T08:27:51.052715",
     "status": "completed"
    },
    "tags": []
   },
   "outputs": [],
   "source": [
    "def create_features(data, lookback):\n",
    "  X, Y = [], []\n",
    "  for i in range(lookback, len(data)):\n",
    "    X.append(data[i-lookback:i,0])\n",
    "    Y.append(data[i,0])\n",
    "\n",
    "  return np.array(X), np.array(Y)"
   ]
  },
  {
   "cell_type": "code",
   "execution_count": 30,
   "id": "ef9086ba",
   "metadata": {
    "execution": {
     "iopub.execute_input": "2024-10-19T08:27:51.111532Z",
     "iopub.status.busy": "2024-10-19T08:27:51.111061Z",
     "iopub.status.idle": "2024-10-19T08:27:51.116139Z",
     "shell.execute_reply": "2024-10-19T08:27:51.114803Z"
    },
    "id": "e36Ux4_CbASm",
    "papermill": {
     "duration": 0.024339,
     "end_time": "2024-10-19T08:27:51.118468",
     "exception": false,
     "start_time": "2024-10-19T08:27:51.094129",
     "status": "completed"
    },
    "tags": []
   },
   "outputs": [],
   "source": [
    "lookback = 20"
   ]
  },
  {
   "cell_type": "code",
   "execution_count": 31,
   "id": "f91d2f0d",
   "metadata": {
    "execution": {
     "iopub.execute_input": "2024-10-19T08:27:51.151549Z",
     "iopub.status.busy": "2024-10-19T08:27:51.151120Z",
     "iopub.status.idle": "2024-10-19T08:27:51.160291Z",
     "shell.execute_reply": "2024-10-19T08:27:51.159119Z"
    },
    "id": "Xd8JMdaWbCzp",
    "papermill": {
     "duration": 0.029445,
     "end_time": "2024-10-19T08:27:51.163327",
     "exception": false,
     "start_time": "2024-10-19T08:27:51.133882",
     "status": "completed"
    },
    "tags": []
   },
   "outputs": [],
   "source": [
    "X_train, y_train = create_features(train, lookback)"
   ]
  },
  {
   "cell_type": "code",
   "execution_count": 32,
   "id": "a6250975",
   "metadata": {
    "execution": {
     "iopub.execute_input": "2024-10-19T08:27:51.249806Z",
     "iopub.status.busy": "2024-10-19T08:27:51.249375Z",
     "iopub.status.idle": "2024-10-19T08:27:51.255493Z",
     "shell.execute_reply": "2024-10-19T08:27:51.254583Z"
    },
    "id": "wHgq8DT5bF_Z",
    "papermill": {
     "duration": 0.078856,
     "end_time": "2024-10-19T08:27:51.257695",
     "exception": false,
     "start_time": "2024-10-19T08:27:51.178839",
     "status": "completed"
    },
    "tags": []
   },
   "outputs": [],
   "source": [
    "X_test, y_test = create_features(test, lookback)"
   ]
  },
  {
   "cell_type": "code",
   "execution_count": 33,
   "id": "bd8b3e5c",
   "metadata": {
    "execution": {
     "iopub.execute_input": "2024-10-19T08:27:51.291664Z",
     "iopub.status.busy": "2024-10-19T08:27:51.291229Z",
     "iopub.status.idle": "2024-10-19T08:27:51.297126Z",
     "shell.execute_reply": "2024-10-19T08:27:51.296056Z"
    },
    "id": "zYQy_33TbKdb",
    "papermill": {
     "duration": 0.02499,
     "end_time": "2024-10-19T08:27:51.299228",
     "exception": false,
     "start_time": "2024-10-19T08:27:51.274238",
     "status": "completed"
    },
    "tags": []
   },
   "outputs": [
    {
     "name": "stdout",
     "output_type": "stream",
     "text": [
      "(1913, 20) (1913,) (463, 20) (463,)\n"
     ]
    }
   ],
   "source": [
    "print(X_train.shape, y_train.shape, X_test.shape, y_test.shape)"
   ]
  },
  {
   "cell_type": "code",
   "execution_count": 34,
   "id": "a8c9838c",
   "metadata": {
    "execution": {
     "iopub.execute_input": "2024-10-19T08:27:51.332493Z",
     "iopub.status.busy": "2024-10-19T08:27:51.331744Z",
     "iopub.status.idle": "2024-10-19T08:27:51.339695Z",
     "shell.execute_reply": "2024-10-19T08:27:51.338678Z"
    },
    "id": "sI1k-K6bTKuw",
    "papermill": {
     "duration": 0.027134,
     "end_time": "2024-10-19T08:27:51.341992",
     "exception": false,
     "start_time": "2024-10-19T08:27:51.314858",
     "status": "completed"
    },
    "tags": []
   },
   "outputs": [
    {
     "data": {
      "text/plain": [
       "array([[0.02191224, 0.02174973, 0.01668472, 0.0092091 , 0.00083966,\n",
       "        0.        , 0.00449621, 0.00433369, 0.0033857 , 0.00633803,\n",
       "        0.01094258, 0.011078  , 0.01310942, 0.0165493 , 0.01218851,\n",
       "        0.01197183, 0.01408451, 0.01486999, 0.01394908, 0.01286566],\n",
       "       [0.02174973, 0.01668472, 0.0092091 , 0.00083966, 0.        ,\n",
       "        0.00449621, 0.00433369, 0.0033857 , 0.00633803, 0.01094258,\n",
       "        0.011078  , 0.01310942, 0.0165493 , 0.01218851, 0.01197183,\n",
       "        0.01408451, 0.01486999, 0.01394908, 0.01286566, 0.01332611],\n",
       "       [0.01668472, 0.0092091 , 0.00083966, 0.        , 0.00449621,\n",
       "        0.00433369, 0.0033857 , 0.00633803, 0.01094258, 0.011078  ,\n",
       "        0.01310942, 0.0165493 , 0.01218851, 0.01197183, 0.01408451,\n",
       "        0.01486999, 0.01394908, 0.01286566, 0.01332611, 0.01232395],\n",
       "       [0.0092091 , 0.00083966, 0.        , 0.00449621, 0.00433369,\n",
       "        0.0033857 , 0.00633803, 0.01094258, 0.011078  , 0.01310942,\n",
       "        0.0165493 , 0.01218851, 0.01197183, 0.01408451, 0.01486999,\n",
       "        0.01394908, 0.01286566, 0.01332611, 0.01232395, 0.01121344],\n",
       "       [0.00083966, 0.        , 0.00449621, 0.00433369, 0.0033857 ,\n",
       "        0.00633803, 0.01094258, 0.011078  , 0.01310942, 0.0165493 ,\n",
       "        0.01218851, 0.01197183, 0.01408451, 0.01486999, 0.01394908,\n",
       "        0.01286566, 0.01332611, 0.01232395, 0.01121344, 0.01386782]],\n",
       "      dtype=float32)"
      ]
     },
     "execution_count": 34,
     "metadata": {},
     "output_type": "execute_result"
    }
   ],
   "source": [
    "X_train[0:5]"
   ]
  },
  {
   "cell_type": "code",
   "execution_count": 35,
   "id": "6322e4c7",
   "metadata": {
    "execution": {
     "iopub.execute_input": "2024-10-19T08:27:51.376314Z",
     "iopub.status.busy": "2024-10-19T08:27:51.375893Z",
     "iopub.status.idle": "2024-10-19T08:27:51.383817Z",
     "shell.execute_reply": "2024-10-19T08:27:51.382598Z"
    },
    "id": "vY5hCVQHTg9u",
    "papermill": {
     "duration": 0.028265,
     "end_time": "2024-10-19T08:27:51.386275",
     "exception": false,
     "start_time": "2024-10-19T08:27:51.358010",
     "status": "completed"
    },
    "tags": []
   },
   "outputs": [
    {
     "data": {
      "text/plain": [
       "array([0.01332611, 0.01232395, 0.01121344, 0.01386782, 0.01665764],\n",
       "      dtype=float32)"
      ]
     },
     "execution_count": 35,
     "metadata": {},
     "output_type": "execute_result"
    }
   ],
   "source": [
    "y_train[0:5]"
   ]
  },
  {
   "cell_type": "code",
   "execution_count": 36,
   "id": "a0f19974",
   "metadata": {
    "execution": {
     "iopub.execute_input": "2024-10-19T08:27:51.419898Z",
     "iopub.status.busy": "2024-10-19T08:27:51.419107Z",
     "iopub.status.idle": "2024-10-19T08:27:51.425008Z",
     "shell.execute_reply": "2024-10-19T08:27:51.423929Z"
    },
    "id": "yvf-4kLybad5",
    "papermill": {
     "duration": 0.025255,
     "end_time": "2024-10-19T08:27:51.427387",
     "exception": false,
     "start_time": "2024-10-19T08:27:51.402132",
     "status": "completed"
    },
    "tags": []
   },
   "outputs": [],
   "source": [
    "X_train = np.reshape(X_train, (X_train.shape[0], 1, X_train.shape[1]))\n",
    "X_test = np.reshape(X_test, (X_test.shape[0], 1, X_test.shape[1]))\n",
    "y_train = y_train.reshape(-1,1)\n",
    "y_test = y_test.reshape(-1,1)"
   ]
  },
  {
   "cell_type": "code",
   "execution_count": 37,
   "id": "389b5f7a",
   "metadata": {
    "execution": {
     "iopub.execute_input": "2024-10-19T08:27:51.461139Z",
     "iopub.status.busy": "2024-10-19T08:27:51.460419Z",
     "iopub.status.idle": "2024-10-19T08:27:51.466454Z",
     "shell.execute_reply": "2024-10-19T08:27:51.465318Z"
    },
    "id": "D2ltv0Edb3wz",
    "papermill": {
     "duration": 0.025526,
     "end_time": "2024-10-19T08:27:51.468816",
     "exception": false,
     "start_time": "2024-10-19T08:27:51.443290",
     "status": "completed"
    },
    "tags": []
   },
   "outputs": [
    {
     "name": "stdout",
     "output_type": "stream",
     "text": [
      "(1913, 1, 20) (1913, 1) (463, 1, 20) (463, 1)\n"
     ]
    }
   ],
   "source": [
    "print(X_train.shape, y_train.shape, X_test.shape, y_test.shape)"
   ]
  },
  {
   "cell_type": "markdown",
   "id": "3f0083be",
   "metadata": {
    "id": "DtsN3xazcIAn",
    "papermill": {
     "duration": 0.015519,
     "end_time": "2024-10-19T08:27:51.500260",
     "exception": false,
     "start_time": "2024-10-19T08:27:51.484741",
     "status": "completed"
    },
    "tags": []
   },
   "source": [
    "## Modelling"
   ]
  },
  {
   "cell_type": "code",
   "execution_count": 38,
   "id": "cc97a4e0",
   "metadata": {
    "execution": {
     "iopub.execute_input": "2024-10-19T08:27:51.534118Z",
     "iopub.status.busy": "2024-10-19T08:27:51.533690Z",
     "iopub.status.idle": "2024-10-19T08:27:51.655115Z",
     "shell.execute_reply": "2024-10-19T08:27:51.654125Z"
    },
    "id": "QtbQx4G9cI_z",
    "papermill": {
     "duration": 0.141215,
     "end_time": "2024-10-19T08:27:51.657733",
     "exception": false,
     "start_time": "2024-10-19T08:27:51.516518",
     "status": "completed"
    },
    "tags": []
   },
   "outputs": [],
   "source": [
    "model = Sequential()\n",
    "\n",
    "model.add(LSTM(units = 50,\n",
    "                    activation = 'relu',\n",
    "                    input_shape=(X_train.shape[1], lookback)))\n",
    "\n",
    "model.add(Dropout(0.2))\n",
    "\n",
    "model.add(Dense(1))\n"
   ]
  },
  {
   "cell_type": "code",
   "execution_count": 39,
   "id": "2ae93f31",
   "metadata": {
    "execution": {
     "iopub.execute_input": "2024-10-19T08:27:51.692424Z",
     "iopub.status.busy": "2024-10-19T08:27:51.691348Z",
     "iopub.status.idle": "2024-10-19T08:27:51.712272Z",
     "shell.execute_reply": "2024-10-19T08:27:51.711192Z"
    },
    "id": "RQFXIkDbciE6",
    "papermill": {
     "duration": 0.040722,
     "end_time": "2024-10-19T08:27:51.714549",
     "exception": false,
     "start_time": "2024-10-19T08:27:51.673827",
     "status": "completed"
    },
    "tags": []
   },
   "outputs": [
    {
     "data": {
      "text/html": [
       "<pre style=\"white-space:pre;overflow-x:auto;line-height:normal;font-family:Menlo,'DejaVu Sans Mono',consolas,'Courier New',monospace\"><span style=\"font-weight: bold\">Model: \"sequential\"</span>\n",
       "</pre>\n"
      ],
      "text/plain": [
       "\u001b[1mModel: \"sequential\"\u001b[0m\n"
      ]
     },
     "metadata": {},
     "output_type": "display_data"
    },
    {
     "data": {
      "text/html": [
       "<pre style=\"white-space:pre;overflow-x:auto;line-height:normal;font-family:Menlo,'DejaVu Sans Mono',consolas,'Courier New',monospace\">┏━━━━━━━━━━━━━━━━━━━━━━━━━━━━━━━━━┳━━━━━━━━━━━━━━━━━━━━━━━━┳━━━━━━━━━━━━━━━┓\n",
       "┃<span style=\"font-weight: bold\"> Layer (type)                    </span>┃<span style=\"font-weight: bold\"> Output Shape           </span>┃<span style=\"font-weight: bold\">       Param # </span>┃\n",
       "┡━━━━━━━━━━━━━━━━━━━━━━━━━━━━━━━━━╇━━━━━━━━━━━━━━━━━━━━━━━━╇━━━━━━━━━━━━━━━┩\n",
       "│ lstm (<span style=\"color: #0087ff; text-decoration-color: #0087ff\">LSTM</span>)                     │ (<span style=\"color: #00d7ff; text-decoration-color: #00d7ff\">None</span>, <span style=\"color: #00af00; text-decoration-color: #00af00\">50</span>)             │        <span style=\"color: #00af00; text-decoration-color: #00af00\">14,200</span> │\n",
       "├─────────────────────────────────┼────────────────────────┼───────────────┤\n",
       "│ dropout (<span style=\"color: #0087ff; text-decoration-color: #0087ff\">Dropout</span>)               │ (<span style=\"color: #00d7ff; text-decoration-color: #00d7ff\">None</span>, <span style=\"color: #00af00; text-decoration-color: #00af00\">50</span>)             │             <span style=\"color: #00af00; text-decoration-color: #00af00\">0</span> │\n",
       "├─────────────────────────────────┼────────────────────────┼───────────────┤\n",
       "│ dense (<span style=\"color: #0087ff; text-decoration-color: #0087ff\">Dense</span>)                   │ (<span style=\"color: #00d7ff; text-decoration-color: #00d7ff\">None</span>, <span style=\"color: #00af00; text-decoration-color: #00af00\">1</span>)              │            <span style=\"color: #00af00; text-decoration-color: #00af00\">51</span> │\n",
       "└─────────────────────────────────┴────────────────────────┴───────────────┘\n",
       "</pre>\n"
      ],
      "text/plain": [
       "┏━━━━━━━━━━━━━━━━━━━━━━━━━━━━━━━━━┳━━━━━━━━━━━━━━━━━━━━━━━━┳━━━━━━━━━━━━━━━┓\n",
       "┃\u001b[1m \u001b[0m\u001b[1mLayer (type)                   \u001b[0m\u001b[1m \u001b[0m┃\u001b[1m \u001b[0m\u001b[1mOutput Shape          \u001b[0m\u001b[1m \u001b[0m┃\u001b[1m \u001b[0m\u001b[1m      Param #\u001b[0m\u001b[1m \u001b[0m┃\n",
       "┡━━━━━━━━━━━━━━━━━━━━━━━━━━━━━━━━━╇━━━━━━━━━━━━━━━━━━━━━━━━╇━━━━━━━━━━━━━━━┩\n",
       "│ lstm (\u001b[38;5;33mLSTM\u001b[0m)                     │ (\u001b[38;5;45mNone\u001b[0m, \u001b[38;5;34m50\u001b[0m)             │        \u001b[38;5;34m14,200\u001b[0m │\n",
       "├─────────────────────────────────┼────────────────────────┼───────────────┤\n",
       "│ dropout (\u001b[38;5;33mDropout\u001b[0m)               │ (\u001b[38;5;45mNone\u001b[0m, \u001b[38;5;34m50\u001b[0m)             │             \u001b[38;5;34m0\u001b[0m │\n",
       "├─────────────────────────────────┼────────────────────────┼───────────────┤\n",
       "│ dense (\u001b[38;5;33mDense\u001b[0m)                   │ (\u001b[38;5;45mNone\u001b[0m, \u001b[38;5;34m1\u001b[0m)              │            \u001b[38;5;34m51\u001b[0m │\n",
       "└─────────────────────────────────┴────────────────────────┴───────────────┘\n"
      ]
     },
     "metadata": {},
     "output_type": "display_data"
    },
    {
     "data": {
      "text/html": [
       "<pre style=\"white-space:pre;overflow-x:auto;line-height:normal;font-family:Menlo,'DejaVu Sans Mono',consolas,'Courier New',monospace\"><span style=\"font-weight: bold\"> Total params: </span><span style=\"color: #00af00; text-decoration-color: #00af00\">14,251</span> (55.67 KB)\n",
       "</pre>\n"
      ],
      "text/plain": [
       "\u001b[1m Total params: \u001b[0m\u001b[38;5;34m14,251\u001b[0m (55.67 KB)\n"
      ]
     },
     "metadata": {},
     "output_type": "display_data"
    },
    {
     "data": {
      "text/html": [
       "<pre style=\"white-space:pre;overflow-x:auto;line-height:normal;font-family:Menlo,'DejaVu Sans Mono',consolas,'Courier New',monospace\"><span style=\"font-weight: bold\"> Trainable params: </span><span style=\"color: #00af00; text-decoration-color: #00af00\">14,251</span> (55.67 KB)\n",
       "</pre>\n"
      ],
      "text/plain": [
       "\u001b[1m Trainable params: \u001b[0m\u001b[38;5;34m14,251\u001b[0m (55.67 KB)\n"
      ]
     },
     "metadata": {},
     "output_type": "display_data"
    },
    {
     "data": {
      "text/html": [
       "<pre style=\"white-space:pre;overflow-x:auto;line-height:normal;font-family:Menlo,'DejaVu Sans Mono',consolas,'Courier New',monospace\"><span style=\"font-weight: bold\"> Non-trainable params: </span><span style=\"color: #00af00; text-decoration-color: #00af00\">0</span> (0.00 B)\n",
       "</pre>\n"
      ],
      "text/plain": [
       "\u001b[1m Non-trainable params: \u001b[0m\u001b[38;5;34m0\u001b[0m (0.00 B)\n"
      ]
     },
     "metadata": {},
     "output_type": "display_data"
    }
   ],
   "source": [
    "model.summary()"
   ]
  },
  {
   "cell_type": "code",
   "execution_count": 40,
   "id": "1bf8787e",
   "metadata": {
    "execution": {
     "iopub.execute_input": "2024-10-19T08:27:51.749484Z",
     "iopub.status.busy": "2024-10-19T08:27:51.749040Z",
     "iopub.status.idle": "2024-10-19T08:27:51.763912Z",
     "shell.execute_reply": "2024-10-19T08:27:51.762842Z"
    },
    "id": "NE6_O7IwclkT",
    "papermill": {
     "duration": 0.035255,
     "end_time": "2024-10-19T08:27:51.766435",
     "exception": false,
     "start_time": "2024-10-19T08:27:51.731180",
     "status": "completed"
    },
    "tags": []
   },
   "outputs": [],
   "source": [
    "model.compile(loss='mean_squared_error', optimizer='adam')"
   ]
  },
  {
   "cell_type": "code",
   "execution_count": 41,
   "id": "de271a94",
   "metadata": {
    "execution": {
     "iopub.execute_input": "2024-10-19T08:27:51.802942Z",
     "iopub.status.busy": "2024-10-19T08:27:51.802475Z",
     "iopub.status.idle": "2024-10-19T08:27:51.807983Z",
     "shell.execute_reply": "2024-10-19T08:27:51.806940Z"
    },
    "id": "JLqjYZudc3Is",
    "papermill": {
     "duration": 0.026023,
     "end_time": "2024-10-19T08:27:51.810279",
     "exception": false,
     "start_time": "2024-10-19T08:27:51.784256",
     "status": "completed"
    },
    "tags": []
   },
   "outputs": [],
   "source": [
    "callbacks = (EarlyStopping(monitor='val_loss', patience=10, verbose=1, mode='min'),\n",
    "            ModelCheckpoint(filepath='mymodel.keras', monitor='val_loss', mode='min',\n",
    "            save_best_only = True, save_weights_only = False, verbose = 1))"
   ]
  },
  {
   "cell_type": "code",
   "execution_count": 42,
   "id": "10ce1e73",
   "metadata": {
    "execution": {
     "iopub.execute_input": "2024-10-19T08:27:51.846008Z",
     "iopub.status.busy": "2024-10-19T08:27:51.844957Z",
     "iopub.status.idle": "2024-10-19T08:27:59.894798Z",
     "shell.execute_reply": "2024-10-19T08:27:59.893685Z"
    },
    "id": "7Pv-Fb9FdSf7",
    "papermill": {
     "duration": 8.070185,
     "end_time": "2024-10-19T08:27:59.897244",
     "exception": false,
     "start_time": "2024-10-19T08:27:51.827059",
     "status": "completed"
    },
    "tags": []
   },
   "outputs": [
    {
     "name": "stdout",
     "output_type": "stream",
     "text": [
      "Epoch 1/100\n",
      "\u001b[1m80/96\u001b[0m \u001b[32m━━━━━━━━━━━━━━━━\u001b[0m\u001b[37m━━━━\u001b[0m \u001b[1m0s\u001b[0m 2ms/step - loss: 0.0042\n",
      "Epoch 1: val_loss improved from inf to 0.00413, saving model to mymodel.keras\n",
      "\u001b[1m96/96\u001b[0m \u001b[32m━━━━━━━━━━━━━━━━━━━━\u001b[0m\u001b[37m\u001b[0m \u001b[1m3s\u001b[0m 6ms/step - loss: 0.0052 - val_loss: 0.0041\n",
      "Epoch 2/100\n",
      "\u001b[1m80/96\u001b[0m \u001b[32m━━━━━━━━━━━━━━━━\u001b[0m\u001b[37m━━━━\u001b[0m \u001b[1m0s\u001b[0m 2ms/step - loss: 0.0051\n",
      "Epoch 2: val_loss improved from 0.00413 to 0.00337, saving model to mymodel.keras\n",
      "\u001b[1m96/96\u001b[0m \u001b[32m━━━━━━━━━━━━━━━━━━━━\u001b[0m\u001b[37m\u001b[0m \u001b[1m0s\u001b[0m 3ms/step - loss: 0.0054 - val_loss: 0.0034\n",
      "Epoch 3/100\n",
      "\u001b[1m80/96\u001b[0m \u001b[32m━━━━━━━━━━━━━━━━\u001b[0m\u001b[37m━━━━\u001b[0m \u001b[1m0s\u001b[0m 2ms/step - loss: 0.0032\n",
      "Epoch 3: val_loss improved from 0.00337 to 0.00325, saving model to mymodel.keras\n",
      "\u001b[1m96/96\u001b[0m \u001b[32m━━━━━━━━━━━━━━━━━━━━\u001b[0m\u001b[37m\u001b[0m \u001b[1m0s\u001b[0m 3ms/step - loss: 0.0036 - val_loss: 0.0032\n",
      "Epoch 4/100\n",
      "\u001b[1m82/96\u001b[0m \u001b[32m━━━━━━━━━━━━━━━━━\u001b[0m\u001b[37m━━━\u001b[0m \u001b[1m0s\u001b[0m 2ms/step - loss: 0.0024\n",
      "Epoch 4: val_loss improved from 0.00325 to 0.00282, saving model to mymodel.keras\n",
      "\u001b[1m96/96\u001b[0m \u001b[32m━━━━━━━━━━━━━━━━━━━━\u001b[0m\u001b[37m\u001b[0m \u001b[1m0s\u001b[0m 3ms/step - loss: 0.0028 - val_loss: 0.0028\n",
      "Epoch 5/100\n",
      "\u001b[1m79/96\u001b[0m \u001b[32m━━━━━━━━━━━━━━━━\u001b[0m\u001b[37m━━━━\u001b[0m \u001b[1m0s\u001b[0m 2ms/step - loss: 0.0019\n",
      "Epoch 5: val_loss did not improve from 0.00282\n",
      "\u001b[1m96/96\u001b[0m \u001b[32m━━━━━━━━━━━━━━━━━━━━\u001b[0m\u001b[37m\u001b[0m \u001b[1m0s\u001b[0m 2ms/step - loss: 0.0024 - val_loss: 0.0029\n",
      "Epoch 6/100\n",
      "\u001b[1m80/96\u001b[0m \u001b[32m━━━━━━━━━━━━━━━━\u001b[0m\u001b[37m━━━━\u001b[0m \u001b[1m0s\u001b[0m 2ms/step - loss: 0.0016    \n",
      "Epoch 6: val_loss improved from 0.00282 to 0.00265, saving model to mymodel.keras\n",
      "\u001b[1m96/96\u001b[0m \u001b[32m━━━━━━━━━━━━━━━━━━━━\u001b[0m\u001b[37m\u001b[0m \u001b[1m0s\u001b[0m 3ms/step - loss: 0.0021 - val_loss: 0.0027\n",
      "Epoch 7/100\n",
      "\u001b[1m77/96\u001b[0m \u001b[32m━━━━━━━━━━━━━━━━\u001b[0m\u001b[37m━━━━\u001b[0m \u001b[1m0s\u001b[0m 2ms/step - loss: 0.0017\n",
      "Epoch 7: val_loss improved from 0.00265 to 0.00245, saving model to mymodel.keras\n",
      "\u001b[1m96/96\u001b[0m \u001b[32m━━━━━━━━━━━━━━━━━━━━\u001b[0m\u001b[37m\u001b[0m \u001b[1m0s\u001b[0m 3ms/step - loss: 0.0022 - val_loss: 0.0024\n",
      "Epoch 8/100\n",
      "\u001b[1m75/96\u001b[0m \u001b[32m━━━━━━━━━━━━━━━\u001b[0m\u001b[37m━━━━━\u001b[0m \u001b[1m0s\u001b[0m 2ms/step - loss: 0.0016\n",
      "Epoch 8: val_loss did not improve from 0.00245\n",
      "\u001b[1m96/96\u001b[0m \u001b[32m━━━━━━━━━━━━━━━━━━━━\u001b[0m\u001b[37m\u001b[0m \u001b[1m0s\u001b[0m 3ms/step - loss: 0.0021 - val_loss: 0.0026\n",
      "Epoch 9/100\n",
      "\u001b[1m72/96\u001b[0m \u001b[32m━━━━━━━━━━━━━━━\u001b[0m\u001b[37m━━━━━\u001b[0m \u001b[1m0s\u001b[0m 2ms/step - loss: 0.0012    \n",
      "Epoch 9: val_loss improved from 0.00245 to 0.00236, saving model to mymodel.keras\n",
      "\u001b[1m96/96\u001b[0m \u001b[32m━━━━━━━━━━━━━━━━━━━━\u001b[0m\u001b[37m\u001b[0m \u001b[1m0s\u001b[0m 3ms/step - loss: 0.0019 - val_loss: 0.0024\n",
      "Epoch 10/100\n",
      "\u001b[1m73/96\u001b[0m \u001b[32m━━━━━━━━━━━━━━━\u001b[0m\u001b[37m━━━━━\u001b[0m \u001b[1m0s\u001b[0m 2ms/step - loss: 0.0015\n",
      "Epoch 10: val_loss improved from 0.00236 to 0.00230, saving model to mymodel.keras\n",
      "\u001b[1m96/96\u001b[0m \u001b[32m━━━━━━━━━━━━━━━━━━━━\u001b[0m\u001b[37m\u001b[0m \u001b[1m0s\u001b[0m 3ms/step - loss: 0.0020 - val_loss: 0.0023\n",
      "Epoch 11/100\n",
      "\u001b[1m75/96\u001b[0m \u001b[32m━━━━━━━━━━━━━━━\u001b[0m\u001b[37m━━━━━\u001b[0m \u001b[1m0s\u001b[0m 2ms/step - loss: 0.0014    \n",
      "Epoch 11: val_loss improved from 0.00230 to 0.00224, saving model to mymodel.keras\n",
      "\u001b[1m96/96\u001b[0m \u001b[32m━━━━━━━━━━━━━━━━━━━━\u001b[0m\u001b[37m\u001b[0m \u001b[1m0s\u001b[0m 3ms/step - loss: 0.0019 - val_loss: 0.0022\n",
      "Epoch 12/100\n",
      "\u001b[1m78/96\u001b[0m \u001b[32m━━━━━━━━━━━━━━━━\u001b[0m\u001b[37m━━━━\u001b[0m \u001b[1m0s\u001b[0m 2ms/step - loss: 0.0017\n",
      "Epoch 12: val_loss did not improve from 0.00224\n",
      "\u001b[1m96/96\u001b[0m \u001b[32m━━━━━━━━━━━━━━━━━━━━\u001b[0m\u001b[37m\u001b[0m \u001b[1m0s\u001b[0m 3ms/step - loss: 0.0022 - val_loss: 0.0025\n",
      "Epoch 13/100\n",
      "\u001b[1m80/96\u001b[0m \u001b[32m━━━━━━━━━━━━━━━━\u001b[0m\u001b[37m━━━━\u001b[0m \u001b[1m0s\u001b[0m 2ms/step - loss: 0.0021\n",
      "Epoch 13: val_loss did not improve from 0.00224\n",
      "\u001b[1m96/96\u001b[0m \u001b[32m━━━━━━━━━━━━━━━━━━━━\u001b[0m\u001b[37m\u001b[0m \u001b[1m0s\u001b[0m 2ms/step - loss: 0.0026 - val_loss: 0.0038\n",
      "Epoch 14/100\n",
      "\u001b[1m83/96\u001b[0m \u001b[32m━━━━━━━━━━━━━━━━━\u001b[0m\u001b[37m━━━\u001b[0m \u001b[1m0s\u001b[0m 2ms/step - loss: 0.0025\n",
      "Epoch 14: val_loss did not improve from 0.00224\n",
      "\u001b[1m96/96\u001b[0m \u001b[32m━━━━━━━━━━━━━━━━━━━━\u001b[0m\u001b[37m\u001b[0m \u001b[1m0s\u001b[0m 2ms/step - loss: 0.0028 - val_loss: 0.0035\n",
      "Epoch 15/100\n",
      "\u001b[1m86/96\u001b[0m \u001b[32m━━━━━━━━━━━━━━━━━\u001b[0m\u001b[37m━━━\u001b[0m \u001b[1m0s\u001b[0m 2ms/step - loss: 0.0022\n",
      "Epoch 15: val_loss did not improve from 0.00224\n",
      "\u001b[1m96/96\u001b[0m \u001b[32m━━━━━━━━━━━━━━━━━━━━\u001b[0m\u001b[37m\u001b[0m \u001b[1m0s\u001b[0m 2ms/step - loss: 0.0024 - val_loss: 0.0032\n",
      "Epoch 16/100\n",
      "\u001b[1m77/96\u001b[0m \u001b[32m━━━━━━━━━━━━━━━━\u001b[0m\u001b[37m━━━━\u001b[0m \u001b[1m0s\u001b[0m 2ms/step - loss: 0.0018\n",
      "Epoch 16: val_loss did not improve from 0.00224\n",
      "\u001b[1m96/96\u001b[0m \u001b[32m━━━━━━━━━━━━━━━━━━━━\u001b[0m\u001b[37m\u001b[0m \u001b[1m0s\u001b[0m 3ms/step - loss: 0.0022 - val_loss: 0.0036\n",
      "Epoch 17/100\n",
      "\u001b[1m80/96\u001b[0m \u001b[32m━━━━━━━━━━━━━━━━\u001b[0m\u001b[37m━━━━\u001b[0m \u001b[1m0s\u001b[0m 2ms/step - loss: 0.0018\n",
      "Epoch 17: val_loss did not improve from 0.00224\n",
      "\u001b[1m96/96\u001b[0m \u001b[32m━━━━━━━━━━━━━━━━━━━━\u001b[0m\u001b[37m\u001b[0m \u001b[1m0s\u001b[0m 2ms/step - loss: 0.0022 - val_loss: 0.0034\n",
      "Epoch 18/100\n",
      "\u001b[1m89/96\u001b[0m \u001b[32m━━━━━━━━━━━━━━━━━━\u001b[0m\u001b[37m━━\u001b[0m \u001b[1m0s\u001b[0m 2ms/step - loss: 0.0020\n",
      "Epoch 18: val_loss did not improve from 0.00224\n",
      "\u001b[1m96/96\u001b[0m \u001b[32m━━━━━━━━━━━━━━━━━━━━\u001b[0m\u001b[37m\u001b[0m \u001b[1m0s\u001b[0m 2ms/step - loss: 0.0022 - val_loss: 0.0047\n",
      "Epoch 19/100\n",
      "\u001b[1m87/96\u001b[0m \u001b[32m━━━━━━━━━━━━━━━━━━\u001b[0m\u001b[37m━━\u001b[0m \u001b[1m0s\u001b[0m 2ms/step - loss: 0.0021\n",
      "Epoch 19: val_loss did not improve from 0.00224\n",
      "\u001b[1m96/96\u001b[0m \u001b[32m━━━━━━━━━━━━━━━━━━━━\u001b[0m\u001b[37m\u001b[0m \u001b[1m0s\u001b[0m 2ms/step - loss: 0.0024 - val_loss: 0.0048\n",
      "Epoch 20/100\n",
      "\u001b[1m79/96\u001b[0m \u001b[32m━━━━━━━━━━━━━━━━\u001b[0m\u001b[37m━━━━\u001b[0m \u001b[1m0s\u001b[0m 2ms/step - loss: 0.0018\n",
      "Epoch 20: val_loss did not improve from 0.00224\n",
      "\u001b[1m96/96\u001b[0m \u001b[32m━━━━━━━━━━━━━━━━━━━━\u001b[0m\u001b[37m\u001b[0m \u001b[1m0s\u001b[0m 2ms/step - loss: 0.0023 - val_loss: 0.0057\n",
      "Epoch 21/100\n",
      "\u001b[1m89/96\u001b[0m \u001b[32m━━━━━━━━━━━━━━━━━━\u001b[0m\u001b[37m━━\u001b[0m \u001b[1m0s\u001b[0m 2ms/step - loss: 0.0022\n",
      "Epoch 21: val_loss did not improve from 0.00224\n",
      "\u001b[1m96/96\u001b[0m \u001b[32m━━━━━━━━━━━━━━━━━━━━\u001b[0m\u001b[37m\u001b[0m \u001b[1m0s\u001b[0m 2ms/step - loss: 0.0025 - val_loss: 0.0066\n",
      "Epoch 21: early stopping\n"
     ]
    }
   ],
   "source": [
    "history = model.fit(x=X_train,\n",
    "                    y=y_train,\n",
    "                    epochs=100,\n",
    "                    batch_size=20,\n",
    "                    validation_data=(X_test, y_test),\n",
    "                    callbacks=[callbacks],\n",
    "                    shuffle=False)"
   ]
  },
  {
   "cell_type": "code",
   "execution_count": 43,
   "id": "c620e0e7",
   "metadata": {
    "execution": {
     "iopub.execute_input": "2024-10-19T08:27:59.952756Z",
     "iopub.status.busy": "2024-10-19T08:27:59.951806Z",
     "iopub.status.idle": "2024-10-19T08:28:00.212903Z",
     "shell.execute_reply": "2024-10-19T08:28:00.211600Z"
    },
    "id": "VzxR8n1yeGpV",
    "papermill": {
     "duration": 0.291214,
     "end_time": "2024-10-19T08:28:00.215301",
     "exception": false,
     "start_time": "2024-10-19T08:27:59.924087",
     "status": "completed"
    },
    "tags": []
   },
   "outputs": [
    {
     "data": {
      "image/png": "[encoded data removed]",
      "text/plain": [
       "<Figure size 2000x500 with 1 Axes>"
      ]
     },
     "metadata": {},
     "output_type": "display_data"
    }
   ],
   "source": [
    "plt.figure(figsize=(20,5))\n",
    "plt.subplot(1,2,1)\n",
    "plt.plot(history.history['loss'], label='Training Loss')\n",
    "plt.plot(history.history['val_loss'], label='Validation Loss')\n",
    "plt.legend(loc='upper right')\n",
    "plt.xlabel('Epoch', fontsize = 16)\n",
    "plt.ylabel('Loss', fontsize = 16)\n",
    "plt.ylim([0,max(plt.ylim())])\n",
    "plt.title('Training and Validation Loss', fontsize = 16)\n",
    "plt.show()"
   ]
  },
  {
   "cell_type": "markdown",
   "id": "93ea0250",
   "metadata": {
    "id": "XO0NGWQWerLU",
    "papermill": {
     "duration": 0.026577,
     "end_time": "2024-10-19T08:28:00.268966",
     "exception": false,
     "start_time": "2024-10-19T08:28:00.242389",
     "status": "completed"
    },
    "tags": []
   },
   "source": [
    "## Evaluation"
   ]
  },
  {
   "cell_type": "code",
   "execution_count": 44,
   "id": "67bb52f2",
   "metadata": {
    "execution": {
     "iopub.execute_input": "2024-10-19T08:28:00.323766Z",
     "iopub.status.busy": "2024-10-19T08:28:00.323330Z",
     "iopub.status.idle": "2024-10-19T08:28:00.907410Z",
     "shell.execute_reply": "2024-10-19T08:28:00.905881Z"
    },
    "id": "hyeoNUjxetH-",
    "papermill": {
     "duration": 0.614925,
     "end_time": "2024-10-19T08:28:00.910419",
     "exception": false,
     "start_time": "2024-10-19T08:28:00.295494",
     "status": "completed"
    },
    "tags": []
   },
   "outputs": [
    {
     "name": "stdout",
     "output_type": "stream",
     "text": [
      "\u001b[1m463/463\u001b[0m \u001b[32m━━━━━━━━━━━━━━━━━━━━\u001b[0m\u001b[37m\u001b[0m \u001b[1m1s\u001b[0m 1ms/step - loss: 0.0076\n",
      "\n",
      "Test Loss: 0.7%\n"
     ]
    }
   ],
   "source": [
    "loss = model.evaluate(X_test, y_test, batch_size=1)\n",
    "print(\"\\nTest Loss: %.1f%%\" % (100.0 * loss))"
   ]
  },
  {
   "cell_type": "code",
   "execution_count": 45,
   "id": "9abeb518",
   "metadata": {
    "execution": {
     "iopub.execute_input": "2024-10-19T08:28:00.967504Z",
     "iopub.status.busy": "2024-10-19T08:28:00.967043Z",
     "iopub.status.idle": "2024-10-19T08:28:01.455079Z",
     "shell.execute_reply": "2024-10-19T08:28:01.453795Z"
    },
    "id": "9e854j_NfFTV",
    "papermill": {
     "duration": 0.519523,
     "end_time": "2024-10-19T08:28:01.457947",
     "exception": false,
     "start_time": "2024-10-19T08:28:00.938424",
     "status": "completed"
    },
    "tags": []
   },
   "outputs": [
    {
     "name": "stdout",
     "output_type": "stream",
     "text": [
      "\u001b[1m60/60\u001b[0m \u001b[32m━━━━━━━━━━━━━━━━━━━━\u001b[0m\u001b[37m\u001b[0m \u001b[1m0s\u001b[0m 4ms/step\n"
     ]
    }
   ],
   "source": [
    "train_predict = model.predict(X_train)"
   ]
  },
  {
   "cell_type": "code",
   "execution_count": 46,
   "id": "f0662f35",
   "metadata": {
    "execution": {
     "iopub.execute_input": "2024-10-19T08:28:01.515254Z",
     "iopub.status.busy": "2024-10-19T08:28:01.514801Z",
     "iopub.status.idle": "2024-10-19T08:28:01.623547Z",
     "shell.execute_reply": "2024-10-19T08:28:01.622310Z"
    },
    "id": "GZgJuMd-fqZW",
    "papermill": {
     "duration": 0.140478,
     "end_time": "2024-10-19T08:28:01.626141",
     "exception": false,
     "start_time": "2024-10-19T08:28:01.485663",
     "status": "completed"
    },
    "tags": []
   },
   "outputs": [
    {
     "name": "stdout",
     "output_type": "stream",
     "text": [
      "\u001b[1m15/15\u001b[0m \u001b[32m━━━━━━━━━━━━━━━━━━━━\u001b[0m\u001b[37m\u001b[0m \u001b[1m0s\u001b[0m 2ms/step \n"
     ]
    }
   ],
   "source": [
    "test_predict = model.predict(X_test)"
   ]
  },
  {
   "cell_type": "code",
   "execution_count": 47,
   "id": "e5b4f883",
   "metadata": {
    "execution": {
     "iopub.execute_input": "2024-10-19T08:28:01.683978Z",
     "iopub.status.busy": "2024-10-19T08:28:01.683538Z",
     "iopub.status.idle": "2024-10-19T08:28:01.689775Z",
     "shell.execute_reply": "2024-10-19T08:28:01.688669Z"
    },
    "id": "FcH_8U3tfsGm",
    "papermill": {
     "duration": 0.037972,
     "end_time": "2024-10-19T08:28:01.692179",
     "exception": false,
     "start_time": "2024-10-19T08:28:01.654207",
     "status": "completed"
    },
    "tags": []
   },
   "outputs": [],
   "source": [
    "train_predict = scaler_train.inverse_transform(train_predict)\n",
    "test_predict = scaler_test.inverse_transform(test_predict)"
   ]
  },
  {
   "cell_type": "code",
   "execution_count": 48,
   "id": "7a92f8a3",
   "metadata": {
    "execution": {
     "iopub.execute_input": "2024-10-19T08:28:01.749571Z",
     "iopub.status.busy": "2024-10-19T08:28:01.749125Z",
     "iopub.status.idle": "2024-10-19T08:28:01.755215Z",
     "shell.execute_reply": "2024-10-19T08:28:01.753990Z"
    },
    "id": "DsGDu-NKf912",
    "papermill": {
     "duration": 0.037457,
     "end_time": "2024-10-19T08:28:01.757558",
     "exception": false,
     "start_time": "2024-10-19T08:28:01.720101",
     "status": "completed"
    },
    "tags": []
   },
   "outputs": [],
   "source": [
    "y_train = scaler_train.inverse_transform(y_train)\n",
    "y_test = scaler_test.inverse_transform(y_test)"
   ]
  },
  {
   "cell_type": "code",
   "execution_count": 49,
   "id": "228855d8",
   "metadata": {
    "execution": {
     "iopub.execute_input": "2024-10-19T08:28:01.817005Z",
     "iopub.status.busy": "2024-10-19T08:28:01.816265Z",
     "iopub.status.idle": "2024-10-19T08:28:01.822177Z",
     "shell.execute_reply": "2024-10-19T08:28:01.821140Z"
    },
    "id": "ZLXqwAU7gGW2",
    "papermill": {
     "duration": 0.039069,
     "end_time": "2024-10-19T08:28:01.824376",
     "exception": false,
     "start_time": "2024-10-19T08:28:01.785307",
     "status": "completed"
    },
    "tags": []
   },
   "outputs": [],
   "source": [
    "train_rmse = np.sqrt(mean_squared_error(y_train, train_predict))"
   ]
  },
  {
   "cell_type": "code",
   "execution_count": 50,
   "id": "50768818",
   "metadata": {
    "execution": {
     "iopub.execute_input": "2024-10-19T08:28:01.882303Z",
     "iopub.status.busy": "2024-10-19T08:28:01.881260Z",
     "iopub.status.idle": "2024-10-19T08:28:01.887176Z",
     "shell.execute_reply": "2024-10-19T08:28:01.886115Z"
    },
    "id": "76WbnJaIgJ4g",
    "papermill": {
     "duration": 0.037114,
     "end_time": "2024-10-19T08:28:01.889323",
     "exception": false,
     "start_time": "2024-10-19T08:28:01.852209",
     "status": "completed"
    },
    "tags": []
   },
   "outputs": [],
   "source": [
    "test_rmse = np.sqrt(mean_squared_error(y_test, test_predict))"
   ]
  },
  {
   "cell_type": "code",
   "execution_count": 51,
   "id": "c29d180f",
   "metadata": {
    "execution": {
     "iopub.execute_input": "2024-10-19T08:28:01.946667Z",
     "iopub.status.busy": "2024-10-19T08:28:01.946252Z",
     "iopub.status.idle": "2024-10-19T08:28:01.951896Z",
     "shell.execute_reply": "2024-10-19T08:28:01.950927Z"
    },
    "id": "WcUBQBz7gMV2",
    "papermill": {
     "duration": 0.037075,
     "end_time": "2024-10-19T08:28:01.954255",
     "exception": false,
     "start_time": "2024-10-19T08:28:01.917180",
     "status": "completed"
    },
    "tags": []
   },
   "outputs": [
    {
     "name": "stdout",
     "output_type": "stream",
     "text": [
      "Train RMSE: 26.773658752441406\n",
      "Test RMSE: 48.72075271606445\n"
     ]
    }
   ],
   "source": [
    "print(f\"Train RMSE: {train_rmse}\")\n",
    "print(f\"Test RMSE: {test_rmse}\")"
   ]
  },
  {
   "cell_type": "code",
   "execution_count": 52,
   "id": "f0a036fa",
   "metadata": {
    "execution": {
     "iopub.execute_input": "2024-10-19T08:28:02.012445Z",
     "iopub.status.busy": "2024-10-19T08:28:02.011735Z",
     "iopub.status.idle": "2024-10-19T08:28:02.046610Z",
     "shell.execute_reply": "2024-10-19T08:28:02.045451Z"
    },
    "id": "t_llof9mgYz_",
    "papermill": {
     "duration": 0.06678,
     "end_time": "2024-10-19T08:28:02.049049",
     "exception": false,
     "start_time": "2024-10-19T08:28:01.982269",
     "status": "completed"
    },
    "tags": []
   },
   "outputs": [
    {
     "data": {
      "text/html": [
       "<div>\n",
       "<style scoped>\n",
       "    .dataframe tbody tr th:only-of-type {\n",
       "        vertical-align: middle;\n",
       "    }\n",
       "\n",
       "    .dataframe tbody tr th {\n",
       "        vertical-align: top;\n",
       "    }\n",
       "\n",
       "    .dataframe thead th {\n",
       "        text-align: right;\n",
       "    }\n",
       "</style>\n",
       "<table border=\"1\" class=\"dataframe\">\n",
       "  <thead>\n",
       "    <tr style=\"text-align: right;\">\n",
       "      <th></th>\n",
       "      <th>count</th>\n",
       "      <th>mean</th>\n",
       "      <th>min</th>\n",
       "      <th>25%</th>\n",
       "      <th>50%</th>\n",
       "      <th>75%</th>\n",
       "      <th>max</th>\n",
       "      <th>std</th>\n",
       "    </tr>\n",
       "  </thead>\n",
       "  <tbody>\n",
       "    <tr>\n",
       "      <th>Date</th>\n",
       "      <td>2416</td>\n",
       "      <td>2015-04-15 11:09:56.026490112</td>\n",
       "      <td>2010-06-29 00:00:00</td>\n",
       "      <td>2012-11-19 18:00:00</td>\n",
       "      <td>2015-04-16 12:00:00</td>\n",
       "      <td>2017-09-07 06:00:00</td>\n",
       "      <td>2020-02-03 00:00:00</td>\n",
       "      <td>NaN</td>\n",
       "    </tr>\n",
       "    <tr>\n",
       "      <th>Open</th>\n",
       "      <td>2416.0</td>\n",
       "      <td>186.271147</td>\n",
       "      <td>16.139999</td>\n",
       "      <td>34.342498</td>\n",
       "      <td>213.035004</td>\n",
       "      <td>266.450012</td>\n",
       "      <td>673.690002</td>\n",
       "      <td>118.740163</td>\n",
       "    </tr>\n",
       "    <tr>\n",
       "      <th>High</th>\n",
       "      <td>2416.0</td>\n",
       "      <td>189.578224</td>\n",
       "      <td>16.629999</td>\n",
       "      <td>34.897501</td>\n",
       "      <td>216.745002</td>\n",
       "      <td>270.927513</td>\n",
       "      <td>786.140015</td>\n",
       "      <td>120.892329</td>\n",
       "    </tr>\n",
       "    <tr>\n",
       "      <th>Low</th>\n",
       "      <td>2416.0</td>\n",
       "      <td>182.916639</td>\n",
       "      <td>14.98</td>\n",
       "      <td>33.587501</td>\n",
       "      <td>208.870002</td>\n",
       "      <td>262.102501</td>\n",
       "      <td>673.52002</td>\n",
       "      <td>116.857591</td>\n",
       "    </tr>\n",
       "    <tr>\n",
       "      <th>Close</th>\n",
       "      <td>2416.0</td>\n",
       "      <td>186.403651</td>\n",
       "      <td>15.8</td>\n",
       "      <td>34.400002</td>\n",
       "      <td>212.960007</td>\n",
       "      <td>266.774994</td>\n",
       "      <td>780.0</td>\n",
       "      <td>119.13602</td>\n",
       "    </tr>\n",
       "    <tr>\n",
       "      <th>Adj Close</th>\n",
       "      <td>2416.0</td>\n",
       "      <td>186.403651</td>\n",
       "      <td>15.8</td>\n",
       "      <td>34.400002</td>\n",
       "      <td>212.960007</td>\n",
       "      <td>266.774994</td>\n",
       "      <td>780.0</td>\n",
       "      <td>119.13602</td>\n",
       "    </tr>\n",
       "    <tr>\n",
       "      <th>Volume</th>\n",
       "      <td>2416.0</td>\n",
       "      <td>5572721.688742</td>\n",
       "      <td>118500.0</td>\n",
       "      <td>1899275.0</td>\n",
       "      <td>4578400.0</td>\n",
       "      <td>7361150.0</td>\n",
       "      <td>47065000.0</td>\n",
       "      <td>4987809.151888</td>\n",
       "    </tr>\n",
       "  </tbody>\n",
       "</table>\n",
       "</div>"
      ],
      "text/plain": [
       "            count                           mean                  min  \\\n",
       "Date         2416  2015-04-15 11:09:56.026490112  2010-06-29 00:00:00   \n",
       "Open       2416.0                     186.271147            16.139999   \n",
       "High       2416.0                     189.578224            16.629999   \n",
       "Low        2416.0                     182.916639                14.98   \n",
       "Close      2416.0                     186.403651                 15.8   \n",
       "Adj Close  2416.0                     186.403651                 15.8   \n",
       "Volume     2416.0                 5572721.688742             118500.0   \n",
       "\n",
       "                           25%                  50%                  75%  \\\n",
       "Date       2012-11-19 18:00:00  2015-04-16 12:00:00  2017-09-07 06:00:00   \n",
       "Open                 34.342498           213.035004           266.450012   \n",
       "High                 34.897501           216.745002           270.927513   \n",
       "Low                  33.587501           208.870002           262.102501   \n",
       "Close                34.400002           212.960007           266.774994   \n",
       "Adj Close            34.400002           212.960007           266.774994   \n",
       "Volume               1899275.0            4578400.0            7361150.0   \n",
       "\n",
       "                           max             std  \n",
       "Date       2020-02-03 00:00:00             NaN  \n",
       "Open                673.690002      118.740163  \n",
       "High                786.140015      120.892329  \n",
       "Low                  673.52002      116.857591  \n",
       "Close                    780.0       119.13602  \n",
       "Adj Close                780.0       119.13602  \n",
       "Volume              47065000.0  4987809.151888  "
      ]
     },
     "execution_count": 52,
     "metadata": {},
     "output_type": "execute_result"
    }
   ],
   "source": [
    "df.describe().T"
   ]
  },
  {
   "cell_type": "code",
   "execution_count": 53,
   "id": "8e0ebe81",
   "metadata": {
    "execution": {
     "iopub.execute_input": "2024-10-19T08:28:02.109134Z",
     "iopub.status.busy": "2024-10-19T08:28:02.108347Z",
     "iopub.status.idle": "2024-10-19T08:28:02.120660Z",
     "shell.execute_reply": "2024-10-19T08:28:02.119442Z"
    },
    "id": "-PSGVpMzgz1O",
    "papermill": {
     "duration": 0.044554,
     "end_time": "2024-10-19T08:28:02.122957",
     "exception": false,
     "start_time": "2024-10-19T08:28:02.078403",
     "status": "completed"
    },
    "tags": []
   },
   "outputs": [
    {
     "data": {
      "text/html": [
       "<div>\n",
       "<style scoped>\n",
       "    .dataframe tbody tr th:only-of-type {\n",
       "        vertical-align: middle;\n",
       "    }\n",
       "\n",
       "    .dataframe tbody tr th {\n",
       "        vertical-align: top;\n",
       "    }\n",
       "\n",
       "    .dataframe thead th {\n",
       "        text-align: right;\n",
       "    }\n",
       "</style>\n",
       "<table border=\"1\" class=\"dataframe\">\n",
       "  <thead>\n",
       "    <tr style=\"text-align: right;\">\n",
       "      <th></th>\n",
       "      <th>Close</th>\n",
       "      <th>Predicted</th>\n",
       "    </tr>\n",
       "    <tr>\n",
       "      <th>Date</th>\n",
       "      <th></th>\n",
       "      <th></th>\n",
       "    </tr>\n",
       "  </thead>\n",
       "  <tbody>\n",
       "    <tr>\n",
       "      <th>2010-07-28</th>\n",
       "      <td>20.719999</td>\n",
       "      <td>40.442329</td>\n",
       "    </tr>\n",
       "    <tr>\n",
       "      <th>2010-07-29</th>\n",
       "      <td>20.350000</td>\n",
       "      <td>40.442329</td>\n",
       "    </tr>\n",
       "    <tr>\n",
       "      <th>2010-07-30</th>\n",
       "      <td>19.940001</td>\n",
       "      <td>40.442329</td>\n",
       "    </tr>\n",
       "    <tr>\n",
       "      <th>2010-08-02</th>\n",
       "      <td>20.920000</td>\n",
       "      <td>40.442329</td>\n",
       "    </tr>\n",
       "    <tr>\n",
       "      <th>2010-08-03</th>\n",
       "      <td>21.950001</td>\n",
       "      <td>40.442329</td>\n",
       "    </tr>\n",
       "  </tbody>\n",
       "</table>\n",
       "</div>"
      ],
      "text/plain": [
       "                Close  Predicted\n",
       "Date                            \n",
       "2010-07-28  20.719999  40.442329\n",
       "2010-07-29  20.350000  40.442329\n",
       "2010-07-30  19.940001  40.442329\n",
       "2010-08-02  20.920000  40.442329\n",
       "2010-08-03  21.950001  40.442329"
      ]
     },
     "execution_count": 53,
     "metadata": {},
     "output_type": "execute_result"
    }
   ],
   "source": [
    "train_prediction_df = result_df[lookback:position]\n",
    "train_prediction_df[\"Predicted\"] = train_predict\n",
    "train_prediction_df.head()"
   ]
  },
  {
   "cell_type": "code",
   "execution_count": 54,
   "id": "1d0314df",
   "metadata": {
    "execution": {
     "iopub.execute_input": "2024-10-19T08:28:02.184657Z",
     "iopub.status.busy": "2024-10-19T08:28:02.183422Z",
     "iopub.status.idle": "2024-10-19T08:28:02.196636Z",
     "shell.execute_reply": "2024-10-19T08:28:02.195388Z"
    },
    "id": "o7tRAXwOhMSA",
    "papermill": {
     "duration": 0.047339,
     "end_time": "2024-10-19T08:28:02.199189",
     "exception": false,
     "start_time": "2024-10-19T08:28:02.151850",
     "status": "completed"
    },
    "tags": []
   },
   "outputs": [
    {
     "data": {
      "text/html": [
       "<div>\n",
       "<style scoped>\n",
       "    .dataframe tbody tr th:only-of-type {\n",
       "        vertical-align: middle;\n",
       "    }\n",
       "\n",
       "    .dataframe tbody tr th {\n",
       "        vertical-align: top;\n",
       "    }\n",
       "\n",
       "    .dataframe thead th {\n",
       "        text-align: right;\n",
       "    }\n",
       "</style>\n",
       "<table border=\"1\" class=\"dataframe\">\n",
       "  <thead>\n",
       "    <tr style=\"text-align: right;\">\n",
       "      <th></th>\n",
       "      <th>Close</th>\n",
       "      <th>Predicted</th>\n",
       "    </tr>\n",
       "    <tr>\n",
       "      <th>Date</th>\n",
       "      <th></th>\n",
       "      <th></th>\n",
       "    </tr>\n",
       "  </thead>\n",
       "  <tbody>\n",
       "    <tr>\n",
       "      <th>2018-04-03</th>\n",
       "      <td>267.529999</td>\n",
       "      <td>345.175110</td>\n",
       "    </tr>\n",
       "    <tr>\n",
       "      <th>2018-04-04</th>\n",
       "      <td>286.940002</td>\n",
       "      <td>341.529327</td>\n",
       "    </tr>\n",
       "    <tr>\n",
       "      <th>2018-04-05</th>\n",
       "      <td>305.720001</td>\n",
       "      <td>340.385834</td>\n",
       "    </tr>\n",
       "    <tr>\n",
       "      <th>2018-04-06</th>\n",
       "      <td>299.299988</td>\n",
       "      <td>339.615356</td>\n",
       "    </tr>\n",
       "    <tr>\n",
       "      <th>2018-04-09</th>\n",
       "      <td>289.660004</td>\n",
       "      <td>340.493469</td>\n",
       "    </tr>\n",
       "  </tbody>\n",
       "</table>\n",
       "</div>"
      ],
      "text/plain": [
       "                 Close   Predicted\n",
       "Date                              \n",
       "2018-04-03  267.529999  345.175110\n",
       "2018-04-04  286.940002  341.529327\n",
       "2018-04-05  305.720001  340.385834\n",
       "2018-04-06  299.299988  339.615356\n",
       "2018-04-09  289.660004  340.493469"
      ]
     },
     "execution_count": 54,
     "metadata": {},
     "output_type": "execute_result"
    }
   ],
   "source": [
    "test_prediction_df = result_df[position+lookback:]\n",
    "test_prediction_df[\"Predicted\"] = test_predict\n",
    "test_prediction_df.head()"
   ]
  },
  {
   "cell_type": "code",
   "execution_count": 55,
   "id": "f207581b",
   "metadata": {
    "execution": {
     "iopub.execute_input": "2024-10-19T08:28:02.258933Z",
     "iopub.status.busy": "2024-10-19T08:28:02.258148Z",
     "iopub.status.idle": "2024-10-19T08:28:02.666782Z",
     "shell.execute_reply": "2024-10-19T08:28:02.665717Z"
    },
    "id": "PJ_-znSchYO_",
    "papermill": {
     "duration": 0.441675,
     "end_time": "2024-10-19T08:28:02.669645",
     "exception": false,
     "start_time": "2024-10-19T08:28:02.227970",
     "status": "completed"
    },
    "tags": []
   },
   "outputs": [
    {
     "data": {
      "image/png": "[encoded data removed]",
      "text/plain": [
       "<Figure size 1400x500 with 1 Axes>"
      ]
     },
     "metadata": {},
     "output_type": "display_data"
    }
   ],
   "source": [
    "plt.figure(figsize=(14,5))\n",
    "plt.plot(result_df, label = \"Real Number of Passengers\")\n",
    "plt.plot(train_prediction_df[\"Predicted\"], color = 'blue', label = \"Train Predicted Number of Passengers\")\n",
    "plt.plot(test_prediction_df[\"Predicted\"],color = 'red', label = \"Test Predicted Number of Passengers\")\n",
    "plt.title(\"Number of Passengers Prediction\")\n",
    "plt.xlabel(\"Time\")\n",
    "plt.ylabel(\"Number of Passengers\")\n",
    "plt.legend()\n",
    "plt.show()"
   ]
  }
 ],
 "metadata": {
  "colab": {
   "provenance": []
  },
  "kaggle": {
   "accelerator": "none",
   "dataSources": [
    {
     "datasetId": 500872,
     "sourceId": 927894,
     "sourceType": "datasetVersion"
    }
   ],
   "dockerImageVersionId": 30761,
   "isGpuEnabled": false,
   "isInternetEnabled": true,
   "language": "python",
   "sourceType": "notebook"
  },
  "kernelspec": {
   "display_name": "Python 3",
   "language": "python",
   "name": "python3"
  },
  "language_info": {
   "codemirror_mode": {
    "name": "ipython",
    "version": 3
   },
   "file_extension": ".py",
   "mimetype": "text/x-python",
   "name": "python",
   "nbconvert_exporter": "python",
   "pygments_lexer": "ipython3",
   "version": "3.10.14"
  },
  "papermill": {
   "default_parameters": {},
   "duration": 34.205292,
   "end_time": "2024-10-19T08:28:04.425731",
   "environment_variables": {},
   "exception": null,
   "input_path": "__notebook__.ipynb",
   "output_path": "__notebook__.ipynb",
   "parameters": {},
   "start_time": "2024-10-19T08:27:30.220439",
   "version": "2.6.0"
  }
 },
 "nbformat": 4,
 "nbformat_minor": 5
}
