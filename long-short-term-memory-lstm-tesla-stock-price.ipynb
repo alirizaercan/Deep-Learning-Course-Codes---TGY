{
 "cells": [
  {
   "cell_type": "markdown",
   "id": "5ce4ae9e",
   "metadata": {
    "id": "4unSJJjsT8BM",
    "papermill": {
     "duration": 0.011452,
     "end_time": "2025-01-05T08:39:41.753980",
     "exception": false,
     "start_time": "2025-01-05T08:39:41.742528",
     "status": "completed"
    },
    "tags": []
   },
   "source": [
    "# Tesla - Stock Price Prediction\n",
    "\n",
    "---\n",
    "\n"
   ]
  },
  {
   "cell_type": "markdown",
   "id": "daa78f5c",
   "metadata": {
    "id": "wkRLJL2XUAfT",
    "papermill": {
     "duration": 0.010106,
     "end_time": "2025-01-05T08:39:41.774697",
     "exception": false,
     "start_time": "2025-01-05T08:39:41.764591",
     "status": "completed"
    },
    "tags": []
   },
   "source": [
    "## Business Problem\n",
    "\n",
    "In this notebook, our purpose is to predict of tesla - stock price."
   ]
  },
  {
   "cell_type": "markdown",
   "id": "2f29c8b4",
   "metadata": {
    "id": "0uxjphZsUwjz",
    "papermill": {
     "duration": 0.01006,
     "end_time": "2025-01-05T08:39:41.795125",
     "exception": false,
     "start_time": "2025-01-05T08:39:41.785065",
     "status": "completed"
    },
    "tags": []
   },
   "source": [
    "## Data Understanding"
   ]
  },
  {
   "cell_type": "code",
   "execution_count": 1,
   "id": "03870f40",
   "metadata": {
    "execution": {
     "iopub.execute_input": "2025-01-05T08:39:41.818163Z",
     "iopub.status.busy": "2025-01-05T08:39:41.817744Z",
     "iopub.status.idle": "2025-01-05T08:39:57.348774Z",
     "shell.execute_reply": "2025-01-05T08:39:57.347629Z"
    },
    "id": "40IR65rQUyWC",
    "outputId": "4562368d-970e-4fd6-b03e-be036efe4dcd",
    "papermill": {
     "duration": 15.545326,
     "end_time": "2025-01-05T08:39:57.351333",
     "exception": false,
     "start_time": "2025-01-05T08:39:41.806007",
     "status": "completed"
    },
    "tags": []
   },
   "outputs": [],
   "source": [
    "import numpy as np\n",
    "import pandas as pd\n",
    "import datetime as dt\n",
    "import tensorflow as tf\n",
    "import matplotlib.pyplot as plt\n",
    "\n",
    "from sklearn.preprocessing import MinMaxScaler\n",
    "from sklearn.metrics import mean_squared_error\n",
    "\n",
    "from tensorflow.keras.models import Sequential\n",
    "from tensorflow.keras.layers import Dense, LSTM, Dropout\n",
    "from tensorflow.keras.callbacks import ModelCheckpoint, EarlyStopping\n",
    "\n",
    "import warnings\n",
    "warnings.filterwarnings('ignore')\n",
    "\n",
    "import os\n",
    "os.environ['TF_CPP_MIN_LOG_LEVEL'] = '3'\n",
    "tf.compat.v1.logging.set_verbosity(tf.compat.v1.logging.ERROR)"
   ]
  },
  {
   "cell_type": "code",
   "execution_count": 2,
   "id": "806e6713",
   "metadata": {
    "execution": {
     "iopub.execute_input": "2025-01-05T08:39:57.374961Z",
     "iopub.status.busy": "2025-01-05T08:39:57.374287Z",
     "iopub.status.idle": "2025-01-05T08:39:57.431630Z",
     "shell.execute_reply": "2025-01-05T08:39:57.430469Z"
    },
    "id": "-be5_efvVpTV",
    "papermill": {
     "duration": 0.071458,
     "end_time": "2025-01-05T08:39:57.433853",
     "exception": false,
     "start_time": "2025-01-05T08:39:57.362395",
     "status": "completed"
    },
    "tags": []
   },
   "outputs": [
    {
     "data": {
      "text/html": [
       "<div>\n",
       "<style scoped>\n",
       "    .dataframe tbody tr th:only-of-type {\n",
       "        vertical-align: middle;\n",
       "    }\n",
       "\n",
       "    .dataframe tbody tr th {\n",
       "        vertical-align: top;\n",
       "    }\n",
       "\n",
       "    .dataframe thead th {\n",
       "        text-align: right;\n",
       "    }\n",
       "</style>\n",
       "<table border=\"1\" class=\"dataframe\">\n",
       "  <thead>\n",
       "    <tr style=\"text-align: right;\">\n",
       "      <th></th>\n",
       "      <th>Date</th>\n",
       "      <th>Open</th>\n",
       "      <th>High</th>\n",
       "      <th>Low</th>\n",
       "      <th>Close</th>\n",
       "      <th>Adj Close</th>\n",
       "      <th>Volume</th>\n",
       "    </tr>\n",
       "  </thead>\n",
       "  <tbody>\n",
       "    <tr>\n",
       "      <th>0</th>\n",
       "      <td>2010-06-29</td>\n",
       "      <td>19.000000</td>\n",
       "      <td>25.000000</td>\n",
       "      <td>17.540001</td>\n",
       "      <td>23.889999</td>\n",
       "      <td>23.889999</td>\n",
       "      <td>18766300</td>\n",
       "    </tr>\n",
       "    <tr>\n",
       "      <th>1</th>\n",
       "      <td>2010-06-30</td>\n",
       "      <td>25.790001</td>\n",
       "      <td>30.420000</td>\n",
       "      <td>23.299999</td>\n",
       "      <td>23.830000</td>\n",
       "      <td>23.830000</td>\n",
       "      <td>17187100</td>\n",
       "    </tr>\n",
       "    <tr>\n",
       "      <th>2</th>\n",
       "      <td>2010-07-01</td>\n",
       "      <td>25.000000</td>\n",
       "      <td>25.920000</td>\n",
       "      <td>20.270000</td>\n",
       "      <td>21.959999</td>\n",
       "      <td>21.959999</td>\n",
       "      <td>8218800</td>\n",
       "    </tr>\n",
       "    <tr>\n",
       "      <th>3</th>\n",
       "      <td>2010-07-02</td>\n",
       "      <td>23.000000</td>\n",
       "      <td>23.100000</td>\n",
       "      <td>18.709999</td>\n",
       "      <td>19.200001</td>\n",
       "      <td>19.200001</td>\n",
       "      <td>5139800</td>\n",
       "    </tr>\n",
       "    <tr>\n",
       "      <th>4</th>\n",
       "      <td>2010-07-06</td>\n",
       "      <td>20.000000</td>\n",
       "      <td>20.000000</td>\n",
       "      <td>15.830000</td>\n",
       "      <td>16.110001</td>\n",
       "      <td>16.110001</td>\n",
       "      <td>6866900</td>\n",
       "    </tr>\n",
       "    <tr>\n",
       "      <th>...</th>\n",
       "      <td>...</td>\n",
       "      <td>...</td>\n",
       "      <td>...</td>\n",
       "      <td>...</td>\n",
       "      <td>...</td>\n",
       "      <td>...</td>\n",
       "      <td>...</td>\n",
       "    </tr>\n",
       "    <tr>\n",
       "      <th>2411</th>\n",
       "      <td>2020-01-28</td>\n",
       "      <td>568.489990</td>\n",
       "      <td>576.809998</td>\n",
       "      <td>558.080017</td>\n",
       "      <td>566.900024</td>\n",
       "      <td>566.900024</td>\n",
       "      <td>11788500</td>\n",
       "    </tr>\n",
       "    <tr>\n",
       "      <th>2412</th>\n",
       "      <td>2020-01-29</td>\n",
       "      <td>575.690002</td>\n",
       "      <td>589.799988</td>\n",
       "      <td>567.429993</td>\n",
       "      <td>580.989990</td>\n",
       "      <td>580.989990</td>\n",
       "      <td>17801500</td>\n",
       "    </tr>\n",
       "    <tr>\n",
       "      <th>2413</th>\n",
       "      <td>2020-01-30</td>\n",
       "      <td>632.419983</td>\n",
       "      <td>650.880005</td>\n",
       "      <td>618.000000</td>\n",
       "      <td>640.809998</td>\n",
       "      <td>640.809998</td>\n",
       "      <td>29005700</td>\n",
       "    </tr>\n",
       "    <tr>\n",
       "      <th>2414</th>\n",
       "      <td>2020-01-31</td>\n",
       "      <td>640.000000</td>\n",
       "      <td>653.000000</td>\n",
       "      <td>632.520020</td>\n",
       "      <td>650.570007</td>\n",
       "      <td>650.570007</td>\n",
       "      <td>15719300</td>\n",
       "    </tr>\n",
       "    <tr>\n",
       "      <th>2415</th>\n",
       "      <td>2020-02-03</td>\n",
       "      <td>673.690002</td>\n",
       "      <td>786.140015</td>\n",
       "      <td>673.520020</td>\n",
       "      <td>780.000000</td>\n",
       "      <td>780.000000</td>\n",
       "      <td>47065000</td>\n",
       "    </tr>\n",
       "  </tbody>\n",
       "</table>\n",
       "<p>2416 rows × 7 columns</p>\n",
       "</div>"
      ],
      "text/plain": [
       "            Date        Open        High         Low       Close   Adj Close  \\\n",
       "0     2010-06-29   19.000000   25.000000   17.540001   23.889999   23.889999   \n",
       "1     2010-06-30   25.790001   30.420000   23.299999   23.830000   23.830000   \n",
       "2     2010-07-01   25.000000   25.920000   20.270000   21.959999   21.959999   \n",
       "3     2010-07-02   23.000000   23.100000   18.709999   19.200001   19.200001   \n",
       "4     2010-07-06   20.000000   20.000000   15.830000   16.110001   16.110001   \n",
       "...          ...         ...         ...         ...         ...         ...   \n",
       "2411  2020-01-28  568.489990  576.809998  558.080017  566.900024  566.900024   \n",
       "2412  2020-01-29  575.690002  589.799988  567.429993  580.989990  580.989990   \n",
       "2413  2020-01-30  632.419983  650.880005  618.000000  640.809998  640.809998   \n",
       "2414  2020-01-31  640.000000  653.000000  632.520020  650.570007  650.570007   \n",
       "2415  2020-02-03  673.690002  786.140015  673.520020  780.000000  780.000000   \n",
       "\n",
       "        Volume  \n",
       "0     18766300  \n",
       "1     17187100  \n",
       "2      8218800  \n",
       "3      5139800  \n",
       "4      6866900  \n",
       "...        ...  \n",
       "2411  11788500  \n",
       "2412  17801500  \n",
       "2413  29005700  \n",
       "2414  15719300  \n",
       "2415  47065000  \n",
       "\n",
       "[2416 rows x 7 columns]"
      ]
     },
     "execution_count": 2,
     "metadata": {},
     "output_type": "execute_result"
    }
   ],
   "source": [
    "df = pd.read_csv('/kaggle/input/tesla-stock-data-from-2010-to-2020/TSLA.csv')\n",
    "df"
   ]
  },
  {
   "cell_type": "code",
   "execution_count": 3,
   "id": "6d07267b",
   "metadata": {
    "execution": {
     "iopub.execute_input": "2025-01-05T08:39:57.458075Z",
     "iopub.status.busy": "2025-01-05T08:39:57.457260Z",
     "iopub.status.idle": "2025-01-05T08:39:57.469766Z",
     "shell.execute_reply": "2025-01-05T08:39:57.468773Z"
    },
    "id": "lG_AO3mdVv17",
    "papermill": {
     "duration": 0.026853,
     "end_time": "2025-01-05T08:39:57.471917",
     "exception": false,
     "start_time": "2025-01-05T08:39:57.445064",
     "status": "completed"
    },
    "tags": []
   },
   "outputs": [
    {
     "data": {
      "text/html": [
       "<div>\n",
       "<style scoped>\n",
       "    .dataframe tbody tr th:only-of-type {\n",
       "        vertical-align: middle;\n",
       "    }\n",
       "\n",
       "    .dataframe tbody tr th {\n",
       "        vertical-align: top;\n",
       "    }\n",
       "\n",
       "    .dataframe thead th {\n",
       "        text-align: right;\n",
       "    }\n",
       "</style>\n",
       "<table border=\"1\" class=\"dataframe\">\n",
       "  <thead>\n",
       "    <tr style=\"text-align: right;\">\n",
       "      <th></th>\n",
       "      <th>Date</th>\n",
       "      <th>Open</th>\n",
       "      <th>High</th>\n",
       "      <th>Low</th>\n",
       "      <th>Close</th>\n",
       "      <th>Adj Close</th>\n",
       "      <th>Volume</th>\n",
       "    </tr>\n",
       "  </thead>\n",
       "  <tbody>\n",
       "    <tr>\n",
       "      <th>0</th>\n",
       "      <td>2010-06-29</td>\n",
       "      <td>19.000000</td>\n",
       "      <td>25.00</td>\n",
       "      <td>17.540001</td>\n",
       "      <td>23.889999</td>\n",
       "      <td>23.889999</td>\n",
       "      <td>18766300</td>\n",
       "    </tr>\n",
       "    <tr>\n",
       "      <th>1</th>\n",
       "      <td>2010-06-30</td>\n",
       "      <td>25.790001</td>\n",
       "      <td>30.42</td>\n",
       "      <td>23.299999</td>\n",
       "      <td>23.830000</td>\n",
       "      <td>23.830000</td>\n",
       "      <td>17187100</td>\n",
       "    </tr>\n",
       "    <tr>\n",
       "      <th>2</th>\n",
       "      <td>2010-07-01</td>\n",
       "      <td>25.000000</td>\n",
       "      <td>25.92</td>\n",
       "      <td>20.270000</td>\n",
       "      <td>21.959999</td>\n",
       "      <td>21.959999</td>\n",
       "      <td>8218800</td>\n",
       "    </tr>\n",
       "    <tr>\n",
       "      <th>3</th>\n",
       "      <td>2010-07-02</td>\n",
       "      <td>23.000000</td>\n",
       "      <td>23.10</td>\n",
       "      <td>18.709999</td>\n",
       "      <td>19.200001</td>\n",
       "      <td>19.200001</td>\n",
       "      <td>5139800</td>\n",
       "    </tr>\n",
       "    <tr>\n",
       "      <th>4</th>\n",
       "      <td>2010-07-06</td>\n",
       "      <td>20.000000</td>\n",
       "      <td>20.00</td>\n",
       "      <td>15.830000</td>\n",
       "      <td>16.110001</td>\n",
       "      <td>16.110001</td>\n",
       "      <td>6866900</td>\n",
       "    </tr>\n",
       "  </tbody>\n",
       "</table>\n",
       "</div>"
      ],
      "text/plain": [
       "         Date       Open   High        Low      Close  Adj Close    Volume\n",
       "0  2010-06-29  19.000000  25.00  17.540001  23.889999  23.889999  18766300\n",
       "1  2010-06-30  25.790001  30.42  23.299999  23.830000  23.830000  17187100\n",
       "2  2010-07-01  25.000000  25.92  20.270000  21.959999  21.959999   8218800\n",
       "3  2010-07-02  23.000000  23.10  18.709999  19.200001  19.200001   5139800\n",
       "4  2010-07-06  20.000000  20.00  15.830000  16.110001  16.110001   6866900"
      ]
     },
     "execution_count": 3,
     "metadata": {},
     "output_type": "execute_result"
    }
   ],
   "source": [
    "df.head()"
   ]
  },
  {
   "cell_type": "code",
   "execution_count": 4,
   "id": "a1d7ad30",
   "metadata": {
    "execution": {
     "iopub.execute_input": "2025-01-05T08:39:57.495579Z",
     "iopub.status.busy": "2025-01-05T08:39:57.495146Z",
     "iopub.status.idle": "2025-01-05T08:39:57.501700Z",
     "shell.execute_reply": "2025-01-05T08:39:57.500669Z"
    },
    "id": "TU5hlfyvVxY0",
    "papermill": {
     "duration": 0.020801,
     "end_time": "2025-01-05T08:39:57.503748",
     "exception": false,
     "start_time": "2025-01-05T08:39:57.482947",
     "status": "completed"
    },
    "tags": []
   },
   "outputs": [],
   "source": [
    "def check_df(dataframe, head=5):\n",
    "    print(\"##################### Shape #####################\")\n",
    "    print(dataframe.shape)\n",
    "    print(\"##################### Types #####################\")\n",
    "    print(dataframe.dtypes)\n",
    "    print(\"##################### Head #####################\")\n",
    "    print(dataframe.head(head))  # Fonksiyon çağrısına dikkat edin\n",
    "    print(\"##################### Tail #####################\")\n",
    "    print(dataframe.tail(head))\n",
    "    print(\"##################### NA #####################\")\n",
    "    print(dataframe.isnull().sum())\n",
    "    print(\"##################### Quantile #####################\")\n",
    "    print(dataframe.select_dtypes(include='number').quantile([0, 0.05, 0.5, 0.95, 0.99, 1]).T)\n"
   ]
  },
  {
   "cell_type": "code",
   "execution_count": 5,
   "id": "5423ade8",
   "metadata": {
    "execution": {
     "iopub.execute_input": "2025-01-05T08:39:57.527623Z",
     "iopub.status.busy": "2025-01-05T08:39:57.527258Z",
     "iopub.status.idle": "2025-01-05T08:39:57.548761Z",
     "shell.execute_reply": "2025-01-05T08:39:57.547362Z"
    },
    "id": "t6iFP965V4vk",
    "papermill": {
     "duration": 0.036339,
     "end_time": "2025-01-05T08:39:57.550948",
     "exception": false,
     "start_time": "2025-01-05T08:39:57.514609",
     "status": "completed"
    },
    "tags": []
   },
   "outputs": [
    {
     "name": "stdout",
     "output_type": "stream",
     "text": [
      "##################### Shape #####################\n",
      "(2416, 7)\n",
      "##################### Types #####################\n",
      "Date          object\n",
      "Open         float64\n",
      "High         float64\n",
      "Low          float64\n",
      "Close        float64\n",
      "Adj Close    float64\n",
      "Volume         int64\n",
      "dtype: object\n",
      "##################### Head #####################\n",
      "         Date       Open   High        Low      Close  Adj Close    Volume\n",
      "0  2010-06-29  19.000000  25.00  17.540001  23.889999  23.889999  18766300\n",
      "1  2010-06-30  25.790001  30.42  23.299999  23.830000  23.830000  17187100\n",
      "2  2010-07-01  25.000000  25.92  20.270000  21.959999  21.959999   8218800\n",
      "3  2010-07-02  23.000000  23.10  18.709999  19.200001  19.200001   5139800\n",
      "4  2010-07-06  20.000000  20.00  15.830000  16.110001  16.110001   6866900\n",
      "##################### Tail #####################\n",
      "            Date        Open        High         Low       Close   Adj Close  \\\n",
      "2411  2020-01-28  568.489990  576.809998  558.080017  566.900024  566.900024   \n",
      "2412  2020-01-29  575.690002  589.799988  567.429993  580.989990  580.989990   \n",
      "2413  2020-01-30  632.419983  650.880005  618.000000  640.809998  640.809998   \n",
      "2414  2020-01-31  640.000000  653.000000  632.520020  650.570007  650.570007   \n",
      "2415  2020-02-03  673.690002  786.140015  673.520020  780.000000  780.000000   \n",
      "\n",
      "        Volume  \n",
      "2411  11788500  \n",
      "2412  17801500  \n",
      "2413  29005700  \n",
      "2414  15719300  \n",
      "2415  47065000  \n",
      "##################### NA #####################\n",
      "Date         0\n",
      "Open         0\n",
      "High         0\n",
      "Low          0\n",
      "Close        0\n",
      "Adj Close    0\n",
      "Volume       0\n",
      "dtype: int64\n",
      "##################### Quantile #####################\n",
      "                    0.00           0.05          0.50          0.95  \\\n",
      "Open           16.139999      23.384999  2.130350e+02  3.519100e+02   \n",
      "High           16.629999      24.022501  2.167450e+02  3.567500e+02   \n",
      "Low            14.980000      22.867499  2.088700e+02  3.460250e+02   \n",
      "Close          15.800000      23.565000  2.129600e+02  3.511675e+02   \n",
      "Adj Close      15.800000      23.565000  2.129600e+02  3.511675e+02   \n",
      "Volume     118500.000000  633825.000000  4.578400e+06  1.476090e+07   \n",
      "\n",
      "                   0.99          1.00  \n",
      "Open       4.235790e+02  6.736900e+02  \n",
      "High       4.284705e+02  7.861400e+02  \n",
      "Low        4.122865e+02  6.735200e+02  \n",
      "Close      4.243455e+02  7.800000e+02  \n",
      "Adj Close  4.243455e+02  7.800000e+02  \n",
      "Volume     2.459959e+07  4.706500e+07  \n"
     ]
    }
   ],
   "source": [
    "check_df(df)"
   ]
  },
  {
   "cell_type": "markdown",
   "id": "2c3e099f",
   "metadata": {
    "id": "v2n2ONcpWlQl",
    "papermill": {
     "duration": 0.01085,
     "end_time": "2025-01-05T08:39:57.573008",
     "exception": false,
     "start_time": "2025-01-05T08:39:57.562158",
     "status": "completed"
    },
    "tags": []
   },
   "source": [
    "## Data Preparation"
   ]
  },
  {
   "cell_type": "code",
   "execution_count": 6,
   "id": "718ec7a4",
   "metadata": {
    "execution": {
     "iopub.execute_input": "2025-01-05T08:39:57.596433Z",
     "iopub.status.busy": "2025-01-05T08:39:57.596020Z",
     "iopub.status.idle": "2025-01-05T08:39:57.606721Z",
     "shell.execute_reply": "2025-01-05T08:39:57.605532Z"
    },
    "id": "x-En8ormWAo8",
    "papermill": {
     "duration": 0.025029,
     "end_time": "2025-01-05T08:39:57.608905",
     "exception": false,
     "start_time": "2025-01-05T08:39:57.583876",
     "status": "completed"
    },
    "tags": []
   },
   "outputs": [],
   "source": [
    "df[\"Date\"] = pd.to_datetime(df[\"Date\"])"
   ]
  },
  {
   "cell_type": "code",
   "execution_count": 7,
   "id": "76eb8fcf",
   "metadata": {
    "execution": {
     "iopub.execute_input": "2025-01-05T08:39:57.632630Z",
     "iopub.status.busy": "2025-01-05T08:39:57.632252Z",
     "iopub.status.idle": "2025-01-05T08:39:57.646665Z",
     "shell.execute_reply": "2025-01-05T08:39:57.645586Z"
    },
    "id": "Wk3C4MPkWBUG",
    "papermill": {
     "duration": 0.028913,
     "end_time": "2025-01-05T08:39:57.648841",
     "exception": false,
     "start_time": "2025-01-05T08:39:57.619928",
     "status": "completed"
    },
    "tags": []
   },
   "outputs": [
    {
     "data": {
      "text/html": [
       "<div>\n",
       "<style scoped>\n",
       "    .dataframe tbody tr th:only-of-type {\n",
       "        vertical-align: middle;\n",
       "    }\n",
       "\n",
       "    .dataframe tbody tr th {\n",
       "        vertical-align: top;\n",
       "    }\n",
       "\n",
       "    .dataframe thead th {\n",
       "        text-align: right;\n",
       "    }\n",
       "</style>\n",
       "<table border=\"1\" class=\"dataframe\">\n",
       "  <thead>\n",
       "    <tr style=\"text-align: right;\">\n",
       "      <th></th>\n",
       "      <th>Date</th>\n",
       "      <th>Open</th>\n",
       "      <th>High</th>\n",
       "      <th>Low</th>\n",
       "      <th>Close</th>\n",
       "      <th>Adj Close</th>\n",
       "      <th>Volume</th>\n",
       "    </tr>\n",
       "  </thead>\n",
       "  <tbody>\n",
       "    <tr>\n",
       "      <th>0</th>\n",
       "      <td>2010-06-29</td>\n",
       "      <td>19.000000</td>\n",
       "      <td>25.00</td>\n",
       "      <td>17.540001</td>\n",
       "      <td>23.889999</td>\n",
       "      <td>23.889999</td>\n",
       "      <td>18766300</td>\n",
       "    </tr>\n",
       "    <tr>\n",
       "      <th>1</th>\n",
       "      <td>2010-06-30</td>\n",
       "      <td>25.790001</td>\n",
       "      <td>30.42</td>\n",
       "      <td>23.299999</td>\n",
       "      <td>23.830000</td>\n",
       "      <td>23.830000</td>\n",
       "      <td>17187100</td>\n",
       "    </tr>\n",
       "    <tr>\n",
       "      <th>2</th>\n",
       "      <td>2010-07-01</td>\n",
       "      <td>25.000000</td>\n",
       "      <td>25.92</td>\n",
       "      <td>20.270000</td>\n",
       "      <td>21.959999</td>\n",
       "      <td>21.959999</td>\n",
       "      <td>8218800</td>\n",
       "    </tr>\n",
       "    <tr>\n",
       "      <th>3</th>\n",
       "      <td>2010-07-02</td>\n",
       "      <td>23.000000</td>\n",
       "      <td>23.10</td>\n",
       "      <td>18.709999</td>\n",
       "      <td>19.200001</td>\n",
       "      <td>19.200001</td>\n",
       "      <td>5139800</td>\n",
       "    </tr>\n",
       "    <tr>\n",
       "      <th>4</th>\n",
       "      <td>2010-07-06</td>\n",
       "      <td>20.000000</td>\n",
       "      <td>20.00</td>\n",
       "      <td>15.830000</td>\n",
       "      <td>16.110001</td>\n",
       "      <td>16.110001</td>\n",
       "      <td>6866900</td>\n",
       "    </tr>\n",
       "  </tbody>\n",
       "</table>\n",
       "</div>"
      ],
      "text/plain": [
       "        Date       Open   High        Low      Close  Adj Close    Volume\n",
       "0 2010-06-29  19.000000  25.00  17.540001  23.889999  23.889999  18766300\n",
       "1 2010-06-30  25.790001  30.42  23.299999  23.830000  23.830000  17187100\n",
       "2 2010-07-01  25.000000  25.92  20.270000  21.959999  21.959999   8218800\n",
       "3 2010-07-02  23.000000  23.10  18.709999  19.200001  19.200001   5139800\n",
       "4 2010-07-06  20.000000  20.00  15.830000  16.110001  16.110001   6866900"
      ]
     },
     "execution_count": 7,
     "metadata": {},
     "output_type": "execute_result"
    }
   ],
   "source": [
    "df.head()"
   ]
  },
  {
   "cell_type": "code",
   "execution_count": 8,
   "id": "ba0092f8",
   "metadata": {
    "execution": {
     "iopub.execute_input": "2025-01-05T08:39:57.674397Z",
     "iopub.status.busy": "2025-01-05T08:39:57.672959Z",
     "iopub.status.idle": "2025-01-05T08:39:57.680068Z",
     "shell.execute_reply": "2025-01-05T08:39:57.678873Z"
    },
    "id": "ZOVzSrk1WCHu",
    "papermill": {
     "duration": 0.021868,
     "end_time": "2025-01-05T08:39:57.682243",
     "exception": false,
     "start_time": "2025-01-05T08:39:57.660375",
     "status": "completed"
    },
    "tags": []
   },
   "outputs": [],
   "source": [
    "tesla_df = df[[\"Date\", \"Close\"]]"
   ]
  },
  {
   "cell_type": "code",
   "execution_count": 9,
   "id": "a7d3a641",
   "metadata": {
    "execution": {
     "iopub.execute_input": "2025-01-05T08:39:57.706953Z",
     "iopub.status.busy": "2025-01-05T08:39:57.706000Z",
     "iopub.status.idle": "2025-01-05T08:39:57.716116Z",
     "shell.execute_reply": "2025-01-05T08:39:57.714985Z"
    },
    "id": "Tli5FuMBWF8l",
    "papermill": {
     "duration": 0.024691,
     "end_time": "2025-01-05T08:39:57.718388",
     "exception": false,
     "start_time": "2025-01-05T08:39:57.693697",
     "status": "completed"
    },
    "tags": []
   },
   "outputs": [
    {
     "data": {
      "text/html": [
       "<div>\n",
       "<style scoped>\n",
       "    .dataframe tbody tr th:only-of-type {\n",
       "        vertical-align: middle;\n",
       "    }\n",
       "\n",
       "    .dataframe tbody tr th {\n",
       "        vertical-align: top;\n",
       "    }\n",
       "\n",
       "    .dataframe thead th {\n",
       "        text-align: right;\n",
       "    }\n",
       "</style>\n",
       "<table border=\"1\" class=\"dataframe\">\n",
       "  <thead>\n",
       "    <tr style=\"text-align: right;\">\n",
       "      <th></th>\n",
       "      <th>Date</th>\n",
       "      <th>Close</th>\n",
       "    </tr>\n",
       "  </thead>\n",
       "  <tbody>\n",
       "    <tr>\n",
       "      <th>0</th>\n",
       "      <td>2010-06-29</td>\n",
       "      <td>23.889999</td>\n",
       "    </tr>\n",
       "    <tr>\n",
       "      <th>1</th>\n",
       "      <td>2010-06-30</td>\n",
       "      <td>23.830000</td>\n",
       "    </tr>\n",
       "    <tr>\n",
       "      <th>2</th>\n",
       "      <td>2010-07-01</td>\n",
       "      <td>21.959999</td>\n",
       "    </tr>\n",
       "    <tr>\n",
       "      <th>3</th>\n",
       "      <td>2010-07-02</td>\n",
       "      <td>19.200001</td>\n",
       "    </tr>\n",
       "    <tr>\n",
       "      <th>4</th>\n",
       "      <td>2010-07-06</td>\n",
       "      <td>16.110001</td>\n",
       "    </tr>\n",
       "  </tbody>\n",
       "</table>\n",
       "</div>"
      ],
      "text/plain": [
       "        Date      Close\n",
       "0 2010-06-29  23.889999\n",
       "1 2010-06-30  23.830000\n",
       "2 2010-07-01  21.959999\n",
       "3 2010-07-02  19.200001\n",
       "4 2010-07-06  16.110001"
      ]
     },
     "execution_count": 9,
     "metadata": {},
     "output_type": "execute_result"
    }
   ],
   "source": [
    "tesla_df.head()"
   ]
  },
  {
   "cell_type": "code",
   "execution_count": 10,
   "id": "f3df8b82",
   "metadata": {
    "execution": {
     "iopub.execute_input": "2025-01-05T08:39:57.742948Z",
     "iopub.status.busy": "2025-01-05T08:39:57.742567Z",
     "iopub.status.idle": "2025-01-05T08:39:57.749525Z",
     "shell.execute_reply": "2025-01-05T08:39:57.748406Z"
    },
    "id": "Gsw5OQCAWLzn",
    "papermill": {
     "duration": 0.021793,
     "end_time": "2025-01-05T08:39:57.751651",
     "exception": false,
     "start_time": "2025-01-05T08:39:57.729858",
     "status": "completed"
    },
    "tags": []
   },
   "outputs": [
    {
     "name": "stdout",
     "output_type": "stream",
     "text": [
      "Min Date:  2010-06-29 00:00:00\n",
      "Max Date:  2020-02-03 00:00:00\n"
     ]
    }
   ],
   "source": [
    "print(\"Min Date: \", tesla_df[\"Date\"].min())\n",
    "print(\"Max Date: \", tesla_df[\"Date\"].max())"
   ]
  },
  {
   "cell_type": "code",
   "execution_count": 11,
   "id": "dfe4e859",
   "metadata": {
    "execution": {
     "iopub.execute_input": "2025-01-05T08:39:57.777132Z",
     "iopub.status.busy": "2025-01-05T08:39:57.776311Z",
     "iopub.status.idle": "2025-01-05T08:39:57.781552Z",
     "shell.execute_reply": "2025-01-05T08:39:57.780281Z"
    },
    "id": "JGi8P08mWQO1",
    "papermill": {
     "duration": 0.020766,
     "end_time": "2025-01-05T08:39:57.783933",
     "exception": false,
     "start_time": "2025-01-05T08:39:57.763167",
     "status": "completed"
    },
    "tags": []
   },
   "outputs": [],
   "source": [
    "tesla_df.index = tesla_df[\"Date\"]"
   ]
  },
  {
   "cell_type": "code",
   "execution_count": 12,
   "id": "4939c7b0",
   "metadata": {
    "execution": {
     "iopub.execute_input": "2025-01-05T08:39:57.808783Z",
     "iopub.status.busy": "2025-01-05T08:39:57.808314Z",
     "iopub.status.idle": "2025-01-05T08:39:57.820251Z",
     "shell.execute_reply": "2025-01-05T08:39:57.819286Z"
    },
    "id": "YBWxX2IOWoL_",
    "papermill": {
     "duration": 0.026644,
     "end_time": "2025-01-05T08:39:57.822267",
     "exception": false,
     "start_time": "2025-01-05T08:39:57.795623",
     "status": "completed"
    },
    "tags": []
   },
   "outputs": [
    {
     "data": {
      "text/html": [
       "<div>\n",
       "<style scoped>\n",
       "    .dataframe tbody tr th:only-of-type {\n",
       "        vertical-align: middle;\n",
       "    }\n",
       "\n",
       "    .dataframe tbody tr th {\n",
       "        vertical-align: top;\n",
       "    }\n",
       "\n",
       "    .dataframe thead th {\n",
       "        text-align: right;\n",
       "    }\n",
       "</style>\n",
       "<table border=\"1\" class=\"dataframe\">\n",
       "  <thead>\n",
       "    <tr style=\"text-align: right;\">\n",
       "      <th></th>\n",
       "      <th>Date</th>\n",
       "      <th>Close</th>\n",
       "    </tr>\n",
       "    <tr>\n",
       "      <th>Date</th>\n",
       "      <th></th>\n",
       "      <th></th>\n",
       "    </tr>\n",
       "  </thead>\n",
       "  <tbody>\n",
       "    <tr>\n",
       "      <th>2010-06-29</th>\n",
       "      <td>2010-06-29</td>\n",
       "      <td>23.889999</td>\n",
       "    </tr>\n",
       "    <tr>\n",
       "      <th>2010-06-30</th>\n",
       "      <td>2010-06-30</td>\n",
       "      <td>23.830000</td>\n",
       "    </tr>\n",
       "    <tr>\n",
       "      <th>2010-07-01</th>\n",
       "      <td>2010-07-01</td>\n",
       "      <td>21.959999</td>\n",
       "    </tr>\n",
       "    <tr>\n",
       "      <th>2010-07-02</th>\n",
       "      <td>2010-07-02</td>\n",
       "      <td>19.200001</td>\n",
       "    </tr>\n",
       "    <tr>\n",
       "      <th>2010-07-06</th>\n",
       "      <td>2010-07-06</td>\n",
       "      <td>16.110001</td>\n",
       "    </tr>\n",
       "    <tr>\n",
       "      <th>...</th>\n",
       "      <td>...</td>\n",
       "      <td>...</td>\n",
       "    </tr>\n",
       "    <tr>\n",
       "      <th>2020-01-28</th>\n",
       "      <td>2020-01-28</td>\n",
       "      <td>566.900024</td>\n",
       "    </tr>\n",
       "    <tr>\n",
       "      <th>2020-01-29</th>\n",
       "      <td>2020-01-29</td>\n",
       "      <td>580.989990</td>\n",
       "    </tr>\n",
       "    <tr>\n",
       "      <th>2020-01-30</th>\n",
       "      <td>2020-01-30</td>\n",
       "      <td>640.809998</td>\n",
       "    </tr>\n",
       "    <tr>\n",
       "      <th>2020-01-31</th>\n",
       "      <td>2020-01-31</td>\n",
       "      <td>650.570007</td>\n",
       "    </tr>\n",
       "    <tr>\n",
       "      <th>2020-02-03</th>\n",
       "      <td>2020-02-03</td>\n",
       "      <td>780.000000</td>\n",
       "    </tr>\n",
       "  </tbody>\n",
       "</table>\n",
       "<p>2416 rows × 2 columns</p>\n",
       "</div>"
      ],
      "text/plain": [
       "                 Date       Close\n",
       "Date                             \n",
       "2010-06-29 2010-06-29   23.889999\n",
       "2010-06-30 2010-06-30   23.830000\n",
       "2010-07-01 2010-07-01   21.959999\n",
       "2010-07-02 2010-07-02   19.200001\n",
       "2010-07-06 2010-07-06   16.110001\n",
       "...               ...         ...\n",
       "2020-01-28 2020-01-28  566.900024\n",
       "2020-01-29 2020-01-29  580.989990\n",
       "2020-01-30 2020-01-30  640.809998\n",
       "2020-01-31 2020-01-31  650.570007\n",
       "2020-02-03 2020-02-03  780.000000\n",
       "\n",
       "[2416 rows x 2 columns]"
      ]
     },
     "execution_count": 12,
     "metadata": {},
     "output_type": "execute_result"
    }
   ],
   "source": [
    "tesla_df"
   ]
  },
  {
   "cell_type": "code",
   "execution_count": 13,
   "id": "10e1c25f",
   "metadata": {
    "execution": {
     "iopub.execute_input": "2025-01-05T08:39:57.847542Z",
     "iopub.status.busy": "2025-01-05T08:39:57.847109Z",
     "iopub.status.idle": "2025-01-05T08:39:57.853080Z",
     "shell.execute_reply": "2025-01-05T08:39:57.852044Z"
    },
    "id": "tgPM31WBWvcH",
    "papermill": {
     "duration": 0.021047,
     "end_time": "2025-01-05T08:39:57.855112",
     "exception": false,
     "start_time": "2025-01-05T08:39:57.834065",
     "status": "completed"
    },
    "tags": []
   },
   "outputs": [],
   "source": [
    "tesla_df.drop(\"Date\", axis=1, inplace=True)"
   ]
  },
  {
   "cell_type": "code",
   "execution_count": 14,
   "id": "49cca90d",
   "metadata": {
    "execution": {
     "iopub.execute_input": "2025-01-05T08:39:57.879947Z",
     "iopub.status.busy": "2025-01-05T08:39:57.879500Z",
     "iopub.status.idle": "2025-01-05T08:39:57.890585Z",
     "shell.execute_reply": "2025-01-05T08:39:57.889236Z"
    },
    "id": "17KdnKMGWwSm",
    "papermill": {
     "duration": 0.025939,
     "end_time": "2025-01-05T08:39:57.892719",
     "exception": false,
     "start_time": "2025-01-05T08:39:57.866780",
     "status": "completed"
    },
    "tags": []
   },
   "outputs": [
    {
     "data": {
      "text/html": [
       "<div>\n",
       "<style scoped>\n",
       "    .dataframe tbody tr th:only-of-type {\n",
       "        vertical-align: middle;\n",
       "    }\n",
       "\n",
       "    .dataframe tbody tr th {\n",
       "        vertical-align: top;\n",
       "    }\n",
       "\n",
       "    .dataframe thead th {\n",
       "        text-align: right;\n",
       "    }\n",
       "</style>\n",
       "<table border=\"1\" class=\"dataframe\">\n",
       "  <thead>\n",
       "    <tr style=\"text-align: right;\">\n",
       "      <th></th>\n",
       "      <th>Close</th>\n",
       "    </tr>\n",
       "    <tr>\n",
       "      <th>Date</th>\n",
       "      <th></th>\n",
       "    </tr>\n",
       "  </thead>\n",
       "  <tbody>\n",
       "    <tr>\n",
       "      <th>2010-06-29</th>\n",
       "      <td>23.889999</td>\n",
       "    </tr>\n",
       "    <tr>\n",
       "      <th>2010-06-30</th>\n",
       "      <td>23.830000</td>\n",
       "    </tr>\n",
       "    <tr>\n",
       "      <th>2010-07-01</th>\n",
       "      <td>21.959999</td>\n",
       "    </tr>\n",
       "    <tr>\n",
       "      <th>2010-07-02</th>\n",
       "      <td>19.200001</td>\n",
       "    </tr>\n",
       "    <tr>\n",
       "      <th>2010-07-06</th>\n",
       "      <td>16.110001</td>\n",
       "    </tr>\n",
       "    <tr>\n",
       "      <th>...</th>\n",
       "      <td>...</td>\n",
       "    </tr>\n",
       "    <tr>\n",
       "      <th>2020-01-28</th>\n",
       "      <td>566.900024</td>\n",
       "    </tr>\n",
       "    <tr>\n",
       "      <th>2020-01-29</th>\n",
       "      <td>580.989990</td>\n",
       "    </tr>\n",
       "    <tr>\n",
       "      <th>2020-01-30</th>\n",
       "      <td>640.809998</td>\n",
       "    </tr>\n",
       "    <tr>\n",
       "      <th>2020-01-31</th>\n",
       "      <td>650.570007</td>\n",
       "    </tr>\n",
       "    <tr>\n",
       "      <th>2020-02-03</th>\n",
       "      <td>780.000000</td>\n",
       "    </tr>\n",
       "  </tbody>\n",
       "</table>\n",
       "<p>2416 rows × 1 columns</p>\n",
       "</div>"
      ],
      "text/plain": [
       "                 Close\n",
       "Date                  \n",
       "2010-06-29   23.889999\n",
       "2010-06-30   23.830000\n",
       "2010-07-01   21.959999\n",
       "2010-07-02   19.200001\n",
       "2010-07-06   16.110001\n",
       "...                ...\n",
       "2020-01-28  566.900024\n",
       "2020-01-29  580.989990\n",
       "2020-01-30  640.809998\n",
       "2020-01-31  650.570007\n",
       "2020-02-03  780.000000\n",
       "\n",
       "[2416 rows x 1 columns]"
      ]
     },
     "execution_count": 14,
     "metadata": {},
     "output_type": "execute_result"
    }
   ],
   "source": [
    "tesla_df"
   ]
  },
  {
   "cell_type": "code",
   "execution_count": 15,
   "id": "8c7d04ab",
   "metadata": {
    "execution": {
     "iopub.execute_input": "2025-01-05T08:39:57.920156Z",
     "iopub.status.busy": "2025-01-05T08:39:57.919770Z",
     "iopub.status.idle": "2025-01-05T08:39:57.924960Z",
     "shell.execute_reply": "2025-01-05T08:39:57.923883Z"
    },
    "id": "PliZ5OcsWxsF",
    "papermill": {
     "duration": 0.022504,
     "end_time": "2025-01-05T08:39:57.927129",
     "exception": false,
     "start_time": "2025-01-05T08:39:57.904625",
     "status": "completed"
    },
    "tags": []
   },
   "outputs": [],
   "source": [
    "result_df = tesla_df.copy()"
   ]
  },
  {
   "cell_type": "code",
   "execution_count": 16,
   "id": "93c2a64c",
   "metadata": {
    "execution": {
     "iopub.execute_input": "2025-01-05T08:39:57.953053Z",
     "iopub.status.busy": "2025-01-05T08:39:57.952677Z",
     "iopub.status.idle": "2025-01-05T08:39:58.340912Z",
     "shell.execute_reply": "2025-01-05T08:39:58.339827Z"
    },
    "id": "ObqHX6K2W0te",
    "papermill": {
     "duration": 0.404094,
     "end_time": "2025-01-05T08:39:58.343261",
     "exception": false,
     "start_time": "2025-01-05T08:39:57.939167",
     "status": "completed"
    },
    "tags": []
   },
   "outputs": [
    {
     "data": {
      "image/png": "[encoded data removed]",
      "text/plain": [
       "<Figure size 1400x500 with 1 Axes>"
      ]
     },
     "metadata": {},
     "output_type": "display_data"
    }
   ],
   "source": [
    "plt.figure(figsize=(14,5))\n",
    "plt.plot(tesla_df['Close'], color='blue')\n",
    "plt.title(\"Tesla Stock Price\")\n",
    "plt.xlabel(\"Time\")\n",
    "plt.ylabel(\"Stock Price\")\n",
    "plt.show()"
   ]
  },
  {
   "cell_type": "code",
   "execution_count": 17,
   "id": "0a32826b",
   "metadata": {
    "execution": {
     "iopub.execute_input": "2025-01-05T08:39:58.370279Z",
     "iopub.status.busy": "2025-01-05T08:39:58.369837Z",
     "iopub.status.idle": "2025-01-05T08:39:58.374587Z",
     "shell.execute_reply": "2025-01-05T08:39:58.373527Z"
    },
    "id": "5LWFDWjNW2z2",
    "papermill": {
     "duration": 0.020839,
     "end_time": "2025-01-05T08:39:58.376780",
     "exception": false,
     "start_time": "2025-01-05T08:39:58.355941",
     "status": "completed"
    },
    "tags": []
   },
   "outputs": [],
   "source": [
    "tesla_df = tesla_df.values"
   ]
  },
  {
   "cell_type": "code",
   "execution_count": 18,
   "id": "18c78fea",
   "metadata": {
    "execution": {
     "iopub.execute_input": "2025-01-05T08:39:58.404481Z",
     "iopub.status.busy": "2025-01-05T08:39:58.403593Z",
     "iopub.status.idle": "2025-01-05T08:39:58.410678Z",
     "shell.execute_reply": "2025-01-05T08:39:58.409611Z"
    },
    "id": "jxFZkTS-W9Mm",
    "papermill": {
     "duration": 0.023137,
     "end_time": "2025-01-05T08:39:58.412738",
     "exception": false,
     "start_time": "2025-01-05T08:39:58.389601",
     "status": "completed"
    },
    "tags": []
   },
   "outputs": [
    {
     "data": {
      "text/plain": [
       "array([[23.889999],\n",
       "       [23.83    ],\n",
       "       [21.959999],\n",
       "       [19.200001],\n",
       "       [16.110001]])"
      ]
     },
     "execution_count": 18,
     "metadata": {},
     "output_type": "execute_result"
    }
   ],
   "source": [
    "tesla_df[0:5]"
   ]
  },
  {
   "cell_type": "code",
   "execution_count": 19,
   "id": "9791f971",
   "metadata": {
    "execution": {
     "iopub.execute_input": "2025-01-05T08:39:58.440113Z",
     "iopub.status.busy": "2025-01-05T08:39:58.439257Z",
     "iopub.status.idle": "2025-01-05T08:39:58.444071Z",
     "shell.execute_reply": "2025-01-05T08:39:58.443057Z"
    },
    "id": "iU7KJlc4XAb2",
    "papermill": {
     "duration": 0.020809,
     "end_time": "2025-01-05T08:39:58.446096",
     "exception": false,
     "start_time": "2025-01-05T08:39:58.425287",
     "status": "completed"
    },
    "tags": []
   },
   "outputs": [],
   "source": [
    "tesla_df = tesla_df.astype(\"float32\")"
   ]
  },
  {
   "cell_type": "code",
   "execution_count": 20,
   "id": "9064bf8e",
   "metadata": {
    "execution": {
     "iopub.execute_input": "2025-01-05T08:39:58.473273Z",
     "iopub.status.busy": "2025-01-05T08:39:58.472840Z",
     "iopub.status.idle": "2025-01-05T08:39:58.478326Z",
     "shell.execute_reply": "2025-01-05T08:39:58.477312Z"
    },
    "id": "r7Cywk9oXBI-",
    "papermill": {
     "duration": 0.021547,
     "end_time": "2025-01-05T08:39:58.480417",
     "exception": false,
     "start_time": "2025-01-05T08:39:58.458870",
     "status": "completed"
    },
    "tags": []
   },
   "outputs": [],
   "source": [
    "def split_data(dataframe, test_size):\n",
    "  position = int(round(len(dataframe) * (1 - test_size)))\n",
    "  train = dataframe[:position]\n",
    "  test = dataframe[position:]\n",
    "  return train, test, position"
   ]
  },
  {
   "cell_type": "code",
   "execution_count": 21,
   "id": "7f10045b",
   "metadata": {
    "execution": {
     "iopub.execute_input": "2025-01-05T08:39:58.508039Z",
     "iopub.status.busy": "2025-01-05T08:39:58.507622Z",
     "iopub.status.idle": "2025-01-05T08:39:58.512506Z",
     "shell.execute_reply": "2025-01-05T08:39:58.511467Z"
    },
    "id": "COxqfz0SZvV_",
    "papermill": {
     "duration": 0.021475,
     "end_time": "2025-01-05T08:39:58.514415",
     "exception": false,
     "start_time": "2025-01-05T08:39:58.492940",
     "status": "completed"
    },
    "tags": []
   },
   "outputs": [],
   "source": [
    "train, test, position = split_data(tesla_df, 0.20)"
   ]
  },
  {
   "cell_type": "code",
   "execution_count": 22,
   "id": "2f4759d6",
   "metadata": {
    "execution": {
     "iopub.execute_input": "2025-01-05T08:39:58.541882Z",
     "iopub.status.busy": "2025-01-05T08:39:58.541225Z",
     "iopub.status.idle": "2025-01-05T08:39:58.546420Z",
     "shell.execute_reply": "2025-01-05T08:39:58.545416Z"
    },
    "id": "jESwxnt2Z1t5",
    "papermill": {
     "duration": 0.021647,
     "end_time": "2025-01-05T08:39:58.549029",
     "exception": false,
     "start_time": "2025-01-05T08:39:58.527382",
     "status": "completed"
    },
    "tags": []
   },
   "outputs": [
    {
     "name": "stdout",
     "output_type": "stream",
     "text": [
      "(1933, 1) (483, 1)\n"
     ]
    }
   ],
   "source": [
    "print(train.shape, test.shape)"
   ]
  },
  {
   "cell_type": "code",
   "execution_count": 23,
   "id": "bf81a826",
   "metadata": {
    "execution": {
     "iopub.execute_input": "2025-01-05T08:39:58.576799Z",
     "iopub.status.busy": "2025-01-05T08:39:58.576006Z",
     "iopub.status.idle": "2025-01-05T08:39:58.580770Z",
     "shell.execute_reply": "2025-01-05T08:39:58.579733Z"
    },
    "id": "wleQDdgSZ8NZ",
    "papermill": {
     "duration": 0.021019,
     "end_time": "2025-01-05T08:39:58.582653",
     "exception": false,
     "start_time": "2025-01-05T08:39:58.561634",
     "status": "completed"
    },
    "tags": []
   },
   "outputs": [],
   "source": [
    "scaler_train = MinMaxScaler(feature_range = (0,1))"
   ]
  },
  {
   "cell_type": "code",
   "execution_count": 24,
   "id": "95bee251",
   "metadata": {
    "execution": {
     "iopub.execute_input": "2025-01-05T08:39:58.610352Z",
     "iopub.status.busy": "2025-01-05T08:39:58.609478Z",
     "iopub.status.idle": "2025-01-05T08:39:58.615224Z",
     "shell.execute_reply": "2025-01-05T08:39:58.614238Z"
    },
    "id": "Enf8wikDaNZh",
    "papermill": {
     "duration": 0.021561,
     "end_time": "2025-01-05T08:39:58.617057",
     "exception": false,
     "start_time": "2025-01-05T08:39:58.595496",
     "status": "completed"
    },
    "tags": []
   },
   "outputs": [],
   "source": [
    "train = scaler_train.fit_transform(train)"
   ]
  },
  {
   "cell_type": "code",
   "execution_count": 25,
   "id": "34a2d472",
   "metadata": {
    "execution": {
     "iopub.execute_input": "2025-01-05T08:39:58.645083Z",
     "iopub.status.busy": "2025-01-05T08:39:58.643676Z",
     "iopub.status.idle": "2025-01-05T08:39:58.648988Z",
     "shell.execute_reply": "2025-01-05T08:39:58.647997Z"
    },
    "id": "cg-7tCn_aXTc",
    "papermill": {
     "duration": 0.021392,
     "end_time": "2025-01-05T08:39:58.651133",
     "exception": false,
     "start_time": "2025-01-05T08:39:58.629741",
     "status": "completed"
    },
    "tags": []
   },
   "outputs": [],
   "source": [
    "scaler_test = MinMaxScaler(feature_range = (0,1))"
   ]
  },
  {
   "cell_type": "code",
   "execution_count": 26,
   "id": "099ad00f",
   "metadata": {
    "execution": {
     "iopub.execute_input": "2025-01-05T08:39:58.678408Z",
     "iopub.status.busy": "2025-01-05T08:39:58.677984Z",
     "iopub.status.idle": "2025-01-05T08:39:58.683734Z",
     "shell.execute_reply": "2025-01-05T08:39:58.682646Z"
    },
    "id": "tSbuIifiabbC",
    "papermill": {
     "duration": 0.021883,
     "end_time": "2025-01-05T08:39:58.685771",
     "exception": false,
     "start_time": "2025-01-05T08:39:58.663888",
     "status": "completed"
    },
    "tags": []
   },
   "outputs": [],
   "source": [
    "test = scaler_test.fit_transform(test)"
   ]
  },
  {
   "cell_type": "code",
   "execution_count": 27,
   "id": "604cb2cf",
   "metadata": {
    "execution": {
     "iopub.execute_input": "2025-01-05T08:39:58.712982Z",
     "iopub.status.busy": "2025-01-05T08:39:58.712620Z",
     "iopub.status.idle": "2025-01-05T08:39:58.719525Z",
     "shell.execute_reply": "2025-01-05T08:39:58.718457Z"
    },
    "id": "X5a7m_BEagaJ",
    "papermill": {
     "duration": 0.022736,
     "end_time": "2025-01-05T08:39:58.721577",
     "exception": false,
     "start_time": "2025-01-05T08:39:58.698841",
     "status": "completed"
    },
    "tags": []
   },
   "outputs": [
    {
     "data": {
      "text/plain": [
       "array([[0.02191224],\n",
       "       [0.02174973],\n",
       "       [0.01668472],\n",
       "       [0.0092091 ],\n",
       "       [0.00083966]], dtype=float32)"
      ]
     },
     "execution_count": 27,
     "metadata": {},
     "output_type": "execute_result"
    }
   ],
   "source": [
    "train[0:5]"
   ]
  },
  {
   "cell_type": "code",
   "execution_count": 28,
   "id": "181c6f3b",
   "metadata": {
    "execution": {
     "iopub.execute_input": "2025-01-05T08:39:58.748766Z",
     "iopub.status.busy": "2025-01-05T08:39:58.748336Z",
     "iopub.status.idle": "2025-01-05T08:39:58.755918Z",
     "shell.execute_reply": "2025-01-05T08:39:58.754805Z"
    },
    "id": "AeVSy_ijahnh",
    "papermill": {
     "duration": 0.023929,
     "end_time": "2025-01-05T08:39:58.758234",
     "exception": false,
     "start_time": "2025-01-05T08:39:58.734305",
     "status": "completed"
    },
    "tags": []
   },
   "outputs": [
    {
     "data": {
      "text/plain": [
       "array([[0.25685903],\n",
       "       [0.24829045],\n",
       "       [0.25511202],\n",
       "       [0.24978784],\n",
       "       [0.2465767 ]], dtype=float32)"
      ]
     },
     "execution_count": 28,
     "metadata": {},
     "output_type": "execute_result"
    }
   ],
   "source": [
    "test[0:5]"
   ]
  },
  {
   "cell_type": "code",
   "execution_count": 29,
   "id": "2b490482",
   "metadata": {
    "execution": {
     "iopub.execute_input": "2025-01-05T08:39:58.786633Z",
     "iopub.status.busy": "2025-01-05T08:39:58.785768Z",
     "iopub.status.idle": "2025-01-05T08:39:58.791513Z",
     "shell.execute_reply": "2025-01-05T08:39:58.790482Z"
    },
    "id": "Gv95UqJWasHS",
    "papermill": {
     "duration": 0.02194,
     "end_time": "2025-01-05T08:39:58.793505",
     "exception": false,
     "start_time": "2025-01-05T08:39:58.771565",
     "status": "completed"
    },
    "tags": []
   },
   "outputs": [],
   "source": [
    "def create_features(data, lookback):\n",
    "  X, Y = [], []\n",
    "  for i in range(lookback, len(data)):\n",
    "    X.append(data[i-lookback:i,0])\n",
    "    Y.append(data[i,0])\n",
    "\n",
    "  return np.array(X), np.array(Y)"
   ]
  },
  {
   "cell_type": "code",
   "execution_count": 30,
   "id": "ac3acff0",
   "metadata": {
    "execution": {
     "iopub.execute_input": "2025-01-05T08:39:58.821251Z",
     "iopub.status.busy": "2025-01-05T08:39:58.820427Z",
     "iopub.status.idle": "2025-01-05T08:39:58.825072Z",
     "shell.execute_reply": "2025-01-05T08:39:58.824038Z"
    },
    "id": "e36Ux4_CbASm",
    "papermill": {
     "duration": 0.020575,
     "end_time": "2025-01-05T08:39:58.827071",
     "exception": false,
     "start_time": "2025-01-05T08:39:58.806496",
     "status": "completed"
    },
    "tags": []
   },
   "outputs": [],
   "source": [
    "lookback = 20"
   ]
  },
  {
   "cell_type": "code",
   "execution_count": 31,
   "id": "88625cae",
   "metadata": {
    "execution": {
     "iopub.execute_input": "2025-01-05T08:39:58.854770Z",
     "iopub.status.busy": "2025-01-05T08:39:58.854347Z",
     "iopub.status.idle": "2025-01-05T08:39:58.862130Z",
     "shell.execute_reply": "2025-01-05T08:39:58.861248Z"
    },
    "id": "Xd8JMdaWbCzp",
    "papermill": {
     "duration": 0.024065,
     "end_time": "2025-01-05T08:39:58.864342",
     "exception": false,
     "start_time": "2025-01-05T08:39:58.840277",
     "status": "completed"
    },
    "tags": []
   },
   "outputs": [],
   "source": [
    "X_train, y_train = create_features(train, lookback)"
   ]
  },
  {
   "cell_type": "code",
   "execution_count": 32,
   "id": "52394083",
   "metadata": {
    "execution": {
     "iopub.execute_input": "2025-01-05T08:39:58.947402Z",
     "iopub.status.busy": "2025-01-05T08:39:58.946979Z",
     "iopub.status.idle": "2025-01-05T08:39:58.953325Z",
     "shell.execute_reply": "2025-01-05T08:39:58.952265Z"
    },
    "id": "wHgq8DT5bF_Z",
    "papermill": {
     "duration": 0.078354,
     "end_time": "2025-01-05T08:39:58.955682",
     "exception": false,
     "start_time": "2025-01-05T08:39:58.877328",
     "status": "completed"
    },
    "tags": []
   },
   "outputs": [],
   "source": [
    "X_test, y_test = create_features(test, lookback)"
   ]
  },
  {
   "cell_type": "code",
   "execution_count": 33,
   "id": "115a1762",
   "metadata": {
    "execution": {
     "iopub.execute_input": "2025-01-05T08:39:58.983466Z",
     "iopub.status.busy": "2025-01-05T08:39:58.983054Z",
     "iopub.status.idle": "2025-01-05T08:39:58.988697Z",
     "shell.execute_reply": "2025-01-05T08:39:58.987553Z"
    },
    "id": "zYQy_33TbKdb",
    "papermill": {
     "duration": 0.021995,
     "end_time": "2025-01-05T08:39:58.990947",
     "exception": false,
     "start_time": "2025-01-05T08:39:58.968952",
     "status": "completed"
    },
    "tags": []
   },
   "outputs": [
    {
     "name": "stdout",
     "output_type": "stream",
     "text": [
      "(1913, 20) (1913,) (463, 20) (463,)\n"
     ]
    }
   ],
   "source": [
    "print(X_train.shape, y_train.shape, X_test.shape, y_test.shape)"
   ]
  },
  {
   "cell_type": "code",
   "execution_count": 34,
   "id": "5ed30023",
   "metadata": {
    "execution": {
     "iopub.execute_input": "2025-01-05T08:39:59.020418Z",
     "iopub.status.busy": "2025-01-05T08:39:59.019664Z",
     "iopub.status.idle": "2025-01-05T08:39:59.027606Z",
     "shell.execute_reply": "2025-01-05T08:39:59.026571Z"
    },
    "id": "sI1k-K6bTKuw",
    "papermill": {
     "duration": 0.025086,
     "end_time": "2025-01-05T08:39:59.029594",
     "exception": false,
     "start_time": "2025-01-05T08:39:59.004508",
     "status": "completed"
    },
    "tags": []
   },
   "outputs": [
    {
     "data": {
      "text/plain": [
       "array([[0.02191224, 0.02174973, 0.01668472, 0.0092091 , 0.00083966,\n",
       "        0.        , 0.00449621, 0.00433369, 0.0033857 , 0.00633803,\n",
       "        0.01094258, 0.011078  , 0.01310942, 0.0165493 , 0.01218851,\n",
       "        0.01197183, 0.01408451, 0.01486999, 0.01394908, 0.01286566],\n",
       "       [0.02174973, 0.01668472, 0.0092091 , 0.00083966, 0.        ,\n",
       "        0.00449621, 0.00433369, 0.0033857 , 0.00633803, 0.01094258,\n",
       "        0.011078  , 0.01310942, 0.0165493 , 0.01218851, 0.01197183,\n",
       "        0.01408451, 0.01486999, 0.01394908, 0.01286566, 0.01332611],\n",
       "       [0.01668472, 0.0092091 , 0.00083966, 0.        , 0.00449621,\n",
       "        0.00433369, 0.0033857 , 0.00633803, 0.01094258, 0.011078  ,\n",
       "        0.01310942, 0.0165493 , 0.01218851, 0.01197183, 0.01408451,\n",
       "        0.01486999, 0.01394908, 0.01286566, 0.01332611, 0.01232395],\n",
       "       [0.0092091 , 0.00083966, 0.        , 0.00449621, 0.00433369,\n",
       "        0.0033857 , 0.00633803, 0.01094258, 0.011078  , 0.01310942,\n",
       "        0.0165493 , 0.01218851, 0.01197183, 0.01408451, 0.01486999,\n",
       "        0.01394908, 0.01286566, 0.01332611, 0.01232395, 0.01121344],\n",
       "       [0.00083966, 0.        , 0.00449621, 0.00433369, 0.0033857 ,\n",
       "        0.00633803, 0.01094258, 0.011078  , 0.01310942, 0.0165493 ,\n",
       "        0.01218851, 0.01197183, 0.01408451, 0.01486999, 0.01394908,\n",
       "        0.01286566, 0.01332611, 0.01232395, 0.01121344, 0.01386782]],\n",
       "      dtype=float32)"
      ]
     },
     "execution_count": 34,
     "metadata": {},
     "output_type": "execute_result"
    }
   ],
   "source": [
    "X_train[0:5]"
   ]
  },
  {
   "cell_type": "code",
   "execution_count": 35,
   "id": "a5507bec",
   "metadata": {
    "execution": {
     "iopub.execute_input": "2025-01-05T08:39:59.057779Z",
     "iopub.status.busy": "2025-01-05T08:39:59.057402Z",
     "iopub.status.idle": "2025-01-05T08:39:59.064514Z",
     "shell.execute_reply": "2025-01-05T08:39:59.063439Z"
    },
    "id": "vY5hCVQHTg9u",
    "papermill": {
     "duration": 0.023805,
     "end_time": "2025-01-05T08:39:59.066739",
     "exception": false,
     "start_time": "2025-01-05T08:39:59.042934",
     "status": "completed"
    },
    "tags": []
   },
   "outputs": [
    {
     "data": {
      "text/plain": [
       "array([0.01332611, 0.01232395, 0.01121344, 0.01386782, 0.01665764],\n",
       "      dtype=float32)"
      ]
     },
     "execution_count": 35,
     "metadata": {},
     "output_type": "execute_result"
    }
   ],
   "source": [
    "y_train[0:5]"
   ]
  },
  {
   "cell_type": "code",
   "execution_count": 36,
   "id": "4962f595",
   "metadata": {
    "execution": {
     "iopub.execute_input": "2025-01-05T08:39:59.095213Z",
     "iopub.status.busy": "2025-01-05T08:39:59.094785Z",
     "iopub.status.idle": "2025-01-05T08:39:59.100752Z",
     "shell.execute_reply": "2025-01-05T08:39:59.099603Z"
    },
    "id": "yvf-4kLybad5",
    "papermill": {
     "duration": 0.022996,
     "end_time": "2025-01-05T08:39:59.103019",
     "exception": false,
     "start_time": "2025-01-05T08:39:59.080023",
     "status": "completed"
    },
    "tags": []
   },
   "outputs": [],
   "source": [
    "X_train = np.reshape(X_train, (X_train.shape[0], 1, X_train.shape[1]))\n",
    "X_test = np.reshape(X_test, (X_test.shape[0], 1, X_test.shape[1]))\n",
    "y_train = y_train.reshape(-1,1)\n",
    "y_test = y_test.reshape(-1,1)"
   ]
  },
  {
   "cell_type": "code",
   "execution_count": 37,
   "id": "c6a7750e",
   "metadata": {
    "execution": {
     "iopub.execute_input": "2025-01-05T08:39:59.132293Z",
     "iopub.status.busy": "2025-01-05T08:39:59.131122Z",
     "iopub.status.idle": "2025-01-05T08:39:59.136928Z",
     "shell.execute_reply": "2025-01-05T08:39:59.135870Z"
    },
    "id": "D2ltv0Edb3wz",
    "papermill": {
     "duration": 0.022994,
     "end_time": "2025-01-05T08:39:59.139332",
     "exception": false,
     "start_time": "2025-01-05T08:39:59.116338",
     "status": "completed"
    },
    "tags": []
   },
   "outputs": [
    {
     "name": "stdout",
     "output_type": "stream",
     "text": [
      "(1913, 1, 20) (1913, 1) (463, 1, 20) (463, 1)\n"
     ]
    }
   ],
   "source": [
    "print(X_train.shape, y_train.shape, X_test.shape, y_test.shape)"
   ]
  },
  {
   "cell_type": "markdown",
   "id": "a13a40a8",
   "metadata": {
    "id": "DtsN3xazcIAn",
    "papermill": {
     "duration": 0.013074,
     "end_time": "2025-01-05T08:39:59.165982",
     "exception": false,
     "start_time": "2025-01-05T08:39:59.152908",
     "status": "completed"
    },
    "tags": []
   },
   "source": [
    "## Modelling"
   ]
  },
  {
   "cell_type": "code",
   "execution_count": 38,
   "id": "b1d02a1f",
   "metadata": {
    "execution": {
     "iopub.execute_input": "2025-01-05T08:39:59.195214Z",
     "iopub.status.busy": "2025-01-05T08:39:59.194071Z",
     "iopub.status.idle": "2025-01-05T08:39:59.309896Z",
     "shell.execute_reply": "2025-01-05T08:39:59.308973Z"
    },
    "id": "QtbQx4G9cI_z",
    "papermill": {
     "duration": 0.133115,
     "end_time": "2025-01-05T08:39:59.312404",
     "exception": false,
     "start_time": "2025-01-05T08:39:59.179289",
     "status": "completed"
    },
    "tags": []
   },
   "outputs": [],
   "source": [
    "model = Sequential()\n",
    "\n",
    "model.add(LSTM(units = 50,\n",
    "                    activation = 'relu',\n",
    "                    input_shape=(X_train.shape[1], lookback)))\n",
    "\n",
    "model.add(Dropout(0.2))\n",
    "\n",
    "model.add(Dense(1))\n"
   ]
  },
  {
   "cell_type": "code",
   "execution_count": 39,
   "id": "4ffae027",
   "metadata": {
    "execution": {
     "iopub.execute_input": "2025-01-05T08:39:59.341399Z",
     "iopub.status.busy": "2025-01-05T08:39:59.340341Z",
     "iopub.status.idle": "2025-01-05T08:39:59.360027Z",
     "shell.execute_reply": "2025-01-05T08:39:59.358961Z"
    },
    "id": "RQFXIkDbciE6",
    "papermill": {
     "duration": 0.03618,
     "end_time": "2025-01-05T08:39:59.362010",
     "exception": false,
     "start_time": "2025-01-05T08:39:59.325830",
     "status": "completed"
    },
    "tags": []
   },
   "outputs": [
    {
     "data": {
      "text/html": [
       "<pre style=\"white-space:pre;overflow-x:auto;line-height:normal;font-family:Menlo,'DejaVu Sans Mono',consolas,'Courier New',monospace\"><span style=\"font-weight: bold\">Model: \"sequential\"</span>\n",
       "</pre>\n"
      ],
      "text/plain": [
       "\u001b[1mModel: \"sequential\"\u001b[0m\n"
      ]
     },
     "metadata": {},
     "output_type": "display_data"
    },
    {
     "data": {
      "text/html": [
       "<pre style=\"white-space:pre;overflow-x:auto;line-height:normal;font-family:Menlo,'DejaVu Sans Mono',consolas,'Courier New',monospace\">┏━━━━━━━━━━━━━━━━━━━━━━━━━━━━━━━━━┳━━━━━━━━━━━━━━━━━━━━━━━━┳━━━━━━━━━━━━━━━┓\n",
       "┃<span style=\"font-weight: bold\"> Layer (type)                    </span>┃<span style=\"font-weight: bold\"> Output Shape           </span>┃<span style=\"font-weight: bold\">       Param # </span>┃\n",
       "┡━━━━━━━━━━━━━━━━━━━━━━━━━━━━━━━━━╇━━━━━━━━━━━━━━━━━━━━━━━━╇━━━━━━━━━━━━━━━┩\n",
       "│ lstm (<span style=\"color: #0087ff; text-decoration-color: #0087ff\">LSTM</span>)                     │ (<span style=\"color: #00d7ff; text-decoration-color: #00d7ff\">None</span>, <span style=\"color: #00af00; text-decoration-color: #00af00\">50</span>)             │        <span style=\"color: #00af00; text-decoration-color: #00af00\">14,200</span> │\n",
       "├─────────────────────────────────┼────────────────────────┼───────────────┤\n",
       "│ dropout (<span style=\"color: #0087ff; text-decoration-color: #0087ff\">Dropout</span>)               │ (<span style=\"color: #00d7ff; text-decoration-color: #00d7ff\">None</span>, <span style=\"color: #00af00; text-decoration-color: #00af00\">50</span>)             │             <span style=\"color: #00af00; text-decoration-color: #00af00\">0</span> │\n",
       "├─────────────────────────────────┼────────────────────────┼───────────────┤\n",
       "│ dense (<span style=\"color: #0087ff; text-decoration-color: #0087ff\">Dense</span>)                   │ (<span style=\"color: #00d7ff; text-decoration-color: #00d7ff\">None</span>, <span style=\"color: #00af00; text-decoration-color: #00af00\">1</span>)              │            <span style=\"color: #00af00; text-decoration-color: #00af00\">51</span> │\n",
       "└─────────────────────────────────┴────────────────────────┴───────────────┘\n",
       "</pre>\n"
      ],
      "text/plain": [
       "┏━━━━━━━━━━━━━━━━━━━━━━━━━━━━━━━━━┳━━━━━━━━━━━━━━━━━━━━━━━━┳━━━━━━━━━━━━━━━┓\n",
       "┃\u001b[1m \u001b[0m\u001b[1mLayer (type)                   \u001b[0m\u001b[1m \u001b[0m┃\u001b[1m \u001b[0m\u001b[1mOutput Shape          \u001b[0m\u001b[1m \u001b[0m┃\u001b[1m \u001b[0m\u001b[1m      Param #\u001b[0m\u001b[1m \u001b[0m┃\n",
       "┡━━━━━━━━━━━━━━━━━━━━━━━━━━━━━━━━━╇━━━━━━━━━━━━━━━━━━━━━━━━╇━━━━━━━━━━━━━━━┩\n",
       "│ lstm (\u001b[38;5;33mLSTM\u001b[0m)                     │ (\u001b[38;5;45mNone\u001b[0m, \u001b[38;5;34m50\u001b[0m)             │        \u001b[38;5;34m14,200\u001b[0m │\n",
       "├─────────────────────────────────┼────────────────────────┼───────────────┤\n",
       "│ dropout (\u001b[38;5;33mDropout\u001b[0m)               │ (\u001b[38;5;45mNone\u001b[0m, \u001b[38;5;34m50\u001b[0m)             │             \u001b[38;5;34m0\u001b[0m │\n",
       "├─────────────────────────────────┼────────────────────────┼───────────────┤\n",
       "│ dense (\u001b[38;5;33mDense\u001b[0m)                   │ (\u001b[38;5;45mNone\u001b[0m, \u001b[38;5;34m1\u001b[0m)              │            \u001b[38;5;34m51\u001b[0m │\n",
       "└─────────────────────────────────┴────────────────────────┴───────────────┘\n"
      ]
     },
     "metadata": {},
     "output_type": "display_data"
    },
    {
     "data": {
      "text/html": [
       "<pre style=\"white-space:pre;overflow-x:auto;line-height:normal;font-family:Menlo,'DejaVu Sans Mono',consolas,'Courier New',monospace\"><span style=\"font-weight: bold\"> Total params: </span><span style=\"color: #00af00; text-decoration-color: #00af00\">14,251</span> (55.67 KB)\n",
       "</pre>\n"
      ],
      "text/plain": [
       "\u001b[1m Total params: \u001b[0m\u001b[38;5;34m14,251\u001b[0m (55.67 KB)\n"
      ]
     },
     "metadata": {},
     "output_type": "display_data"
    },
    {
     "data": {
      "text/html": [
       "<pre style=\"white-space:pre;overflow-x:auto;line-height:normal;font-family:Menlo,'DejaVu Sans Mono',consolas,'Courier New',monospace\"><span style=\"font-weight: bold\"> Trainable params: </span><span style=\"color: #00af00; text-decoration-color: #00af00\">14,251</span> (55.67 KB)\n",
       "</pre>\n"
      ],
      "text/plain": [
       "\u001b[1m Trainable params: \u001b[0m\u001b[38;5;34m14,251\u001b[0m (55.67 KB)\n"
      ]
     },
     "metadata": {},
     "output_type": "display_data"
    },
    {
     "data": {
      "text/html": [
       "<pre style=\"white-space:pre;overflow-x:auto;line-height:normal;font-family:Menlo,'DejaVu Sans Mono',consolas,'Courier New',monospace\"><span style=\"font-weight: bold\"> Non-trainable params: </span><span style=\"color: #00af00; text-decoration-color: #00af00\">0</span> (0.00 B)\n",
       "</pre>\n"
      ],
      "text/plain": [
       "\u001b[1m Non-trainable params: \u001b[0m\u001b[38;5;34m0\u001b[0m (0.00 B)\n"
      ]
     },
     "metadata": {},
     "output_type": "display_data"
    }
   ],
   "source": [
    "model.summary()"
   ]
  },
  {
   "cell_type": "code",
   "execution_count": 40,
   "id": "24f08d31",
   "metadata": {
    "execution": {
     "iopub.execute_input": "2025-01-05T08:39:59.392066Z",
     "iopub.status.busy": "2025-01-05T08:39:59.391010Z",
     "iopub.status.idle": "2025-01-05T08:39:59.406335Z",
     "shell.execute_reply": "2025-01-05T08:39:59.405229Z"
    },
    "id": "NE6_O7IwclkT",
    "papermill": {
     "duration": 0.032574,
     "end_time": "2025-01-05T08:39:59.408589",
     "exception": false,
     "start_time": "2025-01-05T08:39:59.376015",
     "status": "completed"
    },
    "tags": []
   },
   "outputs": [],
   "source": [
    "model.compile(loss='mean_squared_error', optimizer='adam')"
   ]
  },
  {
   "cell_type": "code",
   "execution_count": 41,
   "id": "9d1ca2b5",
   "metadata": {
    "execution": {
     "iopub.execute_input": "2025-01-05T08:39:59.438152Z",
     "iopub.status.busy": "2025-01-05T08:39:59.437361Z",
     "iopub.status.idle": "2025-01-05T08:39:59.442796Z",
     "shell.execute_reply": "2025-01-05T08:39:59.441640Z"
    },
    "id": "JLqjYZudc3Is",
    "papermill": {
     "duration": 0.022461,
     "end_time": "2025-01-05T08:39:59.444957",
     "exception": false,
     "start_time": "2025-01-05T08:39:59.422496",
     "status": "completed"
    },
    "tags": []
   },
   "outputs": [],
   "source": [
    "callbacks = (EarlyStopping(monitor='val_loss', patience=10, verbose=1, mode='min'),\n",
    "            ModelCheckpoint(filepath='mymodel.keras', monitor='val_loss', mode='min',\n",
    "            save_best_only = True, save_weights_only = False, verbose = 1))"
   ]
  },
  {
   "cell_type": "code",
   "execution_count": 42,
   "id": "6b191dc6",
   "metadata": {
    "execution": {
     "iopub.execute_input": "2025-01-05T08:39:59.474036Z",
     "iopub.status.busy": "2025-01-05T08:39:59.473623Z",
     "iopub.status.idle": "2025-01-05T08:40:08.655246Z",
     "shell.execute_reply": "2025-01-05T08:40:08.653999Z"
    },
    "id": "7Pv-Fb9FdSf7",
    "papermill": {
     "duration": 9.199267,
     "end_time": "2025-01-05T08:40:08.658056",
     "exception": false,
     "start_time": "2025-01-05T08:39:59.458789",
     "status": "completed"
    },
    "tags": []
   },
   "outputs": [
    {
     "name": "stdout",
     "output_type": "stream",
     "text": [
      "Epoch 1/100\n",
      "\u001b[1m83/96\u001b[0m \u001b[32m━━━━━━━━━━━━━━━━━\u001b[0m\u001b[37m━━━\u001b[0m \u001b[1m0s\u001b[0m 2ms/step - loss: 0.0045\n",
      "Epoch 1: val_loss improved from inf to 0.00421, saving model to mymodel.keras\n",
      "\u001b[1m96/96\u001b[0m \u001b[32m━━━━━━━━━━━━━━━━━━━━\u001b[0m\u001b[37m\u001b[0m \u001b[1m2s\u001b[0m 5ms/step - loss: 0.0053 - val_loss: 0.0042\n",
      "Epoch 2/100\n",
      "\u001b[1m83/96\u001b[0m \u001b[32m━━━━━━━━━━━━━━━━━\u001b[0m\u001b[37m━━━\u001b[0m \u001b[1m0s\u001b[0m 2ms/step - loss: 0.0051\n",
      "Epoch 2: val_loss improved from 0.00421 to 0.00399, saving model to mymodel.keras\n",
      "\u001b[1m96/96\u001b[0m \u001b[32m━━━━━━━━━━━━━━━━━━━━\u001b[0m\u001b[37m\u001b[0m \u001b[1m0s\u001b[0m 3ms/step - loss: 0.0054 - val_loss: 0.0040\n",
      "Epoch 3/100\n",
      "\u001b[1m82/96\u001b[0m \u001b[32m━━━━━━━━━━━━━━━━━\u001b[0m\u001b[37m━━━\u001b[0m \u001b[1m0s\u001b[0m 2ms/step - loss: 0.0038\n",
      "Epoch 3: val_loss improved from 0.00399 to 0.00365, saving model to mymodel.keras\n",
      "\u001b[1m96/96\u001b[0m \u001b[32m━━━━━━━━━━━━━━━━━━━━\u001b[0m\u001b[37m\u001b[0m \u001b[1m0s\u001b[0m 3ms/step - loss: 0.0042 - val_loss: 0.0036\n",
      "Epoch 4/100\n",
      "\u001b[1m83/96\u001b[0m \u001b[32m━━━━━━━━━━━━━━━━━\u001b[0m\u001b[37m━━━\u001b[0m \u001b[1m0s\u001b[0m 2ms/step - loss: 0.0033\n",
      "Epoch 4: val_loss improved from 0.00365 to 0.00330, saving model to mymodel.keras\n",
      "\u001b[1m96/96\u001b[0m \u001b[32m━━━━━━━━━━━━━━━━━━━━\u001b[0m\u001b[37m\u001b[0m \u001b[1m0s\u001b[0m 3ms/step - loss: 0.0036 - val_loss: 0.0033\n",
      "Epoch 5/100\n",
      "\u001b[1m83/96\u001b[0m \u001b[32m━━━━━━━━━━━━━━━━━\u001b[0m\u001b[37m━━━\u001b[0m \u001b[1m0s\u001b[0m 2ms/step - loss: 0.0027\n",
      "Epoch 5: val_loss improved from 0.00330 to 0.00299, saving model to mymodel.keras\n",
      "\u001b[1m96/96\u001b[0m \u001b[32m━━━━━━━━━━━━━━━━━━━━\u001b[0m\u001b[37m\u001b[0m \u001b[1m0s\u001b[0m 3ms/step - loss: 0.0031 - val_loss: 0.0030\n",
      "Epoch 6/100\n",
      "\u001b[1m78/96\u001b[0m \u001b[32m━━━━━━━━━━━━━━━━\u001b[0m\u001b[37m━━━━\u001b[0m \u001b[1m0s\u001b[0m 2ms/step - loss: 0.0021\n",
      "Epoch 6: val_loss did not improve from 0.00299\n",
      "\u001b[1m96/96\u001b[0m \u001b[32m━━━━━━━━━━━━━━━━━━━━\u001b[0m\u001b[37m\u001b[0m \u001b[1m0s\u001b[0m 3ms/step - loss: 0.0025 - val_loss: 0.0031\n",
      "Epoch 7/100\n",
      "\u001b[1m81/96\u001b[0m \u001b[32m━━━━━━━━━━━━━━━━\u001b[0m\u001b[37m━━━━\u001b[0m \u001b[1m0s\u001b[0m 2ms/step - loss: 0.0018\n",
      "Epoch 7: val_loss improved from 0.00299 to 0.00286, saving model to mymodel.keras\n",
      "\u001b[1m96/96\u001b[0m \u001b[32m━━━━━━━━━━━━━━━━━━━━\u001b[0m\u001b[37m\u001b[0m \u001b[1m0s\u001b[0m 3ms/step - loss: 0.0022 - val_loss: 0.0029\n",
      "Epoch 8/100\n",
      "\u001b[1m79/96\u001b[0m \u001b[32m━━━━━━━━━━━━━━━━\u001b[0m\u001b[37m━━━━\u001b[0m \u001b[1m0s\u001b[0m 2ms/step - loss: 0.0018\n",
      "Epoch 8: val_loss improved from 0.00286 to 0.00272, saving model to mymodel.keras\n",
      "\u001b[1m96/96\u001b[0m \u001b[32m━━━━━━━━━━━━━━━━━━━━\u001b[0m\u001b[37m\u001b[0m \u001b[1m0s\u001b[0m 3ms/step - loss: 0.0023 - val_loss: 0.0027\n",
      "Epoch 9/100\n",
      "\u001b[1m80/96\u001b[0m \u001b[32m━━━━━━━━━━━━━━━━\u001b[0m\u001b[37m━━━━\u001b[0m \u001b[1m0s\u001b[0m 2ms/step - loss: 0.0018\n",
      "Epoch 9: val_loss improved from 0.00272 to 0.00253, saving model to mymodel.keras\n",
      "\u001b[1m96/96\u001b[0m \u001b[32m━━━━━━━━━━━━━━━━━━━━\u001b[0m\u001b[37m\u001b[0m \u001b[1m0s\u001b[0m 3ms/step - loss: 0.0022 - val_loss: 0.0025\n",
      "Epoch 10/100\n",
      "\u001b[1m82/96\u001b[0m \u001b[32m━━━━━━━━━━━━━━━━━\u001b[0m\u001b[37m━━━\u001b[0m \u001b[1m0s\u001b[0m 2ms/step - loss: 0.0017    \n",
      "Epoch 10: val_loss improved from 0.00253 to 0.00246, saving model to mymodel.keras\n",
      "\u001b[1m96/96\u001b[0m \u001b[32m━━━━━━━━━━━━━━━━━━━━\u001b[0m\u001b[37m\u001b[0m \u001b[1m0s\u001b[0m 3ms/step - loss: 0.0020 - val_loss: 0.0025\n",
      "Epoch 11/100\n",
      "\u001b[1m77/96\u001b[0m \u001b[32m━━━━━━━━━━━━━━━━\u001b[0m\u001b[37m━━━━\u001b[0m \u001b[1m0s\u001b[0m 2ms/step - loss: 0.0016\n",
      "Epoch 11: val_loss improved from 0.00246 to 0.00229, saving model to mymodel.keras\n",
      "\u001b[1m96/96\u001b[0m \u001b[32m━━━━━━━━━━━━━━━━━━━━\u001b[0m\u001b[37m\u001b[0m \u001b[1m0s\u001b[0m 3ms/step - loss: 0.0021 - val_loss: 0.0023\n",
      "Epoch 12/100\n",
      "\u001b[1m80/96\u001b[0m \u001b[32m━━━━━━━━━━━━━━━━\u001b[0m\u001b[37m━━━━\u001b[0m \u001b[1m0s\u001b[0m 2ms/step - loss: 0.0016\n",
      "Epoch 12: val_loss did not improve from 0.00229\n",
      "\u001b[1m96/96\u001b[0m \u001b[32m━━━━━━━━━━━━━━━━━━━━\u001b[0m\u001b[37m\u001b[0m \u001b[1m0s\u001b[0m 2ms/step - loss: 0.0019 - val_loss: 0.0023\n",
      "Epoch 13/100\n",
      "\u001b[1m78/96\u001b[0m \u001b[32m━━━━━━━━━━━━━━━━\u001b[0m\u001b[37m━━━━\u001b[0m \u001b[1m0s\u001b[0m 2ms/step - loss: 0.0013    \n",
      "Epoch 13: val_loss did not improve from 0.00229\n",
      "\u001b[1m96/96\u001b[0m \u001b[32m━━━━━━━━━━━━━━━━━━━━\u001b[0m\u001b[37m\u001b[0m \u001b[1m0s\u001b[0m 3ms/step - loss: 0.0017 - val_loss: 0.0023\n",
      "Epoch 14/100\n",
      "\u001b[1m82/96\u001b[0m \u001b[32m━━━━━━━━━━━━━━━━━\u001b[0m\u001b[37m━━━\u001b[0m \u001b[1m0s\u001b[0m 2ms/step - loss: 0.0017\n",
      "Epoch 14: val_loss did not improve from 0.00229\n",
      "\u001b[1m96/96\u001b[0m \u001b[32m━━━━━━━━━━━━━━━━━━━━\u001b[0m\u001b[37m\u001b[0m \u001b[1m0s\u001b[0m 2ms/step - loss: 0.0021 - val_loss: 0.0025\n",
      "Epoch 15/100\n",
      "\u001b[1m80/96\u001b[0m \u001b[32m━━━━━━━━━━━━━━━━\u001b[0m\u001b[37m━━━━\u001b[0m \u001b[1m0s\u001b[0m 2ms/step - loss: 0.0019\n",
      "Epoch 15: val_loss did not improve from 0.00229\n",
      "\u001b[1m96/96\u001b[0m \u001b[32m━━━━━━━━━━━━━━━━━━━━\u001b[0m\u001b[37m\u001b[0m \u001b[1m0s\u001b[0m 2ms/step - loss: 0.0022 - val_loss: 0.0024\n",
      "Epoch 16/100\n",
      "\u001b[1m83/96\u001b[0m \u001b[32m━━━━━━━━━━━━━━━━━\u001b[0m\u001b[37m━━━\u001b[0m \u001b[1m0s\u001b[0m 2ms/step - loss: 0.0018\n",
      "Epoch 16: val_loss improved from 0.00229 to 0.00208, saving model to mymodel.keras\n",
      "\u001b[1m96/96\u001b[0m \u001b[32m━━━━━━━━━━━━━━━━━━━━\u001b[0m\u001b[37m\u001b[0m \u001b[1m0s\u001b[0m 3ms/step - loss: 0.0021 - val_loss: 0.0021\n",
      "Epoch 17/100\n",
      "\u001b[1m81/96\u001b[0m \u001b[32m━━━━━━━━━━━━━━━━\u001b[0m\u001b[37m━━━━\u001b[0m \u001b[1m0s\u001b[0m 2ms/step - loss: 0.0016    \n",
      "Epoch 17: val_loss did not improve from 0.00208\n",
      "\u001b[1m96/96\u001b[0m \u001b[32m━━━━━━━━━━━━━━━━━━━━\u001b[0m\u001b[37m\u001b[0m \u001b[1m0s\u001b[0m 2ms/step - loss: 0.0020 - val_loss: 0.0028\n",
      "Epoch 18/100\n",
      "\u001b[1m81/96\u001b[0m \u001b[32m━━━━━━━━━━━━━━━━\u001b[0m\u001b[37m━━━━\u001b[0m \u001b[1m0s\u001b[0m 2ms/step - loss: 0.0019\n",
      "Epoch 18: val_loss did not improve from 0.00208\n",
      "\u001b[1m96/96\u001b[0m \u001b[32m━━━━━━━━━━━━━━━━━━━━\u001b[0m\u001b[37m\u001b[0m \u001b[1m0s\u001b[0m 2ms/step - loss: 0.0022 - val_loss: 0.0030\n",
      "Epoch 19/100\n",
      "\u001b[1m82/96\u001b[0m \u001b[32m━━━━━━━━━━━━━━━━━\u001b[0m\u001b[37m━━━\u001b[0m \u001b[1m0s\u001b[0m 2ms/step - loss: 0.0018\n",
      "Epoch 19: val_loss did not improve from 0.00208\n",
      "\u001b[1m96/96\u001b[0m \u001b[32m━━━━━━━━━━━━━━━━━━━━\u001b[0m\u001b[37m\u001b[0m \u001b[1m0s\u001b[0m 2ms/step - loss: 0.0021 - val_loss: 0.0028\n",
      "Epoch 20/100\n",
      "\u001b[1m80/96\u001b[0m \u001b[32m━━━━━━━━━━━━━━━━\u001b[0m\u001b[37m━━━━\u001b[0m \u001b[1m0s\u001b[0m 2ms/step - loss: 0.0019\n",
      "Epoch 20: val_loss did not improve from 0.00208\n",
      "\u001b[1m96/96\u001b[0m \u001b[32m━━━━━━━━━━━━━━━━━━━━\u001b[0m\u001b[37m\u001b[0m \u001b[1m0s\u001b[0m 3ms/step - loss: 0.0023 - val_loss: 0.0045\n",
      "Epoch 21/100\n",
      "\u001b[1m82/96\u001b[0m \u001b[32m━━━━━━━━━━━━━━━━━\u001b[0m\u001b[37m━━━\u001b[0m \u001b[1m0s\u001b[0m 2ms/step - loss: 0.0022\n",
      "Epoch 21: val_loss did not improve from 0.00208\n",
      "\u001b[1m96/96\u001b[0m \u001b[32m━━━━━━━━━━━━━━━━━━━━\u001b[0m\u001b[37m\u001b[0m \u001b[1m0s\u001b[0m 2ms/step - loss: 0.0026 - val_loss: 0.0054\n",
      "Epoch 22/100\n",
      "\u001b[1m81/96\u001b[0m \u001b[32m━━━━━━━━━━━━━━━━\u001b[0m\u001b[37m━━━━\u001b[0m \u001b[1m0s\u001b[0m 2ms/step - loss: 0.0020\n",
      "Epoch 22: val_loss did not improve from 0.00208\n",
      "\u001b[1m96/96\u001b[0m \u001b[32m━━━━━━━━━━━━━━━━━━━━\u001b[0m\u001b[37m\u001b[0m \u001b[1m0s\u001b[0m 2ms/step - loss: 0.0023 - val_loss: 0.0052\n",
      "Epoch 23/100\n",
      "\u001b[1m93/96\u001b[0m \u001b[32m━━━━━━━━━━━━━━━━━━━\u001b[0m\u001b[37m━\u001b[0m \u001b[1m0s\u001b[0m 2ms/step - loss: 0.0020\n",
      "Epoch 23: val_loss did not improve from 0.00208\n",
      "\u001b[1m96/96\u001b[0m \u001b[32m━━━━━━━━━━━━━━━━━━━━\u001b[0m\u001b[37m\u001b[0m \u001b[1m0s\u001b[0m 3ms/step - loss: 0.0021 - val_loss: 0.0041\n",
      "Epoch 24/100\n",
      "\u001b[1m96/96\u001b[0m \u001b[32m━━━━━━━━━━━━━━━━━━━━\u001b[0m\u001b[37m\u001b[0m \u001b[1m0s\u001b[0m 2ms/step - loss: 0.0019\n",
      "Epoch 24: val_loss did not improve from 0.00208\n",
      "\u001b[1m96/96\u001b[0m \u001b[32m━━━━━━━━━━━━━━━━━━━━\u001b[0m\u001b[37m\u001b[0m \u001b[1m0s\u001b[0m 3ms/step - loss: 0.0020 - val_loss: 0.0030\n",
      "Epoch 25/100\n",
      "\u001b[1m72/96\u001b[0m \u001b[32m━━━━━━━━━━━━━━━\u001b[0m\u001b[37m━━━━━\u001b[0m \u001b[1m0s\u001b[0m 2ms/step - loss: 0.0012    \n",
      "Epoch 25: val_loss did not improve from 0.00208\n",
      "\u001b[1m96/96\u001b[0m \u001b[32m━━━━━━━━━━━━━━━━━━━━\u001b[0m\u001b[37m\u001b[0m \u001b[1m0s\u001b[0m 3ms/step - loss: 0.0018 - val_loss: 0.0039\n",
      "Epoch 26/100\n",
      "\u001b[1m79/96\u001b[0m \u001b[32m━━━━━━━━━━━━━━━━\u001b[0m\u001b[37m━━━━\u001b[0m \u001b[1m0s\u001b[0m 2ms/step - loss: 0.0015\n",
      "Epoch 26: val_loss did not improve from 0.00208\n",
      "\u001b[1m96/96\u001b[0m \u001b[32m━━━━━━━━━━━━━━━━━━━━\u001b[0m\u001b[37m\u001b[0m \u001b[1m0s\u001b[0m 3ms/step - loss: 0.0019 - val_loss: 0.0050\n",
      "Epoch 26: early stopping\n"
     ]
    }
   ],
   "source": [
    "history = model.fit(x=X_train,\n",
    "                    y=y_train,\n",
    "                    epochs=100,\n",
    "                    batch_size=20,\n",
    "                    validation_data=(X_test, y_test),\n",
    "                    callbacks=[callbacks],\n",
    "                    shuffle=False)"
   ]
  },
  {
   "cell_type": "code",
   "execution_count": 43,
   "id": "ea29238f",
   "metadata": {
    "execution": {
     "iopub.execute_input": "2025-01-05T08:40:08.716071Z",
     "iopub.status.busy": "2025-01-05T08:40:08.715668Z",
     "iopub.status.idle": "2025-01-05T08:40:09.007011Z",
     "shell.execute_reply": "2025-01-05T08:40:09.005643Z"
    },
    "id": "VzxR8n1yeGpV",
    "papermill": {
     "duration": 0.319415,
     "end_time": "2025-01-05T08:40:09.009940",
     "exception": false,
     "start_time": "2025-01-05T08:40:08.690525",
     "status": "completed"
    },
    "tags": []
   },
   "outputs": [
    {
     "data": {
      "image/png": "[encoded data removed]",
      "text/plain": [
       "<Figure size 2000x500 with 1 Axes>"
      ]
     },
     "metadata": {},
     "output_type": "display_data"
    }
   ],
   "source": [
    "plt.figure(figsize=(20,5))\n",
    "plt.subplot(1,2,1)\n",
    "plt.plot(history.history['loss'], label='Training Loss')\n",
    "plt.plot(history.history['val_loss'], label='Validation Loss')\n",
    "plt.legend(loc='upper right')\n",
    "plt.xlabel('Epoch', fontsize = 16)\n",
    "plt.ylabel('Loss', fontsize = 16)\n",
    "plt.ylim([0,max(plt.ylim())])\n",
    "plt.title('Training and Validation Loss', fontsize = 16)\n",
    "plt.show()"
   ]
  },
  {
   "cell_type": "markdown",
   "id": "5beab4fd",
   "metadata": {
    "id": "XO0NGWQWerLU",
    "papermill": {
     "duration": 0.023919,
     "end_time": "2025-01-05T08:40:09.063972",
     "exception": false,
     "start_time": "2025-01-05T08:40:09.040053",
     "status": "completed"
    },
    "tags": []
   },
   "source": [
    "## Evaluation"
   ]
  },
  {
   "cell_type": "code",
   "execution_count": 44,
   "id": "b25dcbf8",
   "metadata": {
    "execution": {
     "iopub.execute_input": "2025-01-05T08:40:09.113777Z",
     "iopub.status.busy": "2025-01-05T08:40:09.113066Z",
     "iopub.status.idle": "2025-01-05T08:40:09.711037Z",
     "shell.execute_reply": "2025-01-05T08:40:09.709806Z"
    },
    "id": "hyeoNUjxetH-",
    "papermill": {
     "duration": 0.625589,
     "end_time": "2025-01-05T08:40:09.713351",
     "exception": false,
     "start_time": "2025-01-05T08:40:09.087762",
     "status": "completed"
    },
    "tags": []
   },
   "outputs": [
    {
     "name": "stdout",
     "output_type": "stream",
     "text": [
      "\u001b[1m463/463\u001b[0m \u001b[32m━━━━━━━━━━━━━━━━━━━━\u001b[0m\u001b[37m\u001b[0m \u001b[1m1s\u001b[0m 1ms/step - loss: 0.0058\n",
      "\n",
      "Test Loss: 0.5%\n"
     ]
    }
   ],
   "source": [
    "loss = model.evaluate(X_test, y_test, batch_size=1)\n",
    "print(\"\\nTest Loss: %.1f%%\" % (100.0 * loss))"
   ]
  },
  {
   "cell_type": "code",
   "execution_count": 45,
   "id": "a32887d2",
   "metadata": {
    "execution": {
     "iopub.execute_input": "2025-01-05T08:40:09.766234Z",
     "iopub.status.busy": "2025-01-05T08:40:09.765057Z",
     "iopub.status.idle": "2025-01-05T08:40:10.238454Z",
     "shell.execute_reply": "2025-01-05T08:40:10.237396Z"
    },
    "id": "9e854j_NfFTV",
    "papermill": {
     "duration": 0.502211,
     "end_time": "2025-01-05T08:40:10.241043",
     "exception": false,
     "start_time": "2025-01-05T08:40:09.738832",
     "status": "completed"
    },
    "tags": []
   },
   "outputs": [
    {
     "name": "stdout",
     "output_type": "stream",
     "text": [
      "\u001b[1m60/60\u001b[0m \u001b[32m━━━━━━━━━━━━━━━━━━━━\u001b[0m\u001b[37m\u001b[0m \u001b[1m0s\u001b[0m 4ms/step\n"
     ]
    }
   ],
   "source": [
    "train_predict = model.predict(X_train)"
   ]
  },
  {
   "cell_type": "code",
   "execution_count": 46,
   "id": "fcbd45da",
   "metadata": {
    "execution": {
     "iopub.execute_input": "2025-01-05T08:40:10.294731Z",
     "iopub.status.busy": "2025-01-05T08:40:10.293687Z",
     "iopub.status.idle": "2025-01-05T08:40:10.400483Z",
     "shell.execute_reply": "2025-01-05T08:40:10.399082Z"
    },
    "id": "GZgJuMd-fqZW",
    "papermill": {
     "duration": 0.136689,
     "end_time": "2025-01-05T08:40:10.403400",
     "exception": false,
     "start_time": "2025-01-05T08:40:10.266711",
     "status": "completed"
    },
    "tags": []
   },
   "outputs": [
    {
     "name": "stdout",
     "output_type": "stream",
     "text": [
      "\u001b[1m15/15\u001b[0m \u001b[32m━━━━━━━━━━━━━━━━━━━━\u001b[0m\u001b[37m\u001b[0m \u001b[1m0s\u001b[0m 2ms/step \n"
     ]
    }
   ],
   "source": [
    "test_predict = model.predict(X_test)"
   ]
  },
  {
   "cell_type": "code",
   "execution_count": 47,
   "id": "ac63ac23",
   "metadata": {
    "execution": {
     "iopub.execute_input": "2025-01-05T08:40:10.457143Z",
     "iopub.status.busy": "2025-01-05T08:40:10.456125Z",
     "iopub.status.idle": "2025-01-05T08:40:10.462299Z",
     "shell.execute_reply": "2025-01-05T08:40:10.461129Z"
    },
    "id": "FcH_8U3tfsGm",
    "papermill": {
     "duration": 0.035072,
     "end_time": "2025-01-05T08:40:10.464610",
     "exception": false,
     "start_time": "2025-01-05T08:40:10.429538",
     "status": "completed"
    },
    "tags": []
   },
   "outputs": [],
   "source": [
    "train_predict = scaler_train.inverse_transform(train_predict)\n",
    "test_predict = scaler_test.inverse_transform(test_predict)"
   ]
  },
  {
   "cell_type": "code",
   "execution_count": 48,
   "id": "cb29e36c",
   "metadata": {
    "execution": {
     "iopub.execute_input": "2025-01-05T08:40:10.518604Z",
     "iopub.status.busy": "2025-01-05T08:40:10.518167Z",
     "iopub.status.idle": "2025-01-05T08:40:10.523925Z",
     "shell.execute_reply": "2025-01-05T08:40:10.522764Z"
    },
    "id": "DsGDu-NKf912",
    "papermill": {
     "duration": 0.035537,
     "end_time": "2025-01-05T08:40:10.526088",
     "exception": false,
     "start_time": "2025-01-05T08:40:10.490551",
     "status": "completed"
    },
    "tags": []
   },
   "outputs": [],
   "source": [
    "y_train = scaler_train.inverse_transform(y_train)\n",
    "y_test = scaler_test.inverse_transform(y_test)"
   ]
  },
  {
   "cell_type": "code",
   "execution_count": 49,
   "id": "da7bb5b7",
   "metadata": {
    "execution": {
     "iopub.execute_input": "2025-01-05T08:40:10.581413Z",
     "iopub.status.busy": "2025-01-05T08:40:10.580032Z",
     "iopub.status.idle": "2025-01-05T08:40:10.587233Z",
     "shell.execute_reply": "2025-01-05T08:40:10.586132Z"
    },
    "id": "ZLXqwAU7gGW2",
    "papermill": {
     "duration": 0.037563,
     "end_time": "2025-01-05T08:40:10.589581",
     "exception": false,
     "start_time": "2025-01-05T08:40:10.552018",
     "status": "completed"
    },
    "tags": []
   },
   "outputs": [],
   "source": [
    "train_rmse = np.sqrt(mean_squared_error(y_train, train_predict))"
   ]
  },
  {
   "cell_type": "code",
   "execution_count": 50,
   "id": "c84f0812",
   "metadata": {
    "execution": {
     "iopub.execute_input": "2025-01-05T08:40:10.642138Z",
     "iopub.status.busy": "2025-01-05T08:40:10.641768Z",
     "iopub.status.idle": "2025-01-05T08:40:10.647594Z",
     "shell.execute_reply": "2025-01-05T08:40:10.646391Z"
    },
    "id": "76WbnJaIgJ4g",
    "papermill": {
     "duration": 0.034885,
     "end_time": "2025-01-05T08:40:10.649844",
     "exception": false,
     "start_time": "2025-01-05T08:40:10.614959",
     "status": "completed"
    },
    "tags": []
   },
   "outputs": [],
   "source": [
    "test_rmse = np.sqrt(mean_squared_error(y_test, test_predict))"
   ]
  },
  {
   "cell_type": "code",
   "execution_count": 51,
   "id": "85693745",
   "metadata": {
    "execution": {
     "iopub.execute_input": "2025-01-05T08:40:10.702102Z",
     "iopub.status.busy": "2025-01-05T08:40:10.701735Z",
     "iopub.status.idle": "2025-01-05T08:40:10.707413Z",
     "shell.execute_reply": "2025-01-05T08:40:10.706334Z"
    },
    "id": "WcUBQBz7gMV2",
    "papermill": {
     "duration": 0.034243,
     "end_time": "2025-01-05T08:40:10.709495",
     "exception": false,
     "start_time": "2025-01-05T08:40:10.675252",
     "status": "completed"
    },
    "tags": []
   },
   "outputs": [
    {
     "name": "stdout",
     "output_type": "stream",
     "text": [
      "Train RMSE: 21.566823959350586\n",
      "Test RMSE: 42.652488708496094\n"
     ]
    }
   ],
   "source": [
    "print(f\"Train RMSE: {train_rmse}\")\n",
    "print(f\"Test RMSE: {test_rmse}\")"
   ]
  },
  {
   "cell_type": "code",
   "execution_count": 52,
   "id": "8f913673",
   "metadata": {
    "execution": {
     "iopub.execute_input": "2025-01-05T08:40:10.762819Z",
     "iopub.status.busy": "2025-01-05T08:40:10.761869Z",
     "iopub.status.idle": "2025-01-05T08:40:10.794226Z",
     "shell.execute_reply": "2025-01-05T08:40:10.793122Z"
    },
    "id": "t_llof9mgYz_",
    "papermill": {
     "duration": 0.061156,
     "end_time": "2025-01-05T08:40:10.796281",
     "exception": false,
     "start_time": "2025-01-05T08:40:10.735125",
     "status": "completed"
    },
    "tags": []
   },
   "outputs": [
    {
     "data": {
      "text/html": [
       "<div>\n",
       "<style scoped>\n",
       "    .dataframe tbody tr th:only-of-type {\n",
       "        vertical-align: middle;\n",
       "    }\n",
       "\n",
       "    .dataframe tbody tr th {\n",
       "        vertical-align: top;\n",
       "    }\n",
       "\n",
       "    .dataframe thead th {\n",
       "        text-align: right;\n",
       "    }\n",
       "</style>\n",
       "<table border=\"1\" class=\"dataframe\">\n",
       "  <thead>\n",
       "    <tr style=\"text-align: right;\">\n",
       "      <th></th>\n",
       "      <th>count</th>\n",
       "      <th>mean</th>\n",
       "      <th>min</th>\n",
       "      <th>25%</th>\n",
       "      <th>50%</th>\n",
       "      <th>75%</th>\n",
       "      <th>max</th>\n",
       "      <th>std</th>\n",
       "    </tr>\n",
       "  </thead>\n",
       "  <tbody>\n",
       "    <tr>\n",
       "      <th>Date</th>\n",
       "      <td>2416</td>\n",
       "      <td>2015-04-15 11:09:56.026490112</td>\n",
       "      <td>2010-06-29 00:00:00</td>\n",
       "      <td>2012-11-19 18:00:00</td>\n",
       "      <td>2015-04-16 12:00:00</td>\n",
       "      <td>2017-09-07 06:00:00</td>\n",
       "      <td>2020-02-03 00:00:00</td>\n",
       "      <td>NaN</td>\n",
       "    </tr>\n",
       "    <tr>\n",
       "      <th>Open</th>\n",
       "      <td>2416.0</td>\n",
       "      <td>186.271147</td>\n",
       "      <td>16.139999</td>\n",
       "      <td>34.342498</td>\n",
       "      <td>213.035004</td>\n",
       "      <td>266.450012</td>\n",
       "      <td>673.690002</td>\n",
       "      <td>118.740163</td>\n",
       "    </tr>\n",
       "    <tr>\n",
       "      <th>High</th>\n",
       "      <td>2416.0</td>\n",
       "      <td>189.578224</td>\n",
       "      <td>16.629999</td>\n",
       "      <td>34.897501</td>\n",
       "      <td>216.745002</td>\n",
       "      <td>270.927513</td>\n",
       "      <td>786.140015</td>\n",
       "      <td>120.892329</td>\n",
       "    </tr>\n",
       "    <tr>\n",
       "      <th>Low</th>\n",
       "      <td>2416.0</td>\n",
       "      <td>182.916639</td>\n",
       "      <td>14.98</td>\n",
       "      <td>33.587501</td>\n",
       "      <td>208.870002</td>\n",
       "      <td>262.102501</td>\n",
       "      <td>673.52002</td>\n",
       "      <td>116.857591</td>\n",
       "    </tr>\n",
       "    <tr>\n",
       "      <th>Close</th>\n",
       "      <td>2416.0</td>\n",
       "      <td>186.403651</td>\n",
       "      <td>15.8</td>\n",
       "      <td>34.400002</td>\n",
       "      <td>212.960007</td>\n",
       "      <td>266.774994</td>\n",
       "      <td>780.0</td>\n",
       "      <td>119.13602</td>\n",
       "    </tr>\n",
       "    <tr>\n",
       "      <th>Adj Close</th>\n",
       "      <td>2416.0</td>\n",
       "      <td>186.403651</td>\n",
       "      <td>15.8</td>\n",
       "      <td>34.400002</td>\n",
       "      <td>212.960007</td>\n",
       "      <td>266.774994</td>\n",
       "      <td>780.0</td>\n",
       "      <td>119.13602</td>\n",
       "    </tr>\n",
       "    <tr>\n",
       "      <th>Volume</th>\n",
       "      <td>2416.0</td>\n",
       "      <td>5572721.688742</td>\n",
       "      <td>118500.0</td>\n",
       "      <td>1899275.0</td>\n",
       "      <td>4578400.0</td>\n",
       "      <td>7361150.0</td>\n",
       "      <td>47065000.0</td>\n",
       "      <td>4987809.151888</td>\n",
       "    </tr>\n",
       "  </tbody>\n",
       "</table>\n",
       "</div>"
      ],
      "text/plain": [
       "            count                           mean                  min  \\\n",
       "Date         2416  2015-04-15 11:09:56.026490112  2010-06-29 00:00:00   \n",
       "Open       2416.0                     186.271147            16.139999   \n",
       "High       2416.0                     189.578224            16.629999   \n",
       "Low        2416.0                     182.916639                14.98   \n",
       "Close      2416.0                     186.403651                 15.8   \n",
       "Adj Close  2416.0                     186.403651                 15.8   \n",
       "Volume     2416.0                 5572721.688742             118500.0   \n",
       "\n",
       "                           25%                  50%                  75%  \\\n",
       "Date       2012-11-19 18:00:00  2015-04-16 12:00:00  2017-09-07 06:00:00   \n",
       "Open                 34.342498           213.035004           266.450012   \n",
       "High                 34.897501           216.745002           270.927513   \n",
       "Low                  33.587501           208.870002           262.102501   \n",
       "Close                34.400002           212.960007           266.774994   \n",
       "Adj Close            34.400002           212.960007           266.774994   \n",
       "Volume               1899275.0            4578400.0            7361150.0   \n",
       "\n",
       "                           max             std  \n",
       "Date       2020-02-03 00:00:00             NaN  \n",
       "Open                673.690002      118.740163  \n",
       "High                786.140015      120.892329  \n",
       "Low                  673.52002      116.857591  \n",
       "Close                    780.0       119.13602  \n",
       "Adj Close                780.0       119.13602  \n",
       "Volume              47065000.0  4987809.151888  "
      ]
     },
     "execution_count": 52,
     "metadata": {},
     "output_type": "execute_result"
    }
   ],
   "source": [
    "df.describe().T"
   ]
  },
  {
   "cell_type": "code",
   "execution_count": 53,
   "id": "2512a70f",
   "metadata": {
    "execution": {
     "iopub.execute_input": "2025-01-05T08:40:10.849925Z",
     "iopub.status.busy": "2025-01-05T08:40:10.849545Z",
     "iopub.status.idle": "2025-01-05T08:40:10.861392Z",
     "shell.execute_reply": "2025-01-05T08:40:10.860325Z"
    },
    "id": "-PSGVpMzgz1O",
    "papermill": {
     "duration": 0.041264,
     "end_time": "2025-01-05T08:40:10.863474",
     "exception": false,
     "start_time": "2025-01-05T08:40:10.822210",
     "status": "completed"
    },
    "tags": []
   },
   "outputs": [
    {
     "data": {
      "text/html": [
       "<div>\n",
       "<style scoped>\n",
       "    .dataframe tbody tr th:only-of-type {\n",
       "        vertical-align: middle;\n",
       "    }\n",
       "\n",
       "    .dataframe tbody tr th {\n",
       "        vertical-align: top;\n",
       "    }\n",
       "\n",
       "    .dataframe thead th {\n",
       "        text-align: right;\n",
       "    }\n",
       "</style>\n",
       "<table border=\"1\" class=\"dataframe\">\n",
       "  <thead>\n",
       "    <tr style=\"text-align: right;\">\n",
       "      <th></th>\n",
       "      <th>Close</th>\n",
       "      <th>Predicted</th>\n",
       "    </tr>\n",
       "    <tr>\n",
       "      <th>Date</th>\n",
       "      <th></th>\n",
       "      <th></th>\n",
       "    </tr>\n",
       "  </thead>\n",
       "  <tbody>\n",
       "    <tr>\n",
       "      <th>2010-07-28</th>\n",
       "      <td>20.719999</td>\n",
       "      <td>39.327774</td>\n",
       "    </tr>\n",
       "    <tr>\n",
       "      <th>2010-07-29</th>\n",
       "      <td>20.350000</td>\n",
       "      <td>39.327774</td>\n",
       "    </tr>\n",
       "    <tr>\n",
       "      <th>2010-07-30</th>\n",
       "      <td>19.940001</td>\n",
       "      <td>39.327774</td>\n",
       "    </tr>\n",
       "    <tr>\n",
       "      <th>2010-08-02</th>\n",
       "      <td>20.920000</td>\n",
       "      <td>39.327774</td>\n",
       "    </tr>\n",
       "    <tr>\n",
       "      <th>2010-08-03</th>\n",
       "      <td>21.950001</td>\n",
       "      <td>39.327774</td>\n",
       "    </tr>\n",
       "  </tbody>\n",
       "</table>\n",
       "</div>"
      ],
      "text/plain": [
       "                Close  Predicted\n",
       "Date                            \n",
       "2010-07-28  20.719999  39.327774\n",
       "2010-07-29  20.350000  39.327774\n",
       "2010-07-30  19.940001  39.327774\n",
       "2010-08-02  20.920000  39.327774\n",
       "2010-08-03  21.950001  39.327774"
      ]
     },
     "execution_count": 53,
     "metadata": {},
     "output_type": "execute_result"
    }
   ],
   "source": [
    "train_prediction_df = result_df[lookback:position]\n",
    "train_prediction_df[\"Predicted\"] = train_predict\n",
    "train_prediction_df.head()"
   ]
  },
  {
   "cell_type": "code",
   "execution_count": 54,
   "id": "ea4c3bfb",
   "metadata": {
    "execution": {
     "iopub.execute_input": "2025-01-05T08:40:10.917935Z",
     "iopub.status.busy": "2025-01-05T08:40:10.917555Z",
     "iopub.status.idle": "2025-01-05T08:40:10.929540Z",
     "shell.execute_reply": "2025-01-05T08:40:10.928249Z"
    },
    "id": "o7tRAXwOhMSA",
    "papermill": {
     "duration": 0.042084,
     "end_time": "2025-01-05T08:40:10.931661",
     "exception": false,
     "start_time": "2025-01-05T08:40:10.889577",
     "status": "completed"
    },
    "tags": []
   },
   "outputs": [
    {
     "data": {
      "text/html": [
       "<div>\n",
       "<style scoped>\n",
       "    .dataframe tbody tr th:only-of-type {\n",
       "        vertical-align: middle;\n",
       "    }\n",
       "\n",
       "    .dataframe tbody tr th {\n",
       "        vertical-align: top;\n",
       "    }\n",
       "\n",
       "    .dataframe thead th {\n",
       "        text-align: right;\n",
       "    }\n",
       "</style>\n",
       "<table border=\"1\" class=\"dataframe\">\n",
       "  <thead>\n",
       "    <tr style=\"text-align: right;\">\n",
       "      <th></th>\n",
       "      <th>Close</th>\n",
       "      <th>Predicted</th>\n",
       "    </tr>\n",
       "    <tr>\n",
       "      <th>Date</th>\n",
       "      <th></th>\n",
       "      <th></th>\n",
       "    </tr>\n",
       "  </thead>\n",
       "  <tbody>\n",
       "    <tr>\n",
       "      <th>2018-04-03</th>\n",
       "      <td>267.529999</td>\n",
       "      <td>335.390869</td>\n",
       "    </tr>\n",
       "    <tr>\n",
       "      <th>2018-04-04</th>\n",
       "      <td>286.940002</td>\n",
       "      <td>333.438812</td>\n",
       "    </tr>\n",
       "    <tr>\n",
       "      <th>2018-04-05</th>\n",
       "      <td>305.720001</td>\n",
       "      <td>332.543671</td>\n",
       "    </tr>\n",
       "    <tr>\n",
       "      <th>2018-04-06</th>\n",
       "      <td>299.299988</td>\n",
       "      <td>334.420959</td>\n",
       "    </tr>\n",
       "    <tr>\n",
       "      <th>2018-04-09</th>\n",
       "      <td>289.660004</td>\n",
       "      <td>336.032410</td>\n",
       "    </tr>\n",
       "  </tbody>\n",
       "</table>\n",
       "</div>"
      ],
      "text/plain": [
       "                 Close   Predicted\n",
       "Date                              \n",
       "2018-04-03  267.529999  335.390869\n",
       "2018-04-04  286.940002  333.438812\n",
       "2018-04-05  305.720001  332.543671\n",
       "2018-04-06  299.299988  334.420959\n",
       "2018-04-09  289.660004  336.032410"
      ]
     },
     "execution_count": 54,
     "metadata": {},
     "output_type": "execute_result"
    }
   ],
   "source": [
    "test_prediction_df = result_df[position+lookback:]\n",
    "test_prediction_df[\"Predicted\"] = test_predict\n",
    "test_prediction_df.head()"
   ]
  },
  {
   "cell_type": "code",
   "execution_count": 55,
   "id": "a1132225",
   "metadata": {
    "execution": {
     "iopub.execute_input": "2025-01-05T08:40:10.988527Z",
     "iopub.status.busy": "2025-01-05T08:40:10.988138Z",
     "iopub.status.idle": "2025-01-05T08:40:11.411575Z",
     "shell.execute_reply": "2025-01-05T08:40:11.410432Z"
    },
    "id": "PJ_-znSchYO_",
    "papermill": {
     "duration": 0.453354,
     "end_time": "2025-01-05T08:40:11.413956",
     "exception": false,
     "start_time": "2025-01-05T08:40:10.960602",
     "status": "completed"
    },
    "tags": []
   },
   "outputs": [
    {
     "data": {
      "image/png": "[encoded data removed]",
      "text/plain": [
       "<Figure size 1400x500 with 1 Axes>"
      ]
     },
     "metadata": {},
     "output_type": "display_data"
    }
   ],
   "source": [
    "plt.figure(figsize=(14,5))\n",
    "plt.plot(result_df, label = \"Real Number of Passengers\")\n",
    "plt.plot(train_prediction_df[\"Predicted\"], color = 'blue', label = \"Train Predicted Number of Passengers\")\n",
    "plt.plot(test_prediction_df[\"Predicted\"],color = 'red', label = \"Test Predicted Number of Passengers\")\n",
    "plt.title(\"Number of Passengers Prediction\")\n",
    "plt.xlabel(\"Time\")\n",
    "plt.ylabel(\"Number of Passengers\")\n",
    "plt.legend()\n",
    "plt.show()"
   ]
  }
 ],
 "metadata": {
  "colab": {
   "provenance": []
  },
  "kaggle": {
   "accelerator": "none",
   "dataSources": [
    {
     "datasetId": 500872,
     "sourceId": 927894,
     "sourceType": "datasetVersion"
    }
   ],
   "dockerImageVersionId": 30761,
   "isGpuEnabled": false,
   "isInternetEnabled": true,
   "language": "python",
   "sourceType": "notebook"
  },
  "kernelspec": {
   "display_name": "Python 3",
   "language": "python",
   "name": "python3"
  },
  "language_info": {
   "codemirror_mode": {
    "name": "ipython",
    "version": 3
   },
   "file_extension": ".py",
   "mimetype": "text/x-python",
   "name": "python",
   "nbconvert_exporter": "python",
   "pygments_lexer": "ipython3",
   "version": "3.10.14"
  },
  "papermill": {
   "default_parameters": {},
   "duration": 34.532082,
   "end_time": "2025-01-05T08:40:13.167696",
   "environment_variables": {},
   "exception": null,
   "input_path": "__notebook__.ipynb",
   "output_path": "__notebook__.ipynb",
   "parameters": {},
   "start_time": "2025-01-05T08:39:38.635614",
   "version": "2.6.0"
  }
 },
 "nbformat": 4,
 "nbformat_minor": 5
}
