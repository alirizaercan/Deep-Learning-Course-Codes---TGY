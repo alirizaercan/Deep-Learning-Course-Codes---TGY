{
 "cells": [
  {
   "cell_type": "markdown",
   "id": "ca174f2d",
   "metadata": {
    "id": "4unSJJjsT8BM",
    "papermill": {
     "duration": 0.027508,
     "end_time": "2024-09-21T07:23:43.149968",
     "exception": false,
     "start_time": "2024-09-21T07:23:43.122460",
     "status": "completed"
    },
    "tags": []
   },
   "source": [
    "# Tesla - Stock Price Prediction\n",
    "\n",
    "---\n",
    "\n"
   ]
  },
  {
   "cell_type": "markdown",
   "id": "7cfdea57",
   "metadata": {
    "id": "wkRLJL2XUAfT",
    "papermill": {
     "duration": 0.019109,
     "end_time": "2024-09-21T07:23:43.188130",
     "exception": false,
     "start_time": "2024-09-21T07:23:43.169021",
     "status": "completed"
    },
    "tags": []
   },
   "source": [
    "## Business Problem\n",
    "\n",
    "In this notebook, our purpose is to predict of tesla - stock price."
   ]
  },
  {
   "cell_type": "markdown",
   "id": "a34abb7c",
   "metadata": {
    "id": "0uxjphZsUwjz",
    "papermill": {
     "duration": 0.019461,
     "end_time": "2024-09-21T07:23:43.226857",
     "exception": false,
     "start_time": "2024-09-21T07:23:43.207396",
     "status": "completed"
    },
    "tags": []
   },
   "source": [
    "## Data Understanding"
   ]
  },
  {
   "cell_type": "code",
   "execution_count": 1,
   "id": "f84acaff",
   "metadata": {
    "execution": {
     "iopub.execute_input": "2024-09-21T07:23:43.266640Z",
     "iopub.status.busy": "2024-09-21T07:23:43.265697Z",
     "iopub.status.idle": "2024-09-21T07:24:01.503579Z",
     "shell.execute_reply": "2024-09-21T07:24:01.502296Z"
    },
    "id": "40IR65rQUyWC",
    "outputId": "4562368d-970e-4fd6-b03e-be036efe4dcd",
    "papermill": {
     "duration": 18.261126,
     "end_time": "2024-09-21T07:24:01.506726",
     "exception": false,
     "start_time": "2024-09-21T07:23:43.245600",
     "status": "completed"
    },
    "tags": []
   },
   "outputs": [],
   "source": [
    "import numpy as np\n",
    "import pandas as pd\n",
    "import datetime as dt\n",
    "import tensorflow as tf\n",
    "import matplotlib.pyplot as plt\n",
    "\n",
    "from sklearn.preprocessing import MinMaxScaler\n",
    "from sklearn.metrics import mean_squared_error\n",
    "\n",
    "from tensorflow.keras.models import Sequential\n",
    "from tensorflow.keras.layers import Dense, LSTM, Dropout\n",
    "from tensorflow.keras.callbacks import ModelCheckpoint, EarlyStopping\n",
    "\n",
    "import warnings\n",
    "warnings.filterwarnings('ignore')\n",
    "\n",
    "import os\n",
    "os.environ['TF_CPP_MIN_LOG_LEVEL'] = '3'\n",
    "tf.compat.v1.logging.set_verbosity(tf.compat.v1.logging.ERROR)"
   ]
  },
  {
   "cell_type": "code",
   "execution_count": 2,
   "id": "54ee2ebf",
   "metadata": {
    "execution": {
     "iopub.execute_input": "2024-09-21T07:24:01.546656Z",
     "iopub.status.busy": "2024-09-21T07:24:01.545926Z",
     "iopub.status.idle": "2024-09-21T07:24:01.606891Z",
     "shell.execute_reply": "2024-09-21T07:24:01.605581Z"
    },
    "id": "-be5_efvVpTV",
    "papermill": {
     "duration": 0.084182,
     "end_time": "2024-09-21T07:24:01.609739",
     "exception": false,
     "start_time": "2024-09-21T07:24:01.525557",
     "status": "completed"
    },
    "tags": []
   },
   "outputs": [
    {
     "data": {
      "text/html": [
       "<div>\n",
       "<style scoped>\n",
       "    .dataframe tbody tr th:only-of-type {\n",
       "        vertical-align: middle;\n",
       "    }\n",
       "\n",
       "    .dataframe tbody tr th {\n",
       "        vertical-align: top;\n",
       "    }\n",
       "\n",
       "    .dataframe thead th {\n",
       "        text-align: right;\n",
       "    }\n",
       "</style>\n",
       "<table border=\"1\" class=\"dataframe\">\n",
       "  <thead>\n",
       "    <tr style=\"text-align: right;\">\n",
       "      <th></th>\n",
       "      <th>Date</th>\n",
       "      <th>Open</th>\n",
       "      <th>High</th>\n",
       "      <th>Low</th>\n",
       "      <th>Close</th>\n",
       "      <th>Adj Close</th>\n",
       "      <th>Volume</th>\n",
       "    </tr>\n",
       "  </thead>\n",
       "  <tbody>\n",
       "    <tr>\n",
       "      <th>0</th>\n",
       "      <td>2010-06-29</td>\n",
       "      <td>19.000000</td>\n",
       "      <td>25.000000</td>\n",
       "      <td>17.540001</td>\n",
       "      <td>23.889999</td>\n",
       "      <td>23.889999</td>\n",
       "      <td>18766300</td>\n",
       "    </tr>\n",
       "    <tr>\n",
       "      <th>1</th>\n",
       "      <td>2010-06-30</td>\n",
       "      <td>25.790001</td>\n",
       "      <td>30.420000</td>\n",
       "      <td>23.299999</td>\n",
       "      <td>23.830000</td>\n",
       "      <td>23.830000</td>\n",
       "      <td>17187100</td>\n",
       "    </tr>\n",
       "    <tr>\n",
       "      <th>2</th>\n",
       "      <td>2010-07-01</td>\n",
       "      <td>25.000000</td>\n",
       "      <td>25.920000</td>\n",
       "      <td>20.270000</td>\n",
       "      <td>21.959999</td>\n",
       "      <td>21.959999</td>\n",
       "      <td>8218800</td>\n",
       "    </tr>\n",
       "    <tr>\n",
       "      <th>3</th>\n",
       "      <td>2010-07-02</td>\n",
       "      <td>23.000000</td>\n",
       "      <td>23.100000</td>\n",
       "      <td>18.709999</td>\n",
       "      <td>19.200001</td>\n",
       "      <td>19.200001</td>\n",
       "      <td>5139800</td>\n",
       "    </tr>\n",
       "    <tr>\n",
       "      <th>4</th>\n",
       "      <td>2010-07-06</td>\n",
       "      <td>20.000000</td>\n",
       "      <td>20.000000</td>\n",
       "      <td>15.830000</td>\n",
       "      <td>16.110001</td>\n",
       "      <td>16.110001</td>\n",
       "      <td>6866900</td>\n",
       "    </tr>\n",
       "    <tr>\n",
       "      <th>...</th>\n",
       "      <td>...</td>\n",
       "      <td>...</td>\n",
       "      <td>...</td>\n",
       "      <td>...</td>\n",
       "      <td>...</td>\n",
       "      <td>...</td>\n",
       "      <td>...</td>\n",
       "    </tr>\n",
       "    <tr>\n",
       "      <th>2411</th>\n",
       "      <td>2020-01-28</td>\n",
       "      <td>568.489990</td>\n",
       "      <td>576.809998</td>\n",
       "      <td>558.080017</td>\n",
       "      <td>566.900024</td>\n",
       "      <td>566.900024</td>\n",
       "      <td>11788500</td>\n",
       "    </tr>\n",
       "    <tr>\n",
       "      <th>2412</th>\n",
       "      <td>2020-01-29</td>\n",
       "      <td>575.690002</td>\n",
       "      <td>589.799988</td>\n",
       "      <td>567.429993</td>\n",
       "      <td>580.989990</td>\n",
       "      <td>580.989990</td>\n",
       "      <td>17801500</td>\n",
       "    </tr>\n",
       "    <tr>\n",
       "      <th>2413</th>\n",
       "      <td>2020-01-30</td>\n",
       "      <td>632.419983</td>\n",
       "      <td>650.880005</td>\n",
       "      <td>618.000000</td>\n",
       "      <td>640.809998</td>\n",
       "      <td>640.809998</td>\n",
       "      <td>29005700</td>\n",
       "    </tr>\n",
       "    <tr>\n",
       "      <th>2414</th>\n",
       "      <td>2020-01-31</td>\n",
       "      <td>640.000000</td>\n",
       "      <td>653.000000</td>\n",
       "      <td>632.520020</td>\n",
       "      <td>650.570007</td>\n",
       "      <td>650.570007</td>\n",
       "      <td>15719300</td>\n",
       "    </tr>\n",
       "    <tr>\n",
       "      <th>2415</th>\n",
       "      <td>2020-02-03</td>\n",
       "      <td>673.690002</td>\n",
       "      <td>786.140015</td>\n",
       "      <td>673.520020</td>\n",
       "      <td>780.000000</td>\n",
       "      <td>780.000000</td>\n",
       "      <td>47065000</td>\n",
       "    </tr>\n",
       "  </tbody>\n",
       "</table>\n",
       "<p>2416 rows × 7 columns</p>\n",
       "</div>"
      ],
      "text/plain": [
       "            Date        Open        High         Low       Close   Adj Close  \\\n",
       "0     2010-06-29   19.000000   25.000000   17.540001   23.889999   23.889999   \n",
       "1     2010-06-30   25.790001   30.420000   23.299999   23.830000   23.830000   \n",
       "2     2010-07-01   25.000000   25.920000   20.270000   21.959999   21.959999   \n",
       "3     2010-07-02   23.000000   23.100000   18.709999   19.200001   19.200001   \n",
       "4     2010-07-06   20.000000   20.000000   15.830000   16.110001   16.110001   \n",
       "...          ...         ...         ...         ...         ...         ...   \n",
       "2411  2020-01-28  568.489990  576.809998  558.080017  566.900024  566.900024   \n",
       "2412  2020-01-29  575.690002  589.799988  567.429993  580.989990  580.989990   \n",
       "2413  2020-01-30  632.419983  650.880005  618.000000  640.809998  640.809998   \n",
       "2414  2020-01-31  640.000000  653.000000  632.520020  650.570007  650.570007   \n",
       "2415  2020-02-03  673.690002  786.140015  673.520020  780.000000  780.000000   \n",
       "\n",
       "        Volume  \n",
       "0     18766300  \n",
       "1     17187100  \n",
       "2      8218800  \n",
       "3      5139800  \n",
       "4      6866900  \n",
       "...        ...  \n",
       "2411  11788500  \n",
       "2412  17801500  \n",
       "2413  29005700  \n",
       "2414  15719300  \n",
       "2415  47065000  \n",
       "\n",
       "[2416 rows x 7 columns]"
      ]
     },
     "execution_count": 2,
     "metadata": {},
     "output_type": "execute_result"
    }
   ],
   "source": [
    "df = pd.read_csv('/kaggle/input/tesla-stock-data-from-2010-to-2020/TSLA.csv')\n",
    "df"
   ]
  },
  {
   "cell_type": "code",
   "execution_count": 3,
   "id": "75523496",
   "metadata": {
    "execution": {
     "iopub.execute_input": "2024-09-21T07:24:01.650948Z",
     "iopub.status.busy": "2024-09-21T07:24:01.650508Z",
     "iopub.status.idle": "2024-09-21T07:24:01.667163Z",
     "shell.execute_reply": "2024-09-21T07:24:01.665835Z"
    },
    "id": "lG_AO3mdVv17",
    "papermill": {
     "duration": 0.040011,
     "end_time": "2024-09-21T07:24:01.669896",
     "exception": false,
     "start_time": "2024-09-21T07:24:01.629885",
     "status": "completed"
    },
    "tags": []
   },
   "outputs": [
    {
     "data": {
      "text/html": [
       "<div>\n",
       "<style scoped>\n",
       "    .dataframe tbody tr th:only-of-type {\n",
       "        vertical-align: middle;\n",
       "    }\n",
       "\n",
       "    .dataframe tbody tr th {\n",
       "        vertical-align: top;\n",
       "    }\n",
       "\n",
       "    .dataframe thead th {\n",
       "        text-align: right;\n",
       "    }\n",
       "</style>\n",
       "<table border=\"1\" class=\"dataframe\">\n",
       "  <thead>\n",
       "    <tr style=\"text-align: right;\">\n",
       "      <th></th>\n",
       "      <th>Date</th>\n",
       "      <th>Open</th>\n",
       "      <th>High</th>\n",
       "      <th>Low</th>\n",
       "      <th>Close</th>\n",
       "      <th>Adj Close</th>\n",
       "      <th>Volume</th>\n",
       "    </tr>\n",
       "  </thead>\n",
       "  <tbody>\n",
       "    <tr>\n",
       "      <th>0</th>\n",
       "      <td>2010-06-29</td>\n",
       "      <td>19.000000</td>\n",
       "      <td>25.00</td>\n",
       "      <td>17.540001</td>\n",
       "      <td>23.889999</td>\n",
       "      <td>23.889999</td>\n",
       "      <td>18766300</td>\n",
       "    </tr>\n",
       "    <tr>\n",
       "      <th>1</th>\n",
       "      <td>2010-06-30</td>\n",
       "      <td>25.790001</td>\n",
       "      <td>30.42</td>\n",
       "      <td>23.299999</td>\n",
       "      <td>23.830000</td>\n",
       "      <td>23.830000</td>\n",
       "      <td>17187100</td>\n",
       "    </tr>\n",
       "    <tr>\n",
       "      <th>2</th>\n",
       "      <td>2010-07-01</td>\n",
       "      <td>25.000000</td>\n",
       "      <td>25.92</td>\n",
       "      <td>20.270000</td>\n",
       "      <td>21.959999</td>\n",
       "      <td>21.959999</td>\n",
       "      <td>8218800</td>\n",
       "    </tr>\n",
       "    <tr>\n",
       "      <th>3</th>\n",
       "      <td>2010-07-02</td>\n",
       "      <td>23.000000</td>\n",
       "      <td>23.10</td>\n",
       "      <td>18.709999</td>\n",
       "      <td>19.200001</td>\n",
       "      <td>19.200001</td>\n",
       "      <td>5139800</td>\n",
       "    </tr>\n",
       "    <tr>\n",
       "      <th>4</th>\n",
       "      <td>2010-07-06</td>\n",
       "      <td>20.000000</td>\n",
       "      <td>20.00</td>\n",
       "      <td>15.830000</td>\n",
       "      <td>16.110001</td>\n",
       "      <td>16.110001</td>\n",
       "      <td>6866900</td>\n",
       "    </tr>\n",
       "  </tbody>\n",
       "</table>\n",
       "</div>"
      ],
      "text/plain": [
       "         Date       Open   High        Low      Close  Adj Close    Volume\n",
       "0  2010-06-29  19.000000  25.00  17.540001  23.889999  23.889999  18766300\n",
       "1  2010-06-30  25.790001  30.42  23.299999  23.830000  23.830000  17187100\n",
       "2  2010-07-01  25.000000  25.92  20.270000  21.959999  21.959999   8218800\n",
       "3  2010-07-02  23.000000  23.10  18.709999  19.200001  19.200001   5139800\n",
       "4  2010-07-06  20.000000  20.00  15.830000  16.110001  16.110001   6866900"
      ]
     },
     "execution_count": 3,
     "metadata": {},
     "output_type": "execute_result"
    }
   ],
   "source": [
    "df.head()"
   ]
  },
  {
   "cell_type": "code",
   "execution_count": 4,
   "id": "80de233e",
   "metadata": {
    "execution": {
     "iopub.execute_input": "2024-09-21T07:24:01.711766Z",
     "iopub.status.busy": "2024-09-21T07:24:01.711285Z",
     "iopub.status.idle": "2024-09-21T07:24:01.720012Z",
     "shell.execute_reply": "2024-09-21T07:24:01.718433Z"
    },
    "id": "TU5hlfyvVxY0",
    "papermill": {
     "duration": 0.032813,
     "end_time": "2024-09-21T07:24:01.722833",
     "exception": false,
     "start_time": "2024-09-21T07:24:01.690020",
     "status": "completed"
    },
    "tags": []
   },
   "outputs": [],
   "source": [
    "def check_df(dataframe, head=5):\n",
    "    print(\"##################### Shape #####################\")\n",
    "    print(dataframe.shape)\n",
    "    print(\"##################### Types #####################\")\n",
    "    print(dataframe.dtypes)\n",
    "    print(\"##################### Head #####################\")\n",
    "    print(dataframe.head(head))  # Fonksiyon çağrısına dikkat edin\n",
    "    print(\"##################### Tail #####################\")\n",
    "    print(dataframe.tail(head))\n",
    "    print(\"##################### NA #####################\")\n",
    "    print(dataframe.isnull().sum())\n",
    "    print(\"##################### Quantile #####################\")\n",
    "    print(dataframe.select_dtypes(include='number').quantile([0, 0.05, 0.5, 0.95, 0.99, 1]).T)\n"
   ]
  },
  {
   "cell_type": "code",
   "execution_count": 5,
   "id": "a5a54b97",
   "metadata": {
    "execution": {
     "iopub.execute_input": "2024-09-21T07:24:01.763779Z",
     "iopub.status.busy": "2024-09-21T07:24:01.763276Z",
     "iopub.status.idle": "2024-09-21T07:24:01.789374Z",
     "shell.execute_reply": "2024-09-21T07:24:01.788059Z"
    },
    "id": "t6iFP965V4vk",
    "papermill": {
     "duration": 0.050097,
     "end_time": "2024-09-21T07:24:01.792558",
     "exception": false,
     "start_time": "2024-09-21T07:24:01.742461",
     "status": "completed"
    },
    "tags": []
   },
   "outputs": [
    {
     "name": "stdout",
     "output_type": "stream",
     "text": [
      "##################### Shape #####################\n",
      "(2416, 7)\n",
      "##################### Types #####################\n",
      "Date          object\n",
      "Open         float64\n",
      "High         float64\n",
      "Low          float64\n",
      "Close        float64\n",
      "Adj Close    float64\n",
      "Volume         int64\n",
      "dtype: object\n",
      "##################### Head #####################\n",
      "         Date       Open   High        Low      Close  Adj Close    Volume\n",
      "0  2010-06-29  19.000000  25.00  17.540001  23.889999  23.889999  18766300\n",
      "1  2010-06-30  25.790001  30.42  23.299999  23.830000  23.830000  17187100\n",
      "2  2010-07-01  25.000000  25.92  20.270000  21.959999  21.959999   8218800\n",
      "3  2010-07-02  23.000000  23.10  18.709999  19.200001  19.200001   5139800\n",
      "4  2010-07-06  20.000000  20.00  15.830000  16.110001  16.110001   6866900\n",
      "##################### Tail #####################\n",
      "            Date        Open        High         Low       Close   Adj Close  \\\n",
      "2411  2020-01-28  568.489990  576.809998  558.080017  566.900024  566.900024   \n",
      "2412  2020-01-29  575.690002  589.799988  567.429993  580.989990  580.989990   \n",
      "2413  2020-01-30  632.419983  650.880005  618.000000  640.809998  640.809998   \n",
      "2414  2020-01-31  640.000000  653.000000  632.520020  650.570007  650.570007   \n",
      "2415  2020-02-03  673.690002  786.140015  673.520020  780.000000  780.000000   \n",
      "\n",
      "        Volume  \n",
      "2411  11788500  \n",
      "2412  17801500  \n",
      "2413  29005700  \n",
      "2414  15719300  \n",
      "2415  47065000  \n",
      "##################### NA #####################\n",
      "Date         0\n",
      "Open         0\n",
      "High         0\n",
      "Low          0\n",
      "Close        0\n",
      "Adj Close    0\n",
      "Volume       0\n",
      "dtype: int64\n",
      "##################### Quantile #####################\n",
      "                    0.00           0.05          0.50          0.95  \\\n",
      "Open           16.139999      23.384999  2.130350e+02  3.519100e+02   \n",
      "High           16.629999      24.022501  2.167450e+02  3.567500e+02   \n",
      "Low            14.980000      22.867499  2.088700e+02  3.460250e+02   \n",
      "Close          15.800000      23.565000  2.129600e+02  3.511675e+02   \n",
      "Adj Close      15.800000      23.565000  2.129600e+02  3.511675e+02   \n",
      "Volume     118500.000000  633825.000000  4.578400e+06  1.476090e+07   \n",
      "\n",
      "                   0.99          1.00  \n",
      "Open       4.235790e+02  6.736900e+02  \n",
      "High       4.284705e+02  7.861400e+02  \n",
      "Low        4.122865e+02  6.735200e+02  \n",
      "Close      4.243455e+02  7.800000e+02  \n",
      "Adj Close  4.243455e+02  7.800000e+02  \n",
      "Volume     2.459959e+07  4.706500e+07  \n"
     ]
    }
   ],
   "source": [
    "check_df(df)"
   ]
  },
  {
   "cell_type": "markdown",
   "id": "7e094581",
   "metadata": {
    "id": "v2n2ONcpWlQl",
    "papermill": {
     "duration": 0.019905,
     "end_time": "2024-09-21T07:24:01.832271",
     "exception": false,
     "start_time": "2024-09-21T07:24:01.812366",
     "status": "completed"
    },
    "tags": []
   },
   "source": [
    "## Data Preparation"
   ]
  },
  {
   "cell_type": "code",
   "execution_count": 6,
   "id": "8d55db9c",
   "metadata": {
    "execution": {
     "iopub.execute_input": "2024-09-21T07:24:01.872966Z",
     "iopub.status.busy": "2024-09-21T07:24:01.872514Z",
     "iopub.status.idle": "2024-09-21T07:24:01.886076Z",
     "shell.execute_reply": "2024-09-21T07:24:01.884937Z"
    },
    "id": "x-En8ormWAo8",
    "papermill": {
     "duration": 0.037265,
     "end_time": "2024-09-21T07:24:01.888974",
     "exception": false,
     "start_time": "2024-09-21T07:24:01.851709",
     "status": "completed"
    },
    "tags": []
   },
   "outputs": [],
   "source": [
    "df[\"Date\"] = pd.to_datetime(df[\"Date\"])"
   ]
  },
  {
   "cell_type": "code",
   "execution_count": 7,
   "id": "08b81f74",
   "metadata": {
    "execution": {
     "iopub.execute_input": "2024-09-21T07:24:01.929678Z",
     "iopub.status.busy": "2024-09-21T07:24:01.929171Z",
     "iopub.status.idle": "2024-09-21T07:24:01.947896Z",
     "shell.execute_reply": "2024-09-21T07:24:01.946643Z"
    },
    "id": "Wk3C4MPkWBUG",
    "papermill": {
     "duration": 0.042141,
     "end_time": "2024-09-21T07:24:01.950644",
     "exception": false,
     "start_time": "2024-09-21T07:24:01.908503",
     "status": "completed"
    },
    "tags": []
   },
   "outputs": [
    {
     "data": {
      "text/html": [
       "<div>\n",
       "<style scoped>\n",
       "    .dataframe tbody tr th:only-of-type {\n",
       "        vertical-align: middle;\n",
       "    }\n",
       "\n",
       "    .dataframe tbody tr th {\n",
       "        vertical-align: top;\n",
       "    }\n",
       "\n",
       "    .dataframe thead th {\n",
       "        text-align: right;\n",
       "    }\n",
       "</style>\n",
       "<table border=\"1\" class=\"dataframe\">\n",
       "  <thead>\n",
       "    <tr style=\"text-align: right;\">\n",
       "      <th></th>\n",
       "      <th>Date</th>\n",
       "      <th>Open</th>\n",
       "      <th>High</th>\n",
       "      <th>Low</th>\n",
       "      <th>Close</th>\n",
       "      <th>Adj Close</th>\n",
       "      <th>Volume</th>\n",
       "    </tr>\n",
       "  </thead>\n",
       "  <tbody>\n",
       "    <tr>\n",
       "      <th>0</th>\n",
       "      <td>2010-06-29</td>\n",
       "      <td>19.000000</td>\n",
       "      <td>25.00</td>\n",
       "      <td>17.540001</td>\n",
       "      <td>23.889999</td>\n",
       "      <td>23.889999</td>\n",
       "      <td>18766300</td>\n",
       "    </tr>\n",
       "    <tr>\n",
       "      <th>1</th>\n",
       "      <td>2010-06-30</td>\n",
       "      <td>25.790001</td>\n",
       "      <td>30.42</td>\n",
       "      <td>23.299999</td>\n",
       "      <td>23.830000</td>\n",
       "      <td>23.830000</td>\n",
       "      <td>17187100</td>\n",
       "    </tr>\n",
       "    <tr>\n",
       "      <th>2</th>\n",
       "      <td>2010-07-01</td>\n",
       "      <td>25.000000</td>\n",
       "      <td>25.92</td>\n",
       "      <td>20.270000</td>\n",
       "      <td>21.959999</td>\n",
       "      <td>21.959999</td>\n",
       "      <td>8218800</td>\n",
       "    </tr>\n",
       "    <tr>\n",
       "      <th>3</th>\n",
       "      <td>2010-07-02</td>\n",
       "      <td>23.000000</td>\n",
       "      <td>23.10</td>\n",
       "      <td>18.709999</td>\n",
       "      <td>19.200001</td>\n",
       "      <td>19.200001</td>\n",
       "      <td>5139800</td>\n",
       "    </tr>\n",
       "    <tr>\n",
       "      <th>4</th>\n",
       "      <td>2010-07-06</td>\n",
       "      <td>20.000000</td>\n",
       "      <td>20.00</td>\n",
       "      <td>15.830000</td>\n",
       "      <td>16.110001</td>\n",
       "      <td>16.110001</td>\n",
       "      <td>6866900</td>\n",
       "    </tr>\n",
       "  </tbody>\n",
       "</table>\n",
       "</div>"
      ],
      "text/plain": [
       "        Date       Open   High        Low      Close  Adj Close    Volume\n",
       "0 2010-06-29  19.000000  25.00  17.540001  23.889999  23.889999  18766300\n",
       "1 2010-06-30  25.790001  30.42  23.299999  23.830000  23.830000  17187100\n",
       "2 2010-07-01  25.000000  25.92  20.270000  21.959999  21.959999   8218800\n",
       "3 2010-07-02  23.000000  23.10  18.709999  19.200001  19.200001   5139800\n",
       "4 2010-07-06  20.000000  20.00  15.830000  16.110001  16.110001   6866900"
      ]
     },
     "execution_count": 7,
     "metadata": {},
     "output_type": "execute_result"
    }
   ],
   "source": [
    "df.head()"
   ]
  },
  {
   "cell_type": "code",
   "execution_count": 8,
   "id": "aeca7362",
   "metadata": {
    "execution": {
     "iopub.execute_input": "2024-09-21T07:24:01.992085Z",
     "iopub.status.busy": "2024-09-21T07:24:01.991657Z",
     "iopub.status.idle": "2024-09-21T07:24:01.998582Z",
     "shell.execute_reply": "2024-09-21T07:24:01.997321Z"
    },
    "id": "ZOVzSrk1WCHu",
    "papermill": {
     "duration": 0.030805,
     "end_time": "2024-09-21T07:24:02.001410",
     "exception": false,
     "start_time": "2024-09-21T07:24:01.970605",
     "status": "completed"
    },
    "tags": []
   },
   "outputs": [],
   "source": [
    "tesla_df = df[[\"Date\", \"Close\"]]"
   ]
  },
  {
   "cell_type": "code",
   "execution_count": 9,
   "id": "701ab152",
   "metadata": {
    "execution": {
     "iopub.execute_input": "2024-09-21T07:24:02.043087Z",
     "iopub.status.busy": "2024-09-21T07:24:02.042665Z",
     "iopub.status.idle": "2024-09-21T07:24:02.054922Z",
     "shell.execute_reply": "2024-09-21T07:24:02.053609Z"
    },
    "id": "Tli5FuMBWF8l",
    "papermill": {
     "duration": 0.035958,
     "end_time": "2024-09-21T07:24:02.057668",
     "exception": false,
     "start_time": "2024-09-21T07:24:02.021710",
     "status": "completed"
    },
    "tags": []
   },
   "outputs": [
    {
     "data": {
      "text/html": [
       "<div>\n",
       "<style scoped>\n",
       "    .dataframe tbody tr th:only-of-type {\n",
       "        vertical-align: middle;\n",
       "    }\n",
       "\n",
       "    .dataframe tbody tr th {\n",
       "        vertical-align: top;\n",
       "    }\n",
       "\n",
       "    .dataframe thead th {\n",
       "        text-align: right;\n",
       "    }\n",
       "</style>\n",
       "<table border=\"1\" class=\"dataframe\">\n",
       "  <thead>\n",
       "    <tr style=\"text-align: right;\">\n",
       "      <th></th>\n",
       "      <th>Date</th>\n",
       "      <th>Close</th>\n",
       "    </tr>\n",
       "  </thead>\n",
       "  <tbody>\n",
       "    <tr>\n",
       "      <th>0</th>\n",
       "      <td>2010-06-29</td>\n",
       "      <td>23.889999</td>\n",
       "    </tr>\n",
       "    <tr>\n",
       "      <th>1</th>\n",
       "      <td>2010-06-30</td>\n",
       "      <td>23.830000</td>\n",
       "    </tr>\n",
       "    <tr>\n",
       "      <th>2</th>\n",
       "      <td>2010-07-01</td>\n",
       "      <td>21.959999</td>\n",
       "    </tr>\n",
       "    <tr>\n",
       "      <th>3</th>\n",
       "      <td>2010-07-02</td>\n",
       "      <td>19.200001</td>\n",
       "    </tr>\n",
       "    <tr>\n",
       "      <th>4</th>\n",
       "      <td>2010-07-06</td>\n",
       "      <td>16.110001</td>\n",
       "    </tr>\n",
       "  </tbody>\n",
       "</table>\n",
       "</div>"
      ],
      "text/plain": [
       "        Date      Close\n",
       "0 2010-06-29  23.889999\n",
       "1 2010-06-30  23.830000\n",
       "2 2010-07-01  21.959999\n",
       "3 2010-07-02  19.200001\n",
       "4 2010-07-06  16.110001"
      ]
     },
     "execution_count": 9,
     "metadata": {},
     "output_type": "execute_result"
    }
   ],
   "source": [
    "tesla_df.head()"
   ]
  },
  {
   "cell_type": "code",
   "execution_count": 10,
   "id": "6ad03b80",
   "metadata": {
    "execution": {
     "iopub.execute_input": "2024-09-21T07:24:02.101555Z",
     "iopub.status.busy": "2024-09-21T07:24:02.101095Z",
     "iopub.status.idle": "2024-09-21T07:24:02.108747Z",
     "shell.execute_reply": "2024-09-21T07:24:02.107380Z"
    },
    "id": "Gsw5OQCAWLzn",
    "papermill": {
     "duration": 0.032528,
     "end_time": "2024-09-21T07:24:02.111563",
     "exception": false,
     "start_time": "2024-09-21T07:24:02.079035",
     "status": "completed"
    },
    "tags": []
   },
   "outputs": [
    {
     "name": "stdout",
     "output_type": "stream",
     "text": [
      "Min Date:  2010-06-29 00:00:00\n",
      "Max Date:  2020-02-03 00:00:00\n"
     ]
    }
   ],
   "source": [
    "print(\"Min Date: \", tesla_df[\"Date\"].min())\n",
    "print(\"Max Date: \", tesla_df[\"Date\"].max())"
   ]
  },
  {
   "cell_type": "code",
   "execution_count": 11,
   "id": "42633e64",
   "metadata": {
    "execution": {
     "iopub.execute_input": "2024-09-21T07:24:02.154367Z",
     "iopub.status.busy": "2024-09-21T07:24:02.153908Z",
     "iopub.status.idle": "2024-09-21T07:24:02.159543Z",
     "shell.execute_reply": "2024-09-21T07:24:02.158164Z"
    },
    "id": "JGi8P08mWQO1",
    "papermill": {
     "duration": 0.030482,
     "end_time": "2024-09-21T07:24:02.162198",
     "exception": false,
     "start_time": "2024-09-21T07:24:02.131716",
     "status": "completed"
    },
    "tags": []
   },
   "outputs": [],
   "source": [
    "tesla_df.index = tesla_df[\"Date\"]"
   ]
  },
  {
   "cell_type": "code",
   "execution_count": 12,
   "id": "68b5a7bd",
   "metadata": {
    "execution": {
     "iopub.execute_input": "2024-09-21T07:24:02.205004Z",
     "iopub.status.busy": "2024-09-21T07:24:02.204538Z",
     "iopub.status.idle": "2024-09-21T07:24:02.219630Z",
     "shell.execute_reply": "2024-09-21T07:24:02.218307Z"
    },
    "id": "YBWxX2IOWoL_",
    "papermill": {
     "duration": 0.039467,
     "end_time": "2024-09-21T07:24:02.222008",
     "exception": false,
     "start_time": "2024-09-21T07:24:02.182541",
     "status": "completed"
    },
    "tags": []
   },
   "outputs": [
    {
     "data": {
      "text/html": [
       "<div>\n",
       "<style scoped>\n",
       "    .dataframe tbody tr th:only-of-type {\n",
       "        vertical-align: middle;\n",
       "    }\n",
       "\n",
       "    .dataframe tbody tr th {\n",
       "        vertical-align: top;\n",
       "    }\n",
       "\n",
       "    .dataframe thead th {\n",
       "        text-align: right;\n",
       "    }\n",
       "</style>\n",
       "<table border=\"1\" class=\"dataframe\">\n",
       "  <thead>\n",
       "    <tr style=\"text-align: right;\">\n",
       "      <th></th>\n",
       "      <th>Date</th>\n",
       "      <th>Close</th>\n",
       "    </tr>\n",
       "    <tr>\n",
       "      <th>Date</th>\n",
       "      <th></th>\n",
       "      <th></th>\n",
       "    </tr>\n",
       "  </thead>\n",
       "  <tbody>\n",
       "    <tr>\n",
       "      <th>2010-06-29</th>\n",
       "      <td>2010-06-29</td>\n",
       "      <td>23.889999</td>\n",
       "    </tr>\n",
       "    <tr>\n",
       "      <th>2010-06-30</th>\n",
       "      <td>2010-06-30</td>\n",
       "      <td>23.830000</td>\n",
       "    </tr>\n",
       "    <tr>\n",
       "      <th>2010-07-01</th>\n",
       "      <td>2010-07-01</td>\n",
       "      <td>21.959999</td>\n",
       "    </tr>\n",
       "    <tr>\n",
       "      <th>2010-07-02</th>\n",
       "      <td>2010-07-02</td>\n",
       "      <td>19.200001</td>\n",
       "    </tr>\n",
       "    <tr>\n",
       "      <th>2010-07-06</th>\n",
       "      <td>2010-07-06</td>\n",
       "      <td>16.110001</td>\n",
       "    </tr>\n",
       "    <tr>\n",
       "      <th>...</th>\n",
       "      <td>...</td>\n",
       "      <td>...</td>\n",
       "    </tr>\n",
       "    <tr>\n",
       "      <th>2020-01-28</th>\n",
       "      <td>2020-01-28</td>\n",
       "      <td>566.900024</td>\n",
       "    </tr>\n",
       "    <tr>\n",
       "      <th>2020-01-29</th>\n",
       "      <td>2020-01-29</td>\n",
       "      <td>580.989990</td>\n",
       "    </tr>\n",
       "    <tr>\n",
       "      <th>2020-01-30</th>\n",
       "      <td>2020-01-30</td>\n",
       "      <td>640.809998</td>\n",
       "    </tr>\n",
       "    <tr>\n",
       "      <th>2020-01-31</th>\n",
       "      <td>2020-01-31</td>\n",
       "      <td>650.570007</td>\n",
       "    </tr>\n",
       "    <tr>\n",
       "      <th>2020-02-03</th>\n",
       "      <td>2020-02-03</td>\n",
       "      <td>780.000000</td>\n",
       "    </tr>\n",
       "  </tbody>\n",
       "</table>\n",
       "<p>2416 rows × 2 columns</p>\n",
       "</div>"
      ],
      "text/plain": [
       "                 Date       Close\n",
       "Date                             \n",
       "2010-06-29 2010-06-29   23.889999\n",
       "2010-06-30 2010-06-30   23.830000\n",
       "2010-07-01 2010-07-01   21.959999\n",
       "2010-07-02 2010-07-02   19.200001\n",
       "2010-07-06 2010-07-06   16.110001\n",
       "...               ...         ...\n",
       "2020-01-28 2020-01-28  566.900024\n",
       "2020-01-29 2020-01-29  580.989990\n",
       "2020-01-30 2020-01-30  640.809998\n",
       "2020-01-31 2020-01-31  650.570007\n",
       "2020-02-03 2020-02-03  780.000000\n",
       "\n",
       "[2416 rows x 2 columns]"
      ]
     },
     "execution_count": 12,
     "metadata": {},
     "output_type": "execute_result"
    }
   ],
   "source": [
    "tesla_df"
   ]
  },
  {
   "cell_type": "code",
   "execution_count": 13,
   "id": "818ee437",
   "metadata": {
    "execution": {
     "iopub.execute_input": "2024-09-21T07:24:02.265501Z",
     "iopub.status.busy": "2024-09-21T07:24:02.264938Z",
     "iopub.status.idle": "2024-09-21T07:24:02.271790Z",
     "shell.execute_reply": "2024-09-21T07:24:02.270424Z"
    },
    "id": "tgPM31WBWvcH",
    "papermill": {
     "duration": 0.03164,
     "end_time": "2024-09-21T07:24:02.274577",
     "exception": false,
     "start_time": "2024-09-21T07:24:02.242937",
     "status": "completed"
    },
    "tags": []
   },
   "outputs": [],
   "source": [
    "tesla_df.drop(\"Date\", axis=1, inplace=True)"
   ]
  },
  {
   "cell_type": "code",
   "execution_count": 14,
   "id": "28744960",
   "metadata": {
    "execution": {
     "iopub.execute_input": "2024-09-21T07:24:02.318385Z",
     "iopub.status.busy": "2024-09-21T07:24:02.317785Z",
     "iopub.status.idle": "2024-09-21T07:24:02.331080Z",
     "shell.execute_reply": "2024-09-21T07:24:02.329855Z"
    },
    "id": "17KdnKMGWwSm",
    "papermill": {
     "duration": 0.039042,
     "end_time": "2024-09-21T07:24:02.333783",
     "exception": false,
     "start_time": "2024-09-21T07:24:02.294741",
     "status": "completed"
    },
    "tags": []
   },
   "outputs": [
    {
     "data": {
      "text/html": [
       "<div>\n",
       "<style scoped>\n",
       "    .dataframe tbody tr th:only-of-type {\n",
       "        vertical-align: middle;\n",
       "    }\n",
       "\n",
       "    .dataframe tbody tr th {\n",
       "        vertical-align: top;\n",
       "    }\n",
       "\n",
       "    .dataframe thead th {\n",
       "        text-align: right;\n",
       "    }\n",
       "</style>\n",
       "<table border=\"1\" class=\"dataframe\">\n",
       "  <thead>\n",
       "    <tr style=\"text-align: right;\">\n",
       "      <th></th>\n",
       "      <th>Close</th>\n",
       "    </tr>\n",
       "    <tr>\n",
       "      <th>Date</th>\n",
       "      <th></th>\n",
       "    </tr>\n",
       "  </thead>\n",
       "  <tbody>\n",
       "    <tr>\n",
       "      <th>2010-06-29</th>\n",
       "      <td>23.889999</td>\n",
       "    </tr>\n",
       "    <tr>\n",
       "      <th>2010-06-30</th>\n",
       "      <td>23.830000</td>\n",
       "    </tr>\n",
       "    <tr>\n",
       "      <th>2010-07-01</th>\n",
       "      <td>21.959999</td>\n",
       "    </tr>\n",
       "    <tr>\n",
       "      <th>2010-07-02</th>\n",
       "      <td>19.200001</td>\n",
       "    </tr>\n",
       "    <tr>\n",
       "      <th>2010-07-06</th>\n",
       "      <td>16.110001</td>\n",
       "    </tr>\n",
       "    <tr>\n",
       "      <th>...</th>\n",
       "      <td>...</td>\n",
       "    </tr>\n",
       "    <tr>\n",
       "      <th>2020-01-28</th>\n",
       "      <td>566.900024</td>\n",
       "    </tr>\n",
       "    <tr>\n",
       "      <th>2020-01-29</th>\n",
       "      <td>580.989990</td>\n",
       "    </tr>\n",
       "    <tr>\n",
       "      <th>2020-01-30</th>\n",
       "      <td>640.809998</td>\n",
       "    </tr>\n",
       "    <tr>\n",
       "      <th>2020-01-31</th>\n",
       "      <td>650.570007</td>\n",
       "    </tr>\n",
       "    <tr>\n",
       "      <th>2020-02-03</th>\n",
       "      <td>780.000000</td>\n",
       "    </tr>\n",
       "  </tbody>\n",
       "</table>\n",
       "<p>2416 rows × 1 columns</p>\n",
       "</div>"
      ],
      "text/plain": [
       "                 Close\n",
       "Date                  \n",
       "2010-06-29   23.889999\n",
       "2010-06-30   23.830000\n",
       "2010-07-01   21.959999\n",
       "2010-07-02   19.200001\n",
       "2010-07-06   16.110001\n",
       "...                ...\n",
       "2020-01-28  566.900024\n",
       "2020-01-29  580.989990\n",
       "2020-01-30  640.809998\n",
       "2020-01-31  650.570007\n",
       "2020-02-03  780.000000\n",
       "\n",
       "[2416 rows x 1 columns]"
      ]
     },
     "execution_count": 14,
     "metadata": {},
     "output_type": "execute_result"
    }
   ],
   "source": [
    "tesla_df"
   ]
  },
  {
   "cell_type": "code",
   "execution_count": 15,
   "id": "4d7a48db",
   "metadata": {
    "execution": {
     "iopub.execute_input": "2024-09-21T07:24:02.378000Z",
     "iopub.status.busy": "2024-09-21T07:24:02.377512Z",
     "iopub.status.idle": "2024-09-21T07:24:02.383960Z",
     "shell.execute_reply": "2024-09-21T07:24:02.382517Z"
    },
    "id": "PliZ5OcsWxsF",
    "papermill": {
     "duration": 0.031852,
     "end_time": "2024-09-21T07:24:02.386745",
     "exception": false,
     "start_time": "2024-09-21T07:24:02.354893",
     "status": "completed"
    },
    "tags": []
   },
   "outputs": [],
   "source": [
    "result_df = tesla_df.copy()"
   ]
  },
  {
   "cell_type": "code",
   "execution_count": 16,
   "id": "cd8031ba",
   "metadata": {
    "execution": {
     "iopub.execute_input": "2024-09-21T07:24:02.432158Z",
     "iopub.status.busy": "2024-09-21T07:24:02.431674Z",
     "iopub.status.idle": "2024-09-21T07:24:02.952248Z",
     "shell.execute_reply": "2024-09-21T07:24:02.950734Z"
    },
    "id": "ObqHX6K2W0te",
    "papermill": {
     "duration": 0.545632,
     "end_time": "2024-09-21T07:24:02.954929",
     "exception": false,
     "start_time": "2024-09-21T07:24:02.409297",
     "status": "completed"
    },
    "tags": []
   },
   "outputs": [
    {
     "data": {
      "image/png": "[encoded data removed]",
      "text/plain": [
       "<Figure size 1400x500 with 1 Axes>"
      ]
     },
     "metadata": {},
     "output_type": "display_data"
    }
   ],
   "source": [
    "plt.figure(figsize=(14,5))\n",
    "plt.plot(tesla_df['Close'], color='blue')\n",
    "plt.title(\"Tesla Stock Price\")\n",
    "plt.xlabel(\"Time\")\n",
    "plt.ylabel(\"Stock Price\")\n",
    "plt.show()"
   ]
  },
  {
   "cell_type": "code",
   "execution_count": 17,
   "id": "e383eb96",
   "metadata": {
    "execution": {
     "iopub.execute_input": "2024-09-21T07:24:02.999681Z",
     "iopub.status.busy": "2024-09-21T07:24:02.999115Z",
     "iopub.status.idle": "2024-09-21T07:24:03.004934Z",
     "shell.execute_reply": "2024-09-21T07:24:03.003760Z"
    },
    "id": "5LWFDWjNW2z2",
    "papermill": {
     "duration": 0.031338,
     "end_time": "2024-09-21T07:24:03.007713",
     "exception": false,
     "start_time": "2024-09-21T07:24:02.976375",
     "status": "completed"
    },
    "tags": []
   },
   "outputs": [],
   "source": [
    "tesla_df = tesla_df.values"
   ]
  },
  {
   "cell_type": "code",
   "execution_count": 18,
   "id": "5d270635",
   "metadata": {
    "execution": {
     "iopub.execute_input": "2024-09-21T07:24:03.053861Z",
     "iopub.status.busy": "2024-09-21T07:24:03.053330Z",
     "iopub.status.idle": "2024-09-21T07:24:03.062289Z",
     "shell.execute_reply": "2024-09-21T07:24:03.060632Z"
    },
    "id": "jxFZkTS-W9Mm",
    "papermill": {
     "duration": 0.035263,
     "end_time": "2024-09-21T07:24:03.065377",
     "exception": false,
     "start_time": "2024-09-21T07:24:03.030114",
     "status": "completed"
    },
    "tags": []
   },
   "outputs": [
    {
     "data": {
      "text/plain": [
       "array([[23.889999],\n",
       "       [23.83    ],\n",
       "       [21.959999],\n",
       "       [19.200001],\n",
       "       [16.110001]])"
      ]
     },
     "execution_count": 18,
     "metadata": {},
     "output_type": "execute_result"
    }
   ],
   "source": [
    "tesla_df[0:5]"
   ]
  },
  {
   "cell_type": "code",
   "execution_count": 19,
   "id": "4261d30a",
   "metadata": {
    "execution": {
     "iopub.execute_input": "2024-09-21T07:24:03.111498Z",
     "iopub.status.busy": "2024-09-21T07:24:03.110938Z",
     "iopub.status.idle": "2024-09-21T07:24:03.116795Z",
     "shell.execute_reply": "2024-09-21T07:24:03.115387Z"
    },
    "id": "iU7KJlc4XAb2",
    "papermill": {
     "duration": 0.032639,
     "end_time": "2024-09-21T07:24:03.119601",
     "exception": false,
     "start_time": "2024-09-21T07:24:03.086962",
     "status": "completed"
    },
    "tags": []
   },
   "outputs": [],
   "source": [
    "tesla_df = tesla_df.astype(\"float32\")"
   ]
  },
  {
   "cell_type": "code",
   "execution_count": 20,
   "id": "e6c924d7",
   "metadata": {
    "execution": {
     "iopub.execute_input": "2024-09-21T07:24:03.165904Z",
     "iopub.status.busy": "2024-09-21T07:24:03.165471Z",
     "iopub.status.idle": "2024-09-21T07:24:03.172842Z",
     "shell.execute_reply": "2024-09-21T07:24:03.171280Z"
    },
    "id": "r7Cywk9oXBI-",
    "papermill": {
     "duration": 0.033949,
     "end_time": "2024-09-21T07:24:03.175770",
     "exception": false,
     "start_time": "2024-09-21T07:24:03.141821",
     "status": "completed"
    },
    "tags": []
   },
   "outputs": [],
   "source": [
    "def split_data(dataframe, test_size):\n",
    "  position = int(round(len(dataframe) * (1 - test_size)))\n",
    "  train = dataframe[:position]\n",
    "  test = dataframe[position:]\n",
    "  return train, test, position"
   ]
  },
  {
   "cell_type": "code",
   "execution_count": 21,
   "id": "97afe956",
   "metadata": {
    "execution": {
     "iopub.execute_input": "2024-09-21T07:24:03.227432Z",
     "iopub.status.busy": "2024-09-21T07:24:03.226223Z",
     "iopub.status.idle": "2024-09-21T07:24:03.232685Z",
     "shell.execute_reply": "2024-09-21T07:24:03.231145Z"
    },
    "id": "COxqfz0SZvV_",
    "papermill": {
     "duration": 0.036885,
     "end_time": "2024-09-21T07:24:03.235637",
     "exception": false,
     "start_time": "2024-09-21T07:24:03.198752",
     "status": "completed"
    },
    "tags": []
   },
   "outputs": [],
   "source": [
    "train, test, position = split_data(tesla_df, 0.20)"
   ]
  },
  {
   "cell_type": "code",
   "execution_count": 22,
   "id": "5d9090d2",
   "metadata": {
    "execution": {
     "iopub.execute_input": "2024-09-21T07:24:03.285112Z",
     "iopub.status.busy": "2024-09-21T07:24:03.284667Z",
     "iopub.status.idle": "2024-09-21T07:24:03.291146Z",
     "shell.execute_reply": "2024-09-21T07:24:03.289764Z"
    },
    "id": "jESwxnt2Z1t5",
    "papermill": {
     "duration": 0.0359,
     "end_time": "2024-09-21T07:24:03.295395",
     "exception": false,
     "start_time": "2024-09-21T07:24:03.259495",
     "status": "completed"
    },
    "tags": []
   },
   "outputs": [
    {
     "name": "stdout",
     "output_type": "stream",
     "text": [
      "(1933, 1) (483, 1)\n"
     ]
    }
   ],
   "source": [
    "print(train.shape, test.shape)"
   ]
  },
  {
   "cell_type": "code",
   "execution_count": 23,
   "id": "6b3ff367",
   "metadata": {
    "execution": {
     "iopub.execute_input": "2024-09-21T07:24:03.343954Z",
     "iopub.status.busy": "2024-09-21T07:24:03.343518Z",
     "iopub.status.idle": "2024-09-21T07:24:03.349440Z",
     "shell.execute_reply": "2024-09-21T07:24:03.348193Z"
    },
    "id": "wleQDdgSZ8NZ",
    "papermill": {
     "duration": 0.033067,
     "end_time": "2024-09-21T07:24:03.352198",
     "exception": false,
     "start_time": "2024-09-21T07:24:03.319131",
     "status": "completed"
    },
    "tags": []
   },
   "outputs": [],
   "source": [
    "scaler_train = MinMaxScaler(feature_range = (0,1))"
   ]
  },
  {
   "cell_type": "code",
   "execution_count": 24,
   "id": "2dc24d63",
   "metadata": {
    "execution": {
     "iopub.execute_input": "2024-09-21T07:24:03.399002Z",
     "iopub.status.busy": "2024-09-21T07:24:03.398551Z",
     "iopub.status.idle": "2024-09-21T07:24:03.405304Z",
     "shell.execute_reply": "2024-09-21T07:24:03.404011Z"
    },
    "id": "Enf8wikDaNZh",
    "papermill": {
     "duration": 0.034864,
     "end_time": "2024-09-21T07:24:03.408689",
     "exception": false,
     "start_time": "2024-09-21T07:24:03.373825",
     "status": "completed"
    },
    "tags": []
   },
   "outputs": [],
   "source": [
    "train = scaler_train.fit_transform(train)"
   ]
  },
  {
   "cell_type": "code",
   "execution_count": 25,
   "id": "6b58ef02",
   "metadata": {
    "execution": {
     "iopub.execute_input": "2024-09-21T07:24:03.455479Z",
     "iopub.status.busy": "2024-09-21T07:24:03.454979Z",
     "iopub.status.idle": "2024-09-21T07:24:03.460508Z",
     "shell.execute_reply": "2024-09-21T07:24:03.459146Z"
    },
    "id": "cg-7tCn_aXTc",
    "papermill": {
     "duration": 0.031752,
     "end_time": "2024-09-21T07:24:03.463385",
     "exception": false,
     "start_time": "2024-09-21T07:24:03.431633",
     "status": "completed"
    },
    "tags": []
   },
   "outputs": [],
   "source": [
    "scaler_test = MinMaxScaler(feature_range = (0,1))"
   ]
  },
  {
   "cell_type": "code",
   "execution_count": 26,
   "id": "df808087",
   "metadata": {
    "execution": {
     "iopub.execute_input": "2024-09-21T07:24:03.508973Z",
     "iopub.status.busy": "2024-09-21T07:24:03.508508Z",
     "iopub.status.idle": "2024-09-21T07:24:03.514764Z",
     "shell.execute_reply": "2024-09-21T07:24:03.513652Z"
    },
    "id": "tSbuIifiabbC",
    "papermill": {
     "duration": 0.031766,
     "end_time": "2024-09-21T07:24:03.517198",
     "exception": false,
     "start_time": "2024-09-21T07:24:03.485432",
     "status": "completed"
    },
    "tags": []
   },
   "outputs": [],
   "source": [
    "test = scaler_test.fit_transform(test)"
   ]
  },
  {
   "cell_type": "code",
   "execution_count": 27,
   "id": "0db57876",
   "metadata": {
    "execution": {
     "iopub.execute_input": "2024-09-21T07:24:03.562600Z",
     "iopub.status.busy": "2024-09-21T07:24:03.562031Z",
     "iopub.status.idle": "2024-09-21T07:24:03.570969Z",
     "shell.execute_reply": "2024-09-21T07:24:03.569540Z"
    },
    "id": "X5a7m_BEagaJ",
    "papermill": {
     "duration": 0.034828,
     "end_time": "2024-09-21T07:24:03.573718",
     "exception": false,
     "start_time": "2024-09-21T07:24:03.538890",
     "status": "completed"
    },
    "tags": []
   },
   "outputs": [
    {
     "data": {
      "text/plain": [
       "array([[0.02191224],\n",
       "       [0.02174973],\n",
       "       [0.01668472],\n",
       "       [0.0092091 ],\n",
       "       [0.00083966]], dtype=float32)"
      ]
     },
     "execution_count": 27,
     "metadata": {},
     "output_type": "execute_result"
    }
   ],
   "source": [
    "train[0:5]"
   ]
  },
  {
   "cell_type": "code",
   "execution_count": 28,
   "id": "a432cc15",
   "metadata": {
    "execution": {
     "iopub.execute_input": "2024-09-21T07:24:03.620516Z",
     "iopub.status.busy": "2024-09-21T07:24:03.619931Z",
     "iopub.status.idle": "2024-09-21T07:24:03.628360Z",
     "shell.execute_reply": "2024-09-21T07:24:03.627115Z"
    },
    "id": "AeVSy_ijahnh",
    "papermill": {
     "duration": 0.035527,
     "end_time": "2024-09-21T07:24:03.631184",
     "exception": false,
     "start_time": "2024-09-21T07:24:03.595657",
     "status": "completed"
    },
    "tags": []
   },
   "outputs": [
    {
     "data": {
      "text/plain": [
       "array([[0.25685903],\n",
       "       [0.24829045],\n",
       "       [0.25511202],\n",
       "       [0.24978784],\n",
       "       [0.2465767 ]], dtype=float32)"
      ]
     },
     "execution_count": 28,
     "metadata": {},
     "output_type": "execute_result"
    }
   ],
   "source": [
    "test[0:5]"
   ]
  },
  {
   "cell_type": "code",
   "execution_count": 29,
   "id": "f271326d",
   "metadata": {
    "execution": {
     "iopub.execute_input": "2024-09-21T07:24:03.678621Z",
     "iopub.status.busy": "2024-09-21T07:24:03.678099Z",
     "iopub.status.idle": "2024-09-21T07:24:03.685823Z",
     "shell.execute_reply": "2024-09-21T07:24:03.684566Z"
    },
    "id": "Gv95UqJWasHS",
    "papermill": {
     "duration": 0.034208,
     "end_time": "2024-09-21T07:24:03.688527",
     "exception": false,
     "start_time": "2024-09-21T07:24:03.654319",
     "status": "completed"
    },
    "tags": []
   },
   "outputs": [],
   "source": [
    "def create_features(data, lookback):\n",
    "  X, Y = [], []\n",
    "  for i in range(lookback, len(data)):\n",
    "    X.append(data[i-lookback:i,0])\n",
    "    Y.append(data[i,0])\n",
    "\n",
    "  return np.array(X), np.array(Y)"
   ]
  },
  {
   "cell_type": "code",
   "execution_count": 30,
   "id": "7882aa1f",
   "metadata": {
    "execution": {
     "iopub.execute_input": "2024-09-21T07:24:03.735425Z",
     "iopub.status.busy": "2024-09-21T07:24:03.734864Z",
     "iopub.status.idle": "2024-09-21T07:24:03.740302Z",
     "shell.execute_reply": "2024-09-21T07:24:03.739033Z"
    },
    "id": "e36Ux4_CbASm",
    "papermill": {
     "duration": 0.032426,
     "end_time": "2024-09-21T07:24:03.743225",
     "exception": false,
     "start_time": "2024-09-21T07:24:03.710799",
     "status": "completed"
    },
    "tags": []
   },
   "outputs": [],
   "source": [
    "lookback = 20"
   ]
  },
  {
   "cell_type": "code",
   "execution_count": 31,
   "id": "029f8863",
   "metadata": {
    "execution": {
     "iopub.execute_input": "2024-09-21T07:24:03.789147Z",
     "iopub.status.busy": "2024-09-21T07:24:03.788692Z",
     "iopub.status.idle": "2024-09-21T07:24:03.799044Z",
     "shell.execute_reply": "2024-09-21T07:24:03.797739Z"
    },
    "id": "Xd8JMdaWbCzp",
    "papermill": {
     "duration": 0.036669,
     "end_time": "2024-09-21T07:24:03.801849",
     "exception": false,
     "start_time": "2024-09-21T07:24:03.765180",
     "status": "completed"
    },
    "tags": []
   },
   "outputs": [],
   "source": [
    "X_train, y_train = create_features(train, lookback)"
   ]
  },
  {
   "cell_type": "code",
   "execution_count": 32,
   "id": "29a07f98",
   "metadata": {
    "execution": {
     "iopub.execute_input": "2024-09-21T07:24:03.908016Z",
     "iopub.status.busy": "2024-09-21T07:24:03.907585Z",
     "iopub.status.idle": "2024-09-21T07:24:03.915006Z",
     "shell.execute_reply": "2024-09-21T07:24:03.913619Z"
    },
    "id": "wHgq8DT5bF_Z",
    "papermill": {
     "duration": 0.093068,
     "end_time": "2024-09-21T07:24:03.917870",
     "exception": false,
     "start_time": "2024-09-21T07:24:03.824802",
     "status": "completed"
    },
    "tags": []
   },
   "outputs": [],
   "source": [
    "X_test, y_test = create_features(test, lookback)"
   ]
  },
  {
   "cell_type": "code",
   "execution_count": 33,
   "id": "84d7f01f",
   "metadata": {
    "execution": {
     "iopub.execute_input": "2024-09-21T07:24:03.965883Z",
     "iopub.status.busy": "2024-09-21T07:24:03.965434Z",
     "iopub.status.idle": "2024-09-21T07:24:03.971908Z",
     "shell.execute_reply": "2024-09-21T07:24:03.970609Z"
    },
    "id": "zYQy_33TbKdb",
    "papermill": {
     "duration": 0.033873,
     "end_time": "2024-09-21T07:24:03.975031",
     "exception": false,
     "start_time": "2024-09-21T07:24:03.941158",
     "status": "completed"
    },
    "tags": []
   },
   "outputs": [
    {
     "name": "stdout",
     "output_type": "stream",
     "text": [
      "(1913, 20) (1913,) (463, 20) (463,)\n"
     ]
    }
   ],
   "source": [
    "print(X_train.shape, y_train.shape, X_test.shape, y_test.shape)"
   ]
  },
  {
   "cell_type": "code",
   "execution_count": 34,
   "id": "cdbd935b",
   "metadata": {
    "execution": {
     "iopub.execute_input": "2024-09-21T07:24:04.021422Z",
     "iopub.status.busy": "2024-09-21T07:24:04.020951Z",
     "iopub.status.idle": "2024-09-21T07:24:04.030849Z",
     "shell.execute_reply": "2024-09-21T07:24:04.029429Z"
    },
    "id": "sI1k-K6bTKuw",
    "papermill": {
     "duration": 0.036803,
     "end_time": "2024-09-21T07:24:04.033915",
     "exception": false,
     "start_time": "2024-09-21T07:24:03.997112",
     "status": "completed"
    },
    "tags": []
   },
   "outputs": [
    {
     "data": {
      "text/plain": [
       "array([[0.02191224, 0.02174973, 0.01668472, 0.0092091 , 0.00083966,\n",
       "        0.        , 0.00449621, 0.00433369, 0.0033857 , 0.00633803,\n",
       "        0.01094258, 0.011078  , 0.01310942, 0.0165493 , 0.01218851,\n",
       "        0.01197183, 0.01408451, 0.01486999, 0.01394908, 0.01286566],\n",
       "       [0.02174973, 0.01668472, 0.0092091 , 0.00083966, 0.        ,\n",
       "        0.00449621, 0.00433369, 0.0033857 , 0.00633803, 0.01094258,\n",
       "        0.011078  , 0.01310942, 0.0165493 , 0.01218851, 0.01197183,\n",
       "        0.01408451, 0.01486999, 0.01394908, 0.01286566, 0.01332611],\n",
       "       [0.01668472, 0.0092091 , 0.00083966, 0.        , 0.00449621,\n",
       "        0.00433369, 0.0033857 , 0.00633803, 0.01094258, 0.011078  ,\n",
       "        0.01310942, 0.0165493 , 0.01218851, 0.01197183, 0.01408451,\n",
       "        0.01486999, 0.01394908, 0.01286566, 0.01332611, 0.01232395],\n",
       "       [0.0092091 , 0.00083966, 0.        , 0.00449621, 0.00433369,\n",
       "        0.0033857 , 0.00633803, 0.01094258, 0.011078  , 0.01310942,\n",
       "        0.0165493 , 0.01218851, 0.01197183, 0.01408451, 0.01486999,\n",
       "        0.01394908, 0.01286566, 0.01332611, 0.01232395, 0.01121344],\n",
       "       [0.00083966, 0.        , 0.00449621, 0.00433369, 0.0033857 ,\n",
       "        0.00633803, 0.01094258, 0.011078  , 0.01310942, 0.0165493 ,\n",
       "        0.01218851, 0.01197183, 0.01408451, 0.01486999, 0.01394908,\n",
       "        0.01286566, 0.01332611, 0.01232395, 0.01121344, 0.01386782]],\n",
       "      dtype=float32)"
      ]
     },
     "execution_count": 34,
     "metadata": {},
     "output_type": "execute_result"
    }
   ],
   "source": [
    "X_train[0:5]"
   ]
  },
  {
   "cell_type": "code",
   "execution_count": 35,
   "id": "c924945b",
   "metadata": {
    "execution": {
     "iopub.execute_input": "2024-09-21T07:24:04.082630Z",
     "iopub.status.busy": "2024-09-21T07:24:04.082098Z",
     "iopub.status.idle": "2024-09-21T07:24:04.090539Z",
     "shell.execute_reply": "2024-09-21T07:24:04.089329Z"
    },
    "id": "vY5hCVQHTg9u",
    "papermill": {
     "duration": 0.036166,
     "end_time": "2024-09-21T07:24:04.093187",
     "exception": false,
     "start_time": "2024-09-21T07:24:04.057021",
     "status": "completed"
    },
    "tags": []
   },
   "outputs": [
    {
     "data": {
      "text/plain": [
       "array([0.01332611, 0.01232395, 0.01121344, 0.01386782, 0.01665764],\n",
       "      dtype=float32)"
      ]
     },
     "execution_count": 35,
     "metadata": {},
     "output_type": "execute_result"
    }
   ],
   "source": [
    "y_train[0:5]"
   ]
  },
  {
   "cell_type": "code",
   "execution_count": 36,
   "id": "2b160a6c",
   "metadata": {
    "execution": {
     "iopub.execute_input": "2024-09-21T07:24:04.141016Z",
     "iopub.status.busy": "2024-09-21T07:24:04.140558Z",
     "iopub.status.idle": "2024-09-21T07:24:04.147664Z",
     "shell.execute_reply": "2024-09-21T07:24:04.146414Z"
    },
    "id": "yvf-4kLybad5",
    "papermill": {
     "duration": 0.034456,
     "end_time": "2024-09-21T07:24:04.150356",
     "exception": false,
     "start_time": "2024-09-21T07:24:04.115900",
     "status": "completed"
    },
    "tags": []
   },
   "outputs": [],
   "source": [
    "X_train = np.reshape(X_train, (X_train.shape[0], 1, X_train.shape[1]))\n",
    "X_test = np.reshape(X_test, (X_test.shape[0], 1, X_test.shape[1]))\n",
    "y_train = y_train.reshape(-1,1)\n",
    "y_test = y_test.reshape(-1,1)"
   ]
  },
  {
   "cell_type": "code",
   "execution_count": 37,
   "id": "24ca8ced",
   "metadata": {
    "execution": {
     "iopub.execute_input": "2024-09-21T07:24:04.197801Z",
     "iopub.status.busy": "2024-09-21T07:24:04.197308Z",
     "iopub.status.idle": "2024-09-21T07:24:04.203996Z",
     "shell.execute_reply": "2024-09-21T07:24:04.202679Z"
    },
    "id": "D2ltv0Edb3wz",
    "papermill": {
     "duration": 0.034122,
     "end_time": "2024-09-21T07:24:04.207211",
     "exception": false,
     "start_time": "2024-09-21T07:24:04.173089",
     "status": "completed"
    },
    "tags": []
   },
   "outputs": [
    {
     "name": "stdout",
     "output_type": "stream",
     "text": [
      "(1913, 1, 20) (1913, 1) (463, 1, 20) (463, 1)\n"
     ]
    }
   ],
   "source": [
    "print(X_train.shape, y_train.shape, X_test.shape, y_test.shape)"
   ]
  },
  {
   "cell_type": "markdown",
   "id": "61fe6a07",
   "metadata": {
    "id": "DtsN3xazcIAn",
    "papermill": {
     "duration": 0.022191,
     "end_time": "2024-09-21T07:24:04.252283",
     "exception": false,
     "start_time": "2024-09-21T07:24:04.230092",
     "status": "completed"
    },
    "tags": []
   },
   "source": [
    "## Modelling"
   ]
  },
  {
   "cell_type": "code",
   "execution_count": 38,
   "id": "31850983",
   "metadata": {
    "execution": {
     "iopub.execute_input": "2024-09-21T07:24:04.300242Z",
     "iopub.status.busy": "2024-09-21T07:24:04.299781Z",
     "iopub.status.idle": "2024-09-21T07:24:04.445935Z",
     "shell.execute_reply": "2024-09-21T07:24:04.444441Z"
    },
    "id": "QtbQx4G9cI_z",
    "papermill": {
     "duration": 0.173298,
     "end_time": "2024-09-21T07:24:04.448866",
     "exception": false,
     "start_time": "2024-09-21T07:24:04.275568",
     "status": "completed"
    },
    "tags": []
   },
   "outputs": [],
   "source": [
    "model = Sequential()\n",
    "\n",
    "model.add(LSTM(units = 50,\n",
    "                    activation = 'relu',\n",
    "                    input_shape=(X_train.shape[1], lookback)))\n",
    "\n",
    "model.add(Dropout(0.2))\n",
    "\n",
    "model.add(Dense(1))\n"
   ]
  },
  {
   "cell_type": "code",
   "execution_count": 39,
   "id": "e48373f2",
   "metadata": {
    "execution": {
     "iopub.execute_input": "2024-09-21T07:24:04.496539Z",
     "iopub.status.busy": "2024-09-21T07:24:04.496047Z",
     "iopub.status.idle": "2024-09-21T07:24:04.520168Z",
     "shell.execute_reply": "2024-09-21T07:24:04.518967Z"
    },
    "id": "RQFXIkDbciE6",
    "papermill": {
     "duration": 0.051166,
     "end_time": "2024-09-21T07:24:04.522877",
     "exception": false,
     "start_time": "2024-09-21T07:24:04.471711",
     "status": "completed"
    },
    "tags": []
   },
   "outputs": [
    {
     "data": {
      "text/html": [
       "<pre style=\"white-space:pre;overflow-x:auto;line-height:normal;font-family:Menlo,'DejaVu Sans Mono',consolas,'Courier New',monospace\"><span style=\"font-weight: bold\">Model: \"sequential\"</span>\n",
       "</pre>\n"
      ],
      "text/plain": [
       "\u001b[1mModel: \"sequential\"\u001b[0m\n"
      ]
     },
     "metadata": {},
     "output_type": "display_data"
    },
    {
     "data": {
      "text/html": [
       "<pre style=\"white-space:pre;overflow-x:auto;line-height:normal;font-family:Menlo,'DejaVu Sans Mono',consolas,'Courier New',monospace\">┏━━━━━━━━━━━━━━━━━━━━━━━━━━━━━━━━━┳━━━━━━━━━━━━━━━━━━━━━━━━┳━━━━━━━━━━━━━━━┓\n",
       "┃<span style=\"font-weight: bold\"> Layer (type)                    </span>┃<span style=\"font-weight: bold\"> Output Shape           </span>┃<span style=\"font-weight: bold\">       Param # </span>┃\n",
       "┡━━━━━━━━━━━━━━━━━━━━━━━━━━━━━━━━━╇━━━━━━━━━━━━━━━━━━━━━━━━╇━━━━━━━━━━━━━━━┩\n",
       "│ lstm (<span style=\"color: #0087ff; text-decoration-color: #0087ff\">LSTM</span>)                     │ (<span style=\"color: #00d7ff; text-decoration-color: #00d7ff\">None</span>, <span style=\"color: #00af00; text-decoration-color: #00af00\">50</span>)             │        <span style=\"color: #00af00; text-decoration-color: #00af00\">14,200</span> │\n",
       "├─────────────────────────────────┼────────────────────────┼───────────────┤\n",
       "│ dropout (<span style=\"color: #0087ff; text-decoration-color: #0087ff\">Dropout</span>)               │ (<span style=\"color: #00d7ff; text-decoration-color: #00d7ff\">None</span>, <span style=\"color: #00af00; text-decoration-color: #00af00\">50</span>)             │             <span style=\"color: #00af00; text-decoration-color: #00af00\">0</span> │\n",
       "├─────────────────────────────────┼────────────────────────┼───────────────┤\n",
       "│ dense (<span style=\"color: #0087ff; text-decoration-color: #0087ff\">Dense</span>)                   │ (<span style=\"color: #00d7ff; text-decoration-color: #00d7ff\">None</span>, <span style=\"color: #00af00; text-decoration-color: #00af00\">1</span>)              │            <span style=\"color: #00af00; text-decoration-color: #00af00\">51</span> │\n",
       "└─────────────────────────────────┴────────────────────────┴───────────────┘\n",
       "</pre>\n"
      ],
      "text/plain": [
       "┏━━━━━━━━━━━━━━━━━━━━━━━━━━━━━━━━━┳━━━━━━━━━━━━━━━━━━━━━━━━┳━━━━━━━━━━━━━━━┓\n",
       "┃\u001b[1m \u001b[0m\u001b[1mLayer (type)                   \u001b[0m\u001b[1m \u001b[0m┃\u001b[1m \u001b[0m\u001b[1mOutput Shape          \u001b[0m\u001b[1m \u001b[0m┃\u001b[1m \u001b[0m\u001b[1m      Param #\u001b[0m\u001b[1m \u001b[0m┃\n",
       "┡━━━━━━━━━━━━━━━━━━━━━━━━━━━━━━━━━╇━━━━━━━━━━━━━━━━━━━━━━━━╇━━━━━━━━━━━━━━━┩\n",
       "│ lstm (\u001b[38;5;33mLSTM\u001b[0m)                     │ (\u001b[38;5;45mNone\u001b[0m, \u001b[38;5;34m50\u001b[0m)             │        \u001b[38;5;34m14,200\u001b[0m │\n",
       "├─────────────────────────────────┼────────────────────────┼───────────────┤\n",
       "│ dropout (\u001b[38;5;33mDropout\u001b[0m)               │ (\u001b[38;5;45mNone\u001b[0m, \u001b[38;5;34m50\u001b[0m)             │             \u001b[38;5;34m0\u001b[0m │\n",
       "├─────────────────────────────────┼────────────────────────┼───────────────┤\n",
       "│ dense (\u001b[38;5;33mDense\u001b[0m)                   │ (\u001b[38;5;45mNone\u001b[0m, \u001b[38;5;34m1\u001b[0m)              │            \u001b[38;5;34m51\u001b[0m │\n",
       "└─────────────────────────────────┴────────────────────────┴───────────────┘\n"
      ]
     },
     "metadata": {},
     "output_type": "display_data"
    },
    {
     "data": {
      "text/html": [
       "<pre style=\"white-space:pre;overflow-x:auto;line-height:normal;font-family:Menlo,'DejaVu Sans Mono',consolas,'Courier New',monospace\"><span style=\"font-weight: bold\"> Total params: </span><span style=\"color: #00af00; text-decoration-color: #00af00\">14,251</span> (55.67 KB)\n",
       "</pre>\n"
      ],
      "text/plain": [
       "\u001b[1m Total params: \u001b[0m\u001b[38;5;34m14,251\u001b[0m (55.67 KB)\n"
      ]
     },
     "metadata": {},
     "output_type": "display_data"
    },
    {
     "data": {
      "text/html": [
       "<pre style=\"white-space:pre;overflow-x:auto;line-height:normal;font-family:Menlo,'DejaVu Sans Mono',consolas,'Courier New',monospace\"><span style=\"font-weight: bold\"> Trainable params: </span><span style=\"color: #00af00; text-decoration-color: #00af00\">14,251</span> (55.67 KB)\n",
       "</pre>\n"
      ],
      "text/plain": [
       "\u001b[1m Trainable params: \u001b[0m\u001b[38;5;34m14,251\u001b[0m (55.67 KB)\n"
      ]
     },
     "metadata": {},
     "output_type": "display_data"
    },
    {
     "data": {
      "text/html": [
       "<pre style=\"white-space:pre;overflow-x:auto;line-height:normal;font-family:Menlo,'DejaVu Sans Mono',consolas,'Courier New',monospace\"><span style=\"font-weight: bold\"> Non-trainable params: </span><span style=\"color: #00af00; text-decoration-color: #00af00\">0</span> (0.00 B)\n",
       "</pre>\n"
      ],
      "text/plain": [
       "\u001b[1m Non-trainable params: \u001b[0m\u001b[38;5;34m0\u001b[0m (0.00 B)\n"
      ]
     },
     "metadata": {},
     "output_type": "display_data"
    }
   ],
   "source": [
    "model.summary()"
   ]
  },
  {
   "cell_type": "code",
   "execution_count": 40,
   "id": "1f72b01e",
   "metadata": {
    "execution": {
     "iopub.execute_input": "2024-09-21T07:24:04.572293Z",
     "iopub.status.busy": "2024-09-21T07:24:04.571787Z",
     "iopub.status.idle": "2024-09-21T07:24:04.589852Z",
     "shell.execute_reply": "2024-09-21T07:24:04.588632Z"
    },
    "id": "NE6_O7IwclkT",
    "papermill": {
     "duration": 0.046042,
     "end_time": "2024-09-21T07:24:04.592829",
     "exception": false,
     "start_time": "2024-09-21T07:24:04.546787",
     "status": "completed"
    },
    "tags": []
   },
   "outputs": [],
   "source": [
    "model.compile(loss='mean_squared_error', optimizer='adam')"
   ]
  },
  {
   "cell_type": "code",
   "execution_count": 41,
   "id": "01ad6801",
   "metadata": {
    "execution": {
     "iopub.execute_input": "2024-09-21T07:24:04.643391Z",
     "iopub.status.busy": "2024-09-21T07:24:04.642921Z",
     "iopub.status.idle": "2024-09-21T07:24:04.649381Z",
     "shell.execute_reply": "2024-09-21T07:24:04.648140Z"
    },
    "id": "JLqjYZudc3Is",
    "papermill": {
     "duration": 0.035324,
     "end_time": "2024-09-21T07:24:04.652009",
     "exception": false,
     "start_time": "2024-09-21T07:24:04.616685",
     "status": "completed"
    },
    "tags": []
   },
   "outputs": [],
   "source": [
    "callbacks = (EarlyStopping(monitor='val_loss', patience=10, verbose=1, mode='min'),\n",
    "            ModelCheckpoint(filepath='mymodel.keras', monitor='val_loss', mode='min',\n",
    "            save_best_only = True, save_weights_only = False, verbose = 1))"
   ]
  },
  {
   "cell_type": "code",
   "execution_count": 42,
   "id": "b8ceb382",
   "metadata": {
    "execution": {
     "iopub.execute_input": "2024-09-21T07:24:04.701151Z",
     "iopub.status.busy": "2024-09-21T07:24:04.700695Z",
     "iopub.status.idle": "2024-09-21T07:24:14.573229Z",
     "shell.execute_reply": "2024-09-21T07:24:14.571873Z"
    },
    "id": "7Pv-Fb9FdSf7",
    "papermill": {
     "duration": 9.900904,
     "end_time": "2024-09-21T07:24:14.576355",
     "exception": false,
     "start_time": "2024-09-21T07:24:04.675451",
     "status": "completed"
    },
    "tags": []
   },
   "outputs": [
    {
     "name": "stdout",
     "output_type": "stream",
     "text": [
      "Epoch 1/100\n",
      "\u001b[1m87/96\u001b[0m \u001b[32m━━━━━━━━━━━━━━━━━━\u001b[0m\u001b[37m━━\u001b[0m \u001b[1m0s\u001b[0m 2ms/step - loss: 0.0038\n",
      "Epoch 1: val_loss improved from inf to 0.00399, saving model to mymodel.keras\n",
      "\u001b[1m96/96\u001b[0m \u001b[32m━━━━━━━━━━━━━━━━━━━━\u001b[0m\u001b[37m\u001b[0m \u001b[1m3s\u001b[0m 6ms/step - loss: 0.0042 - val_loss: 0.0040\n",
      "Epoch 2/100\n",
      "\u001b[1m91/96\u001b[0m \u001b[32m━━━━━━━━━━━━━━━━━━\u001b[0m\u001b[37m━━\u001b[0m \u001b[1m0s\u001b[0m 2ms/step - loss: 0.0048\n",
      "Epoch 2: val_loss improved from 0.00399 to 0.00331, saving model to mymodel.keras\n",
      "\u001b[1m96/96\u001b[0m \u001b[32m━━━━━━━━━━━━━━━━━━━━\u001b[0m\u001b[37m\u001b[0m \u001b[1m0s\u001b[0m 3ms/step - loss: 0.0049 - val_loss: 0.0033\n",
      "Epoch 3/100\n",
      "\u001b[1m89/96\u001b[0m \u001b[32m━━━━━━━━━━━━━━━━━━\u001b[0m\u001b[37m━━\u001b[0m \u001b[1m0s\u001b[0m 2ms/step - loss: 0.0030\n",
      "Epoch 3: val_loss improved from 0.00331 to 0.00295, saving model to mymodel.keras\n",
      "\u001b[1m96/96\u001b[0m \u001b[32m━━━━━━━━━━━━━━━━━━━━\u001b[0m\u001b[37m\u001b[0m \u001b[1m0s\u001b[0m 3ms/step - loss: 0.0032 - val_loss: 0.0029\n",
      "Epoch 4/100\n",
      "\u001b[1m91/96\u001b[0m \u001b[32m━━━━━━━━━━━━━━━━━━\u001b[0m\u001b[37m━━\u001b[0m \u001b[1m0s\u001b[0m 2ms/step - loss: 0.0023\n",
      "Epoch 4: val_loss did not improve from 0.00295\n",
      "\u001b[1m96/96\u001b[0m \u001b[32m━━━━━━━━━━━━━━━━━━━━\u001b[0m\u001b[37m\u001b[0m \u001b[1m0s\u001b[0m 3ms/step - loss: 0.0025 - val_loss: 0.0031\n",
      "Epoch 5/100\n",
      "\u001b[1m78/96\u001b[0m \u001b[32m━━━━━━━━━━━━━━━━\u001b[0m\u001b[37m━━━━\u001b[0m \u001b[1m0s\u001b[0m 3ms/step - loss: 0.0013    \n",
      "Epoch 5: val_loss did not improve from 0.00295\n",
      "\u001b[1m96/96\u001b[0m \u001b[32m━━━━━━━━━━━━━━━━━━━━\u001b[0m\u001b[37m\u001b[0m \u001b[1m0s\u001b[0m 3ms/step - loss: 0.0018 - val_loss: 0.0033\n",
      "Epoch 6/100\n",
      "\u001b[1m90/96\u001b[0m \u001b[32m━━━━━━━━━━━━━━━━━━\u001b[0m\u001b[37m━━\u001b[0m \u001b[1m0s\u001b[0m 2ms/step - loss: 0.0018\n",
      "Epoch 6: val_loss improved from 0.00295 to 0.00258, saving model to mymodel.keras\n",
      "\u001b[1m96/96\u001b[0m \u001b[32m━━━━━━━━━━━━━━━━━━━━\u001b[0m\u001b[37m\u001b[0m \u001b[1m0s\u001b[0m 3ms/step - loss: 0.0019 - val_loss: 0.0026\n",
      "Epoch 7/100\n",
      "\u001b[1m84/96\u001b[0m \u001b[32m━━━━━━━━━━━━━━━━━\u001b[0m\u001b[37m━━━\u001b[0m \u001b[1m0s\u001b[0m 2ms/step - loss: 0.0018\n",
      "Epoch 7: val_loss did not improve from 0.00258\n",
      "\u001b[1m96/96\u001b[0m \u001b[32m━━━━━━━━━━━━━━━━━━━━\u001b[0m\u001b[37m\u001b[0m \u001b[1m0s\u001b[0m 3ms/step - loss: 0.0022 - val_loss: 0.0026\n",
      "Epoch 8/100\n",
      "\u001b[1m85/96\u001b[0m \u001b[32m━━━━━━━━━━━━━━━━━\u001b[0m\u001b[37m━━━\u001b[0m \u001b[1m0s\u001b[0m 2ms/step - loss: 0.0018\n",
      "Epoch 8: val_loss improved from 0.00258 to 0.00248, saving model to mymodel.keras\n",
      "\u001b[1m96/96\u001b[0m \u001b[32m━━━━━━━━━━━━━━━━━━━━\u001b[0m\u001b[37m\u001b[0m \u001b[1m0s\u001b[0m 3ms/step - loss: 0.0020 - val_loss: 0.0025\n",
      "Epoch 9/100\n",
      "\u001b[1m95/96\u001b[0m \u001b[32m━━━━━━━━━━━━━━━━━━━\u001b[0m\u001b[37m━\u001b[0m \u001b[1m0s\u001b[0m 2ms/step - loss: 0.0020\n",
      "Epoch 9: val_loss did not improve from 0.00248\n",
      "\u001b[1m96/96\u001b[0m \u001b[32m━━━━━━━━━━━━━━━━━━━━\u001b[0m\u001b[37m\u001b[0m \u001b[1m0s\u001b[0m 3ms/step - loss: 0.0020 - val_loss: 0.0026\n",
      "Epoch 10/100\n",
      "\u001b[1m87/96\u001b[0m \u001b[32m━━━━━━━━━━━━━━━━━━\u001b[0m\u001b[37m━━\u001b[0m \u001b[1m0s\u001b[0m 2ms/step - loss: 0.0018\n",
      "Epoch 10: val_loss did not improve from 0.00248\n",
      "\u001b[1m96/96\u001b[0m \u001b[32m━━━━━━━━━━━━━━━━━━━━\u001b[0m\u001b[37m\u001b[0m \u001b[1m0s\u001b[0m 3ms/step - loss: 0.0020 - val_loss: 0.0027\n",
      "Epoch 11/100\n",
      "\u001b[1m88/96\u001b[0m \u001b[32m━━━━━━━━━━━━━━━━━━\u001b[0m\u001b[37m━━\u001b[0m \u001b[1m0s\u001b[0m 2ms/step - loss: 0.0019\n",
      "Epoch 11: val_loss did not improve from 0.00248\n",
      "\u001b[1m96/96\u001b[0m \u001b[32m━━━━━━━━━━━━━━━━━━━━\u001b[0m\u001b[37m\u001b[0m \u001b[1m0s\u001b[0m 3ms/step - loss: 0.0021 - val_loss: 0.0025\n",
      "Epoch 12/100\n",
      "\u001b[1m72/96\u001b[0m \u001b[32m━━━━━━━━━━━━━━━\u001b[0m\u001b[37m━━━━━\u001b[0m \u001b[1m0s\u001b[0m 2ms/step - loss: 0.0014\n",
      "Epoch 12: val_loss improved from 0.00248 to 0.00231, saving model to mymodel.keras\n",
      "\u001b[1m96/96\u001b[0m \u001b[32m━━━━━━━━━━━━━━━━━━━━\u001b[0m\u001b[37m\u001b[0m \u001b[1m0s\u001b[0m 3ms/step - loss: 0.0019 - val_loss: 0.0023\n",
      "Epoch 13/100\n",
      "\u001b[1m89/96\u001b[0m \u001b[32m━━━━━━━━━━━━━━━━━━\u001b[0m\u001b[37m━━\u001b[0m \u001b[1m0s\u001b[0m 2ms/step - loss: 0.0017\n",
      "Epoch 13: val_loss did not improve from 0.00231\n",
      "\u001b[1m96/96\u001b[0m \u001b[32m━━━━━━━━━━━━━━━━━━━━\u001b[0m\u001b[37m\u001b[0m \u001b[1m0s\u001b[0m 3ms/step - loss: 0.0018 - val_loss: 0.0024\n",
      "Epoch 14/100\n",
      "\u001b[1m84/96\u001b[0m \u001b[32m━━━━━━━━━━━━━━━━━\u001b[0m\u001b[37m━━━\u001b[0m \u001b[1m0s\u001b[0m 2ms/step - loss: 0.0016\n",
      "Epoch 14: val_loss did not improve from 0.00231\n",
      "\u001b[1m96/96\u001b[0m \u001b[32m━━━━━━━━━━━━━━━━━━━━\u001b[0m\u001b[37m\u001b[0m \u001b[1m0s\u001b[0m 3ms/step - loss: 0.0019 - val_loss: 0.0030\n",
      "Epoch 15/100\n",
      "\u001b[1m80/96\u001b[0m \u001b[32m━━━━━━━━━━━━━━━━\u001b[0m\u001b[37m━━━━\u001b[0m \u001b[1m0s\u001b[0m 3ms/step - loss: 0.0017\n",
      "Epoch 15: val_loss did not improve from 0.00231\n",
      "\u001b[1m96/96\u001b[0m \u001b[32m━━━━━━━━━━━━━━━━━━━━\u001b[0m\u001b[37m\u001b[0m \u001b[1m0s\u001b[0m 3ms/step - loss: 0.0021 - val_loss: 0.0055\n",
      "Epoch 16/100\n",
      "\u001b[1m82/96\u001b[0m \u001b[32m━━━━━━━━━━━━━━━━━\u001b[0m\u001b[37m━━━\u001b[0m \u001b[1m0s\u001b[0m 3ms/step - loss: 0.0022\n",
      "Epoch 16: val_loss did not improve from 0.00231\n",
      "\u001b[1m96/96\u001b[0m \u001b[32m━━━━━━━━━━━━━━━━━━━━\u001b[0m\u001b[37m\u001b[0m \u001b[1m0s\u001b[0m 3ms/step - loss: 0.0025 - val_loss: 0.0063\n",
      "Epoch 17/100\n",
      "\u001b[1m90/96\u001b[0m \u001b[32m━━━━━━━━━━━━━━━━━━\u001b[0m\u001b[37m━━\u001b[0m \u001b[1m0s\u001b[0m 2ms/step - loss: 0.0022\n",
      "Epoch 17: val_loss did not improve from 0.00231\n",
      "\u001b[1m96/96\u001b[0m \u001b[32m━━━━━━━━━━━━━━━━━━━━\u001b[0m\u001b[37m\u001b[0m \u001b[1m0s\u001b[0m 3ms/step - loss: 0.0024 - val_loss: 0.0045\n",
      "Epoch 18/100\n",
      "\u001b[1m85/96\u001b[0m \u001b[32m━━━━━━━━━━━━━━━━━\u001b[0m\u001b[37m━━━\u001b[0m \u001b[1m0s\u001b[0m 2ms/step - loss: 0.0020\n",
      "Epoch 18: val_loss did not improve from 0.00231\n",
      "\u001b[1m96/96\u001b[0m \u001b[32m━━━━━━━━━━━━━━━━━━━━\u001b[0m\u001b[37m\u001b[0m \u001b[1m0s\u001b[0m 3ms/step - loss: 0.0024 - val_loss: 0.0092\n",
      "Epoch 19/100\n",
      "\u001b[1m85/96\u001b[0m \u001b[32m━━━━━━━━━━━━━━━━━\u001b[0m\u001b[37m━━━\u001b[0m \u001b[1m0s\u001b[0m 2ms/step - loss: 0.0021\n",
      "Epoch 19: val_loss did not improve from 0.00231\n",
      "\u001b[1m96/96\u001b[0m \u001b[32m━━━━━━━━━━━━━━━━━━━━\u001b[0m\u001b[37m\u001b[0m \u001b[1m0s\u001b[0m 3ms/step - loss: 0.0023 - val_loss: 0.0049\n",
      "Epoch 20/100\n",
      "\u001b[1m81/96\u001b[0m \u001b[32m━━━━━━━━━━━━━━━━\u001b[0m\u001b[37m━━━━\u001b[0m \u001b[1m0s\u001b[0m 3ms/step - loss: 0.0015\n",
      "Epoch 20: val_loss did not improve from 0.00231\n",
      "\u001b[1m96/96\u001b[0m \u001b[32m━━━━━━━━━━━━━━━━━━━━\u001b[0m\u001b[37m\u001b[0m \u001b[1m0s\u001b[0m 3ms/step - loss: 0.0018 - val_loss: 0.0047\n",
      "Epoch 21/100\n",
      "\u001b[1m91/96\u001b[0m \u001b[32m━━━━━━━━━━━━━━━━━━\u001b[0m\u001b[37m━━\u001b[0m \u001b[1m0s\u001b[0m 3ms/step - loss: 0.0017\n",
      "Epoch 21: val_loss did not improve from 0.00231\n",
      "\u001b[1m96/96\u001b[0m \u001b[32m━━━━━━━━━━━━━━━━━━━━\u001b[0m\u001b[37m\u001b[0m \u001b[1m0s\u001b[0m 4ms/step - loss: 0.0019 - val_loss: 0.0045\n",
      "Epoch 22/100\n",
      "\u001b[1m79/96\u001b[0m \u001b[32m━━━━━━━━━━━━━━━━\u001b[0m\u001b[37m━━━━\u001b[0m \u001b[1m0s\u001b[0m 3ms/step - loss: 0.0013    \n",
      "Epoch 22: val_loss did not improve from 0.00231\n",
      "\u001b[1m96/96\u001b[0m \u001b[32m━━━━━━━━━━━━━━━━━━━━\u001b[0m\u001b[37m\u001b[0m \u001b[1m1s\u001b[0m 3ms/step - loss: 0.0018 - val_loss: 0.0063\n",
      "Epoch 22: early stopping\n"
     ]
    }
   ],
   "source": [
    "history = model.fit(x=X_train,\n",
    "                    y=y_train,\n",
    "                    epochs=100,\n",
    "                    batch_size=20,\n",
    "                    validation_data=(X_test, y_test),\n",
    "                    callbacks=[callbacks],\n",
    "                    shuffle=False)"
   ]
  },
  {
   "cell_type": "code",
   "execution_count": 43,
   "id": "2ccab457",
   "metadata": {
    "execution": {
     "iopub.execute_input": "2024-09-21T07:24:14.662491Z",
     "iopub.status.busy": "2024-09-21T07:24:14.661899Z",
     "iopub.status.idle": "2024-09-21T07:24:14.987947Z",
     "shell.execute_reply": "2024-09-21T07:24:14.986686Z"
    },
    "id": "VzxR8n1yeGpV",
    "papermill": {
     "duration": 0.373009,
     "end_time": "2024-09-21T07:24:14.991896",
     "exception": false,
     "start_time": "2024-09-21T07:24:14.618887",
     "status": "completed"
    },
    "tags": []
   },
   "outputs": [
    {
     "data": {
      "image/png": "[encoded data removed]",
      "text/plain": [
       "<Figure size 2000x500 with 1 Axes>"
      ]
     },
     "metadata": {},
     "output_type": "display_data"
    }
   ],
   "source": [
    "plt.figure(figsize=(20,5))\n",
    "plt.subplot(1,2,1)\n",
    "plt.plot(history.history['loss'], label='Training Loss')\n",
    "plt.plot(history.history['val_loss'], label='Validation Loss')\n",
    "plt.legend(loc='upper right')\n",
    "plt.xlabel('Epoch', fontsize = 16)\n",
    "plt.ylabel('Loss', fontsize = 16)\n",
    "plt.ylim([0,max(plt.ylim())])\n",
    "plt.title('Training and Validation Loss', fontsize = 16)\n",
    "plt.show()"
   ]
  },
  {
   "cell_type": "markdown",
   "id": "16ef7925",
   "metadata": {
    "id": "XO0NGWQWerLU",
    "papermill": {
     "duration": 0.04226,
     "end_time": "2024-09-21T07:24:15.081393",
     "exception": false,
     "start_time": "2024-09-21T07:24:15.039133",
     "status": "completed"
    },
    "tags": []
   },
   "source": [
    "## Evaluation"
   ]
  },
  {
   "cell_type": "code",
   "execution_count": 44,
   "id": "929289ea",
   "metadata": {
    "execution": {
     "iopub.execute_input": "2024-09-21T07:24:15.166940Z",
     "iopub.status.busy": "2024-09-21T07:24:15.166455Z",
     "iopub.status.idle": "2024-09-21T07:24:15.866742Z",
     "shell.execute_reply": "2024-09-21T07:24:15.865198Z"
    },
    "id": "hyeoNUjxetH-",
    "papermill": {
     "duration": 0.747062,
     "end_time": "2024-09-21T07:24:15.869668",
     "exception": false,
     "start_time": "2024-09-21T07:24:15.122606",
     "status": "completed"
    },
    "tags": []
   },
   "outputs": [
    {
     "name": "stdout",
     "output_type": "stream",
     "text": [
      "\u001b[1m463/463\u001b[0m \u001b[32m━━━━━━━━━━━━━━━━━━━━\u001b[0m\u001b[37m\u001b[0m \u001b[1m1s\u001b[0m 1ms/step - loss: 0.0074\n",
      "\n",
      "Test Loss: 0.6%\n"
     ]
    }
   ],
   "source": [
    "loss = model.evaluate(X_test, y_test, batch_size=1)\n",
    "print(\"\\nTest Loss: %.1f%%\" % (100.0 * loss))"
   ]
  },
  {
   "cell_type": "code",
   "execution_count": 45,
   "id": "7c322f4b",
   "metadata": {
    "execution": {
     "iopub.execute_input": "2024-09-21T07:24:15.958049Z",
     "iopub.status.busy": "2024-09-21T07:24:15.957148Z",
     "iopub.status.idle": "2024-09-21T07:24:16.487856Z",
     "shell.execute_reply": "2024-09-21T07:24:16.486449Z"
    },
    "id": "9e854j_NfFTV",
    "papermill": {
     "duration": 0.578524,
     "end_time": "2024-09-21T07:24:16.490803",
     "exception": false,
     "start_time": "2024-09-21T07:24:15.912279",
     "status": "completed"
    },
    "tags": []
   },
   "outputs": [
    {
     "name": "stdout",
     "output_type": "stream",
     "text": [
      "\u001b[1m60/60\u001b[0m \u001b[32m━━━━━━━━━━━━━━━━━━━━\u001b[0m\u001b[37m\u001b[0m \u001b[1m0s\u001b[0m 4ms/step\n"
     ]
    }
   ],
   "source": [
    "train_predict = model.predict(X_train)"
   ]
  },
  {
   "cell_type": "code",
   "execution_count": 46,
   "id": "8343064c",
   "metadata": {
    "execution": {
     "iopub.execute_input": "2024-09-21T07:24:16.579400Z",
     "iopub.status.busy": "2024-09-21T07:24:16.578098Z",
     "iopub.status.idle": "2024-09-21T07:24:16.697651Z",
     "shell.execute_reply": "2024-09-21T07:24:16.696445Z"
    },
    "id": "GZgJuMd-fqZW",
    "papermill": {
     "duration": 0.167594,
     "end_time": "2024-09-21T07:24:16.701021",
     "exception": false,
     "start_time": "2024-09-21T07:24:16.533427",
     "status": "completed"
    },
    "tags": []
   },
   "outputs": [
    {
     "name": "stdout",
     "output_type": "stream",
     "text": [
      "\u001b[1m15/15\u001b[0m \u001b[32m━━━━━━━━━━━━━━━━━━━━\u001b[0m\u001b[37m\u001b[0m \u001b[1m0s\u001b[0m 2ms/step \n"
     ]
    }
   ],
   "source": [
    "test_predict = model.predict(X_test)"
   ]
  },
  {
   "cell_type": "code",
   "execution_count": 47,
   "id": "67e0368c",
   "metadata": {
    "execution": {
     "iopub.execute_input": "2024-09-21T07:24:16.789209Z",
     "iopub.status.busy": "2024-09-21T07:24:16.788750Z",
     "iopub.status.idle": "2024-09-21T07:24:16.795531Z",
     "shell.execute_reply": "2024-09-21T07:24:16.794159Z"
    },
    "id": "FcH_8U3tfsGm",
    "papermill": {
     "duration": 0.054078,
     "end_time": "2024-09-21T07:24:16.798226",
     "exception": false,
     "start_time": "2024-09-21T07:24:16.744148",
     "status": "completed"
    },
    "tags": []
   },
   "outputs": [],
   "source": [
    "train_predict = scaler_train.inverse_transform(train_predict)\n",
    "test_predict = scaler_test.inverse_transform(test_predict)"
   ]
  },
  {
   "cell_type": "code",
   "execution_count": 48,
   "id": "d29aeb30",
   "metadata": {
    "execution": {
     "iopub.execute_input": "2024-09-21T07:24:16.886432Z",
     "iopub.status.busy": "2024-09-21T07:24:16.885893Z",
     "iopub.status.idle": "2024-09-21T07:24:16.892715Z",
     "shell.execute_reply": "2024-09-21T07:24:16.891496Z"
    },
    "id": "DsGDu-NKf912",
    "papermill": {
     "duration": 0.053643,
     "end_time": "2024-09-21T07:24:16.895326",
     "exception": false,
     "start_time": "2024-09-21T07:24:16.841683",
     "status": "completed"
    },
    "tags": []
   },
   "outputs": [],
   "source": [
    "y_train = scaler_train.inverse_transform(y_train)\n",
    "y_test = scaler_test.inverse_transform(y_test)"
   ]
  },
  {
   "cell_type": "code",
   "execution_count": 49,
   "id": "7a1d559f",
   "metadata": {
    "execution": {
     "iopub.execute_input": "2024-09-21T07:24:16.983518Z",
     "iopub.status.busy": "2024-09-21T07:24:16.983030Z",
     "iopub.status.idle": "2024-09-21T07:24:16.989697Z",
     "shell.execute_reply": "2024-09-21T07:24:16.988571Z"
    },
    "id": "ZLXqwAU7gGW2",
    "papermill": {
     "duration": 0.053537,
     "end_time": "2024-09-21T07:24:16.992086",
     "exception": false,
     "start_time": "2024-09-21T07:24:16.938549",
     "status": "completed"
    },
    "tags": []
   },
   "outputs": [],
   "source": [
    "train_rmse = np.sqrt(mean_squared_error(y_train, train_predict))"
   ]
  },
  {
   "cell_type": "code",
   "execution_count": 50,
   "id": "651739f1",
   "metadata": {
    "execution": {
     "iopub.execute_input": "2024-09-21T07:24:17.082180Z",
     "iopub.status.busy": "2024-09-21T07:24:17.081734Z",
     "iopub.status.idle": "2024-09-21T07:24:17.088674Z",
     "shell.execute_reply": "2024-09-21T07:24:17.087240Z"
    },
    "id": "76WbnJaIgJ4g",
    "papermill": {
     "duration": 0.054975,
     "end_time": "2024-09-21T07:24:17.091262",
     "exception": false,
     "start_time": "2024-09-21T07:24:17.036287",
     "status": "completed"
    },
    "tags": []
   },
   "outputs": [],
   "source": [
    "test_rmse = np.sqrt(mean_squared_error(y_test, test_predict))"
   ]
  },
  {
   "cell_type": "code",
   "execution_count": 51,
   "id": "0501ab1c",
   "metadata": {
    "execution": {
     "iopub.execute_input": "2024-09-21T07:24:17.179478Z",
     "iopub.status.busy": "2024-09-21T07:24:17.178944Z",
     "iopub.status.idle": "2024-09-21T07:24:17.185686Z",
     "shell.execute_reply": "2024-09-21T07:24:17.184316Z"
    },
    "id": "WcUBQBz7gMV2",
    "papermill": {
     "duration": 0.053878,
     "end_time": "2024-09-21T07:24:17.188464",
     "exception": false,
     "start_time": "2024-09-21T07:24:17.134586",
     "status": "completed"
    },
    "tags": []
   },
   "outputs": [
    {
     "name": "stdout",
     "output_type": "stream",
     "text": [
      "Train RMSE: 27.5497989654541\n",
      "Test RMSE: 47.699913024902344\n"
     ]
    }
   ],
   "source": [
    "print(f\"Train RMSE: {train_rmse}\")\n",
    "print(f\"Test RMSE: {test_rmse}\")"
   ]
  },
  {
   "cell_type": "code",
   "execution_count": 52,
   "id": "b3e5022e",
   "metadata": {
    "execution": {
     "iopub.execute_input": "2024-09-21T07:24:17.277215Z",
     "iopub.status.busy": "2024-09-21T07:24:17.276159Z",
     "iopub.status.idle": "2024-09-21T07:24:17.314037Z",
     "shell.execute_reply": "2024-09-21T07:24:17.312830Z"
    },
    "id": "t_llof9mgYz_",
    "papermill": {
     "duration": 0.084674,
     "end_time": "2024-09-21T07:24:17.316705",
     "exception": false,
     "start_time": "2024-09-21T07:24:17.232031",
     "status": "completed"
    },
    "tags": []
   },
   "outputs": [
    {
     "data": {
      "text/html": [
       "<div>\n",
       "<style scoped>\n",
       "    .dataframe tbody tr th:only-of-type {\n",
       "        vertical-align: middle;\n",
       "    }\n",
       "\n",
       "    .dataframe tbody tr th {\n",
       "        vertical-align: top;\n",
       "    }\n",
       "\n",
       "    .dataframe thead th {\n",
       "        text-align: right;\n",
       "    }\n",
       "</style>\n",
       "<table border=\"1\" class=\"dataframe\">\n",
       "  <thead>\n",
       "    <tr style=\"text-align: right;\">\n",
       "      <th></th>\n",
       "      <th>count</th>\n",
       "      <th>mean</th>\n",
       "      <th>min</th>\n",
       "      <th>25%</th>\n",
       "      <th>50%</th>\n",
       "      <th>75%</th>\n",
       "      <th>max</th>\n",
       "      <th>std</th>\n",
       "    </tr>\n",
       "  </thead>\n",
       "  <tbody>\n",
       "    <tr>\n",
       "      <th>Date</th>\n",
       "      <td>2416</td>\n",
       "      <td>2015-04-15 11:09:56.026490112</td>\n",
       "      <td>2010-06-29 00:00:00</td>\n",
       "      <td>2012-11-19 18:00:00</td>\n",
       "      <td>2015-04-16 12:00:00</td>\n",
       "      <td>2017-09-07 06:00:00</td>\n",
       "      <td>2020-02-03 00:00:00</td>\n",
       "      <td>NaN</td>\n",
       "    </tr>\n",
       "    <tr>\n",
       "      <th>Open</th>\n",
       "      <td>2416.0</td>\n",
       "      <td>186.271147</td>\n",
       "      <td>16.139999</td>\n",
       "      <td>34.342498</td>\n",
       "      <td>213.035004</td>\n",
       "      <td>266.450012</td>\n",
       "      <td>673.690002</td>\n",
       "      <td>118.740163</td>\n",
       "    </tr>\n",
       "    <tr>\n",
       "      <th>High</th>\n",
       "      <td>2416.0</td>\n",
       "      <td>189.578224</td>\n",
       "      <td>16.629999</td>\n",
       "      <td>34.897501</td>\n",
       "      <td>216.745002</td>\n",
       "      <td>270.927513</td>\n",
       "      <td>786.140015</td>\n",
       "      <td>120.892329</td>\n",
       "    </tr>\n",
       "    <tr>\n",
       "      <th>Low</th>\n",
       "      <td>2416.0</td>\n",
       "      <td>182.916639</td>\n",
       "      <td>14.98</td>\n",
       "      <td>33.587501</td>\n",
       "      <td>208.870002</td>\n",
       "      <td>262.102501</td>\n",
       "      <td>673.52002</td>\n",
       "      <td>116.857591</td>\n",
       "    </tr>\n",
       "    <tr>\n",
       "      <th>Close</th>\n",
       "      <td>2416.0</td>\n",
       "      <td>186.403651</td>\n",
       "      <td>15.8</td>\n",
       "      <td>34.400002</td>\n",
       "      <td>212.960007</td>\n",
       "      <td>266.774994</td>\n",
       "      <td>780.0</td>\n",
       "      <td>119.13602</td>\n",
       "    </tr>\n",
       "    <tr>\n",
       "      <th>Adj Close</th>\n",
       "      <td>2416.0</td>\n",
       "      <td>186.403651</td>\n",
       "      <td>15.8</td>\n",
       "      <td>34.400002</td>\n",
       "      <td>212.960007</td>\n",
       "      <td>266.774994</td>\n",
       "      <td>780.0</td>\n",
       "      <td>119.13602</td>\n",
       "    </tr>\n",
       "    <tr>\n",
       "      <th>Volume</th>\n",
       "      <td>2416.0</td>\n",
       "      <td>5572721.688742</td>\n",
       "      <td>118500.0</td>\n",
       "      <td>1899275.0</td>\n",
       "      <td>4578400.0</td>\n",
       "      <td>7361150.0</td>\n",
       "      <td>47065000.0</td>\n",
       "      <td>4987809.151888</td>\n",
       "    </tr>\n",
       "  </tbody>\n",
       "</table>\n",
       "</div>"
      ],
      "text/plain": [
       "            count                           mean                  min  \\\n",
       "Date         2416  2015-04-15 11:09:56.026490112  2010-06-29 00:00:00   \n",
       "Open       2416.0                     186.271147            16.139999   \n",
       "High       2416.0                     189.578224            16.629999   \n",
       "Low        2416.0                     182.916639                14.98   \n",
       "Close      2416.0                     186.403651                 15.8   \n",
       "Adj Close  2416.0                     186.403651                 15.8   \n",
       "Volume     2416.0                 5572721.688742             118500.0   \n",
       "\n",
       "                           25%                  50%                  75%  \\\n",
       "Date       2012-11-19 18:00:00  2015-04-16 12:00:00  2017-09-07 06:00:00   \n",
       "Open                 34.342498           213.035004           266.450012   \n",
       "High                 34.897501           216.745002           270.927513   \n",
       "Low                  33.587501           208.870002           262.102501   \n",
       "Close                34.400002           212.960007           266.774994   \n",
       "Adj Close            34.400002           212.960007           266.774994   \n",
       "Volume               1899275.0            4578400.0            7361150.0   \n",
       "\n",
       "                           max             std  \n",
       "Date       2020-02-03 00:00:00             NaN  \n",
       "Open                673.690002      118.740163  \n",
       "High                786.140015      120.892329  \n",
       "Low                  673.52002      116.857591  \n",
       "Close                    780.0       119.13602  \n",
       "Adj Close                780.0       119.13602  \n",
       "Volume              47065000.0  4987809.151888  "
      ]
     },
     "execution_count": 52,
     "metadata": {},
     "output_type": "execute_result"
    }
   ],
   "source": [
    "df.describe().T"
   ]
  },
  {
   "cell_type": "code",
   "execution_count": 53,
   "id": "1b9c01b0",
   "metadata": {
    "execution": {
     "iopub.execute_input": "2024-09-21T07:24:17.410046Z",
     "iopub.status.busy": "2024-09-21T07:24:17.409613Z",
     "iopub.status.idle": "2024-09-21T07:24:17.425019Z",
     "shell.execute_reply": "2024-09-21T07:24:17.423716Z"
    },
    "id": "-PSGVpMzgz1O",
    "papermill": {
     "duration": 0.065959,
     "end_time": "2024-09-21T07:24:17.427779",
     "exception": false,
     "start_time": "2024-09-21T07:24:17.361820",
     "status": "completed"
    },
    "tags": []
   },
   "outputs": [
    {
     "data": {
      "text/html": [
       "<div>\n",
       "<style scoped>\n",
       "    .dataframe tbody tr th:only-of-type {\n",
       "        vertical-align: middle;\n",
       "    }\n",
       "\n",
       "    .dataframe tbody tr th {\n",
       "        vertical-align: top;\n",
       "    }\n",
       "\n",
       "    .dataframe thead th {\n",
       "        text-align: right;\n",
       "    }\n",
       "</style>\n",
       "<table border=\"1\" class=\"dataframe\">\n",
       "  <thead>\n",
       "    <tr style=\"text-align: right;\">\n",
       "      <th></th>\n",
       "      <th>Close</th>\n",
       "      <th>Predicted</th>\n",
       "    </tr>\n",
       "    <tr>\n",
       "      <th>Date</th>\n",
       "      <th></th>\n",
       "      <th></th>\n",
       "    </tr>\n",
       "  </thead>\n",
       "  <tbody>\n",
       "    <tr>\n",
       "      <th>2010-07-28</th>\n",
       "      <td>20.719999</td>\n",
       "      <td>38.423168</td>\n",
       "    </tr>\n",
       "    <tr>\n",
       "      <th>2010-07-29</th>\n",
       "      <td>20.350000</td>\n",
       "      <td>38.423168</td>\n",
       "    </tr>\n",
       "    <tr>\n",
       "      <th>2010-07-30</th>\n",
       "      <td>19.940001</td>\n",
       "      <td>38.423168</td>\n",
       "    </tr>\n",
       "    <tr>\n",
       "      <th>2010-08-02</th>\n",
       "      <td>20.920000</td>\n",
       "      <td>38.423168</td>\n",
       "    </tr>\n",
       "    <tr>\n",
       "      <th>2010-08-03</th>\n",
       "      <td>21.950001</td>\n",
       "      <td>38.423168</td>\n",
       "    </tr>\n",
       "  </tbody>\n",
       "</table>\n",
       "</div>"
      ],
      "text/plain": [
       "                Close  Predicted\n",
       "Date                            \n",
       "2010-07-28  20.719999  38.423168\n",
       "2010-07-29  20.350000  38.423168\n",
       "2010-07-30  19.940001  38.423168\n",
       "2010-08-02  20.920000  38.423168\n",
       "2010-08-03  21.950001  38.423168"
      ]
     },
     "execution_count": 53,
     "metadata": {},
     "output_type": "execute_result"
    }
   ],
   "source": [
    "train_prediction_df = result_df[lookback:position]\n",
    "train_prediction_df[\"Predicted\"] = train_predict\n",
    "train_prediction_df.head()"
   ]
  },
  {
   "cell_type": "code",
   "execution_count": 54,
   "id": "25dda1fe",
   "metadata": {
    "execution": {
     "iopub.execute_input": "2024-09-21T07:24:17.520685Z",
     "iopub.status.busy": "2024-09-21T07:24:17.520180Z",
     "iopub.status.idle": "2024-09-21T07:24:17.534626Z",
     "shell.execute_reply": "2024-09-21T07:24:17.533433Z"
    },
    "id": "o7tRAXwOhMSA",
    "papermill": {
     "duration": 0.062771,
     "end_time": "2024-09-21T07:24:17.537183",
     "exception": false,
     "start_time": "2024-09-21T07:24:17.474412",
     "status": "completed"
    },
    "tags": []
   },
   "outputs": [
    {
     "data": {
      "text/html": [
       "<div>\n",
       "<style scoped>\n",
       "    .dataframe tbody tr th:only-of-type {\n",
       "        vertical-align: middle;\n",
       "    }\n",
       "\n",
       "    .dataframe tbody tr th {\n",
       "        vertical-align: top;\n",
       "    }\n",
       "\n",
       "    .dataframe thead th {\n",
       "        text-align: right;\n",
       "    }\n",
       "</style>\n",
       "<table border=\"1\" class=\"dataframe\">\n",
       "  <thead>\n",
       "    <tr style=\"text-align: right;\">\n",
       "      <th></th>\n",
       "      <th>Close</th>\n",
       "      <th>Predicted</th>\n",
       "    </tr>\n",
       "    <tr>\n",
       "      <th>Date</th>\n",
       "      <th></th>\n",
       "      <th></th>\n",
       "    </tr>\n",
       "  </thead>\n",
       "  <tbody>\n",
       "    <tr>\n",
       "      <th>2018-04-03</th>\n",
       "      <td>267.529999</td>\n",
       "      <td>341.128571</td>\n",
       "    </tr>\n",
       "    <tr>\n",
       "      <th>2018-04-04</th>\n",
       "      <td>286.940002</td>\n",
       "      <td>337.968628</td>\n",
       "    </tr>\n",
       "    <tr>\n",
       "      <th>2018-04-05</th>\n",
       "      <td>305.720001</td>\n",
       "      <td>335.073151</td>\n",
       "    </tr>\n",
       "    <tr>\n",
       "      <th>2018-04-06</th>\n",
       "      <td>299.299988</td>\n",
       "      <td>337.302002</td>\n",
       "    </tr>\n",
       "    <tr>\n",
       "      <th>2018-04-09</th>\n",
       "      <td>289.660004</td>\n",
       "      <td>338.792725</td>\n",
       "    </tr>\n",
       "  </tbody>\n",
       "</table>\n",
       "</div>"
      ],
      "text/plain": [
       "                 Close   Predicted\n",
       "Date                              \n",
       "2018-04-03  267.529999  341.128571\n",
       "2018-04-04  286.940002  337.968628\n",
       "2018-04-05  305.720001  335.073151\n",
       "2018-04-06  299.299988  337.302002\n",
       "2018-04-09  289.660004  338.792725"
      ]
     },
     "execution_count": 54,
     "metadata": {},
     "output_type": "execute_result"
    }
   ],
   "source": [
    "test_prediction_df = result_df[position+lookback:]\n",
    "test_prediction_df[\"Predicted\"] = test_predict\n",
    "test_prediction_df.head()"
   ]
  },
  {
   "cell_type": "code",
   "execution_count": 55,
   "id": "c5e20a69",
   "metadata": {
    "execution": {
     "iopub.execute_input": "2024-09-21T07:24:17.629130Z",
     "iopub.status.busy": "2024-09-21T07:24:17.628642Z",
     "iopub.status.idle": "2024-09-21T07:24:18.182857Z",
     "shell.execute_reply": "2024-09-21T07:24:18.181535Z"
    },
    "id": "PJ_-znSchYO_",
    "papermill": {
     "duration": 0.604537,
     "end_time": "2024-09-21T07:24:18.186281",
     "exception": false,
     "start_time": "2024-09-21T07:24:17.581744",
     "status": "completed"
    },
    "tags": []
   },
   "outputs": [
    {
     "data": {
      "image/png": "[encoded data removed]",
      "text/plain": [
       "<Figure size 1400x500 with 1 Axes>"
      ]
     },
     "metadata": {},
     "output_type": "display_data"
    }
   ],
   "source": [
    "plt.figure(figsize=(14,5))\n",
    "plt.plot(result_df, label = \"Real Number of Passengers\")\n",
    "plt.plot(train_prediction_df[\"Predicted\"], color = 'blue', label = \"Train Predicted Number of Passengers\")\n",
    "plt.plot(test_prediction_df[\"Predicted\"],color = 'red', label = \"Test Predicted Number of Passengers\")\n",
    "plt.title(\"Number of Passengers Prediction\")\n",
    "plt.xlabel(\"Time\")\n",
    "plt.ylabel(\"Number of Passengers\")\n",
    "plt.legend()\n",
    "plt.show()"
   ]
  }
 ],
 "metadata": {
  "colab": {
   "provenance": []
  },
  "kaggle": {
   "accelerator": "none",
   "dataSources": [
    {
     "datasetId": 500872,
     "sourceId": 927894,
     "sourceType": "datasetVersion"
    }
   ],
   "dockerImageVersionId": 30761,
   "isGpuEnabled": false,
   "isInternetEnabled": true,
   "language": "python",
   "sourceType": "notebook"
  },
  "kernelspec": {
   "display_name": "Python 3",
   "language": "python",
   "name": "python3"
  },
  "language_info": {
   "codemirror_mode": {
    "name": "ipython",
    "version": 3
   },
   "file_extension": ".py",
   "mimetype": "text/x-python",
   "name": "python",
   "nbconvert_exporter": "python",
   "pygments_lexer": "ipython3",
   "version": "3.10.14"
  },
  "papermill": {
   "default_parameters": {},
   "duration": 40.268075,
   "end_time": "2024-09-21T07:24:20.060058",
   "environment_variables": {},
   "exception": null,
   "input_path": "__notebook__.ipynb",
   "output_path": "__notebook__.ipynb",
   "parameters": {},
   "start_time": "2024-09-21T07:23:39.791983",
   "version": "2.6.0"
  }
 },
 "nbformat": 4,
 "nbformat_minor": 5
}
