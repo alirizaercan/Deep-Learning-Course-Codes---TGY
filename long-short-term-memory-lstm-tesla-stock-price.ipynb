{
 "cells": [
  {
   "cell_type": "markdown",
   "id": "669dde72",
   "metadata": {
    "id": "4unSJJjsT8BM",
    "papermill": {
     "duration": 0.012654,
     "end_time": "2025-01-22T06:34:30.018214",
     "exception": false,
     "start_time": "2025-01-22T06:34:30.005560",
     "status": "completed"
    },
    "tags": []
   },
   "source": [
    "# Tesla - Stock Price Prediction\n",
    "\n",
    "---\n",
    "\n"
   ]
  },
  {
   "cell_type": "markdown",
   "id": "ceea7071",
   "metadata": {
    "id": "wkRLJL2XUAfT",
    "papermill": {
     "duration": 0.011165,
     "end_time": "2025-01-22T06:34:30.040596",
     "exception": false,
     "start_time": "2025-01-22T06:34:30.029431",
     "status": "completed"
    },
    "tags": []
   },
   "source": [
    "## Business Problem\n",
    "\n",
    "In this notebook, our purpose is to predict of tesla - stock price."
   ]
  },
  {
   "cell_type": "markdown",
   "id": "33676283",
   "metadata": {
    "id": "0uxjphZsUwjz",
    "papermill": {
     "duration": 0.010647,
     "end_time": "2025-01-22T06:34:30.062423",
     "exception": false,
     "start_time": "2025-01-22T06:34:30.051776",
     "status": "completed"
    },
    "tags": []
   },
   "source": [
    "## Data Understanding"
   ]
  },
  {
   "cell_type": "code",
   "execution_count": 1,
   "id": "329e5a20",
   "metadata": {
    "execution": {
     "iopub.execute_input": "2025-01-22T06:34:30.086419Z",
     "iopub.status.busy": "2025-01-22T06:34:30.085937Z",
     "iopub.status.idle": "2025-01-22T06:34:47.088030Z",
     "shell.execute_reply": "2025-01-22T06:34:47.086569Z"
    },
    "id": "40IR65rQUyWC",
    "outputId": "4562368d-970e-4fd6-b03e-be036efe4dcd",
    "papermill": {
     "duration": 17.017367,
     "end_time": "2025-01-22T06:34:47.091086",
     "exception": false,
     "start_time": "2025-01-22T06:34:30.073719",
     "status": "completed"
    },
    "tags": []
   },
   "outputs": [],
   "source": [
    "import numpy as np\n",
    "import pandas as pd\n",
    "import datetime as dt\n",
    "import tensorflow as tf\n",
    "import matplotlib.pyplot as plt\n",
    "\n",
    "from sklearn.preprocessing import MinMaxScaler\n",
    "from sklearn.metrics import mean_squared_error\n",
    "\n",
    "from tensorflow.keras.models import Sequential\n",
    "from tensorflow.keras.layers import Dense, LSTM, Dropout\n",
    "from tensorflow.keras.callbacks import ModelCheckpoint, EarlyStopping\n",
    "\n",
    "import warnings\n",
    "warnings.filterwarnings('ignore')\n",
    "\n",
    "import os\n",
    "os.environ['TF_CPP_MIN_LOG_LEVEL'] = '3'\n",
    "tf.compat.v1.logging.set_verbosity(tf.compat.v1.logging.ERROR)"
   ]
  },
  {
   "cell_type": "code",
   "execution_count": 2,
   "id": "2b6cc71e",
   "metadata": {
    "execution": {
     "iopub.execute_input": "2025-01-22T06:34:47.115332Z",
     "iopub.status.busy": "2025-01-22T06:34:47.114612Z",
     "iopub.status.idle": "2025-01-22T06:34:47.178585Z",
     "shell.execute_reply": "2025-01-22T06:34:47.177440Z"
    },
    "id": "-be5_efvVpTV",
    "papermill": {
     "duration": 0.078702,
     "end_time": "2025-01-22T06:34:47.181037",
     "exception": false,
     "start_time": "2025-01-22T06:34:47.102335",
     "status": "completed"
    },
    "tags": []
   },
   "outputs": [
    {
     "data": {
      "text/html": [
       "<div>\n",
       "<style scoped>\n",
       "    .dataframe tbody tr th:only-of-type {\n",
       "        vertical-align: middle;\n",
       "    }\n",
       "\n",
       "    .dataframe tbody tr th {\n",
       "        vertical-align: top;\n",
       "    }\n",
       "\n",
       "    .dataframe thead th {\n",
       "        text-align: right;\n",
       "    }\n",
       "</style>\n",
       "<table border=\"1\" class=\"dataframe\">\n",
       "  <thead>\n",
       "    <tr style=\"text-align: right;\">\n",
       "      <th></th>\n",
       "      <th>Date</th>\n",
       "      <th>Open</th>\n",
       "      <th>High</th>\n",
       "      <th>Low</th>\n",
       "      <th>Close</th>\n",
       "      <th>Adj Close</th>\n",
       "      <th>Volume</th>\n",
       "    </tr>\n",
       "  </thead>\n",
       "  <tbody>\n",
       "    <tr>\n",
       "      <th>0</th>\n",
       "      <td>2010-06-29</td>\n",
       "      <td>19.000000</td>\n",
       "      <td>25.000000</td>\n",
       "      <td>17.540001</td>\n",
       "      <td>23.889999</td>\n",
       "      <td>23.889999</td>\n",
       "      <td>18766300</td>\n",
       "    </tr>\n",
       "    <tr>\n",
       "      <th>1</th>\n",
       "      <td>2010-06-30</td>\n",
       "      <td>25.790001</td>\n",
       "      <td>30.420000</td>\n",
       "      <td>23.299999</td>\n",
       "      <td>23.830000</td>\n",
       "      <td>23.830000</td>\n",
       "      <td>17187100</td>\n",
       "    </tr>\n",
       "    <tr>\n",
       "      <th>2</th>\n",
       "      <td>2010-07-01</td>\n",
       "      <td>25.000000</td>\n",
       "      <td>25.920000</td>\n",
       "      <td>20.270000</td>\n",
       "      <td>21.959999</td>\n",
       "      <td>21.959999</td>\n",
       "      <td>8218800</td>\n",
       "    </tr>\n",
       "    <tr>\n",
       "      <th>3</th>\n",
       "      <td>2010-07-02</td>\n",
       "      <td>23.000000</td>\n",
       "      <td>23.100000</td>\n",
       "      <td>18.709999</td>\n",
       "      <td>19.200001</td>\n",
       "      <td>19.200001</td>\n",
       "      <td>5139800</td>\n",
       "    </tr>\n",
       "    <tr>\n",
       "      <th>4</th>\n",
       "      <td>2010-07-06</td>\n",
       "      <td>20.000000</td>\n",
       "      <td>20.000000</td>\n",
       "      <td>15.830000</td>\n",
       "      <td>16.110001</td>\n",
       "      <td>16.110001</td>\n",
       "      <td>6866900</td>\n",
       "    </tr>\n",
       "    <tr>\n",
       "      <th>...</th>\n",
       "      <td>...</td>\n",
       "      <td>...</td>\n",
       "      <td>...</td>\n",
       "      <td>...</td>\n",
       "      <td>...</td>\n",
       "      <td>...</td>\n",
       "      <td>...</td>\n",
       "    </tr>\n",
       "    <tr>\n",
       "      <th>2411</th>\n",
       "      <td>2020-01-28</td>\n",
       "      <td>568.489990</td>\n",
       "      <td>576.809998</td>\n",
       "      <td>558.080017</td>\n",
       "      <td>566.900024</td>\n",
       "      <td>566.900024</td>\n",
       "      <td>11788500</td>\n",
       "    </tr>\n",
       "    <tr>\n",
       "      <th>2412</th>\n",
       "      <td>2020-01-29</td>\n",
       "      <td>575.690002</td>\n",
       "      <td>589.799988</td>\n",
       "      <td>567.429993</td>\n",
       "      <td>580.989990</td>\n",
       "      <td>580.989990</td>\n",
       "      <td>17801500</td>\n",
       "    </tr>\n",
       "    <tr>\n",
       "      <th>2413</th>\n",
       "      <td>2020-01-30</td>\n",
       "      <td>632.419983</td>\n",
       "      <td>650.880005</td>\n",
       "      <td>618.000000</td>\n",
       "      <td>640.809998</td>\n",
       "      <td>640.809998</td>\n",
       "      <td>29005700</td>\n",
       "    </tr>\n",
       "    <tr>\n",
       "      <th>2414</th>\n",
       "      <td>2020-01-31</td>\n",
       "      <td>640.000000</td>\n",
       "      <td>653.000000</td>\n",
       "      <td>632.520020</td>\n",
       "      <td>650.570007</td>\n",
       "      <td>650.570007</td>\n",
       "      <td>15719300</td>\n",
       "    </tr>\n",
       "    <tr>\n",
       "      <th>2415</th>\n",
       "      <td>2020-02-03</td>\n",
       "      <td>673.690002</td>\n",
       "      <td>786.140015</td>\n",
       "      <td>673.520020</td>\n",
       "      <td>780.000000</td>\n",
       "      <td>780.000000</td>\n",
       "      <td>47065000</td>\n",
       "    </tr>\n",
       "  </tbody>\n",
       "</table>\n",
       "<p>2416 rows × 7 columns</p>\n",
       "</div>"
      ],
      "text/plain": [
       "            Date        Open        High         Low       Close   Adj Close  \\\n",
       "0     2010-06-29   19.000000   25.000000   17.540001   23.889999   23.889999   \n",
       "1     2010-06-30   25.790001   30.420000   23.299999   23.830000   23.830000   \n",
       "2     2010-07-01   25.000000   25.920000   20.270000   21.959999   21.959999   \n",
       "3     2010-07-02   23.000000   23.100000   18.709999   19.200001   19.200001   \n",
       "4     2010-07-06   20.000000   20.000000   15.830000   16.110001   16.110001   \n",
       "...          ...         ...         ...         ...         ...         ...   \n",
       "2411  2020-01-28  568.489990  576.809998  558.080017  566.900024  566.900024   \n",
       "2412  2020-01-29  575.690002  589.799988  567.429993  580.989990  580.989990   \n",
       "2413  2020-01-30  632.419983  650.880005  618.000000  640.809998  640.809998   \n",
       "2414  2020-01-31  640.000000  653.000000  632.520020  650.570007  650.570007   \n",
       "2415  2020-02-03  673.690002  786.140015  673.520020  780.000000  780.000000   \n",
       "\n",
       "        Volume  \n",
       "0     18766300  \n",
       "1     17187100  \n",
       "2      8218800  \n",
       "3      5139800  \n",
       "4      6866900  \n",
       "...        ...  \n",
       "2411  11788500  \n",
       "2412  17801500  \n",
       "2413  29005700  \n",
       "2414  15719300  \n",
       "2415  47065000  \n",
       "\n",
       "[2416 rows x 7 columns]"
      ]
     },
     "execution_count": 2,
     "metadata": {},
     "output_type": "execute_result"
    }
   ],
   "source": [
    "df = pd.read_csv('/kaggle/input/tesla-stock-data-from-2010-to-2020/TSLA.csv')\n",
    "df"
   ]
  },
  {
   "cell_type": "code",
   "execution_count": 3,
   "id": "70a586fc",
   "metadata": {
    "execution": {
     "iopub.execute_input": "2025-01-22T06:34:47.206427Z",
     "iopub.status.busy": "2025-01-22T06:34:47.206019Z",
     "iopub.status.idle": "2025-01-22T06:34:47.220101Z",
     "shell.execute_reply": "2025-01-22T06:34:47.218963Z"
    },
    "id": "lG_AO3mdVv17",
    "papermill": {
     "duration": 0.029214,
     "end_time": "2025-01-22T06:34:47.222302",
     "exception": false,
     "start_time": "2025-01-22T06:34:47.193088",
     "status": "completed"
    },
    "tags": []
   },
   "outputs": [
    {
     "data": {
      "text/html": [
       "<div>\n",
       "<style scoped>\n",
       "    .dataframe tbody tr th:only-of-type {\n",
       "        vertical-align: middle;\n",
       "    }\n",
       "\n",
       "    .dataframe tbody tr th {\n",
       "        vertical-align: top;\n",
       "    }\n",
       "\n",
       "    .dataframe thead th {\n",
       "        text-align: right;\n",
       "    }\n",
       "</style>\n",
       "<table border=\"1\" class=\"dataframe\">\n",
       "  <thead>\n",
       "    <tr style=\"text-align: right;\">\n",
       "      <th></th>\n",
       "      <th>Date</th>\n",
       "      <th>Open</th>\n",
       "      <th>High</th>\n",
       "      <th>Low</th>\n",
       "      <th>Close</th>\n",
       "      <th>Adj Close</th>\n",
       "      <th>Volume</th>\n",
       "    </tr>\n",
       "  </thead>\n",
       "  <tbody>\n",
       "    <tr>\n",
       "      <th>0</th>\n",
       "      <td>2010-06-29</td>\n",
       "      <td>19.000000</td>\n",
       "      <td>25.00</td>\n",
       "      <td>17.540001</td>\n",
       "      <td>23.889999</td>\n",
       "      <td>23.889999</td>\n",
       "      <td>18766300</td>\n",
       "    </tr>\n",
       "    <tr>\n",
       "      <th>1</th>\n",
       "      <td>2010-06-30</td>\n",
       "      <td>25.790001</td>\n",
       "      <td>30.42</td>\n",
       "      <td>23.299999</td>\n",
       "      <td>23.830000</td>\n",
       "      <td>23.830000</td>\n",
       "      <td>17187100</td>\n",
       "    </tr>\n",
       "    <tr>\n",
       "      <th>2</th>\n",
       "      <td>2010-07-01</td>\n",
       "      <td>25.000000</td>\n",
       "      <td>25.92</td>\n",
       "      <td>20.270000</td>\n",
       "      <td>21.959999</td>\n",
       "      <td>21.959999</td>\n",
       "      <td>8218800</td>\n",
       "    </tr>\n",
       "    <tr>\n",
       "      <th>3</th>\n",
       "      <td>2010-07-02</td>\n",
       "      <td>23.000000</td>\n",
       "      <td>23.10</td>\n",
       "      <td>18.709999</td>\n",
       "      <td>19.200001</td>\n",
       "      <td>19.200001</td>\n",
       "      <td>5139800</td>\n",
       "    </tr>\n",
       "    <tr>\n",
       "      <th>4</th>\n",
       "      <td>2010-07-06</td>\n",
       "      <td>20.000000</td>\n",
       "      <td>20.00</td>\n",
       "      <td>15.830000</td>\n",
       "      <td>16.110001</td>\n",
       "      <td>16.110001</td>\n",
       "      <td>6866900</td>\n",
       "    </tr>\n",
       "  </tbody>\n",
       "</table>\n",
       "</div>"
      ],
      "text/plain": [
       "         Date       Open   High        Low      Close  Adj Close    Volume\n",
       "0  2010-06-29  19.000000  25.00  17.540001  23.889999  23.889999  18766300\n",
       "1  2010-06-30  25.790001  30.42  23.299999  23.830000  23.830000  17187100\n",
       "2  2010-07-01  25.000000  25.92  20.270000  21.959999  21.959999   8218800\n",
       "3  2010-07-02  23.000000  23.10  18.709999  19.200001  19.200001   5139800\n",
       "4  2010-07-06  20.000000  20.00  15.830000  16.110001  16.110001   6866900"
      ]
     },
     "execution_count": 3,
     "metadata": {},
     "output_type": "execute_result"
    }
   ],
   "source": [
    "df.head()"
   ]
  },
  {
   "cell_type": "code",
   "execution_count": 4,
   "id": "8cfc7329",
   "metadata": {
    "execution": {
     "iopub.execute_input": "2025-01-22T06:34:47.247079Z",
     "iopub.status.busy": "2025-01-22T06:34:47.246659Z",
     "iopub.status.idle": "2025-01-22T06:34:47.253375Z",
     "shell.execute_reply": "2025-01-22T06:34:47.252374Z"
    },
    "id": "TU5hlfyvVxY0",
    "papermill": {
     "duration": 0.021836,
     "end_time": "2025-01-22T06:34:47.255583",
     "exception": false,
     "start_time": "2025-01-22T06:34:47.233747",
     "status": "completed"
    },
    "tags": []
   },
   "outputs": [],
   "source": [
    "def check_df(dataframe, head=5):\n",
    "    print(\"##################### Shape #####################\")\n",
    "    print(dataframe.shape)\n",
    "    print(\"##################### Types #####################\")\n",
    "    print(dataframe.dtypes)\n",
    "    print(\"##################### Head #####################\")\n",
    "    print(dataframe.head(head))  # Fonksiyon çağrısına dikkat edin\n",
    "    print(\"##################### Tail #####################\")\n",
    "    print(dataframe.tail(head))\n",
    "    print(\"##################### NA #####################\")\n",
    "    print(dataframe.isnull().sum())\n",
    "    print(\"##################### Quantile #####################\")\n",
    "    print(dataframe.select_dtypes(include='number').quantile([0, 0.05, 0.5, 0.95, 0.99, 1]).T)\n"
   ]
  },
  {
   "cell_type": "code",
   "execution_count": 5,
   "id": "aca85b67",
   "metadata": {
    "execution": {
     "iopub.execute_input": "2025-01-22T06:34:47.280252Z",
     "iopub.status.busy": "2025-01-22T06:34:47.279837Z",
     "iopub.status.idle": "2025-01-22T06:34:47.302598Z",
     "shell.execute_reply": "2025-01-22T06:34:47.301090Z"
    },
    "id": "t6iFP965V4vk",
    "papermill": {
     "duration": 0.038342,
     "end_time": "2025-01-22T06:34:47.305460",
     "exception": false,
     "start_time": "2025-01-22T06:34:47.267118",
     "status": "completed"
    },
    "tags": []
   },
   "outputs": [
    {
     "name": "stdout",
     "output_type": "stream",
     "text": [
      "##################### Shape #####################\n",
      "(2416, 7)\n",
      "##################### Types #####################\n",
      "Date          object\n",
      "Open         float64\n",
      "High         float64\n",
      "Low          float64\n",
      "Close        float64\n",
      "Adj Close    float64\n",
      "Volume         int64\n",
      "dtype: object\n",
      "##################### Head #####################\n",
      "         Date       Open   High        Low      Close  Adj Close    Volume\n",
      "0  2010-06-29  19.000000  25.00  17.540001  23.889999  23.889999  18766300\n",
      "1  2010-06-30  25.790001  30.42  23.299999  23.830000  23.830000  17187100\n",
      "2  2010-07-01  25.000000  25.92  20.270000  21.959999  21.959999   8218800\n",
      "3  2010-07-02  23.000000  23.10  18.709999  19.200001  19.200001   5139800\n",
      "4  2010-07-06  20.000000  20.00  15.830000  16.110001  16.110001   6866900\n",
      "##################### Tail #####################\n",
      "            Date        Open        High         Low       Close   Adj Close  \\\n",
      "2411  2020-01-28  568.489990  576.809998  558.080017  566.900024  566.900024   \n",
      "2412  2020-01-29  575.690002  589.799988  567.429993  580.989990  580.989990   \n",
      "2413  2020-01-30  632.419983  650.880005  618.000000  640.809998  640.809998   \n",
      "2414  2020-01-31  640.000000  653.000000  632.520020  650.570007  650.570007   \n",
      "2415  2020-02-03  673.690002  786.140015  673.520020  780.000000  780.000000   \n",
      "\n",
      "        Volume  \n",
      "2411  11788500  \n",
      "2412  17801500  \n",
      "2413  29005700  \n",
      "2414  15719300  \n",
      "2415  47065000  \n",
      "##################### NA #####################\n",
      "Date         0\n",
      "Open         0\n",
      "High         0\n",
      "Low          0\n",
      "Close        0\n",
      "Adj Close    0\n",
      "Volume       0\n",
      "dtype: int64\n",
      "##################### Quantile #####################\n",
      "                    0.00           0.05          0.50          0.95  \\\n",
      "Open           16.139999      23.384999  2.130350e+02  3.519100e+02   \n",
      "High           16.629999      24.022501  2.167450e+02  3.567500e+02   \n",
      "Low            14.980000      22.867499  2.088700e+02  3.460250e+02   \n",
      "Close          15.800000      23.565000  2.129600e+02  3.511675e+02   \n",
      "Adj Close      15.800000      23.565000  2.129600e+02  3.511675e+02   \n",
      "Volume     118500.000000  633825.000000  4.578400e+06  1.476090e+07   \n",
      "\n",
      "                   0.99          1.00  \n",
      "Open       4.235790e+02  6.736900e+02  \n",
      "High       4.284705e+02  7.861400e+02  \n",
      "Low        4.122865e+02  6.735200e+02  \n",
      "Close      4.243455e+02  7.800000e+02  \n",
      "Adj Close  4.243455e+02  7.800000e+02  \n",
      "Volume     2.459959e+07  4.706500e+07  \n"
     ]
    }
   ],
   "source": [
    "check_df(df)"
   ]
  },
  {
   "cell_type": "markdown",
   "id": "2731f36e",
   "metadata": {
    "id": "v2n2ONcpWlQl",
    "papermill": {
     "duration": 0.011094,
     "end_time": "2025-01-22T06:34:47.328419",
     "exception": false,
     "start_time": "2025-01-22T06:34:47.317325",
     "status": "completed"
    },
    "tags": []
   },
   "source": [
    "## Data Preparation"
   ]
  },
  {
   "cell_type": "code",
   "execution_count": 6,
   "id": "fda4ee70",
   "metadata": {
    "execution": {
     "iopub.execute_input": "2025-01-22T06:34:47.354275Z",
     "iopub.status.busy": "2025-01-22T06:34:47.353150Z",
     "iopub.status.idle": "2025-01-22T06:34:47.365276Z",
     "shell.execute_reply": "2025-01-22T06:34:47.363909Z"
    },
    "id": "x-En8ormWAo8",
    "papermill": {
     "duration": 0.027995,
     "end_time": "2025-01-22T06:34:47.368075",
     "exception": false,
     "start_time": "2025-01-22T06:34:47.340080",
     "status": "completed"
    },
    "tags": []
   },
   "outputs": [],
   "source": [
    "df[\"Date\"] = pd.to_datetime(df[\"Date\"])"
   ]
  },
  {
   "cell_type": "code",
   "execution_count": 7,
   "id": "4ae166a6",
   "metadata": {
    "execution": {
     "iopub.execute_input": "2025-01-22T06:34:47.393736Z",
     "iopub.status.busy": "2025-01-22T06:34:47.393358Z",
     "iopub.status.idle": "2025-01-22T06:34:47.408348Z",
     "shell.execute_reply": "2025-01-22T06:34:47.406998Z"
    },
    "id": "Wk3C4MPkWBUG",
    "papermill": {
     "duration": 0.030007,
     "end_time": "2025-01-22T06:34:47.410547",
     "exception": false,
     "start_time": "2025-01-22T06:34:47.380540",
     "status": "completed"
    },
    "tags": []
   },
   "outputs": [
    {
     "data": {
      "text/html": [
       "<div>\n",
       "<style scoped>\n",
       "    .dataframe tbody tr th:only-of-type {\n",
       "        vertical-align: middle;\n",
       "    }\n",
       "\n",
       "    .dataframe tbody tr th {\n",
       "        vertical-align: top;\n",
       "    }\n",
       "\n",
       "    .dataframe thead th {\n",
       "        text-align: right;\n",
       "    }\n",
       "</style>\n",
       "<table border=\"1\" class=\"dataframe\">\n",
       "  <thead>\n",
       "    <tr style=\"text-align: right;\">\n",
       "      <th></th>\n",
       "      <th>Date</th>\n",
       "      <th>Open</th>\n",
       "      <th>High</th>\n",
       "      <th>Low</th>\n",
       "      <th>Close</th>\n",
       "      <th>Adj Close</th>\n",
       "      <th>Volume</th>\n",
       "    </tr>\n",
       "  </thead>\n",
       "  <tbody>\n",
       "    <tr>\n",
       "      <th>0</th>\n",
       "      <td>2010-06-29</td>\n",
       "      <td>19.000000</td>\n",
       "      <td>25.00</td>\n",
       "      <td>17.540001</td>\n",
       "      <td>23.889999</td>\n",
       "      <td>23.889999</td>\n",
       "      <td>18766300</td>\n",
       "    </tr>\n",
       "    <tr>\n",
       "      <th>1</th>\n",
       "      <td>2010-06-30</td>\n",
       "      <td>25.790001</td>\n",
       "      <td>30.42</td>\n",
       "      <td>23.299999</td>\n",
       "      <td>23.830000</td>\n",
       "      <td>23.830000</td>\n",
       "      <td>17187100</td>\n",
       "    </tr>\n",
       "    <tr>\n",
       "      <th>2</th>\n",
       "      <td>2010-07-01</td>\n",
       "      <td>25.000000</td>\n",
       "      <td>25.92</td>\n",
       "      <td>20.270000</td>\n",
       "      <td>21.959999</td>\n",
       "      <td>21.959999</td>\n",
       "      <td>8218800</td>\n",
       "    </tr>\n",
       "    <tr>\n",
       "      <th>3</th>\n",
       "      <td>2010-07-02</td>\n",
       "      <td>23.000000</td>\n",
       "      <td>23.10</td>\n",
       "      <td>18.709999</td>\n",
       "      <td>19.200001</td>\n",
       "      <td>19.200001</td>\n",
       "      <td>5139800</td>\n",
       "    </tr>\n",
       "    <tr>\n",
       "      <th>4</th>\n",
       "      <td>2010-07-06</td>\n",
       "      <td>20.000000</td>\n",
       "      <td>20.00</td>\n",
       "      <td>15.830000</td>\n",
       "      <td>16.110001</td>\n",
       "      <td>16.110001</td>\n",
       "      <td>6866900</td>\n",
       "    </tr>\n",
       "  </tbody>\n",
       "</table>\n",
       "</div>"
      ],
      "text/plain": [
       "        Date       Open   High        Low      Close  Adj Close    Volume\n",
       "0 2010-06-29  19.000000  25.00  17.540001  23.889999  23.889999  18766300\n",
       "1 2010-06-30  25.790001  30.42  23.299999  23.830000  23.830000  17187100\n",
       "2 2010-07-01  25.000000  25.92  20.270000  21.959999  21.959999   8218800\n",
       "3 2010-07-02  23.000000  23.10  18.709999  19.200001  19.200001   5139800\n",
       "4 2010-07-06  20.000000  20.00  15.830000  16.110001  16.110001   6866900"
      ]
     },
     "execution_count": 7,
     "metadata": {},
     "output_type": "execute_result"
    }
   ],
   "source": [
    "df.head()"
   ]
  },
  {
   "cell_type": "code",
   "execution_count": 8,
   "id": "7881e1e2",
   "metadata": {
    "execution": {
     "iopub.execute_input": "2025-01-22T06:34:47.435408Z",
     "iopub.status.busy": "2025-01-22T06:34:47.435051Z",
     "iopub.status.idle": "2025-01-22T06:34:47.441672Z",
     "shell.execute_reply": "2025-01-22T06:34:47.440402Z"
    },
    "id": "ZOVzSrk1WCHu",
    "papermill": {
     "duration": 0.021848,
     "end_time": "2025-01-22T06:34:47.444084",
     "exception": false,
     "start_time": "2025-01-22T06:34:47.422236",
     "status": "completed"
    },
    "tags": []
   },
   "outputs": [],
   "source": [
    "tesla_df = df[[\"Date\", \"Close\"]]"
   ]
  },
  {
   "cell_type": "code",
   "execution_count": 9,
   "id": "54b01b6b",
   "metadata": {
    "execution": {
     "iopub.execute_input": "2025-01-22T06:34:47.469624Z",
     "iopub.status.busy": "2025-01-22T06:34:47.468855Z",
     "iopub.status.idle": "2025-01-22T06:34:47.478948Z",
     "shell.execute_reply": "2025-01-22T06:34:47.477787Z"
    },
    "id": "Tli5FuMBWF8l",
    "papermill": {
     "duration": 0.025477,
     "end_time": "2025-01-22T06:34:47.481267",
     "exception": false,
     "start_time": "2025-01-22T06:34:47.455790",
     "status": "completed"
    },
    "tags": []
   },
   "outputs": [
    {
     "data": {
      "text/html": [
       "<div>\n",
       "<style scoped>\n",
       "    .dataframe tbody tr th:only-of-type {\n",
       "        vertical-align: middle;\n",
       "    }\n",
       "\n",
       "    .dataframe tbody tr th {\n",
       "        vertical-align: top;\n",
       "    }\n",
       "\n",
       "    .dataframe thead th {\n",
       "        text-align: right;\n",
       "    }\n",
       "</style>\n",
       "<table border=\"1\" class=\"dataframe\">\n",
       "  <thead>\n",
       "    <tr style=\"text-align: right;\">\n",
       "      <th></th>\n",
       "      <th>Date</th>\n",
       "      <th>Close</th>\n",
       "    </tr>\n",
       "  </thead>\n",
       "  <tbody>\n",
       "    <tr>\n",
       "      <th>0</th>\n",
       "      <td>2010-06-29</td>\n",
       "      <td>23.889999</td>\n",
       "    </tr>\n",
       "    <tr>\n",
       "      <th>1</th>\n",
       "      <td>2010-06-30</td>\n",
       "      <td>23.830000</td>\n",
       "    </tr>\n",
       "    <tr>\n",
       "      <th>2</th>\n",
       "      <td>2010-07-01</td>\n",
       "      <td>21.959999</td>\n",
       "    </tr>\n",
       "    <tr>\n",
       "      <th>3</th>\n",
       "      <td>2010-07-02</td>\n",
       "      <td>19.200001</td>\n",
       "    </tr>\n",
       "    <tr>\n",
       "      <th>4</th>\n",
       "      <td>2010-07-06</td>\n",
       "      <td>16.110001</td>\n",
       "    </tr>\n",
       "  </tbody>\n",
       "</table>\n",
       "</div>"
      ],
      "text/plain": [
       "        Date      Close\n",
       "0 2010-06-29  23.889999\n",
       "1 2010-06-30  23.830000\n",
       "2 2010-07-01  21.959999\n",
       "3 2010-07-02  19.200001\n",
       "4 2010-07-06  16.110001"
      ]
     },
     "execution_count": 9,
     "metadata": {},
     "output_type": "execute_result"
    }
   ],
   "source": [
    "tesla_df.head()"
   ]
  },
  {
   "cell_type": "code",
   "execution_count": 10,
   "id": "a7ac2fc6",
   "metadata": {
    "execution": {
     "iopub.execute_input": "2025-01-22T06:34:47.506198Z",
     "iopub.status.busy": "2025-01-22T06:34:47.505740Z",
     "iopub.status.idle": "2025-01-22T06:34:47.513695Z",
     "shell.execute_reply": "2025-01-22T06:34:47.512188Z"
    },
    "id": "Gsw5OQCAWLzn",
    "papermill": {
     "duration": 0.023007,
     "end_time": "2025-01-22T06:34:47.515974",
     "exception": false,
     "start_time": "2025-01-22T06:34:47.492967",
     "status": "completed"
    },
    "tags": []
   },
   "outputs": [
    {
     "name": "stdout",
     "output_type": "stream",
     "text": [
      "Min Date:  2010-06-29 00:00:00\n",
      "Max Date:  2020-02-03 00:00:00\n"
     ]
    }
   ],
   "source": [
    "print(\"Min Date: \", tesla_df[\"Date\"].min())\n",
    "print(\"Max Date: \", tesla_df[\"Date\"].max())"
   ]
  },
  {
   "cell_type": "code",
   "execution_count": 11,
   "id": "ffae31ad",
   "metadata": {
    "execution": {
     "iopub.execute_input": "2025-01-22T06:34:47.541040Z",
     "iopub.status.busy": "2025-01-22T06:34:47.539810Z",
     "iopub.status.idle": "2025-01-22T06:34:47.545347Z",
     "shell.execute_reply": "2025-01-22T06:34:47.544345Z"
    },
    "id": "JGi8P08mWQO1",
    "papermill": {
     "duration": 0.020435,
     "end_time": "2025-01-22T06:34:47.547649",
     "exception": false,
     "start_time": "2025-01-22T06:34:47.527214",
     "status": "completed"
    },
    "tags": []
   },
   "outputs": [],
   "source": [
    "tesla_df.index = tesla_df[\"Date\"]"
   ]
  },
  {
   "cell_type": "code",
   "execution_count": 12,
   "id": "6aebdc8a",
   "metadata": {
    "execution": {
     "iopub.execute_input": "2025-01-22T06:34:47.573617Z",
     "iopub.status.busy": "2025-01-22T06:34:47.572230Z",
     "iopub.status.idle": "2025-01-22T06:34:47.585294Z",
     "shell.execute_reply": "2025-01-22T06:34:47.584046Z"
    },
    "id": "YBWxX2IOWoL_",
    "papermill": {
     "duration": 0.028545,
     "end_time": "2025-01-22T06:34:47.587641",
     "exception": false,
     "start_time": "2025-01-22T06:34:47.559096",
     "status": "completed"
    },
    "tags": []
   },
   "outputs": [
    {
     "data": {
      "text/html": [
       "<div>\n",
       "<style scoped>\n",
       "    .dataframe tbody tr th:only-of-type {\n",
       "        vertical-align: middle;\n",
       "    }\n",
       "\n",
       "    .dataframe tbody tr th {\n",
       "        vertical-align: top;\n",
       "    }\n",
       "\n",
       "    .dataframe thead th {\n",
       "        text-align: right;\n",
       "    }\n",
       "</style>\n",
       "<table border=\"1\" class=\"dataframe\">\n",
       "  <thead>\n",
       "    <tr style=\"text-align: right;\">\n",
       "      <th></th>\n",
       "      <th>Date</th>\n",
       "      <th>Close</th>\n",
       "    </tr>\n",
       "    <tr>\n",
       "      <th>Date</th>\n",
       "      <th></th>\n",
       "      <th></th>\n",
       "    </tr>\n",
       "  </thead>\n",
       "  <tbody>\n",
       "    <tr>\n",
       "      <th>2010-06-29</th>\n",
       "      <td>2010-06-29</td>\n",
       "      <td>23.889999</td>\n",
       "    </tr>\n",
       "    <tr>\n",
       "      <th>2010-06-30</th>\n",
       "      <td>2010-06-30</td>\n",
       "      <td>23.830000</td>\n",
       "    </tr>\n",
       "    <tr>\n",
       "      <th>2010-07-01</th>\n",
       "      <td>2010-07-01</td>\n",
       "      <td>21.959999</td>\n",
       "    </tr>\n",
       "    <tr>\n",
       "      <th>2010-07-02</th>\n",
       "      <td>2010-07-02</td>\n",
       "      <td>19.200001</td>\n",
       "    </tr>\n",
       "    <tr>\n",
       "      <th>2010-07-06</th>\n",
       "      <td>2010-07-06</td>\n",
       "      <td>16.110001</td>\n",
       "    </tr>\n",
       "    <tr>\n",
       "      <th>...</th>\n",
       "      <td>...</td>\n",
       "      <td>...</td>\n",
       "    </tr>\n",
       "    <tr>\n",
       "      <th>2020-01-28</th>\n",
       "      <td>2020-01-28</td>\n",
       "      <td>566.900024</td>\n",
       "    </tr>\n",
       "    <tr>\n",
       "      <th>2020-01-29</th>\n",
       "      <td>2020-01-29</td>\n",
       "      <td>580.989990</td>\n",
       "    </tr>\n",
       "    <tr>\n",
       "      <th>2020-01-30</th>\n",
       "      <td>2020-01-30</td>\n",
       "      <td>640.809998</td>\n",
       "    </tr>\n",
       "    <tr>\n",
       "      <th>2020-01-31</th>\n",
       "      <td>2020-01-31</td>\n",
       "      <td>650.570007</td>\n",
       "    </tr>\n",
       "    <tr>\n",
       "      <th>2020-02-03</th>\n",
       "      <td>2020-02-03</td>\n",
       "      <td>780.000000</td>\n",
       "    </tr>\n",
       "  </tbody>\n",
       "</table>\n",
       "<p>2416 rows × 2 columns</p>\n",
       "</div>"
      ],
      "text/plain": [
       "                 Date       Close\n",
       "Date                             \n",
       "2010-06-29 2010-06-29   23.889999\n",
       "2010-06-30 2010-06-30   23.830000\n",
       "2010-07-01 2010-07-01   21.959999\n",
       "2010-07-02 2010-07-02   19.200001\n",
       "2010-07-06 2010-07-06   16.110001\n",
       "...               ...         ...\n",
       "2020-01-28 2020-01-28  566.900024\n",
       "2020-01-29 2020-01-29  580.989990\n",
       "2020-01-30 2020-01-30  640.809998\n",
       "2020-01-31 2020-01-31  650.570007\n",
       "2020-02-03 2020-02-03  780.000000\n",
       "\n",
       "[2416 rows x 2 columns]"
      ]
     },
     "execution_count": 12,
     "metadata": {},
     "output_type": "execute_result"
    }
   ],
   "source": [
    "tesla_df"
   ]
  },
  {
   "cell_type": "code",
   "execution_count": 13,
   "id": "030bfa2b",
   "metadata": {
    "execution": {
     "iopub.execute_input": "2025-01-22T06:34:47.615800Z",
     "iopub.status.busy": "2025-01-22T06:34:47.615310Z",
     "iopub.status.idle": "2025-01-22T06:34:47.621831Z",
     "shell.execute_reply": "2025-01-22T06:34:47.620409Z"
    },
    "id": "tgPM31WBWvcH",
    "papermill": {
     "duration": 0.023832,
     "end_time": "2025-01-22T06:34:47.624085",
     "exception": false,
     "start_time": "2025-01-22T06:34:47.600253",
     "status": "completed"
    },
    "tags": []
   },
   "outputs": [],
   "source": [
    "tesla_df.drop(\"Date\", axis=1, inplace=True)"
   ]
  },
  {
   "cell_type": "code",
   "execution_count": 14,
   "id": "20c7af6e",
   "metadata": {
    "execution": {
     "iopub.execute_input": "2025-01-22T06:34:47.650767Z",
     "iopub.status.busy": "2025-01-22T06:34:47.650236Z",
     "iopub.status.idle": "2025-01-22T06:34:47.663157Z",
     "shell.execute_reply": "2025-01-22T06:34:47.661634Z"
    },
    "id": "17KdnKMGWwSm",
    "papermill": {
     "duration": 0.029235,
     "end_time": "2025-01-22T06:34:47.665648",
     "exception": false,
     "start_time": "2025-01-22T06:34:47.636413",
     "status": "completed"
    },
    "tags": []
   },
   "outputs": [
    {
     "data": {
      "text/html": [
       "<div>\n",
       "<style scoped>\n",
       "    .dataframe tbody tr th:only-of-type {\n",
       "        vertical-align: middle;\n",
       "    }\n",
       "\n",
       "    .dataframe tbody tr th {\n",
       "        vertical-align: top;\n",
       "    }\n",
       "\n",
       "    .dataframe thead th {\n",
       "        text-align: right;\n",
       "    }\n",
       "</style>\n",
       "<table border=\"1\" class=\"dataframe\">\n",
       "  <thead>\n",
       "    <tr style=\"text-align: right;\">\n",
       "      <th></th>\n",
       "      <th>Close</th>\n",
       "    </tr>\n",
       "    <tr>\n",
       "      <th>Date</th>\n",
       "      <th></th>\n",
       "    </tr>\n",
       "  </thead>\n",
       "  <tbody>\n",
       "    <tr>\n",
       "      <th>2010-06-29</th>\n",
       "      <td>23.889999</td>\n",
       "    </tr>\n",
       "    <tr>\n",
       "      <th>2010-06-30</th>\n",
       "      <td>23.830000</td>\n",
       "    </tr>\n",
       "    <tr>\n",
       "      <th>2010-07-01</th>\n",
       "      <td>21.959999</td>\n",
       "    </tr>\n",
       "    <tr>\n",
       "      <th>2010-07-02</th>\n",
       "      <td>19.200001</td>\n",
       "    </tr>\n",
       "    <tr>\n",
       "      <th>2010-07-06</th>\n",
       "      <td>16.110001</td>\n",
       "    </tr>\n",
       "    <tr>\n",
       "      <th>...</th>\n",
       "      <td>...</td>\n",
       "    </tr>\n",
       "    <tr>\n",
       "      <th>2020-01-28</th>\n",
       "      <td>566.900024</td>\n",
       "    </tr>\n",
       "    <tr>\n",
       "      <th>2020-01-29</th>\n",
       "      <td>580.989990</td>\n",
       "    </tr>\n",
       "    <tr>\n",
       "      <th>2020-01-30</th>\n",
       "      <td>640.809998</td>\n",
       "    </tr>\n",
       "    <tr>\n",
       "      <th>2020-01-31</th>\n",
       "      <td>650.570007</td>\n",
       "    </tr>\n",
       "    <tr>\n",
       "      <th>2020-02-03</th>\n",
       "      <td>780.000000</td>\n",
       "    </tr>\n",
       "  </tbody>\n",
       "</table>\n",
       "<p>2416 rows × 1 columns</p>\n",
       "</div>"
      ],
      "text/plain": [
       "                 Close\n",
       "Date                  \n",
       "2010-06-29   23.889999\n",
       "2010-06-30   23.830000\n",
       "2010-07-01   21.959999\n",
       "2010-07-02   19.200001\n",
       "2010-07-06   16.110001\n",
       "...                ...\n",
       "2020-01-28  566.900024\n",
       "2020-01-29  580.989990\n",
       "2020-01-30  640.809998\n",
       "2020-01-31  650.570007\n",
       "2020-02-03  780.000000\n",
       "\n",
       "[2416 rows x 1 columns]"
      ]
     },
     "execution_count": 14,
     "metadata": {},
     "output_type": "execute_result"
    }
   ],
   "source": [
    "tesla_df"
   ]
  },
  {
   "cell_type": "code",
   "execution_count": 15,
   "id": "81a810db",
   "metadata": {
    "execution": {
     "iopub.execute_input": "2025-01-22T06:34:47.691786Z",
     "iopub.status.busy": "2025-01-22T06:34:47.691344Z",
     "iopub.status.idle": "2025-01-22T06:34:47.697092Z",
     "shell.execute_reply": "2025-01-22T06:34:47.695742Z"
    },
    "id": "PliZ5OcsWxsF",
    "papermill": {
     "duration": 0.021707,
     "end_time": "2025-01-22T06:34:47.699597",
     "exception": false,
     "start_time": "2025-01-22T06:34:47.677890",
     "status": "completed"
    },
    "tags": []
   },
   "outputs": [],
   "source": [
    "result_df = tesla_df.copy()"
   ]
  },
  {
   "cell_type": "code",
   "execution_count": 16,
   "id": "30c32d5f",
   "metadata": {
    "execution": {
     "iopub.execute_input": "2025-01-22T06:34:47.728193Z",
     "iopub.status.busy": "2025-01-22T06:34:47.727344Z",
     "iopub.status.idle": "2025-01-22T06:34:48.120414Z",
     "shell.execute_reply": "2025-01-22T06:34:48.119268Z"
    },
    "id": "ObqHX6K2W0te",
    "papermill": {
     "duration": 0.410219,
     "end_time": "2025-01-22T06:34:48.122761",
     "exception": false,
     "start_time": "2025-01-22T06:34:47.712542",
     "status": "completed"
    },
    "tags": []
   },
   "outputs": [
    {
     "data": {
      "image/png": "[encoded data removed]",
      "text/plain": [
       "<Figure size 1400x500 with 1 Axes>"
      ]
     },
     "metadata": {},
     "output_type": "display_data"
    }
   ],
   "source": [
    "plt.figure(figsize=(14,5))\n",
    "plt.plot(tesla_df['Close'], color='blue')\n",
    "plt.title(\"Tesla Stock Price\")\n",
    "plt.xlabel(\"Time\")\n",
    "plt.ylabel(\"Stock Price\")\n",
    "plt.show()"
   ]
  },
  {
   "cell_type": "code",
   "execution_count": 17,
   "id": "c37921ac",
   "metadata": {
    "execution": {
     "iopub.execute_input": "2025-01-22T06:34:48.150573Z",
     "iopub.status.busy": "2025-01-22T06:34:48.150197Z",
     "iopub.status.idle": "2025-01-22T06:34:48.155109Z",
     "shell.execute_reply": "2025-01-22T06:34:48.154077Z"
    },
    "id": "5LWFDWjNW2z2",
    "papermill": {
     "duration": 0.02096,
     "end_time": "2025-01-22T06:34:48.157236",
     "exception": false,
     "start_time": "2025-01-22T06:34:48.136276",
     "status": "completed"
    },
    "tags": []
   },
   "outputs": [],
   "source": [
    "tesla_df = tesla_df.values"
   ]
  },
  {
   "cell_type": "code",
   "execution_count": 18,
   "id": "38a498cb",
   "metadata": {
    "execution": {
     "iopub.execute_input": "2025-01-22T06:34:48.183829Z",
     "iopub.status.busy": "2025-01-22T06:34:48.183448Z",
     "iopub.status.idle": "2025-01-22T06:34:48.190240Z",
     "shell.execute_reply": "2025-01-22T06:34:48.189227Z"
    },
    "id": "jxFZkTS-W9Mm",
    "papermill": {
     "duration": 0.022449,
     "end_time": "2025-01-22T06:34:48.192194",
     "exception": false,
     "start_time": "2025-01-22T06:34:48.169745",
     "status": "completed"
    },
    "tags": []
   },
   "outputs": [
    {
     "data": {
      "text/plain": [
       "array([[23.889999],\n",
       "       [23.83    ],\n",
       "       [21.959999],\n",
       "       [19.200001],\n",
       "       [16.110001]])"
      ]
     },
     "execution_count": 18,
     "metadata": {},
     "output_type": "execute_result"
    }
   ],
   "source": [
    "tesla_df[0:5]"
   ]
  },
  {
   "cell_type": "code",
   "execution_count": 19,
   "id": "0f024ddd",
   "metadata": {
    "execution": {
     "iopub.execute_input": "2025-01-22T06:34:48.219321Z",
     "iopub.status.busy": "2025-01-22T06:34:48.218971Z",
     "iopub.status.idle": "2025-01-22T06:34:48.223546Z",
     "shell.execute_reply": "2025-01-22T06:34:48.222438Z"
    },
    "id": "iU7KJlc4XAb2",
    "papermill": {
     "duration": 0.020524,
     "end_time": "2025-01-22T06:34:48.225518",
     "exception": false,
     "start_time": "2025-01-22T06:34:48.204994",
     "status": "completed"
    },
    "tags": []
   },
   "outputs": [],
   "source": [
    "tesla_df = tesla_df.astype(\"float32\")"
   ]
  },
  {
   "cell_type": "code",
   "execution_count": 20,
   "id": "bca32331",
   "metadata": {
    "execution": {
     "iopub.execute_input": "2025-01-22T06:34:48.252582Z",
     "iopub.status.busy": "2025-01-22T06:34:48.252231Z",
     "iopub.status.idle": "2025-01-22T06:34:48.257407Z",
     "shell.execute_reply": "2025-01-22T06:34:48.256444Z"
    },
    "id": "r7Cywk9oXBI-",
    "papermill": {
     "duration": 0.021359,
     "end_time": "2025-01-22T06:34:48.259524",
     "exception": false,
     "start_time": "2025-01-22T06:34:48.238165",
     "status": "completed"
    },
    "tags": []
   },
   "outputs": [],
   "source": [
    "def split_data(dataframe, test_size):\n",
    "  position = int(round(len(dataframe) * (1 - test_size)))\n",
    "  train = dataframe[:position]\n",
    "  test = dataframe[position:]\n",
    "  return train, test, position"
   ]
  },
  {
   "cell_type": "code",
   "execution_count": 21,
   "id": "1a37cac7",
   "metadata": {
    "execution": {
     "iopub.execute_input": "2025-01-22T06:34:48.286727Z",
     "iopub.status.busy": "2025-01-22T06:34:48.286359Z",
     "iopub.status.idle": "2025-01-22T06:34:48.290976Z",
     "shell.execute_reply": "2025-01-22T06:34:48.289962Z"
    },
    "id": "COxqfz0SZvV_",
    "papermill": {
     "duration": 0.020542,
     "end_time": "2025-01-22T06:34:48.293033",
     "exception": false,
     "start_time": "2025-01-22T06:34:48.272491",
     "status": "completed"
    },
    "tags": []
   },
   "outputs": [],
   "source": [
    "train, test, position = split_data(tesla_df, 0.20)"
   ]
  },
  {
   "cell_type": "code",
   "execution_count": 22,
   "id": "a0e41160",
   "metadata": {
    "execution": {
     "iopub.execute_input": "2025-01-22T06:34:48.320395Z",
     "iopub.status.busy": "2025-01-22T06:34:48.319554Z",
     "iopub.status.idle": "2025-01-22T06:34:48.324886Z",
     "shell.execute_reply": "2025-01-22T06:34:48.323888Z"
    },
    "id": "jESwxnt2Z1t5",
    "papermill": {
     "duration": 0.021297,
     "end_time": "2025-01-22T06:34:48.326962",
     "exception": false,
     "start_time": "2025-01-22T06:34:48.305665",
     "status": "completed"
    },
    "tags": []
   },
   "outputs": [
    {
     "name": "stdout",
     "output_type": "stream",
     "text": [
      "(1933, 1) (483, 1)\n"
     ]
    }
   ],
   "source": [
    "print(train.shape, test.shape)"
   ]
  },
  {
   "cell_type": "code",
   "execution_count": 23,
   "id": "69bec19b",
   "metadata": {
    "execution": {
     "iopub.execute_input": "2025-01-22T06:34:48.354435Z",
     "iopub.status.busy": "2025-01-22T06:34:48.354056Z",
     "iopub.status.idle": "2025-01-22T06:34:48.359030Z",
     "shell.execute_reply": "2025-01-22T06:34:48.357986Z"
    },
    "id": "wleQDdgSZ8NZ",
    "papermill": {
     "duration": 0.021355,
     "end_time": "2025-01-22T06:34:48.361062",
     "exception": false,
     "start_time": "2025-01-22T06:34:48.339707",
     "status": "completed"
    },
    "tags": []
   },
   "outputs": [],
   "source": [
    "scaler_train = MinMaxScaler(feature_range = (0,1))"
   ]
  },
  {
   "cell_type": "code",
   "execution_count": 24,
   "id": "dfe4aa28",
   "metadata": {
    "execution": {
     "iopub.execute_input": "2025-01-22T06:34:48.388970Z",
     "iopub.status.busy": "2025-01-22T06:34:48.388072Z",
     "iopub.status.idle": "2025-01-22T06:34:48.393695Z",
     "shell.execute_reply": "2025-01-22T06:34:48.392721Z"
    },
    "id": "Enf8wikDaNZh",
    "papermill": {
     "duration": 0.021497,
     "end_time": "2025-01-22T06:34:48.395585",
     "exception": false,
     "start_time": "2025-01-22T06:34:48.374088",
     "status": "completed"
    },
    "tags": []
   },
   "outputs": [],
   "source": [
    "train = scaler_train.fit_transform(train)"
   ]
  },
  {
   "cell_type": "code",
   "execution_count": 25,
   "id": "00f54008",
   "metadata": {
    "execution": {
     "iopub.execute_input": "2025-01-22T06:34:48.422660Z",
     "iopub.status.busy": "2025-01-22T06:34:48.422311Z",
     "iopub.status.idle": "2025-01-22T06:34:48.426999Z",
     "shell.execute_reply": "2025-01-22T06:34:48.425943Z"
    },
    "id": "cg-7tCn_aXTc",
    "papermill": {
     "duration": 0.020765,
     "end_time": "2025-01-22T06:34:48.429034",
     "exception": false,
     "start_time": "2025-01-22T06:34:48.408269",
     "status": "completed"
    },
    "tags": []
   },
   "outputs": [],
   "source": [
    "scaler_test = MinMaxScaler(feature_range = (0,1))"
   ]
  },
  {
   "cell_type": "code",
   "execution_count": 26,
   "id": "5cbe724b",
   "metadata": {
    "execution": {
     "iopub.execute_input": "2025-01-22T06:34:48.456846Z",
     "iopub.status.busy": "2025-01-22T06:34:48.456466Z",
     "iopub.status.idle": "2025-01-22T06:34:48.462056Z",
     "shell.execute_reply": "2025-01-22T06:34:48.461012Z"
    },
    "id": "tSbuIifiabbC",
    "papermill": {
     "duration": 0.021705,
     "end_time": "2025-01-22T06:34:48.464132",
     "exception": false,
     "start_time": "2025-01-22T06:34:48.442427",
     "status": "completed"
    },
    "tags": []
   },
   "outputs": [],
   "source": [
    "test = scaler_test.fit_transform(test)"
   ]
  },
  {
   "cell_type": "code",
   "execution_count": 27,
   "id": "b678e054",
   "metadata": {
    "execution": {
     "iopub.execute_input": "2025-01-22T06:34:48.491400Z",
     "iopub.status.busy": "2025-01-22T06:34:48.491025Z",
     "iopub.status.idle": "2025-01-22T06:34:48.497843Z",
     "shell.execute_reply": "2025-01-22T06:34:48.496830Z"
    },
    "id": "X5a7m_BEagaJ",
    "papermill": {
     "duration": 0.022951,
     "end_time": "2025-01-22T06:34:48.499986",
     "exception": false,
     "start_time": "2025-01-22T06:34:48.477035",
     "status": "completed"
    },
    "tags": []
   },
   "outputs": [
    {
     "data": {
      "text/plain": [
       "array([[0.02191224],\n",
       "       [0.02174973],\n",
       "       [0.01668472],\n",
       "       [0.0092091 ],\n",
       "       [0.00083966]], dtype=float32)"
      ]
     },
     "execution_count": 27,
     "metadata": {},
     "output_type": "execute_result"
    }
   ],
   "source": [
    "train[0:5]"
   ]
  },
  {
   "cell_type": "code",
   "execution_count": 28,
   "id": "264e5e50",
   "metadata": {
    "execution": {
     "iopub.execute_input": "2025-01-22T06:34:48.527312Z",
     "iopub.status.busy": "2025-01-22T06:34:48.526863Z",
     "iopub.status.idle": "2025-01-22T06:34:48.533463Z",
     "shell.execute_reply": "2025-01-22T06:34:48.532505Z"
    },
    "id": "AeVSy_ijahnh",
    "papermill": {
     "duration": 0.022482,
     "end_time": "2025-01-22T06:34:48.535376",
     "exception": false,
     "start_time": "2025-01-22T06:34:48.512894",
     "status": "completed"
    },
    "tags": []
   },
   "outputs": [
    {
     "data": {
      "text/plain": [
       "array([[0.25685903],\n",
       "       [0.24829045],\n",
       "       [0.25511202],\n",
       "       [0.24978784],\n",
       "       [0.2465767 ]], dtype=float32)"
      ]
     },
     "execution_count": 28,
     "metadata": {},
     "output_type": "execute_result"
    }
   ],
   "source": [
    "test[0:5]"
   ]
  },
  {
   "cell_type": "code",
   "execution_count": 29,
   "id": "11d49ed8",
   "metadata": {
    "execution": {
     "iopub.execute_input": "2025-01-22T06:34:48.563482Z",
     "iopub.status.busy": "2025-01-22T06:34:48.563136Z",
     "iopub.status.idle": "2025-01-22T06:34:48.568787Z",
     "shell.execute_reply": "2025-01-22T06:34:48.567676Z"
    },
    "id": "Gv95UqJWasHS",
    "papermill": {
     "duration": 0.022125,
     "end_time": "2025-01-22T06:34:48.571029",
     "exception": false,
     "start_time": "2025-01-22T06:34:48.548904",
     "status": "completed"
    },
    "tags": []
   },
   "outputs": [],
   "source": [
    "def create_features(data, lookback):\n",
    "  X, Y = [], []\n",
    "  for i in range(lookback, len(data)):\n",
    "    X.append(data[i-lookback:i,0])\n",
    "    Y.append(data[i,0])\n",
    "\n",
    "  return np.array(X), np.array(Y)"
   ]
  },
  {
   "cell_type": "code",
   "execution_count": 30,
   "id": "d5212db9",
   "metadata": {
    "execution": {
     "iopub.execute_input": "2025-01-22T06:34:48.599390Z",
     "iopub.status.busy": "2025-01-22T06:34:48.599012Z",
     "iopub.status.idle": "2025-01-22T06:34:48.603730Z",
     "shell.execute_reply": "2025-01-22T06:34:48.602730Z"
    },
    "id": "e36Ux4_CbASm",
    "papermill": {
     "duration": 0.021494,
     "end_time": "2025-01-22T06:34:48.605781",
     "exception": false,
     "start_time": "2025-01-22T06:34:48.584287",
     "status": "completed"
    },
    "tags": []
   },
   "outputs": [],
   "source": [
    "lookback = 20"
   ]
  },
  {
   "cell_type": "code",
   "execution_count": 31,
   "id": "e6088521",
   "metadata": {
    "execution": {
     "iopub.execute_input": "2025-01-22T06:34:48.634476Z",
     "iopub.status.busy": "2025-01-22T06:34:48.633837Z",
     "iopub.status.idle": "2025-01-22T06:34:48.641058Z",
     "shell.execute_reply": "2025-01-22T06:34:48.640178Z"
    },
    "id": "Xd8JMdaWbCzp",
    "papermill": {
     "duration": 0.024051,
     "end_time": "2025-01-22T06:34:48.642916",
     "exception": false,
     "start_time": "2025-01-22T06:34:48.618865",
     "status": "completed"
    },
    "tags": []
   },
   "outputs": [],
   "source": [
    "X_train, y_train = create_features(train, lookback)"
   ]
  },
  {
   "cell_type": "code",
   "execution_count": 32,
   "id": "fc178480",
   "metadata": {
    "execution": {
     "iopub.execute_input": "2025-01-22T06:34:48.725253Z",
     "iopub.status.busy": "2025-01-22T06:34:48.724315Z",
     "iopub.status.idle": "2025-01-22T06:34:48.729863Z",
     "shell.execute_reply": "2025-01-22T06:34:48.729096Z"
    },
    "id": "wHgq8DT5bF_Z",
    "papermill": {
     "duration": 0.075713,
     "end_time": "2025-01-22T06:34:48.731828",
     "exception": false,
     "start_time": "2025-01-22T06:34:48.656115",
     "status": "completed"
    },
    "tags": []
   },
   "outputs": [],
   "source": [
    "X_test, y_test = create_features(test, lookback)"
   ]
  },
  {
   "cell_type": "code",
   "execution_count": 33,
   "id": "b506eb7a",
   "metadata": {
    "execution": {
     "iopub.execute_input": "2025-01-22T06:34:48.759819Z",
     "iopub.status.busy": "2025-01-22T06:34:48.758960Z",
     "iopub.status.idle": "2025-01-22T06:34:48.764602Z",
     "shell.execute_reply": "2025-01-22T06:34:48.763494Z"
    },
    "id": "zYQy_33TbKdb",
    "papermill": {
     "duration": 0.021807,
     "end_time": "2025-01-22T06:34:48.766569",
     "exception": false,
     "start_time": "2025-01-22T06:34:48.744762",
     "status": "completed"
    },
    "tags": []
   },
   "outputs": [
    {
     "name": "stdout",
     "output_type": "stream",
     "text": [
      "(1913, 20) (1913,) (463, 20) (463,)\n"
     ]
    }
   ],
   "source": [
    "print(X_train.shape, y_train.shape, X_test.shape, y_test.shape)"
   ]
  },
  {
   "cell_type": "code",
   "execution_count": 34,
   "id": "92274ee4",
   "metadata": {
    "execution": {
     "iopub.execute_input": "2025-01-22T06:34:48.794491Z",
     "iopub.status.busy": "2025-01-22T06:34:48.793813Z",
     "iopub.status.idle": "2025-01-22T06:34:48.801041Z",
     "shell.execute_reply": "2025-01-22T06:34:48.800059Z"
    },
    "id": "sI1k-K6bTKuw",
    "papermill": {
     "duration": 0.023854,
     "end_time": "2025-01-22T06:34:48.803461",
     "exception": false,
     "start_time": "2025-01-22T06:34:48.779607",
     "status": "completed"
    },
    "tags": []
   },
   "outputs": [
    {
     "data": {
      "text/plain": [
       "array([[0.02191224, 0.02174973, 0.01668472, 0.0092091 , 0.00083966,\n",
       "        0.        , 0.00449621, 0.00433369, 0.0033857 , 0.00633803,\n",
       "        0.01094258, 0.011078  , 0.01310942, 0.0165493 , 0.01218851,\n",
       "        0.01197183, 0.01408451, 0.01486999, 0.01394908, 0.01286566],\n",
       "       [0.02174973, 0.01668472, 0.0092091 , 0.00083966, 0.        ,\n",
       "        0.00449621, 0.00433369, 0.0033857 , 0.00633803, 0.01094258,\n",
       "        0.011078  , 0.01310942, 0.0165493 , 0.01218851, 0.01197183,\n",
       "        0.01408451, 0.01486999, 0.01394908, 0.01286566, 0.01332611],\n",
       "       [0.01668472, 0.0092091 , 0.00083966, 0.        , 0.00449621,\n",
       "        0.00433369, 0.0033857 , 0.00633803, 0.01094258, 0.011078  ,\n",
       "        0.01310942, 0.0165493 , 0.01218851, 0.01197183, 0.01408451,\n",
       "        0.01486999, 0.01394908, 0.01286566, 0.01332611, 0.01232395],\n",
       "       [0.0092091 , 0.00083966, 0.        , 0.00449621, 0.00433369,\n",
       "        0.0033857 , 0.00633803, 0.01094258, 0.011078  , 0.01310942,\n",
       "        0.0165493 , 0.01218851, 0.01197183, 0.01408451, 0.01486999,\n",
       "        0.01394908, 0.01286566, 0.01332611, 0.01232395, 0.01121344],\n",
       "       [0.00083966, 0.        , 0.00449621, 0.00433369, 0.0033857 ,\n",
       "        0.00633803, 0.01094258, 0.011078  , 0.01310942, 0.0165493 ,\n",
       "        0.01218851, 0.01197183, 0.01408451, 0.01486999, 0.01394908,\n",
       "        0.01286566, 0.01332611, 0.01232395, 0.01121344, 0.01386782]],\n",
       "      dtype=float32)"
      ]
     },
     "execution_count": 34,
     "metadata": {},
     "output_type": "execute_result"
    }
   ],
   "source": [
    "X_train[0:5]"
   ]
  },
  {
   "cell_type": "code",
   "execution_count": 35,
   "id": "3877149b",
   "metadata": {
    "execution": {
     "iopub.execute_input": "2025-01-22T06:34:48.833294Z",
     "iopub.status.busy": "2025-01-22T06:34:48.832448Z",
     "iopub.status.idle": "2025-01-22T06:34:48.839373Z",
     "shell.execute_reply": "2025-01-22T06:34:48.838113Z"
    },
    "id": "vY5hCVQHTg9u",
    "papermill": {
     "duration": 0.023876,
     "end_time": "2025-01-22T06:34:48.841565",
     "exception": false,
     "start_time": "2025-01-22T06:34:48.817689",
     "status": "completed"
    },
    "tags": []
   },
   "outputs": [
    {
     "data": {
      "text/plain": [
       "array([0.01332611, 0.01232395, 0.01121344, 0.01386782, 0.01665764],\n",
       "      dtype=float32)"
      ]
     },
     "execution_count": 35,
     "metadata": {},
     "output_type": "execute_result"
    }
   ],
   "source": [
    "y_train[0:5]"
   ]
  },
  {
   "cell_type": "code",
   "execution_count": 36,
   "id": "746f67de",
   "metadata": {
    "execution": {
     "iopub.execute_input": "2025-01-22T06:34:48.869883Z",
     "iopub.status.busy": "2025-01-22T06:34:48.869222Z",
     "iopub.status.idle": "2025-01-22T06:34:48.875032Z",
     "shell.execute_reply": "2025-01-22T06:34:48.874005Z"
    },
    "id": "yvf-4kLybad5",
    "papermill": {
     "duration": 0.022182,
     "end_time": "2025-01-22T06:34:48.877023",
     "exception": false,
     "start_time": "2025-01-22T06:34:48.854841",
     "status": "completed"
    },
    "tags": []
   },
   "outputs": [],
   "source": [
    "X_train = np.reshape(X_train, (X_train.shape[0], 1, X_train.shape[1]))\n",
    "X_test = np.reshape(X_test, (X_test.shape[0], 1, X_test.shape[1]))\n",
    "y_train = y_train.reshape(-1,1)\n",
    "y_test = y_test.reshape(-1,1)"
   ]
  },
  {
   "cell_type": "code",
   "execution_count": 37,
   "id": "2848f37b",
   "metadata": {
    "execution": {
     "iopub.execute_input": "2025-01-22T06:34:48.905262Z",
     "iopub.status.busy": "2025-01-22T06:34:48.904871Z",
     "iopub.status.idle": "2025-01-22T06:34:48.909984Z",
     "shell.execute_reply": "2025-01-22T06:34:48.909014Z"
    },
    "id": "D2ltv0Edb3wz",
    "papermill": {
     "duration": 0.021654,
     "end_time": "2025-01-22T06:34:48.912107",
     "exception": false,
     "start_time": "2025-01-22T06:34:48.890453",
     "status": "completed"
    },
    "tags": []
   },
   "outputs": [
    {
     "name": "stdout",
     "output_type": "stream",
     "text": [
      "(1913, 1, 20) (1913, 1) (463, 1, 20) (463, 1)\n"
     ]
    }
   ],
   "source": [
    "print(X_train.shape, y_train.shape, X_test.shape, y_test.shape)"
   ]
  },
  {
   "cell_type": "markdown",
   "id": "6aac4839",
   "metadata": {
    "id": "DtsN3xazcIAn",
    "papermill": {
     "duration": 0.012846,
     "end_time": "2025-01-22T06:34:48.938514",
     "exception": false,
     "start_time": "2025-01-22T06:34:48.925668",
     "status": "completed"
    },
    "tags": []
   },
   "source": [
    "## Modelling"
   ]
  },
  {
   "cell_type": "code",
   "execution_count": 38,
   "id": "78b337c0",
   "metadata": {
    "execution": {
     "iopub.execute_input": "2025-01-22T06:34:48.966630Z",
     "iopub.status.busy": "2025-01-22T06:34:48.966288Z",
     "iopub.status.idle": "2025-01-22T06:34:49.092962Z",
     "shell.execute_reply": "2025-01-22T06:34:49.091786Z"
    },
    "id": "QtbQx4G9cI_z",
    "papermill": {
     "duration": 0.143758,
     "end_time": "2025-01-22T06:34:49.095413",
     "exception": false,
     "start_time": "2025-01-22T06:34:48.951655",
     "status": "completed"
    },
    "tags": []
   },
   "outputs": [],
   "source": [
    "model = Sequential()\n",
    "\n",
    "model.add(LSTM(units = 50,\n",
    "                    activation = 'relu',\n",
    "                    input_shape=(X_train.shape[1], lookback)))\n",
    "\n",
    "model.add(Dropout(0.2))\n",
    "\n",
    "model.add(Dense(1))\n"
   ]
  },
  {
   "cell_type": "code",
   "execution_count": 39,
   "id": "bc47b0ec",
   "metadata": {
    "execution": {
     "iopub.execute_input": "2025-01-22T06:34:49.134874Z",
     "iopub.status.busy": "2025-01-22T06:34:49.134429Z",
     "iopub.status.idle": "2025-01-22T06:34:49.156379Z",
     "shell.execute_reply": "2025-01-22T06:34:49.155308Z"
    },
    "id": "RQFXIkDbciE6",
    "papermill": {
     "duration": 0.039928,
     "end_time": "2025-01-22T06:34:49.158488",
     "exception": false,
     "start_time": "2025-01-22T06:34:49.118560",
     "status": "completed"
    },
    "tags": []
   },
   "outputs": [
    {
     "data": {
      "text/html": [
       "<pre style=\"white-space:pre;overflow-x:auto;line-height:normal;font-family:Menlo,'DejaVu Sans Mono',consolas,'Courier New',monospace\"><span style=\"font-weight: bold\">Model: \"sequential\"</span>\n",
       "</pre>\n"
      ],
      "text/plain": [
       "\u001b[1mModel: \"sequential\"\u001b[0m\n"
      ]
     },
     "metadata": {},
     "output_type": "display_data"
    },
    {
     "data": {
      "text/html": [
       "<pre style=\"white-space:pre;overflow-x:auto;line-height:normal;font-family:Menlo,'DejaVu Sans Mono',consolas,'Courier New',monospace\">┏━━━━━━━━━━━━━━━━━━━━━━━━━━━━━━━━━┳━━━━━━━━━━━━━━━━━━━━━━━━┳━━━━━━━━━━━━━━━┓\n",
       "┃<span style=\"font-weight: bold\"> Layer (type)                    </span>┃<span style=\"font-weight: bold\"> Output Shape           </span>┃<span style=\"font-weight: bold\">       Param # </span>┃\n",
       "┡━━━━━━━━━━━━━━━━━━━━━━━━━━━━━━━━━╇━━━━━━━━━━━━━━━━━━━━━━━━╇━━━━━━━━━━━━━━━┩\n",
       "│ lstm (<span style=\"color: #0087ff; text-decoration-color: #0087ff\">LSTM</span>)                     │ (<span style=\"color: #00d7ff; text-decoration-color: #00d7ff\">None</span>, <span style=\"color: #00af00; text-decoration-color: #00af00\">50</span>)             │        <span style=\"color: #00af00; text-decoration-color: #00af00\">14,200</span> │\n",
       "├─────────────────────────────────┼────────────────────────┼───────────────┤\n",
       "│ dropout (<span style=\"color: #0087ff; text-decoration-color: #0087ff\">Dropout</span>)               │ (<span style=\"color: #00d7ff; text-decoration-color: #00d7ff\">None</span>, <span style=\"color: #00af00; text-decoration-color: #00af00\">50</span>)             │             <span style=\"color: #00af00; text-decoration-color: #00af00\">0</span> │\n",
       "├─────────────────────────────────┼────────────────────────┼───────────────┤\n",
       "│ dense (<span style=\"color: #0087ff; text-decoration-color: #0087ff\">Dense</span>)                   │ (<span style=\"color: #00d7ff; text-decoration-color: #00d7ff\">None</span>, <span style=\"color: #00af00; text-decoration-color: #00af00\">1</span>)              │            <span style=\"color: #00af00; text-decoration-color: #00af00\">51</span> │\n",
       "└─────────────────────────────────┴────────────────────────┴───────────────┘\n",
       "</pre>\n"
      ],
      "text/plain": [
       "┏━━━━━━━━━━━━━━━━━━━━━━━━━━━━━━━━━┳━━━━━━━━━━━━━━━━━━━━━━━━┳━━━━━━━━━━━━━━━┓\n",
       "┃\u001b[1m \u001b[0m\u001b[1mLayer (type)                   \u001b[0m\u001b[1m \u001b[0m┃\u001b[1m \u001b[0m\u001b[1mOutput Shape          \u001b[0m\u001b[1m \u001b[0m┃\u001b[1m \u001b[0m\u001b[1m      Param #\u001b[0m\u001b[1m \u001b[0m┃\n",
       "┡━━━━━━━━━━━━━━━━━━━━━━━━━━━━━━━━━╇━━━━━━━━━━━━━━━━━━━━━━━━╇━━━━━━━━━━━━━━━┩\n",
       "│ lstm (\u001b[38;5;33mLSTM\u001b[0m)                     │ (\u001b[38;5;45mNone\u001b[0m, \u001b[38;5;34m50\u001b[0m)             │        \u001b[38;5;34m14,200\u001b[0m │\n",
       "├─────────────────────────────────┼────────────────────────┼───────────────┤\n",
       "│ dropout (\u001b[38;5;33mDropout\u001b[0m)               │ (\u001b[38;5;45mNone\u001b[0m, \u001b[38;5;34m50\u001b[0m)             │             \u001b[38;5;34m0\u001b[0m │\n",
       "├─────────────────────────────────┼────────────────────────┼───────────────┤\n",
       "│ dense (\u001b[38;5;33mDense\u001b[0m)                   │ (\u001b[38;5;45mNone\u001b[0m, \u001b[38;5;34m1\u001b[0m)              │            \u001b[38;5;34m51\u001b[0m │\n",
       "└─────────────────────────────────┴────────────────────────┴───────────────┘\n"
      ]
     },
     "metadata": {},
     "output_type": "display_data"
    },
    {
     "data": {
      "text/html": [
       "<pre style=\"white-space:pre;overflow-x:auto;line-height:normal;font-family:Menlo,'DejaVu Sans Mono',consolas,'Courier New',monospace\"><span style=\"font-weight: bold\"> Total params: </span><span style=\"color: #00af00; text-decoration-color: #00af00\">14,251</span> (55.67 KB)\n",
       "</pre>\n"
      ],
      "text/plain": [
       "\u001b[1m Total params: \u001b[0m\u001b[38;5;34m14,251\u001b[0m (55.67 KB)\n"
      ]
     },
     "metadata": {},
     "output_type": "display_data"
    },
    {
     "data": {
      "text/html": [
       "<pre style=\"white-space:pre;overflow-x:auto;line-height:normal;font-family:Menlo,'DejaVu Sans Mono',consolas,'Courier New',monospace\"><span style=\"font-weight: bold\"> Trainable params: </span><span style=\"color: #00af00; text-decoration-color: #00af00\">14,251</span> (55.67 KB)\n",
       "</pre>\n"
      ],
      "text/plain": [
       "\u001b[1m Trainable params: \u001b[0m\u001b[38;5;34m14,251\u001b[0m (55.67 KB)\n"
      ]
     },
     "metadata": {},
     "output_type": "display_data"
    },
    {
     "data": {
      "text/html": [
       "<pre style=\"white-space:pre;overflow-x:auto;line-height:normal;font-family:Menlo,'DejaVu Sans Mono',consolas,'Courier New',monospace\"><span style=\"font-weight: bold\"> Non-trainable params: </span><span style=\"color: #00af00; text-decoration-color: #00af00\">0</span> (0.00 B)\n",
       "</pre>\n"
      ],
      "text/plain": [
       "\u001b[1m Non-trainable params: \u001b[0m\u001b[38;5;34m0\u001b[0m (0.00 B)\n"
      ]
     },
     "metadata": {},
     "output_type": "display_data"
    }
   ],
   "source": [
    "model.summary()"
   ]
  },
  {
   "cell_type": "code",
   "execution_count": 40,
   "id": "521f9c30",
   "metadata": {
    "execution": {
     "iopub.execute_input": "2025-01-22T06:34:49.189991Z",
     "iopub.status.busy": "2025-01-22T06:34:49.189514Z",
     "iopub.status.idle": "2025-01-22T06:34:49.206418Z",
     "shell.execute_reply": "2025-01-22T06:34:49.205197Z"
    },
    "id": "NE6_O7IwclkT",
    "papermill": {
     "duration": 0.035754,
     "end_time": "2025-01-22T06:34:49.209082",
     "exception": false,
     "start_time": "2025-01-22T06:34:49.173328",
     "status": "completed"
    },
    "tags": []
   },
   "outputs": [],
   "source": [
    "model.compile(loss='mean_squared_error', optimizer='adam')"
   ]
  },
  {
   "cell_type": "code",
   "execution_count": 41,
   "id": "810f48e6",
   "metadata": {
    "execution": {
     "iopub.execute_input": "2025-01-22T06:34:49.239240Z",
     "iopub.status.busy": "2025-01-22T06:34:49.238776Z",
     "iopub.status.idle": "2025-01-22T06:34:49.244660Z",
     "shell.execute_reply": "2025-01-22T06:34:49.243449Z"
    },
    "id": "JLqjYZudc3Is",
    "papermill": {
     "duration": 0.024006,
     "end_time": "2025-01-22T06:34:49.247457",
     "exception": false,
     "start_time": "2025-01-22T06:34:49.223451",
     "status": "completed"
    },
    "tags": []
   },
   "outputs": [],
   "source": [
    "callbacks = (EarlyStopping(monitor='val_loss', patience=10, verbose=1, mode='min'),\n",
    "            ModelCheckpoint(filepath='mymodel.keras', monitor='val_loss', mode='min',\n",
    "            save_best_only = True, save_weights_only = False, verbose = 1))"
   ]
  },
  {
   "cell_type": "code",
   "execution_count": 42,
   "id": "758b7fb6",
   "metadata": {
    "execution": {
     "iopub.execute_input": "2025-01-22T06:34:49.278267Z",
     "iopub.status.busy": "2025-01-22T06:34:49.277800Z",
     "iopub.status.idle": "2025-01-22T06:34:58.927980Z",
     "shell.execute_reply": "2025-01-22T06:34:58.926773Z"
    },
    "id": "7Pv-Fb9FdSf7",
    "papermill": {
     "duration": 9.668389,
     "end_time": "2025-01-22T06:34:58.930271",
     "exception": false,
     "start_time": "2025-01-22T06:34:49.261882",
     "status": "completed"
    },
    "tags": []
   },
   "outputs": [
    {
     "name": "stdout",
     "output_type": "stream",
     "text": [
      "Epoch 1/100\n",
      "\u001b[1m80/96\u001b[0m \u001b[32m━━━━━━━━━━━━━━━━\u001b[0m\u001b[37m━━━━\u001b[0m \u001b[1m0s\u001b[0m 3ms/step - loss: 0.0032\n",
      "Epoch 1: val_loss improved from inf to 0.00421, saving model to mymodel.keras\n",
      "\u001b[1m96/96\u001b[0m \u001b[32m━━━━━━━━━━━━━━━━━━━━\u001b[0m\u001b[37m\u001b[0m \u001b[1m2s\u001b[0m 6ms/step - loss: 0.0039 - val_loss: 0.0042\n",
      "Epoch 2/100\n",
      "\u001b[1m81/96\u001b[0m \u001b[32m━━━━━━━━━━━━━━━━\u001b[0m\u001b[37m━━━━\u001b[0m \u001b[1m0s\u001b[0m 3ms/step - loss: 0.0037\n",
      "Epoch 2: val_loss improved from 0.00421 to 0.00353, saving model to mymodel.keras\n",
      "\u001b[1m96/96\u001b[0m \u001b[32m━━━━━━━━━━━━━━━━━━━━\u001b[0m\u001b[37m\u001b[0m \u001b[1m0s\u001b[0m 3ms/step - loss: 0.0040 - val_loss: 0.0035\n",
      "Epoch 3/100\n",
      "\u001b[1m79/96\u001b[0m \u001b[32m━━━━━━━━━━━━━━━━\u001b[0m\u001b[37m━━━━\u001b[0m \u001b[1m0s\u001b[0m 2ms/step - loss: 0.0023\n",
      "Epoch 3: val_loss improved from 0.00353 to 0.00345, saving model to mymodel.keras\n",
      "\u001b[1m96/96\u001b[0m \u001b[32m━━━━━━━━━━━━━━━━━━━━\u001b[0m\u001b[37m\u001b[0m \u001b[1m0s\u001b[0m 3ms/step - loss: 0.0027 - val_loss: 0.0034\n",
      "Epoch 4/100\n",
      "\u001b[1m83/96\u001b[0m \u001b[32m━━━━━━━━━━━━━━━━━\u001b[0m\u001b[37m━━━\u001b[0m \u001b[1m0s\u001b[0m 2ms/step - loss: 0.0018\n",
      "Epoch 4: val_loss improved from 0.00345 to 0.00298, saving model to mymodel.keras\n",
      "\u001b[1m96/96\u001b[0m \u001b[32m━━━━━━━━━━━━━━━━━━━━\u001b[0m\u001b[37m\u001b[0m \u001b[1m0s\u001b[0m 3ms/step - loss: 0.0021 - val_loss: 0.0030\n",
      "Epoch 5/100\n",
      "\u001b[1m79/96\u001b[0m \u001b[32m━━━━━━━━━━━━━━━━\u001b[0m\u001b[37m━━━━\u001b[0m \u001b[1m0s\u001b[0m 2ms/step - loss: 0.0013    \n",
      "Epoch 5: val_loss did not improve from 0.00298\n",
      "\u001b[1m96/96\u001b[0m \u001b[32m━━━━━━━━━━━━━━━━━━━━\u001b[0m\u001b[37m\u001b[0m \u001b[1m0s\u001b[0m 3ms/step - loss: 0.0017 - val_loss: 0.0031\n",
      "Epoch 6/100\n",
      "\u001b[1m71/96\u001b[0m \u001b[32m━━━━━━━━━━━━━━\u001b[0m\u001b[37m━━━━━━\u001b[0m \u001b[1m0s\u001b[0m 2ms/step - loss: 9.6011e-04\n",
      "Epoch 6: val_loss improved from 0.00298 to 0.00287, saving model to mymodel.keras\n",
      "\u001b[1m96/96\u001b[0m \u001b[32m━━━━━━━━━━━━━━━━━━━━\u001b[0m\u001b[37m\u001b[0m \u001b[1m0s\u001b[0m 3ms/step - loss: 0.0015 - val_loss: 0.0029\n",
      "Epoch 7/100\n",
      "\u001b[1m74/96\u001b[0m \u001b[32m━━━━━━━━━━━━━━━\u001b[0m\u001b[37m━━━━━\u001b[0m \u001b[1m0s\u001b[0m 2ms/step - loss: 7.9176e-04\n",
      "Epoch 7: val_loss improved from 0.00287 to 0.00254, saving model to mymodel.keras\n",
      "\u001b[1m96/96\u001b[0m \u001b[32m━━━━━━━━━━━━━━━━━━━━\u001b[0m\u001b[37m\u001b[0m \u001b[1m0s\u001b[0m 3ms/step - loss: 0.0013 - val_loss: 0.0025\n",
      "Epoch 8/100\n",
      "\u001b[1m81/96\u001b[0m \u001b[32m━━━━━━━━━━━━━━━━\u001b[0m\u001b[37m━━━━\u001b[0m \u001b[1m0s\u001b[0m 2ms/step - loss: 0.0013    \n",
      "Epoch 8: val_loss did not improve from 0.00254\n",
      "\u001b[1m96/96\u001b[0m \u001b[32m━━━━━━━━━━━━━━━━━━━━\u001b[0m\u001b[37m\u001b[0m \u001b[1m0s\u001b[0m 2ms/step - loss: 0.0016 - val_loss: 0.0027\n",
      "Epoch 9/100\n",
      "\u001b[1m81/96\u001b[0m \u001b[32m━━━━━━━━━━━━━━━━\u001b[0m\u001b[37m━━━━\u001b[0m \u001b[1m0s\u001b[0m 2ms/step - loss: 9.5816e-04\n",
      "Epoch 9: val_loss improved from 0.00254 to 0.00237, saving model to mymodel.keras\n",
      "\u001b[1m96/96\u001b[0m \u001b[32m━━━━━━━━━━━━━━━━━━━━\u001b[0m\u001b[37m\u001b[0m \u001b[1m0s\u001b[0m 3ms/step - loss: 0.0013 - val_loss: 0.0024\n",
      "Epoch 10/100\n",
      "\u001b[1m76/96\u001b[0m \u001b[32m━━━━━━━━━━━━━━━\u001b[0m\u001b[37m━━━━━\u001b[0m \u001b[1m0s\u001b[0m 2ms/step - loss: 0.0011    \n",
      "Epoch 10: val_loss improved from 0.00237 to 0.00230, saving model to mymodel.keras\n",
      "\u001b[1m96/96\u001b[0m \u001b[32m━━━━━━━━━━━━━━━━━━━━\u001b[0m\u001b[37m\u001b[0m \u001b[1m0s\u001b[0m 3ms/step - loss: 0.0014 - val_loss: 0.0023\n",
      "Epoch 11/100\n",
      "\u001b[1m80/96\u001b[0m \u001b[32m━━━━━━━━━━━━━━━━\u001b[0m\u001b[37m━━━━\u001b[0m \u001b[1m0s\u001b[0m 2ms/step - loss: 0.0012    \n",
      "Epoch 11: val_loss improved from 0.00230 to 0.00220, saving model to mymodel.keras\n",
      "\u001b[1m96/96\u001b[0m \u001b[32m━━━━━━━━━━━━━━━━━━━━\u001b[0m\u001b[37m\u001b[0m \u001b[1m0s\u001b[0m 3ms/step - loss: 0.0016 - val_loss: 0.0022\n",
      "Epoch 12/100\n",
      "\u001b[1m84/96\u001b[0m \u001b[32m━━━━━━━━━━━━━━━━━\u001b[0m\u001b[37m━━━\u001b[0m \u001b[1m0s\u001b[0m 2ms/step - loss: 0.0011    \n",
      "Epoch 12: val_loss improved from 0.00220 to 0.00209, saving model to mymodel.keras\n",
      "\u001b[1m96/96\u001b[0m \u001b[32m━━━━━━━━━━━━━━━━━━━━\u001b[0m\u001b[37m\u001b[0m \u001b[1m0s\u001b[0m 3ms/step - loss: 0.0014 - val_loss: 0.0021\n",
      "Epoch 13/100\n",
      "\u001b[1m81/96\u001b[0m \u001b[32m━━━━━━━━━━━━━━━━\u001b[0m\u001b[37m━━━━\u001b[0m \u001b[1m0s\u001b[0m 2ms/step - loss: 0.0011    \n",
      "Epoch 13: val_loss improved from 0.00209 to 0.00187, saving model to mymodel.keras\n",
      "\u001b[1m96/96\u001b[0m \u001b[32m━━━━━━━━━━━━━━━━━━━━\u001b[0m\u001b[37m\u001b[0m \u001b[1m0s\u001b[0m 3ms/step - loss: 0.0014 - val_loss: 0.0019\n",
      "Epoch 14/100\n",
      "\u001b[1m80/96\u001b[0m \u001b[32m━━━━━━━━━━━━━━━━\u001b[0m\u001b[37m━━━━\u001b[0m \u001b[1m0s\u001b[0m 2ms/step - loss: 9.9414e-04\n",
      "Epoch 14: val_loss improved from 0.00187 to 0.00187, saving model to mymodel.keras\n",
      "\u001b[1m96/96\u001b[0m \u001b[32m━━━━━━━━━━━━━━━━━━━━\u001b[0m\u001b[37m\u001b[0m \u001b[1m0s\u001b[0m 3ms/step - loss: 0.0013 - val_loss: 0.0019\n",
      "Epoch 15/100\n",
      "\u001b[1m77/96\u001b[0m \u001b[32m━━━━━━━━━━━━━━━━\u001b[0m\u001b[37m━━━━\u001b[0m \u001b[1m0s\u001b[0m 2ms/step - loss: 9.4260e-04\n",
      "Epoch 15: val_loss improved from 0.00187 to 0.00184, saving model to mymodel.keras\n",
      "\u001b[1m96/96\u001b[0m \u001b[32m━━━━━━━━━━━━━━━━━━━━\u001b[0m\u001b[37m\u001b[0m \u001b[1m0s\u001b[0m 3ms/step - loss: 0.0012 - val_loss: 0.0018\n",
      "Epoch 16/100\n",
      "\u001b[1m95/96\u001b[0m \u001b[32m━━━━━━━━━━━━━━━━━━━\u001b[0m\u001b[37m━\u001b[0m \u001b[1m0s\u001b[0m 2ms/step - loss: 0.0013    \n",
      "Epoch 16: val_loss did not improve from 0.00184\n",
      "\u001b[1m96/96\u001b[0m \u001b[32m━━━━━━━━━━━━━━━━━━━━\u001b[0m\u001b[37m\u001b[0m \u001b[1m0s\u001b[0m 3ms/step - loss: 0.0013 - val_loss: 0.0023\n",
      "Epoch 17/100\n",
      "\u001b[1m71/96\u001b[0m \u001b[32m━━━━━━━━━━━━━━\u001b[0m\u001b[37m━━━━━━\u001b[0m \u001b[1m0s\u001b[0m 2ms/step - loss: 0.0010    \n",
      "Epoch 17: val_loss improved from 0.00184 to 0.00175, saving model to mymodel.keras\n",
      "\u001b[1m96/96\u001b[0m \u001b[32m━━━━━━━━━━━━━━━━━━━━\u001b[0m\u001b[37m\u001b[0m \u001b[1m0s\u001b[0m 3ms/step - loss: 0.0013 - val_loss: 0.0017\n",
      "Epoch 18/100\n",
      "\u001b[1m83/96\u001b[0m \u001b[32m━━━━━━━━━━━━━━━━━\u001b[0m\u001b[37m━━━\u001b[0m \u001b[1m0s\u001b[0m 2ms/step - loss: 0.0010    \n",
      "Epoch 18: val_loss did not improve from 0.00175\n",
      "\u001b[1m96/96\u001b[0m \u001b[32m━━━━━━━━━━━━━━━━━━━━\u001b[0m\u001b[37m\u001b[0m \u001b[1m0s\u001b[0m 2ms/step - loss: 0.0013 - val_loss: 0.0028\n",
      "Epoch 19/100\n",
      "\u001b[1m78/96\u001b[0m \u001b[32m━━━━━━━━━━━━━━━━\u001b[0m\u001b[37m━━━━\u001b[0m \u001b[1m0s\u001b[0m 2ms/step - loss: 0.0012    \n",
      "Epoch 19: val_loss did not improve from 0.00175\n",
      "\u001b[1m96/96\u001b[0m \u001b[32m━━━━━━━━━━━━━━━━━━━━\u001b[0m\u001b[37m\u001b[0m \u001b[1m0s\u001b[0m 2ms/step - loss: 0.0015 - val_loss: 0.0027\n",
      "Epoch 20/100\n",
      "\u001b[1m80/96\u001b[0m \u001b[32m━━━━━━━━━━━━━━━━\u001b[0m\u001b[37m━━━━\u001b[0m \u001b[1m0s\u001b[0m 2ms/step - loss: 0.0011    \n",
      "Epoch 20: val_loss did not improve from 0.00175\n",
      "\u001b[1m96/96\u001b[0m \u001b[32m━━━━━━━━━━━━━━━━━━━━\u001b[0m\u001b[37m\u001b[0m \u001b[1m0s\u001b[0m 3ms/step - loss: 0.0014 - val_loss: 0.0030\n",
      "Epoch 21/100\n",
      "\u001b[1m79/96\u001b[0m \u001b[32m━━━━━━━━━━━━━━━━\u001b[0m\u001b[37m━━━━\u001b[0m \u001b[1m0s\u001b[0m 2ms/step - loss: 0.0012    \n",
      "Epoch 21: val_loss did not improve from 0.00175\n",
      "\u001b[1m96/96\u001b[0m \u001b[32m━━━━━━━━━━━━━━━━━━━━\u001b[0m\u001b[37m\u001b[0m \u001b[1m0s\u001b[0m 2ms/step - loss: 0.0015 - val_loss: 0.0033\n",
      "Epoch 22/100\n",
      "\u001b[1m82/96\u001b[0m \u001b[32m━━━━━━━━━━━━━━━━━\u001b[0m\u001b[37m━━━\u001b[0m \u001b[1m0s\u001b[0m 2ms/step - loss: 0.0012    \n",
      "Epoch 22: val_loss did not improve from 0.00175\n",
      "\u001b[1m96/96\u001b[0m \u001b[32m━━━━━━━━━━━━━━━━━━━━\u001b[0m\u001b[37m\u001b[0m \u001b[1m0s\u001b[0m 2ms/step - loss: 0.0014 - val_loss: 0.0037\n",
      "Epoch 23/100\n",
      "\u001b[1m81/96\u001b[0m \u001b[32m━━━━━━━━━━━━━━━━\u001b[0m\u001b[37m━━━━\u001b[0m \u001b[1m0s\u001b[0m 2ms/step - loss: 0.0011    \n",
      "Epoch 23: val_loss did not improve from 0.00175\n",
      "\u001b[1m96/96\u001b[0m \u001b[32m━━━━━━━━━━━━━━━━━━━━\u001b[0m\u001b[37m\u001b[0m \u001b[1m0s\u001b[0m 3ms/step - loss: 0.0014 - val_loss: 0.0047\n",
      "Epoch 24/100\n",
      "\u001b[1m78/96\u001b[0m \u001b[32m━━━━━━━━━━━━━━━━\u001b[0m\u001b[37m━━━━\u001b[0m \u001b[1m0s\u001b[0m 2ms/step - loss: 0.0013    \n",
      "Epoch 24: val_loss did not improve from 0.00175\n",
      "\u001b[1m96/96\u001b[0m \u001b[32m━━━━━━━━━━━━━━━━━━━━\u001b[0m\u001b[37m\u001b[0m \u001b[1m0s\u001b[0m 3ms/step - loss: 0.0017 - val_loss: 0.0065\n",
      "Epoch 25/100\n",
      "\u001b[1m79/96\u001b[0m \u001b[32m━━━━━━━━━━━━━━━━\u001b[0m\u001b[37m━━━━\u001b[0m \u001b[1m0s\u001b[0m 2ms/step - loss: 0.0018\n",
      "Epoch 25: val_loss did not improve from 0.00175\n",
      "\u001b[1m96/96\u001b[0m \u001b[32m━━━━━━━━━━━━━━━━━━━━\u001b[0m\u001b[37m\u001b[0m \u001b[1m0s\u001b[0m 3ms/step - loss: 0.0022 - val_loss: 0.0120\n",
      "Epoch 26/100\n",
      "\u001b[1m81/96\u001b[0m \u001b[32m━━━━━━━━━━━━━━━━\u001b[0m\u001b[37m━━━━\u001b[0m \u001b[1m0s\u001b[0m 2ms/step - loss: 0.0020\n",
      "Epoch 26: val_loss did not improve from 0.00175\n",
      "\u001b[1m96/96\u001b[0m \u001b[32m━━━━━━━━━━━━━━━━━━━━\u001b[0m\u001b[37m\u001b[0m \u001b[1m0s\u001b[0m 2ms/step - loss: 0.0024 - val_loss: 0.0131\n",
      "Epoch 27/100\n",
      "\u001b[1m82/96\u001b[0m \u001b[32m━━━━━━━━━━━━━━━━━\u001b[0m\u001b[37m━━━\u001b[0m \u001b[1m0s\u001b[0m 2ms/step - loss: 0.0022\n",
      "Epoch 27: val_loss did not improve from 0.00175\n",
      "\u001b[1m96/96\u001b[0m \u001b[32m━━━━━━━━━━━━━━━━━━━━\u001b[0m\u001b[37m\u001b[0m \u001b[1m0s\u001b[0m 2ms/step - loss: 0.0027 - val_loss: 0.0213\n",
      "Epoch 27: early stopping\n"
     ]
    }
   ],
   "source": [
    "history = model.fit(x=X_train,\n",
    "                    y=y_train,\n",
    "                    epochs=100,\n",
    "                    batch_size=20,\n",
    "                    validation_data=(X_test, y_test),\n",
    "                    callbacks=[callbacks],\n",
    "                    shuffle=False)"
   ]
  },
  {
   "cell_type": "code",
   "execution_count": 43,
   "id": "9d5fbee4",
   "metadata": {
    "execution": {
     "iopub.execute_input": "2025-01-22T06:34:58.981744Z",
     "iopub.status.busy": "2025-01-22T06:34:58.981382Z",
     "iopub.status.idle": "2025-01-22T06:34:59.225853Z",
     "shell.execute_reply": "2025-01-22T06:34:59.224751Z"
    },
    "id": "VzxR8n1yeGpV",
    "papermill": {
     "duration": 0.272229,
     "end_time": "2025-01-22T06:34:59.228323",
     "exception": false,
     "start_time": "2025-01-22T06:34:58.956094",
     "status": "completed"
    },
    "tags": []
   },
   "outputs": [
    {
     "data": {
      "image/png": "[encoded data removed]",
      "text/plain": [
       "<Figure size 2000x500 with 1 Axes>"
      ]
     },
     "metadata": {},
     "output_type": "display_data"
    }
   ],
   "source": [
    "plt.figure(figsize=(20,5))\n",
    "plt.subplot(1,2,1)\n",
    "plt.plot(history.history['loss'], label='Training Loss')\n",
    "plt.plot(history.history['val_loss'], label='Validation Loss')\n",
    "plt.legend(loc='upper right')\n",
    "plt.xlabel('Epoch', fontsize = 16)\n",
    "plt.ylabel('Loss', fontsize = 16)\n",
    "plt.ylim([0,max(plt.ylim())])\n",
    "plt.title('Training and Validation Loss', fontsize = 16)\n",
    "plt.show()"
   ]
  },
  {
   "cell_type": "markdown",
   "id": "8572cf5e",
   "metadata": {
    "id": "XO0NGWQWerLU",
    "papermill": {
     "duration": 0.025159,
     "end_time": "2025-01-22T06:34:59.280285",
     "exception": false,
     "start_time": "2025-01-22T06:34:59.255126",
     "status": "completed"
    },
    "tags": []
   },
   "source": [
    "## Evaluation"
   ]
  },
  {
   "cell_type": "code",
   "execution_count": 44,
   "id": "17484cc2",
   "metadata": {
    "execution": {
     "iopub.execute_input": "2025-01-22T06:34:59.331662Z",
     "iopub.status.busy": "2025-01-22T06:34:59.331281Z",
     "iopub.status.idle": "2025-01-22T06:34:59.918845Z",
     "shell.execute_reply": "2025-01-22T06:34:59.917742Z"
    },
    "id": "hyeoNUjxetH-",
    "papermill": {
     "duration": 0.61619,
     "end_time": "2025-01-22T06:34:59.921105",
     "exception": false,
     "start_time": "2025-01-22T06:34:59.304915",
     "status": "completed"
    },
    "tags": []
   },
   "outputs": [
    {
     "name": "stdout",
     "output_type": "stream",
     "text": [
      "\u001b[1m463/463\u001b[0m \u001b[32m━━━━━━━━━━━━━━━━━━━━\u001b[0m\u001b[37m\u001b[0m \u001b[1m1s\u001b[0m 1ms/step - loss: 0.0240\n",
      "\n",
      "Test Loss: 2.1%\n"
     ]
    }
   ],
   "source": [
    "loss = model.evaluate(X_test, y_test, batch_size=1)\n",
    "print(\"\\nTest Loss: %.1f%%\" % (100.0 * loss))"
   ]
  },
  {
   "cell_type": "code",
   "execution_count": 45,
   "id": "d6c6825a",
   "metadata": {
    "execution": {
     "iopub.execute_input": "2025-01-22T06:34:59.974523Z",
     "iopub.status.busy": "2025-01-22T06:34:59.973726Z",
     "iopub.status.idle": "2025-01-22T06:35:00.434679Z",
     "shell.execute_reply": "2025-01-22T06:35:00.433657Z"
    },
    "id": "9e854j_NfFTV",
    "papermill": {
     "duration": 0.490565,
     "end_time": "2025-01-22T06:35:00.437147",
     "exception": false,
     "start_time": "2025-01-22T06:34:59.946582",
     "status": "completed"
    },
    "tags": []
   },
   "outputs": [
    {
     "name": "stdout",
     "output_type": "stream",
     "text": [
      "\u001b[1m60/60\u001b[0m \u001b[32m━━━━━━━━━━━━━━━━━━━━\u001b[0m\u001b[37m\u001b[0m \u001b[1m0s\u001b[0m 4ms/step\n"
     ]
    }
   ],
   "source": [
    "train_predict = model.predict(X_train)"
   ]
  },
  {
   "cell_type": "code",
   "execution_count": 46,
   "id": "c3a4a67d",
   "metadata": {
    "execution": {
     "iopub.execute_input": "2025-01-22T06:35:00.491004Z",
     "iopub.status.busy": "2025-01-22T06:35:00.490572Z",
     "iopub.status.idle": "2025-01-22T06:35:00.590683Z",
     "shell.execute_reply": "2025-01-22T06:35:00.589733Z"
    },
    "id": "GZgJuMd-fqZW",
    "papermill": {
     "duration": 0.130022,
     "end_time": "2025-01-22T06:35:00.593245",
     "exception": false,
     "start_time": "2025-01-22T06:35:00.463223",
     "status": "completed"
    },
    "tags": []
   },
   "outputs": [
    {
     "name": "stdout",
     "output_type": "stream",
     "text": [
      "\u001b[1m15/15\u001b[0m \u001b[32m━━━━━━━━━━━━━━━━━━━━\u001b[0m\u001b[37m\u001b[0m \u001b[1m0s\u001b[0m 2ms/step \n"
     ]
    }
   ],
   "source": [
    "test_predict = model.predict(X_test)"
   ]
  },
  {
   "cell_type": "code",
   "execution_count": 47,
   "id": "9a034506",
   "metadata": {
    "execution": {
     "iopub.execute_input": "2025-01-22T06:35:00.647995Z",
     "iopub.status.busy": "2025-01-22T06:35:00.647417Z",
     "iopub.status.idle": "2025-01-22T06:35:00.655013Z",
     "shell.execute_reply": "2025-01-22T06:35:00.653654Z"
    },
    "id": "FcH_8U3tfsGm",
    "papermill": {
     "duration": 0.038418,
     "end_time": "2025-01-22T06:35:00.658175",
     "exception": false,
     "start_time": "2025-01-22T06:35:00.619757",
     "status": "completed"
    },
    "tags": []
   },
   "outputs": [],
   "source": [
    "train_predict = scaler_train.inverse_transform(train_predict)\n",
    "test_predict = scaler_test.inverse_transform(test_predict)"
   ]
  },
  {
   "cell_type": "code",
   "execution_count": 48,
   "id": "df795ba9",
   "metadata": {
    "execution": {
     "iopub.execute_input": "2025-01-22T06:35:00.728174Z",
     "iopub.status.busy": "2025-01-22T06:35:00.727673Z",
     "iopub.status.idle": "2025-01-22T06:35:00.734095Z",
     "shell.execute_reply": "2025-01-22T06:35:00.732993Z"
    },
    "id": "DsGDu-NKf912",
    "papermill": {
     "duration": 0.037032,
     "end_time": "2025-01-22T06:35:00.736182",
     "exception": false,
     "start_time": "2025-01-22T06:35:00.699150",
     "status": "completed"
    },
    "tags": []
   },
   "outputs": [],
   "source": [
    "y_train = scaler_train.inverse_transform(y_train)\n",
    "y_test = scaler_test.inverse_transform(y_test)"
   ]
  },
  {
   "cell_type": "code",
   "execution_count": 49,
   "id": "750df9e4",
   "metadata": {
    "execution": {
     "iopub.execute_input": "2025-01-22T06:35:00.792096Z",
     "iopub.status.busy": "2025-01-22T06:35:00.791540Z",
     "iopub.status.idle": "2025-01-22T06:35:00.798420Z",
     "shell.execute_reply": "2025-01-22T06:35:00.797341Z"
    },
    "id": "ZLXqwAU7gGW2",
    "papermill": {
     "duration": 0.037358,
     "end_time": "2025-01-22T06:35:00.800675",
     "exception": false,
     "start_time": "2025-01-22T06:35:00.763317",
     "status": "completed"
    },
    "tags": []
   },
   "outputs": [],
   "source": [
    "train_rmse = np.sqrt(mean_squared_error(y_train, train_predict))"
   ]
  },
  {
   "cell_type": "code",
   "execution_count": 50,
   "id": "67f01ea5",
   "metadata": {
    "execution": {
     "iopub.execute_input": "2025-01-22T06:35:00.860679Z",
     "iopub.status.busy": "2025-01-22T06:35:00.860170Z",
     "iopub.status.idle": "2025-01-22T06:35:00.866952Z",
     "shell.execute_reply": "2025-01-22T06:35:00.865611Z"
    },
    "id": "76WbnJaIgJ4g",
    "papermill": {
     "duration": 0.040987,
     "end_time": "2025-01-22T06:35:00.869301",
     "exception": false,
     "start_time": "2025-01-22T06:35:00.828314",
     "status": "completed"
    },
    "tags": []
   },
   "outputs": [],
   "source": [
    "test_rmse = np.sqrt(mean_squared_error(y_test, test_predict))"
   ]
  },
  {
   "cell_type": "code",
   "execution_count": 51,
   "id": "b3ef4560",
   "metadata": {
    "execution": {
     "iopub.execute_input": "2025-01-22T06:35:00.932822Z",
     "iopub.status.busy": "2025-01-22T06:35:00.932286Z",
     "iopub.status.idle": "2025-01-22T06:35:00.938746Z",
     "shell.execute_reply": "2025-01-22T06:35:00.937650Z"
    },
    "id": "WcUBQBz7gMV2",
    "papermill": {
     "duration": 0.038975,
     "end_time": "2025-01-22T06:35:00.942191",
     "exception": false,
     "start_time": "2025-01-22T06:35:00.903216",
     "status": "completed"
    },
    "tags": []
   },
   "outputs": [
    {
     "name": "stdout",
     "output_type": "stream",
     "text": [
      "Train RMSE: 54.77924728393555\n",
      "Test RMSE: 87.6538314819336\n"
     ]
    }
   ],
   "source": [
    "print(f\"Train RMSE: {train_rmse}\")\n",
    "print(f\"Test RMSE: {test_rmse}\")"
   ]
  },
  {
   "cell_type": "code",
   "execution_count": 52,
   "id": "0a630469",
   "metadata": {
    "execution": {
     "iopub.execute_input": "2025-01-22T06:35:01.008962Z",
     "iopub.status.busy": "2025-01-22T06:35:01.008545Z",
     "iopub.status.idle": "2025-01-22T06:35:01.043659Z",
     "shell.execute_reply": "2025-01-22T06:35:01.042415Z"
    },
    "id": "t_llof9mgYz_",
    "papermill": {
     "duration": 0.068041,
     "end_time": "2025-01-22T06:35:01.046008",
     "exception": false,
     "start_time": "2025-01-22T06:35:00.977967",
     "status": "completed"
    },
    "tags": []
   },
   "outputs": [
    {
     "data": {
      "text/html": [
       "<div>\n",
       "<style scoped>\n",
       "    .dataframe tbody tr th:only-of-type {\n",
       "        vertical-align: middle;\n",
       "    }\n",
       "\n",
       "    .dataframe tbody tr th {\n",
       "        vertical-align: top;\n",
       "    }\n",
       "\n",
       "    .dataframe thead th {\n",
       "        text-align: right;\n",
       "    }\n",
       "</style>\n",
       "<table border=\"1\" class=\"dataframe\">\n",
       "  <thead>\n",
       "    <tr style=\"text-align: right;\">\n",
       "      <th></th>\n",
       "      <th>count</th>\n",
       "      <th>mean</th>\n",
       "      <th>min</th>\n",
       "      <th>25%</th>\n",
       "      <th>50%</th>\n",
       "      <th>75%</th>\n",
       "      <th>max</th>\n",
       "      <th>std</th>\n",
       "    </tr>\n",
       "  </thead>\n",
       "  <tbody>\n",
       "    <tr>\n",
       "      <th>Date</th>\n",
       "      <td>2416</td>\n",
       "      <td>2015-04-15 11:09:56.026490112</td>\n",
       "      <td>2010-06-29 00:00:00</td>\n",
       "      <td>2012-11-19 18:00:00</td>\n",
       "      <td>2015-04-16 12:00:00</td>\n",
       "      <td>2017-09-07 06:00:00</td>\n",
       "      <td>2020-02-03 00:00:00</td>\n",
       "      <td>NaN</td>\n",
       "    </tr>\n",
       "    <tr>\n",
       "      <th>Open</th>\n",
       "      <td>2416.0</td>\n",
       "      <td>186.271147</td>\n",
       "      <td>16.139999</td>\n",
       "      <td>34.342498</td>\n",
       "      <td>213.035004</td>\n",
       "      <td>266.450012</td>\n",
       "      <td>673.690002</td>\n",
       "      <td>118.740163</td>\n",
       "    </tr>\n",
       "    <tr>\n",
       "      <th>High</th>\n",
       "      <td>2416.0</td>\n",
       "      <td>189.578224</td>\n",
       "      <td>16.629999</td>\n",
       "      <td>34.897501</td>\n",
       "      <td>216.745002</td>\n",
       "      <td>270.927513</td>\n",
       "      <td>786.140015</td>\n",
       "      <td>120.892329</td>\n",
       "    </tr>\n",
       "    <tr>\n",
       "      <th>Low</th>\n",
       "      <td>2416.0</td>\n",
       "      <td>182.916639</td>\n",
       "      <td>14.98</td>\n",
       "      <td>33.587501</td>\n",
       "      <td>208.870002</td>\n",
       "      <td>262.102501</td>\n",
       "      <td>673.52002</td>\n",
       "      <td>116.857591</td>\n",
       "    </tr>\n",
       "    <tr>\n",
       "      <th>Close</th>\n",
       "      <td>2416.0</td>\n",
       "      <td>186.403651</td>\n",
       "      <td>15.8</td>\n",
       "      <td>34.400002</td>\n",
       "      <td>212.960007</td>\n",
       "      <td>266.774994</td>\n",
       "      <td>780.0</td>\n",
       "      <td>119.13602</td>\n",
       "    </tr>\n",
       "    <tr>\n",
       "      <th>Adj Close</th>\n",
       "      <td>2416.0</td>\n",
       "      <td>186.403651</td>\n",
       "      <td>15.8</td>\n",
       "      <td>34.400002</td>\n",
       "      <td>212.960007</td>\n",
       "      <td>266.774994</td>\n",
       "      <td>780.0</td>\n",
       "      <td>119.13602</td>\n",
       "    </tr>\n",
       "    <tr>\n",
       "      <th>Volume</th>\n",
       "      <td>2416.0</td>\n",
       "      <td>5572721.688742</td>\n",
       "      <td>118500.0</td>\n",
       "      <td>1899275.0</td>\n",
       "      <td>4578400.0</td>\n",
       "      <td>7361150.0</td>\n",
       "      <td>47065000.0</td>\n",
       "      <td>4987809.151888</td>\n",
       "    </tr>\n",
       "  </tbody>\n",
       "</table>\n",
       "</div>"
      ],
      "text/plain": [
       "            count                           mean                  min  \\\n",
       "Date         2416  2015-04-15 11:09:56.026490112  2010-06-29 00:00:00   \n",
       "Open       2416.0                     186.271147            16.139999   \n",
       "High       2416.0                     189.578224            16.629999   \n",
       "Low        2416.0                     182.916639                14.98   \n",
       "Close      2416.0                     186.403651                 15.8   \n",
       "Adj Close  2416.0                     186.403651                 15.8   \n",
       "Volume     2416.0                 5572721.688742             118500.0   \n",
       "\n",
       "                           25%                  50%                  75%  \\\n",
       "Date       2012-11-19 18:00:00  2015-04-16 12:00:00  2017-09-07 06:00:00   \n",
       "Open                 34.342498           213.035004           266.450012   \n",
       "High                 34.897501           216.745002           270.927513   \n",
       "Low                  33.587501           208.870002           262.102501   \n",
       "Close                34.400002           212.960007           266.774994   \n",
       "Adj Close            34.400002           212.960007           266.774994   \n",
       "Volume               1899275.0            4578400.0            7361150.0   \n",
       "\n",
       "                           max             std  \n",
       "Date       2020-02-03 00:00:00             NaN  \n",
       "Open                673.690002      118.740163  \n",
       "High                786.140015      120.892329  \n",
       "Low                  673.52002      116.857591  \n",
       "Close                    780.0       119.13602  \n",
       "Adj Close                780.0       119.13602  \n",
       "Volume              47065000.0  4987809.151888  "
      ]
     },
     "execution_count": 52,
     "metadata": {},
     "output_type": "execute_result"
    }
   ],
   "source": [
    "df.describe().T"
   ]
  },
  {
   "cell_type": "code",
   "execution_count": 53,
   "id": "28aec037",
   "metadata": {
    "execution": {
     "iopub.execute_input": "2025-01-22T06:35:01.115056Z",
     "iopub.status.busy": "2025-01-22T06:35:01.114618Z",
     "iopub.status.idle": "2025-01-22T06:35:01.126814Z",
     "shell.execute_reply": "2025-01-22T06:35:01.125699Z"
    },
    "id": "-PSGVpMzgz1O",
    "papermill": {
     "duration": 0.055296,
     "end_time": "2025-01-22T06:35:01.129032",
     "exception": false,
     "start_time": "2025-01-22T06:35:01.073736",
     "status": "completed"
    },
    "tags": []
   },
   "outputs": [
    {
     "data": {
      "text/html": [
       "<div>\n",
       "<style scoped>\n",
       "    .dataframe tbody tr th:only-of-type {\n",
       "        vertical-align: middle;\n",
       "    }\n",
       "\n",
       "    .dataframe tbody tr th {\n",
       "        vertical-align: top;\n",
       "    }\n",
       "\n",
       "    .dataframe thead th {\n",
       "        text-align: right;\n",
       "    }\n",
       "</style>\n",
       "<table border=\"1\" class=\"dataframe\">\n",
       "  <thead>\n",
       "    <tr style=\"text-align: right;\">\n",
       "      <th></th>\n",
       "      <th>Close</th>\n",
       "      <th>Predicted</th>\n",
       "    </tr>\n",
       "    <tr>\n",
       "      <th>Date</th>\n",
       "      <th></th>\n",
       "      <th></th>\n",
       "    </tr>\n",
       "  </thead>\n",
       "  <tbody>\n",
       "    <tr>\n",
       "      <th>2010-07-28</th>\n",
       "      <td>20.719999</td>\n",
       "      <td>42.332935</td>\n",
       "    </tr>\n",
       "    <tr>\n",
       "      <th>2010-07-29</th>\n",
       "      <td>20.350000</td>\n",
       "      <td>42.327305</td>\n",
       "    </tr>\n",
       "    <tr>\n",
       "      <th>2010-07-30</th>\n",
       "      <td>19.940001</td>\n",
       "      <td>42.309834</td>\n",
       "    </tr>\n",
       "    <tr>\n",
       "      <th>2010-08-02</th>\n",
       "      <td>20.920000</td>\n",
       "      <td>42.300301</td>\n",
       "    </tr>\n",
       "    <tr>\n",
       "      <th>2010-08-03</th>\n",
       "      <td>21.950001</td>\n",
       "      <td>42.289814</td>\n",
       "    </tr>\n",
       "  </tbody>\n",
       "</table>\n",
       "</div>"
      ],
      "text/plain": [
       "                Close  Predicted\n",
       "Date                            \n",
       "2010-07-28  20.719999  42.332935\n",
       "2010-07-29  20.350000  42.327305\n",
       "2010-07-30  19.940001  42.309834\n",
       "2010-08-02  20.920000  42.300301\n",
       "2010-08-03  21.950001  42.289814"
      ]
     },
     "execution_count": 53,
     "metadata": {},
     "output_type": "execute_result"
    }
   ],
   "source": [
    "train_prediction_df = result_df[lookback:position]\n",
    "train_prediction_df[\"Predicted\"] = train_predict\n",
    "train_prediction_df.head()"
   ]
  },
  {
   "cell_type": "code",
   "execution_count": 54,
   "id": "4478dd08",
   "metadata": {
    "execution": {
     "iopub.execute_input": "2025-01-22T06:35:01.204333Z",
     "iopub.status.busy": "2025-01-22T06:35:01.203801Z",
     "iopub.status.idle": "2025-01-22T06:35:01.215552Z",
     "shell.execute_reply": "2025-01-22T06:35:01.214433Z"
    },
    "id": "o7tRAXwOhMSA",
    "papermill": {
     "duration": 0.058119,
     "end_time": "2025-01-22T06:35:01.218266",
     "exception": false,
     "start_time": "2025-01-22T06:35:01.160147",
     "status": "completed"
    },
    "tags": []
   },
   "outputs": [
    {
     "data": {
      "text/html": [
       "<div>\n",
       "<style scoped>\n",
       "    .dataframe tbody tr th:only-of-type {\n",
       "        vertical-align: middle;\n",
       "    }\n",
       "\n",
       "    .dataframe tbody tr th {\n",
       "        vertical-align: top;\n",
       "    }\n",
       "\n",
       "    .dataframe thead th {\n",
       "        text-align: right;\n",
       "    }\n",
       "</style>\n",
       "<table border=\"1\" class=\"dataframe\">\n",
       "  <thead>\n",
       "    <tr style=\"text-align: right;\">\n",
       "      <th></th>\n",
       "      <th>Close</th>\n",
       "      <th>Predicted</th>\n",
       "    </tr>\n",
       "    <tr>\n",
       "      <th>Date</th>\n",
       "      <th></th>\n",
       "      <th></th>\n",
       "    </tr>\n",
       "  </thead>\n",
       "  <tbody>\n",
       "    <tr>\n",
       "      <th>2018-04-03</th>\n",
       "      <td>267.529999</td>\n",
       "      <td>379.563202</td>\n",
       "    </tr>\n",
       "    <tr>\n",
       "      <th>2018-04-04</th>\n",
       "      <td>286.940002</td>\n",
       "      <td>376.399780</td>\n",
       "    </tr>\n",
       "    <tr>\n",
       "      <th>2018-04-05</th>\n",
       "      <td>305.720001</td>\n",
       "      <td>375.700226</td>\n",
       "    </tr>\n",
       "    <tr>\n",
       "      <th>2018-04-06</th>\n",
       "      <td>299.299988</td>\n",
       "      <td>378.184540</td>\n",
       "    </tr>\n",
       "    <tr>\n",
       "      <th>2018-04-09</th>\n",
       "      <td>289.660004</td>\n",
       "      <td>381.409241</td>\n",
       "    </tr>\n",
       "  </tbody>\n",
       "</table>\n",
       "</div>"
      ],
      "text/plain": [
       "                 Close   Predicted\n",
       "Date                              \n",
       "2018-04-03  267.529999  379.563202\n",
       "2018-04-04  286.940002  376.399780\n",
       "2018-04-05  305.720001  375.700226\n",
       "2018-04-06  299.299988  378.184540\n",
       "2018-04-09  289.660004  381.409241"
      ]
     },
     "execution_count": 54,
     "metadata": {},
     "output_type": "execute_result"
    }
   ],
   "source": [
    "test_prediction_df = result_df[position+lookback:]\n",
    "test_prediction_df[\"Predicted\"] = test_predict\n",
    "test_prediction_df.head()"
   ]
  },
  {
   "cell_type": "code",
   "execution_count": 55,
   "id": "b5599163",
   "metadata": {
    "execution": {
     "iopub.execute_input": "2025-01-22T06:35:01.279285Z",
     "iopub.status.busy": "2025-01-22T06:35:01.278850Z",
     "iopub.status.idle": "2025-01-22T06:35:01.722314Z",
     "shell.execute_reply": "2025-01-22T06:35:01.721058Z"
    },
    "id": "PJ_-znSchYO_",
    "papermill": {
     "duration": 0.476134,
     "end_time": "2025-01-22T06:35:01.726589",
     "exception": false,
     "start_time": "2025-01-22T06:35:01.250455",
     "status": "completed"
    },
    "tags": []
   },
   "outputs": [
    {
     "data": {
      "image/png": "[encoded data removed]",
      "text/plain": [
       "<Figure size 1400x500 with 1 Axes>"
      ]
     },
     "metadata": {},
     "output_type": "display_data"
    }
   ],
   "source": [
    "plt.figure(figsize=(14,5))\n",
    "plt.plot(result_df, label = \"Real Number of Passengers\")\n",
    "plt.plot(train_prediction_df[\"Predicted\"], color = 'blue', label = \"Train Predicted Number of Passengers\")\n",
    "plt.plot(test_prediction_df[\"Predicted\"],color = 'red', label = \"Test Predicted Number of Passengers\")\n",
    "plt.title(\"Number of Passengers Prediction\")\n",
    "plt.xlabel(\"Time\")\n",
    "plt.ylabel(\"Number of Passengers\")\n",
    "plt.legend()\n",
    "plt.show()"
   ]
  }
 ],
 "metadata": {
  "colab": {
   "provenance": []
  },
  "kaggle": {
   "accelerator": "none",
   "dataSources": [
    {
     "datasetId": 500872,
     "sourceId": 927894,
     "sourceType": "datasetVersion"
    }
   ],
   "dockerImageVersionId": 30761,
   "isGpuEnabled": false,
   "isInternetEnabled": true,
   "language": "python",
   "sourceType": "notebook"
  },
  "kernelspec": {
   "display_name": "Python 3",
   "language": "python",
   "name": "python3"
  },
  "language_info": {
   "codemirror_mode": {
    "name": "ipython",
    "version": 3
   },
   "file_extension": ".py",
   "mimetype": "text/x-python",
   "name": "python",
   "nbconvert_exporter": "python",
   "pygments_lexer": "ipython3",
   "version": "3.10.14"
  },
  "papermill": {
   "default_parameters": {},
   "duration": 37.931,
   "end_time": "2025-01-22T06:35:04.560509",
   "environment_variables": {},
   "exception": null,
   "input_path": "__notebook__.ipynb",
   "output_path": "__notebook__.ipynb",
   "parameters": {},
   "start_time": "2025-01-22T06:34:26.629509",
   "version": "2.6.0"
  }
 },
 "nbformat": 4,
 "nbformat_minor": 5
}
