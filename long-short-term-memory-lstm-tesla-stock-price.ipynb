{
 "cells": [
  {
   "cell_type": "markdown",
   "id": "68cedeb1",
   "metadata": {
    "id": "4unSJJjsT8BM",
    "papermill": {
     "duration": 0.012098,
     "end_time": "2024-12-21T20:00:24.297608",
     "exception": false,
     "start_time": "2024-12-21T20:00:24.285510",
     "status": "completed"
    },
    "tags": []
   },
   "source": [
    "# Tesla - Stock Price Prediction\n",
    "\n",
    "---\n",
    "\n"
   ]
  },
  {
   "cell_type": "markdown",
   "id": "86a60651",
   "metadata": {
    "id": "wkRLJL2XUAfT",
    "papermill": {
     "duration": 0.010206,
     "end_time": "2024-12-21T20:00:24.318572",
     "exception": false,
     "start_time": "2024-12-21T20:00:24.308366",
     "status": "completed"
    },
    "tags": []
   },
   "source": [
    "## Business Problem\n",
    "\n",
    "In this notebook, our purpose is to predict of tesla - stock price."
   ]
  },
  {
   "cell_type": "markdown",
   "id": "a57f36db",
   "metadata": {
    "id": "0uxjphZsUwjz",
    "papermill": {
     "duration": 0.010184,
     "end_time": "2024-12-21T20:00:24.339269",
     "exception": false,
     "start_time": "2024-12-21T20:00:24.329085",
     "status": "completed"
    },
    "tags": []
   },
   "source": [
    "## Data Understanding"
   ]
  },
  {
   "cell_type": "code",
   "execution_count": 1,
   "id": "b650b718",
   "metadata": {
    "execution": {
     "iopub.execute_input": "2024-12-21T20:00:24.362492Z",
     "iopub.status.busy": "2024-12-21T20:00:24.362097Z",
     "iopub.status.idle": "2024-12-21T20:00:39.862995Z",
     "shell.execute_reply": "2024-12-21T20:00:39.862091Z"
    },
    "id": "40IR65rQUyWC",
    "outputId": "4562368d-970e-4fd6-b03e-be036efe4dcd",
    "papermill": {
     "duration": 15.515197,
     "end_time": "2024-12-21T20:00:39.865480",
     "exception": false,
     "start_time": "2024-12-21T20:00:24.350283",
     "status": "completed"
    },
    "tags": []
   },
   "outputs": [],
   "source": [
    "import numpy as np\n",
    "import pandas as pd\n",
    "import datetime as dt\n",
    "import tensorflow as tf\n",
    "import matplotlib.pyplot as plt\n",
    "\n",
    "from sklearn.preprocessing import MinMaxScaler\n",
    "from sklearn.metrics import mean_squared_error\n",
    "\n",
    "from tensorflow.keras.models import Sequential\n",
    "from tensorflow.keras.layers import Dense, LSTM, Dropout\n",
    "from tensorflow.keras.callbacks import ModelCheckpoint, EarlyStopping\n",
    "\n",
    "import warnings\n",
    "warnings.filterwarnings('ignore')\n",
    "\n",
    "import os\n",
    "os.environ['TF_CPP_MIN_LOG_LEVEL'] = '3'\n",
    "tf.compat.v1.logging.set_verbosity(tf.compat.v1.logging.ERROR)"
   ]
  },
  {
   "cell_type": "code",
   "execution_count": 2,
   "id": "e15fa556",
   "metadata": {
    "execution": {
     "iopub.execute_input": "2024-12-21T20:00:39.888716Z",
     "iopub.status.busy": "2024-12-21T20:00:39.887771Z",
     "iopub.status.idle": "2024-12-21T20:00:39.937191Z",
     "shell.execute_reply": "2024-12-21T20:00:39.936133Z"
    },
    "id": "-be5_efvVpTV",
    "papermill": {
     "duration": 0.063289,
     "end_time": "2024-12-21T20:00:39.939446",
     "exception": false,
     "start_time": "2024-12-21T20:00:39.876157",
     "status": "completed"
    },
    "tags": []
   },
   "outputs": [
    {
     "data": {
      "text/html": [
       "<div>\n",
       "<style scoped>\n",
       "    .dataframe tbody tr th:only-of-type {\n",
       "        vertical-align: middle;\n",
       "    }\n",
       "\n",
       "    .dataframe tbody tr th {\n",
       "        vertical-align: top;\n",
       "    }\n",
       "\n",
       "    .dataframe thead th {\n",
       "        text-align: right;\n",
       "    }\n",
       "</style>\n",
       "<table border=\"1\" class=\"dataframe\">\n",
       "  <thead>\n",
       "    <tr style=\"text-align: right;\">\n",
       "      <th></th>\n",
       "      <th>Date</th>\n",
       "      <th>Open</th>\n",
       "      <th>High</th>\n",
       "      <th>Low</th>\n",
       "      <th>Close</th>\n",
       "      <th>Adj Close</th>\n",
       "      <th>Volume</th>\n",
       "    </tr>\n",
       "  </thead>\n",
       "  <tbody>\n",
       "    <tr>\n",
       "      <th>0</th>\n",
       "      <td>2010-06-29</td>\n",
       "      <td>19.000000</td>\n",
       "      <td>25.000000</td>\n",
       "      <td>17.540001</td>\n",
       "      <td>23.889999</td>\n",
       "      <td>23.889999</td>\n",
       "      <td>18766300</td>\n",
       "    </tr>\n",
       "    <tr>\n",
       "      <th>1</th>\n",
       "      <td>2010-06-30</td>\n",
       "      <td>25.790001</td>\n",
       "      <td>30.420000</td>\n",
       "      <td>23.299999</td>\n",
       "      <td>23.830000</td>\n",
       "      <td>23.830000</td>\n",
       "      <td>17187100</td>\n",
       "    </tr>\n",
       "    <tr>\n",
       "      <th>2</th>\n",
       "      <td>2010-07-01</td>\n",
       "      <td>25.000000</td>\n",
       "      <td>25.920000</td>\n",
       "      <td>20.270000</td>\n",
       "      <td>21.959999</td>\n",
       "      <td>21.959999</td>\n",
       "      <td>8218800</td>\n",
       "    </tr>\n",
       "    <tr>\n",
       "      <th>3</th>\n",
       "      <td>2010-07-02</td>\n",
       "      <td>23.000000</td>\n",
       "      <td>23.100000</td>\n",
       "      <td>18.709999</td>\n",
       "      <td>19.200001</td>\n",
       "      <td>19.200001</td>\n",
       "      <td>5139800</td>\n",
       "    </tr>\n",
       "    <tr>\n",
       "      <th>4</th>\n",
       "      <td>2010-07-06</td>\n",
       "      <td>20.000000</td>\n",
       "      <td>20.000000</td>\n",
       "      <td>15.830000</td>\n",
       "      <td>16.110001</td>\n",
       "      <td>16.110001</td>\n",
       "      <td>6866900</td>\n",
       "    </tr>\n",
       "    <tr>\n",
       "      <th>...</th>\n",
       "      <td>...</td>\n",
       "      <td>...</td>\n",
       "      <td>...</td>\n",
       "      <td>...</td>\n",
       "      <td>...</td>\n",
       "      <td>...</td>\n",
       "      <td>...</td>\n",
       "    </tr>\n",
       "    <tr>\n",
       "      <th>2411</th>\n",
       "      <td>2020-01-28</td>\n",
       "      <td>568.489990</td>\n",
       "      <td>576.809998</td>\n",
       "      <td>558.080017</td>\n",
       "      <td>566.900024</td>\n",
       "      <td>566.900024</td>\n",
       "      <td>11788500</td>\n",
       "    </tr>\n",
       "    <tr>\n",
       "      <th>2412</th>\n",
       "      <td>2020-01-29</td>\n",
       "      <td>575.690002</td>\n",
       "      <td>589.799988</td>\n",
       "      <td>567.429993</td>\n",
       "      <td>580.989990</td>\n",
       "      <td>580.989990</td>\n",
       "      <td>17801500</td>\n",
       "    </tr>\n",
       "    <tr>\n",
       "      <th>2413</th>\n",
       "      <td>2020-01-30</td>\n",
       "      <td>632.419983</td>\n",
       "      <td>650.880005</td>\n",
       "      <td>618.000000</td>\n",
       "      <td>640.809998</td>\n",
       "      <td>640.809998</td>\n",
       "      <td>29005700</td>\n",
       "    </tr>\n",
       "    <tr>\n",
       "      <th>2414</th>\n",
       "      <td>2020-01-31</td>\n",
       "      <td>640.000000</td>\n",
       "      <td>653.000000</td>\n",
       "      <td>632.520020</td>\n",
       "      <td>650.570007</td>\n",
       "      <td>650.570007</td>\n",
       "      <td>15719300</td>\n",
       "    </tr>\n",
       "    <tr>\n",
       "      <th>2415</th>\n",
       "      <td>2020-02-03</td>\n",
       "      <td>673.690002</td>\n",
       "      <td>786.140015</td>\n",
       "      <td>673.520020</td>\n",
       "      <td>780.000000</td>\n",
       "      <td>780.000000</td>\n",
       "      <td>47065000</td>\n",
       "    </tr>\n",
       "  </tbody>\n",
       "</table>\n",
       "<p>2416 rows × 7 columns</p>\n",
       "</div>"
      ],
      "text/plain": [
       "            Date        Open        High         Low       Close   Adj Close  \\\n",
       "0     2010-06-29   19.000000   25.000000   17.540001   23.889999   23.889999   \n",
       "1     2010-06-30   25.790001   30.420000   23.299999   23.830000   23.830000   \n",
       "2     2010-07-01   25.000000   25.920000   20.270000   21.959999   21.959999   \n",
       "3     2010-07-02   23.000000   23.100000   18.709999   19.200001   19.200001   \n",
       "4     2010-07-06   20.000000   20.000000   15.830000   16.110001   16.110001   \n",
       "...          ...         ...         ...         ...         ...         ...   \n",
       "2411  2020-01-28  568.489990  576.809998  558.080017  566.900024  566.900024   \n",
       "2412  2020-01-29  575.690002  589.799988  567.429993  580.989990  580.989990   \n",
       "2413  2020-01-30  632.419983  650.880005  618.000000  640.809998  640.809998   \n",
       "2414  2020-01-31  640.000000  653.000000  632.520020  650.570007  650.570007   \n",
       "2415  2020-02-03  673.690002  786.140015  673.520020  780.000000  780.000000   \n",
       "\n",
       "        Volume  \n",
       "0     18766300  \n",
       "1     17187100  \n",
       "2      8218800  \n",
       "3      5139800  \n",
       "4      6866900  \n",
       "...        ...  \n",
       "2411  11788500  \n",
       "2412  17801500  \n",
       "2413  29005700  \n",
       "2414  15719300  \n",
       "2415  47065000  \n",
       "\n",
       "[2416 rows x 7 columns]"
      ]
     },
     "execution_count": 2,
     "metadata": {},
     "output_type": "execute_result"
    }
   ],
   "source": [
    "df = pd.read_csv('/kaggle/input/tesla-stock-data-from-2010-to-2020/TSLA.csv')\n",
    "df"
   ]
  },
  {
   "cell_type": "code",
   "execution_count": 3,
   "id": "ed98b9ac",
   "metadata": {
    "execution": {
     "iopub.execute_input": "2024-12-21T20:00:39.963193Z",
     "iopub.status.busy": "2024-12-21T20:00:39.962769Z",
     "iopub.status.idle": "2024-12-21T20:00:39.975658Z",
     "shell.execute_reply": "2024-12-21T20:00:39.974572Z"
    },
    "id": "lG_AO3mdVv17",
    "papermill": {
     "duration": 0.026971,
     "end_time": "2024-12-21T20:00:39.977867",
     "exception": false,
     "start_time": "2024-12-21T20:00:39.950896",
     "status": "completed"
    },
    "tags": []
   },
   "outputs": [
    {
     "data": {
      "text/html": [
       "<div>\n",
       "<style scoped>\n",
       "    .dataframe tbody tr th:only-of-type {\n",
       "        vertical-align: middle;\n",
       "    }\n",
       "\n",
       "    .dataframe tbody tr th {\n",
       "        vertical-align: top;\n",
       "    }\n",
       "\n",
       "    .dataframe thead th {\n",
       "        text-align: right;\n",
       "    }\n",
       "</style>\n",
       "<table border=\"1\" class=\"dataframe\">\n",
       "  <thead>\n",
       "    <tr style=\"text-align: right;\">\n",
       "      <th></th>\n",
       "      <th>Date</th>\n",
       "      <th>Open</th>\n",
       "      <th>High</th>\n",
       "      <th>Low</th>\n",
       "      <th>Close</th>\n",
       "      <th>Adj Close</th>\n",
       "      <th>Volume</th>\n",
       "    </tr>\n",
       "  </thead>\n",
       "  <tbody>\n",
       "    <tr>\n",
       "      <th>0</th>\n",
       "      <td>2010-06-29</td>\n",
       "      <td>19.000000</td>\n",
       "      <td>25.00</td>\n",
       "      <td>17.540001</td>\n",
       "      <td>23.889999</td>\n",
       "      <td>23.889999</td>\n",
       "      <td>18766300</td>\n",
       "    </tr>\n",
       "    <tr>\n",
       "      <th>1</th>\n",
       "      <td>2010-06-30</td>\n",
       "      <td>25.790001</td>\n",
       "      <td>30.42</td>\n",
       "      <td>23.299999</td>\n",
       "      <td>23.830000</td>\n",
       "      <td>23.830000</td>\n",
       "      <td>17187100</td>\n",
       "    </tr>\n",
       "    <tr>\n",
       "      <th>2</th>\n",
       "      <td>2010-07-01</td>\n",
       "      <td>25.000000</td>\n",
       "      <td>25.92</td>\n",
       "      <td>20.270000</td>\n",
       "      <td>21.959999</td>\n",
       "      <td>21.959999</td>\n",
       "      <td>8218800</td>\n",
       "    </tr>\n",
       "    <tr>\n",
       "      <th>3</th>\n",
       "      <td>2010-07-02</td>\n",
       "      <td>23.000000</td>\n",
       "      <td>23.10</td>\n",
       "      <td>18.709999</td>\n",
       "      <td>19.200001</td>\n",
       "      <td>19.200001</td>\n",
       "      <td>5139800</td>\n",
       "    </tr>\n",
       "    <tr>\n",
       "      <th>4</th>\n",
       "      <td>2010-07-06</td>\n",
       "      <td>20.000000</td>\n",
       "      <td>20.00</td>\n",
       "      <td>15.830000</td>\n",
       "      <td>16.110001</td>\n",
       "      <td>16.110001</td>\n",
       "      <td>6866900</td>\n",
       "    </tr>\n",
       "  </tbody>\n",
       "</table>\n",
       "</div>"
      ],
      "text/plain": [
       "         Date       Open   High        Low      Close  Adj Close    Volume\n",
       "0  2010-06-29  19.000000  25.00  17.540001  23.889999  23.889999  18766300\n",
       "1  2010-06-30  25.790001  30.42  23.299999  23.830000  23.830000  17187100\n",
       "2  2010-07-01  25.000000  25.92  20.270000  21.959999  21.959999   8218800\n",
       "3  2010-07-02  23.000000  23.10  18.709999  19.200001  19.200001   5139800\n",
       "4  2010-07-06  20.000000  20.00  15.830000  16.110001  16.110001   6866900"
      ]
     },
     "execution_count": 3,
     "metadata": {},
     "output_type": "execute_result"
    }
   ],
   "source": [
    "df.head()"
   ]
  },
  {
   "cell_type": "code",
   "execution_count": 4,
   "id": "8e15414a",
   "metadata": {
    "execution": {
     "iopub.execute_input": "2024-12-21T20:00:40.001625Z",
     "iopub.status.busy": "2024-12-21T20:00:40.001248Z",
     "iopub.status.idle": "2024-12-21T20:00:40.007948Z",
     "shell.execute_reply": "2024-12-21T20:00:40.006881Z"
    },
    "id": "TU5hlfyvVxY0",
    "papermill": {
     "duration": 0.02096,
     "end_time": "2024-12-21T20:00:40.009883",
     "exception": false,
     "start_time": "2024-12-21T20:00:39.988923",
     "status": "completed"
    },
    "tags": []
   },
   "outputs": [],
   "source": [
    "def check_df(dataframe, head=5):\n",
    "    print(\"##################### Shape #####################\")\n",
    "    print(dataframe.shape)\n",
    "    print(\"##################### Types #####################\")\n",
    "    print(dataframe.dtypes)\n",
    "    print(\"##################### Head #####################\")\n",
    "    print(dataframe.head(head))  # Fonksiyon çağrısına dikkat edin\n",
    "    print(\"##################### Tail #####################\")\n",
    "    print(dataframe.tail(head))\n",
    "    print(\"##################### NA #####################\")\n",
    "    print(dataframe.isnull().sum())\n",
    "    print(\"##################### Quantile #####################\")\n",
    "    print(dataframe.select_dtypes(include='number').quantile([0, 0.05, 0.5, 0.95, 0.99, 1]).T)\n"
   ]
  },
  {
   "cell_type": "code",
   "execution_count": 5,
   "id": "40e445f7",
   "metadata": {
    "execution": {
     "iopub.execute_input": "2024-12-21T20:00:40.033674Z",
     "iopub.status.busy": "2024-12-21T20:00:40.033289Z",
     "iopub.status.idle": "2024-12-21T20:00:40.055172Z",
     "shell.execute_reply": "2024-12-21T20:00:40.054003Z"
    },
    "id": "t6iFP965V4vk",
    "papermill": {
     "duration": 0.036389,
     "end_time": "2024-12-21T20:00:40.057436",
     "exception": false,
     "start_time": "2024-12-21T20:00:40.021047",
     "status": "completed"
    },
    "tags": []
   },
   "outputs": [
    {
     "name": "stdout",
     "output_type": "stream",
     "text": [
      "##################### Shape #####################\n",
      "(2416, 7)\n",
      "##################### Types #####################\n",
      "Date          object\n",
      "Open         float64\n",
      "High         float64\n",
      "Low          float64\n",
      "Close        float64\n",
      "Adj Close    float64\n",
      "Volume         int64\n",
      "dtype: object\n",
      "##################### Head #####################\n",
      "         Date       Open   High        Low      Close  Adj Close    Volume\n",
      "0  2010-06-29  19.000000  25.00  17.540001  23.889999  23.889999  18766300\n",
      "1  2010-06-30  25.790001  30.42  23.299999  23.830000  23.830000  17187100\n",
      "2  2010-07-01  25.000000  25.92  20.270000  21.959999  21.959999   8218800\n",
      "3  2010-07-02  23.000000  23.10  18.709999  19.200001  19.200001   5139800\n",
      "4  2010-07-06  20.000000  20.00  15.830000  16.110001  16.110001   6866900\n",
      "##################### Tail #####################\n",
      "            Date        Open        High         Low       Close   Adj Close  \\\n",
      "2411  2020-01-28  568.489990  576.809998  558.080017  566.900024  566.900024   \n",
      "2412  2020-01-29  575.690002  589.799988  567.429993  580.989990  580.989990   \n",
      "2413  2020-01-30  632.419983  650.880005  618.000000  640.809998  640.809998   \n",
      "2414  2020-01-31  640.000000  653.000000  632.520020  650.570007  650.570007   \n",
      "2415  2020-02-03  673.690002  786.140015  673.520020  780.000000  780.000000   \n",
      "\n",
      "        Volume  \n",
      "2411  11788500  \n",
      "2412  17801500  \n",
      "2413  29005700  \n",
      "2414  15719300  \n",
      "2415  47065000  \n",
      "##################### NA #####################\n",
      "Date         0\n",
      "Open         0\n",
      "High         0\n",
      "Low          0\n",
      "Close        0\n",
      "Adj Close    0\n",
      "Volume       0\n",
      "dtype: int64\n",
      "##################### Quantile #####################\n",
      "                    0.00           0.05          0.50          0.95  \\\n",
      "Open           16.139999      23.384999  2.130350e+02  3.519100e+02   \n",
      "High           16.629999      24.022501  2.167450e+02  3.567500e+02   \n",
      "Low            14.980000      22.867499  2.088700e+02  3.460250e+02   \n",
      "Close          15.800000      23.565000  2.129600e+02  3.511675e+02   \n",
      "Adj Close      15.800000      23.565000  2.129600e+02  3.511675e+02   \n",
      "Volume     118500.000000  633825.000000  4.578400e+06  1.476090e+07   \n",
      "\n",
      "                   0.99          1.00  \n",
      "Open       4.235790e+02  6.736900e+02  \n",
      "High       4.284705e+02  7.861400e+02  \n",
      "Low        4.122865e+02  6.735200e+02  \n",
      "Close      4.243455e+02  7.800000e+02  \n",
      "Adj Close  4.243455e+02  7.800000e+02  \n",
      "Volume     2.459959e+07  4.706500e+07  \n"
     ]
    }
   ],
   "source": [
    "check_df(df)"
   ]
  },
  {
   "cell_type": "markdown",
   "id": "a19aa5bc",
   "metadata": {
    "id": "v2n2ONcpWlQl",
    "papermill": {
     "duration": 0.010721,
     "end_time": "2024-12-21T20:00:40.079757",
     "exception": false,
     "start_time": "2024-12-21T20:00:40.069036",
     "status": "completed"
    },
    "tags": []
   },
   "source": [
    "## Data Preparation"
   ]
  },
  {
   "cell_type": "code",
   "execution_count": 6,
   "id": "b3286606",
   "metadata": {
    "execution": {
     "iopub.execute_input": "2024-12-21T20:00:40.104431Z",
     "iopub.status.busy": "2024-12-21T20:00:40.103624Z",
     "iopub.status.idle": "2024-12-21T20:00:40.113841Z",
     "shell.execute_reply": "2024-12-21T20:00:40.112805Z"
    },
    "id": "x-En8ormWAo8",
    "papermill": {
     "duration": 0.024248,
     "end_time": "2024-12-21T20:00:40.115806",
     "exception": false,
     "start_time": "2024-12-21T20:00:40.091558",
     "status": "completed"
    },
    "tags": []
   },
   "outputs": [],
   "source": [
    "df[\"Date\"] = pd.to_datetime(df[\"Date\"])"
   ]
  },
  {
   "cell_type": "code",
   "execution_count": 7,
   "id": "d9a0c3bd",
   "metadata": {
    "execution": {
     "iopub.execute_input": "2024-12-21T20:00:40.139652Z",
     "iopub.status.busy": "2024-12-21T20:00:40.139252Z",
     "iopub.status.idle": "2024-12-21T20:00:40.153122Z",
     "shell.execute_reply": "2024-12-21T20:00:40.152152Z"
    },
    "id": "Wk3C4MPkWBUG",
    "papermill": {
     "duration": 0.028554,
     "end_time": "2024-12-21T20:00:40.155428",
     "exception": false,
     "start_time": "2024-12-21T20:00:40.126874",
     "status": "completed"
    },
    "tags": []
   },
   "outputs": [
    {
     "data": {
      "text/html": [
       "<div>\n",
       "<style scoped>\n",
       "    .dataframe tbody tr th:only-of-type {\n",
       "        vertical-align: middle;\n",
       "    }\n",
       "\n",
       "    .dataframe tbody tr th {\n",
       "        vertical-align: top;\n",
       "    }\n",
       "\n",
       "    .dataframe thead th {\n",
       "        text-align: right;\n",
       "    }\n",
       "</style>\n",
       "<table border=\"1\" class=\"dataframe\">\n",
       "  <thead>\n",
       "    <tr style=\"text-align: right;\">\n",
       "      <th></th>\n",
       "      <th>Date</th>\n",
       "      <th>Open</th>\n",
       "      <th>High</th>\n",
       "      <th>Low</th>\n",
       "      <th>Close</th>\n",
       "      <th>Adj Close</th>\n",
       "      <th>Volume</th>\n",
       "    </tr>\n",
       "  </thead>\n",
       "  <tbody>\n",
       "    <tr>\n",
       "      <th>0</th>\n",
       "      <td>2010-06-29</td>\n",
       "      <td>19.000000</td>\n",
       "      <td>25.00</td>\n",
       "      <td>17.540001</td>\n",
       "      <td>23.889999</td>\n",
       "      <td>23.889999</td>\n",
       "      <td>18766300</td>\n",
       "    </tr>\n",
       "    <tr>\n",
       "      <th>1</th>\n",
       "      <td>2010-06-30</td>\n",
       "      <td>25.790001</td>\n",
       "      <td>30.42</td>\n",
       "      <td>23.299999</td>\n",
       "      <td>23.830000</td>\n",
       "      <td>23.830000</td>\n",
       "      <td>17187100</td>\n",
       "    </tr>\n",
       "    <tr>\n",
       "      <th>2</th>\n",
       "      <td>2010-07-01</td>\n",
       "      <td>25.000000</td>\n",
       "      <td>25.92</td>\n",
       "      <td>20.270000</td>\n",
       "      <td>21.959999</td>\n",
       "      <td>21.959999</td>\n",
       "      <td>8218800</td>\n",
       "    </tr>\n",
       "    <tr>\n",
       "      <th>3</th>\n",
       "      <td>2010-07-02</td>\n",
       "      <td>23.000000</td>\n",
       "      <td>23.10</td>\n",
       "      <td>18.709999</td>\n",
       "      <td>19.200001</td>\n",
       "      <td>19.200001</td>\n",
       "      <td>5139800</td>\n",
       "    </tr>\n",
       "    <tr>\n",
       "      <th>4</th>\n",
       "      <td>2010-07-06</td>\n",
       "      <td>20.000000</td>\n",
       "      <td>20.00</td>\n",
       "      <td>15.830000</td>\n",
       "      <td>16.110001</td>\n",
       "      <td>16.110001</td>\n",
       "      <td>6866900</td>\n",
       "    </tr>\n",
       "  </tbody>\n",
       "</table>\n",
       "</div>"
      ],
      "text/plain": [
       "        Date       Open   High        Low      Close  Adj Close    Volume\n",
       "0 2010-06-29  19.000000  25.00  17.540001  23.889999  23.889999  18766300\n",
       "1 2010-06-30  25.790001  30.42  23.299999  23.830000  23.830000  17187100\n",
       "2 2010-07-01  25.000000  25.92  20.270000  21.959999  21.959999   8218800\n",
       "3 2010-07-02  23.000000  23.10  18.709999  19.200001  19.200001   5139800\n",
       "4 2010-07-06  20.000000  20.00  15.830000  16.110001  16.110001   6866900"
      ]
     },
     "execution_count": 7,
     "metadata": {},
     "output_type": "execute_result"
    }
   ],
   "source": [
    "df.head()"
   ]
  },
  {
   "cell_type": "code",
   "execution_count": 8,
   "id": "0793f5e3",
   "metadata": {
    "execution": {
     "iopub.execute_input": "2024-12-21T20:00:40.179737Z",
     "iopub.status.busy": "2024-12-21T20:00:40.178859Z",
     "iopub.status.idle": "2024-12-21T20:00:40.184485Z",
     "shell.execute_reply": "2024-12-21T20:00:40.183505Z"
    },
    "id": "ZOVzSrk1WCHu",
    "papermill": {
     "duration": 0.019891,
     "end_time": "2024-12-21T20:00:40.186534",
     "exception": false,
     "start_time": "2024-12-21T20:00:40.166643",
     "status": "completed"
    },
    "tags": []
   },
   "outputs": [],
   "source": [
    "tesla_df = df[[\"Date\", \"Close\"]]"
   ]
  },
  {
   "cell_type": "code",
   "execution_count": 9,
   "id": "a14b81b7",
   "metadata": {
    "execution": {
     "iopub.execute_input": "2024-12-21T20:00:40.210908Z",
     "iopub.status.busy": "2024-12-21T20:00:40.210113Z",
     "iopub.status.idle": "2024-12-21T20:00:40.219758Z",
     "shell.execute_reply": "2024-12-21T20:00:40.218668Z"
    },
    "id": "Tli5FuMBWF8l",
    "papermill": {
     "duration": 0.023911,
     "end_time": "2024-12-21T20:00:40.221796",
     "exception": false,
     "start_time": "2024-12-21T20:00:40.197885",
     "status": "completed"
    },
    "tags": []
   },
   "outputs": [
    {
     "data": {
      "text/html": [
       "<div>\n",
       "<style scoped>\n",
       "    .dataframe tbody tr th:only-of-type {\n",
       "        vertical-align: middle;\n",
       "    }\n",
       "\n",
       "    .dataframe tbody tr th {\n",
       "        vertical-align: top;\n",
       "    }\n",
       "\n",
       "    .dataframe thead th {\n",
       "        text-align: right;\n",
       "    }\n",
       "</style>\n",
       "<table border=\"1\" class=\"dataframe\">\n",
       "  <thead>\n",
       "    <tr style=\"text-align: right;\">\n",
       "      <th></th>\n",
       "      <th>Date</th>\n",
       "      <th>Close</th>\n",
       "    </tr>\n",
       "  </thead>\n",
       "  <tbody>\n",
       "    <tr>\n",
       "      <th>0</th>\n",
       "      <td>2010-06-29</td>\n",
       "      <td>23.889999</td>\n",
       "    </tr>\n",
       "    <tr>\n",
       "      <th>1</th>\n",
       "      <td>2010-06-30</td>\n",
       "      <td>23.830000</td>\n",
       "    </tr>\n",
       "    <tr>\n",
       "      <th>2</th>\n",
       "      <td>2010-07-01</td>\n",
       "      <td>21.959999</td>\n",
       "    </tr>\n",
       "    <tr>\n",
       "      <th>3</th>\n",
       "      <td>2010-07-02</td>\n",
       "      <td>19.200001</td>\n",
       "    </tr>\n",
       "    <tr>\n",
       "      <th>4</th>\n",
       "      <td>2010-07-06</td>\n",
       "      <td>16.110001</td>\n",
       "    </tr>\n",
       "  </tbody>\n",
       "</table>\n",
       "</div>"
      ],
      "text/plain": [
       "        Date      Close\n",
       "0 2010-06-29  23.889999\n",
       "1 2010-06-30  23.830000\n",
       "2 2010-07-01  21.959999\n",
       "3 2010-07-02  19.200001\n",
       "4 2010-07-06  16.110001"
      ]
     },
     "execution_count": 9,
     "metadata": {},
     "output_type": "execute_result"
    }
   ],
   "source": [
    "tesla_df.head()"
   ]
  },
  {
   "cell_type": "code",
   "execution_count": 10,
   "id": "bb2f9535",
   "metadata": {
    "execution": {
     "iopub.execute_input": "2024-12-21T20:00:40.245897Z",
     "iopub.status.busy": "2024-12-21T20:00:40.245475Z",
     "iopub.status.idle": "2024-12-21T20:00:40.251960Z",
     "shell.execute_reply": "2024-12-21T20:00:40.250884Z"
    },
    "id": "Gsw5OQCAWLzn",
    "papermill": {
     "duration": 0.021043,
     "end_time": "2024-12-21T20:00:40.254103",
     "exception": false,
     "start_time": "2024-12-21T20:00:40.233060",
     "status": "completed"
    },
    "tags": []
   },
   "outputs": [
    {
     "name": "stdout",
     "output_type": "stream",
     "text": [
      "Min Date:  2010-06-29 00:00:00\n",
      "Max Date:  2020-02-03 00:00:00\n"
     ]
    }
   ],
   "source": [
    "print(\"Min Date: \", tesla_df[\"Date\"].min())\n",
    "print(\"Max Date: \", tesla_df[\"Date\"].max())"
   ]
  },
  {
   "cell_type": "code",
   "execution_count": 11,
   "id": "ff5c2a92",
   "metadata": {
    "execution": {
     "iopub.execute_input": "2024-12-21T20:00:40.279180Z",
     "iopub.status.busy": "2024-12-21T20:00:40.278174Z",
     "iopub.status.idle": "2024-12-21T20:00:40.283139Z",
     "shell.execute_reply": "2024-12-21T20:00:40.282290Z"
    },
    "id": "JGi8P08mWQO1",
    "papermill": {
     "duration": 0.01959,
     "end_time": "2024-12-21T20:00:40.285183",
     "exception": false,
     "start_time": "2024-12-21T20:00:40.265593",
     "status": "completed"
    },
    "tags": []
   },
   "outputs": [],
   "source": [
    "tesla_df.index = tesla_df[\"Date\"]"
   ]
  },
  {
   "cell_type": "code",
   "execution_count": 12,
   "id": "2ae40438",
   "metadata": {
    "execution": {
     "iopub.execute_input": "2024-12-21T20:00:40.310582Z",
     "iopub.status.busy": "2024-12-21T20:00:40.309642Z",
     "iopub.status.idle": "2024-12-21T20:00:40.321109Z",
     "shell.execute_reply": "2024-12-21T20:00:40.320003Z"
    },
    "id": "YBWxX2IOWoL_",
    "papermill": {
     "duration": 0.026201,
     "end_time": "2024-12-21T20:00:40.323131",
     "exception": false,
     "start_time": "2024-12-21T20:00:40.296930",
     "status": "completed"
    },
    "tags": []
   },
   "outputs": [
    {
     "data": {
      "text/html": [
       "<div>\n",
       "<style scoped>\n",
       "    .dataframe tbody tr th:only-of-type {\n",
       "        vertical-align: middle;\n",
       "    }\n",
       "\n",
       "    .dataframe tbody tr th {\n",
       "        vertical-align: top;\n",
       "    }\n",
       "\n",
       "    .dataframe thead th {\n",
       "        text-align: right;\n",
       "    }\n",
       "</style>\n",
       "<table border=\"1\" class=\"dataframe\">\n",
       "  <thead>\n",
       "    <tr style=\"text-align: right;\">\n",
       "      <th></th>\n",
       "      <th>Date</th>\n",
       "      <th>Close</th>\n",
       "    </tr>\n",
       "    <tr>\n",
       "      <th>Date</th>\n",
       "      <th></th>\n",
       "      <th></th>\n",
       "    </tr>\n",
       "  </thead>\n",
       "  <tbody>\n",
       "    <tr>\n",
       "      <th>2010-06-29</th>\n",
       "      <td>2010-06-29</td>\n",
       "      <td>23.889999</td>\n",
       "    </tr>\n",
       "    <tr>\n",
       "      <th>2010-06-30</th>\n",
       "      <td>2010-06-30</td>\n",
       "      <td>23.830000</td>\n",
       "    </tr>\n",
       "    <tr>\n",
       "      <th>2010-07-01</th>\n",
       "      <td>2010-07-01</td>\n",
       "      <td>21.959999</td>\n",
       "    </tr>\n",
       "    <tr>\n",
       "      <th>2010-07-02</th>\n",
       "      <td>2010-07-02</td>\n",
       "      <td>19.200001</td>\n",
       "    </tr>\n",
       "    <tr>\n",
       "      <th>2010-07-06</th>\n",
       "      <td>2010-07-06</td>\n",
       "      <td>16.110001</td>\n",
       "    </tr>\n",
       "    <tr>\n",
       "      <th>...</th>\n",
       "      <td>...</td>\n",
       "      <td>...</td>\n",
       "    </tr>\n",
       "    <tr>\n",
       "      <th>2020-01-28</th>\n",
       "      <td>2020-01-28</td>\n",
       "      <td>566.900024</td>\n",
       "    </tr>\n",
       "    <tr>\n",
       "      <th>2020-01-29</th>\n",
       "      <td>2020-01-29</td>\n",
       "      <td>580.989990</td>\n",
       "    </tr>\n",
       "    <tr>\n",
       "      <th>2020-01-30</th>\n",
       "      <td>2020-01-30</td>\n",
       "      <td>640.809998</td>\n",
       "    </tr>\n",
       "    <tr>\n",
       "      <th>2020-01-31</th>\n",
       "      <td>2020-01-31</td>\n",
       "      <td>650.570007</td>\n",
       "    </tr>\n",
       "    <tr>\n",
       "      <th>2020-02-03</th>\n",
       "      <td>2020-02-03</td>\n",
       "      <td>780.000000</td>\n",
       "    </tr>\n",
       "  </tbody>\n",
       "</table>\n",
       "<p>2416 rows × 2 columns</p>\n",
       "</div>"
      ],
      "text/plain": [
       "                 Date       Close\n",
       "Date                             \n",
       "2010-06-29 2010-06-29   23.889999\n",
       "2010-06-30 2010-06-30   23.830000\n",
       "2010-07-01 2010-07-01   21.959999\n",
       "2010-07-02 2010-07-02   19.200001\n",
       "2010-07-06 2010-07-06   16.110001\n",
       "...               ...         ...\n",
       "2020-01-28 2020-01-28  566.900024\n",
       "2020-01-29 2020-01-29  580.989990\n",
       "2020-01-30 2020-01-30  640.809998\n",
       "2020-01-31 2020-01-31  650.570007\n",
       "2020-02-03 2020-02-03  780.000000\n",
       "\n",
       "[2416 rows x 2 columns]"
      ]
     },
     "execution_count": 12,
     "metadata": {},
     "output_type": "execute_result"
    }
   ],
   "source": [
    "tesla_df"
   ]
  },
  {
   "cell_type": "code",
   "execution_count": 13,
   "id": "df32ac9f",
   "metadata": {
    "execution": {
     "iopub.execute_input": "2024-12-21T20:00:40.348699Z",
     "iopub.status.busy": "2024-12-21T20:00:40.348324Z",
     "iopub.status.idle": "2024-12-21T20:00:40.353907Z",
     "shell.execute_reply": "2024-12-21T20:00:40.352883Z"
    },
    "id": "tgPM31WBWvcH",
    "papermill": {
     "duration": 0.020412,
     "end_time": "2024-12-21T20:00:40.355888",
     "exception": false,
     "start_time": "2024-12-21T20:00:40.335476",
     "status": "completed"
    },
    "tags": []
   },
   "outputs": [],
   "source": [
    "tesla_df.drop(\"Date\", axis=1, inplace=True)"
   ]
  },
  {
   "cell_type": "code",
   "execution_count": 14,
   "id": "3a611e76",
   "metadata": {
    "execution": {
     "iopub.execute_input": "2024-12-21T20:00:40.381198Z",
     "iopub.status.busy": "2024-12-21T20:00:40.380268Z",
     "iopub.status.idle": "2024-12-21T20:00:40.391037Z",
     "shell.execute_reply": "2024-12-21T20:00:40.389956Z"
    },
    "id": "17KdnKMGWwSm",
    "papermill": {
     "duration": 0.025766,
     "end_time": "2024-12-21T20:00:40.393220",
     "exception": false,
     "start_time": "2024-12-21T20:00:40.367454",
     "status": "completed"
    },
    "tags": []
   },
   "outputs": [
    {
     "data": {
      "text/html": [
       "<div>\n",
       "<style scoped>\n",
       "    .dataframe tbody tr th:only-of-type {\n",
       "        vertical-align: middle;\n",
       "    }\n",
       "\n",
       "    .dataframe tbody tr th {\n",
       "        vertical-align: top;\n",
       "    }\n",
       "\n",
       "    .dataframe thead th {\n",
       "        text-align: right;\n",
       "    }\n",
       "</style>\n",
       "<table border=\"1\" class=\"dataframe\">\n",
       "  <thead>\n",
       "    <tr style=\"text-align: right;\">\n",
       "      <th></th>\n",
       "      <th>Close</th>\n",
       "    </tr>\n",
       "    <tr>\n",
       "      <th>Date</th>\n",
       "      <th></th>\n",
       "    </tr>\n",
       "  </thead>\n",
       "  <tbody>\n",
       "    <tr>\n",
       "      <th>2010-06-29</th>\n",
       "      <td>23.889999</td>\n",
       "    </tr>\n",
       "    <tr>\n",
       "      <th>2010-06-30</th>\n",
       "      <td>23.830000</td>\n",
       "    </tr>\n",
       "    <tr>\n",
       "      <th>2010-07-01</th>\n",
       "      <td>21.959999</td>\n",
       "    </tr>\n",
       "    <tr>\n",
       "      <th>2010-07-02</th>\n",
       "      <td>19.200001</td>\n",
       "    </tr>\n",
       "    <tr>\n",
       "      <th>2010-07-06</th>\n",
       "      <td>16.110001</td>\n",
       "    </tr>\n",
       "    <tr>\n",
       "      <th>...</th>\n",
       "      <td>...</td>\n",
       "    </tr>\n",
       "    <tr>\n",
       "      <th>2020-01-28</th>\n",
       "      <td>566.900024</td>\n",
       "    </tr>\n",
       "    <tr>\n",
       "      <th>2020-01-29</th>\n",
       "      <td>580.989990</td>\n",
       "    </tr>\n",
       "    <tr>\n",
       "      <th>2020-01-30</th>\n",
       "      <td>640.809998</td>\n",
       "    </tr>\n",
       "    <tr>\n",
       "      <th>2020-01-31</th>\n",
       "      <td>650.570007</td>\n",
       "    </tr>\n",
       "    <tr>\n",
       "      <th>2020-02-03</th>\n",
       "      <td>780.000000</td>\n",
       "    </tr>\n",
       "  </tbody>\n",
       "</table>\n",
       "<p>2416 rows × 1 columns</p>\n",
       "</div>"
      ],
      "text/plain": [
       "                 Close\n",
       "Date                  \n",
       "2010-06-29   23.889999\n",
       "2010-06-30   23.830000\n",
       "2010-07-01   21.959999\n",
       "2010-07-02   19.200001\n",
       "2010-07-06   16.110001\n",
       "...                ...\n",
       "2020-01-28  566.900024\n",
       "2020-01-29  580.989990\n",
       "2020-01-30  640.809998\n",
       "2020-01-31  650.570007\n",
       "2020-02-03  780.000000\n",
       "\n",
       "[2416 rows x 1 columns]"
      ]
     },
     "execution_count": 14,
     "metadata": {},
     "output_type": "execute_result"
    }
   ],
   "source": [
    "tesla_df"
   ]
  },
  {
   "cell_type": "code",
   "execution_count": 15,
   "id": "65418011",
   "metadata": {
    "execution": {
     "iopub.execute_input": "2024-12-21T20:00:40.418601Z",
     "iopub.status.busy": "2024-12-21T20:00:40.418216Z",
     "iopub.status.idle": "2024-12-21T20:00:40.423347Z",
     "shell.execute_reply": "2024-12-21T20:00:40.422226Z"
    },
    "id": "PliZ5OcsWxsF",
    "papermill": {
     "duration": 0.020136,
     "end_time": "2024-12-21T20:00:40.425329",
     "exception": false,
     "start_time": "2024-12-21T20:00:40.405193",
     "status": "completed"
    },
    "tags": []
   },
   "outputs": [],
   "source": [
    "result_df = tesla_df.copy()"
   ]
  },
  {
   "cell_type": "code",
   "execution_count": 16,
   "id": "03ab0065",
   "metadata": {
    "execution": {
     "iopub.execute_input": "2024-12-21T20:00:40.450609Z",
     "iopub.status.busy": "2024-12-21T20:00:40.450255Z",
     "iopub.status.idle": "2024-12-21T20:00:40.835068Z",
     "shell.execute_reply": "2024-12-21T20:00:40.833983Z"
    },
    "id": "ObqHX6K2W0te",
    "papermill": {
     "duration": 0.400151,
     "end_time": "2024-12-21T20:00:40.837273",
     "exception": false,
     "start_time": "2024-12-21T20:00:40.437122",
     "status": "completed"
    },
    "tags": []
   },
   "outputs": [
    {
     "data": {
      "image/png": "[encoded data removed]",
      "text/plain": [
       "<Figure size 1400x500 with 1 Axes>"
      ]
     },
     "metadata": {},
     "output_type": "display_data"
    }
   ],
   "source": [
    "plt.figure(figsize=(14,5))\n",
    "plt.plot(tesla_df['Close'], color='blue')\n",
    "plt.title(\"Tesla Stock Price\")\n",
    "plt.xlabel(\"Time\")\n",
    "plt.ylabel(\"Stock Price\")\n",
    "plt.show()"
   ]
  },
  {
   "cell_type": "code",
   "execution_count": 17,
   "id": "e0eeee1f",
   "metadata": {
    "execution": {
     "iopub.execute_input": "2024-12-21T20:00:40.864756Z",
     "iopub.status.busy": "2024-12-21T20:00:40.864369Z",
     "iopub.status.idle": "2024-12-21T20:00:40.869069Z",
     "shell.execute_reply": "2024-12-21T20:00:40.867931Z"
    },
    "id": "5LWFDWjNW2z2",
    "papermill": {
     "duration": 0.020535,
     "end_time": "2024-12-21T20:00:40.870913",
     "exception": false,
     "start_time": "2024-12-21T20:00:40.850378",
     "status": "completed"
    },
    "tags": []
   },
   "outputs": [],
   "source": [
    "tesla_df = tesla_df.values"
   ]
  },
  {
   "cell_type": "code",
   "execution_count": 18,
   "id": "9812271b",
   "metadata": {
    "execution": {
     "iopub.execute_input": "2024-12-21T20:00:40.898195Z",
     "iopub.status.busy": "2024-12-21T20:00:40.897744Z",
     "iopub.status.idle": "2024-12-21T20:00:40.904568Z",
     "shell.execute_reply": "2024-12-21T20:00:40.903540Z"
    },
    "id": "jxFZkTS-W9Mm",
    "papermill": {
     "duration": 0.022909,
     "end_time": "2024-12-21T20:00:40.906548",
     "exception": false,
     "start_time": "2024-12-21T20:00:40.883639",
     "status": "completed"
    },
    "tags": []
   },
   "outputs": [
    {
     "data": {
      "text/plain": [
       "array([[23.889999],\n",
       "       [23.83    ],\n",
       "       [21.959999],\n",
       "       [19.200001],\n",
       "       [16.110001]])"
      ]
     },
     "execution_count": 18,
     "metadata": {},
     "output_type": "execute_result"
    }
   ],
   "source": [
    "tesla_df[0:5]"
   ]
  },
  {
   "cell_type": "code",
   "execution_count": 19,
   "id": "e5cbdd6f",
   "metadata": {
    "execution": {
     "iopub.execute_input": "2024-12-21T20:00:40.933531Z",
     "iopub.status.busy": "2024-12-21T20:00:40.933152Z",
     "iopub.status.idle": "2024-12-21T20:00:40.937805Z",
     "shell.execute_reply": "2024-12-21T20:00:40.936869Z"
    },
    "id": "iU7KJlc4XAb2",
    "papermill": {
     "duration": 0.020404,
     "end_time": "2024-12-21T20:00:40.939792",
     "exception": false,
     "start_time": "2024-12-21T20:00:40.919388",
     "status": "completed"
    },
    "tags": []
   },
   "outputs": [],
   "source": [
    "tesla_df = tesla_df.astype(\"float32\")"
   ]
  },
  {
   "cell_type": "code",
   "execution_count": 20,
   "id": "a074f951",
   "metadata": {
    "execution": {
     "iopub.execute_input": "2024-12-21T20:00:40.967678Z",
     "iopub.status.busy": "2024-12-21T20:00:40.967287Z",
     "iopub.status.idle": "2024-12-21T20:00:40.972588Z",
     "shell.execute_reply": "2024-12-21T20:00:40.971572Z"
    },
    "id": "r7Cywk9oXBI-",
    "papermill": {
     "duration": 0.022097,
     "end_time": "2024-12-21T20:00:40.974537",
     "exception": false,
     "start_time": "2024-12-21T20:00:40.952440",
     "status": "completed"
    },
    "tags": []
   },
   "outputs": [],
   "source": [
    "def split_data(dataframe, test_size):\n",
    "  position = int(round(len(dataframe) * (1 - test_size)))\n",
    "  train = dataframe[:position]\n",
    "  test = dataframe[position:]\n",
    "  return train, test, position"
   ]
  },
  {
   "cell_type": "code",
   "execution_count": 21,
   "id": "1fa03182",
   "metadata": {
    "execution": {
     "iopub.execute_input": "2024-12-21T20:00:41.002040Z",
     "iopub.status.busy": "2024-12-21T20:00:41.001568Z",
     "iopub.status.idle": "2024-12-21T20:00:41.006903Z",
     "shell.execute_reply": "2024-12-21T20:00:41.005867Z"
    },
    "id": "COxqfz0SZvV_",
    "papermill": {
     "duration": 0.021782,
     "end_time": "2024-12-21T20:00:41.008946",
     "exception": false,
     "start_time": "2024-12-21T20:00:40.987164",
     "status": "completed"
    },
    "tags": []
   },
   "outputs": [],
   "source": [
    "train, test, position = split_data(tesla_df, 0.20)"
   ]
  },
  {
   "cell_type": "code",
   "execution_count": 22,
   "id": "03712038",
   "metadata": {
    "execution": {
     "iopub.execute_input": "2024-12-21T20:00:41.035710Z",
     "iopub.status.busy": "2024-12-21T20:00:41.035316Z",
     "iopub.status.idle": "2024-12-21T20:00:41.041198Z",
     "shell.execute_reply": "2024-12-21T20:00:41.040097Z"
    },
    "id": "jESwxnt2Z1t5",
    "papermill": {
     "duration": 0.021377,
     "end_time": "2024-12-21T20:00:41.043059",
     "exception": false,
     "start_time": "2024-12-21T20:00:41.021682",
     "status": "completed"
    },
    "tags": []
   },
   "outputs": [
    {
     "name": "stdout",
     "output_type": "stream",
     "text": [
      "(1933, 1) (483, 1)\n"
     ]
    }
   ],
   "source": [
    "print(train.shape, test.shape)"
   ]
  },
  {
   "cell_type": "code",
   "execution_count": 23,
   "id": "90b25912",
   "metadata": {
    "execution": {
     "iopub.execute_input": "2024-12-21T20:00:41.070501Z",
     "iopub.status.busy": "2024-12-21T20:00:41.070115Z",
     "iopub.status.idle": "2024-12-21T20:00:41.074869Z",
     "shell.execute_reply": "2024-12-21T20:00:41.073900Z"
    },
    "id": "wleQDdgSZ8NZ",
    "papermill": {
     "duration": 0.020869,
     "end_time": "2024-12-21T20:00:41.076787",
     "exception": false,
     "start_time": "2024-12-21T20:00:41.055918",
     "status": "completed"
    },
    "tags": []
   },
   "outputs": [],
   "source": [
    "scaler_train = MinMaxScaler(feature_range = (0,1))"
   ]
  },
  {
   "cell_type": "code",
   "execution_count": 24,
   "id": "135a47b4",
   "metadata": {
    "execution": {
     "iopub.execute_input": "2024-12-21T20:00:41.104768Z",
     "iopub.status.busy": "2024-12-21T20:00:41.104372Z",
     "iopub.status.idle": "2024-12-21T20:00:41.110293Z",
     "shell.execute_reply": "2024-12-21T20:00:41.109243Z"
    },
    "id": "Enf8wikDaNZh",
    "papermill": {
     "duration": 0.022811,
     "end_time": "2024-12-21T20:00:41.112450",
     "exception": false,
     "start_time": "2024-12-21T20:00:41.089639",
     "status": "completed"
    },
    "tags": []
   },
   "outputs": [],
   "source": [
    "train = scaler_train.fit_transform(train)"
   ]
  },
  {
   "cell_type": "code",
   "execution_count": 25,
   "id": "df61a534",
   "metadata": {
    "execution": {
     "iopub.execute_input": "2024-12-21T20:00:41.139443Z",
     "iopub.status.busy": "2024-12-21T20:00:41.139058Z",
     "iopub.status.idle": "2024-12-21T20:00:41.143994Z",
     "shell.execute_reply": "2024-12-21T20:00:41.142925Z"
    },
    "id": "cg-7tCn_aXTc",
    "papermill": {
     "duration": 0.020861,
     "end_time": "2024-12-21T20:00:41.146104",
     "exception": false,
     "start_time": "2024-12-21T20:00:41.125243",
     "status": "completed"
    },
    "tags": []
   },
   "outputs": [],
   "source": [
    "scaler_test = MinMaxScaler(feature_range = (0,1))"
   ]
  },
  {
   "cell_type": "code",
   "execution_count": 26,
   "id": "d225321b",
   "metadata": {
    "execution": {
     "iopub.execute_input": "2024-12-21T20:00:41.174323Z",
     "iopub.status.busy": "2024-12-21T20:00:41.173889Z",
     "iopub.status.idle": "2024-12-21T20:00:41.179870Z",
     "shell.execute_reply": "2024-12-21T20:00:41.178733Z"
    },
    "id": "tSbuIifiabbC",
    "papermill": {
     "duration": 0.022815,
     "end_time": "2024-12-21T20:00:41.182087",
     "exception": false,
     "start_time": "2024-12-21T20:00:41.159272",
     "status": "completed"
    },
    "tags": []
   },
   "outputs": [],
   "source": [
    "test = scaler_test.fit_transform(test)"
   ]
  },
  {
   "cell_type": "code",
   "execution_count": 27,
   "id": "5b5de986",
   "metadata": {
    "execution": {
     "iopub.execute_input": "2024-12-21T20:00:41.209288Z",
     "iopub.status.busy": "2024-12-21T20:00:41.208904Z",
     "iopub.status.idle": "2024-12-21T20:00:41.215853Z",
     "shell.execute_reply": "2024-12-21T20:00:41.214750Z"
    },
    "id": "X5a7m_BEagaJ",
    "papermill": {
     "duration": 0.02294,
     "end_time": "2024-12-21T20:00:41.217884",
     "exception": false,
     "start_time": "2024-12-21T20:00:41.194944",
     "status": "completed"
    },
    "tags": []
   },
   "outputs": [
    {
     "data": {
      "text/plain": [
       "array([[0.02191224],\n",
       "       [0.02174973],\n",
       "       [0.01668472],\n",
       "       [0.0092091 ],\n",
       "       [0.00083966]], dtype=float32)"
      ]
     },
     "execution_count": 27,
     "metadata": {},
     "output_type": "execute_result"
    }
   ],
   "source": [
    "train[0:5]"
   ]
  },
  {
   "cell_type": "code",
   "execution_count": 28,
   "id": "7c4b144e",
   "metadata": {
    "execution": {
     "iopub.execute_input": "2024-12-21T20:00:41.245388Z",
     "iopub.status.busy": "2024-12-21T20:00:41.245029Z",
     "iopub.status.idle": "2024-12-21T20:00:41.252062Z",
     "shell.execute_reply": "2024-12-21T20:00:41.250988Z"
    },
    "id": "AeVSy_ijahnh",
    "papermill": {
     "duration": 0.023305,
     "end_time": "2024-12-21T20:00:41.254097",
     "exception": false,
     "start_time": "2024-12-21T20:00:41.230792",
     "status": "completed"
    },
    "tags": []
   },
   "outputs": [
    {
     "data": {
      "text/plain": [
       "array([[0.25685903],\n",
       "       [0.24829045],\n",
       "       [0.25511202],\n",
       "       [0.24978784],\n",
       "       [0.2465767 ]], dtype=float32)"
      ]
     },
     "execution_count": 28,
     "metadata": {},
     "output_type": "execute_result"
    }
   ],
   "source": [
    "test[0:5]"
   ]
  },
  {
   "cell_type": "code",
   "execution_count": 29,
   "id": "d98ef68c",
   "metadata": {
    "execution": {
     "iopub.execute_input": "2024-12-21T20:00:41.282299Z",
     "iopub.status.busy": "2024-12-21T20:00:41.281931Z",
     "iopub.status.idle": "2024-12-21T20:00:41.287795Z",
     "shell.execute_reply": "2024-12-21T20:00:41.286716Z"
    },
    "id": "Gv95UqJWasHS",
    "papermill": {
     "duration": 0.022748,
     "end_time": "2024-12-21T20:00:41.290123",
     "exception": false,
     "start_time": "2024-12-21T20:00:41.267375",
     "status": "completed"
    },
    "tags": []
   },
   "outputs": [],
   "source": [
    "def create_features(data, lookback):\n",
    "  X, Y = [], []\n",
    "  for i in range(lookback, len(data)):\n",
    "    X.append(data[i-lookback:i,0])\n",
    "    Y.append(data[i,0])\n",
    "\n",
    "  return np.array(X), np.array(Y)"
   ]
  },
  {
   "cell_type": "code",
   "execution_count": 30,
   "id": "aeb6b3b9",
   "metadata": {
    "execution": {
     "iopub.execute_input": "2024-12-21T20:00:41.317951Z",
     "iopub.status.busy": "2024-12-21T20:00:41.317534Z",
     "iopub.status.idle": "2024-12-21T20:00:41.322209Z",
     "shell.execute_reply": "2024-12-21T20:00:41.321140Z"
    },
    "id": "e36Ux4_CbASm",
    "papermill": {
     "duration": 0.021508,
     "end_time": "2024-12-21T20:00:41.325004",
     "exception": false,
     "start_time": "2024-12-21T20:00:41.303496",
     "status": "completed"
    },
    "tags": []
   },
   "outputs": [],
   "source": [
    "lookback = 20"
   ]
  },
  {
   "cell_type": "code",
   "execution_count": 31,
   "id": "689940ac",
   "metadata": {
    "execution": {
     "iopub.execute_input": "2024-12-21T20:00:41.353467Z",
     "iopub.status.busy": "2024-12-21T20:00:41.353076Z",
     "iopub.status.idle": "2024-12-21T20:00:41.360925Z",
     "shell.execute_reply": "2024-12-21T20:00:41.359890Z"
    },
    "id": "Xd8JMdaWbCzp",
    "papermill": {
     "duration": 0.024876,
     "end_time": "2024-12-21T20:00:41.363343",
     "exception": false,
     "start_time": "2024-12-21T20:00:41.338467",
     "status": "completed"
    },
    "tags": []
   },
   "outputs": [],
   "source": [
    "X_train, y_train = create_features(train, lookback)"
   ]
  },
  {
   "cell_type": "code",
   "execution_count": 32,
   "id": "9531447f",
   "metadata": {
    "execution": {
     "iopub.execute_input": "2024-12-21T20:00:41.445229Z",
     "iopub.status.busy": "2024-12-21T20:00:41.444465Z",
     "iopub.status.idle": "2024-12-21T20:00:41.450036Z",
     "shell.execute_reply": "2024-12-21T20:00:41.449162Z"
    },
    "id": "wHgq8DT5bF_Z",
    "papermill": {
     "duration": 0.075591,
     "end_time": "2024-12-21T20:00:41.452053",
     "exception": false,
     "start_time": "2024-12-21T20:00:41.376462",
     "status": "completed"
    },
    "tags": []
   },
   "outputs": [],
   "source": [
    "X_test, y_test = create_features(test, lookback)"
   ]
  },
  {
   "cell_type": "code",
   "execution_count": 33,
   "id": "a47eab5e",
   "metadata": {
    "execution": {
     "iopub.execute_input": "2024-12-21T20:00:41.481498Z",
     "iopub.status.busy": "2024-12-21T20:00:41.481145Z",
     "iopub.status.idle": "2024-12-21T20:00:41.486696Z",
     "shell.execute_reply": "2024-12-21T20:00:41.485675Z"
    },
    "id": "zYQy_33TbKdb",
    "papermill": {
     "duration": 0.023585,
     "end_time": "2024-12-21T20:00:41.488794",
     "exception": false,
     "start_time": "2024-12-21T20:00:41.465209",
     "status": "completed"
    },
    "tags": []
   },
   "outputs": [
    {
     "name": "stdout",
     "output_type": "stream",
     "text": [
      "(1913, 20) (1913,) (463, 20) (463,)\n"
     ]
    }
   ],
   "source": [
    "print(X_train.shape, y_train.shape, X_test.shape, y_test.shape)"
   ]
  },
  {
   "cell_type": "code",
   "execution_count": 34,
   "id": "6fd1041c",
   "metadata": {
    "execution": {
     "iopub.execute_input": "2024-12-21T20:00:41.516399Z",
     "iopub.status.busy": "2024-12-21T20:00:41.516051Z",
     "iopub.status.idle": "2024-12-21T20:00:41.523430Z",
     "shell.execute_reply": "2024-12-21T20:00:41.522403Z"
    },
    "id": "sI1k-K6bTKuw",
    "papermill": {
     "duration": 0.023621,
     "end_time": "2024-12-21T20:00:41.525588",
     "exception": false,
     "start_time": "2024-12-21T20:00:41.501967",
     "status": "completed"
    },
    "tags": []
   },
   "outputs": [
    {
     "data": {
      "text/plain": [
       "array([[0.02191224, 0.02174973, 0.01668472, 0.0092091 , 0.00083966,\n",
       "        0.        , 0.00449621, 0.00433369, 0.0033857 , 0.00633803,\n",
       "        0.01094258, 0.011078  , 0.01310942, 0.0165493 , 0.01218851,\n",
       "        0.01197183, 0.01408451, 0.01486999, 0.01394908, 0.01286566],\n",
       "       [0.02174973, 0.01668472, 0.0092091 , 0.00083966, 0.        ,\n",
       "        0.00449621, 0.00433369, 0.0033857 , 0.00633803, 0.01094258,\n",
       "        0.011078  , 0.01310942, 0.0165493 , 0.01218851, 0.01197183,\n",
       "        0.01408451, 0.01486999, 0.01394908, 0.01286566, 0.01332611],\n",
       "       [0.01668472, 0.0092091 , 0.00083966, 0.        , 0.00449621,\n",
       "        0.00433369, 0.0033857 , 0.00633803, 0.01094258, 0.011078  ,\n",
       "        0.01310942, 0.0165493 , 0.01218851, 0.01197183, 0.01408451,\n",
       "        0.01486999, 0.01394908, 0.01286566, 0.01332611, 0.01232395],\n",
       "       [0.0092091 , 0.00083966, 0.        , 0.00449621, 0.00433369,\n",
       "        0.0033857 , 0.00633803, 0.01094258, 0.011078  , 0.01310942,\n",
       "        0.0165493 , 0.01218851, 0.01197183, 0.01408451, 0.01486999,\n",
       "        0.01394908, 0.01286566, 0.01332611, 0.01232395, 0.01121344],\n",
       "       [0.00083966, 0.        , 0.00449621, 0.00433369, 0.0033857 ,\n",
       "        0.00633803, 0.01094258, 0.011078  , 0.01310942, 0.0165493 ,\n",
       "        0.01218851, 0.01197183, 0.01408451, 0.01486999, 0.01394908,\n",
       "        0.01286566, 0.01332611, 0.01232395, 0.01121344, 0.01386782]],\n",
       "      dtype=float32)"
      ]
     },
     "execution_count": 34,
     "metadata": {},
     "output_type": "execute_result"
    }
   ],
   "source": [
    "X_train[0:5]"
   ]
  },
  {
   "cell_type": "code",
   "execution_count": 35,
   "id": "f66cbbd6",
   "metadata": {
    "execution": {
     "iopub.execute_input": "2024-12-21T20:00:41.554041Z",
     "iopub.status.busy": "2024-12-21T20:00:41.553626Z",
     "iopub.status.idle": "2024-12-21T20:00:41.560554Z",
     "shell.execute_reply": "2024-12-21T20:00:41.559477Z"
    },
    "id": "vY5hCVQHTg9u",
    "papermill": {
     "duration": 0.023544,
     "end_time": "2024-12-21T20:00:41.562678",
     "exception": false,
     "start_time": "2024-12-21T20:00:41.539134",
     "status": "completed"
    },
    "tags": []
   },
   "outputs": [
    {
     "data": {
      "text/plain": [
       "array([0.01332611, 0.01232395, 0.01121344, 0.01386782, 0.01665764],\n",
       "      dtype=float32)"
      ]
     },
     "execution_count": 35,
     "metadata": {},
     "output_type": "execute_result"
    }
   ],
   "source": [
    "y_train[0:5]"
   ]
  },
  {
   "cell_type": "code",
   "execution_count": 36,
   "id": "b224a039",
   "metadata": {
    "execution": {
     "iopub.execute_input": "2024-12-21T20:00:41.590596Z",
     "iopub.status.busy": "2024-12-21T20:00:41.590216Z",
     "iopub.status.idle": "2024-12-21T20:00:41.595743Z",
     "shell.execute_reply": "2024-12-21T20:00:41.594737Z"
    },
    "id": "yvf-4kLybad5",
    "papermill": {
     "duration": 0.022133,
     "end_time": "2024-12-21T20:00:41.598079",
     "exception": false,
     "start_time": "2024-12-21T20:00:41.575946",
     "status": "completed"
    },
    "tags": []
   },
   "outputs": [],
   "source": [
    "X_train = np.reshape(X_train, (X_train.shape[0], 1, X_train.shape[1]))\n",
    "X_test = np.reshape(X_test, (X_test.shape[0], 1, X_test.shape[1]))\n",
    "y_train = y_train.reshape(-1,1)\n",
    "y_test = y_test.reshape(-1,1)"
   ]
  },
  {
   "cell_type": "code",
   "execution_count": 37,
   "id": "72800a75",
   "metadata": {
    "execution": {
     "iopub.execute_input": "2024-12-21T20:00:41.626708Z",
     "iopub.status.busy": "2024-12-21T20:00:41.626319Z",
     "iopub.status.idle": "2024-12-21T20:00:41.631866Z",
     "shell.execute_reply": "2024-12-21T20:00:41.630800Z"
    },
    "id": "D2ltv0Edb3wz",
    "papermill": {
     "duration": 0.022428,
     "end_time": "2024-12-21T20:00:41.633936",
     "exception": false,
     "start_time": "2024-12-21T20:00:41.611508",
     "status": "completed"
    },
    "tags": []
   },
   "outputs": [
    {
     "name": "stdout",
     "output_type": "stream",
     "text": [
      "(1913, 1, 20) (1913, 1) (463, 1, 20) (463, 1)\n"
     ]
    }
   ],
   "source": [
    "print(X_train.shape, y_train.shape, X_test.shape, y_test.shape)"
   ]
  },
  {
   "cell_type": "markdown",
   "id": "6939773d",
   "metadata": {
    "id": "DtsN3xazcIAn",
    "papermill": {
     "duration": 0.013173,
     "end_time": "2024-12-21T20:00:41.660773",
     "exception": false,
     "start_time": "2024-12-21T20:00:41.647600",
     "status": "completed"
    },
    "tags": []
   },
   "source": [
    "## Modelling"
   ]
  },
  {
   "cell_type": "code",
   "execution_count": 38,
   "id": "ad370faa",
   "metadata": {
    "execution": {
     "iopub.execute_input": "2024-12-21T20:00:41.689174Z",
     "iopub.status.busy": "2024-12-21T20:00:41.688720Z",
     "iopub.status.idle": "2024-12-21T20:00:41.802441Z",
     "shell.execute_reply": "2024-12-21T20:00:41.801607Z"
    },
    "id": "QtbQx4G9cI_z",
    "papermill": {
     "duration": 0.130538,
     "end_time": "2024-12-21T20:00:41.804664",
     "exception": false,
     "start_time": "2024-12-21T20:00:41.674126",
     "status": "completed"
    },
    "tags": []
   },
   "outputs": [],
   "source": [
    "model = Sequential()\n",
    "\n",
    "model.add(LSTM(units = 50,\n",
    "                    activation = 'relu',\n",
    "                    input_shape=(X_train.shape[1], lookback)))\n",
    "\n",
    "model.add(Dropout(0.2))\n",
    "\n",
    "model.add(Dense(1))\n"
   ]
  },
  {
   "cell_type": "code",
   "execution_count": 39,
   "id": "e5a05016",
   "metadata": {
    "execution": {
     "iopub.execute_input": "2024-12-21T20:00:41.833676Z",
     "iopub.status.busy": "2024-12-21T20:00:41.832739Z",
     "iopub.status.idle": "2024-12-21T20:00:41.850640Z",
     "shell.execute_reply": "2024-12-21T20:00:41.849556Z"
    },
    "id": "RQFXIkDbciE6",
    "papermill": {
     "duration": 0.034265,
     "end_time": "2024-12-21T20:00:41.852424",
     "exception": false,
     "start_time": "2024-12-21T20:00:41.818159",
     "status": "completed"
    },
    "tags": []
   },
   "outputs": [
    {
     "data": {
      "text/html": [
       "<pre style=\"white-space:pre;overflow-x:auto;line-height:normal;font-family:Menlo,'DejaVu Sans Mono',consolas,'Courier New',monospace\"><span style=\"font-weight: bold\">Model: \"sequential\"</span>\n",
       "</pre>\n"
      ],
      "text/plain": [
       "\u001b[1mModel: \"sequential\"\u001b[0m\n"
      ]
     },
     "metadata": {},
     "output_type": "display_data"
    },
    {
     "data": {
      "text/html": [
       "<pre style=\"white-space:pre;overflow-x:auto;line-height:normal;font-family:Menlo,'DejaVu Sans Mono',consolas,'Courier New',monospace\">┏━━━━━━━━━━━━━━━━━━━━━━━━━━━━━━━━━┳━━━━━━━━━━━━━━━━━━━━━━━━┳━━━━━━━━━━━━━━━┓\n",
       "┃<span style=\"font-weight: bold\"> Layer (type)                    </span>┃<span style=\"font-weight: bold\"> Output Shape           </span>┃<span style=\"font-weight: bold\">       Param # </span>┃\n",
       "┡━━━━━━━━━━━━━━━━━━━━━━━━━━━━━━━━━╇━━━━━━━━━━━━━━━━━━━━━━━━╇━━━━━━━━━━━━━━━┩\n",
       "│ lstm (<span style=\"color: #0087ff; text-decoration-color: #0087ff\">LSTM</span>)                     │ (<span style=\"color: #00d7ff; text-decoration-color: #00d7ff\">None</span>, <span style=\"color: #00af00; text-decoration-color: #00af00\">50</span>)             │        <span style=\"color: #00af00; text-decoration-color: #00af00\">14,200</span> │\n",
       "├─────────────────────────────────┼────────────────────────┼───────────────┤\n",
       "│ dropout (<span style=\"color: #0087ff; text-decoration-color: #0087ff\">Dropout</span>)               │ (<span style=\"color: #00d7ff; text-decoration-color: #00d7ff\">None</span>, <span style=\"color: #00af00; text-decoration-color: #00af00\">50</span>)             │             <span style=\"color: #00af00; text-decoration-color: #00af00\">0</span> │\n",
       "├─────────────────────────────────┼────────────────────────┼───────────────┤\n",
       "│ dense (<span style=\"color: #0087ff; text-decoration-color: #0087ff\">Dense</span>)                   │ (<span style=\"color: #00d7ff; text-decoration-color: #00d7ff\">None</span>, <span style=\"color: #00af00; text-decoration-color: #00af00\">1</span>)              │            <span style=\"color: #00af00; text-decoration-color: #00af00\">51</span> │\n",
       "└─────────────────────────────────┴────────────────────────┴───────────────┘\n",
       "</pre>\n"
      ],
      "text/plain": [
       "┏━━━━━━━━━━━━━━━━━━━━━━━━━━━━━━━━━┳━━━━━━━━━━━━━━━━━━━━━━━━┳━━━━━━━━━━━━━━━┓\n",
       "┃\u001b[1m \u001b[0m\u001b[1mLayer (type)                   \u001b[0m\u001b[1m \u001b[0m┃\u001b[1m \u001b[0m\u001b[1mOutput Shape          \u001b[0m\u001b[1m \u001b[0m┃\u001b[1m \u001b[0m\u001b[1m      Param #\u001b[0m\u001b[1m \u001b[0m┃\n",
       "┡━━━━━━━━━━━━━━━━━━━━━━━━━━━━━━━━━╇━━━━━━━━━━━━━━━━━━━━━━━━╇━━━━━━━━━━━━━━━┩\n",
       "│ lstm (\u001b[38;5;33mLSTM\u001b[0m)                     │ (\u001b[38;5;45mNone\u001b[0m, \u001b[38;5;34m50\u001b[0m)             │        \u001b[38;5;34m14,200\u001b[0m │\n",
       "├─────────────────────────────────┼────────────────────────┼───────────────┤\n",
       "│ dropout (\u001b[38;5;33mDropout\u001b[0m)               │ (\u001b[38;5;45mNone\u001b[0m, \u001b[38;5;34m50\u001b[0m)             │             \u001b[38;5;34m0\u001b[0m │\n",
       "├─────────────────────────────────┼────────────────────────┼───────────────┤\n",
       "│ dense (\u001b[38;5;33mDense\u001b[0m)                   │ (\u001b[38;5;45mNone\u001b[0m, \u001b[38;5;34m1\u001b[0m)              │            \u001b[38;5;34m51\u001b[0m │\n",
       "└─────────────────────────────────┴────────────────────────┴───────────────┘\n"
      ]
     },
     "metadata": {},
     "output_type": "display_data"
    },
    {
     "data": {
      "text/html": [
       "<pre style=\"white-space:pre;overflow-x:auto;line-height:normal;font-family:Menlo,'DejaVu Sans Mono',consolas,'Courier New',monospace\"><span style=\"font-weight: bold\"> Total params: </span><span style=\"color: #00af00; text-decoration-color: #00af00\">14,251</span> (55.67 KB)\n",
       "</pre>\n"
      ],
      "text/plain": [
       "\u001b[1m Total params: \u001b[0m\u001b[38;5;34m14,251\u001b[0m (55.67 KB)\n"
      ]
     },
     "metadata": {},
     "output_type": "display_data"
    },
    {
     "data": {
      "text/html": [
       "<pre style=\"white-space:pre;overflow-x:auto;line-height:normal;font-family:Menlo,'DejaVu Sans Mono',consolas,'Courier New',monospace\"><span style=\"font-weight: bold\"> Trainable params: </span><span style=\"color: #00af00; text-decoration-color: #00af00\">14,251</span> (55.67 KB)\n",
       "</pre>\n"
      ],
      "text/plain": [
       "\u001b[1m Trainable params: \u001b[0m\u001b[38;5;34m14,251\u001b[0m (55.67 KB)\n"
      ]
     },
     "metadata": {},
     "output_type": "display_data"
    },
    {
     "data": {
      "text/html": [
       "<pre style=\"white-space:pre;overflow-x:auto;line-height:normal;font-family:Menlo,'DejaVu Sans Mono',consolas,'Courier New',monospace\"><span style=\"font-weight: bold\"> Non-trainable params: </span><span style=\"color: #00af00; text-decoration-color: #00af00\">0</span> (0.00 B)\n",
       "</pre>\n"
      ],
      "text/plain": [
       "\u001b[1m Non-trainable params: \u001b[0m\u001b[38;5;34m0\u001b[0m (0.00 B)\n"
      ]
     },
     "metadata": {},
     "output_type": "display_data"
    }
   ],
   "source": [
    "model.summary()"
   ]
  },
  {
   "cell_type": "code",
   "execution_count": 40,
   "id": "cf89929d",
   "metadata": {
    "execution": {
     "iopub.execute_input": "2024-12-21T20:00:41.881976Z",
     "iopub.status.busy": "2024-12-21T20:00:41.881549Z",
     "iopub.status.idle": "2024-12-21T20:00:41.896198Z",
     "shell.execute_reply": "2024-12-21T20:00:41.895367Z"
    },
    "id": "NE6_O7IwclkT",
    "papermill": {
     "duration": 0.032145,
     "end_time": "2024-12-21T20:00:41.898585",
     "exception": false,
     "start_time": "2024-12-21T20:00:41.866440",
     "status": "completed"
    },
    "tags": []
   },
   "outputs": [],
   "source": [
    "model.compile(loss='mean_squared_error', optimizer='adam')"
   ]
  },
  {
   "cell_type": "code",
   "execution_count": 41,
   "id": "6128316a",
   "metadata": {
    "execution": {
     "iopub.execute_input": "2024-12-21T20:00:41.928276Z",
     "iopub.status.busy": "2024-12-21T20:00:41.927883Z",
     "iopub.status.idle": "2024-12-21T20:00:41.933043Z",
     "shell.execute_reply": "2024-12-21T20:00:41.932035Z"
    },
    "id": "JLqjYZudc3Is",
    "papermill": {
     "duration": 0.022602,
     "end_time": "2024-12-21T20:00:41.935035",
     "exception": false,
     "start_time": "2024-12-21T20:00:41.912433",
     "status": "completed"
    },
    "tags": []
   },
   "outputs": [],
   "source": [
    "callbacks = (EarlyStopping(monitor='val_loss', patience=10, verbose=1, mode='min'),\n",
    "            ModelCheckpoint(filepath='mymodel.keras', monitor='val_loss', mode='min',\n",
    "            save_best_only = True, save_weights_only = False, verbose = 1))"
   ]
  },
  {
   "cell_type": "code",
   "execution_count": 42,
   "id": "7bfd2977",
   "metadata": {
    "execution": {
     "iopub.execute_input": "2024-12-21T20:00:41.964403Z",
     "iopub.status.busy": "2024-12-21T20:00:41.964018Z",
     "iopub.status.idle": "2024-12-21T20:00:48.424712Z",
     "shell.execute_reply": "2024-12-21T20:00:48.423877Z"
    },
    "id": "7Pv-Fb9FdSf7",
    "papermill": {
     "duration": 6.478039,
     "end_time": "2024-12-21T20:00:48.427025",
     "exception": false,
     "start_time": "2024-12-21T20:00:41.948986",
     "status": "completed"
    },
    "tags": []
   },
   "outputs": [
    {
     "name": "stdout",
     "output_type": "stream",
     "text": [
      "Epoch 1/100\n",
      "\u001b[1m85/96\u001b[0m \u001b[32m━━━━━━━━━━━━━━━━━\u001b[0m\u001b[37m━━━\u001b[0m \u001b[1m0s\u001b[0m 2ms/step - loss: 0.0035\n",
      "Epoch 1: val_loss improved from inf to 0.00450, saving model to mymodel.keras\n",
      "\u001b[1m96/96\u001b[0m \u001b[32m━━━━━━━━━━━━━━━━━━━━\u001b[0m\u001b[37m\u001b[0m \u001b[1m2s\u001b[0m 5ms/step - loss: 0.0040 - val_loss: 0.0045\n",
      "Epoch 2/100\n",
      "\u001b[1m86/96\u001b[0m \u001b[32m━━━━━━━━━━━━━━━━━\u001b[0m\u001b[37m━━━\u001b[0m \u001b[1m0s\u001b[0m 2ms/step - loss: 0.0045\n",
      "Epoch 2: val_loss improved from 0.00450 to 0.00319, saving model to mymodel.keras\n",
      "\u001b[1m96/96\u001b[0m \u001b[32m━━━━━━━━━━━━━━━━━━━━\u001b[0m\u001b[37m\u001b[0m \u001b[1m0s\u001b[0m 3ms/step - loss: 0.0047 - val_loss: 0.0032\n",
      "Epoch 3/100\n",
      "\u001b[1m87/96\u001b[0m \u001b[32m━━━━━━━━━━━━━━━━━━\u001b[0m\u001b[37m━━\u001b[0m \u001b[1m0s\u001b[0m 2ms/step - loss: 0.0022\n",
      "Epoch 3: val_loss improved from 0.00319 to 0.00314, saving model to mymodel.keras\n",
      "\u001b[1m96/96\u001b[0m \u001b[32m━━━━━━━━━━━━━━━━━━━━\u001b[0m\u001b[37m\u001b[0m \u001b[1m0s\u001b[0m 2ms/step - loss: 0.0025 - val_loss: 0.0031\n",
      "Epoch 4/100\n",
      "\u001b[1m88/96\u001b[0m \u001b[32m━━━━━━━━━━━━━━━━━━\u001b[0m\u001b[37m━━\u001b[0m \u001b[1m0s\u001b[0m 2ms/step - loss: 0.0023\n",
      "Epoch 4: val_loss improved from 0.00314 to 0.00275, saving model to mymodel.keras\n",
      "\u001b[1m96/96\u001b[0m \u001b[32m━━━━━━━━━━━━━━━━━━━━\u001b[0m\u001b[37m\u001b[0m \u001b[1m0s\u001b[0m 2ms/step - loss: 0.0025 - val_loss: 0.0027\n",
      "Epoch 5/100\n",
      "\u001b[1m85/96\u001b[0m \u001b[32m━━━━━━━━━━━━━━━━━\u001b[0m\u001b[37m━━━\u001b[0m \u001b[1m0s\u001b[0m 2ms/step - loss: 0.0019\n",
      "Epoch 5: val_loss did not improve from 0.00275\n",
      "\u001b[1m96/96\u001b[0m \u001b[32m━━━━━━━━━━━━━━━━━━━━\u001b[0m\u001b[37m\u001b[0m \u001b[1m0s\u001b[0m 2ms/step - loss: 0.0022 - val_loss: 0.0029\n",
      "Epoch 6/100\n",
      "\u001b[1m76/96\u001b[0m \u001b[32m━━━━━━━━━━━━━━━\u001b[0m\u001b[37m━━━━━\u001b[0m \u001b[1m0s\u001b[0m 2ms/step - loss: 0.0018\n",
      "Epoch 6: val_loss did not improve from 0.00275\n",
      "\u001b[1m96/96\u001b[0m \u001b[32m━━━━━━━━━━━━━━━━━━━━\u001b[0m\u001b[37m\u001b[0m \u001b[1m0s\u001b[0m 3ms/step - loss: 0.0023 - val_loss: 0.0028\n",
      "Epoch 7/100\n",
      "\u001b[1m76/96\u001b[0m \u001b[32m━━━━━━━━━━━━━━━\u001b[0m\u001b[37m━━━━━\u001b[0m \u001b[1m0s\u001b[0m 2ms/step - loss: 9.7428e-04\n",
      "Epoch 7: val_loss improved from 0.00275 to 0.00246, saving model to mymodel.keras\n",
      "\u001b[1m96/96\u001b[0m \u001b[32m━━━━━━━━━━━━━━━━━━━━\u001b[0m\u001b[37m\u001b[0m \u001b[1m0s\u001b[0m 3ms/step - loss: 0.0015 - val_loss: 0.0025\n",
      "Epoch 8/100\n",
      "\u001b[1m73/96\u001b[0m \u001b[32m━━━━━━━━━━━━━━━\u001b[0m\u001b[37m━━━━━\u001b[0m \u001b[1m0s\u001b[0m 2ms/step - loss: 0.0011    \n",
      "Epoch 8: val_loss did not improve from 0.00246\n",
      "\u001b[1m96/96\u001b[0m \u001b[32m━━━━━━━━━━━━━━━━━━━━\u001b[0m\u001b[37m\u001b[0m \u001b[1m0s\u001b[0m 3ms/step - loss: 0.0016 - val_loss: 0.0025\n",
      "Epoch 9/100\n",
      "\u001b[1m86/96\u001b[0m \u001b[32m━━━━━━━━━━━━━━━━━\u001b[0m\u001b[37m━━━\u001b[0m \u001b[1m0s\u001b[0m 2ms/step - loss: 0.0017\n",
      "Epoch 9: val_loss did not improve from 0.00246\n",
      "\u001b[1m96/96\u001b[0m \u001b[32m━━━━━━━━━━━━━━━━━━━━\u001b[0m\u001b[37m\u001b[0m \u001b[1m0s\u001b[0m 2ms/step - loss: 0.0020 - val_loss: 0.0025\n",
      "Epoch 10/100\n",
      "\u001b[1m82/96\u001b[0m \u001b[32m━━━━━━━━━━━━━━━━━\u001b[0m\u001b[37m━━━\u001b[0m \u001b[1m0s\u001b[0m 2ms/step - loss: 0.0017\n",
      "Epoch 10: val_loss did not improve from 0.00246\n",
      "\u001b[1m96/96\u001b[0m \u001b[32m━━━━━━━━━━━━━━━━━━━━\u001b[0m\u001b[37m\u001b[0m \u001b[1m0s\u001b[0m 2ms/step - loss: 0.0020 - val_loss: 0.0039\n",
      "Epoch 11/100\n",
      "\u001b[1m85/96\u001b[0m \u001b[32m━━━━━━━━━━━━━━━━━\u001b[0m\u001b[37m━━━\u001b[0m \u001b[1m0s\u001b[0m 2ms/step - loss: 0.0022\n",
      "Epoch 11: val_loss did not improve from 0.00246\n",
      "\u001b[1m96/96\u001b[0m \u001b[32m━━━━━━━━━━━━━━━━━━━━\u001b[0m\u001b[37m\u001b[0m \u001b[1m0s\u001b[0m 2ms/step - loss: 0.0025 - val_loss: 0.0035\n",
      "Epoch 12/100\n",
      "\u001b[1m82/96\u001b[0m \u001b[32m━━━━━━━━━━━━━━━━━\u001b[0m\u001b[37m━━━\u001b[0m \u001b[1m0s\u001b[0m 2ms/step - loss: 0.0021\n",
      "Epoch 12: val_loss did not improve from 0.00246\n",
      "\u001b[1m96/96\u001b[0m \u001b[32m━━━━━━━━━━━━━━━━━━━━\u001b[0m\u001b[37m\u001b[0m \u001b[1m0s\u001b[0m 2ms/step - loss: 0.0025 - val_loss: 0.0068\n",
      "Epoch 13/100\n",
      "\u001b[1m86/96\u001b[0m \u001b[32m━━━━━━━━━━━━━━━━━\u001b[0m\u001b[37m━━━\u001b[0m \u001b[1m0s\u001b[0m 2ms/step - loss: 0.0023\n",
      "Epoch 13: val_loss did not improve from 0.00246\n",
      "\u001b[1m96/96\u001b[0m \u001b[32m━━━━━━━━━━━━━━━━━━━━\u001b[0m\u001b[37m\u001b[0m \u001b[1m0s\u001b[0m 2ms/step - loss: 0.0026 - val_loss: 0.0043\n",
      "Epoch 14/100\n",
      "\u001b[1m83/96\u001b[0m \u001b[32m━━━━━━━━━━━━━━━━━\u001b[0m\u001b[37m━━━\u001b[0m \u001b[1m0s\u001b[0m 2ms/step - loss: 0.0019\n",
      "Epoch 14: val_loss did not improve from 0.00246\n",
      "\u001b[1m96/96\u001b[0m \u001b[32m━━━━━━━━━━━━━━━━━━━━\u001b[0m\u001b[37m\u001b[0m \u001b[1m0s\u001b[0m 3ms/step - loss: 0.0023 - val_loss: 0.0064\n",
      "Epoch 15/100\n",
      "\u001b[1m86/96\u001b[0m \u001b[32m━━━━━━━━━━━━━━━━━\u001b[0m\u001b[37m━━━\u001b[0m \u001b[1m0s\u001b[0m 2ms/step - loss: 0.0021\n",
      "Epoch 15: val_loss did not improve from 0.00246\n",
      "\u001b[1m96/96\u001b[0m \u001b[32m━━━━━━━━━━━━━━━━━━━━\u001b[0m\u001b[37m\u001b[0m \u001b[1m0s\u001b[0m 2ms/step - loss: 0.0025 - val_loss: 0.0080\n",
      "Epoch 16/100\n",
      "\u001b[1m85/96\u001b[0m \u001b[32m━━━━━━━━━━━━━━━━━\u001b[0m\u001b[37m━━━\u001b[0m \u001b[1m0s\u001b[0m 2ms/step - loss: 0.0021\n",
      "Epoch 16: val_loss did not improve from 0.00246\n",
      "\u001b[1m96/96\u001b[0m \u001b[32m━━━━━━━━━━━━━━━━━━━━\u001b[0m\u001b[37m\u001b[0m \u001b[1m0s\u001b[0m 2ms/step - loss: 0.0025 - val_loss: 0.0047\n",
      "Epoch 17/100\n",
      "\u001b[1m85/96\u001b[0m \u001b[32m━━━━━━━━━━━━━━━━━\u001b[0m\u001b[37m━━━\u001b[0m \u001b[1m0s\u001b[0m 2ms/step - loss: 0.0015    \n",
      "Epoch 17: val_loss did not improve from 0.00246\n",
      "\u001b[1m96/96\u001b[0m \u001b[32m━━━━━━━━━━━━━━━━━━━━\u001b[0m\u001b[37m\u001b[0m \u001b[1m0s\u001b[0m 2ms/step - loss: 0.0019 - val_loss: 0.0062\n",
      "Epoch 17: early stopping\n"
     ]
    }
   ],
   "source": [
    "history = model.fit(x=X_train,\n",
    "                    y=y_train,\n",
    "                    epochs=100,\n",
    "                    batch_size=20,\n",
    "                    validation_data=(X_test, y_test),\n",
    "                    callbacks=[callbacks],\n",
    "                    shuffle=False)"
   ]
  },
  {
   "cell_type": "code",
   "execution_count": 43,
   "id": "246d45c8",
   "metadata": {
    "execution": {
     "iopub.execute_input": "2024-12-21T20:00:48.470932Z",
     "iopub.status.busy": "2024-12-21T20:00:48.470480Z",
     "iopub.status.idle": "2024-12-21T20:00:48.803365Z",
     "shell.execute_reply": "2024-12-21T20:00:48.802305Z"
    },
    "id": "VzxR8n1yeGpV",
    "papermill": {
     "duration": 0.357263,
     "end_time": "2024-12-21T20:00:48.805983",
     "exception": false,
     "start_time": "2024-12-21T20:00:48.448720",
     "status": "completed"
    },
    "tags": []
   },
   "outputs": [
    {
     "data": {
      "image/png": "[encoded data removed]",
      "text/plain": [
       "<Figure size 2000x500 with 1 Axes>"
      ]
     },
     "metadata": {},
     "output_type": "display_data"
    }
   ],
   "source": [
    "plt.figure(figsize=(20,5))\n",
    "plt.subplot(1,2,1)\n",
    "plt.plot(history.history['loss'], label='Training Loss')\n",
    "plt.plot(history.history['val_loss'], label='Validation Loss')\n",
    "plt.legend(loc='upper right')\n",
    "plt.xlabel('Epoch', fontsize = 16)\n",
    "plt.ylabel('Loss', fontsize = 16)\n",
    "plt.ylim([0,max(plt.ylim())])\n",
    "plt.title('Training and Validation Loss', fontsize = 16)\n",
    "plt.show()"
   ]
  },
  {
   "cell_type": "markdown",
   "id": "9ef6c2ba",
   "metadata": {
    "id": "XO0NGWQWerLU",
    "papermill": {
     "duration": 0.020763,
     "end_time": "2024-12-21T20:00:48.848309",
     "exception": false,
     "start_time": "2024-12-21T20:00:48.827546",
     "status": "completed"
    },
    "tags": []
   },
   "source": [
    "## Evaluation"
   ]
  },
  {
   "cell_type": "code",
   "execution_count": 44,
   "id": "9842fc92",
   "metadata": {
    "execution": {
     "iopub.execute_input": "2024-12-21T20:00:48.892073Z",
     "iopub.status.busy": "2024-12-21T20:00:48.891539Z",
     "iopub.status.idle": "2024-12-21T20:00:49.472764Z",
     "shell.execute_reply": "2024-12-21T20:00:49.471262Z"
    },
    "id": "hyeoNUjxetH-",
    "papermill": {
     "duration": 0.605982,
     "end_time": "2024-12-21T20:00:49.475219",
     "exception": false,
     "start_time": "2024-12-21T20:00:48.869237",
     "status": "completed"
    },
    "tags": []
   },
   "outputs": [
    {
     "name": "stdout",
     "output_type": "stream",
     "text": [
      "\u001b[1m463/463\u001b[0m \u001b[32m━━━━━━━━━━━━━━━━━━━━\u001b[0m\u001b[37m\u001b[0m \u001b[1m1s\u001b[0m 1ms/step - loss: 0.0074\n",
      "\n",
      "Test Loss: 0.6%\n"
     ]
    }
   ],
   "source": [
    "loss = model.evaluate(X_test, y_test, batch_size=1)\n",
    "print(\"\\nTest Loss: %.1f%%\" % (100.0 * loss))"
   ]
  },
  {
   "cell_type": "code",
   "execution_count": 45,
   "id": "4da05b91",
   "metadata": {
    "execution": {
     "iopub.execute_input": "2024-12-21T20:00:49.524194Z",
     "iopub.status.busy": "2024-12-21T20:00:49.523772Z",
     "iopub.status.idle": "2024-12-21T20:00:50.035034Z",
     "shell.execute_reply": "2024-12-21T20:00:50.033891Z"
    },
    "id": "9e854j_NfFTV",
    "papermill": {
     "duration": 0.538901,
     "end_time": "2024-12-21T20:00:50.038167",
     "exception": false,
     "start_time": "2024-12-21T20:00:49.499266",
     "status": "completed"
    },
    "tags": []
   },
   "outputs": [
    {
     "name": "stdout",
     "output_type": "stream",
     "text": [
      "\u001b[1m60/60\u001b[0m \u001b[32m━━━━━━━━━━━━━━━━━━━━\u001b[0m\u001b[37m\u001b[0m \u001b[1m0s\u001b[0m 4ms/step\n"
     ]
    }
   ],
   "source": [
    "train_predict = model.predict(X_train)"
   ]
  },
  {
   "cell_type": "code",
   "execution_count": 46,
   "id": "4d81c7c4",
   "metadata": {
    "execution": {
     "iopub.execute_input": "2024-12-21T20:00:50.100654Z",
     "iopub.status.busy": "2024-12-21T20:00:50.099620Z",
     "iopub.status.idle": "2024-12-21T20:00:50.209737Z",
     "shell.execute_reply": "2024-12-21T20:00:50.208682Z"
    },
    "id": "GZgJuMd-fqZW",
    "papermill": {
     "duration": 0.142773,
     "end_time": "2024-12-21T20:00:50.212266",
     "exception": false,
     "start_time": "2024-12-21T20:00:50.069493",
     "status": "completed"
    },
    "tags": []
   },
   "outputs": [
    {
     "name": "stdout",
     "output_type": "stream",
     "text": [
      "\u001b[1m15/15\u001b[0m \u001b[32m━━━━━━━━━━━━━━━━━━━━\u001b[0m\u001b[37m\u001b[0m \u001b[1m0s\u001b[0m 2ms/step \n"
     ]
    }
   ],
   "source": [
    "test_predict = model.predict(X_test)"
   ]
  },
  {
   "cell_type": "code",
   "execution_count": 47,
   "id": "ae2178b9",
   "metadata": {
    "execution": {
     "iopub.execute_input": "2024-12-21T20:00:50.260132Z",
     "iopub.status.busy": "2024-12-21T20:00:50.259033Z",
     "iopub.status.idle": "2024-12-21T20:00:50.266468Z",
     "shell.execute_reply": "2024-12-21T20:00:50.265470Z"
    },
    "id": "FcH_8U3tfsGm",
    "papermill": {
     "duration": 0.033799,
     "end_time": "2024-12-21T20:00:50.268731",
     "exception": false,
     "start_time": "2024-12-21T20:00:50.234932",
     "status": "completed"
    },
    "tags": []
   },
   "outputs": [],
   "source": [
    "train_predict = scaler_train.inverse_transform(train_predict)\n",
    "test_predict = scaler_test.inverse_transform(test_predict)"
   ]
  },
  {
   "cell_type": "code",
   "execution_count": 48,
   "id": "036facbb",
   "metadata": {
    "execution": {
     "iopub.execute_input": "2024-12-21T20:00:50.315841Z",
     "iopub.status.busy": "2024-12-21T20:00:50.314756Z",
     "iopub.status.idle": "2024-12-21T20:00:50.321066Z",
     "shell.execute_reply": "2024-12-21T20:00:50.320069Z"
    },
    "id": "DsGDu-NKf912",
    "papermill": {
     "duration": 0.032264,
     "end_time": "2024-12-21T20:00:50.323203",
     "exception": false,
     "start_time": "2024-12-21T20:00:50.290939",
     "status": "completed"
    },
    "tags": []
   },
   "outputs": [],
   "source": [
    "y_train = scaler_train.inverse_transform(y_train)\n",
    "y_test = scaler_test.inverse_transform(y_test)"
   ]
  },
  {
   "cell_type": "code",
   "execution_count": 49,
   "id": "5b1cb902",
   "metadata": {
    "execution": {
     "iopub.execute_input": "2024-12-21T20:00:50.370222Z",
     "iopub.status.busy": "2024-12-21T20:00:50.369789Z",
     "iopub.status.idle": "2024-12-21T20:00:50.375325Z",
     "shell.execute_reply": "2024-12-21T20:00:50.374253Z"
    },
    "id": "ZLXqwAU7gGW2",
    "papermill": {
     "duration": 0.031665,
     "end_time": "2024-12-21T20:00:50.377524",
     "exception": false,
     "start_time": "2024-12-21T20:00:50.345859",
     "status": "completed"
    },
    "tags": []
   },
   "outputs": [],
   "source": [
    "train_rmse = np.sqrt(mean_squared_error(y_train, train_predict))"
   ]
  },
  {
   "cell_type": "code",
   "execution_count": 50,
   "id": "33a0869e",
   "metadata": {
    "execution": {
     "iopub.execute_input": "2024-12-21T20:00:50.424680Z",
     "iopub.status.busy": "2024-12-21T20:00:50.423618Z",
     "iopub.status.idle": "2024-12-21T20:00:50.429948Z",
     "shell.execute_reply": "2024-12-21T20:00:50.428864Z"
    },
    "id": "76WbnJaIgJ4g",
    "papermill": {
     "duration": 0.032256,
     "end_time": "2024-12-21T20:00:50.432123",
     "exception": false,
     "start_time": "2024-12-21T20:00:50.399867",
     "status": "completed"
    },
    "tags": []
   },
   "outputs": [],
   "source": [
    "test_rmse = np.sqrt(mean_squared_error(y_test, test_predict))"
   ]
  },
  {
   "cell_type": "code",
   "execution_count": 51,
   "id": "08850b69",
   "metadata": {
    "execution": {
     "iopub.execute_input": "2024-12-21T20:00:50.479940Z",
     "iopub.status.busy": "2024-12-21T20:00:50.478894Z",
     "iopub.status.idle": "2024-12-21T20:00:50.485288Z",
     "shell.execute_reply": "2024-12-21T20:00:50.484066Z"
    },
    "id": "WcUBQBz7gMV2",
    "papermill": {
     "duration": 0.032785,
     "end_time": "2024-12-21T20:00:50.487571",
     "exception": false,
     "start_time": "2024-12-21T20:00:50.454786",
     "status": "completed"
    },
    "tags": []
   },
   "outputs": [
    {
     "name": "stdout",
     "output_type": "stream",
     "text": [
      "Train RMSE: 30.328750610351562\n",
      "Test RMSE: 47.42816162109375\n"
     ]
    }
   ],
   "source": [
    "print(f\"Train RMSE: {train_rmse}\")\n",
    "print(f\"Test RMSE: {test_rmse}\")"
   ]
  },
  {
   "cell_type": "code",
   "execution_count": 52,
   "id": "70815efe",
   "metadata": {
    "execution": {
     "iopub.execute_input": "2024-12-21T20:00:50.536037Z",
     "iopub.status.busy": "2024-12-21T20:00:50.534932Z",
     "iopub.status.idle": "2024-12-21T20:00:50.567300Z",
     "shell.execute_reply": "2024-12-21T20:00:50.566221Z"
    },
    "id": "t_llof9mgYz_",
    "papermill": {
     "duration": 0.057886,
     "end_time": "2024-12-21T20:00:50.569562",
     "exception": false,
     "start_time": "2024-12-21T20:00:50.511676",
     "status": "completed"
    },
    "tags": []
   },
   "outputs": [
    {
     "data": {
      "text/html": [
       "<div>\n",
       "<style scoped>\n",
       "    .dataframe tbody tr th:only-of-type {\n",
       "        vertical-align: middle;\n",
       "    }\n",
       "\n",
       "    .dataframe tbody tr th {\n",
       "        vertical-align: top;\n",
       "    }\n",
       "\n",
       "    .dataframe thead th {\n",
       "        text-align: right;\n",
       "    }\n",
       "</style>\n",
       "<table border=\"1\" class=\"dataframe\">\n",
       "  <thead>\n",
       "    <tr style=\"text-align: right;\">\n",
       "      <th></th>\n",
       "      <th>count</th>\n",
       "      <th>mean</th>\n",
       "      <th>min</th>\n",
       "      <th>25%</th>\n",
       "      <th>50%</th>\n",
       "      <th>75%</th>\n",
       "      <th>max</th>\n",
       "      <th>std</th>\n",
       "    </tr>\n",
       "  </thead>\n",
       "  <tbody>\n",
       "    <tr>\n",
       "      <th>Date</th>\n",
       "      <td>2416</td>\n",
       "      <td>2015-04-15 11:09:56.026490112</td>\n",
       "      <td>2010-06-29 00:00:00</td>\n",
       "      <td>2012-11-19 18:00:00</td>\n",
       "      <td>2015-04-16 12:00:00</td>\n",
       "      <td>2017-09-07 06:00:00</td>\n",
       "      <td>2020-02-03 00:00:00</td>\n",
       "      <td>NaN</td>\n",
       "    </tr>\n",
       "    <tr>\n",
       "      <th>Open</th>\n",
       "      <td>2416.0</td>\n",
       "      <td>186.271147</td>\n",
       "      <td>16.139999</td>\n",
       "      <td>34.342498</td>\n",
       "      <td>213.035004</td>\n",
       "      <td>266.450012</td>\n",
       "      <td>673.690002</td>\n",
       "      <td>118.740163</td>\n",
       "    </tr>\n",
       "    <tr>\n",
       "      <th>High</th>\n",
       "      <td>2416.0</td>\n",
       "      <td>189.578224</td>\n",
       "      <td>16.629999</td>\n",
       "      <td>34.897501</td>\n",
       "      <td>216.745002</td>\n",
       "      <td>270.927513</td>\n",
       "      <td>786.140015</td>\n",
       "      <td>120.892329</td>\n",
       "    </tr>\n",
       "    <tr>\n",
       "      <th>Low</th>\n",
       "      <td>2416.0</td>\n",
       "      <td>182.916639</td>\n",
       "      <td>14.98</td>\n",
       "      <td>33.587501</td>\n",
       "      <td>208.870002</td>\n",
       "      <td>262.102501</td>\n",
       "      <td>673.52002</td>\n",
       "      <td>116.857591</td>\n",
       "    </tr>\n",
       "    <tr>\n",
       "      <th>Close</th>\n",
       "      <td>2416.0</td>\n",
       "      <td>186.403651</td>\n",
       "      <td>15.8</td>\n",
       "      <td>34.400002</td>\n",
       "      <td>212.960007</td>\n",
       "      <td>266.774994</td>\n",
       "      <td>780.0</td>\n",
       "      <td>119.13602</td>\n",
       "    </tr>\n",
       "    <tr>\n",
       "      <th>Adj Close</th>\n",
       "      <td>2416.0</td>\n",
       "      <td>186.403651</td>\n",
       "      <td>15.8</td>\n",
       "      <td>34.400002</td>\n",
       "      <td>212.960007</td>\n",
       "      <td>266.774994</td>\n",
       "      <td>780.0</td>\n",
       "      <td>119.13602</td>\n",
       "    </tr>\n",
       "    <tr>\n",
       "      <th>Volume</th>\n",
       "      <td>2416.0</td>\n",
       "      <td>5572721.688742</td>\n",
       "      <td>118500.0</td>\n",
       "      <td>1899275.0</td>\n",
       "      <td>4578400.0</td>\n",
       "      <td>7361150.0</td>\n",
       "      <td>47065000.0</td>\n",
       "      <td>4987809.151888</td>\n",
       "    </tr>\n",
       "  </tbody>\n",
       "</table>\n",
       "</div>"
      ],
      "text/plain": [
       "            count                           mean                  min  \\\n",
       "Date         2416  2015-04-15 11:09:56.026490112  2010-06-29 00:00:00   \n",
       "Open       2416.0                     186.271147            16.139999   \n",
       "High       2416.0                     189.578224            16.629999   \n",
       "Low        2416.0                     182.916639                14.98   \n",
       "Close      2416.0                     186.403651                 15.8   \n",
       "Adj Close  2416.0                     186.403651                 15.8   \n",
       "Volume     2416.0                 5572721.688742             118500.0   \n",
       "\n",
       "                           25%                  50%                  75%  \\\n",
       "Date       2012-11-19 18:00:00  2015-04-16 12:00:00  2017-09-07 06:00:00   \n",
       "Open                 34.342498           213.035004           266.450012   \n",
       "High                 34.897501           216.745002           270.927513   \n",
       "Low                  33.587501           208.870002           262.102501   \n",
       "Close                34.400002           212.960007           266.774994   \n",
       "Adj Close            34.400002           212.960007           266.774994   \n",
       "Volume               1899275.0            4578400.0            7361150.0   \n",
       "\n",
       "                           max             std  \n",
       "Date       2020-02-03 00:00:00             NaN  \n",
       "Open                673.690002      118.740163  \n",
       "High                786.140015      120.892329  \n",
       "Low                  673.52002      116.857591  \n",
       "Close                    780.0       119.13602  \n",
       "Adj Close                780.0       119.13602  \n",
       "Volume              47065000.0  4987809.151888  "
      ]
     },
     "execution_count": 52,
     "metadata": {},
     "output_type": "execute_result"
    }
   ],
   "source": [
    "df.describe().T"
   ]
  },
  {
   "cell_type": "code",
   "execution_count": 53,
   "id": "00926e52",
   "metadata": {
    "execution": {
     "iopub.execute_input": "2024-12-21T20:00:50.616947Z",
     "iopub.status.busy": "2024-12-21T20:00:50.615948Z",
     "iopub.status.idle": "2024-12-21T20:00:50.628098Z",
     "shell.execute_reply": "2024-12-21T20:00:50.626888Z"
    },
    "id": "-PSGVpMzgz1O",
    "papermill": {
     "duration": 0.037898,
     "end_time": "2024-12-21T20:00:50.630194",
     "exception": false,
     "start_time": "2024-12-21T20:00:50.592296",
     "status": "completed"
    },
    "tags": []
   },
   "outputs": [
    {
     "data": {
      "text/html": [
       "<div>\n",
       "<style scoped>\n",
       "    .dataframe tbody tr th:only-of-type {\n",
       "        vertical-align: middle;\n",
       "    }\n",
       "\n",
       "    .dataframe tbody tr th {\n",
       "        vertical-align: top;\n",
       "    }\n",
       "\n",
       "    .dataframe thead th {\n",
       "        text-align: right;\n",
       "    }\n",
       "</style>\n",
       "<table border=\"1\" class=\"dataframe\">\n",
       "  <thead>\n",
       "    <tr style=\"text-align: right;\">\n",
       "      <th></th>\n",
       "      <th>Close</th>\n",
       "      <th>Predicted</th>\n",
       "    </tr>\n",
       "    <tr>\n",
       "      <th>Date</th>\n",
       "      <th></th>\n",
       "      <th></th>\n",
       "    </tr>\n",
       "  </thead>\n",
       "  <tbody>\n",
       "    <tr>\n",
       "      <th>2010-07-28</th>\n",
       "      <td>20.719999</td>\n",
       "      <td>37.829987</td>\n",
       "    </tr>\n",
       "    <tr>\n",
       "      <th>2010-07-29</th>\n",
       "      <td>20.350000</td>\n",
       "      <td>37.829987</td>\n",
       "    </tr>\n",
       "    <tr>\n",
       "      <th>2010-07-30</th>\n",
       "      <td>19.940001</td>\n",
       "      <td>37.829987</td>\n",
       "    </tr>\n",
       "    <tr>\n",
       "      <th>2010-08-02</th>\n",
       "      <td>20.920000</td>\n",
       "      <td>37.829987</td>\n",
       "    </tr>\n",
       "    <tr>\n",
       "      <th>2010-08-03</th>\n",
       "      <td>21.950001</td>\n",
       "      <td>37.829987</td>\n",
       "    </tr>\n",
       "  </tbody>\n",
       "</table>\n",
       "</div>"
      ],
      "text/plain": [
       "                Close  Predicted\n",
       "Date                            \n",
       "2010-07-28  20.719999  37.829987\n",
       "2010-07-29  20.350000  37.829987\n",
       "2010-07-30  19.940001  37.829987\n",
       "2010-08-02  20.920000  37.829987\n",
       "2010-08-03  21.950001  37.829987"
      ]
     },
     "execution_count": 53,
     "metadata": {},
     "output_type": "execute_result"
    }
   ],
   "source": [
    "train_prediction_df = result_df[lookback:position]\n",
    "train_prediction_df[\"Predicted\"] = train_predict\n",
    "train_prediction_df.head()"
   ]
  },
  {
   "cell_type": "code",
   "execution_count": 54,
   "id": "5054731a",
   "metadata": {
    "execution": {
     "iopub.execute_input": "2024-12-21T20:00:50.679057Z",
     "iopub.status.busy": "2024-12-21T20:00:50.678156Z",
     "iopub.status.idle": "2024-12-21T20:00:50.692396Z",
     "shell.execute_reply": "2024-12-21T20:00:50.691345Z"
    },
    "id": "o7tRAXwOhMSA",
    "papermill": {
     "duration": 0.040865,
     "end_time": "2024-12-21T20:00:50.694449",
     "exception": false,
     "start_time": "2024-12-21T20:00:50.653584",
     "status": "completed"
    },
    "tags": []
   },
   "outputs": [
    {
     "data": {
      "text/html": [
       "<div>\n",
       "<style scoped>\n",
       "    .dataframe tbody tr th:only-of-type {\n",
       "        vertical-align: middle;\n",
       "    }\n",
       "\n",
       "    .dataframe tbody tr th {\n",
       "        vertical-align: top;\n",
       "    }\n",
       "\n",
       "    .dataframe thead th {\n",
       "        text-align: right;\n",
       "    }\n",
       "</style>\n",
       "<table border=\"1\" class=\"dataframe\">\n",
       "  <thead>\n",
       "    <tr style=\"text-align: right;\">\n",
       "      <th></th>\n",
       "      <th>Close</th>\n",
       "      <th>Predicted</th>\n",
       "    </tr>\n",
       "    <tr>\n",
       "      <th>Date</th>\n",
       "      <th></th>\n",
       "      <th></th>\n",
       "    </tr>\n",
       "  </thead>\n",
       "  <tbody>\n",
       "    <tr>\n",
       "      <th>2018-04-03</th>\n",
       "      <td>267.529999</td>\n",
       "      <td>343.920746</td>\n",
       "    </tr>\n",
       "    <tr>\n",
       "      <th>2018-04-04</th>\n",
       "      <td>286.940002</td>\n",
       "      <td>339.466766</td>\n",
       "    </tr>\n",
       "    <tr>\n",
       "      <th>2018-04-05</th>\n",
       "      <td>305.720001</td>\n",
       "      <td>338.872040</td>\n",
       "    </tr>\n",
       "    <tr>\n",
       "      <th>2018-04-06</th>\n",
       "      <td>299.299988</td>\n",
       "      <td>341.047791</td>\n",
       "    </tr>\n",
       "    <tr>\n",
       "      <th>2018-04-09</th>\n",
       "      <td>289.660004</td>\n",
       "      <td>343.110687</td>\n",
       "    </tr>\n",
       "  </tbody>\n",
       "</table>\n",
       "</div>"
      ],
      "text/plain": [
       "                 Close   Predicted\n",
       "Date                              \n",
       "2018-04-03  267.529999  343.920746\n",
       "2018-04-04  286.940002  339.466766\n",
       "2018-04-05  305.720001  338.872040\n",
       "2018-04-06  299.299988  341.047791\n",
       "2018-04-09  289.660004  343.110687"
      ]
     },
     "execution_count": 54,
     "metadata": {},
     "output_type": "execute_result"
    }
   ],
   "source": [
    "test_prediction_df = result_df[position+lookback:]\n",
    "test_prediction_df[\"Predicted\"] = test_predict\n",
    "test_prediction_df.head()"
   ]
  },
  {
   "cell_type": "code",
   "execution_count": 55,
   "id": "1d4ca974",
   "metadata": {
    "execution": {
     "iopub.execute_input": "2024-12-21T20:00:50.743670Z",
     "iopub.status.busy": "2024-12-21T20:00:50.742634Z",
     "iopub.status.idle": "2024-12-21T20:00:51.184752Z",
     "shell.execute_reply": "2024-12-21T20:00:51.183703Z"
    },
    "id": "PJ_-znSchYO_",
    "papermill": {
     "duration": 0.470077,
     "end_time": "2024-12-21T20:00:51.187780",
     "exception": false,
     "start_time": "2024-12-21T20:00:50.717703",
     "status": "completed"
    },
    "tags": []
   },
   "outputs": [
    {
     "data": {
      "image/png": "[encoded data removed]",
      "text/plain": [
       "<Figure size 1400x500 with 1 Axes>"
      ]
     },
     "metadata": {},
     "output_type": "display_data"
    }
   ],
   "source": [
    "plt.figure(figsize=(14,5))\n",
    "plt.plot(result_df, label = \"Real Number of Passengers\")\n",
    "plt.plot(train_prediction_df[\"Predicted\"], color = 'blue', label = \"Train Predicted Number of Passengers\")\n",
    "plt.plot(test_prediction_df[\"Predicted\"],color = 'red', label = \"Test Predicted Number of Passengers\")\n",
    "plt.title(\"Number of Passengers Prediction\")\n",
    "plt.xlabel(\"Time\")\n",
    "plt.ylabel(\"Number of Passengers\")\n",
    "plt.legend()\n",
    "plt.show()"
   ]
  }
 ],
 "metadata": {
  "colab": {
   "provenance": []
  },
  "kaggle": {
   "accelerator": "none",
   "dataSources": [
    {
     "datasetId": 500872,
     "sourceId": 927894,
     "sourceType": "datasetVersion"
    }
   ],
   "dockerImageVersionId": 30761,
   "isGpuEnabled": false,
   "isInternetEnabled": true,
   "language": "python",
   "sourceType": "notebook"
  },
  "kernelspec": {
   "display_name": "Python 3",
   "language": "python",
   "name": "python3"
  },
  "language_info": {
   "codemirror_mode": {
    "name": "ipython",
    "version": 3
   },
   "file_extension": ".py",
   "mimetype": "text/x-python",
   "name": "python",
   "nbconvert_exporter": "python",
   "pygments_lexer": "ipython3",
   "version": "3.10.14"
  },
  "papermill": {
   "default_parameters": {},
   "duration": 31.719043,
   "end_time": "2024-12-21T20:00:52.938235",
   "environment_variables": {},
   "exception": null,
   "input_path": "__notebook__.ipynb",
   "output_path": "__notebook__.ipynb",
   "parameters": {},
   "start_time": "2024-12-21T20:00:21.219192",
   "version": "2.6.0"
  }
 },
 "nbformat": 4,
 "nbformat_minor": 5
}
