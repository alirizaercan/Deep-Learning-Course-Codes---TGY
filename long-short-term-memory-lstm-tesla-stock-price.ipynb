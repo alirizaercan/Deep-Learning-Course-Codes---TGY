{
 "cells": [
  {
   "cell_type": "markdown",
   "id": "ede2afe8",
   "metadata": {
    "id": "4unSJJjsT8BM",
    "papermill": {
     "duration": 0.013997,
     "end_time": "2024-10-16T06:23:03.583434",
     "exception": false,
     "start_time": "2024-10-16T06:23:03.569437",
     "status": "completed"
    },
    "tags": []
   },
   "source": [
    "# Tesla - Stock Price Prediction\n",
    "\n",
    "---\n",
    "\n"
   ]
  },
  {
   "cell_type": "markdown",
   "id": "0a1fa3a4",
   "metadata": {
    "id": "wkRLJL2XUAfT",
    "papermill": {
     "duration": 0.012325,
     "end_time": "2024-10-16T06:23:03.608502",
     "exception": false,
     "start_time": "2024-10-16T06:23:03.596177",
     "status": "completed"
    },
    "tags": []
   },
   "source": [
    "## Business Problem\n",
    "\n",
    "In this notebook, our purpose is to predict of tesla - stock price."
   ]
  },
  {
   "cell_type": "markdown",
   "id": "edf4feba",
   "metadata": {
    "id": "0uxjphZsUwjz",
    "papermill": {
     "duration": 0.012136,
     "end_time": "2024-10-16T06:23:03.633056",
     "exception": false,
     "start_time": "2024-10-16T06:23:03.620920",
     "status": "completed"
    },
    "tags": []
   },
   "source": [
    "## Data Understanding"
   ]
  },
  {
   "cell_type": "code",
   "execution_count": 1,
   "id": "d7651bf5",
   "metadata": {
    "execution": {
     "iopub.execute_input": "2024-10-16T06:23:03.659974Z",
     "iopub.status.busy": "2024-10-16T06:23:03.659505Z",
     "iopub.status.idle": "2024-10-16T06:23:19.235821Z",
     "shell.execute_reply": "2024-10-16T06:23:19.234322Z"
    },
    "id": "40IR65rQUyWC",
    "outputId": "4562368d-970e-4fd6-b03e-be036efe4dcd",
    "papermill": {
     "duration": 15.593099,
     "end_time": "2024-10-16T06:23:19.238604",
     "exception": false,
     "start_time": "2024-10-16T06:23:03.645505",
     "status": "completed"
    },
    "tags": []
   },
   "outputs": [],
   "source": [
    "import numpy as np\n",
    "import pandas as pd\n",
    "import datetime as dt\n",
    "import tensorflow as tf\n",
    "import matplotlib.pyplot as plt\n",
    "\n",
    "from sklearn.preprocessing import MinMaxScaler\n",
    "from sklearn.metrics import mean_squared_error\n",
    "\n",
    "from tensorflow.keras.models import Sequential\n",
    "from tensorflow.keras.layers import Dense, LSTM, Dropout\n",
    "from tensorflow.keras.callbacks import ModelCheckpoint, EarlyStopping\n",
    "\n",
    "import warnings\n",
    "warnings.filterwarnings('ignore')\n",
    "\n",
    "import os\n",
    "os.environ['TF_CPP_MIN_LOG_LEVEL'] = '3'\n",
    "tf.compat.v1.logging.set_verbosity(tf.compat.v1.logging.ERROR)"
   ]
  },
  {
   "cell_type": "code",
   "execution_count": 2,
   "id": "99b78f2d",
   "metadata": {
    "execution": {
     "iopub.execute_input": "2024-10-16T06:23:19.266330Z",
     "iopub.status.busy": "2024-10-16T06:23:19.265625Z",
     "iopub.status.idle": "2024-10-16T06:23:19.325101Z",
     "shell.execute_reply": "2024-10-16T06:23:19.323843Z"
    },
    "id": "-be5_efvVpTV",
    "papermill": {
     "duration": 0.076689,
     "end_time": "2024-10-16T06:23:19.328118",
     "exception": false,
     "start_time": "2024-10-16T06:23:19.251429",
     "status": "completed"
    },
    "tags": []
   },
   "outputs": [
    {
     "data": {
      "text/html": [
       "<div>\n",
       "<style scoped>\n",
       "    .dataframe tbody tr th:only-of-type {\n",
       "        vertical-align: middle;\n",
       "    }\n",
       "\n",
       "    .dataframe tbody tr th {\n",
       "        vertical-align: top;\n",
       "    }\n",
       "\n",
       "    .dataframe thead th {\n",
       "        text-align: right;\n",
       "    }\n",
       "</style>\n",
       "<table border=\"1\" class=\"dataframe\">\n",
       "  <thead>\n",
       "    <tr style=\"text-align: right;\">\n",
       "      <th></th>\n",
       "      <th>Date</th>\n",
       "      <th>Open</th>\n",
       "      <th>High</th>\n",
       "      <th>Low</th>\n",
       "      <th>Close</th>\n",
       "      <th>Adj Close</th>\n",
       "      <th>Volume</th>\n",
       "    </tr>\n",
       "  </thead>\n",
       "  <tbody>\n",
       "    <tr>\n",
       "      <th>0</th>\n",
       "      <td>2010-06-29</td>\n",
       "      <td>19.000000</td>\n",
       "      <td>25.000000</td>\n",
       "      <td>17.540001</td>\n",
       "      <td>23.889999</td>\n",
       "      <td>23.889999</td>\n",
       "      <td>18766300</td>\n",
       "    </tr>\n",
       "    <tr>\n",
       "      <th>1</th>\n",
       "      <td>2010-06-30</td>\n",
       "      <td>25.790001</td>\n",
       "      <td>30.420000</td>\n",
       "      <td>23.299999</td>\n",
       "      <td>23.830000</td>\n",
       "      <td>23.830000</td>\n",
       "      <td>17187100</td>\n",
       "    </tr>\n",
       "    <tr>\n",
       "      <th>2</th>\n",
       "      <td>2010-07-01</td>\n",
       "      <td>25.000000</td>\n",
       "      <td>25.920000</td>\n",
       "      <td>20.270000</td>\n",
       "      <td>21.959999</td>\n",
       "      <td>21.959999</td>\n",
       "      <td>8218800</td>\n",
       "    </tr>\n",
       "    <tr>\n",
       "      <th>3</th>\n",
       "      <td>2010-07-02</td>\n",
       "      <td>23.000000</td>\n",
       "      <td>23.100000</td>\n",
       "      <td>18.709999</td>\n",
       "      <td>19.200001</td>\n",
       "      <td>19.200001</td>\n",
       "      <td>5139800</td>\n",
       "    </tr>\n",
       "    <tr>\n",
       "      <th>4</th>\n",
       "      <td>2010-07-06</td>\n",
       "      <td>20.000000</td>\n",
       "      <td>20.000000</td>\n",
       "      <td>15.830000</td>\n",
       "      <td>16.110001</td>\n",
       "      <td>16.110001</td>\n",
       "      <td>6866900</td>\n",
       "    </tr>\n",
       "    <tr>\n",
       "      <th>...</th>\n",
       "      <td>...</td>\n",
       "      <td>...</td>\n",
       "      <td>...</td>\n",
       "      <td>...</td>\n",
       "      <td>...</td>\n",
       "      <td>...</td>\n",
       "      <td>...</td>\n",
       "    </tr>\n",
       "    <tr>\n",
       "      <th>2411</th>\n",
       "      <td>2020-01-28</td>\n",
       "      <td>568.489990</td>\n",
       "      <td>576.809998</td>\n",
       "      <td>558.080017</td>\n",
       "      <td>566.900024</td>\n",
       "      <td>566.900024</td>\n",
       "      <td>11788500</td>\n",
       "    </tr>\n",
       "    <tr>\n",
       "      <th>2412</th>\n",
       "      <td>2020-01-29</td>\n",
       "      <td>575.690002</td>\n",
       "      <td>589.799988</td>\n",
       "      <td>567.429993</td>\n",
       "      <td>580.989990</td>\n",
       "      <td>580.989990</td>\n",
       "      <td>17801500</td>\n",
       "    </tr>\n",
       "    <tr>\n",
       "      <th>2413</th>\n",
       "      <td>2020-01-30</td>\n",
       "      <td>632.419983</td>\n",
       "      <td>650.880005</td>\n",
       "      <td>618.000000</td>\n",
       "      <td>640.809998</td>\n",
       "      <td>640.809998</td>\n",
       "      <td>29005700</td>\n",
       "    </tr>\n",
       "    <tr>\n",
       "      <th>2414</th>\n",
       "      <td>2020-01-31</td>\n",
       "      <td>640.000000</td>\n",
       "      <td>653.000000</td>\n",
       "      <td>632.520020</td>\n",
       "      <td>650.570007</td>\n",
       "      <td>650.570007</td>\n",
       "      <td>15719300</td>\n",
       "    </tr>\n",
       "    <tr>\n",
       "      <th>2415</th>\n",
       "      <td>2020-02-03</td>\n",
       "      <td>673.690002</td>\n",
       "      <td>786.140015</td>\n",
       "      <td>673.520020</td>\n",
       "      <td>780.000000</td>\n",
       "      <td>780.000000</td>\n",
       "      <td>47065000</td>\n",
       "    </tr>\n",
       "  </tbody>\n",
       "</table>\n",
       "<p>2416 rows × 7 columns</p>\n",
       "</div>"
      ],
      "text/plain": [
       "            Date        Open        High         Low       Close   Adj Close  \\\n",
       "0     2010-06-29   19.000000   25.000000   17.540001   23.889999   23.889999   \n",
       "1     2010-06-30   25.790001   30.420000   23.299999   23.830000   23.830000   \n",
       "2     2010-07-01   25.000000   25.920000   20.270000   21.959999   21.959999   \n",
       "3     2010-07-02   23.000000   23.100000   18.709999   19.200001   19.200001   \n",
       "4     2010-07-06   20.000000   20.000000   15.830000   16.110001   16.110001   \n",
       "...          ...         ...         ...         ...         ...         ...   \n",
       "2411  2020-01-28  568.489990  576.809998  558.080017  566.900024  566.900024   \n",
       "2412  2020-01-29  575.690002  589.799988  567.429993  580.989990  580.989990   \n",
       "2413  2020-01-30  632.419983  650.880005  618.000000  640.809998  640.809998   \n",
       "2414  2020-01-31  640.000000  653.000000  632.520020  650.570007  650.570007   \n",
       "2415  2020-02-03  673.690002  786.140015  673.520020  780.000000  780.000000   \n",
       "\n",
       "        Volume  \n",
       "0     18766300  \n",
       "1     17187100  \n",
       "2      8218800  \n",
       "3      5139800  \n",
       "4      6866900  \n",
       "...        ...  \n",
       "2411  11788500  \n",
       "2412  17801500  \n",
       "2413  29005700  \n",
       "2414  15719300  \n",
       "2415  47065000  \n",
       "\n",
       "[2416 rows x 7 columns]"
      ]
     },
     "execution_count": 2,
     "metadata": {},
     "output_type": "execute_result"
    }
   ],
   "source": [
    "df = pd.read_csv('/kaggle/input/tesla-stock-data-from-2010-to-2020/TSLA.csv')\n",
    "df"
   ]
  },
  {
   "cell_type": "code",
   "execution_count": 3,
   "id": "c372e5d0",
   "metadata": {
    "execution": {
     "iopub.execute_input": "2024-10-16T06:23:19.365067Z",
     "iopub.status.busy": "2024-10-16T06:23:19.363767Z",
     "iopub.status.idle": "2024-10-16T06:23:19.379418Z",
     "shell.execute_reply": "2024-10-16T06:23:19.378342Z"
    },
    "id": "lG_AO3mdVv17",
    "papermill": {
     "duration": 0.036034,
     "end_time": "2024-10-16T06:23:19.381751",
     "exception": false,
     "start_time": "2024-10-16T06:23:19.345717",
     "status": "completed"
    },
    "tags": []
   },
   "outputs": [
    {
     "data": {
      "text/html": [
       "<div>\n",
       "<style scoped>\n",
       "    .dataframe tbody tr th:only-of-type {\n",
       "        vertical-align: middle;\n",
       "    }\n",
       "\n",
       "    .dataframe tbody tr th {\n",
       "        vertical-align: top;\n",
       "    }\n",
       "\n",
       "    .dataframe thead th {\n",
       "        text-align: right;\n",
       "    }\n",
       "</style>\n",
       "<table border=\"1\" class=\"dataframe\">\n",
       "  <thead>\n",
       "    <tr style=\"text-align: right;\">\n",
       "      <th></th>\n",
       "      <th>Date</th>\n",
       "      <th>Open</th>\n",
       "      <th>High</th>\n",
       "      <th>Low</th>\n",
       "      <th>Close</th>\n",
       "      <th>Adj Close</th>\n",
       "      <th>Volume</th>\n",
       "    </tr>\n",
       "  </thead>\n",
       "  <tbody>\n",
       "    <tr>\n",
       "      <th>0</th>\n",
       "      <td>2010-06-29</td>\n",
       "      <td>19.000000</td>\n",
       "      <td>25.00</td>\n",
       "      <td>17.540001</td>\n",
       "      <td>23.889999</td>\n",
       "      <td>23.889999</td>\n",
       "      <td>18766300</td>\n",
       "    </tr>\n",
       "    <tr>\n",
       "      <th>1</th>\n",
       "      <td>2010-06-30</td>\n",
       "      <td>25.790001</td>\n",
       "      <td>30.42</td>\n",
       "      <td>23.299999</td>\n",
       "      <td>23.830000</td>\n",
       "      <td>23.830000</td>\n",
       "      <td>17187100</td>\n",
       "    </tr>\n",
       "    <tr>\n",
       "      <th>2</th>\n",
       "      <td>2010-07-01</td>\n",
       "      <td>25.000000</td>\n",
       "      <td>25.92</td>\n",
       "      <td>20.270000</td>\n",
       "      <td>21.959999</td>\n",
       "      <td>21.959999</td>\n",
       "      <td>8218800</td>\n",
       "    </tr>\n",
       "    <tr>\n",
       "      <th>3</th>\n",
       "      <td>2010-07-02</td>\n",
       "      <td>23.000000</td>\n",
       "      <td>23.10</td>\n",
       "      <td>18.709999</td>\n",
       "      <td>19.200001</td>\n",
       "      <td>19.200001</td>\n",
       "      <td>5139800</td>\n",
       "    </tr>\n",
       "    <tr>\n",
       "      <th>4</th>\n",
       "      <td>2010-07-06</td>\n",
       "      <td>20.000000</td>\n",
       "      <td>20.00</td>\n",
       "      <td>15.830000</td>\n",
       "      <td>16.110001</td>\n",
       "      <td>16.110001</td>\n",
       "      <td>6866900</td>\n",
       "    </tr>\n",
       "  </tbody>\n",
       "</table>\n",
       "</div>"
      ],
      "text/plain": [
       "         Date       Open   High        Low      Close  Adj Close    Volume\n",
       "0  2010-06-29  19.000000  25.00  17.540001  23.889999  23.889999  18766300\n",
       "1  2010-06-30  25.790001  30.42  23.299999  23.830000  23.830000  17187100\n",
       "2  2010-07-01  25.000000  25.92  20.270000  21.959999  21.959999   8218800\n",
       "3  2010-07-02  23.000000  23.10  18.709999  19.200001  19.200001   5139800\n",
       "4  2010-07-06  20.000000  20.00  15.830000  16.110001  16.110001   6866900"
      ]
     },
     "execution_count": 3,
     "metadata": {},
     "output_type": "execute_result"
    }
   ],
   "source": [
    "df.head()"
   ]
  },
  {
   "cell_type": "code",
   "execution_count": 4,
   "id": "15230469",
   "metadata": {
    "execution": {
     "iopub.execute_input": "2024-10-16T06:23:19.418195Z",
     "iopub.status.busy": "2024-10-16T06:23:19.417776Z",
     "iopub.status.idle": "2024-10-16T06:23:19.425233Z",
     "shell.execute_reply": "2024-10-16T06:23:19.424068Z"
    },
    "id": "TU5hlfyvVxY0",
    "papermill": {
     "duration": 0.029798,
     "end_time": "2024-10-16T06:23:19.427622",
     "exception": false,
     "start_time": "2024-10-16T06:23:19.397824",
     "status": "completed"
    },
    "tags": []
   },
   "outputs": [],
   "source": [
    "def check_df(dataframe, head=5):\n",
    "    print(\"##################### Shape #####################\")\n",
    "    print(dataframe.shape)\n",
    "    print(\"##################### Types #####################\")\n",
    "    print(dataframe.dtypes)\n",
    "    print(\"##################### Head #####################\")\n",
    "    print(dataframe.head(head))  # Fonksiyon çağrısına dikkat edin\n",
    "    print(\"##################### Tail #####################\")\n",
    "    print(dataframe.tail(head))\n",
    "    print(\"##################### NA #####################\")\n",
    "    print(dataframe.isnull().sum())\n",
    "    print(\"##################### Quantile #####################\")\n",
    "    print(dataframe.select_dtypes(include='number').quantile([0, 0.05, 0.5, 0.95, 0.99, 1]).T)\n"
   ]
  },
  {
   "cell_type": "code",
   "execution_count": 5,
   "id": "4e8c8d10",
   "metadata": {
    "execution": {
     "iopub.execute_input": "2024-10-16T06:23:19.455681Z",
     "iopub.status.busy": "2024-10-16T06:23:19.455297Z",
     "iopub.status.idle": "2024-10-16T06:23:19.478662Z",
     "shell.execute_reply": "2024-10-16T06:23:19.477407Z"
    },
    "id": "t6iFP965V4vk",
    "papermill": {
     "duration": 0.041306,
     "end_time": "2024-10-16T06:23:19.482079",
     "exception": false,
     "start_time": "2024-10-16T06:23:19.440773",
     "status": "completed"
    },
    "tags": []
   },
   "outputs": [
    {
     "name": "stdout",
     "output_type": "stream",
     "text": [
      "##################### Shape #####################\n",
      "(2416, 7)\n",
      "##################### Types #####################\n",
      "Date          object\n",
      "Open         float64\n",
      "High         float64\n",
      "Low          float64\n",
      "Close        float64\n",
      "Adj Close    float64\n",
      "Volume         int64\n",
      "dtype: object\n",
      "##################### Head #####################\n",
      "         Date       Open   High        Low      Close  Adj Close    Volume\n",
      "0  2010-06-29  19.000000  25.00  17.540001  23.889999  23.889999  18766300\n",
      "1  2010-06-30  25.790001  30.42  23.299999  23.830000  23.830000  17187100\n",
      "2  2010-07-01  25.000000  25.92  20.270000  21.959999  21.959999   8218800\n",
      "3  2010-07-02  23.000000  23.10  18.709999  19.200001  19.200001   5139800\n",
      "4  2010-07-06  20.000000  20.00  15.830000  16.110001  16.110001   6866900\n",
      "##################### Tail #####################\n",
      "            Date        Open        High         Low       Close   Adj Close  \\\n",
      "2411  2020-01-28  568.489990  576.809998  558.080017  566.900024  566.900024   \n",
      "2412  2020-01-29  575.690002  589.799988  567.429993  580.989990  580.989990   \n",
      "2413  2020-01-30  632.419983  650.880005  618.000000  640.809998  640.809998   \n",
      "2414  2020-01-31  640.000000  653.000000  632.520020  650.570007  650.570007   \n",
      "2415  2020-02-03  673.690002  786.140015  673.520020  780.000000  780.000000   \n",
      "\n",
      "        Volume  \n",
      "2411  11788500  \n",
      "2412  17801500  \n",
      "2413  29005700  \n",
      "2414  15719300  \n",
      "2415  47065000  \n",
      "##################### NA #####################\n",
      "Date         0\n",
      "Open         0\n",
      "High         0\n",
      "Low          0\n",
      "Close        0\n",
      "Adj Close    0\n",
      "Volume       0\n",
      "dtype: int64\n",
      "##################### Quantile #####################\n",
      "                    0.00           0.05          0.50          0.95  \\\n",
      "Open           16.139999      23.384999  2.130350e+02  3.519100e+02   \n",
      "High           16.629999      24.022501  2.167450e+02  3.567500e+02   \n",
      "Low            14.980000      22.867499  2.088700e+02  3.460250e+02   \n",
      "Close          15.800000      23.565000  2.129600e+02  3.511675e+02   \n",
      "Adj Close      15.800000      23.565000  2.129600e+02  3.511675e+02   \n",
      "Volume     118500.000000  633825.000000  4.578400e+06  1.476090e+07   \n",
      "\n",
      "                   0.99          1.00  \n",
      "Open       4.235790e+02  6.736900e+02  \n",
      "High       4.284705e+02  7.861400e+02  \n",
      "Low        4.122865e+02  6.735200e+02  \n",
      "Close      4.243455e+02  7.800000e+02  \n",
      "Adj Close  4.243455e+02  7.800000e+02  \n",
      "Volume     2.459959e+07  4.706500e+07  \n"
     ]
    }
   ],
   "source": [
    "check_df(df)"
   ]
  },
  {
   "cell_type": "markdown",
   "id": "6ffea9c1",
   "metadata": {
    "id": "v2n2ONcpWlQl",
    "papermill": {
     "duration": 0.012885,
     "end_time": "2024-10-16T06:23:19.508583",
     "exception": false,
     "start_time": "2024-10-16T06:23:19.495698",
     "status": "completed"
    },
    "tags": []
   },
   "source": [
    "## Data Preparation"
   ]
  },
  {
   "cell_type": "code",
   "execution_count": 6,
   "id": "ff2899f8",
   "metadata": {
    "execution": {
     "iopub.execute_input": "2024-10-16T06:23:19.536768Z",
     "iopub.status.busy": "2024-10-16T06:23:19.536336Z",
     "iopub.status.idle": "2024-10-16T06:23:19.547966Z",
     "shell.execute_reply": "2024-10-16T06:23:19.546607Z"
    },
    "id": "x-En8ormWAo8",
    "papermill": {
     "duration": 0.028545,
     "end_time": "2024-10-16T06:23:19.550468",
     "exception": false,
     "start_time": "2024-10-16T06:23:19.521923",
     "status": "completed"
    },
    "tags": []
   },
   "outputs": [],
   "source": [
    "df[\"Date\"] = pd.to_datetime(df[\"Date\"])"
   ]
  },
  {
   "cell_type": "code",
   "execution_count": 7,
   "id": "077f9dbd",
   "metadata": {
    "execution": {
     "iopub.execute_input": "2024-10-16T06:23:19.578907Z",
     "iopub.status.busy": "2024-10-16T06:23:19.578460Z",
     "iopub.status.idle": "2024-10-16T06:23:19.593640Z",
     "shell.execute_reply": "2024-10-16T06:23:19.592486Z"
    },
    "id": "Wk3C4MPkWBUG",
    "papermill": {
     "duration": 0.032029,
     "end_time": "2024-10-16T06:23:19.595989",
     "exception": false,
     "start_time": "2024-10-16T06:23:19.563960",
     "status": "completed"
    },
    "tags": []
   },
   "outputs": [
    {
     "data": {
      "text/html": [
       "<div>\n",
       "<style scoped>\n",
       "    .dataframe tbody tr th:only-of-type {\n",
       "        vertical-align: middle;\n",
       "    }\n",
       "\n",
       "    .dataframe tbody tr th {\n",
       "        vertical-align: top;\n",
       "    }\n",
       "\n",
       "    .dataframe thead th {\n",
       "        text-align: right;\n",
       "    }\n",
       "</style>\n",
       "<table border=\"1\" class=\"dataframe\">\n",
       "  <thead>\n",
       "    <tr style=\"text-align: right;\">\n",
       "      <th></th>\n",
       "      <th>Date</th>\n",
       "      <th>Open</th>\n",
       "      <th>High</th>\n",
       "      <th>Low</th>\n",
       "      <th>Close</th>\n",
       "      <th>Adj Close</th>\n",
       "      <th>Volume</th>\n",
       "    </tr>\n",
       "  </thead>\n",
       "  <tbody>\n",
       "    <tr>\n",
       "      <th>0</th>\n",
       "      <td>2010-06-29</td>\n",
       "      <td>19.000000</td>\n",
       "      <td>25.00</td>\n",
       "      <td>17.540001</td>\n",
       "      <td>23.889999</td>\n",
       "      <td>23.889999</td>\n",
       "      <td>18766300</td>\n",
       "    </tr>\n",
       "    <tr>\n",
       "      <th>1</th>\n",
       "      <td>2010-06-30</td>\n",
       "      <td>25.790001</td>\n",
       "      <td>30.42</td>\n",
       "      <td>23.299999</td>\n",
       "      <td>23.830000</td>\n",
       "      <td>23.830000</td>\n",
       "      <td>17187100</td>\n",
       "    </tr>\n",
       "    <tr>\n",
       "      <th>2</th>\n",
       "      <td>2010-07-01</td>\n",
       "      <td>25.000000</td>\n",
       "      <td>25.92</td>\n",
       "      <td>20.270000</td>\n",
       "      <td>21.959999</td>\n",
       "      <td>21.959999</td>\n",
       "      <td>8218800</td>\n",
       "    </tr>\n",
       "    <tr>\n",
       "      <th>3</th>\n",
       "      <td>2010-07-02</td>\n",
       "      <td>23.000000</td>\n",
       "      <td>23.10</td>\n",
       "      <td>18.709999</td>\n",
       "      <td>19.200001</td>\n",
       "      <td>19.200001</td>\n",
       "      <td>5139800</td>\n",
       "    </tr>\n",
       "    <tr>\n",
       "      <th>4</th>\n",
       "      <td>2010-07-06</td>\n",
       "      <td>20.000000</td>\n",
       "      <td>20.00</td>\n",
       "      <td>15.830000</td>\n",
       "      <td>16.110001</td>\n",
       "      <td>16.110001</td>\n",
       "      <td>6866900</td>\n",
       "    </tr>\n",
       "  </tbody>\n",
       "</table>\n",
       "</div>"
      ],
      "text/plain": [
       "        Date       Open   High        Low      Close  Adj Close    Volume\n",
       "0 2010-06-29  19.000000  25.00  17.540001  23.889999  23.889999  18766300\n",
       "1 2010-06-30  25.790001  30.42  23.299999  23.830000  23.830000  17187100\n",
       "2 2010-07-01  25.000000  25.92  20.270000  21.959999  21.959999   8218800\n",
       "3 2010-07-02  23.000000  23.10  18.709999  19.200001  19.200001   5139800\n",
       "4 2010-07-06  20.000000  20.00  15.830000  16.110001  16.110001   6866900"
      ]
     },
     "execution_count": 7,
     "metadata": {},
     "output_type": "execute_result"
    }
   ],
   "source": [
    "df.head()"
   ]
  },
  {
   "cell_type": "code",
   "execution_count": 8,
   "id": "48aec1a6",
   "metadata": {
    "execution": {
     "iopub.execute_input": "2024-10-16T06:23:19.624916Z",
     "iopub.status.busy": "2024-10-16T06:23:19.624532Z",
     "iopub.status.idle": "2024-10-16T06:23:19.630965Z",
     "shell.execute_reply": "2024-10-16T06:23:19.629848Z"
    },
    "id": "ZOVzSrk1WCHu",
    "papermill": {
     "duration": 0.023762,
     "end_time": "2024-10-16T06:23:19.633201",
     "exception": false,
     "start_time": "2024-10-16T06:23:19.609439",
     "status": "completed"
    },
    "tags": []
   },
   "outputs": [],
   "source": [
    "tesla_df = df[[\"Date\", \"Close\"]]"
   ]
  },
  {
   "cell_type": "code",
   "execution_count": 9,
   "id": "c8abcbcb",
   "metadata": {
    "execution": {
     "iopub.execute_input": "2024-10-16T06:23:19.661753Z",
     "iopub.status.busy": "2024-10-16T06:23:19.661368Z",
     "iopub.status.idle": "2024-10-16T06:23:19.672084Z",
     "shell.execute_reply": "2024-10-16T06:23:19.670941Z"
    },
    "id": "Tli5FuMBWF8l",
    "papermill": {
     "duration": 0.028006,
     "end_time": "2024-10-16T06:23:19.674634",
     "exception": false,
     "start_time": "2024-10-16T06:23:19.646628",
     "status": "completed"
    },
    "tags": []
   },
   "outputs": [
    {
     "data": {
      "text/html": [
       "<div>\n",
       "<style scoped>\n",
       "    .dataframe tbody tr th:only-of-type {\n",
       "        vertical-align: middle;\n",
       "    }\n",
       "\n",
       "    .dataframe tbody tr th {\n",
       "        vertical-align: top;\n",
       "    }\n",
       "\n",
       "    .dataframe thead th {\n",
       "        text-align: right;\n",
       "    }\n",
       "</style>\n",
       "<table border=\"1\" class=\"dataframe\">\n",
       "  <thead>\n",
       "    <tr style=\"text-align: right;\">\n",
       "      <th></th>\n",
       "      <th>Date</th>\n",
       "      <th>Close</th>\n",
       "    </tr>\n",
       "  </thead>\n",
       "  <tbody>\n",
       "    <tr>\n",
       "      <th>0</th>\n",
       "      <td>2010-06-29</td>\n",
       "      <td>23.889999</td>\n",
       "    </tr>\n",
       "    <tr>\n",
       "      <th>1</th>\n",
       "      <td>2010-06-30</td>\n",
       "      <td>23.830000</td>\n",
       "    </tr>\n",
       "    <tr>\n",
       "      <th>2</th>\n",
       "      <td>2010-07-01</td>\n",
       "      <td>21.959999</td>\n",
       "    </tr>\n",
       "    <tr>\n",
       "      <th>3</th>\n",
       "      <td>2010-07-02</td>\n",
       "      <td>19.200001</td>\n",
       "    </tr>\n",
       "    <tr>\n",
       "      <th>4</th>\n",
       "      <td>2010-07-06</td>\n",
       "      <td>16.110001</td>\n",
       "    </tr>\n",
       "  </tbody>\n",
       "</table>\n",
       "</div>"
      ],
      "text/plain": [
       "        Date      Close\n",
       "0 2010-06-29  23.889999\n",
       "1 2010-06-30  23.830000\n",
       "2 2010-07-01  21.959999\n",
       "3 2010-07-02  19.200001\n",
       "4 2010-07-06  16.110001"
      ]
     },
     "execution_count": 9,
     "metadata": {},
     "output_type": "execute_result"
    }
   ],
   "source": [
    "tesla_df.head()"
   ]
  },
  {
   "cell_type": "code",
   "execution_count": 10,
   "id": "4507d8b1",
   "metadata": {
    "execution": {
     "iopub.execute_input": "2024-10-16T06:23:19.704362Z",
     "iopub.status.busy": "2024-10-16T06:23:19.703546Z",
     "iopub.status.idle": "2024-10-16T06:23:19.710280Z",
     "shell.execute_reply": "2024-10-16T06:23:19.709192Z"
    },
    "id": "Gsw5OQCAWLzn",
    "papermill": {
     "duration": 0.024129,
     "end_time": "2024-10-16T06:23:19.712570",
     "exception": false,
     "start_time": "2024-10-16T06:23:19.688441",
     "status": "completed"
    },
    "tags": []
   },
   "outputs": [
    {
     "name": "stdout",
     "output_type": "stream",
     "text": [
      "Min Date:  2010-06-29 00:00:00\n",
      "Max Date:  2020-02-03 00:00:00\n"
     ]
    }
   ],
   "source": [
    "print(\"Min Date: \", tesla_df[\"Date\"].min())\n",
    "print(\"Max Date: \", tesla_df[\"Date\"].max())"
   ]
  },
  {
   "cell_type": "code",
   "execution_count": 11,
   "id": "e66fb435",
   "metadata": {
    "execution": {
     "iopub.execute_input": "2024-10-16T06:23:19.742245Z",
     "iopub.status.busy": "2024-10-16T06:23:19.741250Z",
     "iopub.status.idle": "2024-10-16T06:23:19.746822Z",
     "shell.execute_reply": "2024-10-16T06:23:19.745526Z"
    },
    "id": "JGi8P08mWQO1",
    "papermill": {
     "duration": 0.022871,
     "end_time": "2024-10-16T06:23:19.749213",
     "exception": false,
     "start_time": "2024-10-16T06:23:19.726342",
     "status": "completed"
    },
    "tags": []
   },
   "outputs": [],
   "source": [
    "tesla_df.index = tesla_df[\"Date\"]"
   ]
  },
  {
   "cell_type": "code",
   "execution_count": 12,
   "id": "7a074b77",
   "metadata": {
    "execution": {
     "iopub.execute_input": "2024-10-16T06:23:19.778454Z",
     "iopub.status.busy": "2024-10-16T06:23:19.778063Z",
     "iopub.status.idle": "2024-10-16T06:23:19.790029Z",
     "shell.execute_reply": "2024-10-16T06:23:19.788982Z"
    },
    "id": "YBWxX2IOWoL_",
    "papermill": {
     "duration": 0.029377,
     "end_time": "2024-10-16T06:23:19.792401",
     "exception": false,
     "start_time": "2024-10-16T06:23:19.763024",
     "status": "completed"
    },
    "tags": []
   },
   "outputs": [
    {
     "data": {
      "text/html": [
       "<div>\n",
       "<style scoped>\n",
       "    .dataframe tbody tr th:only-of-type {\n",
       "        vertical-align: middle;\n",
       "    }\n",
       "\n",
       "    .dataframe tbody tr th {\n",
       "        vertical-align: top;\n",
       "    }\n",
       "\n",
       "    .dataframe thead th {\n",
       "        text-align: right;\n",
       "    }\n",
       "</style>\n",
       "<table border=\"1\" class=\"dataframe\">\n",
       "  <thead>\n",
       "    <tr style=\"text-align: right;\">\n",
       "      <th></th>\n",
       "      <th>Date</th>\n",
       "      <th>Close</th>\n",
       "    </tr>\n",
       "    <tr>\n",
       "      <th>Date</th>\n",
       "      <th></th>\n",
       "      <th></th>\n",
       "    </tr>\n",
       "  </thead>\n",
       "  <tbody>\n",
       "    <tr>\n",
       "      <th>2010-06-29</th>\n",
       "      <td>2010-06-29</td>\n",
       "      <td>23.889999</td>\n",
       "    </tr>\n",
       "    <tr>\n",
       "      <th>2010-06-30</th>\n",
       "      <td>2010-06-30</td>\n",
       "      <td>23.830000</td>\n",
       "    </tr>\n",
       "    <tr>\n",
       "      <th>2010-07-01</th>\n",
       "      <td>2010-07-01</td>\n",
       "      <td>21.959999</td>\n",
       "    </tr>\n",
       "    <tr>\n",
       "      <th>2010-07-02</th>\n",
       "      <td>2010-07-02</td>\n",
       "      <td>19.200001</td>\n",
       "    </tr>\n",
       "    <tr>\n",
       "      <th>2010-07-06</th>\n",
       "      <td>2010-07-06</td>\n",
       "      <td>16.110001</td>\n",
       "    </tr>\n",
       "    <tr>\n",
       "      <th>...</th>\n",
       "      <td>...</td>\n",
       "      <td>...</td>\n",
       "    </tr>\n",
       "    <tr>\n",
       "      <th>2020-01-28</th>\n",
       "      <td>2020-01-28</td>\n",
       "      <td>566.900024</td>\n",
       "    </tr>\n",
       "    <tr>\n",
       "      <th>2020-01-29</th>\n",
       "      <td>2020-01-29</td>\n",
       "      <td>580.989990</td>\n",
       "    </tr>\n",
       "    <tr>\n",
       "      <th>2020-01-30</th>\n",
       "      <td>2020-01-30</td>\n",
       "      <td>640.809998</td>\n",
       "    </tr>\n",
       "    <tr>\n",
       "      <th>2020-01-31</th>\n",
       "      <td>2020-01-31</td>\n",
       "      <td>650.570007</td>\n",
       "    </tr>\n",
       "    <tr>\n",
       "      <th>2020-02-03</th>\n",
       "      <td>2020-02-03</td>\n",
       "      <td>780.000000</td>\n",
       "    </tr>\n",
       "  </tbody>\n",
       "</table>\n",
       "<p>2416 rows × 2 columns</p>\n",
       "</div>"
      ],
      "text/plain": [
       "                 Date       Close\n",
       "Date                             \n",
       "2010-06-29 2010-06-29   23.889999\n",
       "2010-06-30 2010-06-30   23.830000\n",
       "2010-07-01 2010-07-01   21.959999\n",
       "2010-07-02 2010-07-02   19.200001\n",
       "2010-07-06 2010-07-06   16.110001\n",
       "...               ...         ...\n",
       "2020-01-28 2020-01-28  566.900024\n",
       "2020-01-29 2020-01-29  580.989990\n",
       "2020-01-30 2020-01-30  640.809998\n",
       "2020-01-31 2020-01-31  650.570007\n",
       "2020-02-03 2020-02-03  780.000000\n",
       "\n",
       "[2416 rows x 2 columns]"
      ]
     },
     "execution_count": 12,
     "metadata": {},
     "output_type": "execute_result"
    }
   ],
   "source": [
    "tesla_df"
   ]
  },
  {
   "cell_type": "code",
   "execution_count": 13,
   "id": "af6171f3",
   "metadata": {
    "execution": {
     "iopub.execute_input": "2024-10-16T06:23:19.822056Z",
     "iopub.status.busy": "2024-10-16T06:23:19.821638Z",
     "iopub.status.idle": "2024-10-16T06:23:19.827393Z",
     "shell.execute_reply": "2024-10-16T06:23:19.826404Z"
    },
    "id": "tgPM31WBWvcH",
    "papermill": {
     "duration": 0.023123,
     "end_time": "2024-10-16T06:23:19.829543",
     "exception": false,
     "start_time": "2024-10-16T06:23:19.806420",
     "status": "completed"
    },
    "tags": []
   },
   "outputs": [],
   "source": [
    "tesla_df.drop(\"Date\", axis=1, inplace=True)"
   ]
  },
  {
   "cell_type": "code",
   "execution_count": 14,
   "id": "c24c6103",
   "metadata": {
    "execution": {
     "iopub.execute_input": "2024-10-16T06:23:19.859687Z",
     "iopub.status.busy": "2024-10-16T06:23:19.858728Z",
     "iopub.status.idle": "2024-10-16T06:23:19.869312Z",
     "shell.execute_reply": "2024-10-16T06:23:19.868207Z"
    },
    "id": "17KdnKMGWwSm",
    "papermill": {
     "duration": 0.027923,
     "end_time": "2024-10-16T06:23:19.871551",
     "exception": false,
     "start_time": "2024-10-16T06:23:19.843628",
     "status": "completed"
    },
    "tags": []
   },
   "outputs": [
    {
     "data": {
      "text/html": [
       "<div>\n",
       "<style scoped>\n",
       "    .dataframe tbody tr th:only-of-type {\n",
       "        vertical-align: middle;\n",
       "    }\n",
       "\n",
       "    .dataframe tbody tr th {\n",
       "        vertical-align: top;\n",
       "    }\n",
       "\n",
       "    .dataframe thead th {\n",
       "        text-align: right;\n",
       "    }\n",
       "</style>\n",
       "<table border=\"1\" class=\"dataframe\">\n",
       "  <thead>\n",
       "    <tr style=\"text-align: right;\">\n",
       "      <th></th>\n",
       "      <th>Close</th>\n",
       "    </tr>\n",
       "    <tr>\n",
       "      <th>Date</th>\n",
       "      <th></th>\n",
       "    </tr>\n",
       "  </thead>\n",
       "  <tbody>\n",
       "    <tr>\n",
       "      <th>2010-06-29</th>\n",
       "      <td>23.889999</td>\n",
       "    </tr>\n",
       "    <tr>\n",
       "      <th>2010-06-30</th>\n",
       "      <td>23.830000</td>\n",
       "    </tr>\n",
       "    <tr>\n",
       "      <th>2010-07-01</th>\n",
       "      <td>21.959999</td>\n",
       "    </tr>\n",
       "    <tr>\n",
       "      <th>2010-07-02</th>\n",
       "      <td>19.200001</td>\n",
       "    </tr>\n",
       "    <tr>\n",
       "      <th>2010-07-06</th>\n",
       "      <td>16.110001</td>\n",
       "    </tr>\n",
       "    <tr>\n",
       "      <th>...</th>\n",
       "      <td>...</td>\n",
       "    </tr>\n",
       "    <tr>\n",
       "      <th>2020-01-28</th>\n",
       "      <td>566.900024</td>\n",
       "    </tr>\n",
       "    <tr>\n",
       "      <th>2020-01-29</th>\n",
       "      <td>580.989990</td>\n",
       "    </tr>\n",
       "    <tr>\n",
       "      <th>2020-01-30</th>\n",
       "      <td>640.809998</td>\n",
       "    </tr>\n",
       "    <tr>\n",
       "      <th>2020-01-31</th>\n",
       "      <td>650.570007</td>\n",
       "    </tr>\n",
       "    <tr>\n",
       "      <th>2020-02-03</th>\n",
       "      <td>780.000000</td>\n",
       "    </tr>\n",
       "  </tbody>\n",
       "</table>\n",
       "<p>2416 rows × 1 columns</p>\n",
       "</div>"
      ],
      "text/plain": [
       "                 Close\n",
       "Date                  \n",
       "2010-06-29   23.889999\n",
       "2010-06-30   23.830000\n",
       "2010-07-01   21.959999\n",
       "2010-07-02   19.200001\n",
       "2010-07-06   16.110001\n",
       "...                ...\n",
       "2020-01-28  566.900024\n",
       "2020-01-29  580.989990\n",
       "2020-01-30  640.809998\n",
       "2020-01-31  650.570007\n",
       "2020-02-03  780.000000\n",
       "\n",
       "[2416 rows x 1 columns]"
      ]
     },
     "execution_count": 14,
     "metadata": {},
     "output_type": "execute_result"
    }
   ],
   "source": [
    "tesla_df"
   ]
  },
  {
   "cell_type": "code",
   "execution_count": 15,
   "id": "7228ff1c",
   "metadata": {
    "execution": {
     "iopub.execute_input": "2024-10-16T06:23:19.901614Z",
     "iopub.status.busy": "2024-10-16T06:23:19.901231Z",
     "iopub.status.idle": "2024-10-16T06:23:19.906339Z",
     "shell.execute_reply": "2024-10-16T06:23:19.905282Z"
    },
    "id": "PliZ5OcsWxsF",
    "papermill": {
     "duration": 0.022607,
     "end_time": "2024-10-16T06:23:19.908519",
     "exception": false,
     "start_time": "2024-10-16T06:23:19.885912",
     "status": "completed"
    },
    "tags": []
   },
   "outputs": [],
   "source": [
    "result_df = tesla_df.copy()"
   ]
  },
  {
   "cell_type": "code",
   "execution_count": 16,
   "id": "45039853",
   "metadata": {
    "execution": {
     "iopub.execute_input": "2024-10-16T06:23:19.938684Z",
     "iopub.status.busy": "2024-10-16T06:23:19.938285Z",
     "iopub.status.idle": "2024-10-16T06:23:20.343700Z",
     "shell.execute_reply": "2024-10-16T06:23:20.342483Z"
    },
    "id": "ObqHX6K2W0te",
    "papermill": {
     "duration": 0.423321,
     "end_time": "2024-10-16T06:23:20.346137",
     "exception": false,
     "start_time": "2024-10-16T06:23:19.922816",
     "status": "completed"
    },
    "tags": []
   },
   "outputs": [
    {
     "data": {
      "image/png": "[encoded data removed]",
      "text/plain": [
       "<Figure size 1400x500 with 1 Axes>"
      ]
     },
     "metadata": {},
     "output_type": "display_data"
    }
   ],
   "source": [
    "plt.figure(figsize=(14,5))\n",
    "plt.plot(tesla_df['Close'], color='blue')\n",
    "plt.title(\"Tesla Stock Price\")\n",
    "plt.xlabel(\"Time\")\n",
    "plt.ylabel(\"Stock Price\")\n",
    "plt.show()"
   ]
  },
  {
   "cell_type": "code",
   "execution_count": 17,
   "id": "b779fd6e",
   "metadata": {
    "execution": {
     "iopub.execute_input": "2024-10-16T06:23:20.377804Z",
     "iopub.status.busy": "2024-10-16T06:23:20.377431Z",
     "iopub.status.idle": "2024-10-16T06:23:20.382481Z",
     "shell.execute_reply": "2024-10-16T06:23:20.381259Z"
    },
    "id": "5LWFDWjNW2z2",
    "papermill": {
     "duration": 0.023316,
     "end_time": "2024-10-16T06:23:20.384656",
     "exception": false,
     "start_time": "2024-10-16T06:23:20.361340",
     "status": "completed"
    },
    "tags": []
   },
   "outputs": [],
   "source": [
    "tesla_df = tesla_df.values"
   ]
  },
  {
   "cell_type": "code",
   "execution_count": 18,
   "id": "b4c6321c",
   "metadata": {
    "execution": {
     "iopub.execute_input": "2024-10-16T06:23:20.416449Z",
     "iopub.status.busy": "2024-10-16T06:23:20.416065Z",
     "iopub.status.idle": "2024-10-16T06:23:20.423311Z",
     "shell.execute_reply": "2024-10-16T06:23:20.422295Z"
    },
    "id": "jxFZkTS-W9Mm",
    "papermill": {
     "duration": 0.025783,
     "end_time": "2024-10-16T06:23:20.425543",
     "exception": false,
     "start_time": "2024-10-16T06:23:20.399760",
     "status": "completed"
    },
    "tags": []
   },
   "outputs": [
    {
     "data": {
      "text/plain": [
       "array([[23.889999],\n",
       "       [23.83    ],\n",
       "       [21.959999],\n",
       "       [19.200001],\n",
       "       [16.110001]])"
      ]
     },
     "execution_count": 18,
     "metadata": {},
     "output_type": "execute_result"
    }
   ],
   "source": [
    "tesla_df[0:5]"
   ]
  },
  {
   "cell_type": "code",
   "execution_count": 19,
   "id": "65eb5c78",
   "metadata": {
    "execution": {
     "iopub.execute_input": "2024-10-16T06:23:20.457580Z",
     "iopub.status.busy": "2024-10-16T06:23:20.457171Z",
     "iopub.status.idle": "2024-10-16T06:23:20.462172Z",
     "shell.execute_reply": "2024-10-16T06:23:20.461077Z"
    },
    "id": "iU7KJlc4XAb2",
    "papermill": {
     "duration": 0.023869,
     "end_time": "2024-10-16T06:23:20.464735",
     "exception": false,
     "start_time": "2024-10-16T06:23:20.440866",
     "status": "completed"
    },
    "tags": []
   },
   "outputs": [],
   "source": [
    "tesla_df = tesla_df.astype(\"float32\")"
   ]
  },
  {
   "cell_type": "code",
   "execution_count": 20,
   "id": "2027b7df",
   "metadata": {
    "execution": {
     "iopub.execute_input": "2024-10-16T06:23:20.497062Z",
     "iopub.status.busy": "2024-10-16T06:23:20.496222Z",
     "iopub.status.idle": "2024-10-16T06:23:20.501946Z",
     "shell.execute_reply": "2024-10-16T06:23:20.500867Z"
    },
    "id": "r7Cywk9oXBI-",
    "papermill": {
     "duration": 0.024459,
     "end_time": "2024-10-16T06:23:20.504330",
     "exception": false,
     "start_time": "2024-10-16T06:23:20.479871",
     "status": "completed"
    },
    "tags": []
   },
   "outputs": [],
   "source": [
    "def split_data(dataframe, test_size):\n",
    "  position = int(round(len(dataframe) * (1 - test_size)))\n",
    "  train = dataframe[:position]\n",
    "  test = dataframe[position:]\n",
    "  return train, test, position"
   ]
  },
  {
   "cell_type": "code",
   "execution_count": 21,
   "id": "04874905",
   "metadata": {
    "execution": {
     "iopub.execute_input": "2024-10-16T06:23:20.536368Z",
     "iopub.status.busy": "2024-10-16T06:23:20.535907Z",
     "iopub.status.idle": "2024-10-16T06:23:20.540986Z",
     "shell.execute_reply": "2024-10-16T06:23:20.539835Z"
    },
    "id": "COxqfz0SZvV_",
    "papermill": {
     "duration": 0.023839,
     "end_time": "2024-10-16T06:23:20.543136",
     "exception": false,
     "start_time": "2024-10-16T06:23:20.519297",
     "status": "completed"
    },
    "tags": []
   },
   "outputs": [],
   "source": [
    "train, test, position = split_data(tesla_df, 0.20)"
   ]
  },
  {
   "cell_type": "code",
   "execution_count": 22,
   "id": "6cd652c3",
   "metadata": {
    "execution": {
     "iopub.execute_input": "2024-10-16T06:23:20.575583Z",
     "iopub.status.busy": "2024-10-16T06:23:20.575164Z",
     "iopub.status.idle": "2024-10-16T06:23:20.581385Z",
     "shell.execute_reply": "2024-10-16T06:23:20.580047Z"
    },
    "id": "jESwxnt2Z1t5",
    "papermill": {
     "duration": 0.025712,
     "end_time": "2024-10-16T06:23:20.584051",
     "exception": false,
     "start_time": "2024-10-16T06:23:20.558339",
     "status": "completed"
    },
    "tags": []
   },
   "outputs": [
    {
     "name": "stdout",
     "output_type": "stream",
     "text": [
      "(1933, 1) (483, 1)\n"
     ]
    }
   ],
   "source": [
    "print(train.shape, test.shape)"
   ]
  },
  {
   "cell_type": "code",
   "execution_count": 23,
   "id": "2f2f41ae",
   "metadata": {
    "execution": {
     "iopub.execute_input": "2024-10-16T06:23:20.616117Z",
     "iopub.status.busy": "2024-10-16T06:23:20.615703Z",
     "iopub.status.idle": "2024-10-16T06:23:20.620708Z",
     "shell.execute_reply": "2024-10-16T06:23:20.619610Z"
    },
    "id": "wleQDdgSZ8NZ",
    "papermill": {
     "duration": 0.023641,
     "end_time": "2024-10-16T06:23:20.622858",
     "exception": false,
     "start_time": "2024-10-16T06:23:20.599217",
     "status": "completed"
    },
    "tags": []
   },
   "outputs": [],
   "source": [
    "scaler_train = MinMaxScaler(feature_range = (0,1))"
   ]
  },
  {
   "cell_type": "code",
   "execution_count": 24,
   "id": "435102f8",
   "metadata": {
    "execution": {
     "iopub.execute_input": "2024-10-16T06:23:20.655174Z",
     "iopub.status.busy": "2024-10-16T06:23:20.654406Z",
     "iopub.status.idle": "2024-10-16T06:23:20.660127Z",
     "shell.execute_reply": "2024-10-16T06:23:20.659071Z"
    },
    "id": "Enf8wikDaNZh",
    "papermill": {
     "duration": 0.024376,
     "end_time": "2024-10-16T06:23:20.662505",
     "exception": false,
     "start_time": "2024-10-16T06:23:20.638129",
     "status": "completed"
    },
    "tags": []
   },
   "outputs": [],
   "source": [
    "train = scaler_train.fit_transform(train)"
   ]
  },
  {
   "cell_type": "code",
   "execution_count": 25,
   "id": "4de00f6a",
   "metadata": {
    "execution": {
     "iopub.execute_input": "2024-10-16T06:23:20.694382Z",
     "iopub.status.busy": "2024-10-16T06:23:20.693967Z",
     "iopub.status.idle": "2024-10-16T06:23:20.698984Z",
     "shell.execute_reply": "2024-10-16T06:23:20.697874Z"
    },
    "id": "cg-7tCn_aXTc",
    "papermill": {
     "duration": 0.023508,
     "end_time": "2024-10-16T06:23:20.701151",
     "exception": false,
     "start_time": "2024-10-16T06:23:20.677643",
     "status": "completed"
    },
    "tags": []
   },
   "outputs": [],
   "source": [
    "scaler_test = MinMaxScaler(feature_range = (0,1))"
   ]
  },
  {
   "cell_type": "code",
   "execution_count": 26,
   "id": "8453bcc3",
   "metadata": {
    "execution": {
     "iopub.execute_input": "2024-10-16T06:23:20.733169Z",
     "iopub.status.busy": "2024-10-16T06:23:20.732757Z",
     "iopub.status.idle": "2024-10-16T06:23:20.738759Z",
     "shell.execute_reply": "2024-10-16T06:23:20.737621Z"
    },
    "id": "tSbuIifiabbC",
    "papermill": {
     "duration": 0.024574,
     "end_time": "2024-10-16T06:23:20.740966",
     "exception": false,
     "start_time": "2024-10-16T06:23:20.716392",
     "status": "completed"
    },
    "tags": []
   },
   "outputs": [],
   "source": [
    "test = scaler_test.fit_transform(test)"
   ]
  },
  {
   "cell_type": "code",
   "execution_count": 27,
   "id": "5ab17622",
   "metadata": {
    "execution": {
     "iopub.execute_input": "2024-10-16T06:23:20.773214Z",
     "iopub.status.busy": "2024-10-16T06:23:20.772799Z",
     "iopub.status.idle": "2024-10-16T06:23:20.780083Z",
     "shell.execute_reply": "2024-10-16T06:23:20.778958Z"
    },
    "id": "X5a7m_BEagaJ",
    "papermill": {
     "duration": 0.025913,
     "end_time": "2024-10-16T06:23:20.782220",
     "exception": false,
     "start_time": "2024-10-16T06:23:20.756307",
     "status": "completed"
    },
    "tags": []
   },
   "outputs": [
    {
     "data": {
      "text/plain": [
       "array([[0.02191224],\n",
       "       [0.02174973],\n",
       "       [0.01668472],\n",
       "       [0.0092091 ],\n",
       "       [0.00083966]], dtype=float32)"
      ]
     },
     "execution_count": 27,
     "metadata": {},
     "output_type": "execute_result"
    }
   ],
   "source": [
    "train[0:5]"
   ]
  },
  {
   "cell_type": "code",
   "execution_count": 28,
   "id": "9c4d0b2f",
   "metadata": {
    "execution": {
     "iopub.execute_input": "2024-10-16T06:23:20.814963Z",
     "iopub.status.busy": "2024-10-16T06:23:20.813974Z",
     "iopub.status.idle": "2024-10-16T06:23:20.821355Z",
     "shell.execute_reply": "2024-10-16T06:23:20.820267Z"
    },
    "id": "AeVSy_ijahnh",
    "papermill": {
     "duration": 0.026091,
     "end_time": "2024-10-16T06:23:20.823591",
     "exception": false,
     "start_time": "2024-10-16T06:23:20.797500",
     "status": "completed"
    },
    "tags": []
   },
   "outputs": [
    {
     "data": {
      "text/plain": [
       "array([[0.25685903],\n",
       "       [0.24829045],\n",
       "       [0.25511202],\n",
       "       [0.24978784],\n",
       "       [0.2465767 ]], dtype=float32)"
      ]
     },
     "execution_count": 28,
     "metadata": {},
     "output_type": "execute_result"
    }
   ],
   "source": [
    "test[0:5]"
   ]
  },
  {
   "cell_type": "code",
   "execution_count": 29,
   "id": "8a4842d3",
   "metadata": {
    "execution": {
     "iopub.execute_input": "2024-10-16T06:23:20.856367Z",
     "iopub.status.busy": "2024-10-16T06:23:20.855537Z",
     "iopub.status.idle": "2024-10-16T06:23:20.861490Z",
     "shell.execute_reply": "2024-10-16T06:23:20.860505Z"
    },
    "id": "Gv95UqJWasHS",
    "papermill": {
     "duration": 0.024874,
     "end_time": "2024-10-16T06:23:20.863783",
     "exception": false,
     "start_time": "2024-10-16T06:23:20.838909",
     "status": "completed"
    },
    "tags": []
   },
   "outputs": [],
   "source": [
    "def create_features(data, lookback):\n",
    "  X, Y = [], []\n",
    "  for i in range(lookback, len(data)):\n",
    "    X.append(data[i-lookback:i,0])\n",
    "    Y.append(data[i,0])\n",
    "\n",
    "  return np.array(X), np.array(Y)"
   ]
  },
  {
   "cell_type": "code",
   "execution_count": 30,
   "id": "bf2434e4",
   "metadata": {
    "execution": {
     "iopub.execute_input": "2024-10-16T06:23:20.897970Z",
     "iopub.status.busy": "2024-10-16T06:23:20.896972Z",
     "iopub.status.idle": "2024-10-16T06:23:20.902227Z",
     "shell.execute_reply": "2024-10-16T06:23:20.900953Z"
    },
    "id": "e36Ux4_CbASm",
    "papermill": {
     "duration": 0.024596,
     "end_time": "2024-10-16T06:23:20.904292",
     "exception": false,
     "start_time": "2024-10-16T06:23:20.879696",
     "status": "completed"
    },
    "tags": []
   },
   "outputs": [],
   "source": [
    "lookback = 20"
   ]
  },
  {
   "cell_type": "code",
   "execution_count": 31,
   "id": "04c0a838",
   "metadata": {
    "execution": {
     "iopub.execute_input": "2024-10-16T06:23:20.938137Z",
     "iopub.status.busy": "2024-10-16T06:23:20.937703Z",
     "iopub.status.idle": "2024-10-16T06:23:20.945584Z",
     "shell.execute_reply": "2024-10-16T06:23:20.944557Z"
    },
    "id": "Xd8JMdaWbCzp",
    "papermill": {
     "duration": 0.027164,
     "end_time": "2024-10-16T06:23:20.947903",
     "exception": false,
     "start_time": "2024-10-16T06:23:20.920739",
     "status": "completed"
    },
    "tags": []
   },
   "outputs": [],
   "source": [
    "X_train, y_train = create_features(train, lookback)"
   ]
  },
  {
   "cell_type": "code",
   "execution_count": 32,
   "id": "25e025a6",
   "metadata": {
    "execution": {
     "iopub.execute_input": "2024-10-16T06:23:21.031541Z",
     "iopub.status.busy": "2024-10-16T06:23:21.031149Z",
     "iopub.status.idle": "2024-10-16T06:23:21.037250Z",
     "shell.execute_reply": "2024-10-16T06:23:21.036213Z"
    },
    "id": "wHgq8DT5bF_Z",
    "papermill": {
     "duration": 0.076186,
     "end_time": "2024-10-16T06:23:21.039492",
     "exception": false,
     "start_time": "2024-10-16T06:23:20.963306",
     "status": "completed"
    },
    "tags": []
   },
   "outputs": [],
   "source": [
    "X_test, y_test = create_features(test, lookback)"
   ]
  },
  {
   "cell_type": "code",
   "execution_count": 33,
   "id": "829bb879",
   "metadata": {
    "execution": {
     "iopub.execute_input": "2024-10-16T06:23:21.072298Z",
     "iopub.status.busy": "2024-10-16T06:23:21.071857Z",
     "iopub.status.idle": "2024-10-16T06:23:21.078099Z",
     "shell.execute_reply": "2024-10-16T06:23:21.076829Z"
    },
    "id": "zYQy_33TbKdb",
    "papermill": {
     "duration": 0.025441,
     "end_time": "2024-10-16T06:23:21.080500",
     "exception": false,
     "start_time": "2024-10-16T06:23:21.055059",
     "status": "completed"
    },
    "tags": []
   },
   "outputs": [
    {
     "name": "stdout",
     "output_type": "stream",
     "text": [
      "(1913, 20) (1913,) (463, 20) (463,)\n"
     ]
    }
   ],
   "source": [
    "print(X_train.shape, y_train.shape, X_test.shape, y_test.shape)"
   ]
  },
  {
   "cell_type": "code",
   "execution_count": 34,
   "id": "5f01e6ec",
   "metadata": {
    "execution": {
     "iopub.execute_input": "2024-10-16T06:23:21.113516Z",
     "iopub.status.busy": "2024-10-16T06:23:21.113104Z",
     "iopub.status.idle": "2024-10-16T06:23:21.120974Z",
     "shell.execute_reply": "2024-10-16T06:23:21.119924Z"
    },
    "id": "sI1k-K6bTKuw",
    "papermill": {
     "duration": 0.026917,
     "end_time": "2024-10-16T06:23:21.123166",
     "exception": false,
     "start_time": "2024-10-16T06:23:21.096249",
     "status": "completed"
    },
    "tags": []
   },
   "outputs": [
    {
     "data": {
      "text/plain": [
       "array([[0.02191224, 0.02174973, 0.01668472, 0.0092091 , 0.00083966,\n",
       "        0.        , 0.00449621, 0.00433369, 0.0033857 , 0.00633803,\n",
       "        0.01094258, 0.011078  , 0.01310942, 0.0165493 , 0.01218851,\n",
       "        0.01197183, 0.01408451, 0.01486999, 0.01394908, 0.01286566],\n",
       "       [0.02174973, 0.01668472, 0.0092091 , 0.00083966, 0.        ,\n",
       "        0.00449621, 0.00433369, 0.0033857 , 0.00633803, 0.01094258,\n",
       "        0.011078  , 0.01310942, 0.0165493 , 0.01218851, 0.01197183,\n",
       "        0.01408451, 0.01486999, 0.01394908, 0.01286566, 0.01332611],\n",
       "       [0.01668472, 0.0092091 , 0.00083966, 0.        , 0.00449621,\n",
       "        0.00433369, 0.0033857 , 0.00633803, 0.01094258, 0.011078  ,\n",
       "        0.01310942, 0.0165493 , 0.01218851, 0.01197183, 0.01408451,\n",
       "        0.01486999, 0.01394908, 0.01286566, 0.01332611, 0.01232395],\n",
       "       [0.0092091 , 0.00083966, 0.        , 0.00449621, 0.00433369,\n",
       "        0.0033857 , 0.00633803, 0.01094258, 0.011078  , 0.01310942,\n",
       "        0.0165493 , 0.01218851, 0.01197183, 0.01408451, 0.01486999,\n",
       "        0.01394908, 0.01286566, 0.01332611, 0.01232395, 0.01121344],\n",
       "       [0.00083966, 0.        , 0.00449621, 0.00433369, 0.0033857 ,\n",
       "        0.00633803, 0.01094258, 0.011078  , 0.01310942, 0.0165493 ,\n",
       "        0.01218851, 0.01197183, 0.01408451, 0.01486999, 0.01394908,\n",
       "        0.01286566, 0.01332611, 0.01232395, 0.01121344, 0.01386782]],\n",
       "      dtype=float32)"
      ]
     },
     "execution_count": 34,
     "metadata": {},
     "output_type": "execute_result"
    }
   ],
   "source": [
    "X_train[0:5]"
   ]
  },
  {
   "cell_type": "code",
   "execution_count": 35,
   "id": "1b53d99e",
   "metadata": {
    "execution": {
     "iopub.execute_input": "2024-10-16T06:23:21.156128Z",
     "iopub.status.busy": "2024-10-16T06:23:21.155706Z",
     "iopub.status.idle": "2024-10-16T06:23:21.162996Z",
     "shell.execute_reply": "2024-10-16T06:23:21.161871Z"
    },
    "id": "vY5hCVQHTg9u",
    "papermill": {
     "duration": 0.026325,
     "end_time": "2024-10-16T06:23:21.165127",
     "exception": false,
     "start_time": "2024-10-16T06:23:21.138802",
     "status": "completed"
    },
    "tags": []
   },
   "outputs": [
    {
     "data": {
      "text/plain": [
       "array([0.01332611, 0.01232395, 0.01121344, 0.01386782, 0.01665764],\n",
       "      dtype=float32)"
      ]
     },
     "execution_count": 35,
     "metadata": {},
     "output_type": "execute_result"
    }
   ],
   "source": [
    "y_train[0:5]"
   ]
  },
  {
   "cell_type": "code",
   "execution_count": 36,
   "id": "43e1f86a",
   "metadata": {
    "execution": {
     "iopub.execute_input": "2024-10-16T06:23:21.198713Z",
     "iopub.status.busy": "2024-10-16T06:23:21.198294Z",
     "iopub.status.idle": "2024-10-16T06:23:21.204437Z",
     "shell.execute_reply": "2024-10-16T06:23:21.203257Z"
    },
    "id": "yvf-4kLybad5",
    "papermill": {
     "duration": 0.025702,
     "end_time": "2024-10-16T06:23:21.206841",
     "exception": false,
     "start_time": "2024-10-16T06:23:21.181139",
     "status": "completed"
    },
    "tags": []
   },
   "outputs": [],
   "source": [
    "X_train = np.reshape(X_train, (X_train.shape[0], 1, X_train.shape[1]))\n",
    "X_test = np.reshape(X_test, (X_test.shape[0], 1, X_test.shape[1]))\n",
    "y_train = y_train.reshape(-1,1)\n",
    "y_test = y_test.reshape(-1,1)"
   ]
  },
  {
   "cell_type": "code",
   "execution_count": 37,
   "id": "1f9c6b65",
   "metadata": {
    "execution": {
     "iopub.execute_input": "2024-10-16T06:23:21.240578Z",
     "iopub.status.busy": "2024-10-16T06:23:21.240177Z",
     "iopub.status.idle": "2024-10-16T06:23:21.245889Z",
     "shell.execute_reply": "2024-10-16T06:23:21.244737Z"
    },
    "id": "D2ltv0Edb3wz",
    "papermill": {
     "duration": 0.025181,
     "end_time": "2024-10-16T06:23:21.248277",
     "exception": false,
     "start_time": "2024-10-16T06:23:21.223096",
     "status": "completed"
    },
    "tags": []
   },
   "outputs": [
    {
     "name": "stdout",
     "output_type": "stream",
     "text": [
      "(1913, 1, 20) (1913, 1) (463, 1, 20) (463, 1)\n"
     ]
    }
   ],
   "source": [
    "print(X_train.shape, y_train.shape, X_test.shape, y_test.shape)"
   ]
  },
  {
   "cell_type": "markdown",
   "id": "afac7103",
   "metadata": {
    "id": "DtsN3xazcIAn",
    "papermill": {
     "duration": 0.0155,
     "end_time": "2024-10-16T06:23:21.279614",
     "exception": false,
     "start_time": "2024-10-16T06:23:21.264114",
     "status": "completed"
    },
    "tags": []
   },
   "source": [
    "## Modelling"
   ]
  },
  {
   "cell_type": "code",
   "execution_count": 38,
   "id": "298916d2",
   "metadata": {
    "execution": {
     "iopub.execute_input": "2024-10-16T06:23:21.314042Z",
     "iopub.status.busy": "2024-10-16T06:23:21.313621Z",
     "iopub.status.idle": "2024-10-16T06:23:21.433068Z",
     "shell.execute_reply": "2024-10-16T06:23:21.431884Z"
    },
    "id": "QtbQx4G9cI_z",
    "papermill": {
     "duration": 0.140413,
     "end_time": "2024-10-16T06:23:21.435788",
     "exception": false,
     "start_time": "2024-10-16T06:23:21.295375",
     "status": "completed"
    },
    "tags": []
   },
   "outputs": [],
   "source": [
    "model = Sequential()\n",
    "\n",
    "model.add(LSTM(units = 50,\n",
    "                    activation = 'relu',\n",
    "                    input_shape=(X_train.shape[1], lookback)))\n",
    "\n",
    "model.add(Dropout(0.2))\n",
    "\n",
    "model.add(Dense(1))\n"
   ]
  },
  {
   "cell_type": "code",
   "execution_count": 39,
   "id": "baea6961",
   "metadata": {
    "execution": {
     "iopub.execute_input": "2024-10-16T06:23:21.469807Z",
     "iopub.status.busy": "2024-10-16T06:23:21.469356Z",
     "iopub.status.idle": "2024-10-16T06:23:21.488761Z",
     "shell.execute_reply": "2024-10-16T06:23:21.487746Z"
    },
    "id": "RQFXIkDbciE6",
    "papermill": {
     "duration": 0.038842,
     "end_time": "2024-10-16T06:23:21.491072",
     "exception": false,
     "start_time": "2024-10-16T06:23:21.452230",
     "status": "completed"
    },
    "tags": []
   },
   "outputs": [
    {
     "data": {
      "text/html": [
       "<pre style=\"white-space:pre;overflow-x:auto;line-height:normal;font-family:Menlo,'DejaVu Sans Mono',consolas,'Courier New',monospace\"><span style=\"font-weight: bold\">Model: \"sequential\"</span>\n",
       "</pre>\n"
      ],
      "text/plain": [
       "\u001b[1mModel: \"sequential\"\u001b[0m\n"
      ]
     },
     "metadata": {},
     "output_type": "display_data"
    },
    {
     "data": {
      "text/html": [
       "<pre style=\"white-space:pre;overflow-x:auto;line-height:normal;font-family:Menlo,'DejaVu Sans Mono',consolas,'Courier New',monospace\">┏━━━━━━━━━━━━━━━━━━━━━━━━━━━━━━━━━┳━━━━━━━━━━━━━━━━━━━━━━━━┳━━━━━━━━━━━━━━━┓\n",
       "┃<span style=\"font-weight: bold\"> Layer (type)                    </span>┃<span style=\"font-weight: bold\"> Output Shape           </span>┃<span style=\"font-weight: bold\">       Param # </span>┃\n",
       "┡━━━━━━━━━━━━━━━━━━━━━━━━━━━━━━━━━╇━━━━━━━━━━━━━━━━━━━━━━━━╇━━━━━━━━━━━━━━━┩\n",
       "│ lstm (<span style=\"color: #0087ff; text-decoration-color: #0087ff\">LSTM</span>)                     │ (<span style=\"color: #00d7ff; text-decoration-color: #00d7ff\">None</span>, <span style=\"color: #00af00; text-decoration-color: #00af00\">50</span>)             │        <span style=\"color: #00af00; text-decoration-color: #00af00\">14,200</span> │\n",
       "├─────────────────────────────────┼────────────────────────┼───────────────┤\n",
       "│ dropout (<span style=\"color: #0087ff; text-decoration-color: #0087ff\">Dropout</span>)               │ (<span style=\"color: #00d7ff; text-decoration-color: #00d7ff\">None</span>, <span style=\"color: #00af00; text-decoration-color: #00af00\">50</span>)             │             <span style=\"color: #00af00; text-decoration-color: #00af00\">0</span> │\n",
       "├─────────────────────────────────┼────────────────────────┼───────────────┤\n",
       "│ dense (<span style=\"color: #0087ff; text-decoration-color: #0087ff\">Dense</span>)                   │ (<span style=\"color: #00d7ff; text-decoration-color: #00d7ff\">None</span>, <span style=\"color: #00af00; text-decoration-color: #00af00\">1</span>)              │            <span style=\"color: #00af00; text-decoration-color: #00af00\">51</span> │\n",
       "└─────────────────────────────────┴────────────────────────┴───────────────┘\n",
       "</pre>\n"
      ],
      "text/plain": [
       "┏━━━━━━━━━━━━━━━━━━━━━━━━━━━━━━━━━┳━━━━━━━━━━━━━━━━━━━━━━━━┳━━━━━━━━━━━━━━━┓\n",
       "┃\u001b[1m \u001b[0m\u001b[1mLayer (type)                   \u001b[0m\u001b[1m \u001b[0m┃\u001b[1m \u001b[0m\u001b[1mOutput Shape          \u001b[0m\u001b[1m \u001b[0m┃\u001b[1m \u001b[0m\u001b[1m      Param #\u001b[0m\u001b[1m \u001b[0m┃\n",
       "┡━━━━━━━━━━━━━━━━━━━━━━━━━━━━━━━━━╇━━━━━━━━━━━━━━━━━━━━━━━━╇━━━━━━━━━━━━━━━┩\n",
       "│ lstm (\u001b[38;5;33mLSTM\u001b[0m)                     │ (\u001b[38;5;45mNone\u001b[0m, \u001b[38;5;34m50\u001b[0m)             │        \u001b[38;5;34m14,200\u001b[0m │\n",
       "├─────────────────────────────────┼────────────────────────┼───────────────┤\n",
       "│ dropout (\u001b[38;5;33mDropout\u001b[0m)               │ (\u001b[38;5;45mNone\u001b[0m, \u001b[38;5;34m50\u001b[0m)             │             \u001b[38;5;34m0\u001b[0m │\n",
       "├─────────────────────────────────┼────────────────────────┼───────────────┤\n",
       "│ dense (\u001b[38;5;33mDense\u001b[0m)                   │ (\u001b[38;5;45mNone\u001b[0m, \u001b[38;5;34m1\u001b[0m)              │            \u001b[38;5;34m51\u001b[0m │\n",
       "└─────────────────────────────────┴────────────────────────┴───────────────┘\n"
      ]
     },
     "metadata": {},
     "output_type": "display_data"
    },
    {
     "data": {
      "text/html": [
       "<pre style=\"white-space:pre;overflow-x:auto;line-height:normal;font-family:Menlo,'DejaVu Sans Mono',consolas,'Courier New',monospace\"><span style=\"font-weight: bold\"> Total params: </span><span style=\"color: #00af00; text-decoration-color: #00af00\">14,251</span> (55.67 KB)\n",
       "</pre>\n"
      ],
      "text/plain": [
       "\u001b[1m Total params: \u001b[0m\u001b[38;5;34m14,251\u001b[0m (55.67 KB)\n"
      ]
     },
     "metadata": {},
     "output_type": "display_data"
    },
    {
     "data": {
      "text/html": [
       "<pre style=\"white-space:pre;overflow-x:auto;line-height:normal;font-family:Menlo,'DejaVu Sans Mono',consolas,'Courier New',monospace\"><span style=\"font-weight: bold\"> Trainable params: </span><span style=\"color: #00af00; text-decoration-color: #00af00\">14,251</span> (55.67 KB)\n",
       "</pre>\n"
      ],
      "text/plain": [
       "\u001b[1m Trainable params: \u001b[0m\u001b[38;5;34m14,251\u001b[0m (55.67 KB)\n"
      ]
     },
     "metadata": {},
     "output_type": "display_data"
    },
    {
     "data": {
      "text/html": [
       "<pre style=\"white-space:pre;overflow-x:auto;line-height:normal;font-family:Menlo,'DejaVu Sans Mono',consolas,'Courier New',monospace\"><span style=\"font-weight: bold\"> Non-trainable params: </span><span style=\"color: #00af00; text-decoration-color: #00af00\">0</span> (0.00 B)\n",
       "</pre>\n"
      ],
      "text/plain": [
       "\u001b[1m Non-trainable params: \u001b[0m\u001b[38;5;34m0\u001b[0m (0.00 B)\n"
      ]
     },
     "metadata": {},
     "output_type": "display_data"
    }
   ],
   "source": [
    "model.summary()"
   ]
  },
  {
   "cell_type": "code",
   "execution_count": 40,
   "id": "3901aa0d",
   "metadata": {
    "execution": {
     "iopub.execute_input": "2024-10-16T06:23:21.526363Z",
     "iopub.status.busy": "2024-10-16T06:23:21.525439Z",
     "iopub.status.idle": "2024-10-16T06:23:21.540314Z",
     "shell.execute_reply": "2024-10-16T06:23:21.539208Z"
    },
    "id": "NE6_O7IwclkT",
    "papermill": {
     "duration": 0.035202,
     "end_time": "2024-10-16T06:23:21.542765",
     "exception": false,
     "start_time": "2024-10-16T06:23:21.507563",
     "status": "completed"
    },
    "tags": []
   },
   "outputs": [],
   "source": [
    "model.compile(loss='mean_squared_error', optimizer='adam')"
   ]
  },
  {
   "cell_type": "code",
   "execution_count": 41,
   "id": "e4b2c847",
   "metadata": {
    "execution": {
     "iopub.execute_input": "2024-10-16T06:23:21.578715Z",
     "iopub.status.busy": "2024-10-16T06:23:21.578303Z",
     "iopub.status.idle": "2024-10-16T06:23:21.584348Z",
     "shell.execute_reply": "2024-10-16T06:23:21.583221Z"
    },
    "id": "JLqjYZudc3Is",
    "papermill": {
     "duration": 0.026434,
     "end_time": "2024-10-16T06:23:21.586708",
     "exception": false,
     "start_time": "2024-10-16T06:23:21.560274",
     "status": "completed"
    },
    "tags": []
   },
   "outputs": [],
   "source": [
    "callbacks = (EarlyStopping(monitor='val_loss', patience=10, verbose=1, mode='min'),\n",
    "            ModelCheckpoint(filepath='mymodel.keras', monitor='val_loss', mode='min',\n",
    "            save_best_only = True, save_weights_only = False, verbose = 1))"
   ]
  },
  {
   "cell_type": "code",
   "execution_count": 42,
   "id": "53031942",
   "metadata": {
    "execution": {
     "iopub.execute_input": "2024-10-16T06:23:21.622149Z",
     "iopub.status.busy": "2024-10-16T06:23:21.621405Z",
     "iopub.status.idle": "2024-10-16T06:23:28.743596Z",
     "shell.execute_reply": "2024-10-16T06:23:28.742411Z"
    },
    "id": "7Pv-Fb9FdSf7",
    "papermill": {
     "duration": 7.142875,
     "end_time": "2024-10-16T06:23:28.746568",
     "exception": false,
     "start_time": "2024-10-16T06:23:21.603693",
     "status": "completed"
    },
    "tags": []
   },
   "outputs": [
    {
     "name": "stdout",
     "output_type": "stream",
     "text": [
      "Epoch 1/100\n",
      "\u001b[1m84/96\u001b[0m \u001b[32m━━━━━━━━━━━━━━━━━\u001b[0m\u001b[37m━━━\u001b[0m \u001b[1m0s\u001b[0m 2ms/step - loss: 0.0042\n",
      "Epoch 1: val_loss improved from inf to 0.00468, saving model to mymodel.keras\n",
      "\u001b[1m96/96\u001b[0m \u001b[32m━━━━━━━━━━━━━━━━━━━━\u001b[0m\u001b[37m\u001b[0m \u001b[1m2s\u001b[0m 5ms/step - loss: 0.0048 - val_loss: 0.0047\n",
      "Epoch 2/100\n",
      "\u001b[1m83/96\u001b[0m \u001b[32m━━━━━━━━━━━━━━━━━\u001b[0m\u001b[37m━━━\u001b[0m \u001b[1m0s\u001b[0m 2ms/step - loss: 0.0050\n",
      "Epoch 2: val_loss improved from 0.00468 to 0.00395, saving model to mymodel.keras\n",
      "\u001b[1m96/96\u001b[0m \u001b[32m━━━━━━━━━━━━━━━━━━━━\u001b[0m\u001b[37m\u001b[0m \u001b[1m0s\u001b[0m 3ms/step - loss: 0.0053 - val_loss: 0.0039\n",
      "Epoch 3/100\n",
      "\u001b[1m86/96\u001b[0m \u001b[32m━━━━━━━━━━━━━━━━━\u001b[0m\u001b[37m━━━\u001b[0m \u001b[1m0s\u001b[0m 2ms/step - loss: 0.0037\n",
      "Epoch 3: val_loss improved from 0.00395 to 0.00365, saving model to mymodel.keras\n",
      "\u001b[1m96/96\u001b[0m \u001b[32m━━━━━━━━━━━━━━━━━━━━\u001b[0m\u001b[37m\u001b[0m \u001b[1m0s\u001b[0m 3ms/step - loss: 0.0040 - val_loss: 0.0036\n",
      "Epoch 4/100\n",
      "\u001b[1m89/96\u001b[0m \u001b[32m━━━━━━━━━━━━━━━━━━\u001b[0m\u001b[37m━━\u001b[0m \u001b[1m0s\u001b[0m 2ms/step - loss: 0.0030\n",
      "Epoch 4: val_loss improved from 0.00365 to 0.00334, saving model to mymodel.keras\n",
      "\u001b[1m96/96\u001b[0m \u001b[32m━━━━━━━━━━━━━━━━━━━━\u001b[0m\u001b[37m\u001b[0m \u001b[1m0s\u001b[0m 2ms/step - loss: 0.0032 - val_loss: 0.0033\n",
      "Epoch 5/100\n",
      "\u001b[1m81/96\u001b[0m \u001b[32m━━━━━━━━━━━━━━━━\u001b[0m\u001b[37m━━━━\u001b[0m \u001b[1m0s\u001b[0m 2ms/step - loss: 0.0023\n",
      "Epoch 5: val_loss improved from 0.00334 to 0.00308, saving model to mymodel.keras\n",
      "\u001b[1m96/96\u001b[0m \u001b[32m━━━━━━━━━━━━━━━━━━━━\u001b[0m\u001b[37m\u001b[0m \u001b[1m0s\u001b[0m 3ms/step - loss: 0.0027 - val_loss: 0.0031\n",
      "Epoch 6/100\n",
      "\u001b[1m83/96\u001b[0m \u001b[32m━━━━━━━━━━━━━━━━━\u001b[0m\u001b[37m━━━\u001b[0m \u001b[1m0s\u001b[0m 2ms/step - loss: 0.0018    \n",
      "Epoch 6: val_loss improved from 0.00308 to 0.00299, saving model to mymodel.keras\n",
      "\u001b[1m96/96\u001b[0m \u001b[32m━━━━━━━━━━━━━━━━━━━━\u001b[0m\u001b[37m\u001b[0m \u001b[1m0s\u001b[0m 3ms/step - loss: 0.0023 - val_loss: 0.0030\n",
      "Epoch 7/100\n",
      "\u001b[1m80/96\u001b[0m \u001b[32m━━━━━━━━━━━━━━━━\u001b[0m\u001b[37m━━━━\u001b[0m \u001b[1m0s\u001b[0m 2ms/step - loss: 0.0018\n",
      "Epoch 7: val_loss improved from 0.00299 to 0.00289, saving model to mymodel.keras\n",
      "\u001b[1m96/96\u001b[0m \u001b[32m━━━━━━━━━━━━━━━━━━━━\u001b[0m\u001b[37m\u001b[0m \u001b[1m0s\u001b[0m 3ms/step - loss: 0.0022 - val_loss: 0.0029\n",
      "Epoch 8/100\n",
      "\u001b[1m88/96\u001b[0m \u001b[32m━━━━━━━━━━━━━━━━━━\u001b[0m\u001b[37m━━\u001b[0m \u001b[1m0s\u001b[0m 2ms/step - loss: 0.0021\n",
      "Epoch 8: val_loss did not improve from 0.00289\n",
      "\u001b[1m96/96\u001b[0m \u001b[32m━━━━━━━━━━━━━━━━━━━━\u001b[0m\u001b[37m\u001b[0m \u001b[1m0s\u001b[0m 2ms/step - loss: 0.0024 - val_loss: 0.0035\n",
      "Epoch 9/100\n",
      "\u001b[1m89/96\u001b[0m \u001b[32m━━━━━━━━━━━━━━━━━━\u001b[0m\u001b[37m━━\u001b[0m \u001b[1m0s\u001b[0m 2ms/step - loss: 0.0022\n",
      "Epoch 9: val_loss improved from 0.00289 to 0.00268, saving model to mymodel.keras\n",
      "\u001b[1m96/96\u001b[0m \u001b[32m━━━━━━━━━━━━━━━━━━━━\u001b[0m\u001b[37m\u001b[0m \u001b[1m0s\u001b[0m 2ms/step - loss: 0.0025 - val_loss: 0.0027\n",
      "Epoch 10/100\n",
      "\u001b[1m85/96\u001b[0m \u001b[32m━━━━━━━━━━━━━━━━━\u001b[0m\u001b[37m━━━\u001b[0m \u001b[1m0s\u001b[0m 2ms/step - loss: 0.0017\n",
      "Epoch 10: val_loss did not improve from 0.00268\n",
      "\u001b[1m96/96\u001b[0m \u001b[32m━━━━━━━━━━━━━━━━━━━━\u001b[0m\u001b[37m\u001b[0m \u001b[1m0s\u001b[0m 2ms/step - loss: 0.0020 - val_loss: 0.0028\n",
      "Epoch 11/100\n",
      "\u001b[1m86/96\u001b[0m \u001b[32m━━━━━━━━━━━━━━━━━\u001b[0m\u001b[37m━━━\u001b[0m \u001b[1m0s\u001b[0m 2ms/step - loss: 0.0020\n",
      "Epoch 11: val_loss did not improve from 0.00268\n",
      "\u001b[1m96/96\u001b[0m \u001b[32m━━━━━━━━━━━━━━━━━━━━\u001b[0m\u001b[37m\u001b[0m \u001b[1m0s\u001b[0m 2ms/step - loss: 0.0023 - val_loss: 0.0045\n",
      "Epoch 12/100\n",
      "\u001b[1m88/96\u001b[0m \u001b[32m━━━━━━━━━━━━━━━━━━\u001b[0m\u001b[37m━━\u001b[0m \u001b[1m0s\u001b[0m 2ms/step - loss: 0.0022\n",
      "Epoch 12: val_loss did not improve from 0.00268\n",
      "\u001b[1m96/96\u001b[0m \u001b[32m━━━━━━━━━━━━━━━━━━━━\u001b[0m\u001b[37m\u001b[0m \u001b[1m0s\u001b[0m 2ms/step - loss: 0.0024 - val_loss: 0.0032\n",
      "Epoch 13/100\n",
      "\u001b[1m88/96\u001b[0m \u001b[32m━━━━━━━━━━━━━━━━━━\u001b[0m\u001b[37m━━\u001b[0m \u001b[1m0s\u001b[0m 2ms/step - loss: 0.0019\n",
      "Epoch 13: val_loss did not improve from 0.00268\n",
      "\u001b[1m96/96\u001b[0m \u001b[32m━━━━━━━━━━━━━━━━━━━━\u001b[0m\u001b[37m\u001b[0m \u001b[1m0s\u001b[0m 2ms/step - loss: 0.0022 - val_loss: 0.0038\n",
      "Epoch 14/100\n",
      "\u001b[1m86/96\u001b[0m \u001b[32m━━━━━━━━━━━━━━━━━\u001b[0m\u001b[37m━━━\u001b[0m \u001b[1m0s\u001b[0m 2ms/step - loss: 0.0019\n",
      "Epoch 14: val_loss did not improve from 0.00268\n",
      "\u001b[1m96/96\u001b[0m \u001b[32m━━━━━━━━━━━━━━━━━━━━\u001b[0m\u001b[37m\u001b[0m \u001b[1m0s\u001b[0m 2ms/step - loss: 0.0023 - val_loss: 0.0054\n",
      "Epoch 15/100\n",
      "\u001b[1m83/96\u001b[0m \u001b[32m━━━━━━━━━━━━━━━━━\u001b[0m\u001b[37m━━━\u001b[0m \u001b[1m0s\u001b[0m 2ms/step - loss: 0.0021\n",
      "Epoch 15: val_loss did not improve from 0.00268\n",
      "\u001b[1m96/96\u001b[0m \u001b[32m━━━━━━━━━━━━━━━━━━━━\u001b[0m\u001b[37m\u001b[0m \u001b[1m0s\u001b[0m 2ms/step - loss: 0.0025 - val_loss: 0.0054\n",
      "Epoch 16/100\n",
      "\u001b[1m84/96\u001b[0m \u001b[32m━━━━━━━━━━━━━━━━━\u001b[0m\u001b[37m━━━\u001b[0m \u001b[1m0s\u001b[0m 2ms/step - loss: 0.0020\n",
      "Epoch 16: val_loss did not improve from 0.00268\n",
      "\u001b[1m96/96\u001b[0m \u001b[32m━━━━━━━━━━━━━━━━━━━━\u001b[0m\u001b[37m\u001b[0m \u001b[1m0s\u001b[0m 2ms/step - loss: 0.0024 - val_loss: 0.0051\n",
      "Epoch 17/100\n",
      "\u001b[1m84/96\u001b[0m \u001b[32m━━━━━━━━━━━━━━━━━\u001b[0m\u001b[37m━━━\u001b[0m \u001b[1m0s\u001b[0m 2ms/step - loss: 0.0018\n",
      "Epoch 17: val_loss did not improve from 0.00268\n",
      "\u001b[1m96/96\u001b[0m \u001b[32m━━━━━━━━━━━━━━━━━━━━\u001b[0m\u001b[37m\u001b[0m \u001b[1m0s\u001b[0m 2ms/step - loss: 0.0021 - val_loss: 0.0060\n",
      "Epoch 18/100\n",
      "\u001b[1m83/96\u001b[0m \u001b[32m━━━━━━━━━━━━━━━━━\u001b[0m\u001b[37m━━━\u001b[0m \u001b[1m0s\u001b[0m 2ms/step - loss: 0.0018\n",
      "Epoch 18: val_loss did not improve from 0.00268\n",
      "\u001b[1m96/96\u001b[0m \u001b[32m━━━━━━━━━━━━━━━━━━━━\u001b[0m\u001b[37m\u001b[0m \u001b[1m0s\u001b[0m 2ms/step - loss: 0.0022 - val_loss: 0.0042\n",
      "Epoch 19/100\n",
      "\u001b[1m93/96\u001b[0m \u001b[32m━━━━━━━━━━━━━━━━━━━\u001b[0m\u001b[37m━\u001b[0m \u001b[1m0s\u001b[0m 2ms/step - loss: 0.0018\n",
      "Epoch 19: val_loss did not improve from 0.00268\n",
      "\u001b[1m96/96\u001b[0m \u001b[32m━━━━━━━━━━━━━━━━━━━━\u001b[0m\u001b[37m\u001b[0m \u001b[1m0s\u001b[0m 3ms/step - loss: 0.0019 - val_loss: 0.0037\n",
      "Epoch 19: early stopping\n"
     ]
    }
   ],
   "source": [
    "history = model.fit(x=X_train,\n",
    "                    y=y_train,\n",
    "                    epochs=100,\n",
    "                    batch_size=20,\n",
    "                    validation_data=(X_test, y_test),\n",
    "                    callbacks=[callbacks],\n",
    "                    shuffle=False)"
   ]
  },
  {
   "cell_type": "code",
   "execution_count": 43,
   "id": "f9bd3747",
   "metadata": {
    "execution": {
     "iopub.execute_input": "2024-10-16T06:23:28.810097Z",
     "iopub.status.busy": "2024-10-16T06:23:28.809523Z",
     "iopub.status.idle": "2024-10-16T06:23:29.125354Z",
     "shell.execute_reply": "2024-10-16T06:23:29.124089Z"
    },
    "id": "VzxR8n1yeGpV",
    "papermill": {
     "duration": 0.346397,
     "end_time": "2024-10-16T06:23:29.128842",
     "exception": false,
     "start_time": "2024-10-16T06:23:28.782445",
     "status": "completed"
    },
    "tags": []
   },
   "outputs": [
    {
     "data": {
      "image/png": "[encoded data removed]",
      "text/plain": [
       "<Figure size 2000x500 with 1 Axes>"
      ]
     },
     "metadata": {},
     "output_type": "display_data"
    }
   ],
   "source": [
    "plt.figure(figsize=(20,5))\n",
    "plt.subplot(1,2,1)\n",
    "plt.plot(history.history['loss'], label='Training Loss')\n",
    "plt.plot(history.history['val_loss'], label='Validation Loss')\n",
    "plt.legend(loc='upper right')\n",
    "plt.xlabel('Epoch', fontsize = 16)\n",
    "plt.ylabel('Loss', fontsize = 16)\n",
    "plt.ylim([0,max(plt.ylim())])\n",
    "plt.title('Training and Validation Loss', fontsize = 16)\n",
    "plt.show()"
   ]
  },
  {
   "cell_type": "markdown",
   "id": "ab7e0136",
   "metadata": {
    "id": "XO0NGWQWerLU",
    "papermill": {
     "duration": 0.025862,
     "end_time": "2024-10-16T06:23:29.187192",
     "exception": false,
     "start_time": "2024-10-16T06:23:29.161330",
     "status": "completed"
    },
    "tags": []
   },
   "source": [
    "## Evaluation"
   ]
  },
  {
   "cell_type": "code",
   "execution_count": 44,
   "id": "ebfcdb54",
   "metadata": {
    "execution": {
     "iopub.execute_input": "2024-10-16T06:23:29.247922Z",
     "iopub.status.busy": "2024-10-16T06:23:29.246493Z",
     "iopub.status.idle": "2024-10-16T06:23:29.885904Z",
     "shell.execute_reply": "2024-10-16T06:23:29.884858Z"
    },
    "id": "hyeoNUjxetH-",
    "papermill": {
     "duration": 0.6742,
     "end_time": "2024-10-16T06:23:29.888593",
     "exception": false,
     "start_time": "2024-10-16T06:23:29.214393",
     "status": "completed"
    },
    "tags": []
   },
   "outputs": [
    {
     "name": "stdout",
     "output_type": "stream",
     "text": [
      "\u001b[1m463/463\u001b[0m \u001b[32m━━━━━━━━━━━━━━━━━━━━\u001b[0m\u001b[37m\u001b[0m \u001b[1m1s\u001b[0m 1ms/step - loss: 0.0043\n",
      "\n",
      "Test Loss: 0.4%\n"
     ]
    }
   ],
   "source": [
    "loss = model.evaluate(X_test, y_test, batch_size=1)\n",
    "print(\"\\nTest Loss: %.1f%%\" % (100.0 * loss))"
   ]
  },
  {
   "cell_type": "code",
   "execution_count": 45,
   "id": "07169ca0",
   "metadata": {
    "execution": {
     "iopub.execute_input": "2024-10-16T06:23:29.950827Z",
     "iopub.status.busy": "2024-10-16T06:23:29.950410Z",
     "iopub.status.idle": "2024-10-16T06:23:30.453705Z",
     "shell.execute_reply": "2024-10-16T06:23:30.452707Z"
    },
    "id": "9e854j_NfFTV",
    "papermill": {
     "duration": 0.534412,
     "end_time": "2024-10-16T06:23:30.456321",
     "exception": false,
     "start_time": "2024-10-16T06:23:29.921909",
     "status": "completed"
    },
    "tags": []
   },
   "outputs": [
    {
     "name": "stdout",
     "output_type": "stream",
     "text": [
      "\u001b[1m60/60\u001b[0m \u001b[32m━━━━━━━━━━━━━━━━━━━━\u001b[0m\u001b[37m\u001b[0m \u001b[1m0s\u001b[0m 4ms/step\n"
     ]
    }
   ],
   "source": [
    "train_predict = model.predict(X_train)"
   ]
  },
  {
   "cell_type": "code",
   "execution_count": 46,
   "id": "250b8bc1",
   "metadata": {
    "execution": {
     "iopub.execute_input": "2024-10-16T06:23:30.512573Z",
     "iopub.status.busy": "2024-10-16T06:23:30.511617Z",
     "iopub.status.idle": "2024-10-16T06:23:30.615491Z",
     "shell.execute_reply": "2024-10-16T06:23:30.614527Z"
    },
    "id": "GZgJuMd-fqZW",
    "papermill": {
     "duration": 0.134507,
     "end_time": "2024-10-16T06:23:30.617910",
     "exception": false,
     "start_time": "2024-10-16T06:23:30.483403",
     "status": "completed"
    },
    "tags": []
   },
   "outputs": [
    {
     "name": "stdout",
     "output_type": "stream",
     "text": [
      "\u001b[1m15/15\u001b[0m \u001b[32m━━━━━━━━━━━━━━━━━━━━\u001b[0m\u001b[37m\u001b[0m \u001b[1m0s\u001b[0m 1ms/step \n"
     ]
    }
   ],
   "source": [
    "test_predict = model.predict(X_test)"
   ]
  },
  {
   "cell_type": "code",
   "execution_count": 47,
   "id": "e3d2c1c3",
   "metadata": {
    "execution": {
     "iopub.execute_input": "2024-10-16T06:23:30.676967Z",
     "iopub.status.busy": "2024-10-16T06:23:30.675971Z",
     "iopub.status.idle": "2024-10-16T06:23:30.681797Z",
     "shell.execute_reply": "2024-10-16T06:23:30.680703Z"
    },
    "id": "FcH_8U3tfsGm",
    "papermill": {
     "duration": 0.037988,
     "end_time": "2024-10-16T06:23:30.684072",
     "exception": false,
     "start_time": "2024-10-16T06:23:30.646084",
     "status": "completed"
    },
    "tags": []
   },
   "outputs": [],
   "source": [
    "train_predict = scaler_train.inverse_transform(train_predict)\n",
    "test_predict = scaler_test.inverse_transform(test_predict)"
   ]
  },
  {
   "cell_type": "code",
   "execution_count": 48,
   "id": "467d0230",
   "metadata": {
    "execution": {
     "iopub.execute_input": "2024-10-16T06:23:30.740293Z",
     "iopub.status.busy": "2024-10-16T06:23:30.739539Z",
     "iopub.status.idle": "2024-10-16T06:23:30.745180Z",
     "shell.execute_reply": "2024-10-16T06:23:30.744126Z"
    },
    "id": "DsGDu-NKf912",
    "papermill": {
     "duration": 0.036073,
     "end_time": "2024-10-16T06:23:30.747455",
     "exception": false,
     "start_time": "2024-10-16T06:23:30.711382",
     "status": "completed"
    },
    "tags": []
   },
   "outputs": [],
   "source": [
    "y_train = scaler_train.inverse_transform(y_train)\n",
    "y_test = scaler_test.inverse_transform(y_test)"
   ]
  },
  {
   "cell_type": "code",
   "execution_count": 49,
   "id": "55bb6bc8",
   "metadata": {
    "execution": {
     "iopub.execute_input": "2024-10-16T06:23:30.803686Z",
     "iopub.status.busy": "2024-10-16T06:23:30.803268Z",
     "iopub.status.idle": "2024-10-16T06:23:30.809086Z",
     "shell.execute_reply": "2024-10-16T06:23:30.808032Z"
    },
    "id": "ZLXqwAU7gGW2",
    "papermill": {
     "duration": 0.036679,
     "end_time": "2024-10-16T06:23:30.811443",
     "exception": false,
     "start_time": "2024-10-16T06:23:30.774764",
     "status": "completed"
    },
    "tags": []
   },
   "outputs": [],
   "source": [
    "train_rmse = np.sqrt(mean_squared_error(y_train, train_predict))"
   ]
  },
  {
   "cell_type": "code",
   "execution_count": 50,
   "id": "5bc8c098",
   "metadata": {
    "execution": {
     "iopub.execute_input": "2024-10-16T06:23:30.868495Z",
     "iopub.status.busy": "2024-10-16T06:23:30.868103Z",
     "iopub.status.idle": "2024-10-16T06:23:30.874235Z",
     "shell.execute_reply": "2024-10-16T06:23:30.873155Z"
    },
    "id": "76WbnJaIgJ4g",
    "papermill": {
     "duration": 0.037291,
     "end_time": "2024-10-16T06:23:30.876447",
     "exception": false,
     "start_time": "2024-10-16T06:23:30.839156",
     "status": "completed"
    },
    "tags": []
   },
   "outputs": [],
   "source": [
    "test_rmse = np.sqrt(mean_squared_error(y_test, test_predict))"
   ]
  },
  {
   "cell_type": "code",
   "execution_count": 51,
   "id": "1da69782",
   "metadata": {
    "execution": {
     "iopub.execute_input": "2024-10-16T06:23:30.933356Z",
     "iopub.status.busy": "2024-10-16T06:23:30.932364Z",
     "iopub.status.idle": "2024-10-16T06:23:30.937773Z",
     "shell.execute_reply": "2024-10-16T06:23:30.936786Z"
    },
    "id": "WcUBQBz7gMV2",
    "papermill": {
     "duration": 0.036546,
     "end_time": "2024-10-16T06:23:30.940443",
     "exception": false,
     "start_time": "2024-10-16T06:23:30.903897",
     "status": "completed"
    },
    "tags": []
   },
   "outputs": [
    {
     "name": "stdout",
     "output_type": "stream",
     "text": [
      "Train RMSE: 21.827373504638672\n",
      "Test RMSE: 36.7285041809082\n"
     ]
    }
   ],
   "source": [
    "print(f\"Train RMSE: {train_rmse}\")\n",
    "print(f\"Test RMSE: {test_rmse}\")"
   ]
  },
  {
   "cell_type": "code",
   "execution_count": 52,
   "id": "319581d1",
   "metadata": {
    "execution": {
     "iopub.execute_input": "2024-10-16T06:23:30.996903Z",
     "iopub.status.busy": "2024-10-16T06:23:30.996187Z",
     "iopub.status.idle": "2024-10-16T06:23:31.028496Z",
     "shell.execute_reply": "2024-10-16T06:23:31.027352Z"
    },
    "id": "t_llof9mgYz_",
    "papermill": {
     "duration": 0.062868,
     "end_time": "2024-10-16T06:23:31.030760",
     "exception": false,
     "start_time": "2024-10-16T06:23:30.967892",
     "status": "completed"
    },
    "tags": []
   },
   "outputs": [
    {
     "data": {
      "text/html": [
       "<div>\n",
       "<style scoped>\n",
       "    .dataframe tbody tr th:only-of-type {\n",
       "        vertical-align: middle;\n",
       "    }\n",
       "\n",
       "    .dataframe tbody tr th {\n",
       "        vertical-align: top;\n",
       "    }\n",
       "\n",
       "    .dataframe thead th {\n",
       "        text-align: right;\n",
       "    }\n",
       "</style>\n",
       "<table border=\"1\" class=\"dataframe\">\n",
       "  <thead>\n",
       "    <tr style=\"text-align: right;\">\n",
       "      <th></th>\n",
       "      <th>count</th>\n",
       "      <th>mean</th>\n",
       "      <th>min</th>\n",
       "      <th>25%</th>\n",
       "      <th>50%</th>\n",
       "      <th>75%</th>\n",
       "      <th>max</th>\n",
       "      <th>std</th>\n",
       "    </tr>\n",
       "  </thead>\n",
       "  <tbody>\n",
       "    <tr>\n",
       "      <th>Date</th>\n",
       "      <td>2416</td>\n",
       "      <td>2015-04-15 11:09:56.026490112</td>\n",
       "      <td>2010-06-29 00:00:00</td>\n",
       "      <td>2012-11-19 18:00:00</td>\n",
       "      <td>2015-04-16 12:00:00</td>\n",
       "      <td>2017-09-07 06:00:00</td>\n",
       "      <td>2020-02-03 00:00:00</td>\n",
       "      <td>NaN</td>\n",
       "    </tr>\n",
       "    <tr>\n",
       "      <th>Open</th>\n",
       "      <td>2416.0</td>\n",
       "      <td>186.271147</td>\n",
       "      <td>16.139999</td>\n",
       "      <td>34.342498</td>\n",
       "      <td>213.035004</td>\n",
       "      <td>266.450012</td>\n",
       "      <td>673.690002</td>\n",
       "      <td>118.740163</td>\n",
       "    </tr>\n",
       "    <tr>\n",
       "      <th>High</th>\n",
       "      <td>2416.0</td>\n",
       "      <td>189.578224</td>\n",
       "      <td>16.629999</td>\n",
       "      <td>34.897501</td>\n",
       "      <td>216.745002</td>\n",
       "      <td>270.927513</td>\n",
       "      <td>786.140015</td>\n",
       "      <td>120.892329</td>\n",
       "    </tr>\n",
       "    <tr>\n",
       "      <th>Low</th>\n",
       "      <td>2416.0</td>\n",
       "      <td>182.916639</td>\n",
       "      <td>14.98</td>\n",
       "      <td>33.587501</td>\n",
       "      <td>208.870002</td>\n",
       "      <td>262.102501</td>\n",
       "      <td>673.52002</td>\n",
       "      <td>116.857591</td>\n",
       "    </tr>\n",
       "    <tr>\n",
       "      <th>Close</th>\n",
       "      <td>2416.0</td>\n",
       "      <td>186.403651</td>\n",
       "      <td>15.8</td>\n",
       "      <td>34.400002</td>\n",
       "      <td>212.960007</td>\n",
       "      <td>266.774994</td>\n",
       "      <td>780.0</td>\n",
       "      <td>119.13602</td>\n",
       "    </tr>\n",
       "    <tr>\n",
       "      <th>Adj Close</th>\n",
       "      <td>2416.0</td>\n",
       "      <td>186.403651</td>\n",
       "      <td>15.8</td>\n",
       "      <td>34.400002</td>\n",
       "      <td>212.960007</td>\n",
       "      <td>266.774994</td>\n",
       "      <td>780.0</td>\n",
       "      <td>119.13602</td>\n",
       "    </tr>\n",
       "    <tr>\n",
       "      <th>Volume</th>\n",
       "      <td>2416.0</td>\n",
       "      <td>5572721.688742</td>\n",
       "      <td>118500.0</td>\n",
       "      <td>1899275.0</td>\n",
       "      <td>4578400.0</td>\n",
       "      <td>7361150.0</td>\n",
       "      <td>47065000.0</td>\n",
       "      <td>4987809.151888</td>\n",
       "    </tr>\n",
       "  </tbody>\n",
       "</table>\n",
       "</div>"
      ],
      "text/plain": [
       "            count                           mean                  min  \\\n",
       "Date         2416  2015-04-15 11:09:56.026490112  2010-06-29 00:00:00   \n",
       "Open       2416.0                     186.271147            16.139999   \n",
       "High       2416.0                     189.578224            16.629999   \n",
       "Low        2416.0                     182.916639                14.98   \n",
       "Close      2416.0                     186.403651                 15.8   \n",
       "Adj Close  2416.0                     186.403651                 15.8   \n",
       "Volume     2416.0                 5572721.688742             118500.0   \n",
       "\n",
       "                           25%                  50%                  75%  \\\n",
       "Date       2012-11-19 18:00:00  2015-04-16 12:00:00  2017-09-07 06:00:00   \n",
       "Open                 34.342498           213.035004           266.450012   \n",
       "High                 34.897501           216.745002           270.927513   \n",
       "Low                  33.587501           208.870002           262.102501   \n",
       "Close                34.400002           212.960007           266.774994   \n",
       "Adj Close            34.400002           212.960007           266.774994   \n",
       "Volume               1899275.0            4578400.0            7361150.0   \n",
       "\n",
       "                           max             std  \n",
       "Date       2020-02-03 00:00:00             NaN  \n",
       "Open                673.690002      118.740163  \n",
       "High                786.140015      120.892329  \n",
       "Low                  673.52002      116.857591  \n",
       "Close                    780.0       119.13602  \n",
       "Adj Close                780.0       119.13602  \n",
       "Volume              47065000.0  4987809.151888  "
      ]
     },
     "execution_count": 52,
     "metadata": {},
     "output_type": "execute_result"
    }
   ],
   "source": [
    "df.describe().T"
   ]
  },
  {
   "cell_type": "code",
   "execution_count": 53,
   "id": "e1158284",
   "metadata": {
    "execution": {
     "iopub.execute_input": "2024-10-16T06:23:31.087733Z",
     "iopub.status.busy": "2024-10-16T06:23:31.087356Z",
     "iopub.status.idle": "2024-10-16T06:23:31.099412Z",
     "shell.execute_reply": "2024-10-16T06:23:31.098238Z"
    },
    "id": "-PSGVpMzgz1O",
    "papermill": {
     "duration": 0.042976,
     "end_time": "2024-10-16T06:23:31.101621",
     "exception": false,
     "start_time": "2024-10-16T06:23:31.058645",
     "status": "completed"
    },
    "tags": []
   },
   "outputs": [
    {
     "data": {
      "text/html": [
       "<div>\n",
       "<style scoped>\n",
       "    .dataframe tbody tr th:only-of-type {\n",
       "        vertical-align: middle;\n",
       "    }\n",
       "\n",
       "    .dataframe tbody tr th {\n",
       "        vertical-align: top;\n",
       "    }\n",
       "\n",
       "    .dataframe thead th {\n",
       "        text-align: right;\n",
       "    }\n",
       "</style>\n",
       "<table border=\"1\" class=\"dataframe\">\n",
       "  <thead>\n",
       "    <tr style=\"text-align: right;\">\n",
       "      <th></th>\n",
       "      <th>Close</th>\n",
       "      <th>Predicted</th>\n",
       "    </tr>\n",
       "    <tr>\n",
       "      <th>Date</th>\n",
       "      <th></th>\n",
       "      <th></th>\n",
       "    </tr>\n",
       "  </thead>\n",
       "  <tbody>\n",
       "    <tr>\n",
       "      <th>2010-07-28</th>\n",
       "      <td>20.719999</td>\n",
       "      <td>36.080547</td>\n",
       "    </tr>\n",
       "    <tr>\n",
       "      <th>2010-07-29</th>\n",
       "      <td>20.350000</td>\n",
       "      <td>36.080547</td>\n",
       "    </tr>\n",
       "    <tr>\n",
       "      <th>2010-07-30</th>\n",
       "      <td>19.940001</td>\n",
       "      <td>36.080547</td>\n",
       "    </tr>\n",
       "    <tr>\n",
       "      <th>2010-08-02</th>\n",
       "      <td>20.920000</td>\n",
       "      <td>36.080547</td>\n",
       "    </tr>\n",
       "    <tr>\n",
       "      <th>2010-08-03</th>\n",
       "      <td>21.950001</td>\n",
       "      <td>36.080547</td>\n",
       "    </tr>\n",
       "  </tbody>\n",
       "</table>\n",
       "</div>"
      ],
      "text/plain": [
       "                Close  Predicted\n",
       "Date                            \n",
       "2010-07-28  20.719999  36.080547\n",
       "2010-07-29  20.350000  36.080547\n",
       "2010-07-30  19.940001  36.080547\n",
       "2010-08-02  20.920000  36.080547\n",
       "2010-08-03  21.950001  36.080547"
      ]
     },
     "execution_count": 53,
     "metadata": {},
     "output_type": "execute_result"
    }
   ],
   "source": [
    "train_prediction_df = result_df[lookback:position]\n",
    "train_prediction_df[\"Predicted\"] = train_predict\n",
    "train_prediction_df.head()"
   ]
  },
  {
   "cell_type": "code",
   "execution_count": 54,
   "id": "5c4be22c",
   "metadata": {
    "execution": {
     "iopub.execute_input": "2024-10-16T06:23:31.160302Z",
     "iopub.status.busy": "2024-10-16T06:23:31.159413Z",
     "iopub.status.idle": "2024-10-16T06:23:31.171781Z",
     "shell.execute_reply": "2024-10-16T06:23:31.170635Z"
    },
    "id": "o7tRAXwOhMSA",
    "papermill": {
     "duration": 0.044017,
     "end_time": "2024-10-16T06:23:31.173957",
     "exception": false,
     "start_time": "2024-10-16T06:23:31.129940",
     "status": "completed"
    },
    "tags": []
   },
   "outputs": [
    {
     "data": {
      "text/html": [
       "<div>\n",
       "<style scoped>\n",
       "    .dataframe tbody tr th:only-of-type {\n",
       "        vertical-align: middle;\n",
       "    }\n",
       "\n",
       "    .dataframe tbody tr th {\n",
       "        vertical-align: top;\n",
       "    }\n",
       "\n",
       "    .dataframe thead th {\n",
       "        text-align: right;\n",
       "    }\n",
       "</style>\n",
       "<table border=\"1\" class=\"dataframe\">\n",
       "  <thead>\n",
       "    <tr style=\"text-align: right;\">\n",
       "      <th></th>\n",
       "      <th>Close</th>\n",
       "      <th>Predicted</th>\n",
       "    </tr>\n",
       "    <tr>\n",
       "      <th>Date</th>\n",
       "      <th></th>\n",
       "      <th></th>\n",
       "    </tr>\n",
       "  </thead>\n",
       "  <tbody>\n",
       "    <tr>\n",
       "      <th>2018-04-03</th>\n",
       "      <td>267.529999</td>\n",
       "      <td>332.271088</td>\n",
       "    </tr>\n",
       "    <tr>\n",
       "      <th>2018-04-04</th>\n",
       "      <td>286.940002</td>\n",
       "      <td>328.410095</td>\n",
       "    </tr>\n",
       "    <tr>\n",
       "      <th>2018-04-05</th>\n",
       "      <td>305.720001</td>\n",
       "      <td>326.999939</td>\n",
       "    </tr>\n",
       "    <tr>\n",
       "      <th>2018-04-06</th>\n",
       "      <td>299.299988</td>\n",
       "      <td>329.391235</td>\n",
       "    </tr>\n",
       "    <tr>\n",
       "      <th>2018-04-09</th>\n",
       "      <td>289.660004</td>\n",
       "      <td>331.936707</td>\n",
       "    </tr>\n",
       "  </tbody>\n",
       "</table>\n",
       "</div>"
      ],
      "text/plain": [
       "                 Close   Predicted\n",
       "Date                              \n",
       "2018-04-03  267.529999  332.271088\n",
       "2018-04-04  286.940002  328.410095\n",
       "2018-04-05  305.720001  326.999939\n",
       "2018-04-06  299.299988  329.391235\n",
       "2018-04-09  289.660004  331.936707"
      ]
     },
     "execution_count": 54,
     "metadata": {},
     "output_type": "execute_result"
    }
   ],
   "source": [
    "test_prediction_df = result_df[position+lookback:]\n",
    "test_prediction_df[\"Predicted\"] = test_predict\n",
    "test_prediction_df.head()"
   ]
  },
  {
   "cell_type": "code",
   "execution_count": 55,
   "id": "d05c1ee0",
   "metadata": {
    "execution": {
     "iopub.execute_input": "2024-10-16T06:23:31.233896Z",
     "iopub.status.busy": "2024-10-16T06:23:31.233486Z",
     "iopub.status.idle": "2024-10-16T06:23:31.677100Z",
     "shell.execute_reply": "2024-10-16T06:23:31.675843Z"
    },
    "id": "PJ_-znSchYO_",
    "papermill": {
     "duration": 0.477252,
     "end_time": "2024-10-16T06:23:31.680073",
     "exception": false,
     "start_time": "2024-10-16T06:23:31.202821",
     "status": "completed"
    },
    "tags": []
   },
   "outputs": [
    {
     "data": {
      "image/png": "[encoded data removed]",
      "text/plain": [
       "<Figure size 1400x500 with 1 Axes>"
      ]
     },
     "metadata": {},
     "output_type": "display_data"
    }
   ],
   "source": [
    "plt.figure(figsize=(14,5))\n",
    "plt.plot(result_df, label = \"Real Number of Passengers\")\n",
    "plt.plot(train_prediction_df[\"Predicted\"], color = 'blue', label = \"Train Predicted Number of Passengers\")\n",
    "plt.plot(test_prediction_df[\"Predicted\"],color = 'red', label = \"Test Predicted Number of Passengers\")\n",
    "plt.title(\"Number of Passengers Prediction\")\n",
    "plt.xlabel(\"Time\")\n",
    "plt.ylabel(\"Number of Passengers\")\n",
    "plt.legend()\n",
    "plt.show()"
   ]
  }
 ],
 "metadata": {
  "colab": {
   "provenance": []
  },
  "kaggle": {
   "accelerator": "none",
   "dataSources": [
    {
     "datasetId": 500872,
     "sourceId": 927894,
     "sourceType": "datasetVersion"
    }
   ],
   "dockerImageVersionId": 30761,
   "isGpuEnabled": false,
   "isInternetEnabled": true,
   "language": "python",
   "sourceType": "notebook"
  },
  "kernelspec": {
   "display_name": "Python 3",
   "language": "python",
   "name": "python3"
  },
  "language_info": {
   "codemirror_mode": {
    "name": "ipython",
    "version": 3
   },
   "file_extension": ".py",
   "mimetype": "text/x-python",
   "name": "python",
   "nbconvert_exporter": "python",
   "pygments_lexer": "ipython3",
   "version": "3.10.14"
  },
  "papermill": {
   "default_parameters": {},
   "duration": 32.471317,
   "end_time": "2024-10-16T06:23:33.334282",
   "environment_variables": {},
   "exception": null,
   "input_path": "__notebook__.ipynb",
   "output_path": "__notebook__.ipynb",
   "parameters": {},
   "start_time": "2024-10-16T06:23:00.862965",
   "version": "2.6.0"
  }
 },
 "nbformat": 4,
 "nbformat_minor": 5
}
